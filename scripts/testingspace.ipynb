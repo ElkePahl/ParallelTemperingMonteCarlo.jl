{
 "cells": [
  {
   "cell_type": "code",
   "execution_count": 1,
   "metadata": {},
   "outputs": [],
   "source": [
    "using ParallelTemperingMonteCarlo#feature/ensemble_variables\n",
    "\n"
   ]
  },
  {
   "cell_type": "code",
   "execution_count": 2,
   "metadata": {},
   "outputs": [
    {
     "data": {
      "text/plain": [
       "Config{13, SphericalBC{Float64}, Float64}(StaticArraysCore.SVector{3, Float64}[[-5.03606052999e-8, -4.52217680244e-8, -3.3916326018300003e-8], [-7.5150356316912e-6, -1.4388744371399999e-8, 6.736624211084434], [1.861953810320738, -5.73051487387157, 3.012712005572341], [-4.874670455235371, -3.541653030973376, 3.01270453061964], [-4.874670517929186, 3.541652881947096, 3.0127044987588487], [1.8619537075439925, 5.730514845094081, 3.0127119541839686], [6.025416511525561, 2.26108840122e-8, 3.0127165935262603], [-1.8619538082652034, -5.73051493450985, -3.012712020988853], [-6.025416612246772, -1.1202665260590001e-7, -3.0127166603311455], [-1.8619539110419487, 5.730514784455802, -3.0127120723772256], [4.87467035451416, 3.5416529415576075, -3.0127045974245252], [4.874670417207975, -3.541652971362864, -3.012704565563734], [7.414314421091401e-6, -7.502702422230001e-8, -6.736624278917086]], SphericalBC{Float64}(228.54811596737582))"
      ]
     },
     "metadata": {},
     "output_type": "display_data"
    }
   ],
   "source": [
    "n_atoms = 55\n",
    "ti = 750.\n",
    "tf = 1200.\n",
    "n_traj = 20\n",
    "temp = TempGrid{n_traj}(ti,tf) \n",
    "mc_cycles = 1000 #default 20% equilibration cycles on top\n",
    "\n",
    "\n",
    "mc_sample = 1  #sample every mc_sample MC cycles\n",
    "\n",
    "#move_atom=AtomMove(n_atoms) #move strategy (here only atom moves, n_atoms per MC cycle)\n",
    "displ_atom = 0.1 # Angstrom\n",
    "n_adjust = 100\n",
    "\n",
    "max_displ_atom = [0.1*sqrt(displ_atom*temp.t_grid[i]) for i in 1:n_traj]\n",
    "\n",
    "mc_params = MCParams(mc_cycles, n_traj, n_atoms, mc_sample = mc_sample, n_adjust = n_adjust)\n",
    "\n",
    "ensemble = NVT(n_atoms)\n",
    "move_strat = MoveStrategy(ensemble)\n",
    "n = 8.482\n",
    "m = 4.692\n",
    "evtohartree = 0.0367493\n",
    "nmtobohr = 18.8973\n",
    "ϵ = evtohartree*0.0370\n",
    "a = 0.25*nmtobohr\n",
    "C = 27.561\n",
    "\n",
    "pot = EmbeddedAtomPotential(n,m,ϵ,C,a)\n",
    "ico_13  = [[-0.0000000049,       -0.0000000044,       -0.0000000033],\n",
    "[-0.0000007312,       -0.0000000014,        0.6554619119],\n",
    " [0.1811648930,      -0.5575692094,        0.2931316798],\n",
    "[-0.4742970242,       -0.3445967289,        0.2931309525],\n",
    "[-0.4742970303,        0.3445967144,        0.2931309494],\n",
    " [0.1811648830,        0.5575692066,        0.2931316748],\n",
    " [0.5862626299,        0.0000000022,        0.2931321262],\n",
    "[-0.1811648928,       -0.5575692153,       -0.2931316813],\n",
    "[-0.5862626397,       -0.0000000109,       -0.2931321327],\n",
    "[-0.1811649028,        0.5575692007,       -0.2931316863],\n",
    " [0.4742970144,        0.3445967202,       -0.2931309590],\n",
    " [0.4742970205,       -0.3445967231,       -0.2931309559],\n",
    " [0.0000007214,       -0.0000000073,       -0.6554619185]]\n",
    " copperconstant = 0.36258*nmtobohr\n",
    " AtoBohr = 1.8897259886\n",
    " pos_cu13 = copperconstant*ico_13*1.5\n",
    " bc_cu13 = SphericalBC(radius=8*AtoBohr)\n",
    " start_config = Config(pos_cu13, bc_cu13)"
   ]
  },
  {
   "cell_type": "code",
   "execution_count": 3,
   "metadata": {},
   "outputs": [
    {
     "data": {
      "text/plain": [
       "EmbeddedAtomVariables([1.1280632578575638e-6 0.0015564309631457595; 4.065436622202774e-7 0.0007007747303521784; … ; 4.065436622550802e-7 0.000700774730365422; 4.0654366201822755e-7 0.000700774730149579], [0.0 0.0; 0.0 0.0; … ; 0.0 0.0; 0.0 0.0])"
      ]
     },
     "metadata": {},
     "output_type": "display_data"
    }
   ],
   "source": [
    "dist2_mat = get_distance2_mat(start_config)\n",
    "\n",
    "vars = set_variables(start_config,dist2_mat,pot)"
   ]
  },
  {
   "cell_type": "code",
   "execution_count": 7,
   "metadata": {},
   "outputs": [
    {
     "data": {
      "text/plain": [
       "teststruct{EmbeddedAtomVariables}(EmbeddedAtomVariables([1.1280632578575638e-6 0.0015564309631457595; 4.065436622202774e-7 0.0007007747303521784; … ; 4.065436622550802e-7 0.000700774730365422; 4.0654366201822755e-7 0.000700774730149579], [0.0 0.0; 0.0 0.0; … ; 0.0 0.0; 0.0 0.0]), 6)"
      ]
     },
     "metadata": {},
     "output_type": "display_data"
    }
   ],
   "source": [
    "mutable struct teststruct{ptype}\n",
    "    vars::ptype\n",
    "    number::Int\n",
    "end\n",
    "testy = teststruct{typeof(vars)}(vars,6)"
   ]
  },
  {
   "cell_type": "code",
   "execution_count": 8,
   "metadata": {},
   "outputs": [
    {
     "name": "stdout",
     "output_type": "stream",
     "text": [
      "EmbeddedAtomVariables\n"
     ]
    }
   ],
   "source": [
    "function unpacktype(x::teststruct{p}) where p\n",
    "    println(p)\n",
    "end\n",
    "unpacktype(testy)"
   ]
  },
  {
   "cell_type": "code",
   "execution_count": 4,
   "metadata": {},
   "outputs": [
    {
     "name": "stdout",
     "output_type": "stream",
     "text": [
      "MethodInstance for ParallelTemperingMonteCarlo"
     ]
    },
    {
     "name": "stdout",
     "output_type": "stream",
     "text": [
      ".MCMoves.atom_displacement(::Vector{Float64}, ::Float64, ::SphericalBC{Float64})\n",
      "  from "
     ]
    },
    {
     "name": "stdout",
     "output_type": "stream",
     "text": [
      "atom_displacement(pos, max_displacement, bc::SphericalBC) in ParallelTemperingMonteCarlo.MCMoves at /home/grayseff/.julia/packages/ParallelTemperingMonteCarlo/aMCBK/src/MCMoves.jl:29\n",
      "Arguments\n",
      "  #self#\u001b[36m::Core.Const(ParallelTemperingMonteCarlo.MCMoves.atom_displacement)\u001b[39m\n",
      "  pos\u001b[36m::Vector{Float64}\u001b[39m\n",
      "  max_displacement\u001b[36m::Float64\u001b[39m\n",
      "  bc\u001b[36m::SphericalBC{Float64}\u001b[39m\n",
      "Locals\n",
      "  count\u001b[36m::Int64\u001b[39m\n",
      "  trial_pos\u001b[36m::StaticArraysCore.SVector{3, Float64}\u001b[39m\n",
      "  delta_move\u001b[36m::StaticArraysCore.SVector{3, Float64}\u001b[39m\n",
      "Body\u001b[36m::StaticArraysCore.SVector{3, Float64}\u001b[39m\n"
     ]
    },
    {
     "name": "stdout",
     "output_type": "stream",
     "text": [
      "\u001b[90m1 ─\u001b[39m %1  = ParallelTemperingMonteCarlo"
     ]
    },
    {
     "name": "stdout",
     "output_type": "stream",
     "text": [
      ".MCMoves.rand()"
     ]
    },
    {
     "name": "stdout",
     "output_type": "stream",
     "text": [
      "\u001b[36m::Float64\u001b[39m\n",
      "\u001b[90m│  \u001b[39m %2  = (%1 - 0.5)\u001b[36m::Float64\u001b[39m\n",
      "\u001b[90m│  \u001b[39m %3  = (%2 * max_displacement"
     ]
    },
    {
     "name": "stdout",
     "output_type": "stream",
     "text": [
      ")\u001b[36m::Float64\u001b[39m\n",
      "\u001b[90m│  \u001b[39m %4  = ParallelTemperingMonteCarlo.MCMoves.rand()\u001b[36m::Float64\u001b[39m\n",
      "\u001b[90m│  \u001b[39m %5  = (%4 - 0.5)\u001b[36m::Float64\u001b[39m\n",
      "\u001b[90m│  \u001b[39m %6  = (%5 * max_displacement)\u001b[36m::Float64\u001b[39m\n",
      "\u001b[90m│  \u001b[39m %7  = ParallelTemperingMonteCarlo.MCMoves.rand()\u001b[36m::Float64\u001b[39m\n",
      "\u001b[90m│  \u001b[39m %8  = (%7 - 0.5)\u001b[36m::Float64\u001b[39m\n",
      "\u001b[90m│  \u001b[39m %9  = (%8 * max_displacement)\u001b[36m::Float64\u001b[39m\n",
      "\u001b[90m│  \u001b[39m       (delta_move = ParallelTemperingMonteCarlo.MCMoves.SVector(%3, %6, %9))\n",
      "\u001b[90m│  \u001b[39m       (trial_pos = pos + delta_move)\n",
      "\u001b[90m└──\u001b[39m       (count = 0)\n",
      "\u001b[90m2 ┄\u001b[39m %13 = ParallelTemperingMonteCarlo.MCMoves.check_boundary(bc, trial_pos)\u001b[36m::Bool\u001b[39m\n",
      "\u001b[90m└──\u001b[39m       goto #6 if not %13\n",
      "\u001b[90m3 ─\u001b[39m       (count = count + 1)\n",
      "\u001b[90m│  \u001b[39m %16 = ParallelTemperingMonteCarlo.MCMoves.rand()\u001b[36m::Float64\u001b[39m\n",
      "\u001b[90m│  \u001b[39m %17 = (%16 - 0.5)\u001b[36m::Float64\u001b[39m\n",
      "\u001b[90m│  \u001b[39m %18 = (%17 * max_displacement)\u001b[36m::Float64\u001b[39m\n",
      "\u001b[90m│  \u001b[39m %19 = ParallelTemperingMonteCarlo.MCMoves.rand()\u001b[36m::Float64\u001b[39m\n",
      "\u001b[90m│  \u001b[39m %20 = (%19 - 0.5)\u001b[36m::Float64\u001b[39m\n",
      "\u001b[90m│  \u001b[39m %21 = (%20 * max_displacement)\u001b[36m::Float64\u001b[39m\n",
      "\u001b[90m│  \u001b[39m %22 = ParallelTemperingMonteCarlo.MCMoves.rand()\u001b[36m::Float64\u001b[39m\n",
      "\u001b[90m│  \u001b[39m %23 = (%22 - 0.5)\u001b[36m::Float64\u001b[39m\n",
      "\u001b[90m│  \u001b[39m %24 = (%23 * max_displacement)\u001b[36m::Float64\u001b[39m\n",
      "\u001b[90m│  \u001b[39m       (delta_move = ParallelTemperingMonteCarlo.MCMoves.SVector(%18, %21, %24))\n",
      "\u001b[90m│  \u001b[39m       (trial_pos = pos + delta_move)\n",
      "\u001b[90m│  \u001b[39m %27 = (count == 100)\u001b[36m::Bool\u001b[39m\n",
      "\u001b[90m└──\u001b[39m       goto #5 if not %27\n",
      "\u001b[90m4 ─\u001b[39m       ParallelTemperingMonteCarlo.MCMoves.error("
     ]
    },
    {
     "name": "stdout",
     "output_type": "stream",
     "text": [
      "\"Error: too many moves out of binding sphere\")\n",
      "\u001b[90m└──\u001b[39m       "
     ]
    },
    {
     "name": "stdout",
     "output_type": "stream",
     "text": [
      "Core.Const(:(goto %31))\n",
      "\u001b[90m5 ┄\u001b[39m       goto #2\n",
      "\u001b[90m6 ─\u001b[39m       return trial_pos\n",
      "\n"
     ]
    }
   ],
   "source": [
    "@code_warntype atom_displacement([1.,1.,1.], 2.,bc_cu13)"
   ]
  },
  {
   "cell_type": "code",
   "execution_count": 10,
   "metadata": {},
   "outputs": [
    {
     "name": "stdout",
     "output_type": "stream",
     "text": [
      "  0.000013 seconds (2 allocations: 112 bytes)\n"
     ]
    },
    {
     "data": {
      "text/plain": [
       "3-element StaticArraysCore.SVector{3, Float64} with indices SOneTo(3):\n",
       " 0.18141938575960892\n",
       " 1.748288350537059\n",
       " 0.7696043606598988"
      ]
     },
     "metadata": {},
     "output_type": "display_data"
    }
   ],
   "source": [
    "@time atom_displacement([1.,1.,1.], 2.,bc_cu13)"
   ]
  },
  {
   "cell_type": "code",
   "execution_count": null,
   "metadata": {},
   "outputs": [],
   "source": [
    "abstract type testtype end \n",
    "struct testtype1{T,N} where T \n",
    "    index::T\n",
    "end\n",
    "struct testtype2{T,N} where T\n",
    "    index::T \n",
    "end\n"
   ]
  },
  {
   "cell_type": "code",
   "execution_count": 29,
   "metadata": {},
   "outputs": [
    {
     "ename": "MethodError",
     "evalue": "MethodError: no method matching printyprint(::Type{SphericalBC{Float64}})\nClosest candidates are:\n  printyprint(!Matched::SphericalBC) at ~/Code/ParallelTemperingMonteCarlo.jl/scripts/testingspace.ipynb:1\n  printyprint(!Matched::PeriodicBC) at ~/Code/ParallelTemperingMonteCarlo.jl/scripts/testingspace.ipynb:4",
     "output_type": "error",
     "traceback": [
      "MethodError: no method matching printyprint(::Type{SphericalBC{Float64}})\n",
      "Closest candidates are:\n",
      "  printyprint(!Matched::SphericalBC) at ~/Code/ParallelTemperingMonteCarlo.jl/scripts/testingspace.ipynb:1\n",
      "  printyprint(!Matched::PeriodicBC) at ~/Code/ParallelTemperingMonteCarlo.jl/scripts/testingspace.ipynb:4\n",
      "\n",
      "Stacktrace:\n",
      " [1] returntypes(state::MCState{Float64, 13, SphericalBC{Float64}, EmbeddedAtomVariables, NVTVariables})\n",
      "   @ Main ~/Code/ParallelTemperingMonteCarlo.jl/scripts/testingspace.ipynb:9\n",
      " [2] top-level scope\n",
      "   @ ~/Code/ParallelTemperingMonteCarlo.jl/scripts/testingspace.ipynb:12"
     ]
    }
   ],
   "source": [
    "function printyprint(::SphericalBC)\n",
    "    println(\"SBC\")\n",
    "end\n",
    "function printyprint(::PeriodicBC)\n",
    "    println(\"notSBC\")\n",
    "end\n",
    "\n",
    "function returntypes(state::MCState{T,N,BC}) where {T,N,BC}\n",
    "    printyprint(BC)\n",
    "end\n",
    "\n",
    "returntypes(state)"
   ]
  },
  {
   "cell_type": "code",
   "execution_count": 9,
   "metadata": {},
   "outputs": [],
   "source": [
    "using StaticArrays"
   ]
  },
  {
   "cell_type": "code",
   "execution_count": 25,
   "metadata": {},
   "outputs": [
    {
     "data": {
      "text/plain": [
       "testatommove (generic function with 2 methods)"
      ]
     },
     "metadata": {},
     "output_type": "display_data"
    }
   ],
   "source": [
    "function testatommove(mc_state::MCState{T,N,BC}) where {T,N,BC<:PeriodicBC}\n",
    "    #mc_state.ensemble_variables.trial_move = testmove(BC,mc_state.config.pos[mc_state.ensemble_variables.index],mc_state.max_displ[1],mc_state.config.bc)\n",
    "    println(\"PBC\")\n",
    "end\n",
    "\n",
    "function testatommove(mc_state::MCState{T,N,BC}) where {T,N,BC<:SphericalBC}\n",
    "    #mc_state.ensemble_variables.trial_move = testmove(BC,mc_state.config.pos[mc_state.ensemble_variables.index],mc_state.max_displ[1],mc_state.config.bc)\n",
    "    return \n",
    "end"
   ]
  },
  {
   "cell_type": "code",
   "execution_count": 26,
   "metadata": {},
   "outputs": [],
   "source": [
    "testatommove(state)"
   ]
  },
  {
   "cell_type": "code",
   "execution_count": 27,
   "metadata": {},
   "outputs": [],
   "source": [
    "using Profile"
   ]
  },
  {
   "cell_type": "code",
   "execution_count": 28,
   "metadata": {},
   "outputs": [
    {
     "name": "stderr",
     "output_type": "stream",
     "text": [
      "┌ Warning: There were no samples collected.\n",
      "│ Run your program longer (perhaps by running it multiple times),\n",
      "│ or adjust the delay between samples with `Profile.init()`.\n",
      "└ @ Profile /cache/build/default-amdci4-3/julialang/julia-release-1-dot-8/usr/share/julia/stdlib/v1.8/Profile/src/Profile.jl:1235\n"
     ]
    }
   ],
   "source": [
    "@profview for i in 1:1000 testatommove(state) end"
   ]
  },
  {
   "cell_type": "code",
   "execution_count": null,
   "metadata": {},
   "outputs": [],
   "source": []
  }
 ],
 "metadata": {
  "kernelspec": {
   "display_name": "Julia 1.8.0",
   "language": "julia",
   "name": "julia-1.8"
  },
  "language_info": {
   "file_extension": ".jl",
   "mimetype": "application/julia",
   "name": "julia",
   "version": "1.8.0"
  }
 },
 "nbformat": 4,
 "nbformat_minor": 2
}
