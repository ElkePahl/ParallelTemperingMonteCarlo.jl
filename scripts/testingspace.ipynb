{
 "cells": [
  {
   "cell_type": "code",
   "execution_count": 2,
   "metadata": {},
   "outputs": [],
   "source": [
    "using ParallelTemperingMonteCarlo"
   ]
  },
  {
   "cell_type": "code",
   "execution_count": 4,
   "metadata": {},
   "outputs": [
    {
     "data": {
      "text/plain": [
       "EmbeddedAtomPotential(8.482, 4.692, 356.5912625675561, 1.4313533476465632)"
      ]
     },
     "metadata": {},
     "output_type": "display_data"
    }
   ],
   "source": [
    "n = 8.482\n",
    "m = 4.692\n",
    "evtohartree = 0.0367493\n",
    "nmtobohr = 18.8973\n",
    "ϵ = evtohartree*0.0370\n",
    "a = 0.25*nmtobohr\n",
    "C = 27.561\n",
    "\n",
    "pot = EmbeddedAtomPotential(n,m,ϵ,C,a)"
   ]
  },
  {
   "cell_type": "code",
   "execution_count": 5,
   "metadata": {},
   "outputs": [
    {
     "data": {
      "text/plain": [
       "EmbeddedAtomPotential"
      ]
     },
     "metadata": {},
     "output_type": "display_data"
    }
   ],
   "source": [
    "typeof(pot)\n"
   ]
  },
  {
   "cell_type": "code",
   "execution_count": 8,
   "metadata": {},
   "outputs": [
    {
     "data": {
      "text/plain": [
       "Config{13, SphericalBC{Float64}, Float64}(StaticArraysCore.SVector{3, Float64}[[-5.03606052999e-8, -4.52217680244e-8, -3.3916326018300003e-8], [-7.5150356316912e-6, -1.4388744371399999e-8, 6.736624211084434], [1.861953810320738, -5.73051487387157, 3.012712005572341], [-4.874670455235371, -3.541653030973376, 3.01270453061964], [-4.874670517929186, 3.541652881947096, 3.0127044987588487], [1.8619537075439925, 5.730514845094081, 3.0127119541839686], [6.025416511525561, 2.26108840122e-8, 3.0127165935262603], [-1.8619538082652034, -5.73051493450985, -3.012712020988853], [-6.025416612246772, -1.1202665260590001e-7, -3.0127166603311455], [-1.8619539110419487, 5.730514784455802, -3.0127120723772256], [4.87467035451416, 3.5416529415576075, -3.0127045974245252], [4.874670417207975, -3.541652971362864, -3.012704565563734], [7.414314421091401e-6, -7.502702422230001e-8, -6.736624278917086]], SphericalBC{Float64}(228.54811596737582))"
      ]
     },
     "metadata": {},
     "output_type": "display_data"
    }
   ],
   "source": [
    "ico_13  = [[-0.0000000049,       -0.0000000044,       -0.0000000033],\n",
    "[-0.0000007312,       -0.0000000014,        0.6554619119],\n",
    " [0.1811648930,      -0.5575692094,        0.2931316798],\n",
    "[-0.4742970242,       -0.3445967289,        0.2931309525],\n",
    "[-0.4742970303,        0.3445967144,        0.2931309494],\n",
    " [0.1811648830,        0.5575692066,        0.2931316748],\n",
    " [0.5862626299,        0.0000000022,        0.2931321262],\n",
    "[-0.1811648928,       -0.5575692153,       -0.2931316813],\n",
    "[-0.5862626397,       -0.0000000109,       -0.2931321327],\n",
    "[-0.1811649028,        0.5575692007,       -0.2931316863],\n",
    " [0.4742970144,        0.3445967202,       -0.2931309590],\n",
    " [0.4742970205,       -0.3445967231,       -0.2931309559],\n",
    " [0.0000007214,       -0.0000000073,       -0.6554619185]]\n",
    " copperconstant = 0.36258*nmtobohr\n",
    " AtoBohr = 1.8897259886\n",
    " pos_cu13 = copperconstant*ico_13*1.5\n",
    " bc_cu13 = SphericalBC(radius=8*AtoBohr)\n",
    " start_config = Config(pos_cu13, bc_cu13)"
   ]
  },
  {
   "cell_type": "code",
   "execution_count": 11,
   "metadata": {},
   "outputs": [
    {
     "data": {
      "text/plain": [
       "EmbeddedAtomVariables([1.1280632578575638e-6 0.0015564309631457595; 4.065436622202774e-7 0.0007007747303521784; … ; 4.065436622550802e-7 0.000700774730365422; 4.0654366201822755e-7 0.000700774730149579], [0.0 0.0; 0.0 0.0; … ; 0.0 0.0; 0.0 0.0])"
      ]
     },
     "metadata": {},
     "output_type": "display_data"
    }
   ],
   "source": [
    "dist2_mat = get_distance2_mat(start_config)\n",
    "\n",
    "vars = set_variables(start_config,dist2_mat,pot)"
   ]
  },
  {
   "cell_type": "code",
   "execution_count": 12,
   "metadata": {},
   "outputs": [
    {
     "data": {
      "text/plain": [
       "EmbeddedAtomVariables"
      ]
     },
     "metadata": {},
     "output_type": "display_data"
    }
   ],
   "source": [
    "typeof(vars)"
   ]
  },
  {
   "cell_type": "code",
   "execution_count": null,
   "metadata": {},
   "outputs": [],
   "source": []
  }
 ],
 "metadata": {
  "kernelspec": {
   "display_name": "Julia 1.8.0",
   "language": "julia",
   "name": "julia-1.8"
  },
  "language_info": {
   "file_extension": ".jl",
   "mimetype": "application/julia",
   "name": "julia",
   "version": "1.8.0"
  }
 },
 "nbformat": 4,
 "nbformat_minor": 2
}
