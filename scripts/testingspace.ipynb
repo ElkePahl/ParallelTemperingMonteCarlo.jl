{
 "cells": [
  {
   "cell_type": "code",
   "execution_count": 2,
   "metadata": {},
   "outputs": [],
   "source": [
    "using ParallelTemperingMonteCarlo\n",
    "using Profile,JET,Random,DelimitedFiles\n"
   ]
  },
  {
   "cell_type": "markdown",
   "metadata": {},
   "source": [
    "Major problems with the RuNNerpotential due to the symmetryfunction vector being type non-specific"
   ]
  },
  {
   "cell_type": "code",
   "execution_count": 4,
   "metadata": {},
   "outputs": [
    {
     "data": {
      "text/plain": [
       "Config{55, SphericalBC{Float64}, Float64}(StaticArraysCore.SVector{3, Float64}[[4.5112139495856e-6, -1.3138293967695e-5, 3.4601504321700004e-7], [-3.980885942754e-6, -3.3375035158614e-6, 4.575916827038472], [1.264752985534391, -3.8925157884546686, 2.0464230925690106], [-3.311163519470279, -2.405710469814843, 2.0464114164455425], [-3.311163596895427, 2.40569285113995, 2.0464011106786812], [1.264752859461583, 3.8924983184634674, 2.046406418069819], [4.092824837722801, -8.6887460654154e-6, 2.046420003785219], [-1.2647438377188622, -3.8925245957365804, -2.046405726039733], [-4.092815815294902, -1.75878418699746e-5, -2.0464193117551326], [-1.26474396379167, 3.8924895111815556, -2.046422400538924]  …  [2.0744963372369405, 6.384583971948036, -4.148977939714466], [6.5594487104586, 4.765688045720408, -4.053952548518178], [6.713184197946128, -2.1916113212552402e-5, -4.1489556556605045], [6.559448864623718, -4.765731476432347, -4.053932133630629], [-1.2820847296802604, -3.9459310282596545, -6.7131655686332365], [-4.148951491146777, -2.75845933165806e-5, -6.713179340717135], [-1.282084857808603, 3.9458759515720923, -6.71318247198198], [3.3566029234199006, 2.4386750098556425, -6.71317063552679], [3.356603002900584, -2.438729936489156, -6.713160188613198], [2.1333711654662402e-5, -3.25548767294442e-5, -9.06491829912888]], SphericalBC{Float64}(699.9286051500884))"
      ]
     },
     "metadata": {},
     "output_type": "display_data"
    }
   ],
   "source": [
    "Random.seed!(1234)\n",
    "n_atoms = 55\n",
    "ti = 750.\n",
    "tf = 800.\n",
    "n_traj = 5\n",
    "nmtobohr = 18.8973\n",
    "temp = TempGrid{n_traj}(ti,tf) \n",
    "\n",
    "# MC simulation details\n",
    "\n",
    "mc_cycles = 100  #default 20% equilibration cycles on top\n",
    "\n",
    "\n",
    "mc_sample = 1  #sample every mc_sample MC cycles\n",
    "\n",
    "#move_atom=AtomMove(n_atoms) #move strategy (here only atom moves, n_atoms per MC cycle)\n",
    "displ_atom = 0.1 # Angstrom\n",
    "n_adjust = 100\n",
    "\n",
    "max_displ_atom = [0.1*sqrt(displ_atom*temp.t_grid[i]) for i in 1:n_traj]\n",
    "\n",
    "mc_params = MCParams(mc_cycles, n_traj, n_atoms, mc_sample = mc_sample, n_adjust = n_adjust)\n",
    "\n",
    "\n",
    "ensemble = NVT(n_atoms)\n",
    "move_strat = MoveStrategy(ensemble)\n",
    "#-------------------------------------------------------------#\n",
    "#-----------------------Starting Config-----------------------#\n",
    "#-------------------------------------------------------------#\n",
    "\n",
    "ico_55 = [[0.0000006584,       -0.0000019175,        0.0000000505],\n",
    "[-0.0000005810,       -0.0000004871,        0.6678432175],\n",
    "[0.1845874248,       -0.5681026047,        0.2986701538],\n",
    "[-0.4832557457,       -0.3511072166,        0.2986684497],\n",
    "[-0.4832557570,        0.3511046452,        0.2986669456],\n",
    "[0.1845874064,        0.5681000550,        0.2986677202],\n",
    "[0.5973371920,       -0.0000012681,        0.2986697030],\n",
    "[-0.1845860897,       -0.5681038901,       -0.2986676192],\n",
    "[-0.5973358752,       -0.0000025669,       -0.2986696020],\n",
    "[-0.1845861081,        0.5680987696,       -0.2986700528],\n",
    "[0.4832570624,        0.3511033815,       -0.2986683486],\n",
    "[0.4832570738,       -0.3511084803,       -0.2986668445],\n",
    "[0.0000018978,       -0.0000033480,       -0.6678431165],\n",
    "[-0.0000017969,        0.0000009162,        1.3230014650],\n",
    "[0.1871182835,       -0.5758942175,        0.9797717078],\n",
    "[-0.4898861924,       -0.3559221410,       0.9797699802],\n",
    "[-0.4898862039,        0.3559224872,        0.9797684555],\n",
    "[0.1871182648,        0.5758945856,        0.9797692407],\n",
    "[0.6055300485,        0.0000001908,        0.9797712507],\n",
    "[0.7926501864,       -0.5758950093,        0.6055339635],\n",
    "[0.3656681761,       -1.1254128670,        0.5916673591],\n",
    "[-0.3027660545,       -0.9318173412,        0.6055326929],\n",
    "[-0.9573332453,       -0.6955436707,        0.5916639831],\n",
    "[-0.9797705418,       -0.0000006364,        0.6055294407],\n",
    "[-0.9573332679,        0.6955423392,        0.5916610035],\n",
    "[-0.3027660847,        0.9318160902,        0.6055287012],\n",
    "[0.3656681396,        1.1254115783,        0.5916625380],\n",
    "[0.7926501677,        0.5758937939,        0.6055314964],\n",
    "[1.1833279992,       -0.0000006311,        0.5916664660],\n",
    "[0.6770051458,       -0.9318186223,        0.0000033028],\n",
    "[0.0000006771,       -1.1517907207,        0.0000025175],\n",
    "[-0.6770037988,       -0.9318186442,        0.0000007900],\n",
    "[-1.0954155825,       -0.3559242494,       -0.0000012200],\n",
    "[-1.0954155940,        0.3559203788,       -0.0000027447],\n",
    "[-0.6770038290,        0.9318147872,       -0.0000032017],\n",
    "[0.0000006397,        1.1517868856,       -0.0000024165],\n",
    "[0.6770051155,        0.9318148091,       -0.0000006889],\n",
    "[1.0954168993,        0.3559204143,        0.0000013211],\n",
    "[1.0954169108,       -0.3559242139,        0.0000028458],\n",
    "[0.3027674014,       -0.9318199253,       -0.6055286002],\n",
    "[-0.3656668229,       -1.1254154134,       -0.5916624370],\n",
    "[-0.7926488510,       -0.5758976290,       -0.6055313954],\n",
    "[-1.1833266824,       -0.0000032040,       -0.5916663649],\n",
    "[-0.7926488697,        0.5758911742,       -0.6055338624],\n",
    "[-0.3656668594,        1.1254090319,       -0.5916672580],\n",
    "[0.3027673712,        0.9318135061,       -0.6055325919],\n",
    "[0.9573345621,        0.6955398357,       -0.5916638820],\n",
    "[0.9797718586,       -0.0000031986,       -0.6055293396],\n",
    "[0.9573345846,       -0.6955461743,       -0.5916609025],\n",
    "[-0.1871169480,       -0.5758984207,       -0.9797691397],\n",
    "[-0.6055287318,       -0.0000040259,       -0.9797711497],\n",
    "[-0.1871169667,        0.5758903824,       -0.9797716067],\n",
    "[0.4898875091,        0.3559183059,       -0.9797698792],\n",
    "[0.4898875207,       -0.3559263223,       -0.9797683545],\n",
    "[0.0000031136,       -0.0000047513,       -1.3230013639]]\n",
    "#convert to Bohr\n",
    "\n",
    "copperconstant = 0.36258*nmtobohr\n",
    "pos_cu55 = copperconstant*ico_55\n",
    "\n",
    "AtoBohr = 1.8897259886\n",
    "\n",
    "length(pos_cu55) == n_atoms || error(\"number of atoms and positions not the same - check starting config\")\n",
    "\n",
    "\n",
    "#histogram information\n",
    "n_bin = 100\n",
    "\n",
    "#boundary conditions\n",
    "bc_cu55 = SphericalBC(radius=14*AtoBohr)   #5.32 Angstrom\n",
    "start_config = Config(pos_cu55, bc_cu55)"
   ]
  },
  {
   "cell_type": "code",
   "execution_count": 6,
   "metadata": {},
   "outputs": [],
   "source": [
    "script_folder = @__DIR__ # folder where this script is located\n",
    "data_path = joinpath(script_folder, \"data\") # path to data files, so \"./data/\"\n",
    "\n",
    "X = [ 1    1              0.001   0.000  11.338\n",
    " 1    0              0.001   0.000  11.338\n",
    " 1    1              0.020   0.000  11.338\n",
    " 1    0              0.020   0.000  11.338\n",
    " 1    1              0.035   0.000  11.338\n",
    " 1    0              0.035   0.000  11.338\n",
    " 1    1              0.100   0.000  11.338\n",
    " 1    0              0.100   0.000  11.338\n",
    " 1    1              0.400   0.000  11.338\n",
    " 1    0              0.400   0.000  11.338]\n",
    "\n",
    "radsymmvec = []\n",
    "\n",
    "\n",
    "#--------------------------------------------#\n",
    "#--------Vector of angular symm values-------#\n",
    "#--------------------------------------------#\n",
    "V = [[0.0001,1,1,11.338],[0.0001,-1,2,11.338],[0.003,-1,1,11.338],[0.003,-1,2,11.338],[0.008,-1,1,11.338],[0.008,-1,2,11.338],[0.008,1,2,11.338],[0.015,1,1,11.338],[0.015,-1,2,11.338],[0.015,-1,4,11.338],[0.015,-1,16,11.338],[0.025,-1,1,11.338],[0.025,1,1,11.338],[0.025,1,2,11.338],[0.025,-1,4,11.338],[0.025,-1,16,11.338],[0.025,1,16,11.338],[0.045,1,1,11.338],[0.045,-1,2,11.338],[0.045,-1,4,11.338],[0.045,1,4,11.338],[0.045,1,16,11.338],[0.08,1,1,11.338],[0.08,-1,2,11.338],[0.08,-1,4,11.338],[0.08,1,4,11.338]]\n",
    "\n",
    "T = [[1.,1.,1.],[1.,1.,0.],[1.,0.,0.]]\n",
    "\n",
    "angularsymmvec = []\n",
    "#-------------------------------------------#\n",
    "#-----------Including scaling data----------#\n",
    "#-------------------------------------------#\n",
    "file = open(joinpath(data_path,\"scaling.data\")) # full path \"./data/scaling.data\"\n",
    "scalingvalues = readdlm(file)\n",
    "close(file)\n",
    "G_value_vec = []\n",
    "for row in eachrow(scalingvalues[1:88,:])\n",
    "    max_min = [row[4],row[3]]\n",
    "    push!(G_value_vec,max_min)\n",
    "end\n",
    "\n",
    "\n",
    "for symmindex in eachindex(eachrow(X))\n",
    "    row = X[symmindex,:]\n",
    "    radsymm = RadialType2{Float64}(row[3],row[5],[row[1],row[2]],G_value_vec[symmindex])\n",
    "    push!(radsymmvec,radsymm)\n",
    "end\n",
    "\n",
    "\n",
    "let n_index = 10\n",
    "\n",
    "for element in V\n",
    "    for types in T\n",
    "\n",
    "        n_index += 1\n",
    "\n",
    "        symmfunc = AngularType3{Float64}(element[1],element[2],element[3],11.338,types,G_value_vec[n_index])\n",
    "\n",
    "        push!(angularsymmvec,symmfunc)\n",
    "    end\n",
    "end\n",
    "end"
   ]
  },
  {
   "cell_type": "markdown",
   "metadata": {},
   "source": [
    "Normally we vcat the two vectors. we will try something different here\n"
   ]
  },
  {
   "cell_type": "code",
   "execution_count": 7,
   "metadata": {},
   "outputs": [
    {
     "data": {
      "text/plain": [
       "NeuralNetworkPotential(4, 2221, [88, 20, 20, 1], [1, 2, 2, 1], [-1.0768943782, 0.3563458393, -1.3084861447, 0.1127640916, -0.5646591931, -0.4969830793, 1.423770514, -0.2005662393, -0.8957859374, 0.6076110858  …  0.1939524848, -0.0342903191, -0.0231042009, 0.0718481968, -0.0828320122, -0.0728501885, 0.0306628826, 0.0486053813, -0.0867018862, 0.0441651841])"
      ]
     },
     "metadata": {},
     "output_type": "display_data"
    }
   ],
   "source": [
    "num_nodes::Vector{Int32} = [88, 20, 20, 1]\n",
    "activation_functions::Vector{Int32} = [1, 2, 2, 1]\n",
    "file = open(joinpath(data_path, \"weights.029.data\"), \"r+\") # \"./data/weights.029.data\"\n",
    "weights=readdlm(file)\n",
    "close(file)\n",
    "weights = vec(weights)\n",
    "nnp = NeuralNetworkPotential(num_nodes,activation_functions,weights)"
   ]
  },
  {
   "cell_type": "code",
   "execution_count": 10,
   "metadata": {},
   "outputs": [
    {
     "data": {
      "text/plain": [
       "symmsize (generic function with 1 method)"
      ]
     },
     "metadata": {},
     "output_type": "display_data"
    }
   ],
   "source": [
    "struct TestPotential{Nrad,Nang} <: EnergyEvaluation.AbstractMachineLearningPotential\n",
    "    nnp:: NeuralNetworkPotential\n",
    "    radsymfunctions::Vector{RadialType2}\n",
    "    angsymfunctions::Vector{AngularType3}\n",
    "    r_cut::Float64\n",
    "end\n",
    "function TestPotential(nnp,radsymmvec,angsymmvec)\n",
    "    r_cut= radsymmvec[1].r_cut \n",
    "    nrad = length(radsymmvec)\n",
    "    nang = length(angsymmvec)\n",
    "    return TestPotential{nrad,nang}(nnp,radsymmvec,angsymmvec,r_cut)\n",
    "end\n",
    "\n",
    "symmsize(::TestPotential{Nrad,Nang}) where {Nrad,Nang} = [Nrad,Nang]\n"
   ]
  },
  {
   "cell_type": "markdown",
   "metadata": {},
   "source": [
    "First work on the symmcalc functions to try reduce allocs"
   ]
  },
  {
   "cell_type": "code",
   "execution_count": null,
   "metadata": {},
   "outputs": [],
   "source": [
    "function symmetry_calculation!(g_vector,atomindex,newposition,position,dist2_mat,new_dist2_vector,f_matrix,new_f_vector,old_theta,new_theta,symmetry_function::RadialType2)\n",
    "    if symmetry_function.type_vec == [1.,1.]\n",
    "\n",
    "        η,g_norm = symmetry_function.eta,symmetry_function.G_norm\n",
    "        for index2 in eachindex(g_vector)\n",
    "            if index2 != atomindex\n",
    "                g_vector = calc_new_symmetry_value!(g_vector,atomindex,index2,dist2_mat,new_dist2_vector,f_matrix,new_f_vector,η,g_norm)\n",
    "            end\n",
    "        end\n",
    "    end\n",
    "\n",
    "    return g_vector\n",
    "end\n",
    "function symmetry_calculation!(g_vector,atomindex,newposition,position,dist2_mat,new_dis_vector,f_matrix,new_f_vector,old_theta,new_theta,symmetry_function::AngularType3)\n",
    "\n",
    "    N = length(g_vector)\n",
    "\n",
    "    if symmetry_function.type_vec == [1.,1.,1.]\n",
    "\n",
    "        η,λ,ζ,tpz = symmetry_function.eta,symmetry_function.lambda,symmetry_function.zeta,symmetry_function.tpz\n",
    "\n",
    "        for j_index in 1:N\n",
    "            if j_index != atomindex\n",
    "                for k_index in j_index+1:N\n",
    "                    if k_index != atomindex\n",
    "                        g_vector = calc_new_symmetry_value!(g_vector,old_theta,new_theta,atomindex,j_index,k_index,newposition,position,dist2_mat,new_dis_vector,f_matrix,new_f_vector,η,λ,ζ,tpz) \n",
    "                    end\n",
    "                end\n",
    "            end\n",
    "        end\n",
    "        \n",
    "    end\n",
    "\n",
    "    return g_vector\n",
    "end"
   ]
  },
  {
   "cell_type": "code",
   "execution_count": null,
   "metadata": {},
   "outputs": [],
   "source": [
    "function calc_new_symmetry_value!(g_vector,θ_new_vec,θ_old_vec ,indices,newposition,position1,position2,position3,rnew_ij,rnew_ik,r2_ij,r2_ik,r2_jk,fnew_ij,fnew_ik,f_ij,f_ik,f_jk,η,λ,ζ,tpz)\n",
    "\n",
    "    θ_new_vec = all_angular_measure(θ_new_vec, newposition,position2,position3,rnew_ij,rnew_ik,r2_jk)\n",
    "\n",
    "    exp_new,exp_old = exponential_part(η,rnew_ij,rnew_ik,r2_jk,fnew_ij,fnew_ik,f_jk),exponential_part(η,r2_ij,r2_ik,r2_jk,f_ij,f_ik,f_jk)\n",
    "\n",
    "    for (θ_old,θ_new,index) in zip(θ_old_vec,θ_new_vec,indices)\n",
    "        g_vector[index] = adjust_angular_symm_val!(g_vector[index],exp_old,exp_new,θ_old,θ_new,λ,ζ,tpz)\n",
    "    end\n",
    "\n",
    "    return g_vector\n",
    "end\n",
    "function calc_new_symmetry_value!(g_vector,old_theta,new_theta,indexi,indexj,indexk,newposition,position,dist2_mat,new_dist2_vector,f_matrix,new_f_vector,η,λ,ζ,tpz)\n",
    "    return calc_new_symmetry_value!(g_vector,old_theta,new_theta,[indexi,indexj,indexk],newposition,position[indexi],position[indexj],position[indexk],new_dist2_vector[indexj],new_dist2_vector[indexk],dist2_mat[indexi,indexj],dist2_mat[indexi,indexk],dist2_mat[indexj,indexk],new_f_vector[indexj],new_f_vector[indexk],f_matrix[indexi,indexj],f_matrix[indexi,indexk],f_matrix[indexj,indexk],η,λ,ζ,tpz)\n",
    "\n",
    "end"
   ]
  },
  {
   "cell_type": "code",
   "execution_count": null,
   "metadata": {},
   "outputs": [],
   "source": [
    "function all_angular_measure(a,b,c,r2ab,r2ac,r2bc,thetavec)\n",
    "    ab,ac,bc = (a-b),(a-c),(b-c)\n",
    "    dis2ab,dis2ac,dis2bc = sqrt(r2ab),sqrt(r2ac),sqrt(r2bc)\n",
    "    thetavec[1],thetavec[2],thetavec[3] = thetacalc(ab,ac,dis2ab,dis2ac),thetacalc(-ab,bc,dis2ab,dis2bc),thetacalc(-ac,-bc,dis2ac,dis2bc)\n",
    "\n",
    "    return thetavec\n",
    "end"
   ]
  }
 ],
 "metadata": {
  "kernelspec": {
   "display_name": "Julia 1.10.1",
   "language": "julia",
   "name": "julia-1.10"
  },
  "language_info": {
   "file_extension": ".jl",
   "mimetype": "application/julia",
   "name": "julia",
   "version": "1.10.1"
  }
 },
 "nbformat": 4,
 "nbformat_minor": 2
}
