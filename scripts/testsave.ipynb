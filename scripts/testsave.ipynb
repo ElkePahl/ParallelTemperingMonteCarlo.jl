{
 "cells": [
  {
   "cell_type": "code",
   "execution_count": 1,
   "metadata": {},
   "outputs": [],
   "source": [
    "using ParallelTemperingMonteCarlo, StaticArrays, DelimitedFiles"
   ]
  },
  {
   "cell_type": "markdown",
   "metadata": {},
   "source": [
    "Broadly we need to save:\n",
    "\n",
    "-Params which do not change\n",
    "\n",
    "-Configs (the BC may change?)\n",
    "\n",
    "-Results"
   ]
  },
  {
   "cell_type": "code",
   "execution_count": 2,
   "metadata": {},
   "outputs": [],
   "source": [
    "function writeconfig(savefile , config{N,BC,T}, ) where {N,BC,T}\n",
    "    for row in config.pos\n",
    "        write(savefile, \"$(row[1]) $(row[2]) $(ro2[3]) \\n\")\n",
    "    end\n",
    "end\n"
   ]
  },
  {
   "cell_type": "markdown",
   "metadata": {},
   "source": [
    "Beginning with the static parameters which do not change:"
   ]
  },
  {
   "cell_type": "code",
   "execution_count": 3,
   "metadata": {},
   "outputs": [
    {
     "data": {
      "text/plain": [
       "writeparams (generic function with 1 method)"
      ]
     },
     "metadata": {},
     "output_type": "display_data"
    }
   ],
   "source": [
    "# function writeparams(savefile, params, temp)# , ensemble, pot)\n",
    "#     write(savefile,\"cycles: sample_rate: n_traj: n_atoms: t_i: t_f \\n\")\n",
    "#     write(savefile, \"$(params.mc_cycles) $(params.mc_sample) $(params.n_traj) $(params.n_atoms) $(first(temp.t_grid)) $(last(temp.t_grid)) \\n\")\n",
    "# end\n",
    "\n",
    "function writeparams(savefile,params,temp)\n",
    "    headersvec = [\"cycles:\" \"sample_rate:\" \"n_traj:\" \"n_atoms:\" \"t_i:\" \"t_f\"]\n",
    "    paramsvec = [params.mc_cycles params.mc_sample params.n_traj params.n_atoms first(temp.t_grid) last(temp.t_grid)]\n",
    "    writedlm(savefile, [headersvec, paramsvec], ' ' )\n",
    "end"
   ]
  },
  {
   "cell_type": "code",
   "execution_count": 16,
   "metadata": {},
   "outputs": [
    {
     "data": {
      "text/plain": [
       "writeensemble (generic function with 2 methods)"
      ]
     },
     "metadata": {},
     "output_type": "display_data"
    }
   ],
   "source": [
    "function writeensemble(savefile,ensemble::NVT)\n",
    "\n",
    "    headersvec = [\"ensemble\" \"n_atom_moves\" \"n_atom_swaps\" ]\n",
    "    valuesvec = [\"NVT{$(ensemble.n_atoms)}\" ensemble.n_atom_moves ensemble.n_atom_swaps]\n",
    "    writedlm(savefile, [headersvec, valuesvec], ' ' )\n",
    "end\n",
    "function writeensemble(savefile,ensemble::NPT)\n",
    "\n",
    "    headersvec = [\"ensemble\" \"n_atom_moves\" \"n_volume_moves\" \"n_atom_swaps\" ]\n",
    "    valuesvec = [\"NPT{$(ensemble.n_atoms)}\" ensemble.n_atom_moves ensembles.n_volume_moves emsemble.n_atom_swaps]\n",
    "    writedlm(savefile, [headersvec, valuesvec], ' ' )\n",
    "end"
   ]
  },
  {
   "cell_type": "code",
   "execution_count": 27,
   "metadata": {},
   "outputs": [
    {
     "data": {
      "text/plain": [
       "writepotential (generic function with 4 methods)"
      ]
     },
     "metadata": {},
     "output_type": "display_data"
    }
   ],
   "source": [
    "function writepotential(savefile,potential::Ptype) where Ptype <: AbstractDimerPotential\n",
    "    coeff_vec = transpose([potential.coeff[i] for i in eachindex(potential.coeff)])\n",
    "\n",
    "    write(savefile,\"ELJ_coeffs: \" )\n",
    "    writedlm(savefile, coeff_vec, ' ')\n",
    "end\n",
    "function writepotential(savefile,potential::Ptype) where Ptype <: AbstractDimerPotentialB\n",
    "\n",
    "    coeff_vec_a = transpose([potential.coeff_a[i] for i in eachindex(potential.coeff_a)])\n",
    "    coeff_vec_b = transpose([potential.coeff_b[i] for i in eachindex(potential.coeff_b)])\n",
    "    coeff_vec_c = transpose([potential.coeff_c[i] for i in eachindex(potential.coeff_c)])\n",
    "    write(savefile,\"ELJB \\n\")\n",
    "    writedlm(savefile, [coeff_vec_a, coeff_vec_b, coeff_vec_c])\n",
    "end\n",
    "function writepotential(savefile,potential::Ptype) where Ptype <: EmbeddedAtomPotential\n",
    "    write(savefile,\"EAM: $(potential.n) $(potential.m) $(potential.ean) $(potential.eCam) \\n\")\n",
    "end \n",
    "function writepotential(savefile,potential::Ptype) where Ptype <: AbstractMachineLearningPotential\n",
    "    write(\"Define the potential elsewhere, it's too complicated for simple I/O \\n\")\n",
    "end"
   ]
  },
  {
   "cell_type": "code",
   "execution_count": 28,
   "metadata": {},
   "outputs": [
    {
     "data": {
      "text/plain": [
       "save_init (generic function with 1 method)"
      ]
     },
     "metadata": {},
     "output_type": "display_data"
    }
   ],
   "source": [
    "function save_init(potential,ensemble,params,temp)\n",
    "    if ispath(\"./checkpoint/params.data\") == true\n",
    "    else\n",
    "        mkpath(\"./checkpoint/\")\n",
    "        paramsfile = open(\"./checkpoint/params.data\",\"w+\")\n",
    "        \n",
    "        writeparams(paramsfile,params,temp)\n",
    "        writeensemble(paramsfile,ensemble)\n",
    "        writepotential(paramsfile,potential)\n",
    "        \n",
    "        close(paramsfile)\n",
    "    end\n",
    "end\n"
   ]
  },
  {
   "cell_type": "code",
   "execution_count": 29,
   "metadata": {},
   "outputs": [
    {
     "data": {
      "text/plain": [
       "MoveStrategy{13, NVT}(NVT(13, 13, 0), [\"atommove\", \"atommove\", \"atommove\", \"atommove\", \"atommove\", \"atommove\", \"atommove\", \"atommove\", \"atommove\", \"atommove\", \"atommove\", \"atommove\", \"atommove\"])"
      ]
     },
     "metadata": {},
     "output_type": "display_data"
    }
   ],
   "source": [
    "n_atoms = 13\n",
    "ti = 4.\n",
    "tf = 16.\n",
    "n_traj = 25\n",
    "temp = TempGrid{n_traj}(ti,tf) \n",
    "mc_cycles = 1000 #default 20% equilibration cycles on top\n",
    "mc_sample = 1  #sample every mc_sample MC cycles\n",
    "displ_atom = 0.1 # Angstrom\n",
    "n_adjust = 100\n",
    "max_displ_atom = [0.1*sqrt(displ_atom*temp.t_grid[i]) for i in 1:n_traj]\n",
    "mc_params = MCParams(mc_cycles, n_traj, n_atoms, mc_sample = mc_sample, n_adjust = n_adjust)\n",
    "c=[-10.5097942564988, 989.725135614556, -101383.865938807, 3918846.12841668, -56234083.4334278, 288738837.441765]\n",
    "pot = ELJPotentialEven{6}(c)\n",
    "\n",
    "a=[0.0005742,-0.4032,-0.2101,-0.0595,0.0606,0.1608]\n",
    "b=[-0.01336,-0.02005,-0.1051,-0.1268,-0.1405,-0.1751]\n",
    "c1=[-0.1132,-1.5012,35.6955,-268.7494,729.7605,-583.4203]\n",
    "potB = ELJPotentialB{6}(a,b,c1)\n",
    "\n",
    "ensemble = NVT(n_atoms)\n",
    "move_strat = MoveStrategy(ensemble)\n"
   ]
  },
  {
   "cell_type": "code",
   "execution_count": 31,
   "metadata": {},
   "outputs": [],
   "source": [
    "save_init(potB,ensemble,mc_params,temp)"
   ]
  },
  {
   "cell_type": "code",
   "execution_count": 23,
   "metadata": {},
   "outputs": [],
   "source": [
    "# testfile = open(\"./checkpoint/testfile.data\",\"w+\")\n",
    "# writeparams(testfile,mc_params,temp)\n",
    "# writeensemble(testfile,ensemble)\n",
    "# writepotential(testfile,potB)\n",
    "# close(testfile)"
   ]
  },
  {
   "cell_type": "code",
   "execution_count": null,
   "metadata": {},
   "outputs": [],
   "source": []
  }
 ],
 "metadata": {
  "kernelspec": {
   "display_name": "Julia 1.10.1",
   "language": "julia",
   "name": "julia-1.10"
  },
  "language_info": {
   "file_extension": ".jl",
   "mimetype": "application/julia",
   "name": "julia",
   "version": "1.10.1"
  }
 },
 "nbformat": 4,
 "nbformat_minor": 2
}
