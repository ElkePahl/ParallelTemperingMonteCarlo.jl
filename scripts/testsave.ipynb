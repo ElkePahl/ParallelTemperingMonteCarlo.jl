{
 "cells": [
  {
   "cell_type": "code",
   "execution_count": 1,
   "metadata": {},
   "outputs": [],
   "source": [
    "using ParallelTemperingMonteCarlo, StaticArrays, DelimitedFiles"
   ]
  },
  {
   "cell_type": "markdown",
   "metadata": {},
   "source": [
    "Broadly we need to save:\n",
    "\n",
    "-Params which do not change\n",
    "\n",
    "-Configs (the BC may change?)\n",
    "\n",
    "-Results"
   ]
  },
  {
   "cell_type": "markdown",
   "metadata": {},
   "source": [
    "Beginning with the static parameters which do not change:"
   ]
  },
  {
   "cell_type": "code",
   "execution_count": 2,
   "metadata": {},
   "outputs": [
    {
     "data": {
      "text/plain": [
       "writeparams (generic function with 1 method)"
      ]
     },
     "metadata": {},
     "output_type": "display_data"
    }
   ],
   "source": [
    "# function writeparams(savefile, params, temp)# , ensemble, pot)\n",
    "#     write(savefile,\"cycles: sample_rate: n_traj: n_atoms: t_i: t_f \\n\")\n",
    "#     write(savefile, \"$(params.mc_cycles) $(params.mc_sample) $(params.n_traj) $(params.n_atoms) $(first(temp.t_grid)) $(last(temp.t_grid)) \\n\")\n",
    "# end\n",
    "\n",
    "function writeparams(savefile,params,temp)\n",
    "    headersvec = [\"cycles:\" \"sample_rate:\" \"n_traj:\" \"n_atoms:\" \"t_i:\" \"t_f\"]\n",
    "    paramsvec = [params.mc_cycles params.mc_sample params.n_traj params.n_atoms first(temp.t_grid) last(temp.t_grid)]\n",
    "    writedlm(savefile, [headersvec, paramsvec], ' ' )\n",
    "end"
   ]
  },
  {
   "cell_type": "code",
   "execution_count": 3,
   "metadata": {},
   "outputs": [
    {
     "data": {
      "text/plain": [
       "writeensemble (generic function with 2 methods)"
      ]
     },
     "metadata": {},
     "output_type": "display_data"
    }
   ],
   "source": [
    "function writeensemble(savefile,ensemble::NVT)\n",
    "\n",
    "    headersvec = [\"ensemble\" \"n_atom_moves\" \"n_atom_swaps\" ]\n",
    "    valuesvec = [\"NVT\" ensemble.n_atoms ensemble.n_atom_moves ensemble.n_atom_swaps]\n",
    "    writedlm(savefile, [headersvec, valuesvec], ' ' )\n",
    "end\n",
    "function writeensemble(savefile,ensemble::NPT)\n",
    "\n",
    "    headersvec = [\"ensemble\" \"n_atom_moves\" \"n_volume_moves\" \"n_atom_swaps\" \"pressure\"]\n",
    "    valuesvec = [\"NPT\" ensemble.n_atoms ensemble.n_atom_moves ensembles.n_volume_moves emsemble.n_atom_swaps ensemble.pressure]\n",
    "    writedlm(savefile, [headersvec, valuesvec], ' ' )\n",
    "end"
   ]
  },
  {
   "cell_type": "code",
   "execution_count": 4,
   "metadata": {},
   "outputs": [
    {
     "data": {
      "text/plain": [
       "writepotential (generic function with 4 methods)"
      ]
     },
     "metadata": {},
     "output_type": "display_data"
    }
   ],
   "source": [
    "function writepotential(savefile,potential::Ptype) where Ptype <: AbstractDimerPotential\n",
    "    coeff_vec = transpose([potential.coeff[i] for i in eachindex(potential.coeff)])\n",
    "\n",
    "    write(savefile,\"ELJ_coeffs: \" )\n",
    "    writedlm(savefile, coeff_vec, ' ')\n",
    "end\n",
    "function writepotential(savefile,potential::Ptype) where Ptype <: AbstractDimerPotentialB\n",
    "\n",
    "    coeff_vec_a = transpose([potential.coeff_a[i] for i in eachindex(potential.coeff_a)])\n",
    "    coeff_vec_b = transpose([potential.coeff_b[i] for i in eachindex(potential.coeff_b)])\n",
    "    coeff_vec_c = transpose([potential.coeff_c[i] for i in eachindex(potential.coeff_c)])\n",
    "    write(savefile,\"ELJB \\n\")\n",
    "    writedlm(savefile, [coeff_vec_a, coeff_vec_b, coeff_vec_c])\n",
    "end\n",
    "function writepotential(savefile,potential::Ptype) where Ptype <: EmbeddedAtomPotential\n",
    "    write(savefile,\"EAM: $(potential.n) $(potential.m) $(potential.ean) $(potential.eCam) \\n\")\n",
    "end \n",
    "function writepotential(savefile,potential::Ptype) where Ptype <: AbstractMachineLearningPotential\n",
    "    write(\"Define the potential elsewhere, it's too complicated for simple I/O \\n\")\n",
    "end"
   ]
  },
  {
   "cell_type": "code",
   "execution_count": 5,
   "metadata": {},
   "outputs": [
    {
     "data": {
      "text/plain": [
       "save_init (generic function with 1 method)"
      ]
     },
     "metadata": {},
     "output_type": "display_data"
    }
   ],
   "source": [
    "function save_init(potential,ensemble,params,temp)\n",
    "    if ispath(\"./checkpoint/params.data\") == true\n",
    "    else\n",
    "        mkpath(\"./checkpoint/\")\n",
    "        paramsfile = open(\"./checkpoint/params.data\",\"w+\")\n",
    "        \n",
    "        writeparams(paramsfile,params,temp)\n",
    "        writeensemble(paramsfile,ensemble)\n",
    "        writepotential(paramsfile,potential)\n",
    "        \n",
    "        close(paramsfile)\n",
    "    end\n",
    "end\n"
   ]
  },
  {
   "cell_type": "code",
   "execution_count": 6,
   "metadata": {},
   "outputs": [
    {
     "data": {
      "text/plain": [
       "MoveStrategy{13, NVT}(NVT(13, 13, 0), [\"atommove\", \"atommove\", \"atommove\", \"atommove\", \"atommove\", \"atommove\", \"atommove\", \"atommove\", \"atommove\", \"atommove\", \"atommove\", \"atommove\", \"atommove\"])"
      ]
     },
     "metadata": {},
     "output_type": "display_data"
    }
   ],
   "source": [
    "n_atoms = 13\n",
    "ti = 12.\n",
    "tf = 16.\n",
    "n_traj = 5\n",
    "temp = TempGrid{n_traj}(ti,tf) \n",
    "mc_cycles = 1000 #default 20% equilibration cycles on top\n",
    "mc_sample = 1  #sample every mc_sample MC cycles\n",
    "displ_atom = 0.1 # Angstrom\n",
    "n_adjust = 100\n",
    "max_displ_atom = [0.1*sqrt(displ_atom*temp.t_grid[i]) for i in 1:n_traj]\n",
    "mc_params = MCParams(mc_cycles, n_traj, n_atoms, mc_sample = mc_sample, n_adjust = n_adjust)\n",
    "c=[-10.5097942564988, 989.725135614556, -101383.865938807, 3918846.12841668, -56234083.4334278, 288738837.441765]\n",
    "pot = ELJPotentialEven{6}(c)\n",
    "\n",
    "a=[0.0005742,-0.4032,-0.2101,-0.0595,0.0606,0.1608]\n",
    "b=[-0.01336,-0.02005,-0.1051,-0.1268,-0.1405,-0.1751]\n",
    "c1=[-0.1132,-1.5012,35.6955,-268.7494,729.7605,-583.4203]\n",
    "potB = ELJPotentialB{6}(a,b,c1)\n",
    "\n",
    "ensemble = NVT(n_atoms)\n",
    "move_strat = MoveStrategy(ensemble)\n"
   ]
  },
  {
   "cell_type": "code",
   "execution_count": 7,
   "metadata": {},
   "outputs": [],
   "source": [
    "save_init(potB,ensemble,mc_params,temp)"
   ]
  },
  {
   "cell_type": "code",
   "execution_count": 8,
   "metadata": {},
   "outputs": [],
   "source": [
    "testfile = open(\"./checkpoint/testfile.data\",\"w+\")\n",
    "writedlm(testfile,[n_atoms, \"just checking\"])\n",
    "\n",
    "# writeparams(testfile,mc_params,temp)\n",
    "# writeensemble(testfile,ensemble)\n",
    "# writepotential(testfile,potB)\n",
    "close(testfile)"
   ]
  },
  {
   "cell_type": "markdown",
   "metadata": {},
   "source": [
    "Now the configurations, we follow the xyz format. "
   ]
  },
  {
   "cell_type": "code",
   "execution_count": 9,
   "metadata": {},
   "outputs": [
    {
     "data": {
      "text/plain": [
       "Config{13, SphericalBC{Float64}, Float64}(SVector{3, Float64}[[5.339202509675499, 1.7547286276557148, 0.9552945639202041], [3.8235622875401982, -4.036693324695786, 1.2586922223528678], [3.8432525502537267, -1.2169635315645375, -4.030786193502644], [1.8515104475315411, 4.369051328639683, -3.1594504692142205], [1.8196441394724319, -0.19336921007065874, 5.399104677171738], [0.6008527770958447, 5.001668105430829, 2.668542641160762], [-5.339209779512827, -1.754731061649526, -0.9552951725503948], [-0.6008496122188508, -5.001669753738395, -2.668542209586626], [-1.851508499387977, -4.369053575565342, 3.1594501498809775], [-1.8196475277773039, 0.19336884278473446, -5.399104511708638], [-3.823559204867802, 4.036697652557049, -1.2586918476896083], [-3.8432544820617607, 1.2169644600549232, 4.030785366187147], [4.394257284152319e-6, 1.4401613097476533e-6, 7.841053896189476e-7]], SphericalBC{Float64}(101.06969058367278))"
      ]
     },
     "metadata": {},
     "output_type": "display_data"
    }
   ],
   "source": [
    "pos_ne13 = [[2.825384495892464, 0.928562467914040, 0.505520149314310],\n",
    "[2.023342172678102,\t-2.136126268595355, 0.666071287554958],\n",
    "[2.033761811732818,\t-0.643989413759464, -2.133000349161121],\n",
    "[0.979777205108572,\t2.312002562803556, -1.671909307631893],\n",
    "[0.962914279874254,\t-0.102326586625353, 2.857083360096907],\n",
    "[0.317957619634043,\t2.646768968413408, 1.412132053672896],\n",
    "[-2.825388342924982, -0.928563755928189, -0.505520471387560],\n",
    "[-0.317955944853142, -2.646769840660271, -1.412131825293682],\n",
    "[-0.979776174195320, -2.312003751825495, 1.671909138648006],\n",
    "[-0.962916072888105, 0.102326392265998,\t-2.857083272537599],\n",
    "[-2.023340541398004, 2.136128558801072,\t-0.666071089291685],\n",
    "[-2.033762834001679, 0.643989905095452, 2.132999911364582],\n",
    "[0.000002325340981,\t0.000000762100600, 0.000000414930733]]\n",
    "\n",
    "#convert to Bohr\n",
    "AtoBohr = 1.8897259886\n",
    "pos_ne13 = pos_ne13 * AtoBohr\n",
    "\n",
    "#binding sphere\n",
    "bc_ne13 = SphericalBC(radius=5.32*AtoBohr) \n",
    "\n",
    "length(pos_ne13) == n_atoms || error(\"number of atoms and positions not the same - check starting config\")\n",
    "\n",
    "start_config = Config(pos_ne13, bc_ne13)"
   ]
  },
  {
   "cell_type": "code",
   "execution_count": 10,
   "metadata": {},
   "outputs": [
    {
     "data": {
      "text/plain": [
       "writeconfig (generic function with 3 methods)"
      ]
     },
     "metadata": {},
     "output_type": "display_data"
    }
   ],
   "source": [
    "function writeconfig(savefile , config::Config{N,BC,T} , max_displ ) where {N,BC<:SphericalBC,T}\n",
    "    writedlm(savefile,[N,\"$BC r2: $(config.bc.radius2) $(max_displ[1]) $(max_displ[2]) $(max_displ[3])\"])\n",
    "    \n",
    "    for row in config.pos\n",
    "        write(savefile, \"1  $(row[1]) $(row[2]) $(row[3]) \\n\")\n",
    "    end\n",
    "end\n",
    "function writeconfig(savefile , config::Config{N,BC,T} , max_displ ) where {N,BC<:CubicBC,T}\n",
    "    writedlm(savefile,[N,\"$BC box_length: $(config.bc.radius2) $(max_displ[1]) $(max_displ[2]) $(max_displ[3])\" ])\n",
    "    \n",
    "    for row in config.pos\n",
    "        write(savefile, \"1  $(row[1]) $(row[2]) $(row[3]) \\n\")\n",
    "    end\n",
    "end\n",
    "function writeconfig(savefile , config::Config{N,BC,T} , max_displ ) where {N,BC<:RhombicBC,T}\n",
    "    writedlm(savefile,[N,\"$BC box_dims: $(config.bc.box_length) $(config.bc.box_height) $(max_displ[1]) $(max_displ[2]) $(max_displ[3])\"])\n",
    "    \n",
    "    for row in config.pos\n",
    "        write(savefile, \"1  $(row[1]) $(row[2]) $(row[3]) \\n\")\n",
    "    end\n",
    "end\n"
   ]
  },
  {
   "cell_type": "code",
   "execution_count": 11,
   "metadata": {},
   "outputs": [],
   "source": [
    "testfile = open(\"./checkpoint/testfile.data\",\"w+\")\n",
    "writeconfig(testfile,start_config, [1. .1 .68])\n",
    "close(testfile)"
   ]
  },
  {
   "cell_type": "markdown",
   "metadata": {},
   "source": [
    "Now we can write individual configs, we need the overarching function. Most likely a for i in eachindex states, in this way we have a config.$i "
   ]
  },
  {
   "cell_type": "code",
   "execution_count": 12,
   "metadata": {},
   "outputs": [
    {
     "data": {
      "text/plain": [
       "save_checkpoint (generic function with 1 method)"
      ]
     },
     "metadata": {},
     "output_type": "display_data"
    }
   ],
   "source": [
    "function save_checkpoint(mc_states)\n",
    "    for saveindex in eachindex(mc_states)\n",
    "        checkpoint_file = open(\"./checkpoint/config.$saveindex\",\"w\")\n",
    "        writeconfig(checkpoint_file,mc_states[saveindex].config,mc_states[saveindex].max_displ)\n",
    "        close(checkpoint_file)\n",
    "    end\n",
    "end"
   ]
  },
  {
   "cell_type": "code",
   "execution_count": 13,
   "metadata": {},
   "outputs": [
    {
     "data": {
      "text/plain": [
       "histparams (generic function with 1 method)"
      ]
     },
     "metadata": {},
     "output_type": "display_data"
    }
   ],
   "source": [
    "function histparams(results)\n",
    "    resfile = open(\"./checkpoint/hist_info.data\",\"w+\")\n",
    "    headersvec = [\"e_min\" \"e_max\" \"v_min\" \"v_max\" \"Δ_E\" \"Δ_V\" \"Δ_r2\"]\n",
    "    infovec = [results.en_min results.en_max results.v_min results.v_max results.delta_en_hist results.delta_v_hist results.delta_r2]\n",
    "    writedlm(resfile,[headersvec , infovec], ' ')\n",
    "    close(resfile)\n",
    "end"
   ]
  },
  {
   "cell_type": "code",
   "execution_count": 14,
   "metadata": {},
   "outputs": [
    {
     "data": {
      "text/plain": [
       "checkpoint (generic function with 2 methods)"
      ]
     },
     "metadata": {},
     "output_type": "display_data"
    }
   ],
   "source": [
    "function checkpoint(index,mc_states,results,ensemble::NVT;rdfsave=false)\n",
    "    indexfile = open(\"./checkpoint/index.txt\",\"w+\")\n",
    "    writedlm(indexfile,index)\n",
    "    close(indexfile)\n",
    "    save_checkpoint(mc_states)\n",
    "    histfile = open(\"./checkpoint/histograms.data\",\"w+\")\n",
    "    writedlm(histfile,results.en_histogram)\n",
    "    close(histfile)\n",
    "    if rdfsave == true \n",
    "        rdffile = open(\"./checkpoint/rdf.data\",\"w+\")\n",
    "        writedlm(rdffile,results.rdf)\n",
    "    else\n",
    "    end\n",
    "    \n",
    "end\n",
    "function checkpoint(index,mc_states,results,ensemble::NPT; rdfsave=false)\n",
    "    indexfile = open(\"./checkpoint/index.txt\",\"w+\")\n",
    "    writedlm(indexfile,index)\n",
    "    close(indexfile)\n",
    "    save_checkpoint(mc_states)\n",
    "    histfile = open(\"./checkpoint/histograms.data\",\"w+\")\n",
    "    writedlm(histfile,results.en_histogram)\n",
    "    close(histfile)\n",
    "    v_file = open(\"./checkpoint/volume_hist.data\",\"w+\")\n",
    "    writedlm(v_file,ev_histogram)\n",
    "    close(v_file)\n",
    "    if rdfsave == true \n",
    "        rdffile = open(\"./checkpoint/rdf.data\",\"w+\")\n",
    "        writedlm(rdffile,results.rdf)\n",
    "    else\n",
    "    end\n",
    "    \n",
    "end"
   ]
  },
  {
   "cell_type": "code",
   "execution_count": 15,
   "metadata": {},
   "outputs": [
    {
     "name": "stdout",
     "output_type": "stream",
     "text": [
      "params set\n",
      "equilibration complete\n",
      "MC loop done.\n",
      "testing revise pt2\n",
      "[18.20748176693349, 22.0728370285096, 20.35669849414488, 33.796679986707055, 39.01792291348442]\n",
      "done\n"
     ]
    },
    {
     "data": {
      "text/plain": [
       "(MCState{Float64, 13, SphericalBC{Float64}, DimerPotentialVariables{Float64}, NVTVariables{Float64}}[MCState{Float64, 13, SphericalBC{Float64}, DimerPotentialVariables{Float64}, NVTVariables{Float64}}(12.0, 26314.5821052581, Config{13, SphericalBC{Float64}, Float64}(SVector{3, Float64}[[4.896127377364926, 2.11488203932719, 0.9338742100918467], [2.790893083743673, -3.668149909033589, 1.332763013949683], [3.6354125622269713, -0.03944221178347507, -4.222563211848992], [1.355827065063513, 6.070975184045735, -2.9757024257131195], [1.5601344333624718, 0.2744195524847849, 5.0876476771226375], [-0.13803118528924463, 5.6288408892735955, 2.9090297025270697], [-5.3702042518310975, -0.4560801572543972, -1.3475100145922074], [-1.3007430153723032, -4.326874323231836, -2.5167728544419488], [-2.723091684682722, -3.879890619078203, 3.4352728846972167], [-1.7803818217347214, 2.052938875470207, -5.251106320903675], [-4.408683278819288, 5.271942174407318, -0.7842860500489537], [-3.886621304871635, 1.7449783721138086, 4.400840773320395], [-0.2534596603777504, 0.7989329176029321, -0.056415567962122735]], SphericalBC{Float64}(101.06969058367278)), [0.0 38.034582224643586 … 89.29336028889071 29.230642594772416; 38.034582224643586 0.0 … 83.30425733586745 31.152729743113063; … ; 89.29336028889071 83.30425733586745 … 0.0 33.96199962892542; 29.230642594772416 31.152729743113063 … 33.96199962892542 0.0], [32.819361710423735, 44.742382176666474, 0.0, 44.08837261013357, 91.08531531633881, 97.22792852577724, 89.5406522663081, 45.65742673996582, 113.82207390862729, 34.76678835083179, 104.74003183916479, 134.12824660945, 33.18298621198437], -0.0050582546525568045, -0.0050582546525568045, DimerPotentialVariables{Float64}([-0.0008131640829255388, -0.0008131644969161529, -0.0008131644971061788, -0.0008131644971733435, -0.00081316449725488, -0.0008131644972232184, -0.0008131640538937095, -0.0008131645376168826, -0.0008131645377222474, -0.0008131645378597133, -0.0008131645378206358, -0.0008131645379515084, -0.0015114147533107326]), NVTVariables{Float64}(3, [3.6354125622269713, -0.03944221178347507, -4.222563211848992]), [-4.905535193059619, 0.024090569546701534], [0.3138428376721002, 0.1, 1.0], 30.0, [11274, 0], [0, 0], [27, 21]), MCState{Float64, 13, SphericalBC{Float64}, DimerPotentialVariables{Float64}, NVTVariables{Float64}}(12.894839181882503, 24488.477972394347, Config{13, SphericalBC{Float64}, Float64}(SVector{3, Float64}[[5.644073388935482, 1.5104511105435958, -1.0619997682718232], [3.8199153368261145, -4.23071536933792, 1.5160250550099483], [3.6987864350925403, -1.3510316203732085, -5.849835773889459], [0.9042462390309257, 4.318546914319941, -4.113418285913705], [3.438888943842333, 0.617765539738345, 5.202943073233276], [1.2672988398439515, 4.844248370437212, 1.8354398943887311], [-5.067602126699, -2.3166200287824936, -0.8568967310866751], [-0.447810578852202, -5.36591513504066, -4.123265846384224], [-2.6319299045588673, -6.2886719732030105, 2.487648225570428], [-3.4392689529288947, 0.29394082989750553, -5.668526203074286], [-3.7512422560149608, 3.1491264606059253, -0.9768220174857144], [-3.2243038998720435, 0.8232050914511229, 4.063421140548144], [0.20782660647360932, -0.5164637897436958, -0.6451536447853541]], SphericalBC{Float64}(101.06969058367278)), [0.0 42.93475713824756 … 105.39036231996447 33.8349237834994; 42.93475713824756 0.0 … 81.65236349526583 31.51354316490668; … ; 105.39036231996447 81.65236349526583 … 0.0 35.744909032908645; 33.8349237834994 31.51354316490668 … 35.744909032908645 0.0], [34.89559836881528, 62.5631564556013, 0.0, 42.968721361005436, 126.10762920702524, 103.35708818781251, 102.71136967590832, 36.294600146969344, 133.9719010682722, 53.69064224508065, 99.50061332222687, 150.92914771676968, 39.97202005396841], -0.004496550419860581, -0.004496550419860581, DimerPotentialVariables{Float64}([-0.0008131640829255388, -0.0008131644969161529, -0.0008131644971061788, -0.0008131644971733435, -0.00081316449725488, -0.0008131644972232184, -0.0008131640538937095, -0.0008131645376168826, -0.0008131645377222474, -0.0008131645378597133, -0.0008131645378206358, -0.0008131645379515084, -0.0015114147533107326]), NVTVariables{Float64}(3, [3.6987864350925403, -1.3510316203732085, -5.849835773889459]), [-4.8548362783505725, 0.023606242641213703], [0.3138428376721002, 0.1, 1.0], 30.0, [11271, 0], [0, 0], [63, 50]), MCState{Float64, 13, SphericalBC{Float64}, DimerPotentialVariables{Float64}, NVTVariables{Float64}}(13.856406460551018, 22789.096593124912, Config{13, SphericalBC{Float64}, Float64}(SVector{3, Float64}[[4.317777586641653, 1.927635038806485, 2.5117775023243625], [2.6314476920153616, -4.169219641467464, 1.1804353160343823], [4.344658705794098, -0.709433860168559, -3.1394981516513463], [3.034753312660528, 4.850496343254319, -2.362035064258666], [0.28721915341812143, -0.11900891911483621, 5.604591506649263], [-0.11613222508108029, 5.629251504241107, 3.258869360689952], [-5.211136599871529, -0.733505617331539, -2.541689298284459], [-0.47983954952330726, -4.366543532539573, -3.3028215477999345], [-3.5248946248271436, -3.9125519572616025, 2.1884127297795057], [-0.38738919703406427, 1.1425152980960633, -5.163870706403187], [-3.4243896810178636, 4.953888589701831, -1.7844338723281847], [-4.996806931878189, 1.600485738759559, 3.0246467581660226], [-0.543573120646175, 0.33292081729384715, 0.2248129091854311]], SphericalBC{Float64}(101.06969058367278)), [0.0 41.78781752288406 … 87.1315462907583 31.406051197813643; 41.78781752288406 0.0 … 94.88088462486326 31.26324005572122; … ; 87.1315462907583 94.88088462486326 … 0.0 29.27708178952786; 31.406051197813643 31.26324005572122 … 29.27708178952786 0.0], [95.71985634171064, 38.98244748888165, 100.5764695278861, 140.5265717072281, 40.59345767609454, 103.81155179452777, 35.32361282571916, 39.63212265332043, 0.0, 89.4537169915867, 94.40737934044597, 33.25939782763019, 30.768041246220502], -0.005148503994983245, -0.005148503994983245, DimerPotentialVariables{Float64}([-0.0008131640829255388, -0.0008131644969161529, -0.0008131644971061788, -0.0008131644971733435, -0.00081316449725488, -0.0008131644972232184, -0.0008131640538937095, -0.0008131645376168826, -0.0008131645377222474, -0.0008131645378597133, -0.0008131645378206358, -0.0008131645379515084, -0.0015114147533107326]), NVTVariables{Float64}(9, [-3.5248946248271436, -3.9125519572616025, 2.1884127297795057]), [-4.801870583584351, 0.023097158128296793], [0.3138428376721002, 0.1, 1.0], 30.0, [11528, 0], [0, 0], [68, 57]), MCState{Float64, 13, SphericalBC{Float64}, DimerPotentialVariables{Float64}, NVTVariables{Float64}}(14.889677745633595, 21207.64402410914, Config{13, SphericalBC{Float64}, Float64}(SVector{3, Float64}[[5.8586756852097315, 2.056069522014913, 0.833293799082918], [3.852687877594683, -4.826749802893161, 2.9483686632137474], [4.256846328994287, -1.4748263481974944, -3.396698144574295], [1.9548697349670048, 3.837672113059144, -4.160040286991471], [2.116862569937151, 0.14188084392984063, 6.003998338675406], [1.6976650302774714, 5.769518992667392, 0.837968088342949], [-5.070579928652862, -2.4896050542973818, -1.268194520892453], [0.4399254449188433, -5.090975723429841, -1.6803744655982178], [-2.2524827864981374, -3.7859820888282543, 3.7836236081935177], [-1.4459129700877813, -1.272339950981222, -5.908025255919137], [-3.917229751615904, 3.66761888167153, -1.7529173531045923], [-3.747516418498188, 1.554790487273154, 3.8716466580744338], [0.12314869585592778, -0.33219022998566183, 0.6471087362222646]], SphericalBC{Float64}(101.06969058367278)), [0.0 55.870730624506315 … 101.76179549975392 38.63471936626418; 55.870730624506315 0.0 … 99.33960407315848 39.40632551411588; … ; 101.76179549975392 99.33960407315848 … 0.0 28.940389464247257; 38.63471936626418 39.40632551411588 … 28.940389464247257 0.0], [86.76163805195209, 33.14202571149096, 30.591188310298538, 88.16455097577483, 89.24449137088408, 125.87430356194491, 37.30269113720294, 0.0, 38.807345421352366, 36.01139689504004, 95.70304333372835, 92.52581644452647, 28.163564936118156], -0.00441419888135906, -0.00441419888135906, DimerPotentialVariables{Float64}([-0.0008131640829255388, -0.0008131644969161529, -0.0008131644971061788, -0.0008131644971733435, -0.00081316449725488, -0.0008131644972232184, -0.0008131640538937095, -0.0008131645376168826, -0.0008131645377222474, -0.0008131645378597133, -0.0008131645378206358, -0.0008131645379515084, -0.0015114147533107326]), NVTVariables{Float64}(8, [0.4399254449188433, -5.090975723429841, -1.6803744655982178]), [-4.765185608903325, 0.02278213700143051], [0.3138428376721002, 0.1, 1.0], 30.0, [11458, 0], [0, 0], [55, 45]), MCState{Float64, 13, SphericalBC{Float64}, DimerPotentialVariables{Float64}, NVTVariables{Float64}}(16.0, 19735.936578943576, Config{13, SphericalBC{Float64}, Float64}(SVector{3, Float64}[[4.963624455902856, 1.2327782620375956, 0.7083734112938176], [3.345547324752938, -3.7791696772945573, 1.8483266636022095], [4.214544151134504, -3.370052516125082, -3.3987542899189433], [2.27655454149179, 1.9974014746734228, -5.222240789386033], [0.4033296769550114, 1.8033856234455798, 5.148514724101126], [0.9518929066935258, 5.393590669703319, 0.8097090243257967], [-6.1274901347399915, -2.381976530273954, -0.3645255685503517], [-0.8178344157859587, -5.777073481000064, -1.8610019028515246], [-2.1762147491534045, -4.148490561056071, 3.357944065408439], [-2.718266358605151, -1.2438046908430052, -5.601856100077925], [-4.261623901238926, 5.635504407306857, -1.387318207565269], [-4.4372727846542155, 2.1620127742554267, 2.828646436180954], [-0.8031282651771849, -0.17692099695912855, -0.38292806939123053]], SphericalBC{Float64}(101.06969058367278)), [0.0 29.03728916637464 … 93.73590340627433 36.43362786864535; 29.03728916637464 0.0 … 96.8309646345067 35.16620238896603; … ; 93.73590340627433 96.8309646345067 … 0.0 28.991828379414102; 36.43362786864535 35.16620238896603 … 28.991828379414102 0.0], [0.0, 29.03728916637464, 38.6156704294627, 42.97717817954013, 40.83673610949016, 33.4166188211751, 137.23038729226064, 89.1649776493369, 86.95558267160368, 104.96390609470815, 108.88112812254091, 93.73590340627433, 36.43362786864535], -0.004440047352164302, -0.004440047352164302, DimerPotentialVariables{Float64}([-0.0008131640829255388, -0.0008131644969161529, -0.0008131644971061788, -0.0008131644971733435, -0.00081316449725488, -0.0008131644972232184, -0.0008131640538937095, -0.0008131645376168826, -0.0008131645377222474, -0.0008131645378597133, -0.0008131645378206358, -0.0008131645379515084, -0.0015114147533107326]), NVTVariables{Float64}(1, [4.963624455902856, 1.2327782620375956, 0.7083734112938176]), [-4.581297522454746, 0.021088459524314672], [0.3138428376721002, 0.1, 1.0], 30.0, [11466, 0], [0, 0], [23, 17])], Output{Float64}(100, -0.005629968816941956, -0.0048562958900107605, 0.0, 0.0, 7.814878049810056e-6, 0.0, 0.8085575246693824, Float64[], [-0.0049055351930596194, -0.004854836278350572, -0.004801870583584351, -0.004765185608903325, -0.004581297522454746], [18.20748176693349, 22.0728370285096, 20.35669849414488, 33.796679986707055, 39.01792291348442], [[0.0, 0.0, 0.0, 0.0, 0.0, 0.0, 0.0, 0.0, 0.0, 0.0  …  23.0, 15.0, 17.0, 17.0, 18.0, 21.0, 23.0, 9.0, 16.0, 339.0], [0.0, 0.0, 0.0, 0.0, 0.0, 0.0, 0.0, 0.0, 0.0, 0.0  …  17.0, 13.0, 12.0, 13.0, 17.0, 18.0, 25.0, 14.0, 18.0, 504.0], [0.0, 0.0, 0.0, 0.0, 0.0, 0.0, 0.0, 0.0, 0.0, 0.0  …  8.0, 16.0, 12.0, 7.0, 10.0, 11.0, 14.0, 19.0, 13.0, 589.0], [0.0, 0.0, 0.0, 0.0, 0.0, 0.0, 0.0, 0.0, 0.0, 0.0  …  7.0, 20.0, 14.0, 8.0, 13.0, 12.0, 13.0, 7.0, 15.0, 560.0], [0.0, 0.0, 0.0, 0.0, 0.0, 0.0, 0.0, 0.0, 0.0, 0.0  …  8.0, 8.0, 10.0, 9.0, 9.0, 4.0, 6.0, 6.0, 10.0, 777.0]], Matrix{Float64}[], [[0.0, 0.0, 0.0, 0.0, 0.0, 0.0, 0.0, 0.0, 0.0, 0.0  …  0.0, 0.0, 0.0, 0.0, 0.0, 0.0, 0.0, 0.0, 0.0, 0.0], [0.0, 0.0, 0.0, 0.0, 0.0, 0.0, 0.0, 0.0, 0.0, 0.0  …  0.0, 0.0, 0.0, 0.0, 0.0, 0.0, 0.0, 0.0, 0.0, 0.0], [0.0, 0.0, 0.0, 0.0, 0.0, 0.0, 0.0, 0.0, 0.0, 0.0  …  0.0, 0.0, 0.0, 0.0, 0.0, 0.0, 0.0, 0.0, 0.0, 0.0], [0.0, 0.0, 0.0, 0.0, 0.0, 0.0, 0.0, 0.0, 0.0, 0.0  …  0.0, 0.0, 0.0, 0.0, 0.0, 0.0, 0.0, 0.0, 0.0, 0.0], [0.0, 0.0, 0.0, 0.0, 0.0, 0.0, 0.0, 0.0, 0.0, 0.0  …  0.0, 0.0, 0.0, 0.0, 0.0, 0.0, 0.0, 0.0, 0.0, 0.0]], [0.8672307692307692, 0.867, 0.8867692307692308, 0.8813846153846154, 0.882], Float64[], Float64[], [0.7777777777777778, 0.7936507936507936, 0.8382352941176471, 0.8181818181818182, 0.7391304347826086]))"
      ]
     },
     "metadata": {},
     "output_type": "display_data"
    }
   ],
   "source": [
    "states,results = ptmc_run!(mc_params,temp,start_config,pot,ensemble)"
   ]
  },
  {
   "cell_type": "code",
   "execution_count": 16,
   "metadata": {},
   "outputs": [],
   "source": [
    "save_checkpoint(states)"
   ]
  },
  {
   "cell_type": "code",
   "execution_count": 17,
   "metadata": {},
   "outputs": [],
   "source": [
    "histparams(results)"
   ]
  },
  {
   "cell_type": "code",
   "execution_count": 18,
   "metadata": {},
   "outputs": [],
   "source": [
    "checkpoint(1000,states,results,ensemble)"
   ]
  },
  {
   "cell_type": "markdown",
   "metadata": {},
   "source": [
    "Now time to implement the read functions\n"
   ]
  },
  {
   "cell_type": "code",
   "execution_count": 19,
   "metadata": {},
   "outputs": [],
   "source": [
    "readfile=open(\"./checkpoint/params.data\",\"r+\")\n",
    "paramsdata = readdlm(readfile)\n",
    "close(readfile)"
   ]
  },
  {
   "cell_type": "code",
   "execution_count": 20,
   "metadata": {},
   "outputs": [
    {
     "data": {
      "text/plain": [
       "8×6 Matrix{Any}:\n",
       "     \"cycles:\"     \"sample_rate:\"    \"n_traj:\"       …     \"t_i:\"      \"t_f\"\n",
       " 1000.0           1.0               5.0                  12.0        16.0\n",
       "     \"ensemble\"    \"n_atom_moves\"    \"n_atom_swaps\"        \"\"          \"\"\n",
       "     \"NVT\"       13                13                      \"\"          \"\"\n",
       "     \"ELJB\"        \"\"                \"\"                    \"\"          \"\"\n",
       "    0.0005742    -0.4032           -0.2101           …    0.0606      0.1608\n",
       "   -0.01336      -0.02005          -0.1051               -0.1405     -0.1751\n",
       "   -0.1132       -1.5012           35.6955              729.76     -583.42"
      ]
     },
     "metadata": {},
     "output_type": "display_data"
    }
   ],
   "source": [
    "paramsdata"
   ]
  },
  {
   "cell_type": "code",
   "execution_count": 21,
   "metadata": {},
   "outputs": [
    {
     "data": {
      "text/plain": [
       "4×6 Matrix{Any}:\n",
       "   \"ELJB\"      \"\"        \"\"         \"\"        \"\"         \"\"\n",
       "  0.0005742  -0.4032   -0.2101    -0.0595    0.0606     0.1608\n",
       " -0.01336    -0.02005  -0.1051    -0.1268   -0.1405    -0.1751\n",
       " -0.1132     -1.5012   35.6955  -268.749   729.76    -583.42"
      ]
     },
     "metadata": {},
     "output_type": "display_data"
    }
   ],
   "source": [
    "paramsvec = paramsdata[1:2,:]\n",
    "ensemblevec = paramsdata[3:4,:]\n",
    "potinfovec = paramsdata[5:end,:]"
   ]
  },
  {
   "cell_type": "code",
   "execution_count": 22,
   "metadata": {},
   "outputs": [
    {
     "data": {
      "text/plain": [
       "2×6 Matrix{Any}:\n",
       " \"ensemble\"    \"n_atom_moves\"    \"n_atom_swaps\"   \"\"  \"\"  \"\"\n",
       " \"NVT\"       13                13                0    \"\"  \"\""
      ]
     },
     "metadata": {},
     "output_type": "display_data"
    }
   ],
   "source": [
    "ensemblevec"
   ]
  },
  {
   "cell_type": "code",
   "execution_count": 23,
   "metadata": {},
   "outputs": [
    {
     "data": {
      "text/plain": [
       "true"
      ]
     },
     "metadata": {},
     "output_type": "display_data"
    }
   ],
   "source": [
    "contains(ensemblevec[2,1],\"NVT\") == true"
   ]
  },
  {
   "cell_type": "code",
   "execution_count": 24,
   "metadata": {},
   "outputs": [
    {
     "name": "stdout",
     "output_type": "stream",
     "text": [
      "done\n"
     ]
    }
   ],
   "source": [
    "if contains(ensemblevec[2,1],\"NVT\")\n",
    "    println(\"done\")\n",
    "else\n",
    "    println(\"not done\")\n",
    "end"
   ]
  },
  {
   "cell_type": "code",
   "execution_count": 25,
   "metadata": {},
   "outputs": [],
   "source": []
  },
  {
   "cell_type": "code",
   "execution_count": 26,
   "metadata": {},
   "outputs": [
    {
     "data": {
      "text/plain": [
       "readensemble (generic function with 1 method)"
      ]
     },
     "metadata": {},
     "output_type": "display_data"
    }
   ],
   "source": [
    "function readensemble(ensemblevec)\n",
    "    if contains(ensemblevec[1],\"NVT\")\n",
    "        return NVT(ensemblevec[2],ensemblevec[3],ensemblevec[4])\n",
    "    elseif contains(ensemblevec[1],\"NPT\")\n",
    "        return NPT(ensemblevec[2],ensemblevec[3],ensemblevec[4],ensemblevec[5],ensemblevec[6])\n",
    "    end\n",
    "end\n"
   ]
  },
  {
   "cell_type": "code",
   "execution_count": 27,
   "metadata": {},
   "outputs": [
    {
     "data": {
      "text/plain": [
       "NVT(13, 13, 0)"
      ]
     },
     "metadata": {},
     "output_type": "display_data"
    }
   ],
   "source": [
    "ens=readensemble(ensemblevec[2,:])"
   ]
  },
  {
   "cell_type": "code",
   "execution_count": 28,
   "metadata": {},
   "outputs": [
    {
     "data": {
      "text/plain": [
       "4×6 Matrix{Any}:\n",
       "   \"ELJB\"      \"\"        \"\"         \"\"        \"\"         \"\"\n",
       "  0.0005742  -0.4032   -0.2101    -0.0595    0.0606     0.1608\n",
       " -0.01336    -0.02005  -0.1051    -0.1268   -0.1405    -0.1751\n",
       " -0.1132     -1.5012   35.6955  -268.749   729.76    -583.42"
      ]
     },
     "metadata": {},
     "output_type": "display_data"
    }
   ],
   "source": [
    "potinfovec"
   ]
  },
  {
   "cell_type": "code",
   "execution_count": 29,
   "metadata": {},
   "outputs": [
    {
     "data": {
      "text/plain": [
       "readpotential (generic function with 1 method)"
      ]
     },
     "metadata": {},
     "output_type": "display_data"
    }
   ],
   "source": [
    "function readpotential(potinfovec)\n",
    "\n",
    "    if potinfovec[1,1] == \"ELJPotentialEven{nlength,Float64}\"\n",
    "        coeffs= Vector(potinfovec[1,2:end])\n",
    "        return ELJPotentialEven(coeffs)\n",
    "    elseif potinfovec[1,1] == \"ELJPotential{nlength,Float64}\"\n",
    "        coeffs = Vector(potinfovec[1,2:end])\n",
    "        return ELJPotential(coeffs)\n",
    "    elseif potinfovec[1,1] == \"EAM:\"\n",
    "        return EmbeddedAtomPotential(potinfovec[1,2],potinfovec[1,3],potinfovec[1,4],potinfovec[1,5])\n",
    "    elseif potinfovec[1,1] == \"ELJB\"\n",
    "        a,b,c = potinfovec[2,:],potinfovec[3,:],potinfovec[4,:]\n",
    "        return ELJPotentialB(a,b,c)\n",
    "    end\n",
    "end"
   ]
  },
  {
   "cell_type": "code",
   "execution_count": 30,
   "metadata": {},
   "outputs": [
    {
     "data": {
      "text/plain": [
       "EmbeddedAtomPotential(8.482, 4.692, 356.5912625675561, 1.4313533476465632)"
      ]
     },
     "metadata": {},
     "output_type": "display_data"
    }
   ],
   "source": [
    "# coeffs= Vector(potinfovec[1,2:end])\n",
    "# checkpot = ELJPotential(coeffs)\n",
    "evtohartree = 0.0367493\n",
    "nmtobohr = 18.8973\n",
    "#parameters taken from L Vocadlo etal J Chem Phys V120N6 2004\n",
    "n = 8.482\n",
    "m = 4.692\n",
    "ϵ = evtohartree*0.0370\n",
    "a = 0.25*nmtobohr\n",
    "C = 27.561\n",
    "\n",
    "eampot = EmbeddedAtomPotential(n,m,ϵ,C,a)\n",
    "\n",
    "testing = open(\"./checkpoint/testfile.data\",\"w+\")\n",
    "writepotential(testing,eampot)\n",
    "close(testing)\n",
    "testing= open(\"./checkpoint/testfile.data\",\"r+\")\n",
    "potinfo = readdlm(testing)\n",
    "close(testing)\n",
    "potinfo\n",
    "testingpot = EmbeddedAtomPotential(potinfo[1,2],potinfo[1,3],potinfo[1,4],potinfo[1,5])"
   ]
  },
  {
   "cell_type": "code",
   "execution_count": 31,
   "metadata": {},
   "outputs": [
    {
     "data": {
      "text/plain": [
       "6-element Vector{Any}:\n",
       " 1000.0\n",
       "    1.0\n",
       "    5.0\n",
       "   13.0\n",
       "   12.0\n",
       "   16.0"
      ]
     },
     "metadata": {},
     "output_type": "display_data"
    }
   ],
   "source": [
    "headers , values  = paramsvec[1,:] , paramsvec[2,:] \n",
    "headers\n",
    "values"
   ]
  },
  {
   "cell_type": "code",
   "execution_count": 32,
   "metadata": {},
   "outputs": [
    {
     "data": {
      "text/plain": [
       "TempGrid{5, Float64}([12.0, 12.894839181882503, 13.856406460551018, 14.889677745633595, 16.0], [26314.5821052581, 24488.477972394347, 22789.096593124912, 21207.64402410914, 19735.936578943576])"
      ]
     },
     "metadata": {},
     "output_type": "display_data"
    }
   ],
   "source": [
    "parameters = MCParams(values[1],1,values[2],values[3],values[4],100,100)\n",
    "temps=TempGrid{Int(values[3])}(values[5],values[6])"
   ]
  },
  {
   "cell_type": "code",
   "execution_count": 33,
   "metadata": {},
   "outputs": [
    {
     "data": {
      "text/plain": [
       "read_params (generic function with 1 method)"
      ]
     },
     "metadata": {},
     "output_type": "display_data"
    }
   ],
   "source": [
    "function read_params(paramsvec)\n",
    "    parameters = MCParams(paramsvec[1],0,paramsvec[2],paramsvec[3],paramsvec[4],100,100)\n",
    "    temps = TempGrid{Int(paramsvec[3])}(paramsvec[5],paramsvec[6])\n",
    "    return parameters,temps\n",
    "end\n"
   ]
  },
  {
   "cell_type": "code",
   "execution_count": 34,
   "metadata": {},
   "outputs": [],
   "source": [
    "testingindex=0\n",
    "for i in 1:testingindex \n",
    "    print(i)\n",
    "end\n",
    "\n",
    "testingfile=open(\"./checkpoint/hist_info.data\",\"r+\")\n",
    "histsfile=open(\"./checkpoint/histograms.data\",\"r+\")\n",
    "dataread=readdlm(testingfile)\n",
    "histiread = readdlm(histsfile)\n",
    "close(testingfile)\n",
    "close(histsfile)\n"
   ]
  },
  {
   "cell_type": "code",
   "execution_count": 35,
   "metadata": {},
   "outputs": [
    {
     "data": {
      "text/plain": [
       "2×7 Matrix{Any}:\n",
       "   \"e_min\"      \"e_max\"    \"v_min\"   \"v_max\"   \"Δ_E\"       \"Δ_V\"   \"Δ_r2\"\n",
       " -0.00562997  -0.0048563  0.0       0.0       7.81488e-6  0.0     0.808558"
      ]
     },
     "metadata": {},
     "output_type": "display_data"
    }
   ],
   "source": [
    "dataread"
   ]
  },
  {
   "cell_type": "code",
   "execution_count": 36,
   "metadata": {},
   "outputs": [
    {
     "data": {
      "text/plain": [
       "5×102 Matrix{Float64}:\n",
       " 0.0  0.0  0.0  0.0  0.0  0.0  0.0  …  18.0  21.0  23.0   9.0  16.0  339.0\n",
       " 0.0  0.0  0.0  0.0  0.0  0.0  0.0     17.0  18.0  25.0  14.0  18.0  504.0\n",
       " 0.0  0.0  0.0  0.0  0.0  0.0  0.0     10.0  11.0  14.0  19.0  13.0  589.0\n",
       " 0.0  0.0  0.0  0.0  0.0  0.0  0.0     13.0  12.0  13.0   7.0  15.0  560.0\n",
       " 0.0  0.0  0.0  0.0  0.0  0.0  0.0      9.0   4.0   6.0   6.0  10.0  777.0"
      ]
     },
     "metadata": {},
     "output_type": "display_data"
    }
   ],
   "source": [
    "histiread"
   ]
  },
  {
   "cell_type": "code",
   "execution_count": 37,
   "metadata": {},
   "outputs": [
    {
     "data": {
      "text/plain": [
       "true"
      ]
     },
     "metadata": {},
     "output_type": "display_data"
    }
   ],
   "source": [
    "histiread[1,:]==results.en_histogram[1]\n",
    "testvector = []\n",
    "for row in eachrow(histiread)\n",
    "    push!(testvector,Vector(row))\n",
    "end\n",
    "testvector[1] == results.en_histogram[1]"
   ]
  },
  {
   "cell_type": "code",
   "execution_count": 38,
   "metadata": {},
   "outputs": [
    {
     "data": {
      "text/plain": [
       "true"
      ]
     },
     "metadata": {},
     "output_type": "display_data"
    }
   ],
   "source": [
    "typeof(histiread) == Matrix{Float64}"
   ]
  },
  {
   "cell_type": "code",
   "execution_count": 39,
   "metadata": {},
   "outputs": [
    {
     "data": {
      "text/plain": [
       "read_init (generic function with 1 method)"
      ]
     },
     "metadata": {},
     "output_type": "display_data"
    }
   ],
   "source": [
    "function read_init()\n",
    "    readfile=open(\"./checkpoint/params.data\",\"r+\")\n",
    "    data=readdlm(readfile)\n",
    "    close(readfile)\n",
    "\n",
    "    paramsvec=data[2,:]\n",
    "    ensemblevec=data[4,:]\n",
    "    potinfovec=data[5:end,:]\n",
    "\n",
    "    mc_params , temp = read_params(paramsvec)\n",
    "    ensemble = readensemble(ensemblevec)\n",
    "    potential=readpotential(potinfovec)\n",
    "\n",
    "    return mc_params , temp,  ensemble , potential\n",
    "end"
   ]
  },
  {
   "cell_type": "code",
   "execution_count": 40,
   "metadata": {},
   "outputs": [
    {
     "data": {
      "text/plain": [
       "(MCParams(1000, 0, 1, 5, 13, 100, 100), TempGrid{5, Float64}([12.0, 12.894839181882503, 13.856406460551018, 14.889677745633595, 16.0], [26314.5821052581, 24488.477972394347, 22789.096593124912, 21207.64402410914, 19735.936578943576]), NVT(13, 13, 0), ELJPotentialB{6, Any}(Any[0.0005742, -0.4032, -0.2101, -0.0595, 0.0606, 0.1608], Any[-0.01336, -0.02005, -0.1051, -0.1268, -0.1405, -0.1751], Any[-0.1132, -1.5012, 35.6955, -268.7494, 729.7605, -583.4203]))"
      ]
     },
     "metadata": {},
     "output_type": "display_data"
    }
   ],
   "source": [
    "param,t,ens,p = read_init()"
   ]
  },
  {
   "cell_type": "code",
   "execution_count": 41,
   "metadata": {},
   "outputs": [
    {
     "data": {
      "text/plain": [
       "setresults (generic function with 1 method)"
      ]
     },
     "metadata": {},
     "output_type": "display_data"
    }
   ],
   "source": [
    "\n",
    "function setresults(histparams,histdata,histv_data,r2data)\n",
    "    results=Output{Float64}(100)\n",
    "    results.en_min,results.en_max=histparams[1],histparams[2]\n",
    "    results.v_min,results.v_max = histparams[3],histparams[4]\n",
    "    results.delta_en_hist,results.delta_v_hist,results.delta_r2=histparams[5],histparams[6],histparams[7]\n",
    "\n",
    "    for row in eachrow(histdata)\n",
    "        push!(results.en_histogram,Vector(row))\n",
    "    end\n",
    "    if typeof(histv_data) == Matrix{Float64}\n",
    "        for row in eachrow(histv_data)\n",
    "            push!(results.ev_histogram,Vector(row))\n",
    "        end\n",
    "    end\n",
    "    if typeof(r2data) == Matrix{Float64}\n",
    "        for row in eachrow(r2data)\n",
    "            push!(results.rdf,Vector(row))\n",
    "        end\n",
    "    end\n",
    "    return results\n",
    "end"
   ]
  },
  {
   "cell_type": "code",
   "execution_count": 42,
   "metadata": {},
   "outputs": [
    {
     "data": {
      "text/plain": [
       "15×6 Matrix{Any}:\n",
       " 13                          \"\"          \"\"          \"\"         \"\"   \"\"\n",
       "   \"SphericalBC{Float64}\"    \"r2:\"    101.07        0.313843   0.1  1.0\n",
       "  1                         4.89613     2.11488     0.933874    \"\"   \"\"\n",
       "  1                         2.79089    -3.66815     1.33276     \"\"   \"\"\n",
       "  1                         3.63541    -0.0394422  -4.22256     \"\"   \"\"\n",
       "  1                         1.35583     6.07098    -2.9757      \"\"   \"\"\n",
       "  1                         1.56013     0.27442     5.08765     \"\"   \"\"\n",
       "  1                        -0.138031    5.62884     2.90903     \"\"   \"\"\n",
       "  1                        -5.3702     -0.45608    -1.34751     \"\"   \"\"\n",
       "  1                        -1.30074    -4.32687    -2.51677     \"\"   \"\"\n",
       "  1                        -2.72309    -3.87989     3.43527     \"\"   \"\"\n",
       "  1                        -1.78038     2.05294    -5.25111     \"\"   \"\"\n",
       "  1                        -4.40868     5.27194    -0.784286    \"\"   \"\"\n",
       "  1                        -3.88662     1.74498     4.40084     \"\"   \"\"\n",
       "  1                        -0.25346     0.798933   -0.0564156   \"\"   \"\""
      ]
     },
     "metadata": {},
     "output_type": "display_data"
    }
   ],
   "source": [
    "configfile=open(\"./checkpoint/config.1\",\"r+\")\n",
    "confinfo = readdlm(configfile)\n",
    "close(configfile)\n",
    "confinfo"
   ]
  },
  {
   "cell_type": "code",
   "execution_count": 43,
   "metadata": {},
   "outputs": [
    {
     "data": {
      "text/plain": [
       "SphericalBC{Float64}(101.06969058367278)"
      ]
     },
     "metadata": {},
     "output_type": "display_data"
    }
   ],
   "source": [
    "N=confinfo[1,1]\n",
    "confinfo[2,1] == \"SphericalBC{Float64}\"\n",
    "boundarycondition = SphericalBC(;radius=sqrt(confinfo[2,3]))"
   ]
  },
  {
   "cell_type": "code",
   "execution_count": 44,
   "metadata": {},
   "outputs": [
    {
     "data": {
      "text/plain": [
       "13-element Vector{Vector{Any}}:\n",
       " [4.896127377364926, 2.11488203932719, 0.9338742100918467, \"\", \"\"]\n",
       " [2.790893083743673, -3.668149909033589, 1.332763013949683, \"\", \"\"]\n",
       " [3.6354125622269713, -0.03944221178347507, -4.222563211848992, \"\", \"\"]\n",
       " [1.355827065063513, 6.070975184045735, -2.9757024257131195, \"\", \"\"]\n",
       " [1.5601344333624718, 0.2744195524847849, 5.0876476771226375, \"\", \"\"]\n",
       " [-0.13803118528924463, 5.6288408892735955, 2.9090297025270697, \"\", \"\"]\n",
       " [-5.3702042518310975, -0.4560801572543972, -1.3475100145922074, \"\", \"\"]\n",
       " [-1.3007430153723032, -4.326874323231836, -2.5167728544419488, \"\", \"\"]\n",
       " [-2.723091684682722, -3.879890619078203, 3.4352728846972167, \"\", \"\"]\n",
       " [-1.7803818217347214, 2.052938875470207, -5.251106320903675, \"\", \"\"]\n",
       " [-4.408683278819288, 5.271942174407318, -0.7842860500489537, \"\", \"\"]\n",
       " [-3.886621304871635, 1.7449783721138086, 4.400840773320395, \"\", \"\"]\n",
       " [-0.2534596603777504, 0.7989329176029321, -0.056415567962122735, \"\", \"\"]"
      ]
     },
     "metadata": {},
     "output_type": "display_data"
    }
   ],
   "source": [
    "posmatrix=confinfo[3:end,2:end]\n",
    "posvecs = [posmatrix[i,:] for i in 1:N ]\n",
    "# testconf = Config(posvecs,boundarycondition)"
   ]
  },
  {
   "cell_type": "code",
   "execution_count": 45,
   "metadata": {},
   "outputs": [
    {
     "data": {
      "text/plain": [
       "true"
      ]
     },
     "metadata": {},
     "output_type": "display_data"
    }
   ],
   "source": [
    "testingvectors = [confinfo[2+i,2:end] for i in 1:N]\n",
    "testingvectors == posvecs"
   ]
  },
  {
   "cell_type": "code",
   "execution_count": 46,
   "metadata": {},
   "outputs": [
    {
     "data": {
      "text/plain": [
       "read_checkpoint_config (generic function with 1 method)"
      ]
     },
     "metadata": {},
     "output_type": "display_data"
    }
   ],
   "source": [
    "\n",
    "function read_checkpoint_config(xyzdata)\n",
    "    N=xyzdata[1,1]\n",
    "    if confinfo[2,1] == \"SphericalBC{Float64}\"\n",
    "        bc = SphericalBC(;radius=sqrt(confinfo[2,3]))\n",
    "        \n",
    "        max_displ = [confinfo[2,4:6]]\n",
    "    elseif confinfo[2,1] == \"CubicBC{Float64}\"\n",
    "        bc = CubicBC(confinfo[2,3])\n",
    "\n",
    "        max_displ = [confinfo[2,4:6]]\n",
    "    elseif confinfo[2,1] == \"RhombicBC\"\n",
    "        bc = RhombicBC(confinfo[2,3],confinfo[2,4])\n",
    "        max_displ = [confinfo[2,5:7]]\n",
    "    end\n",
    "    configvectors = [xyzdata[2+i,2:4] for i in 1:N]\n",
    "\n",
    "    config=Config(configvectors,bc)\n",
    "\n",
    "    return config , max_displ\n",
    "end"
   ]
  },
  {
   "cell_type": "code",
   "execution_count": 47,
   "metadata": {},
   "outputs": [
    {
     "data": {
      "text/plain": [
       "(Config{13, SphericalBC{Float64}, Float64}(SVector{3, Float64}[[4.896127377364926, 2.11488203932719, 0.9338742100918467], [2.790893083743673, -3.668149909033589, 1.332763013949683], [3.6354125622269713, -0.03944221178347507, -4.222563211848992], [1.355827065063513, 6.070975184045735, -2.9757024257131195], [1.5601344333624718, 0.2744195524847849, 5.0876476771226375], [-0.13803118528924463, 5.6288408892735955, 2.9090297025270697], [-5.3702042518310975, -0.4560801572543972, -1.3475100145922074], [-1.3007430153723032, -4.326874323231836, -2.5167728544419488], [-2.723091684682722, -3.879890619078203, 3.4352728846972167], [-1.7803818217347214, 2.052938875470207, -5.251106320903675], [-4.408683278819288, 5.271942174407318, -0.7842860500489537], [-3.886621304871635, 1.7449783721138086, 4.400840773320395], [-0.2534596603777504, 0.7989329176029321, -0.056415567962122735]], SphericalBC{Float64}(101.06969058367278)), Vector{Any}[[0.3138428376721002, 0.1, 1.0]])"
      ]
     },
     "metadata": {},
     "output_type": "display_data"
    }
   ],
   "source": [
    "testingconf,testingdispl = read_checkpoint_config(confinfo)\n"
   ]
  },
  {
   "cell_type": "code",
   "execution_count": 48,
   "metadata": {},
   "outputs": [
    {
     "data": {
      "text/plain": [
       "true"
      ]
     },
     "metadata": {},
     "output_type": "display_data"
    }
   ],
   "source": [
    "typeof(ensemble) == NVT"
   ]
  },
  {
   "cell_type": "code",
   "execution_count": 49,
   "metadata": {},
   "outputs": [
    {
     "data": {
      "text/plain": [
       "rebuild_states (generic function with 1 method)"
      ]
     },
     "metadata": {},
     "output_type": "display_data"
    }
   ],
   "source": [
    "function rebuild_states(n_traj,ensemble,temps,potential)\n",
    "    histinfofile=open(\"./checkpoint/hist_info.data\",\"r+\")\n",
    "    histsfile=open(\"./checkpoint/histograms.data\",\"r+\")\n",
    "    dataread = readdlm(histinfofile)\n",
    "    histiread=readdlm(histsfile)\n",
    "    close(histinfofile)\n",
    "    close(histsfile)\n",
    "    if isfile(\"./checkpoint/rdf.data\") == true\n",
    "        rdffile = open(\"./checkpoint/rdf.data\",\"r+\")\n",
    "        rdfinfo= readdlm(rdffile)\n",
    "        close(rdffile)\n",
    "    else\n",
    "        rdfinfo = false\n",
    "    end\n",
    "    if typeof(ensemble) == NPT\n",
    "        ev_file = open(\"./checkpoint/volume_hist.data\",\"r+\")\n",
    "        ev_info = readdlm(ev_file)\n",
    "        close(ev_file)\n",
    "    else\n",
    "        ev_info = false\n",
    "    end\n",
    "    results = setresults(dataread[2,:],histiread,ev_info,rdfinfo)\n",
    "    mcstates = []\n",
    "    for index in 1:n_traj\n",
    "        configfile = open(\"./checkpoint/config.$index\",\"r+\")\n",
    "        configinfo=readdlm(configfile)\n",
    "        close(configfile)\n",
    "        conf,maxdisp = read_checkpoint_config(configinfo)\n",
    "\n",
    "        state = MCState(temps.t_grid[index],temps.beta_grid[index],conf,ensemble,potential;max_displ=maxdisp[1])\n",
    "        push!(mcstates,state)\n",
    "    end\n",
    "    return mcstates,results\n",
    "end\n"
   ]
  },
  {
   "cell_type": "code",
   "execution_count": 50,
   "metadata": {},
   "outputs": [
    {
     "data": {
      "text/plain": [
       "(Any[MCState{Float64, 13, SphericalBC{Float64}, DimerPotentialVariables{Float64}, NVTVariables{Float64}}(12.0, 26314.5821052581, Config{13, SphericalBC{Float64}, Float64}(SVector{3, Float64}[[4.896127377364926, 2.11488203932719, 0.9338742100918467], [2.790893083743673, -3.668149909033589, 1.332763013949683], [3.6354125622269713, -0.03944221178347507, -4.222563211848992], [1.355827065063513, 6.070975184045735, -2.9757024257131195], [1.5601344333624718, 0.2744195524847849, 5.0876476771226375], [-0.13803118528924463, 5.6288408892735955, 2.9090297025270697], [-5.3702042518310975, -0.4560801572543972, -1.3475100145922074], [-1.3007430153723032, -4.326874323231836, -2.5167728544419488], [-2.723091684682722, -3.879890619078203, 3.4352728846972167], [-1.7803818217347214, 2.052938875470207, -5.251106320903675], [-4.408683278819288, 5.271942174407318, -0.7842860500489537], [-3.886621304871635, 1.7449783721138086, 4.400840773320395], [-0.2534596603777504, 0.7989329176029321, -0.056415567962122735]], SphericalBC{Float64}(101.06969058367278)), [0.0 38.034582224643586 … 89.29336028889071 29.230642594772416; 38.034582224643586 0.0 … 83.30425733586745 31.152729743113063; … ; 89.29336028889071 83.30425733586745 … 0.0 33.96199962892542; 29.230642594772416 31.152729743113063 … 33.96199962892542 0.0], [0.0, 0.0, 0.0, 0.0, 0.0, 0.0, 0.0, 0.0, 0.0, 0.0, 0.0, 0.0, 0.0], 0.0, -0.005058254652556818, DimerPotentialVariables{Float64}([-0.0006907784512631213, -0.0007363011291861072, -0.0006861030694682029, -0.0006883993623680893, -0.0007523140918152557, -0.0007700351321979731, -0.0007427606035359824, -0.0006983386444316665, -0.0007450433339503822, -0.0007311481049471873, -0.0007643574973801526, -0.0007752654417503836, -0.0013356644428191313]), NVTVariables{Float64}(1, [0.0, 0.0, 0.0]), Float64[], [0.3138428376721002, 0.1, 1.0], 30.0, [0, 0], [0, 0], [0, 0]), MCState{Float64, 13, SphericalBC{Float64}, DimerPotentialVariables{Float64}, NVTVariables{Float64}}(12.894839181882503, 24488.477972394347, Config{13, SphericalBC{Float64}, Float64}(SVector{3, Float64}[[5.644073388935482, 1.5104511105435958, -1.0619997682718232], [3.8199153368261145, -4.23071536933792, 1.5160250550099483], [3.6987864350925403, -1.3510316203732085, -5.849835773889459], [0.9042462390309257, 4.318546914319941, -4.113418285913705], [3.438888943842333, 0.617765539738345, 5.202943073233276], [1.2672988398439515, 4.844248370437212, 1.8354398943887311], [-5.067602126699, -2.3166200287824936, -0.8568967310866751], [-0.447810578852202, -5.36591513504066, -4.123265846384224], [-2.6319299045588673, -6.2886719732030105, 2.487648225570428], [-3.4392689529288947, 0.29394082989750553, -5.668526203074286], [-3.7512422560149608, 3.1491264606059253, -0.9768220174857144], [-3.2243038998720435, 0.8232050914511229, 4.063421140548144], [0.20782660647360932, -0.5164637897436958, -0.6451536447853541]], SphericalBC{Float64}(101.06969058367278)), [0.0 42.93475713824756 … 105.39036231996447 33.8349237834994; 42.93475713824756 0.0 … 81.65236349526583 31.51354316490668; … ; 105.39036231996447 81.65236349526583 … 0.0 35.744909032908645; 33.8349237834994 31.51354316490668 … 35.744909032908645 0.0], [0.0, 0.0, 0.0, 0.0, 0.0, 0.0, 0.0, 0.0, 0.0, 0.0, 0.0, 0.0, 0.0], 0.0, -0.0044965504198605935, DimerPotentialVariables{Float64}([-0.000706358501406194, -0.0005535465614094506, -0.000575980809604223, -0.0007522946021207169, -0.0005369531189458025, -0.0007717139619288335, -0.0007563844268983018, -0.0006130865797658905, -0.0004151337150914885, -0.000641364679601102, -0.0007103796587006628, -0.0006458718152205468, -0.0013140324090279785]), NVTVariables{Float64}(1, [0.0, 0.0, 0.0]), Float64[], [0.3138428376721002, 0.1, 1.0], 30.0, [0, 0], [0, 0], [0, 0]), MCState{Float64, 13, SphericalBC{Float64}, DimerPotentialVariables{Float64}, NVTVariables{Float64}}(13.856406460551018, 22789.096593124912, Config{13, SphericalBC{Float64}, Float64}(SVector{3, Float64}[[4.317777586641653, 1.927635038806485, 2.5117775023243625], [2.6314476920153616, -4.169219641467464, 1.1804353160343823], [4.344658705794098, -0.709433860168559, -3.1394981516513463], [3.034753312660528, 4.850496343254319, -2.362035064258666], [0.28721915341812143, -0.11900891911483621, 5.604591506649263], [-0.11613222508108029, 5.629251504241107, 3.258869360689952], [-5.211136599871529, -0.733505617331539, -2.541689298284459], [-0.47983954952330726, -4.366543532539573, -3.3028215477999345], [-3.5248946248271436, -3.9125519572616025, 2.1884127297795057], [-0.38738919703406427, 1.1425152980960633, -5.163870706403187], [-3.4243896810178636, 4.953888589701831, -1.7844338723281847], [-4.996806931878189, 1.600485738759559, 3.0246467581660226], [-0.543573120646175, 0.33292081729384715, 0.2248129091854311]], SphericalBC{Float64}(101.06969058367278)), [0.0 41.78781752288406 … 87.1315462907583 31.406051197813643; 41.78781752288406 0.0 … 94.88088462486326 31.26324005572122; … ; 87.1315462907583 94.88088462486326 … 0.0 29.27708178952786; 31.406051197813643 31.26324005572122 … 29.27708178952786 0.0], [0.0, 0.0, 0.0, 0.0, 0.0, 0.0, 0.0, 0.0, 0.0, 0.0, 0.0, 0.0, 0.0], 0.0, -0.005148503994983229, DimerPotentialVariables{Float64}([-0.0007462529628531658, -0.0007094636363505968, -0.0007653676713065213, -0.0007393400918612887, -0.0006815882516111539, -0.0007419386315519951, -0.0007936887555578254, -0.0007588535659874957, -0.0007456909748217262, -0.0007669096186171006, -0.000784995721974397, -0.0007378241611558608, -0.001325093946317332]), NVTVariables{Float64}(1, [0.0, 0.0, 0.0]), Float64[], [0.3138428376721002, 0.1, 1.0], 30.0, [0, 0], [0, 0], [0, 0]), MCState{Float64, 13, SphericalBC{Float64}, DimerPotentialVariables{Float64}, NVTVariables{Float64}}(14.889677745633595, 21207.64402410914, Config{13, SphericalBC{Float64}, Float64}(SVector{3, Float64}[[5.8586756852097315, 2.056069522014913, 0.833293799082918], [3.852687877594683, -4.826749802893161, 2.9483686632137474], [4.256846328994287, -1.4748263481974944, -3.396698144574295], [1.9548697349670048, 3.837672113059144, -4.160040286991471], [2.116862569937151, 0.14188084392984063, 6.003998338675406], [1.6976650302774714, 5.769518992667392, 0.837968088342949], [-5.070579928652862, -2.4896050542973818, -1.268194520892453], [0.4399254449188433, -5.090975723429841, -1.6803744655982178], [-2.2524827864981374, -3.7859820888282543, 3.7836236081935177], [-1.4459129700877813, -1.272339950981222, -5.908025255919137], [-3.917229751615904, 3.66761888167153, -1.7529173531045923], [-3.747516418498188, 1.554790487273154, 3.8716466580744338], [0.12314869585592778, -0.33219022998566183, 0.6471087362222646]], SphericalBC{Float64}(101.06969058367278)), [0.0 55.870730624506315 … 101.76179549975392 38.63471936626418; 55.870730624506315 0.0 … 99.33960407315848 39.40632551411588; … ; 101.76179549975392 99.33960407315848 … 0.0 28.940389464247257; 38.63471936626418 39.40632551411588 … 28.940389464247257 0.0], [0.0, 0.0, 0.0, 0.0, 0.0, 0.0, 0.0, 0.0, 0.0, 0.0, 0.0, 0.0, 0.0], 0.0, -0.0044141988813590416, DimerPotentialVariables{Float64}([-0.0006235521828292312, -0.0006132240780262384, -0.0007229260280880723, -0.0006263874587707291, -0.0006341113944567751, -0.0005072354502637861, -0.0007452017989636471, -0.0006938800884697886, -0.0006214325090426121, -0.0006591617527873114, -0.0006784238081620025, -0.0005798748454464223, -0.0011229863674114676]), NVTVariables{Float64}(1, [0.0, 0.0, 0.0]), Float64[], [0.3138428376721002, 0.1, 1.0], 30.0, [0, 0], [0, 0], [0, 0]), MCState{Float64, 13, SphericalBC{Float64}, DimerPotentialVariables{Float64}, NVTVariables{Float64}}(16.0, 19735.936578943576, Config{13, SphericalBC{Float64}, Float64}(SVector{3, Float64}[[4.963624455902856, 1.2327782620375956, 0.7083734112938176], [3.345547324752938, -3.7791696772945573, 1.8483266636022095], [4.214544151134504, -3.370052516125082, -3.3987542899189433], [2.27655454149179, 1.9974014746734228, -5.222240789386033], [0.4033296769550114, 1.8033856234455798, 5.148514724101126], [0.9518929066935258, 5.393590669703319, 0.8097090243257967], [-6.1274901347399915, -2.381976530273954, -0.3645255685503517], [-0.8178344157859587, -5.777073481000064, -1.8610019028515246], [-2.1762147491534045, -4.148490561056071, 3.357944065408439], [-2.718266358605151, -1.2438046908430052, -5.601856100077925], [-4.261623901238926, 5.635504407306857, -1.387318207565269], [-4.4372727846542155, 2.1620127742554267, 2.828646436180954], [-0.8031282651771849, -0.17692099695912855, -0.38292806939123053]], SphericalBC{Float64}(101.06969058367278)), [0.0 29.03728916637464 … 93.73590340627433 36.43362786864535; 29.03728916637464 0.0 … 96.8309646345067 35.16620238896603; … ; 93.73590340627433 96.8309646345067 … 0.0 28.991828379414102; 36.43362786864535 35.16620238896603 … 28.991828379414102 0.0], [0.0, 0.0, 0.0, 0.0, 0.0, 0.0, 0.0, 0.0, 0.0, 0.0, 0.0, 0.0, 0.0], 0.0, -0.004440047352164318, DimerPotentialVariables{Float64}([-0.0006892196067669713, -0.0006169409002977703, -0.0005855916199470087, -0.0006058656153998461, -0.0006126464827361875, -0.0006991510168112827, -0.0006534731916089468, -0.0007724587026883844, -0.0007080654552848473, -0.0005944961069178414, -0.00039532333270991165, -0.0005785460411169735, -0.0013683166320426622]), NVTVariables{Float64}(1, [0.0, 0.0, 0.0]), Float64[], [0.3138428376721002, 0.1, 1.0], 30.0, [0, 0], [0, 0], [0, 0])], Output{Float64}(100, -0.005629968816941956, -0.0048562958900107605, 0.0, 0.0, 7.814878049810056e-6, 0.0, 0.8085575246693824, Float64[], Float64[], Float64[], [[0.0, 0.0, 0.0, 0.0, 0.0, 0.0, 0.0, 0.0, 0.0, 0.0  …  23.0, 15.0, 17.0, 17.0, 18.0, 21.0, 23.0, 9.0, 16.0, 339.0], [0.0, 0.0, 0.0, 0.0, 0.0, 0.0, 0.0, 0.0, 0.0, 0.0  …  17.0, 13.0, 12.0, 13.0, 17.0, 18.0, 25.0, 14.0, 18.0, 504.0], [0.0, 0.0, 0.0, 0.0, 0.0, 0.0, 0.0, 0.0, 0.0, 0.0  …  8.0, 16.0, 12.0, 7.0, 10.0, 11.0, 14.0, 19.0, 13.0, 589.0], [0.0, 0.0, 0.0, 0.0, 0.0, 0.0, 0.0, 0.0, 0.0, 0.0  …  7.0, 20.0, 14.0, 8.0, 13.0, 12.0, 13.0, 7.0, 15.0, 560.0], [0.0, 0.0, 0.0, 0.0, 0.0, 0.0, 0.0, 0.0, 0.0, 0.0  …  8.0, 8.0, 10.0, 9.0, 9.0, 4.0, 6.0, 6.0, 10.0, 777.0]], Matrix{Float64}[], Vector{Float64}[], Float64[], Float64[], Float64[], Float64[]))"
      ]
     },
     "metadata": {},
     "output_type": "display_data"
    }
   ],
   "source": [
    "testingstates,testoutput = rebuild_states(5,ensemble,temp,pot)"
   ]
  },
  {
   "cell_type": "code",
   "execution_count": 51,
   "metadata": {},
   "outputs": [
    {
     "data": {
      "text/plain": [
       "MCState{Float64, 13, SphericalBC{Float64}, DimerPotentialVariables{Float64}, NVTVariables{Float64}}(12.0, 26314.5821052581, Config{13, SphericalBC{Float64}, Float64}(SVector{3, Float64}[[4.896127377364926, 2.11488203932719, 0.9338742100918467], [2.790893083743673, -3.668149909033589, 1.332763013949683], [3.6354125622269713, -0.03944221178347507, -4.222563211848992], [1.355827065063513, 6.070975184045735, -2.9757024257131195], [1.5601344333624718, 0.2744195524847849, 5.0876476771226375], [-0.13803118528924463, 5.6288408892735955, 2.9090297025270697], [-5.3702042518310975, -0.4560801572543972, -1.3475100145922074], [-1.3007430153723032, -4.326874323231836, -2.5167728544419488], [-2.723091684682722, -3.879890619078203, 3.4352728846972167], [-1.7803818217347214, 2.052938875470207, -5.251106320903675], [-4.408683278819288, 5.271942174407318, -0.7842860500489537], [-3.886621304871635, 1.7449783721138086, 4.400840773320395], [-0.2534596603777504, 0.7989329176029321, -0.056415567962122735]], SphericalBC{Float64}(101.06969058367278)), [0.0 38.034582224643586 … 89.29336028889071 29.230642594772416; 38.034582224643586 0.0 … 83.30425733586745 31.152729743113063; … ; 89.29336028889071 83.30425733586745 … 0.0 33.96199962892542; 29.230642594772416 31.152729743113063 … 33.96199962892542 0.0], [0.0, 0.0, 0.0, 0.0, 0.0, 0.0, 0.0, 0.0, 0.0, 0.0, 0.0, 0.0, 0.0], 0.0, -0.005058254652556818, DimerPotentialVariables{Float64}([-0.0006907784512631213, -0.0007363011291861072, -0.0006861030694682029, -0.0006883993623680893, -0.0007523140918152557, -0.0007700351321979731, -0.0007427606035359824, -0.0006983386444316665, -0.0007450433339503822, -0.0007311481049471873, -0.0007643574973801526, -0.0007752654417503836, -0.0013356644428191313]), NVTVariables{Float64}(1, [0.0, 0.0, 0.0]), Float64[], [0.3138428376721002, 0.1, 1.0], 30.0, [0, 0], [0, 0], [0, 0])"
      ]
     },
     "metadata": {},
     "output_type": "display_data"
    }
   ],
   "source": [
    "testingstates[1]"
   ]
  },
  {
   "cell_type": "code",
   "execution_count": 52,
   "metadata": {},
   "outputs": [],
   "source": []
  }
 ],
 "metadata": {
  "kernelspec": {
   "display_name": "Julia 1.10.1",
   "language": "julia",
   "name": "julia-1.10"
  },
  "language_info": {
   "file_extension": ".jl",
   "mimetype": "application/julia",
   "name": "julia",
   "version": "1.10.1"
  }
 },
 "nbformat": 4,
 "nbformat_minor": 2
}
