{
 "cells": [
  {
   "cell_type": "code",
   "execution_count": 1,
   "metadata": {},
   "outputs": [],
   "source": [
    "using ParallelTemperingMonteCarlo, StaticArrays, DelimitedFiles"
   ]
  },
  {
   "cell_type": "markdown",
   "metadata": {},
   "source": [
    "Broadly we need to save:\n",
    "\n",
    "-Params which do not change\n",
    "\n",
    "-Configs (the BC may change?)\n",
    "\n",
    "-Results"
   ]
  },
  {
   "cell_type": "code",
   "execution_count": null,
   "metadata": {},
   "outputs": [],
   "source": [
    "# function writeconfig(savefile , config{N,BC,T}, ) where {N,BC,T}\n",
    "#     for row in config.pos\n",
    "#         write(savefile, \"$(row[1]) $(row[2]) $(ro2[3]) \\n\")\n",
    "# end\n",
    "\n"
   ]
  },
  {
   "cell_type": "markdown",
   "metadata": {},
   "source": [
    "Beginning with the static parameters which do not change:"
   ]
  },
  {
   "cell_type": "code",
   "execution_count": null,
   "metadata": {},
   "outputs": [],
   "source": [
    "\n",
    "function writeparams(savefile, params, temp)# , ensemble, pot)\n",
    "    write(savefile,\"cycles: sample_rate: n_traj: n_atoms: t_i: t_f \\n\")\n",
    "    write(savefile, \"$(params.mc_cycles) $(params.mc_sample) $(params.n_traj) $(params.n_atoms) $(first(temp.t_grid)) $(last(temp.t_grid)) \\n\")\n",
    "end\n",
    " "
   ]
  },
  {
   "cell_type": "code",
   "execution_count": null,
   "metadata": {},
   "outputs": [],
   "source": [
    "function writeensemble(savefile,ensemble::NVT)\n",
    "    write(savefile,\"NVT: $(ensemble.n_atoms) $(ensemble.n_atom_moves) $(ensemble.n_atom_swaps) \\n\")\n",
    "end\n",
    "function writeensemble(savefile,ensemble::NPT)\n",
    "    write(savefile,\"NPT: $(ensemble.n_atoms) $(ensemble.n_atom_moves) $(ensemble.n_volume_moves) $(ensemble.n_atom_swaps) $(ensemble.pressure) \\n\")\n",
    "end"
   ]
  },
  {
   "cell_type": "code",
   "execution_count": null,
   "metadata": {},
   "outputs": [],
   "source": [
    "function writepotential(savefile,potential::Ptype) where Ptype <: AbstractDimerPotential\n",
    "    write(savefile,\"ELJ: $(potential.coeff) \\n\")\n",
    "end\n",
    "function writepotential(savefile,potential::Ptype) where Ptype <: AbstractDimerPotentialB\n",
    "    write(savefile,\"ELJB: $(potential.coeff_a) $(potential.coeff_b) $(potential.coeff_c) \\n\")\n",
    "end\n",
    "function writepotential(savefile,potential::Ptype) where Ptype <: EmbeddedAtomPotential\n",
    "    write(savefile,\"EAM: $(potential.n) $(potential.m) $(potential.ean) $(potential.eCam) \\n\")\n",
    "end \n",
    "function writepotential(savefile,potential::Ptype) where Ptype <: AbstractMachineLearningPotential\n",
    "    write(\"Define the potential elsewhere, it's too complicated for simple I/O \\n\")\n",
    "end"
   ]
  },
  {
   "cell_type": "code",
   "execution_count": null,
   "metadata": {},
   "outputs": [],
   "source": [
    "function "
   ]
  }
 ],
 "metadata": {
  "kernelspec": {
   "display_name": "Julia 1.10.1",
   "language": "julia",
   "name": "julia-1.10"
  },
  "language_info": {
   "file_extension": ".jl",
   "mimetype": "application/julia",
   "name": "julia",
   "version": "1.10.1"
  }
 },
 "nbformat": 4,
 "nbformat_minor": 2
}
