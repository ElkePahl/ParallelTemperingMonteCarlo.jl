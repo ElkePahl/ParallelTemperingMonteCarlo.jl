{
 "cells": [
  {
   "cell_type": "code",
   "execution_count": 1,
   "metadata": {},
   "outputs": [],
   "source": [
    "using Revise,DelimitedFiles,Random,StaticArrays\n",
    "using ParallelTemperingMonteCarlo,StructArrays\n",
    "using BenchmarkTools\n"
   ]
  },
  {
   "cell_type": "markdown",
   "metadata": {},
   "source": [
    "Ensemble, potential, params etc"
   ]
  },
  {
   "cell_type": "code",
   "execution_count": 16,
   "metadata": {},
   "outputs": [
    {
     "data": {
      "text/plain": [
       "Config{38, SphericalBC{Float64}, Float64}(SVector{3, Float64}[[2.3603476948363165, 2.3603476948363165, 0.0], [6.994369407022418, 2.33998871029911, 0.0], [2.33998871029911, 6.994369407022418, 0.0], [-2.3603476948363165, 2.3603476948363165, 0.0], [-6.994369407022418, 2.33998871029911, 0.0], [-2.33998871029911, 6.994369407022418, 0.0], [-2.3603476948363165, -2.3603476948363165, 0.0], [-6.994369407022418, -2.33998871029911, 0.0], [-2.33998871029911, -6.994369407022418, 0.0], [2.3603476948363165, -2.3603476948363165, 0.0]  …  [-4.667179058660764, -4.667179058660764, -3.2911441531516483], [4.667179058660764, -4.667179058660764, -3.2911441531516483], [2.327190348361654, 2.327190348361654, 6.600387922922003], [-2.327190348361654, 2.327190348361654, 6.600387922922003], [-2.327190348361654, -2.327190348361654, 6.600387922922003], [2.327190348361654, -2.327190348361654, 6.600387922922003], [2.327190348361654, 2.327190348361654, -6.600387922922003], [-2.327190348361654, 2.327190348361654, -6.600387922922003], [-2.327190348361654, -2.327190348361654, -6.600387922922003], [2.327190348361654, -2.327190348361654, -6.600387922922003]], SphericalBC{Float64}(699.9286051500884))"
      ]
     },
     "metadata": {},
     "output_type": "display_data"
    }
   ],
   "source": [
    "n_atoms = 38\n",
    "\n",
    "ti = 300.\n",
    "tf = 1300.\n",
    "n_traj = 28\n",
    "\n",
    "temp = TempGrid{n_traj}(ti,tf) \n",
    "\n",
    "mc_cycles = 10000\n",
    "mc_sample = 1\n",
    "\n",
    "displ_atom = 0.1 # Angstrom\n",
    "n_adjust = 100\n",
    "\n",
    "max_displ_atom = [0.1*sqrt(displ_atom*temp.t_grid[i]) for i in 1:n_traj]\n",
    "\n",
    "mc_params = MCParams(mc_cycles, n_traj, n_atoms, mc_sample = mc_sample, n_adjust = n_adjust)\n",
    "\n",
    "evtohartree = 0.0367493\n",
    "nmtobohr = 18.8973\n",
    "\n",
    "#parameters taken from L Vocadlo etal J Chem Phys V120N6 2004\n",
    "n = 8.482\n",
    "m = 4.692\n",
    "ϵ = evtohartree*0.0370\n",
    "a = 0.25*nmtobohr\n",
    "C = 27.561\n",
    "\n",
    "pot = EmbeddedAtomPotential(n,m,ϵ,C,a)\n",
    "ensemble = NVT(n_atoms)\n",
    "move_strat = MoveStrategy(ensemble)\n",
    "\n",
    "\n",
    "\n",
    "pos_cu38 = [[2.3603476948363165, 2.3603476948363165, 0.0],\n",
    "[6.994369407022418, 2.33998871029911, 0.0],\n",
    "[2.33998871029911, 6.994369407022418, 0.0],\n",
    "[-2.3603476948363165, 2.3603476948363165, 0.0],\n",
    "[-6.994369407022418, 2.33998871029911, 0.0],\n",
    "[-2.33998871029911, 6.994369407022418, 0.0],\n",
    "[-2.3603476948363165, -2.3603476948363165, 0.0],\n",
    "[-6.994369407022418, -2.33998871029911, 0.0],\n",
    "[-2.33998871029911, -6.994369407022418, 0.0],\n",
    "[2.3603476948363165, -2.3603476948363165, 0.0],\n",
    "[6.994369407022418, -2.33998871029911, 0.0],\n",
    "[2.33998871029911, -6.994369407022418, 0.0],\n",
    "[0.0, 0.0, 3.3380357219419614],\n",
    "[4.84532317769689, 0.0, 3.4261608756649893],\n",
    "[-4.84532317769689, 0.0, 3.4261608756649893],\n",
    "[0.0, 4.84532317769689, 3.4261608756649893],\n",
    "[0.0, -4.84532317769689, 3.4261608756649893],\n",
    "[4.667179058660764, 4.667179058660764, 3.2911441531516483],\n",
    "[-4.667179058660764, 4.667179058660764, 3.2911441531516483],\n",
    "[-4.667179058660764, -4.667179058660764, 3.2911441531516483],\n",
    "[4.667179058660764, -4.667179058660764, 3.2911441531516483],\n",
    "[0.0, 0.0, -3.3380357219419614],\n",
    "[4.84532317769689, 0.0, -3.4261608756649893],\n",
    "[-4.84532317769689, 0.0, -3.4261608756649893],\n",
    "[0.0, 4.84532317769689, -3.4261608756649893],\n",
    "[0.0, -4.84532317769689, -3.4261608756649893],\n",
    "[4.667179058660764, 4.667179058660764, -3.2911441531516483],\n",
    "[-4.667179058660764, 4.667179058660764, -3.2911441531516483],\n",
    "[-4.667179058660764, -4.667179058660764, -3.2911441531516483],\n",
    "[4.667179058660764, -4.667179058660764, -3.2911441531516483], \n",
    "[2.327190348361654, 2.327190348361654, 6.600387922922003],\n",
    "[-2.327190348361654, 2.327190348361654, 6.600387922922003],\n",
    "[-2.327190348361654, -2.327190348361654, 6.600387922922003],\n",
    "[2.327190348361654, -2.327190348361654, 6.600387922922003],\n",
    "[2.327190348361654, 2.327190348361654, -6.600387922922003],\n",
    "[-2.327190348361654, 2.327190348361654, -6.600387922922003],\n",
    "[-2.327190348361654, -2.327190348361654, -6.600387922922003],\n",
    "[2.327190348361654, -2.327190348361654, -6.600387922922003]]\n",
    "\n",
    "n_bin = 100\n",
    "AtoBohr = 1.8897259886\n",
    "\n",
    "bc_cu38 = SphericalBC(radius=14*AtoBohr) \n",
    "start_config = Config(pos_cu38, bc_cu38)\n"
   ]
  },
  {
   "cell_type": "markdown",
   "metadata": {},
   "source": [
    "RunnerPotential"
   ]
  },
  {
   "cell_type": "code",
   "execution_count": 14,
   "metadata": {},
   "outputs": [
    {
     "data": {
      "text/plain": [
       "RuNNerPotential2Atom{5, 26, 30, 8}(NeuralNetworkPotential(4, 2221, Int32[88, 20, 20, 1], Int32[1, 2, 2, 1], [-1.0768943782, 0.3563458393, -1.3084861447, 0.1127640916, -0.5646591931, -0.4969830793, 1.423770514, -0.2005662393, -0.8957859374, 0.6076110858  …  0.1939524848, -0.0342903191, -0.0231042009, 0.0718481968, -0.0828320122, -0.0728501885, 0.0306628826, 0.0486053813, -0.0867018862, 0.0441651841]), NeuralNetworkPotential(4, 2221, Int32[88, 20, 20, 1], Int32[1, 2, 2, 1], [-0.2990596476, 0.50210302, -0.0769338744, -1.1006272074, 0.2955859359, 1.7429579447, -1.6013368538, 0.2350663304, 0.5352038521, 0.0051334333  …  -0.07023029, -0.0274223406, 0.0379881304, 0.1032826216, -0.0671415566, 0.0873441204, 0.0024981831, -0.1005392202, 0.011513595, -0.0270711056]), RadialType2{Float64}[RadialType2{Float64}(0.001, 11.338, 2, -0.029892621990594427, 0.06634475788973929), RadialType2{Float64}(0.02, 11.338, 2, -0.0, 0.09828103647521905), RadialType2{Float64}(0.035, 11.338, 2, -0.013430592462258787, 0.13321466604629645), RadialType2{Float64}(0.1, 11.338, 2, -0.0, 0.18618835781674212), RadialType2{Float64}(0.4, 11.338, 2, -0.0067056953127401205, 0.2093521117141925)], AngularType3{Float64}[AngularType3{Float64}(0.0001, 1.0, 1.0, 11.338, 2, 0.0245373592605483, -0.00048489009301811386), AngularType3{Float64}(0.0001, -1.0, 2.0, 11.338, 2, 0.029473895516391357, -0.0), AngularType3{Float64}(0.003, -1.0, 1.0, 11.338, 2, 0.056554764826313726, -0.0), AngularType3{Float64}(0.003, -1.0, 2.0, 11.338, 2, 0.07460002966935685, -4.458067933028898e-5), AngularType3{Float64}(0.008, -1.0, 1.0, 11.338, 2, 0.2926922234481685, -0.0), AngularType3{Float64}(0.008, -1.0, 2.0, 11.338, 2, 0.13841158304242196, -0.0), AngularType3{Float64}(0.008, 1.0, 2.0, 11.338, 2, 0.0440645064240095, -9.864095337151784e-5), AngularType3{Float64}(0.015, 1.0, 1.0, 11.338, 2, 0.18617200440907658, -0.0), AngularType3{Float64}(0.015, -1.0, 2.0, 11.338, 2, 0.08462444898878149, -0.0), AngularType3{Float64}(0.015, -1.0, 4.0, 11.338, 2, 0.025624623133158282, -3.093671000715453e-5)  …  AngularType3{Float64}(0.025, 1.0, 16.0, 11.338, 2, 1.9397419240852914e-5, -0.0), AngularType3{Float64}(0.045, 1.0, 1.0, 11.338, 2, 0.6452041227185932, -0.0), AngularType3{Float64}(0.045, -1.0, 2.0, 11.338, 2, 0.03521938096049282, -0.00023271783567493384), AngularType3{Float64}(0.045, -1.0, 4.0, 11.338, 2, 0.020561209299056995, -0.0), AngularType3{Float64}(0.045, 1.0, 4.0, 11.338, 2, 0.020232217323448855, -0.0), AngularType3{Float64}(0.045, 1.0, 16.0, 11.338, 2, 3.225383244744776e-6, -8.625202830389295e-5), AngularType3{Float64}(0.08, 1.0, 1.0, 11.338, 2, 0.22823922265277644, -0.0), AngularType3{Float64}(0.08, -1.0, 2.0, 11.338, 2, 0.11378274948801222, -0.0), AngularType3{Float64}(0.08, -1.0, 4.0, 11.338, 2, 0.08708455754482075, -6.436593817252792e-6), AngularType3{Float64}(0.08, 1.0, 4.0, 11.338, 2, 0.15176141467076115, -0.0)], 11.338)"
      ]
     },
     "metadata": {},
     "output_type": "display_data"
    }
   ],
   "source": [
    "script_folder = @__DIR__ # folder where this script is located\n",
    "data_path = joinpath(script_folder, \"data\") # path to data files, so \"./data/\"\n",
    "\n",
    "X = [ 2              0.001   0.000  11.338\n",
    " #10              0.001   0.000  11.338\n",
    " 2              0.020   0.000  11.338\n",
    " #10              0.020   0.000  11.338\n",
    " 2              0.035   0.000  11.338\n",
    " #10              0.035   0.000  11.338\n",
    " 2              0.100   0.000  11.338\n",
    " #10              0.100   0.000  11.338\n",
    " 2              0.400   0.000  11.338\n",
    " #10              0.400   0.000  11.338\n",
    " ]\n",
    "\n",
    "radsymmvec = []\n",
    "\n",
    "\n",
    "#--------------------------------------------#\n",
    "#--------Vector of angular symm values-------#\n",
    "#--------------------------------------------#\n",
    "V = [[0.0001,1,1,11.338],[0.0001,-1,2,11.338],[0.003,-1,1,11.338],[0.003,-1,2,11.338],[0.008,-1,1,11.338],[0.008,-1,2,11.338],[0.008,1,2,11.338],[0.015,1,1,11.338],[0.015,-1,2,11.338],[0.015,-1,4,11.338],[0.015,-1,16,11.338],[0.025,-1,1,11.338],[0.025,1,1,11.338],[0.025,1,2,11.338],[0.025,-1,4,11.338],[0.025,-1,16,11.338],[0.025,1,16,11.338],[0.045,1,1,11.338],[0.045,-1,2,11.338],[0.045,-1,4,11.338],[0.045,1,4,11.338],[0.045,1,16,11.338],[0.08,1,1,11.338],[0.08,-1,2,11.338],[0.08,-1,4,11.338],[0.08,1,4,11.338]]\n",
    "\n",
    "T = [111,110,100]\n",
    "\n",
    "angularsymmvec = []\n",
    "#-------------------------------------------#\n",
    "#-----------Including scaling data----------#\n",
    "#-------------------------------------------#\n",
    "file = open(joinpath(data_path,\"scaling.data\")) # full path \"./data/scaling.data\"\n",
    "scalingvalues = readdlm(file)\n",
    "close(file)\n",
    "G_value_vec = []\n",
    "for row in eachrow(scalingvalues[1:88,:])\n",
    "    max_min = [row[4],row[3]]\n",
    "    push!(G_value_vec,max_min)\n",
    "end\n",
    "\n",
    "\n",
    "for symmindex in eachindex(eachrow(X))\n",
    "    row = X[symmindex,:]\n",
    "    radsymm = RadialType2{Float64}(row[2],row[4],Int(row[1]),G_value_vec[symmindex])\n",
    "    push!(radsymmvec,radsymm)\n",
    "end\n",
    "\n",
    "\n",
    "let n_index = 10\n",
    "\n",
    "for element in V\n",
    "    #for types in T\n",
    "\n",
    "        n_index += 1\n",
    "\n",
    "        symmfunc = AngularType3{Float64}(element[1],element[2],element[3],11.338,2,G_value_vec[n_index])\n",
    "\n",
    "        push!(angularsymmvec,symmfunc)\n",
    "    #end\n",
    "end\n",
    "end\n",
    "#---------------------------------------------------#\n",
    "#------concatenating radial and angular values------#\n",
    "#---------------------------------------------------#\n",
    "\n",
    "totalsymmvec = vcat(radsymmvec,angularsymmvec)\n",
    "\n",
    "\n",
    "#--------------------------------------------------#\n",
    "#-----------Initialising the nnp weights-----------#\n",
    "#--------------------------------------------------#\n",
    "num_nodes::Vector{Int32} = [88, 20, 20, 1]\n",
    "activation_functions::Vector{Int32} = [1, 2, 2, 1]\n",
    "file = open(joinpath(data_path, \"weights.029.data\"), \"r+\") # \"./data/weights.029.data\"\n",
    "weights=readdlm(file)\n",
    "close(file)\n",
    "weights = vec(weights)\n",
    "nnp = NeuralNetworkPotential(num_nodes,activation_functions,weights)\n",
    "\n",
    "#runnerpotential = RuNNerPotential(nnp,radsymmvec,angularsymmvec)\n",
    "struct RuNNerPotential2Atom{Nrad,Nang,N1,N2} <: AbstractMachineLearningPotential\n",
    "    nnp1::NeuralNetworkPotential\n",
    "    nnp2::NeuralNetworkPotential\n",
    "    radsymfunctions::StructVector{RadialType2{Float64}}\n",
    "    angsymfunctions::StructVector{AngularType3{Float64}}\n",
    "    r_cut::Float64 \n",
    "end\n",
    "function RuNNerPotential2Atom(nnp1,nnp2,radsymvec,angsymvec,n1,n2)\n",
    "    r_cut = radsymvec[1].r_cut\n",
    "    nrad = length(radsymvec)\n",
    "    nang = length(angsymvec)\n",
    "    radvec=StructVector([rsymm for rsymm in radsymvec])\n",
    "    angvec = StructVector([asymm for asymm in angsymvec])\n",
    "\n",
    "    return RuNNerPotential2Atom{nrad,nang,n1,n2}(nnp1,nnp2,radvec,angvec,r_cut)\n",
    "end\n",
    "file = open(joinpath(data_path, \"weights.029.data\"), \"r+\") # \"./data/weights.029.data\"\n",
    "weights=readdlm(file)\n",
    "close(file)\n",
    "weights = vec(weights)\n",
    "nnpcu = NeuralNetworkPotential(num_nodes,activation_functions,weights)\n",
    "\n",
    "file2=open(joinpath(data_path, \"weights.030.data\"),\"r+\") #./data/weights.030.data\n",
    "weights2=readdlm(file2)\n",
    "close(file2)\n",
    "weights2 = vec(weights2)\n",
    "nnpzn= NeuralNetworkPotential(num_nodes,activation_functions,weights2)\n",
    "\n",
    "\n",
    "runnerpotential = RuNNerPotential2Atom(nnpcu,nnpzn,radsymmvec,angularsymmvec,30,8)"
   ]
  },
  {
   "cell_type": "code",
   "execution_count": 4,
   "metadata": {},
   "outputs": [
    {
     "data": {
      "text/plain": [
       "2×8 Matrix{Float64}:\n",
       " 0.338326  0.128342  0.244797  0.15654   …  0.670691  0.368588  0.481922\n",
       " 0.691093  0.175848  0.446453  0.915256     0.311685  0.871261  0.680434"
      ]
     },
     "metadata": {},
     "output_type": "display_data"
    }
   ],
   "source": [
    "testvector = rand(2,8)\n",
    "test2vector = testvector[2:-1:1,:]"
   ]
  },
  {
   "cell_type": "code",
   "execution_count": 24,
   "metadata": {},
   "outputs": [
    {
     "data": {
      "text/plain": [
       "calc_symm_vals! (generic function with 2 methods)"
      ]
     },
     "metadata": {},
     "output_type": "display_data"
    }
   ],
   "source": [
    "function calc_symm_vals!(position,dist2_mat,f_mat,g_vec,n1,n2,symm_func::RadialType2)\n",
    "    N = n1+n2\n",
    "    g_norm,η = symm_func.G_norm,symm_func.eta\n",
    "    for atomindex in 1:n1\n",
    "        for index2 in atomindex+1:n1\n",
    "\n",
    "            g_val =  calc_one_symm_val(dist2_mat[atomindex,index2],f_mat[atomindex,index2],g_norm,η)\n",
    "\n",
    "            g_vec[1,atomindex] += g_val \n",
    "            g_vec[1,index2] += g_val\n",
    "        end\n",
    "    end\n",
    "\n",
    "    for atomindex in n1+1:N\n",
    "        for index2 in atomindex+1:N\n",
    "\n",
    "            g_val =  calc_one_symm_val(dist2_mat[atomindex,index2],f_mat[atomindex,index2],g_norm,η)\n",
    "\n",
    "            g_vec[1,atomindex] += g_val \n",
    "            g_vec[1,index2] += g_val\n",
    "        end\n",
    "    end\n",
    "\n",
    "    for atomindex in 1:n1\n",
    "        for index2 in n1+1:N\n",
    "\n",
    "            g_val =  calc_one_symm_val(dist2_mat[atomindex,index2],f_mat[atomindex,index2],g_norm,η)\n",
    "\n",
    "            g_vec[2,atomindex] += g_val \n",
    "            g_vec[2,index2] += g_val\n",
    "        end\n",
    "    end\n",
    "\n",
    "    return g_vec\n",
    "end"
   ]
  },
  {
   "cell_type": "code",
   "execution_count": 62,
   "metadata": {},
   "outputs": [
    {
     "data": {
      "text/plain": [
       "calc_symm_vals! (generic function with 2 methods)"
      ]
     },
     "metadata": {},
     "output_type": "display_data"
    }
   ],
   "source": [
    "function calc_symm_vals!(positions,dist2_mat,f_mat,g_vec,n1,n2,symm_func::AngularType3)\n",
    "    N= n1+n2\n",
    "    η,λ,ζ,tpz = symm_func.eta,symm_func.lambda,symm_func.zeta,symm_func.tpz\n",
    "    #for individual species, aka row 1\n",
    "    for atomindex in 1:n1\n",
    "        for index2 in atomindex+1:n1\n",
    "            for index3 in index2+1:n1\n",
    "                g_vals=calc_one_symm_val(positions[atomindex],positions[index2],positions[index3],dist2_mat[atomindex,index2],dist2_mat[atomindex,index3],dist2_mat[index2,index3],f_mat[atomindex,index2],f_mat[atomindex,index3],f_mat[index2,index3],η,λ,ζ)\n",
    "\n",
    "                g_vals .*= symm_func.tpz \n",
    "                g_vec[1,atomindex] += g_vals[1]\n",
    "                g_vec[1,index2] += g_vals[2]\n",
    "                g_vec[1,index3] += g_vals[3]\n",
    "            end\n",
    "        end\n",
    "    end\n",
    "    for atomindex in n1+1:N\n",
    "        for index2 in atomindex+1:N\n",
    "            for index3 in index2+1:N\n",
    "                g_vals=calc_one_symm_val(positions[atomindex],positions[index2],positions[index3],dist2_mat[atomindex,index2],dist2_mat[atomindex,index3],dist2_mat[index2,index3],f_mat[atomindex,index2],f_mat[atomindex,index3],f_mat[index2,index3],η,λ,ζ)\n",
    "\n",
    "                g_vals .*= symm_func.tpz \n",
    "                g_vec[1,atomindex] += g_vals[1]\n",
    "                g_vec[1,index2] += g_vals[2]\n",
    "                g_vec[1,index3] += g_vals[3]\n",
    "            end\n",
    "        end\n",
    "    end\n",
    "#this corresponds to 110 for copper and 100 for Zn\n",
    "    for atomindex in 1:n1\n",
    "        for index2 in atomindex+1:n1\n",
    "            for index3 in n1+1:n2\n",
    "                g_vals=calc_one_symm_val(positions[atomindex],positions[index2],positions[index3],dist2_mat[atomindex,index2],dist2_mat[atomindex,index3],dist2_mat[index2,index3],f_mat[atomindex,index2],f_mat[atomindex,index3],f_mat[index2,index3],η,λ,ζ)\n",
    "\n",
    "                g_vals .*= symm_func.tpz \n",
    "                g_vec[2,atomindex] += g_vals[1]\n",
    "                g_vec[2,index2] += g_vals[2]\n",
    "                g_vec[3,index3] += g_vals[3]\n",
    "            end\n",
    "        end\n",
    "    end\n",
    "# this corresponds to 100 for copper and 110 for Zn\n",
    "    for atomindex in 1:n1\n",
    "        for index2 in n1+1:N\n",
    "            for index3 in index2+1:N\n",
    "                g_vals=calc_one_symm_val(positions[atomindex],positions[index2],positions[index3],dist2_mat[atomindex,index2],dist2_mat[atomindex,index3],dist2_mat[index2,index3],f_mat[atomindex,index2],f_mat[atomindex,index3],f_mat[index2,index3],η,λ,ζ)\n",
    "\n",
    "                g_vals .*= symm_func.tpz \n",
    "                g_vec[3,atomindex] += g_vals[1]\n",
    "                g_vec[2,index2] += g_vals[2]\n",
    "                g_vec[2,index3] += g_vals[3]\n",
    "            end\n",
    "        end\n",
    "    end\n",
    "\n",
    "\n",
    "    return g_vec .+ symm_func.G_offset\n",
    "end"
   ]
  },
  {
   "cell_type": "markdown",
   "metadata": {},
   "source": [
    "These would calculate the complete matrices, of length 2 or 3 (for radial vs angular) for a single symmetry value. That is, for our particular example, we go through each symmetry function and populate a combinatorically sound G matrix"
   ]
  },
  {
   "cell_type": "code",
   "execution_count": 26,
   "metadata": {},
   "outputs": [
    {
     "data": {
      "text/plain": [
       "total_symm_calc (generic function with 2 methods)"
      ]
     },
     "metadata": {},
     "output_type": "display_data"
    }
   ],
   "source": [
    "function total_symm_calc(positions,dist2_mat,f_mat,radsymmfunctions,angsymmfunctions,nrad,nang,n1,n2)\n",
    "    g_mat = zeros(nrad*2 + nang*3 , length(positions))\n",
    "\n",
    "    for g_index in 1:nrad\n",
    "        idx=(g_index-1)*2+1\n",
    "        g_mat[idx:idx+1,:] = calc_symm_vals!(positions,dist2_mat,f_mat,g_mat[idx:idx+1,:],n1,n2,radsymmfunctions[g_index])\n",
    "    end\n",
    "    for g_index in 1:nang \n",
    "        idx = nrad*2 + (g_index-1)*3 + 1 \n",
    "\n",
    "        g_mat[idx:idx+2,:] = calc_symm_vals!(positions,dist2_mat,f_mat,g_mat[idx:idx+2,:],n1,n2,angsymmfunctions[g_index])\n",
    "    end\n",
    "    return g_mat\n",
    "end"
   ]
  },
  {
   "cell_type": "markdown",
   "metadata": {},
   "source": [
    "And then, we move on to calculation of the delta-matrix. In this case, we want to calculate a unique triple, retrieve the three individual delta-values and then inputting them into the correct vector in the same fashion as above. "
   ]
  },
  {
   "cell_type": "code",
   "execution_count": 8,
   "metadata": {},
   "outputs": [
    {
     "data": {
      "text/plain": [
       "calc_new_symmetry_value! (generic function with 1 method)"
      ]
     },
     "metadata": {},
     "output_type": "display_data"
    }
   ],
   "source": [
    "function new_radial_symm_val!(rnew_ij,r2_ij,fnew_ij,f2_ij,η,g_norm)\n",
    "    return exponential_part(η,r_newij,fnew_ij*g_norm) - exponential_part(η,r2_ij,f2_ij*g_norm)\n",
    "end\n",
    "function calc_new_symmetry_value!(g_vector,atomindex,dist2_mat,new_dist2_vector,f_matrix,new_f_vector,n1,n2,symmetry_function::RadialType2)\n",
    "    η,g_norm = symmetry_function.eta,symmetry_function.G_norm\n",
    "    N = n1+n2\n",
    "    #calculate 11\n",
    "    for index2 in 1:n1\n",
    "        if index2 != atomindex\n",
    "            g_new = new_radial_symm_val!()\n",
    "\n",
    "            g_vector[1,atomindex] = g_new\n",
    "            g_vector[1,index2] = g_new\n",
    "        end\n",
    "    end\n",
    "    #calculate 10\n",
    "    for index2 in n1+1:N\n",
    "        if index2 != atomindex\n",
    "            g_new = new_radial_symm_val!()\n",
    "\n",
    "            g_vector[2,atomindex] += g_new\n",
    "            g_vector[2,index2] += g_new\n",
    "        end\n",
    "    end\n",
    "    #invert if moved atom is type 0 \n",
    "    if atomindex > n1\n",
    "        g_vector = g_vector[2:-1:1,:]\n",
    "    end\n",
    "\n",
    "    return g_vector\n",
    "\n",
    "end"
   ]
  },
  {
   "cell_type": "markdown",
   "metadata": {},
   "source": [
    "Lastly we have to look at calculating a new angular symmetry value. This should return three totally nonsymmetric values which are then assigned to their respective indices in the list. We will typically retrieve a matrix of three rows, the top row should be '111' the next '110' and the last '100'. If we calculate assuming automatically that our atom is of type 1, we calculate the double n1 loop and put it in the top row, the double n2 loop in the three row and the n1n2 loop in the middle. We can then invert the matrix entirely if we actually have atom of type 0.\n",
    "\n"
   ]
  },
  {
   "cell_type": "code",
   "execution_count": 9,
   "metadata": {},
   "outputs": [
    {
     "data": {
      "text/plain": [
       "calc_new_symmetry_value! (generic function with 2 methods)"
      ]
     },
     "metadata": {},
     "output_type": "display_data"
    }
   ],
   "source": [
    "function new_angular_symm_vals(newposition,position1,position2,position3,rnew_ij,rnew_ik,r2_ij,r2_ik,r2_jk,fnew_ij,fnew_ik,f_ij,f_ik,f_jk,η,λ,ζ,tpz)\n",
    "\n",
    "    θ_new,θ_old = all_angular_measure(newposition,position2,position3,rnew_ij,rnew_ik,r2_jk),all_angular_measure(position1,position2,position3,r2_ij,r2_ik,r2_jk)\n",
    "\n",
    "    θ_val_old,θ_val_new = theta_part(θ_old,λ,ζ),theta_part(θ_new,λ,ζ)\n",
    "\n",
    "    exp_new,exp_old = exponential_part(η,rnew_ij,rnew_ik,r2_jk,fnew_ij,fnew_ik,f_jk),exponential_part(η,r2_ij,r2_ik,r2_jk,f_ij,f_ik,f_jk)\n",
    "\n",
    "    return tpz*(θ_val_new.*exp_new .- θ_val_old.*exp_old)\n",
    "end\n",
    "function calc_new_symmetry_value!(g_vector,positions,newposition,atomindex,dist2_mat,new_dist2_vector,f_matrix,new_f_vector,n1,n2,symmetry_function::AngularType3)\n",
    "\n",
    "    N = n1+n2 \n",
    "\n",
    "    η,λ,ζ,tpz = symmetry_function.eta,symmetry_function.lambda,symmetry_function.zeta,symmetry_function.tpz\n",
    "    #calculate 111\n",
    "    for j_index in 1:n1\n",
    "        if j_index != atomindex\n",
    "            for k_index in j_index+1:n1\n",
    "                if k_index != atomindex\n",
    "\n",
    "                    g_vals = new_angular_symm_vals(newposition,positions[atomindex],positions[j_index],positions[k_index],new_dist2_vector[indexj],new_dist2_vector[indexk],dist2_mat[indexi,indexj],dist2_mat[indexi,indexk],dist2_mat[indexj,indexk],new_f_vector[indexj],new_f_vector[indexk],f_matrix[indexi,indexj],f_matrix[indexi,indexk],f_matrix[indexj,indexk],η,λ,ζ,tpz)\n",
    "\n",
    "                    g_vector[1,atomindex] = g_vals[1]\n",
    "                    g_vector[1,j_index] = g_vals[2]\n",
    "                    g_vector[1,k_index] = g_vals[3]\n",
    "                end\n",
    "            end\n",
    "        end\n",
    "    end\n",
    "    # calculate 100 for i and 110 for j,k\n",
    "    for j_index in n1+1:N\n",
    "        if j_index != atomindex\n",
    "            for k_index in j_index+1:N\n",
    "                if k_index != atomindex\n",
    "                    g_vals = new_angular_symm_vals(newposition,positions[atomindex],positions[j_index],positions[k_index],new_dist2_vector[indexj],new_dist2_vector[indexk],dist2_mat[indexi,indexj],dist2_mat[indexi,indexk],dist2_mat[indexj,indexk],new_f_vector[indexj],new_f_vector[indexk],f_matrix[indexi,indexj],f_matrix[indexi,indexk],f_matrix[indexj,indexk],η,λ,ζ,tpz)\n",
    "\n",
    "                    g_vector[3,atomindex] = g_vals[1]\n",
    "                    g_vector[2,j_index] = g_vals[2]\n",
    "                    g_vector[2,k_index] = g_vals[3]\n",
    "                end\n",
    "            end\n",
    "        end\n",
    "    end\n",
    "    # The mixed term needs more careful consideration\n",
    "    if atomindex > n1 \n",
    "        #if Zn i and k are 110 j is 100, but first put row 2 into 3 to flip later\n",
    "        g_vector[3,:] += g_vector[2,:]\n",
    "\n",
    "        for j_index in 1:n1\n",
    "            if j_index != atomindex\n",
    "                for k_index in 1:n2\n",
    "                    if k_index != atomindex\n",
    "                        g_vals = new_angular_symm_vals(newposition,positions[atomindex],positions[j_index],positions[k_index],new_dist2_vector[indexj],new_dist2_vector[indexk],dist2_mat[indexi,indexj],dist2_mat[indexi,indexk],dist2_mat[indexj,indexk],new_f_vector[indexj],new_f_vector[indexk],f_matrix[indexi,indexj],f_matrix[indexi,indexk],f_matrix[indexj,indexk],η,λ,ζ,tpz)\n",
    "\n",
    "                        g_vector[2,atomindex] = g_vals[1]\n",
    "                        g_vector[3,j_index] = g_vals[2]\n",
    "                        g_vector[2,k_index] = g_vals[3]\n",
    "                    end\n",
    "                end\n",
    "            end\n",
    "        end\n",
    "    else\n",
    "        #if Cu then i,j into 110 k into 100\n",
    "        for j_index in 1:n1\n",
    "            if j_index != atomindex\n",
    "                for k_index in 1:n2\n",
    "                    if k_index != atomindex\n",
    "                        g_vals = new_angular_symm_vals(newposition,positions[atomindex],positions[j_index],positions[k_index],new_dist2_vector[indexj],new_dist2_vector[indexk],dist2_mat[indexi,indexj],dist2_mat[indexi,indexk],dist2_mat[indexj,indexk],new_f_vector[indexj],new_f_vector[indexk],f_matrix[indexi,indexj],f_matrix[indexi,indexk],f_matrix[indexj,indexk],η,λ,ζ,tpz)\n",
    "\n",
    "                        g_vector[2,atomindex] = g_vals[1]\n",
    "                        g_vector[2,j_index] = g_vals[2]\n",
    "                        g_vector[3,k_index] = g_vals[3]\n",
    "                    end\n",
    "                end\n",
    "            end\n",
    "        end\n",
    "    \n",
    "    end\n",
    "    # if atomindex > n1\n",
    "    #     g_vector = g_vector[3:-1:1,:]\n",
    "    # end\n",
    "\n",
    "    return g_vector\n",
    "end"
   ]
  },
  {
   "cell_type": "code",
   "execution_count": 11,
   "metadata": {},
   "outputs": [
    {
     "data": {
      "text/plain": [
       "total_symm_calc (generic function with 1 method)"
      ]
     },
     "metadata": {},
     "output_type": "display_data"
    }
   ],
   "source": [
    "function total_symm_calc(g_mat,positions,newposition,atomindex,dist2_mat,new_dist2_vector,f_mat,new_f_vector,radsymmfunctions,angsymmfunctions,nrad,nang,n1,n2)\n",
    "    \n",
    "    g_mat = zeros(nrad*2 + nang*3 , length(positions))\n",
    "\n",
    "    for g_index in 1:nrad\n",
    "        idx=(g_index-1)*2+1\n",
    "\n",
    "        g_mat[idx:idx+1,:] = calc_new_symmetry_value!(g_mat[idx:idx+1,:],atomindex,dist2_mat,new_dist2_vector,f_matrix,new_f_vector,n1,n2,radsymmfunctions[g_index])\n",
    " \n",
    "    end\n",
    "    for g_index in 1:nang \n",
    "        idx = nrad*2 + (g_index-1)*3 + 1 \n",
    "\n",
    "        g_mat[idx:idx+2,:] = calc_new_symmetry_value!(g_mat[idx:idx+2,:],positions,newposiiton,atomindex,dist2_mat,new_dist2_vector,f_matrix,new_f_vector,n1,n2,angsymmfunctions[g_index])\n",
    "    end\n",
    "\n",
    "    return g_mat\n",
    "end"
   ]
  },
  {
   "cell_type": "markdown",
   "metadata": {},
   "source": [
    "We have written the essential functions we aim to use. On to initialising states and doing some testing."
   ]
  },
  {
   "cell_type": "code",
   "execution_count": 18,
   "metadata": {},
   "outputs": [],
   "source": [
    "import ParallelTemperingMonteCarlo.EnergyEvaluation.set_variables"
   ]
  },
  {
   "cell_type": "code",
   "execution_count": 66,
   "metadata": {},
   "outputs": [
    {
     "data": {
      "text/plain": [
       "set_variables (generic function with 5 methods)"
      ]
     },
     "metadata": {},
     "output_type": "display_data"
    }
   ],
   "source": [
    "function set_variables(config::Config{N,BC,T},dist2_mat,pot::RuNNerPotential2Atom{nrad,nang}) where {N,BC,T} where {nrad,nang}\n",
    "    f_matrix = cutoff_function.(sqrt.(dist2_mat),Ref(pot.r_cut))\n",
    "    g_matrix = total_symm_calc(config.pos,dist2_mat,f_matrix,pot.radsymfunctions,pot.angsymfunctions,nrad,nang,30,8)\n",
    "    return NNPVariables{T}(zeros(N) , zeros(N) , g_matrix , f_matrix ,zeros(nrad*2 + nang*3 , N) , zeros(N))\n",
    "end"
   ]
  },
  {
   "cell_type": "code",
   "execution_count": 43,
   "metadata": {},
   "outputs": [
    {
     "data": {
      "text/plain": [
       "AngularType3{Float64}(0.0001, 1.0, 1.0, 11.338, 2, 0.0245373592605483, -0.00048489009301811386)"
      ]
     },
     "metadata": {},
     "output_type": "display_data"
    }
   ],
   "source": [
    "dis2mat=get_distance2_mat(start_config)\n",
    "fmat = cutoff_function.(sqrt.(dis2mat),Ref(runnerpotential.r_cut))\n",
    "#g_vec_test = zeros(3,38)\n",
    "positions = start_config.pos\n",
    "testsymmfunc = runnerpotential.angsymfunctions[1]"
   ]
  },
  {
   "cell_type": "code",
   "execution_count": 64,
   "metadata": {},
   "outputs": [
    {
     "data": {
      "text/plain": [
       "3×38 Matrix{Float64}:\n",
       "  0.477141     0.217155      0.217155     …   0.0159347    0.0159347\n",
       " -0.00048489  -0.00048489   -0.00048489       0.0789258    0.0789258\n",
       "  0.0109327    0.000335009   0.000335009     -0.00048489  -0.00048489"
      ]
     },
     "metadata": {},
     "output_type": "display_data"
    }
   ],
   "source": [
    "g_vec_test = zeros(3,38)\n",
    "X = calc_symm_vals!(positions,dis2mat,fmat,g_vec_test,30,8,runnerpotential.angsymfunctions[1])\n"
   ]
  },
  {
   "cell_type": "code",
   "execution_count": 45,
   "metadata": {},
   "outputs": [
    {
     "data": {
      "text/plain": [
       "3-element MVector{3, Float64} with indices SOneTo(3):\n",
       " 0.1515414746623898\n",
       " 0.26146459510776443\n",
       " 0.26146459510776443"
      ]
     },
     "metadata": {},
     "output_type": "display_data"
    }
   ],
   "source": [
    "calc_one_symm_val(positions[1],positions[2],positions[3],dis2mat[1,2],dis2mat[1,3],dis2mat[2,3],fmat[1,2],fmat[1,3],fmat[2,3],testsymmfunc.eta,testsymmfunc.lambda,testsymmfunc.zeta)"
   ]
  },
  {
   "cell_type": "code",
   "execution_count": null,
   "metadata": {},
   "outputs": [],
   "source": []
  },
  {
   "cell_type": "code",
   "execution_count": 67,
   "metadata": {},
   "outputs": [
    {
     "ename": "MethodError",
     "evalue": "MethodError: no method matching initialise_energy(::Config{38, SphericalBC{Float64}, Float64}, ::Matrix{Float64}, ::NNPVariables{Float64}, ::NVTVariables{Float64}, ::RuNNerPotential2Atom{5, 26, 30, 8})\n\nClosest candidates are:\n  initialise_energy(::Any, ::Any, ::Any, ::Any, !Matched::EmbeddedAtomPotential)\n   @ ParallelTemperingMonteCarlo ~/ParallelTemperingMonteCarlo.jl/src/EnergyEvaluation.jl:793\n  initialise_energy(::Any, ::Any, ::Any, ::Any, !Matched::RuNNerPotential)\n   @ ParallelTemperingMonteCarlo ~/ParallelTemperingMonteCarlo.jl/src/EnergyEvaluation.jl:798\n  initialise_energy(::Any, ::Any, ::Any, ::NVTVariables, !Matched::AbstractDimerPotentialB)\n   @ ParallelTemperingMonteCarlo ~/ParallelTemperingMonteCarlo.jl/src/EnergyEvaluation.jl:785\n  ...\n",
     "output_type": "error",
     "traceback": [
      "MethodError: no method matching initialise_energy(::Config{38, SphericalBC{Float64}, Float64}, ::Matrix{Float64}, ::NNPVariables{Float64}, ::NVTVariables{Float64}, ::RuNNerPotential2Atom{5, 26, 30, 8})\n",
      "\n",
      "Closest candidates are:\n",
      "  initialise_energy(::Any, ::Any, ::Any, ::Any, !Matched::EmbeddedAtomPotential)\n",
      "   @ ParallelTemperingMonteCarlo ~/ParallelTemperingMonteCarlo.jl/src/EnergyEvaluation.jl:793\n",
      "  initialise_energy(::Any, ::Any, ::Any, ::Any, !Matched::RuNNerPotential)\n",
      "   @ ParallelTemperingMonteCarlo ~/ParallelTemperingMonteCarlo.jl/src/EnergyEvaluation.jl:798\n",
      "  initialise_energy(::Any, ::Any, ::Any, ::NVTVariables, !Matched::AbstractDimerPotentialB)\n",
      "   @ ParallelTemperingMonteCarlo ~/ParallelTemperingMonteCarlo.jl/src/EnergyEvaluation.jl:785\n",
      "  ...\n",
      "\n",
      "\n",
      "Stacktrace:\n",
      " [1] MCState(temp::Float64, beta::Float64, config::Config{38, SphericalBC{Float64}, Float64}, ensemble::NVT, pot::RuNNerPotential2Atom{5, 26, 30, 8}; kwargs::@Kwargs{})\n",
      "   @ ParallelTemperingMonteCarlo.MCStates ~/ParallelTemperingMonteCarlo.jl/src/MCStates.jl:84\n",
      " [2] MCState(temp::Float64, beta::Float64, config::Config{38, SphericalBC{Float64}, Float64}, ensemble::NVT, pot::RuNNerPotential2Atom{5, 26, 30, 8})\n",
      "   @ ParallelTemperingMonteCarlo.MCStates ~/ParallelTemperingMonteCarlo.jl/src/MCStates.jl:76\n",
      " [3] (::ParallelTemperingMonteCarlo.Initialization.var\"#1#2\"{TempGrid{28, Float64}, Config{38, SphericalBC{Float64}, Float64}, RuNNerPotential2Atom{5, 26, 30, 8}, NVT})(i::Int64)\n",
      "   @ ParallelTemperingMonteCarlo.Initialization ./none:0\n",
      " [4] iterate\n",
      "   @ ./generator.jl:47 [inlined]\n",
      " [5] collect\n",
      "   @ ./array.jl:834 [inlined]\n",
      " [6] initialisation(mc_params::MCParams, temp::TempGrid{28, Float64}, start_config::Config{38, SphericalBC{Float64}, Float64}, potential::RuNNerPotential2Atom{5, 26, 30, 8}, ensemble::NVT)\n",
      "   @ ParallelTemperingMonteCarlo.Initialization ~/ParallelTemperingMonteCarlo.jl/src/Initialization.jl:55\n",
      " [7] top-level scope\n",
      "   @ ~/ParallelTemperingMonteCarlo.jl/scripts/jl_notebook_cell_df34fa98e69747e1a8f8a730347b8e2f_X21sZmlsZQ==.jl:1"
     ]
    }
   ],
   "source": [
    "states,movestrat,results,nsteps,counter=initialisation(mc_params,temp,start_config,runnerpotential,ensemble)"
   ]
  },
  {
   "cell_type": "code",
   "execution_count": null,
   "metadata": {},
   "outputs": [],
   "source": []
  }
 ],
 "metadata": {
  "kernelspec": {
   "display_name": "Julia 1.10.1",
   "language": "julia",
   "name": "julia-1.10"
  },
  "language_info": {
   "file_extension": ".jl",
   "mimetype": "application/julia",
   "name": "julia",
   "version": "1.10.1"
  }
 },
 "nbformat": 4,
 "nbformat_minor": 2
}
