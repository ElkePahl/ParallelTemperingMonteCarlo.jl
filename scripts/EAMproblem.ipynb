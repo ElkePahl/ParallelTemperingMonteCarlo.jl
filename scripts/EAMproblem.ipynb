{
 "cells": [
  {
   "cell_type": "code",
   "execution_count": 1,
   "metadata": {},
   "outputs": [
    {
     "name": "stderr",
     "output_type": "stream",
     "text": [
      "\u001b[32m\u001b[1m    Updating\u001b[22m\u001b[39m registry at `~/.julia/registries/General`\n"
     ]
    },
    {
     "name": "stderr",
     "output_type": "stream",
     "text": [
      "\u001b[32m\u001b[1m    Updating\u001b[22m\u001b[39m git-repo `https://github.com/JuliaRegistries/General.git`\n"
     ]
    },
    {
     "name": "stderr",
     "output_type": "stream",
     "text": [
      "\u001b[32m\u001b[1m   Installed\u001b[22m\u001b[39m IntelOpenMP_jll ─────────── v2023.2.0+0\n"
     ]
    },
    {
     "name": "stderr",
     "output_type": "stream",
     "text": [
      "\u001b[32m\u001b[1m   Installed\u001b[22m\u001b[39m CUDA_Runtime_jll ────────── v0.7.0+1\n",
      "\u001b[32m\u001b[1m   Installed\u001b[22m\u001b[39m Unitful ─────────────────── v1.16.3\n",
      "\u001b[32m\u001b[1m   Installed\u001b[22m\u001b[39m Distances ───────────────── v0.10.9\n",
      "\u001b[32m\u001b[1m   Installed\u001b[22m\u001b[39m Static ──────────────────── v0.8.8\n",
      "\u001b[32m\u001b[1m   Installed\u001b[22m\u001b[39m RecursiveArrayTools ─────── v2.38.7\n",
      "\u001b[32m\u001b[1m   Installed\u001b[22m\u001b[39m StaticArrays ────────────── v1.6.2\n",
      "\u001b[32m\u001b[1m   Installed\u001b[22m\u001b[39m Roots ───────────────────── v2.0.19\n"
     ]
    },
    {
     "name": "stderr",
     "output_type": "stream",
     "text": [
      "\u001b[32m\u001b[1m   Installed\u001b[22m\u001b[39m CUDA_Driver_jll ─────────── v0.6.0+2\n",
      "\u001b[32m\u001b[1m   Installed\u001b[22m\u001b[39m ADTypes ─────────────────── v0.1.6\n",
      "\u001b[32m\u001b[1m   Installed\u001b[22m\u001b[39m LinearMaps ──────────────── v3.11.0\n",
      "\u001b[32m\u001b[1m   Installed\u001b[22m\u001b[39m Functors ────────────────── v0.4.5\n",
      "\u001b[32m\u001b[1m   Installed\u001b[22m\u001b[39m LLVM ────────────────────── v6.1.0\n",
      "\u001b[32m\u001b[1m   Installed\u001b[22m\u001b[39m SciMLBase ───────────────── v1.94.0\n",
      "\u001b[32m\u001b[1m   Installed\u001b[22m\u001b[39m ComponentArrays ─────────── v0.13.15\n"
     ]
    },
    {
     "name": "stderr",
     "output_type": "stream",
     "text": [
      "\u001b[32m\u001b[1m   Installed\u001b[22m\u001b[39m MPIPreferences ──────────── v0.1.9\n",
      "\u001b[32m\u001b[1m   Installed\u001b[22m\u001b[39m StaticArraysCore ────────── v1.4.2\n",
      "\u001b[32m\u001b[1m   Installed\u001b[22m\u001b[39m SpecialFunctions ────────── v2.3.1\n",
      "\u001b[32m\u001b[1m   Installed\u001b[22m\u001b[39m StructEquality ──────────── v2.1.0\n",
      "\u001b[32m\u001b[1m   Installed\u001b[22m\u001b[39m ExprTools ───────────────── v0.1.10\n",
      "\u001b[32m\u001b[1m   Installed\u001b[22m\u001b[39m DataStructures ──────────── v0.18.15\n",
      "\u001b[32m\u001b[1m   Installed\u001b[22m\u001b[39m Compat ──────────────────── v4.9.0\n",
      "\u001b[32m\u001b[1m   Installed\u001b[22m\u001b[39m PeriodicTable ───────────── v1.1.4\n"
     ]
    },
    {
     "name": "stderr",
     "output_type": "stream",
     "text": [
      "\u001b[32m\u001b[1m   Installed\u001b[22m\u001b[39m MKL_jll ─────────────────── v2023.2.0+0\n",
      "\u001b[32m\u001b[1m   Installed\u001b[22m\u001b[39m JLLWrappers ─────────────── v1.5.0\n",
      "\u001b[32m\u001b[1m   Installed\u001b[22m\u001b[39m AbstractFFTs ────────────── v1.5.0\n",
      "\u001b[32m\u001b[1m   Installed\u001b[22m\u001b[39m SciMLOperators ──────────── v0.3.6\n",
      "\u001b[32m\u001b[1m   Installed\u001b[22m\u001b[39m LLVMExtra_jll ───────────── v0.0.23+0\n"
     ]
    },
    {
     "name": "stderr",
     "output_type": "stream",
     "text": [
      "\u001b[32m\u001b[1m   Installed\u001b[22m\u001b[39m ConstructionBase ────────── v1.5.3\n",
      "\u001b[32m\u001b[1m   Installed\u001b[22m\u001b[39m OrderedCollections ──────── v1.6.2\n",
      "\u001b[32m\u001b[1m   Installed\u001b[22m\u001b[39m InverseFunctions ────────── v0.1.12\n",
      "\u001b[32m\u001b[1m   Installed\u001b[22m\u001b[39m MPI ─────────────────────── v0.20.14\n",
      "\u001b[32m\u001b[1m   Installed\u001b[22m\u001b[39m RuntimeGeneratedFunctions ─ v0.5.12\n"
     ]
    },
    {
     "name": "stderr",
     "output_type": "stream",
     "text": [
      "\u001b[32m\u001b[1m   Installed\u001b[22m\u001b[39m MakieCore ───────────────── v0.6.5\n",
      "\u001b[32m\u001b[1m   Installed\u001b[22m\u001b[39m Primes ──────────────────── v0.5.4\n",
      "\u001b[32m\u001b[1m   Installed\u001b[22m\u001b[39m TruncatedStacktraces ────── v1.4.0\n",
      "\u001b[32m\u001b[1m   Installed\u001b[22m\u001b[39m ForwardDiff ─────────────── v0.10.36\n",
      "\u001b[32m\u001b[1m   Installed\u001b[22m\u001b[39m ReverseDiff ─────────────── v1.15.1\n",
      "\u001b[32m\u001b[1m   Installed\u001b[22m\u001b[39m Optim ───────────────────── v1.7.7\n"
     ]
    },
    {
     "name": "stderr",
     "output_type": "stream",
     "text": [
      "\u001b[32m\u001b[1m   Installed\u001b[22m\u001b[39m FillArrays ──────────────── v1.5.0\n"
     ]
    },
    {
     "name": "stderr",
     "output_type": "stream",
     "text": [
      "\u001b[32m\u001b[1m   Installed\u001b[22m\u001b[39m Spglib ──────────────────── v0.7.0\n"
     ]
    },
    {
     "name": "stderr",
     "output_type": "stream",
     "text": [
      "\u001b[32m\u001b[1m   Installed\u001b[22m\u001b[39m DFTK ────────────────────── v0.6.10\n"
     ]
    },
    {
     "name": "stderr",
     "output_type": "stream",
     "text": [
      "\u001b[32m\u001b[1m    Updating\u001b[22m\u001b[39m `~/ParallelTemperingMonteCarlo.jl/Project.toml`\n",
      " \u001b[90m [acf6eb54] \u001b[39m\u001b[93m↑ DFTK v0.6.9 ⇒ v0.6.10\u001b[39m\n",
      " \u001b[90m [429524aa] \u001b[39m\u001b[93m↑ Optim v1.7.6 ⇒ v1.7.7\u001b[39m\n",
      " \u001b[90m [90137ffa] \u001b[39m\u001b[93m↑ StaticArrays v1.5.26 ⇒ v1.6.2\u001b[39m\n",
      " \u001b[90m [1986cc42] \u001b[39m\u001b[93m↑ Unitful v1.14.0 ⇒ v1.16.3\u001b[39m\n",
      "\u001b[32m\u001b[1m    Updating\u001b[22m\u001b[39m `~/ParallelTemperingMonteCarlo.jl/Manifest.toml`\n"
     ]
    },
    {
     "name": "stderr",
     "output_type": "stream",
     "text": [
      " Downloading artifact: CUDA_Driver\n"
     ]
    },
    {
     "name": "stderr",
     "output_type": "stream",
     "text": [
      "\u001b[33m⌅\u001b[39m\u001b[90m [47edcb42] \u001b[39m\u001b[93m↑ ADTypes v0.1.3 ⇒ v0.1.6\u001b[39m\n",
      " \u001b[90m [621f4979] \u001b[39m\u001b[93m↑ AbstractFFTs v1.3.1 ⇒ v1.5.0\u001b[39m\n",
      " \u001b[90m [9e997f8a] \u001b[39m\u001b[93m↑ ChangesOfVariables v0.1.7 ⇒ v0.1.8\u001b[39m\n",
      " \u001b[90m [da1fd8a2] \u001b[39m\u001b[91m- CodeTracking v1.3.1\u001b[39m\n",
      " \u001b[90m [34da2185] \u001b[39m\u001b[93m↑ Compat v4.6.1 ⇒ v4.9.0\u001b[39m\n",
      "\u001b[33m⌅\u001b[39m\u001b[90m [b0b7db55] \u001b[39m\u001b[93m↑ ComponentArrays v0.13.14 ⇒ v0.13.15\u001b[39m\n",
      " \u001b[90m [187b0558] \u001b[39m\u001b[93m↑ ConstructionBase v1.5.2 ⇒ v1.5.3\u001b[39m\n",
      " \u001b[90m [acf6eb54] \u001b[39m\u001b[93m↑ DFTK v0.6.9 ⇒ v0.6.10\u001b[39m\n",
      " \u001b[90m [864edb3b] \u001b[39m\u001b[93m↑ DataStructures v0.18.13 ⇒ v0.18.15\u001b[39m\n",
      " \u001b[90m [b4f34e82] \u001b[39m\u001b[93m↑ Distances v0.10.8 ⇒ v0.10.9\u001b[39m\n",
      " \u001b[90m [e2ba6199] \u001b[39m\u001b[93m↑ ExprTools v0.1.9 ⇒ v0.1.10\u001b[39m\n",
      " \u001b[90m [7a1cc6ca] \u001b[39m\u001b[93m↑ FFTW v1.7.0 ⇒ v1.7.1\u001b[39m\n",
      " \u001b[90m [1a297f60] \u001b[39m\u001b[93m↑ FillArrays v1.2.0 ⇒ v1.5.0\u001b[39m\n",
      " \u001b[90m [f6369f11] \u001b[39m\u001b[93m↑ ForwardDiff v0.10.35 ⇒ v0.10.36\u001b[39m\n",
      " \u001b[90m [d9f16b24] \u001b[39m\u001b[93m↑ Functors v0.4.4 ⇒ v0.4.5\u001b[39m\n",
      " \u001b[90m [0c68f7d7] \u001b[39m\u001b[93m↑ GPUArrays v8.7.1 ⇒ v8.8.1\u001b[39m\n",
      " \u001b[90m [18e54dd8] \u001b[39m\u001b[93m↑ IntegerMathUtils v0.1.1 ⇒ v0.1.2\u001b[39m\n",
      " \u001b[90m [3587e190] \u001b[39m\u001b[93m↑ InverseFunctions v0.1.9 ⇒ v0.1.12\u001b[39m\n",
      " \u001b[90m [41ab1584] \u001b[39m\u001b[91m- InvertedIndices v1.3.0\u001b[39m\n",
      " \u001b[90m [692b3bcd] \u001b[39m\u001b[93m↑ JLLWrappers v1.4.1 ⇒ v1.5.0\u001b[39m\n",
      " \u001b[90m [aa1ae85d] \u001b[39m\u001b[91m- JuliaInterpreter v0.9.23\u001b[39m\n",
      " \u001b[90m [929cbde3] \u001b[39m\u001b[93m↑ LLVM v5.2.0 ⇒ v6.1.0\u001b[39m\n",
      " \u001b[90m [7a12625a] \u001b[39m\u001b[93m↑ LinearMaps v3.10.1 ⇒ v3.11.0\u001b[39m\n",
      " \u001b[90m [6f1432cf] \u001b[39m\u001b[91m- LoweredCodeUtils v2.3.0\u001b[39m\n",
      " \u001b[90m [da04e1cc] \u001b[39m\u001b[93m↑ MPI v0.20.11 ⇒ v0.20.14\u001b[39m\n",
      " \u001b[90m [3da0fdf6] \u001b[39m\u001b[93m↑ MPIPreferences v0.1.8 ⇒ v0.1.9\u001b[39m\n",
      " \u001b[90m [3c6de921] \u001b[39m\u001b[91m- MachineLearningPotential v1.0.0-DEV `https://github.com/grayseff/MachineLearningPotential.jl.git#main`\u001b[39m\n",
      " \u001b[90m [20f20a25] \u001b[39m\u001b[93m↑ MakieCore v0.6.3 ⇒ v0.6.5\u001b[39m\n",
      " \u001b[90m [6fe1bfb0] \u001b[39m\u001b[93m↑ OffsetArrays v1.12.9 ⇒ v1.12.10\u001b[39m\n",
      " \u001b[90m [429524aa] \u001b[39m\u001b[93m↑ Optim v1.7.6 ⇒ v1.7.7\u001b[39m\n",
      " \u001b[90m [bac558e1] \u001b[39m\u001b[93m↑ OrderedCollections v1.6.0 ⇒ v1.6.2\u001b[39m\n",
      " \u001b[90m [7b2266bf] \u001b[39m\u001b[93m↑ PeriodicTable v1.1.3 ⇒ v1.1.4\u001b[39m\n",
      " \u001b[90m [27ebfcd6] \u001b[39m\u001b[93m↑ Primes v0.5.3 ⇒ v0.5.4\u001b[39m\n",
      " \u001b[90m [731186ca] \u001b[39m\u001b[93m↑ RecursiveArrayTools v2.38.5 ⇒ v2.38.7\u001b[39m\n",
      " \u001b[90m [37e2e3b7] \u001b[39m\u001b[93m↑ ReverseDiff v1.14.6 ⇒ v1.15.1\u001b[39m\n",
      " \u001b[90m [295af30f] \u001b[39m\u001b[91m- Revise v3.5.3\u001b[39m\n",
      " \u001b[90m [f2b01f46] \u001b[39m\u001b[93m↑ Roots v2.0.17 ⇒ v2.0.19\u001b[39m\n",
      " \u001b[90m [7e49a35a] \u001b[39m\u001b[93m↑ RuntimeGeneratedFunctions v0.5.11 ⇒ v0.5.12\u001b[39m\n",
      " \u001b[90m [0bca4576] \u001b[39m\u001b[93m↑ SciMLBase v1.93.0 ⇒ v1.94.0\u001b[39m\n",
      " \u001b[90m [c0aeaf25] \u001b[39m\u001b[93m↑ SciMLOperators v0.3.1 ⇒ v0.3.6\u001b[39m\n",
      " \u001b[90m [276daf66] \u001b[39m\u001b[93m↑ SpecialFunctions v2.2.0 ⇒ v2.3.1\u001b[39m\n",
      " \u001b[90m [f761d5c5] \u001b[39m\u001b[93m↑ Spglib v0.6.1 ⇒ v0.7.0\u001b[39m\n",
      " \u001b[90m [aedffcd0] \u001b[39m\u001b[93m↑ Static v0.8.7 ⇒ v0.8.8\u001b[39m\n",
      " \u001b[90m [90137ffa] \u001b[39m\u001b[93m↑ StaticArrays v1.5.26 ⇒ v1.6.2\u001b[39m\n",
      " \u001b[90m [1e83bf80] \u001b[39m\u001b[93m↑ StaticArraysCore v1.4.0 ⇒ v1.4.2\u001b[39m\n",
      " \u001b[90m [6ec83bb0] \u001b[39m\u001b[92m+ StructEquality v2.1.0\u001b[39m\n",
      " \u001b[90m [4093c41a] \u001b[39m\u001b[91m- StructHelpers v0.1.5\u001b[39m\n",
      " \u001b[90m [781d530d] \u001b[39m\u001b[93m↑ TruncatedStacktraces v1.3.0 ⇒ v1.4.0\u001b[39m\n",
      " \u001b[90m [1986cc42] \u001b[39m\u001b[93m↑ Unitful v1.14.0 ⇒ v1.16.3\u001b[39m\n",
      " \u001b[90m [4ee394cb] \u001b[39m\u001b[93m↑ CUDA_Driver_jll v0.5.0+1 ⇒ v0.6.0+2\u001b[39m\n",
      " \u001b[90m [76a88914] \u001b[39m\u001b[93m↑ CUDA_Runtime_jll v0.6.0+0 ⇒ v0.7.0+1\u001b[39m\n",
      " \u001b[90m [1d5cc7b8] \u001b[39m\u001b[93m↑ IntelOpenMP_jll v2023.1.0+0 ⇒ v2023.2.0+0\u001b[39m\n",
      " \u001b[90m [dad2f222] \u001b[39m\u001b[93m↑ LLVMExtra_jll v0.0.22+0 ⇒ v0.0.23+0\u001b[39m\n",
      " \u001b[90m [856f044c] \u001b[39m\u001b[93m↑ MKL_jll v2022.2.0+0 ⇒ v2023.2.0+0\u001b[39m\n",
      "\u001b[36m\u001b[1m        Info\u001b[22m\u001b[39m Packages marked with \u001b[33m⌅\u001b[39m have new versions available but cannot be upgraded. To see why use `status --outdated -m`\n"
     ]
    },
    {
     "name": "stderr",
     "output_type": "stream",
     "text": [
      "\u001b[32m\u001b[1mPrecompiling\u001b[22m\u001b[39m project...\n"
     ]
    },
    {
     "name": "stderr",
     "output_type": "stream",
     "text": [
      "\u001b[32m  ✓ \u001b[39m\u001b[90mCompat\u001b[39m\n"
     ]
    },
    {
     "name": "stderr",
     "output_type": "stream",
     "text": [
      "\u001b[32m  ✓ \u001b[39m\u001b[90mExprTools\u001b[39m\n"
     ]
    },
    {
     "name": "stderr",
     "output_type": "stream",
     "text": [
      "\u001b[32m  ✓ \u001b[39m\u001b[90mADTypes\u001b[39m\n",
      "\u001b[32m  ✓ \u001b[39m\u001b[90mConstructionBase\u001b[39m\n"
     ]
    },
    {
     "name": "stderr",
     "output_type": "stream",
     "text": [
      "\u001b[32m  ✓ \u001b[39m\u001b[90mInverseFunctions\u001b[39m\n"
     ]
    },
    {
     "name": "stderr",
     "output_type": "stream",
     "text": [
      "\u001b[32m  ✓ \u001b[39m\u001b[90mStatic\u001b[39m\n",
      "\u001b[32m  ✓ \u001b[39m\u001b[90mOrderedCollections\u001b[39m\n"
     ]
    },
    {
     "name": "stderr",
     "output_type": "stream",
     "text": [
      "\u001b[32m  ✓ \u001b[39m\u001b[90mStaticArraysCore\u001b[39m\n"
     ]
    },
    {
     "name": "stderr",
     "output_type": "stream",
     "text": [
      "\u001b[32m  ✓ \u001b[39m\u001b[90mMakieCore\u001b[39m\n"
     ]
    },
    {
     "name": "stderr",
     "output_type": "stream",
     "text": [
      "\u001b[32m  ✓ \u001b[39m\u001b[90mPrimes\u001b[39m\n",
      "\u001b[32m  ✓ \u001b[39m\u001b[90mTruncatedStacktraces\u001b[39m\n"
     ]
    },
    {
     "name": "stderr",
     "output_type": "stream",
     "text": [
      "\u001b[32m  ✓ \u001b[39m\u001b[90mDistances\u001b[39m\n"
     ]
    },
    {
     "name": "stderr",
     "output_type": "stream",
     "text": [
      "\u001b[32m  ✓ \u001b[39m\u001b[90mMPIPreferences\u001b[39m\n"
     ]
    },
    {
     "name": "stderr",
     "output_type": "stream",
     "text": [
      "\u001b[32m  ✓ \u001b[39m\u001b[90mIntelOpenMP_jll\u001b[39m\n"
     ]
    },
    {
     "name": "stderr",
     "output_type": "stream",
     "text": [
      "\u001b[32m  ✓ \u001b[39m\u001b[90mFunctors\u001b[39m\n"
     ]
    },
    {
     "name": "stderr",
     "output_type": "stream",
     "text": [
      "\u001b[32m  ✓ \u001b[39m\u001b[90mRuntimeGeneratedFunctions\u001b[39m\n"
     ]
    },
    {
     "name": "stderr",
     "output_type": "stream",
     "text": [
      "\u001b[32m  ✓ \u001b[39m\u001b[90mStructEquality\u001b[39m\n"
     ]
    },
    {
     "name": "stderr",
     "output_type": "stream",
     "text": [
      "\u001b[32m  ✓ \u001b[39m\u001b[90mFillArrays\u001b[39m\n"
     ]
    },
    {
     "name": "stderr",
     "output_type": "stream",
     "text": [
      "\u001b[32m  ✓ \u001b[39m\u001b[90mChangesOfVariables\u001b[39m\n"
     ]
    },
    {
     "name": "stderr",
     "output_type": "stream",
     "text": [
      "\u001b[32m  ✓ \u001b[39m\u001b[90mLLVMExtra_jll\u001b[39m\n"
     ]
    },
    {
     "name": "stderr",
     "output_type": "stream",
     "text": [
      "\u001b[32m  ✓ \u001b[39m\u001b[90mParameters\u001b[39m\n"
     ]
    },
    {
     "name": "stderr",
     "output_type": "stream",
     "text": [
      "\u001b[32m  ✓ \u001b[39m\u001b[90mChainRulesCore\u001b[39m\n",
      "\u001b[32m  ✓ \u001b[39m\u001b[90mDiffResults\u001b[39m\n"
     ]
    },
    {
     "name": "stderr",
     "output_type": "stream",
     "text": [
      "\u001b[32m  ✓ \u001b[39m\u001b[90mTables\u001b[39m\n"
     ]
    },
    {
     "name": "stderr",
     "output_type": "stream",
     "text": [
      "\u001b[32m  ✓ \u001b[39m\u001b[90mTimerOutputs\u001b[39m\n"
     ]
    },
    {
     "name": "stderr",
     "output_type": "stream",
     "text": [
      "\u001b[32m  ✓ \u001b[39m\u001b[90mMPItrampoline_jll\u001b[39m\n"
     ]
    },
    {
     "name": "stderr",
     "output_type": "stream",
     "text": [
      "\u001b[32m  ✓ \u001b[39m\u001b[90mOpenMPI_jll\u001b[39m\n"
     ]
    },
    {
     "name": "stderr",
     "output_type": "stream",
     "text": [
      "\u001b[32m  ✓ \u001b[39m\u001b[90mStaticArrayInterface\u001b[39m\n"
     ]
    },
    {
     "name": "stderr",
     "output_type": "stream",
     "text": [
      "\u001b[32m  ✓ \u001b[39m\u001b[90mMPICH_jll\u001b[39m\n"
     ]
    },
    {
     "name": "stderr",
     "output_type": "stream",
     "text": [
      "\u001b[32m  ✓ \u001b[39m\u001b[90mSetfield\u001b[39m\n"
     ]
    },
    {
     "name": "stderr",
     "output_type": "stream",
     "text": [
      "\u001b[32m  ✓ \u001b[39m\u001b[90mAbstractFFTs\u001b[39m\n",
      "\u001b[32m  ✓ \u001b[39m\u001b[90mDataStructures\u001b[39m\n"
     ]
    },
    {
     "name": "stderr",
     "output_type": "stream",
     "text": [
      "\u001b[32m  ✓ \u001b[39m\u001b[90mLogExpFunctions\u001b[39m\n"
     ]
    },
    {
     "name": "stderr",
     "output_type": "stream",
     "text": [
      "\u001b[32m  ✓ \u001b[39m\u001b[90mLinearMaps\u001b[39m\n"
     ]
    },
    {
     "name": "stderr",
     "output_type": "stream",
     "text": [
      "\u001b[32m  ✓ \u001b[39m\u001b[90mRecursiveArrayTools\u001b[39m\n"
     ]
    },
    {
     "name": "stderr",
     "output_type": "stream",
     "text": [
      "\u001b[32m  ✓ \u001b[39m\u001b[90mSortingAlgorithms\u001b[39m\n"
     ]
    },
    {
     "name": "stderr",
     "output_type": "stream",
     "text": [
      "\u001b[32m  ✓ \u001b[39mStaticArrays\n"
     ]
    },
    {
     "name": "stderr",
     "output_type": "stream",
     "text": [
      "\u001b[32m  ✓ \u001b[39m\u001b[90mSciMLOperators\u001b[39m\n"
     ]
    },
    {
     "name": "stderr",
     "output_type": "stream",
     "text": [
      "\u001b[32m  ✓ \u001b[39m\u001b[90mMPI\u001b[39m\n"
     ]
    },
    {
     "name": "stderr",
     "output_type": "stream",
     "text": [
      "\u001b[32m  ✓ \u001b[39m\u001b[90mLLVM\u001b[39m\n"
     ]
    },
    {
     "name": "stderr",
     "output_type": "stream",
     "text": [
      "\u001b[32m  ✓ \u001b[39m\u001b[90mRoots\u001b[39m\n"
     ]
    },
    {
     "name": "stderr",
     "output_type": "stream",
     "text": [
      "\u001b[32m  ✓ \u001b[39m\u001b[90mBravais\u001b[39m\n"
     ]
    },
    {
     "name": "stderr",
     "output_type": "stream",
     "text": [
      "\u001b[32m  ✓ \u001b[39m\u001b[90mStatsBase\u001b[39m\n"
     ]
    },
    {
     "name": "stderr",
     "output_type": "stream",
     "text": [
      "\u001b[32m  ✓ \u001b[39m\u001b[90mFiniteDiff\u001b[39m\n"
     ]
    },
    {
     "name": "stderr",
     "output_type": "stream",
     "text": [
      "\u001b[32m  ✓ \u001b[39m\u001b[90mNearestNeighbors\u001b[39m\n"
     ]
    },
    {
     "name": "stderr",
     "output_type": "stream",
     "text": [
      "\u001b[32m  ✓ \u001b[39m\u001b[90mSpglib\u001b[39m\n"
     ]
    },
    {
     "name": "stderr",
     "output_type": "stream",
     "text": [
      "\u001b[32m  ✓ \u001b[39m\u001b[90mSpecialFunctions\u001b[39m\n"
     ]
    },
    {
     "name": "stderr",
     "output_type": "stream",
     "text": [
      "\u001b[32m  ✓ \u001b[39m\u001b[90mDiffRules\u001b[39m\n",
      "\u001b[32m  ✓ \u001b[39m\u001b[90mInterpolations\u001b[39m\n"
     ]
    },
    {
     "name": "stderr",
     "output_type": "stream",
     "text": [
      "\u001b[32m  ✓ \u001b[39m\u001b[90mGPUArrays\u001b[39m\n"
     ]
    },
    {
     "name": "stderr",
     "output_type": "stream",
     "text": [
      "\u001b[32m  ✓ \u001b[39m\u001b[90mSciMLBase\u001b[39m\n"
     ]
    },
    {
     "name": "stderr",
     "output_type": "stream",
     "text": [
      "\u001b[32m  ✓ \u001b[39m\u001b[90mForwardDiff\u001b[39m\n"
     ]
    },
    {
     "name": "stderr",
     "output_type": "stream",
     "text": [
      "\u001b[32m  ✓ \u001b[39m\u001b[90mBrillouin\u001b[39m\n"
     ]
    },
    {
     "name": "stderr",
     "output_type": "stream",
     "text": [
      "\u001b[32m  ✓ \u001b[39m\u001b[90mNLSolversBase\u001b[39m\n"
     ]
    },
    {
     "name": "stderr",
     "output_type": "stream",
     "text": [
      "\u001b[32m  ✓ \u001b[39m\u001b[90mMKL_jll\u001b[39m\n"
     ]
    },
    {
     "name": "stderr",
     "output_type": "stream",
     "text": [
      "\u001b[32m  ✓ \u001b[39m\u001b[90mLineSearches\u001b[39m\n"
     ]
    },
    {
     "name": "stderr",
     "output_type": "stream",
     "text": [
      "\u001b[32m  ✓ \u001b[39mUnitful\n"
     ]
    },
    {
     "name": "stderr",
     "output_type": "stream",
     "text": [
      "\u001b[32m  ✓ \u001b[39m\u001b[90mFFTW\u001b[39m\n"
     ]
    },
    {
     "name": "stderr",
     "output_type": "stream",
     "text": [
      "\u001b[32m  ✓ \u001b[39m\u001b[90mPeriodicTable\u001b[39m\n"
     ]
    },
    {
     "name": "stderr",
     "output_type": "stream",
     "text": [
      "\u001b[32m  ✓ \u001b[39mOptim\n"
     ]
    },
    {
     "name": "stderr",
     "output_type": "stream",
     "text": [
      "\u001b[32m  ✓ \u001b[39mUnitfulAtomic\n"
     ]
    },
    {
     "name": "stderr",
     "output_type": "stream",
     "text": [
      "\u001b[32m  ✓ \u001b[39m\u001b[90mPolynomials\u001b[39m\n"
     ]
    },
    {
     "name": "stderr",
     "output_type": "stream",
     "text": [
      "\u001b[32m  ✓ \u001b[39m\u001b[90mAtomsBase\u001b[39m\n"
     ]
    },
    {
     "name": "stderr",
     "output_type": "stream",
     "text": [
      "\u001b[32m  ✓ \u001b[39m\u001b[90mInteratomicPotentials\u001b[39m\n"
     ]
    },
    {
     "name": "stderr",
     "output_type": "stream",
     "text": [
      "\u001b[32m  ✓ \u001b[39m\u001b[90mReverseDiff\u001b[39m\n"
     ]
    },
    {
     "name": "stderr",
     "output_type": "stream",
     "text": [
      "\u001b[32m  ✓ \u001b[39m\u001b[90mComponentArrays\u001b[39m\n"
     ]
    },
    {
     "name": "stderr",
     "output_type": "stream",
     "text": [
      "\u001b[32m  ✓ \u001b[39m\u001b[90mDftFunctionals\u001b[39m\n"
     ]
    },
    {
     "name": "stderr",
     "output_type": "stream",
     "text": [
      "\u001b[32m  ✓ \u001b[39mDFTK\n"
     ]
    },
    {
     "name": "stderr",
     "output_type": "stream",
     "text": [
      "\u001b[32m  ✓ \u001b[39mParallelTemperingMonteCarlo\n"
     ]
    },
    {
     "name": "stderr",
     "output_type": "stream",
     "text": [
      "  69 dependencies successfully precompiled in 198 seconds. 69 already precompiled.\n",
      "┌ Info: We haven't cleaned this depot up for a bit, running Pkg.gc()...\n",
      "└ @ Pkg /cache/build/default-amdci4-3/julialang/julia-release-1-dot-8/usr/share/julia/stdlib/v1.8/Pkg/src/Pkg.jl:719\n",
      "\u001b[32m\u001b[1m      Active\u001b[22m\u001b[39m"
     ]
    },
    {
     "name": "stderr",
     "output_type": "stream",
     "text": [
      " manifest files: 3 found\n",
      "\u001b[32m\u001b[1m      Active\u001b[22m\u001b[39m"
     ]
    },
    {
     "name": "stderr",
     "output_type": "stream",
     "text": [
      " artifact files: 134 found\n",
      "\u001b[32m\u001b[1m      Active\u001b[22m\u001b[39m scratchspaces: 6 found\n"
     ]
    },
    {
     "name": "stderr",
     "output_type": "stream",
     "text": [
      "\u001b[32m\u001b[1m     Deleted\u001b[22m\u001b[39m 46 package installations (11.611 MiB)\n",
      "\u001b[32m\u001b[1m     Deleted\u001b[22m\u001b[39m 9 artifact installations (100.525 MiB)\n",
      "\u001b[32m\u001b[1m     Deleted\u001b[22m\u001b[39m 1 scratchspace (945.437 MiB)\n"
     ]
    }
   ],
   "source": [
    "#using Pkg; Pkg.update()\n",
    "\n",
    "using ParallelTemperingMonteCarlo,BenchmarkTools,StaticArrays"
   ]
  },
  {
   "cell_type": "markdown",
   "metadata": {},
   "source": [
    "position related constants"
   ]
  },
  {
   "cell_type": "code",
   "execution_count": 2,
   "metadata": {},
   "outputs": [
    {
     "data": {
      "text/plain": [
       "55×55 Matrix{Float64}:\n",
       "  0.0      20.939    20.939    20.939   …   62.2806   62.2806   82.1728\n",
       " 20.939     0.0      23.1496   23.1496     144.657   144.657   186.072\n",
       " 20.939    23.1496    0.0      23.1496     121.19     83.2196  140.213\n",
       " 20.939    23.1496   23.1496    0.0        144.657   121.19    140.213\n",
       " 20.939    23.1496   60.6064   23.1496     121.19    144.657   140.213\n",
       " 20.939    23.1496   60.6064   60.6064  …   83.2196  121.19    140.213\n",
       " 20.939    23.1496   23.1496   60.6064      83.2196   83.2196  140.213\n",
       " 20.939    60.6064   23.1496   23.1496      83.2196   45.249    66.0106\n",
       " 20.939    60.6064   60.6064   23.1496      83.2196   83.2196   66.0106\n",
       " 20.939    60.6064   83.756    60.6064      45.249    83.2196   66.0106\n",
       "  ⋮                                     ⋱                      \n",
       " 82.1728  140.213   140.213   186.072       22.7447   69.2332   90.848\n",
       " 62.2806  121.19     83.2196  144.657       23.7891   23.7891   69.2332\n",
       " 82.1728  140.213    66.0106  140.213       69.2332   22.7447   90.848\n",
       " 62.2806  144.657    83.2196   83.2196      62.2806   23.7891   22.7447\n",
       " 62.2806  144.657   121.19     83.2196  …   62.2806   62.2806   22.7447\n",
       " 62.2806  144.657   144.657   121.19        23.7891   62.2806   22.7447\n",
       " 62.2806  144.657   121.19    144.657        0.0      23.7891   22.7447\n",
       " 62.2806  144.657    83.2196  121.19        23.7891    0.0      22.7447\n",
       " 82.1728  186.072   140.213   140.213       22.7447   22.7447    0.0"
      ]
     },
     "metadata": {},
     "output_type": "display_data"
    }
   ],
   "source": [
    "ico_13  = [[-0.0000000049,       -0.0000000044,       -0.0000000033],\n",
    "[-0.0000007312,       -0.0000000014,        0.6554619119],\n",
    "[0.1811648930,      -0.5575692094,        0.2931316798],\n",
    "[-0.4742970242,       -0.3445967289,        0.2931309525],\n",
    "[-0.4742970303,        0.3445967144,        0.2931309494],\n",
    "[0.1811648830,        0.5575692066,        0.2931316748],\n",
    "[0.5862626299,        0.0000000022,        0.2931321262],\n",
    "[-0.1811648928,       -0.5575692153,       -0.2931316813],\n",
    "[-0.5862626397,       -0.0000000109,       -0.2931321327],\n",
    "[-0.1811649028,        0.5575692007,       -0.2931316863],\n",
    "[0.4742970144,        0.3445967202,       -0.2931309590],\n",
    "[0.4742970205,       -0.3445967231,       -0.2931309559],\n",
    "[0.0000007214,       -0.0000000073,       -0.6554619185]]\n",
    "ico_55 = [[0.0000006584,       -0.0000019175,        0.0000000505],\n",
    "[-0.0000005810,       -0.0000004871,        0.6678432175],\n",
    "[0.1845874248,       -0.5681026047,        0.2986701538],\n",
    "[-0.4832557457,       -0.3511072166,        0.2986684497],\n",
    "[-0.4832557570,        0.3511046452,        0.2986669456],\n",
    "[0.1845874064,        0.5681000550,        0.2986677202],\n",
    "[0.5973371920,       -0.0000012681,        0.2986697030],\n",
    "[-0.1845860897,       -0.5681038901,       -0.2986676192],\n",
    "[-0.5973358752,       -0.0000025669,       -0.2986696020],\n",
    "[-0.1845861081,        0.5680987696,       -0.2986700528],\n",
    "[0.4832570624,        0.3511033815,       -0.2986683486],\n",
    "[0.4832570738,       -0.3511084803,       -0.2986668445],\n",
    "[0.0000018978,       -0.0000033480,       -0.6678431165],\n",
    "[-0.0000017969,        0.0000009162,        1.3230014650],\n",
    "[0.1871182835,       -0.5758942175,        0.9797717078],\n",
    "[-0.4898861924,       -0.3559221410,       0.9797699802],\n",
    "[-0.4898862039,        0.3559224872,        0.9797684555],\n",
    "[0.1871182648,        0.5758945856,        0.9797692407],\n",
    "[0.6055300485,        0.0000001908,        0.9797712507],\n",
    "[0.7926501864,       -0.5758950093,        0.6055339635],\n",
    "[0.3656681761,       -1.1254128670,        0.5916673591],\n",
    "[-0.3027660545,       -0.9318173412,        0.6055326929],\n",
    "[-0.9573332453,       -0.6955436707,        0.5916639831],\n",
    "[-0.9797705418,       -0.0000006364,        0.6055294407],\n",
    "[-0.9573332679,        0.6955423392,        0.5916610035],\n",
    "[-0.3027660847,        0.9318160902,        0.6055287012],\n",
    "[0.3656681396,        1.1254115783,        0.5916625380],\n",
    "[0.7926501677,        0.5758937939,        0.6055314964],\n",
    "[1.1833279992,       -0.0000006311,        0.5916664660],\n",
    "[0.6770051458,       -0.9318186223,        0.0000033028],\n",
    "[0.0000006771,       -1.1517907207,        0.0000025175],\n",
    "[-0.6770037988,       -0.9318186442,        0.0000007900],\n",
    "[-1.0954155825,       -0.3559242494,       -0.0000012200],\n",
    "[-1.0954155940,        0.3559203788,       -0.0000027447],\n",
    "[-0.6770038290,        0.9318147872,       -0.0000032017],\n",
    "[0.0000006397,        1.1517868856,       -0.0000024165],\n",
    "[0.6770051155,        0.9318148091,       -0.0000006889],\n",
    "[1.0954168993,        0.3559204143,        0.0000013211],\n",
    "[1.0954169108,       -0.3559242139,        0.0000028458],\n",
    "[0.3027674014,       -0.9318199253,       -0.6055286002],\n",
    "[-0.3656668229,       -1.1254154134,       -0.5916624370],\n",
    "[-0.7926488510,       -0.5758976290,       -0.6055313954],\n",
    "[-1.1833266824,       -0.0000032040,       -0.5916663649],\n",
    "[-0.7926488697,        0.5758911742,       -0.6055338624],\n",
    "[-0.3656668594,        1.1254090319,       -0.5916672580],\n",
    "[0.3027673712,        0.9318135061,       -0.6055325919],\n",
    "[0.9573345621,        0.6955398357,       -0.5916638820],\n",
    "[0.9797718586,       -0.0000031986,       -0.6055293396],\n",
    "[0.9573345846,       -0.6955461743,       -0.5916609025],\n",
    "[-0.1871169480,       -0.5758984207,       -0.9797691397],\n",
    "[-0.6055287318,       -0.0000040259,       -0.9797711497],\n",
    "[-0.1871169667,        0.5758903824,       -0.9797716067],\n",
    "[0.4898875091,        0.3559183059,       -0.9797698792],\n",
    "[0.4898875207,       -0.3559263223,       -0.9797683545],\n",
    "[0.0000031136,       -0.0000047513,       -1.3230013639]]\n",
    "\n",
    "nmtobohr = 18.8973\n",
    "copperconstant = 0.36258*nmtobohr\n",
    "pos_cu13 = copperconstant*ico_13\n",
    "pos_cu55 = copperconstant*ico_55\n",
    "AtoBohr = 1.8897259886\n",
    "bc_cu13 = SphericalBC(radius=8*AtoBohr)\n",
    "start_config = Config(pos_cu13, bc_cu13)\n",
    "dis2mat = [distance2(a,b) for a in pos_cu13, b in pos_cu13]\n",
    "dist2mat_55 = [distance2(a,b) for a in pos_cu55, b in pos_cu55]"
   ]
  },
  {
   "cell_type": "markdown",
   "metadata": {},
   "source": [
    "potential related constants"
   ]
  },
  {
   "cell_type": "code",
   "execution_count": 3,
   "metadata": {},
   "outputs": [
    {
     "data": {
      "text/plain": [
       "EmbeddedAtomPotential(9.05, 5.005, 5949.446479587037, 2.6153101861477057)"
      ]
     },
     "metadata": {},
     "output_type": "display_data"
    }
   ],
   "source": [
    "evtohartree = 0.0367493\n",
    "\n",
    "n = 8.482\n",
    "m = 4.692\n",
    "ϵ = evtohartree*0.0370\n",
    "a = 0.25*nmtobohr\n",
    "C = 27.561\n",
    "\n",
    "\n",
    "copperpot = EmbeddedAtomPotential(n,m,ϵ,C,a)\n",
    "\n",
    "suttonchenpot = EmbeddedAtomPotential(9.0,6.0,0.0126*evtohartree,39.432,0.3612*nmtobohr)\n",
    "\n",
    "copperpot2 = EmbeddedAtomPotential(9.05 , 5.005 , 0.0225*evtohartree,33.17,0.327*nmtobohr)"
   ]
  },
  {
   "cell_type": "markdown",
   "metadata": {},
   "source": [
    "some example of delta r"
   ]
  },
  {
   "cell_type": "code",
   "execution_count": 6,
   "metadata": {},
   "outputs": [
    {
     "data": {
      "text/plain": [
       "([1.456115327602979e-7 0.0003580325941803816; 1.764243475526069e-7 0.0003221610015236025; … ; 1.2839587677189978e-7 0.000370289478916727; 2.2757188810001077e-9 3.7205219119379874e-5], -2.090427557242555)"
      ]
     },
     "metadata": {},
     "output_type": "display_data"
    }
   ],
   "source": [
    "testingposition = [[-4.68609269479413, 16.6536106373705, -12.362317890632799], [10.273318189502785, -7.74635317851858, 15.642532990656406], [-10.83358069903258, -16.70473039388474, 15.433028182681104], [-4.918280403390947, 23.94388436973165, 0.6479319857423986], [1.6854617700735792, -2.19766938291046, -15.586422941677723], [-14.293116443268483, 13.063036602725841, -4.915040083219719], [-21.388932416063092, 6.821385126823539, -5.1946947782346875], [5.1585512310800015, 9.86385016499844, 21.75393482227623], [-14.710036832312662, 5.143779268958427, 8.3824277620554], [15.127895833935343, -2.9027428750944355, 15.516629454504255], [9.838409144138005, -4.58323378854489, 21.74148338074733], [-1.4794890931779792, 15.554373839476488, 11.51136580326892], [-20.233864832929207, -2.9608453916072444, 11.389230992903833], [-12.299228719871955, 7.4565991722791765, -14.510799228713207], [-17.45693238639266, 9.101747493343957, 1.747221900092384], [-19.16909187846023, -11.624077127291834, -13.783383339581999], [-2.7486510438873224, -20.73587277928711, 4.696585973861108], [-10.557941313687204, 13.002484659029404, 5.2568097954191995], [16.577959181731465, 9.413329277147247, -8.392205034158934], [-4.494689223457988, 9.105714236540896, 15.130376045719425], [-6.388499755109639, 4.811132968173485, 17.23091937235922], [-12.830545191880038, -3.8238142890915254, 3.7777316436505073], [5.402225750261561, 17.419199454637134, 1.4044164683148992], [-16.942250460343462, -9.39957746142342, 14.747119418293527], [2.6724596706154937, -1.3000294202938285, 20.336926942488063], [-10.35421108824254, -8.95404241694953, -4.826190471739455], [-22.228163556282563, 9.18362638222594, 5.558441795695744], [-20.09191394543307, -3.2831417491775072, -4.283685297335046], [-12.000920266363089, -11.373283787543595, 16.30828139616957], [13.081926243558033, 15.037351371567738, -8.05861572156113], [-10.563781364861292, -15.43809872919319, -13.762495574439345], [-6.17009175432412, -2.9319349922544937, -5.920546287020732], [12.374586077131536, -0.7216053472559962, 1.642603121513602], [21.56324719532919, 0.32560395737525605, -11.186742649572874], [11.933592249222214, 8.99059741972048, -10.769535404643031], [12.816237416760266, -3.687167179470609, -3.0514080943536213], [7.960387169001651, 0.13301847364713826, 17.02531296559485], [-3.32373913035435, -9.835715294202174, 10.548143521760261], [-4.424706060248219, 0.9759142032458525, -13.102589603610815], [-7.728833557010534, 5.0605811962995, -9.099586744744109], [1.8405798380685745, 15.907243975675263, -8.315680328687254], [13.170505053551002, -0.6726387421905038, -10.39472565172294], [15.526007332821871, 12.45995981637225, 1.1846780144177984], [7.714104621220535, 3.17452366908806, 1.1671159583543416], [8.3521881615766, -12.391082533287785, -9.799371750268774], [-15.85336113346709, -9.93997331251678, -5.849227138626227], [2.0950154589177776, -12.340886488463653, -18.304337913202993], [-9.122652279595705, -8.039543138348481, -22.79550542799303], [-2.8127210243747136, 23.951662281937146, -4.799589786974037], [-2.054094826980007, 10.558490258928032, 21.78087566717292], [-16.20307257333643, 2.4909125182187766, -19.929648532096895], [-7.572147101033449, 10.920101891313735, 10.473442519359093], [-16.521417990235147, -1.009338816133896, -15.82040998738849], [-19.66253614881819, -8.835120750849985, 9.567807264723513], [-12.027631957632599, -7.558009091286821, 20.11966187247257], [-4.688074841021177, -12.97237566786344, -1.8076896027333433], [0.6714047637662093, -21.528702720140103, -11.18389629588328], [-7.854374519873133, 15.535624335773925, -18.310445663204614], [5.685369884464817, -20.516462397512818, 1.3436815766278158], [17.97102027454319, -2.366133620553013, -15.695506880922853], [2.6108071911529107, 11.678575984512083, -11.408928669905537], [4.460839145376168, -15.36476590078325, -2.0345987356387543], [-2.622329445155356, -6.438671123258724, -10.361331297567775], [18.488285466996064, 10.069346393987034, 9.53763240337782], [1.3948966284783544, -12.789175293819053, -9.532928574568984], [-10.564900562878158, -1.5126731611752735, -14.364775181104989], [-0.32769314092093693, -5.558232939806113, -1.5601043380358686], [-7.427749924370372, -21.712858743697165, 1.3324789834346635], [5.774153484254598, 18.155422819517902, 14.213544652187757], [-10.866625671833887, -20.610603162910056, -4.6710014381678056], [10.781400077032288, 13.253606058766087, -15.202200681477224], [-1.4860283943908943, 8.90989287280117, 7.147017905994694], [16.600553159406388, -8.029135906397672, -10.114329526667825], [3.2932295612139093, 11.831800280889176, -17.653551918992292], [-10.331848024584486, 12.858397132453389, -7.754597862889901], [-3.326938701318986, 4.685663735764332, -19.82094962282251], [-13.915338119231821, 0.37969487087469433, -1.5647064372630952], [9.31456791686407, -21.524937632499977, 11.44756282135591]]\n",
    "# testingposition=[]\n",
    "\n",
    "# for row in eachrow(testingmat2)\n",
    "#     push!(testingposition,Vector(row))\n",
    "# end\n",
    "distancesmatrix = [distance2(a,b) for a in testingposition,b in testingposition]\n",
    "get_energy(distancesmatrix,copperpot)"
   ]
  },
  {
   "cell_type": "code",
   "execution_count": 7,
   "metadata": {},
   "outputs": [
    {
     "data": {
      "text/plain": [
       "true"
      ]
     },
     "metadata": {},
     "output_type": "display_data"
    }
   ],
   "source": [
    "index,trial_pos = 11, [1.,2.,3.].+testingposition[11]\n",
    "\n",
    "dist2_new = [distance2(trial_pos,a) for a in testingposition]\n",
    "dist2_new[index] = 0.\n",
    "component_vector = EnergyEvaluation.calc_components(distancesmatrix,suttonchenpot.n,suttonchenpot.m)\n",
    "\n",
    "new_component_vec = EnergyEvaluation.calc_components(component_vector,index,distancesmatrix[index,:],dist2_new,suttonchenpot.n,suttonchenpot.m)\n",
    "trial_distance_matrix = copy(distancesmatrix)\n",
    "trial_distance_matrix[:,index] = dist2_new\n",
    "trial_distance_matrix[index,:] = dist2_new\n",
    "\n",
    "newcomponents2 = EnergyEvaluation.calc_components(trial_distance_matrix,suttonchenpot.n,suttonchenpot.m)\n",
    "newcomponents2 ≈ new_component_vec"
   ]
  },
  {
   "cell_type": "code",
   "execution_count": null,
   "metadata": {},
   "outputs": [],
   "source": []
  }
 ],
 "metadata": {
  "kernelspec": {
   "display_name": "Julia 1.8.0",
   "language": "julia",
   "name": "julia-1.8"
  },
  "language_info": {
   "file_extension": ".jl",
   "mimetype": "application/julia",
   "name": "julia",
   "version": "1.8.0"
  },
  "orig_nbformat": 4
 },
 "nbformat": 4,
 "nbformat_minor": 2
}
