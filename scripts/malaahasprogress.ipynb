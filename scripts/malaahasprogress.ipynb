{
 "cells": [
  {
   "cell_type": "code",
   "execution_count": 3,
   "metadata": {},
   "outputs": [
    {
     "name": "stderr",
     "output_type": "stream",
     "text": [
      "WARNING: Method definition initialise_histograms!(Any, Any, Any) in module MCRun at /home/ghun245/ParallelTemperingMonteCarlo.jl/src/MCRun.jl:440 overwritten at /home/ghun245/ParallelTemperingMonteCarlo.jl/src/MCRun.jl:545.\n",
      "  ** incremental compilation may be fatally broken for this module **\n",
      "\n",
      "WARNING: Method definition initialise_histograms!##kw(Any, typeof(ParallelTemperingMonteCarlo.MCRun.initialise_histograms!), Any, Any, Any) in module MCRun at /home/ghun245/ParallelTemperingMonteCarlo.jl/src/MCRun.jl:440 overwritten at /home/ghun245/ParallelTemperingMonteCarlo.jl/src/MCRun.jl:545.\n",
      "  ** incremental compilation may be fatally broken for this module **\n",
      "\n"
     ]
    },
    {
     "name": "stderr",
     "output_type": "stream",
     "text": [
      "\u001b[33m\u001b[1m┌ \u001b[22m\u001b[39m\u001b[33m\u001b[1mWarning: \u001b[22m\u001b[39mReplacing docs for `ParallelTemperingMonteCarlo.MCRun.initialise_histograms! :: Tuple{Any, Any, Any}` in module `ParallelTemperingMonteCarlo.MCRun`\n",
      "\u001b[33m\u001b[1m└ \u001b[22m\u001b[39m\u001b[90m@ Base.Docs docs/Docs.jl:240\u001b[39m\n",
      "WARNING: Method definition updatehistogram!(Any, Any, Any, Any) in module MCRun at /home/ghun245/ParallelTemperingMonteCarlo.jl/src/MCRun.jl:474 overwritten at /home/ghun245/ParallelTemperingMonteCarlo.jl/src/MCRun.jl:581.\n",
      "  ** incremental compilation may be fatally broken for this module **\n",
      "\n",
      "WARNING: Method definition updatehistogram!##kw(Any, typeof(ParallelTemperingMonteCarlo.MCRun.updatehistogram!), Any, Any, Any, Any) in module MCRun at /home/ghun245/ParallelTemperingMonteCarlo.jl/src/MCRun.jl:474 overwritten at /home/ghun245/ParallelTemperingMonteCarlo.jl/src/MCRun.jl:581.\n",
      "  ** incremental compilation may be fatally broken for this module **\n",
      "\n"
     ]
    }
   ],
   "source": [
    "\n",
    "using ParallelTemperingMonteCarlo\n"
   ]
  },
  {
   "cell_type": "code",
   "execution_count": 6,
   "metadata": {},
   "outputs": [
    {
     "data": {
      "text/plain": [
       "checkbc (generic function with 1 method)"
      ]
     },
     "metadata": {},
     "output_type": "display_data"
    }
   ],
   "source": [
    "function find_adjmat(dist2_matrix, r2_cut)\n",
    "    adjmat = map(dist2_matrix -> ifelse(dist2_matrix <= 36, 1, 0), dist2_matrix )\n",
    "    \n",
    "    return adjmat\n",
    "end\n",
    "\n",
    "\n",
    "function checkbc(dist2_matrix,r2_cut)\n",
    "\n",
    "    bcflag = true\n",
    "\n",
    "    for col in eachcol(find_adjmat(dist2_matrix, r2_cut))\n",
    "\n",
    "      dummysum = sum(col)\n",
    "        if dummysum < 4\n",
    "            bcflag = false\n",
    "             # break\n",
    "        end\n",
    "        #push!(SumVec, dummysum)\n",
    "    end\n",
    "    return bcflag\n",
    "end"
   ]
  },
  {
   "cell_type": "code",
   "execution_count": 13,
   "metadata": {},
   "outputs": [
    {
     "data": {
      "text/plain": [
       "Output{Float64}(100, 0.0, 0.0, Float64[], Float64[], Float64[], Vector{Float64}[], Float64[], Float64[], Float64[], Float64[], Float64[])"
      ]
     },
     "metadata": {},
     "output_type": "display_data"
    }
   ],
   "source": [
    "n_atoms = 13\n",
    "\n",
    "# temperature grid\n",
    "ti = 5.\n",
    "tf = 16.\n",
    "n_traj = 32\n",
    "\n",
    "temp = TempGrid{n_traj}(ti,tf) \n",
    "\n",
    "# MC simulation details\n",
    "mc_cycles = 3000 #default 20% equilibration cycles on top\n",
    "\n",
    "mc_sample = 1  #sample every mc_sample MC cycles\n",
    "\n",
    "#move_atom=AtomMove(n_atoms) #move strategy (here only atom moves, n_atoms per MC cycle)\n",
    "displ_atom = 0.1 # Angstrom\n",
    "n_adjust = 100\n",
    "\n",
    "max_displ_atom = [0.1*sqrt(displ_atom*temp.t_grid[i]) for i in 1:n_traj]\n",
    "\n",
    "mc_params = MCParams(mc_cycles, n_traj, n_atoms, mc_sample = mc_sample, n_adjust = n_adjust)\n",
    "\n",
    "#moves - allowed at present: atom, volume and rotation moves (volume,rotation not yet implemented)\n",
    "move_strat = MoveStrategy(atom_moves = n_atoms)  \n",
    "\n",
    "#ensemble\n",
    "ensemble = NVT(n_atoms)\n",
    "\n",
    "#ELJpotential for neon\n",
    "#c1=[-10.5097942564988, 0., 989.725135614556, 0., -101383.865938807, 0., 3918846.12841668, 0., -56234083.4334278, 0., 288738837.441765]\n",
    "#elj_ne1 = ELJPotential{11}(c1)\n",
    "\n",
    "c=[-10.5097942564988, 989.725135614556, -101383.865938807, 3918846.12841668, -56234083.4334278, 288738837.441765]\n",
    "pot = ELJPotentialEven{6}(c)\n",
    "\n",
    "#starting configurations\n",
    "#icosahedral ground state of Ne13 (from Cambridge cluster database) in Angstrom\n",
    "pos_ne13 = [[2.825384495892464, 0.928562467914040, 0.505520149314310],\n",
    "[2.023342172678102,\t-2.136126268595355, 0.666071287554958],\n",
    "[2.033761811732818,\t-0.643989413759464, -2.133000349161121],\n",
    "[0.979777205108572,\t2.312002562803556, -1.671909307631893],\n",
    "[0.962914279874254,\t-0.102326586625353, 2.857083360096907],\n",
    "[0.317957619634043,\t2.646768968413408, 1.412132053672896],\n",
    "[-2.825388342924982, -0.928563755928189, -0.505520471387560],\n",
    "[-0.317955944853142, -2.646769840660271, -1.412131825293682],\n",
    "[-0.979776174195320, -2.312003751825495, 1.671909138648006],\n",
    "[-0.962916072888105, 0.102326392265998,\t-2.857083272537599],\n",
    "[-2.023340541398004, 2.136128558801072,\t-0.666071089291685],\n",
    "[-2.033762834001679, 0.643989905095452, 2.132999911364582],\n",
    "[0.000002325340981,\t0.000000762100600, 0.000000414930733]]\n",
    "\n",
    "#convert to Bohr\n",
    "AtoBohr = 1.8897259886\n",
    "pos_ne13 = pos_ne13 * AtoBohr\n",
    "\n",
    "length(pos_ne13) == n_atoms || error(\"number of atoms and positions not the same - check starting config\")\n",
    "\n",
    "#boundary conditions \n",
    "#bc_ne13 = SphericalBC(radius=5.32*AtoBohr)   #5.32 Angstrom\n",
    "bc_ne13 = AdjacencyBC(50. )\n",
    "\n",
    "#starting configuration\n",
    "start_config = Config(pos_ne13, bc_ne13)\n",
    "\n",
    "#histogram information\n",
    "n_bin = 100\n",
    "#en_min = -0.006    #might want to update after equilibration run if generated on the fly\n",
    "#en_max = -0.001    #otherwise will be determined after run as min/max of sampled energies (ham vector)\n",
    "\n",
    "#construct array of MCState (for each temperature)\n",
    "mc_states = [MCState(temp.t_grid[i], temp.beta_grid[i], start_config, pot; max_displ=[max_displ_atom[i],0.01,1.]) for i in 1:n_traj]\n",
    "\n",
    "#results = Output(n_bin, max_displ_vec)\n",
    "results = Output{Float64}(n_bin; en_min = mc_states[1].en_tot)\n"
   ]
  },
  {
   "cell_type": "code",
   "execution_count": 14,
   "metadata": {},
   "outputs": [
    {
     "name": "stdout",
     "output_type": "stream",
     "text": [
      "Total number of moves per MC cycle: 13\n",
      "\n"
     ]
    },
    {
     "ename": "ErrorException",
     "evalue": "Error: too many moves out of binding sphere",
     "output_type": "error",
     "traceback": [
      "Error: too many moves out of binding sphere\n",
      "\n",
      "Stacktrace:\n",
      " [1] error(s::String)\n",
      "   @ Base ./error.jl:35\n",
      " [2] atom_displacement(config::Config{13, AdjacencyBC{Float64}, Float64}, i_atom::Int64, max_displacement::Float64, bc::AdjacencyBC{Float64})\n",
      "   @ ParallelTemperingMonteCarlo.MCMoves ~/ParallelTemperingMonteCarlo.jl/src/MCMoves.jl:124\n",
      " [3] atom_move!(mc_state::MCState{Float64, 13, AdjacencyBC{Float64}}, i_atom::Int64, pot::ELJPotentialEven{6, Float64}, ensemble::NVT)\n",
      "   @ ParallelTemperingMonteCarlo.MCRun ~/ParallelTemperingMonteCarlo.jl/src/MCRun.jl:224\n",
      " [4] mc_step!\n",
      "   @ ~/ParallelTemperingMonteCarlo.jl/src/MCRun.jl:250 [inlined]\n",
      " [5] mc_cycle!(mc_states::Vector{MCState{Float64, 13, AdjacencyBC{Float64}}}, move_strat::MoveStrategy{13, 0, 0}, mc_params::MCParams, pot::ELJPotentialEven{6, Float64}, ensemble::NVT, n_steps::Int64, a::Int64, v::Int64, r::Int64)\n",
      "   @ ParallelTemperingMonteCarlo.MCRun ~/ParallelTemperingMonteCarlo.jl/src/MCRun.jl:271\n",
      " [6] ptmc_run!(mc_states::Vector{MCState{Float64, 13, AdjacencyBC{Float64}}}, move_strat::MoveStrategy{13, 0, 0}, mc_params::MCParams, pot::ELJPotentialEven{6, Float64}, ensemble::NVT, results::Output{Float64}; save_ham::Bool, save::Bool, restart::Bool, restartindex::Int64)\n",
      "   @ ParallelTemperingMonteCarlo.MCRun ~/ParallelTemperingMonteCarlo.jl/src/MCRun.jl:678\n",
      " [7] top-level scope\n",
      "   @ ~/ParallelTemperingMonteCarlo.jl/scripts/malaahasprogress.ipynb:1"
     ]
    }
   ],
   "source": [
    "ptmc_run!(mc_states, move_strat, mc_params, pot, ensemble, results; save_ham = true)"
   ]
  },
  {
   "cell_type": "code",
   "execution_count": 12,
   "metadata": {},
   "outputs": [
    {
     "data": {
      "text/plain": [
       "36.0"
      ]
     },
     "metadata": {},
     "output_type": "display_data"
    }
   ],
   "source": [
    "bc_ne13.r2_cut"
   ]
  },
  {
   "cell_type": "code",
   "execution_count": null,
   "metadata": {},
   "outputs": [],
   "source": []
  }
 ],
 "metadata": {
  "kernelspec": {
   "display_name": "Julia 1.8.0",
   "language": "julia",
   "name": "julia-1.8"
  },
  "language_info": {
   "file_extension": ".jl",
   "mimetype": "application/julia",
   "name": "julia",
   "version": "1.8.0"
  },
  "orig_nbformat": 4
 },
 "nbformat": 4,
 "nbformat_minor": 2
}
