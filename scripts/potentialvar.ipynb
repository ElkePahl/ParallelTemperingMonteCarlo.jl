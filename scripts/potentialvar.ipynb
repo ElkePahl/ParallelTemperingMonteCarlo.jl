{
 "cells": [
  {
   "cell_type": "code",
   "execution_count": 1,
   "metadata": {},
   "outputs": [
    {
     "name": "stderr",
     "output_type": "stream",
     "text": [
      "\u001b[32m\u001b[1m    Updating\u001b[22m\u001b[39m registry at `~/.julia/registries/General`\n"
     ]
    },
    {
     "name": "stderr",
     "output_type": "stream",
     "text": [
      "\u001b[32m\u001b[1m    Updating\u001b[22m\u001b[39m git-repo `https://github.com/JuliaRegistries/General.git`\n"
     ]
    },
    {
     "name": "stderr",
     "output_type": "stream",
     "text": [
      "\u001b[32m\u001b[1m   Installed\u001b[22m\u001b[39m ADTypes ────────────── v0.2.1\n",
      "\u001b[32m\u001b[1m   Installed\u001b[22m\u001b[39m CUDA_Runtime_jll ───── v0.9.1+0\n"
     ]
    },
    {
     "name": "stderr",
     "output_type": "stream",
     "text": [
      "\u001b[32m\u001b[1m   Installed\u001b[22m\u001b[39m ProgressMeter ──────── v1.8.0\n",
      "\u001b[32m\u001b[1m   Installed\u001b[22m\u001b[39m CUDA_Driver_jll ────── v0.6.0+3\n",
      "\u001b[32m\u001b[1m   Installed\u001b[22m\u001b[39m Unitful ────────────── v1.17.0\n"
     ]
    },
    {
     "name": "stderr",
     "output_type": "stream",
     "text": [
      "\u001b[32m\u001b[1m   Installed\u001b[22m\u001b[39m MutableArithmetics ─── v1.3.2\n",
      "\u001b[32m\u001b[1m   Installed\u001b[22m\u001b[39m SciMLBase ──────────── v1.96.2\n",
      "\u001b[32m\u001b[1m   Installed\u001b[22m\u001b[39m PkgVersion ─────────── v0.3.3\n"
     ]
    },
    {
     "name": "stderr",
     "output_type": "stream",
     "text": [
      "\u001b[32m\u001b[1m   Installed\u001b[22m\u001b[39m StatsAPI ───────────── v1.7.0\n",
      "\u001b[32m\u001b[1m   Installed\u001b[22m\u001b[39m StaticArrayInterface ─ v1.4.1\n",
      "\u001b[32m\u001b[1m   Installed\u001b[22m\u001b[39m XML2_jll ───────────── v2.10.4+0\n",
      "\u001b[32m\u001b[1m   Installed\u001b[22m\u001b[39m LLVMExtra_jll ──────── v0.0.25+0\n",
      "\u001b[32m\u001b[1m   Installed\u001b[22m\u001b[39m LLVM ───────────────── v6.2.1\n"
     ]
    },
    {
     "name": "stderr",
     "output_type": "stream",
     "text": [
      "\u001b[32m\u001b[1m   Installed\u001b[22m\u001b[39m MPI ────────────────── v0.20.15\n",
      "\u001b[32m\u001b[1m   Installed\u001b[22m\u001b[39m Libiconv_jll ───────── v1.17.0+0\n",
      "\u001b[32m\u001b[1m   Installed\u001b[22m\u001b[39m FillArrays ─────────── v1.6.1\n"
     ]
    },
    {
     "name": "stderr",
     "output_type": "stream",
     "text": [
      "\u001b[32m\u001b[1m    Updating\u001b[22m\u001b[39m `~/ParallelTemperingMonteCarlo.jl/Project.toml`\n",
      " \u001b[90m [acf6eb54] \u001b[39m\u001b[93m↑ DFTK v0.6.10 ⇒ v0.6.11\u001b[39m\n",
      " \u001b[90m [1986cc42] \u001b[39m\u001b[93m↑ Unitful v1.16.3 ⇒ v1.17.0\u001b[39m\n",
      "\u001b[32m\u001b[1m    Updating\u001b[22m\u001b[39m `~/ParallelTemperingMonteCarlo.jl/Manifest.toml`\n"
     ]
    },
    {
     "name": "stderr",
     "output_type": "stream",
     "text": [
      " Downloading artifact: CUDA_Driver\n"
     ]
    },
    {
     "name": "stderr",
     "output_type": "stream",
     "text": [
      " \u001b[90m [47edcb42] \u001b[39m\u001b[93m↑ ADTypes v0.1.6 ⇒ v0.2.1\u001b[39m\n",
      " \u001b[90m [acf6eb54] \u001b[39m\u001b[93m↑ DFTK v0.6.10 ⇒ v0.6.11\u001b[39m\n",
      " \u001b[90m [1a297f60] \u001b[39m\u001b[93m↑ FillArrays v1.5.0 ⇒ v1.6.1\u001b[39m\n",
      " \u001b[90m [929cbde3] \u001b[39m\u001b[93m↑ LLVM v6.1.0 ⇒ v6.2.1\u001b[39m\n",
      " \u001b[90m [2ab3a3ac] \u001b[39m\u001b[93m↑ LogExpFunctions v0.3.24 ⇒ v0.3.26\u001b[39m\n",
      " \u001b[90m [da04e1cc] \u001b[39m\u001b[93m↑ MPI v0.20.14 ⇒ v0.20.15\u001b[39m\n",
      " \u001b[90m [1914dd2f] \u001b[39m\u001b[93m↑ MacroTools v0.5.10 ⇒ v0.5.11\u001b[39m\n",
      " \u001b[90m [d8a4904e] \u001b[39m\u001b[93m↑ MutableArithmetics v1.3.0 ⇒ v1.3.2\u001b[39m\n",
      " \u001b[90m [eebad327] \u001b[39m\u001b[93m↑ PkgVersion v0.3.2 ⇒ v0.3.3\u001b[39m\n",
      " \u001b[90m [aea7be01] \u001b[39m\u001b[93m↑ PrecompileTools v1.1.2 ⇒ v1.2.0\u001b[39m\n",
      " \u001b[90m [92933f4c] \u001b[39m\u001b[93m↑ ProgressMeter v1.7.2 ⇒ v1.8.0\u001b[39m\n",
      " \u001b[90m [0bca4576] \u001b[39m\u001b[93m↑ SciMLBase v1.94.0 ⇒ v1.96.2\u001b[39m\n",
      " \u001b[90m [66db9d55] \u001b[39m\u001b[91m- SnoopPrecompile v1.0.3\u001b[39m\n",
      " \u001b[90m [0d7ed370] \u001b[39m\u001b[93m↑ StaticArrayInterface v1.4.0 ⇒ v1.4.1\u001b[39m\n",
      " \u001b[90m [82ae8749] \u001b[39m\u001b[93m↑ StatsAPI v1.6.0 ⇒ v1.7.0\u001b[39m\n",
      " \u001b[90m [1986cc42] \u001b[39m\u001b[93m↑ Unitful v1.16.3 ⇒ v1.17.0\u001b[39m\n",
      " \u001b[90m [700de1a5] \u001b[39m\u001b[92m+ ZygoteRules v0.2.3\u001b[39m\n",
      " \u001b[90m [4ee394cb] \u001b[39m\u001b[93m↑ CUDA_Driver_jll v0.6.0+2 ⇒ v0.6.0+3\u001b[39m\n",
      " \u001b[90m [76a88914] \u001b[39m\u001b[93m↑ CUDA_Runtime_jll v0.7.0+1 ⇒ v0.9.1+0\u001b[39m\n",
      " \u001b[90m [dad2f222] \u001b[39m\u001b[93m↑ LLVMExtra_jll v0.0.23+0 ⇒ v0.0.25+0\u001b[39m\n",
      " \u001b[90m [94ce4f54] \u001b[39m\u001b[93m↑ Libiconv_jll v1.16.1+2 ⇒ v1.17.0+0\u001b[39m\n",
      " \u001b[90m [02c8fc9c] \u001b[39m\u001b[93m↑ XML2_jll v2.10.3+0 ⇒ v2.10.4+0\u001b[39m\n"
     ]
    },
    {
     "name": "stderr",
     "output_type": "stream",
     "text": [
      "\u001b[32m\u001b[1mPrecompiling\u001b[22m\u001b[39m project...\n"
     ]
    },
    {
     "name": "stderr",
     "output_type": "stream",
     "text": [
      "\u001b[32m  ✓ \u001b[39m\u001b[90mADTypes\u001b[39m\n"
     ]
    },
    {
     "name": "stderr",
     "output_type": "stream",
     "text": [
      "\u001b[32m  ✓ \u001b[39m\u001b[90mPkgVersion\u001b[39m\n",
      "\u001b[32m  ✓ \u001b[39m\u001b[90mStatsAPI\u001b[39m\n"
     ]
    },
    {
     "name": "stderr",
     "output_type": "stream",
     "text": [
      "\u001b[32m  ✓ \u001b[39m\u001b[90mLibiconv_jll\u001b[39m\n"
     ]
    },
    {
     "name": "stderr",
     "output_type": "stream",
     "text": [
      "\u001b[32m  ✓ \u001b[39m\u001b[90mProgressMeter\u001b[39m\n",
      "\u001b[32m  ✓ \u001b[39m\u001b[90mLLVMExtra_jll\u001b[39m\n"
     ]
    },
    {
     "name": "stderr",
     "output_type": "stream",
     "text": [
      "\u001b[32m  ✓ \u001b[39m\u001b[90mXML2_jll\u001b[39m\n"
     ]
    },
    {
     "name": "stderr",
     "output_type": "stream",
     "text": [
      "\u001b[32m  ✓ \u001b[39m\u001b[90mDistances\u001b[39m\n"
     ]
    },
    {
     "name": "stderr",
     "output_type": "stream",
     "text": [
      "\u001b[32m  ✓ \u001b[39m\u001b[90mStaticArrayInterface\u001b[39m\n"
     ]
    },
    {
     "name": "stderr",
     "output_type": "stream",
     "text": [
      "\u001b[32m  ✓ \u001b[39m\u001b[90mFillArrays\u001b[39m\n"
     ]
    },
    {
     "name": "stderr",
     "output_type": "stream",
     "text": [
      "\u001b[32m  ✓ \u001b[39m\u001b[90mEzXML\u001b[39m\n"
     ]
    },
    {
     "name": "stderr",
     "output_type": "stream",
     "text": [
      "\u001b[32m  ✓ \u001b[39m\u001b[90mPseudoPotentialIO\u001b[39m\n"
     ]
    },
    {
     "name": "stderr",
     "output_type": "stream",
     "text": [
      "\u001b[32m  ✓ \u001b[39m\u001b[90mStatsBase\u001b[39m\n"
     ]
    },
    {
     "name": "stderr",
     "output_type": "stream",
     "text": [
      "\u001b[32m  ✓ \u001b[39m\u001b[90mMPI\u001b[39m\n"
     ]
    },
    {
     "name": "stderr",
     "output_type": "stream",
     "text": [
      "\u001b[32m  ✓ \u001b[39m\u001b[90mNearestNeighbors\u001b[39m\n"
     ]
    },
    {
     "name": "stderr",
     "output_type": "stream",
     "text": [
      "\u001b[32m  ✓ \u001b[39m\u001b[90mMutableArithmetics\u001b[39m\n"
     ]
    },
    {
     "name": "stderr",
     "output_type": "stream",
     "text": [
      "\u001b[32m  ✓ \u001b[39m\u001b[90mLLVM\u001b[39m\n"
     ]
    },
    {
     "name": "stderr",
     "output_type": "stream",
     "text": [
      "\u001b[32m  ✓ \u001b[39m\u001b[90mGPUArrays\u001b[39m\n"
     ]
    },
    {
     "name": "stderr",
     "output_type": "stream",
     "text": [
      "\u001b[32m  ✓ \u001b[39mOptim\n"
     ]
    },
    {
     "name": "stderr",
     "output_type": "stream",
     "text": [
      "\u001b[32m  ✓ \u001b[39m\u001b[90mSciMLBase\u001b[39m\n"
     ]
    },
    {
     "name": "stderr",
     "output_type": "stream",
     "text": [
      "\u001b[32m  ✓ \u001b[39m\u001b[90mComponentArrays\u001b[39m\n"
     ]
    },
    {
     "name": "stderr",
     "output_type": "stream",
     "text": [
      "\u001b[32m  ✓ \u001b[39m\u001b[90mDftFunctionals\u001b[39m\n"
     ]
    },
    {
     "name": "stderr",
     "output_type": "stream",
     "text": [
      "\u001b[32m  ✓ \u001b[39mUnitful\n"
     ]
    },
    {
     "name": "stderr",
     "output_type": "stream",
     "text": [
      "\u001b[32m  ✓ \u001b[39m\u001b[90mPeriodicTable\u001b[39m\n"
     ]
    },
    {
     "name": "stderr",
     "output_type": "stream",
     "text": [
      "\u001b[32m  ✓ \u001b[39mUnitfulAtomic\n"
     ]
    },
    {
     "name": "stderr",
     "output_type": "stream",
     "text": [
      "\u001b[32m  ✓ \u001b[39m\u001b[90mPolynomials\u001b[39m\n"
     ]
    },
    {
     "name": "stderr",
     "output_type": "stream",
     "text": [
      "\u001b[32m  ✓ \u001b[39m\u001b[90mAtomsBase\u001b[39m\n"
     ]
    },
    {
     "name": "stderr",
     "output_type": "stream",
     "text": [
      "\u001b[32m  ✓ \u001b[39m\u001b[90mInteratomicPotentials\u001b[39m\n"
     ]
    },
    {
     "name": "stderr",
     "output_type": "stream",
     "text": [
      "\u001b[32m  ✓ \u001b[39mDFTK\n"
     ]
    },
    {
     "name": "stderr",
     "output_type": "stream",
     "text": [
      "\u001b[32m  ✓ \u001b[39mParallelTemperingMonteCarlo\n"
     ]
    },
    {
     "name": "stderr",
     "output_type": "stream",
     "text": [
      "  30 dependencies successfully precompiled in 262 seconds. 108 already precompiled.\n",
      "┌ Info: We haven't cleaned this depot up for a bit, running Pkg.gc()...\n",
      "└ @ Pkg /cache/build/default-amdci4-3/julialang/julia-release-1-dot-8/usr/share/julia/stdlib/v1.8/Pkg/src/Pkg.jl:719\n",
      "\u001b[32m\u001b[1m      Active\u001b[22m\u001b[39m"
     ]
    },
    {
     "name": "stderr",
     "output_type": "stream",
     "text": [
      " manifest files: 3 found\n",
      "\u001b[32m\u001b[1m      Active\u001b[22m\u001b[39m"
     ]
    },
    {
     "name": "stderr",
     "output_type": "stream",
     "text": [
      " artifact files: 141 found\n",
      "\u001b[32m\u001b[1m      Active\u001b[22m\u001b[39m scratchspaces: 6 found\n"
     ]
    },
    {
     "name": "stderr",
     "output_type": "stream",
     "text": [
      "\u001b[32m\u001b[1m     Deleted\u001b[22m\u001b[39m 45 package installations (21.534 MiB)\n",
      "\u001b[32m\u001b[1m     Deleted\u001b[22m\u001b[39m 1 repo (200.641 KiB)\n"
     ]
    },
    {
     "name": "stderr",
     "output_type": "stream",
     "text": [
      "\u001b[33m\u001b[1m┌ \u001b[22m\u001b[39m\u001b[33m\u001b[1mWarning: \u001b[22m\u001b[39mbackend `GR` is not installed.\n",
      "\u001b[33m\u001b[1m└ \u001b[22m\u001b[39m\u001b[90m@ Plots ~/.julia/packages/Plots/3BCH5/src/backends.jl:43\u001b[39m\n"
     ]
    }
   ],
   "source": [
    "using Pkg; Pkg.update()\n",
    "#using Pkg; Pkg.resolve()\n",
    "using SplitApplyCombine\n",
    "using ParallelTemperingMonteCarlo\n",
    "using DelimitedFiles\n",
    "using StaticArrays\n",
    "using Random, Plots\n",
    "\n",
    "using BenchmarkTools"
   ]
  },
  {
   "cell_type": "markdown",
   "metadata": {},
   "source": [
    "# Main Goal\n",
    "\n",
    "Broadly speaking, each potential requires different variables, vectors and changes at each step, this leads to method double-ups (with nonspecific variable types) as well as the need to rewrite high level functions such as mc_step and mc_cycle. By writing a single vector or struct that contains all the required vectors etc would solve both problems. "
   ]
  },
  {
   "cell_type": "code",
   "execution_count": 2,
   "metadata": {},
   "outputs": [],
   "source": [
    "abstract type PotentialVariables end"
   ]
  },
  {
   "cell_type": "markdown",
   "metadata": {},
   "source": [
    "Each potential requires different vectors, both for sampling and as temporary delta vectors. Starting with the ELJ potential, requiring essentially nothing, maybe the new_dist2_vector if anything\n"
   ]
  },
  {
   "cell_type": "code",
   "execution_count": 3,
   "metadata": {},
   "outputs": [],
   "source": [
    "mutable struct DimerPotentialVariables <: PotentialVariables\n",
    "    new_dist2_vec::Vector\n",
    "end\n",
    "function DimerPotentialVariables(n_atoms::Int)\n",
    "    new_dist2_vector = zeros(N_atoms)\n",
    "    return DimerPotentialVariable(new_dist2_vector)\n",
    "end"
   ]
  },
  {
   "cell_type": "markdown",
   "metadata": {},
   "source": [
    "The NNPState struct becomes redundant, since we can add the various vectors to the potential variables"
   ]
  },
  {
   "cell_type": "code",
   "execution_count": null,
   "metadata": {},
   "outputs": [],
   "source": [
    "mutable struct NNPVariables <: PotentialVariables\n",
    "    new_dist2_vec::Vector\n",
    "    new_en_atom::Vector\n",
    "    g_matrix::Array\n",
    "    f_matrix::Array\n",
    "    new_g_matrix::Array\n",
    "    new_f_vec::Vector\n",
    "end\n",
    "function NNPVariables(config,dist2_mat,n_atoms,pot::RuNNerPotential)\n",
    "    f_matrix = cutoff_function.(sqrt.(dist2_mat),Ref(pot.r_cut))\n",
    "    g_matrix = total_symm_calc(config.pos,dist2_mat,f_matrix,pot.symmetryfunctions)\n",
    "    \n",
    "    return NNPVariables(zeros(n_atoms),zeros(n_atoms),g_matrix,f_matrix,zeros(length(pot.symmetryfunctions)), zeros(n_atoms))\n",
    "end\n"
   ]
  },
  {
   "cell_type": "markdown",
   "metadata": {},
   "source": [
    "Similarly, the embedded atom model is defined as"
   ]
  },
  {
   "cell_type": "code",
   "execution_count": null,
   "metadata": {},
   "outputs": [],
   "source": [
    "mutable struct EmbeddedAtomVariables <: PotentialVariables\n",
    "    new_dist2_vec::Vector\n",
    "    component_vector\n",
    "    new_component_vector\n",
    "end\n",
    "function EmbeddedAtomVariables(dist2_matrix,pot)\n",
    "    \n",
    "    return EmbeddedAtomVariables(zeros(size(dist2_matrix)[1]),component_vector,new_component_vector)\n",
    "end"
   ]
  },
  {
   "cell_type": "markdown",
   "metadata": {},
   "source": [
    "And the Magnetic Field potential"
   ]
  },
  {
   "cell_type": "code",
   "execution_count": null,
   "metadata": {},
   "outputs": [],
   "source": [
    "mutable struct ELJPotentialB <: PotentialVariables\n",
    "    new_dist2_vec::Vector\n",
    "    tanmat::Vector\n",
    "    new_tan_vec::Vector\n",
    "end"
   ]
  }
 ],
 "metadata": {
  "kernelspec": {
   "display_name": "Julia 1.8.0",
   "language": "julia",
   "name": "julia-1.8"
  },
  "language_info": {
   "file_extension": ".jl",
   "mimetype": "application/julia",
   "name": "julia",
   "version": "1.8.0"
  },
  "orig_nbformat": 4
 },
 "nbformat": 4,
 "nbformat_minor": 2
}
