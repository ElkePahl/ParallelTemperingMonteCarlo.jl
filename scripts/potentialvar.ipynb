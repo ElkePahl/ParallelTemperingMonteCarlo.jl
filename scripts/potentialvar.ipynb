{
 "cells": [
  {
   "cell_type": "code",
   "execution_count": 1,
   "metadata": {},
   "outputs": [
    {
     "name": "stderr",
     "output_type": "stream",
     "text": [
      "\u001b[32m\u001b[1m    Updating\u001b[22m\u001b[39m registry at `~/.julia/registries/General`\n"
     ]
    },
    {
     "name": "stderr",
     "output_type": "stream",
     "text": [
      "\u001b[32m\u001b[1m    Updating\u001b[22m\u001b[39m git-repo `https://github.com/JuliaRegistries/General.git`\n"
     ]
    },
    {
     "name": "stderr",
     "output_type": "stream",
     "text": [
      "\u001b[32m\u001b[1m   Installed\u001b[22m\u001b[39m ConstructionBase ──── v1.5.4\n",
      "\u001b[32m\u001b[1m   Installed\u001b[22m\u001b[39m MakieCore ─────────── v0.6.6\n",
      "\u001b[32m\u001b[1m   Installed\u001b[22m\u001b[39m ADTypes ───────────── v0.2.2\n",
      "\u001b[32m\u001b[1m   Installed\u001b[22m\u001b[39m RecursiveArrayTools ─ v2.38.8\n"
     ]
    },
    {
     "name": "stderr",
     "output_type": "stream",
     "text": [
      "\u001b[32m\u001b[1m   Installed\u001b[22m\u001b[39m StaticArrays ──────── v1.6.3\n",
      "\u001b[32m\u001b[1m   Installed\u001b[22m\u001b[39m SciMLBase ─────────── v1.97.0\n"
     ]
    },
    {
     "name": "stderr",
     "output_type": "stream",
     "text": [
      "\u001b[32m\u001b[1m    Updating\u001b[22m\u001b[39m `~/ParallelTemperingMonteCarlo.jl/Project.toml`\n",
      " \u001b[90m [90137ffa] \u001b[39m\u001b[93m↑ StaticArrays v1.6.2 ⇒ v1.6.3\u001b[39m\n",
      "\u001b[32m\u001b[1m    Updating\u001b[22m\u001b[39m `~/ParallelTemperingMonteCarlo.jl/Manifest.toml`\n"
     ]
    },
    {
     "name": "stderr",
     "output_type": "stream",
     "text": [
      " \u001b[90m [47edcb42] \u001b[39m\u001b[93m↑ ADTypes v0.2.1 ⇒ v0.2.2\u001b[39m\n",
      " \u001b[90m [187b0558] \u001b[39m\u001b[93m↑ ConstructionBase v1.5.3 ⇒ v1.5.4\u001b[39m\n",
      " \u001b[90m [20f20a25] \u001b[39m\u001b[93m↑ MakieCore v0.6.5 ⇒ v0.6.6\u001b[39m\n",
      " \u001b[90m [731186ca] \u001b[39m\u001b[93m↑ RecursiveArrayTools v2.38.7 ⇒ v2.38.8\u001b[39m\n",
      " \u001b[90m [0bca4576] \u001b[39m\u001b[93m↑ SciMLBase v1.96.2 ⇒ v1.97.0\u001b[39m\n",
      " \u001b[90m [90137ffa] \u001b[39m\u001b[93m↑ StaticArrays v1.6.2 ⇒ v1.6.3\u001b[39m\n"
     ]
    },
    {
     "name": "stderr",
     "output_type": "stream",
     "text": [
      "\u001b[32m\u001b[1mPrecompiling\u001b[22m\u001b[39m project...\n"
     ]
    },
    {
     "name": "stderr",
     "output_type": "stream",
     "text": [
      "\u001b[32m  ✓ \u001b[39m\u001b[90mADTypes\u001b[39m\n"
     ]
    },
    {
     "name": "stderr",
     "output_type": "stream",
     "text": [
      "\u001b[32m  ✓ \u001b[39m\u001b[90mConstructionBase\u001b[39m\n"
     ]
    },
    {
     "name": "stderr",
     "output_type": "stream",
     "text": [
      "\u001b[32m  ✓ \u001b[39m\u001b[90mMakieCore\u001b[39m\n"
     ]
    },
    {
     "name": "stderr",
     "output_type": "stream",
     "text": [
      "\u001b[32m  ✓ \u001b[39m\u001b[90mRecursiveArrayTools\u001b[39m\n"
     ]
    },
    {
     "name": "stderr",
     "output_type": "stream",
     "text": [
      "\u001b[32m  ✓ \u001b[39m\u001b[90mSetfield\u001b[39m\n"
     ]
    },
    {
     "name": "stderr",
     "output_type": "stream",
     "text": [
      "\u001b[32m  ✓ \u001b[39m\u001b[90mSciMLOperators\u001b[39m\n"
     ]
    },
    {
     "name": "stderr",
     "output_type": "stream",
     "text": [
      "\u001b[32m  ✓ \u001b[39m\u001b[90mRoots\u001b[39m\n"
     ]
    },
    {
     "name": "stderr",
     "output_type": "stream",
     "text": [
      "\u001b[32m  ✓ \u001b[39mStaticArrays\n"
     ]
    },
    {
     "name": "stderr",
     "output_type": "stream",
     "text": [
      "\u001b[32m  ✓ \u001b[39m\u001b[90mSpglib\u001b[39m\n",
      "\u001b[32m  ✓ \u001b[39m\u001b[90mFiniteDiff\u001b[39m\n"
     ]
    },
    {
     "name": "stderr",
     "output_type": "stream",
     "text": [
      "\u001b[32m  ✓ \u001b[39m\u001b[90mBravais\u001b[39m\n"
     ]
    },
    {
     "name": "stderr",
     "output_type": "stream",
     "text": [
      "\u001b[32m  ✓ \u001b[39m\u001b[90mNearestNeighbors\u001b[39m\n"
     ]
    },
    {
     "name": "stderr",
     "output_type": "stream",
     "text": [
      "\u001b[32m  ✓ \u001b[39m\u001b[90mInterpolations\u001b[39m\n"
     ]
    },
    {
     "name": "stderr",
     "output_type": "stream",
     "text": [
      "\u001b[32m  ✓ \u001b[39m\u001b[90mSciMLBase\u001b[39m\n"
     ]
    },
    {
     "name": "stderr",
     "output_type": "stream",
     "text": [
      "\u001b[32m  ✓ \u001b[39m\u001b[90mForwardDiff\u001b[39m\n"
     ]
    },
    {
     "name": "stderr",
     "output_type": "stream",
     "text": [
      "\u001b[32m  ✓ \u001b[39m\u001b[90mNLSolversBase\u001b[39m\n"
     ]
    },
    {
     "name": "stderr",
     "output_type": "stream",
     "text": [
      "\u001b[32m  ✓ \u001b[39m\u001b[90mBrillouin\u001b[39m\n"
     ]
    },
    {
     "name": "stderr",
     "output_type": "stream",
     "text": [
      "\u001b[32m  ✓ \u001b[39m\u001b[90mLineSearches\u001b[39m\n"
     ]
    },
    {
     "name": "stderr",
     "output_type": "stream",
     "text": [
      "\u001b[32m  ✓ \u001b[39mOptim\n"
     ]
    },
    {
     "name": "stderr",
     "output_type": "stream",
     "text": [
      "\u001b[32m  ✓ \u001b[39mUnitful\n"
     ]
    },
    {
     "name": "stderr",
     "output_type": "stream",
     "text": [
      "\u001b[32m  ✓ \u001b[39m\u001b[90mPeriodicTable\u001b[39m\n"
     ]
    },
    {
     "name": "stderr",
     "output_type": "stream",
     "text": [
      "\u001b[32m  ✓ \u001b[39m\u001b[90mPolynomials\u001b[39m\n"
     ]
    },
    {
     "name": "stderr",
     "output_type": "stream",
     "text": [
      "\u001b[32m  ✓ \u001b[39mUnitfulAtomic\n"
     ]
    },
    {
     "name": "stderr",
     "output_type": "stream",
     "text": [
      "\u001b[32m  ✓ \u001b[39m\u001b[90mAtomsBase\u001b[39m\n"
     ]
    },
    {
     "name": "stderr",
     "output_type": "stream",
     "text": [
      "\u001b[32m  ✓ \u001b[39m\u001b[90mInteratomicPotentials\u001b[39m\n",
      "\u001b[32m  ✓ \u001b[39m\u001b[90mReverseDiff\u001b[39m\n"
     ]
    },
    {
     "name": "stderr",
     "output_type": "stream",
     "text": [
      "\u001b[32m  ✓ \u001b[39m\u001b[90mComponentArrays\u001b[39m\n"
     ]
    },
    {
     "name": "stderr",
     "output_type": "stream",
     "text": [
      "\u001b[32m  ✓ \u001b[39m\u001b[90mDftFunctionals\u001b[39m\n"
     ]
    },
    {
     "name": "stderr",
     "output_type": "stream",
     "text": [
      "\u001b[32m  ✓ \u001b[39mDFTK\n"
     ]
    },
    {
     "name": "stderr",
     "output_type": "stream",
     "text": [
      "\u001b[32m  ✓ \u001b[39mParallelTemperingMonteCarlo\n",
      "  30 dependencies successfully precompiled in 178 seconds. 108 already precompiled.\n"
     ]
    }
   ],
   "source": [
    "using Pkg; Pkg.update()\n",
    "#using Pkg; Pkg.resolve()\n",
    "using SplitApplyCombine\n",
    "using ParallelTemperingMonteCarlo\n",
    "using DelimitedFiles\n",
    "using StaticArrays\n",
    "using Random, Plots\n",
    "\n",
    "using BenchmarkTools"
   ]
  },
  {
   "cell_type": "markdown",
   "metadata": {},
   "source": [
    "# Main Goal\n",
    "\n",
    "Broadly speaking, each potential requires different variables, vectors and changes at each step, this leads to method double-ups (with nonspecific variable types) as well as the need to rewrite high level functions such as mc_step and mc_cycle. By writing a single vector or struct that contains all the required vectors etc would solve both problems. "
   ]
  },
  {
   "cell_type": "code",
   "execution_count": 2,
   "metadata": {},
   "outputs": [],
   "source": [
    "abstract type PotentialVariables end"
   ]
  },
  {
   "cell_type": "markdown",
   "metadata": {},
   "source": [
    "Each potential requires different vectors, both for sampling and as temporary delta vectors. Starting with the ELJ potential, requiring essentially nothing, maybe the new_dist2_vector if anything\n"
   ]
  },
  {
   "cell_type": "code",
   "execution_count": 7,
   "metadata": {},
   "outputs": [
    {
     "data": {
      "text/plain": [
       "5-element Vector{Float64}:\n",
       " 3.0\n",
       " 4.0\n",
       " 6.0\n",
       " 8.0\n",
       " 9.0"
      ]
     },
     "metadata": {},
     "output_type": "display_data"
    }
   ],
   "source": [
    "function test_function_individual(x::Float64,y::Float64)\n",
    "    x += y \n",
    "    return x\n",
    "end\n",
    "function test_function_vec(xvec,why)\n",
    "    xvec = test_function_individual.(xvec,why)\n",
    "    return xvec \n",
    "end\n",
    "x_vec = [1., 2., 3., 4., 5.]\n",
    "y= [2. , 2. , 3. , 4. , 4. ]\n",
    "\n",
    "xvec = test_function_vec(x_vec,y)\n"
   ]
  },
  {
   "cell_type": "code",
   "execution_count": 3,
   "metadata": {},
   "outputs": [
    {
     "data": {
      "text/plain": [
       "set_variables (generic function with 1 method)"
      ]
     },
     "metadata": {},
     "output_type": "display_data"
    }
   ],
   "source": [
    "mutable struct DimerPotentialVariables <: PotentialVariables\n",
    "    new_en::Float64\n",
    "    new_dist2_vec::Vector\n",
    "end\n",
    "function set_variables(config,dist_2_mat,pot::AbstractDimerPotential)\n",
    "    \n",
    "    new_dist2_vector = zeros(length(config))\n",
    "    return DimerPotentialVariable(new_dist2_vector,0. )\n",
    "end"
   ]
  },
  {
   "cell_type": "code",
   "execution_count": null,
   "metadata": {},
   "outputs": [],
   "source": [
    "function dimer_energy_update(pos,index,config,dist2_mat,new_dist2_vec,new_en,en_tot,pot::AbstractDimerPotential)\n",
    "    new_dist2_vec = [distance2(pos,b,config.bc) for b in config.pos]\n",
    "    new_dist2_vec[index] = 0.\n",
    "    delta_en = dimer_energy_atom(index,new_dist2_vec,pot) - dimer_energy_atom(index,dist2_mat, pot)\n",
    "\n",
    "    return new_dist2_vec, delta_en + en_tot\n",
    "end\n",
    "\n",
    "function energy_update(pos,index,mc_state,pot::AbstractDimerPotential)\n",
    "\n",
    "    mc_state.potential_variables.new_dist2_vec,mc_state.potential_variables.new_en = energy_update(trial_pos,index,mc_state.config,mc_state.dist2_mat,mc_state.potential_variables.new_dist2_vec,potential_variables.new_en,mc_state.en_tot,pot)\n",
    "\n",
    "    return mc_state\n",
    "end\n",
    "\n",
    "# function get_energy_dimer(trial_pos,index,mc_state,pot::AbstractDimerPotential)\n",
    "#     return energy_update(pos,index,mc_state,pot)\n",
    "# end\n",
    "\n",
    "function get_energy(trial_positions,indices,mc_states,pot::AbstractDimerPotential)\n",
    "    return energy_update.(trial_positions,indices,mc_states,Ref(pot))\n",
    "end"
   ]
  },
  {
   "cell_type": "markdown",
   "metadata": {},
   "source": [
    "The NNPState struct becomes redundant, since we can add the various vectors to the potential variables"
   ]
  },
  {
   "cell_type": "code",
   "execution_count": 4,
   "metadata": {},
   "outputs": [
    {
     "data": {
      "text/plain": [
       "set_variables (generic function with 2 methods)"
      ]
     },
     "metadata": {},
     "output_type": "display_data"
    }
   ],
   "source": [
    "mutable struct NNPVariables <: PotentialVariables\n",
    "    new_en::Float64\n",
    "    new_dist2_vec::Vector\n",
    "    new_en_atom::Vector\n",
    "    g_matrix::Array\n",
    "    f_matrix::Array\n",
    "    new_g_matrix::Array\n",
    "    new_f_vec::Vector\n",
    "end\n",
    "function set_variables(config,dist2_mat,pot::RuNNerPotential)\n",
    "    \n",
    "    n_atoms = length(config)\n",
    "    f_matrix = cutoff_function.(sqrt.(dist2_mat),Ref(pot.r_cut))\n",
    "    g_matrix = total_symm_calc(config.pos,dist2_mat,f_matrix,pot.symmetryfunctions)\n",
    "    \n",
    "    return NNPVariables(0. ,zeros(n_atoms),zeros(n_atoms),g_matrix,f_matrix,zeros(length(pot.symmetryfunctions)), zeros(n_atoms))\n",
    "end"
   ]
  },
  {
   "cell_type": "code",
   "execution_count": null,
   "metadata": {},
   "outputs": [],
   "source": [
    "function get_new_state_vars!(trial_pos,atomindex,nnp_state,pot)\n",
    "\n",
    "    nnp_state.potential_variables.new_dist2_vec = [ distance2(trial_pos,b,nnp_state.config.bc) for b in nnp_state.config.pos]\n",
    "    nnp_state.potential_variables.new_dist2_vec[atomindex] = 0.\n",
    "    \n",
    "    nnp_state.potential_variables.new_f_vec = cutoff_function.(sqrt.(nnp_state.potential_variables.new_dist2_vec),Ref(pot.r_cut))\n",
    "\n",
    "\n",
    "    nnp_state.potential_variables.new_g_matrix = copy(nnp_state.potential_variables.g_matrix)\n",
    "\n",
    "    nnp_state.potential_variables.new_g_matrix = total_thr_symm!(nnp_state.potential_variables.new_g_matrix,nnp_state.config.pos,trial_pos,nnp_state.dist2_mat,nnp_state.potential_variables.new_dist2_vec,nnp_state.potential_variables.f_matrix,nnp_state.potential_variables.new_f_vec,atomindex,pot.symmetryfunctions)\n",
    "\n",
    "    return nnp_state\n",
    "end\n",
    "function calc_new_energy!(nnp_state,pot)\n",
    "    nnp_state.potential_variables.new_en_atom = forward_pass(nnp_state.new_g_matrix,length(nnp_state.en_atom_vec),pot.nnp)\n",
    "    return nnp_state\n",
    "end\n",
    "function get_runner_energy(trial_pos,index,state,pot::RuNNerPotential)\n",
    "    state = get_new_state_vars(trial_pos,index,state,pot)\n",
    "    state = calc_new_energy!(state,pot)\n",
    "    state.potential_variables.new_en = sum(state.potential_variables.new_en_atom)\n",
    "    return state\n",
    "end\n",
    "function get_energy(trial_positions,indices,mc_states,pot::RuNNerPotential)\n",
    "    mc_states = get_runner_energy!.(trial_positions,indices,mc_states,Ref(pot))\n",
    "    return mc_states\n",
    "end"
   ]
  },
  {
   "cell_type": "markdown",
   "metadata": {},
   "source": [
    "Similarly, the embedded atom model is defined as:\n",
    "\n",
    "Some notes: This was the last potential written when I opted for thecurrent format. The functions are written with the form we're moving to in mind and only require a moderate amount of adjustment. "
   ]
  },
  {
   "cell_type": "code",
   "execution_count": 5,
   "metadata": {},
   "outputs": [
    {
     "data": {
      "text/plain": [
       "set_variables (generic function with 3 methods)"
      ]
     },
     "metadata": {},
     "output_type": "display_data"
    }
   ],
   "source": [
    "mutable struct EmbeddedAtomVariables <: PotentialVariables\n",
    "    new_en::Float64\n",
    "    new_dist2_vec::Vector\n",
    "    component_vector::Matrix\n",
    "    new_component_vector::Matrix\n",
    "end\n",
    "function set_variables(config,dist2_matrix,pot::EmbeddedAtomPotential)\n",
    "    \n",
    "    return EmbeddedAtomVariables(zeros(length(config)),component_vector,new_component_vector)\n",
    "end"
   ]
  },
  {
   "cell_type": "code",
   "execution_count": null,
   "metadata": {},
   "outputs": [],
   "source": [
    "function calc_new_energy(mc_state,atomindex,newpos,pot::EmbeddedAtomPotential)\n",
    "\n",
    "    mc_state.potential_variables.dist2_new = [distance2(newpos,b) for b in mc_state.config.pos]\n",
    "\n",
    "    mc_state.potential_variables.dist2_new[atomindex] = 0.\n",
    "\n",
    "    mc_state.potential_variables.new_component_vector = deepcopy(mc_state.potential_variables.component_vector)\n",
    "    \n",
    "    mc_state.potential_variables.new_component_vector = calc_components(mc_state.potential_variables.new_component_vector,atomindex,mc_state.dist2_mat[atomindex,:],mc_state.potential_variables.dist2_new,pot.n,pot.m)\n",
    "\n",
    "    mc_state.potential_variables.new_en = calc_energies_from_components(new_component_vector,pot.ean,pot.eCam)\n",
    "\n",
    "    return  mc_state\n",
    "end\n",
    "\n",
    "function get_energy(trial_positions,indices,mc_states,pot::EmbeddedAtomPotential)\n",
    "    mc_states = calc_new_energy.(mc_states,indices,trial_positions,Ref(pot))\n",
    "    return mc_states\n",
    "end"
   ]
  },
  {
   "cell_type": "code",
   "execution_count": null,
   "metadata": {},
   "outputs": [],
   "source": []
  },
  {
   "cell_type": "markdown",
   "metadata": {},
   "source": [
    "And the Magnetic Field potential"
   ]
  },
  {
   "cell_type": "code",
   "execution_count": 6,
   "metadata": {},
   "outputs": [
    {
     "data": {
      "text/plain": [
       "set_variables (generic function with 4 methods)"
      ]
     },
     "metadata": {},
     "output_type": "display_data"
    }
   ],
   "source": [
    "mutable struct ELJPotentialB <: PotentialVariables\n",
    "    new_en::Float64\n",
    "    new_dist2_vec::Vector\n",
    "    tanmat::Array\n",
    "    new_tan_vec::Vector\n",
    "end\n",
    "function set_variables(config::Config,dist2_matrix::Matrix,pot::AbstractDimerPotentialB)\n",
    "    n_atoms = length(config)\n",
    "    tan_matrix = get_tantheta_mat(config,config.pos)\n",
    "\n",
    "    return ELJPotentialB(zeros(n_atoms),tan_matrix,zeros(n_atoms))\n",
    "end"
   ]
  },
  {
   "cell_type": "markdown",
   "metadata": {},
   "source": [
    "we'll circle back to what happens with magnetic fields"
   ]
  },
  {
   "cell_type": "code",
   "execution_count": null,
   "metadata": {},
   "outputs": [],
   "source": []
  },
  {
   "cell_type": "markdown",
   "metadata": {},
   "source": [
    "Just to be cautious, writing MCState here and subbing it in\n"
   ]
  },
  {
   "cell_type": "code",
   "execution_count": null,
   "metadata": {},
   "outputs": [],
   "source": [
    "mutable struct MCState{T,N,BC}\n",
    "    temp::T\n",
    "    beta::T\n",
    "    config::Config{N,BC,T}\n",
    "    dist2_mat::Matrix{T}\n",
    "\n",
    "    potential_variables <:PotentialVariables\n",
    "    # new_dist2_vector::Vector\n",
    "    # new_energy::T\n",
    "\n",
    "    en_tot::T\n",
    "    ham::Vector{T}\n",
    "    max_displ::Vector{T}\n",
    "    max_boxlength::T\n",
    "    count_atom::Vector{Int}\n",
    "    count_vol::Vector{Int}\n",
    "    count_rot::Vector{Int}\n",
    "    count_exc::Vector{Int}\n",
    "end\n",
    "function MCState(\n",
    "    temp, beta, config::Config{N,BC,T}, dist2_mat, potential_variables, en_tot; \n",
    "    max_displ = [0.1,0.1,1.], max_boxlength = 10., count_atom = [0,0], count_vol = [0,0], count_rot = [0,0], count_exc = [0,0]\n",
    ") where {T,N,BC}\n",
    "    ham = T[]\n",
    "    MCState{T,N,BC}(\n",
    "        temp, beta, deepcopy(config), copy(dist2_mat), copy(potential_variables), en_tot, ham, copy(max_displ), copy(max_boxlength), copy(count_atom), copy(count_vol), copy(count_rot), copy(count_exc)\n",
    "        )\n",
    "end\n",
    "function MCState(temp, beta, config::Config, pot <:AbstractPotential ; kwargs...) \n",
    "    dist2_mat = get_distance2_mat(config)\n",
    "    n_atoms = length(config.pos)\n",
    "\n",
    "    # if typeof(config.bc) == PeriodicBC{Float64}\n",
    "    #     en_atom_vec, en_tot = dimer_energy_config(dist2_mat, n_atoms, config.bc.box_length^2/4, pot)\n",
    "    # else\n",
    "    #     en_atom_vec, en_tot = dimer_energy_config(dist2_mat, n_atoms, pot)\n",
    "    # end\n",
    "\n",
    "# This section can't be predefined without actually generating the energy. In this way, we need to calculate the energy off the bat. Perhaps the best way to deal with this is have the get_energy function depend on the potential_variables rather than the \n",
    "\n",
    "\n",
    "    potential_variables = set_variables(config,dist2_mat,pot)\n",
    "    MCState(temp, beta, config, dist2_mat, potential_variables, en_tot; kwargs...)\n",
    "end"
   ]
  },
  {
   "cell_type": "code",
   "execution_count": null,
   "metadata": {},
   "outputs": [],
   "source": []
  }
 ],
 "metadata": {
  "kernelspec": {
   "display_name": "Julia 1.8.0",
   "language": "julia",
   "name": "julia-1.8"
  },
  "language_info": {
   "file_extension": ".jl",
   "mimetype": "application/julia",
   "name": "julia",
   "version": "1.8.0"
  },
  "orig_nbformat": 4
 },
 "nbformat": 4,
 "nbformat_minor": 2
}
