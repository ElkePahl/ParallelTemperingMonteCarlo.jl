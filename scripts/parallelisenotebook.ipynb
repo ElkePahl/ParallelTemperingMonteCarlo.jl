{
 "cells": [
  {
   "cell_type": "code",
   "execution_count": 13,
   "metadata": {},
   "outputs": [
    {
     "data": {
      "text/plain": [
       "8-element Vector{Int64}:\n",
       " 18\n",
       " 19\n",
       " 20\n",
       " 21\n",
       " 22\n",
       " 23\n",
       " 24\n",
       " 25"
      ]
     },
     "metadata": {},
     "output_type": "display_data"
    }
   ],
   "source": [
    "using Distributed\n",
    "using Base.Threads\n",
    "@everywhere begin\n",
    "    using BenchmarkTools\n",
    "    using ParallelTemperingMonteCarlo\n",
    "end\n",
    "#addprocs(nthreads())"
   ]
  },
  {
   "cell_type": "markdown",
   "metadata": {},
   "source": [
    "In order to use a function of several variables in the pmap environment we require a curry function"
   ]
  },
  {
   "cell_type": "code",
   "execution_count": 6,
   "metadata": {},
   "outputs": [],
   "source": [
    "@everywhere curry(f,y) = x -> f(x,y)\n",
    "@everywhere add_xy(x,y) = x + y \n"
   ]
  },
  {
   "cell_type": "code",
   "execution_count": 12,
   "metadata": {},
   "outputs": [
    {
     "data": {
      "text/plain": [
       "5-element Vector{Int64}:\n",
       " 11\n",
       " 12\n",
       " 13\n",
       " 14\n",
       " 15"
      ]
     },
     "metadata": {},
     "output_type": "display_data"
    }
   ],
   "source": [
    "pmap(curry(add_xy,10), 1:5)\n"
   ]
  },
  {
   "cell_type": "markdown",
   "metadata": {},
   "source": [
    "NB spawning processes is expensive and _not recommended at all_ for simple loops and functions."
   ]
  },
  {
   "cell_type": "markdown",
   "metadata": {},
   "source": [
    "# Sync macros\n",
    "\n",
    "sync requires all tasks inside to complete before moving on, async moves right on along without waiting, "
   ]
  },
  {
   "cell_type": "code",
   "execution_count": 20,
   "metadata": {},
   "outputs": [
    {
     "name": "stdout",
     "output_type": "stream",
     "text": [
      "slept for two\n",
      "done\n"
     ]
    },
    {
     "name": "stdout",
     "output_type": "stream",
     "text": [
      "nice and rested\n"
     ]
    }
   ],
   "source": [
    "@sync begin\n",
    "    sleep(2)\n",
    "    println(\"slept for two\")\n",
    "\n",
    "    @async begin \n",
    "        sleep(5)\n",
    "        println(\"nice and rested\")\n",
    "    end\n",
    "#the async wrapper skips straight to done\n",
    "    println(\"done\")\n",
    "end"
   ]
  },
  {
   "cell_type": "markdown",
   "metadata": {},
   "source": [
    "We'll simulate a complex process with a 2 second sleep"
   ]
  },
  {
   "cell_type": "code",
   "execution_count": 22,
   "metadata": {},
   "outputs": [
    {
     "data": {
      "text/plain": [
       "simtest (generic function with 1 method)"
      ]
     },
     "metadata": {},
     "output_type": "display_data"
    }
   ],
   "source": [
    "function simtest(x)\n",
    "    sleep(2)\n",
    "    return x\n",
    "end"
   ]
  },
  {
   "cell_type": "code",
   "execution_count": 30,
   "metadata": {},
   "outputs": [
    {
     "name": "stdout",
     "output_type": "stream",
     "text": [
      "Any[1, 2, 3, 4, 5, 6, 7, 8, 9, 10]\n",
      " 20.016610 seconds (1.16 k allocations: 35.969 KiB)\n"
     ]
    },
    {
     "name": "stdout",
     "output_type": "stream",
     "text": [
      "Any[1, 2, 3, 4, 5, 6, 7, 8, 9, 10]\n",
      "  2.024840 seconds (2.64 k allocations: 133.564 KiB, 1.09% compilation time)\n"
     ]
    }
   ],
   "source": [
    "@time begin \n",
    "    veccy = []\n",
    "    for i = 1:10\n",
    "\n",
    "        y = simtest(i)\n",
    "        push!(veccy,y)\n",
    "        \n",
    "    end\n",
    "    println(veccy)\n",
    "end\n",
    "\n",
    "@time begin \n",
    "    @sync for i = 1:10\n",
    "        veccy = []\n",
    "        @async begin \n",
    "            y = simtest(i)\n",
    "            push!(veccy,y)\n",
    "        end\n",
    "    end\n",
    "    println(veccy)\n",
    "end"
   ]
  },
  {
   "cell_type": "markdown",
   "metadata": {},
   "source": [
    "NB: Asynchronous tasks are not parallel, demonstrated above they do boost performance for large operations. Use @spawn not @async for parallel operations\n",
    "\n",
    "Let's test a data unsafe operation"
   ]
  },
  {
   "cell_type": "code",
   "execution_count": 42,
   "metadata": {},
   "outputs": [
    {
     "data": {
      "text/plain": [
       "printtest (generic function with 2 methods)"
      ]
     },
     "metadata": {},
     "output_type": "display_data"
    }
   ],
   "source": [
    "function printtest(x::Bool = true)\n",
    "    println(\"begin\")\n",
    "    if x == true\n",
    "        @sync for i=1:10\n",
    "            @spawn println(\"$i $i $i $i $i \")\n",
    "        end\n",
    "    else\n",
    "        for i=1:10\n",
    "            println(\"$i $i $i $i $i \")\n",
    "        end\n",
    "    end\n",
    "    println(\"end\")\n",
    "end"
   ]
  },
  {
   "cell_type": "code",
   "execution_count": null,
   "metadata": {},
   "outputs": [],
   "source": []
  },
  {
   "cell_type": "code",
   "execution_count": 44,
   "metadata": {},
   "outputs": [
    {
     "name": "stdout",
     "output_type": "stream",
     "text": [
      "begin\n",
      "      From worker 3:\t6 6 6 6 6 \n",
      "      From worker 4:\t7 7 7 7 7 \n",
      "      From worker 2:\t5 5 5 5 5 \n",
      "      From worker 5:\t8 8 8 8 8 \n",
      "      From worker 7:\t10 10 10 10 10 \n",
      "      From worker 6:\t9 9 9 9 9 \n"
     ]
    },
    {
     "name": "stdout",
     "output_type": "stream",
     "text": [
      "      From worker 22:\t1 1 1 1 1 \n",
      "      From worker 24:\t3 3 3 3 3 \n",
      "      From worker 23:\t2 2 2 2 2 \n",
      "      From worker 25:\t4 4 4 4 4 \n"
     ]
    },
    {
     "name": "stdout",
     "output_type": "stream",
     "text": [
      "end\n",
      "  3.457296 seconds (2.62 k allocations: 123.656 KiB)\n",
      "done\n",
      "begin\n",
      "1 1 1 1 1 \n",
      "2 2 2 2 2 \n",
      "3 3 3 3 3 \n",
      "4 4 4 4 4 \n",
      "5 5 5 5 5 \n",
      "6 6 6 6 6 \n",
      "7 7 7 7 7 \n",
      "8 8 8 8 8 \n",
      "9 9 9 9 9 \n",
      "10 10 10 10 10 \n",
      "end\n",
      "  0.000178 seconds (517 allocations: 17.969 KiB)\n",
      "done\n",
      "begin\n",
      "7 7 7 7 7 \n",
      "1 1 1 1 1 \n",
      "2 2 2 2 2 \n",
      "10 10 10 10 10 \n",
      "3 3 3 3 3 \n",
      "4 4 4 4 4 \n",
      "5 5 5 5 5 \n",
      "8 8 8 8 8 \n",
      "6 6 6 6 6 \n",
      "9 9 9 9 9 \n",
      "end\n",
      "  0.023980 seconds (18.15 k allocations: 1.024 MiB, 96.25% compilation time)\n"
     ]
    }
   ],
   "source": [
    "@time printtest()\n",
    "println(\"done\")\n",
    "@time printtest(false)\n",
    "println(\"done\")\n",
    "@time begin \n",
    "    println(\"begin\")\n",
    "    @threads for i=1:10\n",
    "        println(\"$i $i $i $i $i \")\n",
    "    end\n",
    "    println(\"end\")\n",
    "end"
   ]
  },
  {
   "cell_type": "markdown",
   "metadata": {},
   "source": [
    "# NB \n",
    "Categorically do not use @spawn where data ordering is relevant. Additionally, it is considered bad practice to parallelise any operation faster than 100 $\\mu m$ for threads or 100ms for spawning as it does not increase speed enough to compensate for the time taken to spawn the operation.\n",
    "\n",
    "Below we test specific functions for this purpose."
   ]
  },
  {
   "cell_type": "markdown",
   "metadata": {},
   "source": [
    "## Onwards, time-testing some functions"
   ]
  },
  {
   "cell_type": "code",
   "execution_count": 59,
   "metadata": {},
   "outputs": [
    {
     "data": {
      "text/plain": [
       "Output{Float64}(100, 0.0, 0.0, Float64[], Float64[], Float64[], Vector{Float64}[], Float64[], Float64[], Float64[], Float64[], Float64[])"
      ]
     },
     "metadata": {},
     "output_type": "display_data"
    }
   ],
   "source": [
    "n_atoms = 13\n",
    "\n",
    "# temperature grid\n",
    "ti = 5.\n",
    "tf = 16.\n",
    "n_traj = 32\n",
    "\n",
    "temp = TempGrid{n_traj}(ti,tf) \n",
    "\n",
    "# MC simulation details\n",
    "mc_cycles = 300000 #default 20% equilibration cycles on top\n",
    "mc_sample = 1  #sample every mc_sample MC cycles\n",
    "\n",
    "#move_atom=AtomMove(n_atoms) #move strategy (here only atom moves, n_atoms per MC cycle)\n",
    "displ_atom = 0.1 # Angstrom\n",
    "n_adjust = 100\n",
    "\n",
    "max_displ_atom = [0.1*sqrt(displ_atom*temp.t_grid[i]) for i in 1:n_traj]\n",
    "\n",
    "mc_params = MCParams(mc_cycles, n_traj, n_atoms, mc_sample = mc_sample, n_adjust = n_adjust)\n",
    "\n",
    "#moves - allowed at present: atom, volume and rotation moves (volume,rotation not yet implemented)\n",
    "move_strat = MoveStrategy(atom_moves = n_atoms)  \n",
    "\n",
    "#ensemble\n",
    "ensemble = NVT(n_atoms)\n",
    "\n",
    "#ELJpotential for neon\n",
    "#c1=[-10.5097942564988, 0., 989.725135614556, 0., -101383.865938807, 0., 3918846.12841668, 0., -56234083.4334278, 0., 288738837.441765]\n",
    "#elj_ne1 = ELJPotential{11}(c1)\n",
    "\n",
    "c=[-10.5097942564988, 989.725135614556, -101383.865938807, 3918846.12841668, -56234083.4334278, 288738837.441765]\n",
    "pot = ELJPotentialEven{6}(c)\n",
    "\n",
    "#starting configurations\n",
    "#icosahedral ground state of Ne13 (from Cambridge cluster database) in Angstrom\n",
    "pos_ne13 = [[2.825384495892464, 0.928562467914040, 0.505520149314310],\n",
    "[2.023342172678102,\t-2.136126268595355, 0.666071287554958],\n",
    "[2.033761811732818,\t-0.643989413759464, -2.133000349161121],\n",
    "[0.979777205108572,\t2.312002562803556, -1.671909307631893],\n",
    "[0.962914279874254,\t-0.102326586625353, 2.857083360096907],\n",
    "[0.317957619634043,\t2.646768968413408, 1.412132053672896],\n",
    "[-2.825388342924982, -0.928563755928189, -0.505520471387560],\n",
    "[-0.317955944853142, -2.646769840660271, -1.412131825293682],\n",
    "[-0.979776174195320, -2.312003751825495, 1.671909138648006],\n",
    "[-0.962916072888105, 0.102326392265998,\t-2.857083272537599],\n",
    "[-2.023340541398004, 2.136128558801072,\t-0.666071089291685],\n",
    "[-2.033762834001679, 0.643989905095452, 2.132999911364582],\n",
    "[0.000002325340981,\t0.000000762100600, 0.000000414930733]]\n",
    "\n",
    "#convert to Bohr\n",
    "AtoBohr = 1.8897259886\n",
    "pos_ne13 = pos_ne13 * AtoBohr\n",
    "\n",
    "length(pos_ne13) == n_atoms || error(\"number of atoms and positions not the same - check starting config\")\n",
    "\n",
    "#boundary conditions \n",
    "bc_ne13 = SphericalBC(radius=5.32*AtoBohr)   #5.32 Angstrom\n",
    "\n",
    "#starting configuration\n",
    "start_config = Config(pos_ne13, bc_ne13)\n",
    "\n",
    "#histogram information\n",
    "n_bin = 100\n",
    "#en_min = -0.006    #might want to update after equilibration run if generated on the fly\n",
    "#en_max = -0.001    #otherwise will be determined after run as min/max of sampled energies (ham vector)\n",
    "\n",
    "#construct array of MCState (for each temperature)\n",
    "mc_states = [MCState(temp.t_grid[i], temp.beta_grid[i], start_config, pot; max_displ=[max_displ_atom[i],0.01,1.]) for i in 1:n_traj]\n",
    "\n",
    "#results = Output(n_bin, max_displ_vec)\n",
    "results = Output{Float64}(n_bin; en_min = mc_states[1].en_tot)\n"
   ]
  },
  {
   "cell_type": "markdown",
   "metadata": {},
   "source": [
    "above we just define the 13 atom system, below we show that threading halves the time taken to complete one mc_step per trajectory."
   ]
  },
  {
   "cell_type": "code",
   "execution_count": 60,
   "metadata": {},
   "outputs": [
    {
     "name": "stdout",
     "output_type": "stream",
     "text": [
      "  13.672 μs (98 allocations: 13.09 KiB)\n"
     ]
    },
    {
     "name": "stdout",
     "output_type": "stream",
     "text": [
      "  8.018 μs (107 allocations: 15.73 KiB)\n"
     ]
    }
   ],
   "source": [
    "@btime begin \n",
    "    for i in 1:mc_params.n_traj\n",
    "        mc_step!(mc_states[i],pot,ensemble,1,0,0);\n",
    "    end\n",
    "end\n",
    "\n",
    "@btime begin \n",
    "    @threads for i in 1:mc_params.n_traj\n",
    "        mc_step!(mc_states[i],pot,ensemble,1,0,0);\n",
    "    end\n",
    "end\n"
   ]
  },
  {
   "cell_type": "code",
   "execution_count": null,
   "metadata": {},
   "outputs": [],
   "source": []
  }
 ],
 "metadata": {
  "kernelspec": {
   "display_name": "Julia 1.6.0",
   "language": "julia",
   "name": "julia-1.6"
  },
  "language_info": {
   "file_extension": ".jl",
   "mimetype": "application/julia",
   "name": "julia",
   "version": "1.6.0"
  },
  "orig_nbformat": 4
 },
 "nbformat": 4,
 "nbformat_minor": 2
}
