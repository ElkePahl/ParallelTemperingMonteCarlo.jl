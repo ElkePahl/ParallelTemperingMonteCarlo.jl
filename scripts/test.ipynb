{
 "cells": [
  {
   "cell_type": "code",
   "execution_count": 3,
   "metadata": {},
   "outputs": [
    {
     "name": "stderr",
     "output_type": "stream",
     "text": [
      "\u001b[32m\u001b[1m  No Changes\u001b[22m\u001b[39m to `~/Documents/ParallelTemperingMonteCarlo.jl/Project.toml`\n",
      "\u001b[32m\u001b[1m  No Changes\u001b[22m\u001b[39m to `~/Documents/ParallelTemperingMonteCarlo.jl/Manifest.toml`\n"
     ]
    }
   ],
   "source": [
    "#using Pkg; Pkg.update()\n",
    "using Pkg; Pkg.resolve()\n",
    "using SplitApplyCombine\n",
    "using ParallelTemperingMonteCarlo\n",
    "using DelimitedFiles\n",
    "using StaticArrays\n",
    "using Random#, Plots\n",
    "\n",
    "using BenchmarkTools"
   ]
  },
  {
   "attachments": {},
   "cell_type": "markdown",
   "metadata": {},
   "source": [
    "Below was used to benchmark generating vectors"
   ]
  },
  {
   "cell_type": "code",
   "execution_count": 2,
   "metadata": {},
   "outputs": [],
   "source": [
    "# genvector1(max_displacement) = max_displacement * (rand(-0.5:0.001:0.5,3))\n",
    "\n",
    "# genvector2(max_displacement) = SVector((rand()-0.5)*max_displacement,(rand()-0.5)*max_displacement,(rand()-0.5)*max_displacement)\n",
    "# @benchmark genvector1(rand())\n",
    "# @benchmark genvector2(rand())"
   ]
  },
  {
   "attachments": {},
   "cell_type": "markdown",
   "metadata": {},
   "source": [
    "Below is the main code to load 13 atom neon ELJ"
   ]
  },
  {
   "cell_type": "code",
   "execution_count": 4,
   "metadata": {},
   "outputs": [
    {
     "data": {
      "text/plain": [
       "Output{Float64}(100, 0.0, 0.0, Float64[], Float64[], Float64[], Vector{Float64}[], Vector{Float64}[], Float64[], Float64[], Float64[], Float64[])"
      ]
     },
     "metadata": {},
     "output_type": "display_data"
    }
   ],
   "source": [
    "n_atoms = 13\n",
    "\n",
    "# temperature grid\n",
    "ti = 5.\n",
    "tf = 16.\n",
    "n_traj = 32\n",
    "\n",
    "temp = TempGrid{n_traj}(ti,tf) \n",
    "\n",
    "# MC simulation details\n",
    "\n",
    "mc_cycles = 80000 #default 20% equilibration cycles on top\n",
    "\n",
    "mc_sample = 1  #sample every mc_sample MC cycles\n",
    "\n",
    "#move_atom=AtomMove(n_atoms) #move strategy (here only atom moves, n_atoms per MC cycle)\n",
    "displ_atom = 0.1 # Angstrom\n",
    "n_adjust = 100\n",
    "\n",
    "max_displ_atom = [0.1*sqrt(displ_atom*temp.t_grid[i]) for i in 1:n_traj]\n",
    "\n",
    "mc_params = MCParams(mc_cycles, n_traj, n_atoms, mc_sample = mc_sample, n_adjust = n_adjust)\n",
    "\n",
    "#moves - allowed at present: atom, volume and rotation moves (volume,rotation not yet implemented)\n",
    "move_strat = MoveStrategy(atom_moves = n_atoms)  \n",
    "\n",
    "#ensemble\n",
    "ensemble = NVT(n_atoms)\n",
    "\n",
    "#ELJpotential for neon\n",
    "#c1=[-10.5097942564988, 0., 989.725135614556, 0., -101383.865938807, 0., 3918846.12841668, 0., -56234083.4334278, 0., 288738837.441765]\n",
    "#elj_ne1 = ELJPotential{11}(c1)\n",
    "\n",
    "c=[-10.5097942564988, 989.725135614556, -101383.865938807, 3918846.12841668, -56234083.4334278, 288738837.441765]\n",
    "pot = ELJPotentialEven{6}(c)\n",
    "\n",
    "#starting configurations\n",
    "#icosahedral ground state of Ne13 (from Cambridge cluster database) in Angstrom\n",
    "pos_ne13 = [[2.825384495892464, 0.928562467914040, 0.505520149314310],\n",
    "[2.023342172678102,\t-2.136126268595355, 0.666071287554958],\n",
    "[2.033761811732818,\t-0.643989413759464, -2.133000349161121],\n",
    "[0.979777205108572,\t2.312002562803556, -1.671909307631893],\n",
    "[0.962914279874254,\t-0.102326586625353, 2.857083360096907],\n",
    "[0.317957619634043,\t2.646768968413408, 1.412132053672896],\n",
    "[-2.825388342924982, -0.928563755928189, -0.505520471387560],\n",
    "[-0.317955944853142, -2.646769840660271, -1.412131825293682],\n",
    "[-0.979776174195320, -2.312003751825495, 1.671909138648006],\n",
    "[-0.962916072888105, 0.102326392265998,\t-2.857083272537599],\n",
    "[-2.023340541398004, 2.136128558801072,\t-0.666071089291685],\n",
    "[-2.033762834001679, 0.643989905095452, 2.132999911364582],\n",
    "[0.000002325340981,\t0.000000762100600, 0.000000414930733]]\n",
    "\n",
    "#convert to Bohr\n",
    "AtoBohr = 1.8897259886\n",
    "pos_ne13 = pos_ne13 * AtoBohr\n",
    "\n",
    "length(pos_ne13) == n_atoms || error(\"number of atoms and positions not the same - check starting config\")\n",
    "\n",
    "#boundary conditions \n",
    "bc_ne13 = SphericalBC(radius=5.32*AtoBohr)   #5.32 Angstrom\n",
    "\n",
    "#starting configuration\n",
    "start_config = Config(pos_ne13, bc_ne13)\n",
    "\n",
    "#histogram information\n",
    "n_bin = 100\n",
    "#en_min = -0.006    #might want to update after equilibration run if generated on the fly\n",
    "#en_max = -0.001    #otherwise will be determined after run as min/max of sampled energies (ham vector)\n",
    "\n",
    "#construct array of MCState (for each temperature)\n",
    "mc_states = [MCState(temp.t_grid[i], temp.beta_grid[i], start_config, pot; max_displ=[max_displ_atom[i],0.01,1.]) for i in 1:n_traj]\n",
    "\n",
    "#results = Output(n_bin, max_displ_vec)\n",
    "results = Output{Float64}(n_bin; en_min = mc_states[1].en_tot)"
   ]
  },
  {
   "cell_type": "markdown",
   "metadata": {},
   "source": [
    "Below is the comprehensive testing performed on making a vectorised displacement function"
   ]
  },
  {
   "cell_type": "code",
   "execution_count": 4,
   "metadata": {},
   "outputs": [],
   "source": [
    "# function testtime(mc_states)\n",
    "#     for state in mc_states\n",
    "#         ran = rand(1:length(state.config.pos))\n",
    "#         trial_pos =atom_displacement(state.config.pos[ran],state.max_displ[1],state.config.bc)\n",
    "#     end\n",
    "# end\n",
    "# @benchmark testtime(mc_states)\n",
    "# # rand(1:n_atoms,n_traj)\n",
    "# # V = [1 2 3; 4 5 6; 7 8 9]\n",
    "# # V[:,1]\n",
    "# function atom_disp(mc_state,index)\n",
    "#     trial_pos = atom_displacement(mc_state.config.pos[index],mc_state.max_displ[1],mc_state.config.bc)\n",
    "#     return trial_pos\n",
    "# end\n",
    "# function atom_disp!(mc_state,index,trial_pos::SVector)\n",
    "#     trial_pos = atom_displacement(mc_state.config.pos[index],mc_state.max_displ[1],mc_state.config.bc)\n",
    "#     return trial_pos\n",
    "# end\n",
    "\n",
    "# indices = rand(1:n_atoms,n_traj)\n",
    "\n",
    "# # trial_pos = atom_disp.(mc_states,indices)\n",
    "\n",
    "# @benchmark begin   \n",
    "#     indices = rand(1:n_atoms,n_traj)\n",
    "#     trial_positions = atom_disp.($mc_states,indices)\n",
    "# end\n",
    "\n",
    "# @benchmark begin \n",
    "#     indices = rand(1:n_atoms,n_traj)\n",
    "#     trial_positions =  [@SVector zeros(3) for i in 1:n_traj]\n",
    "#     atom_disp!.($mc_states,indices,trial_positions)\n",
    "# end\n",
    "# function generate_displacements(mc_states,mc_params)\n",
    "#     indices=rand(1:mc_params.n_atoms,mc_params.n_traj)\n",
    "#     trial_positions = atom_disp.(mc_states,indices)\n",
    "#     return indices,trial_positions\n",
    "# end\n",
    "# @benchmark generate_displacements(mc_states,mc_params)\n",
    "# @benchmark dimer_energy_atom(1, mc_states[1].dist2_mat[1,:], pot)\n",
    "# @benchmark dimer_energy_atom(1, mc_states[1].dist2_mat[:,1], pot)"
   ]
  },
  {
   "cell_type": "code",
   "execution_count": 5,
   "metadata": {},
   "outputs": [
    {
     "name": "stdout",
     "output_type": "stream",
     "text": [
      "Total number of moves per MC cycle: 13\n",
      "\n"
     ]
    },
    {
     "name": "stdout",
     "output_type": "stream",
     "text": [
      "equilibration done\n"
     ]
    },
    {
     "name": "stdout",
     "output_type": "stream",
     "text": [
      "MC loop done.\n"
     ]
    },
    {
     "name": "stdout",
     "output_type": "stream",
     "text": [
      "[0.00033416720801801564, 0.00033570914364260417, 0.0003524447798847365, 0.00037012920798913575, 0.00040204588717741087, 0.00039740180075891016, 0.000431344071018235, 0.00044001921647319217, 0.00047813469971175665, 0.0005126303817998226, 0.0005216025888358526, 0.0005680742694791309, 0.0006145382121848079, 0.0006551149520987524, 0.000723059318566369, 0.0008106939796432607, 0.0008766172159544981, 0.0008804014391886023, 0.0009451404512690236, 0.0011646178231171063, 0.0015595668918220388, 0.00189612831308476, 0.002431935008022701, 0.00281114432440048, 0.0032229182931200625, 0.0033325897663891288, 0.0032772484577316303, 0.0031655662114001195, 0.002603787674760687, 0.0022474261120063307, 0.0020509169630187054, 0.0019455338909096453]\n",
      "done\n",
      " 11.466625 seconds (89.46 M allocations: 12.821 GiB, 5.16% gc time, 7.55% compilation time)\n"
     ]
    }
   ],
   "source": [
    "@time ptmc_run!(mc_states, move_strat, mc_params, pot, ensemble, results; save_ham = false)"
   ]
  },
  {
   "attachments": {},
   "cell_type": "markdown",
   "metadata": {},
   "source": [
    "Below is the test for generating energy after displacement"
   ]
  },
  {
   "cell_type": "code",
   "execution_count": 6,
   "metadata": {},
   "outputs": [],
   "source": [
    "# function get_energy_dimer(pos,i_atom,mc_state,pot)\n",
    "#     dist2_new = [distance2(pos,b) for b in mc_state.config.pos]\n",
    "#     dist2_new[i_atom] = 0.\n",
    "\n",
    "#     energy = dimer_energy_atom(i_atom,dist2_new,pot)\n",
    "\n",
    "#     return energy, dist2_new\n",
    "# end\n",
    "\n",
    "# function generate_energies(mc_states,trial_positions,indices,pot)\n",
    "#     output = get_energy_dimer.(trial_positions,indices,mc_states,Ref(pot))\n",
    "#     return output\n",
    "# end\n",
    "# # indices,trial_positions = generate_displacements(mc_states,mc_params)\n",
    "\n",
    "# # output = generate_energies(mc_states,trial_positions,indices,pot)\n",
    "# @benchmark generate_energies(mc_states,trial_positions,indices,pot)\n",
    "# @benchmark begin\n",
    "#    for i in 1:n_traj\n",
    "#         energy_update(trial_positions[i],indices[i],mc_states[i].config,mc_states[i].dist2_mat,pot)\n",
    "#   end\n",
    "# end\n",
    "\n",
    "\n",
    "# energyvector, dist2new = invert(get_energy_dimer.(trial_positions,indices,mc_states,Ref(pot)))\n",
    "# function generate_energies2(mc_states,trial_positions,indices,pot)\n",
    "#     energyvector, dist2new = invert(get_energy_dimer.(trial_positions,indices,mc_states,Ref(pot)))\n",
    "\n",
    "#     return energyvector,dist2new\n",
    "# end\n",
    "# @benchmark generate_energies2(mc_states,trial_positions,indices,pot)"
   ]
  },
  {
   "cell_type": "code",
   "execution_count": 7,
   "metadata": {},
   "outputs": [],
   "source": [
    "# #got some testing for RuNNer \n",
    "# function testwritingvec(file::IOStream,test::String)\n",
    "#     write(file,\"$test \\n\")\n",
    "# end\n",
    "\n",
    "# stringvec = [\"testing\",\"vector\",\"for\",\"strings\"]\n",
    "# file = open(\"testfile.txt\",\"w+\")\n",
    "# testwritingvec.(Ref(file),stringvec)\n",
    "# close(file)"
   ]
  },
  {
   "cell_type": "code",
   "execution_count": 6,
   "metadata": {},
   "outputs": [
    {
     "data": {
      "text/plain": [
       "MoveStrategy{1, 0, 0}()"
      ]
     },
     "metadata": {},
     "output_type": "display_data"
    }
   ],
   "source": []
  },
  {
   "cell_type": "code",
   "execution_count": 8,
   "metadata": {},
   "outputs": [
    {
     "ename": "ErrorException",
     "evalue": "type MoveStrategy has no field a",
     "output_type": "error",
     "traceback": [
      "type MoveStrategy has no field a\n",
      "\n",
      "Stacktrace:\n",
      " [1] getproperty(x::MoveStrategy{1, 0, 0}, f::Symbol)\n",
      "   @ Base ./Base.jl:38\n",
      " [2] top-level scope\n",
      "   @ ~/Documents/ParallelTemperingMonteCarlo.jl/scripts/test.ipynb:1"
     ]
    }
   ],
   "source": []
  },
  {
   "cell_type": "code",
   "execution_count": null,
   "metadata": {},
   "outputs": [],
   "source": []
  }
 ],
 "metadata": {
  "kernelspec": {
   "display_name": "Julia 1.8.5",
   "language": "julia",
   "name": "julia-1.8"
  },
  "language_info": {
   "file_extension": ".jl",
   "mimetype": "application/julia",
   "name": "julia",
   "version": "1.8.5"
  },
  "orig_nbformat": 4
 },
 "nbformat": 4,
 "nbformat_minor": 2
}
