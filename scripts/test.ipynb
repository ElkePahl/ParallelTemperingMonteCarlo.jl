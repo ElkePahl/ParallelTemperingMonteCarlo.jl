{
 "cells": [
  {
   "cell_type": "code",
   "execution_count": 1,
   "metadata": {},
   "outputs": [],
   "source": [
    "using ParallelTemperingMonteCarlo\n",
    "using DelimitedFiles\n",
    "using BenchmarkTools"
   ]
  },
  {
   "cell_type": "code",
   "execution_count": 8,
   "metadata": {},
   "outputs": [
    {
     "data": {
      "text/plain": [
       "Output{Float64}(100, 0.0, 0.0, Float64[], Float64[], Float64[], Vector{Float64}[], Float64[], Float64[], Float64[], Float64[], Float64[])"
      ]
     },
     "metadata": {},
     "output_type": "display_data"
    }
   ],
   "source": [
    "using Random,Plots\n",
    "\n",
    "#set random seed - for reproducibility\n",
    "Random.seed!(1234)\n",
    "\n",
    "# number of atoms\n",
    "n_atoms = 13\n",
    "\n",
    "# temperature grid\n",
    "ti = 5.\n",
    "tf = 16.\n",
    "n_traj = 32\n",
    "\n",
    "temp = TempGrid{n_traj}(ti,tf) \n",
    "\n",
    "# MC simulation details\n",
    "mc_cycles = 50000 #default 20% equilibration cycles on top\n",
    "mc_sample = 1  #sample every mc_sample MC cycles\n",
    "\n",
    "#move_atom=AtomMove(n_atoms) #move strategy (here only atom moves, n_atoms per MC cycle)\n",
    "displ_atom = 0.1 # Angstrom\n",
    "n_adjust = 100\n",
    "\n",
    "max_displ_atom = [0.1*sqrt(displ_atom*temp.t_grid[i]) for i in 1:n_traj]\n",
    "\n",
    "mc_params = MCParams(mc_cycles, n_traj, n_atoms, mc_sample = mc_sample, n_adjust = n_adjust, eq_percentage = 1)\n",
    "\n",
    "#moves - allowed at present: atom, volume and rotation moves (volume,rotation not yet implemented)\n",
    "move_strat = MoveStrategy(atom_moves = n_atoms)  \n",
    "\n",
    "#ensemble\n",
    "ensemble = NVT(n_atoms)\n",
    "\n",
    "#ELJpotential for neon\n",
    "#c1=[-10.5097942564988, 0., 989.725135614556, 0., -101383.865938807, 0., 3918846.12841668, 0., -56234083.4334278, 0., 288738837.441765]\n",
    "#elj_ne1 = ELJPotential{11}(c1)\n",
    "\n",
    "c=[-10.5097942564988, 989.725135614556, -101383.865938807, 3918846.12841668, -56234083.4334278, 288738837.441765]\n",
    "pot = ELJPotentialEven{6}(c)\n",
    "\n",
    "#starting configurations\n",
    "#icosahedral ground state of Ne13 (from Cambridge cluster database) in Angstrom\n",
    "pos_ne13 = [[2.825384495892464, 0.928562467914040, 0.505520149314310],\n",
    "[2.023342172678102,\t-2.136126268595355, 0.666071287554958],\n",
    "[2.033761811732818,\t-0.643989413759464, -2.133000349161121],\n",
    "[0.979777205108572,\t2.312002562803556, -1.671909307631893],\n",
    "[0.962914279874254,\t-0.102326586625353, 2.857083360096907],\n",
    "[0.317957619634043,\t2.646768968413408, 1.412132053672896],\n",
    "[-2.825388342924982, -0.928563755928189, -0.505520471387560],\n",
    "[-0.317955944853142, -2.646769840660271, -1.412131825293682],\n",
    "[-0.979776174195320, -2.312003751825495, 1.671909138648006],\n",
    "[-0.962916072888105, 0.102326392265998,\t-2.857083272537599],\n",
    "[-2.023340541398004, 2.136128558801072,\t-0.666071089291685],\n",
    "[-2.033762834001679, 0.643989905095452, 2.132999911364582],\n",
    "[0.000002325340981,\t0.000000762100600, 0.000000414930733]]\n",
    "\n",
    "#convert to Bohr\n",
    "AtoBohr = 1.8897259886\n",
    "pos_ne13 = pos_ne13 * AtoBohr\n",
    "\n",
    "length(pos_ne13) == n_atoms || error(\"number of atoms and positions not the same - check starting config\")\n",
    "\n",
    "#boundary conditions \n",
    "bc_ne13 = SphericalBC(radius=5.32*AtoBohr)   #5.32 Angstrom\n",
    "\n",
    "#starting configuration\n",
    "start_config = Config(pos_ne13, bc_ne13)\n",
    "\n",
    "#histogram information\n",
    "n_bin = 100\n",
    "#en_min = -0.006    #might want to update after equilibration run if generated on the fly\n",
    "#en_max = -0.001    #otherwise will be determined after run as min/max of sampled energies (ham vector)\n",
    "\n",
    "#construct array of MCState (for each temperature)\n",
    "mc_states = [MCState(temp.t_grid[i], temp.beta_grid[i], start_config, pot; max_displ=[max_displ_atom[i],0.01,1.]) for i in 1:n_traj]\n",
    "\n",
    "#results = Output(n_bin, max_displ_vec)\n",
    "results = Output{Float64}(n_bin; en_min = mc_states[1].en_tot)\n",
    "\n"
   ]
  },
  {
   "cell_type": "code",
   "execution_count": 9,
   "metadata": {},
   "outputs": [
    {
     "name": "stdout",
     "output_type": "stream",
     "text": [
      "Total number of moves per MC cycle: 13\n",
      "\n"
     ]
    },
    {
     "name": "stdout",
     "output_type": "stream",
     "text": [
      "equilibration done\n"
     ]
    },
    {
     "name": "stdout",
     "output_type": "stream",
     "text": [
      "MC loop done.\n"
     ]
    },
    {
     "name": "stdout",
     "output_type": "stream",
     "text": [
      "[0.0003200864687592529, 0.00033815976954365063, 0.0003445942531901754, 0.0003802707825845997, 0.0004032715230095218, 0.0004199878989840593, 0.0004318847700327343, 0.00044022219194622003, 0.0004990657617204075, 0.0005263184828282834, 0.0005485256528776464, 0.0005842146140545923, 0.0005966832535878485, 0.0006435540165736716, 0.000667087624203487, 0.0009176947821843203, 0.0010093399957202208, 0.0011754568967751382, 0.0012731239485057764, 0.0017817599198514176, 0.0020802513570480023, 0.00202465461362989, 0.0026722771754474437, 0.0031462572611312607, 0.003284862186500759, 0.003270325362290281, 0.003135577810582045, 0.002800286927622311, 0.0024534298269398825, 0.0023025051390735377, 0.0020525873561071917, 0.002001221991868398]\n",
      "done\n"
     ]
    }
   ],
   "source": [
    "ptmc_run!(mc_states, move_strat, mc_params, pot, ensemble, results; save_ham = false,save=true)\n",
    "#plot(temp.t_grid,results.heat_cap)\n",
    "\n",
    "# data = [results.en_histogram[i] for i in 1:n_traj]\n",
    "# plot(data)"
   ]
  },
  {
   "cell_type": "code",
   "execution_count": 10,
   "metadata": {},
   "outputs": [
    {
     "data": {
      "text/plain": [
       "3.724148398760176e-5"
      ]
     },
     "metadata": {},
     "output_type": "display_data"
    }
   ],
   "source": [
    "using Distributed\n",
    "\n",
    "\n",
    "global_en_min = results.en_min\n",
    "global_en_max = results.en_max\n",
    "\n",
    "delta_en = (global_en_max - global_en_min) / (results.n_bin - 1)\n",
    "\n",
    "#we need to reset the states. The histograms keep breaking and we get energy nelow what we expect\n",
    "\n"
   ]
  },
  {
   "cell_type": "code",
   "execution_count": 11,
   "metadata": {},
   "outputs": [
    {
     "data": {
      "text/plain": [
       "testingcycles (generic function with 1 method)"
      ]
     },
     "metadata": {},
     "output_type": "display_data"
    }
   ],
   "source": [
    "function testingcycles(version::Int64)\n",
    "    if version == -1\n",
    "        @sync for i = 1:10000\n",
    "            @spawn MCRun.ptmc_cycle!(mc_states,results,move_strat, mc_params, pot, ensemble ,1 ,1 ,0 ,0, false, false, i ;delta_en = delta_en)\n",
    "        end\n",
    "    elseif version == 0\n",
    "        @sync for i = 1:10000\n",
    "            MCRun.ptmc_cycle!(mc_states,results,move_strat, mc_params, pot, ensemble ,1 ,1 ,0 ,0, false, false, i ;delta_en = delta_en)\n",
    "        end\n",
    "    elseif version == 1\n",
    "        Threads.@threads for i = 1:10000\n",
    "            MCRun.ptmc_cycle!(mc_states,results,move_strat, mc_params, pot, ensemble ,1 ,1 ,0 ,0, false, false, i ;delta_en = delta_en)\n",
    "        end\n",
    "    end\n",
    "end\n"
   ]
  },
  {
   "cell_type": "code",
   "execution_count": 12,
   "metadata": {},
   "outputs": [
    {
     "ename": "CompositeException",
     "evalue": "Error: too many moves out of binding sphere\nStacktrace:\n  [1] error(s::String)\n    @ Base ./error.jl:35\n  [2] atom_displacement(pos::StaticArraysCore.SVector{3, Float64}, max_displacement::Float64, bc::SphericalBC{Float64})\n    @ ParallelTemperingMonteCarlo.MCMoves ~/ParallelTemperingMonteCarlo.jl/src/MCMoves.jl:97\n  [3] atom_move!(mc_state::MCState{Float64, 13, SphericalBC{Float64}}, i_atom::Int64, pot::ELJPotentialEven{6, Float64}, ensemble::NVT)\n    @ ParallelTemperingMonteCarlo.MCRun ~/ParallelTemperingMonteCarlo.jl/src/MCRun.jl:216\n  [4] mc_step!(mc_state::MCState{Float64, 13, SphericalBC{Float64}}, pot::ELJPotentialEven{6, Float64}, ensemble::NVT, a::Int64, v::Int64, r::Int64)\n    @ ParallelTemperingMonteCarlo.MCRun ~/ParallelTemperingMonteCarlo.jl/src/MCRun.jl:242\n  [5] mc_cycle!(mc_states::Vector{Any}, move_strat::MoveStrategy{13, 0, 0}, mc_params::MCParams, pot::ELJPotentialEven{6, Float64}, ensemble::NVT, n_steps::Int64, a::Int64, v::Int64, r::Int64)\n    @ ParallelTemperingMonteCarlo.MCRun ~/ParallelTemperingMonteCarlo.jl/src/MCRun.jl:263\n  [6] ptmc_cycle!(mc_states::Vector{Any}, results::Output{Float64}, move_strat::MoveStrategy{13, 0, 0}, mc_params::MCParams, pot::ELJPotentialEven{6, Float64}, ensemble::NVT, n_steps::Int64, a::Int64, v::Int64, r::Int64, save_ham::Bool, save::Bool, i::Int64; delta_en::Float64)\n    @ ParallelTemperingMonteCarlo.MCRun ~/ParallelTemperingMonteCarlo.jl/src/MCRun.jl:494\n  [7] (::var\"#22#24\"{Int64})()\n    @ Main /opt/julias/julia-1.8.0/share/julia/stdlib/v1.8/Distributed/src/macros.jl:43\n  [8] #invokelatest#2\n    @ ./essentials.jl:729 [inlined]\n  [9] invokelatest\n    @ ./essentials.jl:726 [inlined]\n [10] #153\n    @ /opt/julias/julia-1.8.0/share/julia/stdlib/v1.8/Distributed/src/remotecall.jl:425 [inlined]\n [11] run_work_thunk(thunk::Distributed.var\"#153#154\"{var\"#22#24\"{Int64}, Tuple{}, Base.Pairs{Symbol, Union{}, Tuple{}, NamedTuple{(), Tuple{}}}}, print_error::Bool)\n    @ Distributed /opt/julias/julia-1.8.0/share/julia/stdlib/v1.8/Distributed/src/process_messages.jl:70\n [12] run_work_thunk(rv::Distributed.RemoteValue, thunk::Function)\n    @ Distributed /opt/julias/julia-1.8.0/share/julia/stdlib/v1.8/Distributed/src/process_messages.jl:79\n [13] (::Distributed.var\"#100#102\"{Distributed.RemoteValue, Distributed.var\"#153#154\"{var\"#22#24\"{Int64}, Tuple{}, Base.Pairs{Symbol, Union{}, Tuple{}, NamedTuple{(), Tuple{}}}}})()\n    @ Distributed ./task.jl:484\n\n...and 4025 more exceptions.\n",
     "output_type": "error",
     "traceback": [
      "Error: too many moves out of binding sphere\n",
      "Stacktrace:\n",
      "  [1] error(s::String)\n",
      "    @ Base ./error.jl:35\n",
      "  [2] atom_displacement(pos::StaticArraysCore.SVector{3, Float64}, max_displacement::Float64, bc::SphericalBC{Float64})\n",
      "    @ ParallelTemperingMonteCarlo.MCMoves ~/ParallelTemperingMonteCarlo.jl/src/MCMoves.jl:97\n",
      "  [3] atom_move!(mc_state::MCState{Float64, 13, SphericalBC{Float64}}, i_atom::Int64, pot::ELJPotentialEven{6, Float64}, ensemble::NVT)\n",
      "    @ ParallelTemperingMonteCarlo.MCRun ~/ParallelTemperingMonteCarlo.jl/src/MCRun.jl:216\n",
      "  [4] mc_step!(mc_state::MCState{Float64, 13, SphericalBC{Float64}}, pot::ELJPotentialEven{6, Float64}, ensemble::NVT, a::Int64, v::Int64, r::Int64)\n",
      "    @ ParallelTemperingMonteCarlo.MCRun ~/ParallelTemperingMonteCarlo.jl/src/MCRun.jl:242\n",
      "  [5] mc_cycle!(mc_states::Vector{Any}, move_strat::MoveStrategy{13, 0, 0}, mc_params::MCParams, pot::ELJPotentialEven{6, Float64}, ensemble::NVT, n_steps::Int64, a::Int64, v::Int64, r::Int64)\n",
      "    @ ParallelTemperingMonteCarlo.MCRun ~/ParallelTemperingMonteCarlo.jl/src/MCRun.jl:263\n",
      "  [6] ptmc_cycle!(mc_states::Vector{Any}, results::Output{Float64}, move_strat::MoveStrategy{13, 0, 0}, mc_params::MCParams, pot::ELJPotentialEven{6, Float64}, ensemble::NVT, n_steps::Int64, a::Int64, v::Int64, r::Int64, save_ham::Bool, save::Bool, i::Int64; delta_en::Float64)\n",
      "    @ ParallelTemperingMonteCarlo.MCRun ~/ParallelTemperingMonteCarlo.jl/src/MCRun.jl:494\n",
      "  [7] (::var\"#22#24\"{Int64})()\n",
      "    @ Main /opt/julias/julia-1.8.0/share/julia/stdlib/v1.8/Distributed/src/macros.jl:43\n",
      "  [8] #invokelatest#2\n",
      "    @ ./essentials.jl:729 [inlined]\n",
      "  [9] invokelatest\n",
      "    @ ./essentials.jl:726 [inlined]\n",
      " [10] #153\n",
      "    @ /opt/julias/julia-1.8.0/share/julia/stdlib/v1.8/Distributed/src/remotecall.jl:425 [inlined]\n",
      " [11] run_work_thunk(thunk::Distributed.var\"#153#154\"{var\"#22#24\"{Int64}, Tuple{}, Base.Pairs{Symbol, Union{}, Tuple{}, NamedTuple{(), Tuple{}}}}, print_error::Bool)\n",
      "    @ Distributed /opt/julias/julia-1.8.0/share/julia/stdlib/v1.8/Distributed/src/process_messages.jl:70\n",
      " [12] run_work_thunk(rv::Distributed.RemoteValue, thunk::Function)\n",
      "    @ Distributed /opt/julias/julia-1.8.0/share/julia/stdlib/v1.8/Distributed/src/process_messages.jl:79\n",
      " [13] (::Distributed.var\"#100#102\"{Distributed.RemoteValue, Distributed.var\"#153#154\"{var\"#22#24\"{Int64}, Tuple{}, Base.Pairs{Symbol, Union{}, Tuple{}, NamedTuple{(), Tuple{}}}}})()\n",
      "    @ Distributed ./task.jl:484\n",
      "\n",
      "...and 4025 more exceptions.\n",
      "\n",
      "\n",
      "Stacktrace:\n",
      "  [1] sync_end(c::Channel{Any})\n",
      "    @ Base ./task.jl:436\n",
      "  [2] macro expansion\n",
      "    @ ./task.jl:455 [inlined]\n",
      "  [3] testingcycles(version::Int64)\n",
      "    @ Main ~/ParallelTemperingMonteCarlo.jl/scripts/test.ipynb:3\n",
      "  [4] var\"##core#319\"()\n",
      "    @ Main ~/.julia/packages/BenchmarkTools/7xSXH/src/execution.jl:489\n",
      "  [5] var\"##sample#320\"(::Tuple{}, __params::BenchmarkTools.Parameters)\n",
      "    @ Main ~/.julia/packages/BenchmarkTools/7xSXH/src/execution.jl:497\n",
      "  [6] _lineartrial(b::BenchmarkTools.Benchmark, p::BenchmarkTools.Parameters; maxevals::Int64, kwargs::Base.Pairs{Symbol, Union{}, Tuple{}, NamedTuple{(), Tuple{}}})\n",
      "    @ BenchmarkTools ~/.julia/packages/BenchmarkTools/7xSXH/src/execution.jl:161\n",
      "  [7] _lineartrial(b::BenchmarkTools.Benchmark, p::BenchmarkTools.Parameters)\n",
      "    @ BenchmarkTools ~/.julia/packages/BenchmarkTools/7xSXH/src/execution.jl:152\n",
      "  [8] #invokelatest#2\n",
      "    @ ./essentials.jl:729 [inlined]\n",
      "  [9] invokelatest\n",
      "    @ ./essentials.jl:726 [inlined]\n",
      " [10] #lineartrial#46\n",
      "    @ ~/.julia/packages/BenchmarkTools/7xSXH/src/execution.jl:35 [inlined]\n",
      " [11] lineartrial\n",
      "    @ ~/.julia/packages/BenchmarkTools/7xSXH/src/execution.jl:35 [inlined]\n",
      " [12] tune!(b::BenchmarkTools.Benchmark, p::BenchmarkTools.Parameters; progressid::Nothing, nleaves::Float64, ndone::Float64, verbose::Bool, pad::String, kwargs::Base.Pairs{Symbol, Union{}, Tuple{}, NamedTuple{(), Tuple{}}})\n",
      "    @ BenchmarkTools ~/.julia/packages/BenchmarkTools/7xSXH/src/execution.jl:251\n",
      " [13] tune! (repeats 2 times)\n",
      "    @ ~/.julia/packages/BenchmarkTools/7xSXH/src/execution.jl:247 [inlined]\n",
      " [14] top-level scope\n",
      "    @ ~/.julia/packages/BenchmarkTools/7xSXH/src/execution.jl:394"
     ]
    }
   ],
   "source": [
    "mc_params,mc_states,step = restart_ptmc(pot)\n",
    "\n",
    "time1 = @benchmark testingcycles(-1)\n",
    "\n",
    "mc_params,mc_states,step = restart_ptmc(pot)\n",
    "time2 = @benchmark testingcycles(0)\n",
    "\n",
    "mc_params,mc_states,step = restart_ptmc(pot)\n",
    "time3 = @benchmark testingcycles(1)\n"
   ]
  },
  {
   "cell_type": "code",
   "execution_count": 7,
   "metadata": {},
   "outputs": [
    {
     "ename": "UndefVarError",
     "evalue": "UndefVarError: time2 not defined",
     "output_type": "error",
     "traceback": [
      "UndefVarError: time2 not defined\n",
      "\n",
      "Stacktrace:\n",
      " [1] top-level scope\n",
      "   @ ~/ParallelTemperingMonteCarlo.jl/scripts/test.ipynb:1"
     ]
    }
   ],
   "source": [
    "println(\"spawn=\",time1,\" normal= \",time2,\" threaded =\", time3)"
   ]
  },
  {
   "cell_type": "code",
   "execution_count": null,
   "metadata": {},
   "outputs": [],
   "source": []
  }
 ],
 "metadata": {
  "kernelspec": {
   "display_name": "Julia 1.8.0",
   "language": "julia",
   "name": "julia-1.8"
  },
  "language_info": {
   "file_extension": ".jl",
   "mimetype": "application/julia",
   "name": "julia",
   "version": "1.8.0"
  },
  "orig_nbformat": 4
 },
 "nbformat": 4,
 "nbformat_minor": 2
}
