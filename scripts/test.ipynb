{
 "cells": [
  {
   "cell_type": "code",
   "execution_count": 1,
   "metadata": {},
   "outputs": [],
   "source": [
    "using Distributed\n",
    "@everywhere begin \n",
    "    using ParallelTemperingMonteCarlo\n",
    "    using DelimitedFiles\n",
    "    using BenchmarkTools\n",
    "end"
   ]
  },
  {
   "cell_type": "code",
   "execution_count": 15,
   "metadata": {},
   "outputs": [
    {
     "data": {
      "text/plain": [
       "Output{Float64}(100, 0.0, 0.0, Float64[], Float64[], Float64[], Vector{Float64}[], Float64[], Float64[], Float64[], Float64[], Float64[])"
      ]
     },
     "metadata": {},
     "output_type": "display_data"
    }
   ],
   "source": [
    "using Random,Plots\n",
    "\n",
    "#set random seed - for reproducibility\n",
    "Random.seed!(1234)\n",
    "\n",
    "# number of atoms\n",
    "n_atoms = 13\n",
    "\n",
    "# temperature grid\n",
    "ti = 5.\n",
    "tf = 16.\n",
    "n_traj = 32\n",
    "\n",
    "temp = TempGrid{n_traj}(ti,tf) \n",
    "\n",
    "# MC simulation details\n",
    "mc_cycles = 100000 #default 20% equilibration cycles on top\n",
    "mc_sample = 1  #sample every mc_sample MC cycles\n",
    "\n",
    "#move_atom=AtomMove(n_atoms) #move strategy (here only atom moves, n_atoms per MC cycle)\n",
    "displ_atom = 0.1 # Angstrom\n",
    "n_adjust = 100\n",
    "\n",
    "max_displ_atom = [0.1*sqrt(displ_atom*temp.t_grid[i]) for i in 1:n_traj]\n",
    "\n",
    "mc_params = MCParams(mc_cycles, n_traj, n_atoms, mc_sample = mc_sample, n_adjust = n_adjust, eq_percentage = 1)\n",
    "\n",
    "#moves - allowed at present: atom, volume and rotation moves (volume,rotation not yet implemented)\n",
    "move_strat = MoveStrategy(atom_moves = n_atoms)  \n",
    "\n",
    "#ensemble\n",
    "ensemble = NVT(n_atoms)\n",
    "\n",
    "#ELJpotential for neon\n",
    "#c1=[-10.5097942564988, 0., 989.725135614556, 0., -101383.865938807, 0., 3918846.12841668, 0., -56234083.4334278, 0., 288738837.441765]\n",
    "#elj_ne1 = ELJPotential{11}(c1)\n",
    "\n",
    "c=[-10.5097942564988, 989.725135614556, -101383.865938807, 3918846.12841668, -56234083.4334278, 288738837.441765]\n",
    "pot = ELJPotentialEven{6}(c)\n",
    "\n",
    "#starting configurations\n",
    "#icosahedral ground state of Ne13 (from Cambridge cluster database) in Angstrom\n",
    "pos_ne13 = [[2.825384495892464, 0.928562467914040, 0.505520149314310],\n",
    "[2.023342172678102,\t-2.136126268595355, 0.666071287554958],\n",
    "[2.033761811732818,\t-0.643989413759464, -2.133000349161121],\n",
    "[0.979777205108572,\t2.312002562803556, -1.671909307631893],\n",
    "[0.962914279874254,\t-0.102326586625353, 2.857083360096907],\n",
    "[0.317957619634043,\t2.646768968413408, 1.412132053672896],\n",
    "[-2.825388342924982, -0.928563755928189, -0.505520471387560],\n",
    "[-0.317955944853142, -2.646769840660271, -1.412131825293682],\n",
    "[-0.979776174195320, -2.312003751825495, 1.671909138648006],\n",
    "[-0.962916072888105, 0.102326392265998,\t-2.857083272537599],\n",
    "[-2.023340541398004, 2.136128558801072,\t-0.666071089291685],\n",
    "[-2.033762834001679, 0.643989905095452, 2.132999911364582],\n",
    "[0.000002325340981,\t0.000000762100600, 0.000000414930733]]\n",
    "\n",
    "#convert to Bohr\n",
    "AtoBohr = 1.8897259886\n",
    "pos_ne13 = pos_ne13 * AtoBohr\n",
    "\n",
    "length(pos_ne13) == n_atoms || error(\"number of atoms and positions not the same - check starting config\")\n",
    "\n",
    "#boundary conditions \n",
    "bc_ne13 = SphericalBC(radius=12.0*AtoBohr)   #5.32 Angstrom\n",
    "\n",
    "#starting configuration\n",
    "start_config = Config(pos_ne13, bc_ne13)\n",
    "\n",
    "#histogram information\n",
    "n_bin = 100\n",
    "#en_min = -0.006    #might want to update after equilibration run if generated on the fly\n",
    "#en_max = -0.001    #otherwise will be determined after run as min/max of sampled energies (ham vector)\n",
    "\n",
    "#construct array of MCState (for each temperature)\n",
    "mc_states = [MCState(temp.t_grid[i], temp.beta_grid[i], start_config, pot; max_displ=[max_displ_atom[i],0.01,1.]) for i in 1:n_traj]\n",
    "\n",
    "#results = Output(n_bin, max_displ_vec)\n",
    "results = Output{Float64}(n_bin; en_min = mc_states[1].en_tot)\n",
    "\n"
   ]
  },
  {
   "cell_type": "code",
   "execution_count": 14,
   "metadata": {},
   "outputs": [
    {
     "name": "stdout",
     "output_type": "stream",
     "text": [
      "Total number of moves per MC cycle: 13\n",
      "\n"
     ]
    },
    {
     "name": "stdout",
     "output_type": "stream",
     "text": [
      "equilibration done\n"
     ]
    },
    {
     "name": "stdout",
     "output_type": "stream",
     "text": [
      "MC loop done.\n",
      "[0.0003274332206663901, 0.00034097451808384846, 0.00035244948549771713, 0.00038565890500638536, 0.0003980335513622917, 0.00041254941004158604, 0.0004387579945671251, 0.00046105266182069345, 0.00048549186855110376, 0.0005021570901080064, 0.0005451170846650248, 0.0005775643450812362, 0.0006458749223787228, 0.0006770807764240569, 0.00071711013573714, 0.0008368237946829951, 0.0009831458227094459, 0.0011601596513707078, 0.0013070362090407607, 0.0017146656421000697, 0.0019621319526630914, 0.0030365686353476936, 0.0036432380891126223, 0.003581044352305293, 0.003610675334464941, 0.0032390163705791784, 0.0028215089701653243, 0.0028292964927889848, 0.003584854417093773, 0.003757680935178654, 0.004212266642843023, 0.004559761171251476]\n",
      "done\n"
     ]
    }
   ],
   "source": [
    "ptmc_run!(mc_states, move_strat, mc_params, pot, ensemble, results; save_ham = false,save=true)\n",
    "#plot(temp.t_grid,results.heat_cap)\n",
    "\n",
    "# data = [results.en_histogram[i] for i in 1:n_traj]\n",
    "# plot(data)"
   ]
  },
  {
   "cell_type": "markdown",
   "metadata": {},
   "source": [
    "Testing better mc_cycles"
   ]
  },
  {
   "cell_type": "code",
   "execution_count": 15,
   "metadata": {},
   "outputs": [],
   "source": [
    "@everywhere function parallelmc_cycle!(mc_states, move_strat, mc_params, pot, ensemble, n_steps, a, v, r)\n",
    "    #perform one MC cycle\n",
    "    Threads.@threads for i_traj = 1:mc_params.n_traj\n",
    "        for i_step = 1:n_steps\n",
    "            #mc_states[i_traj] = mc_step!(type_moves[ran][2], type_moves[ran][1], mc_states[i_traj], ran, pot, ensemble)\n",
    "            @inbounds mc_states[i_traj] = mc_step!(mc_states[i_traj], pot, ensemble, a, v, r)\n",
    "        end\n",
    "        #push!(mc_states[i_traj].ham, mc_states[i_traj].en_tot) #to build up ham vector of sampled energies\n",
    "    end\n",
    "    #parallel tempering\n",
    "    if rand() < 0.1 #attempt to exchange trajectories\n",
    "        n_exc = rand(1:mc_params.n_traj-1)\n",
    "        mc_states[n_exc].count_exc[1] += 1\n",
    "        mc_states[n_exc+1].count_exc[1] += 1\n",
    "        exc_acc = exc_acceptance(mc_states[n_exc].beta, mc_states[n_exc+1].beta, mc_states[n_exc].en_tot,  mc_states[n_exc+1].en_tot)\n",
    "        if exc_acc > rand()\n",
    "            mc_states[n_exc].count_exc[2] += 1\n",
    "            mc_states[n_exc+1].count_exc[2] += 1\n",
    "            mc_states[n_exc], mc_states[n_exc+1] = exc_trajectories!(mc_states[n_exc], mc_states[n_exc+1])\n",
    "        end\n",
    "    end\n",
    "    return mc_states\n",
    "end\n",
    "\n",
    "@everywhere function paralleltest(var)\n",
    "    if var == -1\n",
    "        for i in 1:100\n",
    "            mc_cycle!(mc_states,move_strat,mc_params,pot,ensemble,1,1,0,0)\n",
    "        end\n",
    "    elseif var ==0\n",
    "        Threads.@threads for i in 1:100\n",
    "            mc_cycle!(mc_states,move_strat,mc_params,pot,ensemble,1,1,0,0)\n",
    "        end\n",
    "    elseif var == 1\n",
    "        for i in 1:100\n",
    "            parallelmc_cycle!(mc_states,move_strat,mc_params,pot,ensemble,1,1,0,0)\n",
    "        end\n",
    "    end\n",
    "end\n"
   ]
  },
  {
   "cell_type": "code",
   "execution_count": 17,
   "metadata": {},
   "outputs": [
    {
     "data": {
      "text/plain": [
       "BenchmarkTools.Trial: 1920 samples with 1 evaluation.\n",
       " Range \u001b[90m(\u001b[39m\u001b[36m\u001b[1mmin\u001b[22m\u001b[39m … \u001b[35mmax\u001b[39m\u001b[90m):  \u001b[39m\u001b[36m\u001b[1m876.450 μs\u001b[22m\u001b[39m … \u001b[35m43.225 ms\u001b[39m  \u001b[90m┊\u001b[39m GC \u001b[90m(\u001b[39mmin … max\u001b[90m): \u001b[39m 0.00% … 96.81%\n",
       " Time  \u001b[90m(\u001b[39m\u001b[34m\u001b[1mmedian\u001b[22m\u001b[39m\u001b[90m):     \u001b[39m\u001b[34m\u001b[1m  1.602 ms              \u001b[22m\u001b[39m\u001b[90m┊\u001b[39m GC \u001b[90m(\u001b[39mmedian\u001b[90m):    \u001b[39m 0.00%\n",
       " Time  \u001b[90m(\u001b[39m\u001b[32m\u001b[1mmean\u001b[22m\u001b[39m ± \u001b[32mσ\u001b[39m\u001b[90m):   \u001b[39m\u001b[32m\u001b[1m  2.593 ms\u001b[22m\u001b[39m ± \u001b[32m 3.994 ms\u001b[39m  \u001b[90m┊\u001b[39m GC \u001b[90m(\u001b[39mmean ± σ\u001b[90m):  \u001b[39m15.58% ± 10.19%\n",
       "\n",
       "  \u001b[39m▇\u001b[34m█\u001b[39m\u001b[39m \u001b[32m \u001b[39m\u001b[39m \u001b[39m \u001b[39m \u001b[39m \u001b[39m \u001b[39m \u001b[39m \u001b[39m \u001b[39m \u001b[39m \u001b[39m \u001b[39m \u001b[39m \u001b[39m \u001b[39m \u001b[39m \u001b[39m \u001b[39m \u001b[39m \u001b[39m \u001b[39m \u001b[39m \u001b[39m \u001b[39m \u001b[39m \u001b[39m \u001b[39m \u001b[39m \u001b[39m \u001b[39m \u001b[39m \u001b[39m \u001b[39m \u001b[39m \u001b[39m \u001b[39m \u001b[39m \u001b[39m \u001b[39m \u001b[39m \u001b[39m \u001b[39m \u001b[39m \u001b[39m \u001b[39m \u001b[39m \u001b[39m \u001b[39m \u001b[39m \u001b[39m \u001b[39m \u001b[39m \u001b[39m \u001b[39m \u001b[39m \u001b[39m \u001b[39m \u001b[39m \n",
       "  \u001b[39m█\u001b[34m█\u001b[39m\u001b[39m▆\u001b[32m▅\u001b[39m\u001b[39m▄\u001b[39m▃\u001b[39m▃\u001b[39m▃\u001b[39m▃\u001b[39m▃\u001b[39m▂\u001b[39m▂\u001b[39m▂\u001b[39m▂\u001b[39m▂\u001b[39m▂\u001b[39m▂\u001b[39m▂\u001b[39m▂\u001b[39m▁\u001b[39m▂\u001b[39m▂\u001b[39m▁\u001b[39m▁\u001b[39m▁\u001b[39m▂\u001b[39m▂\u001b[39m▁\u001b[39m▁\u001b[39m▁\u001b[39m▁\u001b[39m▁\u001b[39m▁\u001b[39m▁\u001b[39m▁\u001b[39m▁\u001b[39m▁\u001b[39m▁\u001b[39m▁\u001b[39m▁\u001b[39m▁\u001b[39m▁\u001b[39m▁\u001b[39m▁\u001b[39m▁\u001b[39m▁\u001b[39m▁\u001b[39m▁\u001b[39m▂\u001b[39m▁\u001b[39m▁\u001b[39m▁\u001b[39m▁\u001b[39m▁\u001b[39m▁\u001b[39m▁\u001b[39m▂\u001b[39m▁\u001b[39m▁\u001b[39m▂\u001b[39m \u001b[39m▂\n",
       "  876 μs\u001b[90m          Histogram: frequency by time\u001b[39m         32.7 ms \u001b[0m\u001b[1m<\u001b[22m\n",
       "\n",
       " Memory estimate\u001b[90m: \u001b[39m\u001b[33m1.70 MiB\u001b[39m, allocs estimate\u001b[90m: \u001b[39m\u001b[33m17775\u001b[39m."
      ]
     },
     "metadata": {},
     "output_type": "display_data"
    }
   ],
   "source": [
    "mc_params,mc_states,N_ignore = restart_ptmc(pot)\n",
    "Random.seed!(1234)\n",
    "time1 = @benchmark paralleltest(-1)\n",
    "mc_params,mc_states,N_ignore = restart_ptmc(pot)\n",
    "Random.seed!(1234)\n",
    "time2 = @benchmark paralleltest(0)\n",
    "mc_params,mc_states,N_ignore = restart_ptmc(pot)\n",
    "Random.seed!(1234)\n",
    "time3 = @benchmark paralleltest(1)"
   ]
  },
  {
   "cell_type": "code",
   "execution_count": 18,
   "metadata": {},
   "outputs": [
    {
     "name": "stdout",
     "output_type": "stream",
     "text": [
      "no parallel = Trial"
     ]
    },
    {
     "name": "stdout",
     "output_type": "stream",
     "text": [
      "(1.354 ms) parallelthreads = Trial(392.705 μs) parallelcycle = Trial(876.450 μs)\n"
     ]
    }
   ],
   "source": [
    "println(\"no parallel = \",time1,\" parallelthreads = \",time2,\" parallelcycle = \",time3)"
   ]
  },
  {
   "cell_type": "code",
   "execution_count": 22,
   "metadata": {},
   "outputs": [
    {
     "name": "stdout",
     "output_type": "stream",
     "text": [
      "no parallel = Trial(16.274 ms) parallelthreads = Trial(4.456 ms) parallelcycle = Trial(11.424 ms)\n"
     ]
    }
   ],
   "source": [
    "@everywhere function paralleltest(var)\n",
    "    if var == -1\n",
    "        for i in 1:1000\n",
    "            mc_cycle!(mc_states,move_strat,mc_params,pot,ensemble,1,1,0,0)\n",
    "        end\n",
    "    elseif var ==0\n",
    "        Threads.@threads for i in 1:1000\n",
    "            mc_cycle!(mc_states,move_strat,mc_params,pot,ensemble,1,1,0,0)\n",
    "        end\n",
    "    elseif var == 1\n",
    "        for i in 1:1000\n",
    "            parallelmc_cycle!(mc_states,move_strat,mc_params,pot,ensemble,1,1,0,0)\n",
    "        end\n",
    "    end\n",
    "end\n",
    "mc_params,mc_states,N_ignore = restart_ptmc(pot)\n",
    "Random.seed!(1234)\n",
    "time1 = @benchmark paralleltest(-1)\n",
    "mc_params,mc_states,N_ignore = restart_ptmc(pot)\n",
    "Random.seed!(1234)\n",
    "time2 = @benchmark paralleltest(0)\n",
    "mc_params,mc_states,N_ignore = restart_ptmc(pot)\n",
    "Random.seed!(1234)\n",
    "time3 = @benchmark paralleltest(1)\n",
    "\n",
    "println(\"no parallel = \",time1,\" parallelthreads = \",time2,\" parallelcycle = \",time3)"
   ]
  },
  {
   "cell_type": "code",
   "execution_count": 24,
   "metadata": {},
   "outputs": [
    {
     "data": {
      "text/plain": [
       "BenchmarkTools.Trial: 38 samples with 1 evaluation.\n",
       " Range \u001b[90m(\u001b[39m\u001b[36m\u001b[1mmin\u001b[22m\u001b[39m … \u001b[35mmax\u001b[39m\u001b[90m):  \u001b[39m\u001b[36m\u001b[1m118.282 ms\u001b[22m\u001b[39m … \u001b[35m174.666 ms\u001b[39m  \u001b[90m┊\u001b[39m GC \u001b[90m(\u001b[39mmin … max\u001b[90m): \u001b[39m0.00% … 7.30%\n",
       " Time  \u001b[90m(\u001b[39m\u001b[34m\u001b[1mmedian\u001b[22m\u001b[39m\u001b[90m):     \u001b[39m\u001b[34m\u001b[1m131.653 ms               \u001b[22m\u001b[39m\u001b[90m┊\u001b[39m GC \u001b[90m(\u001b[39mmedian\u001b[90m):    \u001b[39m0.00%\n",
       " Time  \u001b[90m(\u001b[39m\u001b[32m\u001b[1mmean\u001b[22m\u001b[39m ± \u001b[32mσ\u001b[39m\u001b[90m):   \u001b[39m\u001b[32m\u001b[1m134.916 ms\u001b[22m\u001b[39m ± \u001b[32m 12.574 ms\u001b[39m  \u001b[90m┊\u001b[39m GC \u001b[90m(\u001b[39mmean ± σ\u001b[90m):  \u001b[39m2.70% ± 3.16%\n",
       "\n",
       "  \u001b[39m \u001b[39m \u001b[39m▃\u001b[39m \u001b[39m▃\u001b[39m▃\u001b[39m \u001b[39m▃\u001b[39m \u001b[39m \u001b[39m█\u001b[39m \u001b[39m \u001b[39m▃\u001b[34m█\u001b[39m\u001b[39m \u001b[39m▃\u001b[39m \u001b[32m \u001b[39m\u001b[39m \u001b[39m \u001b[39m▃\u001b[39m \u001b[39m \u001b[39m \u001b[39m▃\u001b[39m \u001b[39m \u001b[39m▃\u001b[39m \u001b[39m \u001b[39m \u001b[39m \u001b[39m▃\u001b[39m \u001b[39m \u001b[39m \u001b[39m \u001b[39m \u001b[39m \u001b[39m \u001b[39m \u001b[39m \u001b[39m \u001b[39m \u001b[39m \u001b[39m \u001b[39m \u001b[39m \u001b[39m \u001b[39m \u001b[39m \u001b[39m \u001b[39m \u001b[39m \u001b[39m \u001b[39m \u001b[39m \u001b[39m \u001b[39m \u001b[39m \u001b[39m \u001b[39m \n",
       "  \u001b[39m▇\u001b[39m▁\u001b[39m█\u001b[39m▁\u001b[39m█\u001b[39m█\u001b[39m▇\u001b[39m█\u001b[39m▁\u001b[39m▇\u001b[39m█\u001b[39m▁\u001b[39m▇\u001b[39m█\u001b[34m█\u001b[39m\u001b[39m▇\u001b[39m█\u001b[39m▇\u001b[32m▇\u001b[39m\u001b[39m▁\u001b[39m▁\u001b[39m█\u001b[39m▁\u001b[39m▇\u001b[39m▁\u001b[39m█\u001b[39m▁\u001b[39m▁\u001b[39m█\u001b[39m▁\u001b[39m▁\u001b[39m▁\u001b[39m▁\u001b[39m█\u001b[39m▇\u001b[39m▁\u001b[39m▁\u001b[39m▁\u001b[39m▁\u001b[39m▇\u001b[39m▁\u001b[39m▁\u001b[39m▁\u001b[39m▁\u001b[39m▁\u001b[39m▁\u001b[39m▁\u001b[39m▁\u001b[39m▁\u001b[39m▁\u001b[39m▁\u001b[39m▁\u001b[39m▇\u001b[39m▁\u001b[39m▁\u001b[39m▁\u001b[39m▁\u001b[39m▁\u001b[39m▁\u001b[39m▁\u001b[39m▇\u001b[39m \u001b[39m▁\n",
       "  118 ms\u001b[90m           Histogram: frequency by time\u001b[39m          175 ms \u001b[0m\u001b[1m<\u001b[22m\n",
       "\n",
       " Memory estimate\u001b[90m: \u001b[39m\u001b[33m23.01 MiB\u001b[39m, allocs estimate\u001b[90m: \u001b[39m\u001b[33m324162\u001b[39m."
      ]
     },
     "metadata": {},
     "output_type": "display_data"
    }
   ],
   "source": [
    "mc_params,mc_states,N_ignore = restart_ptmc(pot)\n",
    "Random.seed!(1234)\n",
    "@benchmark begin \n",
    "    for i in 1:1000\n",
    "        parallelcycle!(mc_states,move_strat,mc_params,pot,ensemble,1,1,0,0)\n",
    "    end\n",
    "end\n"
   ]
  },
  {
   "cell_type": "code",
   "execution_count": 9,
   "metadata": {},
   "outputs": [
    {
     "name": "stdout",
     "output_type": "stream",
     "text": [
      "Total number of moves per MC cycle: 13\n",
      "\n"
     ]
    },
    {
     "name": "stdout",
     "output_type": "stream",
     "text": [
      "equilibration done\n"
     ]
    },
    {
     "name": "stdout",
     "output_type": "stream",
     "text": [
      "MC loop done.\n"
     ]
    },
    {
     "name": "stdout",
     "output_type": "stream",
     "text": [
      "[0.0003274332206663901, 0.00034097451808384846, 0.00035244948549771713, 0.00038565890500638536, 0.0003980335513622917, 0.00041254941004158604, 0.0004387579945671251, 0.00046105266182069345, 0.00048549186855110376, 0.0005021570901080064, 0.0005451170846650248, 0.0005775643450812362, 0.0006458749223787228, 0.0006770807764240569, 0.00071711013573714, 0.0008368237946829951, 0.0009831458227094459, 0.0011601596513707078, 0.0013070362090407607, 0.0017146656421000697, 0.0019621319526630914, 0.0030365686353476936, 0.0036432380891126223, 0.003581044352305293, 0.003610675334464941, 0.0032390163705791784, 0.0028215089701653243, 0.0028292964927889848, 0.003584854417093773, 0.003757680935178654, 0.004212266642843023, 0.004559761171251476]\n",
      "done\n",
      "Total number of moves per MC cycle: "
     ]
    },
    {
     "name": "stdout",
     "output_type": "stream",
     "text": [
      "13\n",
      "\n",
      "equilibration done"
     ]
    },
    {
     "name": "stdout",
     "output_type": "stream",
     "text": [
      "\n",
      "MC loop done."
     ]
    },
    {
     "name": "stdout",
     "output_type": "stream",
     "text": [
      "\n",
      "[-3.626054009716755, -3.4767364387711974, -3.3335852854731485, -3.1913119524479177, -3.0609508279365523, -2.929262012745028, -2.80396322548002, -2.68362798068806, -2.5645866137669118, -2.451813314825442, -2.3459789171327254, -2.2418599772617656, -2.1365739853181696, -2.0402277808832627, -1.9425366807239308, -1.8488257813857005, -1.7579869401528843, -1.6635693401784761, -1.573272692441443, -1.4688130215294692, -1.3838083758570572, -1.2673403795741625, -1.157128403465078, -1.0334861083804563, -0.9331932567256628, -0.8429358337762167, -0.7583379434458081, -0.6955050500668383, -0.6314473348158312, -0.556941565544621, -0.49089888279758415, -0.4387188569491709]\n",
      "done\n",
      "Total number of moves per MC cycle: "
     ]
    },
    {
     "name": "stdout",
     "output_type": "stream",
     "text": [
      "13\n",
      "\n",
      "equilibration done"
     ]
    },
    {
     "name": "stdout",
     "output_type": "stream",
     "text": [
      "\n",
      "MC loop done."
     ]
    },
    {
     "name": "stdout",
     "output_type": "stream",
     "text": [
      "\n",
      "[-10.883889797317497, -10.431804745433759, -9.99574737212787, -9.577542992257698, -9.182177879418681, -8.787921033113072, -8.415032597157204, -8.052503609832897, -7.695688582446834, -7.356640070754599, -7.034295159245451, -6.7270310455825335, -6.415890542780838, -6.122637725728883, -5.8341208863918785, -5.551259689315166, -5.280678871729084, -5.005277442232245, -4.730671735025874, -4.426748050972376, -4.162053288087249, -3.8118201697941774, -3.489070624361203, -3.139951779223422, -2.837044815519595, -2.5449006568366954, -2.288194524658741, -2.0877040642525357, -1.883551143956719, -1.6618830580577397, -1.4891663632854393, -1.337553462151169]\n",
      "done\n",
      "Total number of moves per MC cycle: "
     ]
    },
    {
     "name": "stdout",
     "output_type": "stream",
     "text": [
      "13\n",
      "\n",
      "equilibration done"
     ]
    },
    {
     "name": "stdout",
     "output_type": "stream",
     "text": [
      "\n",
      "MC loop done."
     ]
    },
    {
     "name": "stdout",
     "output_type": "stream",
     "text": [
      "\n",
      "[-21.76448542527407, -20.864765358539646, -19.99269636891073, -19.15493697281766, -18.357619616682374, -17.575687160125995, -16.833466754240042, -16.104230690610883, -15.391133972223683, -14.718280757024107, -14.07310279391676, -13.44995067204151, -12.831050367633143, -12.247488097722556, -11.67487636182148, -11.106036215574068, -10.563048451410294, -10.02101816405747, -9.470832147413903, -8.893377337680015, -8.32579421426003, -7.638394934995636, -6.987729123817622, -6.243411981760421, -5.634190141705224, -5.075123637753679, -4.564592035963244, -4.165291092318767, -3.7628272502477613, -3.3246711371716122, -2.9789477958494084, -2.650587310617719]\n",
      "done\n"
     ]
    },
    {
     "data": {
      "text/plain": [
       "BenchmarkTools.Trial: 1 sample with 1 evaluation.\n",
       " Single result which took \u001b[34m36.696 s\u001b[39m (2.69% GC) to evaluate,\n",
       " with a memory estimate of \u001b[33m25.64 GiB\u001b[39m, over \u001b[33m183505175\u001b[39m allocations."
      ]
     },
     "metadata": {},
     "output_type": "display_data"
    }
   ],
   "source": [
    "@benchmark begin\n",
    "    ptmc_run!(mc_states, move_strat, mc_params, pot, ensemble, results; save_ham = false,save=true)\n",
    "end"
   ]
  },
  {
   "cell_type": "code",
   "execution_count": 6,
   "metadata": {},
   "outputs": [
    {
     "data": {
      "text/plain": [
       "ptmc_threaded_run! (generic function with 1 method)"
      ]
     },
     "metadata": {},
     "output_type": "display_data"
    }
   ],
   "source": [
    "import ..MCRun: initialise_histograms!,updatehistogram!,update_max_stepsize!,sampling_step!,save_results,save_states\n",
    "\n",
    "function ptmc_threaded_run!(mc_states, move_strat, mc_params, pot, ensemble, results; save_ham::Bool = true, save::Bool=true, restart::Bool=false,restartindex::Int64=0)\n",
    "    #restart isn't compatible with saving the hamiltonian at the moment\n",
    "\n",
    "    if restart == true\n",
    "        save_ham = false\n",
    "    end\n",
    "    \n",
    "    if save_ham == false\n",
    "        if restart == false\n",
    "            #If we do not save the hamiltonian we still need to store the E, E**2 terms at each cycle\n",
    "            for i_traj = 1:mc_params.n_traj\n",
    "                push!(mc_states[i_traj].ham, 0)\n",
    "                push!(mc_states[i_traj].ham, 0)\n",
    "            end\n",
    "        end\n",
    "    end\n",
    "\n",
    "    a = atom_move_frequency(move_strat)\n",
    "    v = vol_move_frequency(move_strat)\n",
    "    r = rot_move_frequency(move_strat)\n",
    "    #number of MC steps per MC cycle\n",
    "    n_steps = a + v + r\n",
    "\n",
    "    println(\"Total number of moves per MC cycle: \", n_steps)\n",
    "    println()\n",
    "\n",
    "    \n",
    "    #equilibration cycle\n",
    "    if restart == false\n",
    "        #this initialises the max and min energies for histograms\n",
    "        if save_ham == false\n",
    "            ebounds = [100. , -100.] #emin,emax\n",
    "        end\n",
    "        \n",
    "        Threads.@threads for i = 1:mc_params.eq_cycles\n",
    "            @inbounds mc_states = mc_cycle!(mc_states, move_strat, mc_params, pot, ensemble, n_steps, a, v, r)\n",
    "            #verbose way to save the highest and lowest energies\n",
    "\n",
    "            if save_ham == false\n",
    "                for i_traj = 1:mc_params.n_traj\n",
    "                    if mc_states[i_traj].en_tot < ebounds[1]\n",
    "                        ebounds[1] = mc_states[i_traj].en_tot\n",
    "                    end\n",
    "\n",
    "                    if mc_states[i_traj].en_tot > ebounds[2]\n",
    "                        ebounds[2] = mc_states[i_traj].en_tot\n",
    "                    end\n",
    "                end\n",
    "            end\n",
    "            #update stepsizes\n",
    "            if rem(i, mc_params.n_adjust) == 0\n",
    "                for i_traj = 1:mc_params.n_traj\n",
    "                    update_max_stepsize!(mc_states[i_traj], mc_params.n_adjust, a, v, r)\n",
    "                end \n",
    "            end\n",
    "        end\n",
    "    #re-set counter variables to zero\n",
    "        for i_traj = 1:mc_params.n_traj\n",
    "            mc_states[i_traj].count_atom = [0, 0]\n",
    "            mc_states[i_traj].count_vol = [0, 0]\n",
    "            mc_states[i_traj].count_rot = [0, 0]\n",
    "            mc_states[i_traj].count_exc = [0, 0]\n",
    "        end\n",
    "        #initialise histogram for non-saving hamiltonian \n",
    "        if save_ham == false\n",
    "            delta_en = initialise_histograms!(mc_params,mc_states,results, full_ham=false,e_bounds=ebounds)\n",
    "        end\n",
    "\n",
    "        println(\"equilibration done\")\n",
    "        \n",
    "\n",
    "        if save == true\n",
    "            save_states(mc_params,mc_states,0)\n",
    "        end\n",
    "    end\n",
    "\n",
    "\n",
    "    #main MC loop\n",
    "\n",
    "    if restart == false\n",
    "\n",
    "        Threads.@threads for i = 1:mc_params.mc_cycles\n",
    "            if save_ham == false\n",
    "                ptmc_cycle!(mc_states,results,move_strat, mc_params, pot, ensemble ,n_steps ,a ,v ,r, save_ham, save, i;delta_en=delta_en)\n",
    "            else\n",
    "                ptmc_cycle!(mc_states,results,move_strat, mc_params, pot, ensemble ,n_steps ,a ,v ,r, save_ham, save, i)\n",
    "            end\n",
    "            \n",
    "        end\n",
    "\n",
    "    else #if restarting\n",
    "\n",
    "        for i = restartindex:mc_params.mc_cycles\n",
    "            if save_ham == false\n",
    "                ptmc_cycle!(mc_states,results,move_strat, mc_params, pot, ensemble ,n_steps ,a ,v ,r, save_ham, save, i;delta_en=delta_en)\n",
    "            else\n",
    "                ptmc_cycle!(mc_states,results,move_strat, mc_params, pot, ensemble ,n_steps ,a ,v ,r, save_ham, save, i)\n",
    "            end\n",
    "            \n",
    "        end \n",
    "    end\n",
    "    println(\"MC loop done.\")\n",
    "    #Evaluation\n",
    "    #average energy\n",
    "    n_sample = mc_params.mc_cycles / mc_params.mc_sample\n",
    "\n",
    "    if save_ham == true\n",
    "        en_avg = [sum(mc_states[i_traj].ham) / n_sample for i_traj in 1:mc_params.n_traj] #floor(mc_cycles/mc_sample)\n",
    "        en2_avg = [sum(mc_states[i_traj].ham .* mc_states[i_traj].ham) / n_sample for i_traj in 1:mc_params.n_traj]\n",
    "    else\n",
    "        en_avg = [mc_states[i_traj].ham[1] / n_sample  for i_traj in 1:mc_params.n_traj]\n",
    "        en2_avg = [mc_states[i_traj].ham[2] / n_sample  for i_traj in 1:mc_params.n_traj]\n",
    "    end\n",
    "\n",
    "\n",
    "    results.en_avg = en_avg\n",
    "\n",
    "    #heat capacity\n",
    "    results.heat_cap = [(en2_avg[i]-en_avg[i]^2) * mc_states[i].beta for i in 1:mc_params.n_traj]\n",
    "\n",
    "    #acceptance statistics\n",
    "    results.count_stat_atom = [mc_states[i_traj].count_atom[1] / (mc_params.n_atoms * mc_params.mc_cycles) for i_traj in 1:mc_params.n_traj]\n",
    "    results.count_stat_exc = [mc_states[i_traj].count_exc[2] / mc_states[i_traj].count_exc[1] for i_traj in 1:mc_params.n_traj]\n",
    "\n",
    "    println(results.heat_cap)\n",
    "\n",
    "    #energy histograms\n",
    "    if save_ham == true\n",
    "        # T = typeof(mc_states[1].ham[1])\n",
    "        delta_en= initialise_histograms!(mc_params,mc_states,results)\n",
    "        updatehistogram!(mc_params,mc_states,results,delta_en)\n",
    "    \n",
    "    end\n",
    "    #     for i_traj in 1:mc_params.n_traj\n",
    "    #         hist = zeros(results.n_bin)#EnHist(results.n_bin, global_en_min, global_en_max)\n",
    "    #         for en in mc_states[i_traj].ham\n",
    "    #             index = floor(Int,(en - global_en_min) / delta_en) + 1\n",
    "    #             hist[index] += 1\n",
    "    #         end\n",
    "    #         push!(results.en_histogram, hist)\n",
    "    #     end\n",
    "    # end\n",
    "\n",
    "    #TO DO\n",
    "    # volume (NPT ensemble),rot moves ...\n",
    "    # move boundary condition from config to mc_params?\n",
    "    # rdfs\n",
    "\n",
    "    println(\"done\")\n",
    "    return \n",
    "end"
   ]
  },
  {
   "cell_type": "code",
   "execution_count": 11,
   "metadata": {},
   "outputs": [
    {
     "name": "stdout",
     "output_type": "stream",
     "text": [
      "Total number of moves per MC cycle: 13\n",
      "\n"
     ]
    },
    {
     "name": "stdout",
     "output_type": "stream",
     "text": [
      "equilibration done\n"
     ]
    },
    {
     "name": "stdout",
     "output_type": "stream",
     "text": [
      "MC loop done.\n"
     ]
    },
    {
     "name": "stdout",
     "output_type": "stream",
     "text": [
      "[0.033315931832741515, 0.032883476690382094, 0.03377214263676734, 0.023545083799733302, 0.016148537499605476, 0.011873652465451827, 0.010949893256928783, 0.011846215802770508, 0.011964140851500115, 0.01135260555271364, 0.010171447585564404, 0.0102159769912188, 0.011936222245349971, 0.012703240698300084, 0.012439317915282076, 0.015528745065002377, 0.014522234150351875, 0.010894829251158249, 0.009873041035726381, 0.009949611589284035, 0.008160798663554389, 0.009707159195862621, 0.008819043100577734, 0.010765999982660479, 0.013529749889175555, 0.01354559659378694, 0.011846259232634866, 0.014147335614978676, 0.015228133924754429, 0.015324400141634805, 0.016657036104586333, 0.00955523318297437]\n",
      "done\n",
      "Total number of moves per MC cycle: 13\n",
      "\n"
     ]
    },
    {
     "name": "stdout",
     "output_type": "stream",
     "text": [
      "equilibration done\n"
     ]
    },
    {
     "name": "stdout",
     "output_type": "stream",
     "text": [
      "MC loop done.\n",
      "[-6.860208488915124, -6.474438258656901, -5.966269204327616, -5.346200713412912, -4.876868528821291, -4.560023473919806, -4.293703401653448, -3.966931791028216, -3.7025856463292084, -3.4194312112169594, -3.1929826613177843, -2.9682324079021876, -2.768534753765081, -2.3797315698137305, -2.137221208454402, -1.98061562121099, -1.8622516158826983, -1.7077927221776197, -1.5972324493822863, -1.4525603602461028, -1.3205419636897378, -1.2178534156737777, -1.117030579364616, -1.0259818345367988, -0.9367706560898523, -0.8360990188736713, -0.7543442842633171, -0.6620438739677081, -0.5058228233153398, -0.35435037994990115, -0.1791855400467934, -0.03181133857827015]\n",
      "done\n",
      "Total number of moves per MC cycle: "
     ]
    },
    {
     "name": "stdout",
     "output_type": "stream",
     "text": [
      "13\n",
      "\n"
     ]
    },
    {
     "name": "stdout",
     "output_type": "stream",
     "text": [
      "equilibration done\n"
     ]
    },
    {
     "name": "stdout",
     "output_type": "stream",
     "text": [
      "MC loop done.\n",
      "[-22.529123582032287, -21.100848151559564, -19.601784933361316, -17.944520663140537, -16.6177437877423, -15.61820751498729, -14.734644244450132, -13.646697693820238, -12.652338275600272, -11.668990856574606, -10.851314358825077, -10.031601829530512, -9.331279508767079, -8.156095628995239, -7.297243576767305, -6.502072126288781, -5.9420570151467675, -5.4214401617235035, -5.030426358825759, -4.564326217884239, -4.158349651192735, -3.7729564217052265, -3.4225404107267794, -3.0932824577829345, -2.7859054865239634, -2.5167300491083107, -2.261840418333913, -1.9455576321328554, -1.3255159917031185, -0.8897771921968597, -0.4416729736914624, -0.0901391504675201]\n",
      "done\n",
      "Total number of moves per MC cycle: "
     ]
    },
    {
     "name": "stdout",
     "output_type": "stream",
     "text": [
      "13\n",
      "\n"
     ]
    },
    {
     "name": "stdout",
     "output_type": "stream",
     "text": [
      "equilibration done\n"
     ]
    },
    {
     "name": "stdout",
     "output_type": "stream",
     "text": [
      "MC loop done.\n",
      "[-50.17910462511319, -46.19610967914932, -42.65559971232533, -39.23564200877116, -36.60002142187566, -34.385550466634506, -32.32891660704748, -29.854936991387742, -27.39208845300527, -25.127301926096262, -23.065676402684517, -21.258740501586736, -19.783553864281384, -17.538256222437294, -15.777856623691337, -14.183561208278658, -12.866405720686835, -11.764965158888957, -10.941251395105134, -10.027066426310485, -9.018860087835167, -8.095314664179114, -7.292514141039699, -6.60680087313759, -5.914931476775127, -5.287925013698043, -4.410327217270329, -3.529988221286712, -2.4332409515923934, -1.5665821491608267, -0.7434471712683475, -0.19523537464165713]\n",
      "done\n"
     ]
    },
    {
     "data": {
      "text/plain": [
       "BenchmarkTools.Trial: 1 sample with 1 evaluation.\n",
       " Single result which took \u001b[34m14.574 s\u001b[39m (34.51% GC) to evaluate,\n",
       " with a memory estimate of \u001b[33m25.64 GiB\u001b[39m, over \u001b[33m183505571\u001b[39m allocations."
      ]
     },
     "metadata": {},
     "output_type": "display_data"
    }
   ],
   "source": [
    "@benchmark begin\n",
    "    ptmc_threaded_run!(mc_states, move_strat, mc_params, pot, ensemble, results; save_ham = false,save=true)\n",
    "end"
   ]
  },
  {
   "cell_type": "code",
   "execution_count": 21,
   "metadata": {},
   "outputs": [
    {
     "name": "stdout",
     "output_type": "stream",
     "text": [
      "8Int64"
     ]
    },
    {
     "name": "stdout",
     "output_type": "stream",
     "text": [
      "\n"
     ]
    }
   ],
   "source": [
    "println(Threads.nthreads(), typeof(Threads.nthreads()))"
   ]
  },
  {
   "cell_type": "code",
   "execution_count": 22,
   "metadata": {},
   "outputs": [
    {
     "data": {
      "text/plain": [
       "\"/home/ghun245/ParallelTemperingMonteCarlo.jl/scripts/Brass_potential1\""
      ]
     },
     "metadata": {},
     "output_type": "display_data"
    }
   ],
   "source": [
    "# cp(\"/home/ghun245/RuNNer-master/Brass_potential/\",\"$(pwd())/Brass_potential1\")"
   ]
  },
  {
   "cell_type": "code",
   "execution_count": 23,
   "metadata": {},
   "outputs": [
    {
     "data": {
      "text/plain": [
       "parallel_equilibration (generic function with 1 method)"
      ]
     },
     "metadata": {},
     "output_type": "display_data"
    }
   ],
   "source": [
    "function init_parallel_RuNNer(pot::AbstractMLPotential; n_threads = Threads.nthreads())\n",
    "    potential_directory = mkdir(\"$(pwd())/pots\")\n",
    "    potential_vector = []\n",
    "    for i = 1:n_threads\n",
    "        # n_threads potentials\n",
    "        cp(pot.dir,\"$(potential_directory)/potential$i\")\n",
    "        pot_i = AbstractMLPotential(\"$(potential_directory)/potential$i\",pot.atomtype)\n",
    "        push!(potential_vector,pot_i)\n",
    "    end\n",
    "        \n",
    "    return potential_vector        \n",
    "end\n",
    "\n",
    "function parallel_equilibration(mc_states,move_strat,mc_params,pot,ensemble,results)\n",
    "    parallel_states = []\n",
    "\n",
    "    pot_vector = init_parallel_RuNNer(pot) #initialise state and potentials\n",
    "\n",
    "    n_threads = Threads.nthreads()\n",
    "    sample_index = Int64(floor(mc_params.eq_cycles / n_threads)) #number of eq cycles per thread\n",
    "\n",
    "    a = atom_move_frequency(move_strat)\n",
    "    v = vol_move_frequency(move_strat)\n",
    "    r = rot_move_frequency(move_strat)\n",
    "    #number of MC steps per MC cycle\n",
    "    n_steps = a + v + r\n",
    "\n",
    "    println(\"Total number of moves per MC cycle: \", n_steps)\n",
    "    println()\n",
    "\n",
    "    ebounds = [100. , -100.]\n",
    "\n",
    "    for i_thread = 1:n_threads\n",
    "        for i_eq = 1:sample_index\n",
    "\n",
    "            mc_states = mc_cycle!(mc_states, move_strat, mc_params, pot, ensemble, n_steps, a, v, r)#mc cycle\n",
    "            for i_traj = 1:mc_params.n_traj#check energy bounds\n",
    "                if mc_states[i_traj].en_tot < ebounds[1]\n",
    "                    ebounds[1] = mc_states[i_traj].en_tot\n",
    "                end\n",
    "\n",
    "                if mc_states[i_traj].en_tot > ebounds[2]\n",
    "                    ebounds[2] = mc_states[i_traj].en_tot\n",
    "                end\n",
    "\n",
    "            end\n",
    "            if rem(i, mc_params.n_adjust) == 0 #adjust stepsize\n",
    "                for i_traj = 1:mc_params.n_traj\n",
    "                    update_max_stepsize!(mc_states[i_traj], mc_params.n_adjust, a, v, r)\n",
    "                end \n",
    "            end\n",
    "\n",
    "        end\n",
    "        states_vec = [MCState(mc_states[idx].temp,mc_states[idx].beta,mc_states[idx].config,pot_vector[idx];max_displ = mc_states[idx].max_displ ) for idx in 1:mc_params.n_traj] #initialise a new mc_states vector based on current state\n",
    "\n",
    "        push!(parallel_states,states_vec) #add to vector of parallel states\n",
    "\n",
    "\n",
    "    end\n",
    "    delta_en = initialise_histograms!(mc_params,mc_states,results, full_ham=false,e_bounds=ebounds) #start histogram\n",
    "\n",
    "    println(\"equilibration done\")\n",
    "    \n",
    "    return a,v,r,delta_en\n",
    "\n",
    "end"
   ]
  },
  {
   "cell_type": "code",
   "execution_count": null,
   "metadata": {},
   "outputs": [],
   "source": []
  }
 ],
 "metadata": {
  "kernelspec": {
   "display_name": "Julia 1.8.0",
   "language": "julia",
   "name": "julia-1.8"
  },
  "language_info": {
   "file_extension": ".jl",
   "mimetype": "application/julia",
   "name": "julia",
   "version": "1.8.0"
  },
  "orig_nbformat": 4
 },
 "nbformat": 4,
 "nbformat_minor": 2
}
