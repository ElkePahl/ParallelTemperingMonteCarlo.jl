{
 "cells": [
  {
   "cell_type": "code",
   "execution_count": 1,
   "metadata": {},
   "outputs": [
    {
     "name": "stderr",
     "output_type": "stream",
     "text": [
      "\u001b[32m\u001b[1m  No Changes\u001b[22m\u001b[39m to `~/Documents/ParallelTemperingMonteCarlo.jl/Project.toml`\n",
      "\u001b[32m\u001b[1m  No Changes\u001b[22m\u001b[39m to `~/Documents/ParallelTemperingMonteCarlo.jl/Manifest.toml`\n"
     ]
    }
   ],
   "source": [
    "#using Pkg; Pkg.update()\n",
    "using Pkg; Pkg.resolve()\n",
    "using SplitApplyCombine\n",
    "using ParallelTemperingMonteCarlo\n",
    "using DelimitedFiles\n",
    "using StaticArrays\n",
    "using Random, Plots\n",
    "\n",
    "using BenchmarkTools"
   ]
  },
  {
   "attachments": {},
   "cell_type": "markdown",
   "metadata": {},
   "source": [
    "Below was used to benchmark generating vectors"
   ]
  },
  {
   "cell_type": "code",
   "execution_count": 2,
   "metadata": {},
   "outputs": [],
   "source": [
    "# genvector1(max_displacement) = max_displacement * (rand(-0.5:0.001:0.5,3))\n",
    "\n",
    "# genvector2(max_displacement) = SVector((rand()-0.5)*max_displacement,(rand()-0.5)*max_displacement,(rand()-0.5)*max_displacement)\n",
    "# @benchmark genvector1(rand())\n",
    "# @benchmark genvector2(rand())"
   ]
  },
  {
   "attachments": {},
   "cell_type": "markdown",
   "metadata": {},
   "source": [
    "Below is the main code to load 13 atom neon ELJ"
   ]
  },
  {
   "cell_type": "code",
   "execution_count": 2,
   "metadata": {},
   "outputs": [
    {
     "data": {
      "text/plain": [
       "Output{Float64}(100, 0.0, 0.0, Float64[], Float64[], Float64[], Vector{Float64}[], Vector{Float64}[], Float64[], Float64[], Float64[], Float64[])"
      ]
     },
     "metadata": {},
     "output_type": "display_data"
    }
   ],
   "source": [
    "n_atoms = 13\n",
    "\n",
    "# temperature grid\n",
    "ti = 5.\n",
    "tf = 16.\n",
    "n_traj = 32\n",
    "\n",
    "temp = TempGrid{n_traj}(ti,tf) \n",
    "\n",
    "# MC simulation details\n",
    "\n",
    "mc_cycles = 400000 #default 20% equilibration cycles on top\n",
    "\n",
    "mc_sample = 1  #sample every mc_sample MC cycles\n",
    "\n",
    "#move_atom=AtomMove(n_atoms) #move strategy (here only atom moves, n_atoms per MC cycle)\n",
    "displ_atom = 0.1 # Angstrom\n",
    "n_adjust = 100\n",
    "\n",
    "max_displ_atom = [0.1*sqrt(displ_atom*temp.t_grid[i]) for i in 1:n_traj]\n",
    "\n",
    "mc_params = MCParams(mc_cycles, n_traj, n_atoms, mc_sample = mc_sample, n_adjust = n_adjust)\n",
    "\n",
    "#moves - allowed at present: atom, volume and rotation moves (volume,rotation not yet implemented)\n",
    "move_strat = MoveStrategy(atom_moves = n_atoms)  \n",
    "\n",
    "#ensemble\n",
    "ensemble = NVT(n_atoms)\n",
    "\n",
    "#ELJpotential for neon\n",
    "#c1=[-10.5097942564988, 0., 989.725135614556, 0., -101383.865938807, 0., 3918846.12841668, 0., -56234083.4334278, 0., 288738837.441765]\n",
    "#elj_ne1 = ELJPotential{11}(c1)\n",
    "\n",
    "c=[-10.5097942564988, 989.725135614556, -101383.865938807, 3918846.12841668, -56234083.4334278, 288738837.441765]\n",
    "pot = ELJPotentialEven{6}(c)\n",
    "\n",
    "#starting configurations\n",
    "#icosahedral ground state of Ne13 (from Cambridge cluster database) in Angstrom\n",
    "pos_ne13 = [[2.825384495892464, 0.928562467914040, 0.505520149314310],\n",
    "[2.023342172678102,\t-2.136126268595355, 0.666071287554958],\n",
    "[2.033761811732818,\t-0.643989413759464, -2.133000349161121],\n",
    "[0.979777205108572,\t2.312002562803556, -1.671909307631893],\n",
    "[0.962914279874254,\t-0.102326586625353, 2.857083360096907],\n",
    "[0.317957619634043,\t2.646768968413408, 1.412132053672896],\n",
    "[-2.825388342924982, -0.928563755928189, -0.505520471387560],\n",
    "[-0.317955944853142, -2.646769840660271, -1.412131825293682],\n",
    "[-0.979776174195320, -2.312003751825495, 1.671909138648006],\n",
    "[-0.962916072888105, 0.102326392265998,\t-2.857083272537599],\n",
    "[-2.023340541398004, 2.136128558801072,\t-0.666071089291685],\n",
    "[-2.033762834001679, 0.643989905095452, 2.132999911364582],\n",
    "[0.000002325340981,\t0.000000762100600, 0.000000414930733]]\n",
    "\n",
    "#convert to Bohr\n",
    "AtoBohr = 1.8897259886\n",
    "pos_ne13 = pos_ne13 * AtoBohr\n",
    "\n",
    "length(pos_ne13) == n_atoms || error(\"number of atoms and positions not the same - check starting config\")\n",
    "\n",
    "#boundary conditions \n",
    "bc_ne13 = SphericalBC(radius=5.32*AtoBohr)   #5.32 Angstrom\n",
    "\n",
    "#starting configuration\n",
    "start_config = Config(pos_ne13, bc_ne13)\n",
    "\n",
    "#histogram information\n",
    "n_bin = 100\n",
    "#en_min = -0.006    #might want to update after equilibration run if generated on the fly\n",
    "#en_max = -0.001    #otherwise will be determined after run as min/max of sampled energies (ham vector)\n",
    "\n",
    "#construct array of MCState (for each temperature)\n",
    "mc_states = [MCState(temp.t_grid[i], temp.beta_grid[i], start_config, pot; max_displ=[max_displ_atom[i],0.01,1.]) for i in 1:n_traj]\n",
    "\n",
    "#results = Output(n_bin, max_displ_vec)\n",
    "results = Output{Float64}(n_bin; en_min = mc_states[1].en_tot)"
   ]
  },
  {
   "cell_type": "markdown",
   "metadata": {},
   "source": [
    "Below is the comprehensive testing performed on making a vectorised displacement function"
   ]
  },
  {
   "cell_type": "code",
   "execution_count": 4,
   "metadata": {},
   "outputs": [],
   "source": [
    "# function testtime(mc_states)\n",
    "#     for state in mc_states\n",
    "#         ran = rand(1:length(state.config.pos))\n",
    "#         trial_pos =atom_displacement(state.config.pos[ran],state.max_displ[1],state.config.bc)\n",
    "#     end\n",
    "# end\n",
    "# @benchmark testtime(mc_states)\n",
    "# # rand(1:n_atoms,n_traj)\n",
    "# # V = [1 2 3; 4 5 6; 7 8 9]\n",
    "# # V[:,1]\n",
    "# function atom_disp(mc_state,index)\n",
    "#     trial_pos = atom_displacement(mc_state.config.pos[index],mc_state.max_displ[1],mc_state.config.bc)\n",
    "#     return trial_pos\n",
    "# end\n",
    "# function atom_disp!(mc_state,index,trial_pos::SVector)\n",
    "#     trial_pos = atom_displacement(mc_state.config.pos[index],mc_state.max_displ[1],mc_state.config.bc)\n",
    "#     return trial_pos\n",
    "# end\n",
    "\n",
    "# indices = rand(1:n_atoms,n_traj)\n",
    "\n",
    "# # trial_pos = atom_disp.(mc_states,indices)\n",
    "\n",
    "# @benchmark begin   \n",
    "#     indices = rand(1:n_atoms,n_traj)\n",
    "#     trial_positions = atom_disp.($mc_states,indices)\n",
    "# end\n",
    "\n",
    "# @benchmark begin \n",
    "#     indices = rand(1:n_atoms,n_traj)\n",
    "#     trial_positions =  [@SVector zeros(3) for i in 1:n_traj]\n",
    "#     atom_disp!.($mc_states,indices,trial_positions)\n",
    "# end\n",
    "# function generate_displacements(mc_states,mc_params)\n",
    "#     indices=rand(1:mc_params.n_atoms,mc_params.n_traj)\n",
    "#     trial_positions = atom_disp.(mc_states,indices)\n",
    "#     return indices,trial_positions\n",
    "# end\n",
    "# @benchmark generate_displacements(mc_states,mc_params)\n",
    "# @benchmark dimer_energy_atom(1, mc_states[1].dist2_mat[1,:], pot)\n",
    "# @benchmark dimer_energy_atom(1, mc_states[1].dist2_mat[:,1], pot)"
   ]
  },
  {
   "cell_type": "code",
   "execution_count": 3,
   "metadata": {},
   "outputs": [
    {
     "name": "stdout",
     "output_type": "stream",
     "text": [
      "Total number of moves per MC cycle: 13\n",
      "\n"
     ]
    },
    {
     "name": "stdout",
     "output_type": "stream",
     "text": [
      "equilibration done\n"
     ]
    },
    {
     "name": "stdout",
     "output_type": "stream",
     "text": [
      "MC loop done.\n"
     ]
    },
    {
     "name": "stdout",
     "output_type": "stream",
     "text": [
      "[0.00032746292803244846, 0.00034154862817591537, 0.0003567612664140719, 0.00037355229357467046, 0.000396128715448991, 0.00041077932366990235, 0.00043826509368337846, 0.00047069633938843375, 0.0004884465078595811, 0.0005082125726756222, 0.0005486950417997661, 0.0005894939621506862, 0.0006219442347326703, 0.0006502693623640924, 0.000716668900260881, 0.0008135175854607874, 0.0009280527489954725, 0.0010287526731139402, 0.001301067888799356, 0.0015683130749877291, 0.0018352570086225246, 0.002229690891500077, 0.0026201148327436004, 0.00300596464239262, 0.0032205219464387816, 0.0032397305336626415, 0.0029961952571497977, 0.0027568754076726194, 0.0023813735344185346, 0.0022702393329725665, 0.0021090932923086337, 0.0020218077168105216]\n",
      "done\n",
      " 60.061029 seconds (484.82 M allocations: 81.101 GiB, 6.94% gc time, 1.76% compilation time)\n"
     ]
    }
   ],
   "source": [
    "@time ptmc_run!(mc_states, move_strat, mc_params, pot, ensemble, results; save_ham = false)"
   ]
  },
  {
   "cell_type": "code",
   "execution_count": 4,
   "metadata": {},
   "outputs": [
    {
     "data": {
      "image/png": "[encoded data removed]",
      "image/svg+xml": "<?xml version=\"1.0\" encoding=\"utf-8\"?>\n<svg xmlns=\"http://www.w3.org/2000/svg\" xmlns:xlink=\"http://www.w3.org/1999/xlink\" width=\"600\" height=\"400\" viewBox=\"0 0 2400 1600\">\n<defs>\n  <clipPath id=\"clip030\">\n    <rect x=\"0\" y=\"0\" width=\"2400\" height=\"1600\"/>\n  </clipPath>\n</defs>\n<path clip-path=\"url(#clip030)\" d=\"M0 1600 L2400 1600 L2400 0 L0 0  Z\" fill=\"#ffffff\" fill-rule=\"evenodd\" fill-opacity=\"1\"/>\n<defs>\n  <clipPath id=\"clip031\">\n    <rect x=\"480\" y=\"0\" width=\"1681\" height=\"1600\"/>\n  </clipPath>\n</defs>\n<path clip-path=\"url(#clip030)\" d=\"M246.598 1486.45 L2352.76 1486.45 L2352.76 47.2441 L246.598 47.2441  Z\" fill=\"#ffffff\" fill-rule=\"evenodd\" fill-opacity=\"1\"/>\n<defs>\n  <clipPath id=\"clip032\">\n    <rect x=\"246\" y=\"47\" width=\"2107\" height=\"1440\"/>\n  </clipPath>\n</defs>\n<polyline clip-path=\"url(#clip032)\" style=\"stroke:#000000; stroke-linecap:round; stroke-linejoin:round; stroke-width:2; stroke-opacity:0.1; fill:none\" points=\"306.206,1486.45 306.206,47.2441 \"/>\n<polyline clip-path=\"url(#clip032)\" style=\"stroke:#000000; stroke-linecap:round; stroke-linejoin:round; stroke-width:2; stroke-opacity:0.1; fill:none\" points=\"757.784,1486.45 757.784,47.2441 \"/>\n<polyline clip-path=\"url(#clip032)\" style=\"stroke:#000000; stroke-linecap:round; stroke-linejoin:round; stroke-width:2; stroke-opacity:0.1; fill:none\" points=\"1209.36,1486.45 1209.36,47.2441 \"/>\n<polyline clip-path=\"url(#clip032)\" style=\"stroke:#000000; stroke-linecap:round; stroke-linejoin:round; stroke-width:2; stroke-opacity:0.1; fill:none\" points=\"1660.94,1486.45 1660.94,47.2441 \"/>\n<polyline clip-path=\"url(#clip032)\" style=\"stroke:#000000; stroke-linecap:round; stroke-linejoin:round; stroke-width:2; stroke-opacity:0.1; fill:none\" points=\"2112.52,1486.45 2112.52,47.2441 \"/>\n<polyline clip-path=\"url(#clip030)\" style=\"stroke:#000000; stroke-linecap:round; stroke-linejoin:round; stroke-width:4; stroke-opacity:1; fill:none\" points=\"246.598,1486.45 2352.76,1486.45 \"/>\n<polyline clip-path=\"url(#clip030)\" style=\"stroke:#000000; stroke-linecap:round; stroke-linejoin:round; stroke-width:4; stroke-opacity:1; fill:none\" points=\"306.206,1486.45 306.206,1467.55 \"/>\n<polyline clip-path=\"url(#clip030)\" style=\"stroke:#000000; stroke-linecap:round; stroke-linejoin:round; stroke-width:4; stroke-opacity:1; fill:none\" points=\"757.784,1486.45 757.784,1467.55 \"/>\n<polyline clip-path=\"url(#clip030)\" style=\"stroke:#000000; stroke-linecap:round; stroke-linejoin:round; stroke-width:4; stroke-opacity:1; fill:none\" points=\"1209.36,1486.45 1209.36,1467.55 \"/>\n<polyline clip-path=\"url(#clip030)\" style=\"stroke:#000000; stroke-linecap:round; stroke-linejoin:round; stroke-width:4; stroke-opacity:1; fill:none\" points=\"1660.94,1486.45 1660.94,1467.55 \"/>\n<polyline clip-path=\"url(#clip030)\" style=\"stroke:#000000; stroke-linecap:round; stroke-linejoin:round; stroke-width:4; stroke-opacity:1; fill:none\" points=\"2112.52,1486.45 2112.52,1467.55 \"/>\n<path clip-path=\"url(#clip030)\" d=\"M273.371 1514.29 L291.727 1514.29 L291.727 1518.22 L277.653 1518.22 L277.653 1526.7 Q278.671 1526.35 279.69 1526.19 Q280.708 1526 281.727 1526 Q287.514 1526 290.894 1529.17 Q294.273 1532.34 294.273 1537.76 Q294.273 1543.34 290.801 1546.44 Q287.329 1549.52 281.009 1549.52 Q278.833 1549.52 276.565 1549.15 Q274.32 1548.78 271.912 1548.04 L271.912 1543.34 Q273.996 1544.47 276.218 1545.03 Q278.44 1545.58 280.917 1545.58 Q284.921 1545.58 287.259 1543.48 Q289.597 1541.37 289.597 1537.76 Q289.597 1534.15 287.259 1532.04 Q284.921 1529.94 280.917 1529.94 Q279.042 1529.94 277.167 1530.35 Q275.315 1530.77 273.371 1531.65 L273.371 1514.29 Z\" fill=\"#000000\" fill-rule=\"evenodd\" fill-opacity=\"1\" /><path clip-path=\"url(#clip030)\" d=\"M303.486 1542.97 L308.37 1542.97 L308.37 1548.85 L303.486 1548.85 L303.486 1542.97 Z\" fill=\"#000000\" fill-rule=\"evenodd\" fill-opacity=\"1\" /><path clip-path=\"url(#clip030)\" d=\"M328.555 1517.37 Q324.944 1517.37 323.116 1520.93 Q321.31 1524.47 321.31 1531.6 Q321.31 1538.71 323.116 1542.27 Q324.944 1545.82 328.555 1545.82 Q332.19 1545.82 333.995 1542.27 Q335.824 1538.71 335.824 1531.6 Q335.824 1524.47 333.995 1520.93 Q332.19 1517.37 328.555 1517.37 M328.555 1513.66 Q334.366 1513.66 337.421 1518.27 Q340.5 1522.85 340.5 1531.6 Q340.5 1540.33 337.421 1544.94 Q334.366 1549.52 328.555 1549.52 Q322.745 1549.52 319.667 1544.94 Q316.611 1540.33 316.611 1531.6 Q316.611 1522.85 319.667 1518.27 Q322.745 1513.66 328.555 1513.66 Z\" fill=\"#000000\" fill-rule=\"evenodd\" fill-opacity=\"1\" /><path clip-path=\"url(#clip030)\" d=\"M724.103 1514.29 L746.325 1514.29 L746.325 1516.28 L733.779 1548.85 L728.895 1548.85 L740.7 1518.22 L724.103 1518.22 L724.103 1514.29 Z\" fill=\"#000000\" fill-rule=\"evenodd\" fill-opacity=\"1\" /><path clip-path=\"url(#clip030)\" d=\"M755.446 1542.97 L760.33 1542.97 L760.33 1548.85 L755.446 1548.85 L755.446 1542.97 Z\" fill=\"#000000\" fill-rule=\"evenodd\" fill-opacity=\"1\" /><path clip-path=\"url(#clip030)\" d=\"M770.561 1514.29 L788.918 1514.29 L788.918 1518.22 L774.844 1518.22 L774.844 1526.7 Q775.862 1526.35 776.881 1526.19 Q777.899 1526 778.918 1526 Q784.705 1526 788.084 1529.17 Q791.464 1532.34 791.464 1537.76 Q791.464 1543.34 787.992 1546.44 Q784.52 1549.52 778.2 1549.52 Q776.024 1549.52 773.756 1549.15 Q771.51 1548.78 769.103 1548.04 L769.103 1543.34 Q771.186 1544.47 773.409 1545.03 Q775.631 1545.58 778.108 1545.58 Q782.112 1545.58 784.45 1543.48 Q786.788 1541.37 786.788 1537.76 Q786.788 1534.15 784.45 1532.04 Q782.112 1529.94 778.108 1529.94 Q776.233 1529.94 774.358 1530.35 Q772.506 1530.77 770.561 1531.65 L770.561 1514.29 Z\" fill=\"#000000\" fill-rule=\"evenodd\" fill-opacity=\"1\" /><path clip-path=\"url(#clip030)\" d=\"M1161.43 1544.91 L1169.07 1544.91 L1169.07 1518.55 L1160.76 1520.21 L1160.76 1515.95 L1169.03 1514.29 L1173.7 1514.29 L1173.7 1544.91 L1181.34 1544.91 L1181.34 1548.85 L1161.43 1548.85 L1161.43 1544.91 Z\" fill=\"#000000\" fill-rule=\"evenodd\" fill-opacity=\"1\" /><path clip-path=\"url(#clip030)\" d=\"M1200.78 1517.37 Q1197.17 1517.37 1195.35 1520.93 Q1193.54 1524.47 1193.54 1531.6 Q1193.54 1538.71 1195.35 1542.27 Q1197.17 1545.82 1200.78 1545.82 Q1204.42 1545.82 1206.22 1542.27 Q1208.05 1538.71 1208.05 1531.6 Q1208.05 1524.47 1206.22 1520.93 Q1204.42 1517.37 1200.78 1517.37 M1200.78 1513.66 Q1206.6 1513.66 1209.65 1518.27 Q1212.73 1522.85 1212.73 1531.6 Q1212.73 1540.33 1209.65 1544.94 Q1206.6 1549.52 1200.78 1549.52 Q1194.97 1549.52 1191.9 1544.94 Q1188.84 1540.33 1188.84 1531.6 Q1188.84 1522.85 1191.9 1518.27 Q1194.97 1513.66 1200.78 1513.66 Z\" fill=\"#000000\" fill-rule=\"evenodd\" fill-opacity=\"1\" /><path clip-path=\"url(#clip030)\" d=\"M1220.95 1542.97 L1225.83 1542.97 L1225.83 1548.85 L1220.95 1548.85 L1220.95 1542.97 Z\" fill=\"#000000\" fill-rule=\"evenodd\" fill-opacity=\"1\" /><path clip-path=\"url(#clip030)\" d=\"M1246.02 1517.37 Q1242.41 1517.37 1240.58 1520.93 Q1238.77 1524.47 1238.77 1531.6 Q1238.77 1538.71 1240.58 1542.27 Q1242.41 1545.82 1246.02 1545.82 Q1249.65 1545.82 1251.46 1542.27 Q1253.28 1538.71 1253.28 1531.6 Q1253.28 1524.47 1251.46 1520.93 Q1249.65 1517.37 1246.02 1517.37 M1246.02 1513.66 Q1251.83 1513.66 1254.88 1518.27 Q1257.96 1522.85 1257.96 1531.6 Q1257.96 1540.33 1254.88 1544.94 Q1251.83 1549.52 1246.02 1549.52 Q1240.21 1549.52 1237.13 1544.94 Q1234.07 1540.33 1234.07 1531.6 Q1234.07 1522.85 1237.13 1518.27 Q1240.21 1513.66 1246.02 1513.66 Z\" fill=\"#000000\" fill-rule=\"evenodd\" fill-opacity=\"1\" /><path clip-path=\"url(#clip030)\" d=\"M1613.51 1544.91 L1621.15 1544.91 L1621.15 1518.55 L1612.84 1520.21 L1612.84 1515.95 L1621.1 1514.29 L1625.78 1514.29 L1625.78 1544.91 L1633.42 1544.91 L1633.42 1548.85 L1613.51 1548.85 L1613.51 1544.91 Z\" fill=\"#000000\" fill-rule=\"evenodd\" fill-opacity=\"1\" /><path clip-path=\"url(#clip030)\" d=\"M1646.89 1544.91 L1663.21 1544.91 L1663.21 1548.85 L1641.26 1548.85 L1641.26 1544.91 Q1643.93 1542.16 1648.51 1537.53 Q1653.11 1532.88 1654.3 1531.53 Q1656.54 1529.01 1657.42 1527.27 Q1658.32 1525.51 1658.32 1523.82 Q1658.32 1521.07 1656.38 1519.33 Q1654.46 1517.6 1651.36 1517.6 Q1649.16 1517.6 1646.7 1518.36 Q1644.27 1519.13 1641.49 1520.68 L1641.49 1515.95 Q1644.32 1514.82 1646.77 1514.24 Q1649.23 1513.66 1651.26 1513.66 Q1656.63 1513.66 1659.83 1516.35 Q1663.02 1519.03 1663.02 1523.52 Q1663.02 1525.65 1662.21 1527.57 Q1661.43 1529.47 1659.32 1532.07 Q1658.74 1532.74 1655.64 1535.95 Q1652.54 1539.15 1646.89 1544.91 Z\" fill=\"#000000\" fill-rule=\"evenodd\" fill-opacity=\"1\" /><path clip-path=\"url(#clip030)\" d=\"M1673.02 1542.97 L1677.91 1542.97 L1677.91 1548.85 L1673.02 1548.85 L1673.02 1542.97 Z\" fill=\"#000000\" fill-rule=\"evenodd\" fill-opacity=\"1\" /><path clip-path=\"url(#clip030)\" d=\"M1688.14 1514.29 L1706.49 1514.29 L1706.49 1518.22 L1692.42 1518.22 L1692.42 1526.7 Q1693.44 1526.35 1694.46 1526.19 Q1695.48 1526 1696.49 1526 Q1702.28 1526 1705.66 1529.17 Q1709.04 1532.34 1709.04 1537.76 Q1709.04 1543.34 1705.57 1546.44 Q1702.1 1549.52 1695.78 1549.52 Q1693.6 1549.52 1691.33 1549.15 Q1689.09 1548.78 1686.68 1548.04 L1686.68 1543.34 Q1688.76 1544.47 1690.99 1545.03 Q1693.21 1545.58 1695.68 1545.58 Q1699.69 1545.58 1702.03 1543.48 Q1704.36 1541.37 1704.36 1537.76 Q1704.36 1534.15 1702.03 1532.04 Q1699.69 1529.94 1695.68 1529.94 Q1693.81 1529.94 1691.93 1530.35 Q1690.08 1530.77 1688.14 1531.65 L1688.14 1514.29 Z\" fill=\"#000000\" fill-rule=\"evenodd\" fill-opacity=\"1\" /><path clip-path=\"url(#clip030)\" d=\"M2064.59 1544.91 L2072.23 1544.91 L2072.23 1518.55 L2063.92 1520.21 L2063.92 1515.95 L2072.18 1514.29 L2076.86 1514.29 L2076.86 1544.91 L2084.5 1544.91 L2084.5 1548.85 L2064.59 1548.85 L2064.59 1544.91 Z\" fill=\"#000000\" fill-rule=\"evenodd\" fill-opacity=\"1\" /><path clip-path=\"url(#clip030)\" d=\"M2093.99 1514.29 L2112.34 1514.29 L2112.34 1518.22 L2098.27 1518.22 L2098.27 1526.7 Q2099.29 1526.35 2100.31 1526.19 Q2101.32 1526 2102.34 1526 Q2108.13 1526 2111.51 1529.17 Q2114.89 1532.34 2114.89 1537.76 Q2114.89 1543.34 2111.42 1546.44 Q2107.94 1549.52 2101.63 1549.52 Q2099.45 1549.52 2097.18 1549.15 Q2094.94 1548.78 2092.53 1548.04 L2092.53 1543.34 Q2094.61 1544.47 2096.83 1545.03 Q2099.06 1545.58 2101.53 1545.58 Q2105.54 1545.58 2107.88 1543.48 Q2110.21 1541.37 2110.21 1537.76 Q2110.21 1534.15 2107.88 1532.04 Q2105.54 1529.94 2101.53 1529.94 Q2099.66 1529.94 2097.78 1530.35 Q2095.93 1530.77 2093.99 1531.65 L2093.99 1514.29 Z\" fill=\"#000000\" fill-rule=\"evenodd\" fill-opacity=\"1\" /><path clip-path=\"url(#clip030)\" d=\"M2124.1 1542.97 L2128.99 1542.97 L2128.99 1548.85 L2124.1 1548.85 L2124.1 1542.97 Z\" fill=\"#000000\" fill-rule=\"evenodd\" fill-opacity=\"1\" /><path clip-path=\"url(#clip030)\" d=\"M2149.17 1517.37 Q2145.56 1517.37 2143.73 1520.93 Q2141.93 1524.47 2141.93 1531.6 Q2141.93 1538.71 2143.73 1542.27 Q2145.56 1545.82 2149.17 1545.82 Q2152.81 1545.82 2154.61 1542.27 Q2156.44 1538.71 2156.44 1531.6 Q2156.44 1524.47 2154.61 1520.93 Q2152.81 1517.37 2149.17 1517.37 M2149.17 1513.66 Q2154.98 1513.66 2158.04 1518.27 Q2161.12 1522.85 2161.12 1531.6 Q2161.12 1540.33 2158.04 1544.94 Q2154.98 1549.52 2149.17 1549.52 Q2143.36 1549.52 2140.28 1544.94 Q2137.23 1540.33 2137.23 1531.6 Q2137.23 1522.85 2140.28 1518.27 Q2143.36 1513.66 2149.17 1513.66 Z\" fill=\"#000000\" fill-rule=\"evenodd\" fill-opacity=\"1\" /><polyline clip-path=\"url(#clip032)\" style=\"stroke:#000000; stroke-linecap:round; stroke-linejoin:round; stroke-width:2; stroke-opacity:0.1; fill:none\" points=\"246.598,1365.28 2352.76,1365.28 \"/>\n<polyline clip-path=\"url(#clip032)\" style=\"stroke:#000000; stroke-linecap:round; stroke-linejoin:round; stroke-width:2; stroke-opacity:0.1; fill:none\" points=\"246.598,1132.17 2352.76,1132.17 \"/>\n<polyline clip-path=\"url(#clip032)\" style=\"stroke:#000000; stroke-linecap:round; stroke-linejoin:round; stroke-width:2; stroke-opacity:0.1; fill:none\" points=\"246.598,899.063 2352.76,899.063 \"/>\n<polyline clip-path=\"url(#clip032)\" style=\"stroke:#000000; stroke-linecap:round; stroke-linejoin:round; stroke-width:2; stroke-opacity:0.1; fill:none\" points=\"246.598,665.956 2352.76,665.956 \"/>\n<polyline clip-path=\"url(#clip032)\" style=\"stroke:#000000; stroke-linecap:round; stroke-linejoin:round; stroke-width:2; stroke-opacity:0.1; fill:none\" points=\"246.598,432.849 2352.76,432.849 \"/>\n<polyline clip-path=\"url(#clip032)\" style=\"stroke:#000000; stroke-linecap:round; stroke-linejoin:round; stroke-width:2; stroke-opacity:0.1; fill:none\" points=\"246.598,199.742 2352.76,199.742 \"/>\n<polyline clip-path=\"url(#clip030)\" style=\"stroke:#000000; stroke-linecap:round; stroke-linejoin:round; stroke-width:4; stroke-opacity:1; fill:none\" points=\"246.598,1486.45 246.598,47.2441 \"/>\n<polyline clip-path=\"url(#clip030)\" style=\"stroke:#000000; stroke-linecap:round; stroke-linejoin:round; stroke-width:4; stroke-opacity:1; fill:none\" points=\"246.598,1365.28 265.495,1365.28 \"/>\n<polyline clip-path=\"url(#clip030)\" style=\"stroke:#000000; stroke-linecap:round; stroke-linejoin:round; stroke-width:4; stroke-opacity:1; fill:none\" points=\"246.598,1132.17 265.495,1132.17 \"/>\n<polyline clip-path=\"url(#clip030)\" style=\"stroke:#000000; stroke-linecap:round; stroke-linejoin:round; stroke-width:4; stroke-opacity:1; fill:none\" points=\"246.598,899.063 265.495,899.063 \"/>\n<polyline clip-path=\"url(#clip030)\" style=\"stroke:#000000; stroke-linecap:round; stroke-linejoin:round; stroke-width:4; stroke-opacity:1; fill:none\" points=\"246.598,665.956 265.495,665.956 \"/>\n<polyline clip-path=\"url(#clip030)\" style=\"stroke:#000000; stroke-linecap:round; stroke-linejoin:round; stroke-width:4; stroke-opacity:1; fill:none\" points=\"246.598,432.849 265.495,432.849 \"/>\n<polyline clip-path=\"url(#clip030)\" style=\"stroke:#000000; stroke-linecap:round; stroke-linejoin:round; stroke-width:4; stroke-opacity:1; fill:none\" points=\"246.598,199.742 265.495,199.742 \"/>\n<path clip-path=\"url(#clip030)\" d=\"M63.9319 1351.08 Q60.3208 1351.08 58.4921 1354.64 Q56.6865 1358.18 56.6865 1365.31 Q56.6865 1372.42 58.4921 1375.98 Q60.3208 1379.52 63.9319 1379.52 Q67.5661 1379.52 69.3717 1375.98 Q71.2004 1372.42 71.2004 1365.31 Q71.2004 1358.18 69.3717 1354.64 Q67.5661 1351.08 63.9319 1351.08 M63.9319 1347.37 Q69.742 1347.37 72.7976 1351.98 Q75.8763 1356.56 75.8763 1365.31 Q75.8763 1374.04 72.7976 1378.64 Q69.742 1383.23 63.9319 1383.23 Q58.1217 1383.23 55.043 1378.64 Q51.9875 1374.04 51.9875 1365.31 Q51.9875 1356.56 55.043 1351.98 Q58.1217 1347.37 63.9319 1347.37 Z\" fill=\"#000000\" fill-rule=\"evenodd\" fill-opacity=\"1\" /><path clip-path=\"url(#clip030)\" d=\"M84.0938 1376.68 L88.978 1376.68 L88.978 1382.56 L84.0938 1382.56 L84.0938 1376.68 Z\" fill=\"#000000\" fill-rule=\"evenodd\" fill-opacity=\"1\" /><path clip-path=\"url(#clip030)\" d=\"M109.163 1351.08 Q105.552 1351.08 103.723 1354.64 Q101.918 1358.18 101.918 1365.31 Q101.918 1372.42 103.723 1375.98 Q105.552 1379.52 109.163 1379.52 Q112.797 1379.52 114.603 1375.98 Q116.432 1372.42 116.432 1365.31 Q116.432 1358.18 114.603 1354.64 Q112.797 1351.08 109.163 1351.08 M109.163 1347.37 Q114.973 1347.37 118.029 1351.98 Q121.107 1356.56 121.107 1365.31 Q121.107 1374.04 118.029 1378.64 Q114.973 1383.23 109.163 1383.23 Q103.353 1383.23 100.274 1378.64 Q97.2187 1374.04 97.2187 1365.31 Q97.2187 1356.56 100.274 1351.98 Q103.353 1347.37 109.163 1347.37 Z\" fill=\"#000000\" fill-rule=\"evenodd\" fill-opacity=\"1\" /><path clip-path=\"url(#clip030)\" d=\"M139.325 1351.08 Q135.714 1351.08 133.885 1354.64 Q132.08 1358.18 132.08 1365.31 Q132.08 1372.42 133.885 1375.98 Q135.714 1379.52 139.325 1379.52 Q142.959 1379.52 144.765 1375.98 Q146.593 1372.42 146.593 1365.31 Q146.593 1358.18 144.765 1354.64 Q142.959 1351.08 139.325 1351.08 M139.325 1347.37 Q145.135 1347.37 148.191 1351.98 Q151.269 1356.56 151.269 1365.31 Q151.269 1374.04 148.191 1378.64 Q145.135 1383.23 139.325 1383.23 Q133.515 1383.23 130.436 1378.64 Q127.381 1374.04 127.381 1365.31 Q127.381 1356.56 130.436 1351.98 Q133.515 1347.37 139.325 1347.37 Z\" fill=\"#000000\" fill-rule=\"evenodd\" fill-opacity=\"1\" /><path clip-path=\"url(#clip030)\" d=\"M169.487 1351.08 Q165.876 1351.08 164.047 1354.64 Q162.242 1358.18 162.242 1365.31 Q162.242 1372.42 164.047 1375.98 Q165.876 1379.52 169.487 1379.52 Q173.121 1379.52 174.927 1375.98 Q176.755 1372.42 176.755 1365.31 Q176.755 1358.18 174.927 1354.64 Q173.121 1351.08 169.487 1351.08 M169.487 1347.37 Q175.297 1347.37 178.353 1351.98 Q181.431 1356.56 181.431 1365.31 Q181.431 1374.04 178.353 1378.64 Q175.297 1383.23 169.487 1383.23 Q163.677 1383.23 160.598 1378.64 Q157.542 1374.04 157.542 1365.31 Q157.542 1356.56 160.598 1351.98 Q163.677 1347.37 169.487 1347.37 Z\" fill=\"#000000\" fill-rule=\"evenodd\" fill-opacity=\"1\" /><path clip-path=\"url(#clip030)\" d=\"M189.695 1348 L208.051 1348 L208.051 1351.93 L193.977 1351.93 L193.977 1360.4 Q194.996 1360.06 196.014 1359.89 Q197.033 1359.71 198.052 1359.71 Q203.839 1359.71 207.218 1362.88 Q210.598 1366.05 210.598 1371.47 Q210.598 1377.05 207.126 1380.15 Q203.653 1383.23 197.334 1383.23 Q195.158 1383.23 192.89 1382.86 Q190.644 1382.49 188.237 1381.75 L188.237 1377.05 Q190.32 1378.18 192.542 1378.74 Q194.765 1379.29 197.241 1379.29 Q201.246 1379.29 203.584 1377.19 Q205.922 1375.08 205.922 1371.47 Q205.922 1367.86 203.584 1365.75 Q201.246 1363.64 197.241 1363.64 Q195.366 1363.64 193.491 1364.06 Q191.64 1364.48 189.695 1365.36 L189.695 1348 Z\" fill=\"#000000\" fill-rule=\"evenodd\" fill-opacity=\"1\" /><path clip-path=\"url(#clip030)\" d=\"M62.9365 1117.97 Q59.3254 1117.97 57.4967 1121.53 Q55.6912 1125.07 55.6912 1132.2 Q55.6912 1139.31 57.4967 1142.88 Q59.3254 1146.42 62.9365 1146.42 Q66.5707 1146.42 68.3763 1142.88 Q70.205 1139.31 70.205 1132.2 Q70.205 1125.07 68.3763 1121.53 Q66.5707 1117.97 62.9365 1117.97 M62.9365 1114.26 Q68.7467 1114.26 71.8022 1118.87 Q74.8809 1123.45 74.8809 1132.2 Q74.8809 1140.93 71.8022 1145.54 Q68.7467 1150.12 62.9365 1150.12 Q57.1264 1150.12 54.0477 1145.54 Q50.9921 1140.93 50.9921 1132.2 Q50.9921 1123.45 54.0477 1118.87 Q57.1264 1114.26 62.9365 1114.26 Z\" fill=\"#000000\" fill-rule=\"evenodd\" fill-opacity=\"1\" /><path clip-path=\"url(#clip030)\" d=\"M83.0984 1143.57 L87.9827 1143.57 L87.9827 1149.45 L83.0984 1149.45 L83.0984 1143.57 Z\" fill=\"#000000\" fill-rule=\"evenodd\" fill-opacity=\"1\" /><path clip-path=\"url(#clip030)\" d=\"M108.168 1117.97 Q104.557 1117.97 102.728 1121.53 Q100.922 1125.07 100.922 1132.2 Q100.922 1139.31 102.728 1142.88 Q104.557 1146.42 108.168 1146.42 Q111.802 1146.42 113.608 1142.88 Q115.436 1139.31 115.436 1132.2 Q115.436 1125.07 113.608 1121.53 Q111.802 1117.97 108.168 1117.97 M108.168 1114.26 Q113.978 1114.26 117.033 1118.87 Q120.112 1123.45 120.112 1132.2 Q120.112 1140.93 117.033 1145.54 Q113.978 1150.12 108.168 1150.12 Q102.358 1150.12 99.2789 1145.54 Q96.2234 1140.93 96.2234 1132.2 Q96.2234 1123.45 99.2789 1118.87 Q102.358 1114.26 108.168 1114.26 Z\" fill=\"#000000\" fill-rule=\"evenodd\" fill-opacity=\"1\" /><path clip-path=\"url(#clip030)\" d=\"M138.33 1117.97 Q134.719 1117.97 132.89 1121.53 Q131.084 1125.07 131.084 1132.2 Q131.084 1139.31 132.89 1142.88 Q134.719 1146.42 138.33 1146.42 Q141.964 1146.42 143.769 1142.88 Q145.598 1139.31 145.598 1132.2 Q145.598 1125.07 143.769 1121.53 Q141.964 1117.97 138.33 1117.97 M138.33 1114.26 Q144.14 1114.26 147.195 1118.87 Q150.274 1123.45 150.274 1132.2 Q150.274 1140.93 147.195 1145.54 Q144.14 1150.12 138.33 1150.12 Q132.519 1150.12 129.441 1145.54 Q126.385 1140.93 126.385 1132.2 Q126.385 1123.45 129.441 1118.87 Q132.519 1114.26 138.33 1114.26 Z\" fill=\"#000000\" fill-rule=\"evenodd\" fill-opacity=\"1\" /><path clip-path=\"url(#clip030)\" d=\"M159.302 1145.51 L166.941 1145.51 L166.941 1119.15 L158.63 1120.82 L158.63 1116.56 L166.894 1114.89 L171.57 1114.89 L171.57 1145.51 L179.209 1145.51 L179.209 1149.45 L159.302 1149.45 L159.302 1145.51 Z\" fill=\"#000000\" fill-rule=\"evenodd\" fill-opacity=\"1\" /><path clip-path=\"url(#clip030)\" d=\"M198.653 1117.97 Q195.042 1117.97 193.214 1121.53 Q191.408 1125.07 191.408 1132.2 Q191.408 1139.31 193.214 1142.88 Q195.042 1146.42 198.653 1146.42 Q202.288 1146.42 204.093 1142.88 Q205.922 1139.31 205.922 1132.2 Q205.922 1125.07 204.093 1121.53 Q202.288 1117.97 198.653 1117.97 M198.653 1114.26 Q204.464 1114.26 207.519 1118.87 Q210.598 1123.45 210.598 1132.2 Q210.598 1140.93 207.519 1145.54 Q204.464 1150.12 198.653 1150.12 Q192.843 1150.12 189.765 1145.54 Q186.709 1140.93 186.709 1132.2 Q186.709 1123.45 189.765 1118.87 Q192.843 1114.26 198.653 1114.26 Z\" fill=\"#000000\" fill-rule=\"evenodd\" fill-opacity=\"1\" /><path clip-path=\"url(#clip030)\" d=\"M63.9319 884.861 Q60.3208 884.861 58.4921 888.426 Q56.6865 891.968 56.6865 899.097 Q56.6865 906.204 58.4921 909.769 Q60.3208 913.31 63.9319 913.31 Q67.5661 913.31 69.3717 909.769 Q71.2004 906.204 71.2004 899.097 Q71.2004 891.968 69.3717 888.426 Q67.5661 884.861 63.9319 884.861 M63.9319 881.158 Q69.742 881.158 72.7976 885.764 Q75.8763 890.347 75.8763 899.097 Q75.8763 907.824 72.7976 912.431 Q69.742 917.014 63.9319 917.014 Q58.1217 917.014 55.043 912.431 Q51.9875 907.824 51.9875 899.097 Q51.9875 890.347 55.043 885.764 Q58.1217 881.158 63.9319 881.158 Z\" fill=\"#000000\" fill-rule=\"evenodd\" fill-opacity=\"1\" /><path clip-path=\"url(#clip030)\" d=\"M84.0938 910.463 L88.978 910.463 L88.978 916.343 L84.0938 916.343 L84.0938 910.463 Z\" fill=\"#000000\" fill-rule=\"evenodd\" fill-opacity=\"1\" /><path clip-path=\"url(#clip030)\" d=\"M109.163 884.861 Q105.552 884.861 103.723 888.426 Q101.918 891.968 101.918 899.097 Q101.918 906.204 103.723 909.769 Q105.552 913.31 109.163 913.31 Q112.797 913.31 114.603 909.769 Q116.432 906.204 116.432 899.097 Q116.432 891.968 114.603 888.426 Q112.797 884.861 109.163 884.861 M109.163 881.158 Q114.973 881.158 118.029 885.764 Q121.107 890.347 121.107 899.097 Q121.107 907.824 118.029 912.431 Q114.973 917.014 109.163 917.014 Q103.353 917.014 100.274 912.431 Q97.2187 907.824 97.2187 899.097 Q97.2187 890.347 100.274 885.764 Q103.353 881.158 109.163 881.158 Z\" fill=\"#000000\" fill-rule=\"evenodd\" fill-opacity=\"1\" /><path clip-path=\"url(#clip030)\" d=\"M139.325 884.861 Q135.714 884.861 133.885 888.426 Q132.08 891.968 132.08 899.097 Q132.08 906.204 133.885 909.769 Q135.714 913.31 139.325 913.31 Q142.959 913.31 144.765 909.769 Q146.593 906.204 146.593 899.097 Q146.593 891.968 144.765 888.426 Q142.959 884.861 139.325 884.861 M139.325 881.158 Q145.135 881.158 148.191 885.764 Q151.269 890.347 151.269 899.097 Q151.269 907.824 148.191 912.431 Q145.135 917.014 139.325 917.014 Q133.515 917.014 130.436 912.431 Q127.381 907.824 127.381 899.097 Q127.381 890.347 130.436 885.764 Q133.515 881.158 139.325 881.158 Z\" fill=\"#000000\" fill-rule=\"evenodd\" fill-opacity=\"1\" /><path clip-path=\"url(#clip030)\" d=\"M160.297 912.408 L167.936 912.408 L167.936 886.042 L159.626 887.709 L159.626 883.449 L167.89 881.783 L172.566 881.783 L172.566 912.408 L180.204 912.408 L180.204 916.343 L160.297 916.343 L160.297 912.408 Z\" fill=\"#000000\" fill-rule=\"evenodd\" fill-opacity=\"1\" /><path clip-path=\"url(#clip030)\" d=\"M189.695 881.783 L208.051 881.783 L208.051 885.718 L193.977 885.718 L193.977 894.19 Q194.996 893.843 196.014 893.681 Q197.033 893.496 198.052 893.496 Q203.839 893.496 207.218 896.667 Q210.598 899.838 210.598 905.255 Q210.598 910.833 207.126 913.935 Q203.653 917.014 197.334 917.014 Q195.158 917.014 192.89 916.644 Q190.644 916.273 188.237 915.533 L188.237 910.833 Q190.32 911.968 192.542 912.523 Q194.765 913.079 197.241 913.079 Q201.246 913.079 203.584 910.972 Q205.922 908.866 205.922 905.255 Q205.922 901.644 203.584 899.537 Q201.246 897.431 197.241 897.431 Q195.366 897.431 193.491 897.847 Q191.64 898.264 189.695 899.144 L189.695 881.783 Z\" fill=\"#000000\" fill-rule=\"evenodd\" fill-opacity=\"1\" /><path clip-path=\"url(#clip030)\" d=\"M62.9365 651.754 Q59.3254 651.754 57.4967 655.319 Q55.6912 658.861 55.6912 665.991 Q55.6912 673.097 57.4967 676.662 Q59.3254 680.203 62.9365 680.203 Q66.5707 680.203 68.3763 676.662 Q70.205 673.097 70.205 665.991 Q70.205 658.861 68.3763 655.319 Q66.5707 651.754 62.9365 651.754 M62.9365 648.051 Q68.7467 648.051 71.8022 652.657 Q74.8809 657.241 74.8809 665.991 Q74.8809 674.717 71.8022 679.324 Q68.7467 683.907 62.9365 683.907 Q57.1264 683.907 54.0477 679.324 Q50.9921 674.717 50.9921 665.991 Q50.9921 657.241 54.0477 652.657 Q57.1264 648.051 62.9365 648.051 Z\" fill=\"#000000\" fill-rule=\"evenodd\" fill-opacity=\"1\" /><path clip-path=\"url(#clip030)\" d=\"M83.0984 677.356 L87.9827 677.356 L87.9827 683.236 L83.0984 683.236 L83.0984 677.356 Z\" fill=\"#000000\" fill-rule=\"evenodd\" fill-opacity=\"1\" /><path clip-path=\"url(#clip030)\" d=\"M108.168 651.754 Q104.557 651.754 102.728 655.319 Q100.922 658.861 100.922 665.991 Q100.922 673.097 102.728 676.662 Q104.557 680.203 108.168 680.203 Q111.802 680.203 113.608 676.662 Q115.436 673.097 115.436 665.991 Q115.436 658.861 113.608 655.319 Q111.802 651.754 108.168 651.754 M108.168 648.051 Q113.978 648.051 117.033 652.657 Q120.112 657.241 120.112 665.991 Q120.112 674.717 117.033 679.324 Q113.978 683.907 108.168 683.907 Q102.358 683.907 99.2789 679.324 Q96.2234 674.717 96.2234 665.991 Q96.2234 657.241 99.2789 652.657 Q102.358 648.051 108.168 648.051 Z\" fill=\"#000000\" fill-rule=\"evenodd\" fill-opacity=\"1\" /><path clip-path=\"url(#clip030)\" d=\"M138.33 651.754 Q134.719 651.754 132.89 655.319 Q131.084 658.861 131.084 665.991 Q131.084 673.097 132.89 676.662 Q134.719 680.203 138.33 680.203 Q141.964 680.203 143.769 676.662 Q145.598 673.097 145.598 665.991 Q145.598 658.861 143.769 655.319 Q141.964 651.754 138.33 651.754 M138.33 648.051 Q144.14 648.051 147.195 652.657 Q150.274 657.241 150.274 665.991 Q150.274 674.717 147.195 679.324 Q144.14 683.907 138.33 683.907 Q132.519 683.907 129.441 679.324 Q126.385 674.717 126.385 665.991 Q126.385 657.241 129.441 652.657 Q132.519 648.051 138.33 648.051 Z\" fill=\"#000000\" fill-rule=\"evenodd\" fill-opacity=\"1\" /><path clip-path=\"url(#clip030)\" d=\"M162.519 679.301 L178.839 679.301 L178.839 683.236 L156.894 683.236 L156.894 679.301 Q159.556 676.546 164.14 671.916 Q168.746 667.264 169.927 665.921 Q172.172 663.398 173.052 661.662 Q173.954 659.903 173.954 658.213 Q173.954 655.458 172.01 653.722 Q170.089 651.986 166.987 651.986 Q164.788 651.986 162.334 652.75 Q159.904 653.514 157.126 655.065 L157.126 650.342 Q159.95 649.208 162.404 648.629 Q164.857 648.051 166.894 648.051 Q172.265 648.051 175.459 650.736 Q178.653 653.421 178.653 657.912 Q178.653 660.041 177.843 661.963 Q177.056 663.861 174.95 666.453 Q174.371 667.125 171.269 670.342 Q168.167 673.537 162.519 679.301 Z\" fill=\"#000000\" fill-rule=\"evenodd\" fill-opacity=\"1\" /><path clip-path=\"url(#clip030)\" d=\"M198.653 651.754 Q195.042 651.754 193.214 655.319 Q191.408 658.861 191.408 665.991 Q191.408 673.097 193.214 676.662 Q195.042 680.203 198.653 680.203 Q202.288 680.203 204.093 676.662 Q205.922 673.097 205.922 665.991 Q205.922 658.861 204.093 655.319 Q202.288 651.754 198.653 651.754 M198.653 648.051 Q204.464 648.051 207.519 652.657 Q210.598 657.241 210.598 665.991 Q210.598 674.717 207.519 679.324 Q204.464 683.907 198.653 683.907 Q192.843 683.907 189.765 679.324 Q186.709 674.717 186.709 665.991 Q186.709 657.241 189.765 652.657 Q192.843 648.051 198.653 648.051 Z\" fill=\"#000000\" fill-rule=\"evenodd\" fill-opacity=\"1\" /><path clip-path=\"url(#clip030)\" d=\"M63.9319 418.648 Q60.3208 418.648 58.4921 422.212 Q56.6865 425.754 56.6865 432.884 Q56.6865 439.99 58.4921 443.555 Q60.3208 447.096 63.9319 447.096 Q67.5661 447.096 69.3717 443.555 Q71.2004 439.99 71.2004 432.884 Q71.2004 425.754 69.3717 422.212 Q67.5661 418.648 63.9319 418.648 M63.9319 414.944 Q69.742 414.944 72.7976 419.55 Q75.8763 424.134 75.8763 432.884 Q75.8763 441.61 72.7976 446.217 Q69.742 450.8 63.9319 450.8 Q58.1217 450.8 55.043 446.217 Q51.9875 441.61 51.9875 432.884 Q51.9875 424.134 55.043 419.55 Q58.1217 414.944 63.9319 414.944 Z\" fill=\"#000000\" fill-rule=\"evenodd\" fill-opacity=\"1\" /><path clip-path=\"url(#clip030)\" d=\"M84.0938 444.249 L88.978 444.249 L88.978 450.129 L84.0938 450.129 L84.0938 444.249 Z\" fill=\"#000000\" fill-rule=\"evenodd\" fill-opacity=\"1\" /><path clip-path=\"url(#clip030)\" d=\"M109.163 418.648 Q105.552 418.648 103.723 422.212 Q101.918 425.754 101.918 432.884 Q101.918 439.99 103.723 443.555 Q105.552 447.096 109.163 447.096 Q112.797 447.096 114.603 443.555 Q116.432 439.99 116.432 432.884 Q116.432 425.754 114.603 422.212 Q112.797 418.648 109.163 418.648 M109.163 414.944 Q114.973 414.944 118.029 419.55 Q121.107 424.134 121.107 432.884 Q121.107 441.61 118.029 446.217 Q114.973 450.8 109.163 450.8 Q103.353 450.8 100.274 446.217 Q97.2187 441.61 97.2187 432.884 Q97.2187 424.134 100.274 419.55 Q103.353 414.944 109.163 414.944 Z\" fill=\"#000000\" fill-rule=\"evenodd\" fill-opacity=\"1\" /><path clip-path=\"url(#clip030)\" d=\"M139.325 418.648 Q135.714 418.648 133.885 422.212 Q132.08 425.754 132.08 432.884 Q132.08 439.99 133.885 443.555 Q135.714 447.096 139.325 447.096 Q142.959 447.096 144.765 443.555 Q146.593 439.99 146.593 432.884 Q146.593 425.754 144.765 422.212 Q142.959 418.648 139.325 418.648 M139.325 414.944 Q145.135 414.944 148.191 419.55 Q151.269 424.134 151.269 432.884 Q151.269 441.61 148.191 446.217 Q145.135 450.8 139.325 450.8 Q133.515 450.8 130.436 446.217 Q127.381 441.61 127.381 432.884 Q127.381 424.134 130.436 419.55 Q133.515 414.944 139.325 414.944 Z\" fill=\"#000000\" fill-rule=\"evenodd\" fill-opacity=\"1\" /><path clip-path=\"url(#clip030)\" d=\"M163.515 446.194 L179.834 446.194 L179.834 450.129 L157.89 450.129 L157.89 446.194 Q160.552 443.439 165.135 438.809 Q169.741 434.157 170.922 432.814 Q173.167 430.291 174.047 428.555 Q174.95 426.796 174.95 425.106 Q174.95 422.351 173.005 420.615 Q171.084 418.879 167.982 418.879 Q165.783 418.879 163.329 419.643 Q160.899 420.407 158.121 421.958 L158.121 417.236 Q160.945 416.101 163.399 415.523 Q165.853 414.944 167.89 414.944 Q173.26 414.944 176.454 417.629 Q179.649 420.314 179.649 424.805 Q179.649 426.935 178.839 428.856 Q178.052 430.754 175.945 433.347 Q175.366 434.018 172.265 437.235 Q169.163 440.43 163.515 446.194 Z\" fill=\"#000000\" fill-rule=\"evenodd\" fill-opacity=\"1\" /><path clip-path=\"url(#clip030)\" d=\"M189.695 415.569 L208.051 415.569 L208.051 419.504 L193.977 419.504 L193.977 427.976 Q194.996 427.629 196.014 427.467 Q197.033 427.282 198.052 427.282 Q203.839 427.282 207.218 430.453 Q210.598 433.624 210.598 439.041 Q210.598 444.62 207.126 447.721 Q203.653 450.8 197.334 450.8 Q195.158 450.8 192.89 450.43 Q190.644 450.059 188.237 449.319 L188.237 444.62 Q190.32 445.754 192.542 446.309 Q194.765 446.865 197.241 446.865 Q201.246 446.865 203.584 444.759 Q205.922 442.652 205.922 439.041 Q205.922 435.43 203.584 433.323 Q201.246 431.217 197.241 431.217 Q195.366 431.217 193.491 431.634 Q191.64 432.05 189.695 432.93 L189.695 415.569 Z\" fill=\"#000000\" fill-rule=\"evenodd\" fill-opacity=\"1\" /><path clip-path=\"url(#clip030)\" d=\"M62.9365 185.541 Q59.3254 185.541 57.4967 189.105 Q55.6912 192.647 55.6912 199.777 Q55.6912 206.883 57.4967 210.448 Q59.3254 213.99 62.9365 213.99 Q66.5707 213.99 68.3763 210.448 Q70.205 206.883 70.205 199.777 Q70.205 192.647 68.3763 189.105 Q66.5707 185.541 62.9365 185.541 M62.9365 181.837 Q68.7467 181.837 71.8022 186.443 Q74.8809 191.027 74.8809 199.777 Q74.8809 208.503 71.8022 213.11 Q68.7467 217.693 62.9365 217.693 Q57.1264 217.693 54.0477 213.11 Q50.9921 208.503 50.9921 199.777 Q50.9921 191.027 54.0477 186.443 Q57.1264 181.837 62.9365 181.837 Z\" fill=\"#000000\" fill-rule=\"evenodd\" fill-opacity=\"1\" /><path clip-path=\"url(#clip030)\" d=\"M83.0984 211.142 L87.9827 211.142 L87.9827 217.022 L83.0984 217.022 L83.0984 211.142 Z\" fill=\"#000000\" fill-rule=\"evenodd\" fill-opacity=\"1\" /><path clip-path=\"url(#clip030)\" d=\"M108.168 185.541 Q104.557 185.541 102.728 189.105 Q100.922 192.647 100.922 199.777 Q100.922 206.883 102.728 210.448 Q104.557 213.99 108.168 213.99 Q111.802 213.99 113.608 210.448 Q115.436 206.883 115.436 199.777 Q115.436 192.647 113.608 189.105 Q111.802 185.541 108.168 185.541 M108.168 181.837 Q113.978 181.837 117.033 186.443 Q120.112 191.027 120.112 199.777 Q120.112 208.503 117.033 213.11 Q113.978 217.693 108.168 217.693 Q102.358 217.693 99.2789 213.11 Q96.2234 208.503 96.2234 199.777 Q96.2234 191.027 99.2789 186.443 Q102.358 181.837 108.168 181.837 Z\" fill=\"#000000\" fill-rule=\"evenodd\" fill-opacity=\"1\" /><path clip-path=\"url(#clip030)\" d=\"M138.33 185.541 Q134.719 185.541 132.89 189.105 Q131.084 192.647 131.084 199.777 Q131.084 206.883 132.89 210.448 Q134.719 213.99 138.33 213.99 Q141.964 213.99 143.769 210.448 Q145.598 206.883 145.598 199.777 Q145.598 192.647 143.769 189.105 Q141.964 185.541 138.33 185.541 M138.33 181.837 Q144.14 181.837 147.195 186.443 Q150.274 191.027 150.274 199.777 Q150.274 208.503 147.195 213.11 Q144.14 217.693 138.33 217.693 Q132.519 217.693 129.441 213.11 Q126.385 208.503 126.385 199.777 Q126.385 191.027 129.441 186.443 Q132.519 181.837 138.33 181.837 Z\" fill=\"#000000\" fill-rule=\"evenodd\" fill-opacity=\"1\" /><path clip-path=\"url(#clip030)\" d=\"M172.658 198.388 Q176.015 199.105 177.89 201.374 Q179.788 203.642 179.788 206.976 Q179.788 212.091 176.269 214.892 Q172.751 217.693 166.269 217.693 Q164.093 217.693 161.779 217.253 Q159.487 216.837 157.033 215.98 L157.033 211.466 Q158.978 212.601 161.292 213.179 Q163.607 213.758 166.13 213.758 Q170.529 213.758 172.82 212.022 Q175.135 210.286 175.135 206.976 Q175.135 203.92 172.982 202.207 Q170.853 200.471 167.033 200.471 L163.005 200.471 L163.005 196.629 L167.218 196.629 Q170.667 196.629 172.496 195.263 Q174.325 193.874 174.325 191.281 Q174.325 188.619 172.427 187.207 Q170.552 185.772 167.033 185.772 Q165.112 185.772 162.913 186.189 Q160.714 186.605 158.075 187.485 L158.075 183.318 Q160.737 182.578 163.052 182.207 Q165.39 181.837 167.45 181.837 Q172.774 181.837 175.876 184.268 Q178.978 186.675 178.978 190.795 Q178.978 193.666 177.334 195.656 Q175.691 197.624 172.658 198.388 Z\" fill=\"#000000\" fill-rule=\"evenodd\" fill-opacity=\"1\" /><path clip-path=\"url(#clip030)\" d=\"M198.653 185.541 Q195.042 185.541 193.214 189.105 Q191.408 192.647 191.408 199.777 Q191.408 206.883 193.214 210.448 Q195.042 213.99 198.653 213.99 Q202.288 213.99 204.093 210.448 Q205.922 206.883 205.922 199.777 Q205.922 192.647 204.093 189.105 Q202.288 185.541 198.653 185.541 M198.653 181.837 Q204.464 181.837 207.519 186.443 Q210.598 191.027 210.598 199.777 Q210.598 208.503 207.519 213.11 Q204.464 217.693 198.653 217.693 Q192.843 217.693 189.765 213.11 Q186.709 208.503 186.709 199.777 Q186.709 191.027 189.765 186.443 Q192.843 181.837 198.653 181.837 Z\" fill=\"#000000\" fill-rule=\"evenodd\" fill-opacity=\"1\" /><polyline clip-path=\"url(#clip032)\" style=\"stroke:#009af9; stroke-linecap:round; stroke-linejoin:round; stroke-width:4; stroke-opacity:1; fill:none\" points=\"306.206,1445.72 340.737,1439.15 376.588,1432.06 413.81,1424.23 452.456,1413.7 492.578,1406.87 534.235,1394.06 577.485,1378.94 622.388,1370.66 669.007,1361.45 717.41,1342.57 767.663,1323.55 819.837,1308.42 874.006,1295.22 930.246,1264.26 988.637,1219.11 1049.26,1165.71 1112.2,1118.76 1177.55,991.808 1245.39,867.214 1315.83,742.761 1388.97,558.871 1464.9,376.85 1543.73,196.961 1625.57,96.9316 1710.55,87.9763 1798.77,201.516 1890.37,313.09 1985.47,488.154 2084.21,539.966 2186.72,615.095 2293.15,655.789 \"/>\n<path clip-path=\"url(#clip030)\" d=\"M316.803 198.898 L579.849 198.898 L579.849 95.2176 L316.803 95.2176  Z\" fill=\"#ffffff\" fill-rule=\"evenodd\" fill-opacity=\"1\"/>\n<polyline clip-path=\"url(#clip030)\" style=\"stroke:#000000; stroke-linecap:round; stroke-linejoin:round; stroke-width:4; stroke-opacity:1; fill:none\" points=\"316.803,198.898 579.849,198.898 579.849,95.2176 316.803,95.2176 316.803,198.898 \"/>\n<polyline clip-path=\"url(#clip030)\" style=\"stroke:#009af9; stroke-linecap:round; stroke-linejoin:round; stroke-width:4; stroke-opacity:1; fill:none\" points=\"340.205,147.058 480.615,147.058 \"/>\n<path clip-path=\"url(#clip030)\" d=\"M517.86 166.745 Q516.054 171.375 514.341 172.787 Q512.628 174.199 509.758 174.199 L506.355 174.199 L506.355 170.634 L508.855 170.634 Q510.614 170.634 511.586 169.8 Q512.559 168.967 513.739 165.865 L514.503 163.921 L504.017 138.412 L508.531 138.412 L516.633 158.689 L524.735 138.412 L529.248 138.412 L517.86 166.745 Z\" fill=\"#000000\" fill-rule=\"evenodd\" fill-opacity=\"1\" /><path clip-path=\"url(#clip030)\" d=\"M536.54 160.402 L544.179 160.402 L544.179 134.037 L535.869 135.703 L535.869 131.444 L544.133 129.778 L548.809 129.778 L548.809 160.402 L556.447 160.402 L556.447 164.338 L536.54 164.338 L536.54 160.402 Z\" fill=\"#000000\" fill-rule=\"evenodd\" fill-opacity=\"1\" /></svg>\n",
      "text/html": [
       "<?xml version=\"1.0\" encoding=\"utf-8\"?>\n",
       "<svg xmlns=\"http://www.w3.org/2000/svg\" xmlns:xlink=\"http://www.w3.org/1999/xlink\" width=\"600\" height=\"400\" viewBox=\"0 0 2400 1600\">\n",
       "<defs>\n",
       "  <clipPath id=\"clip080\">\n",
       "    <rect x=\"0\" y=\"0\" width=\"2400\" height=\"1600\"/>\n",
       "  </clipPath>\n",
       "</defs>\n",
       "<path clip-path=\"url(#clip080)\" d=\"M0 1600 L2400 1600 L2400 0 L0 0  Z\" fill=\"#ffffff\" fill-rule=\"evenodd\" fill-opacity=\"1\"/>\n",
       "<defs>\n",
       "  <clipPath id=\"clip081\">\n",
       "    <rect x=\"480\" y=\"0\" width=\"1681\" height=\"1600\"/>\n",
       "  </clipPath>\n",
       "</defs>\n",
       "<path clip-path=\"url(#clip080)\" d=\"M246.598 1486.45 L2352.76 1486.45 L2352.76 47.2441 L246.598 47.2441  Z\" fill=\"#ffffff\" fill-rule=\"evenodd\" fill-opacity=\"1\"/>\n",
       "<defs>\n",
       "  <clipPath id=\"clip082\">\n",
       "    <rect x=\"246\" y=\"47\" width=\"2107\" height=\"1440\"/>\n",
       "  </clipPath>\n",
       "</defs>\n",
       "<polyline clip-path=\"url(#clip082)\" style=\"stroke:#000000; stroke-linecap:round; stroke-linejoin:round; stroke-width:2; stroke-opacity:0.1; fill:none\" points=\"306.206,1486.45 306.206,47.2441 \"/>\n",
       "<polyline clip-path=\"url(#clip082)\" style=\"stroke:#000000; stroke-linecap:round; stroke-linejoin:round; stroke-width:2; stroke-opacity:0.1; fill:none\" points=\"757.784,1486.45 757.784,47.2441 \"/>\n",
       "<polyline clip-path=\"url(#clip082)\" style=\"stroke:#000000; stroke-linecap:round; stroke-linejoin:round; stroke-width:2; stroke-opacity:0.1; fill:none\" points=\"1209.36,1486.45 1209.36,47.2441 \"/>\n",
       "<polyline clip-path=\"url(#clip082)\" style=\"stroke:#000000; stroke-linecap:round; stroke-linejoin:round; stroke-width:2; stroke-opacity:0.1; fill:none\" points=\"1660.94,1486.45 1660.94,47.2441 \"/>\n",
       "<polyline clip-path=\"url(#clip082)\" style=\"stroke:#000000; stroke-linecap:round; stroke-linejoin:round; stroke-width:2; stroke-opacity:0.1; fill:none\" points=\"2112.52,1486.45 2112.52,47.2441 \"/>\n",
       "<polyline clip-path=\"url(#clip080)\" style=\"stroke:#000000; stroke-linecap:round; stroke-linejoin:round; stroke-width:4; stroke-opacity:1; fill:none\" points=\"246.598,1486.45 2352.76,1486.45 \"/>\n",
       "<polyline clip-path=\"url(#clip080)\" style=\"stroke:#000000; stroke-linecap:round; stroke-linejoin:round; stroke-width:4; stroke-opacity:1; fill:none\" points=\"306.206,1486.45 306.206,1467.55 \"/>\n",
       "<polyline clip-path=\"url(#clip080)\" style=\"stroke:#000000; stroke-linecap:round; stroke-linejoin:round; stroke-width:4; stroke-opacity:1; fill:none\" points=\"757.784,1486.45 757.784,1467.55 \"/>\n",
       "<polyline clip-path=\"url(#clip080)\" style=\"stroke:#000000; stroke-linecap:round; stroke-linejoin:round; stroke-width:4; stroke-opacity:1; fill:none\" points=\"1209.36,1486.45 1209.36,1467.55 \"/>\n",
       "<polyline clip-path=\"url(#clip080)\" style=\"stroke:#000000; stroke-linecap:round; stroke-linejoin:round; stroke-width:4; stroke-opacity:1; fill:none\" points=\"1660.94,1486.45 1660.94,1467.55 \"/>\n",
       "<polyline clip-path=\"url(#clip080)\" style=\"stroke:#000000; stroke-linecap:round; stroke-linejoin:round; stroke-width:4; stroke-opacity:1; fill:none\" points=\"2112.52,1486.45 2112.52,1467.55 \"/>\n",
       "<path clip-path=\"url(#clip080)\" d=\"M273.371 1514.29 L291.727 1514.29 L291.727 1518.22 L277.653 1518.22 L277.653 1526.7 Q278.671 1526.35 279.69 1526.19 Q280.708 1526 281.727 1526 Q287.514 1526 290.894 1529.17 Q294.273 1532.34 294.273 1537.76 Q294.273 1543.34 290.801 1546.44 Q287.329 1549.52 281.009 1549.52 Q278.833 1549.52 276.565 1549.15 Q274.32 1548.78 271.912 1548.04 L271.912 1543.34 Q273.996 1544.47 276.218 1545.03 Q278.44 1545.58 280.917 1545.58 Q284.921 1545.58 287.259 1543.48 Q289.597 1541.37 289.597 1537.76 Q289.597 1534.15 287.259 1532.04 Q284.921 1529.94 280.917 1529.94 Q279.042 1529.94 277.167 1530.35 Q275.315 1530.77 273.371 1531.65 L273.371 1514.29 Z\" fill=\"#000000\" fill-rule=\"evenodd\" fill-opacity=\"1\" /><path clip-path=\"url(#clip080)\" d=\"M303.486 1542.97 L308.37 1542.97 L308.37 1548.85 L303.486 1548.85 L303.486 1542.97 Z\" fill=\"#000000\" fill-rule=\"evenodd\" fill-opacity=\"1\" /><path clip-path=\"url(#clip080)\" d=\"M328.555 1517.37 Q324.944 1517.37 323.116 1520.93 Q321.31 1524.47 321.31 1531.6 Q321.31 1538.71 323.116 1542.27 Q324.944 1545.82 328.555 1545.82 Q332.19 1545.82 333.995 1542.27 Q335.824 1538.71 335.824 1531.6 Q335.824 1524.47 333.995 1520.93 Q332.19 1517.37 328.555 1517.37 M328.555 1513.66 Q334.366 1513.66 337.421 1518.27 Q340.5 1522.85 340.5 1531.6 Q340.5 1540.33 337.421 1544.94 Q334.366 1549.52 328.555 1549.52 Q322.745 1549.52 319.667 1544.94 Q316.611 1540.33 316.611 1531.6 Q316.611 1522.85 319.667 1518.27 Q322.745 1513.66 328.555 1513.66 Z\" fill=\"#000000\" fill-rule=\"evenodd\" fill-opacity=\"1\" /><path clip-path=\"url(#clip080)\" d=\"M724.103 1514.29 L746.325 1514.29 L746.325 1516.28 L733.779 1548.85 L728.895 1548.85 L740.7 1518.22 L724.103 1518.22 L724.103 1514.29 Z\" fill=\"#000000\" fill-rule=\"evenodd\" fill-opacity=\"1\" /><path clip-path=\"url(#clip080)\" d=\"M755.446 1542.97 L760.33 1542.97 L760.33 1548.85 L755.446 1548.85 L755.446 1542.97 Z\" fill=\"#000000\" fill-rule=\"evenodd\" fill-opacity=\"1\" /><path clip-path=\"url(#clip080)\" d=\"M770.561 1514.29 L788.918 1514.29 L788.918 1518.22 L774.844 1518.22 L774.844 1526.7 Q775.862 1526.35 776.881 1526.19 Q777.899 1526 778.918 1526 Q784.705 1526 788.084 1529.17 Q791.464 1532.34 791.464 1537.76 Q791.464 1543.34 787.992 1546.44 Q784.52 1549.52 778.2 1549.52 Q776.024 1549.52 773.756 1549.15 Q771.51 1548.78 769.103 1548.04 L769.103 1543.34 Q771.186 1544.47 773.409 1545.03 Q775.631 1545.58 778.108 1545.58 Q782.112 1545.58 784.45 1543.48 Q786.788 1541.37 786.788 1537.76 Q786.788 1534.15 784.45 1532.04 Q782.112 1529.94 778.108 1529.94 Q776.233 1529.94 774.358 1530.35 Q772.506 1530.77 770.561 1531.65 L770.561 1514.29 Z\" fill=\"#000000\" fill-rule=\"evenodd\" fill-opacity=\"1\" /><path clip-path=\"url(#clip080)\" d=\"M1161.43 1544.91 L1169.07 1544.91 L1169.07 1518.55 L1160.76 1520.21 L1160.76 1515.95 L1169.03 1514.29 L1173.7 1514.29 L1173.7 1544.91 L1181.34 1544.91 L1181.34 1548.85 L1161.43 1548.85 L1161.43 1544.91 Z\" fill=\"#000000\" fill-rule=\"evenodd\" fill-opacity=\"1\" /><path clip-path=\"url(#clip080)\" d=\"M1200.78 1517.37 Q1197.17 1517.37 1195.35 1520.93 Q1193.54 1524.47 1193.54 1531.6 Q1193.54 1538.71 1195.35 1542.27 Q1197.17 1545.82 1200.78 1545.82 Q1204.42 1545.82 1206.22 1542.27 Q1208.05 1538.71 1208.05 1531.6 Q1208.05 1524.47 1206.22 1520.93 Q1204.42 1517.37 1200.78 1517.37 M1200.78 1513.66 Q1206.6 1513.66 1209.65 1518.27 Q1212.73 1522.85 1212.73 1531.6 Q1212.73 1540.33 1209.65 1544.94 Q1206.6 1549.52 1200.78 1549.52 Q1194.97 1549.52 1191.9 1544.94 Q1188.84 1540.33 1188.84 1531.6 Q1188.84 1522.85 1191.9 1518.27 Q1194.97 1513.66 1200.78 1513.66 Z\" fill=\"#000000\" fill-rule=\"evenodd\" fill-opacity=\"1\" /><path clip-path=\"url(#clip080)\" d=\"M1220.95 1542.97 L1225.83 1542.97 L1225.83 1548.85 L1220.95 1548.85 L1220.95 1542.97 Z\" fill=\"#000000\" fill-rule=\"evenodd\" fill-opacity=\"1\" /><path clip-path=\"url(#clip080)\" d=\"M1246.02 1517.37 Q1242.41 1517.37 1240.58 1520.93 Q1238.77 1524.47 1238.77 1531.6 Q1238.77 1538.71 1240.58 1542.27 Q1242.41 1545.82 1246.02 1545.82 Q1249.65 1545.82 1251.46 1542.27 Q1253.28 1538.71 1253.28 1531.6 Q1253.28 1524.47 1251.46 1520.93 Q1249.65 1517.37 1246.02 1517.37 M1246.02 1513.66 Q1251.83 1513.66 1254.88 1518.27 Q1257.96 1522.85 1257.96 1531.6 Q1257.96 1540.33 1254.88 1544.94 Q1251.83 1549.52 1246.02 1549.52 Q1240.21 1549.52 1237.13 1544.94 Q1234.07 1540.33 1234.07 1531.6 Q1234.07 1522.85 1237.13 1518.27 Q1240.21 1513.66 1246.02 1513.66 Z\" fill=\"#000000\" fill-rule=\"evenodd\" fill-opacity=\"1\" /><path clip-path=\"url(#clip080)\" d=\"M1613.51 1544.91 L1621.15 1544.91 L1621.15 1518.55 L1612.84 1520.21 L1612.84 1515.95 L1621.1 1514.29 L1625.78 1514.29 L1625.78 1544.91 L1633.42 1544.91 L1633.42 1548.85 L1613.51 1548.85 L1613.51 1544.91 Z\" fill=\"#000000\" fill-rule=\"evenodd\" fill-opacity=\"1\" /><path clip-path=\"url(#clip080)\" d=\"M1646.89 1544.91 L1663.21 1544.91 L1663.21 1548.85 L1641.26 1548.85 L1641.26 1544.91 Q1643.93 1542.16 1648.51 1537.53 Q1653.11 1532.88 1654.3 1531.53 Q1656.54 1529.01 1657.42 1527.27 Q1658.32 1525.51 1658.32 1523.82 Q1658.32 1521.07 1656.38 1519.33 Q1654.46 1517.6 1651.36 1517.6 Q1649.16 1517.6 1646.7 1518.36 Q1644.27 1519.13 1641.49 1520.68 L1641.49 1515.95 Q1644.32 1514.82 1646.77 1514.24 Q1649.23 1513.66 1651.26 1513.66 Q1656.63 1513.66 1659.83 1516.35 Q1663.02 1519.03 1663.02 1523.52 Q1663.02 1525.65 1662.21 1527.57 Q1661.43 1529.47 1659.32 1532.07 Q1658.74 1532.74 1655.64 1535.95 Q1652.54 1539.15 1646.89 1544.91 Z\" fill=\"#000000\" fill-rule=\"evenodd\" fill-opacity=\"1\" /><path clip-path=\"url(#clip080)\" d=\"M1673.02 1542.97 L1677.91 1542.97 L1677.91 1548.85 L1673.02 1548.85 L1673.02 1542.97 Z\" fill=\"#000000\" fill-rule=\"evenodd\" fill-opacity=\"1\" /><path clip-path=\"url(#clip080)\" d=\"M1688.14 1514.29 L1706.49 1514.29 L1706.49 1518.22 L1692.42 1518.22 L1692.42 1526.7 Q1693.44 1526.35 1694.46 1526.19 Q1695.48 1526 1696.49 1526 Q1702.28 1526 1705.66 1529.17 Q1709.04 1532.34 1709.04 1537.76 Q1709.04 1543.34 1705.57 1546.44 Q1702.1 1549.52 1695.78 1549.52 Q1693.6 1549.52 1691.33 1549.15 Q1689.09 1548.78 1686.68 1548.04 L1686.68 1543.34 Q1688.76 1544.47 1690.99 1545.03 Q1693.21 1545.58 1695.68 1545.58 Q1699.69 1545.58 1702.03 1543.48 Q1704.36 1541.37 1704.36 1537.76 Q1704.36 1534.15 1702.03 1532.04 Q1699.69 1529.94 1695.68 1529.94 Q1693.81 1529.94 1691.93 1530.35 Q1690.08 1530.77 1688.14 1531.65 L1688.14 1514.29 Z\" fill=\"#000000\" fill-rule=\"evenodd\" fill-opacity=\"1\" /><path clip-path=\"url(#clip080)\" d=\"M2064.59 1544.91 L2072.23 1544.91 L2072.23 1518.55 L2063.92 1520.21 L2063.92 1515.95 L2072.18 1514.29 L2076.86 1514.29 L2076.86 1544.91 L2084.5 1544.91 L2084.5 1548.85 L2064.59 1548.85 L2064.59 1544.91 Z\" fill=\"#000000\" fill-rule=\"evenodd\" fill-opacity=\"1\" /><path clip-path=\"url(#clip080)\" d=\"M2093.99 1514.29 L2112.34 1514.29 L2112.34 1518.22 L2098.27 1518.22 L2098.27 1526.7 Q2099.29 1526.35 2100.31 1526.19 Q2101.32 1526 2102.34 1526 Q2108.13 1526 2111.51 1529.17 Q2114.89 1532.34 2114.89 1537.76 Q2114.89 1543.34 2111.42 1546.44 Q2107.94 1549.52 2101.63 1549.52 Q2099.45 1549.52 2097.18 1549.15 Q2094.94 1548.78 2092.53 1548.04 L2092.53 1543.34 Q2094.61 1544.47 2096.83 1545.03 Q2099.06 1545.58 2101.53 1545.58 Q2105.54 1545.58 2107.88 1543.48 Q2110.21 1541.37 2110.21 1537.76 Q2110.21 1534.15 2107.88 1532.04 Q2105.54 1529.94 2101.53 1529.94 Q2099.66 1529.94 2097.78 1530.35 Q2095.93 1530.77 2093.99 1531.65 L2093.99 1514.29 Z\" fill=\"#000000\" fill-rule=\"evenodd\" fill-opacity=\"1\" /><path clip-path=\"url(#clip080)\" d=\"M2124.1 1542.97 L2128.99 1542.97 L2128.99 1548.85 L2124.1 1548.85 L2124.1 1542.97 Z\" fill=\"#000000\" fill-rule=\"evenodd\" fill-opacity=\"1\" /><path clip-path=\"url(#clip080)\" d=\"M2149.17 1517.37 Q2145.56 1517.37 2143.73 1520.93 Q2141.93 1524.47 2141.93 1531.6 Q2141.93 1538.71 2143.73 1542.27 Q2145.56 1545.82 2149.17 1545.82 Q2152.81 1545.82 2154.61 1542.27 Q2156.44 1538.71 2156.44 1531.6 Q2156.44 1524.47 2154.61 1520.93 Q2152.81 1517.37 2149.17 1517.37 M2149.17 1513.66 Q2154.98 1513.66 2158.04 1518.27 Q2161.12 1522.85 2161.12 1531.6 Q2161.12 1540.33 2158.04 1544.94 Q2154.98 1549.52 2149.17 1549.52 Q2143.36 1549.52 2140.28 1544.94 Q2137.23 1540.33 2137.23 1531.6 Q2137.23 1522.85 2140.28 1518.27 Q2143.36 1513.66 2149.17 1513.66 Z\" fill=\"#000000\" fill-rule=\"evenodd\" fill-opacity=\"1\" /><polyline clip-path=\"url(#clip082)\" style=\"stroke:#000000; stroke-linecap:round; stroke-linejoin:round; stroke-width:2; stroke-opacity:0.1; fill:none\" points=\"246.598,1365.28 2352.76,1365.28 \"/>\n",
       "<polyline clip-path=\"url(#clip082)\" style=\"stroke:#000000; stroke-linecap:round; stroke-linejoin:round; stroke-width:2; stroke-opacity:0.1; fill:none\" points=\"246.598,1132.17 2352.76,1132.17 \"/>\n",
       "<polyline clip-path=\"url(#clip082)\" style=\"stroke:#000000; stroke-linecap:round; stroke-linejoin:round; stroke-width:2; stroke-opacity:0.1; fill:none\" points=\"246.598,899.063 2352.76,899.063 \"/>\n",
       "<polyline clip-path=\"url(#clip082)\" style=\"stroke:#000000; stroke-linecap:round; stroke-linejoin:round; stroke-width:2; stroke-opacity:0.1; fill:none\" points=\"246.598,665.956 2352.76,665.956 \"/>\n",
       "<polyline clip-path=\"url(#clip082)\" style=\"stroke:#000000; stroke-linecap:round; stroke-linejoin:round; stroke-width:2; stroke-opacity:0.1; fill:none\" points=\"246.598,432.849 2352.76,432.849 \"/>\n",
       "<polyline clip-path=\"url(#clip082)\" style=\"stroke:#000000; stroke-linecap:round; stroke-linejoin:round; stroke-width:2; stroke-opacity:0.1; fill:none\" points=\"246.598,199.742 2352.76,199.742 \"/>\n",
       "<polyline clip-path=\"url(#clip080)\" style=\"stroke:#000000; stroke-linecap:round; stroke-linejoin:round; stroke-width:4; stroke-opacity:1; fill:none\" points=\"246.598,1486.45 246.598,47.2441 \"/>\n",
       "<polyline clip-path=\"url(#clip080)\" style=\"stroke:#000000; stroke-linecap:round; stroke-linejoin:round; stroke-width:4; stroke-opacity:1; fill:none\" points=\"246.598,1365.28 265.495,1365.28 \"/>\n",
       "<polyline clip-path=\"url(#clip080)\" style=\"stroke:#000000; stroke-linecap:round; stroke-linejoin:round; stroke-width:4; stroke-opacity:1; fill:none\" points=\"246.598,1132.17 265.495,1132.17 \"/>\n",
       "<polyline clip-path=\"url(#clip080)\" style=\"stroke:#000000; stroke-linecap:round; stroke-linejoin:round; stroke-width:4; stroke-opacity:1; fill:none\" points=\"246.598,899.063 265.495,899.063 \"/>\n",
       "<polyline clip-path=\"url(#clip080)\" style=\"stroke:#000000; stroke-linecap:round; stroke-linejoin:round; stroke-width:4; stroke-opacity:1; fill:none\" points=\"246.598,665.956 265.495,665.956 \"/>\n",
       "<polyline clip-path=\"url(#clip080)\" style=\"stroke:#000000; stroke-linecap:round; stroke-linejoin:round; stroke-width:4; stroke-opacity:1; fill:none\" points=\"246.598,432.849 265.495,432.849 \"/>\n",
       "<polyline clip-path=\"url(#clip080)\" style=\"stroke:#000000; stroke-linecap:round; stroke-linejoin:round; stroke-width:4; stroke-opacity:1; fill:none\" points=\"246.598,199.742 265.495,199.742 \"/>\n",
       "<path clip-path=\"url(#clip080)\" d=\"M63.9319 1351.08 Q60.3208 1351.08 58.4921 1354.64 Q56.6865 1358.18 56.6865 1365.31 Q56.6865 1372.42 58.4921 1375.98 Q60.3208 1379.52 63.9319 1379.52 Q67.5661 1379.52 69.3717 1375.98 Q71.2004 1372.42 71.2004 1365.31 Q71.2004 1358.18 69.3717 1354.64 Q67.5661 1351.08 63.9319 1351.08 M63.9319 1347.37 Q69.742 1347.37 72.7976 1351.98 Q75.8763 1356.56 75.8763 1365.31 Q75.8763 1374.04 72.7976 1378.64 Q69.742 1383.23 63.9319 1383.23 Q58.1217 1383.23 55.043 1378.64 Q51.9875 1374.04 51.9875 1365.31 Q51.9875 1356.56 55.043 1351.98 Q58.1217 1347.37 63.9319 1347.37 Z\" fill=\"#000000\" fill-rule=\"evenodd\" fill-opacity=\"1\" /><path clip-path=\"url(#clip080)\" d=\"M84.0938 1376.68 L88.978 1376.68 L88.978 1382.56 L84.0938 1382.56 L84.0938 1376.68 Z\" fill=\"#000000\" fill-rule=\"evenodd\" fill-opacity=\"1\" /><path clip-path=\"url(#clip080)\" d=\"M109.163 1351.08 Q105.552 1351.08 103.723 1354.64 Q101.918 1358.18 101.918 1365.31 Q101.918 1372.42 103.723 1375.98 Q105.552 1379.52 109.163 1379.52 Q112.797 1379.52 114.603 1375.98 Q116.432 1372.42 116.432 1365.31 Q116.432 1358.18 114.603 1354.64 Q112.797 1351.08 109.163 1351.08 M109.163 1347.37 Q114.973 1347.37 118.029 1351.98 Q121.107 1356.56 121.107 1365.31 Q121.107 1374.04 118.029 1378.64 Q114.973 1383.23 109.163 1383.23 Q103.353 1383.23 100.274 1378.64 Q97.2187 1374.04 97.2187 1365.31 Q97.2187 1356.56 100.274 1351.98 Q103.353 1347.37 109.163 1347.37 Z\" fill=\"#000000\" fill-rule=\"evenodd\" fill-opacity=\"1\" /><path clip-path=\"url(#clip080)\" d=\"M139.325 1351.08 Q135.714 1351.08 133.885 1354.64 Q132.08 1358.18 132.08 1365.31 Q132.08 1372.42 133.885 1375.98 Q135.714 1379.52 139.325 1379.52 Q142.959 1379.52 144.765 1375.98 Q146.593 1372.42 146.593 1365.31 Q146.593 1358.18 144.765 1354.64 Q142.959 1351.08 139.325 1351.08 M139.325 1347.37 Q145.135 1347.37 148.191 1351.98 Q151.269 1356.56 151.269 1365.31 Q151.269 1374.04 148.191 1378.64 Q145.135 1383.23 139.325 1383.23 Q133.515 1383.23 130.436 1378.64 Q127.381 1374.04 127.381 1365.31 Q127.381 1356.56 130.436 1351.98 Q133.515 1347.37 139.325 1347.37 Z\" fill=\"#000000\" fill-rule=\"evenodd\" fill-opacity=\"1\" /><path clip-path=\"url(#clip080)\" d=\"M169.487 1351.08 Q165.876 1351.08 164.047 1354.64 Q162.242 1358.18 162.242 1365.31 Q162.242 1372.42 164.047 1375.98 Q165.876 1379.52 169.487 1379.52 Q173.121 1379.52 174.927 1375.98 Q176.755 1372.42 176.755 1365.31 Q176.755 1358.18 174.927 1354.64 Q173.121 1351.08 169.487 1351.08 M169.487 1347.37 Q175.297 1347.37 178.353 1351.98 Q181.431 1356.56 181.431 1365.31 Q181.431 1374.04 178.353 1378.64 Q175.297 1383.23 169.487 1383.23 Q163.677 1383.23 160.598 1378.64 Q157.542 1374.04 157.542 1365.31 Q157.542 1356.56 160.598 1351.98 Q163.677 1347.37 169.487 1347.37 Z\" fill=\"#000000\" fill-rule=\"evenodd\" fill-opacity=\"1\" /><path clip-path=\"url(#clip080)\" d=\"M189.695 1348 L208.051 1348 L208.051 1351.93 L193.977 1351.93 L193.977 1360.4 Q194.996 1360.06 196.014 1359.89 Q197.033 1359.71 198.052 1359.71 Q203.839 1359.71 207.218 1362.88 Q210.598 1366.05 210.598 1371.47 Q210.598 1377.05 207.126 1380.15 Q203.653 1383.23 197.334 1383.23 Q195.158 1383.23 192.89 1382.86 Q190.644 1382.49 188.237 1381.75 L188.237 1377.05 Q190.32 1378.18 192.542 1378.74 Q194.765 1379.29 197.241 1379.29 Q201.246 1379.29 203.584 1377.19 Q205.922 1375.08 205.922 1371.47 Q205.922 1367.86 203.584 1365.75 Q201.246 1363.64 197.241 1363.64 Q195.366 1363.64 193.491 1364.06 Q191.64 1364.48 189.695 1365.36 L189.695 1348 Z\" fill=\"#000000\" fill-rule=\"evenodd\" fill-opacity=\"1\" /><path clip-path=\"url(#clip080)\" d=\"M62.9365 1117.97 Q59.3254 1117.97 57.4967 1121.53 Q55.6912 1125.07 55.6912 1132.2 Q55.6912 1139.31 57.4967 1142.88 Q59.3254 1146.42 62.9365 1146.42 Q66.5707 1146.42 68.3763 1142.88 Q70.205 1139.31 70.205 1132.2 Q70.205 1125.07 68.3763 1121.53 Q66.5707 1117.97 62.9365 1117.97 M62.9365 1114.26 Q68.7467 1114.26 71.8022 1118.87 Q74.8809 1123.45 74.8809 1132.2 Q74.8809 1140.93 71.8022 1145.54 Q68.7467 1150.12 62.9365 1150.12 Q57.1264 1150.12 54.0477 1145.54 Q50.9921 1140.93 50.9921 1132.2 Q50.9921 1123.45 54.0477 1118.87 Q57.1264 1114.26 62.9365 1114.26 Z\" fill=\"#000000\" fill-rule=\"evenodd\" fill-opacity=\"1\" /><path clip-path=\"url(#clip080)\" d=\"M83.0984 1143.57 L87.9827 1143.57 L87.9827 1149.45 L83.0984 1149.45 L83.0984 1143.57 Z\" fill=\"#000000\" fill-rule=\"evenodd\" fill-opacity=\"1\" /><path clip-path=\"url(#clip080)\" d=\"M108.168 1117.97 Q104.557 1117.97 102.728 1121.53 Q100.922 1125.07 100.922 1132.2 Q100.922 1139.31 102.728 1142.88 Q104.557 1146.42 108.168 1146.42 Q111.802 1146.42 113.608 1142.88 Q115.436 1139.31 115.436 1132.2 Q115.436 1125.07 113.608 1121.53 Q111.802 1117.97 108.168 1117.97 M108.168 1114.26 Q113.978 1114.26 117.033 1118.87 Q120.112 1123.45 120.112 1132.2 Q120.112 1140.93 117.033 1145.54 Q113.978 1150.12 108.168 1150.12 Q102.358 1150.12 99.2789 1145.54 Q96.2234 1140.93 96.2234 1132.2 Q96.2234 1123.45 99.2789 1118.87 Q102.358 1114.26 108.168 1114.26 Z\" fill=\"#000000\" fill-rule=\"evenodd\" fill-opacity=\"1\" /><path clip-path=\"url(#clip080)\" d=\"M138.33 1117.97 Q134.719 1117.97 132.89 1121.53 Q131.084 1125.07 131.084 1132.2 Q131.084 1139.31 132.89 1142.88 Q134.719 1146.42 138.33 1146.42 Q141.964 1146.42 143.769 1142.88 Q145.598 1139.31 145.598 1132.2 Q145.598 1125.07 143.769 1121.53 Q141.964 1117.97 138.33 1117.97 M138.33 1114.26 Q144.14 1114.26 147.195 1118.87 Q150.274 1123.45 150.274 1132.2 Q150.274 1140.93 147.195 1145.54 Q144.14 1150.12 138.33 1150.12 Q132.519 1150.12 129.441 1145.54 Q126.385 1140.93 126.385 1132.2 Q126.385 1123.45 129.441 1118.87 Q132.519 1114.26 138.33 1114.26 Z\" fill=\"#000000\" fill-rule=\"evenodd\" fill-opacity=\"1\" /><path clip-path=\"url(#clip080)\" d=\"M159.302 1145.51 L166.941 1145.51 L166.941 1119.15 L158.63 1120.82 L158.63 1116.56 L166.894 1114.89 L171.57 1114.89 L171.57 1145.51 L179.209 1145.51 L179.209 1149.45 L159.302 1149.45 L159.302 1145.51 Z\" fill=\"#000000\" fill-rule=\"evenodd\" fill-opacity=\"1\" /><path clip-path=\"url(#clip080)\" d=\"M198.653 1117.97 Q195.042 1117.97 193.214 1121.53 Q191.408 1125.07 191.408 1132.2 Q191.408 1139.31 193.214 1142.88 Q195.042 1146.42 198.653 1146.42 Q202.288 1146.42 204.093 1142.88 Q205.922 1139.31 205.922 1132.2 Q205.922 1125.07 204.093 1121.53 Q202.288 1117.97 198.653 1117.97 M198.653 1114.26 Q204.464 1114.26 207.519 1118.87 Q210.598 1123.45 210.598 1132.2 Q210.598 1140.93 207.519 1145.54 Q204.464 1150.12 198.653 1150.12 Q192.843 1150.12 189.765 1145.54 Q186.709 1140.93 186.709 1132.2 Q186.709 1123.45 189.765 1118.87 Q192.843 1114.26 198.653 1114.26 Z\" fill=\"#000000\" fill-rule=\"evenodd\" fill-opacity=\"1\" /><path clip-path=\"url(#clip080)\" d=\"M63.9319 884.861 Q60.3208 884.861 58.4921 888.426 Q56.6865 891.968 56.6865 899.097 Q56.6865 906.204 58.4921 909.769 Q60.3208 913.31 63.9319 913.31 Q67.5661 913.31 69.3717 909.769 Q71.2004 906.204 71.2004 899.097 Q71.2004 891.968 69.3717 888.426 Q67.5661 884.861 63.9319 884.861 M63.9319 881.158 Q69.742 881.158 72.7976 885.764 Q75.8763 890.347 75.8763 899.097 Q75.8763 907.824 72.7976 912.431 Q69.742 917.014 63.9319 917.014 Q58.1217 917.014 55.043 912.431 Q51.9875 907.824 51.9875 899.097 Q51.9875 890.347 55.043 885.764 Q58.1217 881.158 63.9319 881.158 Z\" fill=\"#000000\" fill-rule=\"evenodd\" fill-opacity=\"1\" /><path clip-path=\"url(#clip080)\" d=\"M84.0938 910.463 L88.978 910.463 L88.978 916.343 L84.0938 916.343 L84.0938 910.463 Z\" fill=\"#000000\" fill-rule=\"evenodd\" fill-opacity=\"1\" /><path clip-path=\"url(#clip080)\" d=\"M109.163 884.861 Q105.552 884.861 103.723 888.426 Q101.918 891.968 101.918 899.097 Q101.918 906.204 103.723 909.769 Q105.552 913.31 109.163 913.31 Q112.797 913.31 114.603 909.769 Q116.432 906.204 116.432 899.097 Q116.432 891.968 114.603 888.426 Q112.797 884.861 109.163 884.861 M109.163 881.158 Q114.973 881.158 118.029 885.764 Q121.107 890.347 121.107 899.097 Q121.107 907.824 118.029 912.431 Q114.973 917.014 109.163 917.014 Q103.353 917.014 100.274 912.431 Q97.2187 907.824 97.2187 899.097 Q97.2187 890.347 100.274 885.764 Q103.353 881.158 109.163 881.158 Z\" fill=\"#000000\" fill-rule=\"evenodd\" fill-opacity=\"1\" /><path clip-path=\"url(#clip080)\" d=\"M139.325 884.861 Q135.714 884.861 133.885 888.426 Q132.08 891.968 132.08 899.097 Q132.08 906.204 133.885 909.769 Q135.714 913.31 139.325 913.31 Q142.959 913.31 144.765 909.769 Q146.593 906.204 146.593 899.097 Q146.593 891.968 144.765 888.426 Q142.959 884.861 139.325 884.861 M139.325 881.158 Q145.135 881.158 148.191 885.764 Q151.269 890.347 151.269 899.097 Q151.269 907.824 148.191 912.431 Q145.135 917.014 139.325 917.014 Q133.515 917.014 130.436 912.431 Q127.381 907.824 127.381 899.097 Q127.381 890.347 130.436 885.764 Q133.515 881.158 139.325 881.158 Z\" fill=\"#000000\" fill-rule=\"evenodd\" fill-opacity=\"1\" /><path clip-path=\"url(#clip080)\" d=\"M160.297 912.408 L167.936 912.408 L167.936 886.042 L159.626 887.709 L159.626 883.449 L167.89 881.783 L172.566 881.783 L172.566 912.408 L180.204 912.408 L180.204 916.343 L160.297 916.343 L160.297 912.408 Z\" fill=\"#000000\" fill-rule=\"evenodd\" fill-opacity=\"1\" /><path clip-path=\"url(#clip080)\" d=\"M189.695 881.783 L208.051 881.783 L208.051 885.718 L193.977 885.718 L193.977 894.19 Q194.996 893.843 196.014 893.681 Q197.033 893.496 198.052 893.496 Q203.839 893.496 207.218 896.667 Q210.598 899.838 210.598 905.255 Q210.598 910.833 207.126 913.935 Q203.653 917.014 197.334 917.014 Q195.158 917.014 192.89 916.644 Q190.644 916.273 188.237 915.533 L188.237 910.833 Q190.32 911.968 192.542 912.523 Q194.765 913.079 197.241 913.079 Q201.246 913.079 203.584 910.972 Q205.922 908.866 205.922 905.255 Q205.922 901.644 203.584 899.537 Q201.246 897.431 197.241 897.431 Q195.366 897.431 193.491 897.847 Q191.64 898.264 189.695 899.144 L189.695 881.783 Z\" fill=\"#000000\" fill-rule=\"evenodd\" fill-opacity=\"1\" /><path clip-path=\"url(#clip080)\" d=\"M62.9365 651.754 Q59.3254 651.754 57.4967 655.319 Q55.6912 658.861 55.6912 665.991 Q55.6912 673.097 57.4967 676.662 Q59.3254 680.203 62.9365 680.203 Q66.5707 680.203 68.3763 676.662 Q70.205 673.097 70.205 665.991 Q70.205 658.861 68.3763 655.319 Q66.5707 651.754 62.9365 651.754 M62.9365 648.051 Q68.7467 648.051 71.8022 652.657 Q74.8809 657.241 74.8809 665.991 Q74.8809 674.717 71.8022 679.324 Q68.7467 683.907 62.9365 683.907 Q57.1264 683.907 54.0477 679.324 Q50.9921 674.717 50.9921 665.991 Q50.9921 657.241 54.0477 652.657 Q57.1264 648.051 62.9365 648.051 Z\" fill=\"#000000\" fill-rule=\"evenodd\" fill-opacity=\"1\" /><path clip-path=\"url(#clip080)\" d=\"M83.0984 677.356 L87.9827 677.356 L87.9827 683.236 L83.0984 683.236 L83.0984 677.356 Z\" fill=\"#000000\" fill-rule=\"evenodd\" fill-opacity=\"1\" /><path clip-path=\"url(#clip080)\" d=\"M108.168 651.754 Q104.557 651.754 102.728 655.319 Q100.922 658.861 100.922 665.991 Q100.922 673.097 102.728 676.662 Q104.557 680.203 108.168 680.203 Q111.802 680.203 113.608 676.662 Q115.436 673.097 115.436 665.991 Q115.436 658.861 113.608 655.319 Q111.802 651.754 108.168 651.754 M108.168 648.051 Q113.978 648.051 117.033 652.657 Q120.112 657.241 120.112 665.991 Q120.112 674.717 117.033 679.324 Q113.978 683.907 108.168 683.907 Q102.358 683.907 99.2789 679.324 Q96.2234 674.717 96.2234 665.991 Q96.2234 657.241 99.2789 652.657 Q102.358 648.051 108.168 648.051 Z\" fill=\"#000000\" fill-rule=\"evenodd\" fill-opacity=\"1\" /><path clip-path=\"url(#clip080)\" d=\"M138.33 651.754 Q134.719 651.754 132.89 655.319 Q131.084 658.861 131.084 665.991 Q131.084 673.097 132.89 676.662 Q134.719 680.203 138.33 680.203 Q141.964 680.203 143.769 676.662 Q145.598 673.097 145.598 665.991 Q145.598 658.861 143.769 655.319 Q141.964 651.754 138.33 651.754 M138.33 648.051 Q144.14 648.051 147.195 652.657 Q150.274 657.241 150.274 665.991 Q150.274 674.717 147.195 679.324 Q144.14 683.907 138.33 683.907 Q132.519 683.907 129.441 679.324 Q126.385 674.717 126.385 665.991 Q126.385 657.241 129.441 652.657 Q132.519 648.051 138.33 648.051 Z\" fill=\"#000000\" fill-rule=\"evenodd\" fill-opacity=\"1\" /><path clip-path=\"url(#clip080)\" d=\"M162.519 679.301 L178.839 679.301 L178.839 683.236 L156.894 683.236 L156.894 679.301 Q159.556 676.546 164.14 671.916 Q168.746 667.264 169.927 665.921 Q172.172 663.398 173.052 661.662 Q173.954 659.903 173.954 658.213 Q173.954 655.458 172.01 653.722 Q170.089 651.986 166.987 651.986 Q164.788 651.986 162.334 652.75 Q159.904 653.514 157.126 655.065 L157.126 650.342 Q159.95 649.208 162.404 648.629 Q164.857 648.051 166.894 648.051 Q172.265 648.051 175.459 650.736 Q178.653 653.421 178.653 657.912 Q178.653 660.041 177.843 661.963 Q177.056 663.861 174.95 666.453 Q174.371 667.125 171.269 670.342 Q168.167 673.537 162.519 679.301 Z\" fill=\"#000000\" fill-rule=\"evenodd\" fill-opacity=\"1\" /><path clip-path=\"url(#clip080)\" d=\"M198.653 651.754 Q195.042 651.754 193.214 655.319 Q191.408 658.861 191.408 665.991 Q191.408 673.097 193.214 676.662 Q195.042 680.203 198.653 680.203 Q202.288 680.203 204.093 676.662 Q205.922 673.097 205.922 665.991 Q205.922 658.861 204.093 655.319 Q202.288 651.754 198.653 651.754 M198.653 648.051 Q204.464 648.051 207.519 652.657 Q210.598 657.241 210.598 665.991 Q210.598 674.717 207.519 679.324 Q204.464 683.907 198.653 683.907 Q192.843 683.907 189.765 679.324 Q186.709 674.717 186.709 665.991 Q186.709 657.241 189.765 652.657 Q192.843 648.051 198.653 648.051 Z\" fill=\"#000000\" fill-rule=\"evenodd\" fill-opacity=\"1\" /><path clip-path=\"url(#clip080)\" d=\"M63.9319 418.648 Q60.3208 418.648 58.4921 422.212 Q56.6865 425.754 56.6865 432.884 Q56.6865 439.99 58.4921 443.555 Q60.3208 447.096 63.9319 447.096 Q67.5661 447.096 69.3717 443.555 Q71.2004 439.99 71.2004 432.884 Q71.2004 425.754 69.3717 422.212 Q67.5661 418.648 63.9319 418.648 M63.9319 414.944 Q69.742 414.944 72.7976 419.55 Q75.8763 424.134 75.8763 432.884 Q75.8763 441.61 72.7976 446.217 Q69.742 450.8 63.9319 450.8 Q58.1217 450.8 55.043 446.217 Q51.9875 441.61 51.9875 432.884 Q51.9875 424.134 55.043 419.55 Q58.1217 414.944 63.9319 414.944 Z\" fill=\"#000000\" fill-rule=\"evenodd\" fill-opacity=\"1\" /><path clip-path=\"url(#clip080)\" d=\"M84.0938 444.249 L88.978 444.249 L88.978 450.129 L84.0938 450.129 L84.0938 444.249 Z\" fill=\"#000000\" fill-rule=\"evenodd\" fill-opacity=\"1\" /><path clip-path=\"url(#clip080)\" d=\"M109.163 418.648 Q105.552 418.648 103.723 422.212 Q101.918 425.754 101.918 432.884 Q101.918 439.99 103.723 443.555 Q105.552 447.096 109.163 447.096 Q112.797 447.096 114.603 443.555 Q116.432 439.99 116.432 432.884 Q116.432 425.754 114.603 422.212 Q112.797 418.648 109.163 418.648 M109.163 414.944 Q114.973 414.944 118.029 419.55 Q121.107 424.134 121.107 432.884 Q121.107 441.61 118.029 446.217 Q114.973 450.8 109.163 450.8 Q103.353 450.8 100.274 446.217 Q97.2187 441.61 97.2187 432.884 Q97.2187 424.134 100.274 419.55 Q103.353 414.944 109.163 414.944 Z\" fill=\"#000000\" fill-rule=\"evenodd\" fill-opacity=\"1\" /><path clip-path=\"url(#clip080)\" d=\"M139.325 418.648 Q135.714 418.648 133.885 422.212 Q132.08 425.754 132.08 432.884 Q132.08 439.99 133.885 443.555 Q135.714 447.096 139.325 447.096 Q142.959 447.096 144.765 443.555 Q146.593 439.99 146.593 432.884 Q146.593 425.754 144.765 422.212 Q142.959 418.648 139.325 418.648 M139.325 414.944 Q145.135 414.944 148.191 419.55 Q151.269 424.134 151.269 432.884 Q151.269 441.61 148.191 446.217 Q145.135 450.8 139.325 450.8 Q133.515 450.8 130.436 446.217 Q127.381 441.61 127.381 432.884 Q127.381 424.134 130.436 419.55 Q133.515 414.944 139.325 414.944 Z\" fill=\"#000000\" fill-rule=\"evenodd\" fill-opacity=\"1\" /><path clip-path=\"url(#clip080)\" d=\"M163.515 446.194 L179.834 446.194 L179.834 450.129 L157.89 450.129 L157.89 446.194 Q160.552 443.439 165.135 438.809 Q169.741 434.157 170.922 432.814 Q173.167 430.291 174.047 428.555 Q174.95 426.796 174.95 425.106 Q174.95 422.351 173.005 420.615 Q171.084 418.879 167.982 418.879 Q165.783 418.879 163.329 419.643 Q160.899 420.407 158.121 421.958 L158.121 417.236 Q160.945 416.101 163.399 415.523 Q165.853 414.944 167.89 414.944 Q173.26 414.944 176.454 417.629 Q179.649 420.314 179.649 424.805 Q179.649 426.935 178.839 428.856 Q178.052 430.754 175.945 433.347 Q175.366 434.018 172.265 437.235 Q169.163 440.43 163.515 446.194 Z\" fill=\"#000000\" fill-rule=\"evenodd\" fill-opacity=\"1\" /><path clip-path=\"url(#clip080)\" d=\"M189.695 415.569 L208.051 415.569 L208.051 419.504 L193.977 419.504 L193.977 427.976 Q194.996 427.629 196.014 427.467 Q197.033 427.282 198.052 427.282 Q203.839 427.282 207.218 430.453 Q210.598 433.624 210.598 439.041 Q210.598 444.62 207.126 447.721 Q203.653 450.8 197.334 450.8 Q195.158 450.8 192.89 450.43 Q190.644 450.059 188.237 449.319 L188.237 444.62 Q190.32 445.754 192.542 446.309 Q194.765 446.865 197.241 446.865 Q201.246 446.865 203.584 444.759 Q205.922 442.652 205.922 439.041 Q205.922 435.43 203.584 433.323 Q201.246 431.217 197.241 431.217 Q195.366 431.217 193.491 431.634 Q191.64 432.05 189.695 432.93 L189.695 415.569 Z\" fill=\"#000000\" fill-rule=\"evenodd\" fill-opacity=\"1\" /><path clip-path=\"url(#clip080)\" d=\"M62.9365 185.541 Q59.3254 185.541 57.4967 189.105 Q55.6912 192.647 55.6912 199.777 Q55.6912 206.883 57.4967 210.448 Q59.3254 213.99 62.9365 213.99 Q66.5707 213.99 68.3763 210.448 Q70.205 206.883 70.205 199.777 Q70.205 192.647 68.3763 189.105 Q66.5707 185.541 62.9365 185.541 M62.9365 181.837 Q68.7467 181.837 71.8022 186.443 Q74.8809 191.027 74.8809 199.777 Q74.8809 208.503 71.8022 213.11 Q68.7467 217.693 62.9365 217.693 Q57.1264 217.693 54.0477 213.11 Q50.9921 208.503 50.9921 199.777 Q50.9921 191.027 54.0477 186.443 Q57.1264 181.837 62.9365 181.837 Z\" fill=\"#000000\" fill-rule=\"evenodd\" fill-opacity=\"1\" /><path clip-path=\"url(#clip080)\" d=\"M83.0984 211.142 L87.9827 211.142 L87.9827 217.022 L83.0984 217.022 L83.0984 211.142 Z\" fill=\"#000000\" fill-rule=\"evenodd\" fill-opacity=\"1\" /><path clip-path=\"url(#clip080)\" d=\"M108.168 185.541 Q104.557 185.541 102.728 189.105 Q100.922 192.647 100.922 199.777 Q100.922 206.883 102.728 210.448 Q104.557 213.99 108.168 213.99 Q111.802 213.99 113.608 210.448 Q115.436 206.883 115.436 199.777 Q115.436 192.647 113.608 189.105 Q111.802 185.541 108.168 185.541 M108.168 181.837 Q113.978 181.837 117.033 186.443 Q120.112 191.027 120.112 199.777 Q120.112 208.503 117.033 213.11 Q113.978 217.693 108.168 217.693 Q102.358 217.693 99.2789 213.11 Q96.2234 208.503 96.2234 199.777 Q96.2234 191.027 99.2789 186.443 Q102.358 181.837 108.168 181.837 Z\" fill=\"#000000\" fill-rule=\"evenodd\" fill-opacity=\"1\" /><path clip-path=\"url(#clip080)\" d=\"M138.33 185.541 Q134.719 185.541 132.89 189.105 Q131.084 192.647 131.084 199.777 Q131.084 206.883 132.89 210.448 Q134.719 213.99 138.33 213.99 Q141.964 213.99 143.769 210.448 Q145.598 206.883 145.598 199.777 Q145.598 192.647 143.769 189.105 Q141.964 185.541 138.33 185.541 M138.33 181.837 Q144.14 181.837 147.195 186.443 Q150.274 191.027 150.274 199.777 Q150.274 208.503 147.195 213.11 Q144.14 217.693 138.33 217.693 Q132.519 217.693 129.441 213.11 Q126.385 208.503 126.385 199.777 Q126.385 191.027 129.441 186.443 Q132.519 181.837 138.33 181.837 Z\" fill=\"#000000\" fill-rule=\"evenodd\" fill-opacity=\"1\" /><path clip-path=\"url(#clip080)\" d=\"M172.658 198.388 Q176.015 199.105 177.89 201.374 Q179.788 203.642 179.788 206.976 Q179.788 212.091 176.269 214.892 Q172.751 217.693 166.269 217.693 Q164.093 217.693 161.779 217.253 Q159.487 216.837 157.033 215.98 L157.033 211.466 Q158.978 212.601 161.292 213.179 Q163.607 213.758 166.13 213.758 Q170.529 213.758 172.82 212.022 Q175.135 210.286 175.135 206.976 Q175.135 203.92 172.982 202.207 Q170.853 200.471 167.033 200.471 L163.005 200.471 L163.005 196.629 L167.218 196.629 Q170.667 196.629 172.496 195.263 Q174.325 193.874 174.325 191.281 Q174.325 188.619 172.427 187.207 Q170.552 185.772 167.033 185.772 Q165.112 185.772 162.913 186.189 Q160.714 186.605 158.075 187.485 L158.075 183.318 Q160.737 182.578 163.052 182.207 Q165.39 181.837 167.45 181.837 Q172.774 181.837 175.876 184.268 Q178.978 186.675 178.978 190.795 Q178.978 193.666 177.334 195.656 Q175.691 197.624 172.658 198.388 Z\" fill=\"#000000\" fill-rule=\"evenodd\" fill-opacity=\"1\" /><path clip-path=\"url(#clip080)\" d=\"M198.653 185.541 Q195.042 185.541 193.214 189.105 Q191.408 192.647 191.408 199.777 Q191.408 206.883 193.214 210.448 Q195.042 213.99 198.653 213.99 Q202.288 213.99 204.093 210.448 Q205.922 206.883 205.922 199.777 Q205.922 192.647 204.093 189.105 Q202.288 185.541 198.653 185.541 M198.653 181.837 Q204.464 181.837 207.519 186.443 Q210.598 191.027 210.598 199.777 Q210.598 208.503 207.519 213.11 Q204.464 217.693 198.653 217.693 Q192.843 217.693 189.765 213.11 Q186.709 208.503 186.709 199.777 Q186.709 191.027 189.765 186.443 Q192.843 181.837 198.653 181.837 Z\" fill=\"#000000\" fill-rule=\"evenodd\" fill-opacity=\"1\" /><polyline clip-path=\"url(#clip082)\" style=\"stroke:#009af9; stroke-linecap:round; stroke-linejoin:round; stroke-width:4; stroke-opacity:1; fill:none\" points=\"306.206,1445.72 340.737,1439.15 376.588,1432.06 413.81,1424.23 452.456,1413.7 492.578,1406.87 534.235,1394.06 577.485,1378.94 622.388,1370.66 669.007,1361.45 717.41,1342.57 767.663,1323.55 819.837,1308.42 874.006,1295.22 930.246,1264.26 988.637,1219.11 1049.26,1165.71 1112.2,1118.76 1177.55,991.808 1245.39,867.214 1315.83,742.761 1388.97,558.871 1464.9,376.85 1543.73,196.961 1625.57,96.9316 1710.55,87.9763 1798.77,201.516 1890.37,313.09 1985.47,488.154 2084.21,539.966 2186.72,615.095 2293.15,655.789 \"/>\n",
       "<path clip-path=\"url(#clip080)\" d=\"M316.803 198.898 L579.849 198.898 L579.849 95.2176 L316.803 95.2176  Z\" fill=\"#ffffff\" fill-rule=\"evenodd\" fill-opacity=\"1\"/>\n",
       "<polyline clip-path=\"url(#clip080)\" style=\"stroke:#000000; stroke-linecap:round; stroke-linejoin:round; stroke-width:4; stroke-opacity:1; fill:none\" points=\"316.803,198.898 579.849,198.898 579.849,95.2176 316.803,95.2176 316.803,198.898 \"/>\n",
       "<polyline clip-path=\"url(#clip080)\" style=\"stroke:#009af9; stroke-linecap:round; stroke-linejoin:round; stroke-width:4; stroke-opacity:1; fill:none\" points=\"340.205,147.058 480.615,147.058 \"/>\n",
       "<path clip-path=\"url(#clip080)\" d=\"M517.86 166.745 Q516.054 171.375 514.341 172.787 Q512.628 174.199 509.758 174.199 L506.355 174.199 L506.355 170.634 L508.855 170.634 Q510.614 170.634 511.586 169.8 Q512.559 168.967 513.739 165.865 L514.503 163.921 L504.017 138.412 L508.531 138.412 L516.633 158.689 L524.735 138.412 L529.248 138.412 L517.86 166.745 Z\" fill=\"#000000\" fill-rule=\"evenodd\" fill-opacity=\"1\" /><path clip-path=\"url(#clip080)\" d=\"M536.54 160.402 L544.179 160.402 L544.179 134.037 L535.869 135.703 L535.869 131.444 L544.133 129.778 L548.809 129.778 L548.809 160.402 L556.447 160.402 L556.447 164.338 L536.54 164.338 L536.54 160.402 Z\" fill=\"#000000\" fill-rule=\"evenodd\" fill-opacity=\"1\" /></svg>\n"
      ]
     },
     "metadata": {},
     "output_type": "display_data"
    }
   ],
   "source": [
    "plot(temp.t_grid,results.heat_cap)\n"
   ]
  },
  {
   "cell_type": "code",
   "execution_count": null,
   "metadata": {},
   "outputs": [],
   "source": [
    "\n",
    "# data = [results.en_histogram[i] for i in 1:n_traj]\n",
    "# plot(data)"
   ]
  },
  {
   "attachments": {},
   "cell_type": "markdown",
   "metadata": {},
   "source": [
    "Below is the test for generating energy after displacement"
   ]
  },
  {
   "cell_type": "code",
   "execution_count": 6,
   "metadata": {},
   "outputs": [],
   "source": [
    "# function get_energy_dimer(pos,i_atom,mc_state,pot)\n",
    "#     dist2_new = [distance2(pos,b) for b in mc_state.config.pos]\n",
    "#     dist2_new[i_atom] = 0.\n",
    "\n",
    "#     energy = dimer_energy_atom(i_atom,dist2_new,pot)\n",
    "\n",
    "#     return energy, dist2_new\n",
    "# end\n",
    "\n",
    "# function generate_energies(mc_states,trial_positions,indices,pot)\n",
    "#     output = get_energy_dimer.(trial_positions,indices,mc_states,Ref(pot))\n",
    "#     return output\n",
    "# end\n",
    "# # indices,trial_positions = generate_displacements(mc_states,mc_params)\n",
    "\n",
    "# # output = generate_energies(mc_states,trial_positions,indices,pot)\n",
    "# @benchmark generate_energies(mc_states,trial_positions,indices,pot)\n",
    "# @benchmark begin\n",
    "#    for i in 1:n_traj\n",
    "#         energy_update(trial_positions[i],indices[i],mc_states[i].config,mc_states[i].dist2_mat,pot)\n",
    "#   end\n",
    "# end\n",
    "\n",
    "\n",
    "# energyvector, dist2new = invert(get_energy_dimer.(trial_positions,indices,mc_states,Ref(pot)))\n",
    "# function generate_energies2(mc_states,trial_positions,indices,pot)\n",
    "#     energyvector, dist2new = invert(get_energy_dimer.(trial_positions,indices,mc_states,Ref(pot)))\n",
    "\n",
    "#     return energyvector,dist2new\n",
    "# end\n",
    "# @benchmark generate_energies2(mc_states,trial_positions,indices,pot)"
   ]
  },
  {
   "cell_type": "code",
   "execution_count": 7,
   "metadata": {},
   "outputs": [],
   "source": [
    "# #got some testing for RuNNer \n",
    "# function testwritingvec(file::IOStream,test::String)\n",
    "#     write(file,\"$test \\n\")\n",
    "# end\n",
    "\n",
    "# stringvec = [\"testing\",\"vector\",\"for\",\"strings\"]\n",
    "# file = open(\"testfile.txt\",\"w+\")\n",
    "# testwritingvec.(Ref(file),stringvec)\n",
    "# close(file)"
   ]
  },
  {
   "cell_type": "code",
   "execution_count": 4,
   "metadata": {},
   "outputs": [
    {
     "data": {
      "text/plain": [
       "exch_test! (generic function with 1 method)"
      ]
     },
     "metadata": {},
     "output_type": "display_data"
    }
   ],
   "source": [
    "function exch_function!(mc_state, i_atom, trial_pos, dist2_new, new_energy)\n",
    "    mc_state.config.pos[i_atom] = trial_pos #copy(trial_pos)\n",
    "    mc_state.dist2_mat[i_atom,:] = dist2_new #copy(dist2_new)\n",
    "    mc_state.dist2_mat[:,i_atom] = dist2_new\n",
    "    mc_state.en_tot = new_energy\n",
    "    mc_state.count_atom[1] += 1\n",
    "    mc_state.count_atom[2] += 1\n",
    "end\n",
    "\n",
    "function exch_test!(ensemble, mc_state, new_energy, i_atom, trial_pos, dist2_new::Vector)\n",
    "    \n",
    "    if metropolis_condition(ensemble, (new_energy - mc_state.en_tot), mc_state.beta) >= rand()\n",
    "    \n",
    "        exch_function!(mc_state,i_atom,trial_pos,dist2_new, new_energy)\n",
    "    \n",
    "    end\n",
    "\n",
    "end\n"
   ]
  },
  {
   "cell_type": "code",
   "execution_count": 15,
   "metadata": {},
   "outputs": [
    {
     "name": "stdout",
     "output_type": "stream",
     "text": [
      "[4.394257284152319e-6, 1.4401613097476533e-6, 7.841053896189476e-7]\n",
      "-0.0056346940323873706\n",
      "[32.49869022397032, 32.49880372462826, 32.49880378983225, 32.49880381542696, 32.498803858861976, 32.49880385248456, 32.498884511101856, 32.49886197816726, 32.498862020680626, 32.49886206504857, 32.49886204905951, 32.498862129341724, 0.0]\n"
     ]
    }
   ],
   "source": [
    "\n",
    "println(mc_states[1].config.pos[13])\n",
    "println(mc_states[1].en_tot)\n",
    "println(mc_states[1].dist2_mat[13,:])"
   ]
  },
  {
   "cell_type": "code",
   "execution_count": 14,
   "metadata": {},
   "outputs": [
    {
     "name": "stdout",
     "output_type": "stream",
     "text": [
      "13 [0.02159113873647075, 0.023052765935378004, 0.018022283331630282] -0.005633370100522881 [32.15417131036463, 32.475784834321914, 32.53558644443054, 32.33264127690022, 32.23588079444993, 32.14741291160085, 32.8460486926496, 32.8528976627757, 32.66766941012556, 32.764430106642024, 32.524525413173656, 32.46472436508678, 0.0]\n"
     ]
    }
   ],
   "source": [
    "index = rand(1:13)\n",
    "\n",
    "trial_pos = atom_displacement(mc_states[1],index)\n",
    "\n",
    "en,dis2new = get_energy_dimer(trial_pos,index,mc_states[1],pot)\n",
    "println(index,\" \",trial_pos,\" \",en,\" \",dis2new)"
   ]
  },
  {
   "cell_type": "code",
   "execution_count": 18,
   "metadata": {},
   "outputs": [
    {
     "data": {
      "text/plain": [
       "0.9197872248730332"
      ]
     },
     "metadata": {},
     "output_type": "display_data"
    }
   ],
   "source": [
    "testnewen=dimer_energy_atom(7, dis2new, pot) - dimer_energy_atom(7, mc_states[1].dist2_mat[:,7], pot) + mc_states[1].en_tot\n",
    "\n",
    "teststate = deepcopy(mc_states[1])\n",
    "\n",
    "metropolis_condition(ensemble, (en - mc_states[1].en_tot),mc_states[1].beta)\n",
    "\n"
   ]
  },
  {
   "cell_type": "code",
   "execution_count": 5,
   "metadata": {},
   "outputs": [
    {
     "data": {
      "text/plain": [
       "bmark_oldmove (generic function with 1 method)"
      ]
     },
     "metadata": {},
     "output_type": "display_data"
    }
   ],
   "source": [
    "function test_move!(mc_states,mc_params,pot,ensemble)\n",
    "\n",
    "    indices,trial_positions = generate_displacements(mc_states,mc_params)\n",
    "\n",
    "    energy_vector, dist2_new = get_energy(trial_positions,indices,mc_states,pot)\n",
    "    \n",
    "    exch_test!.(Ref(ensemble), mc_states, energy_vector, indices, trial_positions, dist2_new)\n",
    "\n",
    "end\n",
    "# function test_move2!(mc_states,mc_params,pot,ensemble)\n",
    "\n",
    "#     indices,trial_positions = generate_displacements(mc_states,mc_params)\n",
    "\n",
    "#     energy_vector, dist2_new = get_energy(trial_positions,indices,mc_states,pot)\n",
    "    \n",
    "#     exch_test2!.(Ref(ensemble), mc_states, energy_vector, indices, trial_positions, dist2_new,rand(mc_params.n_traj))\n",
    "\n",
    "# end\n",
    "# function bmark_oldmove(mc_states,pot,ensemble)\n",
    "#     for i=1:length(mc_states)\n",
    "#         mc_step!(mc_states[i],pot,ensemble,1,0,0)\n",
    "#     end\n",
    "# end"
   ]
  },
  {
   "cell_type": "code",
   "execution_count": 6,
   "metadata": {},
   "outputs": [
    {
     "data": {
      "text/plain": [
       "BenchmarkTools.Trial: 10000 samples with 8 evaluations.\n",
       " Range \u001b[90m(\u001b[39m\u001b[36m\u001b[1mmin\u001b[22m\u001b[39m … \u001b[35mmax\u001b[39m\u001b[90m):  \u001b[39m\u001b[36m\u001b[1m2.993 μs\u001b[22m\u001b[39m … \u001b[35m420.977 μs\u001b[39m  \u001b[90m┊\u001b[39m GC \u001b[90m(\u001b[39mmin … max\u001b[90m): \u001b[39m0.00% … 98.70%\n",
       " Time  \u001b[90m(\u001b[39m\u001b[34m\u001b[1mmedian\u001b[22m\u001b[39m\u001b[90m):     \u001b[39m\u001b[34m\u001b[1m3.530 μs               \u001b[22m\u001b[39m\u001b[90m┊\u001b[39m GC \u001b[90m(\u001b[39mmedian\u001b[90m):    \u001b[39m0.00%\n",
       " Time  \u001b[90m(\u001b[39m\u001b[32m\u001b[1mmean\u001b[22m\u001b[39m ± \u001b[32mσ\u001b[39m\u001b[90m):   \u001b[39m\u001b[32m\u001b[1m4.238 μs\u001b[22m\u001b[39m ± \u001b[32m 10.737 μs\u001b[39m  \u001b[90m┊\u001b[39m GC \u001b[90m(\u001b[39mmean ± σ\u001b[90m):  \u001b[39m6.65% ±  2.61%\n",
       "\n",
       "  \u001b[39m \u001b[39m▃\u001b[39m█\u001b[39m█\u001b[39m \u001b[39m \u001b[39m \u001b[39m \u001b[39m \u001b[34m \u001b[39m\u001b[39m \u001b[39m \u001b[39m \u001b[39m \u001b[39m \u001b[39m \u001b[39m \u001b[39m \u001b[39m \u001b[39m \u001b[32m \u001b[39m\u001b[39m \u001b[39m \u001b[39m \u001b[39m \u001b[39m \u001b[39m \u001b[39m \u001b[39m \u001b[39m \u001b[39m \u001b[39m \u001b[39m \u001b[39m \u001b[39m \u001b[39m \u001b[39m \u001b[39m \u001b[39m \u001b[39m \u001b[39m \u001b[39m \u001b[39m \u001b[39m \u001b[39m \u001b[39m \u001b[39m \u001b[39m \u001b[39m \u001b[39m \u001b[39m \u001b[39m \u001b[39m \u001b[39m \u001b[39m \u001b[39m \u001b[39m \u001b[39m \u001b[39m \u001b[39m \u001b[39m \n",
       "  \u001b[39m▂\u001b[39m█\u001b[39m█\u001b[39m█\u001b[39m▇\u001b[39m▂\u001b[39m▂\u001b[39m▂\u001b[39m▂\u001b[34m▂\u001b[39m\u001b[39m▁\u001b[39m▁\u001b[39m▁\u001b[39m▁\u001b[39m▁\u001b[39m▁\u001b[39m▁\u001b[39m▁\u001b[39m▁\u001b[39m▁\u001b[32m▂\u001b[39m\u001b[39m▃\u001b[39m▄\u001b[39m▅\u001b[39m▆\u001b[39m▆\u001b[39m▇\u001b[39m▆\u001b[39m▅\u001b[39m▄\u001b[39m▃\u001b[39m▂\u001b[39m▂\u001b[39m▂\u001b[39m▂\u001b[39m▂\u001b[39m▁\u001b[39m▁\u001b[39m▁\u001b[39m▁\u001b[39m▁\u001b[39m▁\u001b[39m▁\u001b[39m▁\u001b[39m▁\u001b[39m▁\u001b[39m▁\u001b[39m▁\u001b[39m▁\u001b[39m▁\u001b[39m▁\u001b[39m▁\u001b[39m▁\u001b[39m▁\u001b[39m▁\u001b[39m▁\u001b[39m▁\u001b[39m▁\u001b[39m▁\u001b[39m \u001b[39m▂\n",
       "  2.99 μs\u001b[90m         Histogram: frequency by time\u001b[39m        6.63 μs \u001b[0m\u001b[1m<\u001b[22m\n",
       "\n",
       " Memory estimate\u001b[90m: \u001b[39m\u001b[33m7.45 KiB\u001b[39m, allocs estimate\u001b[90m: \u001b[39m\u001b[33m39\u001b[39m."
      ]
     },
     "metadata": {},
     "output_type": "display_data"
    }
   ],
   "source": [
    "@benchmark test_move!(mc_states,mc_params,pot,ensemble)"
   ]
  },
  {
   "cell_type": "code",
   "execution_count": 5,
   "metadata": {},
   "outputs": [
    {
     "data": {
      "text/plain": [
       "BenchmarkTools.Trial: 10000 samples with 5 evaluations.\n",
       " Range \u001b[90m(\u001b[39m\u001b[36m\u001b[1mmin\u001b[22m\u001b[39m … \u001b[35mmax\u001b[39m\u001b[90m):  \u001b[39m\u001b[36m\u001b[1m5.878 μs\u001b[22m\u001b[39m … \u001b[35m 1.152 ms\u001b[39m  \u001b[90m┊\u001b[39m GC \u001b[90m(\u001b[39mmin … max\u001b[90m): \u001b[39m0.00% … 99.04%\n",
       " Time  \u001b[90m(\u001b[39m\u001b[34m\u001b[1mmedian\u001b[22m\u001b[39m\u001b[90m):     \u001b[39m\u001b[34m\u001b[1m8.510 μs              \u001b[22m\u001b[39m\u001b[90m┊\u001b[39m GC \u001b[90m(\u001b[39mmedian\u001b[90m):    \u001b[39m0.00%\n",
       " Time  \u001b[90m(\u001b[39m\u001b[32m\u001b[1mmean\u001b[22m\u001b[39m ± \u001b[32mσ\u001b[39m\u001b[90m):   \u001b[39m\u001b[32m\u001b[1m8.580 μs\u001b[22m\u001b[39m ± \u001b[32m25.135 μs\u001b[39m  \u001b[90m┊\u001b[39m GC \u001b[90m(\u001b[39mmean ± σ\u001b[90m):  \u001b[39m6.52% ±  2.21%\n",
       "\n",
       "  \u001b[39m \u001b[39m▁\u001b[39m█\u001b[39m█\u001b[39m▃\u001b[39m \u001b[39m \u001b[39m \u001b[39m \u001b[39m \u001b[39m \u001b[39m \u001b[39m \u001b[39m \u001b[39m \u001b[39m \u001b[39m \u001b[39m \u001b[39m \u001b[39m \u001b[39m \u001b[39m \u001b[39m \u001b[39m \u001b[34m▂\u001b[39m\u001b[32m▂\u001b[39m\u001b[39m▃\u001b[39m▂\u001b[39m \u001b[39m \u001b[39m \u001b[39m \u001b[39m \u001b[39m \u001b[39m \u001b[39m \u001b[39m \u001b[39m \u001b[39m \u001b[39m \u001b[39m \u001b[39m \u001b[39m \u001b[39m \u001b[39m \u001b[39m \u001b[39m \u001b[39m \u001b[39m \u001b[39m \u001b[39m \u001b[39m \u001b[39m \u001b[39m \u001b[39m \u001b[39m \u001b[39m \u001b[39m \u001b[39m \u001b[39m \n",
       "  \u001b[39m▂\u001b[39m█\u001b[39m█\u001b[39m█\u001b[39m█\u001b[39m▄\u001b[39m▂\u001b[39m▂\u001b[39m▂\u001b[39m▂\u001b[39m▁\u001b[39m▁\u001b[39m▁\u001b[39m▁\u001b[39m▁\u001b[39m▁\u001b[39m▁\u001b[39m▁\u001b[39m▁\u001b[39m▁\u001b[39m▃\u001b[39m▄\u001b[39m▆\u001b[39m█\u001b[34m█\u001b[39m\u001b[32m█\u001b[39m\u001b[39m█\u001b[39m█\u001b[39m▇\u001b[39m▆\u001b[39m▅\u001b[39m▅\u001b[39m▄\u001b[39m▃\u001b[39m▃\u001b[39m▃\u001b[39m▃\u001b[39m▂\u001b[39m▂\u001b[39m▂\u001b[39m▁\u001b[39m▁\u001b[39m▁\u001b[39m▁\u001b[39m▁\u001b[39m▁\u001b[39m▁\u001b[39m▁\u001b[39m▁\u001b[39m▁\u001b[39m▁\u001b[39m▂\u001b[39m▁\u001b[39m▁\u001b[39m▁\u001b[39m▁\u001b[39m▁\u001b[39m▁\u001b[39m \u001b[39m▂\n",
       "  5.88 μs\u001b[90m        Histogram: frequency by time\u001b[39m        12.2 μs \u001b[0m\u001b[1m<\u001b[22m\n",
       "\n",
       " Memory estimate\u001b[90m: \u001b[39m\u001b[33m12.81 KiB\u001b[39m, allocs estimate\u001b[90m: \u001b[39m\u001b[33m72\u001b[39m."
      ]
     },
     "metadata": {},
     "output_type": "display_data"
    }
   ],
   "source": [
    "@benchmark mc_step!(mc_states,mc_params,pot,ensemble)"
   ]
  },
  {
   "cell_type": "code",
   "execution_count": 8,
   "metadata": {},
   "outputs": [],
   "source": [
    "import ParallelTemperingMonteCarlo.MCRun.acc_test!"
   ]
  },
  {
   "cell_type": "code",
   "execution_count": 11,
   "metadata": {},
   "outputs": [
    {
     "data": {
      "text/plain": [
       "BenchmarkTools.Trial: 10000 samples with 5 evaluations.\n",
       " Range \u001b[90m(\u001b[39m\u001b[36m\u001b[1mmin\u001b[22m\u001b[39m … \u001b[35mmax\u001b[39m\u001b[90m):  \u001b[39m\u001b[36m\u001b[1m5.865 μs\u001b[22m\u001b[39m … \u001b[35m 1.212 ms\u001b[39m  \u001b[90m┊\u001b[39m GC \u001b[90m(\u001b[39mmin … max\u001b[90m): \u001b[39m0.00% … 99.13%\n",
       " Time  \u001b[90m(\u001b[39m\u001b[34m\u001b[1mmedian\u001b[22m\u001b[39m\u001b[90m):     \u001b[39m\u001b[34m\u001b[1m8.547 μs              \u001b[22m\u001b[39m\u001b[90m┊\u001b[39m GC \u001b[90m(\u001b[39mmedian\u001b[90m):    \u001b[39m0.00%\n",
       " Time  \u001b[90m(\u001b[39m\u001b[32m\u001b[1mmean\u001b[22m\u001b[39m ± \u001b[32mσ\u001b[39m\u001b[90m):   \u001b[39m\u001b[32m\u001b[1m8.639 μs\u001b[22m\u001b[39m ± \u001b[32m26.388 μs\u001b[39m  \u001b[90m┊\u001b[39m GC \u001b[90m(\u001b[39mmean ± σ\u001b[90m):  \u001b[39m6.80% ±  2.21%\n",
       "\n",
       "  \u001b[39m \u001b[39m \u001b[39m▄\u001b[39m█\u001b[39m▂\u001b[39m \u001b[39m \u001b[39m \u001b[39m \u001b[39m \u001b[39m \u001b[39m \u001b[39m \u001b[39m \u001b[39m \u001b[39m \u001b[39m \u001b[39m \u001b[39m \u001b[39m \u001b[39m \u001b[39m \u001b[39m \u001b[34m▁\u001b[39m\u001b[32m▂\u001b[39m\u001b[39m▁\u001b[39m \u001b[39m \u001b[39m \u001b[39m \u001b[39m \u001b[39m \u001b[39m \u001b[39m \u001b[39m \u001b[39m \u001b[39m \u001b[39m \u001b[39m \u001b[39m \u001b[39m \u001b[39m \u001b[39m \u001b[39m \u001b[39m \u001b[39m \u001b[39m \u001b[39m \u001b[39m \u001b[39m \u001b[39m \u001b[39m \u001b[39m \u001b[39m \u001b[39m \u001b[39m \u001b[39m \u001b[39m \u001b[39m \u001b[39m \n",
       "  \u001b[39m▂\u001b[39m▆\u001b[39m█\u001b[39m█\u001b[39m█\u001b[39m▄\u001b[39m▃\u001b[39m▃\u001b[39m▃\u001b[39m▂\u001b[39m▂\u001b[39m▂\u001b[39m▂\u001b[39m▂\u001b[39m▂\u001b[39m▂\u001b[39m▂\u001b[39m▁\u001b[39m▂\u001b[39m▃\u001b[39m▃\u001b[39m▅\u001b[39m▇\u001b[34m█\u001b[39m\u001b[32m█\u001b[39m\u001b[39m█\u001b[39m█\u001b[39m▇\u001b[39m▆\u001b[39m▅\u001b[39m▄\u001b[39m▄\u001b[39m▄\u001b[39m▄\u001b[39m▄\u001b[39m▃\u001b[39m▃\u001b[39m▂\u001b[39m▂\u001b[39m▂\u001b[39m▂\u001b[39m▂\u001b[39m▂\u001b[39m▂\u001b[39m▂\u001b[39m▂\u001b[39m▂\u001b[39m▂\u001b[39m▂\u001b[39m▂\u001b[39m▂\u001b[39m▂\u001b[39m▂\u001b[39m▂\u001b[39m▂\u001b[39m▂\u001b[39m▂\u001b[39m▂\u001b[39m \u001b[39m▃\n",
       "  5.86 μs\u001b[90m        Histogram: frequency by time\u001b[39m        12.5 μs \u001b[0m\u001b[1m<\u001b[22m\n",
       "\n",
       " Memory estimate\u001b[90m: \u001b[39m\u001b[33m12.81 KiB\u001b[39m, allocs estimate\u001b[90m: \u001b[39m\u001b[33m72\u001b[39m."
      ]
     },
     "metadata": {},
     "output_type": "display_data"
    }
   ],
   "source": [
    "function mc_test_step!(mc_states,mc_params,pot,ensemble)\n",
    "    indices,trial_positions = generate_displacements(mc_states,mc_params)\n",
    "\n",
    "    d_energies,dist2_new = invert(get_energy_dimer.(trial_positions,indices,mc_states,Ref(pot)))\n",
    "\n",
    "    acc_test!.(Ref(ensemble), mc_states, d_energies, indices, trial_positions, dist2_new)\n",
    "end\n",
    "@benchmark mc_test_step!(mc_states,mc_params,pot,ensemble)"
   ]
  },
  {
   "cell_type": "code",
   "execution_count": null,
   "metadata": {},
   "outputs": [],
   "source": []
  }
 ],
 "metadata": {
  "kernelspec": {
   "display_name": "Julia 1.8.5",
   "language": "julia",
   "name": "julia-1.8"
  },
  "language_info": {
   "file_extension": ".jl",
   "mimetype": "application/julia",
   "name": "julia",
   "version": "1.8.5"
  },
  "orig_nbformat": 4
 },
 "nbformat": 4,
 "nbformat_minor": 2
}
