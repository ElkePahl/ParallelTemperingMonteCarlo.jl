{
 "cells": [
  {
   "cell_type": "code",
   "execution_count": 2,
   "metadata": {},
   "outputs": [
    {
     "name": "stderr",
     "output_type": "stream",
     "text": [
      "\u001b[32m\u001b[1m    Updating\u001b[22m\u001b[39m registry at `~/.julia/registries/General.toml`\n"
     ]
    },
    {
     "name": "stderr",
     "output_type": "stream",
     "text": [
      "\u001b[32m\u001b[1m   Resolving\u001b[22m\u001b[39m package versions...\n"
     ]
    },
    {
     "name": "stderr",
     "output_type": "stream",
     "text": [
      "\u001b[32m\u001b[1m   Installed\u001b[22m\u001b[39m EzXML ───────────── v1.1.0\n",
      "\u001b[32m\u001b[1m   Installed\u001b[22m\u001b[39m OffsetArrays ────── v1.12.8\n"
     ]
    },
    {
     "name": "stderr",
     "output_type": "stream",
     "text": [
      "\u001b[32m\u001b[1m   Installed\u001b[22m\u001b[39m LLVMOpenMP_jll ──── v15.0.4+0\n",
      "\u001b[32m\u001b[1m   Installed\u001b[22m\u001b[39m MKL_jll ─────────── v2022.2.0+0\n",
      "\u001b[32m\u001b[1m   Installed\u001b[22m\u001b[39m TimerOutputs ────── v0.5.22\n",
      "\u001b[32m\u001b[1m   Installed\u001b[22m\u001b[39m StructHelpers ───── v0.1.5\n",
      "\u001b[32m\u001b[1m   Installed\u001b[22m\u001b[39m Roots ───────────── v2.0.8\n",
      "\u001b[32m\u001b[1m   Installed\u001b[22m\u001b[39m MPI ─────────────── v0.20.4\n",
      "\u001b[32m\u001b[1m   Installed\u001b[22m\u001b[39m DFTK ────────────── v0.5.14\n"
     ]
    },
    {
     "name": "stderr",
     "output_type": "stream",
     "text": [
      "\u001b[32m\u001b[1m   Installed\u001b[22m\u001b[39m MPItrampoline_jll ─ v5.0.2+1\n"
     ]
    },
    {
     "name": "stderr",
     "output_type": "stream",
     "text": [
      "\u001b[32m\u001b[1m   Installed\u001b[22m\u001b[39m PeriodicTable ───── v1.1.3\n",
      "\u001b[32m\u001b[1m   Installed\u001b[22m\u001b[39m Static ──────────── v0.7.8\n",
      "\u001b[32m\u001b[1m   Installed\u001b[22m\u001b[39m CommonSolve ─────── v0.2.3\n",
      "\u001b[32m\u001b[1m   Installed\u001b[22m\u001b[39m PseudoPotentialIO ─ v0.1.1\n"
     ]
    },
    {
     "name": "stderr",
     "output_type": "stream",
     "text": [
      "\u001b[32m\u001b[1m   Installed\u001b[22m\u001b[39m Spglib ──────────── v0.6.1\n"
     ]
    },
    {
     "name": "stderr",
     "output_type": "stream",
     "text": [
      "\u001b[32m\u001b[1m    Updating\u001b[22m\u001b[39m `~/ParallelTemperingMonteCarlo.jl/Project.toml`\n",
      " \u001b[90m [acf6eb54] \u001b[39m\u001b[92m+ DFTK v0.5.14\u001b[39m\n",
      "\u001b[32m\u001b[1m    Updating\u001b[22m\u001b[39m `~/ParallelTemperingMonteCarlo.jl/Manifest.toml`\n"
     ]
    },
    {
     "name": "stderr",
     "output_type": "stream",
     "text": [
      " \u001b[90m [621f4979] \u001b[39m\u001b[92m+ AbstractFFTs v1.2.1\u001b[39m\n",
      " \u001b[90m [79e6a3ab] \u001b[39m\u001b[92m+ Adapt v3.4.0\u001b[39m\n",
      " \u001b[90m [4fba245c] \u001b[39m\u001b[92m+ ArrayInterface v6.0.23\u001b[39m\n",
      " \u001b[90m [a963bdd2] \u001b[39m\u001b[92m+ AtomsBase v0.2.3\u001b[39m\n",
      " \u001b[90m [13072b0f] \u001b[39m\u001b[92m+ AxisAlgorithms v1.0.1\u001b[39m\n",
      " \u001b[90m [6e4b80f9] \u001b[39m\u001b[91m- BenchmarkTools v1.3.1\u001b[39m\n",
      " \u001b[90m [ada6cbde] \u001b[39m\u001b[92m+ Bravais v0.1.8\u001b[39m\n",
      " \u001b[90m [23470ee3] \u001b[39m\u001b[92m+ Brillouin v0.5.10\u001b[39m\n",
      " \u001b[90m [38540f10] \u001b[39m\u001b[92m+ CommonSolve v0.2.3\u001b[39m\n",
      "\u001b[33m⌅\u001b[39m\u001b[90m [b0b7db55] \u001b[39m\u001b[92m+ ComponentArrays v0.12.6\u001b[39m\n",
      " \u001b[90m [8f4d0f93] \u001b[39m\u001b[92m+ Conda v1.7.0\u001b[39m\n",
      " \u001b[90m [acf6eb54] \u001b[39m\u001b[92m+ DFTK v0.5.14\u001b[39m\n",
      " \u001b[90m [6bd331d2] \u001b[39m\u001b[92m+ DftFunctionals v0.2.1\u001b[39m\n",
      " \u001b[90m [b4f34e82] \u001b[39m\u001b[92m+ Distances v0.10.7\u001b[39m\n",
      " \u001b[90m [e2ba6199] \u001b[39m\u001b[92m+ ExprTools v0.1.8\u001b[39m\n",
      " \u001b[90m [8f5d6c58] \u001b[39m\u001b[92m+ EzXML v1.1.0\u001b[39m\n",
      " \u001b[90m [7a1cc6ca] \u001b[39m\u001b[92m+ FFTW v1.5.0\u001b[39m\n",
      " \u001b[90m [46192b85] \u001b[39m\u001b[92m+ GPUArraysCore v0.1.2\u001b[39m\n",
      " \u001b[90m [615f187c] \u001b[39m\u001b[92m+ IfElse v0.1.1\u001b[39m\n",
      " \u001b[90m [18e54dd8] \u001b[39m\u001b[92m+ IntegerMathUtils v0.1.0\u001b[39m\n",
      " \u001b[90m [a9efe35a] \u001b[39m\u001b[92m+ InteratomicPotentials v0.2.5\u001b[39m\n",
      " \u001b[90m [a98d9a8b] \u001b[39m\u001b[92m+ Interpolations v0.14.6\u001b[39m\n",
      " \u001b[90m [c8e1da08] \u001b[39m\u001b[92m+ IterTools v1.4.0\u001b[39m\n",
      " \u001b[90m [42fd0dbc] \u001b[39m\u001b[92m+ IterativeSolvers v0.9.2\u001b[39m\n",
      " \u001b[90m [66e17ffc] \u001b[39m\u001b[92m+ Libxc v0.3.10\u001b[39m\n",
      " \u001b[90m [7a12625a] \u001b[39m\u001b[92m+ LinearMaps v3.8.0\u001b[39m\n",
      " \u001b[90m [da04e1cc] \u001b[39m\u001b[92m+ MPI v0.20.4\u001b[39m\n",
      " \u001b[90m [3da0fdf6] \u001b[39m\u001b[92m+ MPIPreferences v0.1.6\u001b[39m\n",
      " \u001b[90m [2774e3e8] \u001b[39m\u001b[92m+ NLsolve v4.5.1\u001b[39m\n",
      " \u001b[90m [b8a86587] \u001b[39m\u001b[92m+ NearestNeighbors v0.4.12\u001b[39m\n",
      " \u001b[90m [6fe1bfb0] \u001b[39m\u001b[92m+ OffsetArrays v1.12.8\u001b[39m\n",
      " \u001b[90m [7b2266bf] \u001b[39m\u001b[92m+ PeriodicTable v1.1.3\u001b[39m\n",
      " \u001b[90m [f27b6e38] \u001b[39m\u001b[92m+ Polynomials v3.2.0\u001b[39m\n",
      " \u001b[90m [27ebfcd6] \u001b[39m\u001b[92m+ Primes v0.5.3\u001b[39m\n",
      " \u001b[90m [92933f4c] \u001b[39m\u001b[92m+ ProgressMeter v1.7.2\u001b[39m\n",
      " \u001b[90m [cb339c56] \u001b[39m\u001b[92m+ PseudoPotentialIO v0.1.1\u001b[39m\n",
      " \u001b[90m [438e738f] \u001b[39m\u001b[92m+ PyCall v1.94.1\u001b[39m\n",
      " \u001b[90m [c84ed2f1] \u001b[39m\u001b[92m+ Ratios v0.4.3\u001b[39m\n",
      " \u001b[90m [3cdcf5f2] \u001b[39m\u001b[92m+ RecipesBase v1.3.1\u001b[39m\n",
      " \u001b[90m [f2b01f46] \u001b[39m\u001b[92m+ Roots v2.0.8\u001b[39m\n",
      " \u001b[90m [66db9d55] \u001b[39m\u001b[92m+ SnoopPrecompile v1.0.1\u001b[39m\n",
      " \u001b[90m [f761d5c5] \u001b[39m\u001b[92m+ Spglib v0.6.1\u001b[39m\n",
      " \u001b[90m [aedffcd0] \u001b[39m\u001b[92m+ Static v0.7.8\u001b[39m\n",
      " \u001b[90m [4093c41a] \u001b[39m\u001b[92m+ StructHelpers v0.1.5\u001b[39m\n",
      " \u001b[90m [a759f4b9] \u001b[39m\u001b[92m+ TimerOutputs v0.5.22\u001b[39m\n",
      " \u001b[90m [81def892] \u001b[39m\u001b[92m+ VersionParsing v1.3.0\u001b[39m\n",
      " \u001b[90m [efce3f68] \u001b[39m\u001b[92m+ WoodburyMatrices v0.5.5\u001b[39m\n",
      " \u001b[90m [f5851436] \u001b[39m\u001b[92m+ FFTW_jll v3.3.10+0\u001b[39m\n",
      " \u001b[90m [1d5cc7b8] \u001b[39m\u001b[92m+ IntelOpenMP_jll v2018.0.3+2\u001b[39m\n",
      " \u001b[90m [1d63c593] \u001b[39m\u001b[92m+ LLVMOpenMP_jll v15.0.4+0\u001b[39m\n",
      " \u001b[90m [94ce4f54] \u001b[39m\u001b[92m+ Libiconv_jll v1.16.1+1\u001b[39m\n",
      "\u001b[33m⌅\u001b[39m\u001b[90m [a56a6d9d] \u001b[39m\u001b[92m+ Libxc_jll v5.2.3+0\u001b[39m\n",
      " \u001b[90m [856f044c] \u001b[39m\u001b[92m+ MKL_jll v2022.2.0+0\u001b[39m\n",
      " \u001b[90m [7cb0a576] \u001b[39m\u001b[92m+ MPICH_jll v4.0.2+5\u001b[39m\n",
      " \u001b[90m [f1f71cc9] \u001b[39m\u001b[92m+ MPItrampoline_jll v5.0.2+1\u001b[39m\n",
      " \u001b[90m [9237b28f] \u001b[39m\u001b[92m+ MicrosoftMPI_jll v10.1.3+2\u001b[39m\n",
      " \u001b[90m [fe0851c0] \u001b[39m\u001b[92m+ OpenMPI_jll v4.1.3+3\u001b[39m\n",
      " \u001b[90m [02c8fc9c] \u001b[39m\u001b[92m+ XML2_jll v2.9.14+0\u001b[39m\n",
      " \u001b[90m [ac4a9f1e] \u001b[39m\u001b[92m+ spglib_jll v1.16.5+0\u001b[39m\n",
      " \u001b[90m [4af54fe1] \u001b[39m\u001b[92m+ LazyArtifacts\u001b[39m\n",
      " \u001b[90m [9abbd945] \u001b[39m\u001b[91m- Profile\u001b[39m\n",
      " \u001b[90m [1a1011a3] \u001b[39m\u001b[92m+ SharedArrays\u001b[39m\n",
      "\u001b[36m\u001b[1m        Info\u001b[22m\u001b[39m Packages marked with \u001b[33m⌅\u001b[39m have new versions available but cannot be upgraded. To see why use `status --outdated -m`\n"
     ]
    },
    {
     "name": "stderr",
     "output_type": "stream",
     "text": [
      "\u001b[32m\u001b[1mPrecompiling\u001b[22m\u001b[39m project...\n"
     ]
    },
    {
     "name": "stderr",
     "output_type": "stream",
     "text": [
      "\u001b[32m  ✓ \u001b[39m\u001b[90mMKL_jll\u001b[39m\n"
     ]
    },
    {
     "name": "stderr",
     "output_type": "stream",
     "text": [
      "\u001b[32m  ✓ \u001b[39m\u001b[90mCommonSolve\u001b[39m\n"
     ]
    },
    {
     "name": "stderr",
     "output_type": "stream",
     "text": [
      "\u001b[32m  ✓ \u001b[39m\u001b[90mMPItrampoline_jll\u001b[39m\n"
     ]
    },
    {
     "name": "stderr",
     "output_type": "stream",
     "text": [
      "\u001b[32m  ✓ \u001b[39m\u001b[90mStructHelpers\u001b[39m\n"
     ]
    },
    {
     "name": "stderr",
     "output_type": "stream",
     "text": [
      "\u001b[32m  ✓ \u001b[39m\u001b[90mLLVMOpenMP_jll\u001b[39m\n"
     ]
    },
    {
     "name": "stderr",
     "output_type": "stream",
     "text": [
      "\u001b[32m  ✓ \u001b[39m\u001b[90mStatic\u001b[39m\n",
      "\u001b[32m  ✓ \u001b[39m\u001b[90mOffsetArrays\u001b[39m\n"
     ]
    },
    {
     "name": "stderr",
     "output_type": "stream",
     "text": [
      "\u001b[32m  ✓ \u001b[39m\u001b[90mspglib_jll\u001b[39m\n"
     ]
    },
    {
     "name": "stderr",
     "output_type": "stream",
     "text": [
      "\u001b[32m  ✓ \u001b[39m\u001b[90mEzXML\u001b[39m\n"
     ]
    },
    {
     "name": "stderr",
     "output_type": "stream",
     "text": [
      "\u001b[32m  ✓ \u001b[39m\u001b[90mTimerOutputs\u001b[39m\n"
     ]
    },
    {
     "name": "stderr",
     "output_type": "stream",
     "text": [
      "\u001b[32m  ✓ \u001b[39m\u001b[90mPseudoPotentialIO\u001b[39m\n"
     ]
    },
    {
     "name": "stderr",
     "output_type": "stream",
     "text": [
      "\u001b[32m  ✓ \u001b[39m\u001b[90mArrayInterface\u001b[39m\n"
     ]
    },
    {
     "name": "stderr",
     "output_type": "stream",
     "text": [
      "\u001b[32m  ✓ \u001b[39m\u001b[90mSpglib\u001b[39m\n"
     ]
    },
    {
     "name": "stderr",
     "output_type": "stream",
     "text": [
      "\u001b[32m  ✓ \u001b[39m\u001b[90mRoots\u001b[39m\n"
     ]
    },
    {
     "name": "stderr",
     "output_type": "stream",
     "text": [
      "\u001b[32m  ✓ \u001b[39m\u001b[90mComponentArrays\u001b[39m\n"
     ]
    },
    {
     "name": "stderr",
     "output_type": "stream",
     "text": [
      "\u001b[32m  ✓ \u001b[39m\u001b[90mPeriodicTable\u001b[39m\n"
     ]
    },
    {
     "name": "stderr",
     "output_type": "stream",
     "text": [
      "\u001b[32m  ✓ \u001b[39m\u001b[90mMPI\u001b[39m\n"
     ]
    },
    {
     "name": "stderr",
     "output_type": "stream",
     "text": [
      "\u001b[32m  ✓ \u001b[39m\u001b[90mInterpolations\u001b[39m\n"
     ]
    },
    {
     "name": "stderr",
     "output_type": "stream",
     "text": [
      "\u001b[32m  ✓ \u001b[39m\u001b[90mDftFunctionals\u001b[39m\n"
     ]
    },
    {
     "name": "stderr",
     "output_type": "stream",
     "text": [
      "\u001b[32m  ✓ \u001b[39m\u001b[90mAtomsBase\u001b[39m\n"
     ]
    },
    {
     "name": "stderr",
     "output_type": "stream",
     "text": [
      "\u001b[32m  ✓ \u001b[39m\u001b[90mFFTW\u001b[39m\n"
     ]
    },
    {
     "name": "stderr",
     "output_type": "stream",
     "text": [
      "\u001b[32m  ✓ \u001b[39m\u001b[90mInteratomicPotentials\u001b[39m\n"
     ]
    },
    {
     "name": "stderr",
     "output_type": "stream",
     "text": [
      "\u001b[32m  ✓ \u001b[39mDFTK\n"
     ]
    },
    {
     "name": "stderr",
     "output_type": "stream",
     "text": [
      "\u001b[32m  ✓ \u001b[39mParallelTemperingMonteCarlo\n"
     ]
    },
    {
     "name": "stderr",
     "output_type": "stream",
     "text": [
      "  24 dependencies successfully precompiled in 79 seconds. 89 already precompiled.\n"
     ]
    }
   ],
   "source": [
    "# using Pkg\n",
    "# Pkg.add(\"DFTK\")\n",
    "\n",
    "using ParallelTemperingMonteCarlo\n",
    "using DelimitedFiles\n"
   ]
  },
  {
   "cell_type": "code",
   "execution_count": 3,
   "metadata": {},
   "outputs": [
    {
     "data": {
      "text/plain": [
       "Output{Float64}(100, 0.0, 0.0, Float64[], Float64[], Float64[], Vector{Float64}[], Vector{Float64}[], Float64[], Float64[], Float64[], Float64[])"
      ]
     },
     "metadata": {},
     "output_type": "display_data"
    }
   ],
   "source": [
    "using Random#,Plots\n",
    "\n",
    "#set random seed - for reproducibility\n",
    "Random.seed!(1234)\n",
    "\n",
    "# number of atoms\n",
    "n_atoms = 13\n",
    "\n",
    "# temperature grid\n",
    "ti = 4.\n",
    "tf = 19.\n",
    "n_traj = 22\n",
    "\n",
    "temp = TempGrid{n_traj}(ti,tf) \n",
    "\n",
    "# MC simulation details\n",
    "mc_cycles = 100000 #default 20% equilibration cycles on top\n",
    "mc_sample = 1  #sample every mc_sample MC cycles\n",
    "\n",
    "#move_atom=AtomMove(n_atoms) #move strategy (here only atom moves, n_atoms per MC cycle)\n",
    "displ_atom = 0.1 # Angstrom\n",
    "n_adjust = 100\n",
    "\n",
    "max_displ_atom = [0.1*sqrt(displ_atom*temp.t_grid[i]) for i in 1:n_traj]\n",
    "\n",
    "mc_params = MCParams(mc_cycles, n_traj, n_atoms, mc_sample = mc_sample, n_adjust = n_adjust)\n",
    "\n",
    "#moves - allowed at present: atom, volume and rotation moves (volume,rotation not yet implemented)\n",
    "move_strat = MoveStrategy(atom_moves = n_atoms)  \n",
    "\n",
    "#ensemble\n",
    "ensemble = NVT(n_atoms)\n",
    "\n",
    "#ELJpotential for neon\n",
    "#c1=[-10.5097942564988, 0., 989.725135614556, 0., -101383.865938807, 0., 3918846.12841668, 0., -56234083.4334278, 0., 288738837.441765]\n",
    "#elj_ne1 = ELJPotential{11}(c1)\n",
    "\n",
    "c=[-10.5097942564988, 989.725135614556, -101383.865938807, 3918846.12841668, -56234083.4334278, 288738837.441765]\n",
    "pot = ELJPotentialEven{6}(c)\n",
    "\n",
    "#starting configurations\n",
    "#icosahedral ground state of Ne13 (from Cambridge cluster database) in Angstrom\n",
    "pos_ne13 = [[2.825384495892464, 0.928562467914040, 0.505520149314310],\n",
    "[2.023342172678102,\t-2.136126268595355, 0.666071287554958],\n",
    "[2.033761811732818,\t-0.643989413759464, -2.133000349161121],\n",
    "[0.979777205108572,\t2.312002562803556, -1.671909307631893],\n",
    "[0.962914279874254,\t-0.102326586625353, 2.857083360096907],\n",
    "[0.317957619634043,\t2.646768968413408, 1.412132053672896],\n",
    "[-2.825388342924982, -0.928563755928189, -0.505520471387560],\n",
    "[-0.317955944853142, -2.646769840660271, -1.412131825293682],\n",
    "[-0.979776174195320, -2.312003751825495, 1.671909138648006],\n",
    "[-0.962916072888105, 0.102326392265998,\t-2.857083272537599],\n",
    "[-2.023340541398004, 2.136128558801072,\t-0.666071089291685],\n",
    "[-2.033762834001679, 0.643989905095452, 2.132999911364582],\n",
    "[0.000002325340981,\t0.000000762100600, 0.000000414930733]]\n",
    "\n",
    "#convert to Bohr\n",
    "AtoBohr = 1.8897259886\n",
    "pos_ne13 = pos_ne13 * AtoBohr\n",
    "\n",
    "length(pos_ne13) == n_atoms || error(\"number of atoms and positions not the same - check starting config\")\n",
    "\n",
    "#boundary conditions \n",
    "bc_ne13 = SphericalBC(radius=6.2*AtoBohr)   #5.32 Angstrom\n",
    "\n",
    "#starting configuration\n",
    "start_config = Config(pos_ne13, bc_ne13)\n",
    "\n",
    "#histogram information\n",
    "n_bin = 100\n",
    "#en_min = -0.006    #might want to update after equilibration run if generated on the fly\n",
    "#en_max = -0.001    #otherwise will be determined after run as min/max of sampled energies (ham vector)\n",
    "\n",
    "#construct array of MCState (for each temperature)\n",
    "mc_states = [MCState(temp.t_grid[i], temp.beta_grid[i], start_config, pot; max_displ=[max_displ_atom[i],0.01,1.]) for i in 1:n_traj]\n",
    "\n",
    "#results = Output(n_bin, max_displ_vec)\n",
    "results = Output{Float64}(n_bin; en_min = mc_states[1].en_tot)\n",
    "\n"
   ]
  },
  {
   "cell_type": "code",
   "execution_count": 6,
   "metadata": {},
   "outputs": [
    {
     "name": "stdout",
     "output_type": "stream",
     "text": [
      "Total number of moves per MC cycle: 13\n",
      "\n"
     ]
    },
    {
     "ename": "MethodError",
     "evalue": "MethodError: no method matching energy_update(::StaticArraysCore.SVector{3, Float64}, ::Int64, ::Config{13, SphericalBC{Float64}, Float64}, ::Matrix{Float64}, ::ELJPotentialEven{6, Float64})\nClosest candidates are:\n  energy_update(::Any, ::Any, ::Config, ::Any, ::Any, !Matched::DFTPotential) at ~/ParallelTemperingMonteCarlo.jl/src/EnergyEvaluation.jl:246\n  energy_update(::Any, ::Any, ::Any, ::Any, ::Any, !Matched::AbstractDimerPotential) at ~/ParallelTemperingMonteCarlo.jl/src/EnergyEvaluation.jl:103\n  energy_update(::Any, ::Any, ::Any, ::Any, !Matched::AbstractMLPotential) at ~/ParallelTemperingMonteCarlo.jl/src/EnergyEvaluation.jl:110\n  ...",
     "output_type": "error",
     "traceback": [
      "MethodError: no method matching energy_update(::StaticArraysCore.SVector{3, Float64}, ::Int64, ::Config{13, SphericalBC{Float64}, Float64}, ::Matrix{Float64}, ::ELJPotentialEven{6, Float64})\n",
      "Closest candidates are:\n",
      "  energy_update(::Any, ::Any, ::Config, ::Any, ::Any, !Matched::DFTPotential) at ~/ParallelTemperingMonteCarlo.jl/src/EnergyEvaluation.jl:246\n",
      "  energy_update(::Any, ::Any, ::Any, ::Any, ::Any, !Matched::AbstractDimerPotential) at ~/ParallelTemperingMonteCarlo.jl/src/EnergyEvaluation.jl:103\n",
      "  energy_update(::Any, ::Any, ::Any, ::Any, !Matched::AbstractMLPotential) at ~/ParallelTemperingMonteCarlo.jl/src/EnergyEvaluation.jl:110\n",
      "  ...\n",
      "\n",
      "Stacktrace:\n",
      " [1] atom_move!(mc_state::MCState{Float64, 13, SphericalBC{Float64}}, i_atom::Int64, pot::ELJPotentialEven{6, Float64}, ensemble::NVT)\n",
      "   @ ParallelTemperingMonteCarlo.MCRun ~/ParallelTemperingMonteCarlo.jl/src/MCRun.jl:240\n",
      " [2] mc_step!\n",
      "   @ ~/ParallelTemperingMonteCarlo.jl/src/MCRun.jl:265 [inlined]\n",
      " [3] mc_cycle!(mc_states::Vector{MCState{Float64, 13, SphericalBC{Float64}}}, move_strat::MoveStrategy{13, 0, 0}, mc_params::MCParams, pot::ELJPotentialEven{6, Float64}, ensemble::NVT, n_steps::Int64, a::Int64, v::Int64, r::Int64)\n",
      "   @ ParallelTemperingMonteCarlo.MCRun ~/ParallelTemperingMonteCarlo.jl/src/MCRun.jl:286\n",
      " [4] ptmc_run!(mc_states::Vector{MCState{Float64, 13, SphericalBC{Float64}}}, move_strat::MoveStrategy{13, 0, 0}, mc_params::MCParams, pot::ELJPotentialEven{6, Float64}, ensemble::NVT, results::Output{Float64}; save_ham::Bool, save::Bool, restart::Bool, restartindex::Int64, save_dir::String)\n",
      "   @ ParallelTemperingMonteCarlo.MCRun ~/ParallelTemperingMonteCarlo.jl/src/MCRun.jl:902\n",
      " [5] top-level scope\n",
      "   @ ~/ParallelTemperingMonteCarlo.jl/scripts/test.ipynb:1"
     ]
    }
   ],
   "source": [
    "ptmc_run!(mc_states, move_strat, mc_params, pot, ensemble, results; save_ham = false)\n",
    "#plot(temp.t_grid,results.heat_cap)\n",
    "\n",
    "data = [results.en_histogram[i] for i in 1:n_traj]\n",
    "plot(data)"
   ]
  },
  {
   "cell_type": "code",
   "execution_count": 5,
   "metadata": {},
   "outputs": [
    {
     "name": "stdout",
     "output_type": "stream",
     "text": [
      "Beginning Equilibration\n",
      "\n",
      "\n"
     ]
    },
    {
     "ename": "TaskFailedException",
     "evalue": "TaskFailedException\n\n    nested task error: MethodError: no method matching energy_update(::StaticArraysCore.SVector{3, Float64}, ::Int64, ::Config{13, SphericalBC{Float64}, Float64}, ::Matrix{Float64}, ::ELJPotentialEven{6, Float64})\n    Closest candidates are:\n      energy_update(::Any, ::Any, ::Config, ::Any, ::Any, !Matched::DFTPotential) at ~/ParallelTemperingMonteCarlo.jl/src/EnergyEvaluation.jl:246\n      energy_update(::Any, ::Any, ::Any, ::Any, ::Any, !Matched::AbstractDimerPotential) at ~/ParallelTemperingMonteCarlo.jl/src/EnergyEvaluation.jl:103\n      energy_update(::Any, ::Any, ::Any, ::Any, !Matched::AbstractMLPotential) at ~/ParallelTemperingMonteCarlo.jl/src/EnergyEvaluation.jl:110\n      ...\n    Stacktrace:\n     [1] atom_move!(mc_state::MCState{Float64, 13, SphericalBC{Float64}}, i_atom::Int64, pot::ELJPotentialEven{6, Float64}, ensemble::NVT)\n       @ ParallelTemperingMonteCarlo.MCRun ~/ParallelTemperingMonteCarlo.jl/src/MCRun.jl:240\n     [2] mc_step!\n       @ ~/ParallelTemperingMonteCarlo.jl/src/MCRun.jl:265 [inlined]\n     [3] mc_cycle!(mc_states::Vector{MCState{Float64, 13, SphericalBC{Float64}}}, move_strat::MoveStrategy{13, 0, 0}, mc_params::MCParams, pot::ELJPotentialEven{6, Float64}, ensemble::NVT, n_steps::Int64, a::Int64, v::Int64, r::Int64)\n       @ ParallelTemperingMonteCarlo.MCRun ~/ParallelTemperingMonteCarlo.jl/src/MCRun.jl:286\n     [4] equilibration_cycle!(states::Vector{MCState{Float64, 13, SphericalBC{Float64}}}, move_strat::MoveStrategy{13, 0, 0}, mc_params::MCParams, potential::ELJPotentialEven{6, Float64}, ensemble::NVT, ebounds::Vector{Float64}, n_steps::Int64, a::Int64, v::Int64, r::Int64, dindex::Int64)\n       @ ParallelTemperingMonteCarlo.ParallelRun ~/ParallelTemperingMonteCarlo.jl/src/parallelrun.jl:26\n     [5] thermalise!(states::Vector{MCState{Float64, 13, SphericalBC{Float64}}}, move_strat::MoveStrategy{13, 0, 0}, mc_params::MCParams, potential::ELJPotentialEven{6, Float64}, ensemble::NVT, ebounds::Vector{Float64}, n_steps::Int64, a::Int64, v::Int64, r::Int64, sample_index::Int64)\n       @ ParallelTemperingMonteCarlo.ParallelRun ~/ParallelTemperingMonteCarlo.jl/src/parallelrun.jl:67\n     [6] macro expansion\n       @ ~/ParallelTemperingMonteCarlo.jl/src/parallelrun.jl:127 [inlined]\n     [7] (::ParallelTemperingMonteCarlo.ParallelRun.var\"#135#threadsfor_fun#2\"{ParallelTemperingMonteCarlo.ParallelRun.var\"#135#threadsfor_fun#1#3\"{MoveStrategy{13, 0, 0}, MCParams, NVT, Int64, Int64, Int64, Int64, Int64, UnitRange{Int64}}})(tid::Int64; onethread::Bool)\n       @ ParallelTemperingMonteCarlo.ParallelRun ./threadingconstructs.jl:84\n     [8] #135#threadsfor_fun\n       @ ./threadingconstructs.jl:51 [inlined]\n     [9] (::Base.Threads.var\"#1#2\"{ParallelTemperingMonteCarlo.ParallelRun.var\"#135#threadsfor_fun#2\"{ParallelTemperingMonteCarlo.ParallelRun.var\"#135#threadsfor_fun#1#3\"{MoveStrategy{13, 0, 0}, MCParams, NVT, Int64, Int64, Int64, Int64, Int64, UnitRange{Int64}}}, Int64})()\n       @ Base.Threads ./threadingconstructs.jl:30",
     "output_type": "error",
     "traceback": [
      "TaskFailedException\n",
      "\n",
      "    nested task error: MethodError: no method matching energy_update(::StaticArraysCore.SVector{3, Float64}, ::Int64, ::Config{13, SphericalBC{Float64}, Float64}, ::Matrix{Float64}, ::ELJPotentialEven{6, Float64})\n",
      "    Closest candidates are:\n",
      "      energy_update(::Any, ::Any, ::Config, ::Any, ::Any, !Matched::DFTPotential) at ~/ParallelTemperingMonteCarlo.jl/src/EnergyEvaluation.jl:246\n",
      "      energy_update(::Any, ::Any, ::Any, ::Any, ::Any, !Matched::AbstractDimerPotential) at ~/ParallelTemperingMonteCarlo.jl/src/EnergyEvaluation.jl:103\n",
      "      energy_update(::Any, ::Any, ::Any, ::Any, !Matched::AbstractMLPotential) at ~/ParallelTemperingMonteCarlo.jl/src/EnergyEvaluation.jl:110\n",
      "      ...\n",
      "    Stacktrace:\n",
      "     [1] atom_move!(mc_state::MCState{Float64, 13, SphericalBC{Float64}}, i_atom::Int64, pot::ELJPotentialEven{6, Float64}, ensemble::NVT)\n",
      "       @ ParallelTemperingMonteCarlo.MCRun ~/ParallelTemperingMonteCarlo.jl/src/MCRun.jl:240\n",
      "     [2] mc_step!\n",
      "       @ ~/ParallelTemperingMonteCarlo.jl/src/MCRun.jl:265 [inlined]\n",
      "     [3] mc_cycle!(mc_states::Vector{MCState{Float64, 13, SphericalBC{Float64}}}, move_strat::MoveStrategy{13, 0, 0}, mc_params::MCParams, pot::ELJPotentialEven{6, Float64}, ensemble::NVT, n_steps::Int64, a::Int64, v::Int64, r::Int64)\n",
      "       @ ParallelTemperingMonteCarlo.MCRun ~/ParallelTemperingMonteCarlo.jl/src/MCRun.jl:286\n",
      "     [4] equilibration_cycle!(states::Vector{MCState{Float64, 13, SphericalBC{Float64}}}, move_strat::MoveStrategy{13, 0, 0}, mc_params::MCParams, potential::ELJPotentialEven{6, Float64}, ensemble::NVT, ebounds::Vector{Float64}, n_steps::Int64, a::Int64, v::Int64, r::Int64, dindex::Int64)\n",
      "       @ ParallelTemperingMonteCarlo.ParallelRun ~/ParallelTemperingMonteCarlo.jl/src/parallelrun.jl:26\n",
      "     [5] thermalise!(states::Vector{MCState{Float64, 13, SphericalBC{Float64}}}, move_strat::MoveStrategy{13, 0, 0}, mc_params::MCParams, potential::ELJPotentialEven{6, Float64}, ensemble::NVT, ebounds::Vector{Float64}, n_steps::Int64, a::Int64, v::Int64, r::Int64, sample_index::Int64)\n",
      "       @ ParallelTemperingMonteCarlo.ParallelRun ~/ParallelTemperingMonteCarlo.jl/src/parallelrun.jl:67\n",
      "     [6] macro expansion\n",
      "       @ ~/ParallelTemperingMonteCarlo.jl/src/parallelrun.jl:127 [inlined]\n",
      "     [7] (::ParallelTemperingMonteCarlo.ParallelRun.var\"#135#threadsfor_fun#2\"{ParallelTemperingMonteCarlo.ParallelRun.var\"#135#threadsfor_fun#1#3\"{MoveStrategy{13, 0, 0}, MCParams, NVT, Int64, Int64, Int64, Int64, Int64, UnitRange{Int64}}})(tid::Int64; onethread::Bool)\n",
      "       @ ParallelTemperingMonteCarlo.ParallelRun ./threadingconstructs.jl:84\n",
      "     [8] #135#threadsfor_fun\n",
      "       @ ./threadingconstructs.jl:51 [inlined]\n",
      "     [9] (::Base.Threads.var\"#1#2\"{ParallelTemperingMonteCarlo.ParallelRun.var\"#135#threadsfor_fun#2\"{ParallelTemperingMonteCarlo.ParallelRun.var\"#135#threadsfor_fun#1#3\"{MoveStrategy{13, 0, 0}, MCParams, NVT, Int64, Int64, Int64, Int64, Int64, UnitRange{Int64}}}, Int64})()\n",
      "       @ Base.Threads ./threadingconstructs.jl:30\n",
      "\n",
      "Stacktrace:\n",
      " [1] wait\n",
      "   @ ./task.jl:345 [inlined]\n",
      " [2] threading_run(fun::ParallelTemperingMonteCarlo.ParallelRun.var\"#135#threadsfor_fun#2\"{ParallelTemperingMonteCarlo.ParallelRun.var\"#135#threadsfor_fun#1#3\"{MoveStrategy{13, 0, 0}, MCParams, NVT, Int64, Int64, Int64, Int64, Int64, UnitRange{Int64}}}, static::Bool)\n",
      "   @ Base.Threads ./threadingconstructs.jl:38\n",
      " [3] macro expansion\n",
      "   @ ./threadingconstructs.jl:89 [inlined]\n",
      " [4] parallel_equilibration(mc_states::Vector{MCState{Float64, 13, SphericalBC{Float64}}}, move_strat::MoveStrategy{13, 0, 0}, mc_params::MCParams, pot::ELJPotentialEven{6, Float64}, ensemble::NVT, results::Output{Float64}, n_threads::Int64, restart::Bool)\n",
      "   @ ParallelTemperingMonteCarlo.ParallelRun ~/ParallelTemperingMonteCarlo.jl/src/parallelrun.jl:126\n",
      " [5] pptmc_run!(mc_states::Vector{MCState{Float64, 13, SphericalBC{Float64}}}, move_strat::MoveStrategy{13, 0, 0}, mc_params::MCParams, pot::ELJPotentialEven{6, Float64}, ensemble::NVT, results::Output{Float64}; save_dir::String, n_threads::Int64, restart::Bool, save_configs::Bool)\n",
      "   @ ParallelTemperingMonteCarlo.ParallelRun ~/ParallelTemperingMonteCarlo.jl/src/parallelrun.jl:255\n",
      " [6] pptmc_run!(mc_states::Vector{MCState{Float64, 13, SphericalBC{Float64}}}, move_strat::MoveStrategy{13, 0, 0}, mc_params::MCParams, pot::ELJPotentialEven{6, Float64}, ensemble::NVT, results::Output{Float64})\n",
      "   @ ParallelTemperingMonteCarlo.ParallelRun ~/ParallelTemperingMonteCarlo.jl/src/parallelrun.jl:244\n",
      " [7] top-level scope\n",
      "   @ ~/ParallelTemperingMonteCarlo.jl/scripts/test.ipynb:1"
     ]
    }
   ],
   "source": [
    "pptmc_run!(mc_states,move_strat,mc_params,pot,ensemble,results)\n"
   ]
  },
  {
   "cell_type": "code",
   "execution_count": 5,
   "metadata": {},
   "outputs": [],
   "source": []
  }
 ],
 "metadata": {
  "kernelspec": {
   "display_name": "Julia 1.8.0",
   "language": "julia",
   "name": "julia-1.8"
  },
  "language_info": {
   "file_extension": ".jl",
   "mimetype": "application/julia",
   "name": "julia",
   "version": "1.8.0"
  },
  "orig_nbformat": 4
 },
 "nbformat": 4,
 "nbformat_minor": 2
}
