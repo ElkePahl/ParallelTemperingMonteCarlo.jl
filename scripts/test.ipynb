{
 "cells": [
  {
   "cell_type": "code",
   "execution_count": 21,
   "metadata": {},
   "outputs": [
    {
     "name": "stderr",
     "output_type": "stream",
     "text": [
      "\u001b[32m\u001b[1m   Resolving\u001b[22m\u001b[39m package versions...\n"
     ]
    },
    {
     "name": "stderr",
     "output_type": "stream",
     "text": [
      "\u001b[32m\u001b[1m  No Changes\u001b[22m\u001b[39m to `~/ParallelTemperingMonteCarlo.jl/Project.toml`\n",
      "\u001b[32m\u001b[1m  No Changes\u001b[22m\u001b[39m to `~/ParallelTemperingMonteCarlo.jl/Manifest.toml`\n"
     ]
    },
    {
     "name": "stderr",
     "output_type": "stream",
     "text": [
      "\u001b[32m\u001b[1mPrecompiling\u001b[22m\u001b[39m project...\n"
     ]
    },
    {
     "name": "stderr",
     "output_type": "stream",
     "text": [
      "\u001b[33m  ✓ \u001b[39mParallelTemperingMonteCarlo\n",
      "  1 dependency successfully precompiled in 3 seconds. 164 already precompiled.\n",
      "  \u001b[33m1\u001b[39m dependency precompiled but a different version is currently loaded. Restart julia to access the new version\n"
     ]
    }
   ],
   "source": [
    "using Distributed\n",
    "\n",
    "using Pkg\n",
    "\n",
    "Pkg.instantiate()\n",
    "\n",
    "@everywhere begin \n",
    "    using ParallelTemperingMonteCarlo\n",
    "    using DelimitedFiles\n",
    "    using BenchmarkTools\n",
    "end"
   ]
  },
  {
   "cell_type": "code",
   "execution_count": 8,
   "metadata": {},
   "outputs": [
    {
     "data": {
      "text/plain": [
       "Output{Float64}(100, 0.0, 0.0, Float64[], Float64[], Float64[], Vector{Float64}[], Float64[], Float64[], Float64[], Float64[], Float64[])"
      ]
     },
     "metadata": {},
     "output_type": "display_data"
    }
   ],
   "source": [
    "using Random,Plots\n",
    "\n",
    "#set random seed - for reproducibility\n",
    "Random.seed!(1234)\n",
    "\n",
    "# number of atoms\n",
    "n_atoms = 13\n",
    "\n",
    "# temperature grid\n",
    "ti = 5.\n",
    "tf = 16.\n",
    "n_traj = 32\n",
    "\n",
    "temp = TempGrid{n_traj}(ti,tf) \n",
    "\n",
    "# MC simulation details\n",
    "mc_cycles = 100000 #default 20% equilibration cycles on top\n",
    "mc_sample = 1  #sample every mc_sample MC cycles\n",
    "\n",
    "#move_atom=AtomMove(n_atoms) #move strategy (here only atom moves, n_atoms per MC cycle)\n",
    "displ_atom = 0.1 # Angstrom\n",
    "n_adjust = 100\n",
    "\n",
    "max_displ_atom = [0.1*sqrt(displ_atom*temp.t_grid[i]) for i in 1:n_traj]\n",
    "\n",
    "mc_params = MCParams(mc_cycles, n_traj, n_atoms, mc_sample = mc_sample, n_adjust = n_adjust, eq_percentage = 1)\n",
    "\n",
    "#moves - allowed at present: atom, volume and rotation moves (volume,rotation not yet implemented)\n",
    "move_strat = MoveStrategy(atom_moves = n_atoms)  \n",
    "\n",
    "#ensemble\n",
    "ensemble = NVT(n_atoms)\n",
    "\n",
    "#ELJpotential for neon\n",
    "#c1=[-10.5097942564988, 0., 989.725135614556, 0., -101383.865938807, 0., 3918846.12841668, 0., -56234083.4334278, 0., 288738837.441765]\n",
    "#elj_ne1 = ELJPotential{11}(c1)\n",
    "\n",
    "c=[-10.5097942564988, 989.725135614556, -101383.865938807, 3918846.12841668, -56234083.4334278, 288738837.441765]\n",
    "pot = ELJPotentialEven{6}(c)\n",
    "\n",
    "#starting configurations\n",
    "#icosahedral ground state of Ne13 (from Cambridge cluster database) in Angstrom\n",
    "pos_ne13 = [[2.825384495892464, 0.928562467914040, 0.505520149314310],\n",
    "[2.023342172678102,\t-2.136126268595355, 0.666071287554958],\n",
    "[2.033761811732818,\t-0.643989413759464, -2.133000349161121],\n",
    "[0.979777205108572,\t2.312002562803556, -1.671909307631893],\n",
    "[0.962914279874254,\t-0.102326586625353, 2.857083360096907],\n",
    "[0.317957619634043,\t2.646768968413408, 1.412132053672896],\n",
    "[-2.825388342924982, -0.928563755928189, -0.505520471387560],\n",
    "[-0.317955944853142, -2.646769840660271, -1.412131825293682],\n",
    "[-0.979776174195320, -2.312003751825495, 1.671909138648006],\n",
    "[-0.962916072888105, 0.102326392265998,\t-2.857083272537599],\n",
    "[-2.023340541398004, 2.136128558801072,\t-0.666071089291685],\n",
    "[-2.033762834001679, 0.643989905095452, 2.132999911364582],\n",
    "[0.000002325340981,\t0.000000762100600, 0.000000414930733]]\n",
    "\n",
    "#convert to Bohr\n",
    "AtoBohr = 1.8897259886\n",
    "pos_ne13 = pos_ne13 * AtoBohr\n",
    "\n",
    "length(pos_ne13) == n_atoms || error(\"number of atoms and positions not the same - check starting config\")\n",
    "\n",
    "#boundary conditions \n",
    "bc_ne13 = SphericalBC(radius=12.0*AtoBohr)   #5.32 Angstrom\n",
    "\n",
    "#starting configuration\n",
    "start_config = Config(pos_ne13, bc_ne13)\n",
    "\n",
    "#histogram information\n",
    "n_bin = 100\n",
    "#en_min = -0.006    #might want to update after equilibration run if generated on the fly\n",
    "#en_max = -0.001    #otherwise will be determined after run as min/max of sampled energies (ham vector)\n",
    "\n",
    "#construct array of MCState (for each temperature)\n",
    "mc_states = [MCState(temp.t_grid[i], temp.beta_grid[i], start_config, pot; max_displ=[max_displ_atom[i],0.01,1.]) for i in 1:n_traj]\n",
    "\n",
    "#results = Output(n_bin, max_displ_vec)\n",
    "results = Output{Float64}(n_bin; en_min = mc_states[1].en_tot)\n",
    "\n"
   ]
  },
  {
   "cell_type": "code",
   "execution_count": 18,
   "metadata": {},
   "outputs": [
    {
     "data": {
      "text/plain": [
       "100"
      ]
     },
     "metadata": {},
     "output_type": "display_data"
    }
   ],
   "source": [
    "using Random\n",
    "@everywhere import ..MCRun: initialise_histograms!,updatehistogram!,update_max_stepsize!,sampling_step!,save_results,save_states\n",
    "Random.seed!(1234)\n",
    "\n",
    "# number of atoms\n",
    "n_atoms = 13\n",
    "\n",
    "# temperature grid\n",
    "ti = 50.\n",
    "tf = 160.\n",
    "n_traj = 16\n",
    "\n",
    "temp = TempGrid{n_traj}(ti,tf) \n",
    "\n",
    "# MC simulation details\n",
    "mc_cycles = 1000 #default 20% equilibration cycles on top\n",
    "mc_sample = 1  #sample every mc_sample MC cycles\n",
    "\n",
    "# runnerdir = \"/home/ghun245/RuNNer-master/Brass_potential/\"\n",
    "# atomtype=\"Cu\"\n",
    "# pot = AbstractMLPotential(runnerdir,atomtype)\n",
    "\n",
    "#move_atom=AtomMove(n_atoms) #move strategy (here only atom moves, n_atoms per MC cycle)\n",
    "displ_atom = 0.1 # Angstrom\n",
    "n_adjust = 100\n",
    "\n",
    "max_displ_atom = [0.1*sqrt(displ_atom*temp.t_grid[i]) for i in 1:n_traj]\n",
    "\n",
    "mc_params = MCParams(mc_cycles, n_traj, n_atoms, mc_sample = mc_sample, n_adjust = n_adjust, eq_percentage = 1)\n",
    "\n",
    "#moves - allowed at present: atom, volume and rotation moves (volume,rotation not yet implemented)\n",
    "move_strat = MoveStrategy(atom_moves = n_atoms)  \n",
    "\n",
    "#ensemble\n",
    "ensemble = NVT(n_atoms)\n",
    "#icosahedral ground state of Ne13 (from Cambridge cluster database) in Angstrom\n",
    "ico_13  = [[-0.0000000049,       -0.0000000044,       -0.0000000033],\n",
    "[-0.0000007312,       -0.0000000014,        0.6554619119],\n",
    " [0.1811648930,      -0.5575692094,        0.2931316798],\n",
    "[-0.4742970242,       -0.3445967289,        0.2931309525],\n",
    "[-0.4742970303,        0.3445967144,        0.2931309494],\n",
    " [0.1811648830,        0.5575692066,        0.2931316748],\n",
    " [0.5862626299,        0.0000000022,        0.2931321262],\n",
    "[-0.1811648928,       -0.5575692153,       -0.2931316813],\n",
    "[-0.5862626397,       -0.0000000109,       -0.2931321327],\n",
    "[-0.1811649028,        0.5575692007,       -0.2931316863],\n",
    " [0.4742970144,        0.3445967202,       -0.2931309590],\n",
    " [0.4742970205,       -0.3445967231,       -0.2931309559],\n",
    " [0.0000007214,       -0.0000000073,       -0.6554619185]]\n",
    "\n",
    "#convert to Bohr\n",
    "nmtobohr = 18.8973\n",
    "copperconstant = 0.36258*nmtobohr\n",
    "pos_cu13 = copperconstant*ico_13*1.5\n",
    "AtoBohr = 1.8897259886\n",
    "\n",
    "\n",
    "#boundary conditions \n",
    "bc_cu13 = SphericalBC(radius=12.0*AtoBohr)   #5.32 Angstrom\n",
    "\n",
    "#starting configuration\n",
    "start_config = Config(pos_cu13, bc_cu13)\n",
    "\n",
    "#histogram information\n",
    "n_bin = 100\n",
    "#en_min = -0.006    #might want to update after equilibration run if generated on the fly\n",
    "#en_max = -0.001    #otherwise will be determined after run as min/max of sampled energies (ham vector)\n",
    "\n",
    "#construct array of MCState (for each temperature)\n",
    "# mc_states = [MCState(temp.t_grid[i], temp.beta_grid[i], start_config, pot; max_displ=[max_displ_atom[i],0.01,1.]) for i in 1:n_traj]\n",
    "\n",
    "# #results = Output(n_bin, max_displ_vec)\n",
    "# results = Output{Float64}(n_bin; en_min = mc_states[1].en_tot)\n",
    "\n",
    "# cd(\"/home/ghun245/ParallelTemperingMonteCarlo.jl/scripts\")\n",
    "\n"
   ]
  },
  {
   "cell_type": "code",
   "execution_count": 13,
   "metadata": {},
   "outputs": [
    {
     "data": {
      "text/plain": [
       "parallel_equilibration (generic function with 1 method)"
      ]
     },
     "metadata": {},
     "output_type": "display_data"
    }
   ],
   "source": [
    "# function init_parallel_RuNNer(pot::AbstractMLPotential; n_threads = Threads.nthreads())\n",
    "#     if isdir(\"pots\") == true\n",
    "#         rm(\"pots\",recursive = true)\n",
    "#     end\n",
    "#     potential_directory = mkdir(\"$(pwd())/pots\")\n",
    "#     potential_vector = []\n",
    "#     for i = 1:n_threads\n",
    "#         # n_threads potentials\n",
    "#         cp(pot.dir,\"$(potential_directory)/potential$i\")\n",
    "#         pot_i = AbstractMLPotential(\"$(potential_directory)/potential$i/\",pot.atomtype)\n",
    "#         push!(potential_vector,pot_i)\n",
    "#     end\n",
    "        \n",
    "#     return potential_vector        \n",
    "# end\n",
    "\n",
    "# function parallel_equilibration(mc_states,move_strat,mc_params,pot,ensemble,results)\n",
    "#     parallel_states = []\n",
    "\n",
    "#     pot_vector = init_parallel_RuNNer(pot) #initialise state and potentials\n",
    "\n",
    "#     n_threads = Threads.nthreads()\n",
    "#     sample_index = Int64(floor(mc_params.eq_cycles / n_threads)) #number of eq cycles per thread\n",
    "\n",
    "#     a = atom_move_frequency(move_strat)\n",
    "#     v = vol_move_frequency(move_strat)\n",
    "#     r = rot_move_frequency(move_strat)\n",
    "#     #number of MC steps per MC cycle\n",
    "#     n_steps = a + v + r\n",
    "\n",
    "#     println(\"Total number of moves per MC cycle: \", n_steps)\n",
    "#     println()\n",
    "\n",
    "#     ebounds = [100. , -100.]\n",
    "\n",
    "#     for i_thread = 1:n_threads\n",
    "#         for i_eq = 1:sample_index\n",
    "            \n",
    "#             i = i_thread*sample_index + i_eq\n",
    "\n",
    "#             mc_states = mc_cycle!(mc_states, move_strat, mc_params, pot_vector[i_thread], ensemble, n_steps, a, v, r)#mc cycle\n",
    "            \n",
    "#             for i_traj = 1:mc_params.n_traj#check energy bounds\n",
    "#                 if mc_states[i_traj].en_tot < ebounds[1]\n",
    "#                     ebounds[1] = mc_states[i_traj].en_tot\n",
    "#                 end\n",
    "\n",
    "#                 if mc_states[i_traj].en_tot > ebounds[2]\n",
    "#                     ebounds[2] = mc_states[i_traj].en_tot\n",
    "#                 end\n",
    "\n",
    "#             end\n",
    "\n",
    "#             if rem(i, mc_params.n_adjust) == 0 #adjust stepsize\n",
    "#                 for i_traj = 1:mc_params.n_traj\n",
    "#                     update_max_stepsize!(mc_states[i_traj], mc_params.n_adjust, a, v, r)\n",
    "#                 end \n",
    "#             end\n",
    "\n",
    "#         end\n",
    "        \n",
    "#         states_vec = [MCState(mc_states[i_traj].temp,mc_states[i_traj].beta,mc_states[i_traj].config,pot_vector[i_thread];max_displ = mc_states[i_traj].max_displ ) for i_traj in 1:mc_params.n_traj] #initialise a new mc_states vector based on current state\n",
    "\n",
    "#         for i_traj = 1:mc_params.n_traj\n",
    "#             push!(states_vec[i_traj].ham, 0)\n",
    "#             push!(states_vec[i_traj].ham, 0)\n",
    "#         end\n",
    "\n",
    "#         push!(parallel_states,states_vec) #add to vector of parallel states\n",
    "\n",
    "\n",
    "#     end\n",
    "    \n",
    "    \n",
    "\n",
    "#     delta_en = initialise_histograms!(mc_params,mc_states,results, full_ham=false,e_bounds=ebounds) #start histogram\n",
    "\n",
    "#     println(\"equilibration done\")\n",
    "    \n",
    "#     return parallel_states,pot_vector,a,v,r,delta_en,n_threads\n",
    "\n",
    "# end"
   ]
  },
  {
   "cell_type": "code",
   "execution_count": 14,
   "metadata": {},
   "outputs": [],
   "source": [
    "@everywhere function threadexchange(parallel_states,n_threads,idx)\n",
    "    if rand() < 0.2  #20% change per trajectory of an attempted exchange\n",
    "        thrid = rand(1:n_threads,2)\n",
    "        if thrid[1] == thrid[2] && thrid[2] == n_threads\n",
    "            thrid[2] = rand(1:n_threads-1)\n",
    "        elseif thrid[1] == thrid[2] && thrid[2] != n_threads\n",
    "            thrid[2] +=1\n",
    "        end #which threads are talking\n",
    "\n",
    "        exc_acc = exc_acceptance(parallel_states[thrid[1]][idx].beta,parallel_states[thrid[2]][idx].beta,parallel_states[thrid[1]][idx].en_tot,parallel_states[thrid[2]][idx].en_tot) #calc acceptance\n",
    "        \n",
    "        if exc_acc > rand() #if exchange is likely\n",
    "            exc_trajectories!(parallel_states[thrid[1]][idx] ,parallel_states[thrid[2]][idx] )#swap\n",
    "        end\n",
    "     end\n",
    "    \n",
    "end\n",
    "\n"
   ]
  },
  {
   "cell_type": "code",
   "execution_count": 9,
   "metadata": {},
   "outputs": [
    {
     "data": {
      "text/plain": [
       "AbstractMLPotential(\"/home/ghun245/RuNNer-testing/Brass_potential/\", \"Cu\")"
      ]
     },
     "metadata": {},
     "output_type": "display_data"
    }
   ],
   "source": [
    "runnerdir = \"/home/ghun245/RuNNer-testing/Brass_potential/\"\n",
    "atomtype=\"Cu\"\n",
    "pot = AbstractMLPotential(runnerdir,atomtype)\n",
    "RuNNer.getRuNNerenergy(runnerdir,1;input_idx=2)"
   ]
  },
  {
   "cell_type": "code",
   "execution_count": 11,
   "metadata": {},
   "outputs": [
    {
     "data": {
      "text/plain": [
       "MCState"
      ]
     },
     "metadata": {},
     "output_type": "display_data"
    }
   ],
   "source": [
    "struct ParallelMLPotential <: AbstractPotential\n",
    "    dir::String\n",
    "    atomtype::String\n",
    "    index::Int64\n",
    "end\n",
    "function MCState(temp,beta, config::Config, pot::ParallelMLPotential;kwargs...)\n",
    "    dist2_mat = get_distance2_mat(config)\n",
    "    n_atoms = length(config.pos)\n",
    "    en_atom_vec = zeros(n_atoms)\n",
    "    \n",
    "    en_tot = RuNNer.getenergy(pot.dir, config,pot.atomtype,pot.index)\n",
    "\n",
    "\n",
    "    MCState(temp, beta, config, dist2_mat, en_atom_vec, en_tot; kwargs...)\n",
    "end"
   ]
  },
  {
   "cell_type": "code",
   "execution_count": 16,
   "metadata": {},
   "outputs": [],
   "source": [
    "pot_dir = []\n",
    "for i =1:Threads.nthreads()\n",
    "    potential=ParallelMLPotential(runnerdir,\"Cu\",i)\n",
    "    push!(pot_dir,potential)\n",
    "end\n"
   ]
  },
  {
   "cell_type": "code",
   "execution_count": 22,
   "metadata": {},
   "outputs": [
    {
     "ename": "MethodError",
     "evalue": "MethodError: no method matching getenergy(::String, ::Config{13, SphericalBC{Float64}, Float64}, ::String, ::Int64)\nClosest candidates are:\n  getenergy(::Any, ::Config, ::Any, ::Any, !Matched::StaticArraysCore.SVector) at ~/ParallelTemperingMonteCarlo.jl/src/RuNNer.jl:235\n  getenergy(::Any, ::Config, ::Any) at ~/ParallelTemperingMonteCarlo.jl/src/RuNNer.jl:227",
     "output_type": "error",
     "traceback": [
      "MethodError: no method matching getenergy(::String, ::Config{13, SphericalBC{Float64}, Float64}, ::String, ::Int64)\n",
      "Closest candidates are:\n",
      "  getenergy(::Any, ::Config, ::Any, ::Any, !Matched::StaticArraysCore.SVector) at ~/ParallelTemperingMonteCarlo.jl/src/RuNNer.jl:235\n",
      "  getenergy(::Any, ::Config, ::Any) at ~/ParallelTemperingMonteCarlo.jl/src/RuNNer.jl:227\n",
      "\n",
      "Stacktrace:\n",
      " [1] MCState(temp::Float64, beta::Float64, config::Config{13, SphericalBC{Float64}, Float64}, pot::ParallelMLPotential; kwargs::Base.Pairs{Symbol, Vector{Float64}, Tuple{Symbol}, NamedTuple{(:max_displ,), Tuple{Vector{Float64}}}})\n",
      "   @ Main ~/ParallelTemperingMonteCarlo.jl/scripts/test.ipynb:11\n",
      " [2] (::var\"#20#21\")(i::Int64)\n",
      "   @ Main ./none:0\n",
      " [3] iterate\n",
      "   @ ./generator.jl:47 [inlined]\n",
      " [4] collect(itr::Base.Generator{UnitRange{Int64}, var\"#20#21\"})\n",
      "   @ Base ./array.jl:787\n",
      " [5] top-level scope\n",
      "   @ ~/ParallelTemperingMonteCarlo.jl/scripts/test.ipynb:1"
     ]
    }
   ],
   "source": [
    "mc_states = [MCState(temp.t_grid[i], temp.beta_grid[i], start_config, pot_dir[i]; max_displ=[max_displ_atom[i],0.01,1.]) for i in 1:n_traj]\n",
    "\n",
    "results = Output(n_bin, max_displ_vec)"
   ]
  },
  {
   "cell_type": "code",
   "execution_count": null,
   "metadata": {},
   "outputs": [],
   "source": []
  }
 ],
 "metadata": {
  "kernelspec": {
   "display_name": "Julia 1.8.0",
   "language": "julia",
   "name": "julia-1.8"
  },
  "language_info": {
   "file_extension": ".jl",
   "mimetype": "application/julia",
   "name": "julia",
   "version": "1.8.0"
  },
  "orig_nbformat": 4
 },
 "nbformat": 4,
 "nbformat_minor": 2
}
