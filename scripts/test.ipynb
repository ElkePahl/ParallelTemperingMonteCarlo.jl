{
 "cells": [
  {
   "cell_type": "code",
   "execution_count": 2,
   "metadata": {},
   "outputs": [],
   "source": [
    "using ParallelTemperingMonteCarlo\n",
    "using Random\n"
   ]
  },
  {
   "cell_type": "code",
   "execution_count": 3,
   "metadata": {},
   "outputs": [],
   "source": [
    "# using Pkg\n",
    "# Pkg.add(\"BenchmarkTools\")\n",
    "using BenchmarkTools"
   ]
  },
  {
   "cell_type": "code",
   "execution_count": 4,
   "metadata": {},
   "outputs": [
    {
     "data": {
      "text/plain": [
       "Output{Float64}(100, 0.0, 0.0, Float64[], Float64[], Float64[], Vector{Float64}[], Vector{Float64}[], Float64[], Float64[], Float64[], Float64[])"
      ]
     },
     "metadata": {},
     "output_type": "display_data"
    }
   ],
   "source": [
    "Random.seed!(1234)\n",
    "\n",
    "# number of atoms\n",
    "n_atoms = 13\n",
    "\n",
    "# temperature grid\n",
    "ti = 5.\n",
    "tf = 16.\n",
    "n_traj = 32\n",
    "\n",
    "temp = TempGrid{n_traj}(ti,tf) \n",
    "\n",
    "# MC simulation details\n",
    "\n",
    "mc_cycles = 20000 #default 20% equilibration cycles on top\n",
    "\n",
    "mc_sample = 1  #sample every mc_sample MC cycles\n",
    "\n",
    "#move_atom=AtomMove(n_atoms) #move strategy (here only atom moves, n_atoms per MC cycle)\n",
    "displ_atom = 0.1 # Angstrom\n",
    "n_adjust = 100\n",
    "\n",
    "max_displ_atom = [0.1*sqrt(displ_atom*temp.t_grid[i]) for i in 1:n_traj]\n",
    "\n",
    "mc_params = MCParams(mc_cycles, n_traj, n_atoms, mc_sample = mc_sample, n_adjust = n_adjust)\n",
    "\n",
    "#moves - allowed at present: atom, volume and rotation moves (volume,rotation not yet implemented)\n",
    "move_strat = MoveStrategy(atom_moves = n_atoms)  \n",
    "\n",
    "#ensemble\n",
    "ensemble = NVT(n_atoms)\n",
    "\n",
    "#ELJpotential for neon\n",
    "#c1=[-10.5097942564988, 0., 989.725135614556, 0., -101383.865938807, 0., 3918846.12841668, 0., -56234083.4334278, 0., 288738837.441765]\n",
    "#elj_ne1 = ELJPotential{11}(c1)\n",
    "\n",
    "c=[-10.5097942564988, 989.725135614556, -101383.865938807, 3918846.12841668, -56234083.4334278, 288738837.441765]\n",
    "pot = ELJPotentialEven{6}(c)\n",
    "\n",
    "#starting configurations\n",
    "#icosahedral ground state of Ne13 (from Cambridge cluster database) in Angstrom\n",
    "pos_ne13 = [[2.825384495892464, 0.928562467914040, 0.505520149314310],\n",
    "[2.023342172678102,\t-2.136126268595355, 0.666071287554958],\n",
    "[2.033761811732818,\t-0.643989413759464, -2.133000349161121],\n",
    "[0.979777205108572,\t2.312002562803556, -1.671909307631893],\n",
    "[0.962914279874254,\t-0.102326586625353, 2.857083360096907],\n",
    "[0.317957619634043,\t2.646768968413408, 1.412132053672896],\n",
    "[-2.825388342924982, -0.928563755928189, -0.505520471387560],\n",
    "[-0.317955944853142, -2.646769840660271, -1.412131825293682],\n",
    "[-0.979776174195320, -2.312003751825495, 1.671909138648006],\n",
    "[-0.962916072888105, 0.102326392265998,\t-2.857083272537599],\n",
    "[-2.023340541398004, 2.136128558801072,\t-0.666071089291685],\n",
    "[-2.033762834001679, 0.643989905095452, 2.132999911364582],\n",
    "[0.000002325340981,\t0.000000762100600, 0.000000414930733]]\n",
    "\n",
    "#convert to Bohr\n",
    "AtoBohr = 1.8897259886\n",
    "pos_ne13 = pos_ne13 * AtoBohr\n",
    "\n",
    "length(pos_ne13) == n_atoms || error(\"number of atoms and positions not the same - check starting config\")\n",
    "\n",
    "#boundary conditions \n",
    "bc_ne13 = SphericalBC(radius=5.32*AtoBohr)   #5.32 Angstrom\n",
    "\n",
    "#starting configuration\n",
    "start_config = Config(pos_ne13, bc_ne13)\n",
    "\n",
    "#histogram information\n",
    "n_bin = 100\n",
    "#en_min = -0.006    #might want to update after equilibration run if generated on the fly\n",
    "#en_max = -0.001    #otherwise will be determined after run as min/max of sampled energies (ham vector)\n",
    "\n",
    "#construct array of MCState (for each temperature)\n",
    "mc_states = [MCState(temp.t_grid[i], temp.beta_grid[i], start_config, pot) for i in 1:n_traj]\n",
    "\n",
    "#results = Output(n_bin, max_displ_vec)\n",
    "results = Output{Float64}(n_bin; en_min = mc_states[1].en_tot)"
   ]
  },
  {
   "cell_type": "code",
   "execution_count": 24,
   "metadata": {},
   "outputs": [
    {
     "data": {
      "text/plain": [
       "5-element Vector{Int64}:\n",
       " 1\n",
       " 2\n",
       " 3\n",
       " 4\n",
       " 5"
      ]
     },
     "metadata": {},
     "output_type": "display_data"
    }
   ],
   "source": [
    "testvec = []\n",
    "\n",
    "for j in 1:5\n",
    "    tt = zeros(5)\n",
    "    push!(testvec,tt)\n",
    "end\n",
    "indices = Array(1:5)\n",
    "function mutearray(index,vector)\n",
    "    vec[index] +=1\n",
    "end\n",
    "\n",
    "mutearray(indices[1],testvec[1])\n",
    "broadcast(mutearray,indices,testvec)\n",
    "testvec"
   ]
  },
  {
   "cell_type": "code",
   "execution_count": 10,
   "metadata": {},
   "outputs": [
    {
     "name": "stdout",
     "output_type": "stream",
     "text": [
      "Total number of moves per MC cycle: 13\n",
      "\n"
     ]
    },
    {
     "name": "stdout",
     "output_type": "stream",
     "text": [
      "equilibration done\n"
     ]
    },
    {
     "name": "stdout",
     "output_type": "stream",
     "text": [
      "MC loop done.\n"
     ]
    },
    {
     "name": "stdout",
     "output_type": "stream",
     "text": [
      "[0.00034224645072504614, 0.0003455660633384812, 0.0003586503581991548, 0.00036990359099924427, 0.0003803982593610761, 0.00045627696191242567, 0.0004195162094081378, 0.0004771578466950622, 0.00047275735439122787, 0.0005248093840288748, 0.0004995957314219647, 0.0005889027794678553, 0.0007573597256781532, 0.0006579211970061152, 0.0007477559631345421, 0.0010802942126791077, 0.0009661836407038012, 0.0014193757612390807, 0.0010035360936692008, 0.0012674214587078355, 0.0018429344718856237, 0.002965415079065907, 0.0023640644103088524, 0.0026803461550051083, 0.003186790801170793, 0.003952459084642581, 0.0033873284402009935, 0.003319541495458708, 0.0026370960977762535, 0.0021253263821210617, 0.0024132794149659604, 0.002459565431564028]\n",
      "done\n"
     ]
    }
   ],
   "source": [
    "ptmc_run!(mc_states, move_strat, mc_params, pot, ensemble, results; save_ham = false)"
   ]
  },
  {
   "cell_type": "code",
   "execution_count": 36,
   "metadata": {},
   "outputs": [
    {
     "data": {
      "text/plain": [
       "20000.0"
      ]
     },
     "metadata": {},
     "output_type": "display_data"
    }
   ],
   "source": [
    "sum(results.en_histogram[1])"
   ]
  },
  {
   "cell_type": "code",
   "execution_count": 42,
   "metadata": {},
   "outputs": [
    {
     "data": {
      "text/plain": [
       "update_histogram! (generic function with 1 method)"
      ]
     },
     "metadata": {},
     "output_type": "display_data"
    }
   ],
   "source": [
    "function find_hist_index(mc_state,results,delta_en_hist)\n",
    "    hist_index = floor(Int,(mc_state.en_tot - results.en_min)/delta_en_hist ) +1\n",
    "\n",
    "    if hist_index < 1\n",
    "        return 1\n",
    "    elseif hist_index > results.n_bin\n",
    "        return results.n_bin+2\n",
    "    else\n",
    "        return hist_index +1\n",
    "    end\n",
    "end\n",
    "\"\"\"\n",
    "    update_one_histval!(histogram,index)\n",
    "To be used in conjunction with the find index function above to correctly update the overall results.en_histogram vector of vectors. See the updat_histogram! function defined below.\n",
    "\"\"\"\n",
    "function update_one_histval!(histogram,index)\n",
    "    histogram[index] += 1\n",
    "end\n",
    "\n",
    "function update_histogram!(mc_states,results,delta_en_hist)\n",
    "    indices = find_hist_index.(mc_states,Ref(results),Ref(delta_en_hist))\n",
    "    broadcast(update_one_histval!,results.en_histogram,indices)\n",
    "end\n",
    "# delta_en_hist = (results.en_max - results.en_min)/(results.n_bin - 1)\n",
    "# update_histogram!(mc_states,results,delta_en_hist)\n",
    "\n",
    "# sum(results.en_histogram[1])\n",
    "results.en_histogram[1][13]\n",
    "# find_hist_index(mc_states[1],results,delta_en_hist)"
   ]
  },
  {
   "attachments": {},
   "cell_type": "markdown",
   "metadata": {},
   "source": [
    "To test this afternoon: write new ptmc_cycle function and benchmark against existing function"
   ]
  },
  {
   "cell_type": "code",
   "execution_count": 16,
   "metadata": {},
   "outputs": [],
   "source": [
    "import ParallelTemperingMonteCarlo.MCSampling.sampling_step!"
   ]
  },
  {
   "cell_type": "code",
   "execution_count": 26,
   "metadata": {},
   "outputs": [
    {
     "data": {
      "text/plain": [
       "BenchmarkTools.Trial: 9108 samples with 1 evaluation.\n",
       " Range \u001b[90m(\u001b[39m\u001b[36m\u001b[1mmin\u001b[22m\u001b[39m … \u001b[35mmax\u001b[39m\u001b[90m):  \u001b[39m\u001b[36m\u001b[1m446.809 μs\u001b[22m\u001b[39m … \u001b[35m  3.872 ms\u001b[39m  \u001b[90m┊\u001b[39m GC \u001b[90m(\u001b[39mmin … max\u001b[90m): \u001b[39m0.00% … 83.09%\n",
       " Time  \u001b[90m(\u001b[39m\u001b[34m\u001b[1mmedian\u001b[22m\u001b[39m\u001b[90m):     \u001b[39m\u001b[34m\u001b[1m484.043 μs               \u001b[22m\u001b[39m\u001b[90m┊\u001b[39m GC \u001b[90m(\u001b[39mmedian\u001b[90m):    \u001b[39m0.00%\n",
       " Time  \u001b[90m(\u001b[39m\u001b[32m\u001b[1mmean\u001b[22m\u001b[39m ± \u001b[32mσ\u001b[39m\u001b[90m):   \u001b[39m\u001b[32m\u001b[1m547.293 μs\u001b[22m\u001b[39m ± \u001b[32m269.199 μs\u001b[39m  \u001b[90m┊\u001b[39m GC \u001b[90m(\u001b[39mmean ± σ\u001b[90m):  \u001b[39m4.69% ±  8.17%\n",
       "\n",
       "  \u001b[39m█\u001b[34m \u001b[39m\u001b[39m \u001b[32m \u001b[39m\u001b[39m \u001b[39m \u001b[39m \u001b[39m \u001b[39m \u001b[39m \u001b[39m \u001b[39m \u001b[39m \u001b[39m \u001b[39m \u001b[39m \u001b[39m \u001b[39m \u001b[39m \u001b[39m \u001b[39m \u001b[39m \u001b[39m \u001b[39m \u001b[39m \u001b[39m \u001b[39m \u001b[39m \u001b[39m \u001b[39m \u001b[39m \u001b[39m \u001b[39m \u001b[39m \u001b[39m \u001b[39m \u001b[39m \u001b[39m \u001b[39m \u001b[39m \u001b[39m \u001b[39m \u001b[39m \u001b[39m \u001b[39m \u001b[39m \u001b[39m \u001b[39m \u001b[39m \u001b[39m \u001b[39m \u001b[39m \u001b[39m \u001b[39m \u001b[39m \u001b[39m \u001b[39m \u001b[39m \u001b[39m \u001b[39m \u001b[39m \u001b[39m \u001b[39m \n",
       "  \u001b[39m█\u001b[34m▆\u001b[39m\u001b[39m▂\u001b[32m▃\u001b[39m\u001b[39m▇\u001b[39m▃\u001b[39m▂\u001b[39m▂\u001b[39m▁\u001b[39m▁\u001b[39m▁\u001b[39m▂\u001b[39m▁\u001b[39m▁\u001b[39m▁\u001b[39m▁\u001b[39m▁\u001b[39m▁\u001b[39m▁\u001b[39m▁\u001b[39m▁\u001b[39m▁\u001b[39m▁\u001b[39m▁\u001b[39m▁\u001b[39m▁\u001b[39m▁\u001b[39m▁\u001b[39m▁\u001b[39m▁\u001b[39m▁\u001b[39m▁\u001b[39m▁\u001b[39m▁\u001b[39m▁\u001b[39m▁\u001b[39m▁\u001b[39m▁\u001b[39m▁\u001b[39m▁\u001b[39m▁\u001b[39m▁\u001b[39m▁\u001b[39m▁\u001b[39m▁\u001b[39m▁\u001b[39m▁\u001b[39m▁\u001b[39m▁\u001b[39m▁\u001b[39m▁\u001b[39m▁\u001b[39m▁\u001b[39m▁\u001b[39m▁\u001b[39m▁\u001b[39m▁\u001b[39m▁\u001b[39m▁\u001b[39m▁\u001b[39m▂\u001b[39m \u001b[39m▂\n",
       "  447 μs\u001b[90m           Histogram: frequency by time\u001b[39m          2.9 ms \u001b[0m\u001b[1m<\u001b[22m\n",
       "\n",
       " Memory estimate\u001b[90m: \u001b[39m\u001b[33m701.02 KiB\u001b[39m, allocs estimate\u001b[90m: \u001b[39m\u001b[33m3909\u001b[39m."
      ]
     },
     "metadata": {},
     "output_type": "display_data"
    }
   ],
   "source": [
    "@benchmark ptmc_cycle!($mc_states,$results,move_strat,mc_params,pot,ensemble,55,55,0,0,false,false,1000,pwd(),delta_en_hist=delta_en_hist)"
   ]
  },
  {
   "cell_type": "code",
   "execution_count": 28,
   "metadata": {},
   "outputs": [
    {
     "data": {
      "text/plain": [
       "3.083946926850007e-5"
      ]
     },
     "metadata": {},
     "output_type": "display_data"
    }
   ],
   "source": [
    "delta_en_hist = (results.en_max - results.en_min) / (results.n_bin - 1)"
   ]
  },
  {
   "cell_type": "code",
   "execution_count": 29,
   "metadata": {},
   "outputs": [
    {
     "data": {
      "text/plain": [
       "0.8085575246693822"
      ]
     },
     "metadata": {},
     "output_type": "display_data"
    }
   ],
   "source": [
    "function testptmc_cycle(mc_states,results,move_strat,mc_params,pot,ensemble,n_steps,a,v,r,delta_en_hist,delta_r2)\n",
    "    mc_states = mc_cycle!(mc_states,move_strat,mc_params,pot,ensemble,n_steps,a,v,r)\n",
    "    mc_states,results = sampling_step!(mc_params,mc_states,1000,results,delta_en_hist,delta_r2)\n",
    "    if rem(i,mc_params.n_adjust) == 0\n",
    "        broadcast(mc_states,Ref(mc_params.n_adjust),Ref(a),Ref(v),Ref(r))\n",
    "    end\n",
    "\n",
    "    return mc_states,results\n",
    "end\n",
    "\n",
    "delta_r2 = 4*mc_states[1].config.bc.radius2/(results.n_bin*5)"
   ]
  },
  {
   "cell_type": "code",
   "execution_count": 32,
   "metadata": {},
   "outputs": [
    {
     "ename": "BoundsError",
     "evalue": "BoundsError: attempt to access 500-element Vector{Float64} at index [0]",
     "output_type": "error",
     "traceback": [
      "BoundsError: attempt to access 500-element Vector{Float64} at index [0]\n",
      "\n",
      "Stacktrace:\n",
      "  [1] getindex\n",
      "    @ ./array.jl:924 [inlined]\n",
      "  [2] update_one_histval!\n",
      "    @ ~/Documents/ParallelTemperingMonteCarlo.jl/src/Sampling.jl:63 [inlined]\n",
      "  [3] _broadcast_getindex_evalf\n",
      "    @ ./broadcast.jl:670 [inlined]\n",
      "  [4] _broadcast_getindex\n",
      "    @ ./broadcast.jl:643 [inlined]\n",
      "  [5] getindex\n",
      "    @ ./broadcast.jl:597 [inlined]\n",
      "  [6] macro expansion\n",
      "    @ ./broadcast.jl:961 [inlined]\n",
      "  [7] macro expansion\n",
      "    @ ./simdloop.jl:77 [inlined]\n",
      "  [8] copyto!\n",
      "    @ ./broadcast.jl:960 [inlined]\n",
      "  [9] copyto!\n",
      "    @ ./broadcast.jl:913 [inlined]\n",
      " [10] copy\n",
      "    @ ./broadcast.jl:885 [inlined]\n",
      " [11] materialize\n",
      "    @ ./broadcast.jl:860 [inlined]\n",
      " [12] broadcast(::typeof(ParallelTemperingMonteCarlo.MCSampling.update_one_histval!), ::Base.RefValue{Vector{Float64}}, ::Matrix{Int64})\n",
      "    @ Base.Broadcast ./broadcast.jl:798\n",
      " [13] update_one_rdf!\n",
      "    @ ~/Documents/ParallelTemperingMonteCarlo.jl/src/Sampling.jl:87 [inlined]\n",
      " [14] _broadcast_getindex_evalf\n",
      "    @ ./broadcast.jl:670 [inlined]\n",
      " [15] _broadcast_getindex\n",
      "    @ ./broadcast.jl:643 [inlined]\n",
      " [16] getindex\n",
      "    @ ./broadcast.jl:597 [inlined]\n",
      " [17] macro expansion\n",
      "    @ ./broadcast.jl:961 [inlined]\n",
      " [18] macro expansion\n",
      "    @ ./simdloop.jl:77 [inlined]\n",
      " [19] copyto!\n",
      "    @ ./broadcast.jl:960 [inlined]\n",
      " [20] copyto!\n",
      "    @ ./broadcast.jl:913 [inlined]\n",
      " [21] copy(bc::Base.Broadcast.Broadcasted{Base.Broadcast.DefaultArrayStyle{1}, Tuple{Base.OneTo{Int64}}, typeof(ParallelTemperingMonteCarlo.MCSampling.update_one_rdf!), Tuple{Vector{MCState{Float64, 13, SphericalBC{Float64}}}, Vector{Vector{Float64}}, Base.RefValue{Float64}}})\n",
      "    @ Base.Broadcast ./broadcast.jl:885\n",
      " [22] materialize\n",
      "    @ ./broadcast.jl:860 [inlined]\n",
      " [23] broadcast\n",
      "    @ ./broadcast.jl:798 [inlined]\n",
      " [24] sampling_step!(mc_params::MCParams, mc_states::Vector{MCState{Float64, 13, SphericalBC{Float64}}}, save_index::Int64, results::Output{Float64}, delta_en_hist::Float64, delta_r2::Float64)\n",
      "    @ ParallelTemperingMonteCarlo.MCSampling ~/Documents/ParallelTemperingMonteCarlo.jl/src/Sampling.jl:100\n",
      " [25] testptmc_cycle(mc_states::Vector{MCState{Float64, 13, SphericalBC{Float64}}}, results::Output{Float64}, move_strat::MoveStrategy{13, 0, 0}, mc_params::MCParams, pot::ELJPotentialEven{6, Float64}, ensemble::NVT, n_steps::Int64, a::Int64, v::Int64, r::Int64, delta_en_hist::Float64, delta_r2::Float64)\n",
      "    @ Main ~/Documents/ParallelTemperingMonteCarlo.jl/scripts/test.ipynb:3\n",
      " [26] top-level scope\n",
      "    @ ~/Documents/ParallelTemperingMonteCarlo.jl/scripts/test.ipynb:1"
     ]
    }
   ],
   "source": [
    "testptmc_cycle(mc_states,results,move_strat,mc_params,pot,ensemble,55,55,0,0,delta_en_hist,delta_r2)"
   ]
  },
  {
   "cell_type": "code",
   "execution_count": 25,
   "metadata": {},
   "outputs": [
    {
     "data": {
      "text/plain": [
       "3.083946926850007e-5"
      ]
     },
     "metadata": {},
     "output_type": "display_data"
    }
   ],
   "source": [
    "\n"
   ]
  },
  {
   "cell_type": "code",
   "execution_count": null,
   "metadata": {},
   "outputs": [],
   "source": []
  }
 ],
 "metadata": {
  "kernelspec": {
   "display_name": "Julia 1.8.5",
   "language": "julia",
   "name": "julia-1.8"
  },
  "language_info": {
   "file_extension": ".jl",
   "mimetype": "application/julia",
   "name": "julia",
   "version": "1.8.5"
  },
  "orig_nbformat": 4
 },
 "nbformat": 4,
 "nbformat_minor": 2
}
