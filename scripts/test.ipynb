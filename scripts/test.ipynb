{
 "cells": [
  {
   "cell_type": "code",
   "execution_count": 1,
   "metadata": {},
   "outputs": [
    {
     "name": "stderr",
     "output_type": "stream",
     "text": [
      "\u001b[32m\u001b[1m  No Changes\u001b[22m\u001b[39m to `~/Documents/ParallelTemperingMonteCarlo.jl/Project.toml`\n",
      "\u001b[32m\u001b[1m  No Changes\u001b[22m\u001b[39m to `~/Documents/ParallelTemperingMonteCarlo.jl/Manifest.toml`\n"
     ]
    }
   ],
   "source": [
    "#using Pkg; Pkg.update()\n",
    "using Pkg; Pkg.resolve()\n",
    "using SplitApplyCombine\n",
    "using ParallelTemperingMonteCarlo\n",
    "using DelimitedFiles\n",
    "using StaticArrays\n",
    "using Random#, Plots\n",
    "\n",
    "using BenchmarkTools"
   ]
  },
  {
   "attachments": {},
   "cell_type": "markdown",
   "metadata": {},
   "source": [
    "Below was used to benchmark generating vectors"
   ]
  },
  {
   "cell_type": "code",
   "execution_count": 2,
   "metadata": {},
   "outputs": [],
   "source": [
    "# genvector1(max_displacement) = max_displacement * (rand(-0.5:0.001:0.5,3))\n",
    "\n",
    "# genvector2(max_displacement) = SVector((rand()-0.5)*max_displacement,(rand()-0.5)*max_displacement,(rand()-0.5)*max_displacement)\n",
    "# @benchmark genvector1(rand())\n",
    "# @benchmark genvector2(rand())"
   ]
  },
  {
   "attachments": {},
   "cell_type": "markdown",
   "metadata": {},
   "source": [
    "Below is the main code to load 13 atom neon ELJ"
   ]
  },
  {
   "cell_type": "code",
   "execution_count": 2,
   "metadata": {},
   "outputs": [
    {
     "data": {
      "text/plain": [
       "Output{Float64}(100, 0.0, 0.0, Float64[], Float64[], Float64[], Vector{Float64}[], Vector{Float64}[], Float64[], Float64[], Float64[], Float64[])"
      ]
     },
     "metadata": {},
     "output_type": "display_data"
    }
   ],
   "source": [
    "n_atoms = 13\n",
    "\n",
    "# temperature grid\n",
    "ti = 5.\n",
    "tf = 16.\n",
    "n_traj = 32\n",
    "\n",
    "temp = TempGrid{n_traj}(ti,tf) \n",
    "\n",
    "# MC simulation details\n",
    "\n",
    "mc_cycles = 40000 #default 20% equilibration cycles on top\n",
    "\n",
    "mc_sample = 1  #sample every mc_sample MC cycles\n",
    "\n",
    "#move_atom=AtomMove(n_atoms) #move strategy (here only atom moves, n_atoms per MC cycle)\n",
    "displ_atom = 0.1 # Angstrom\n",
    "n_adjust = 100\n",
    "\n",
    "max_displ_atom = [0.1*sqrt(displ_atom*temp.t_grid[i]) for i in 1:n_traj]\n",
    "\n",
    "mc_params = MCParams(mc_cycles, n_traj, n_atoms, mc_sample = mc_sample, n_adjust = n_adjust)\n",
    "\n",
    "#moves - allowed at present: atom, volume and rotation moves (volume,rotation not yet implemented)\n",
    "move_strat = MoveStrategy(atom_moves = n_atoms)  \n",
    "\n",
    "#ensemble\n",
    "ensemble = NVT(n_atoms)\n",
    "\n",
    "#ELJpotential for neon\n",
    "#c1=[-10.5097942564988, 0., 989.725135614556, 0., -101383.865938807, 0., 3918846.12841668, 0., -56234083.4334278, 0., 288738837.441765]\n",
    "#elj_ne1 = ELJPotential{11}(c1)\n",
    "\n",
    "c=[-10.5097942564988, 989.725135614556, -101383.865938807, 3918846.12841668, -56234083.4334278, 288738837.441765]\n",
    "pot = ELJPotentialEven{6}(c)\n",
    "\n",
    "#starting configurations\n",
    "#icosahedral ground state of Ne13 (from Cambridge cluster database) in Angstrom\n",
    "pos_ne13 = [[2.825384495892464, 0.928562467914040, 0.505520149314310],\n",
    "[2.023342172678102,\t-2.136126268595355, 0.666071287554958],\n",
    "[2.033761811732818,\t-0.643989413759464, -2.133000349161121],\n",
    "[0.979777205108572,\t2.312002562803556, -1.671909307631893],\n",
    "[0.962914279874254,\t-0.102326586625353, 2.857083360096907],\n",
    "[0.317957619634043,\t2.646768968413408, 1.412132053672896],\n",
    "[-2.825388342924982, -0.928563755928189, -0.505520471387560],\n",
    "[-0.317955944853142, -2.646769840660271, -1.412131825293682],\n",
    "[-0.979776174195320, -2.312003751825495, 1.671909138648006],\n",
    "[-0.962916072888105, 0.102326392265998,\t-2.857083272537599],\n",
    "[-2.023340541398004, 2.136128558801072,\t-0.666071089291685],\n",
    "[-2.033762834001679, 0.643989905095452, 2.132999911364582],\n",
    "[0.000002325340981,\t0.000000762100600, 0.000000414930733]]\n",
    "\n",
    "#convert to Bohr\n",
    "AtoBohr = 1.8897259886\n",
    "pos_ne13 = pos_ne13 * AtoBohr\n",
    "\n",
    "length(pos_ne13) == n_atoms || error(\"number of atoms and positions not the same - check starting config\")\n",
    "\n",
    "#boundary conditions \n",
    "bc_ne13 = SphericalBC(radius=5.32*AtoBohr)   #5.32 Angstrom\n",
    "\n",
    "#starting configuration\n",
    "start_config = Config(pos_ne13, bc_ne13)\n",
    "\n",
    "#histogram information\n",
    "n_bin = 100\n",
    "#en_min = -0.006    #might want to update after equilibration run if generated on the fly\n",
    "#en_max = -0.001    #otherwise will be determined after run as min/max of sampled energies (ham vector)\n",
    "\n",
    "#construct array of MCState (for each temperature)\n",
    "mc_states = [MCState(temp.t_grid[i], temp.beta_grid[i], start_config, pot; max_displ=[max_displ_atom[i],0.01,1.]) for i in 1:n_traj]\n",
    "\n",
    "#results = Output(n_bin, max_displ_vec)\n",
    "results = Output{Float64}(n_bin; en_min = mc_states[1].en_tot)"
   ]
  },
  {
   "cell_type": "markdown",
   "metadata": {},
   "source": [
    "Below is the comprehensive testing performed on making a vectorised displacement function"
   ]
  },
  {
   "cell_type": "code",
   "execution_count": 4,
   "metadata": {},
   "outputs": [],
   "source": [
    "# function testtime(mc_states)\n",
    "#     for state in mc_states\n",
    "#         ran = rand(1:length(state.config.pos))\n",
    "#         trial_pos =atom_displacement(state.config.pos[ran],state.max_displ[1],state.config.bc)\n",
    "#     end\n",
    "# end\n",
    "# @benchmark testtime(mc_states)\n",
    "# # rand(1:n_atoms,n_traj)\n",
    "# # V = [1 2 3; 4 5 6; 7 8 9]\n",
    "# # V[:,1]\n",
    "# function atom_disp(mc_state,index)\n",
    "#     trial_pos = atom_displacement(mc_state.config.pos[index],mc_state.max_displ[1],mc_state.config.bc)\n",
    "#     return trial_pos\n",
    "# end\n",
    "# function atom_disp!(mc_state,index,trial_pos::SVector)\n",
    "#     trial_pos = atom_displacement(mc_state.config.pos[index],mc_state.max_displ[1],mc_state.config.bc)\n",
    "#     return trial_pos\n",
    "# end\n",
    "\n",
    "# indices = rand(1:n_atoms,n_traj)\n",
    "\n",
    "# # trial_pos = atom_disp.(mc_states,indices)\n",
    "\n",
    "# @benchmark begin   \n",
    "#     indices = rand(1:n_atoms,n_traj)\n",
    "#     trial_positions = atom_disp.($mc_states,indices)\n",
    "# end\n",
    "\n",
    "# @benchmark begin \n",
    "#     indices = rand(1:n_atoms,n_traj)\n",
    "#     trial_positions =  [@SVector zeros(3) for i in 1:n_traj]\n",
    "#     atom_disp!.($mc_states,indices,trial_positions)\n",
    "# end\n",
    "# function generate_displacements(mc_states,mc_params)\n",
    "#     indices=rand(1:mc_params.n_atoms,mc_params.n_traj)\n",
    "#     trial_positions = atom_disp.(mc_states,indices)\n",
    "#     return indices,trial_positions\n",
    "# end\n",
    "# @benchmark generate_displacements(mc_states,mc_params)\n",
    "# @benchmark dimer_energy_atom(1, mc_states[1].dist2_mat[1,:], pot)\n",
    "# @benchmark dimer_energy_atom(1, mc_states[1].dist2_mat[:,1], pot)"
   ]
  },
  {
   "cell_type": "code",
   "execution_count": 5,
   "metadata": {},
   "outputs": [
    {
     "name": "stdout",
     "output_type": "stream",
     "text": [
      "Total number of moves per MC cycle: 13\n",
      "\n"
     ]
    },
    {
     "name": "stdout",
     "output_type": "stream",
     "text": [
      "equilibration done\n"
     ]
    },
    {
     "name": "stdout",
     "output_type": "stream",
     "text": [
      "MC loop done.\n",
      "[3.07357213703608e-12, 2.9603853742730143e-12, 2.8513668049648584e-12, 2.7463629320395725e-12, 2.6452259110780928e-12, 2.547813342150841e-12, 2.453988069320027e-12, 2.363617987525439e-12, 2.276575856581819e-12, 2.192739122025938e-12, 2.1119897425611123e-12, 2.034214023856227e-12, 1.9593024584652337e-12, 1.8871495716417443e-12, 1.81765377283163e-12, 1.7507172126345173e-12, 1.6862456450327995e-12, 1.6241482946941705e-12, 1.5643377291608496e-12, 1.506729735745544e-12, 1.451243202960814e-12, 1.3978000063148953e-12, 1.3463248983131863e-12, 1.296745402510517e-12, 1.2489917114650253e-12, 1.2029965884499683e-12, 1.1586952727850729e-12, 1.1160253886541349e-12, 1.074926857280485e-12, 1.0353418123366629e-12, 9.972145184691965e-13, 9.604912928237748e-13]\n",
      "done\n",
      "  7.263687 seconds (54.00 M allocations: 7.384 GiB, 7.51% gc time)\n"
     ]
    }
   ],
   "source": [
    "@time ptmc_run!(mc_states, move_strat, mc_params, pot, ensemble, results; save_ham = false)"
   ]
  },
  {
   "attachments": {},
   "cell_type": "markdown",
   "metadata": {},
   "source": [
    "Below is the test for generating energy after displacement"
   ]
  },
  {
   "cell_type": "code",
   "execution_count": 6,
   "metadata": {},
   "outputs": [],
   "source": [
    "# function get_energy_dimer(pos,i_atom,mc_state,pot)\n",
    "#     dist2_new = [distance2(pos,b) for b in mc_state.config.pos]\n",
    "#     dist2_new[i_atom] = 0.\n",
    "\n",
    "#     energy = dimer_energy_atom(i_atom,dist2_new,pot)\n",
    "\n",
    "#     return energy, dist2_new\n",
    "# end\n",
    "\n",
    "# function generate_energies(mc_states,trial_positions,indices,pot)\n",
    "#     output = get_energy_dimer.(trial_positions,indices,mc_states,Ref(pot))\n",
    "#     return output\n",
    "# end\n",
    "# # indices,trial_positions = generate_displacements(mc_states,mc_params)\n",
    "\n",
    "# # output = generate_energies(mc_states,trial_positions,indices,pot)\n",
    "# @benchmark generate_energies(mc_states,trial_positions,indices,pot)\n",
    "# @benchmark begin\n",
    "#    for i in 1:n_traj\n",
    "#         energy_update(trial_positions[i],indices[i],mc_states[i].config,mc_states[i].dist2_mat,pot)\n",
    "#   end\n",
    "# end\n",
    "\n",
    "\n",
    "# energyvector, dist2new = invert(get_energy_dimer.(trial_positions,indices,mc_states,Ref(pot)))\n",
    "# function generate_energies2(mc_states,trial_positions,indices,pot)\n",
    "#     energyvector, dist2new = invert(get_energy_dimer.(trial_positions,indices,mc_states,Ref(pot)))\n",
    "\n",
    "#     return energyvector,dist2new\n",
    "# end\n",
    "# @benchmark generate_energies2(mc_states,trial_positions,indices,pot)"
   ]
  },
  {
   "cell_type": "code",
   "execution_count": 7,
   "metadata": {},
   "outputs": [],
   "source": [
    "# #got some testing for RuNNer \n",
    "# function testwritingvec(file::IOStream,test::String)\n",
    "#     write(file,\"$test \\n\")\n",
    "# end\n",
    "\n",
    "# stringvec = [\"testing\",\"vector\",\"for\",\"strings\"]\n",
    "# file = open(\"testfile.txt\",\"w+\")\n",
    "# testwritingvec.(Ref(file),stringvec)\n",
    "# close(file)"
   ]
  },
  {
   "cell_type": "code",
   "execution_count": 3,
   "metadata": {},
   "outputs": [
    {
     "data": {
      "text/plain": [
       "exch_test2! (generic function with 1 method)"
      ]
     },
     "metadata": {},
     "output_type": "display_data"
    }
   ],
   "source": [
    "function exch_function!(mc_state, i_atom, trial_pos, dist2_new, new_energy)\n",
    "    mc_state.config.pos[i_atom] = trial_pos #copy(trial_pos)\n",
    "    mc_state.dist2_mat[i_atom,:] = dist2_new #copy(dist2_new)\n",
    "    mc_state.dist2_mat[:,i_atom] = dist2_new\n",
    "    mc_state.en_tot = new_energy\n",
    "    mc_state.count_atom[1] += 1\n",
    "    mc_state.count_atom[2] += 1\n",
    "end\n",
    "\n",
    "function exch_test!(ensemble, mc_state, new_energy, i_atom, trial_pos, dist2_new::Vector)\n",
    "    \n",
    "    if metropolis_condition(ensemble, (new_energy - mc_state.en_tot), mc_state.beta) >= rand()\n",
    "    \n",
    "        exch_function!(mc_state,i_atom,trial_pos,dist2_new, new_energy)\n",
    "    \n",
    "    end\n",
    "\n",
    "end\n"
   ]
  },
  {
   "cell_type": "code",
   "execution_count": 9,
   "metadata": {},
   "outputs": [
    {
     "name": "stdout",
     "output_type": "stream",
     "text": [
      "[3.8235622875401982, -4.036693324695786, 1.2586922223528678]\n",
      "-0.0056346940323873706\n",
      "[35.929783652275646, 0.0, 35.929845724519055, 94.06551647980704, 35.929843490233594, 94.06551213372171, 94.06548390752491, 35.929770450748414, 35.9297724720646, 94.06550031252584, 129.99533154733948, 94.06549989601457, 32.49880372462826]\n"
     ]
    }
   ],
   "source": [
    "\n",
    "println(mc_states[1].config.pos[2])\n",
    "println(mc_states[1].en_tot)\n",
    "println(mc_states[1].dist2_mat[2,:])"
   ]
  },
  {
   "cell_type": "code",
   "execution_count": 5,
   "metadata": {},
   "outputs": [
    {
     "name": "stdout",
     "output_type": "stream",
     "text": [
      "2 [3.851049831206864, -4.0174711796400295, 1.2643035711748558] -0.0008126454645865878 [35.628375576342904, 0.0, 35.88087950051201, 93.90151733860961, 35.84694514422843, 93.88054169973532, 94.50748313713603, 36.25533142288484, 36.234362249742716, 94.28898951068128, 130.13476531774484, 94.25505685342729, 32.56909874569523]\n"
     ]
    }
   ],
   "source": [
    "index = rand(1:13)\n",
    "\n",
    "trial_pos = atom_displacement(mc_states[1],index)\n",
    "\n",
    "en,dis2new = get_energy_dimer(trial_pos,index,mc_states[1],pot)\n",
    "println(index,\" \",trial_pos,\" \",en,\" \",dis2new)"
   ]
  },
  {
   "cell_type": "code",
   "execution_count": 5,
   "metadata": {},
   "outputs": [],
   "source": [
    "exch_test!(ensemble,mc_states[1],en,index,trial_pos,dis2new)"
   ]
  },
  {
   "cell_type": "code",
   "execution_count": 5,
   "metadata": {},
   "outputs": [
    {
     "data": {
      "text/plain": [
       "bmark_oldmove (generic function with 1 method)"
      ]
     },
     "metadata": {},
     "output_type": "display_data"
    }
   ],
   "source": [
    "function test_move!(mc_states,mc_params,pot,ensemble)\n",
    "\n",
    "    indices,trial_positions = generate_displacements(mc_states,mc_params)\n",
    "\n",
    "    energy_vector, dist2_new = get_energy(trial_positions,indices,mc_states,pot)\n",
    "    \n",
    "    exch_test!.(Ref(ensemble), mc_states, energy_vector, indices, trial_positions, dist2_new)\n",
    "\n",
    "end\n",
    "# function test_move2!(mc_states,mc_params,pot,ensemble)\n",
    "\n",
    "#     indices,trial_positions = generate_displacements(mc_states,mc_params)\n",
    "\n",
    "#     energy_vector, dist2_new = get_energy(trial_positions,indices,mc_states,pot)\n",
    "    \n",
    "#     exch_test2!.(Ref(ensemble), mc_states, energy_vector, indices, trial_positions, dist2_new,rand(mc_params.n_traj))\n",
    "\n",
    "# end\n",
    "# function bmark_oldmove(mc_states,pot,ensemble)\n",
    "#     for i=1:length(mc_states)\n",
    "#         mc_step!(mc_states[i],pot,ensemble,1,0,0)\n",
    "#     end\n",
    "# end"
   ]
  },
  {
   "cell_type": "code",
   "execution_count": 6,
   "metadata": {},
   "outputs": [
    {
     "data": {
      "text/plain": [
       "BenchmarkTools.Trial: 10000 samples with 8 evaluations.\n",
       " Range \u001b[90m(\u001b[39m\u001b[36m\u001b[1mmin\u001b[22m\u001b[39m … \u001b[35mmax\u001b[39m\u001b[90m):  \u001b[39m\u001b[36m\u001b[1m2.993 μs\u001b[22m\u001b[39m … \u001b[35m420.977 μs\u001b[39m  \u001b[90m┊\u001b[39m GC \u001b[90m(\u001b[39mmin … max\u001b[90m): \u001b[39m0.00% … 98.70%\n",
       " Time  \u001b[90m(\u001b[39m\u001b[34m\u001b[1mmedian\u001b[22m\u001b[39m\u001b[90m):     \u001b[39m\u001b[34m\u001b[1m3.530 μs               \u001b[22m\u001b[39m\u001b[90m┊\u001b[39m GC \u001b[90m(\u001b[39mmedian\u001b[90m):    \u001b[39m0.00%\n",
       " Time  \u001b[90m(\u001b[39m\u001b[32m\u001b[1mmean\u001b[22m\u001b[39m ± \u001b[32mσ\u001b[39m\u001b[90m):   \u001b[39m\u001b[32m\u001b[1m4.238 μs\u001b[22m\u001b[39m ± \u001b[32m 10.737 μs\u001b[39m  \u001b[90m┊\u001b[39m GC \u001b[90m(\u001b[39mmean ± σ\u001b[90m):  \u001b[39m6.65% ±  2.61%\n",
       "\n",
       "  \u001b[39m \u001b[39m▃\u001b[39m█\u001b[39m█\u001b[39m \u001b[39m \u001b[39m \u001b[39m \u001b[39m \u001b[34m \u001b[39m\u001b[39m \u001b[39m \u001b[39m \u001b[39m \u001b[39m \u001b[39m \u001b[39m \u001b[39m \u001b[39m \u001b[39m \u001b[32m \u001b[39m\u001b[39m \u001b[39m \u001b[39m \u001b[39m \u001b[39m \u001b[39m \u001b[39m \u001b[39m \u001b[39m \u001b[39m \u001b[39m \u001b[39m \u001b[39m \u001b[39m \u001b[39m \u001b[39m \u001b[39m \u001b[39m \u001b[39m \u001b[39m \u001b[39m \u001b[39m \u001b[39m \u001b[39m \u001b[39m \u001b[39m \u001b[39m \u001b[39m \u001b[39m \u001b[39m \u001b[39m \u001b[39m \u001b[39m \u001b[39m \u001b[39m \u001b[39m \u001b[39m \u001b[39m \u001b[39m \u001b[39m \n",
       "  \u001b[39m▂\u001b[39m█\u001b[39m█\u001b[39m█\u001b[39m▇\u001b[39m▂\u001b[39m▂\u001b[39m▂\u001b[39m▂\u001b[34m▂\u001b[39m\u001b[39m▁\u001b[39m▁\u001b[39m▁\u001b[39m▁\u001b[39m▁\u001b[39m▁\u001b[39m▁\u001b[39m▁\u001b[39m▁\u001b[39m▁\u001b[32m▂\u001b[39m\u001b[39m▃\u001b[39m▄\u001b[39m▅\u001b[39m▆\u001b[39m▆\u001b[39m▇\u001b[39m▆\u001b[39m▅\u001b[39m▄\u001b[39m▃\u001b[39m▂\u001b[39m▂\u001b[39m▂\u001b[39m▂\u001b[39m▂\u001b[39m▁\u001b[39m▁\u001b[39m▁\u001b[39m▁\u001b[39m▁\u001b[39m▁\u001b[39m▁\u001b[39m▁\u001b[39m▁\u001b[39m▁\u001b[39m▁\u001b[39m▁\u001b[39m▁\u001b[39m▁\u001b[39m▁\u001b[39m▁\u001b[39m▁\u001b[39m▁\u001b[39m▁\u001b[39m▁\u001b[39m▁\u001b[39m▁\u001b[39m▁\u001b[39m \u001b[39m▂\n",
       "  2.99 μs\u001b[90m         Histogram: frequency by time\u001b[39m        6.63 μs \u001b[0m\u001b[1m<\u001b[22m\n",
       "\n",
       " Memory estimate\u001b[90m: \u001b[39m\u001b[33m7.45 KiB\u001b[39m, allocs estimate\u001b[90m: \u001b[39m\u001b[33m39\u001b[39m."
      ]
     },
     "metadata": {},
     "output_type": "display_data"
    }
   ],
   "source": [
    "@benchmark test_move!(mc_states,mc_params,pot,ensemble)"
   ]
  },
  {
   "cell_type": "code",
   "execution_count": null,
   "metadata": {},
   "outputs": [],
   "source": []
  }
 ],
 "metadata": {
  "kernelspec": {
   "display_name": "Julia 1.8.5",
   "language": "julia",
   "name": "julia-1.8"
  },
  "language_info": {
   "file_extension": ".jl",
   "mimetype": "application/julia",
   "name": "julia",
   "version": "1.8.5"
  },
  "orig_nbformat": 4
 },
 "nbformat": 4,
 "nbformat_minor": 2
}
