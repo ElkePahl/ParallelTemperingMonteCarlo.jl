{
 "cells": [
  {
   "cell_type": "code",
   "execution_count": 36,
   "metadata": {},
   "outputs": [],
   "source": [
    "using Distributed\n",
    "\n",
    "using Pkg\n",
    "\n",
    "\n",
    "@everywhere begin \n",
    "    using ParallelTemperingMonteCarlo\n",
    "    using DelimitedFiles\n",
    "    using BenchmarkTools\n",
    "end"
   ]
  },
  {
   "cell_type": "code",
   "execution_count": 37,
   "metadata": {},
   "outputs": [
    {
     "data": {
      "text/plain": [
       "TaskLocalRNG()"
      ]
     },
     "metadata": {},
     "output_type": "display_data"
    }
   ],
   "source": [
    "using Random\n",
    "@everywhere import ..MCRun: initialise_histograms!,updatehistogram!,update_max_stepsize!,sampling_step!,save_results,save_states\n",
    "Random.seed!(1234)\n"
   ]
  },
  {
   "cell_type": "code",
   "execution_count": null,
   "metadata": {},
   "outputs": [],
   "source": [
    "\n",
    "# number of atoms\n",
    "n_atoms = 13\n",
    "\n",
    "# temperature grid\n",
    "ti = 50.\n",
    "tf = 160.\n",
    "n_traj = 8\n",
    "\n",
    "temp = TempGrid{n_traj}(ti,tf) \n",
    "\n",
    "# MC simulation details\n",
    "mc_cycles = 400 #default 20% equilibration cycles on top\n",
    "mc_sample = 1  #sample every mc_sample MC cycles\n",
    "\n",
    "displ_atom = 0.1 # Angstrom\n",
    "n_adjust = 100\n",
    "\n",
    "max_displ_atom = [0.1*sqrt(displ_atom*temp.t_grid[i]) for i in 1:n_traj]\n",
    "\n",
    "mc_params = MCParams(mc_cycles, n_traj, n_atoms, mc_sample = mc_sample, n_adjust = n_adjust, eq_percentage = 1)\n",
    "\n",
    "#moves - allowed at present: atom, volume and rotation moves (volume,rotation not yet implemented)\n",
    "move_strat = MoveStrategy(atom_moves = n_atoms)  \n",
    "\n",
    "#ensemble\n",
    "ensemble = NVT(n_atoms)\n",
    "#icosahedral ground state of Ne13 (from Cambridge cluster database) in Angstrom\n",
    "ico_13  = [[-0.0000000049,       -0.0000000044,       -0.0000000033],\n",
    "[-0.0000007312,       -0.0000000014,        0.6554619119],\n",
    " [0.1811648930,      -0.5575692094,        0.2931316798],\n",
    "[-0.4742970242,       -0.3445967289,        0.2931309525],\n",
    "[-0.4742970303,        0.3445967144,        0.2931309494],\n",
    " [0.1811648830,        0.5575692066,        0.2931316748],\n",
    " [0.5862626299,        0.0000000022,        0.2931321262],\n",
    "[-0.1811648928,       -0.5575692153,       -0.2931316813],\n",
    "[-0.5862626397,       -0.0000000109,       -0.2931321327],\n",
    "[-0.1811649028,        0.5575692007,       -0.2931316863],\n",
    " [0.4742970144,        0.3445967202,       -0.2931309590],\n",
    " [0.4742970205,       -0.3445967231,       -0.2931309559],\n",
    " [0.0000007214,       -0.0000000073,       -0.6554619185]]\n",
    " ico_55 = [[0.0000006584,       -0.0000019175,        0.0000000505],\n",
    " [-0.0000005810,       -0.0000004871,        0.6678432175],\n",
    " [0.1845874248,       -0.5681026047,        0.2986701538],\n",
    " [-0.4832557457,       -0.3511072166,        0.2986684497],\n",
    " [-0.4832557570,        0.3511046452,        0.2986669456],\n",
    " [0.1845874064,        0.5681000550,        0.2986677202],\n",
    " [0.5973371920,       -0.0000012681,        0.2986697030],\n",
    " [-0.1845860897,       -0.5681038901,       -0.2986676192],\n",
    " [-0.5973358752,       -0.0000025669,       -0.2986696020],\n",
    " [-0.1845861081,        0.5680987696,       -0.2986700528],\n",
    " [0.4832570624,        0.3511033815,       -0.2986683486],\n",
    " [0.4832570738,       -0.3511084803,       -0.2986668445],\n",
    " [0.0000018978,       -0.0000033480,       -0.6678431165],\n",
    " [-0.0000017969,        0.0000009162,        1.3230014650],\n",
    " [0.1871182835,       -0.5758942175,        0.9797717078],\n",
    " [-0.4898861924,       -0.3559221410,       0.9797699802],\n",
    " [-0.4898862039,        0.3559224872,        0.9797684555],\n",
    " [0.1871182648,        0.5758945856,        0.9797692407],\n",
    " [0.6055300485,        0.0000001908,        0.9797712507],\n",
    " [0.7926501864,       -0.5758950093,        0.6055339635],\n",
    " [0.3656681761,       -1.1254128670,        0.5916673591],\n",
    " [-0.3027660545,       -0.9318173412,        0.6055326929],\n",
    " [-0.9573332453,       -0.6955436707,        0.5916639831],\n",
    " [-0.9797705418,       -0.0000006364,        0.6055294407],\n",
    " [-0.9573332679,        0.6955423392,        0.5916610035],\n",
    " [-0.3027660847,        0.9318160902,        0.6055287012],\n",
    " [0.3656681396,        1.1254115783,        0.5916625380],\n",
    " [0.7926501677,        0.5758937939,        0.6055314964],\n",
    " [1.1833279992,       -0.0000006311,        0.5916664660],\n",
    " [0.6770051458,       -0.9318186223,        0.0000033028],\n",
    " [0.0000006771,       -1.1517907207,        0.0000025175],\n",
    " [-0.6770037988,       -0.9318186442,        0.0000007900],\n",
    " [-1.0954155825,       -0.3559242494,       -0.0000012200],\n",
    " [-1.0954155940,        0.3559203788,       -0.0000027447],\n",
    " [-0.6770038290,        0.9318147872,       -0.0000032017],\n",
    " [0.0000006397,        1.1517868856,       -0.0000024165],\n",
    " [0.6770051155,        0.9318148091,       -0.0000006889],\n",
    " [1.0954168993,        0.3559204143,        0.0000013211],\n",
    " [1.0954169108,       -0.3559242139,        0.0000028458],\n",
    " [0.3027674014,       -0.9318199253,       -0.6055286002],\n",
    " [-0.3656668229,       -1.1254154134,       -0.5916624370],\n",
    " [-0.7926488510,       -0.5758976290,       -0.6055313954],\n",
    " [-1.1833266824,       -0.0000032040,       -0.5916663649],\n",
    " [-0.7926488697,        0.5758911742,       -0.6055338624],\n",
    " [-0.3656668594,        1.1254090319,       -0.5916672580],\n",
    " [0.3027673712,        0.9318135061,       -0.6055325919],\n",
    " [0.9573345621,        0.6955398357,       -0.5916638820],\n",
    " [0.9797718586,       -0.0000031986,       -0.6055293396],\n",
    " [0.9573345846,       -0.6955461743,       -0.5916609025],\n",
    " [-0.1871169480,       -0.5758984207,       -0.9797691397],\n",
    " [-0.6055287318,       -0.0000040259,       -0.9797711497],\n",
    " [-0.1871169667,        0.5758903824,       -0.9797716067],\n",
    " [0.4898875091,        0.3559183059,       -0.9797698792],\n",
    " [0.4898875207,       -0.3559263223,       -0.9797683545],\n",
    " [0.0000031136,       -0.0000047513,       -1.3230013639]]\n",
    " #convert to Bohr\n",
    " nmtobohr = 18.8973\n",
    " copperconstant = 0.36258*nmtobohr\n",
    " pos_cu55 = copperconstant*ico_55\n",
    " pos_cu13 = copperconstant*ico_13*1.5\n",
    " AtoBohr = 1.8897259886\n",
    " \n",
    " # length(pos_cu55) == n_atoms || error(\"number of atoms and positions not the same - check starting config\")\n",
    " \n",
    " #boundary conditions \n",
    " bc_cu55 = SphericalBC(radius=14*AtoBohr)   #5.32 Angstrom\n",
    " bc_cu13 = SphericalBC(radius=8*AtoBohr)\n",
    " #starting configuration\n",
    "\n",
    "#starting configuration\n",
    "# start_config = Config(pos_cu13, bc_cu13)\n",
    "start_config = Config(pos_cu55, bc_cu55)\n",
    " #histogram information\n",
    " n_bin = 100\n",
    " #en_min = -0.006    #might want to update after equilibration run if generated on the fly\n",
    " #en_max = -0.001    #otherwise will be determined after run as min/max of sampled energies (ham vector)\n",
    "\n",
    "\n",
    "\n",
    "#histogram information\n",
    "n_bin = 100\n",
    "\n",
    "\n",
    "\n",
    "runnerdir = \"/home/ghun245/RuNNer-testing/Brass_potential/\"\n",
    "atomtype=\"Cu\"\n",
    "pot = AbstractMLPotential(runnerdir,atomtype)\n",
    "# RuNNer.getRuNNerenergy(runnerdir,1;input_idx=2)\n",
    "pot_vector = []\n",
    "\n",
    "for i =1:Threads.nthreads()\n",
    "    potential=ParallelMLPotential(runnerdir,\"Cu\",i)\n",
    "    push!(pot_vector,potential)\n",
    "end\n",
    "copper_states = [MCState(temp.t_grid[i], temp.beta_grid[i], start_config, pot_vector[1]; max_displ=[max_displ_atom[i],0.01,1.]) for i in 1:n_traj]\n",
    "\n",
    "results = Output{Float64}(n_bin; en_min = mc_states[1].en_tot)"
   ]
  },
  {
   "cell_type": "code",
   "execution_count": null,
   "metadata": {},
   "outputs": [],
   "source": [
    "# function testparallelrunner(parallel_states,a,v,r,delta_en,n_threads,pot_vec)\n",
    "#     Threads.@threads for i=1:4\n",
    "#         for j=1:100\n",
    "#             mc_cycle!(parallel_states[i], move_strat, mc_params, pot_vec[i], ensemble, 1, a, v, r)\n",
    "#         end\n",
    "#     end\n",
    "# end\n",
    "\n",
    "# function testrunner(parallel_states,a,v,r,delta_en,n_threads,pot_vec)\n",
    "#     for i=1:4\n",
    "#         for j=1:100\n",
    "#             mc_cycle!(parallel_states[i], move_strat, mc_params, pot_vec[i], ensemble, 1, a, v, r)\n",
    "#         end\n",
    "#     end\n",
    "# end\n",
    "# function testparallelrunner2(parallel_states,a,v,r,delta_en,n_threads,pot_vec)\n",
    "#     Threads.@threads for i=1:8\n",
    "#         for j=1:10\n",
    "#             mc_cycle!(parallel_states[i], move_strat, mc_params, pot_vec[i], ensemble, 1, a, v, r)\n",
    "#         end\n",
    "#     end\n",
    "# end\n",
    "\n",
    "# function testrunner2(parallel_states,a,v,r,delta_en,n_threads,pot_vec)\n",
    "#     for i=1:8\n",
    "#         for j=1:10\n",
    "#             mc_cycle!(parallel_states[i], move_strat, mc_params, pot_vec[i], ensemble, 1, a, v, r)\n",
    "#         end\n",
    "#     end\n",
    "# end\n",
    "parallel_states,pot_vec,a,v,r,delta_en,n_threads = parallel_equilibration(mc_states,move_strat,mc_params,pot_vector[1],ensemble,results)\n",
    "# @benchmark testrunner2(parallel_states,a,v,r,delta_en,n_threads,pot_vector)\n",
    "# @benchmark testparallelrunner2(parallel_states,a,v,r,delta_en,n_threads,pot_vector)\n",
    "# n_steps = 1\n",
    "\n",
    "# @benchmark ParallelRun.pptmc_cycle(parallel_states,mc_params,results,move_strat,pot_vec,ensemble,n_threads,delta_en,n_steps,a,v,r)\n",
    "@time ParallelRun.pptmc_run!(mc_states,move_strat,mc_params,pot,ensemble,results)"
   ]
  },
  {
   "cell_type": "markdown",
   "metadata": {},
   "source": [
    "We've concluded initial tests confirming that this is -- in principle -- possible to utilise several threads to run PTMC in parallel, there remain questions as to whether it is as effective as standard, serial PTMC. We test this now with Neon"
   ]
  },
  {
   "cell_type": "code",
   "execution_count": 38,
   "metadata": {},
   "outputs": [
    {
     "data": {
      "text/plain": [
       "Output{Float64}(100, 0.0, 0.0, Float64[], Float64[], Float64[], Vector{Float64}[], Float64[], Float64[], Float64[], Float64[], Float64[])"
      ]
     },
     "metadata": {},
     "output_type": "display_data"
    }
   ],
   "source": [
    "Random.seed!(1234)\n",
    "\n",
    "# number of atoms\n",
    "n_atoms = 13\n",
    "\n",
    "# temperature grid\n",
    "ti = 5.\n",
    "tf = 14.\n",
    "n_traj = 25\n",
    "\n",
    "temp = TempGrid{n_traj}(ti,tf) \n",
    "\n",
    "# MC simulation details\n",
    "mc_cycles = 1008000 #default 20% equilibration cycles on top\n",
    "mc_sample = 1  #sample every mc_sample MC cycles\n",
    "\n",
    "#move_atom=AtomMove(n_atoms) #move strategy (here only atom moves, n_atoms per MC cycle)\n",
    "displ_atom = 0.1 # Angstrom\n",
    "n_adjust = 100\n",
    "\n",
    "max_displ_atom = [0.1*sqrt(displ_atom*temp.t_grid[i]) for i in 1:n_traj]\n",
    "\n",
    "mc_params = MCParams(mc_cycles, n_traj, n_atoms, mc_sample = mc_sample, n_adjust = n_adjust)\n",
    "\n",
    "#moves - allowed at present: atom, volume and rotation moves (volume,rotation not yet implemented)\n",
    "move_strat = MoveStrategy(atom_moves = n_atoms)  \n",
    "\n",
    "#ensemble\n",
    "ensemble = NVT(n_atoms)\n",
    "\n",
    "#ELJpotential for neon\n",
    "#c1=[-10.5097942564988, 0., 989.725135614556, 0., -101383.865938807, 0., 3918846.12841668, 0., -56234083.4334278, 0., 288738837.441765]\n",
    "#elj_ne1 = ELJPotential{11}(c1)\n",
    "\n",
    "c=[-10.5097942564988, 989.725135614556, -101383.865938807, 3918846.12841668, -56234083.4334278, 288738837.441765]\n",
    "pot = ELJPotentialEven{6}(c)\n",
    "\n",
    "#starting configurations\n",
    "#icosahedral ground state of Ne13 (from Cambridge cluster database) in Angstrom\n",
    "pos_ne13 = [[2.825384495892464, 0.928562467914040, 0.505520149314310],\n",
    "[2.023342172678102,\t-2.136126268595355, 0.666071287554958],\n",
    "[2.033761811732818,\t-0.643989413759464, -2.133000349161121],\n",
    "[0.979777205108572,\t2.312002562803556, -1.671909307631893],\n",
    "[0.962914279874254,\t-0.102326586625353, 2.857083360096907],\n",
    "[0.317957619634043,\t2.646768968413408, 1.412132053672896],\n",
    "[-2.825388342924982, -0.928563755928189, -0.505520471387560],\n",
    "[-0.317955944853142, -2.646769840660271, -1.412131825293682],\n",
    "[-0.979776174195320, -2.312003751825495, 1.671909138648006],\n",
    "[-0.962916072888105, 0.102326392265998,\t-2.857083272537599],\n",
    "[-2.023340541398004, 2.136128558801072,\t-0.666071089291685],\n",
    "[-2.033762834001679, 0.643989905095452, 2.132999911364582],\n",
    "[0.000002325340981,\t0.000000762100600, 0.000000414930733]]\n",
    "\n",
    "#convert to Bohr\n",
    "AtoBohr = 1.8897259886\n",
    "pos_ne13 = pos_ne13 * AtoBohr\n",
    "\n",
    "length(pos_ne13) == n_atoms || error(\"number of atoms and positions not the same - check starting config\")\n",
    "\n",
    "#boundary conditions \n",
    "bc_ne13 = SphericalBC(radius=6.0*AtoBohr)   #5.32 Angstrom\n",
    "\n",
    "#starting configuration\n",
    "start_config = Config(pos_ne13, bc_ne13)\n",
    "\n",
    "#histogram information\n",
    "n_bin = 100\n",
    "#en_min = -0.006    #might want to update after equilibration run if generated on the fly\n",
    "#en_max = -0.001    #otherwise will be determined after run as min/max of sampled energies (ham vector)\n",
    "\n",
    "#construct array of MCState (for each temperature)\n",
    "run_states = [MCState(temp.t_grid[i], temp.beta_grid[i], start_config, pot; max_displ=[max_displ_atom[i],0.01,1.]) for i in 1:n_traj]\n",
    "\n",
    "#results = Output(n_bin, max_displ_vec)\n",
    "results = Output{Float64}(n_bin; en_min = run_states[1].en_tot)"
   ]
  },
  {
   "cell_type": "code",
   "execution_count": 31,
   "metadata": {},
   "outputs": [],
   "source": [
    "ebounds=[100.,-100.]\n",
    "for j =1:8\n",
    "    ParallelRun.thermalise!(run_states,move_strat,mc_params,pot,ensemble,ebounds,13,13,0,0,10000)\n",
    "end\n",
    "\n",
    "energies = [run_states[i].en_tot for i in 1:mc_params.n_traj]\n",
    "println(energies,\" \",ebounds)\n",
    "\n",
    "en_test = dimer_energy_config(run_states[1].dist2_mat,13,pot)[2]\n",
    "println(run_states[1].en_tot, en_test)"
   ]
  },
  {
   "cell_type": "code",
   "execution_count": 40,
   "metadata": {},
   "outputs": [],
   "source": [
    "pstates=[]\n",
    "for j=1:8\n",
    "    temp_state = deepcopy(run_states)\n",
    "    push!(pstates,temp_state)\n",
    "end\n",
    "\n",
    "Threads.@threads for j=1:8\n",
    "    ParallelRun.thermalise!(pstates[j],move_strat,mc_params,pot,ensemble,ebounds,13,13,0,0,50000)\n",
    "end\n",
    "en_test = dimer_energy_config(pstates[1][1].dist2_mat,13,pot)[2]\n",
    "println(pstates[1][1].en_tot, en_test)"
   ]
  },
  {
   "cell_type": "code",
   "execution_count": 39,
   "metadata": {},
   "outputs": [
    {
     "name": "stdout",
     "output_type": "stream",
     "text": [
      "Beginning Equilibration\n",
      "\n",
      "\n"
     ]
    },
    {
     "name": "stdout",
     "output_type": "stream",
     "text": [
      "equilibration done\n"
     ]
    },
    {
     "data": {
      "text/plain": [
       "Any[]"
      ]
     },
     "metadata": {},
     "output_type": "display_data"
    }
   ],
   "source": [
    "# mc_params.eq_cycles=1000000\n",
    "parallel_states,pot_vector,a,v,r,delta_en,n_threads = parallel_equilibration(run_states,move_strat,mc_params,pot,ensemble,results,Threads.nthreads())\n",
    "#energymatrix = []\n",
    "\n",
    "# for i=1:n_threads\n",
    "#     energies = [parallel_states[i][j].en_tot for j = 1:mc_params.n_traj]\n",
    "#     push!(energymatrix,energies)\n",
    "# end\n",
    "# for i = 1:n_threads\n",
    "#     for j in 1:n_traj\n",
    "#         en_test = dimer_energy_config(parallel_states[i][j].dist2_mat,13,pot)[2]\n",
    "#         if isapprox(en_test, energymatrix[i][j]) == false\n",
    "#             println(\"It broke\")\n",
    "#             break\n",
    "#         end\n",
    "#     end\n",
    "# end\n",
    "\n"
   ]
  },
  {
   "cell_type": "code",
   "execution_count": 4,
   "metadata": {},
   "outputs": [
    {
     "name": "stdout",
     "output_type": "stream",
     "text": [
      "Beginning Equilibration\n",
      "\n",
      "\n"
     ]
    },
    {
     "name": "stdout",
     "output_type": "stream",
     "text": [
      "equilibration done\n",
      "125 cycles of 1000 per 8 thread\n",
      "\n"
     ]
    },
    {
     "name": "stdout",
     "output_type": "stream",
     "text": [
      "main loop complete\n",
      "\n",
      "\n",
      "beginning statistics\n",
      "\n",
      "\n"
     ]
    },
    {
     "name": "stdout",
     "output_type": "stream",
     "text": [
      "done\n",
      " 67.025382 seconds (787.88 M allocations: 116.654 GiB, 34.75% gc time, 2.88% compilation time)\n"
     ]
    },
    {
     "name": "stdout",
     "output_type": "stream",
     "text": [
      "B Vector Calculated\n",
      "A Matrix Calculated\n",
      "system solved!\n",
      "Entropy Found\n",
      "Quantities found\n",
      "analysis complete\n"
     ]
    }
   ],
   "source": [
    "@time ParallelRun.pptmc_run!(run_states,move_strat,mc_params,pot,ensemble,results,save_dir=\"/home/ghun245/ParallelTemperingMonteCarlo.jl/scripts/\")\n",
    "cd(\"/home/ghun245/ParallelTemperingMonteCarlo.jl/scripts/\")\n",
    "multihistogram(results,temp)\n",
    "using DelimitedFiles\n",
    "analysisfile = open(\"analysis.NVT\",\"r\")\n",
    "analysis = readdlm(analysisfile)\n",
    "close(analysisfile)\n",
    "using Plots\n",
    "\n",
    "plot(analysis[2:end,1],analysis[2:end,3])\n",
    "png(\"cv.png\")\n",
    "\n",
    "\n",
    "histfile = open(\"histograms.data\",\"r\")\n",
    "histograms = readdlm(histfile)\n",
    "close(histfile)\n",
    "energies = histograms[1,:]\n",
    "histogram_data = histograms[1:end,:]\n",
    "data = [histogram_data[i,:] for i in 1:n_traj]\n",
    "plot(energies,data,legend=false)\n",
    "png(\"histograms.png\")\n"
   ]
  },
  {
   "cell_type": "code",
   "execution_count": 20,
   "metadata": {},
   "outputs": [],
   "source": [
    "for j = 1:100\n",
    "    ParallelRun.pptmc_cycle(parallel_states,mc_params,results,move_strat,pot_vector,ensemble,n_threads,delta_en,13,a,v,r,pwd())\n",
    "end\n",
    "energymatrix = []\n",
    "\n",
    "for i=1:n_threads\n",
    "    energies = [parallel_states[i][j].en_tot for j = 1:mc_params.n_traj]\n",
    "    push!(energymatrix,energies)\n",
    "end\n",
    "\n",
    "for i = 1:n_threads\n",
    "    for j in 1:n_traj\n",
    "        en_test = dimer_energy_config(parallel_states[i][j].dist2_mat,13,pot)[2]\n",
    "        if isapprox(en_test, energymatrix[i][j]) == false\n",
    "            println(\"It broke at $i,$j\")\n",
    "            break\n",
    "        end\n",
    "    end\n",
    "end\n",
    "energymatrix"
   ]
  },
  {
   "cell_type": "code",
   "execution_count": 4,
   "metadata": {},
   "outputs": [
    {
     "name": "stdout",
     "output_type": "stream",
     "text": [
      "Beginning Equilibration\n",
      "\n",
      "\n"
     ]
    },
    {
     "name": "stdout",
     "output_type": "stream",
     "text": [
      "equilibration done\n",
      "504 cycles of 1000 per 2 thread\n",
      "\n"
     ]
    },
    {
     "name": "stdout",
     "output_type": "stream",
     "text": [
      "main loop complete\n",
      "\n",
      "\n",
      "beginning statistics\n",
      "\n",
      "\n"
     ]
    },
    {
     "name": "stdout",
     "output_type": "stream",
     "text": [
      "done\n"
     ]
    },
    {
     "name": "stdout",
     "output_type": "stream",
     "text": [
      "Beginning Equilibration\n",
      "\n",
      "\n"
     ]
    },
    {
     "name": "stdout",
     "output_type": "stream",
     "text": [
      "equilibration done\n",
      "504 cycles of 1000 per 2 thread\n",
      "\n"
     ]
    },
    {
     "name": "stdout",
     "output_type": "stream",
     "text": [
      "main loop complete\n",
      "\n",
      "\n",
      "beginning statistics\n",
      "\n",
      "\n",
      "done\n"
     ]
    },
    {
     "name": "stdout",
     "output_type": "stream",
     "text": [
      "Beginning Equilibration\n",
      "\n",
      "\n"
     ]
    },
    {
     "name": "stdout",
     "output_type": "stream",
     "text": [
      "equilibration done\n",
      "504 cycles of 1000 per 2 thread\n",
      "\n"
     ]
    },
    {
     "name": "stdout",
     "output_type": "stream",
     "text": [
      "main loop complete\n",
      "\n",
      "\n",
      "beginning statistics\n",
      "\n",
      "\n",
      "done\n"
     ]
    },
    {
     "name": "stdout",
     "output_type": "stream",
     "text": [
      "Beginning Equilibration\n",
      "\n",
      "\n"
     ]
    },
    {
     "name": "stdout",
     "output_type": "stream",
     "text": [
      "equilibration done\n",
      "504 cycles of 1000 per 2 thread\n",
      "\n"
     ]
    },
    {
     "name": "stdout",
     "output_type": "stream",
     "text": [
      "main loop complete\n",
      "\n",
      "\n",
      "beginning statistics\n",
      "\n",
      "\n",
      "done\n",
      "Beginning Equilibration\n",
      "\n",
      "\n"
     ]
    },
    {
     "name": "stdout",
     "output_type": "stream",
     "text": [
      "equilibration done\n",
      "336 cycles of 1000 per 3 thread\n",
      "\n"
     ]
    },
    {
     "name": "stdout",
     "output_type": "stream",
     "text": [
      "main loop complete\n",
      "\n",
      "\n",
      "beginning statistics\n",
      "\n",
      "\n",
      "done\n",
      "Beginning Equilibration\n",
      "\n",
      "\n"
     ]
    },
    {
     "name": "stdout",
     "output_type": "stream",
     "text": [
      "equilibration done\n",
      "336 cycles of 1000 per 3 thread\n",
      "\n"
     ]
    },
    {
     "name": "stdout",
     "output_type": "stream",
     "text": [
      "main loop complete\n",
      "\n",
      "\n",
      "beginning statistics\n",
      "\n",
      "\n",
      "done\n"
     ]
    },
    {
     "name": "stdout",
     "output_type": "stream",
     "text": [
      "Beginning Equilibration\n",
      "\n",
      "\n"
     ]
    },
    {
     "name": "stdout",
     "output_type": "stream",
     "text": [
      "equilibration done\n",
      "336 cycles of 1000 per 3 thread\n",
      "\n"
     ]
    },
    {
     "name": "stdout",
     "output_type": "stream",
     "text": [
      "main loop complete\n",
      "\n",
      "\n",
      "beginning statistics\n",
      "\n",
      "\n",
      "done\n"
     ]
    },
    {
     "name": "stdout",
     "output_type": "stream",
     "text": [
      "Beginning Equilibration\n",
      "\n",
      "\n"
     ]
    },
    {
     "name": "stdout",
     "output_type": "stream",
     "text": [
      "equilibration done\n",
      "336 cycles of 1000 per 3 thread\n",
      "\n"
     ]
    },
    {
     "name": "stdout",
     "output_type": "stream",
     "text": [
      "main loop complete\n",
      "\n",
      "\n",
      "beginning statistics\n",
      "\n",
      "\n",
      "done\n",
      "Beginning Equilibration\n",
      "\n",
      "\n"
     ]
    },
    {
     "name": "stdout",
     "output_type": "stream",
     "text": [
      "equilibration done\n",
      "252 cycles of 1000 per 4 thread\n",
      "\n"
     ]
    },
    {
     "name": "stdout",
     "output_type": "stream",
     "text": [
      "main loop complete\n",
      "\n",
      "\n",
      "beginning statistics\n",
      "\n",
      "\n",
      "done\n",
      "Beginning Equilibration\n",
      "\n",
      "\n"
     ]
    },
    {
     "name": "stdout",
     "output_type": "stream",
     "text": [
      "equilibration done\n",
      "252 cycles of 1000 per 4 thread\n",
      "\n"
     ]
    },
    {
     "name": "stdout",
     "output_type": "stream",
     "text": [
      "main loop complete\n",
      "\n",
      "\n",
      "beginning statistics\n",
      "\n",
      "\n",
      "done\n"
     ]
    },
    {
     "name": "stdout",
     "output_type": "stream",
     "text": [
      "Beginning Equilibration\n",
      "\n",
      "\n"
     ]
    },
    {
     "name": "stdout",
     "output_type": "stream",
     "text": [
      "equilibration done\n",
      "252 cycles of 1000 per 4 thread\n",
      "\n"
     ]
    },
    {
     "name": "stdout",
     "output_type": "stream",
     "text": [
      "main loop complete\n",
      "\n",
      "\n",
      "beginning statistics\n",
      "\n",
      "\n",
      "done\n"
     ]
    },
    {
     "name": "stdout",
     "output_type": "stream",
     "text": [
      "Beginning Equilibration\n",
      "\n",
      "\n"
     ]
    },
    {
     "name": "stdout",
     "output_type": "stream",
     "text": [
      "equilibration done\n",
      "252 cycles of 1000 per 4 thread\n",
      "\n"
     ]
    },
    {
     "name": "stdout",
     "output_type": "stream",
     "text": [
      "main loop complete\n",
      "\n",
      "\n",
      "beginning statistics\n",
      "\n",
      "\n",
      "done\n",
      "Beginning Equilibration\n",
      "\n",
      "\n"
     ]
    },
    {
     "name": "stdout",
     "output_type": "stream",
     "text": [
      "equilibration done\n",
      "201 cycles of 1000 per 5 thread\n",
      "\n"
     ]
    },
    {
     "name": "stdout",
     "output_type": "stream",
     "text": [
      "main loop complete\n",
      "\n",
      "\n",
      "beginning statistics\n",
      "\n",
      "\n",
      "done\n",
      "Beginning Equilibration\n",
      "\n",
      "\n"
     ]
    },
    {
     "name": "stdout",
     "output_type": "stream",
     "text": [
      "equilibration done\n",
      "201 cycles of 1000 per 5 thread\n",
      "\n"
     ]
    },
    {
     "name": "stdout",
     "output_type": "stream",
     "text": [
      "main loop complete\n",
      "\n",
      "\n",
      "beginning statistics\n",
      "\n",
      "\n",
      "done\n"
     ]
    },
    {
     "name": "stdout",
     "output_type": "stream",
     "text": [
      "Beginning Equilibration\n",
      "\n",
      "\n"
     ]
    },
    {
     "name": "stdout",
     "output_type": "stream",
     "text": [
      "equilibration done\n",
      "201 cycles of 1000 per 5 thread\n",
      "\n"
     ]
    },
    {
     "name": "stdout",
     "output_type": "stream",
     "text": [
      "main loop complete\n",
      "\n",
      "\n",
      "beginning statistics\n",
      "\n",
      "\n",
      "done\n"
     ]
    },
    {
     "name": "stdout",
     "output_type": "stream",
     "text": [
      "Beginning Equilibration\n",
      "\n",
      "\n"
     ]
    },
    {
     "name": "stdout",
     "output_type": "stream",
     "text": [
      "equilibration done\n",
      "201 cycles of 1000 per 5 thread\n",
      "\n"
     ]
    },
    {
     "name": "stdout",
     "output_type": "stream",
     "text": [
      "main loop complete\n",
      "\n",
      "\n",
      "beginning statistics\n",
      "\n",
      "\n",
      "done\n",
      "Beginning Equilibration\n",
      "\n",
      "\n"
     ]
    },
    {
     "name": "stdout",
     "output_type": "stream",
     "text": [
      "equilibration done\n",
      "168 cycles of 1000 per 6 thread\n",
      "\n"
     ]
    },
    {
     "name": "stdout",
     "output_type": "stream",
     "text": [
      "main loop complete\n",
      "\n",
      "\n",
      "beginning statistics\n",
      "\n",
      "\n",
      "done\n",
      "Beginning Equilibration\n",
      "\n",
      "\n"
     ]
    },
    {
     "name": "stdout",
     "output_type": "stream",
     "text": [
      "equilibration done\n",
      "168 cycles of 1000 per 6 thread\n",
      "\n"
     ]
    },
    {
     "name": "stdout",
     "output_type": "stream",
     "text": [
      "main loop complete\n",
      "\n",
      "\n",
      "beginning statistics\n",
      "\n",
      "\n",
      "done\n"
     ]
    },
    {
     "name": "stdout",
     "output_type": "stream",
     "text": [
      "Beginning Equilibration\n",
      "\n",
      "\n"
     ]
    },
    {
     "name": "stdout",
     "output_type": "stream",
     "text": [
      "equilibration done\n",
      "168 cycles of 1000 per 6 thread\n",
      "\n"
     ]
    },
    {
     "name": "stdout",
     "output_type": "stream",
     "text": [
      "main loop complete\n",
      "\n",
      "\n",
      "beginning statistics\n",
      "\n",
      "\n",
      "done\n"
     ]
    },
    {
     "name": "stdout",
     "output_type": "stream",
     "text": [
      "Beginning Equilibration\n",
      "\n",
      "\n"
     ]
    },
    {
     "name": "stdout",
     "output_type": "stream",
     "text": [
      "equilibration done\n",
      "168 cycles of 1000 per 6 thread\n",
      "\n"
     ]
    },
    {
     "name": "stdout",
     "output_type": "stream",
     "text": [
      "main loop complete\n",
      "\n",
      "\n",
      "beginning statistics\n",
      "\n",
      "\n",
      "done\n",
      "Beginning Equilibration\n",
      "\n",
      "\n"
     ]
    },
    {
     "name": "stdout",
     "output_type": "stream",
     "text": [
      "equilibration done\n",
      "144 cycles of 1000 per 7 thread\n",
      "\n"
     ]
    },
    {
     "name": "stdout",
     "output_type": "stream",
     "text": [
      "main loop complete\n",
      "\n",
      "\n",
      "beginning statistics\n",
      "\n",
      "\n",
      "done\n",
      "Beginning Equilibration\n",
      "\n",
      "\n"
     ]
    },
    {
     "name": "stdout",
     "output_type": "stream",
     "text": [
      "equilibration done\n",
      "144 cycles of 1000 per 7 thread\n",
      "\n"
     ]
    },
    {
     "name": "stdout",
     "output_type": "stream",
     "text": [
      "main loop complete\n",
      "\n",
      "\n",
      "beginning statistics\n",
      "\n",
      "\n",
      "done\n"
     ]
    },
    {
     "name": "stdout",
     "output_type": "stream",
     "text": [
      "Beginning Equilibration\n",
      "\n",
      "\n"
     ]
    },
    {
     "name": "stdout",
     "output_type": "stream",
     "text": [
      "equilibration done\n",
      "144 cycles of 1000 per 7 thread\n",
      "\n"
     ]
    },
    {
     "name": "stdout",
     "output_type": "stream",
     "text": [
      "main loop complete\n",
      "\n",
      "\n",
      "beginning statistics\n",
      "\n",
      "\n",
      "done\n"
     ]
    },
    {
     "name": "stdout",
     "output_type": "stream",
     "text": [
      "Beginning Equilibration\n",
      "\n",
      "\n"
     ]
    },
    {
     "name": "stdout",
     "output_type": "stream",
     "text": [
      "equilibration done\n",
      "144 cycles of 1000 per 7 thread\n",
      "\n"
     ]
    },
    {
     "name": "stdout",
     "output_type": "stream",
     "text": [
      "main loop complete\n",
      "\n",
      "\n",
      "beginning statistics\n",
      "\n",
      "\n",
      "done\n"
     ]
    },
    {
     "name": "stdout",
     "output_type": "stream",
     "text": [
      "Beginning Equilibration\n",
      "\n",
      "\n"
     ]
    },
    {
     "name": "stdout",
     "output_type": "stream",
     "text": [
      "equilibration done\n",
      "126 cycles of 1000 per 8 thread\n",
      "\n"
     ]
    },
    {
     "name": "stdout",
     "output_type": "stream",
     "text": [
      "main loop complete\n",
      "\n",
      "\n",
      "beginning statistics\n",
      "\n",
      "\n",
      "done\n",
      "Beginning Equilibration\n",
      "\n",
      "\n"
     ]
    },
    {
     "name": "stdout",
     "output_type": "stream",
     "text": [
      "equilibration done\n",
      "126 cycles of 1000 per 8 thread\n",
      "\n"
     ]
    },
    {
     "name": "stdout",
     "output_type": "stream",
     "text": [
      "main loop complete\n",
      "\n",
      "\n",
      "beginning statistics\n",
      "\n",
      "\n",
      "done\n"
     ]
    },
    {
     "name": "stdout",
     "output_type": "stream",
     "text": [
      "Beginning Equilibration\n",
      "\n",
      "\n"
     ]
    },
    {
     "name": "stdout",
     "output_type": "stream",
     "text": [
      "equilibration done\n",
      "126 cycles of 1000 per 8 thread\n",
      "\n"
     ]
    },
    {
     "name": "stdout",
     "output_type": "stream",
     "text": [
      "main loop complete\n",
      "\n",
      "\n",
      "beginning statistics\n",
      "\n",
      "\n",
      "done\n"
     ]
    },
    {
     "name": "stdout",
     "output_type": "stream",
     "text": [
      "Beginning Equilibration\n",
      "\n",
      "\n"
     ]
    },
    {
     "name": "stdout",
     "output_type": "stream",
     "text": [
      "equilibration done\n",
      "126 cycles of 1000 per 8 thread\n",
      "\n"
     ]
    },
    {
     "name": "stdout",
     "output_type": "stream",
     "text": [
      "main loop complete\n",
      "\n",
      "\n",
      "beginning statistics\n",
      "\n",
      "\n",
      "done\n"
     ]
    }
   ],
   "source": [
    "#using BenchmarkTools\n",
    "times = []\n",
    "for j=2:8\n",
    "    \n",
    "    run_states = [MCState(temp.t_grid[i], temp.beta_grid[i], start_config, pot; max_displ=[max_displ_atom[i],0.01,1.]) for i in 1:n_traj]\n",
    "    results = Output{Float64}(n_bin; en_min = run_states[1].en_tot)   \n",
    "    ttemp = @benchmark ParallelRun.pptmc_run!(run_states,move_strat,mc_params,pot,ensemble,results,save_dir=\"/home/ghun245/ParallelTemperingMonteCarlo.jl/scripts/\",n_threads=$j)\n",
    "    \n",
    "    push!(times,ttemp)\n",
    "end\n",
    "trials = times\n",
    "times = [median(trials[i]).time for i in 1:7]\n",
    "pushfirst!(times,191476000000)\n",
    "x = [i for i=1:8]\n",
    "plot(x,times/(1e9),legend = false,xlabel=\"threads\",ylabel=\"trial time (s)\")"
   ]
  },
  {
   "cell_type": "markdown",
   "metadata": {},
   "source": [
    "Above is a plot demonstrating the improvement additional threads provide "
   ]
  },
  {
   "cell_type": "code",
   "execution_count": 41,
   "metadata": {},
   "outputs": [
    {
     "data": {
      "text/plain": [
       "BenchmarkTools.Trial: 10000 samples with 695 evaluations.\n",
       " Range \u001b[90m(\u001b[39m\u001b[36m\u001b[1mmin\u001b[22m\u001b[39m … \u001b[35mmax\u001b[39m\u001b[90m):  \u001b[39m\u001b[36m\u001b[1m156.049 ns\u001b[22m\u001b[39m … \u001b[35m94.437 μs\u001b[39m  \u001b[90m┊\u001b[39m GC \u001b[90m(\u001b[39mmin … max\u001b[90m): \u001b[39m 0.00% … 98.99%\n",
       " Time  \u001b[90m(\u001b[39m\u001b[34m\u001b[1mmedian\u001b[22m\u001b[39m\u001b[90m):     \u001b[39m\u001b[34m\u001b[1m210.306 ns              \u001b[22m\u001b[39m\u001b[90m┊\u001b[39m GC \u001b[90m(\u001b[39mmedian\u001b[90m):    \u001b[39m 0.00%\n",
       " Time  \u001b[90m(\u001b[39m\u001b[32m\u001b[1mmean\u001b[22m\u001b[39m ± \u001b[32mσ\u001b[39m\u001b[90m):   \u001b[39m\u001b[32m\u001b[1m334.685 ns\u001b[22m\u001b[39m ± \u001b[32m 1.432 μs\u001b[39m  \u001b[90m┊\u001b[39m GC \u001b[90m(\u001b[39mmean ± σ\u001b[90m):  \u001b[39m14.67% ±  3.92%\n",
       "\n",
       "  \u001b[39m▅\u001b[39m█\u001b[39m▇\u001b[39m▆\u001b[34m▅\u001b[39m\u001b[39m▄\u001b[39m▄\u001b[39m▄\u001b[39m▄\u001b[39m▃\u001b[39m▃\u001b[39m▃\u001b[32m▃\u001b[39m\u001b[39m▃\u001b[39m▂\u001b[39m▂\u001b[39m▂\u001b[39m▂\u001b[39m▂\u001b[39m▂\u001b[39m▁\u001b[39m▁\u001b[39m▁\u001b[39m▁\u001b[39m▁\u001b[39m \u001b[39m▁\u001b[39m \u001b[39m \u001b[39m \u001b[39m \u001b[39m \u001b[39m \u001b[39m \u001b[39m \u001b[39m \u001b[39m \u001b[39m \u001b[39m \u001b[39m \u001b[39m \u001b[39m \u001b[39m \u001b[39m \u001b[39m \u001b[39m \u001b[39m \u001b[39m \u001b[39m \u001b[39m \u001b[39m \u001b[39m \u001b[39m \u001b[39m \u001b[39m \u001b[39m \u001b[39m \u001b[39m \u001b[39m \u001b[39m \u001b[39m \u001b[39m▂\n",
       "  \u001b[39m█\u001b[39m█\u001b[39m█\u001b[39m█\u001b[34m█\u001b[39m\u001b[39m█\u001b[39m█\u001b[39m█\u001b[39m█\u001b[39m█\u001b[39m█\u001b[39m█\u001b[32m█\u001b[39m\u001b[39m█\u001b[39m█\u001b[39m█\u001b[39m█\u001b[39m█\u001b[39m█\u001b[39m█\u001b[39m█\u001b[39m█\u001b[39m█\u001b[39m█\u001b[39m█\u001b[39m█\u001b[39m█\u001b[39m█\u001b[39m█\u001b[39m█\u001b[39m█\u001b[39m█\u001b[39m█\u001b[39m█\u001b[39m▇\u001b[39m█\u001b[39m█\u001b[39m▇\u001b[39m▇\u001b[39m▆\u001b[39m▇\u001b[39m▇\u001b[39m▆\u001b[39m▇\u001b[39m▅\u001b[39m▆\u001b[39m▆\u001b[39m▆\u001b[39m▆\u001b[39m▆\u001b[39m▆\u001b[39m▆\u001b[39m▅\u001b[39m▅\u001b[39m▅\u001b[39m▄\u001b[39m▅\u001b[39m▅\u001b[39m▆\u001b[39m▄\u001b[39m \u001b[39m█\n",
       "  156 ns\u001b[90m        \u001b[39m\u001b[90mHistogram: \u001b[39m\u001b[90m\u001b[1mlog(\u001b[22m\u001b[39m\u001b[90mfrequency\u001b[39m\u001b[90m\u001b[1m)\u001b[22m\u001b[39m\u001b[90m by time\u001b[39m      1.07 μs \u001b[0m\u001b[1m<\u001b[22m\n",
       "\n",
       " Memory estimate\u001b[90m: \u001b[39m\u001b[33m125 bytes\u001b[39m, allocs estimate\u001b[90m: \u001b[39m\u001b[33m3\u001b[39m."
      ]
     },
     "metadata": {},
     "output_type": "display_data"
    }
   ],
   "source": [
    "@benchmark ParallelRun.threadexchange!(parallel_states,n_threads,rand(1:mc_params.n_traj))"
   ]
  },
  {
   "cell_type": "code",
   "execution_count": null,
   "metadata": {},
   "outputs": [],
   "source": []
  }
 ],
 "metadata": {
  "kernelspec": {
   "display_name": "Julia 1.8.0",
   "language": "julia",
   "name": "julia-1.8"
  },
  "language_info": {
   "file_extension": ".jl",
   "mimetype": "application/julia",
   "name": "julia",
   "version": "1.8.0"
  },
  "orig_nbformat": 4
 },
 "nbformat": 4,
 "nbformat_minor": 2
}
