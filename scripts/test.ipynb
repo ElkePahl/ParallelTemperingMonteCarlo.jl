{
 "cells": [
  {
   "cell_type": "code",
   "execution_count": 1,
   "metadata": {},
   "outputs": [
    {
     "name": "stderr",
     "output_type": "stream",
     "text": [
      "\u001b[91m\u001b[1mERROR: \u001b[22m\u001b[39m"
     ]
    },
    {
     "name": "stderr",
     "output_type": "stream",
     "text": [
      "LoadError: "
     ]
    },
    {
     "name": "stderr",
     "output_type": "stream",
     "text": [
      "UndefVarError: AbstractDimerPotential not defined\n",
      "Stacktrace:\n",
      " [1] top-level scope\n",
      "\u001b[90m   @ \u001b[39m\u001b[90m~/Code/ParallelTemperingMonteCarlo.jl/src/\u001b[39m\u001b[90m\u001b[4mMCStates.jl:55\u001b[24m\u001b[39m\n",
      " [2] \u001b[0m\u001b[1minclude\u001b[22m\u001b[0m\u001b[1m(\u001b[22m\u001b[90mmod\u001b[39m::\u001b[0mModule, \u001b[90m_path\u001b[39m::\u001b[0mString\u001b[0m\u001b[1m)\u001b[22m\n",
      "\u001b[90m   @ \u001b[39m\u001b[90mBase\u001b[39m \u001b[90m./\u001b[39m\u001b[90m\u001b[4mBase.jl:419\u001b[24m\u001b[39m\n",
      " [3] \u001b[0m\u001b[1minclude\u001b[22m\u001b[0m\u001b[1m(\u001b[22m\u001b[90mx\u001b[39m::\u001b[0mString\u001b[0m\u001b[1m)\u001b[22m\n",
      "\u001b[90m   @ \u001b[39m\u001b[35mParallelTemperingMonteCarlo\u001b[39m \u001b[90m~/Code/ParallelTemperingMonteCarlo.jl/src/\u001b[39m\u001b[90m\u001b[4mParallelTemperingMonteCarlo.jl:1\u001b[24m\u001b[39m\n",
      " [4] top-level scope\n",
      "\u001b[90m   @ \u001b[39m\u001b[90m~/Code/ParallelTemperingMonteCarlo.jl/src/\u001b[39m\u001b[90m\u001b[4mParallelTemperingMonteCarlo.jl:8\u001b[24m\u001b[39m\n",
      " [5] \u001b[0m\u001b[1minclude\u001b[22m\n",
      "\u001b[90m   @ \u001b[39m\u001b[90m./\u001b[39m\u001b[90m\u001b[4mBase.jl:419\u001b[24m\u001b[39m\u001b[90m [inlined]\u001b[39m\n",
      " [6] \u001b[0m\u001b[1minclude_package_for_output\u001b[22m\u001b[0m\u001b[1m(\u001b[22m\u001b[90mpkg\u001b[39m::\u001b[0mBase.PkgId, \u001b[90minput\u001b[39m::\u001b[0mString, \u001b[90mdepot_path\u001b[39m::\u001b[0mVector\u001b[90m{String}\u001b[39m, \u001b[90mdl_load_path\u001b[39m::\u001b[0mVector\u001b[90m{String}\u001b[39m, \u001b[90mload_path\u001b[39m::\u001b[0mVector\u001b[90m{String}\u001b[39m, \u001b[90mconcrete_deps\u001b[39m::\u001b[0mVector\u001b[90m{Pair{Base.PkgId, UInt64}}\u001b[39m, \u001b[90msource\u001b[39m::\u001b[0mString\u001b[0m\u001b[1m)\u001b[22m\n",
      "\u001b[90m   @ \u001b[39m\u001b[90mBase\u001b[39m \u001b[90m./\u001b[39m\u001b[90m\u001b[4mloading.jl:1554\u001b[24m\u001b[39m\n",
      " [7] top-level scope\n",
      "\u001b[90m   @ \u001b[39m\u001b[90m\u001b[4mstdin:1\u001b[24m\u001b[39m\n",
      "in expression starting at /home/grayseff/Code/ParallelTemperingMonteCarlo.jl/src/MCStates.jl:1\n",
      "in expression starting at /home/grayseff/Code/ParallelTemperingMonteCarlo.jl/src/ParallelTemperingMonteCarlo.jl:1\n",
      "in expression starting at stdin:1\n"
     ]
    },
    {
     "ename": "ErrorException",
     "evalue": "Failed to precompile ParallelTemperingMonteCarlo [3b4a078d-6172-48b3-819b-6f35da58c07f] to /home/grayseff/.julia/compiled/v1.8/ParallelTemperingMonteCarlo/jl_ahwQNB.",
     "output_type": "error",
     "traceback": [
      "Failed to precompile ParallelTemperingMonteCarlo [3b4a078d-6172-48b3-819b-6f35da58c07f] to /home/grayseff/.julia/compiled/v1.8/ParallelTemperingMonteCarlo/jl_ahwQNB.\n",
      "\n",
      "Stacktrace:\n",
      "  [1] error(s::String)\n",
      "    @ Base ./error.jl:35\n",
      "  [2] compilecache(pkg::Base.PkgId, path::String, internal_stderr::IO, internal_stdout::IO, keep_loaded_modules::Bool)\n",
      "    @ Base ./loading.jl:1705\n",
      "  [3] compilecache\n",
      "    @ ./loading.jl:1649 [inlined]\n",
      "  [4] _require(pkg::Base.PkgId)\n",
      "    @ Base ./loading.jl:1337\n",
      "  [5] _require_prelocked(uuidkey::Base.PkgId)\n",
      "    @ Base ./loading.jl:1200\n",
      "  [6] macro expansion\n",
      "    @ ./loading.jl:1180 [inlined]\n",
      "  [7] macro expansion\n",
      "    @ ./lock.jl:223 [inlined]\n",
      "  [8] require(into::Module, mod::Symbol)\n",
      "    @ Base ./loading.jl:1144\n",
      "  [9] eval\n",
      "    @ ./boot.jl:368 [inlined]\n",
      " [10] include_string(mapexpr::typeof(REPL.softscope), mod::Module, code::String, filename::String)\n",
      "    @ Base ./loading.jl:1428\n",
      " [11] #invokelatest#2\n",
      "    @ ./essentials.jl:729 [inlined]\n",
      " [12] invokelatest\n",
      "    @ ./essentials.jl:726 [inlined]\n",
      " [13] (::VSCodeServer.var\"#198#199\"{VSCodeServer.NotebookRunCellArguments, String})()\n",
      "    @ VSCodeServer ~/.vscode-server/extensions/julialang.language-julia-1.38.2/scripts/packages/VSCodeServer/src/serve_notebook.jl:19\n",
      " [14] withpath(f::VSCodeServer.var\"#198#199\"{VSCodeServer.NotebookRunCellArguments, String}, path::String)\n",
      "    @ VSCodeServer ~/.vscode-server/extensions/julialang.language-julia-1.38.2/scripts/packages/VSCodeServer/src/repl.jl:249\n",
      " [15] notebook_runcell_request(conn::VSCodeServer.JSONRPC.JSONRPCEndpoint{Base.PipeEndpoint, Base.PipeEndpoint}, params::VSCodeServer.NotebookRunCellArguments)\n",
      "    @ VSCodeServer ~/.vscode-server/extensions/julialang.language-julia-1.38.2/scripts/packages/VSCodeServer/src/serve_notebook.jl:13\n",
      " [16] dispatch_msg(x::VSCodeServer.JSONRPC.JSONRPCEndpoint{Base.PipeEndpoint, Base.PipeEndpoint}, dispatcher::VSCodeServer.JSONRPC.MsgDispatcher, msg::Dict{String, Any})\n",
      "    @ VSCodeServer.JSONRPC ~/.vscode-server/extensions/julialang.language-julia-1.38.2/scripts/packages/JSONRPC/src/typed.jl:67\n",
      " [17] serve_notebook(pipename::String, outputchannel_logger::Base.CoreLogging.SimpleLogger; crashreporting_pipename::String)\n",
      "    @ VSCodeServer ~/.vscode-server/extensions/julialang.language-julia-1.38.2/scripts/packages/VSCodeServer/src/serve_notebook.jl:139\n",
      " [18] top-level scope\n",
      "    @ ~/.vscode-server/extensions/julialang.language-julia-1.38.2/scripts/notebook/notebook.jl:32"
     ]
    }
   ],
   "source": [
    "using ParallelTemperingMonteCarlo\n",
    "using DelimitedFiles\n",
    "using StaticArrays\n",
    "using Random, Plots\n"
   ]
  },
  {
   "cell_type": "code",
   "execution_count": 5,
   "metadata": {},
   "outputs": [],
   "source": []
  }
 ],
 "metadata": {
  "kernelspec": {
   "display_name": "Julia 1.8.0",
   "language": "julia",
   "name": "julia-1.8"
  },
  "language_info": {
   "file_extension": ".jl",
   "mimetype": "application/julia",
   "name": "julia",
   "version": "1.8.0"
  },
  "orig_nbformat": 4
 },
 "nbformat": 4,
 "nbformat_minor": 2
}
