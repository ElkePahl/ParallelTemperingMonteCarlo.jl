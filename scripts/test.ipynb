{
 "cells": [
  {
   "cell_type": "code",
   "execution_count": 1,
   "metadata": {},
   "outputs": [
    {
     "name": "stderr",
     "output_type": "stream",
     "text": [
      "WARNING: Method definition mc_cycle!(Any, Any, Any, ParallelTemperingMonteCarlo.EnergyEvaluation.AbstractMLPotential, Any, Any, Any, Any, Any) in module MCRun at /home/ghun245/ParallelTemperingMonteCarlo.jl/src/MCRun.jl:314 overwritten at /home/ghun245/ParallelTemperingMonteCarlo.jl/src/MCRun.jl:366.\n",
      "  ** incremental compilation may be fatally broken for this module **\n",
      "\n"
     ]
    },
    {
     "name": "stderr",
     "output_type": "stream",
     "text": [
      "\u001b[33m\u001b[1m┌ \u001b[22m\u001b[39m\u001b[33m\u001b[1mWarning: \u001b[22m\u001b[39mReplacing docs for `ParallelTemperingMonteCarlo.MCRun.mc_cycle! :: Tuple{Any, Any, Any, ParallelTemperingMonteCarlo.EnergyEvaluation.AbstractMLPotential, Any, Any, Any, Any, Any}` in module `ParallelTemperingMonteCarlo.MCRun`\n",
      "\u001b[33m\u001b[1m└ \u001b[22m\u001b[39m\u001b[90m@ Base.Docs docs/Docs.jl:240\u001b[39m\n",
      "WARNING: Method definition sampling_step!(Any, Any, Any, Bool) in module MCRun at /home/ghun245/ParallelTemperingMonteCarlo.jl/src/MCRun.jl:416 overwritten at /home/ghun245/ParallelTemperingMonteCarlo.jl/src/MCRun.jl:617.\n",
      "  ** incremental compilation may be fatally broken for this module **\n",
      "\n",
      "\u001b[33m\u001b[1m┌ \u001b[22m\u001b[39m\u001b[33m\u001b[1mWarning: \u001b[22m\u001b[39mReplacing docs for `ParallelTemperingMonteCarlo.MCRun.sampling_step! :: Tuple{Any, Any, Any, Bool}` in module `ParallelTemperingMonteCarlo.MCRun`\n",
      "\u001b[33m\u001b[1m└ \u001b[22m\u001b[39m\u001b[90m@ Base.Docs docs/Docs.jl:240\u001b[39m\n",
      "WARNING: Method definition save_params(Base.IOStream, ParallelTemperingMonteCarlo.InputParams.MCParams) in module MCRun at /home/ghun245/ParallelTemperingMonteCarlo.jl/src/MCRun.jl:434 overwritten at /home/ghun245/ParallelTemperingMonteCarlo.jl/src/MCRun.jl:634.\n",
      "  ** incremental compilation may be fatally broken for this module **\n",
      "\n",
      "\u001b[33m\u001b[1m┌ \u001b[22m\u001b[39m\u001b[33m\u001b[1mWarning: \u001b[22m\u001b[39mReplacing docs for `ParallelTemperingMonteCarlo.MCRun.save_params :: Tuple{IOStream, ParallelTemperingMonteCarlo.InputParams.MCParams}` in module `ParallelTemperingMonteCarlo.MCRun`\n",
      "\u001b[33m\u001b[1m└ \u001b[22m\u001b[39m\u001b[90m@ Base.Docs docs/Docs.jl:240\u001b[39m\n",
      "WARNING: Method definition save_state(Base.IOStream, ParallelTemperingMonteCarlo.MCRun.MCState{T, N, BC} where BC where N where T) in module MCRun at /home/ghun245/ParallelTemperingMonteCarlo.jl/src/MCRun.jl:448 overwritten at /home/ghun245/ParallelTemperingMonteCarlo.jl/src/MCRun.jl:648.\n",
      "  ** incremental compilation may be fatally broken for this module **\n",
      "\n",
      "\u001b[33m\u001b[1m┌ \u001b[22m\u001b[39m\u001b[33m\u001b[1mWarning: \u001b[22m\u001b[39mReplacing docs for `ParallelTemperingMonteCarlo.MCRun.save_state :: Tuple{IOStream, ParallelTemperingMonteCarlo.MCRun.MCState}` in module `ParallelTemperingMonteCarlo.MCRun`\n",
      "\u001b[33m\u001b[1m└ \u001b[22m\u001b[39m\u001b[90m@ Base.Docs docs/Docs.jl:240\u001b[39m\n",
      "WARNING: Method definition save_results(ParallelTemperingMonteCarlo.InputParams.Output{T} where T) in module MCRun at /home/ghun245/ParallelTemperingMonteCarlo.jl/src/MCRun.jl:481 overwritten at /home/ghun245/ParallelTemperingMonteCarlo.jl/src/MCRun.jl:680.\n",
      "  ** incremental compilation may be fatally broken for this module **\n",
      "\n",
      "WARNING: Method definition save_results##kw(Any, typeof(ParallelTemperingMonteCarlo.MCRun.save_results), ParallelTemperingMonteCarlo.InputParams.Output{T} where T) in module MCRun at /home/ghun245/ParallelTemperingMonteCarlo.jl/src/MCRun.jl:481 overwritten at /home/ghun245/ParallelTemperingMonteCarlo.jl/src/MCRun.jl:680.\n",
      "  ** incremental compilation may be fatally broken for this module **\n",
      "\n",
      "\u001b[33m\u001b[1m┌ \u001b[22m\u001b[39m\u001b[33m\u001b[1mWarning: \u001b[22m\u001b[39mReplacing docs for `ParallelTemperingMonteCarlo.MCRun.save_results :: Tuple{ParallelTemperingMonteCarlo.InputParams.Output}` in module `ParallelTemperingMonteCarlo.MCRun`\n",
      "\u001b[33m\u001b[1m└ \u001b[22m\u001b[39m\u001b[90m@ Base.Docs docs/Docs.jl:240\u001b[39m\n",
      "WARNING: Method definition initialise_histograms!(Any, Any, Any) in module MCRun at /home/ghun245/ParallelTemperingMonteCarlo.jl/src/MCRun.jl:511 overwritten at /home/ghun245/ParallelTemperingMonteCarlo.jl/src/MCRun.jl:722.\n",
      "  ** incremental compilation may be fatally broken for this module **\n",
      "\n",
      "WARNING: Method definition initialise_histograms!##kw(Any, typeof(ParallelTemperingMonteCarlo.MCRun.initialise_histograms!), Any, Any, Any) in module MCRun at /home/ghun245/ParallelTemperingMonteCarlo.jl/src/MCRun.jl:511 overwritten at /home/ghun245/ParallelTemperingMonteCarlo.jl/src/MCRun.jl:722.\n",
      "  ** incremental compilation may be fatally broken for this module **\n",
      "\n",
      "\u001b[33m\u001b[1m┌ \u001b[22m\u001b[39m\u001b[33m\u001b[1mWarning: \u001b[22m\u001b[39mReplacing docs for `ParallelTemperingMonteCarlo.MCRun.initialise_histograms! :: Tuple{Any, Any, Any}` in module `ParallelTemperingMonteCarlo.MCRun`\n",
      "\u001b[33m\u001b[1m└ \u001b[22m\u001b[39m\u001b[90m@ Base.Docs docs/Docs.jl:240\u001b[39m\n",
      "WARNING: Method definition updatehistogram!(Any, Any, Any, Any) in module MCRun at /home/ghun245/ParallelTemperingMonteCarlo.jl/src/MCRun.jl:545 overwritten at /home/ghun245/ParallelTemperingMonteCarlo.jl/src/MCRun.jl:780.\n",
      "  ** incremental compilation may be fatally broken for this module **\n",
      "\n",
      "WARNING: Method definition updatehistogram!##kw(Any, typeof(ParallelTemperingMonteCarlo.MCRun.updatehistogram!), Any, Any, Any, Any) in module MCRun at /home/ghun245/ParallelTemperingMonteCarlo.jl/src/MCRun.jl:545 overwritten at /home/ghun245/ParallelTemperingMonteCarlo.jl/src/MCRun.jl:780.\n",
      "  ** incremental compilation may be fatally broken for this module **\n",
      "\n"
     ]
    }
   ],
   "source": [
    "# using Pkg\n",
    "# Pkg.add(\"DFTK\")\n",
    "\n",
    "using ParallelTemperingMonteCarlo\n",
    "using DelimitedFiles\n"
   ]
  },
  {
   "cell_type": "code",
   "execution_count": 2,
   "metadata": {},
   "outputs": [
    {
     "data": {
      "text/plain": [
       "Output{Float64}(100, 0.0, 0.0, Float64[], Float64[], Float64[], Vector{Float64}[], Vector{Float64}[], Float64[], Float64[], Float64[], Float64[])"
      ]
     },
     "metadata": {},
     "output_type": "display_data"
    }
   ],
   "source": [
    "using Random#,Plots\n",
    "\n",
    "#set random seed - for reproducibility\n",
    "Random.seed!(1234)\n",
    "\n",
    "# number of atoms\n",
    "n_atoms = 13\n",
    "\n",
    "# temperature grid\n",
    "ti = 4.\n",
    "tf = 19.\n",
    "n_traj = 22\n",
    "\n",
    "temp = TempGrid{n_traj}(ti,tf) \n",
    "\n",
    "# MC simulation details\n",
    "mc_cycles = 100000 #default 20% equilibration cycles on top\n",
    "mc_sample = 1  #sample every mc_sample MC cycles\n",
    "\n",
    "#move_atom=AtomMove(n_atoms) #move strategy (here only atom moves, n_atoms per MC cycle)\n",
    "displ_atom = 0.1 # Angstrom\n",
    "n_adjust = 100\n",
    "\n",
    "max_displ_atom = [0.1*sqrt(displ_atom*temp.t_grid[i]) for i in 1:n_traj]\n",
    "\n",
    "mc_params = MCParams(mc_cycles, n_traj, n_atoms, mc_sample = mc_sample, n_adjust = n_adjust)\n",
    "\n",
    "#moves - allowed at present: atom, volume and rotation moves (volume,rotation not yet implemented)\n",
    "move_strat = MoveStrategy(atom_moves = n_atoms)  \n",
    "\n",
    "#ensemble\n",
    "ensemble = NVT(n_atoms)\n",
    "\n",
    "#ELJpotential for neon\n",
    "#c1=[-10.5097942564988, 0., 989.725135614556, 0., -101383.865938807, 0., 3918846.12841668, 0., -56234083.4334278, 0., 288738837.441765]\n",
    "#elj_ne1 = ELJPotential{11}(c1)\n",
    "\n",
    "c=[-10.5097942564988, 989.725135614556, -101383.865938807, 3918846.12841668, -56234083.4334278, 288738837.441765]\n",
    "pot = ELJPotentialEven{6}(c)\n",
    "\n",
    "#starting configurations\n",
    "#icosahedral ground state of Ne13 (from Cambridge cluster database) in Angstrom\n",
    "pos_ne13 = [[2.825384495892464, 0.928562467914040, 0.505520149314310],\n",
    "[2.023342172678102,\t-2.136126268595355, 0.666071287554958],\n",
    "[2.033761811732818,\t-0.643989413759464, -2.133000349161121],\n",
    "[0.979777205108572,\t2.312002562803556, -1.671909307631893],\n",
    "[0.962914279874254,\t-0.102326586625353, 2.857083360096907],\n",
    "[0.317957619634043,\t2.646768968413408, 1.412132053672896],\n",
    "[-2.825388342924982, -0.928563755928189, -0.505520471387560],\n",
    "[-0.317955944853142, -2.646769840660271, -1.412131825293682],\n",
    "[-0.979776174195320, -2.312003751825495, 1.671909138648006],\n",
    "[-0.962916072888105, 0.102326392265998,\t-2.857083272537599],\n",
    "[-2.023340541398004, 2.136128558801072,\t-0.666071089291685],\n",
    "[-2.033762834001679, 0.643989905095452, 2.132999911364582],\n",
    "[0.000002325340981,\t0.000000762100600, 0.000000414930733]]\n",
    "\n",
    "#convert to Bohr\n",
    "AtoBohr = 1.8897259886\n",
    "pos_ne13 = pos_ne13 * AtoBohr\n",
    "\n",
    "length(pos_ne13) == n_atoms || error(\"number of atoms and positions not the same - check starting config\")\n",
    "\n",
    "#boundary conditions \n",
    "bc_ne13 = SphericalBC(radius=6.2*AtoBohr)   #5.32 Angstrom\n",
    "\n",
    "#starting configuration\n",
    "start_config = Config(pos_ne13, bc_ne13)\n",
    "\n",
    "#histogram information\n",
    "n_bin = 100\n",
    "#en_min = -0.006    #might want to update after equilibration run if generated on the fly\n",
    "#en_max = -0.001    #otherwise will be determined after run as min/max of sampled energies (ham vector)\n",
    "\n",
    "#construct array of MCState (for each temperature)\n",
    "mc_states = [MCState(temp.t_grid[i], temp.beta_grid[i], start_config, pot; max_displ=[max_displ_atom[i],0.01,1.]) for i in 1:n_traj]\n",
    "\n",
    "#results = Output(n_bin, max_displ_vec)\n",
    "results = Output{Float64}(n_bin; en_min = mc_states[1].en_tot)\n",
    "\n"
   ]
  },
  {
   "cell_type": "code",
   "execution_count": 6,
   "metadata": {},
   "outputs": [
    {
     "name": "stdout",
     "output_type": "stream",
     "text": [
      "Total number of moves per MC cycle: 13\n",
      "\n"
     ]
    },
    {
     "ename": "MethodError",
     "evalue": "MethodError: no method matching energy_update(::StaticArraysCore.SVector{3, Float64}, ::Int64, ::Config{13, SphericalBC{Float64}, Float64}, ::Matrix{Float64}, ::ELJPotentialEven{6, Float64})\nClosest candidates are:\n  energy_update(::Any, ::Any, ::Config, ::Any, ::Any, !Matched::DFTPotential) at ~/ParallelTemperingMonteCarlo.jl/src/EnergyEvaluation.jl:246\n  energy_update(::Any, ::Any, ::Any, ::Any, ::Any, !Matched::AbstractDimerPotential) at ~/ParallelTemperingMonteCarlo.jl/src/EnergyEvaluation.jl:103\n  energy_update(::Any, ::Any, ::Any, ::Any, !Matched::AbstractMLPotential) at ~/ParallelTemperingMonteCarlo.jl/src/EnergyEvaluation.jl:110\n  ...",
     "output_type": "error",
     "traceback": [
      "MethodError: no method matching energy_update(::StaticArraysCore.SVector{3, Float64}, ::Int64, ::Config{13, SphericalBC{Float64}, Float64}, ::Matrix{Float64}, ::ELJPotentialEven{6, Float64})\n",
      "Closest candidates are:\n",
      "  energy_update(::Any, ::Any, ::Config, ::Any, ::Any, !Matched::DFTPotential) at ~/ParallelTemperingMonteCarlo.jl/src/EnergyEvaluation.jl:246\n",
      "  energy_update(::Any, ::Any, ::Any, ::Any, ::Any, !Matched::AbstractDimerPotential) at ~/ParallelTemperingMonteCarlo.jl/src/EnergyEvaluation.jl:103\n",
      "  energy_update(::Any, ::Any, ::Any, ::Any, !Matched::AbstractMLPotential) at ~/ParallelTemperingMonteCarlo.jl/src/EnergyEvaluation.jl:110\n",
      "  ...\n",
      "\n",
      "Stacktrace:\n",
      " [1] atom_move!(mc_state::MCState{Float64, 13, SphericalBC{Float64}}, i_atom::Int64, pot::ELJPotentialEven{6, Float64}, ensemble::NVT)\n",
      "   @ ParallelTemperingMonteCarlo.MCRun ~/ParallelTemperingMonteCarlo.jl/src/MCRun.jl:240\n",
      " [2] mc_step!\n",
      "   @ ~/ParallelTemperingMonteCarlo.jl/src/MCRun.jl:265 [inlined]\n",
      " [3] mc_cycle!(mc_states::Vector{MCState{Float64, 13, SphericalBC{Float64}}}, move_strat::MoveStrategy{13, 0, 0}, mc_params::MCParams, pot::ELJPotentialEven{6, Float64}, ensemble::NVT, n_steps::Int64, a::Int64, v::Int64, r::Int64)\n",
      "   @ ParallelTemperingMonteCarlo.MCRun ~/ParallelTemperingMonteCarlo.jl/src/MCRun.jl:286\n",
      " [4] ptmc_run!(mc_states::Vector{MCState{Float64, 13, SphericalBC{Float64}}}, move_strat::MoveStrategy{13, 0, 0}, mc_params::MCParams, pot::ELJPotentialEven{6, Float64}, ensemble::NVT, results::Output{Float64}; save_ham::Bool, save::Bool, restart::Bool, restartindex::Int64, save_dir::String)\n",
      "   @ ParallelTemperingMonteCarlo.MCRun ~/ParallelTemperingMonteCarlo.jl/src/MCRun.jl:902\n",
      " [5] top-level scope\n",
      "   @ ~/ParallelTemperingMonteCarlo.jl/scripts/test.ipynb:1"
     ]
    }
   ],
   "source": [
    "ptmc_run!(mc_states, move_strat, mc_params, pot, ensemble, results; save_ham = false)\n",
    "#plot(temp.t_grid,results.heat_cap)\n",
    "\n",
    "data = [results.en_histogram[i] for i in 1:n_traj]\n",
    "plot(data)"
   ]
  },
  {
   "cell_type": "code",
   "execution_count": 3,
   "metadata": {},
   "outputs": [
    {
     "name": "stdout",
     "output_type": "stream",
     "text": [
      "Beginning Equilibration\n",
      "\n",
      "\n"
     ]
    },
    {
     "name": "stdout",
     "output_type": "stream",
     "text": [
      "equilibration done\n"
     ]
    },
    {
     "ename": "SystemError",
     "evalue": "SystemError: opening file \"/home/ghun245/ParallelTemperingMonteCarlo.jl/scripts//home/ghun245/ParallelTemperingMonteCarlo.jl/scripts/save1.data\": No such file or directory",
     "output_type": "error",
     "traceback": [
      "SystemError: opening file \"/home/ghun245/ParallelTemperingMonteCarlo.jl/scripts//home/ghun245/ParallelTemperingMonteCarlo.jl/scripts/save1.data\": No such file or directory\n",
      "\n",
      "Stacktrace:\n",
      "  [1] systemerror(p::String, errno::Int32; extrainfo::Nothing)\n",
      "    @ Base ./error.jl:176\n",
      "  [2] #systemerror#80\n",
      "    @ ./error.jl:175 [inlined]\n",
      "  [3] systemerror\n",
      "    @ ./error.jl:175 [inlined]\n",
      "  [4] open(fname::String; lock::Bool, read::Bool, write::Nothing, create::Nothing, truncate::Bool, append::Nothing)\n",
      "    @ Base ./iostream.jl:293\n",
      "  [5] open(fname::String, mode::String; lock::Bool)\n",
      "    @ Base ./iostream.jl:356\n",
      "  [6] open\n",
      "    @ ./iostream.jl:355 [inlined]\n",
      "  [7] save_states(mc_params::MCParams, mc_states::Vector{MCState{Float64, 13, SphericalBC{Float64}}}, trial_index::String, directory::String; filename::String)\n",
      "    @ ParallelTemperingMonteCarlo.MCRun ~/ParallelTemperingMonteCarlo.jl/src/MCRun.jl:698\n",
      "  [8] checkpoint(parallelstates::Vector{Any}, mc_params::MCParams, checkpoint_keyword::String, save_dir::String)\n",
      "    @ ParallelTemperingMonteCarlo.ParallelRun ~/ParallelTemperingMonteCarlo.jl/src/parallelrun.jl:89\n",
      "  [9] pptmc_run!(mc_states::Vector{MCState{Float64, 13, SphericalBC{Float64}}}, move_strat::MoveStrategy{13, 0, 0}, mc_params::MCParams, pot::ELJPotentialEven{6, Float64}, ensemble::NVT, results::Output{Float64}; save_dir::String, n_threads::Int64, restart::Bool, save_configs::Bool)\n",
      "    @ ParallelTemperingMonteCarlo.ParallelRun ~/ParallelTemperingMonteCarlo.jl/src/parallelrun.jl:262\n",
      " [10] pptmc_run!(mc_states::Vector{MCState{Float64, 13, SphericalBC{Float64}}}, move_strat::MoveStrategy{13, 0, 0}, mc_params::MCParams, pot::ELJPotentialEven{6, Float64}, ensemble::NVT, results::Output{Float64})\n",
      "    @ ParallelTemperingMonteCarlo.ParallelRun ~/ParallelTemperingMonteCarlo.jl/src/parallelrun.jl:244\n",
      " [11] top-level scope\n",
      "    @ ~/ParallelTemperingMonteCarlo.jl/scripts/test.ipynb:1"
     ]
    }
   ],
   "source": [
    "pptmc_run!(mc_states,move_strat,mc_params,pot,ensemble,results)\n"
   ]
  },
  {
   "cell_type": "code",
   "execution_count": 5,
   "metadata": {},
   "outputs": [],
   "source": []
  }
 ],
 "metadata": {
  "kernelspec": {
   "display_name": "Julia 1.8.0",
   "language": "julia",
   "name": "julia-1.8"
  },
  "language_info": {
   "file_extension": ".jl",
   "mimetype": "application/julia",
   "name": "julia",
   "version": "1.8.0"
  },
  "orig_nbformat": 4
 },
 "nbformat": 4,
 "nbformat_minor": 2
}
