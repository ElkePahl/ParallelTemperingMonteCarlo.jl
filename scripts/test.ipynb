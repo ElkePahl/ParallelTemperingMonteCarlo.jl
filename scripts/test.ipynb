{
 "cells": [
  {
   "cell_type": "code",
   "execution_count": 1,
   "metadata": {},
   "outputs": [],
   "source": [
    "# using Pkg\n",
    "# Pkg.add(\"DFTK\")\n",
    "\n",
    "using ParallelTemperingMonteCarlo\n",
    "using DelimitedFiles\n"
   ]
  },
  {
   "cell_type": "code",
   "execution_count": 2,
   "metadata": {},
   "outputs": [
    {
     "data": {
      "text/plain": [
       "Output{Float64}(100, 0.0, 0.0, Float64[], Float64[], Float64[], Vector{Float64}[], Vector{Float64}[], Float64[], Float64[], Float64[], Float64[])"
      ]
     },
     "metadata": {},
     "output_type": "display_data"
    }
   ],
   "source": [
    "using Random#,Plots\n",
    "\n",
    "#set random seed - for reproducibility\n",
    "Random.seed!(1234)\n",
    "\n",
    "# number of atoms\n",
    "n_atoms = 13\n",
    "\n",
    "# temperature grid\n",
    "ti = 4.\n",
    "tf = 19.\n",
    "n_traj = 22\n",
    "\n",
    "temp = TempGrid{n_traj}(ti,tf) \n",
    "\n",
    "# MC simulation details\n",
    "mc_cycles = 1008000 #default 20% equilibration cycles on top\n",
    "mc_sample = 1  #sample every mc_sample MC cycles\n",
    "\n",
    "#move_atom=AtomMove(n_atoms) #move strategy (here only atom moves, n_atoms per MC cycle)\n",
    "displ_atom = 0.1 # Angstrom\n",
    "n_adjust = 100\n",
    "\n",
    "max_displ_atom = [0.1*sqrt(displ_atom*temp.t_grid[i]) for i in 1:n_traj]\n",
    "\n",
    "mc_params = MCParams(mc_cycles, n_traj, n_atoms, mc_sample = mc_sample, n_adjust = n_adjust)\n",
    "\n",
    "#moves - allowed at present: atom, volume and rotation moves (volume,rotation not yet implemented)\n",
    "move_strat = MoveStrategy(atom_moves = n_atoms)  \n",
    "\n",
    "#ensemble\n",
    "ensemble = NVT(n_atoms)\n",
    "\n",
    "#ELJpotential for neon\n",
    "#c1=[-10.5097942564988, 0., 989.725135614556, 0., -101383.865938807, 0., 3918846.12841668, 0., -56234083.4334278, 0., 288738837.441765]\n",
    "#elj_ne1 = ELJPotential{11}(c1)\n",
    "\n",
    "c=[-10.5097942564988, 989.725135614556, -101383.865938807, 3918846.12841668, -56234083.4334278, 288738837.441765]\n",
    "pot = ELJPotentialEven{6}(c)\n",
    "\n",
    "#starting configurations\n",
    "#icosahedral ground state of Ne13 (from Cambridge cluster database) in Angstrom\n",
    "pos_ne13 = [[2.825384495892464, 0.928562467914040, 0.505520149314310],\n",
    "[2.023342172678102,\t-2.136126268595355, 0.666071287554958],\n",
    "[2.033761811732818,\t-0.643989413759464, -2.133000349161121],\n",
    "[0.979777205108572,\t2.312002562803556, -1.671909307631893],\n",
    "[0.962914279874254,\t-0.102326586625353, 2.857083360096907],\n",
    "[0.317957619634043,\t2.646768968413408, 1.412132053672896],\n",
    "[-2.825388342924982, -0.928563755928189, -0.505520471387560],\n",
    "[-0.317955944853142, -2.646769840660271, -1.412131825293682],\n",
    "[-0.979776174195320, -2.312003751825495, 1.671909138648006],\n",
    "[-0.962916072888105, 0.102326392265998,\t-2.857083272537599],\n",
    "[-2.023340541398004, 2.136128558801072,\t-0.666071089291685],\n",
    "[-2.033762834001679, 0.643989905095452, 2.132999911364582],\n",
    "[0.000002325340981,\t0.000000762100600, 0.000000414930733]]\n",
    "\n",
    "#convert to Bohr\n",
    "AtoBohr = 1.8897259886\n",
    "pos_ne13 = pos_ne13 * AtoBohr\n",
    "\n",
    "length(pos_ne13) == n_atoms || error(\"number of atoms and positions not the same - check starting config\")\n",
    "\n",
    "#boundary conditions \n",
    "bc_ne13 = SphericalBC(radius=6.2*AtoBohr)   #5.32 Angstrom\n",
    "\n",
    "#starting configuration\n",
    "start_config = Config(pos_ne13, bc_ne13)\n",
    "\n",
    "#histogram information\n",
    "n_bin = 100\n",
    "#en_min = -0.006    #might want to update after equilibration run if generated on the fly\n",
    "#en_max = -0.001    #otherwise will be determined after run as min/max of sampled energies (ham vector)\n",
    "\n",
    "#construct array of MCState (for each temperature)\n",
    "mc_states = [MCState(temp.t_grid[i], temp.beta_grid[i], start_config, pot; max_displ=[max_displ_atom[i],0.01,1.]) for i in 1:n_traj]\n",
    "\n",
    "#results = Output(n_bin, max_displ_vec)\n",
    "results = Output{Float64}(n_bin; en_min = mc_states[1].en_tot)\n",
    "\n"
   ]
  },
  {
   "cell_type": "code",
   "execution_count": 18,
   "metadata": {},
   "outputs": [
    {
     "name": "stdout",
     "output_type": "stream",
     "text": [
      "Total number of moves per MC cycle: 13\n",
      "\n"
     ]
    },
    {
     "name": "stdout",
     "output_type": "stream",
     "text": [
      "equilibration done\n"
     ]
    },
    {
     "name": "stdout",
     "output_type": "stream",
     "text": [
      "MC loop done.\n"
     ]
    },
    {
     "name": "stdout",
     "output_type": "stream",
     "text": [
      "[0.0002486939649448063, 0.00026989215168220324, 0.0002970064091898903, 0.0003228592848400446, 0.0003582800959152993, 0.00039380182959072765, 0.0004332808429255307, 0.00048287071366261576, 0.0005513493841413091, 0.0006112562489265659, 0.0007142279513064177, 0.0009135801853600144, 0.0012032592171174873, 0.001776807494582261, 0.0029398449534944627, 0.0035608812970834786, 0.0032435647910505766, 0.0026042014114841527, 0.0023626419375324744, 0.0022744468722362475, 0.0022168720279022807, 0.0022879808893227927]\n",
      "done\n",
      "Total number of moves per MC cycle: 13\n",
      "\n",
      "equilibration done"
     ]
    },
    {
     "name": "stdout",
     "output_type": "stream",
     "text": [
      "\n",
      "MC loop done."
     ]
    },
    {
     "name": "stdout",
     "output_type": "stream",
     "text": [
      "\n",
      "[-4.64283754907596, -4.280813997427569, -3.943504697554974, -3.630204947168263, -3.3384834333098237, -3.0673031356605347, -2.814276485463904, -2.579152888771237, -2.360264643760773, -2.155124684164009, -1.961511568887231, -1.7788241557457352, -1.6026730063287395, -1.4207016056998176, -1.2205889994357544, -1.0128947915742788, -0.83259776400982, -0.6936095257433881, -0.5853076974366934, -0.49596696433014487, -0.41867336326328936, -0.3523811090049404]\n",
      "done\n",
      "Total number of moves per MC cycle: "
     ]
    },
    {
     "name": "stdout",
     "output_type": "stream",
     "text": [
      "13\n",
      "\n",
      "equilibration done"
     ]
    },
    {
     "name": "stdout",
     "output_type": "stream",
     "text": [
      "\n",
      "MC loop done."
     ]
    },
    {
     "name": "stdout",
     "output_type": "stream",
     "text": [
      "\n",
      "[-13.929400785374307, -12.842824019474673, -11.830304088456762, -10.890828848574566, -10.016706325439111, -9.202152104511343, -8.444291414349674, -7.739291854058344, -7.082197413422901, -6.466147957572587, -5.88645096597435, -5.339920209552351, -4.810731940068512, -4.254908015951303, -3.6603704104744996, -3.04271946900014, -2.504800708024982, -2.09168583437994, -1.765877366445004, -1.4961927403598823, -1.2634837080609032, -1.0610351443575239]\n",
      "done\n",
      "Total number of moves per MC cycle: "
     ]
    },
    {
     "name": "stdout",
     "output_type": "stream",
     "text": [
      "13\n",
      "\n",
      "equilibration done"
     ]
    },
    {
     "name": "stdout",
     "output_type": "stream",
     "text": [
      "\n",
      "MC loop done."
     ]
    },
    {
     "name": "stdout",
     "output_type": "stream",
     "text": [
      "\n",
      "[-27.85946111312938, -25.68602112568053, -23.66191212214904, -21.783605532558276, -20.03440870870056, -18.40540818431605, -16.890070003108484, -15.479883039596524, -14.165743198310544, -12.934128458118774, -11.777280186693165, -10.685433080095965, -9.62531359716877, -8.52688442971417, -7.333677281740143, -6.086682093247547, -5.022938224587596, -4.190249716915806, -3.536974730998638, -2.9955862382916365, -2.5312149589136843, -2.1282757025033097]\n",
      "done\n"
     ]
    },
    {
     "data": {
      "text/plain": [
       "BenchmarkTools.Trial: 1 sample with 1 evaluation.\n",
       " Single result which took \u001b[34m211.713 s\u001b[39m (5.94% GC) to evaluate,\n",
       " with a memory estimate of \u001b[33m125.95 GiB\u001b[39m, over \u001b[33m828615949\u001b[39m allocations."
      ]
     },
     "metadata": {},
     "output_type": "display_data"
    }
   ],
   "source": [
    "# t = @benchmark ptmc_run!(mc_states, move_strat, mc_params, pot, ensemble, results; save_ham = false)\n",
    "#plot(temp.t_grid,results.heat_cap)\n",
    "\n",
    "# data = [results.en_histogram[i] for i in 1:n_traj]\n",
    "# plot(data)\n",
    "# benchtimes = []\n",
    "# for num_threads = 2:8\n",
    "#     mc_states = [MCState(temp.t_grid[i], temp.beta_grid[i], start_config, pot; max_displ=[max_displ_atom[i],0.01,1.]) for i in 1:n_traj]\n",
    "\n",
    "# #results = Output(n_bin, max_displ_vec)\n",
    "#     results = Output{Float64}(n_bin; en_min = mc_states[1].en_tot)\n",
    "    \n",
    "#     time = @benchmark pptmc_run!(mc_states,move_strat,mc_params,pot,ensemble,results,n_threads=$num_threads)\n",
    "#     push!(benchtimes,time)\n",
    "\n",
    "# end\n",
    "# #using Plots\n",
    "# [mean(benchtimes[i]).time for i=1:8]/10^9\n",
    "# timearray = [median(benchtimes[i]).time for i=1:8]/10^9"
   ]
  },
  {
   "cell_type": "code",
   "execution_count": 3,
   "metadata": {},
   "outputs": [
    {
     "data": {
      "text/plain": [
       "8-element Vector{Float64}:\n",
       " 907.371294532\n",
       " 611.232182253\n",
       " 470.086861784\n",
       " 402.64785303\n",
       " 379.904030116\n",
       " 324.446037698\n",
       " 317.525033041\n",
       " 306.200239546"
      ]
     },
     "metadata": {},
     "output_type": "display_data"
    }
   ],
   "source": [
    "timearray = [907.371294532, 611.232182253, 470.086861784, 402.64785303, 379.904030116, 324.446037698, 317.525033041, 306.200239546]"
   ]
  },
  {
   "cell_type": "code",
   "execution_count": 4,
   "metadata": {},
   "outputs": [],
   "source": [
    "using Plots\n",
    "\n",
    "p = plot(timearray,xlabel=\"threads\",ylabel=\"run time\",legend=false)\n",
    "png(\"btimes.png\")"
   ]
  },
  {
   "cell_type": "code",
   "execution_count": null,
   "metadata": {},
   "outputs": [],
   "source": []
  }
 ],
 "metadata": {
  "kernelspec": {
   "display_name": "Julia 1.8.0",
   "language": "julia",
   "name": "julia-1.8"
  },
  "language_info": {
   "file_extension": ".jl",
   "mimetype": "application/julia",
   "name": "julia",
   "version": "1.8.0"
  },
  "orig_nbformat": 4
 },
 "nbformat": 4,
 "nbformat_minor": 2
}
