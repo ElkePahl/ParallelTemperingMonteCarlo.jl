{
 "cells": [
  {
   "cell_type": "code",
   "execution_count": 1,
   "metadata": {},
   "outputs": [],
   "source": [
    "using ParallelTemperingMonteCarlo\n",
    "using BenchmarkTools, Random, StaticArrays\n"
   ]
  },
  {
   "cell_type": "code",
   "execution_count": 2,
   "metadata": {},
   "outputs": [
    {
     "data": {
      "text/plain": [
       "Output{Float64}(100, 0.0, 0.0, Float64[], Float64[], Float64[], Vector{Float64}[], Vector{Float64}[], Float64[], Float64[], Float64[], Float64[])"
      ]
     },
     "metadata": {},
     "output_type": "display_data"
    }
   ],
   "source": [
    "Random.seed!(1234)\n",
    "\n",
    "# number of atoms\n",
    "n_atoms = 13\n",
    "\n",
    "# temperature grid\n",
    "ti = 5.\n",
    "tf = 16.\n",
    "n_traj = 32\n",
    "\n",
    "temp = TempGrid{n_traj}(ti,tf) \n",
    "\n",
    "# MC simulation details\n",
    "\n",
    "mc_cycles = 1000000 #default 20% equilibration cycles on top\n",
    "\n",
    "mc_sample = 1  #sample every mc_sample MC cycles\n",
    "\n",
    "#move_atom=AtomMove(n_atoms) #move strategy (here only atom moves, n_atoms per MC cycle)\n",
    "displ_atom = 0.1 # Angstrom\n",
    "n_adjust = 100\n",
    "\n",
    "max_displ_atom = [0.1*sqrt(displ_atom*temp.t_grid[i]) for i in 1:n_traj]\n",
    "\n",
    "mc_params = MCParams(mc_cycles, n_traj, n_atoms, mc_sample = mc_sample, n_adjust = n_adjust)\n",
    "\n",
    "#moves - allowed at present: atom, volume and rotation moves (volume,rotation not yet implemented)\n",
    "move_strat = MoveStrategy(atom_moves = n_atoms)  \n",
    "\n",
    "#ensemble\n",
    "ensemble = NVT(n_atoms)\n",
    "\n",
    "#ELJpotential for neon\n",
    "#c1=[-10.5097942564988, 0., 989.725135614556, 0., -101383.865938807, 0., 3918846.12841668, 0., -56234083.4334278, 0., 288738837.441765]\n",
    "#elj_ne1 = ELJPotential{11}(c1)\n",
    "\n",
    "c=[-10.5097942564988, 989.725135614556, -101383.865938807, 3918846.12841668, -56234083.4334278, 288738837.441765]\n",
    "pot = ELJPotentialEven{6}(c)\n",
    "\n",
    "#starting configurations\n",
    "#icosahedral ground state of Ne13 (from Cambridge cluster database) in Angstrom\n",
    "pos_ne13 = [[2.825384495892464, 0.928562467914040, 0.505520149314310],\n",
    "[2.023342172678102,\t-2.136126268595355, 0.666071287554958],\n",
    "[2.033761811732818,\t-0.643989413759464, -2.133000349161121],\n",
    "[0.979777205108572,\t2.312002562803556, -1.671909307631893],\n",
    "[0.962914279874254,\t-0.102326586625353, 2.857083360096907],\n",
    "[0.317957619634043,\t2.646768968413408, 1.412132053672896],\n",
    "[-2.825388342924982, -0.928563755928189, -0.505520471387560],\n",
    "[-0.317955944853142, -2.646769840660271, -1.412131825293682],\n",
    "[-0.979776174195320, -2.312003751825495, 1.671909138648006],\n",
    "[-0.962916072888105, 0.102326392265998,\t-2.857083272537599],\n",
    "[-2.023340541398004, 2.136128558801072,\t-0.666071089291685],\n",
    "[-2.033762834001679, 0.643989905095452, 2.132999911364582],\n",
    "[0.000002325340981,\t0.000000762100600, 0.000000414930733]]\n",
    "\n",
    "#convert to Bohr\n",
    "AtoBohr = 1.8897259886\n",
    "pos_ne13 = pos_ne13 * AtoBohr\n",
    "\n",
    "length(pos_ne13) == n_atoms || error(\"number of atoms and positions not the same - check starting config\")\n",
    "\n",
    "#boundary conditions \n",
    "bc_ne13 = SphericalBC(radius=5.32*AtoBohr)   #5.32 Angstrom\n",
    "\n",
    "#starting configuration\n",
    "start_config = Config(pos_ne13, bc_ne13)\n",
    "\n",
    "#histogram information\n",
    "n_bin = 100\n",
    "#en_min = -0.006    #might want to update after equilibration run if generated on the fly\n",
    "#en_max = -0.001    #otherwise will be determined after run as min/max of sampled energies (ham vector)\n",
    "\n",
    "#construct array of MCState (for each temperature)\n",
    "mc_states = [MCState(temp.t_grid[i], temp.beta_grid[i], start_config, pot) for i in 1:n_traj]\n",
    "\n",
    "#results = Output(n_bin, max_displ_vec)\n",
    "results = Output{Float64}(n_bin; en_min = mc_states[1].en_tot)"
   ]
  },
  {
   "cell_type": "code",
   "execution_count": 3,
   "metadata": {},
   "outputs": [
    {
     "data": {
      "text/plain": [
       "BenchmarkTools.Trial: 10000 samples with 190 evaluations.\n",
       " Range \u001b[90m(\u001b[39m\u001b[36m\u001b[1mmin\u001b[22m\u001b[39m … \u001b[35mmax\u001b[39m\u001b[90m):  \u001b[39m\u001b[36m\u001b[1m527.358 ns\u001b[22m\u001b[39m … \u001b[35m19.785 μs\u001b[39m  \u001b[90m┊\u001b[39m GC \u001b[90m(\u001b[39mmin … max\u001b[90m): \u001b[39m 0.00% … 95.92%\n",
       " Time  \u001b[90m(\u001b[39m\u001b[34m\u001b[1mmedian\u001b[22m\u001b[39m\u001b[90m):     \u001b[39m\u001b[34m\u001b[1m569.079 ns              \u001b[22m\u001b[39m\u001b[90m┊\u001b[39m GC \u001b[90m(\u001b[39mmedian\u001b[90m):    \u001b[39m 0.00%\n",
       " Time  \u001b[90m(\u001b[39m\u001b[32m\u001b[1mmean\u001b[22m\u001b[39m ± \u001b[32mσ\u001b[39m\u001b[90m):   \u001b[39m\u001b[32m\u001b[1m697.636 ns\u001b[22m\u001b[39m ± \u001b[32m 1.101 μs\u001b[39m  \u001b[90m┊\u001b[39m GC \u001b[90m(\u001b[39mmean ± σ\u001b[90m):  \u001b[39m11.40% ±  6.97%\n",
       "\n",
       "  \u001b[39m▆\u001b[39m▆\u001b[39m▇\u001b[39m█\u001b[39m▇\u001b[34m▆\u001b[39m\u001b[39m▆\u001b[39m▄\u001b[39m▄\u001b[39m▃\u001b[39m▃\u001b[39m▃\u001b[39m▃\u001b[39m▃\u001b[39m▂\u001b[39m▂\u001b[39m▁\u001b[39m▂\u001b[39m▂\u001b[32m▂\u001b[39m\u001b[39m▁\u001b[39m \u001b[39m \u001b[39m \u001b[39m \u001b[39m \u001b[39m \u001b[39m \u001b[39m \u001b[39m \u001b[39m \u001b[39m \u001b[39m \u001b[39m \u001b[39m \u001b[39m \u001b[39m \u001b[39m \u001b[39m▁\u001b[39m▂\u001b[39m▂\u001b[39m▂\u001b[39m▂\u001b[39m▂\u001b[39m▂\u001b[39m▁\u001b[39m▁\u001b[39m \u001b[39m \u001b[39m \u001b[39m \u001b[39m \u001b[39m \u001b[39m \u001b[39m \u001b[39m \u001b[39m \u001b[39m \u001b[39m \u001b[39m \u001b[39m \u001b[39m▂\n",
       "  \u001b[39m█\u001b[39m█\u001b[39m█\u001b[39m█\u001b[39m█\u001b[34m█\u001b[39m\u001b[39m█\u001b[39m█\u001b[39m█\u001b[39m█\u001b[39m█\u001b[39m█\u001b[39m█\u001b[39m█\u001b[39m█\u001b[39m█\u001b[39m█\u001b[39m█\u001b[39m█\u001b[32m█\u001b[39m\u001b[39m█\u001b[39m█\u001b[39m█\u001b[39m▇\u001b[39m▇\u001b[39m▆\u001b[39m▅\u001b[39m▅\u001b[39m▄\u001b[39m▅\u001b[39m▄\u001b[39m▃\u001b[39m▂\u001b[39m▅\u001b[39m▅\u001b[39m▆\u001b[39m▆\u001b[39m█\u001b[39m█\u001b[39m█\u001b[39m█\u001b[39m█\u001b[39m█\u001b[39m█\u001b[39m█\u001b[39m█\u001b[39m█\u001b[39m█\u001b[39m█\u001b[39m▇\u001b[39m█\u001b[39m█\u001b[39m▆\u001b[39m▆\u001b[39m▆\u001b[39m▆\u001b[39m▆\u001b[39m▇\u001b[39m▅\u001b[39m▆\u001b[39m \u001b[39m█\n",
       "  527 ns\u001b[90m        \u001b[39m\u001b[90mHistogram: \u001b[39m\u001b[90m\u001b[1mlog(\u001b[22m\u001b[39m\u001b[90mfrequency\u001b[39m\u001b[90m\u001b[1m)\u001b[22m\u001b[39m\u001b[90m by time\u001b[39m      1.08 μs \u001b[0m\u001b[1m<\u001b[22m\n",
       "\n",
       " Memory estimate\u001b[90m: \u001b[39m\u001b[33m1.94 KiB\u001b[39m, allocs estimate\u001b[90m: \u001b[39m\u001b[33m39\u001b[39m."
      ]
     },
     "metadata": {},
     "output_type": "display_data"
    }
   ],
   "source": [
    "function testdisp!(mc_states,mc_params)\n",
    "    indices = []\n",
    "    trial_positions = []\n",
    "    for state in mc_states\n",
    "        index=rand(1:mc_params.n_atoms)\n",
    "        push!(indices,index)\n",
    "        trial_position = atom_displacement(state,index)\n",
    "        push!(trial_positions,trial_position)\n",
    "    end\n",
    "\n",
    "\n",
    "    return indices,trial_positions\n",
    "end\n",
    "\n",
    "function oneatomdisp(state,mc_params)\n",
    "    index=rand(1:mc_params.n_atoms)\n",
    "        \n",
    "        trial_position = atom_displacement(state,index)\n",
    "\n",
    "    return index,trial_position\n",
    "end\n",
    "function atom_disp(mc_states,mc_params)\n",
    "    indices = Vector{Int}(undef,mc_params.n_traj)\n",
    "    trial_positions = Vector{Any}(undef,mc_params.n_traj)\n",
    "    for idx in eachindex(mc_states)\n",
    "        indices[idx],trial_positions[idx] = oneatomdisp(mc_states[idx],mc_params)\n",
    "    end\n",
    "    return indices,trial_positions\n",
    "end\n",
    "function justloop(mc_states,mc_params)\n",
    "    for state in mc_states\n",
    "        oneatomdisp(state,mc_params)\n",
    "    end\n",
    "end\n",
    "@benchmark testdisp!($mc_states,mc_params)"
   ]
  },
  {
   "cell_type": "code",
   "execution_count": 4,
   "metadata": {},
   "outputs": [
    {
     "data": {
      "text/plain": [
       "BenchmarkTools.Trial: 10000 samples with 216 evaluations.\n",
       " Range \u001b[90m(\u001b[39m\u001b[36m\u001b[1mmin\u001b[22m\u001b[39m … \u001b[35mmax\u001b[39m\u001b[90m):  \u001b[39m\u001b[36m\u001b[1m336.231 ns\u001b[22m\u001b[39m … \u001b[35m18.205 μs\u001b[39m  \u001b[90m┊\u001b[39m GC \u001b[90m(\u001b[39mmin … max\u001b[90m): \u001b[39m 0.00% … 96.10%\n",
       " Time  \u001b[90m(\u001b[39m\u001b[34m\u001b[1mmedian\u001b[22m\u001b[39m\u001b[90m):     \u001b[39m\u001b[34m\u001b[1m366.824 ns              \u001b[22m\u001b[39m\u001b[90m┊\u001b[39m GC \u001b[90m(\u001b[39mmedian\u001b[90m):    \u001b[39m 0.00%\n",
       " Time  \u001b[90m(\u001b[39m\u001b[32m\u001b[1mmean\u001b[22m\u001b[39m ± \u001b[32mσ\u001b[39m\u001b[90m):   \u001b[39m\u001b[32m\u001b[1m507.417 ns\u001b[22m\u001b[39m ± \u001b[32m 1.011 μs\u001b[39m  \u001b[90m┊\u001b[39m GC \u001b[90m(\u001b[39mmean ± σ\u001b[90m):  \u001b[39m14.10% ±  6.91%\n",
       "\n",
       "  \u001b[39m▂\u001b[39m▆\u001b[39m█\u001b[39m▇\u001b[34m▆\u001b[39m\u001b[39m▅\u001b[39m▃\u001b[39m▃\u001b[39m▃\u001b[39m▃\u001b[39m▃\u001b[39m▂\u001b[39m▂\u001b[39m▁\u001b[39m \u001b[39m▁\u001b[39m \u001b[39m▁\u001b[39m \u001b[39m \u001b[32m \u001b[39m\u001b[39m \u001b[39m \u001b[39m \u001b[39m \u001b[39m \u001b[39m \u001b[39m \u001b[39m \u001b[39m \u001b[39m \u001b[39m \u001b[39m \u001b[39m \u001b[39m \u001b[39m \u001b[39m \u001b[39m \u001b[39m \u001b[39m▁\u001b[39m▂\u001b[39m▃\u001b[39m▃\u001b[39m▃\u001b[39m▃\u001b[39m▂\u001b[39m▂\u001b[39m▂\u001b[39m▁\u001b[39m▁\u001b[39m \u001b[39m \u001b[39m \u001b[39m \u001b[39m \u001b[39m \u001b[39m \u001b[39m \u001b[39m \u001b[39m \u001b[39m \u001b[39m▂\n",
       "  \u001b[39m█\u001b[39m█\u001b[39m█\u001b[39m█\u001b[34m█\u001b[39m\u001b[39m█\u001b[39m█\u001b[39m█\u001b[39m█\u001b[39m█\u001b[39m█\u001b[39m█\u001b[39m█\u001b[39m█\u001b[39m█\u001b[39m█\u001b[39m█\u001b[39m█\u001b[39m█\u001b[39m▇\u001b[32m▇\u001b[39m\u001b[39m▇\u001b[39m▅\u001b[39m▆\u001b[39m▆\u001b[39m▅\u001b[39m▅\u001b[39m▅\u001b[39m▅\u001b[39m▄\u001b[39m▄\u001b[39m▄\u001b[39m▂\u001b[39m▃\u001b[39m▄\u001b[39m▄\u001b[39m▅\u001b[39m▇\u001b[39m█\u001b[39m█\u001b[39m█\u001b[39m█\u001b[39m█\u001b[39m█\u001b[39m█\u001b[39m█\u001b[39m█\u001b[39m█\u001b[39m█\u001b[39m█\u001b[39m█\u001b[39m█\u001b[39m▇\u001b[39m▇\u001b[39m█\u001b[39m▇\u001b[39m█\u001b[39m▆\u001b[39m▆\u001b[39m▆\u001b[39m \u001b[39m█\n",
       "  336 ns\u001b[90m        \u001b[39m\u001b[90mHistogram: \u001b[39m\u001b[90m\u001b[1mlog(\u001b[22m\u001b[39m\u001b[90mfrequency\u001b[39m\u001b[90m\u001b[1m)\u001b[22m\u001b[39m\u001b[90m by time\u001b[39m       838 ns \u001b[0m\u001b[1m<\u001b[22m\n",
       "\n",
       " Memory estimate\u001b[90m: \u001b[39m\u001b[33m1.66 KiB\u001b[39m, allocs estimate\u001b[90m: \u001b[39m\u001b[33m35\u001b[39m."
      ]
     },
     "metadata": {},
     "output_type": "display_data"
    }
   ],
   "source": [
    "@benchmark atom_disp(mc_states,mc_params)"
   ]
  },
  {
   "cell_type": "code",
   "execution_count": 5,
   "metadata": {},
   "outputs": [
    {
     "data": {
      "text/plain": [
       "BenchmarkTools.Trial: 10000 samples with 349 evaluations.\n",
       " Range \u001b[90m(\u001b[39m\u001b[36m\u001b[1mmin\u001b[22m\u001b[39m … \u001b[35mmax\u001b[39m\u001b[90m):  \u001b[39m\u001b[36m\u001b[1m254.427 ns\u001b[22m\u001b[39m … \u001b[35m  7.517 μs\u001b[39m  \u001b[90m┊\u001b[39m GC \u001b[90m(\u001b[39mmin … max\u001b[90m): \u001b[39m0.00% … 93.83%\n",
       " Time  \u001b[90m(\u001b[39m\u001b[34m\u001b[1mmedian\u001b[22m\u001b[39m\u001b[90m):     \u001b[39m\u001b[34m\u001b[1m283.361 ns               \u001b[22m\u001b[39m\u001b[90m┊\u001b[39m GC \u001b[90m(\u001b[39mmedian\u001b[90m):    \u001b[39m0.00%\n",
       " Time  \u001b[90m(\u001b[39m\u001b[32m\u001b[1mmean\u001b[22m\u001b[39m ± \u001b[32mσ\u001b[39m\u001b[90m):   \u001b[39m\u001b[32m\u001b[1m402.521 ns\u001b[22m\u001b[39m ± \u001b[32m522.877 ns\u001b[39m  \u001b[90m┊\u001b[39m GC \u001b[90m(\u001b[39mmean ± σ\u001b[90m):  \u001b[39m9.90% ±  7.38%\n",
       "\n",
       "  \u001b[39m \u001b[39m▆\u001b[39m█\u001b[39m▂\u001b[34m \u001b[39m\u001b[39m \u001b[39m \u001b[39m \u001b[39m \u001b[39m \u001b[39m \u001b[39m \u001b[39m \u001b[39m \u001b[39m \u001b[39m \u001b[39m \u001b[39m \u001b[39m \u001b[39m \u001b[39m \u001b[32m \u001b[39m\u001b[39m \u001b[39m \u001b[39m \u001b[39m \u001b[39m \u001b[39m \u001b[39m \u001b[39m \u001b[39m \u001b[39m \u001b[39m \u001b[39m \u001b[39m \u001b[39m \u001b[39m \u001b[39m \u001b[39m \u001b[39m \u001b[39m \u001b[39m \u001b[39m \u001b[39m \u001b[39m \u001b[39m \u001b[39m \u001b[39m \u001b[39m \u001b[39m \u001b[39m \u001b[39m \u001b[39m \u001b[39m \u001b[39m \u001b[39m \u001b[39m \u001b[39m \u001b[39m \u001b[39m \u001b[39m \u001b[39m \u001b[39m \n",
       "  \u001b[39m▅\u001b[39m█\u001b[39m█\u001b[39m█\u001b[34m▆\u001b[39m\u001b[39m▃\u001b[39m▂\u001b[39m▂\u001b[39m▂\u001b[39m▂\u001b[39m▂\u001b[39m▂\u001b[39m▁\u001b[39m▁\u001b[39m▁\u001b[39m▁\u001b[39m▁\u001b[39m▁\u001b[39m▁\u001b[39m▁\u001b[39m▁\u001b[32m▁\u001b[39m\u001b[39m▁\u001b[39m▁\u001b[39m▁\u001b[39m▁\u001b[39m▁\u001b[39m▁\u001b[39m▁\u001b[39m▁\u001b[39m▁\u001b[39m▁\u001b[39m▁\u001b[39m▁\u001b[39m▂\u001b[39m▄\u001b[39m▅\u001b[39m▅\u001b[39m▄\u001b[39m▄\u001b[39m▂\u001b[39m▂\u001b[39m▂\u001b[39m▂\u001b[39m▂\u001b[39m▂\u001b[39m▂\u001b[39m▂\u001b[39m▁\u001b[39m▁\u001b[39m▁\u001b[39m▁\u001b[39m▁\u001b[39m▁\u001b[39m▁\u001b[39m▁\u001b[39m▁\u001b[39m▁\u001b[39m▁\u001b[39m▁\u001b[39m▁\u001b[39m \u001b[39m▂\n",
       "  254 ns\u001b[90m           Histogram: frequency by time\u001b[39m          680 ns \u001b[0m\u001b[1m<\u001b[22m\n",
       "\n",
       " Memory estimate\u001b[90m: \u001b[39m\u001b[33m1.23 KiB\u001b[39m, allocs estimate\u001b[90m: \u001b[39m\u001b[33m3\u001b[39m."
      ]
     },
     "metadata": {},
     "output_type": "display_data"
    }
   ],
   "source": [
    "@benchmark generate_displacements($mc_states,mc_params)"
   ]
  },
  {
   "cell_type": "code",
   "execution_count": 6,
   "metadata": {},
   "outputs": [
    {
     "data": {
      "text/plain": [
       "BenchmarkTools.Trial: 10000 samples with 555 evaluations.\n",
       " Range \u001b[90m(\u001b[39m\u001b[36m\u001b[1mmin\u001b[22m\u001b[39m … \u001b[35mmax\u001b[39m\u001b[90m):  \u001b[39m\u001b[36m\u001b[1m207.252 ns\u001b[22m\u001b[39m … \u001b[35m270.577 ns\u001b[39m  \u001b[90m┊\u001b[39m GC \u001b[90m(\u001b[39mmin … max\u001b[90m): \u001b[39m0.00% … 0.00%\n",
       " Time  \u001b[90m(\u001b[39m\u001b[34m\u001b[1mmedian\u001b[22m\u001b[39m\u001b[90m):     \u001b[39m\u001b[34m\u001b[1m220.034 ns               \u001b[22m\u001b[39m\u001b[90m┊\u001b[39m GC \u001b[90m(\u001b[39mmedian\u001b[90m):    \u001b[39m0.00%\n",
       " Time  \u001b[90m(\u001b[39m\u001b[32m\u001b[1mmean\u001b[22m\u001b[39m ± \u001b[32mσ\u001b[39m\u001b[90m):   \u001b[39m\u001b[32m\u001b[1m221.305 ns\u001b[22m\u001b[39m ± \u001b[32m  6.609 ns\u001b[39m  \u001b[90m┊\u001b[39m GC \u001b[90m(\u001b[39mmean ± σ\u001b[90m):  \u001b[39m0.00% ± 0.00%\n",
       "\n",
       "  \u001b[39m \u001b[39m \u001b[39m \u001b[39m \u001b[39m \u001b[39m \u001b[39m \u001b[39m \u001b[39m \u001b[39m \u001b[39m \u001b[39m \u001b[39m \u001b[39m \u001b[39m \u001b[39m \u001b[39m▄\u001b[39m█\u001b[39m▇\u001b[39m▅\u001b[34m▄\u001b[39m\u001b[39m▁\u001b[32m \u001b[39m\u001b[39m \u001b[39m \u001b[39m \u001b[39m \u001b[39m \u001b[39m \u001b[39m \u001b[39m \u001b[39m \u001b[39m \u001b[39m \u001b[39m \u001b[39m \u001b[39m \u001b[39m \u001b[39m \u001b[39m \u001b[39m \u001b[39m \u001b[39m \u001b[39m \u001b[39m \u001b[39m \u001b[39m \u001b[39m \u001b[39m \u001b[39m \u001b[39m \u001b[39m \u001b[39m \u001b[39m \u001b[39m \u001b[39m \u001b[39m \u001b[39m \u001b[39m \u001b[39m \u001b[39m \u001b[39m \u001b[39m \n",
       "  \u001b[39m▁\u001b[39m▁\u001b[39m▂\u001b[39m▃\u001b[39m▃\u001b[39m▂\u001b[39m▃\u001b[39m▂\u001b[39m▂\u001b[39m▄\u001b[39m▅\u001b[39m▄\u001b[39m▄\u001b[39m▅\u001b[39m▅\u001b[39m▅\u001b[39m█\u001b[39m█\u001b[39m█\u001b[39m█\u001b[34m█\u001b[39m\u001b[39m█\u001b[32m█\u001b[39m\u001b[39m▆\u001b[39m▆\u001b[39m▅\u001b[39m▆\u001b[39m▅\u001b[39m▅\u001b[39m▄\u001b[39m▃\u001b[39m▃\u001b[39m▃\u001b[39m▃\u001b[39m▃\u001b[39m▂\u001b[39m▃\u001b[39m▃\u001b[39m▂\u001b[39m▂\u001b[39m▂\u001b[39m▂\u001b[39m▂\u001b[39m▁\u001b[39m▁\u001b[39m▂\u001b[39m▁\u001b[39m▁\u001b[39m▁\u001b[39m▁\u001b[39m▁\u001b[39m▁\u001b[39m▁\u001b[39m▁\u001b[39m▁\u001b[39m▁\u001b[39m▁\u001b[39m▁\u001b[39m▁\u001b[39m▁\u001b[39m▁\u001b[39m \u001b[39m▃\n",
       "  207 ns\u001b[90m           Histogram: frequency by time\u001b[39m          247 ns \u001b[0m\u001b[1m<\u001b[22m\n",
       "\n",
       " Memory estimate\u001b[90m: \u001b[39m\u001b[33m0 bytes\u001b[39m, allocs estimate\u001b[90m: \u001b[39m\u001b[33m0\u001b[39m."
      ]
     },
     "metadata": {},
     "output_type": "display_data"
    }
   ],
   "source": [
    "@benchmark justloop($mc_states,mc_params)"
   ]
  },
  {
   "attachments": {},
   "cell_type": "markdown",
   "metadata": {},
   "source": [
    "# Benchmarking\n",
    "\n",
    "The goal of this notebook is determining the fastest method for mc_cycle. Above is an example of where a vectorised operation is superior, but this is not _always_ true. The main issue is allocations, where generate_displacements is able to predetermine and allocate the required arrays. This can, however, increase overheads in some situations. \n",
    "\n",
    "I discovered this while writing the update histogram functions, where using a for-loop is better when _modifying an existing dataset_."
   ]
  },
  {
   "attachments": {},
   "cell_type": "markdown",
   "metadata": {},
   "source": [
    "# Outline\n",
    "To that end, the existing mc_step! generates a vector of displacements, a vector of energies and then tests acceptance in a vectorised fashion. I aim to test several cases:\n",
    "- benchmark existing step\n",
    "- ~~all internal operations are wrapped in one function over which we vectorise~~\n",
    "NB this won't work as different energy methods require different functionality.\n",
    "\n",
    "- all internal operations are wrapped up in one function over which we loop\n",
    "- vector operations are separate from the acceptance/exchange, over which we loop"
   ]
  },
  {
   "cell_type": "code",
   "execution_count": 7,
   "metadata": {},
   "outputs": [],
   "source": [
    "import ParallelTemperingMonteCarlo.MCRun.mc_step!,ParallelTemperingMonteCarlo.MCRun.acc_test!"
   ]
  },
  {
   "cell_type": "code",
   "execution_count": 8,
   "metadata": {},
   "outputs": [
    {
     "data": {
      "text/plain": [
       "BenchmarkTools.Trial: 10000 samples with 6 evaluations.\n",
       " Range \u001b[90m(\u001b[39m\u001b[36m\u001b[1mmin\u001b[22m\u001b[39m … \u001b[35mmax\u001b[39m\u001b[90m):  \u001b[39m\u001b[36m\u001b[1m5.877 μs\u001b[22m\u001b[39m … \u001b[35m393.284 μs\u001b[39m  \u001b[90m┊\u001b[39m GC \u001b[90m(\u001b[39mmin … max\u001b[90m): \u001b[39m0.00% … 96.81%\n",
       " Time  \u001b[90m(\u001b[39m\u001b[34m\u001b[1mmedian\u001b[22m\u001b[39m\u001b[90m):     \u001b[39m\u001b[34m\u001b[1m6.257 μs               \u001b[22m\u001b[39m\u001b[90m┊\u001b[39m GC \u001b[90m(\u001b[39mmedian\u001b[90m):    \u001b[39m0.00%\n",
       " Time  \u001b[90m(\u001b[39m\u001b[32m\u001b[1mmean\u001b[22m\u001b[39m ± \u001b[32mσ\u001b[39m\u001b[90m):   \u001b[39m\u001b[32m\u001b[1m7.600 μs\u001b[22m\u001b[39m ± \u001b[32m 12.019 μs\u001b[39m  \u001b[90m┊\u001b[39m GC \u001b[90m(\u001b[39mmean ± σ\u001b[90m):  \u001b[39m4.93% ±  3.08%\n",
       "\n",
       "  \u001b[39m▂\u001b[39m▅\u001b[39m▇\u001b[39m█\u001b[34m▁\u001b[39m\u001b[39m \u001b[39m \u001b[39m \u001b[39m \u001b[39m \u001b[39m \u001b[39m \u001b[39m \u001b[39m \u001b[39m \u001b[39m \u001b[39m \u001b[39m \u001b[39m \u001b[32m \u001b[39m\u001b[39m \u001b[39m \u001b[39m \u001b[39m \u001b[39m \u001b[39m \u001b[39m \u001b[39m \u001b[39m \u001b[39m \u001b[39m \u001b[39m \u001b[39m \u001b[39m \u001b[39m \u001b[39m \u001b[39m \u001b[39m \u001b[39m \u001b[39m \u001b[39m \u001b[39m \u001b[39m \u001b[39m \u001b[39m \u001b[39m \u001b[39m \u001b[39m \u001b[39m \u001b[39m \u001b[39m \u001b[39m \u001b[39m \u001b[39m \u001b[39m \u001b[39m \u001b[39m \u001b[39m \u001b[39m \u001b[39m \u001b[39m \n",
       "  \u001b[39m█\u001b[39m█\u001b[39m█\u001b[39m█\u001b[34m█\u001b[39m\u001b[39m▃\u001b[39m▂\u001b[39m▂\u001b[39m▂\u001b[39m▂\u001b[39m▂\u001b[39m▁\u001b[39m▁\u001b[39m▁\u001b[39m▁\u001b[39m▁\u001b[39m▁\u001b[39m▁\u001b[39m▁\u001b[32m▁\u001b[39m\u001b[39m▁\u001b[39m▁\u001b[39m▁\u001b[39m▁\u001b[39m▂\u001b[39m▂\u001b[39m▃\u001b[39m▄\u001b[39m▅\u001b[39m▅\u001b[39m▅\u001b[39m▅\u001b[39m▃\u001b[39m▃\u001b[39m▃\u001b[39m▂\u001b[39m▂\u001b[39m▂\u001b[39m▂\u001b[39m▂\u001b[39m▂\u001b[39m▂\u001b[39m▁\u001b[39m▁\u001b[39m▁\u001b[39m▁\u001b[39m▁\u001b[39m▁\u001b[39m▁\u001b[39m▁\u001b[39m▁\u001b[39m▁\u001b[39m▁\u001b[39m▁\u001b[39m▁\u001b[39m▁\u001b[39m▁\u001b[39m▁\u001b[39m▁\u001b[39m \u001b[39m▂\n",
       "  5.88 μs\u001b[90m         Histogram: frequency by time\u001b[39m        11.2 μs \u001b[0m\u001b[1m<\u001b[22m\n",
       "\n",
       " Memory estimate\u001b[90m: \u001b[39m\u001b[33m12.39 KiB\u001b[39m, allocs estimate\u001b[90m: \u001b[39m\u001b[33m69\u001b[39m."
      ]
     },
     "metadata": {},
     "output_type": "display_data"
    }
   ],
   "source": [
    "function test_step!(mc_states,mc_params,pot,ensemble)\n",
    "    index,trial_position = generate_displacements(mc_states,mc_params)\n",
    "    energy_vector,dist2_new = get_energy(trial_position,index,mc_states,pot)\n",
    "    for idx in eachindex(mc_states)\n",
    "        acc_test!(ensemble,mc_states[idx],energy_vector[idx],index[idx],trial_position[idx],dist2_new[idx])\n",
    "    end\n",
    "    return mc_states\n",
    "end\n",
    "function test_step_inbounds!(mc_states,mc_params,pot,ensemble)\n",
    "    index,trial_position = generate_displacements(mc_states,mc_params)\n",
    "    energy_vector,dist2_new = get_energy(trial_position,index,mc_states,pot)\n",
    "    for idx in eachindex(mc_states)\n",
    "        @inbounds acc_test!(ensemble,mc_states[idx],energy_vector[idx],index[idx],trial_position[idx],dist2_new[idx])\n",
    "    end\n",
    "    return mc_states\n",
    "end\n",
    "@benchmark mc_step!($mc_states,mc_params,pot,ensemble)"
   ]
  },
  {
   "cell_type": "code",
   "execution_count": 9,
   "metadata": {},
   "outputs": [
    {
     "data": {
      "text/plain": [
       "BenchmarkTools.Trial: 10000 samples with 6 evaluations.\n",
       " Range \u001b[90m(\u001b[39m\u001b[36m\u001b[1mmin\u001b[22m\u001b[39m … \u001b[35mmax\u001b[39m\u001b[90m):  \u001b[39m\u001b[36m\u001b[1m5.869 μs\u001b[22m\u001b[39m … \u001b[35m421.836 μs\u001b[39m  \u001b[90m┊\u001b[39m GC \u001b[90m(\u001b[39mmin … max\u001b[90m): \u001b[39m0.00% … 97.57%\n",
       " Time  \u001b[90m(\u001b[39m\u001b[34m\u001b[1mmedian\u001b[22m\u001b[39m\u001b[90m):     \u001b[39m\u001b[34m\u001b[1m6.232 μs               \u001b[22m\u001b[39m\u001b[90m┊\u001b[39m GC \u001b[90m(\u001b[39mmedian\u001b[90m):    \u001b[39m0.00%\n",
       " Time  \u001b[90m(\u001b[39m\u001b[32m\u001b[1mmean\u001b[22m\u001b[39m ± \u001b[32mσ\u001b[39m\u001b[90m):   \u001b[39m\u001b[32m\u001b[1m7.589 μs\u001b[22m\u001b[39m ± \u001b[32m 12.617 μs\u001b[39m  \u001b[90m┊\u001b[39m GC \u001b[90m(\u001b[39mmean ± σ\u001b[90m):  \u001b[39m5.18% ±  3.08%\n",
       "\n",
       "  \u001b[39m▁\u001b[39m▅\u001b[39m█\u001b[39m▂\u001b[34m \u001b[39m\u001b[39m \u001b[39m \u001b[39m \u001b[39m \u001b[39m \u001b[39m \u001b[39m \u001b[39m \u001b[39m \u001b[39m \u001b[39m \u001b[39m \u001b[39m \u001b[32m \u001b[39m\u001b[39m \u001b[39m \u001b[39m \u001b[39m \u001b[39m \u001b[39m \u001b[39m \u001b[39m \u001b[39m \u001b[39m \u001b[39m \u001b[39m \u001b[39m \u001b[39m \u001b[39m \u001b[39m \u001b[39m \u001b[39m \u001b[39m \u001b[39m \u001b[39m \u001b[39m \u001b[39m \u001b[39m \u001b[39m \u001b[39m \u001b[39m \u001b[39m \u001b[39m \u001b[39m \u001b[39m \u001b[39m \u001b[39m \u001b[39m \u001b[39m \u001b[39m \u001b[39m \u001b[39m \u001b[39m \u001b[39m \u001b[39m \u001b[39m \n",
       "  \u001b[39m█\u001b[39m█\u001b[39m█\u001b[39m█\u001b[34m▅\u001b[39m\u001b[39m▂\u001b[39m▂\u001b[39m▂\u001b[39m▂\u001b[39m▂\u001b[39m▁\u001b[39m▁\u001b[39m▁\u001b[39m▁\u001b[39m▁\u001b[39m▁\u001b[39m▁\u001b[39m▁\u001b[32m▁\u001b[39m\u001b[39m▁\u001b[39m▁\u001b[39m▁\u001b[39m▁\u001b[39m▁\u001b[39m▂\u001b[39m▃\u001b[39m▄\u001b[39m▅\u001b[39m▅\u001b[39m▄\u001b[39m▃\u001b[39m▃\u001b[39m▂\u001b[39m▂\u001b[39m▂\u001b[39m▂\u001b[39m▂\u001b[39m▂\u001b[39m▂\u001b[39m▂\u001b[39m▁\u001b[39m▁\u001b[39m▁\u001b[39m▁\u001b[39m▁\u001b[39m▁\u001b[39m▁\u001b[39m▁\u001b[39m▁\u001b[39m▁\u001b[39m▁\u001b[39m▁\u001b[39m▁\u001b[39m▁\u001b[39m▁\u001b[39m▁\u001b[39m▁\u001b[39m▁\u001b[39m▁\u001b[39m \u001b[39m▂\n",
       "  5.87 μs\u001b[90m         Histogram: frequency by time\u001b[39m        11.4 μs \u001b[0m\u001b[1m<\u001b[22m\n",
       "\n",
       " Memory estimate\u001b[90m: \u001b[39m\u001b[33m12.39 KiB\u001b[39m, allocs estimate\u001b[90m: \u001b[39m\u001b[33m69\u001b[39m."
      ]
     },
     "metadata": {},
     "output_type": "display_data"
    }
   ],
   "source": [
    "@benchmark test_step!($mc_states,mc_params,pot,ensemble)"
   ]
  },
  {
   "cell_type": "code",
   "execution_count": 10,
   "metadata": {},
   "outputs": [
    {
     "data": {
      "text/plain": [
       "BenchmarkTools.Trial: 10000 samples with 6 evaluations.\n",
       " Range \u001b[90m(\u001b[39m\u001b[36m\u001b[1mmin\u001b[22m\u001b[39m … \u001b[35mmax\u001b[39m\u001b[90m):  \u001b[39m\u001b[36m\u001b[1m6.010 μs\u001b[22m\u001b[39m … \u001b[35m403.456 μs\u001b[39m  \u001b[90m┊\u001b[39m GC \u001b[90m(\u001b[39mmin … max\u001b[90m): \u001b[39m0.00% … 96.47%\n",
       " Time  \u001b[90m(\u001b[39m\u001b[34m\u001b[1mmedian\u001b[22m\u001b[39m\u001b[90m):     \u001b[39m\u001b[34m\u001b[1m6.270 μs               \u001b[22m\u001b[39m\u001b[90m┊\u001b[39m GC \u001b[90m(\u001b[39mmedian\u001b[90m):    \u001b[39m0.00%\n",
       " Time  \u001b[90m(\u001b[39m\u001b[32m\u001b[1mmean\u001b[22m\u001b[39m ± \u001b[32mσ\u001b[39m\u001b[90m):   \u001b[39m\u001b[32m\u001b[1m7.639 μs\u001b[22m\u001b[39m ± \u001b[32m 11.905 μs\u001b[39m  \u001b[90m┊\u001b[39m GC \u001b[90m(\u001b[39mmean ± σ\u001b[90m):  \u001b[39m4.85% ±  3.07%\n",
       "\n",
       "  \u001b[39m▄\u001b[39m▆\u001b[39m█\u001b[34m \u001b[39m\u001b[39m \u001b[39m \u001b[39m \u001b[39m \u001b[39m \u001b[39m \u001b[39m \u001b[39m \u001b[39m \u001b[39m \u001b[39m \u001b[39m \u001b[39m \u001b[32m \u001b[39m\u001b[39m \u001b[39m \u001b[39m \u001b[39m \u001b[39m \u001b[39m \u001b[39m \u001b[39m \u001b[39m \u001b[39m \u001b[39m \u001b[39m \u001b[39m \u001b[39m \u001b[39m \u001b[39m \u001b[39m \u001b[39m \u001b[39m \u001b[39m \u001b[39m \u001b[39m \u001b[39m \u001b[39m \u001b[39m \u001b[39m \u001b[39m \u001b[39m \u001b[39m \u001b[39m \u001b[39m \u001b[39m \u001b[39m \u001b[39m \u001b[39m \u001b[39m \u001b[39m \u001b[39m \u001b[39m \u001b[39m \u001b[39m \u001b[39m \u001b[39m \n",
       "  \u001b[39m█\u001b[39m█\u001b[39m█\u001b[34m▅\u001b[39m\u001b[39m▃\u001b[39m▃\u001b[39m▃\u001b[39m▂\u001b[39m▂\u001b[39m▂\u001b[39m▂\u001b[39m▂\u001b[39m▁\u001b[39m▂\u001b[39m▂\u001b[39m▂\u001b[39m▂\u001b[32m▂\u001b[39m\u001b[39m▂\u001b[39m▂\u001b[39m▂\u001b[39m▂\u001b[39m▂\u001b[39m▃\u001b[39m▃\u001b[39m▄\u001b[39m▅\u001b[39m▅\u001b[39m▅\u001b[39m▄\u001b[39m▃\u001b[39m▃\u001b[39m▃\u001b[39m▃\u001b[39m▃\u001b[39m▃\u001b[39m▃\u001b[39m▃\u001b[39m▂\u001b[39m▂\u001b[39m▂\u001b[39m▂\u001b[39m▂\u001b[39m▂\u001b[39m▂\u001b[39m▂\u001b[39m▂\u001b[39m▂\u001b[39m▂\u001b[39m▂\u001b[39m▂\u001b[39m▂\u001b[39m▂\u001b[39m▂\u001b[39m▂\u001b[39m▂\u001b[39m▂\u001b[39m▂\u001b[39m▂\u001b[39m \u001b[39m▃\n",
       "  6.01 μs\u001b[90m         Histogram: frequency by time\u001b[39m        11.6 μs \u001b[0m\u001b[1m<\u001b[22m\n",
       "\n",
       " Memory estimate\u001b[90m: \u001b[39m\u001b[33m12.39 KiB\u001b[39m, allocs estimate\u001b[90m: \u001b[39m\u001b[33m69\u001b[39m."
      ]
     },
     "metadata": {},
     "output_type": "display_data"
    }
   ],
   "source": [
    "@benchmark test_step_inbounds!($mc_states,mc_params,pot,ensemble)"
   ]
  },
  {
   "cell_type": "code",
   "execution_count": 11,
   "metadata": {},
   "outputs": [
    {
     "data": {
      "text/plain": [
       "old_step_test! (generic function with 1 method)"
      ]
     },
     "metadata": {},
     "output_type": "display_data"
    }
   ],
   "source": [
    "function old_atom_move!(mc_state::MCState, i_atom, pot, ensemble)\n",
    "    #move randomly selected atom (obeying the boundary conditions)\n",
    "    trial_pos = atom_displacement(mc_state,i_atom)\n",
    "    \n",
    "    delta_en_move, dist2_new = energy_update(trial_pos, i_atom, mc_state.config, mc_state.dist2_mat, pot)\n",
    "    #decide acceptance\n",
    "    if metropolis_condition(ensemble, delta_en_move, mc_state.beta) >= rand()\n",
    "        #new config accepted\n",
    "        mc_state.config.pos[i_atom] = trial_pos #copy(trial_pos)\n",
    "        mc_state.dist2_mat[i_atom,:] = dist2_new #copy(dist2_new)\n",
    "        mc_state.dist2_mat[:,i_atom] = dist2_new\n",
    "        mc_state.en_tot += delta_en_move\n",
    "        mc_state.count_atom[1] += 1\n",
    "        mc_state.count_atom[2] += 1\n",
    "    end\n",
    "    return mc_state #config, entot, dist2mat, count_acc, count_acc_adjust\n",
    "end\n",
    "\n",
    "function old_mc_step!(mc_state::MCState, pot, ensemble, a, v, r)\n",
    "    ran_atom = rand(1:(a+v+r)) #choose move randomly\n",
    "    if ran_atom <= a\n",
    "        mc_state = old_atom_move!(mc_state, ran_atom, pot, ensemble)\n",
    "    #else if ran <= v\n",
    "    #    vol_move!(mc_state, pot, ensemble)\n",
    "    #else if ran <= r\n",
    "    #    rot_move!(mc_state, pot, ensemble)\n",
    "    end\n",
    "    return mc_state\n",
    "end \n",
    "function old_step_test!(mc_states,pot,ensemble,a,v,r)\n",
    "    for state in mc_states\n",
    "        state = old_mc_step!(state,pot,ensemble,a,v,r)\n",
    "    end\n",
    "    return mc_states\n",
    "end"
   ]
  },
  {
   "cell_type": "code",
   "execution_count": 12,
   "metadata": {},
   "outputs": [
    {
     "data": {
      "text/plain": [
       "BenchmarkTools.Trial: 10000 samples with 6 evaluations.\n",
       " Range \u001b[90m(\u001b[39m\u001b[36m\u001b[1mmin\u001b[22m\u001b[39m … \u001b[35mmax\u001b[39m\u001b[90m):  \u001b[39m\u001b[36m\u001b[1m5.953 μs\u001b[22m\u001b[39m … \u001b[35m411.033 μs\u001b[39m  \u001b[90m┊\u001b[39m GC \u001b[90m(\u001b[39mmin … max\u001b[90m): \u001b[39m0.00% … 97.73%\n",
       " Time  \u001b[90m(\u001b[39m\u001b[34m\u001b[1mmedian\u001b[22m\u001b[39m\u001b[90m):     \u001b[39m\u001b[34m\u001b[1m6.188 μs               \u001b[22m\u001b[39m\u001b[90m┊\u001b[39m GC \u001b[90m(\u001b[39mmedian\u001b[90m):    \u001b[39m0.00%\n",
       " Time  \u001b[90m(\u001b[39m\u001b[32m\u001b[1mmean\u001b[22m\u001b[39m ± \u001b[32mσ\u001b[39m\u001b[90m):   \u001b[39m\u001b[32m\u001b[1m7.345 μs\u001b[22m\u001b[39m ± \u001b[32m 10.875 μs\u001b[39m  \u001b[90m┊\u001b[39m GC \u001b[90m(\u001b[39mmean ± σ\u001b[90m):  \u001b[39m4.14% ±  2.76%\n",
       "\n",
       "  \u001b[39m█\u001b[39m \u001b[39m▅\u001b[34m \u001b[39m\u001b[39m \u001b[39m \u001b[39m \u001b[39m \u001b[39m \u001b[39m \u001b[39m \u001b[39m \u001b[39m \u001b[39m \u001b[39m \u001b[39m \u001b[39m \u001b[39m \u001b[32m \u001b[39m\u001b[39m \u001b[39m \u001b[39m \u001b[39m \u001b[39m \u001b[39m \u001b[39m \u001b[39m \u001b[39m \u001b[39m \u001b[39m \u001b[39m \u001b[39m \u001b[39m \u001b[39m \u001b[39m \u001b[39m \u001b[39m \u001b[39m \u001b[39m \u001b[39m \u001b[39m \u001b[39m \u001b[39m \u001b[39m \u001b[39m \u001b[39m \u001b[39m \u001b[39m \u001b[39m \u001b[39m \u001b[39m \u001b[39m \u001b[39m \u001b[39m \u001b[39m \u001b[39m \u001b[39m \u001b[39m \u001b[39m \u001b[39m \u001b[39m \n",
       "  \u001b[39m█\u001b[39m▆\u001b[39m█\u001b[34m▃\u001b[39m\u001b[39m▂\u001b[39m▁\u001b[39m▁\u001b[39m▁\u001b[39m▁\u001b[39m▁\u001b[39m▁\u001b[39m▁\u001b[39m▁\u001b[39m▁\u001b[39m▁\u001b[39m▁\u001b[39m▁\u001b[39m▁\u001b[32m▁\u001b[39m\u001b[39m▁\u001b[39m▁\u001b[39m▁\u001b[39m▁\u001b[39m▂\u001b[39m▃\u001b[39m▅\u001b[39m▅\u001b[39m▄\u001b[39m▃\u001b[39m▂\u001b[39m▂\u001b[39m▂\u001b[39m▂\u001b[39m▂\u001b[39m▂\u001b[39m▂\u001b[39m▂\u001b[39m▂\u001b[39m▁\u001b[39m▁\u001b[39m▁\u001b[39m▁\u001b[39m▁\u001b[39m▁\u001b[39m▁\u001b[39m▁\u001b[39m▁\u001b[39m▁\u001b[39m▁\u001b[39m▁\u001b[39m▁\u001b[39m▁\u001b[39m▁\u001b[39m▁\u001b[39m▁\u001b[39m▁\u001b[39m▁\u001b[39m▁\u001b[39m▁\u001b[39m \u001b[39m▂\n",
       "  5.95 μs\u001b[90m         Histogram: frequency by time\u001b[39m        10.5 μs \u001b[0m\u001b[1m<\u001b[22m\n",
       "\n",
       " Memory estimate\u001b[90m: \u001b[39m\u001b[33m10.00 KiB\u001b[39m, allocs estimate\u001b[90m: \u001b[39m\u001b[33m64\u001b[39m."
      ]
     },
     "metadata": {},
     "output_type": "display_data"
    }
   ],
   "source": [
    "@benchmark old_step_test!($mc_states,pot,ensemble,13,0,0)"
   ]
  },
  {
   "attachments": {},
   "cell_type": "markdown",
   "metadata": {},
   "source": [
    "Benchmarking get_energy"
   ]
  },
  {
   "cell_type": "code",
   "execution_count": 13,
   "metadata": {},
   "outputs": [
    {
     "data": {
      "text/plain": [
       "BenchmarkTools.Trial: 10000 samples with 7 evaluations.\n",
       " Range \u001b[90m(\u001b[39m\u001b[36m\u001b[1mmin\u001b[22m\u001b[39m … \u001b[35mmax\u001b[39m\u001b[90m):  \u001b[39m\u001b[36m\u001b[1m4.816 μs\u001b[22m\u001b[39m … \u001b[35m360.402 μs\u001b[39m  \u001b[90m┊\u001b[39m GC \u001b[90m(\u001b[39mmin … max\u001b[90m): \u001b[39m0.00% … 97.75%\n",
       " Time  \u001b[90m(\u001b[39m\u001b[34m\u001b[1mmedian\u001b[22m\u001b[39m\u001b[90m):     \u001b[39m\u001b[34m\u001b[1m5.033 μs               \u001b[22m\u001b[39m\u001b[90m┊\u001b[39m GC \u001b[90m(\u001b[39mmedian\u001b[90m):    \u001b[39m0.00%\n",
       " Time  \u001b[90m(\u001b[39m\u001b[32m\u001b[1mmean\u001b[22m\u001b[39m ± \u001b[32mσ\u001b[39m\u001b[90m):   \u001b[39m\u001b[32m\u001b[1m6.195 μs\u001b[22m\u001b[39m ± \u001b[32m 11.019 μs\u001b[39m  \u001b[90m┊\u001b[39m GC \u001b[90m(\u001b[39mmean ± σ\u001b[90m):  \u001b[39m5.82% ±  3.23%\n",
       "\n",
       "  \u001b[39m▃\u001b[39m▇\u001b[39m█\u001b[34m▆\u001b[39m\u001b[39m▃\u001b[39m▂\u001b[39m▂\u001b[39m▁\u001b[39m \u001b[39m▁\u001b[39m \u001b[39m \u001b[39m \u001b[39m \u001b[39m \u001b[39m \u001b[39m \u001b[39m \u001b[32m \u001b[39m\u001b[39m \u001b[39m \u001b[39m \u001b[39m \u001b[39m \u001b[39m \u001b[39m \u001b[39m▂\u001b[39m▃\u001b[39m▄\u001b[39m▅\u001b[39m▅\u001b[39m▄\u001b[39m▄\u001b[39m▃\u001b[39m▂\u001b[39m▂\u001b[39m▂\u001b[39m▂\u001b[39m▃\u001b[39m▂\u001b[39m▂\u001b[39m▁\u001b[39m \u001b[39m \u001b[39m \u001b[39m \u001b[39m \u001b[39m \u001b[39m \u001b[39m \u001b[39m \u001b[39m \u001b[39m \u001b[39m \u001b[39m \u001b[39m \u001b[39m \u001b[39m \u001b[39m \u001b[39m \u001b[39m▂\n",
       "  \u001b[39m█\u001b[39m█\u001b[39m█\u001b[34m█\u001b[39m\u001b[39m█\u001b[39m█\u001b[39m█\u001b[39m█\u001b[39m█\u001b[39m█\u001b[39m█\u001b[39m▇\u001b[39m▄\u001b[39m▄\u001b[39m▅\u001b[39m▅\u001b[39m▆\u001b[39m▄\u001b[32m▅\u001b[39m\u001b[39m▄\u001b[39m▁\u001b[39m▃\u001b[39m▁\u001b[39m▄\u001b[39m▄\u001b[39m█\u001b[39m█\u001b[39m█\u001b[39m█\u001b[39m█\u001b[39m█\u001b[39m█\u001b[39m█\u001b[39m█\u001b[39m█\u001b[39m█\u001b[39m█\u001b[39m█\u001b[39m█\u001b[39m█\u001b[39m█\u001b[39m█\u001b[39m█\u001b[39m█\u001b[39m▆\u001b[39m▇\u001b[39m▆\u001b[39m▅\u001b[39m▆\u001b[39m▅\u001b[39m▅\u001b[39m▆\u001b[39m▅\u001b[39m▅\u001b[39m▅\u001b[39m▅\u001b[39m▆\u001b[39m▆\u001b[39m▆\u001b[39m \u001b[39m█\n",
       "  4.82 μs\u001b[90m      \u001b[39m\u001b[90mHistogram: \u001b[39m\u001b[90m\u001b[1mlog(\u001b[22m\u001b[39m\u001b[90mfrequency\u001b[39m\u001b[90m\u001b[1m)\u001b[22m\u001b[39m\u001b[90m by time\u001b[39m      9.25 μs \u001b[0m\u001b[1m<\u001b[22m\n",
       "\n",
       " Memory estimate\u001b[90m: \u001b[39m\u001b[33m11.22 KiB\u001b[39m, allocs estimate\u001b[90m: \u001b[39m\u001b[33m68\u001b[39m."
      ]
     },
     "metadata": {},
     "output_type": "display_data"
    }
   ],
   "source": [
    "indices,trial_positions = generate_displacements(mc_states,mc_params)\n",
    " @benchmark get_energy($trial_positions,$indices,$mc_states,pot)"
   ]
  },
  {
   "cell_type": "code",
   "execution_count": 14,
   "metadata": {},
   "outputs": [
    {
     "data": {
      "text/plain": [
       "BenchmarkTools.Trial: 10000 samples with 6 evaluations.\n",
       " Range \u001b[90m(\u001b[39m\u001b[36m\u001b[1mmin\u001b[22m\u001b[39m … \u001b[35mmax\u001b[39m\u001b[90m):  \u001b[39m\u001b[36m\u001b[1m5.113 μs\u001b[22m\u001b[39m … \u001b[35m447.565 μs\u001b[39m  \u001b[90m┊\u001b[39m GC \u001b[90m(\u001b[39mmin … max\u001b[90m): \u001b[39m0.00% … 97.60%\n",
       " Time  \u001b[90m(\u001b[39m\u001b[34m\u001b[1mmedian\u001b[22m\u001b[39m\u001b[90m):     \u001b[39m\u001b[34m\u001b[1m5.324 μs               \u001b[22m\u001b[39m\u001b[90m┊\u001b[39m GC \u001b[90m(\u001b[39mmedian\u001b[90m):    \u001b[39m0.00%\n",
       " Time  \u001b[90m(\u001b[39m\u001b[32m\u001b[1mmean\u001b[22m\u001b[39m ± \u001b[32mσ\u001b[39m\u001b[90m):   \u001b[39m\u001b[32m\u001b[1m6.553 μs\u001b[22m\u001b[39m ± \u001b[32m 13.158 μs\u001b[39m  \u001b[90m┊\u001b[39m GC \u001b[90m(\u001b[39mmean ± σ\u001b[90m):  \u001b[39m6.27% ±  3.09%\n",
       "\n",
       "  \u001b[39m▇\u001b[39m█\u001b[39m█\u001b[34m▅\u001b[39m\u001b[39m▃\u001b[39m▂\u001b[39m▁\u001b[39m \u001b[39m \u001b[39m▁\u001b[39m \u001b[39m \u001b[39m \u001b[39m \u001b[39m \u001b[39m \u001b[39m \u001b[39m \u001b[32m \u001b[39m\u001b[39m \u001b[39m \u001b[39m \u001b[39m \u001b[39m▂\u001b[39m▃\u001b[39m▅\u001b[39m▅\u001b[39m▅\u001b[39m▅\u001b[39m▄\u001b[39m▃\u001b[39m▂\u001b[39m▁\u001b[39m▂\u001b[39m▂\u001b[39m▃\u001b[39m▃\u001b[39m▂\u001b[39m▂\u001b[39m▁\u001b[39m▁\u001b[39m \u001b[39m \u001b[39m \u001b[39m \u001b[39m \u001b[39m \u001b[39m \u001b[39m \u001b[39m \u001b[39m \u001b[39m \u001b[39m \u001b[39m \u001b[39m \u001b[39m \u001b[39m \u001b[39m \u001b[39m \u001b[39m \u001b[39m▂\n",
       "  \u001b[39m█\u001b[39m█\u001b[39m█\u001b[34m█\u001b[39m\u001b[39m█\u001b[39m█\u001b[39m█\u001b[39m█\u001b[39m█\u001b[39m█\u001b[39m█\u001b[39m█\u001b[39m▇\u001b[39m▇\u001b[39m▆\u001b[39m▆\u001b[39m▃\u001b[39m▅\u001b[32m▂\u001b[39m\u001b[39m▄\u001b[39m▂\u001b[39m▄\u001b[39m▇\u001b[39m█\u001b[39m█\u001b[39m█\u001b[39m█\u001b[39m█\u001b[39m█\u001b[39m█\u001b[39m█\u001b[39m█\u001b[39m█\u001b[39m█\u001b[39m█\u001b[39m█\u001b[39m█\u001b[39m█\u001b[39m█\u001b[39m█\u001b[39m█\u001b[39m▇\u001b[39m▇\u001b[39m▇\u001b[39m▆\u001b[39m▆\u001b[39m▅\u001b[39m▃\u001b[39m▄\u001b[39m▆\u001b[39m▇\u001b[39m▆\u001b[39m▇\u001b[39m▆\u001b[39m▆\u001b[39m▆\u001b[39m▅\u001b[39m▄\u001b[39m▆\u001b[39m \u001b[39m█\n",
       "  5.11 μs\u001b[90m      \u001b[39m\u001b[90mHistogram: \u001b[39m\u001b[90m\u001b[1mlog(\u001b[22m\u001b[39m\u001b[90mfrequency\u001b[39m\u001b[90m\u001b[1m)\u001b[22m\u001b[39m\u001b[90m by time\u001b[39m      9.95 μs \u001b[0m\u001b[1m<\u001b[22m\n",
       "\n",
       " Memory estimate\u001b[90m: \u001b[39m\u001b[33m11.44 KiB\u001b[39m, allocs estimate\u001b[90m: \u001b[39m\u001b[33m103\u001b[39m."
      ]
     },
     "metadata": {},
     "output_type": "display_data"
    }
   ],
   "source": [
    "function testenupdate(trial_positions,indices,mc_states,pot)\n",
    "    energyvector = []\n",
    "    dist2new = []\n",
    "    for idx in eachindex(mc_states)\n",
    "        en,dis2new = get_energy_dimer(trial_positions[idx],indices[idx],mc_states[idx],pot)\n",
    "        push!(energyvector,en)\n",
    "        push!(dist2new,dis2new)\n",
    "    end\n",
    "    return energyvector,dist2new\n",
    "end\n",
    "\n",
    "@benchmark testenupdate($trial_positions,$indices,$mc_states,pot)"
   ]
  },
  {
   "attachments": {},
   "cell_type": "markdown",
   "metadata": {},
   "source": [
    "# Results and Sampling\n",
    "\n",
    "Having benchmarked mc_step and mc_cycle, we are at the point where we will need to sample data. The main takeaway here will be whether or not the new sampling step is faster than the old.\n",
    "\n",
    "The key here is basically to benchmark MCRun.sampling_step+update_rdf+update_histogram and compare this with the new sampling.sampling_step"
   ]
  },
  {
   "cell_type": "code",
   "execution_count": 15,
   "metadata": {},
   "outputs": [
    {
     "name": "stdout",
     "output_type": "stream",
     "text": [
      "Total number of moves per MC cycle: 13\n",
      "\n"
     ]
    },
    {
     "name": "stdout",
     "output_type": "stream",
     "text": [
      "equilibration done\n"
     ]
    },
    {
     "name": "stdout",
     "output_type": "stream",
     "text": [
      "MC loop done.\n"
     ]
    },
    {
     "name": "stdout",
     "output_type": "stream",
     "text": [
      "[0.00032207039864127617, 0.0003355819105279192, 0.00035643586669873513, 0.0003761266368763596, 0.00039454218517713985, 0.0004237029910114976, 0.0004421172107412197, 0.0004723909772239245, 0.0004812156304097973, 0.0005243981632577579, 0.0005511625643465418, 0.0005790141561770559, 0.0006078988772944163, 0.0006725497172660517, 0.0006981916339397042, 0.0007748543576863903, 0.0008387741248366618, 0.0009760210773909209, 0.0011519080956073147, 0.0014718777251584115, 0.0017162037093697124, 0.0021613630331045967, 0.0027708703053662635, 0.003126654187788658, 0.003344674139491709, 0.0032963132477790524, 0.003010139884167088, 0.002700119946080442, 0.0024652007245660034, 0.002320666555037463, 0.0019794085575286407, 0.0018922077964178326]\n",
      "done\n"
     ]
    }
   ],
   "source": [
    "ptmc_run!(mc_states, move_strat, mc_params, pot, ensemble, results; save_ham = false)"
   ]
  },
  {
   "cell_type": "code",
   "execution_count": 16,
   "metadata": {},
   "outputs": [],
   "source": [
    "import ParallelTemperingMonteCarlo.MCRun.sampling_step!,ParallelTemperingMonteCarlo.MCRun.updatehistogram!,ParallelTemperingMonteCarlo.MCRun.updaterdf!"
   ]
  },
  {
   "cell_type": "code",
   "execution_count": 17,
   "metadata": {},
   "outputs": [
    {
     "data": {
      "text/plain": [
       "0.8085575246693824"
      ]
     },
     "metadata": {},
     "output_type": "display_data"
    }
   ],
   "source": [
    "delta_en_hist = (results.en_max - results.en_min) / (results.n_bin - 1)\n",
    "delta_r2 = 4*start_config.bc.radius2/results.n_bin/5"
   ]
  },
  {
   "cell_type": "code",
   "execution_count": 18,
   "metadata": {},
   "outputs": [
    {
     "data": {
      "text/plain": [
       "BenchmarkTools.Trial: 10000 samples with 4 evaluations.\n",
       " Range \u001b[90m(\u001b[39m\u001b[36m\u001b[1mmin\u001b[22m\u001b[39m … \u001b[35mmax\u001b[39m\u001b[90m):  \u001b[39m\u001b[36m\u001b[1m7.355 μs\u001b[22m\u001b[39m … \u001b[35m 13.128 μs\u001b[39m  \u001b[90m┊\u001b[39m GC \u001b[90m(\u001b[39mmin … max\u001b[90m): \u001b[39m0.00% … 0.00%\n",
       " Time  \u001b[90m(\u001b[39m\u001b[34m\u001b[1mmedian\u001b[22m\u001b[39m\u001b[90m):     \u001b[39m\u001b[34m\u001b[1m7.656 μs               \u001b[22m\u001b[39m\u001b[90m┊\u001b[39m GC \u001b[90m(\u001b[39mmedian\u001b[90m):    \u001b[39m0.00%\n",
       " Time  \u001b[90m(\u001b[39m\u001b[32m\u001b[1mmean\u001b[22m\u001b[39m ± \u001b[32mσ\u001b[39m\u001b[90m):   \u001b[39m\u001b[32m\u001b[1m7.687 μs\u001b[22m\u001b[39m ± \u001b[32m200.443 ns\u001b[39m  \u001b[90m┊\u001b[39m GC \u001b[90m(\u001b[39mmean ± σ\u001b[90m):  \u001b[39m0.00% ± 0.00%\n",
       "\n",
       "  \u001b[39m \u001b[39m▁\u001b[39m \u001b[39m \u001b[39m \u001b[39m \u001b[39m \u001b[39m \u001b[39m█\u001b[39m▂\u001b[39m \u001b[39m \u001b[39m \u001b[39m \u001b[39m \u001b[39m▂\u001b[39m▄\u001b[39m \u001b[39m \u001b[39m▇\u001b[39m▂\u001b[34m \u001b[39m\u001b[39m \u001b[32m▂\u001b[39m\u001b[39m \u001b[39m \u001b[39m \u001b[39m▃\u001b[39m \u001b[39m \u001b[39m▁\u001b[39m▄\u001b[39m \u001b[39m \u001b[39m \u001b[39m \u001b[39m \u001b[39m \u001b[39m▁\u001b[39m \u001b[39m \u001b[39m \u001b[39m \u001b[39m \u001b[39m \u001b[39m \u001b[39m \u001b[39m \u001b[39m \u001b[39m \u001b[39m \u001b[39m \u001b[39m \u001b[39m \u001b[39m \u001b[39m \u001b[39m \u001b[39m \u001b[39m \u001b[39m \u001b[39m \n",
       "  \u001b[39m▃\u001b[39m█\u001b[39m▃\u001b[39m▁\u001b[39m▁\u001b[39m▂\u001b[39m▂\u001b[39m▃\u001b[39m█\u001b[39m█\u001b[39m▂\u001b[39m▃\u001b[39m█\u001b[39m▅\u001b[39m▂\u001b[39m█\u001b[39m█\u001b[39m▃\u001b[39m▃\u001b[39m█\u001b[39m█\u001b[34m▂\u001b[39m\u001b[39m▅\u001b[32m█\u001b[39m\u001b[39m▆\u001b[39m▂\u001b[39m▇\u001b[39m█\u001b[39m▄\u001b[39m▂\u001b[39m█\u001b[39m█\u001b[39m▄\u001b[39m▃\u001b[39m▅\u001b[39m▄\u001b[39m▂\u001b[39m▃\u001b[39m█\u001b[39m▆\u001b[39m▂\u001b[39m▂\u001b[39m▂\u001b[39m▃\u001b[39m▂\u001b[39m▂\u001b[39m▄\u001b[39m▂\u001b[39m▂\u001b[39m▂\u001b[39m▂\u001b[39m▂\u001b[39m▁\u001b[39m▁\u001b[39m▁\u001b[39m▂\u001b[39m▁\u001b[39m▁\u001b[39m▁\u001b[39m \u001b[39m▃\n",
       "  7.35 μs\u001b[90m         Histogram: frequency by time\u001b[39m        8.19 μs \u001b[0m\u001b[1m<\u001b[22m\n",
       "\n",
       " Memory estimate\u001b[90m: \u001b[39m\u001b[33m0 bytes\u001b[39m, allocs estimate\u001b[90m: \u001b[39m\u001b[33m0\u001b[39m."
      ]
     },
     "metadata": {},
     "output_type": "display_data"
    }
   ],
   "source": [
    "function testsample(mc_states,mc_params,results,delta_en_hist,delta_r2)\n",
    "    MCRun.sampling_step!(mc_params,mc_states,1000,false)\n",
    "    updatehistogram!(mc_params,mc_states,results,delta_en_hist,fullham=false)\n",
    "    updaterdf!(mc_states,results,delta_r2)\n",
    "end\n",
    "\n",
    "@benchmark testsample($mc_states,mc_params,$results,delta_en_hist,delta_r2)"
   ]
  },
  {
   "cell_type": "code",
   "execution_count": 19,
   "metadata": {},
   "outputs": [
    {
     "data": {
      "text/plain": [
       "BenchmarkTools.Trial: 10000 samples with 4 evaluations.\n",
       " Range \u001b[90m(\u001b[39m\u001b[36m\u001b[1mmin\u001b[22m\u001b[39m … \u001b[35mmax\u001b[39m\u001b[90m):  \u001b[39m\u001b[36m\u001b[1m7.393 μs\u001b[22m\u001b[39m … \u001b[35m 13.672 μs\u001b[39m  \u001b[90m┊\u001b[39m GC \u001b[90m(\u001b[39mmin … max\u001b[90m): \u001b[39m0.00% … 0.00%\n",
       " Time  \u001b[90m(\u001b[39m\u001b[34m\u001b[1mmedian\u001b[22m\u001b[39m\u001b[90m):     \u001b[39m\u001b[34m\u001b[1m7.840 μs               \u001b[22m\u001b[39m\u001b[90m┊\u001b[39m GC \u001b[90m(\u001b[39mmedian\u001b[90m):    \u001b[39m0.00%\n",
       " Time  \u001b[90m(\u001b[39m\u001b[32m\u001b[1mmean\u001b[22m\u001b[39m ± \u001b[32mσ\u001b[39m\u001b[90m):   \u001b[39m\u001b[32m\u001b[1m7.835 μs\u001b[22m\u001b[39m ± \u001b[32m234.991 ns\u001b[39m  \u001b[90m┊\u001b[39m GC \u001b[90m(\u001b[39mmean ± σ\u001b[90m):  \u001b[39m0.00% ± 0.00%\n",
       "\n",
       "  \u001b[39m \u001b[39m \u001b[39m \u001b[39m \u001b[39m \u001b[39m \u001b[39m \u001b[39m \u001b[39m \u001b[39m \u001b[39m \u001b[39m \u001b[39m \u001b[39m \u001b[39m \u001b[39m \u001b[39m \u001b[39m▄\u001b[39m \u001b[39m \u001b[39m▁\u001b[39m \u001b[39m \u001b[39m \u001b[39m \u001b[39m \u001b[32m▁\u001b[39m\u001b[34m█\u001b[39m\u001b[39m \u001b[39m \u001b[39m \u001b[39m \u001b[39m \u001b[39m▃\u001b[39m \u001b[39m \u001b[39m \u001b[39m \u001b[39m \u001b[39m \u001b[39m \u001b[39m \u001b[39m \u001b[39m \u001b[39m \u001b[39m \u001b[39m \u001b[39m \u001b[39m \u001b[39m \u001b[39m \u001b[39m \u001b[39m \u001b[39m \u001b[39m \u001b[39m \u001b[39m \u001b[39m \u001b[39m \u001b[39m \u001b[39m \n",
       "  \u001b[39m▁\u001b[39m▃\u001b[39m▃\u001b[39m▁\u001b[39m▁\u001b[39m▁\u001b[39m▁\u001b[39m▄\u001b[39m▆\u001b[39m▂\u001b[39m▃\u001b[39m▆\u001b[39m▂\u001b[39m▃\u001b[39m▇\u001b[39m▃\u001b[39m▄\u001b[39m█\u001b[39m▅\u001b[39m▃\u001b[39m█\u001b[39m▇\u001b[39m▃\u001b[39m█\u001b[39m▆\u001b[39m▃\u001b[32m█\u001b[39m\u001b[34m█\u001b[39m\u001b[39m▄\u001b[39m▃\u001b[39m▅\u001b[39m▄\u001b[39m▄\u001b[39m█\u001b[39m▇\u001b[39m▂\u001b[39m▄\u001b[39m▅\u001b[39m▃\u001b[39m▄\u001b[39m▅\u001b[39m▃\u001b[39m▂\u001b[39m▃\u001b[39m▃\u001b[39m▂\u001b[39m▂\u001b[39m▂\u001b[39m▂\u001b[39m▂\u001b[39m▂\u001b[39m▂\u001b[39m▁\u001b[39m▁\u001b[39m▂\u001b[39m▁\u001b[39m▁\u001b[39m▁\u001b[39m▁\u001b[39m \u001b[39m▃\n",
       "  7.39 μs\u001b[90m         Histogram: frequency by time\u001b[39m        8.38 μs \u001b[0m\u001b[1m<\u001b[22m\n",
       "\n",
       " Memory estimate\u001b[90m: \u001b[39m\u001b[33m16 bytes\u001b[39m, allocs estimate\u001b[90m: \u001b[39m\u001b[33m1\u001b[39m."
      ]
     },
     "metadata": {},
     "output_type": "display_data"
    }
   ],
   "source": [
    "@benchmark ParallelTemperingMonteCarlo.MCSampling.sampling_step!(mc_params,$mc_states,1000,$results,delta_en_hist,delta_r2)"
   ]
  },
  {
   "cell_type": "code",
   "execution_count": 20,
   "metadata": {},
   "outputs": [
    {
     "data": {
      "text/plain": [
       "BenchmarkTools.Trial: 10000 samples with 4 evaluations.\n",
       " Range \u001b[90m(\u001b[39m\u001b[36m\u001b[1mmin\u001b[22m\u001b[39m … \u001b[35mmax\u001b[39m\u001b[90m):  \u001b[39m\u001b[36m\u001b[1m7.262 μs\u001b[22m\u001b[39m … \u001b[35m 12.431 μs\u001b[39m  \u001b[90m┊\u001b[39m GC \u001b[90m(\u001b[39mmin … max\u001b[90m): \u001b[39m0.00% … 0.00%\n",
       " Time  \u001b[90m(\u001b[39m\u001b[34m\u001b[1mmedian\u001b[22m\u001b[39m\u001b[90m):     \u001b[39m\u001b[34m\u001b[1m7.545 μs               \u001b[22m\u001b[39m\u001b[90m┊\u001b[39m GC \u001b[90m(\u001b[39mmedian\u001b[90m):    \u001b[39m0.00%\n",
       " Time  \u001b[90m(\u001b[39m\u001b[32m\u001b[1mmean\u001b[22m\u001b[39m ± \u001b[32mσ\u001b[39m\u001b[90m):   \u001b[39m\u001b[32m\u001b[1m7.573 μs\u001b[22m\u001b[39m ± \u001b[32m202.288 ns\u001b[39m  \u001b[90m┊\u001b[39m GC \u001b[90m(\u001b[39mmean ± σ\u001b[90m):  \u001b[39m0.00% ± 0.00%\n",
       "\n",
       "  \u001b[39m \u001b[39m▁\u001b[39m \u001b[39m \u001b[39m \u001b[39m \u001b[39m \u001b[39m \u001b[39m▆\u001b[39m█\u001b[39m \u001b[39m \u001b[39m▁\u001b[39m \u001b[39m \u001b[39m \u001b[39m█\u001b[39m \u001b[39m \u001b[39m▅\u001b[34m▄\u001b[39m\u001b[39m \u001b[32m \u001b[39m\u001b[39m▂\u001b[39m \u001b[39m \u001b[39m \u001b[39m▄\u001b[39m \u001b[39m \u001b[39m \u001b[39m▂\u001b[39m \u001b[39m \u001b[39m \u001b[39m \u001b[39m \u001b[39m \u001b[39m \u001b[39m \u001b[39m \u001b[39m \u001b[39m \u001b[39m \u001b[39m \u001b[39m \u001b[39m \u001b[39m \u001b[39m \u001b[39m \u001b[39m \u001b[39m \u001b[39m \u001b[39m \u001b[39m \u001b[39m \u001b[39m \u001b[39m \u001b[39m \u001b[39m \u001b[39m \n",
       "  \u001b[39m▂\u001b[39m█\u001b[39m▅\u001b[39m▁\u001b[39m▁\u001b[39m▂\u001b[39m▂\u001b[39m▂\u001b[39m█\u001b[39m█\u001b[39m▂\u001b[39m▃\u001b[39m█\u001b[39m▅\u001b[39m▂\u001b[39m▇\u001b[39m█\u001b[39m▄\u001b[39m▂\u001b[39m█\u001b[34m█\u001b[39m\u001b[39m▃\u001b[32m▂\u001b[39m\u001b[39m█\u001b[39m▇\u001b[39m▂\u001b[39m▅\u001b[39m█\u001b[39m▅\u001b[39m▂\u001b[39m▅\u001b[39m█\u001b[39m▄\u001b[39m▂\u001b[39m▄\u001b[39m▅\u001b[39m▂\u001b[39m▂\u001b[39m▅\u001b[39m▆\u001b[39m▂\u001b[39m▂\u001b[39m▂\u001b[39m▃\u001b[39m▂\u001b[39m▂\u001b[39m▃\u001b[39m▂\u001b[39m▂\u001b[39m▂\u001b[39m▂\u001b[39m▁\u001b[39m▁\u001b[39m▁\u001b[39m▁\u001b[39m▁\u001b[39m▁\u001b[39m▁\u001b[39m▁\u001b[39m \u001b[39m▃\n",
       "  7.26 μs\u001b[90m         Histogram: frequency by time\u001b[39m        8.09 μs \u001b[0m\u001b[1m<\u001b[22m\n",
       "\n",
       " Memory estimate\u001b[90m: \u001b[39m\u001b[33m0 bytes\u001b[39m, allocs estimate\u001b[90m: \u001b[39m\u001b[33m0\u001b[39m."
      ]
     },
     "metadata": {},
     "output_type": "display_data"
    }
   ],
   "source": [
    "@benchmark MCSampling.update_rdf!($mc_states,$results,delta_r2)\n"
   ]
  },
  {
   "cell_type": "code",
   "execution_count": 21,
   "metadata": {},
   "outputs": [
    {
     "data": {
      "text/plain": [
       "BenchmarkTools.Trial: 10000 samples with 4 evaluations.\n",
       " Range \u001b[90m(\u001b[39m\u001b[36m\u001b[1mmin\u001b[22m\u001b[39m … \u001b[35mmax\u001b[39m\u001b[90m):  \u001b[39m\u001b[36m\u001b[1m7.265 μs\u001b[22m\u001b[39m … \u001b[35m 13.483 μs\u001b[39m  \u001b[90m┊\u001b[39m GC \u001b[90m(\u001b[39mmin … max\u001b[90m): \u001b[39m0.00% … 0.00%\n",
       " Time  \u001b[90m(\u001b[39m\u001b[34m\u001b[1mmedian\u001b[22m\u001b[39m\u001b[90m):     \u001b[39m\u001b[34m\u001b[1m7.550 μs               \u001b[22m\u001b[39m\u001b[90m┊\u001b[39m GC \u001b[90m(\u001b[39mmedian\u001b[90m):    \u001b[39m0.00%\n",
       " Time  \u001b[90m(\u001b[39m\u001b[32m\u001b[1mmean\u001b[22m\u001b[39m ± \u001b[32mσ\u001b[39m\u001b[90m):   \u001b[39m\u001b[32m\u001b[1m7.579 μs\u001b[22m\u001b[39m ± \u001b[32m212.044 ns\u001b[39m  \u001b[90m┊\u001b[39m GC \u001b[90m(\u001b[39mmean ± σ\u001b[90m):  \u001b[39m0.00% ± 0.00%\n",
       "\n",
       "  \u001b[39m \u001b[39m▂\u001b[39m \u001b[39m \u001b[39m \u001b[39m \u001b[39m \u001b[39m \u001b[39m▅\u001b[39m█\u001b[39m \u001b[39m \u001b[39m \u001b[39m \u001b[39m \u001b[39m \u001b[39m▇\u001b[39m \u001b[39m \u001b[39m▂\u001b[34m▄\u001b[39m\u001b[39m \u001b[32m \u001b[39m\u001b[39m▁\u001b[39m \u001b[39m \u001b[39m \u001b[39m▃\u001b[39m \u001b[39m \u001b[39m \u001b[39m▃\u001b[39m \u001b[39m \u001b[39m \u001b[39m \u001b[39m \u001b[39m \u001b[39m \u001b[39m \u001b[39m \u001b[39m \u001b[39m \u001b[39m \u001b[39m \u001b[39m \u001b[39m \u001b[39m \u001b[39m \u001b[39m \u001b[39m \u001b[39m \u001b[39m \u001b[39m \u001b[39m \u001b[39m \u001b[39m \u001b[39m \u001b[39m \u001b[39m \u001b[39m \n",
       "  \u001b[39m▃\u001b[39m█\u001b[39m▅\u001b[39m▁\u001b[39m▁\u001b[39m▂\u001b[39m▂\u001b[39m▂\u001b[39m█\u001b[39m█\u001b[39m▃\u001b[39m▃\u001b[39m█\u001b[39m▅\u001b[39m▂\u001b[39m▅\u001b[39m█\u001b[39m▆\u001b[39m▂\u001b[39m█\u001b[34m█\u001b[39m\u001b[39m▃\u001b[32m▂\u001b[39m\u001b[39m█\u001b[39m▇\u001b[39m▂\u001b[39m▃\u001b[39m█\u001b[39m▆\u001b[39m▂\u001b[39m▄\u001b[39m█\u001b[39m▆\u001b[39m▂\u001b[39m▃\u001b[39m▄\u001b[39m▃\u001b[39m▂\u001b[39m▄\u001b[39m▇\u001b[39m▃\u001b[39m▂\u001b[39m▂\u001b[39m▂\u001b[39m▂\u001b[39m▂\u001b[39m▂\u001b[39m▃\u001b[39m▂\u001b[39m▁\u001b[39m▁\u001b[39m▂\u001b[39m▂\u001b[39m▁\u001b[39m▁\u001b[39m▂\u001b[39m▁\u001b[39m▁\u001b[39m▁\u001b[39m \u001b[39m▃\n",
       "  7.27 μs\u001b[90m         Histogram: frequency by time\u001b[39m        8.09 μs \u001b[0m\u001b[1m<\u001b[22m\n",
       "\n",
       " Memory estimate\u001b[90m: \u001b[39m\u001b[33m0 bytes\u001b[39m, allocs estimate\u001b[90m: \u001b[39m\u001b[33m0\u001b[39m."
      ]
     },
     "metadata": {},
     "output_type": "display_data"
    }
   ],
   "source": [
    "@benchmark MCRun.updaterdf!($mc_states,$results,delta_r2)"
   ]
  },
  {
   "cell_type": "code",
   "execution_count": 23,
   "metadata": {},
   "outputs": [
    {
     "data": {
      "text/plain": [
       "BenchmarkTools.Trial: 10000 samples with 973 evaluations.\n",
       " Range \u001b[90m(\u001b[39m\u001b[36m\u001b[1mmin\u001b[22m\u001b[39m … \u001b[35mmax\u001b[39m\u001b[90m):  \u001b[39m\u001b[36m\u001b[1m72.033 ns\u001b[22m\u001b[39m … \u001b[35m141.664 ns\u001b[39m  \u001b[90m┊\u001b[39m GC \u001b[90m(\u001b[39mmin … max\u001b[90m): \u001b[39m0.00% … 0.00%\n",
       " Time  \u001b[90m(\u001b[39m\u001b[34m\u001b[1mmedian\u001b[22m\u001b[39m\u001b[90m):     \u001b[39m\u001b[34m\u001b[1m74.790 ns               \u001b[22m\u001b[39m\u001b[90m┊\u001b[39m GC \u001b[90m(\u001b[39mmedian\u001b[90m):    \u001b[39m0.00%\n",
       " Time  \u001b[90m(\u001b[39m\u001b[32m\u001b[1mmean\u001b[22m\u001b[39m ± \u001b[32mσ\u001b[39m\u001b[90m):   \u001b[39m\u001b[32m\u001b[1m75.045 ns\u001b[22m\u001b[39m ± \u001b[32m  3.118 ns\u001b[39m  \u001b[90m┊\u001b[39m GC \u001b[90m(\u001b[39mmean ± σ\u001b[90m):  \u001b[39m0.00% ± 0.00%\n",
       "\n",
       "  \u001b[39m \u001b[39m \u001b[39m \u001b[39m \u001b[39m█\u001b[39m▁\u001b[39m \u001b[39m \u001b[39m \u001b[39m \u001b[39m \u001b[39m▂\u001b[39m▄\u001b[39m \u001b[39m \u001b[39m▃\u001b[39m▆\u001b[39m \u001b[39m \u001b[39m \u001b[39m \u001b[34m \u001b[39m\u001b[39m \u001b[32m▂\u001b[39m\u001b[39m▁\u001b[39m \u001b[39m \u001b[39m▁\u001b[39m▃\u001b[39m \u001b[39m \u001b[39m \u001b[39m \u001b[39m \u001b[39m \u001b[39m \u001b[39m▁\u001b[39m \u001b[39m \u001b[39m \u001b[39m \u001b[39m \u001b[39m \u001b[39m \u001b[39m \u001b[39m \u001b[39m \u001b[39m \u001b[39m \u001b[39m \u001b[39m \u001b[39m \u001b[39m \u001b[39m \u001b[39m \u001b[39m \u001b[39m \u001b[39m \u001b[39m \u001b[39m \u001b[39m \u001b[39m \n",
       "  \u001b[39m▁\u001b[39m▂\u001b[39m▃\u001b[39m█\u001b[39m█\u001b[39m█\u001b[39m▄\u001b[39m▆\u001b[39m▄\u001b[39m▄\u001b[39m▅\u001b[39m█\u001b[39m█\u001b[39m▇\u001b[39m█\u001b[39m█\u001b[39m█\u001b[39m▇\u001b[39m▅\u001b[39m▆\u001b[39m▅\u001b[34m▅\u001b[39m\u001b[39m▇\u001b[32m█\u001b[39m\u001b[39m█\u001b[39m▇\u001b[39m▆\u001b[39m█\u001b[39m█\u001b[39m▇\u001b[39m▅\u001b[39m▆\u001b[39m▅\u001b[39m▄\u001b[39m▆\u001b[39m█\u001b[39m█\u001b[39m▆\u001b[39m▅\u001b[39m▃\u001b[39m▃\u001b[39m▃\u001b[39m▂\u001b[39m▂\u001b[39m▃\u001b[39m▂\u001b[39m▂\u001b[39m▁\u001b[39m▂\u001b[39m▁\u001b[39m▂\u001b[39m▁\u001b[39m▁\u001b[39m▁\u001b[39m▁\u001b[39m▁\u001b[39m▁\u001b[39m▁\u001b[39m▁\u001b[39m▁\u001b[39m \u001b[39m▄\n",
       "  72 ns\u001b[90m           Histogram: frequency by time\u001b[39m         79.9 ns \u001b[0m\u001b[1m<\u001b[22m\n",
       "\n",
       " Memory estimate\u001b[90m: \u001b[39m\u001b[33m0 bytes\u001b[39m, allocs estimate\u001b[90m: \u001b[39m\u001b[33m0\u001b[39m."
      ]
     },
     "metadata": {},
     "output_type": "display_data"
    }
   ],
   "source": [
    "@benchmark MCRun.updatehistogram!(mc_params,$mc_states,$results,delta_en_hist,fullham=false)"
   ]
  },
  {
   "cell_type": "code",
   "execution_count": 24,
   "metadata": {},
   "outputs": [
    {
     "data": {
      "text/plain": [
       "BenchmarkTools.Trial: 10000 samples with 983 evaluations.\n",
       " Range \u001b[90m(\u001b[39m\u001b[36m\u001b[1mmin\u001b[22m\u001b[39m … \u001b[35mmax\u001b[39m\u001b[90m):  \u001b[39m\u001b[36m\u001b[1m63.498 ns\u001b[22m\u001b[39m … \u001b[35m99.038 ns\u001b[39m  \u001b[90m┊\u001b[39m GC \u001b[90m(\u001b[39mmin … max\u001b[90m): \u001b[39m0.00% … 0.00%\n",
       " Time  \u001b[90m(\u001b[39m\u001b[34m\u001b[1mmedian\u001b[22m\u001b[39m\u001b[90m):     \u001b[39m\u001b[34m\u001b[1m67.409 ns              \u001b[22m\u001b[39m\u001b[90m┊\u001b[39m GC \u001b[90m(\u001b[39mmedian\u001b[90m):    \u001b[39m0.00%\n",
       " Time  \u001b[90m(\u001b[39m\u001b[32m\u001b[1mmean\u001b[22m\u001b[39m ± \u001b[32mσ\u001b[39m\u001b[90m):   \u001b[39m\u001b[32m\u001b[1m67.427 ns\u001b[22m\u001b[39m ± \u001b[32m 1.515 ns\u001b[39m  \u001b[90m┊\u001b[39m GC \u001b[90m(\u001b[39mmean ± σ\u001b[90m):  \u001b[39m0.00% ± 0.00%\n",
       "\n",
       "  \u001b[39m \u001b[39m \u001b[39m \u001b[39m \u001b[39m \u001b[39m \u001b[39m \u001b[39m \u001b[39m \u001b[39m \u001b[39m \u001b[39m \u001b[39m \u001b[39m \u001b[39m \u001b[39m \u001b[39m \u001b[39m▂\u001b[39m \u001b[39m \u001b[39m \u001b[39m \u001b[39m \u001b[39m \u001b[39m \u001b[39m \u001b[39m▄\u001b[39m█\u001b[34m▇\u001b[39m\u001b[39m▅\u001b[39m▂\u001b[39m \u001b[39m \u001b[39m \u001b[39m \u001b[39m \u001b[39m \u001b[39m \u001b[39m \u001b[39m \u001b[39m \u001b[39m \u001b[39m \u001b[39m \u001b[39m \u001b[39m \u001b[39m \u001b[39m \u001b[39m \u001b[39m \u001b[39m \u001b[39m \u001b[39m \u001b[39m \u001b[39m \u001b[39m \u001b[39m \u001b[39m \u001b[39m \u001b[39m \u001b[39m \n",
       "  \u001b[39m▂\u001b[39m▂\u001b[39m▁\u001b[39m▂\u001b[39m▂\u001b[39m▂\u001b[39m▂\u001b[39m▃\u001b[39m▃\u001b[39m▃\u001b[39m▃\u001b[39m▂\u001b[39m▂\u001b[39m▃\u001b[39m▄\u001b[39m▄\u001b[39m▆\u001b[39m█\u001b[39m█\u001b[39m█\u001b[39m▇\u001b[39m▄\u001b[39m▃\u001b[39m▄\u001b[39m▅\u001b[39m█\u001b[39m█\u001b[39m█\u001b[34m█\u001b[39m\u001b[39m█\u001b[39m█\u001b[39m▆\u001b[39m▄\u001b[39m▄\u001b[39m▄\u001b[39m▄\u001b[39m▅\u001b[39m▅\u001b[39m▅\u001b[39m▅\u001b[39m▄\u001b[39m▃\u001b[39m▃\u001b[39m▃\u001b[39m▃\u001b[39m▃\u001b[39m▂\u001b[39m▂\u001b[39m▃\u001b[39m▂\u001b[39m▂\u001b[39m▂\u001b[39m▂\u001b[39m▂\u001b[39m▂\u001b[39m▂\u001b[39m▂\u001b[39m▂\u001b[39m▂\u001b[39m \u001b[39m▃\n",
       "  63.5 ns\u001b[90m         Histogram: frequency by time\u001b[39m        71.9 ns \u001b[0m\u001b[1m<\u001b[22m\n",
       "\n",
       " Memory estimate\u001b[90m: \u001b[39m\u001b[33m0 bytes\u001b[39m, allocs estimate\u001b[90m: \u001b[39m\u001b[33m0\u001b[39m."
      ]
     },
     "metadata": {},
     "output_type": "display_data"
    }
   ],
   "source": [
    "@benchmark MCSampling.update_histograms!($mc_states,$results,delta_en_hist)"
   ]
  },
  {
   "attachments": {},
   "cell_type": "markdown",
   "metadata": {},
   "source": [
    "The main bottleneck seems to be the speed of a loop over states or looping over states (confusingly worded, but makes sense)\n",
    "\n",
    "The megacell below was used to maximise the efficiency of the update_energy_tot function, a bottleneck that went from 60 to 30 ns"
   ]
  },
  {
   "cell_type": "code",
   "execution_count": 25,
   "metadata": {},
   "outputs": [
    {
     "data": {
      "text/plain": [
       "BenchmarkTools.Trial: 10000 samples with 994 evaluations.\n",
       " Range \u001b[90m(\u001b[39m\u001b[36m\u001b[1mmin\u001b[22m\u001b[39m … \u001b[35mmax\u001b[39m\u001b[90m):  \u001b[39m\u001b[36m\u001b[1m31.228 ns\u001b[22m\u001b[39m … \u001b[35m52.018 ns\u001b[39m  \u001b[90m┊\u001b[39m GC \u001b[90m(\u001b[39mmin … max\u001b[90m): \u001b[39m0.00% … 0.00%\n",
       " Time  \u001b[90m(\u001b[39m\u001b[34m\u001b[1mmedian\u001b[22m\u001b[39m\u001b[90m):     \u001b[39m\u001b[34m\u001b[1m32.086 ns              \u001b[22m\u001b[39m\u001b[90m┊\u001b[39m GC \u001b[90m(\u001b[39mmedian\u001b[90m):    \u001b[39m0.00%\n",
       " Time  \u001b[90m(\u001b[39m\u001b[32m\u001b[1mmean\u001b[22m\u001b[39m ± \u001b[32mσ\u001b[39m\u001b[90m):   \u001b[39m\u001b[32m\u001b[1m32.732 ns\u001b[22m\u001b[39m ± \u001b[32m 3.045 ns\u001b[39m  \u001b[90m┊\u001b[39m GC \u001b[90m(\u001b[39mmean ± σ\u001b[90m):  \u001b[39m0.00% ± 0.00%\n",
       "\n",
       "  \u001b[39m█\u001b[39m▂\u001b[39m█\u001b[34m▄\u001b[39m\u001b[39m█\u001b[32m▅\u001b[39m\u001b[39m▄\u001b[39m▄\u001b[39m▂\u001b[39m▁\u001b[39m \u001b[39m \u001b[39m \u001b[39m \u001b[39m \u001b[39m \u001b[39m \u001b[39m \u001b[39m \u001b[39m \u001b[39m \u001b[39m \u001b[39m \u001b[39m \u001b[39m \u001b[39m \u001b[39m \u001b[39m \u001b[39m \u001b[39m \u001b[39m \u001b[39m \u001b[39m \u001b[39m \u001b[39m \u001b[39m \u001b[39m \u001b[39m \u001b[39m \u001b[39m \u001b[39m \u001b[39m \u001b[39m \u001b[39m \u001b[39m \u001b[39m \u001b[39m \u001b[39m \u001b[39m \u001b[39m \u001b[39m \u001b[39m \u001b[39m▁\u001b[39m \u001b[39m \u001b[39m▂\u001b[39m \u001b[39m \u001b[39m \u001b[39m \u001b[39m▂\n",
       "  \u001b[39m█\u001b[39m█\u001b[39m█\u001b[34m█\u001b[39m\u001b[39m█\u001b[32m█\u001b[39m\u001b[39m█\u001b[39m█\u001b[39m█\u001b[39m█\u001b[39m█\u001b[39m▆\u001b[39m▅\u001b[39m▄\u001b[39m▄\u001b[39m▃\u001b[39m▁\u001b[39m▁\u001b[39m▁\u001b[39m▁\u001b[39m▁\u001b[39m▁\u001b[39m▁\u001b[39m▁\u001b[39m▁\u001b[39m▁\u001b[39m▁\u001b[39m▁\u001b[39m▁\u001b[39m▁\u001b[39m▁\u001b[39m▁\u001b[39m▁\u001b[39m▁\u001b[39m▁\u001b[39m▁\u001b[39m▁\u001b[39m▁\u001b[39m▁\u001b[39m▁\u001b[39m▁\u001b[39m▁\u001b[39m▁\u001b[39m▁\u001b[39m▃\u001b[39m▁\u001b[39m▁\u001b[39m▁\u001b[39m▃\u001b[39m▁\u001b[39m▁\u001b[39m▁\u001b[39m█\u001b[39m▁\u001b[39m▁\u001b[39m█\u001b[39m▅\u001b[39m▅\u001b[39m█\u001b[39m \u001b[39m█\n",
       "  31.2 ns\u001b[90m      \u001b[39m\u001b[90mHistogram: \u001b[39m\u001b[90m\u001b[1mlog(\u001b[22m\u001b[39m\u001b[90mfrequency\u001b[39m\u001b[90m\u001b[1m)\u001b[22m\u001b[39m\u001b[90m by time\u001b[39m      49.7 ns \u001b[0m\u001b[1m<\u001b[22m\n",
       "\n",
       " Memory estimate\u001b[90m: \u001b[39m\u001b[33m0 bytes\u001b[39m, allocs estimate\u001b[90m: \u001b[39m\u001b[33m0\u001b[39m."
      ]
     },
     "metadata": {},
     "output_type": "display_data"
    }
   ],
   "source": [
    "# @benchmark MCRun.sampling_step!(mc_params,$mc_states,1000,false)\n",
    "# function wrapper_sampling(mc_params,mc_states,save_index,delta_en_hist)\n",
    "#     if rem(save_index, mc_params.mc_sample) == 0\n",
    "#         for state in mc_states\n",
    "#             state = MCSampling.update_energy_tot(state)\n",
    "#         end\n",
    "#     end\n",
    "#     return mc_states,results\n",
    "# end\n",
    "\n",
    "# function test_update(mc_states,save_index,mc_params)\n",
    "#     if rem(save_index, mc_params.mc_sample) == 0\n",
    "#         for indx_traj=1:mc_params.n_traj            \n",
    "#             mc_states[indx_traj].ham[1] += mc_states[indx_traj].en_tot\n",
    "#                 #add E,E**2 to the correct positions in the hamiltonian\n",
    "#             mc_states[indx_traj].ham[2] += (mc_states[indx_traj].en_tot*mc_states[indx_traj].en_tot)            \n",
    "#         end\n",
    "#     end \n",
    "# end\n",
    "\n",
    "\n",
    "# @benchmark wrapper_sampling(mc_params,$mc_states,1000,delta_en_hist)\n",
    "# @benchmark test_update($mc_states,1000,mc_params)\n",
    "# function upydatey(mc_states)\n",
    "#     for indx_traj in eachindex(mc_states)      \n",
    "#         mc_states[indx_traj].ham[1] += mc_states[indx_traj].en_tot\n",
    "#             #add E,E**2 to the correct positions in the hamiltonian\n",
    "#         mc_states[indx_traj].ham[2] += (mc_states[indx_traj].en_tot*mc_states[indx_traj].en_tot)            \n",
    "#     end\n",
    "# end\n",
    "\n",
    "# function test_update2(mc_states,save_index,mc_params)\n",
    "#     if rem(save_index, mc_params.mc_sample) == 0\n",
    "#         upydatey(mc_states)\n",
    "#     end \n",
    "# end\n",
    "# @benchmark test_update2($mc_states,1000,mc_params)"
   ]
  },
  {
   "attachments": {},
   "cell_type": "markdown",
   "metadata": {},
   "source": [
    "# Testing Sampling"
   ]
  },
  {
   "cell_type": "code",
   "execution_count": 3,
   "metadata": {},
   "outputs": [
    {
     "name": "stdout",
     "output_type": "stream",
     "text": [
      "Total number of moves per MC cycle: 13\n",
      "\n"
     ]
    },
    {
     "name": "stdout",
     "output_type": "stream",
     "text": [
      "equilibration done\n"
     ]
    },
    {
     "name": "stdout",
     "output_type": "stream",
     "text": [
      "MC loop done.\n"
     ]
    },
    {
     "name": "stdout",
     "output_type": "stream",
     "text": [
      "[0.0003234110423948385, 0.00034130435146749016, 0.0003571979730485569, 0.0003751826872688714, 0.00038929116332445156, 0.00041586364789964576, 0.00043669694264594094, 0.0004595895593319723, 0.0004890435704389878, 0.0005157634753972615, 0.0005536751008066922, 0.0005723147050125483, 0.0006169481887285358, 0.000683777774995162, 0.0007252243017238607, 0.000822837124956102, 0.0008936290651810269, 0.0009485259670130599, 0.0011550216114052253, 0.001486674414643203, 0.0017357931127196526, 0.0022538799773156406, 0.002685202167626738, 0.0030124683418126814, 0.003227185612361041, 0.0031974041582545276, 0.003076489630752461, 0.002817309162204895, 0.0025391775980580186, 0.0022260287657100224, 0.002074304958103143, 0.0020101649064780125]\n",
      "done\n"
     ]
    }
   ],
   "source": [
    "ptmc_run!(mc_states, move_strat, mc_params, pot, ensemble, results; save_ham = false)"
   ]
  },
  {
   "cell_type": "code",
   "execution_count": 4,
   "metadata": {},
   "outputs": [
    {
     "data": {
      "text/plain": [
       "32-element Vector{Vector{Float64}}:\n",
       " [0.0, 0.0, 0.0, 0.0, 0.0, 15.0, 1208.0, 13026.0, 56780.0, 129808.0  …  0.0, 0.0, 0.0, 0.0, 0.0, 0.0, 0.0, 0.0, 0.0, 0.0]\n",
       " [0.0, 0.0, 0.0, 0.0, 0.0, 12.0, 847.0, 9440.0, 43269.0, 106423.0  …  0.0, 0.0, 0.0, 0.0, 0.0, 0.0, 0.0, 0.0, 0.0, 0.0]\n",
       " [0.0, 0.0, 0.0, 0.0, 0.0, 8.0, 482.0, 6414.0, 31944.0, 85883.0  …  0.0, 0.0, 0.0, 0.0, 0.0, 0.0, 0.0, 0.0, 0.0, 0.0]\n",
       " [0.0, 0.0, 0.0, 0.0, 0.0, 5.0, 346.0, 4459.0, 23659.0, 67888.0  …  0.0, 0.0, 0.0, 0.0, 0.0, 0.0, 0.0, 0.0, 0.0, 0.0]\n",
       " [0.0, 0.0, 0.0, 0.0, 0.0, 5.0, 207.0, 2928.0, 16937.0, 52532.0  …  0.0, 0.0, 0.0, 0.0, 0.0, 0.0, 0.0, 0.0, 0.0, 0.0]\n",
       " [0.0, 0.0, 0.0, 0.0, 0.0, 1.0, 121.0, 1868.0, 11622.0, 39475.0  …  0.0, 0.0, 0.0, 0.0, 0.0, 0.0, 0.0, 0.0, 0.0, 0.0]\n",
       " [0.0, 0.0, 0.0, 0.0, 0.0, 1.0, 80.0, 1247.0, 8286.0, 29349.0  …  0.0, 0.0, 0.0, 0.0, 0.0, 0.0, 0.0, 0.0, 0.0, 0.0]\n",
       " [0.0, 0.0, 0.0, 0.0, 0.0, 0.0, 49.0, 845.0, 5828.0, 22120.0  …  0.0, 0.0, 0.0, 0.0, 0.0, 0.0, 0.0, 0.0, 0.0, 0.0]\n",
       " [0.0, 0.0, 0.0, 0.0, 0.0, 1.0, 23.0, 525.0, 3941.0, 16008.0  …  0.0, 0.0, 0.0, 0.0, 0.0, 0.0, 0.0, 0.0, 0.0, 0.0]\n",
       " [0.0, 0.0, 0.0, 0.0, 0.0, 0.0, 14.0, 324.0, 2523.0, 10684.0  …  0.0, 0.0, 0.0, 0.0, 0.0, 0.0, 0.0, 0.0, 0.0, 0.0]\n",
       " ⋮\n",
       " [0.0, 0.0, 0.0, 0.0, 0.0, 0.0, 0.0, 0.0, 0.0, 6.0  …  0.0, 0.0, 0.0, 0.0, 0.0, 0.0, 0.0, 0.0, 0.0, 0.0]\n",
       " [0.0, 0.0, 0.0, 0.0, 0.0, 0.0, 0.0, 0.0, 1.0, 4.0  …  0.0, 0.0, 0.0, 0.0, 0.0, 0.0, 0.0, 0.0, 0.0, 0.0]\n",
       " [0.0, 0.0, 0.0, 0.0, 0.0, 0.0, 0.0, 0.0, 0.0, 5.0  …  0.0, 0.0, 0.0, 0.0, 0.0, 0.0, 0.0, 0.0, 0.0, 0.0]\n",
       " [0.0, 0.0, 0.0, 0.0, 0.0, 0.0, 0.0, 0.0, 0.0, 0.0  …  0.0, 0.0, 0.0, 0.0, 0.0, 0.0, 0.0, 0.0, 0.0, 0.0]\n",
       " [0.0, 0.0, 0.0, 0.0, 0.0, 0.0, 0.0, 0.0, 0.0, 0.0  …  0.0, 0.0, 0.0, 0.0, 0.0, 0.0, 0.0, 0.0, 0.0, 0.0]\n",
       " [0.0, 0.0, 0.0, 0.0, 0.0, 0.0, 0.0, 0.0, 0.0, 0.0  …  0.0, 0.0, 0.0, 0.0, 0.0, 0.0, 0.0, 0.0, 0.0, 0.0]\n",
       " [0.0, 0.0, 0.0, 0.0, 0.0, 0.0, 0.0, 0.0, 0.0, 1.0  …  0.0, 0.0, 0.0, 0.0, 0.0, 0.0, 0.0, 0.0, 0.0, 0.0]\n",
       " [0.0, 0.0, 0.0, 0.0, 0.0, 0.0, 0.0, 0.0, 0.0, 0.0  …  4.0, 4.0, 5.0, 1.0, 1.0, 0.0, 0.0, 0.0, 0.0, 0.0]\n",
       " [0.0, 0.0, 0.0, 0.0, 0.0, 0.0, 0.0, 0.0, 0.0, 0.0  …  13.0, 7.0, 5.0, 0.0, 1.0, 0.0, 0.0, 0.0, 0.0, 0.0]"
      ]
     },
     "metadata": {},
     "output_type": "display_data"
    }
   ],
   "source": [
    "data = [results.en_histogram[i] for i in 1:n_traj]"
   ]
  },
  {
   "cell_type": "code",
   "execution_count": 16,
   "metadata": {},
   "outputs": [
    {
     "data": {
      "image/png": "[encoded data removed]",
      "image/svg+xml": "<?xml version=\"1.0\" encoding=\"utf-8\"?>\n<svg xmlns=\"http://www.w3.org/2000/svg\" xmlns:xlink=\"http://www.w3.org/1999/xlink\" width=\"600\" height=\"400\" viewBox=\"0 0 2400 1600\">\n<defs>\n  <clipPath id=\"clip940\">\n    <rect x=\"0\" y=\"0\" width=\"2400\" height=\"1600\"/>\n  </clipPath>\n</defs>\n<path clip-path=\"url(#clip940)\" d=\"M0 1600 L2400 1600 L2400 0 L0 0  Z\" fill=\"#ffffff\" fill-rule=\"evenodd\" fill-opacity=\"1\"/>\n<defs>\n  <clipPath id=\"clip941\">\n    <rect x=\"480\" y=\"0\" width=\"1681\" height=\"1600\"/>\n  </clipPath>\n</defs>\n<path clip-path=\"url(#clip940)\" d=\"M277.431 1486.45 L2352.76 1486.45 L2352.76 47.2441 L277.431 47.2441  Z\" fill=\"#ffffff\" fill-rule=\"evenodd\" fill-opacity=\"1\"/>\n<defs>\n  <clipPath id=\"clip942\">\n    <rect x=\"277\" y=\"47\" width=\"2076\" height=\"1440\"/>\n  </clipPath>\n</defs>\n<polyline clip-path=\"url(#clip942)\" style=\"stroke:#000000; stroke-linecap:round; stroke-linejoin:round; stroke-width:2; stroke-opacity:0.1; fill:none\" points=\"316.782,1486.45 316.782,47.2441 \"/>\n<polyline clip-path=\"url(#clip942)\" style=\"stroke:#000000; stroke-linecap:round; stroke-linejoin:round; stroke-width:2; stroke-opacity:0.1; fill:none\" points=\"801.399,1486.45 801.399,47.2441 \"/>\n<polyline clip-path=\"url(#clip942)\" style=\"stroke:#000000; stroke-linecap:round; stroke-linejoin:round; stroke-width:2; stroke-opacity:0.1; fill:none\" points=\"1286.02,1486.45 1286.02,47.2441 \"/>\n<polyline clip-path=\"url(#clip942)\" style=\"stroke:#000000; stroke-linecap:round; stroke-linejoin:round; stroke-width:2; stroke-opacity:0.1; fill:none\" points=\"1770.63,1486.45 1770.63,47.2441 \"/>\n<polyline clip-path=\"url(#clip942)\" style=\"stroke:#000000; stroke-linecap:round; stroke-linejoin:round; stroke-width:2; stroke-opacity:0.1; fill:none\" points=\"2255.25,1486.45 2255.25,47.2441 \"/>\n<polyline clip-path=\"url(#clip940)\" style=\"stroke:#000000; stroke-linecap:round; stroke-linejoin:round; stroke-width:4; stroke-opacity:1; fill:none\" points=\"277.431,1486.45 2352.76,1486.45 \"/>\n<polyline clip-path=\"url(#clip940)\" style=\"stroke:#000000; stroke-linecap:round; stroke-linejoin:round; stroke-width:4; stroke-opacity:1; fill:none\" points=\"316.782,1486.45 316.782,1467.55 \"/>\n<polyline clip-path=\"url(#clip940)\" style=\"stroke:#000000; stroke-linecap:round; stroke-linejoin:round; stroke-width:4; stroke-opacity:1; fill:none\" points=\"801.399,1486.45 801.399,1467.55 \"/>\n<polyline clip-path=\"url(#clip940)\" style=\"stroke:#000000; stroke-linecap:round; stroke-linejoin:round; stroke-width:4; stroke-opacity:1; fill:none\" points=\"1286.02,1486.45 1286.02,1467.55 \"/>\n<polyline clip-path=\"url(#clip940)\" style=\"stroke:#000000; stroke-linecap:round; stroke-linejoin:round; stroke-width:4; stroke-opacity:1; fill:none\" points=\"1770.63,1486.45 1770.63,1467.55 \"/>\n<polyline clip-path=\"url(#clip940)\" style=\"stroke:#000000; stroke-linecap:round; stroke-linejoin:round; stroke-width:4; stroke-opacity:1; fill:none\" points=\"2255.25,1486.45 2255.25,1467.55 \"/>\n<path clip-path=\"url(#clip940)\" d=\"M316.782 1517.37 Q313.171 1517.37 311.342 1520.93 Q309.537 1524.47 309.537 1531.6 Q309.537 1538.71 311.342 1542.27 Q313.171 1545.82 316.782 1545.82 Q320.416 1545.82 322.222 1542.27 Q324.05 1538.71 324.05 1531.6 Q324.05 1524.47 322.222 1520.93 Q320.416 1517.37 316.782 1517.37 M316.782 1513.66 Q322.592 1513.66 325.648 1518.27 Q328.726 1522.85 328.726 1531.6 Q328.726 1540.33 325.648 1544.94 Q322.592 1549.52 316.782 1549.52 Q310.972 1549.52 307.893 1544.94 Q304.837 1540.33 304.837 1531.6 Q304.837 1522.85 307.893 1518.27 Q310.972 1513.66 316.782 1513.66 Z\" fill=\"#000000\" fill-rule=\"evenodd\" fill-opacity=\"1\" /><path clip-path=\"url(#clip940)\" d=\"M780.67 1544.91 L796.989 1544.91 L796.989 1548.85 L775.045 1548.85 L775.045 1544.91 Q777.707 1542.16 782.29 1537.53 Q786.897 1532.88 788.077 1531.53 Q790.323 1529.01 791.202 1527.27 Q792.105 1525.51 792.105 1523.82 Q792.105 1521.07 790.161 1519.33 Q788.239 1517.6 785.138 1517.6 Q782.939 1517.6 780.485 1518.36 Q778.054 1519.13 775.277 1520.68 L775.277 1515.95 Q778.101 1514.82 780.554 1514.24 Q783.008 1513.66 785.045 1513.66 Q790.415 1513.66 793.61 1516.35 Q796.804 1519.03 796.804 1523.52 Q796.804 1525.65 795.994 1527.57 Q795.207 1529.47 793.101 1532.07 Q792.522 1532.74 789.42 1535.95 Q786.318 1539.15 780.67 1544.91 Z\" fill=\"#000000\" fill-rule=\"evenodd\" fill-opacity=\"1\" /><path clip-path=\"url(#clip940)\" d=\"M806.85 1514.29 L825.207 1514.29 L825.207 1518.22 L811.133 1518.22 L811.133 1526.7 Q812.151 1526.35 813.17 1526.19 Q814.188 1526 815.207 1526 Q820.994 1526 824.374 1529.17 Q827.753 1532.34 827.753 1537.76 Q827.753 1543.34 824.281 1546.44 Q820.809 1549.52 814.489 1549.52 Q812.313 1549.52 810.045 1549.15 Q807.8 1548.78 805.392 1548.04 L805.392 1543.34 Q807.475 1544.47 809.698 1545.03 Q811.92 1545.58 814.397 1545.58 Q818.401 1545.58 820.739 1543.48 Q823.077 1541.37 823.077 1537.76 Q823.077 1534.15 820.739 1532.04 Q818.401 1529.94 814.397 1529.94 Q812.522 1529.94 810.647 1530.35 Q808.795 1530.77 806.85 1531.65 L806.85 1514.29 Z\" fill=\"#000000\" fill-rule=\"evenodd\" fill-opacity=\"1\" /><path clip-path=\"url(#clip940)\" d=\"M1260.72 1514.29 L1279.07 1514.29 L1279.07 1518.22 L1265 1518.22 L1265 1526.7 Q1266.02 1526.35 1267.03 1526.19 Q1268.05 1526 1269.07 1526 Q1274.86 1526 1278.24 1529.17 Q1281.62 1532.34 1281.62 1537.76 Q1281.62 1543.34 1278.15 1546.44 Q1274.67 1549.52 1268.35 1549.52 Q1266.18 1549.52 1263.91 1549.15 Q1261.66 1548.78 1259.26 1548.04 L1259.26 1543.34 Q1261.34 1544.47 1263.56 1545.03 Q1265.79 1545.58 1268.26 1545.58 Q1272.27 1545.58 1274.6 1543.48 Q1276.94 1541.37 1276.94 1537.76 Q1276.94 1534.15 1274.6 1532.04 Q1272.27 1529.94 1268.26 1529.94 Q1266.39 1529.94 1264.51 1530.35 Q1262.66 1530.77 1260.72 1531.65 L1260.72 1514.29 Z\" fill=\"#000000\" fill-rule=\"evenodd\" fill-opacity=\"1\" /><path clip-path=\"url(#clip940)\" d=\"M1300.83 1517.37 Q1297.22 1517.37 1295.39 1520.93 Q1293.59 1524.47 1293.59 1531.6 Q1293.59 1538.71 1295.39 1542.27 Q1297.22 1545.82 1300.83 1545.82 Q1304.47 1545.82 1306.27 1542.27 Q1308.1 1538.71 1308.1 1531.6 Q1308.1 1524.47 1306.27 1520.93 Q1304.47 1517.37 1300.83 1517.37 M1300.83 1513.66 Q1306.64 1513.66 1309.7 1518.27 Q1312.78 1522.85 1312.78 1531.6 Q1312.78 1540.33 1309.7 1544.94 Q1306.64 1549.52 1300.83 1549.52 Q1295.02 1549.52 1291.94 1544.94 Q1288.89 1540.33 1288.89 1531.6 Q1288.89 1522.85 1291.94 1518.27 Q1295.02 1513.66 1300.83 1513.66 Z\" fill=\"#000000\" fill-rule=\"evenodd\" fill-opacity=\"1\" /><path clip-path=\"url(#clip940)\" d=\"M1744.49 1514.29 L1766.71 1514.29 L1766.71 1516.28 L1754.16 1548.85 L1749.28 1548.85 L1761.09 1518.22 L1744.49 1518.22 L1744.49 1514.29 Z\" fill=\"#000000\" fill-rule=\"evenodd\" fill-opacity=\"1\" /><path clip-path=\"url(#clip940)\" d=\"M1775.88 1514.29 L1794.23 1514.29 L1794.23 1518.22 L1780.16 1518.22 L1780.16 1526.7 Q1781.18 1526.35 1782.2 1526.19 Q1783.21 1526 1784.23 1526 Q1790.02 1526 1793.4 1529.17 Q1796.78 1532.34 1796.78 1537.76 Q1796.78 1543.34 1793.31 1546.44 Q1789.83 1549.52 1783.52 1549.52 Q1781.34 1549.52 1779.07 1549.15 Q1776.83 1548.78 1774.42 1548.04 L1774.42 1543.34 Q1776.5 1544.47 1778.72 1545.03 Q1780.95 1545.58 1783.42 1545.58 Q1787.43 1545.58 1789.77 1543.48 Q1792.1 1541.37 1792.1 1537.76 Q1792.1 1534.15 1789.77 1532.04 Q1787.43 1529.94 1783.42 1529.94 Q1781.55 1529.94 1779.67 1530.35 Q1777.82 1530.77 1775.88 1531.65 L1775.88 1514.29 Z\" fill=\"#000000\" fill-rule=\"evenodd\" fill-opacity=\"1\" /><path clip-path=\"url(#clip940)\" d=\"M2214.86 1544.91 L2222.5 1544.91 L2222.5 1518.55 L2214.19 1520.21 L2214.19 1515.95 L2222.45 1514.29 L2227.13 1514.29 L2227.13 1544.91 L2234.76 1544.91 L2234.76 1548.85 L2214.86 1548.85 L2214.86 1544.91 Z\" fill=\"#000000\" fill-rule=\"evenodd\" fill-opacity=\"1\" /><path clip-path=\"url(#clip940)\" d=\"M2254.21 1517.37 Q2250.6 1517.37 2248.77 1520.93 Q2246.96 1524.47 2246.96 1531.6 Q2246.96 1538.71 2248.77 1542.27 Q2250.6 1545.82 2254.21 1545.82 Q2257.84 1545.82 2259.65 1542.27 Q2261.48 1538.71 2261.48 1531.6 Q2261.48 1524.47 2259.65 1520.93 Q2257.84 1517.37 2254.21 1517.37 M2254.21 1513.66 Q2260.02 1513.66 2263.07 1518.27 Q2266.15 1522.85 2266.15 1531.6 Q2266.15 1540.33 2263.07 1544.94 Q2260.02 1549.52 2254.21 1549.52 Q2248.4 1549.52 2245.32 1544.94 Q2242.26 1540.33 2242.26 1531.6 Q2242.26 1522.85 2245.32 1518.27 Q2248.4 1513.66 2254.21 1513.66 Z\" fill=\"#000000\" fill-rule=\"evenodd\" fill-opacity=\"1\" /><path clip-path=\"url(#clip940)\" d=\"M2284.37 1517.37 Q2280.76 1517.37 2278.93 1520.93 Q2277.13 1524.47 2277.13 1531.6 Q2277.13 1538.71 2278.93 1542.27 Q2280.76 1545.82 2284.37 1545.82 Q2288.01 1545.82 2289.81 1542.27 Q2291.64 1538.71 2291.64 1531.6 Q2291.64 1524.47 2289.81 1520.93 Q2288.01 1517.37 2284.37 1517.37 M2284.37 1513.66 Q2290.18 1513.66 2293.24 1518.27 Q2296.32 1522.85 2296.32 1531.6 Q2296.32 1540.33 2293.24 1544.94 Q2290.18 1549.52 2284.37 1549.52 Q2278.56 1549.52 2275.48 1544.94 Q2272.43 1540.33 2272.43 1531.6 Q2272.43 1522.85 2275.48 1518.27 Q2278.56 1513.66 2284.37 1513.66 Z\" fill=\"#000000\" fill-rule=\"evenodd\" fill-opacity=\"1\" /><polyline clip-path=\"url(#clip942)\" style=\"stroke:#000000; stroke-linecap:round; stroke-linejoin:round; stroke-width:2; stroke-opacity:0.1; fill:none\" points=\"277.431,1445.72 2352.76,1445.72 \"/>\n<polyline clip-path=\"url(#clip942)\" style=\"stroke:#000000; stroke-linecap:round; stroke-linejoin:round; stroke-width:2; stroke-opacity:0.1; fill:none\" points=\"277.431,1161.14 2352.76,1161.14 \"/>\n<polyline clip-path=\"url(#clip942)\" style=\"stroke:#000000; stroke-linecap:round; stroke-linejoin:round; stroke-width:2; stroke-opacity:0.1; fill:none\" points=\"277.431,876.564 2352.76,876.564 \"/>\n<polyline clip-path=\"url(#clip942)\" style=\"stroke:#000000; stroke-linecap:round; stroke-linejoin:round; stroke-width:2; stroke-opacity:0.1; fill:none\" points=\"277.431,591.988 2352.76,591.988 \"/>\n<polyline clip-path=\"url(#clip942)\" style=\"stroke:#000000; stroke-linecap:round; stroke-linejoin:round; stroke-width:2; stroke-opacity:0.1; fill:none\" points=\"277.431,307.413 2352.76,307.413 \"/>\n<polyline clip-path=\"url(#clip940)\" style=\"stroke:#000000; stroke-linecap:round; stroke-linejoin:round; stroke-width:4; stroke-opacity:1; fill:none\" points=\"277.431,1486.45 277.431,47.2441 \"/>\n<polyline clip-path=\"url(#clip940)\" style=\"stroke:#000000; stroke-linecap:round; stroke-linejoin:round; stroke-width:4; stroke-opacity:1; fill:none\" points=\"277.431,1445.72 296.329,1445.72 \"/>\n<polyline clip-path=\"url(#clip940)\" style=\"stroke:#000000; stroke-linecap:round; stroke-linejoin:round; stroke-width:4; stroke-opacity:1; fill:none\" points=\"277.431,1161.14 296.329,1161.14 \"/>\n<polyline clip-path=\"url(#clip940)\" style=\"stroke:#000000; stroke-linecap:round; stroke-linejoin:round; stroke-width:4; stroke-opacity:1; fill:none\" points=\"277.431,876.564 296.329,876.564 \"/>\n<polyline clip-path=\"url(#clip940)\" style=\"stroke:#000000; stroke-linecap:round; stroke-linejoin:round; stroke-width:4; stroke-opacity:1; fill:none\" points=\"277.431,591.988 296.329,591.988 \"/>\n<polyline clip-path=\"url(#clip940)\" style=\"stroke:#000000; stroke-linecap:round; stroke-linejoin:round; stroke-width:4; stroke-opacity:1; fill:none\" points=\"277.431,307.413 296.329,307.413 \"/>\n<path clip-path=\"url(#clip940)\" d=\"M229.487 1431.51 Q225.875 1431.51 224.047 1435.08 Q222.241 1438.62 222.241 1445.75 Q222.241 1452.86 224.047 1456.42 Q225.875 1459.96 229.487 1459.96 Q233.121 1459.96 234.926 1456.42 Q236.755 1452.86 236.755 1445.75 Q236.755 1438.62 234.926 1435.08 Q233.121 1431.51 229.487 1431.51 M229.487 1427.81 Q235.297 1427.81 238.352 1432.42 Q241.431 1437 241.431 1445.75 Q241.431 1454.48 238.352 1459.08 Q235.297 1463.67 229.487 1463.67 Q223.676 1463.67 220.598 1459.08 Q217.542 1454.48 217.542 1445.75 Q217.542 1437 220.598 1432.42 Q223.676 1427.81 229.487 1427.81 Z\" fill=\"#000000\" fill-rule=\"evenodd\" fill-opacity=\"1\" /><path clip-path=\"url(#clip940)\" d=\"M54.5569 1180.93 L62.1958 1180.93 L62.1958 1154.57 L53.8856 1156.23 L53.8856 1151.97 L62.1495 1150.31 L66.8254 1150.31 L66.8254 1180.93 L74.4642 1180.93 L74.4642 1184.87 L54.5569 1184.87 L54.5569 1180.93 Z\" fill=\"#000000\" fill-rule=\"evenodd\" fill-opacity=\"1\" /><path clip-path=\"url(#clip940)\" d=\"M83.9086 1178.99 L88.7928 1178.99 L88.7928 1184.87 L83.9086 1184.87 L83.9086 1178.99 Z\" fill=\"#000000\" fill-rule=\"evenodd\" fill-opacity=\"1\" /><path clip-path=\"url(#clip940)\" d=\"M108.978 1153.39 Q105.367 1153.39 103.538 1156.95 Q101.733 1160.49 101.733 1167.62 Q101.733 1174.73 103.538 1178.29 Q105.367 1181.84 108.978 1181.84 Q112.612 1181.84 114.418 1178.29 Q116.246 1174.73 116.246 1167.62 Q116.246 1160.49 114.418 1156.95 Q112.612 1153.39 108.978 1153.39 M108.978 1149.68 Q114.788 1149.68 117.844 1154.29 Q120.922 1158.87 120.922 1167.62 Q120.922 1176.35 117.844 1180.96 Q114.788 1185.54 108.978 1185.54 Q103.168 1185.54 100.089 1180.96 Q97.0335 1176.35 97.0335 1167.62 Q97.0335 1158.87 100.089 1154.29 Q103.168 1149.68 108.978 1149.68 Z\" fill=\"#000000\" fill-rule=\"evenodd\" fill-opacity=\"1\" /><path clip-path=\"url(#clip940)\" d=\"M157.311 1159.4 L146.732 1170.03 L157.311 1180.61 L154.556 1183.41 L143.931 1172.78 L133.306 1183.41 L130.575 1180.61 L141.131 1170.03 L130.575 1159.4 L133.306 1156.6 L143.931 1167.23 L154.556 1156.6 L157.311 1159.4 Z\" fill=\"#000000\" fill-rule=\"evenodd\" fill-opacity=\"1\" /><path clip-path=\"url(#clip940)\" d=\"M169.672 1180.93 L177.311 1180.93 L177.311 1154.57 L169.001 1156.23 L169.001 1151.97 L177.265 1150.31 L181.94 1150.31 L181.94 1180.93 L189.579 1180.93 L189.579 1184.87 L169.672 1184.87 L169.672 1180.93 Z\" fill=\"#000000\" fill-rule=\"evenodd\" fill-opacity=\"1\" /><path clip-path=\"url(#clip940)\" d=\"M209.024 1153.39 Q205.413 1153.39 203.584 1156.95 Q201.778 1160.49 201.778 1167.62 Q201.778 1174.73 203.584 1178.29 Q205.413 1181.84 209.024 1181.84 Q212.658 1181.84 214.463 1178.29 Q216.292 1174.73 216.292 1167.62 Q216.292 1160.49 214.463 1156.95 Q212.658 1153.39 209.024 1153.39 M209.024 1149.68 Q214.834 1149.68 217.889 1154.29 Q220.968 1158.87 220.968 1167.62 Q220.968 1176.35 217.889 1180.96 Q214.834 1185.54 209.024 1185.54 Q203.214 1185.54 200.135 1180.96 Q197.079 1176.35 197.079 1167.62 Q197.079 1158.87 200.135 1154.29 Q203.214 1149.68 209.024 1149.68 Z\" fill=\"#000000\" fill-rule=\"evenodd\" fill-opacity=\"1\" /><path clip-path=\"url(#clip940)\" d=\"M233.645 1132.69 L224.053 1147.68 L233.645 1147.68 L233.645 1132.69 M232.648 1129.38 L237.425 1129.38 L237.425 1147.68 L241.431 1147.68 L241.431 1150.84 L237.425 1150.84 L237.425 1157.46 L233.645 1157.46 L233.645 1150.84 L220.968 1150.84 L220.968 1147.17 L232.648 1129.38 Z\" fill=\"#000000\" fill-rule=\"evenodd\" fill-opacity=\"1\" /><path clip-path=\"url(#clip940)\" d=\"M57.7745 896.357 L74.0939 896.357 L74.0939 900.292 L52.1495 900.292 L52.1495 896.357 Q54.8115 893.602 59.3949 888.972 Q64.0013 884.32 65.1819 882.977 Q67.4272 880.454 68.3068 878.718 Q69.2096 876.959 69.2096 875.269 Q69.2096 872.514 67.2652 870.778 Q65.3439 869.042 62.2421 869.042 Q60.043 869.042 57.5893 869.806 Q55.1588 870.57 52.381 872.121 L52.381 867.398 Q55.2051 866.264 57.6588 865.685 Q60.1124 865.107 62.1495 865.107 Q67.5198 865.107 70.7142 867.792 Q73.9087 870.477 73.9087 874.968 Q73.9087 877.097 73.0985 879.019 Q72.3115 880.917 70.205 883.509 Q69.6263 884.181 66.5245 887.398 Q63.4226 890.593 57.7745 896.357 Z\" fill=\"#000000\" fill-rule=\"evenodd\" fill-opacity=\"1\" /><path clip-path=\"url(#clip940)\" d=\"M83.9086 894.412 L88.7928 894.412 L88.7928 900.292 L83.9086 900.292 L83.9086 894.412 Z\" fill=\"#000000\" fill-rule=\"evenodd\" fill-opacity=\"1\" /><path clip-path=\"url(#clip940)\" d=\"M108.978 868.81 Q105.367 868.81 103.538 872.375 Q101.733 875.917 101.733 883.046 Q101.733 890.153 103.538 893.718 Q105.367 897.259 108.978 897.259 Q112.612 897.259 114.418 893.718 Q116.246 890.153 116.246 883.046 Q116.246 875.917 114.418 872.375 Q112.612 868.81 108.978 868.81 M108.978 865.107 Q114.788 865.107 117.844 869.713 Q120.922 874.297 120.922 883.046 Q120.922 891.773 117.844 896.38 Q114.788 900.963 108.978 900.963 Q103.168 900.963 100.089 896.38 Q97.0335 891.773 97.0335 883.046 Q97.0335 874.297 100.089 869.713 Q103.168 865.107 108.978 865.107 Z\" fill=\"#000000\" fill-rule=\"evenodd\" fill-opacity=\"1\" /><path clip-path=\"url(#clip940)\" d=\"M157.311 874.829 L146.732 885.454 L157.311 896.033 L154.556 898.833 L143.931 888.209 L133.306 898.833 L130.575 896.033 L141.131 885.454 L130.575 874.829 L133.306 872.028 L143.931 882.653 L154.556 872.028 L157.311 874.829 Z\" fill=\"#000000\" fill-rule=\"evenodd\" fill-opacity=\"1\" /><path clip-path=\"url(#clip940)\" d=\"M169.672 896.357 L177.311 896.357 L177.311 869.991 L169.001 871.658 L169.001 867.398 L177.265 865.732 L181.94 865.732 L181.94 896.357 L189.579 896.357 L189.579 900.292 L169.672 900.292 L169.672 896.357 Z\" fill=\"#000000\" fill-rule=\"evenodd\" fill-opacity=\"1\" /><path clip-path=\"url(#clip940)\" d=\"M209.024 868.81 Q205.413 868.81 203.584 872.375 Q201.778 875.917 201.778 883.046 Q201.778 890.153 203.584 893.718 Q205.413 897.259 209.024 897.259 Q212.658 897.259 214.463 893.718 Q216.292 890.153 216.292 883.046 Q216.292 875.917 214.463 872.375 Q212.658 868.81 209.024 868.81 M209.024 865.107 Q214.834 865.107 217.889 869.713 Q220.968 874.297 220.968 883.046 Q220.968 891.773 217.889 896.38 Q214.834 900.963 209.024 900.963 Q203.214 900.963 200.135 896.38 Q197.079 891.773 197.079 883.046 Q197.079 874.297 200.135 869.713 Q203.214 865.107 209.024 865.107 Z\" fill=\"#000000\" fill-rule=\"evenodd\" fill-opacity=\"1\" /><path clip-path=\"url(#clip940)\" d=\"M233.645 848.112 L224.053 863.101 L233.645 863.101 L233.645 848.112 M232.648 844.801 L237.425 844.801 L237.425 863.101 L241.431 863.101 L241.431 866.261 L237.425 866.261 L237.425 872.881 L233.645 872.881 L233.645 866.261 L220.968 866.261 L220.968 862.594 L232.648 844.801 Z\" fill=\"#000000\" fill-rule=\"evenodd\" fill-opacity=\"1\" /><path clip-path=\"url(#clip940)\" d=\"M67.9133 597.082 Q71.2698 597.799 73.1448 600.068 Q75.0429 602.336 75.0429 605.67 Q75.0429 610.785 71.5244 613.586 Q68.0059 616.387 61.5245 616.387 Q59.3486 616.387 57.0338 615.947 Q54.7421 615.531 52.2884 614.674 L52.2884 610.16 Q54.2328 611.295 56.5477 611.873 Q58.8625 612.452 61.3856 612.452 Q65.7837 612.452 68.0754 610.716 Q70.3902 608.98 70.3902 605.67 Q70.3902 602.614 68.2374 600.901 Q66.1078 599.165 62.2884 599.165 L58.2606 599.165 L58.2606 595.323 L62.4735 595.323 Q65.9226 595.323 67.7513 593.957 Q69.58 592.568 69.58 589.975 Q69.58 587.313 67.6819 585.901 Q65.8069 584.466 62.2884 584.466 Q60.3671 584.466 58.168 584.883 Q55.969 585.3 53.3301 586.179 L53.3301 582.012 Q55.9921 581.272 58.3069 580.901 Q60.6449 580.531 62.705 580.531 Q68.0291 580.531 71.1309 582.962 Q74.2327 585.369 74.2327 589.489 Q74.2327 592.36 72.5892 594.35 Q70.9457 596.318 67.9133 597.082 Z\" fill=\"#000000\" fill-rule=\"evenodd\" fill-opacity=\"1\" /><path clip-path=\"url(#clip940)\" d=\"M83.9086 609.836 L88.7928 609.836 L88.7928 615.716 L83.9086 615.716 L83.9086 609.836 Z\" fill=\"#000000\" fill-rule=\"evenodd\" fill-opacity=\"1\" /><path clip-path=\"url(#clip940)\" d=\"M108.978 584.235 Q105.367 584.235 103.538 587.799 Q101.733 591.341 101.733 598.471 Q101.733 605.577 103.538 609.142 Q105.367 612.684 108.978 612.684 Q112.612 612.684 114.418 609.142 Q116.246 605.577 116.246 598.471 Q116.246 591.341 114.418 587.799 Q112.612 584.235 108.978 584.235 M108.978 580.531 Q114.788 580.531 117.844 585.137 Q120.922 589.721 120.922 598.471 Q120.922 607.198 117.844 611.804 Q114.788 616.387 108.978 616.387 Q103.168 616.387 100.089 611.804 Q97.0335 607.198 97.0335 598.471 Q97.0335 589.721 100.089 585.137 Q103.168 580.531 108.978 580.531 Z\" fill=\"#000000\" fill-rule=\"evenodd\" fill-opacity=\"1\" /><path clip-path=\"url(#clip940)\" d=\"M157.311 590.253 L146.732 600.878 L157.311 611.457 L154.556 614.258 L143.931 603.633 L133.306 614.258 L130.575 611.457 L141.131 600.878 L130.575 590.253 L133.306 587.452 L143.931 598.077 L154.556 587.452 L157.311 590.253 Z\" fill=\"#000000\" fill-rule=\"evenodd\" fill-opacity=\"1\" /><path clip-path=\"url(#clip940)\" d=\"M169.672 611.781 L177.311 611.781 L177.311 585.415 L169.001 587.082 L169.001 582.823 L177.265 581.156 L181.94 581.156 L181.94 611.781 L189.579 611.781 L189.579 615.716 L169.672 615.716 L169.672 611.781 Z\" fill=\"#000000\" fill-rule=\"evenodd\" fill-opacity=\"1\" /><path clip-path=\"url(#clip940)\" d=\"M209.024 584.235 Q205.413 584.235 203.584 587.799 Q201.778 591.341 201.778 598.471 Q201.778 605.577 203.584 609.142 Q205.413 612.684 209.024 612.684 Q212.658 612.684 214.463 609.142 Q216.292 605.577 216.292 598.471 Q216.292 591.341 214.463 587.799 Q212.658 584.235 209.024 584.235 M209.024 580.531 Q214.834 580.531 217.889 585.137 Q220.968 589.721 220.968 598.471 Q220.968 607.198 217.889 611.804 Q214.834 616.387 209.024 616.387 Q203.214 616.387 200.135 611.804 Q197.079 607.198 197.079 598.471 Q197.079 589.721 200.135 585.137 Q203.214 580.531 209.024 580.531 Z\" fill=\"#000000\" fill-rule=\"evenodd\" fill-opacity=\"1\" /><path clip-path=\"url(#clip940)\" d=\"M233.645 563.536 L224.053 578.526 L233.645 578.526 L233.645 563.536 M232.648 560.226 L237.425 560.226 L237.425 578.526 L241.431 578.526 L241.431 581.685 L237.425 581.685 L237.425 588.306 L233.645 588.306 L233.645 581.685 L220.968 581.685 L220.968 578.018 L232.648 560.226 Z\" fill=\"#000000\" fill-rule=\"evenodd\" fill-opacity=\"1\" /><path clip-path=\"url(#clip940)\" d=\"M66.5939 300.654 L54.7884 319.103 L66.5939 319.103 L66.5939 300.654 M65.367 296.58 L71.2466 296.58 L71.2466 319.103 L76.1772 319.103 L76.1772 322.992 L71.2466 322.992 L71.2466 331.14 L66.5939 331.14 L66.5939 322.992 L50.9921 322.992 L50.9921 318.478 L65.367 296.58 Z\" fill=\"#000000\" fill-rule=\"evenodd\" fill-opacity=\"1\" /><path clip-path=\"url(#clip940)\" d=\"M83.9086 325.261 L88.7928 325.261 L88.7928 331.14 L83.9086 331.14 L83.9086 325.261 Z\" fill=\"#000000\" fill-rule=\"evenodd\" fill-opacity=\"1\" /><path clip-path=\"url(#clip940)\" d=\"M108.978 299.659 Q105.367 299.659 103.538 303.224 Q101.733 306.765 101.733 313.895 Q101.733 321.001 103.538 324.566 Q105.367 328.108 108.978 328.108 Q112.612 328.108 114.418 324.566 Q116.246 321.001 116.246 313.895 Q116.246 306.765 114.418 303.224 Q112.612 299.659 108.978 299.659 M108.978 295.955 Q114.788 295.955 117.844 300.562 Q120.922 305.145 120.922 313.895 Q120.922 322.622 117.844 327.228 Q114.788 331.812 108.978 331.812 Q103.168 331.812 100.089 327.228 Q97.0335 322.622 97.0335 313.895 Q97.0335 305.145 100.089 300.562 Q103.168 295.955 108.978 295.955 Z\" fill=\"#000000\" fill-rule=\"evenodd\" fill-opacity=\"1\" /><path clip-path=\"url(#clip940)\" d=\"M157.311 305.677 L146.732 316.302 L157.311 326.881 L154.556 329.682 L143.931 319.057 L133.306 329.682 L130.575 326.881 L141.131 316.302 L130.575 305.677 L133.306 302.877 L143.931 313.501 L154.556 302.877 L157.311 305.677 Z\" fill=\"#000000\" fill-rule=\"evenodd\" fill-opacity=\"1\" /><path clip-path=\"url(#clip940)\" d=\"M169.672 327.205 L177.311 327.205 L177.311 300.839 L169.001 302.506 L169.001 298.247 L177.265 296.58 L181.94 296.58 L181.94 327.205 L189.579 327.205 L189.579 331.14 L169.672 331.14 L169.672 327.205 Z\" fill=\"#000000\" fill-rule=\"evenodd\" fill-opacity=\"1\" /><path clip-path=\"url(#clip940)\" d=\"M209.024 299.659 Q205.413 299.659 203.584 303.224 Q201.778 306.765 201.778 313.895 Q201.778 321.001 203.584 324.566 Q205.413 328.108 209.024 328.108 Q212.658 328.108 214.463 324.566 Q216.292 321.001 216.292 313.895 Q216.292 306.765 214.463 303.224 Q212.658 299.659 209.024 299.659 M209.024 295.955 Q214.834 295.955 217.889 300.562 Q220.968 305.145 220.968 313.895 Q220.968 322.622 217.889 327.228 Q214.834 331.812 209.024 331.812 Q203.214 331.812 200.135 327.228 Q197.079 322.622 197.079 313.895 Q197.079 305.145 200.135 300.562 Q203.214 295.955 209.024 295.955 Z\" fill=\"#000000\" fill-rule=\"evenodd\" fill-opacity=\"1\" /><path clip-path=\"url(#clip940)\" d=\"M233.645 278.96 L224.053 293.95 L233.645 293.95 L233.645 278.96 M232.648 275.65 L237.425 275.65 L237.425 293.95 L241.431 293.95 L241.431 297.11 L237.425 297.11 L237.425 303.73 L233.645 303.73 L233.645 297.11 L220.968 297.11 L220.968 293.442 L232.648 275.65 Z\" fill=\"#000000\" fill-rule=\"evenodd\" fill-opacity=\"1\" /><polyline clip-path=\"url(#clip942)\" style=\"stroke:#009af9; stroke-linecap:round; stroke-linejoin:round; stroke-width:4; stroke-opacity:1; fill:none\" points=\"336.167,1445.72 355.551,1445.72 374.936,1445.72 394.321,1445.72 413.705,1445.72 433.09,1445.72 452.475,1445.72 471.859,1445.72 491.244,1445.72 510.629,1445.72 530.013,1445.72 549.398,1445.6 568.783,1445.2 588.168,1444.63 607.552,1442.87 626.937,1440.42 646.322,1435.9 665.706,1427.62 685.091,1417.91 704.476,1401.41 723.86,1382.94 743.245,1356.96 762.63,1331.74 782.014,1300.61 801.399,1269.53 820.784,1239.11 840.168,1206.81 859.553,1172.81 878.938,1144.09 898.323,1111.42 917.707,1083.02 937.092,1048.85 956.477,1015.18 975.861,969.905 995.246,923.605 1014.63,862.762 1034.02,804.51 1053.4,744.777 1072.78,688.203 1092.17,613.36 1111.55,539.626 1130.94,467.771 1150.32,408.323 1169.71,341.277 1189.09,288.46 1208.48,245.261 1227.86,219.621 1247.25,207.982 1266.63,231.943 1286.02,245.944 1305.4,302.489 1324.79,362.023 1344.17,431.602 1363.56,508.465 1382.94,607.697 1402.32,698.534 1421.71,784.703 1441.09,878.044 1460.48,952.546 1479.86,1037.8 1499.25,1109.32 1518.63,1175.43 1538.02,1229.52 1557.4,1273.04 1576.79,1308.78 1596.17,1340.88 1615.56,1363.53 1634.94,1384.79 1654.33,1400.61 1673.71,1410.4 1693.09,1419.76 1712.48,1426.54 1731.86,1433.19 1751.25,1436.01 1770.63,1439.57 1790.02,1441.05 1809.4,1442.19 1828.79,1443.5 1848.17,1444.09 1867.56,1444.52 1886.94,1445.15 1906.33,1445.32 1925.71,1445.49 1945.1,1445.49 1964.48,1445.54 1983.87,1445.66 2003.25,1445.63 2022.63,1445.69 2042.02,1445.72 2061.4,1445.69 2080.79,1445.72 2100.17,1445.72 2119.56,1445.72 2138.94,1445.72 2158.33,1445.72 2177.71,1445.72 2197.1,1445.72 2216.48,1445.72 2235.87,1445.72 2255.25,1445.72 2274.64,1445.72 2294.02,1445.72 \"/>\n<polyline clip-path=\"url(#clip942)\" style=\"stroke:#e26f46; stroke-linecap:round; stroke-linejoin:round; stroke-width:4; stroke-opacity:1; fill:none\" points=\"336.167,1445.72 355.551,1445.72 374.936,1445.72 394.321,1445.72 413.705,1445.72 433.09,1445.72 452.475,1445.72 471.859,1445.72 491.244,1445.72 510.629,1445.72 530.013,1445.72 549.398,1445.72 568.783,1445.63 588.168,1445.54 607.552,1444.61 626.937,1443.44 646.322,1441.11 665.706,1437.83 685.091,1432.82 704.476,1426.05 723.86,1415.98 743.245,1401.86 762.63,1390.17 782.014,1373.21 801.399,1352.66 820.784,1337.15 840.168,1317.03 859.553,1300.04 878.938,1272.98 898.323,1255.88 917.707,1233.76 937.092,1206.33 956.477,1174.6 975.861,1137.95 995.246,1099.7 1014.63,1060.86 1034.02,1002.26 1053.4,933.906 1072.78,868.938 1092.17,797.794 1111.55,709.831 1130.94,636.638 1150.32,535.301 1169.71,441.391 1189.09,367.8 1208.48,294.009 1227.86,222.125 1247.25,179.638 1266.63,144.721 1286.02,133.309 1305.4,157.214 1324.79,204.681 1344.17,237.749 1363.56,304.595 1382.94,382.057 1402.32,453.827 1421.71,559.632 1441.09,647.31 1460.48,743.411 1479.86,839.968 1499.25,933.081 1518.63,1007.18 1538.02,1083.14 1557.4,1139.71 1576.79,1202.26 1596.17,1253.43 1615.56,1289.09 1634.94,1322.78 1654.33,1348.19 1673.71,1370.87 1693.09,1390.11 1712.48,1404.34 1731.86,1414.87 1751.25,1423.01 1770.63,1430.12 1790.02,1433.59 1809.4,1437.75 1828.79,1440.19 1848.17,1441.99 1867.56,1443.72 1886.94,1444.26 1906.33,1445.03 1925.71,1445.32 1945.1,1445.32 1964.48,1445.4 1983.87,1445.49 2003.25,1445.6 2022.63,1445.69 2042.02,1445.72 2061.4,1445.72 2080.79,1445.72 2100.17,1445.72 2119.56,1445.72 2138.94,1445.72 2158.33,1445.72 2177.71,1445.72 2197.1,1445.72 2216.48,1445.72 2235.87,1445.72 2255.25,1445.72 2274.64,1445.72 2294.02,1445.72 \"/>\n<polyline clip-path=\"url(#clip942)\" style=\"stroke:#3da44d; stroke-linecap:round; stroke-linejoin:round; stroke-width:4; stroke-opacity:1; fill:none\" points=\"336.167,1445.72 355.551,1445.72 374.936,1445.72 394.321,1445.72 413.705,1445.72 433.09,1445.72 452.475,1445.72 471.859,1445.72 491.244,1445.72 510.629,1445.69 530.013,1445.72 549.398,1445.72 568.783,1445.6 588.168,1445.57 607.552,1445.35 626.937,1445.03 646.322,1444.32 665.706,1443.35 685.091,1441.73 704.476,1438.63 723.86,1434.47 743.245,1427.87 762.63,1422.07 782.014,1416.75 801.399,1408.64 820.784,1399.02 840.168,1388.37 859.553,1375.37 878.938,1362.51 898.323,1348.28 917.707,1330.29 937.092,1312.34 956.477,1293.13 975.861,1262.39 995.246,1231.34 1014.63,1189.06 1034.02,1145.49 1053.4,1092.9 1072.78,1035.73 1092.17,961.254 1111.55,895.119 1130.94,792.785 1150.32,708.835 1169.71,602.66 1189.09,518.682 1208.48,409.518 1227.86,325.768 1247.25,242.159 1266.63,174.373 1286.02,133.878 1305.4,108.21 1324.79,94.4077 1344.17,118.227 1363.56,144.948 1382.94,191.704 1402.32,265.153 1421.71,350.156 1441.09,442.358 1460.48,540.082 1479.86,638.26 1499.25,723.092 1518.63,820.104 1538.02,909.091 1557.4,991.305 1576.79,1064.75 1596.17,1136.41 1615.56,1195.4 1634.94,1245.66 1654.33,1280.6 1673.71,1322.49 1693.09,1349.24 1712.48,1372.95 1731.86,1390.76 1751.25,1405.36 1770.63,1412.85 1790.02,1423.15 1809.4,1428.07 1828.79,1433.68 1848.17,1437.06 1867.56,1439.48 1886.94,1441.13 1906.33,1442.16 1925.71,1443.87 1945.1,1444.26 1964.48,1444.63 1983.87,1444.95 2003.25,1445.37 2022.63,1445.43 2042.02,1445.49 2061.4,1445.49 2080.79,1445.6 2100.17,1445.66 2119.56,1445.72 2138.94,1445.72 2158.33,1445.72 2177.71,1445.72 2197.1,1445.72 2216.48,1445.72 2235.87,1445.72 2255.25,1445.72 2274.64,1445.72 2294.02,1445.72 \"/>\n<polyline clip-path=\"url(#clip942)\" style=\"stroke:#c271d2; stroke-linecap:round; stroke-linejoin:round; stroke-width:4; stroke-opacity:1; fill:none\" points=\"336.167,1445.72 355.551,1445.72 374.936,1445.72 394.321,1445.72 413.705,1445.72 433.09,1445.72 452.475,1445.72 471.859,1445.72 491.244,1445.72 510.629,1445.72 530.013,1445.72 549.398,1445.72 568.783,1445.72 588.168,1445.66 607.552,1445.72 626.937,1445.66 646.322,1445.35 665.706,1445 685.091,1444.52 704.476,1442.81 723.86,1441.45 743.245,1439.54 762.63,1436.75 782.014,1432.82 801.399,1429.69 820.784,1422.12 840.168,1418.2 859.553,1412.68 878.938,1402.46 898.323,1397.96 917.707,1386.01 937.092,1373.43 956.477,1357.98 975.861,1339.65 995.246,1312.02 1014.63,1289.14 1034.02,1253.34 1053.4,1210.54 1072.78,1156.44 1092.17,1102.4 1111.55,1034.87 1130.94,953.826 1150.32,876.308 1169.71,786.809 1189.09,682.768 1208.48,586.98 1227.86,491.789 1247.25,401.266 1266.63,306.018 1286.02,239.029 1305.4,169.593 1324.79,113.987 1344.17,96.4851 1363.56,87.9763 1382.94,114.157 1402.32,148.506 1421.71,202.262 1441.09,277.988 1460.48,350.412 1479.86,433.679 1499.25,524.06 1518.63,632.341 1538.02,731.544 1557.4,824.458 1576.79,907.384 1596.17,986.894 1615.56,1059.29 1634.94,1127.82 1654.33,1182.23 1673.71,1229.72 1693.09,1271.67 1712.48,1310.2 1731.86,1339.94 1751.25,1363.27 1770.63,1383.54 1790.02,1397.74 1809.4,1409.46 1828.79,1417.4 1848.17,1426.08 1867.56,1431.66 1886.94,1435.02 1906.33,1438.06 1925.71,1440.39 1945.1,1442.27 1964.48,1442.96 1983.87,1443.95 2003.25,1444.66 2022.63,1445.03 2042.02,1445.23 2061.4,1445.06 2080.79,1445.52 2100.17,1445.46 2119.56,1445.6 2138.94,1445.6 2158.33,1445.57 2177.71,1445.69 2197.1,1445.69 2216.48,1445.72 2235.87,1445.72 2255.25,1445.72 2274.64,1445.72 2294.02,1445.72 \"/>\n<polyline clip-path=\"url(#clip942)\" style=\"stroke:#ac8d18; stroke-linecap:round; stroke-linejoin:round; stroke-width:4; stroke-opacity:1; fill:none\" points=\"336.167,1445.72 355.551,1445.72 374.936,1445.72 394.321,1445.72 413.705,1445.72 433.09,1445.72 452.475,1445.72 471.859,1445.72 491.244,1445.72 510.629,1445.72 530.013,1445.72 549.398,1445.72 568.783,1445.72 588.168,1445.72 607.552,1445.72 626.937,1445.63 646.322,1445.52 665.706,1445.2 685.091,1444.98 704.476,1444.52 723.86,1443.64 743.245,1442.78 762.63,1441.85 782.014,1439.34 801.399,1438.4 820.784,1434.93 840.168,1432.03 859.553,1429.61 878.938,1425.17 898.323,1420.19 917.707,1411 937.092,1405.59 956.477,1394.78 975.861,1380.92 995.246,1367.6 1014.63,1346.63 1034.02,1320.05 1053.4,1291.76 1072.78,1255.48 1092.17,1212.48 1111.55,1155.85 1130.94,1098.05 1150.32,1014.95 1169.71,943.183 1189.09,843.496 1208.48,746.769 1227.86,653.314 1247.25,565.893 1266.63,468.226 1286.02,383.622 1305.4,301.351 1324.79,236.041 1344.17,182.199 1363.56,136.781 1382.94,131.26 1402.32,126.878 1421.71,141.42 1441.09,171.869 1460.48,223.69 1479.86,290.879 1499.25,373.491 1518.63,449.9 1538.02,547.139 1557.4,628.3 1576.79,728.869 1596.17,818.824 1615.56,899.842 1634.94,977.048 1654.33,1055.62 1673.71,1113.53 1693.09,1169.36 1712.48,1218.48 1731.86,1266.86 1751.25,1300.47 1770.63,1331.86 1790.02,1354.48 1809.4,1374 1828.79,1391.16 1848.17,1405.14 1867.56,1415.55 1886.94,1423.58 1906.33,1428.64 1925.71,1433.51 1945.1,1437.04 1964.48,1438.72 1983.87,1441.3 2003.25,1442.44 2022.63,1443.21 2042.02,1444.49 2061.4,1444.32 2080.79,1445.09 2100.17,1445.23 2119.56,1445.35 2138.94,1445.52 2158.33,1445.57 2177.71,1445.72 2197.1,1445.69 2216.48,1445.72 2235.87,1445.72 2255.25,1445.72 2274.64,1445.72 2294.02,1445.72 \"/>\n<path clip-path=\"url(#clip940)\" d=\"M2021.9 406.258 L2283.58 406.258 L2283.58 95.2176 L2021.9 95.2176  Z\" fill=\"#ffffff\" fill-rule=\"evenodd\" fill-opacity=\"1\"/>\n<polyline clip-path=\"url(#clip940)\" style=\"stroke:#000000; stroke-linecap:round; stroke-linejoin:round; stroke-width:4; stroke-opacity:1; fill:none\" points=\"2021.9,406.258 2283.58,406.258 2283.58,95.2176 2021.9,95.2176 2021.9,406.258 \"/>\n<polyline clip-path=\"url(#clip940)\" style=\"stroke:#009af9; stroke-linecap:round; stroke-linejoin:round; stroke-width:4; stroke-opacity:1; fill:none\" points=\"2044.96,147.058 2183.32,147.058 \"/>\n<path clip-path=\"url(#clip940)\" d=\"M2220.22 166.745 Q2218.41 171.375 2216.7 172.787 Q2214.99 174.199 2212.12 174.199 L2208.71 174.199 L2208.71 170.634 L2211.21 170.634 Q2212.97 170.634 2213.95 169.8 Q2214.92 168.967 2216.1 165.865 L2216.86 163.921 L2206.38 138.412 L2210.89 138.412 L2218.99 158.689 L2227.09 138.412 L2231.61 138.412 L2220.22 166.745 Z\" fill=\"#000000\" fill-rule=\"evenodd\" fill-opacity=\"1\" /><path clip-path=\"url(#clip940)\" d=\"M2238.9 160.402 L2246.54 160.402 L2246.54 134.037 L2238.23 135.703 L2238.23 131.444 L2246.49 129.778 L2251.17 129.778 L2251.17 160.402 L2258.81 160.402 L2258.81 164.338 L2238.9 164.338 L2238.9 160.402 Z\" fill=\"#000000\" fill-rule=\"evenodd\" fill-opacity=\"1\" /><polyline clip-path=\"url(#clip940)\" style=\"stroke:#e26f46; stroke-linecap:round; stroke-linejoin:round; stroke-width:4; stroke-opacity:1; fill:none\" points=\"2044.96,198.898 2183.32,198.898 \"/>\n<path clip-path=\"url(#clip940)\" d=\"M2220.22 218.585 Q2218.41 223.215 2216.7 224.627 Q2214.99 226.039 2212.12 226.039 L2208.71 226.039 L2208.71 222.474 L2211.21 222.474 Q2212.97 222.474 2213.95 221.64 Q2214.92 220.807 2216.1 217.705 L2216.86 215.761 L2206.38 190.252 L2210.89 190.252 L2218.99 210.529 L2227.09 190.252 L2231.61 190.252 L2220.22 218.585 Z\" fill=\"#000000\" fill-rule=\"evenodd\" fill-opacity=\"1\" /><path clip-path=\"url(#clip940)\" d=\"M2242.12 212.242 L2258.44 212.242 L2258.44 216.178 L2236.49 216.178 L2236.49 212.242 Q2239.15 209.488 2243.74 204.858 Q2248.34 200.205 2249.52 198.863 Q2251.77 196.34 2252.65 194.604 Q2253.55 192.844 2253.55 191.155 Q2253.55 188.4 2251.61 186.664 Q2249.69 184.928 2246.58 184.928 Q2244.39 184.928 2241.93 185.692 Q2239.5 186.455 2236.72 188.006 L2236.72 183.284 Q2239.55 182.15 2242 181.571 Q2244.45 180.993 2246.49 180.993 Q2251.86 180.993 2255.06 183.678 Q2258.25 186.363 2258.25 190.854 Q2258.25 192.983 2257.44 194.905 Q2256.65 196.803 2254.55 199.395 Q2253.97 200.067 2250.87 203.284 Q2247.76 206.479 2242.12 212.242 Z\" fill=\"#000000\" fill-rule=\"evenodd\" fill-opacity=\"1\" /><polyline clip-path=\"url(#clip940)\" style=\"stroke:#3da44d; stroke-linecap:round; stroke-linejoin:round; stroke-width:4; stroke-opacity:1; fill:none\" points=\"2044.96,250.738 2183.32,250.738 \"/>\n<path clip-path=\"url(#clip940)\" d=\"M2220.22 270.425 Q2218.41 275.055 2216.7 276.467 Q2214.99 277.879 2212.12 277.879 L2208.71 277.879 L2208.71 274.314 L2211.21 274.314 Q2212.97 274.314 2213.95 273.48 Q2214.92 272.647 2216.1 269.545 L2216.86 267.601 L2206.38 242.092 L2210.89 242.092 L2218.99 262.369 L2227.09 242.092 L2231.61 242.092 L2220.22 270.425 Z\" fill=\"#000000\" fill-rule=\"evenodd\" fill-opacity=\"1\" /><path clip-path=\"url(#clip940)\" d=\"M2252.26 249.383 Q2255.61 250.101 2257.49 252.369 Q2259.38 254.638 2259.38 257.971 Q2259.38 263.087 2255.87 265.888 Q2252.35 268.689 2245.87 268.689 Q2243.69 268.689 2241.38 268.249 Q2239.08 267.832 2236.63 266.976 L2236.63 262.462 Q2238.57 263.596 2240.89 264.175 Q2243.2 264.754 2245.73 264.754 Q2250.13 264.754 2252.42 263.018 Q2254.73 261.281 2254.73 257.971 Q2254.73 254.916 2252.58 253.203 Q2250.45 251.467 2246.63 251.467 L2242.6 251.467 L2242.6 247.624 L2246.82 247.624 Q2250.26 247.624 2252.09 246.258 Q2253.92 244.87 2253.92 242.277 Q2253.92 239.615 2252.02 238.203 Q2250.15 236.768 2246.63 236.768 Q2244.71 236.768 2242.51 237.184 Q2240.31 237.601 2237.67 238.481 L2237.67 234.314 Q2240.33 233.573 2242.65 233.203 Q2244.99 232.833 2247.05 232.833 Q2252.37 232.833 2255.47 235.263 Q2258.57 237.67 2258.57 241.791 Q2258.57 244.661 2256.93 246.652 Q2255.29 248.62 2252.26 249.383 Z\" fill=\"#000000\" fill-rule=\"evenodd\" fill-opacity=\"1\" /><polyline clip-path=\"url(#clip940)\" style=\"stroke:#c271d2; stroke-linecap:round; stroke-linejoin:round; stroke-width:4; stroke-opacity:1; fill:none\" points=\"2044.96,302.578 2183.32,302.578 \"/>\n<path clip-path=\"url(#clip940)\" d=\"M2220.22 322.265 Q2218.41 326.895 2216.7 328.307 Q2214.99 329.719 2212.12 329.719 L2208.71 329.719 L2208.71 326.154 L2211.21 326.154 Q2212.97 326.154 2213.95 325.32 Q2214.92 324.487 2216.1 321.385 L2216.86 319.441 L2206.38 293.932 L2210.89 293.932 L2218.99 314.209 L2227.09 293.932 L2231.61 293.932 L2220.22 322.265 Z\" fill=\"#000000\" fill-rule=\"evenodd\" fill-opacity=\"1\" /><path clip-path=\"url(#clip940)\" d=\"M2250.94 289.372 L2239.13 307.821 L2250.94 307.821 L2250.94 289.372 M2249.71 285.298 L2255.59 285.298 L2255.59 307.821 L2260.52 307.821 L2260.52 311.709 L2255.59 311.709 L2255.59 319.858 L2250.94 319.858 L2250.94 311.709 L2235.33 311.709 L2235.33 307.196 L2249.71 285.298 Z\" fill=\"#000000\" fill-rule=\"evenodd\" fill-opacity=\"1\" /><polyline clip-path=\"url(#clip940)\" style=\"stroke:#ac8d18; stroke-linecap:round; stroke-linejoin:round; stroke-width:4; stroke-opacity:1; fill:none\" points=\"2044.96,354.418 2183.32,354.418 \"/>\n<path clip-path=\"url(#clip940)\" d=\"M2220.22 374.105 Q2218.41 378.735 2216.7 380.147 Q2214.99 381.559 2212.12 381.559 L2208.71 381.559 L2208.71 377.994 L2211.21 377.994 Q2212.97 377.994 2213.95 377.16 Q2214.92 376.327 2216.1 373.225 L2216.86 371.281 L2206.38 345.772 L2210.89 345.772 L2218.99 366.049 L2227.09 345.772 L2231.61 345.772 L2220.22 374.105 Z\" fill=\"#000000\" fill-rule=\"evenodd\" fill-opacity=\"1\" /><path clip-path=\"url(#clip940)\" d=\"M2238.14 337.138 L2256.49 337.138 L2256.49 341.073 L2242.42 341.073 L2242.42 349.545 Q2243.44 349.198 2244.45 349.036 Q2245.47 348.85 2246.49 348.85 Q2252.28 348.85 2255.66 352.022 Q2259.04 355.193 2259.04 360.61 Q2259.04 366.188 2255.57 369.29 Q2252.09 372.369 2245.77 372.369 Q2243.6 372.369 2241.33 371.998 Q2239.08 371.628 2236.68 370.887 L2236.68 366.188 Q2238.76 367.323 2240.98 367.878 Q2243.2 368.434 2245.68 368.434 Q2249.69 368.434 2252.02 366.327 Q2254.36 364.221 2254.36 360.61 Q2254.36 356.999 2252.02 354.892 Q2249.69 352.786 2245.68 352.786 Q2243.81 352.786 2241.93 353.202 Q2240.08 353.619 2238.14 354.499 L2238.14 337.138 Z\" fill=\"#000000\" fill-rule=\"evenodd\" fill-opacity=\"1\" /></svg>\n",
      "text/html": [
       "<?xml version=\"1.0\" encoding=\"utf-8\"?>\n",
       "<svg xmlns=\"http://www.w3.org/2000/svg\" xmlns:xlink=\"http://www.w3.org/1999/xlink\" width=\"600\" height=\"400\" viewBox=\"0 0 2400 1600\">\n",
       "<defs>\n",
       "  <clipPath id=\"clip990\">\n",
       "    <rect x=\"0\" y=\"0\" width=\"2400\" height=\"1600\"/>\n",
       "  </clipPath>\n",
       "</defs>\n",
       "<path clip-path=\"url(#clip990)\" d=\"M0 1600 L2400 1600 L2400 0 L0 0  Z\" fill=\"#ffffff\" fill-rule=\"evenodd\" fill-opacity=\"1\"/>\n",
       "<defs>\n",
       "  <clipPath id=\"clip991\">\n",
       "    <rect x=\"480\" y=\"0\" width=\"1681\" height=\"1600\"/>\n",
       "  </clipPath>\n",
       "</defs>\n",
       "<path clip-path=\"url(#clip990)\" d=\"M277.431 1486.45 L2352.76 1486.45 L2352.76 47.2441 L277.431 47.2441  Z\" fill=\"#ffffff\" fill-rule=\"evenodd\" fill-opacity=\"1\"/>\n",
       "<defs>\n",
       "  <clipPath id=\"clip992\">\n",
       "    <rect x=\"277\" y=\"47\" width=\"2076\" height=\"1440\"/>\n",
       "  </clipPath>\n",
       "</defs>\n",
       "<polyline clip-path=\"url(#clip992)\" style=\"stroke:#000000; stroke-linecap:round; stroke-linejoin:round; stroke-width:2; stroke-opacity:0.1; fill:none\" points=\"316.782,1486.45 316.782,47.2441 \"/>\n",
       "<polyline clip-path=\"url(#clip992)\" style=\"stroke:#000000; stroke-linecap:round; stroke-linejoin:round; stroke-width:2; stroke-opacity:0.1; fill:none\" points=\"801.399,1486.45 801.399,47.2441 \"/>\n",
       "<polyline clip-path=\"url(#clip992)\" style=\"stroke:#000000; stroke-linecap:round; stroke-linejoin:round; stroke-width:2; stroke-opacity:0.1; fill:none\" points=\"1286.02,1486.45 1286.02,47.2441 \"/>\n",
       "<polyline clip-path=\"url(#clip992)\" style=\"stroke:#000000; stroke-linecap:round; stroke-linejoin:round; stroke-width:2; stroke-opacity:0.1; fill:none\" points=\"1770.63,1486.45 1770.63,47.2441 \"/>\n",
       "<polyline clip-path=\"url(#clip992)\" style=\"stroke:#000000; stroke-linecap:round; stroke-linejoin:round; stroke-width:2; stroke-opacity:0.1; fill:none\" points=\"2255.25,1486.45 2255.25,47.2441 \"/>\n",
       "<polyline clip-path=\"url(#clip990)\" style=\"stroke:#000000; stroke-linecap:round; stroke-linejoin:round; stroke-width:4; stroke-opacity:1; fill:none\" points=\"277.431,1486.45 2352.76,1486.45 \"/>\n",
       "<polyline clip-path=\"url(#clip990)\" style=\"stroke:#000000; stroke-linecap:round; stroke-linejoin:round; stroke-width:4; stroke-opacity:1; fill:none\" points=\"316.782,1486.45 316.782,1467.55 \"/>\n",
       "<polyline clip-path=\"url(#clip990)\" style=\"stroke:#000000; stroke-linecap:round; stroke-linejoin:round; stroke-width:4; stroke-opacity:1; fill:none\" points=\"801.399,1486.45 801.399,1467.55 \"/>\n",
       "<polyline clip-path=\"url(#clip990)\" style=\"stroke:#000000; stroke-linecap:round; stroke-linejoin:round; stroke-width:4; stroke-opacity:1; fill:none\" points=\"1286.02,1486.45 1286.02,1467.55 \"/>\n",
       "<polyline clip-path=\"url(#clip990)\" style=\"stroke:#000000; stroke-linecap:round; stroke-linejoin:round; stroke-width:4; stroke-opacity:1; fill:none\" points=\"1770.63,1486.45 1770.63,1467.55 \"/>\n",
       "<polyline clip-path=\"url(#clip990)\" style=\"stroke:#000000; stroke-linecap:round; stroke-linejoin:round; stroke-width:4; stroke-opacity:1; fill:none\" points=\"2255.25,1486.45 2255.25,1467.55 \"/>\n",
       "<path clip-path=\"url(#clip990)\" d=\"M316.782 1517.37 Q313.171 1517.37 311.342 1520.93 Q309.537 1524.47 309.537 1531.6 Q309.537 1538.71 311.342 1542.27 Q313.171 1545.82 316.782 1545.82 Q320.416 1545.82 322.222 1542.27 Q324.05 1538.71 324.05 1531.6 Q324.05 1524.47 322.222 1520.93 Q320.416 1517.37 316.782 1517.37 M316.782 1513.66 Q322.592 1513.66 325.648 1518.27 Q328.726 1522.85 328.726 1531.6 Q328.726 1540.33 325.648 1544.94 Q322.592 1549.52 316.782 1549.52 Q310.972 1549.52 307.893 1544.94 Q304.837 1540.33 304.837 1531.6 Q304.837 1522.85 307.893 1518.27 Q310.972 1513.66 316.782 1513.66 Z\" fill=\"#000000\" fill-rule=\"evenodd\" fill-opacity=\"1\" /><path clip-path=\"url(#clip990)\" d=\"M780.67 1544.91 L796.989 1544.91 L796.989 1548.85 L775.045 1548.85 L775.045 1544.91 Q777.707 1542.16 782.29 1537.53 Q786.897 1532.88 788.077 1531.53 Q790.323 1529.01 791.202 1527.27 Q792.105 1525.51 792.105 1523.82 Q792.105 1521.07 790.161 1519.33 Q788.239 1517.6 785.138 1517.6 Q782.939 1517.6 780.485 1518.36 Q778.054 1519.13 775.277 1520.68 L775.277 1515.95 Q778.101 1514.82 780.554 1514.24 Q783.008 1513.66 785.045 1513.66 Q790.415 1513.66 793.61 1516.35 Q796.804 1519.03 796.804 1523.52 Q796.804 1525.65 795.994 1527.57 Q795.207 1529.47 793.101 1532.07 Q792.522 1532.74 789.42 1535.95 Q786.318 1539.15 780.67 1544.91 Z\" fill=\"#000000\" fill-rule=\"evenodd\" fill-opacity=\"1\" /><path clip-path=\"url(#clip990)\" d=\"M806.85 1514.29 L825.207 1514.29 L825.207 1518.22 L811.133 1518.22 L811.133 1526.7 Q812.151 1526.35 813.17 1526.19 Q814.188 1526 815.207 1526 Q820.994 1526 824.374 1529.17 Q827.753 1532.34 827.753 1537.76 Q827.753 1543.34 824.281 1546.44 Q820.809 1549.52 814.489 1549.52 Q812.313 1549.52 810.045 1549.15 Q807.8 1548.78 805.392 1548.04 L805.392 1543.34 Q807.475 1544.47 809.698 1545.03 Q811.92 1545.58 814.397 1545.58 Q818.401 1545.58 820.739 1543.48 Q823.077 1541.37 823.077 1537.76 Q823.077 1534.15 820.739 1532.04 Q818.401 1529.94 814.397 1529.94 Q812.522 1529.94 810.647 1530.35 Q808.795 1530.77 806.85 1531.65 L806.85 1514.29 Z\" fill=\"#000000\" fill-rule=\"evenodd\" fill-opacity=\"1\" /><path clip-path=\"url(#clip990)\" d=\"M1260.72 1514.29 L1279.07 1514.29 L1279.07 1518.22 L1265 1518.22 L1265 1526.7 Q1266.02 1526.35 1267.03 1526.19 Q1268.05 1526 1269.07 1526 Q1274.86 1526 1278.24 1529.17 Q1281.62 1532.34 1281.62 1537.76 Q1281.62 1543.34 1278.15 1546.44 Q1274.67 1549.52 1268.35 1549.52 Q1266.18 1549.52 1263.91 1549.15 Q1261.66 1548.78 1259.26 1548.04 L1259.26 1543.34 Q1261.34 1544.47 1263.56 1545.03 Q1265.79 1545.58 1268.26 1545.58 Q1272.27 1545.58 1274.6 1543.48 Q1276.94 1541.37 1276.94 1537.76 Q1276.94 1534.15 1274.6 1532.04 Q1272.27 1529.94 1268.26 1529.94 Q1266.39 1529.94 1264.51 1530.35 Q1262.66 1530.77 1260.72 1531.65 L1260.72 1514.29 Z\" fill=\"#000000\" fill-rule=\"evenodd\" fill-opacity=\"1\" /><path clip-path=\"url(#clip990)\" d=\"M1300.83 1517.37 Q1297.22 1517.37 1295.39 1520.93 Q1293.59 1524.47 1293.59 1531.6 Q1293.59 1538.71 1295.39 1542.27 Q1297.22 1545.82 1300.83 1545.82 Q1304.47 1545.82 1306.27 1542.27 Q1308.1 1538.71 1308.1 1531.6 Q1308.1 1524.47 1306.27 1520.93 Q1304.47 1517.37 1300.83 1517.37 M1300.83 1513.66 Q1306.64 1513.66 1309.7 1518.27 Q1312.78 1522.85 1312.78 1531.6 Q1312.78 1540.33 1309.7 1544.94 Q1306.64 1549.52 1300.83 1549.52 Q1295.02 1549.52 1291.94 1544.94 Q1288.89 1540.33 1288.89 1531.6 Q1288.89 1522.85 1291.94 1518.27 Q1295.02 1513.66 1300.83 1513.66 Z\" fill=\"#000000\" fill-rule=\"evenodd\" fill-opacity=\"1\" /><path clip-path=\"url(#clip990)\" d=\"M1744.49 1514.29 L1766.71 1514.29 L1766.71 1516.28 L1754.16 1548.85 L1749.28 1548.85 L1761.09 1518.22 L1744.49 1518.22 L1744.49 1514.29 Z\" fill=\"#000000\" fill-rule=\"evenodd\" fill-opacity=\"1\" /><path clip-path=\"url(#clip990)\" d=\"M1775.88 1514.29 L1794.23 1514.29 L1794.23 1518.22 L1780.16 1518.22 L1780.16 1526.7 Q1781.18 1526.35 1782.2 1526.19 Q1783.21 1526 1784.23 1526 Q1790.02 1526 1793.4 1529.17 Q1796.78 1532.34 1796.78 1537.76 Q1796.78 1543.34 1793.31 1546.44 Q1789.83 1549.52 1783.52 1549.52 Q1781.34 1549.52 1779.07 1549.15 Q1776.83 1548.78 1774.42 1548.04 L1774.42 1543.34 Q1776.5 1544.47 1778.72 1545.03 Q1780.95 1545.58 1783.42 1545.58 Q1787.43 1545.58 1789.77 1543.48 Q1792.1 1541.37 1792.1 1537.76 Q1792.1 1534.15 1789.77 1532.04 Q1787.43 1529.94 1783.42 1529.94 Q1781.55 1529.94 1779.67 1530.35 Q1777.82 1530.77 1775.88 1531.65 L1775.88 1514.29 Z\" fill=\"#000000\" fill-rule=\"evenodd\" fill-opacity=\"1\" /><path clip-path=\"url(#clip990)\" d=\"M2214.86 1544.91 L2222.5 1544.91 L2222.5 1518.55 L2214.19 1520.21 L2214.19 1515.95 L2222.45 1514.29 L2227.13 1514.29 L2227.13 1544.91 L2234.76 1544.91 L2234.76 1548.85 L2214.86 1548.85 L2214.86 1544.91 Z\" fill=\"#000000\" fill-rule=\"evenodd\" fill-opacity=\"1\" /><path clip-path=\"url(#clip990)\" d=\"M2254.21 1517.37 Q2250.6 1517.37 2248.77 1520.93 Q2246.96 1524.47 2246.96 1531.6 Q2246.96 1538.71 2248.77 1542.27 Q2250.6 1545.82 2254.21 1545.82 Q2257.84 1545.82 2259.65 1542.27 Q2261.48 1538.71 2261.48 1531.6 Q2261.48 1524.47 2259.65 1520.93 Q2257.84 1517.37 2254.21 1517.37 M2254.21 1513.66 Q2260.02 1513.66 2263.07 1518.27 Q2266.15 1522.85 2266.15 1531.6 Q2266.15 1540.33 2263.07 1544.94 Q2260.02 1549.52 2254.21 1549.52 Q2248.4 1549.52 2245.32 1544.94 Q2242.26 1540.33 2242.26 1531.6 Q2242.26 1522.85 2245.32 1518.27 Q2248.4 1513.66 2254.21 1513.66 Z\" fill=\"#000000\" fill-rule=\"evenodd\" fill-opacity=\"1\" /><path clip-path=\"url(#clip990)\" d=\"M2284.37 1517.37 Q2280.76 1517.37 2278.93 1520.93 Q2277.13 1524.47 2277.13 1531.6 Q2277.13 1538.71 2278.93 1542.27 Q2280.76 1545.82 2284.37 1545.82 Q2288.01 1545.82 2289.81 1542.27 Q2291.64 1538.71 2291.64 1531.6 Q2291.64 1524.47 2289.81 1520.93 Q2288.01 1517.37 2284.37 1517.37 M2284.37 1513.66 Q2290.18 1513.66 2293.24 1518.27 Q2296.32 1522.85 2296.32 1531.6 Q2296.32 1540.33 2293.24 1544.94 Q2290.18 1549.52 2284.37 1549.52 Q2278.56 1549.52 2275.48 1544.94 Q2272.43 1540.33 2272.43 1531.6 Q2272.43 1522.85 2275.48 1518.27 Q2278.56 1513.66 2284.37 1513.66 Z\" fill=\"#000000\" fill-rule=\"evenodd\" fill-opacity=\"1\" /><polyline clip-path=\"url(#clip992)\" style=\"stroke:#000000; stroke-linecap:round; stroke-linejoin:round; stroke-width:2; stroke-opacity:0.1; fill:none\" points=\"277.431,1445.72 2352.76,1445.72 \"/>\n",
       "<polyline clip-path=\"url(#clip992)\" style=\"stroke:#000000; stroke-linecap:round; stroke-linejoin:round; stroke-width:2; stroke-opacity:0.1; fill:none\" points=\"277.431,1161.14 2352.76,1161.14 \"/>\n",
       "<polyline clip-path=\"url(#clip992)\" style=\"stroke:#000000; stroke-linecap:round; stroke-linejoin:round; stroke-width:2; stroke-opacity:0.1; fill:none\" points=\"277.431,876.564 2352.76,876.564 \"/>\n",
       "<polyline clip-path=\"url(#clip992)\" style=\"stroke:#000000; stroke-linecap:round; stroke-linejoin:round; stroke-width:2; stroke-opacity:0.1; fill:none\" points=\"277.431,591.988 2352.76,591.988 \"/>\n",
       "<polyline clip-path=\"url(#clip992)\" style=\"stroke:#000000; stroke-linecap:round; stroke-linejoin:round; stroke-width:2; stroke-opacity:0.1; fill:none\" points=\"277.431,307.413 2352.76,307.413 \"/>\n",
       "<polyline clip-path=\"url(#clip990)\" style=\"stroke:#000000; stroke-linecap:round; stroke-linejoin:round; stroke-width:4; stroke-opacity:1; fill:none\" points=\"277.431,1486.45 277.431,47.2441 \"/>\n",
       "<polyline clip-path=\"url(#clip990)\" style=\"stroke:#000000; stroke-linecap:round; stroke-linejoin:round; stroke-width:4; stroke-opacity:1; fill:none\" points=\"277.431,1445.72 296.329,1445.72 \"/>\n",
       "<polyline clip-path=\"url(#clip990)\" style=\"stroke:#000000; stroke-linecap:round; stroke-linejoin:round; stroke-width:4; stroke-opacity:1; fill:none\" points=\"277.431,1161.14 296.329,1161.14 \"/>\n",
       "<polyline clip-path=\"url(#clip990)\" style=\"stroke:#000000; stroke-linecap:round; stroke-linejoin:round; stroke-width:4; stroke-opacity:1; fill:none\" points=\"277.431,876.564 296.329,876.564 \"/>\n",
       "<polyline clip-path=\"url(#clip990)\" style=\"stroke:#000000; stroke-linecap:round; stroke-linejoin:round; stroke-width:4; stroke-opacity:1; fill:none\" points=\"277.431,591.988 296.329,591.988 \"/>\n",
       "<polyline clip-path=\"url(#clip990)\" style=\"stroke:#000000; stroke-linecap:round; stroke-linejoin:round; stroke-width:4; stroke-opacity:1; fill:none\" points=\"277.431,307.413 296.329,307.413 \"/>\n",
       "<path clip-path=\"url(#clip990)\" d=\"M229.487 1431.51 Q225.875 1431.51 224.047 1435.08 Q222.241 1438.62 222.241 1445.75 Q222.241 1452.86 224.047 1456.42 Q225.875 1459.96 229.487 1459.96 Q233.121 1459.96 234.926 1456.42 Q236.755 1452.86 236.755 1445.75 Q236.755 1438.62 234.926 1435.08 Q233.121 1431.51 229.487 1431.51 M229.487 1427.81 Q235.297 1427.81 238.352 1432.42 Q241.431 1437 241.431 1445.75 Q241.431 1454.48 238.352 1459.08 Q235.297 1463.67 229.487 1463.67 Q223.676 1463.67 220.598 1459.08 Q217.542 1454.48 217.542 1445.75 Q217.542 1437 220.598 1432.42 Q223.676 1427.81 229.487 1427.81 Z\" fill=\"#000000\" fill-rule=\"evenodd\" fill-opacity=\"1\" /><path clip-path=\"url(#clip990)\" d=\"M54.5569 1180.93 L62.1958 1180.93 L62.1958 1154.57 L53.8856 1156.23 L53.8856 1151.97 L62.1495 1150.31 L66.8254 1150.31 L66.8254 1180.93 L74.4642 1180.93 L74.4642 1184.87 L54.5569 1184.87 L54.5569 1180.93 Z\" fill=\"#000000\" fill-rule=\"evenodd\" fill-opacity=\"1\" /><path clip-path=\"url(#clip990)\" d=\"M83.9086 1178.99 L88.7928 1178.99 L88.7928 1184.87 L83.9086 1184.87 L83.9086 1178.99 Z\" fill=\"#000000\" fill-rule=\"evenodd\" fill-opacity=\"1\" /><path clip-path=\"url(#clip990)\" d=\"M108.978 1153.39 Q105.367 1153.39 103.538 1156.95 Q101.733 1160.49 101.733 1167.62 Q101.733 1174.73 103.538 1178.29 Q105.367 1181.84 108.978 1181.84 Q112.612 1181.84 114.418 1178.29 Q116.246 1174.73 116.246 1167.62 Q116.246 1160.49 114.418 1156.95 Q112.612 1153.39 108.978 1153.39 M108.978 1149.68 Q114.788 1149.68 117.844 1154.29 Q120.922 1158.87 120.922 1167.62 Q120.922 1176.35 117.844 1180.96 Q114.788 1185.54 108.978 1185.54 Q103.168 1185.54 100.089 1180.96 Q97.0335 1176.35 97.0335 1167.62 Q97.0335 1158.87 100.089 1154.29 Q103.168 1149.68 108.978 1149.68 Z\" fill=\"#000000\" fill-rule=\"evenodd\" fill-opacity=\"1\" /><path clip-path=\"url(#clip990)\" d=\"M157.311 1159.4 L146.732 1170.03 L157.311 1180.61 L154.556 1183.41 L143.931 1172.78 L133.306 1183.41 L130.575 1180.61 L141.131 1170.03 L130.575 1159.4 L133.306 1156.6 L143.931 1167.23 L154.556 1156.6 L157.311 1159.4 Z\" fill=\"#000000\" fill-rule=\"evenodd\" fill-opacity=\"1\" /><path clip-path=\"url(#clip990)\" d=\"M169.672 1180.93 L177.311 1180.93 L177.311 1154.57 L169.001 1156.23 L169.001 1151.97 L177.265 1150.31 L181.94 1150.31 L181.94 1180.93 L189.579 1180.93 L189.579 1184.87 L169.672 1184.87 L169.672 1180.93 Z\" fill=\"#000000\" fill-rule=\"evenodd\" fill-opacity=\"1\" /><path clip-path=\"url(#clip990)\" d=\"M209.024 1153.39 Q205.413 1153.39 203.584 1156.95 Q201.778 1160.49 201.778 1167.62 Q201.778 1174.73 203.584 1178.29 Q205.413 1181.84 209.024 1181.84 Q212.658 1181.84 214.463 1178.29 Q216.292 1174.73 216.292 1167.62 Q216.292 1160.49 214.463 1156.95 Q212.658 1153.39 209.024 1153.39 M209.024 1149.68 Q214.834 1149.68 217.889 1154.29 Q220.968 1158.87 220.968 1167.62 Q220.968 1176.35 217.889 1180.96 Q214.834 1185.54 209.024 1185.54 Q203.214 1185.54 200.135 1180.96 Q197.079 1176.35 197.079 1167.62 Q197.079 1158.87 200.135 1154.29 Q203.214 1149.68 209.024 1149.68 Z\" fill=\"#000000\" fill-rule=\"evenodd\" fill-opacity=\"1\" /><path clip-path=\"url(#clip990)\" d=\"M233.645 1132.69 L224.053 1147.68 L233.645 1147.68 L233.645 1132.69 M232.648 1129.38 L237.425 1129.38 L237.425 1147.68 L241.431 1147.68 L241.431 1150.84 L237.425 1150.84 L237.425 1157.46 L233.645 1157.46 L233.645 1150.84 L220.968 1150.84 L220.968 1147.17 L232.648 1129.38 Z\" fill=\"#000000\" fill-rule=\"evenodd\" fill-opacity=\"1\" /><path clip-path=\"url(#clip990)\" d=\"M57.7745 896.357 L74.0939 896.357 L74.0939 900.292 L52.1495 900.292 L52.1495 896.357 Q54.8115 893.602 59.3949 888.972 Q64.0013 884.32 65.1819 882.977 Q67.4272 880.454 68.3068 878.718 Q69.2096 876.959 69.2096 875.269 Q69.2096 872.514 67.2652 870.778 Q65.3439 869.042 62.2421 869.042 Q60.043 869.042 57.5893 869.806 Q55.1588 870.57 52.381 872.121 L52.381 867.398 Q55.2051 866.264 57.6588 865.685 Q60.1124 865.107 62.1495 865.107 Q67.5198 865.107 70.7142 867.792 Q73.9087 870.477 73.9087 874.968 Q73.9087 877.097 73.0985 879.019 Q72.3115 880.917 70.205 883.509 Q69.6263 884.181 66.5245 887.398 Q63.4226 890.593 57.7745 896.357 Z\" fill=\"#000000\" fill-rule=\"evenodd\" fill-opacity=\"1\" /><path clip-path=\"url(#clip990)\" d=\"M83.9086 894.412 L88.7928 894.412 L88.7928 900.292 L83.9086 900.292 L83.9086 894.412 Z\" fill=\"#000000\" fill-rule=\"evenodd\" fill-opacity=\"1\" /><path clip-path=\"url(#clip990)\" d=\"M108.978 868.81 Q105.367 868.81 103.538 872.375 Q101.733 875.917 101.733 883.046 Q101.733 890.153 103.538 893.718 Q105.367 897.259 108.978 897.259 Q112.612 897.259 114.418 893.718 Q116.246 890.153 116.246 883.046 Q116.246 875.917 114.418 872.375 Q112.612 868.81 108.978 868.81 M108.978 865.107 Q114.788 865.107 117.844 869.713 Q120.922 874.297 120.922 883.046 Q120.922 891.773 117.844 896.38 Q114.788 900.963 108.978 900.963 Q103.168 900.963 100.089 896.38 Q97.0335 891.773 97.0335 883.046 Q97.0335 874.297 100.089 869.713 Q103.168 865.107 108.978 865.107 Z\" fill=\"#000000\" fill-rule=\"evenodd\" fill-opacity=\"1\" /><path clip-path=\"url(#clip990)\" d=\"M157.311 874.829 L146.732 885.454 L157.311 896.033 L154.556 898.833 L143.931 888.209 L133.306 898.833 L130.575 896.033 L141.131 885.454 L130.575 874.829 L133.306 872.028 L143.931 882.653 L154.556 872.028 L157.311 874.829 Z\" fill=\"#000000\" fill-rule=\"evenodd\" fill-opacity=\"1\" /><path clip-path=\"url(#clip990)\" d=\"M169.672 896.357 L177.311 896.357 L177.311 869.991 L169.001 871.658 L169.001 867.398 L177.265 865.732 L181.94 865.732 L181.94 896.357 L189.579 896.357 L189.579 900.292 L169.672 900.292 L169.672 896.357 Z\" fill=\"#000000\" fill-rule=\"evenodd\" fill-opacity=\"1\" /><path clip-path=\"url(#clip990)\" d=\"M209.024 868.81 Q205.413 868.81 203.584 872.375 Q201.778 875.917 201.778 883.046 Q201.778 890.153 203.584 893.718 Q205.413 897.259 209.024 897.259 Q212.658 897.259 214.463 893.718 Q216.292 890.153 216.292 883.046 Q216.292 875.917 214.463 872.375 Q212.658 868.81 209.024 868.81 M209.024 865.107 Q214.834 865.107 217.889 869.713 Q220.968 874.297 220.968 883.046 Q220.968 891.773 217.889 896.38 Q214.834 900.963 209.024 900.963 Q203.214 900.963 200.135 896.38 Q197.079 891.773 197.079 883.046 Q197.079 874.297 200.135 869.713 Q203.214 865.107 209.024 865.107 Z\" fill=\"#000000\" fill-rule=\"evenodd\" fill-opacity=\"1\" /><path clip-path=\"url(#clip990)\" d=\"M233.645 848.112 L224.053 863.101 L233.645 863.101 L233.645 848.112 M232.648 844.801 L237.425 844.801 L237.425 863.101 L241.431 863.101 L241.431 866.261 L237.425 866.261 L237.425 872.881 L233.645 872.881 L233.645 866.261 L220.968 866.261 L220.968 862.594 L232.648 844.801 Z\" fill=\"#000000\" fill-rule=\"evenodd\" fill-opacity=\"1\" /><path clip-path=\"url(#clip990)\" d=\"M67.9133 597.082 Q71.2698 597.799 73.1448 600.068 Q75.0429 602.336 75.0429 605.67 Q75.0429 610.785 71.5244 613.586 Q68.0059 616.387 61.5245 616.387 Q59.3486 616.387 57.0338 615.947 Q54.7421 615.531 52.2884 614.674 L52.2884 610.16 Q54.2328 611.295 56.5477 611.873 Q58.8625 612.452 61.3856 612.452 Q65.7837 612.452 68.0754 610.716 Q70.3902 608.98 70.3902 605.67 Q70.3902 602.614 68.2374 600.901 Q66.1078 599.165 62.2884 599.165 L58.2606 599.165 L58.2606 595.323 L62.4735 595.323 Q65.9226 595.323 67.7513 593.957 Q69.58 592.568 69.58 589.975 Q69.58 587.313 67.6819 585.901 Q65.8069 584.466 62.2884 584.466 Q60.3671 584.466 58.168 584.883 Q55.969 585.3 53.3301 586.179 L53.3301 582.012 Q55.9921 581.272 58.3069 580.901 Q60.6449 580.531 62.705 580.531 Q68.0291 580.531 71.1309 582.962 Q74.2327 585.369 74.2327 589.489 Q74.2327 592.36 72.5892 594.35 Q70.9457 596.318 67.9133 597.082 Z\" fill=\"#000000\" fill-rule=\"evenodd\" fill-opacity=\"1\" /><path clip-path=\"url(#clip990)\" d=\"M83.9086 609.836 L88.7928 609.836 L88.7928 615.716 L83.9086 615.716 L83.9086 609.836 Z\" fill=\"#000000\" fill-rule=\"evenodd\" fill-opacity=\"1\" /><path clip-path=\"url(#clip990)\" d=\"M108.978 584.235 Q105.367 584.235 103.538 587.799 Q101.733 591.341 101.733 598.471 Q101.733 605.577 103.538 609.142 Q105.367 612.684 108.978 612.684 Q112.612 612.684 114.418 609.142 Q116.246 605.577 116.246 598.471 Q116.246 591.341 114.418 587.799 Q112.612 584.235 108.978 584.235 M108.978 580.531 Q114.788 580.531 117.844 585.137 Q120.922 589.721 120.922 598.471 Q120.922 607.198 117.844 611.804 Q114.788 616.387 108.978 616.387 Q103.168 616.387 100.089 611.804 Q97.0335 607.198 97.0335 598.471 Q97.0335 589.721 100.089 585.137 Q103.168 580.531 108.978 580.531 Z\" fill=\"#000000\" fill-rule=\"evenodd\" fill-opacity=\"1\" /><path clip-path=\"url(#clip990)\" d=\"M157.311 590.253 L146.732 600.878 L157.311 611.457 L154.556 614.258 L143.931 603.633 L133.306 614.258 L130.575 611.457 L141.131 600.878 L130.575 590.253 L133.306 587.452 L143.931 598.077 L154.556 587.452 L157.311 590.253 Z\" fill=\"#000000\" fill-rule=\"evenodd\" fill-opacity=\"1\" /><path clip-path=\"url(#clip990)\" d=\"M169.672 611.781 L177.311 611.781 L177.311 585.415 L169.001 587.082 L169.001 582.823 L177.265 581.156 L181.94 581.156 L181.94 611.781 L189.579 611.781 L189.579 615.716 L169.672 615.716 L169.672 611.781 Z\" fill=\"#000000\" fill-rule=\"evenodd\" fill-opacity=\"1\" /><path clip-path=\"url(#clip990)\" d=\"M209.024 584.235 Q205.413 584.235 203.584 587.799 Q201.778 591.341 201.778 598.471 Q201.778 605.577 203.584 609.142 Q205.413 612.684 209.024 612.684 Q212.658 612.684 214.463 609.142 Q216.292 605.577 216.292 598.471 Q216.292 591.341 214.463 587.799 Q212.658 584.235 209.024 584.235 M209.024 580.531 Q214.834 580.531 217.889 585.137 Q220.968 589.721 220.968 598.471 Q220.968 607.198 217.889 611.804 Q214.834 616.387 209.024 616.387 Q203.214 616.387 200.135 611.804 Q197.079 607.198 197.079 598.471 Q197.079 589.721 200.135 585.137 Q203.214 580.531 209.024 580.531 Z\" fill=\"#000000\" fill-rule=\"evenodd\" fill-opacity=\"1\" /><path clip-path=\"url(#clip990)\" d=\"M233.645 563.536 L224.053 578.526 L233.645 578.526 L233.645 563.536 M232.648 560.226 L237.425 560.226 L237.425 578.526 L241.431 578.526 L241.431 581.685 L237.425 581.685 L237.425 588.306 L233.645 588.306 L233.645 581.685 L220.968 581.685 L220.968 578.018 L232.648 560.226 Z\" fill=\"#000000\" fill-rule=\"evenodd\" fill-opacity=\"1\" /><path clip-path=\"url(#clip990)\" d=\"M66.5939 300.654 L54.7884 319.103 L66.5939 319.103 L66.5939 300.654 M65.367 296.58 L71.2466 296.58 L71.2466 319.103 L76.1772 319.103 L76.1772 322.992 L71.2466 322.992 L71.2466 331.14 L66.5939 331.14 L66.5939 322.992 L50.9921 322.992 L50.9921 318.478 L65.367 296.58 Z\" fill=\"#000000\" fill-rule=\"evenodd\" fill-opacity=\"1\" /><path clip-path=\"url(#clip990)\" d=\"M83.9086 325.261 L88.7928 325.261 L88.7928 331.14 L83.9086 331.14 L83.9086 325.261 Z\" fill=\"#000000\" fill-rule=\"evenodd\" fill-opacity=\"1\" /><path clip-path=\"url(#clip990)\" d=\"M108.978 299.659 Q105.367 299.659 103.538 303.224 Q101.733 306.765 101.733 313.895 Q101.733 321.001 103.538 324.566 Q105.367 328.108 108.978 328.108 Q112.612 328.108 114.418 324.566 Q116.246 321.001 116.246 313.895 Q116.246 306.765 114.418 303.224 Q112.612 299.659 108.978 299.659 M108.978 295.955 Q114.788 295.955 117.844 300.562 Q120.922 305.145 120.922 313.895 Q120.922 322.622 117.844 327.228 Q114.788 331.812 108.978 331.812 Q103.168 331.812 100.089 327.228 Q97.0335 322.622 97.0335 313.895 Q97.0335 305.145 100.089 300.562 Q103.168 295.955 108.978 295.955 Z\" fill=\"#000000\" fill-rule=\"evenodd\" fill-opacity=\"1\" /><path clip-path=\"url(#clip990)\" d=\"M157.311 305.677 L146.732 316.302 L157.311 326.881 L154.556 329.682 L143.931 319.057 L133.306 329.682 L130.575 326.881 L141.131 316.302 L130.575 305.677 L133.306 302.877 L143.931 313.501 L154.556 302.877 L157.311 305.677 Z\" fill=\"#000000\" fill-rule=\"evenodd\" fill-opacity=\"1\" /><path clip-path=\"url(#clip990)\" d=\"M169.672 327.205 L177.311 327.205 L177.311 300.839 L169.001 302.506 L169.001 298.247 L177.265 296.58 L181.94 296.58 L181.94 327.205 L189.579 327.205 L189.579 331.14 L169.672 331.14 L169.672 327.205 Z\" fill=\"#000000\" fill-rule=\"evenodd\" fill-opacity=\"1\" /><path clip-path=\"url(#clip990)\" d=\"M209.024 299.659 Q205.413 299.659 203.584 303.224 Q201.778 306.765 201.778 313.895 Q201.778 321.001 203.584 324.566 Q205.413 328.108 209.024 328.108 Q212.658 328.108 214.463 324.566 Q216.292 321.001 216.292 313.895 Q216.292 306.765 214.463 303.224 Q212.658 299.659 209.024 299.659 M209.024 295.955 Q214.834 295.955 217.889 300.562 Q220.968 305.145 220.968 313.895 Q220.968 322.622 217.889 327.228 Q214.834 331.812 209.024 331.812 Q203.214 331.812 200.135 327.228 Q197.079 322.622 197.079 313.895 Q197.079 305.145 200.135 300.562 Q203.214 295.955 209.024 295.955 Z\" fill=\"#000000\" fill-rule=\"evenodd\" fill-opacity=\"1\" /><path clip-path=\"url(#clip990)\" d=\"M233.645 278.96 L224.053 293.95 L233.645 293.95 L233.645 278.96 M232.648 275.65 L237.425 275.65 L237.425 293.95 L241.431 293.95 L241.431 297.11 L237.425 297.11 L237.425 303.73 L233.645 303.73 L233.645 297.11 L220.968 297.11 L220.968 293.442 L232.648 275.65 Z\" fill=\"#000000\" fill-rule=\"evenodd\" fill-opacity=\"1\" /><polyline clip-path=\"url(#clip992)\" style=\"stroke:#009af9; stroke-linecap:round; stroke-linejoin:round; stroke-width:4; stroke-opacity:1; fill:none\" points=\"336.167,1445.72 355.551,1445.72 374.936,1445.72 394.321,1445.72 413.705,1445.72 433.09,1445.72 452.475,1445.72 471.859,1445.72 491.244,1445.72 510.629,1445.72 530.013,1445.72 549.398,1445.6 568.783,1445.2 588.168,1444.63 607.552,1442.87 626.937,1440.42 646.322,1435.9 665.706,1427.62 685.091,1417.91 704.476,1401.41 723.86,1382.94 743.245,1356.96 762.63,1331.74 782.014,1300.61 801.399,1269.53 820.784,1239.11 840.168,1206.81 859.553,1172.81 878.938,1144.09 898.323,1111.42 917.707,1083.02 937.092,1048.85 956.477,1015.18 975.861,969.905 995.246,923.605 1014.63,862.762 1034.02,804.51 1053.4,744.777 1072.78,688.203 1092.17,613.36 1111.55,539.626 1130.94,467.771 1150.32,408.323 1169.71,341.277 1189.09,288.46 1208.48,245.261 1227.86,219.621 1247.25,207.982 1266.63,231.943 1286.02,245.944 1305.4,302.489 1324.79,362.023 1344.17,431.602 1363.56,508.465 1382.94,607.697 1402.32,698.534 1421.71,784.703 1441.09,878.044 1460.48,952.546 1479.86,1037.8 1499.25,1109.32 1518.63,1175.43 1538.02,1229.52 1557.4,1273.04 1576.79,1308.78 1596.17,1340.88 1615.56,1363.53 1634.94,1384.79 1654.33,1400.61 1673.71,1410.4 1693.09,1419.76 1712.48,1426.54 1731.86,1433.19 1751.25,1436.01 1770.63,1439.57 1790.02,1441.05 1809.4,1442.19 1828.79,1443.5 1848.17,1444.09 1867.56,1444.52 1886.94,1445.15 1906.33,1445.32 1925.71,1445.49 1945.1,1445.49 1964.48,1445.54 1983.87,1445.66 2003.25,1445.63 2022.63,1445.69 2042.02,1445.72 2061.4,1445.69 2080.79,1445.72 2100.17,1445.72 2119.56,1445.72 2138.94,1445.72 2158.33,1445.72 2177.71,1445.72 2197.1,1445.72 2216.48,1445.72 2235.87,1445.72 2255.25,1445.72 2274.64,1445.72 2294.02,1445.72 \"/>\n",
       "<polyline clip-path=\"url(#clip992)\" style=\"stroke:#e26f46; stroke-linecap:round; stroke-linejoin:round; stroke-width:4; stroke-opacity:1; fill:none\" points=\"336.167,1445.72 355.551,1445.72 374.936,1445.72 394.321,1445.72 413.705,1445.72 433.09,1445.72 452.475,1445.72 471.859,1445.72 491.244,1445.72 510.629,1445.72 530.013,1445.72 549.398,1445.72 568.783,1445.63 588.168,1445.54 607.552,1444.61 626.937,1443.44 646.322,1441.11 665.706,1437.83 685.091,1432.82 704.476,1426.05 723.86,1415.98 743.245,1401.86 762.63,1390.17 782.014,1373.21 801.399,1352.66 820.784,1337.15 840.168,1317.03 859.553,1300.04 878.938,1272.98 898.323,1255.88 917.707,1233.76 937.092,1206.33 956.477,1174.6 975.861,1137.95 995.246,1099.7 1014.63,1060.86 1034.02,1002.26 1053.4,933.906 1072.78,868.938 1092.17,797.794 1111.55,709.831 1130.94,636.638 1150.32,535.301 1169.71,441.391 1189.09,367.8 1208.48,294.009 1227.86,222.125 1247.25,179.638 1266.63,144.721 1286.02,133.309 1305.4,157.214 1324.79,204.681 1344.17,237.749 1363.56,304.595 1382.94,382.057 1402.32,453.827 1421.71,559.632 1441.09,647.31 1460.48,743.411 1479.86,839.968 1499.25,933.081 1518.63,1007.18 1538.02,1083.14 1557.4,1139.71 1576.79,1202.26 1596.17,1253.43 1615.56,1289.09 1634.94,1322.78 1654.33,1348.19 1673.71,1370.87 1693.09,1390.11 1712.48,1404.34 1731.86,1414.87 1751.25,1423.01 1770.63,1430.12 1790.02,1433.59 1809.4,1437.75 1828.79,1440.19 1848.17,1441.99 1867.56,1443.72 1886.94,1444.26 1906.33,1445.03 1925.71,1445.32 1945.1,1445.32 1964.48,1445.4 1983.87,1445.49 2003.25,1445.6 2022.63,1445.69 2042.02,1445.72 2061.4,1445.72 2080.79,1445.72 2100.17,1445.72 2119.56,1445.72 2138.94,1445.72 2158.33,1445.72 2177.71,1445.72 2197.1,1445.72 2216.48,1445.72 2235.87,1445.72 2255.25,1445.72 2274.64,1445.72 2294.02,1445.72 \"/>\n",
       "<polyline clip-path=\"url(#clip992)\" style=\"stroke:#3da44d; stroke-linecap:round; stroke-linejoin:round; stroke-width:4; stroke-opacity:1; fill:none\" points=\"336.167,1445.72 355.551,1445.72 374.936,1445.72 394.321,1445.72 413.705,1445.72 433.09,1445.72 452.475,1445.72 471.859,1445.72 491.244,1445.72 510.629,1445.69 530.013,1445.72 549.398,1445.72 568.783,1445.6 588.168,1445.57 607.552,1445.35 626.937,1445.03 646.322,1444.32 665.706,1443.35 685.091,1441.73 704.476,1438.63 723.86,1434.47 743.245,1427.87 762.63,1422.07 782.014,1416.75 801.399,1408.64 820.784,1399.02 840.168,1388.37 859.553,1375.37 878.938,1362.51 898.323,1348.28 917.707,1330.29 937.092,1312.34 956.477,1293.13 975.861,1262.39 995.246,1231.34 1014.63,1189.06 1034.02,1145.49 1053.4,1092.9 1072.78,1035.73 1092.17,961.254 1111.55,895.119 1130.94,792.785 1150.32,708.835 1169.71,602.66 1189.09,518.682 1208.48,409.518 1227.86,325.768 1247.25,242.159 1266.63,174.373 1286.02,133.878 1305.4,108.21 1324.79,94.4077 1344.17,118.227 1363.56,144.948 1382.94,191.704 1402.32,265.153 1421.71,350.156 1441.09,442.358 1460.48,540.082 1479.86,638.26 1499.25,723.092 1518.63,820.104 1538.02,909.091 1557.4,991.305 1576.79,1064.75 1596.17,1136.41 1615.56,1195.4 1634.94,1245.66 1654.33,1280.6 1673.71,1322.49 1693.09,1349.24 1712.48,1372.95 1731.86,1390.76 1751.25,1405.36 1770.63,1412.85 1790.02,1423.15 1809.4,1428.07 1828.79,1433.68 1848.17,1437.06 1867.56,1439.48 1886.94,1441.13 1906.33,1442.16 1925.71,1443.87 1945.1,1444.26 1964.48,1444.63 1983.87,1444.95 2003.25,1445.37 2022.63,1445.43 2042.02,1445.49 2061.4,1445.49 2080.79,1445.6 2100.17,1445.66 2119.56,1445.72 2138.94,1445.72 2158.33,1445.72 2177.71,1445.72 2197.1,1445.72 2216.48,1445.72 2235.87,1445.72 2255.25,1445.72 2274.64,1445.72 2294.02,1445.72 \"/>\n",
       "<polyline clip-path=\"url(#clip992)\" style=\"stroke:#c271d2; stroke-linecap:round; stroke-linejoin:round; stroke-width:4; stroke-opacity:1; fill:none\" points=\"336.167,1445.72 355.551,1445.72 374.936,1445.72 394.321,1445.72 413.705,1445.72 433.09,1445.72 452.475,1445.72 471.859,1445.72 491.244,1445.72 510.629,1445.72 530.013,1445.72 549.398,1445.72 568.783,1445.72 588.168,1445.66 607.552,1445.72 626.937,1445.66 646.322,1445.35 665.706,1445 685.091,1444.52 704.476,1442.81 723.86,1441.45 743.245,1439.54 762.63,1436.75 782.014,1432.82 801.399,1429.69 820.784,1422.12 840.168,1418.2 859.553,1412.68 878.938,1402.46 898.323,1397.96 917.707,1386.01 937.092,1373.43 956.477,1357.98 975.861,1339.65 995.246,1312.02 1014.63,1289.14 1034.02,1253.34 1053.4,1210.54 1072.78,1156.44 1092.17,1102.4 1111.55,1034.87 1130.94,953.826 1150.32,876.308 1169.71,786.809 1189.09,682.768 1208.48,586.98 1227.86,491.789 1247.25,401.266 1266.63,306.018 1286.02,239.029 1305.4,169.593 1324.79,113.987 1344.17,96.4851 1363.56,87.9763 1382.94,114.157 1402.32,148.506 1421.71,202.262 1441.09,277.988 1460.48,350.412 1479.86,433.679 1499.25,524.06 1518.63,632.341 1538.02,731.544 1557.4,824.458 1576.79,907.384 1596.17,986.894 1615.56,1059.29 1634.94,1127.82 1654.33,1182.23 1673.71,1229.72 1693.09,1271.67 1712.48,1310.2 1731.86,1339.94 1751.25,1363.27 1770.63,1383.54 1790.02,1397.74 1809.4,1409.46 1828.79,1417.4 1848.17,1426.08 1867.56,1431.66 1886.94,1435.02 1906.33,1438.06 1925.71,1440.39 1945.1,1442.27 1964.48,1442.96 1983.87,1443.95 2003.25,1444.66 2022.63,1445.03 2042.02,1445.23 2061.4,1445.06 2080.79,1445.52 2100.17,1445.46 2119.56,1445.6 2138.94,1445.6 2158.33,1445.57 2177.71,1445.69 2197.1,1445.69 2216.48,1445.72 2235.87,1445.72 2255.25,1445.72 2274.64,1445.72 2294.02,1445.72 \"/>\n",
       "<polyline clip-path=\"url(#clip992)\" style=\"stroke:#ac8d18; stroke-linecap:round; stroke-linejoin:round; stroke-width:4; stroke-opacity:1; fill:none\" points=\"336.167,1445.72 355.551,1445.72 374.936,1445.72 394.321,1445.72 413.705,1445.72 433.09,1445.72 452.475,1445.72 471.859,1445.72 491.244,1445.72 510.629,1445.72 530.013,1445.72 549.398,1445.72 568.783,1445.72 588.168,1445.72 607.552,1445.72 626.937,1445.63 646.322,1445.52 665.706,1445.2 685.091,1444.98 704.476,1444.52 723.86,1443.64 743.245,1442.78 762.63,1441.85 782.014,1439.34 801.399,1438.4 820.784,1434.93 840.168,1432.03 859.553,1429.61 878.938,1425.17 898.323,1420.19 917.707,1411 937.092,1405.59 956.477,1394.78 975.861,1380.92 995.246,1367.6 1014.63,1346.63 1034.02,1320.05 1053.4,1291.76 1072.78,1255.48 1092.17,1212.48 1111.55,1155.85 1130.94,1098.05 1150.32,1014.95 1169.71,943.183 1189.09,843.496 1208.48,746.769 1227.86,653.314 1247.25,565.893 1266.63,468.226 1286.02,383.622 1305.4,301.351 1324.79,236.041 1344.17,182.199 1363.56,136.781 1382.94,131.26 1402.32,126.878 1421.71,141.42 1441.09,171.869 1460.48,223.69 1479.86,290.879 1499.25,373.491 1518.63,449.9 1538.02,547.139 1557.4,628.3 1576.79,728.869 1596.17,818.824 1615.56,899.842 1634.94,977.048 1654.33,1055.62 1673.71,1113.53 1693.09,1169.36 1712.48,1218.48 1731.86,1266.86 1751.25,1300.47 1770.63,1331.86 1790.02,1354.48 1809.4,1374 1828.79,1391.16 1848.17,1405.14 1867.56,1415.55 1886.94,1423.58 1906.33,1428.64 1925.71,1433.51 1945.1,1437.04 1964.48,1438.72 1983.87,1441.3 2003.25,1442.44 2022.63,1443.21 2042.02,1444.49 2061.4,1444.32 2080.79,1445.09 2100.17,1445.23 2119.56,1445.35 2138.94,1445.52 2158.33,1445.57 2177.71,1445.72 2197.1,1445.69 2216.48,1445.72 2235.87,1445.72 2255.25,1445.72 2274.64,1445.72 2294.02,1445.72 \"/>\n",
       "<path clip-path=\"url(#clip990)\" d=\"M2021.9 406.258 L2283.58 406.258 L2283.58 95.2176 L2021.9 95.2176  Z\" fill=\"#ffffff\" fill-rule=\"evenodd\" fill-opacity=\"1\"/>\n",
       "<polyline clip-path=\"url(#clip990)\" style=\"stroke:#000000; stroke-linecap:round; stroke-linejoin:round; stroke-width:4; stroke-opacity:1; fill:none\" points=\"2021.9,406.258 2283.58,406.258 2283.58,95.2176 2021.9,95.2176 2021.9,406.258 \"/>\n",
       "<polyline clip-path=\"url(#clip990)\" style=\"stroke:#009af9; stroke-linecap:round; stroke-linejoin:round; stroke-width:4; stroke-opacity:1; fill:none\" points=\"2044.96,147.058 2183.32,147.058 \"/>\n",
       "<path clip-path=\"url(#clip990)\" d=\"M2220.22 166.745 Q2218.41 171.375 2216.7 172.787 Q2214.99 174.199 2212.12 174.199 L2208.71 174.199 L2208.71 170.634 L2211.21 170.634 Q2212.97 170.634 2213.95 169.8 Q2214.92 168.967 2216.1 165.865 L2216.86 163.921 L2206.38 138.412 L2210.89 138.412 L2218.99 158.689 L2227.09 138.412 L2231.61 138.412 L2220.22 166.745 Z\" fill=\"#000000\" fill-rule=\"evenodd\" fill-opacity=\"1\" /><path clip-path=\"url(#clip990)\" d=\"M2238.9 160.402 L2246.54 160.402 L2246.54 134.037 L2238.23 135.703 L2238.23 131.444 L2246.49 129.778 L2251.17 129.778 L2251.17 160.402 L2258.81 160.402 L2258.81 164.338 L2238.9 164.338 L2238.9 160.402 Z\" fill=\"#000000\" fill-rule=\"evenodd\" fill-opacity=\"1\" /><polyline clip-path=\"url(#clip990)\" style=\"stroke:#e26f46; stroke-linecap:round; stroke-linejoin:round; stroke-width:4; stroke-opacity:1; fill:none\" points=\"2044.96,198.898 2183.32,198.898 \"/>\n",
       "<path clip-path=\"url(#clip990)\" d=\"M2220.22 218.585 Q2218.41 223.215 2216.7 224.627 Q2214.99 226.039 2212.12 226.039 L2208.71 226.039 L2208.71 222.474 L2211.21 222.474 Q2212.97 222.474 2213.95 221.64 Q2214.92 220.807 2216.1 217.705 L2216.86 215.761 L2206.38 190.252 L2210.89 190.252 L2218.99 210.529 L2227.09 190.252 L2231.61 190.252 L2220.22 218.585 Z\" fill=\"#000000\" fill-rule=\"evenodd\" fill-opacity=\"1\" /><path clip-path=\"url(#clip990)\" d=\"M2242.12 212.242 L2258.44 212.242 L2258.44 216.178 L2236.49 216.178 L2236.49 212.242 Q2239.15 209.488 2243.74 204.858 Q2248.34 200.205 2249.52 198.863 Q2251.77 196.34 2252.65 194.604 Q2253.55 192.844 2253.55 191.155 Q2253.55 188.4 2251.61 186.664 Q2249.69 184.928 2246.58 184.928 Q2244.39 184.928 2241.93 185.692 Q2239.5 186.455 2236.72 188.006 L2236.72 183.284 Q2239.55 182.15 2242 181.571 Q2244.45 180.993 2246.49 180.993 Q2251.86 180.993 2255.06 183.678 Q2258.25 186.363 2258.25 190.854 Q2258.25 192.983 2257.44 194.905 Q2256.65 196.803 2254.55 199.395 Q2253.97 200.067 2250.87 203.284 Q2247.76 206.479 2242.12 212.242 Z\" fill=\"#000000\" fill-rule=\"evenodd\" fill-opacity=\"1\" /><polyline clip-path=\"url(#clip990)\" style=\"stroke:#3da44d; stroke-linecap:round; stroke-linejoin:round; stroke-width:4; stroke-opacity:1; fill:none\" points=\"2044.96,250.738 2183.32,250.738 \"/>\n",
       "<path clip-path=\"url(#clip990)\" d=\"M2220.22 270.425 Q2218.41 275.055 2216.7 276.467 Q2214.99 277.879 2212.12 277.879 L2208.71 277.879 L2208.71 274.314 L2211.21 274.314 Q2212.97 274.314 2213.95 273.48 Q2214.92 272.647 2216.1 269.545 L2216.86 267.601 L2206.38 242.092 L2210.89 242.092 L2218.99 262.369 L2227.09 242.092 L2231.61 242.092 L2220.22 270.425 Z\" fill=\"#000000\" fill-rule=\"evenodd\" fill-opacity=\"1\" /><path clip-path=\"url(#clip990)\" d=\"M2252.26 249.383 Q2255.61 250.101 2257.49 252.369 Q2259.38 254.638 2259.38 257.971 Q2259.38 263.087 2255.87 265.888 Q2252.35 268.689 2245.87 268.689 Q2243.69 268.689 2241.38 268.249 Q2239.08 267.832 2236.63 266.976 L2236.63 262.462 Q2238.57 263.596 2240.89 264.175 Q2243.2 264.754 2245.73 264.754 Q2250.13 264.754 2252.42 263.018 Q2254.73 261.281 2254.73 257.971 Q2254.73 254.916 2252.58 253.203 Q2250.45 251.467 2246.63 251.467 L2242.6 251.467 L2242.6 247.624 L2246.82 247.624 Q2250.26 247.624 2252.09 246.258 Q2253.92 244.87 2253.92 242.277 Q2253.92 239.615 2252.02 238.203 Q2250.15 236.768 2246.63 236.768 Q2244.71 236.768 2242.51 237.184 Q2240.31 237.601 2237.67 238.481 L2237.67 234.314 Q2240.33 233.573 2242.65 233.203 Q2244.99 232.833 2247.05 232.833 Q2252.37 232.833 2255.47 235.263 Q2258.57 237.67 2258.57 241.791 Q2258.57 244.661 2256.93 246.652 Q2255.29 248.62 2252.26 249.383 Z\" fill=\"#000000\" fill-rule=\"evenodd\" fill-opacity=\"1\" /><polyline clip-path=\"url(#clip990)\" style=\"stroke:#c271d2; stroke-linecap:round; stroke-linejoin:round; stroke-width:4; stroke-opacity:1; fill:none\" points=\"2044.96,302.578 2183.32,302.578 \"/>\n",
       "<path clip-path=\"url(#clip990)\" d=\"M2220.22 322.265 Q2218.41 326.895 2216.7 328.307 Q2214.99 329.719 2212.12 329.719 L2208.71 329.719 L2208.71 326.154 L2211.21 326.154 Q2212.97 326.154 2213.95 325.32 Q2214.92 324.487 2216.1 321.385 L2216.86 319.441 L2206.38 293.932 L2210.89 293.932 L2218.99 314.209 L2227.09 293.932 L2231.61 293.932 L2220.22 322.265 Z\" fill=\"#000000\" fill-rule=\"evenodd\" fill-opacity=\"1\" /><path clip-path=\"url(#clip990)\" d=\"M2250.94 289.372 L2239.13 307.821 L2250.94 307.821 L2250.94 289.372 M2249.71 285.298 L2255.59 285.298 L2255.59 307.821 L2260.52 307.821 L2260.52 311.709 L2255.59 311.709 L2255.59 319.858 L2250.94 319.858 L2250.94 311.709 L2235.33 311.709 L2235.33 307.196 L2249.71 285.298 Z\" fill=\"#000000\" fill-rule=\"evenodd\" fill-opacity=\"1\" /><polyline clip-path=\"url(#clip990)\" style=\"stroke:#ac8d18; stroke-linecap:round; stroke-linejoin:round; stroke-width:4; stroke-opacity:1; fill:none\" points=\"2044.96,354.418 2183.32,354.418 \"/>\n",
       "<path clip-path=\"url(#clip990)\" d=\"M2220.22 374.105 Q2218.41 378.735 2216.7 380.147 Q2214.99 381.559 2212.12 381.559 L2208.71 381.559 L2208.71 377.994 L2211.21 377.994 Q2212.97 377.994 2213.95 377.16 Q2214.92 376.327 2216.1 373.225 L2216.86 371.281 L2206.38 345.772 L2210.89 345.772 L2218.99 366.049 L2227.09 345.772 L2231.61 345.772 L2220.22 374.105 Z\" fill=\"#000000\" fill-rule=\"evenodd\" fill-opacity=\"1\" /><path clip-path=\"url(#clip990)\" d=\"M2238.14 337.138 L2256.49 337.138 L2256.49 341.073 L2242.42 341.073 L2242.42 349.545 Q2243.44 349.198 2244.45 349.036 Q2245.47 348.85 2246.49 348.85 Q2252.28 348.85 2255.66 352.022 Q2259.04 355.193 2259.04 360.61 Q2259.04 366.188 2255.57 369.29 Q2252.09 372.369 2245.77 372.369 Q2243.6 372.369 2241.33 371.998 Q2239.08 371.628 2236.68 370.887 L2236.68 366.188 Q2238.76 367.323 2240.98 367.878 Q2243.2 368.434 2245.68 368.434 Q2249.69 368.434 2252.02 366.327 Q2254.36 364.221 2254.36 360.61 Q2254.36 356.999 2252.02 354.892 Q2249.69 352.786 2245.68 352.786 Q2243.81 352.786 2241.93 353.202 Q2240.08 353.619 2238.14 354.499 L2238.14 337.138 Z\" fill=\"#000000\" fill-rule=\"evenodd\" fill-opacity=\"1\" /></svg>\n"
      ]
     },
     "metadata": {},
     "output_type": "display_data"
    }
   ],
   "source": [
    "plot(data[28:32])"
   ]
  },
  {
   "cell_type": "code",
   "execution_count": 9,
   "metadata": {},
   "outputs": [
    {
     "name": "stdout",
     "output_type": "stream",
     "text": [
      "B Vector Calculated\n",
      "A Matrix Calculated\n"
     ]
    },
    {
     "ename": "LinearAlgebra.SingularException",
     "evalue": "LinearAlgebra.SingularException(32)",
     "output_type": "error",
     "traceback": [
      "LinearAlgebra.SingularException(32)\n",
      "\n",
      "Stacktrace:\n",
      "  [1] checknonsingular\n",
      "    @ /opt/software/julia/julia-1.8.5/share/julia/stdlib/v1.8/LinearAlgebra/src/factorization.jl:19 [inlined]\n",
      "  [2] checknonsingular\n",
      "    @ /opt/software/julia/julia-1.8.5/share/julia/stdlib/v1.8/LinearAlgebra/src/factorization.jl:21 [inlined]\n",
      "  [3] #lu!#170\n",
      "    @ /opt/software/julia/julia-1.8.5/share/julia/stdlib/v1.8/LinearAlgebra/src/lu.jl:82 [inlined]\n",
      "  [4] #lu#177\n",
      "    @ /opt/software/julia/julia-1.8.5/share/julia/stdlib/v1.8/LinearAlgebra/src/lu.jl:279 [inlined]\n",
      "  [5] lu (repeats 2 times)\n",
      "    @ /opt/software/julia/julia-1.8.5/share/julia/stdlib/v1.8/LinearAlgebra/src/lu.jl:278 [inlined]\n",
      "  [6] \\(A::Matrix{Float64}, B::Vector{Float64})\n",
      "    @ LinearAlgebra /opt/software/julia/julia-1.8.5/share/julia/stdlib/v1.8/LinearAlgebra/src/generic.jl:1110\n",
      "  [7] systemsolver(HistArray::Matrix{Float64}, energyvector::Vector{Float64}, beta::SVector{32, Float64}, nsum::Vector{Float64}, NTraj::Int64, NBins::Int64)\n",
      "    @ ParallelTemperingMonteCarlo.Multihistogram ~/Documents/ParallelTemperingMonteCarlo.jl/src/multihist.jl:231\n",
      "  [8] run_multihistogram(HistArray::Matrix{Float64}, energyvector::Vector{Float64}, beta::SVector{32, Float64}, nsum::Vector{Float64}, NTraj::Int64, NBins::Int64, kB::Float64, outdir::String, NPoints::Int64)\n",
      "    @ ParallelTemperingMonteCarlo.Multihistogram ~/Documents/ParallelTemperingMonteCarlo.jl/src/multihist.jl:356\n",
      "  [9] #multihistogram#8\n",
      "    @ ~/Documents/ParallelTemperingMonteCarlo.jl/src/multihist.jl:402 [inlined]\n",
      " [10] multihistogram(Output::Output{Float64}, Tvec::TempGrid{32, Float64})\n",
      "    @ ParallelTemperingMonteCarlo.Multihistogram ~/Documents/ParallelTemperingMonteCarlo.jl/src/multihist.jl:400\n",
      " [11] top-level scope\n",
      "    @ ~/Documents/ParallelTemperingMonteCarlo.jl/scripts/benchmarking.ipynb:1"
     ]
    }
   ],
   "source": [
    "multihistogram(results,temp)"
   ]
  },
  {
   "cell_type": "code",
   "execution_count": null,
   "metadata": {},
   "outputs": [],
   "source": []
  }
 ],
 "metadata": {
  "kernelspec": {
   "display_name": "Julia 1.8.5",
   "language": "julia",
   "name": "julia-1.8"
  },
  "language_info": {
   "file_extension": ".jl",
   "mimetype": "application/julia",
   "name": "julia",
   "version": "1.8.5"
  },
  "orig_nbformat": 4
 },
 "nbformat": 4,
 "nbformat_minor": 2
}
