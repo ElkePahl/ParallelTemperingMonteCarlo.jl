{
 "cells": [
  {
   "cell_type": "code",
   "execution_count": 1,
   "metadata": {},
   "outputs": [],
   "source": [
    "using ParallelTemperingMonteCarlo\n",
    "# using Pkg;Pkg.add(\"BenchmarkTools\")\n",
    "using BenchmarkTools\n",
    "using Random,StaticArrays"
   ]
  },
  {
   "attachments": {},
   "cell_type": "markdown",
   "metadata": {},
   "source": [
    "# Equilibration\n",
    "\n",
    "The purpose of this notebook is to write functions aimed at equilibrating the ptmc run. It must iterate over every trajectory for, by default 20\\% of the total cycles run with _no_ sampling, other than testing the $\\geq$ condition to update the min/max energies"
   ]
  },
  {
   "cell_type": "code",
   "execution_count": 27,
   "metadata": {},
   "outputs": [
    {
     "data": {
      "text/plain": [
       "Output{Float64}(100, 0.0, 0.0, Float64[], Float64[], Float64[], Vector{Float64}[], Vector{Float64}[], Float64[], Float64[], Float64[], Float64[])"
      ]
     },
     "metadata": {},
     "output_type": "display_data"
    }
   ],
   "source": [
    "Random.seed!(1234)\n",
    "\n",
    "# number of atoms\n",
    "n_atoms = 13\n",
    "\n",
    "# temperature grid\n",
    "ti = 5.\n",
    "tf = 16.\n",
    "n_traj = 32\n",
    "\n",
    "temp = TempGrid{n_traj}(ti,tf) \n",
    "\n",
    "# MC simulation details\n",
    "\n",
    "mc_cycles = 1000000 #default 20% equilibration cycles on top\n",
    "\n",
    "mc_sample = 1  #sample every mc_sample MC cycles\n",
    "\n",
    "#move_atom=AtomMove(n_atoms) #move strategy (here only atom moves, n_atoms per MC cycle)\n",
    "displ_atom = 0.1 # Angstrom\n",
    "n_adjust = 100\n",
    "\n",
    "max_displ_atom = [0.1*sqrt(displ_atom*temp.t_grid[i]) for i in 1:n_traj]\n",
    "\n",
    "mc_params = MCParams(mc_cycles, n_traj, n_atoms, mc_sample = mc_sample, n_adjust = n_adjust)\n",
    "\n",
    "#moves - allowed at present: atom, volume and rotation moves (volume,rotation not yet implemented)\n",
    "move_strat = MoveStrategy(atom_moves = n_atoms)  \n",
    "\n",
    "#ensemble\n",
    "ensemble = NVT(n_atoms)\n",
    "\n",
    "#ELJpotential for neon\n",
    "#c1=[-10.5097942564988, 0., 989.725135614556, 0., -101383.865938807, 0., 3918846.12841668, 0., -56234083.4334278, 0., 288738837.441765]\n",
    "#elj_ne1 = ELJPotential{11}(c1)\n",
    "\n",
    "c=[-10.5097942564988, 989.725135614556, -101383.865938807, 3918846.12841668, -56234083.4334278, 288738837.441765]\n",
    "pot = ELJPotentialEven{6}(c)\n",
    "\n",
    "#starting configurations\n",
    "#icosahedral ground state of Ne13 (from Cambridge cluster database) in Angstrom\n",
    "pos_ne13 = [[2.825384495892464, 0.928562467914040, 0.505520149314310],\n",
    "[2.023342172678102,\t-2.136126268595355, 0.666071287554958],\n",
    "[2.033761811732818,\t-0.643989413759464, -2.133000349161121],\n",
    "[0.979777205108572,\t2.312002562803556, -1.671909307631893],\n",
    "[0.962914279874254,\t-0.102326586625353, 2.857083360096907],\n",
    "[0.317957619634043,\t2.646768968413408, 1.412132053672896],\n",
    "[-2.825388342924982, -0.928563755928189, -0.505520471387560],\n",
    "[-0.317955944853142, -2.646769840660271, -1.412131825293682],\n",
    "[-0.979776174195320, -2.312003751825495, 1.671909138648006],\n",
    "[-0.962916072888105, 0.102326392265998,\t-2.857083272537599],\n",
    "[-2.023340541398004, 2.136128558801072,\t-0.666071089291685],\n",
    "[-2.033762834001679, 0.643989905095452, 2.132999911364582],\n",
    "[0.000002325340981,\t0.000000762100600, 0.000000414930733]]\n",
    "\n",
    "#convert to Bohr\n",
    "AtoBohr = 1.8897259886\n",
    "pos_ne13 = pos_ne13 * AtoBohr\n",
    "\n",
    "length(pos_ne13) == n_atoms || error(\"number of atoms and positions not the same - check starting config\")\n",
    "\n",
    "#boundary conditions \n",
    "bc_ne13 = SphericalBC(radius=5.32*AtoBohr)   #5.32 Angstrom\n",
    "\n",
    "#starting configuration\n",
    "start_config = Config(pos_ne13, bc_ne13)\n",
    "\n",
    "#histogram information\n",
    "n_bin = 100\n",
    "#en_min = -0.006    #might want to update after equilibration run if generated on the fly\n",
    "#en_max = -0.001    #otherwise will be determined after run as min/max of sampled energies (ham vector)\n",
    "\n",
    "#construct array of MCState (for each temperature)\n",
    "mc_states = [MCState(temp.t_grid[i], temp.beta_grid[i], start_config, pot) for i in 1:n_traj]\n",
    "\n",
    "#results = Output(n_bin, max_displ_vec)\n",
    "results = Output{Float64}(n_bin; en_min = mc_states[1].en_tot)\n"
   ]
  },
  {
   "attachments": {},
   "cell_type": "markdown",
   "metadata": {},
   "source": [
    "first, the $\\geq$ condition: test whether it's faster to unpack mc_states or not. "
   ]
  },
  {
   "cell_type": "code",
   "execution_count": 3,
   "metadata": {},
   "outputs": [
    {
     "data": {
      "text/plain": [
       "test_max (generic function with 1 method)"
      ]
     },
     "metadata": {},
     "output_type": "display_data"
    }
   ],
   "source": [
    "function testmin(new_en,en_min)\n",
    "    if new_en < en_min\n",
    "        en_min = new_en\n",
    "    end\n",
    "    return en_min\n",
    "end\n",
    "\n",
    "function test_min(new_en,en_min)\n",
    "    return ifelse(new_en<en_min,new_en,en_min)\n",
    "end\n",
    "function test_max(new_en,en_max)\n",
    "    return ifelse(new_en>en_max,new_en,en_max)\n",
    "end"
   ]
  },
  {
   "cell_type": "code",
   "execution_count": 4,
   "metadata": {},
   "outputs": [
    {
     "data": {
      "text/plain": [
       "BenchmarkTools.Trial: 10000 samples with 1000 evaluations.\n",
       " Range \u001b[90m(\u001b[39m\u001b[36m\u001b[1mmin\u001b[22m\u001b[39m … \u001b[35mmax\u001b[39m\u001b[90m):  \u001b[39m\u001b[36m\u001b[1m2.511 ns\u001b[22m\u001b[39m … \u001b[35m4.640 ns\u001b[39m  \u001b[90m┊\u001b[39m GC \u001b[90m(\u001b[39mmin … max\u001b[90m): \u001b[39m0.00% … 0.00%\n",
       " Time  \u001b[90m(\u001b[39m\u001b[34m\u001b[1mmedian\u001b[22m\u001b[39m\u001b[90m):     \u001b[39m\u001b[34m\u001b[1m2.523 ns             \u001b[22m\u001b[39m\u001b[90m┊\u001b[39m GC \u001b[90m(\u001b[39mmedian\u001b[90m):    \u001b[39m0.00%\n",
       " Time  \u001b[90m(\u001b[39m\u001b[32m\u001b[1mmean\u001b[22m\u001b[39m ± \u001b[32mσ\u001b[39m\u001b[90m):   \u001b[39m\u001b[32m\u001b[1m2.542 ns\u001b[22m\u001b[39m ± \u001b[32m0.085 ns\u001b[39m  \u001b[90m┊\u001b[39m GC \u001b[90m(\u001b[39mmean ± σ\u001b[90m):  \u001b[39m0.00% ± 0.00%\n",
       "\n",
       "  \u001b[39m▂\u001b[39m▇\u001b[39m▇\u001b[39m█\u001b[39m█\u001b[34m▆\u001b[39m\u001b[39m▄\u001b[39m \u001b[39m \u001b[39m▂\u001b[39m▂\u001b[39m▁\u001b[32m▁\u001b[39m\u001b[39m▁\u001b[39m \u001b[39m \u001b[39m \u001b[39m \u001b[39m \u001b[39m \u001b[39m \u001b[39m▃\u001b[39m▄\u001b[39m▅\u001b[39m▅\u001b[39m▄\u001b[39m▃\u001b[39m \u001b[39m \u001b[39m \u001b[39m \u001b[39m \u001b[39m \u001b[39m \u001b[39m \u001b[39m \u001b[39m \u001b[39m \u001b[39m \u001b[39m \u001b[39m \u001b[39m \u001b[39m \u001b[39m▁\u001b[39m▁\u001b[39m \u001b[39m \u001b[39m \u001b[39m \u001b[39m \u001b[39m \u001b[39m \u001b[39m \u001b[39m \u001b[39m \u001b[39m \u001b[39m \u001b[39m \u001b[39m▂\n",
       "  \u001b[39m█\u001b[39m█\u001b[39m█\u001b[39m█\u001b[39m█\u001b[34m█\u001b[39m\u001b[39m█\u001b[39m█\u001b[39m█\u001b[39m█\u001b[39m█\u001b[39m█\u001b[32m█\u001b[39m\u001b[39m█\u001b[39m▅\u001b[39m▆\u001b[39m▆\u001b[39m▃\u001b[39m▅\u001b[39m▄\u001b[39m▆\u001b[39m█\u001b[39m█\u001b[39m█\u001b[39m█\u001b[39m█\u001b[39m█\u001b[39m▇\u001b[39m▅\u001b[39m▇\u001b[39m▆\u001b[39m▆\u001b[39m▇\u001b[39m▇\u001b[39m▆\u001b[39m▆\u001b[39m▆\u001b[39m▅\u001b[39m▆\u001b[39m▆\u001b[39m▆\u001b[39m▆\u001b[39m▆\u001b[39m█\u001b[39m█\u001b[39m▇\u001b[39m█\u001b[39m▆\u001b[39m▅\u001b[39m▄\u001b[39m▆\u001b[39m▅\u001b[39m▆\u001b[39m▇\u001b[39m▆\u001b[39m▇\u001b[39m▆\u001b[39m \u001b[39m█\n",
       "  2.51 ns\u001b[90m     \u001b[39m\u001b[90mHistogram: \u001b[39m\u001b[90m\u001b[1mlog(\u001b[22m\u001b[39m\u001b[90mfrequency\u001b[39m\u001b[90m\u001b[1m)\u001b[22m\u001b[39m\u001b[90m by time\u001b[39m     2.66 ns \u001b[0m\u001b[1m<\u001b[22m\n",
       "\n",
       " Memory estimate\u001b[90m: \u001b[39m\u001b[33m0 bytes\u001b[39m, allocs estimate\u001b[90m: \u001b[39m\u001b[33m0\u001b[39m."
      ]
     },
     "metadata": {},
     "output_type": "display_data"
    }
   ],
   "source": [
    "@benchmark testmin($rand(),$rand())"
   ]
  },
  {
   "cell_type": "code",
   "execution_count": 5,
   "metadata": {},
   "outputs": [
    {
     "data": {
      "text/plain": [
       "BenchmarkTools.Trial: 10000 samples with 1000 evaluations.\n",
       " Range \u001b[90m(\u001b[39m\u001b[36m\u001b[1mmin\u001b[22m\u001b[39m … \u001b[35mmax\u001b[39m\u001b[90m):  \u001b[39m\u001b[36m\u001b[1m2.460 ns\u001b[22m\u001b[39m … \u001b[35m4.802 ns\u001b[39m  \u001b[90m┊\u001b[39m GC \u001b[90m(\u001b[39mmin … max\u001b[90m): \u001b[39m0.00% … 0.00%\n",
       " Time  \u001b[90m(\u001b[39m\u001b[34m\u001b[1mmedian\u001b[22m\u001b[39m\u001b[90m):     \u001b[39m\u001b[34m\u001b[1m2.517 ns             \u001b[22m\u001b[39m\u001b[90m┊\u001b[39m GC \u001b[90m(\u001b[39mmedian\u001b[90m):    \u001b[39m0.00%\n",
       " Time  \u001b[90m(\u001b[39m\u001b[32m\u001b[1mmean\u001b[22m\u001b[39m ± \u001b[32mσ\u001b[39m\u001b[90m):   \u001b[39m\u001b[32m\u001b[1m2.518 ns\u001b[22m\u001b[39m ± \u001b[32m0.100 ns\u001b[39m  \u001b[90m┊\u001b[39m GC \u001b[90m(\u001b[39mmean ± σ\u001b[90m):  \u001b[39m0.00% ± 0.00%\n",
       "\n",
       "  \u001b[39m \u001b[39m▂\u001b[39m▆\u001b[39m█\u001b[39m▆\u001b[39m \u001b[39m \u001b[39m \u001b[39m \u001b[39m \u001b[39m \u001b[39m \u001b[39m \u001b[39m \u001b[39m \u001b[39m \u001b[39m \u001b[39m \u001b[39m \u001b[34m \u001b[39m\u001b[32m▃\u001b[39m\u001b[39m▃\u001b[39m \u001b[39m \u001b[39m \u001b[39m \u001b[39m \u001b[39m \u001b[39m \u001b[39m \u001b[39m \u001b[39m \u001b[39m \u001b[39m \u001b[39m \u001b[39m \u001b[39m \u001b[39m \u001b[39m \u001b[39m \u001b[39m \u001b[39m \u001b[39m \u001b[39m \u001b[39m \u001b[39m \u001b[39m \u001b[39m \u001b[39m \u001b[39m \u001b[39m \u001b[39m \u001b[39m \u001b[39m \u001b[39m \u001b[39m \u001b[39m \u001b[39m \u001b[39m \n",
       "  \u001b[39m▂\u001b[39m█\u001b[39m█\u001b[39m█\u001b[39m█\u001b[39m▆\u001b[39m▂\u001b[39m▁\u001b[39m▁\u001b[39m▁\u001b[39m▁\u001b[39m▁\u001b[39m▁\u001b[39m▁\u001b[39m▁\u001b[39m▁\u001b[39m▁\u001b[39m▂\u001b[39m▅\u001b[34m▇\u001b[39m\u001b[32m█\u001b[39m\u001b[39m█\u001b[39m█\u001b[39m▃\u001b[39m▁\u001b[39m▁\u001b[39m▁\u001b[39m▁\u001b[39m▁\u001b[39m▁\u001b[39m▁\u001b[39m▁\u001b[39m▁\u001b[39m▁\u001b[39m▁\u001b[39m▁\u001b[39m▃\u001b[39m▇\u001b[39m▅\u001b[39m▇\u001b[39m▇\u001b[39m▄\u001b[39m▁\u001b[39m▁\u001b[39m▁\u001b[39m▁\u001b[39m▁\u001b[39m▁\u001b[39m▁\u001b[39m▁\u001b[39m▁\u001b[39m▁\u001b[39m▁\u001b[39m▁\u001b[39m▁\u001b[39m▁\u001b[39m▁\u001b[39m \u001b[39m▂\n",
       "  2.46 ns\u001b[90m        Histogram: frequency by time\u001b[39m       2.63 ns \u001b[0m\u001b[1m<\u001b[22m\n",
       "\n",
       " Memory estimate\u001b[90m: \u001b[39m\u001b[33m0 bytes\u001b[39m, allocs estimate\u001b[90m: \u001b[39m\u001b[33m0\u001b[39m."
      ]
     },
     "metadata": {},
     "output_type": "display_data"
    }
   ],
   "source": [
    "@benchmark test_min($rand(),$rand())"
   ]
  },
  {
   "attachments": {},
   "cell_type": "markdown",
   "metadata": {},
   "source": [
    "Use the ifelse version, it's slightly faster more often. NB the function guarantees type stability, telling the compiler what is to be returned, this is better."
   ]
  },
  {
   "cell_type": "code",
   "execution_count": 6,
   "metadata": {},
   "outputs": [
    {
     "data": {
      "text/plain": [
       "checkbounds4 (generic function with 1 method)"
      ]
     },
     "metadata": {},
     "output_type": "display_data"
    }
   ],
   "source": [
    "function check_e_bounds(energy,ebounds::Vector)\n",
    "    ebounds[1] = test_min(energy,ebounds[1])\n",
    "    ebounds[2] = test_max(energy,ebounds[2])\n",
    "    return ebounds\n",
    "end\n",
    "function checkbounds2(energy,emin,emax)\n",
    "    emin = test_min(energy,emin)\n",
    "    emax = test_max(energy,emax)\n",
    "    return emin,emax\n",
    "end\n",
    "function checkbounds3(energy,ebounds)\n",
    "    if energy<ebounds[1]\n",
    "        ebounds[1]=energy\n",
    "    elseif energy>ebounds[2]\n",
    "        ebounds[2] = energy\n",
    "    else\n",
    "    end\n",
    "    return ebounds\n",
    "end\n",
    "function checkbounds4(energy,ebounds)\n",
    "    ebounds[1],ebounds[2] = test_min(energy,ebounds[1]),test_max(energy,ebounds[2])\n",
    "    return ebounds \n",
    "end"
   ]
  },
  {
   "cell_type": "code",
   "execution_count": 7,
   "metadata": {},
   "outputs": [
    {
     "data": {
      "text/plain": [
       "BenchmarkTools.Trial: 10000 samples with 960 evaluations.\n",
       " Range \u001b[90m(\u001b[39m\u001b[36m\u001b[1mmin\u001b[22m\u001b[39m … \u001b[35mmax\u001b[39m\u001b[90m):  \u001b[39m\u001b[36m\u001b[1m89.855 ns\u001b[22m\u001b[39m … \u001b[35m120.740 ns\u001b[39m  \u001b[90m┊\u001b[39m GC \u001b[90m(\u001b[39mmin … max\u001b[90m): \u001b[39m0.00% … 0.00%\n",
       " Time  \u001b[90m(\u001b[39m\u001b[34m\u001b[1mmedian\u001b[22m\u001b[39m\u001b[90m):     \u001b[39m\u001b[34m\u001b[1m92.985 ns               \u001b[22m\u001b[39m\u001b[90m┊\u001b[39m GC \u001b[90m(\u001b[39mmedian\u001b[90m):    \u001b[39m0.00%\n",
       " Time  \u001b[90m(\u001b[39m\u001b[32m\u001b[1mmean\u001b[22m\u001b[39m ± \u001b[32mσ\u001b[39m\u001b[90m):   \u001b[39m\u001b[32m\u001b[1m93.170 ns\u001b[22m\u001b[39m ± \u001b[32m  1.862 ns\u001b[39m  \u001b[90m┊\u001b[39m GC \u001b[90m(\u001b[39mmean ± σ\u001b[90m):  \u001b[39m0.00% ± 0.00%\n",
       "\n",
       "  \u001b[39m \u001b[39m \u001b[39m \u001b[39m \u001b[39m \u001b[39m \u001b[39m \u001b[39m▃\u001b[39m▅\u001b[39m▆\u001b[39m█\u001b[39m▆\u001b[39m▅\u001b[39m▃\u001b[39m▁\u001b[39m \u001b[39m \u001b[39m \u001b[39m \u001b[39m \u001b[39m▁\u001b[39m▃\u001b[39m▄\u001b[39m▆\u001b[34m▇\u001b[39m\u001b[39m▆\u001b[32m▅\u001b[39m\u001b[39m▄\u001b[39m▂\u001b[39m▁\u001b[39m \u001b[39m \u001b[39m \u001b[39m \u001b[39m \u001b[39m \u001b[39m \u001b[39m \u001b[39m \u001b[39m▁\u001b[39m \u001b[39m \u001b[39m \u001b[39m \u001b[39m \u001b[39m \u001b[39m \u001b[39m \u001b[39m \u001b[39m \u001b[39m \u001b[39m \u001b[39m \u001b[39m \u001b[39m \u001b[39m \u001b[39m \u001b[39m \u001b[39m \u001b[39m \u001b[39m \u001b[39m \n",
       "  \u001b[39m▁\u001b[39m▁\u001b[39m▂\u001b[39m▂\u001b[39m▄\u001b[39m▆\u001b[39m█\u001b[39m█\u001b[39m█\u001b[39m█\u001b[39m█\u001b[39m█\u001b[39m█\u001b[39m█\u001b[39m█\u001b[39m█\u001b[39m▇\u001b[39m█\u001b[39m█\u001b[39m█\u001b[39m█\u001b[39m█\u001b[39m█\u001b[39m█\u001b[34m█\u001b[39m\u001b[39m█\u001b[32m█\u001b[39m\u001b[39m█\u001b[39m█\u001b[39m█\u001b[39m█\u001b[39m▇\u001b[39m▇\u001b[39m▆\u001b[39m▆\u001b[39m▇\u001b[39m▇\u001b[39m▇\u001b[39m█\u001b[39m█\u001b[39m▇\u001b[39m█\u001b[39m▇\u001b[39m▆\u001b[39m▅\u001b[39m▅\u001b[39m▄\u001b[39m▄\u001b[39m▄\u001b[39m▄\u001b[39m▄\u001b[39m▃\u001b[39m▃\u001b[39m▃\u001b[39m▃\u001b[39m▃\u001b[39m▂\u001b[39m▂\u001b[39m▂\u001b[39m▂\u001b[39m \u001b[39m▅\n",
       "  89.9 ns\u001b[90m         Histogram: frequency by time\u001b[39m         97.6 ns \u001b[0m\u001b[1m<\u001b[22m\n",
       "\n",
       " Memory estimate\u001b[90m: \u001b[39m\u001b[33m0 bytes\u001b[39m, allocs estimate\u001b[90m: \u001b[39m\u001b[33m0\u001b[39m."
      ]
     },
     "metadata": {},
     "output_type": "display_data"
    }
   ],
   "source": [
    "ebounds = [-1.,1.]\n",
    "energy = 0.6\n",
    "Random.seed!(1234)\n",
    "ebounds = check_e_bounds(energy,ebounds)\n",
    "@benchmark check_e_bounds($rand(-1.5:1.5),$ebounds)"
   ]
  },
  {
   "cell_type": "code",
   "execution_count": 8,
   "metadata": {},
   "outputs": [
    {
     "data": {
      "text/plain": [
       "BenchmarkTools.Trial: 10000 samples with 955 evaluations.\n",
       " Range \u001b[90m(\u001b[39m\u001b[36m\u001b[1mmin\u001b[22m\u001b[39m … \u001b[35mmax\u001b[39m\u001b[90m):  \u001b[39m\u001b[36m\u001b[1m91.133 ns\u001b[22m\u001b[39m … \u001b[35m106.255 ns\u001b[39m  \u001b[90m┊\u001b[39m GC \u001b[90m(\u001b[39mmin … max\u001b[90m): \u001b[39m0.00% … 0.00%\n",
       " Time  \u001b[90m(\u001b[39m\u001b[34m\u001b[1mmedian\u001b[22m\u001b[39m\u001b[90m):     \u001b[39m\u001b[34m\u001b[1m94.791 ns               \u001b[22m\u001b[39m\u001b[90m┊\u001b[39m GC \u001b[90m(\u001b[39mmedian\u001b[90m):    \u001b[39m0.00%\n",
       " Time  \u001b[90m(\u001b[39m\u001b[32m\u001b[1mmean\u001b[22m\u001b[39m ± \u001b[32mσ\u001b[39m\u001b[90m):   \u001b[39m\u001b[32m\u001b[1m94.972 ns\u001b[22m\u001b[39m ± \u001b[32m  1.816 ns\u001b[39m  \u001b[90m┊\u001b[39m GC \u001b[90m(\u001b[39mmean ± σ\u001b[90m):  \u001b[39m0.00% ± 0.00%\n",
       "\n",
       "  \u001b[39m \u001b[39m \u001b[39m \u001b[39m \u001b[39m \u001b[39m \u001b[39m \u001b[39m \u001b[39m \u001b[39m▁\u001b[39m▄\u001b[39m▃\u001b[39m▃\u001b[39m▁\u001b[39m \u001b[39m \u001b[39m \u001b[39m \u001b[39m \u001b[39m \u001b[39m \u001b[39m▁\u001b[39m▂\u001b[39m▄\u001b[39m█\u001b[39m▆\u001b[34m▆\u001b[39m\u001b[39m▄\u001b[32m▂\u001b[39m\u001b[39m▁\u001b[39m \u001b[39m \u001b[39m \u001b[39m \u001b[39m \u001b[39m \u001b[39m \u001b[39m \u001b[39m▂\u001b[39m▂\u001b[39m▂\u001b[39m▁\u001b[39m \u001b[39m \u001b[39m \u001b[39m \u001b[39m \u001b[39m \u001b[39m \u001b[39m \u001b[39m \u001b[39m \u001b[39m \u001b[39m \u001b[39m \u001b[39m \u001b[39m \u001b[39m \u001b[39m \u001b[39m \u001b[39m \u001b[39m \n",
       "  \u001b[39m▁\u001b[39m▁\u001b[39m▁\u001b[39m▂\u001b[39m▂\u001b[39m▂\u001b[39m▄\u001b[39m▅\u001b[39m▇\u001b[39m█\u001b[39m█\u001b[39m█\u001b[39m█\u001b[39m█\u001b[39m█\u001b[39m▇\u001b[39m▆\u001b[39m▆\u001b[39m▅\u001b[39m▆\u001b[39m█\u001b[39m█\u001b[39m█\u001b[39m█\u001b[39m█\u001b[39m█\u001b[34m█\u001b[39m\u001b[39m█\u001b[32m█\u001b[39m\u001b[39m█\u001b[39m▇\u001b[39m▇\u001b[39m▆\u001b[39m▆\u001b[39m▆\u001b[39m▆\u001b[39m▇\u001b[39m█\u001b[39m█\u001b[39m█\u001b[39m█\u001b[39m█\u001b[39m█\u001b[39m▆\u001b[39m▆\u001b[39m▅\u001b[39m▅\u001b[39m▃\u001b[39m▄\u001b[39m▃\u001b[39m▃\u001b[39m▃\u001b[39m▂\u001b[39m▃\u001b[39m▂\u001b[39m▂\u001b[39m▂\u001b[39m▂\u001b[39m▂\u001b[39m▂\u001b[39m \u001b[39m▄\n",
       "  91.1 ns\u001b[90m         Histogram: frequency by time\u001b[39m         99.5 ns \u001b[0m\u001b[1m<\u001b[22m\n",
       "\n",
       " Memory estimate\u001b[90m: \u001b[39m\u001b[33m0 bytes\u001b[39m, allocs estimate\u001b[90m: \u001b[39m\u001b[33m0\u001b[39m."
      ]
     },
     "metadata": {},
     "output_type": "display_data"
    }
   ],
   "source": [
    "ebounds = [-1.,1.]\n",
    "Random.seed!(1234)\n",
    "@benchmark checkbounds2($rand(-1.5:1.5),$ebounds[1],$ebounds[2])"
   ]
  },
  {
   "cell_type": "code",
   "execution_count": 9,
   "metadata": {},
   "outputs": [
    {
     "data": {
      "text/plain": [
       "BenchmarkTools.Trial: 10000 samples with 956 evaluations.\n",
       " Range \u001b[90m(\u001b[39m\u001b[36m\u001b[1mmin\u001b[22m\u001b[39m … \u001b[35mmax\u001b[39m\u001b[90m):  \u001b[39m\u001b[36m\u001b[1m89.738 ns\u001b[22m\u001b[39m … \u001b[35m122.505 ns\u001b[39m  \u001b[90m┊\u001b[39m GC \u001b[90m(\u001b[39mmin … max\u001b[90m): \u001b[39m0.00% … 0.00%\n",
       " Time  \u001b[90m(\u001b[39m\u001b[34m\u001b[1mmedian\u001b[22m\u001b[39m\u001b[90m):     \u001b[39m\u001b[34m\u001b[1m93.431 ns               \u001b[22m\u001b[39m\u001b[90m┊\u001b[39m GC \u001b[90m(\u001b[39mmedian\u001b[90m):    \u001b[39m0.00%\n",
       " Time  \u001b[90m(\u001b[39m\u001b[32m\u001b[1mmean\u001b[22m\u001b[39m ± \u001b[32mσ\u001b[39m\u001b[90m):   \u001b[39m\u001b[32m\u001b[1m93.563 ns\u001b[22m\u001b[39m ± \u001b[32m  1.947 ns\u001b[39m  \u001b[90m┊\u001b[39m GC \u001b[90m(\u001b[39mmean ± σ\u001b[90m):  \u001b[39m0.00% ± 0.00%\n",
       "\n",
       "  \u001b[39m \u001b[39m \u001b[39m \u001b[39m \u001b[39m \u001b[39m \u001b[39m▁\u001b[39m▂\u001b[39m▄\u001b[39m▅\u001b[39m▂\u001b[39m▃\u001b[39m▁\u001b[39m \u001b[39m \u001b[39m \u001b[39m \u001b[39m▁\u001b[39m▃\u001b[39m▂\u001b[39m▅\u001b[39m▆\u001b[39m█\u001b[39m▇\u001b[39m▅\u001b[39m▄\u001b[39m▃\u001b[34m \u001b[39m\u001b[32m \u001b[39m\u001b[39m▁\u001b[39m \u001b[39m▂\u001b[39m▃\u001b[39m▄\u001b[39m▅\u001b[39m▅\u001b[39m▆\u001b[39m▆\u001b[39m▇\u001b[39m▄\u001b[39m▂\u001b[39m \u001b[39m \u001b[39m \u001b[39m \u001b[39m \u001b[39m \u001b[39m \u001b[39m \u001b[39m \u001b[39m \u001b[39m \u001b[39m \u001b[39m \u001b[39m \u001b[39m \u001b[39m \u001b[39m \u001b[39m \u001b[39m \u001b[39m \u001b[39m \n",
       "  \u001b[39m▁\u001b[39m▂\u001b[39m▃\u001b[39m▃\u001b[39m▄\u001b[39m█\u001b[39m█\u001b[39m█\u001b[39m█\u001b[39m█\u001b[39m█\u001b[39m█\u001b[39m█\u001b[39m█\u001b[39m█\u001b[39m▇\u001b[39m█\u001b[39m█\u001b[39m█\u001b[39m█\u001b[39m█\u001b[39m█\u001b[39m█\u001b[39m█\u001b[39m█\u001b[39m█\u001b[39m█\u001b[34m█\u001b[39m\u001b[32m█\u001b[39m\u001b[39m█\u001b[39m█\u001b[39m█\u001b[39m█\u001b[39m█\u001b[39m█\u001b[39m█\u001b[39m█\u001b[39m█\u001b[39m█\u001b[39m█\u001b[39m█\u001b[39m█\u001b[39m█\u001b[39m█\u001b[39m▇\u001b[39m▇\u001b[39m▇\u001b[39m▆\u001b[39m▅\u001b[39m▄\u001b[39m▄\u001b[39m▄\u001b[39m▃\u001b[39m▃\u001b[39m▃\u001b[39m▂\u001b[39m▂\u001b[39m▂\u001b[39m▂\u001b[39m▂\u001b[39m \u001b[39m▅\n",
       "  89.7 ns\u001b[90m         Histogram: frequency by time\u001b[39m           98 ns \u001b[0m\u001b[1m<\u001b[22m\n",
       "\n",
       " Memory estimate\u001b[90m: \u001b[39m\u001b[33m0 bytes\u001b[39m, allocs estimate\u001b[90m: \u001b[39m\u001b[33m0\u001b[39m."
      ]
     },
     "metadata": {},
     "output_type": "display_data"
    }
   ],
   "source": [
    "ebounds = [-1.,1.]\n",
    "Random.seed!(1234)\n",
    "energy = 0.6\n",
    "@benchmark checkbounds3($rand(-1.5:1.5),$ebounds)"
   ]
  },
  {
   "cell_type": "code",
   "execution_count": 10,
   "metadata": {},
   "outputs": [
    {
     "data": {
      "text/plain": [
       "BenchmarkTools.Trial: 10000 samples with 957 evaluations.\n",
       " Range \u001b[90m(\u001b[39m\u001b[36m\u001b[1mmin\u001b[22m\u001b[39m … \u001b[35mmax\u001b[39m\u001b[90m):  \u001b[39m\u001b[36m\u001b[1m89.764 ns\u001b[22m\u001b[39m … \u001b[35m107.478 ns\u001b[39m  \u001b[90m┊\u001b[39m GC \u001b[90m(\u001b[39mmin … max\u001b[90m): \u001b[39m0.00% … 0.00%\n",
       " Time  \u001b[90m(\u001b[39m\u001b[34m\u001b[1mmedian\u001b[22m\u001b[39m\u001b[90m):     \u001b[39m\u001b[34m\u001b[1m94.510 ns               \u001b[22m\u001b[39m\u001b[90m┊\u001b[39m GC \u001b[90m(\u001b[39mmedian\u001b[90m):    \u001b[39m0.00%\n",
       " Time  \u001b[90m(\u001b[39m\u001b[32m\u001b[1mmean\u001b[22m\u001b[39m ± \u001b[32mσ\u001b[39m\u001b[90m):   \u001b[39m\u001b[32m\u001b[1m94.286 ns\u001b[22m\u001b[39m ± \u001b[32m  2.076 ns\u001b[39m  \u001b[90m┊\u001b[39m GC \u001b[90m(\u001b[39mmean ± σ\u001b[90m):  \u001b[39m0.00% ± 0.00%\n",
       "\n",
       "  \u001b[39m \u001b[39m \u001b[39m \u001b[39m \u001b[39m \u001b[39m \u001b[39m \u001b[39m \u001b[39m▁\u001b[39m▁\u001b[39m \u001b[39m \u001b[39m \u001b[39m \u001b[39m \u001b[39m \u001b[39m \u001b[39m \u001b[39m▁\u001b[39m▄\u001b[39m▄\u001b[39m▅\u001b[39m▃\u001b[39m▁\u001b[39m \u001b[39m \u001b[39m \u001b[39m \u001b[39m \u001b[32m \u001b[39m\u001b[39m▃\u001b[34m▄\u001b[39m\u001b[39m▆\u001b[39m█\u001b[39m█\u001b[39m▇\u001b[39m▅\u001b[39m▃\u001b[39m▃\u001b[39m▁\u001b[39m \u001b[39m \u001b[39m \u001b[39m \u001b[39m \u001b[39m \u001b[39m \u001b[39m \u001b[39m \u001b[39m \u001b[39m \u001b[39m \u001b[39m \u001b[39m \u001b[39m \u001b[39m \u001b[39m \u001b[39m \u001b[39m \u001b[39m \u001b[39m \u001b[39m \n",
       "  \u001b[39m▁\u001b[39m▁\u001b[39m▁\u001b[39m▂\u001b[39m▄\u001b[39m▄\u001b[39m▆\u001b[39m█\u001b[39m█\u001b[39m█\u001b[39m█\u001b[39m▇\u001b[39m▇\u001b[39m▆\u001b[39m▆\u001b[39m▆\u001b[39m▆\u001b[39m█\u001b[39m█\u001b[39m█\u001b[39m█\u001b[39m█\u001b[39m█\u001b[39m█\u001b[39m█\u001b[39m█\u001b[39m▆\u001b[39m▆\u001b[39m▇\u001b[32m█\u001b[39m\u001b[39m█\u001b[34m█\u001b[39m\u001b[39m█\u001b[39m█\u001b[39m█\u001b[39m█\u001b[39m█\u001b[39m█\u001b[39m█\u001b[39m█\u001b[39m▇\u001b[39m█\u001b[39m▇\u001b[39m▇\u001b[39m▆\u001b[39m▆\u001b[39m▆\u001b[39m▆\u001b[39m▅\u001b[39m▄\u001b[39m▄\u001b[39m▅\u001b[39m▄\u001b[39m▃\u001b[39m▃\u001b[39m▂\u001b[39m▃\u001b[39m▃\u001b[39m▂\u001b[39m▂\u001b[39m \u001b[39m▅\n",
       "  89.8 ns\u001b[90m         Histogram: frequency by time\u001b[39m           99 ns \u001b[0m\u001b[1m<\u001b[22m\n",
       "\n",
       " Memory estimate\u001b[90m: \u001b[39m\u001b[33m0 bytes\u001b[39m, allocs estimate\u001b[90m: \u001b[39m\u001b[33m0\u001b[39m."
      ]
     },
     "metadata": {},
     "output_type": "display_data"
    }
   ],
   "source": [
    "ebounds = [-1.,1.]\n",
    "Random.seed!(1234)\n",
    "energy = 0.6\n",
    "ebounds = checkbounds4(energy,ebounds)\n",
    "@benchmark checkbounds4($rand(-1.5:1.5),$ebounds)"
   ]
  },
  {
   "cell_type": "code",
   "execution_count": 11,
   "metadata": {},
   "outputs": [
    {
     "data": {
      "text/plain": [
       "test_equilibration (generic function with 1 method)"
      ]
     },
     "metadata": {},
     "output_type": "display_data"
    }
   ],
   "source": [
    "import ParallelTemperingMonteCarlo.MCRun.mc_cycle!,ParallelTemperingMonteCarlo.MCRun.mc_step!,ParallelTemperingMonteCarlo.MCRun.update_max_stepsize!\n",
    "\n",
    "function test_equilibration(mc_states,move_strat,mc_params,pot,ensemble)#more booleans etc in existing code. Will include after testing\n",
    "\n",
    "\n",
    "    a,v,r = atom_move_frequency(move_strat),vol_move_frequency(move_strat),rot_move_frequency(move_strat)\n",
    "    n_steps = a + v + r\n",
    "    println(\"Total number of moves per MC cycle: \", n_steps)\n",
    "    println()\n",
    "\n",
    "    ebounds = [100. , -100.]\n",
    "\n",
    "    for i = 1:mc_params.eq_cycles\n",
    "        mc_states = mc_cycle!(mc_states,move_strat,mc_params,pot,ensemble,n_steps,a,v,r)\n",
    "        \n",
    "        for state in mc_states\n",
    "            ebounds = checkbounds3(state.en_tot,ebounds)\n",
    "        end\n",
    "\n",
    "        if rem(i, mc_params.n_adjust) == 0\n",
    "            for i_traj = 1:mc_params.n_traj\n",
    "                update_max_stepsize!(mc_states[i_traj], mc_params.n_adjust, a, v, r)\n",
    "            end \n",
    "        end\n",
    "    end\n",
    "    return mc_states,ebounds,a,v,r\n",
    "end"
   ]
  },
  {
   "cell_type": "code",
   "execution_count": 17,
   "metadata": {},
   "outputs": [
    {
     "name": "stdout",
     "output_type": "stream",
     "text": [
      "Total number of moves per MC cycle: 13\n",
      "\n"
     ]
    },
    {
     "name": "stdout",
     "output_type": "stream",
     "text": [
      "Total number of moves per MC cycle: 13\n",
      "\n"
     ]
    },
    {
     "name": "stdout",
     "output_type": "stream",
     "text": [
      "Total number of moves per MC cycle: 13\n",
      "\n"
     ]
    },
    {
     "name": "stdout",
     "output_type": "stream",
     "text": [
      "Total number of moves per MC cycle: 13\n",
      "\n"
     ]
    },
    {
     "data": {
      "text/plain": [
       "BenchmarkTools.Trial: 1 sample with 1 evaluation.\n",
       " Single result which took \u001b[34m19.070 s\u001b[39m (5.66% GC) to evaluate,\n",
       " with a memory estimate of \u001b[33m30.72 GiB\u001b[39m, over \u001b[33m179400092\u001b[39m allocations."
      ]
     },
     "metadata": {},
     "output_type": "display_data"
    }
   ],
   "source": [
    "@benchmark test_equilibration($mc_states,move_strat,mc_params,pot,ensemble)"
   ]
  },
  {
   "attachments": {},
   "cell_type": "markdown",
   "metadata": {},
   "source": [
    "NB: Tested the three \"sensible\" methods for checking the energy and the fastest overall was iteration checkbounds3, likely as a result of it not calculating max/min if the other is satisfied first. The major quesiton is which goes first? This could have a huge impact on how quick the process is: Testing time:"
   ]
  },
  {
   "cell_type": "code",
   "execution_count": 13,
   "metadata": {},
   "outputs": [
    {
     "data": {
      "text/plain": [
       "checkbounds3a (generic function with 1 method)"
      ]
     },
     "metadata": {},
     "output_type": "display_data"
    }
   ],
   "source": [
    "function checkbounds3a(energy,ebounds)\n",
    "    #if energy<ebounds[1]\n",
    "        # ebounds[1]=energy\n",
    "    if energy>ebounds[2]\n",
    "        ebounds[2] = energy\n",
    "    elseif energy<ebounds[1]\n",
    "        ebounds[1]=energy\n",
    "    else\n",
    "    end\n",
    "    return ebounds\n",
    "end"
   ]
  },
  {
   "cell_type": "code",
   "execution_count": 14,
   "metadata": {},
   "outputs": [
    {
     "data": {
      "text/plain": [
       "test_equilibration2 (generic function with 1 method)"
      ]
     },
     "metadata": {},
     "output_type": "display_data"
    }
   ],
   "source": [
    "mc_states = [MCState(temp.t_grid[i], temp.beta_grid[i], start_config, pot) for i in 1:n_traj]\n",
    "\n",
    "function test_equilibration2(mc_states,move_strat,mc_params,pot,ensemble)#more booleans etc in existing code. Will include after testing\n",
    "\n",
    "\n",
    "    a,v,r = atom_move_frequency(move_strat),vol_move_frequency(move_strat),rot_move_frequency(move_strat)\n",
    "    n_steps = a + v + r\n",
    "    println(\"Total number of moves per MC cycle: \", n_steps)\n",
    "    println()\n",
    "\n",
    "    ebounds = [100. , -100.]\n",
    "\n",
    "    for i = 1:mc_params.eq_cycles\n",
    "        mc_states = mc_cycle!(mc_states,move_strat,mc_params,pot,ensemble,n_steps,a,v,r)\n",
    "        \n",
    "        for state in mc_states\n",
    "            ebounds = checkbounds3a(state.en_tot,ebounds)\n",
    "        end\n",
    "\n",
    "        if rem(i, mc_params.n_adjust) == 0\n",
    "            for i_traj = 1:mc_params.n_traj\n",
    "                update_max_stepsize!(mc_states[i_traj], mc_params.n_adjust, a, v, r)\n",
    "            end \n",
    "        end\n",
    "    end\n",
    "    return mc_states,ebounds,a,v,r\n",
    "end"
   ]
  },
  {
   "cell_type": "code",
   "execution_count": 16,
   "metadata": {},
   "outputs": [
    {
     "name": "stdout",
     "output_type": "stream",
     "text": [
      "Total number of moves per MC cycle: 13\n",
      "\n"
     ]
    },
    {
     "name": "stdout",
     "output_type": "stream",
     "text": [
      "Total number of moves per MC cycle: 13\n",
      "\n"
     ]
    },
    {
     "name": "stdout",
     "output_type": "stream",
     "text": [
      "Total number of moves per MC cycle: 13\n",
      "\n"
     ]
    },
    {
     "name": "stdout",
     "output_type": "stream",
     "text": [
      "Total number of moves per MC cycle: 13\n",
      "\n"
     ]
    },
    {
     "data": {
      "text/plain": [
       "BenchmarkTools.Trial: 1 sample with 1 evaluation.\n",
       " Single result which took \u001b[34m19.204 s\u001b[39m (5.71% GC) to evaluate,\n",
       " with a memory estimate of \u001b[33m30.72 GiB\u001b[39m, over \u001b[33m179400093\u001b[39m allocations."
      ]
     },
     "metadata": {},
     "output_type": "display_data"
    }
   ],
   "source": [
    "@benchmark test_equilibration2($mc_states,move_strat,mc_params,pot,ensemble)"
   ]
  },
  {
   "attachments": {},
   "cell_type": "markdown",
   "metadata": {},
   "source": [
    "# Equilibration complete\n",
    "\n"
   ]
  },
  {
   "cell_type": "code",
   "execution_count": 26,
   "metadata": {},
   "outputs": [
    {
     "data": {
      "text/plain": [
       "test_equilibration (generic function with 2 methods)"
      ]
     },
     "metadata": {},
     "output_type": "display_data"
    }
   ],
   "source": [
    "function reset_counters(state)\n",
    "    state.count_atom = [0,0]\n",
    "    state.count_vol = [0,0]\n",
    "    state.count_rot = [0,0]\n",
    "    state.count_exc = [0,0]\n",
    "end\n",
    "\n",
    "function test_equilibration(mc_states,move_strat,mc_params,pot,ensemble,results)#more booleans etc in existing code. Will include after testing\n",
    "\n",
    "\n",
    "    a,v,r = atom_move_frequency(move_strat),vol_move_frequency(move_strat),rot_move_frequency(move_strat)\n",
    "    n_steps = a + v + r\n",
    "    println(\"Total number of moves per MC cycle: \", n_steps)\n",
    "    println()\n",
    "\n",
    "    ebounds = [100. , -100.]\n",
    "\n",
    "    for i = 1:mc_params.eq_cycles\n",
    "\n",
    "        mc_states = mc_cycle!(mc_states,move_strat,mc_params,pot,ensemble,n_steps,a,v,r)\n",
    "        \n",
    "        for state in mc_states\n",
    "            ebounds = checkbounds3(state.en_tot,ebounds)\n",
    "        end\n",
    "\n",
    "        if rem(i, mc_params.n_adjust) == 0\n",
    "            for state in mc_states\n",
    "                update_max_stepsize!(state,mc_params.n_adjust,a,v,r)\n",
    "            end\n",
    "        end\n",
    "        \n",
    "    end\n",
    "\n",
    "    #reset counter-variables\n",
    "    for state in mc_states\n",
    "        reset_counters(state)\n",
    "    end\n",
    "\n",
    "    delta_en_hist,delta_r2 = initialise_histograms!(mc_params,results,ebounds,mc_states[1].config.bc)\n",
    "\n",
    "    start_counter = 1\n",
    "\n",
    "    println(\"equilibration done\")\n",
    "\n",
    "    return mc_states,results,delta_en_hist,delta_r2,start_counter,a,v,r\n",
    "\n",
    "end"
   ]
  },
  {
   "cell_type": "code",
   "execution_count": 22,
   "metadata": {},
   "outputs": [
    {
     "data": {
      "text/plain": [
       "bench_test2 (generic function with 1 method)"
      ]
     },
     "metadata": {},
     "output_type": "display_data"
    }
   ],
   "source": [
    "function bench_test1(mc_states,mc_params)\n",
    "    for i_traj = 1:mc_params.n_traj\n",
    "        reset_counters(mc_states[i_traj])\n",
    "    end\n",
    "    return mc_states\n",
    "end\n",
    "function bench_test2(mc_states)\n",
    "    for state in mc_states\n",
    "        reset_counters(state)\n",
    "    end\n",
    "    return mc_states\n",
    "end\n",
    "@benchmark bench_test1(mc_states,mc_params)\n",
    "@benchmark bench_test2(mc_states)"
   ]
  },
  {
   "attachments": {},
   "cell_type": "markdown",
   "metadata": {},
   "source": [
    "It seems for state in states is better than iterating 1:mc_cycles"
   ]
  },
  {
   "cell_type": "code",
   "execution_count": 28,
   "metadata": {},
   "outputs": [
    {
     "name": "stdout",
     "output_type": "stream",
     "text": [
      "Total number of moves per MC cycle: 13\n",
      "\n"
     ]
    },
    {
     "name": "stdout",
     "output_type": "stream",
     "text": [
      "equilibration done\n"
     ]
    },
    {
     "data": {
      "text/plain": [
       "(MCState{Float64, 13, SphericalBC{Float64}}[MCState{Float64, 13, SphericalBC{Float64}}(5.0, 63154.997052619445, Config{13, SphericalBC{Float64}, Float64}(SVector{3, Float64}[[-2.253745975907271, 0.8809630451693, -4.65183579949347], [-6.539847212461429, 2.604394415463834, -0.24223396420503163], [-1.2993256601676821, 5.389861763178107, 0.2108883631524374], [-2.8515737132492776, 3.221902337542295, 5.112981980059696], [2.982321513180388, 2.768210429993844, 3.276964238930853], [-6.541008974625659, -1.194603086794014, 4.477816180891731], [-0.21208827676342543, -4.318613312121051, -2.692140981463342], [-0.0595386777784796, -1.3325351768209939, 6.748768510773379], [-5.927068338421679, -3.582706545987274, -1.015661150134257], [3.3898556624907346, 0.056561854943967455, -1.8560933770436991], [2.8779737567608557, -3.871942153282416, 2.393149292969535], [-1.4878414715811006, -0.4651854251002149, 1.0510135367557591], [-2.331770616880134, -5.543205257778424, 3.2558197463258467]], SphericalBC{Float64}(101.06969058367278)), [0.0 40.785467843885534 … 34.921215965714346 103.80704246052417; 40.785467843885534 0.0 … 36.61757150222633 96.32766883145526; … ; 34.921215965714346 36.61757150222633 … 0.0 31.359672245117206; 103.80704246052417 96.32766883145526 … 31.359672245117206 0.0], [-0.0008131640829255388, -0.0008131644969161529, -0.0008131644971061786, -0.0008131644971733437, -0.00081316449725488, -0.0008131644972232184, -0.0008131640538937092, -0.0008131645376168826, -0.0008131645377222474, -0.0008131645378597135, -0.0008131645378206358, -0.0008131645379515081, -0.0015114147533107326], -0.005154677329369453, Float64[], [0.45949729863572203, 0.1, 1.0], [0, 0], [0, 0], [0, 0], [0, 0]), MCState{Float64, 13, SphericalBC{Float64}}(5.1911689669640735, 60829.26355752399, Config{13, SphericalBC{Float64}, Float64}(SVector{3, Float64}[[0.6739090903008198, -6.299941802462809, -5.262499090667811], [4.102046179556763, -2.3057744834662848, -2.2007804625404663], [-0.14116199234695936, -5.618737416539766, 0.5579844702187452], [-5.0384711793376145, -6.277037187994503, -2.894794601365525], [1.7677424722829347, -1.147548798714982, -7.66886100187718], [-3.5139198394960154, -3.700146934047823, -8.0234757872711], [-3.7357272681563445, 3.1903462891183105, -1.1077732561147084], [0.742231077058525, 0.0787059844947659, 1.8018184217808917], [1.6972610437163014, 2.9657983618191657, -3.2305022864313404], [-4.562071400186299, -2.093035537122757, 1.690937187628487], [-7.255565135133767, -0.7472054760978352, -3.7014176754948602], [-3.4167936111715456, 2.087974320914423, -7.155164380078073], [-1.5933530419005295, -1.5774155861734356, -3.1022337351413576]], SphericalBC{Float64}(101.06969058367278)), [0.0 37.07961743269408 … 90.67316738238345 32.109477845942465; 37.07961743269408 0.0 … 100.3839003569915 33.780696977724844; … ; 90.67316738238345 100.3839003569915 … 0.0 33.186265493312085; 32.109477845942465 33.780696977724844 … 33.186265493312085 0.0], [-0.0008131640829255388, -0.0008131644969161529, -0.0008131644971061786, -0.0008131644971733437, -0.00081316449725488, -0.0008131644972232184, -0.0008131640538937092, -0.0008131645376168826, -0.0008131645377222474, -0.0008131645378597135, -0.0008131645378206358, -0.0008131645379515081, -0.0015114147533107326], -0.005520652359598108, Float64[], [0.45949729863572203, 0.1, 1.0], [0, 0], [0, 0], [0, 0], [0, 0]), MCState{Float64, 13, SphericalBC{Float64}}(5.389647048714169, 58589.17706650809, Config{13, SphericalBC{Float64}, Float64}(SVector{3, Float64}[[-1.2627640467319092, 7.740988333819173, -3.4107589845433983], [3.668287614518458, 5.893343815116941, -1.683134335483154], [-2.591876476920108, -2.0763794378945066, -1.7554269117495278], [-0.6115942624630573, -0.11156159896805329, 4.505792527508369], [-2.6087240078523792, 5.416751470042246, 6.187270666297775], [0.15272039606624302, 8.707718329411236, 2.3495630646822026], [-1.403720610744776, 3.261063760162593, 0.3776208049362771], [-5.989479872103389, 1.157595498260924, 3.082861154078108], [3.357634350893028, 4.228213105264507, 3.7548690796198567], [-5.405507884121095, 3.6863809774128122, -3.516886413487629], [-5.315416624191736, 7.469330610250213, 1.0509018860566477], [3.122109041246231, 0.08817350248846109, -0.3729301703382527], [0.5115329267861677, 2.4069942344251025, -4.948130994950312]], SphericalBC{Float64}(101.06969058367278)), [0.0 30.713747681450943 … 87.02109074472531 33.96313550098877; 30.713747681450943 0.0 … 35.71494834688778 32.77993674364165; … ; 87.02109074472531 35.71494834688778 … 0.0 33.12449982177945; 33.96313550098877 32.77993674364165 … 33.12449982177945 0.0], [-0.0008131640829255388, -0.0008131644969161529, -0.0008131644971061786, -0.0008131644971733437, -0.00081316449725488, -0.0008131644972232184, -0.0008131640538937092, -0.0008131645376168826, -0.0008131645377222474, -0.0008131645378597135, -0.0008131645378206358, -0.0008131645379515081, -0.0015114147533107326], -0.005177390416260252, Float64[], [0.45949729863572203, 0.1, 1.0], [0, 0], [0, 0], [0, 0], [0, 0]), MCState{Float64, 13, SphericalBC{Float64}}(5.5957137004349, 56431.58355985137, Config{13, SphericalBC{Float64}, Float64}(SVector{3, Float64}[[-9.546380018454656, 1.384081314433265, 0.16624457455930525], [-5.5474709960378314, 1.6023695357242032, 4.76241027077628], [-1.3217095033580475, 4.77967828403501, -3.8784710408609984], [1.7113489761192562, 0.15881122844092832, -1.664436635095954], [-5.8828322032522795, 6.188229477818724, -0.26494281169191325], [-7.042345000456746, 2.947671478154031, -4.961132581047995], [-0.9217092936089188, -1.4851252510182682, 3.545952738148413], [-2.3607149371163665, -0.27964067096666145, -6.0624362866015415], [-2.8180177715252737, -4.936902355507043, -2.52476572765274], [-6.617885746087175, -3.5710018306572295, 2.38886231574899], [-0.9340299449703297, 4.198372366638535, 2.5588174243937445], [-7.823862269965499, -2.56319942497575, -3.9785824440493958], [-4.0475969331511035, 0.6659771130417653, -0.7702100051120034]], SphericalBC{Float64}(101.06969058367278)), [0.0 37.16366222420271 … 35.727683643758226 31.629236243063946; 37.16366222420271 0.0 … 98.93887563899646 33.73634009094757; … ; 35.727683643758226 98.93887563899646 … 0.0 34.9814147146418; 31.629236243063946 33.73634009094757 … 34.9814147146418 0.0], [-0.0008131640829255388, -0.0008131644969161529, -0.0008131644971061786, -0.0008131644971733437, -0.00081316449725488, -0.0008131644972232184, -0.0008131640538937092, -0.0008131645376168826, -0.0008131645377222474, -0.0008131645378597135, -0.0008131645378206358, -0.0008131645379515081, -0.0015114147533107326], -0.005296613742396903, Float64[], [0.45949729863572203, 0.1, 1.0], [0, 0], [0, 0], [0, 0], [0, 0]), MCState{Float64, 13, SphericalBC{Float64}}(5.8096590619426705, 54353.445167143145, Config{13, SphericalBC{Float64}, Float64}(SVector{3, Float64}[[-1.9090740407448523, -0.5356413096711066, 3.4891698824976802], [1.3005342193364433, 4.450940283559045, 1.433661033002024], [-3.9768452718006553, 5.089772113171995, 4.1605140753819745], [-7.625650957108629, 0.22609975535469073, 2.6766674040939282], [1.168993973968602, -0.8151847625616468, -1.1210775150968644], [-4.266419689550387, -3.0832542764218562, -1.2943132851313899], [-6.477349941830831, 5.686281248631441, -5.01547434560549], [-3.4530268901200354, 8.085837360894663, -0.660573215683862], [-0.4358593915188465, 5.391832132808904, -4.776633961425295], [-8.489701912388785, 5.141823517010396, 0.17430338162487138], [-8.329944253228508, 0.5757041106743878, -3.104548538369986], [-3.0649878864530695, 0.2914662755476502, -6.088690019691036], [-3.591588183942248, 2.6696770295793555, -0.9560512543653273]], SphericalBC{Float64}(101.06969058367278)), [0.0 39.39269779947879 … 93.75564408218082 32.86491045360825; 39.39269779947879 0.0 … 92.94477263941167 32.816485205034084; … ; 93.75564408218082 92.94477263941167 … 0.0 32.27717495923196; 32.86491045360825 32.816485205034084 … 32.27717495923196 0.0], [-0.0008131640829255388, -0.0008131644969161529, -0.0008131644971061786, -0.0008131644971733437, -0.00081316449725488, -0.0008131644972232184, -0.0008131640538937092, -0.0008131645376168826, -0.0008131645377222474, -0.0008131645378597135, -0.0008131645378206358, -0.0008131645379515081, -0.0015114147533107326], -0.0053236006689664, Float64[], [0.45949729863572203, 0.1, 1.0], [0, 0], [0, 0], [0, 0], [0, 0]), MCState{Float64, 13, SphericalBC{Float64}}(6.0317843661996795, 52351.8358899907, Config{13, SphericalBC{Float64}, Float64}(SVector{3, Float64}[[3.3485036331945928, 6.161643152315501, 0.40783763136106843], [2.0005047707790746, 3.1183335897893603, -4.167950045308776], [-1.1575210485408045, 2.7117756454235384, 0.9252082714108754], [2.9293048832888244, 3.0282650796395445, 5.1455778009085344], [7.596582299575786, 3.909846824810752, -3.118576489995662], [8.144003750607233, 4.1273945939380745, 3.0079820996134696], [4.351864328682175, -4.877802184189257, -0.36753995756046776], [5.901070959733396, -1.4296619388939973, -4.932428095177574], [9.759147760404815, -1.2529583263183997, -0.11510037541799409], [-0.4176011589113491, -2.593258164464887, -2.443491076482452], [0.6002443746608137, -2.3554295537701204, 3.3592436274759505], [6.604502717710142, -1.8978177010620505, 4.579014974380443], [4.2300926240979315, 0.7457212719702081, 0.19622271738096164]], SphericalBC{Float64}(101.06969058367278)), [0.0 32.01666688840019 … 92.95515971240948 30.154189834703676; 32.01666688840019 0.0 … 122.86796792372257 29.64635510893713; … ; 92.95515971240948 122.86796792372257 … 0.0 31.834989562602605; 30.154189834703676 29.64635510893713 … 31.834989562602605 0.0], [-0.0008131640829255388, -0.0008131644969161529, -0.0008131644971061786, -0.0008131644971733437, -0.00081316449725488, -0.0008131644972232184, -0.0008131640538937092, -0.0008131645376168826, -0.0008131645377222474, -0.0008131645378597135, -0.0008131645378206358, -0.0008131645379515081, -0.0015114147533107326], -0.005304980794633052, Float64[], [0.5054470284992942, 0.1, 1.0], [0, 0], [0, 0], [0, 0], [0, 0]), MCState{Float64, 13, SphericalBC{Float64}}(6.262402363446968, 50423.937482242436, Config{13, SphericalBC{Float64}, Float64}(SVector{3, Float64}[[-3.0473240843821876, -6.930000943085417, -4.000730427170681], [-7.303815572518372, -3.638312888010047, -5.769806472518843], [-3.8954488272578947, 3.9890621219027924, -1.0547088456206286], [-7.0199386084052575, -4.930123855366731, -0.11592792136959917], [0.9709941101100912, 0.7189127852613931, 0.3260403884428976], [-4.220635862097587, 0.10357589968146652, 2.854521512115772], [-8.7330675419394, 0.25279435415896967, -1.5682301005606725], [0.1652056192904976, 2.5047554643504903, -5.330490241467708], [-5.691434563818449, 2.319829598610919, -6.13565660165886], [-1.078627207709024, -4.940396391710509, 1.507608055583555], [-2.118401786884138, -2.3930637170361573, -8.074846243800694], [2.200430907896202, -3.154990906641176, -3.659416433344164], [-3.3722707656528996, -1.4936317769588863, -2.5242338737747194]], SphericalBC{Float64}(101.06969058367278)), [0.0 32.082560094726354 … 41.906128476619315 31.839742128270274; 32.082560094726354 0.0 … 95.01804741559486 30.59044313020919; … ; 41.906128476619315 95.01804741559486 … 0.0 35.10375754370629; 31.839742128270274 30.59044313020919 … 35.10375754370629 0.0], [-0.0008131640829255388, -0.0008131644969161529, -0.0008131644971061786, -0.0008131644971733437, -0.00081316449725488, -0.0008131644972232184, -0.0008131640538937092, -0.0008131645376168826, -0.0008131645377222474, -0.0008131645378597135, -0.0008131645378206358, -0.0008131645379515081, -0.0015114147533107326], -0.005384842369169375, Float64[], [0.5054470284992942, 0.1, 1.0], [0, 0], [0, 0], [0, 0], [0, 0]), MCState{Float64, 13, SphericalBC{Float64}}(6.5018377615536735, 48567.03548192502, Config{13, SphericalBC{Float64}, Float64}(SVector{3, Float64}[[-4.335395971663105, 4.461425138107657, -5.080129965726641], [-0.4916554483497625, 2.8352222558451463, -9.252634909492778], [3.7903912304784075, -2.9636237950132345, -2.6239460484377077], [1.39995057573121, -2.9220028952413393, -8.400299431767756], [-4.116309602218527, -1.0872095103003825, -7.235987766481832], [1.5566289796625918, 6.358270163563575, -5.34069801959931], [-5.052124628520134, 0.05174004418024182, -1.36041108543226], [4.81420434832503, 1.8341519900478456, -6.972621786426567], [-0.3616988579388563, -0.7741459548919194, 1.4255389048525595], [3.933299597196012, 2.6629435203639322, -0.017593169296577546], [-0.06014380921197887, 1.2041624453128392, -3.9015713516165813], [-1.570491967944025, 5.040885729798905, 0.09517323589929971], [-1.2552928768442588, -4.85096804742978, -3.156494545005667]], SphericalBC{Float64}(101.06969058367278)), [0.0 34.828674530592885 … 34.76423195586469 99.9080751486091; 34.828674530592885 0.0 … 93.4103567194025 96.82359084388425; … ; 34.76423195586469 93.4103567194025 … 0.0 108.52146497447897; 99.9080751486091 96.82359084388425 … 108.52146497447897 0.0], [-0.0008131640829255388, -0.0008131644969161529, -0.0008131644971061786, -0.0008131644971733437, -0.00081316449725488, -0.0008131644972232184, -0.0008131640538937092, -0.0008131645376168826, -0.0008131645377222474, -0.0008131645378597135, -0.0008131645378206358, -0.0008131645379515081, -0.0015114147533107326], -0.005195820926659753, Float64[], [0.5054470284992942, 0.1, 1.0], [0, 0], [0, 0], [0, 0], [0, 0]), MCState{Float64, 13, SphericalBC{Float64}}(6.750427683202518, 46778.51538930763, Config{13, SphericalBC{Float64}, Float64}(SVector{3, Float64}[[1.4856001244618955, 3.873510753403342, 3.069798879868354], [-3.7667976897212707, 3.4396883701590744, 5.28285226633512], [0.9361040446092261, 3.9185278225297218, -3.436869233182961], [-1.5734139368320037, -1.4053048511808455, -4.701651017793576], [2.942642618813761, -1.6033282429559637, -0.4115800601693852], [-6.986318488027172, -1.2390441812652582, -2.5031042911071077], [0.07501353208980864, -1.687214931082911, 4.707544279239831], [-6.076012658856406, -1.5780046423973781, 2.9637359268811867], [-7.539656382546852, 3.535303229800848, 0.5115968618017637], [-4.550144416324349, 4.095012210178774, -4.506376897441373], [-2.729626285215192, 6.743483336875478, 0.6179743444382199], [-2.377944738228271, 1.1640179794593761, 0.09296073636470095], [-2.0356219719125117, -4.4079761568172815, 0.22662310842571076]], SphericalBC{Float64}(101.06969058367278)), [0.0 32.67348994999186 … 31.12989533069242 89.06567896346937; 32.67348994999186 0.0 … 34.04256234083683 90.14826119118699; … ; 31.12989533069242 34.04256234083683 … 0.0 31.182169160744504; 89.06567896346937 90.14826119118699 … 31.182169160744504 0.0], [-0.0008131640829255388, -0.0008131644969161529, -0.0008131644971061786, -0.0008131644971733437, -0.00081316449725488, -0.0008131644972232184, -0.0008131640538937092, -0.0008131645376168826, -0.0008131645377222474, -0.0008131645378597135, -0.0008131645378206358, -0.0008131645379515081, -0.0015114147533107326], -0.0052769973255089595, Float64[], [0.5054470284992942, 0.1, 1.0], [0, 0], [0, 0], [0, 0], [0, 0]), MCState{Float64, 13, SphericalBC{Float64}}(7.00852214055522, 45055.85898571212, Config{13, SphericalBC{Float64}, Float64}(SVector{3, Float64}[[4.673490821304579, -7.643805287889696, -0.21409965221274888], [2.4721999740204277, -4.75385249518279, -4.778722434192882], [0.8264745626459137, -8.849488021089693, 3.4531418613722633], [-1.4521566459270399, -4.085634986806427, 6.1375668922731], [0.05105625370729895, -3.9394362391094613, 0.4336772050025667], [-3.2440597579096027, -4.1787102226988635, -3.9974695226801056], [4.079032188007936, -4.1486893276544565, 4.913631880886422], [-0.42892782274701463, 0.8550160149686431, -2.434849313600823], [4.897936488753957, -1.7867041511881576, -0.37248420449792485], [-4.826015861845433, -6.538662498269341, 1.2648449090315939], [-0.7150210648047968, -9.020310726292315, -2.3439706534408864], [0.8622817018707593, 0.7928182110209414, 3.8381439588800124], [-4.671860185510498, -0.8872555164706557, 1.178152188229911]], SphericalBC{Float64}(101.06969058367278)), [0.0 34.03328968018347 … 102.12260929806877 134.92491544145824; 34.03328968018347 0.0 … 107.60777920212902 101.47252302604754; … ; 102.12260929806877 107.60777920212902 … 0.0 40.52493037940156; 134.92491544145824 101.47252302604754 … 40.52493037940156 0.0], [-0.0008131640829255388, -0.0008131644969161529, -0.0008131644971061786, -0.0008131644971733437, -0.00081316449725488, -0.0008131644972232184, -0.0008131640538937092, -0.0008131645376168826, -0.0008131645377222474, -0.0008131645378597135, -0.0008131645378206358, -0.0008131645379515081, -0.0015114147533107326], -0.00527399086040717, Float64[], [0.5559917313492238, 0.1, 1.0], [0, 0], [0, 0], [0, 0], [0, 0])  …  MCState{Float64, 13, SphericalBC{Float64}}(11.41467464832213, 27663.94969562393, Config{13, SphericalBC{Float64}, Float64}(SVector{3, Float64}[[0.8886877596149741, 1.7501426179158301, 0.8113005893455442], [-4.448187687311349, 3.0632422889772823, 3.481683180670151], [-0.993591439428342, 7.6510289152294035, 1.4199063159324], [-0.6231408939290719, -0.5569120090408668, 5.659829551250241], [5.764451383987767, 5.87601562951163, 0.7115742558606569], [1.940504592606937, 4.367246026694135, 6.024618388868744], [1.902918332651511, -4.098564284857091, 0.9165624143499307], [-4.014247393525361, 3.0067208951718323, -2.5440652048748023], [-4.3286734984052675, -1.8313974656546017, 0.3466184113816525], [-0.1025351780114152, -1.5132530564763407, -4.234406948967367], [5.674223233328706, -0.3014464083830667, 3.5601985963809057], [5.534318544102705, -0.18439915546907484, -2.198893481175822], [2.119682514875813, 4.505595771150404, -3.8377704386853115]], SphericalBC{Float64}(101.06969058367278)), [0.0 37.33741346619626 … 34.38560560095329 30.721731590825936; 37.33741346619626 0.0 … 142.46655682301517 98.79170384621074; … ; 34.38560560095329 142.46655682301517 … 0.0 36.34170930566641; 30.721731590825936 98.79170384621074 … 36.34170930566641 0.0], [-0.0008131640829255388, -0.0008131644969161529, -0.0008131644971061786, -0.0008131644971733437, -0.00081316449725488, -0.0008131644972232184, -0.0008131640538937092, -0.0008131645376168826, -0.0008131645377222474, -0.0008131645378597135, -0.0008131645378206358, -0.0008131645379515081, -0.0015114147533107326], -0.004830208158044637, Float64[], [0.8140274938683988, 0.1, 1.0], [0, 0], [0, 0], [0, 0], [0, 0]), MCState{Float64, 13, SphericalBC{Float64}}(11.851100960472277, 26645.20252728598, Config{13, SphericalBC{Float64}, Float64}(SVector{3, Float64}[[0.09863768931216252, 7.331403116532327, -4.008064988799078], [-4.475681919046294, 5.258630140468306, -7.031791068434088], [-5.973958252155781, 7.461572295520831, -1.1456061072690478], [-0.05161266988271529, 7.610084983005514, 2.0248170204345395], [4.2471461580759975, 2.8924919723588265, -1.990866257483835], [0.16336657130943782, 0.5094296560728635, 2.4805842019522055], [-4.03820044960512, -1.2461544888422051, -5.76643318188768], [-7.668674744660579, 2.343916243675783, -3.2207120056303347], [0.6813764821399233, 2.1355381428092945, -6.821057362231287], [-5.457915746446912, 3.2874486391533977, 2.3632134646324174], [-3.9058400418927994, -1.921454724988615, -0.33248866002223937], [1.1238362998157638, -2.339460895604289, -3.384762857781337], [-1.92853645140965, 2.9862821607395738, -1.7504988873718266]], SphericalBC{Float64}(101.06969058367278)), [0.0 34.36370709437886 … 94.96514847874889 28.08611581959398; 34.36370709437886 0.0 … 102.38640644511183 39.54356247602852; … ; 94.96514847874889 102.38640644511183 … 0.0 40.35133723959692; 28.08611581959398 39.54356247602852 … 40.35133723959692 0.0], [-0.0008131640829255388, -0.0008131644969161529, -0.0008131644971061786, -0.0008131644971733437, -0.00081316449725488, -0.0008131644972232184, -0.0008131640538937092, -0.0008131645376168826, -0.0008131645377222474, -0.0008131645378597135, -0.0008131645378206358, -0.0008131645379515081, -0.0015114147533107326], -0.004720776695376267, Float64[], [0.8140274938683988, 0.1, 1.0], [0, 0], [0, 0], [0, 0], [0, 0]), MCState{Float64, 13, SphericalBC{Float64}}(12.304213506072362, 25663.97154172075, Config{13, SphericalBC{Float64}, Float64}(SVector{3, Float64}[[0.8228725467823599, 5.446719839467874, -4.4514641170737885], [6.192143614561324, 0.7605482676402624, -1.6237094966958718], [-1.5805144358599328, -4.533438917045679, -5.400095239540442], [-0.46701130401954327, -5.746163224335071, 1.12628541929383], [-1.7849774148391968, 2.23362897433876, 4.396724619095618], [-5.130108354790089, -0.7573682900992769, -1.2404943446397343], [0.485317248652988, -0.23192410856940038, -1.2604777041645787], [-3.0743638815577565, 1.929336236062284, -6.480590671131382], [2.897477251990565, 0.9173439512090898, -6.534727578223617], [-3.508871397521052, 4.755130330056172, -1.2775410627431243], [2.9005633135040783, -0.7269755099528663, 3.7062578303732607], [5.466584961480273, -5.183017674720906, 1.0977425107286778], [2.781181648826241, 5.347727952011922, 0.9735379019723926]], SphericalBC{Float64}(101.06969058367278)), [0.0 58.78547199296217 … 165.34907880901858 33.27542083958514; 58.78547199296217 0.0 … 43.258712498971505 39.422573038292484; … ; 165.34907880901858 43.258712498971505 … 0.0 118.12342119140212; 33.27542083958514 39.422573038292484 … 118.12342119140212 0.0], [-0.0008131640829255388, -0.0008131644969161529, -0.0008131644971061786, -0.0008131644971733437, -0.00081316449725488, -0.0008131644972232184, -0.0008131640538937092, -0.0008131645376168826, -0.0008131645377222474, -0.0008131645378597135, -0.0008131645378206358, -0.0008131645379515081, -0.0015114147533107326], -0.004144327236754518, Float64[], [0.8954302432552388, 0.1, 1.0], [0, 0], [0, 0], [0, 0], [0, 0]), MCState{Float64, 13, SphericalBC{Float64}}(12.774650263124611, 24718.875175363144, Config{13, SphericalBC{Float64}, Float64}(SVector{3, Float64}[[-1.9100578419079337, 4.508718909356249, 3.1941111964269355], [-3.088021550857619, 2.556848389665685, -2.0463658395126605], [1.2088518656914293, -4.936947569873248, 2.961406065325163], [-3.0108343041804746, -1.18000845580617, 2.4901241336065674], [3.9489429769735116, -3.2725857837437027, -6.7073051967573], [1.4098803391638528, -1.4539745819365812, -1.9414485043223015], [2.2560156483672875, 4.968438555531313, -2.029130552206757], [2.8396168761236704, 1.0050752007435766, 2.577310261241748], [2.1454014160826107, 4.468311350255971, 7.139041006628703], [2.7388832119293554, -7.072847144143263, -1.963730473641548], [7.3516785291660485, 0.50873708906781, -0.366797060290228], [5.576941046602183, 6.084492236029466, 3.0624622985420693], [-2.695973819415128, -5.536513029761484, -1.586788611560867]], SphericalBC{Float64}(101.06969058367278)), [0.0 32.65999658944987 … 58.55554536592081 124.38135160838992; 32.65999658944987 0.0 … 113.62597286634532 65.86741171765321; … ; 58.55554536592081 113.62597286634532 … 0.0 225.10441779300422; 124.38135160838992 65.86741171765321 … 225.10441779300422 0.0], [-0.0008131640829255388, -0.0008131644969161529, -0.0008131644971061786, -0.0008131644971733437, -0.00081316449725488, -0.0008131644972232184, -0.0008131640538937092, -0.0008131645376168826, -0.0008131645377222474, -0.0008131645378597135, -0.0008131645378206358, -0.0008131645379515081, -0.0015114147533107326], -0.004072408502784452, Float64[], [0.8954302432552388, 0.1, 1.0], [0, 0], [0, 0], [0, 0], [0, 0]), MCState{Float64, 13, SphericalBC{Float64}}(13.263073601950383, 23808.582741836053, Config{13, SphericalBC{Float64}, Float64}(SVector{3, Float64}[[2.160216663385432, -0.752762040677632, 5.806725919893222], [0.18465524972189412, 0.6293253635410136, 0.6407918886730961], [-5.897079164337887, -6.805800532023713, 2.185380573723207], [-0.22355809880935157, -5.071926799142321, -2.0404296989353203], [-4.199306265058725, 2.06354311717053, 4.5527383448558485], [-4.439736923304077, 4.433865168522881, -0.4948187241011888], [5.487345995234575, 2.5391095444044254, 1.0327609842862515], [1.209289749608136, 5.813158809348079, 5.144091162173236], [4.70911981219744, -3.0730025565576358, 0.8864286727806667], [3.689966741751131, 0.04417082045206888, -3.906019770119957], [1.307209491833644, 6.235781076839742, -0.7122803256259649], [-4.844325144013815, -1.6279206268524038, -0.41101628573191457], [-1.1877116312153768, -4.297757567051534, 3.34057902245355]], SphericalBC{Float64}(101.06969058367278)), [0.0 32.499882906974335 … 88.48982661817148 29.857497667550977; 32.499882906974335 0.0 … 31.492103697470522 33.44838762855642; … ; 88.48982661817148 31.492103697470522 … 0.0 34.57331902563117; 29.857497667550977 33.44838762855642 … 34.57331902563117 0.0], [-0.0008131640829255388, -0.0008131644969161529, -0.0008131644971061786, -0.0008131644971733437, -0.00081316449725488, -0.0008131644972232184, -0.0008131640538937092, -0.0008131645376168826, -0.0008131645377222474, -0.0008131645378597135, -0.0008131645378206358, -0.0008131645379515081, -0.0015114147533107326], -0.004391614647410839, Float64[], [0.8864759408226865, 0.1, 1.0], [0, 0], [0, 0], [0, 0], [0, 0]), MCState{Float64, 13, SphericalBC{Float64}}(13.77017121780105, 22931.812558357073, Config{13, SphericalBC{Float64}, Float64}(SVector{3, Float64}[[0.34941739847469877, -3.815261854561694, 1.1116231365390292], [-5.141357019211357, -5.321315149606049, 3.4245052882203613], [3.085462241100002, -5.624000043083286, -4.1498522473993615], [-0.31129257435941876, -2.201885410555779, 7.511228185539593], [-0.4815353695598017, 4.4919658979725785, 7.054844872364866], [1.4561896988818797, -7.630133660381009, 5.514786752483401], [-2.455541193253025, -9.018684797088886, -0.11540043013378189], [-3.567317986300819, 1.5966988793382337, -3.8293125116154427], [2.291766557519958, 0.6205721684456232, -2.5742980425290813], [2.7710071095891515, 0.4834149364079479, 3.956827020725754], [-3.2362715237168915, 0.6818093967940482, 2.9249341827165325], [-4.481788353478885, -3.418532034100157, -1.9218195373549414], [-0.013324482884837785, 4.73740561364132, 0.40467003330437123]], SphericalBC{Float64}(101.06969058367278)), [0.0 37.76622408099566 … 32.699718023953835 73.77948518432352; 37.76622408099566 0.0 … 32.63880355003321 136.59398605344063; … ; 32.699718023953835 32.63880355003321 … 0.0 91.89904199903765; 73.77948518432352 136.59398605344063 … 91.89904199903765 0.0], [-0.0008131640829255388, -0.0008131644969161529, -0.0008131644971061786, -0.0008131644971733437, -0.00081316449725488, -0.0008131644972232184, -0.0008131640538937092, -0.0008131645376168826, -0.0008131645377222474, -0.0008131645378597135, -0.0008131645378206358, -0.0008131645379515081, -0.0015114147533107326], -0.004034469824927984, Float64[], [0.9849732675807628, 0.1, 1.0], [0, 0], [0, 0], [0, 0], [0, 0]), MCState{Float64, 13, SphericalBC{Float64}}(14.296657099126138, 22087.330141141767, Config{13, SphericalBC{Float64}, Float64}(SVector{3, Float64}[[-0.7551738719659813, -0.11640003986874839, 0.5880772312485008], [-3.7922341147338496, 4.958259475725533, 7.371450104704056], [7.078850397503101, 0.4604607439349726, 5.675980843948918], [6.79381591515884, -0.9226514163849074, -5.8992746460894745], [7.468030783754712, -4.415470776497735, 0.3954372402683697], [0.47327712531857435, 5.4414409972632685, 2.076885650488311], [4.7656104383623346, 0.9998259577568944, 0.0068768433437536025], [2.4108177815338383, -3.735643958979556, 3.5786210918532264], [1.230001430044499, 3.372433843440433, -4.165840464021501], [3.0891398476794865, 6.2276128143024305, 7.151290213486083], [6.419874287858735, 6.285861067259495, -0.803027125269159], [3.355320101461362, -7.9318644690056415, -0.22652922685321925], [1.9611582903840712, -3.2575927585210045, -3.700817611374356]], SphericalBC{Float64}(101.06969058367278)), [0.0 80.9900516577455 … 78.64122863026759 35.640171083008205; 80.9900516577455 0.0 … 274.9721165067534 223.19686447875466; … ; 78.64122863026759 274.9721165067534 … 0.0 35.863182957721776; 35.640171083008205 223.19686447875466 … 35.863182957721776 0.0], [-0.0008131640829255388, -0.0008131644969161529, -0.0008131644971061786, -0.0008131644971733437, -0.00081316449725488, -0.0008131644972232184, -0.0008131640538937092, -0.0008131645376168826, -0.0008131645377222474, -0.0008131645378597135, -0.0008131645378206358, -0.0008131645379515081, -0.0015114147533107326], -0.0034517383467028446, Float64[], [0.9653722995559059, 0.1, 1.0], [0, 0], [0, 0], [0, 0], [0, 0]), MCState{Float64, 13, SphericalBC{Float64}}(14.843272532862045, 21273.94646726265, Config{13, SphericalBC{Float64}, Float64}(SVector{3, Float64}[[-1.2496286527462717, 5.437744253790843, -4.848215734981839], [-1.6144948168462179, -0.5693618583434165, -4.989908186478422], [-5.3151401037045165, -3.002451244886822, -1.323361666260829], [-5.675601715119253, 6.5536776185297, -1.866671072431108], [1.8935100108935061, -4.915505866352889, -2.736974694153389], [0.8216680776885621, 6.745361701628827, 0.7192909421128397], [1.3064015326414555, -2.167964453807466, 2.552515574410057], [-2.1539626922235073, 2.1653605479704705, -0.048579337111974985], [-0.8644624857825638, 2.8213207757026018, 5.721255304580782], [-3.5687131399370298, 7.446622703781139, 4.231724920682383], [4.635967766330194, 2.896350976404064, 3.269435721390598], [-6.947123348780621, 2.06246115929014, -4.828569645719854], [2.8480298138401494, 0.836009782484908, -1.9603598644032214]], SphericalBC{Float64}(101.06969058367278)), [0.0 36.238527910956904 … 43.85436774818507 46.306476582428076; 36.238527910956904 0.0 … 35.38944958048077 31.067358564115654; … ; 43.85436774818507 35.38944958048077 … 0.0 105.67583580850756; 46.306476582428076 31.067358564115654 … 105.67583580850756 0.0], [-0.0008131640829255388, -0.0008131644969161529, -0.0008131644971061786, -0.0008131644971733437, -0.00081316449725488, -0.0008131644972232184, -0.0008131640538937092, -0.0008131645376168826, -0.0008131645377222474, -0.0008131645378597135, -0.0008131645378206358, -0.0008131645379515081, -0.0015114147533107326], -0.004285267379630619, Float64[], [1.0834705943388392, 0.1, 1.0], [0, 0], [0, 0], [0, 0], [0, 0]), MCState{Float64, 13, SphericalBC{Float64}}(15.410787148156732, 20490.516300516596, Config{13, SphericalBC{Float64}, Float64}(SVector{3, Float64}[[3.1325480701922044, -2.5030233447355346, 8.254340630930432], [8.030361273707097, -3.7316216744944213, 0.9252929575606995], [0.18092121351548385, 3.820024380826606, 4.075355780301475], [-1.1196216864945407, -3.485481416336085, -3.2946196644616434], [7.7712996851366505, -0.003980453457254826, 5.415359135250143], [4.440645674823948, -7.05790709966867, -1.670042764220579], [-1.884834424367731, -0.05223231822262517, 7.293446322580651], [6.346441535043903, 3.345772452773892, 0.9883420212708762], [-2.6386135061335403, 4.438873855680535, -1.197754579027242], [2.6923771983145195, 3.5681757947336354, -3.40445090102228], [-1.260223040861833, -3.468579314060165, 2.4699481517142905], [4.419741900574986, -7.383796048220053, 4.210805214619302], [2.9290823695805126, -1.2876185476653443, 0.11434719248832564]], SphericalBC{Float64}(101.06969058367278)), [0.0 79.21296783093743 … 41.82898880301751 67.77810028994718; 79.21296783093743 0.0 … 37.16954070501744 32.653830775526046; … ; 41.82898880301751 37.16954070501744 … 0.0 56.16641428269536; 67.77810028994718 32.653830775526046 … 56.16641428269536 0.0], [-0.0008131640829255388, -0.0008131644969161529, -0.0008131644971061786, -0.0008131644971733437, -0.00081316449725488, -0.0008131644972232184, -0.0008131640538937092, -0.0008131645376168826, -0.0008131645377222474, -0.0008131645378597135, -0.0008131645378206358, -0.0008131645379515081, -0.0015114147533107326], -0.0033381982465536, Float64[], [1.0834705943388392, 0.1, 1.0], [0, 0], [0, 0], [0, 0], [0, 0]), MCState{Float64, 13, SphericalBC{Float64}}(16.0, 19735.936578943576, Config{13, SphericalBC{Float64}, Float64}(SVector{3, Float64}[[3.601942353471472, 0.09469139299955474, -0.2565757245820425], [-2.681097948203103, -1.6951445367767408, -0.359454390487515], [-0.4678374737364331, 2.8397314922528047, -3.8748794345171103], [-3.829493721056531, -1.6129421701049311, -5.653934308032528], [2.616876834972414, 9.338028080349746, 0.0363269877784967], [2.084171524831601, -1.9069972085313895, -5.170360147870953], [5.187312710728902, 3.057583640098952, -5.104215208674145], [7.210153389378977, 4.187167126738388, 0.3295318422047767], [0.043379084652459265, -0.9961821053240966, 4.64025858711214], [5.67516421029981, 0.7695412873926695, 5.400661044402007], [1.5110950151180755, -6.038771200312546, -0.7811809790896944], [0.7188376142952103, 4.4144069702498, 1.6556935011228187], [7.08103117916802, -4.933633666655591, 1.1915178798671393]], SphericalBC{Float64}(101.06969058367278)), [0.0 42.6906921078836 … 30.62900919697691 39.48508704988914; 42.6906921078836 0.0 … 52.94700247121258 108.19249192722023; … ; 30.62900919697691 52.94700247121258 … 0.0 128.07882971351165; 39.48508704988914 108.19249192722023 … 128.07882971351165 0.0], [-0.0008131640829255388, -0.0008131644969161529, -0.0008131644971061786, -0.0008131644971733437, -0.00081316449725488, -0.0008131644972232184, -0.0008131640538937092, -0.0008131645376168826, -0.0008131645377222474, -0.0008131645378597135, -0.0008131645378206358, -0.0008131645379515081, -0.0015114147533107326], -0.003961647973960607, Float64[], [1.1681004824626464, 0.1, 1.0], [0, 0], [0, 0], [0, 0], [0, 0])], Output{Float64}(100, -0.00563489199180437, -0.0022021688273434928, Float64[], Float64[], Float64[], [[0.0, 0.0, 0.0, 0.0, 0.0, 0.0, 0.0, 0.0, 0.0, 0.0  …  0.0, 0.0, 0.0, 0.0, 0.0, 0.0, 0.0, 0.0, 0.0, 0.0], [0.0, 0.0, 0.0, 0.0, 0.0, 0.0, 0.0, 0.0, 0.0, 0.0  …  0.0, 0.0, 0.0, 0.0, 0.0, 0.0, 0.0, 0.0, 0.0, 0.0], [0.0, 0.0, 0.0, 0.0, 0.0, 0.0, 0.0, 0.0, 0.0, 0.0  …  0.0, 0.0, 0.0, 0.0, 0.0, 0.0, 0.0, 0.0, 0.0, 0.0], [0.0, 0.0, 0.0, 0.0, 0.0, 0.0, 0.0, 0.0, 0.0, 0.0  …  0.0, 0.0, 0.0, 0.0, 0.0, 0.0, 0.0, 0.0, 0.0, 0.0], [0.0, 0.0, 0.0, 0.0, 0.0, 0.0, 0.0, 0.0, 0.0, 0.0  …  0.0, 0.0, 0.0, 0.0, 0.0, 0.0, 0.0, 0.0, 0.0, 0.0], [0.0, 0.0, 0.0, 0.0, 0.0, 0.0, 0.0, 0.0, 0.0, 0.0  …  0.0, 0.0, 0.0, 0.0, 0.0, 0.0, 0.0, 0.0, 0.0, 0.0], [0.0, 0.0, 0.0, 0.0, 0.0, 0.0, 0.0, 0.0, 0.0, 0.0  …  0.0, 0.0, 0.0, 0.0, 0.0, 0.0, 0.0, 0.0, 0.0, 0.0], [0.0, 0.0, 0.0, 0.0, 0.0, 0.0, 0.0, 0.0, 0.0, 0.0  …  0.0, 0.0, 0.0, 0.0, 0.0, 0.0, 0.0, 0.0, 0.0, 0.0], [0.0, 0.0, 0.0, 0.0, 0.0, 0.0, 0.0, 0.0, 0.0, 0.0  …  0.0, 0.0, 0.0, 0.0, 0.0, 0.0, 0.0, 0.0, 0.0, 0.0], [0.0, 0.0, 0.0, 0.0, 0.0, 0.0, 0.0, 0.0, 0.0, 0.0  …  0.0, 0.0, 0.0, 0.0, 0.0, 0.0, 0.0, 0.0, 0.0, 0.0]  …  [0.0, 0.0, 0.0, 0.0, 0.0, 0.0, 0.0, 0.0, 0.0, 0.0  …  0.0, 0.0, 0.0, 0.0, 0.0, 0.0, 0.0, 0.0, 0.0, 0.0], [0.0, 0.0, 0.0, 0.0, 0.0, 0.0, 0.0, 0.0, 0.0, 0.0  …  0.0, 0.0, 0.0, 0.0, 0.0, 0.0, 0.0, 0.0, 0.0, 0.0], [0.0, 0.0, 0.0, 0.0, 0.0, 0.0, 0.0, 0.0, 0.0, 0.0  …  0.0, 0.0, 0.0, 0.0, 0.0, 0.0, 0.0, 0.0, 0.0, 0.0], [0.0, 0.0, 0.0, 0.0, 0.0, 0.0, 0.0, 0.0, 0.0, 0.0  …  0.0, 0.0, 0.0, 0.0, 0.0, 0.0, 0.0, 0.0, 0.0, 0.0], [0.0, 0.0, 0.0, 0.0, 0.0, 0.0, 0.0, 0.0, 0.0, 0.0  …  0.0, 0.0, 0.0, 0.0, 0.0, 0.0, 0.0, 0.0, 0.0, 0.0], [0.0, 0.0, 0.0, 0.0, 0.0, 0.0, 0.0, 0.0, 0.0, 0.0  …  0.0, 0.0, 0.0, 0.0, 0.0, 0.0, 0.0, 0.0, 0.0, 0.0], [0.0, 0.0, 0.0, 0.0, 0.0, 0.0, 0.0, 0.0, 0.0, 0.0  …  0.0, 0.0, 0.0, 0.0, 0.0, 0.0, 0.0, 0.0, 0.0, 0.0], [0.0, 0.0, 0.0, 0.0, 0.0, 0.0, 0.0, 0.0, 0.0, 0.0  …  0.0, 0.0, 0.0, 0.0, 0.0, 0.0, 0.0, 0.0, 0.0, 0.0], [0.0, 0.0, 0.0, 0.0, 0.0, 0.0, 0.0, 0.0, 0.0, 0.0  …  0.0, 0.0, 0.0, 0.0, 0.0, 0.0, 0.0, 0.0, 0.0, 0.0], [0.0, 0.0, 0.0, 0.0, 0.0, 0.0, 0.0, 0.0, 0.0, 0.0  …  0.0, 0.0, 0.0, 0.0, 0.0, 0.0, 0.0, 0.0, 0.0, 0.0]], [[0.0, 0.0, 0.0, 0.0, 0.0, 0.0, 0.0, 0.0, 0.0, 0.0  …  0.0, 0.0, 0.0, 0.0, 0.0, 0.0, 0.0, 0.0, 0.0, 0.0], [0.0, 0.0, 0.0, 0.0, 0.0, 0.0, 0.0, 0.0, 0.0, 0.0  …  0.0, 0.0, 0.0, 0.0, 0.0, 0.0, 0.0, 0.0, 0.0, 0.0], [0.0, 0.0, 0.0, 0.0, 0.0, 0.0, 0.0, 0.0, 0.0, 0.0  …  0.0, 0.0, 0.0, 0.0, 0.0, 0.0, 0.0, 0.0, 0.0, 0.0], [0.0, 0.0, 0.0, 0.0, 0.0, 0.0, 0.0, 0.0, 0.0, 0.0  …  0.0, 0.0, 0.0, 0.0, 0.0, 0.0, 0.0, 0.0, 0.0, 0.0], [0.0, 0.0, 0.0, 0.0, 0.0, 0.0, 0.0, 0.0, 0.0, 0.0  …  0.0, 0.0, 0.0, 0.0, 0.0, 0.0, 0.0, 0.0, 0.0, 0.0], [0.0, 0.0, 0.0, 0.0, 0.0, 0.0, 0.0, 0.0, 0.0, 0.0  …  0.0, 0.0, 0.0, 0.0, 0.0, 0.0, 0.0, 0.0, 0.0, 0.0], [0.0, 0.0, 0.0, 0.0, 0.0, 0.0, 0.0, 0.0, 0.0, 0.0  …  0.0, 0.0, 0.0, 0.0, 0.0, 0.0, 0.0, 0.0, 0.0, 0.0], [0.0, 0.0, 0.0, 0.0, 0.0, 0.0, 0.0, 0.0, 0.0, 0.0  …  0.0, 0.0, 0.0, 0.0, 0.0, 0.0, 0.0, 0.0, 0.0, 0.0], [0.0, 0.0, 0.0, 0.0, 0.0, 0.0, 0.0, 0.0, 0.0, 0.0  …  0.0, 0.0, 0.0, 0.0, 0.0, 0.0, 0.0, 0.0, 0.0, 0.0], [0.0, 0.0, 0.0, 0.0, 0.0, 0.0, 0.0, 0.0, 0.0, 0.0  …  0.0, 0.0, 0.0, 0.0, 0.0, 0.0, 0.0, 0.0, 0.0, 0.0]  …  [0.0, 0.0, 0.0, 0.0, 0.0, 0.0, 0.0, 0.0, 0.0, 0.0  …  0.0, 0.0, 0.0, 0.0, 0.0, 0.0, 0.0, 0.0, 0.0, 0.0], [0.0, 0.0, 0.0, 0.0, 0.0, 0.0, 0.0, 0.0, 0.0, 0.0  …  0.0, 0.0, 0.0, 0.0, 0.0, 0.0, 0.0, 0.0, 0.0, 0.0], [0.0, 0.0, 0.0, 0.0, 0.0, 0.0, 0.0, 0.0, 0.0, 0.0  …  0.0, 0.0, 0.0, 0.0, 0.0, 0.0, 0.0, 0.0, 0.0, 0.0], [0.0, 0.0, 0.0, 0.0, 0.0, 0.0, 0.0, 0.0, 0.0, 0.0  …  0.0, 0.0, 0.0, 0.0, 0.0, 0.0, 0.0, 0.0, 0.0, 0.0], [0.0, 0.0, 0.0, 0.0, 0.0, 0.0, 0.0, 0.0, 0.0, 0.0  …  0.0, 0.0, 0.0, 0.0, 0.0, 0.0, 0.0, 0.0, 0.0, 0.0], [0.0, 0.0, 0.0, 0.0, 0.0, 0.0, 0.0, 0.0, 0.0, 0.0  …  0.0, 0.0, 0.0, 0.0, 0.0, 0.0, 0.0, 0.0, 0.0, 0.0], [0.0, 0.0, 0.0, 0.0, 0.0, 0.0, 0.0, 0.0, 0.0, 0.0  …  0.0, 0.0, 0.0, 0.0, 0.0, 0.0, 0.0, 0.0, 0.0, 0.0], [0.0, 0.0, 0.0, 0.0, 0.0, 0.0, 0.0, 0.0, 0.0, 0.0  …  0.0, 0.0, 0.0, 0.0, 0.0, 0.0, 0.0, 0.0, 0.0, 0.0], [0.0, 0.0, 0.0, 0.0, 0.0, 0.0, 0.0, 0.0, 0.0, 0.0  …  0.0, 0.0, 0.0, 0.0, 0.0, 0.0, 0.0, 0.0, 0.0, 0.0], [0.0, 0.0, 0.0, 0.0, 0.0, 0.0, 0.0, 0.0, 0.0, 0.0  …  0.0, 0.0, 0.0, 0.0, 0.0, 0.0, 0.0, 0.0, 0.0, 0.0]], Float64[], Float64[], Float64[], Float64[]), 3.467397135819068e-5, 0.8085575246693824, 1, 13, 0, 0)"
      ]
     },
     "metadata": {},
     "output_type": "display_data"
    }
   ],
   "source": [
    "mc_states,results,delta_en_hist,delta_r2,start_counter,a,v,r = test_equilibration(mc_states,move_strat,mc_params,pot,ensemble,results)"
   ]
  },
  {
   "cell_type": "code",
   "execution_count": 36,
   "metadata": {},
   "outputs": [
    {
     "data": {
      "text/plain": [
       "-0.0022021688273434928"
      ]
     },
     "metadata": {},
     "output_type": "display_data"
    }
   ],
   "source": []
  },
  {
   "cell_type": "code",
   "execution_count": null,
   "metadata": {},
   "outputs": [],
   "source": []
  }
 ],
 "metadata": {
  "kernelspec": {
   "display_name": "Julia 1.8.5",
   "language": "julia",
   "name": "julia-1.8"
  },
  "language_info": {
   "file_extension": ".jl",
   "mimetype": "application/julia",
   "name": "julia",
   "version": "1.8.5"
  },
  "orig_nbformat": 4
 },
 "nbformat": 4,
 "nbformat_minor": 2
}
