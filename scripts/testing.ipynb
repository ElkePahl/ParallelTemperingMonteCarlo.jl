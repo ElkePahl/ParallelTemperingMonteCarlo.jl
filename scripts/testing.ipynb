{
 "cells": [
  {
   "cell_type": "code",
   "execution_count": 1,
   "metadata": {},
   "outputs": [],
   "source": [
    "using ParallelTemperingMonteCarlo\n",
    "# using Pkg;Pkg.add(\"BenchmarkTools\")\n",
    "using BenchmarkTools, DelimitedFiles\n",
    "using Random,StaticArrays"
   ]
  },
  {
   "attachments": {},
   "cell_type": "markdown",
   "metadata": {},
   "source": [
    "# Equilibration\n",
    "\n",
    "The purpose of this notebook is to write functions aimed at equilibrating the ptmc run. It must iterate over every trajectory for, by default 20\\% of the total cycles run with _no_ sampling, other than testing the $\\geq$ condition to update the min/max energies"
   ]
  },
  {
   "cell_type": "code",
   "execution_count": 2,
   "metadata": {},
   "outputs": [
    {
     "data": {
      "text/plain": [
       "Output{Float64}(100, 0.0, 0.0, Float64[], Float64[], Float64[], Vector{Float64}[], Vector{Float64}[], Float64[], Float64[], Float64[], Float64[])"
      ]
     },
     "metadata": {},
     "output_type": "display_data"
    }
   ],
   "source": [
    "Random.seed!(1234)\n",
    "\n",
    "# number of atoms\n",
    "n_atoms = 13\n",
    "\n",
    "# temperature grid\n",
    "ti = 5.\n",
    "tf = 16.\n",
    "n_traj = 32\n",
    "\n",
    "temp = TempGrid{n_traj}(ti,tf) \n",
    "\n",
    "# MC simulation details\n",
    "\n",
    "mc_cycles = 400000 #default 20% equilibration cycles on top\n",
    "\n",
    "mc_sample = 1  #sample every mc_sample MC cycles\n",
    "\n",
    "#move_atom=AtomMove(n_atoms) #move strategy (here only atom moves, n_atoms per MC cycle)\n",
    "displ_atom = 0.1 # Angstrom\n",
    "n_adjust = 100\n",
    "\n",
    "max_displ_atom = [0.1*sqrt(displ_atom*temp.t_grid[i]) for i in 1:n_traj]\n",
    "\n",
    "mc_params = MCParams(mc_cycles, n_traj, n_atoms, mc_sample = mc_sample, n_adjust = n_adjust)\n",
    "\n",
    "#moves - allowed at present: atom, volume and rotation moves (volume,rotation not yet implemented)\n",
    "move_strat = MoveStrategy(atom_moves = n_atoms)  \n",
    "\n",
    "#ensemble\n",
    "ensemble = NVT(n_atoms)\n",
    "\n",
    "#ELJpotential for neon\n",
    "#c1=[-10.5097942564988, 0., 989.725135614556, 0., -101383.865938807, 0., 3918846.12841668, 0., -56234083.4334278, 0., 288738837.441765]\n",
    "#elj_ne1 = ELJPotential{11}(c1)\n",
    "\n",
    "c=[-10.5097942564988, 989.725135614556, -101383.865938807, 3918846.12841668, -56234083.4334278, 288738837.441765]\n",
    "pot = ELJPotentialEven{6}(c)\n",
    "\n",
    "#starting configurations\n",
    "#icosahedral ground state of Ne13 (from Cambridge cluster database) in Angstrom\n",
    "pos_ne13 = [[2.825384495892464, 0.928562467914040, 0.505520149314310],\n",
    "[2.023342172678102,\t-2.136126268595355, 0.666071287554958],\n",
    "[2.033761811732818,\t-0.643989413759464, -2.133000349161121],\n",
    "[0.979777205108572,\t2.312002562803556, -1.671909307631893],\n",
    "[0.962914279874254,\t-0.102326586625353, 2.857083360096907],\n",
    "[0.317957619634043,\t2.646768968413408, 1.412132053672896],\n",
    "[-2.825388342924982, -0.928563755928189, -0.505520471387560],\n",
    "[-0.317955944853142, -2.646769840660271, -1.412131825293682],\n",
    "[-0.979776174195320, -2.312003751825495, 1.671909138648006],\n",
    "[-0.962916072888105, 0.102326392265998,\t-2.857083272537599],\n",
    "[-2.023340541398004, 2.136128558801072,\t-0.666071089291685],\n",
    "[-2.033762834001679, 0.643989905095452, 2.132999911364582],\n",
    "[0.000002325340981,\t0.000000762100600, 0.000000414930733]]\n",
    "\n",
    "#convert to Bohr\n",
    "AtoBohr = 1.8897259886\n",
    "pos_ne13 = pos_ne13 * AtoBohr\n",
    "\n",
    "length(pos_ne13) == n_atoms || error(\"number of atoms and positions not the same - check starting config\")\n",
    "\n",
    "#boundary conditions \n",
    "bc_ne13 = SphericalBC(radius=5.32*AtoBohr)   #5.32 Angstrom\n",
    "\n",
    "#starting configuration\n",
    "start_config = Config(pos_ne13, bc_ne13)\n",
    "\n",
    "#histogram information\n",
    "n_bin = 100\n",
    "#en_min = -0.006    #might want to update after equilibration run if generated on the fly\n",
    "#en_max = -0.001    #otherwise will be determined after run as min/max of sampled energies (ham vector)\n",
    "\n",
    "#construct array of MCState (for each temperature)\n",
    "mc_states = [MCState(temp.t_grid[i], temp.beta_grid[i], start_config, pot) for i in 1:n_traj]\n",
    "\n",
    "#results = Output(n_bin, max_displ_vec)\n",
    "results = Output{Float64}(n_bin; en_min = mc_states[1].en_tot)\n"
   ]
  },
  {
   "cell_type": "code",
   "execution_count": 3,
   "metadata": {},
   "outputs": [
    {
     "name": "stdout",
     "output_type": "stream",
     "text": [
      "Total number of moves per MC cycle: 13\n",
      "\n"
     ]
    },
    {
     "name": "stdout",
     "output_type": "stream",
     "text": [
      "equilibration done\n",
      "equilibration done\n"
     ]
    },
    {
     "ename": "UndefVarError",
     "evalue": "UndefVarError: atom_move_frequency not defined",
     "output_type": "error",
     "traceback": [
      "UndefVarError: atom_move_frequency not defined\n",
      "\n",
      "Stacktrace:\n",
      " [1] save_params(savefile::IOStream, mc_params::MCParams, move_strat::MoveStrategy{13, 0, 0}, ensemble::NVT)\n",
      "   @ ParallelTemperingMonteCarlo.ReadSave ~/Documents/ParallelTemperingMonteCarlo.jl/src/ReadSave.jl:38\n",
      " [2] save_states(mc_params::MCParams, mc_states::Vector{MCState{Float64, 13, SphericalBC{Float64}}}, trial_index::Int64, directory::String, move_strat::MoveStrategy{13, 0, 0}, ensemble::NVT; filename::String)\n",
      "   @ ParallelTemperingMonteCarlo.ReadSave ~/Documents/ParallelTemperingMonteCarlo.jl/src/ReadSave.jl:119\n",
      " [3] save_states\n",
      "   @ ~/Documents/ParallelTemperingMonteCarlo.jl/src/ReadSave.jl:113 [inlined]\n",
      " [4] ptmc_run!(mc_states::Vector{MCState{Float64, 13, SphericalBC{Float64}}}, move_strat::MoveStrategy{13, 0, 0}, mc_params::MCParams, pot::ELJPotentialEven{6, Float64}, ensemble::NVT, results::Output{Float64}; save_ham::Bool, save::Bool, restart::Bool, save_dir::String)\n",
      "   @ ParallelTemperingMonteCarlo.MCRun ~/Documents/ParallelTemperingMonteCarlo.jl/src/MCRun.jl:270\n",
      " [5] top-level scope\n",
      "   @ ~/Documents/ParallelTemperingMonteCarlo.jl/scripts/testing.ipynb:1"
     ]
    }
   ],
   "source": [
    "ptmc_run!(mc_states, move_strat, mc_params, pot, ensemble, results; save_ham = false,save=true)"
   ]
  },
  {
   "attachments": {},
   "cell_type": "markdown",
   "metadata": {},
   "source": [
    "# Restart Equilibration "
   ]
  },
  {
   "cell_type": "code",
   "execution_count": 4,
   "metadata": {},
   "outputs": [
    {
     "ename": "ErrorException",
     "evalue": "at row 0, column 0 : ArgumentError(\"number of rows in dims must be > 0, got 0\")",
     "output_type": "error",
     "traceback": [
      "at row 0, column 0 : ArgumentError(\"number of rows in dims must be > 0, got 0\")\n",
      "\n",
      "Stacktrace:\n",
      "  [1] error(s::String)\n",
      "    @ Base ./error.jl:35\n",
      "  [2] dlm_fill(T::DataType, offarr::Vector{Vector{Int64}}, dims::Tuple{Int64, Int64}, has_header::Bool, sbuff::String, auto::Bool, eol::Char)\n",
      "    @ DelimitedFiles /opt/software/julia/julia-1.8.5/share/julia/stdlib/v1.8/DelimitedFiles/src/DelimitedFiles.jl:515\n",
      "  [3] readdlm_string(sbuff::String, dlm::Char, T::Type, eol::Char, auto::Bool, optsd::Dict{Symbol, Union{Char, Integer, Tuple{Integer, Integer}}})\n",
      "    @ DelimitedFiles /opt/software/julia/julia-1.8.5/share/julia/stdlib/v1.8/DelimitedFiles/src/DelimitedFiles.jl:471\n",
      "  [4] #readdlm_auto#8\n",
      "    @ /opt/software/julia/julia-1.8.5/share/julia/stdlib/v1.8/DelimitedFiles/src/DelimitedFiles.jl:231 [inlined]\n",
      "  [5] readdlm_auto\n",
      "    @ /opt/software/julia/julia-1.8.5/share/julia/stdlib/v1.8/DelimitedFiles/src/DelimitedFiles.jl:231 [inlined]\n",
      "  [6] #readdlm#5\n",
      "    @ /opt/software/julia/julia-1.8.5/share/julia/stdlib/v1.8/DelimitedFiles/src/DelimitedFiles.jl:170 [inlined]\n",
      "  [7] readdlm\n",
      "    @ /opt/software/julia/julia-1.8.5/share/julia/stdlib/v1.8/DelimitedFiles/src/DelimitedFiles.jl:170 [inlined]\n",
      "  [8] #readdlm#3\n",
      "    @ /opt/software/julia/julia-1.8.5/share/julia/stdlib/v1.8/DelimitedFiles/src/DelimitedFiles.jl:118 [inlined]\n",
      "  [9] readdlm\n",
      "    @ /opt/software/julia/julia-1.8.5/share/julia/stdlib/v1.8/DelimitedFiles/src/DelimitedFiles.jl:118 [inlined]\n",
      " [10] restart_ptmc(potential::ELJPotentialEven{6, Float64}; directory::String)\n",
      "    @ ParallelTemperingMonteCarlo.ReadSave ~/Documents/ParallelTemperingMonteCarlo.jl/src/ReadSave.jl:248\n",
      " [11] restart_ptmc(potential::ELJPotentialEven{6, Float64})\n",
      "    @ ParallelTemperingMonteCarlo.ReadSave ~/Documents/ParallelTemperingMonteCarlo.jl/src/ReadSave.jl:244\n",
      " [12] top-level scope\n",
      "    @ ~/Documents/ParallelTemperingMonteCarlo.jl/scripts/testing.ipynb:1"
     ]
    }
   ],
   "source": [
    "results_test,mc_params_test,mc_states_test,step = restart_ptmc(pot)"
   ]
  },
  {
   "cell_type": "code",
   "execution_count": 5,
   "metadata": {},
   "outputs": [
    {
     "data": {
      "text/plain": [
       "3-element Vector{Any}:\n",
       " 13\n",
       "  0\n",
       "  0"
      ]
     },
     "metadata": {},
     "output_type": "display_data"
    }
   ],
   "source": [
    "testfile = open(\"testing.txt\",\"w+\")\n",
    "write(testfile,\"$ensemble \\n\")\n",
    "write(testfile,\"$(atom_move_frequency(move_strat)) $(vol_move_frequency(move_strat)) $(rot_move_frequency(move_strat))  \\n\")\n",
    "close(testfile)\n",
    "testfile = open(\"testing.txt\",\"r+\")\n",
    "te=readdlm(testfile)\n",
    "close(testfile)\n",
    "te[1]\n",
    "\n",
    "ens = Meta.parse(te[1])\n",
    "ensem = eval(ens)\n",
    "ensem == ensemble\n",
    "te[2,:]\n"
   ]
  },
  {
   "cell_type": "code",
   "execution_count": 6,
   "metadata": {},
   "outputs": [],
   "source": []
  }
 ],
 "metadata": {
  "kernelspec": {
   "display_name": "Julia 1.8.5",
   "language": "julia",
   "name": "julia-1.8"
  },
  "language_info": {
   "file_extension": ".jl",
   "mimetype": "application/julia",
   "name": "julia",
   "version": "1.8.5"
  },
  "orig_nbformat": 4
 },
 "nbformat": 4,
 "nbformat_minor": 2
}
