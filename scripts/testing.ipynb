{
 "cells": [
  {
   "cell_type": "code",
   "execution_count": 1,
   "metadata": {},
   "outputs": [],
   "source": [
    "using ParallelTemperingMonteCarlo\n",
    "# using Pkg;Pkg.add(\"BenchmarkTools\")\n",
    "using BenchmarkTools\n",
    "using Random,StaticArrays"
   ]
  },
  {
   "attachments": {},
   "cell_type": "markdown",
   "metadata": {},
   "source": [
    "# Equilibration\n",
    "\n",
    "The purpose of this notebook is to write functions aimed at equilibrating the ptmc run. It must iterate over every trajectory for, by default 20\\% of the total cycles run with _no_ sampling, other than testing the $\\geq$ condition to update the min/max energies"
   ]
  },
  {
   "cell_type": "code",
   "execution_count": 2,
   "metadata": {},
   "outputs": [
    {
     "data": {
      "text/plain": [
       "Output{Float64}(100, 0.0, 0.0, Float64[], Float64[], Float64[], Vector{Float64}[], Vector{Float64}[], Float64[], Float64[], Float64[], Float64[])"
      ]
     },
     "metadata": {},
     "output_type": "display_data"
    }
   ],
   "source": [
    "Random.seed!(1234)\n",
    "\n",
    "# number of atoms\n",
    "n_atoms = 13\n",
    "\n",
    "# temperature grid\n",
    "ti = 5.\n",
    "tf = 16.\n",
    "n_traj = 32\n",
    "\n",
    "temp = TempGrid{n_traj}(ti,tf) \n",
    "\n",
    "# MC simulation details\n",
    "\n",
    "mc_cycles = 1000000 #default 20% equilibration cycles on top\n",
    "\n",
    "mc_sample = 1  #sample every mc_sample MC cycles\n",
    "\n",
    "#move_atom=AtomMove(n_atoms) #move strategy (here only atom moves, n_atoms per MC cycle)\n",
    "displ_atom = 0.1 # Angstrom\n",
    "n_adjust = 100\n",
    "\n",
    "max_displ_atom = [0.1*sqrt(displ_atom*temp.t_grid[i]) for i in 1:n_traj]\n",
    "\n",
    "mc_params = MCParams(mc_cycles, n_traj, n_atoms, mc_sample = mc_sample, n_adjust = n_adjust)\n",
    "\n",
    "#moves - allowed at present: atom, volume and rotation moves (volume,rotation not yet implemented)\n",
    "move_strat = MoveStrategy(atom_moves = n_atoms)  \n",
    "\n",
    "#ensemble\n",
    "ensemble = NVT(n_atoms)\n",
    "\n",
    "#ELJpotential for neon\n",
    "#c1=[-10.5097942564988, 0., 989.725135614556, 0., -101383.865938807, 0., 3918846.12841668, 0., -56234083.4334278, 0., 288738837.441765]\n",
    "#elj_ne1 = ELJPotential{11}(c1)\n",
    "\n",
    "c=[-10.5097942564988, 989.725135614556, -101383.865938807, 3918846.12841668, -56234083.4334278, 288738837.441765]\n",
    "pot = ELJPotentialEven{6}(c)\n",
    "\n",
    "#starting configurations\n",
    "#icosahedral ground state of Ne13 (from Cambridge cluster database) in Angstrom\n",
    "pos_ne13 = [[2.825384495892464, 0.928562467914040, 0.505520149314310],\n",
    "[2.023342172678102,\t-2.136126268595355, 0.666071287554958],\n",
    "[2.033761811732818,\t-0.643989413759464, -2.133000349161121],\n",
    "[0.979777205108572,\t2.312002562803556, -1.671909307631893],\n",
    "[0.962914279874254,\t-0.102326586625353, 2.857083360096907],\n",
    "[0.317957619634043,\t2.646768968413408, 1.412132053672896],\n",
    "[-2.825388342924982, -0.928563755928189, -0.505520471387560],\n",
    "[-0.317955944853142, -2.646769840660271, -1.412131825293682],\n",
    "[-0.979776174195320, -2.312003751825495, 1.671909138648006],\n",
    "[-0.962916072888105, 0.102326392265998,\t-2.857083272537599],\n",
    "[-2.023340541398004, 2.136128558801072,\t-0.666071089291685],\n",
    "[-2.033762834001679, 0.643989905095452, 2.132999911364582],\n",
    "[0.000002325340981,\t0.000000762100600, 0.000000414930733]]\n",
    "\n",
    "#convert to Bohr\n",
    "AtoBohr = 1.8897259886\n",
    "pos_ne13 = pos_ne13 * AtoBohr\n",
    "\n",
    "length(pos_ne13) == n_atoms || error(\"number of atoms and positions not the same - check starting config\")\n",
    "\n",
    "#boundary conditions \n",
    "bc_ne13 = SphericalBC(radius=5.32*AtoBohr)   #5.32 Angstrom\n",
    "\n",
    "#starting configuration\n",
    "start_config = Config(pos_ne13, bc_ne13)\n",
    "\n",
    "#histogram information\n",
    "n_bin = 100\n",
    "#en_min = -0.006    #might want to update after equilibration run if generated on the fly\n",
    "#en_max = -0.001    #otherwise will be determined after run as min/max of sampled energies (ham vector)\n",
    "\n",
    "#construct array of MCState (for each temperature)\n",
    "mc_states = [MCState(temp.t_grid[i], temp.beta_grid[i], start_config, pot) for i in 1:n_traj]\n",
    "\n",
    "#results = Output(n_bin, max_displ_vec)\n",
    "results = Output{Float64}(n_bin; en_min = mc_states[1].en_tot)\n"
   ]
  },
  {
   "attachments": {},
   "cell_type": "markdown",
   "metadata": {},
   "source": [
    "first, the $\\geq$ condition: test whether it's faster to unpack mc_states or not. "
   ]
  },
  {
   "cell_type": "code",
   "execution_count": 3,
   "metadata": {},
   "outputs": [
    {
     "data": {
      "text/plain": [
       "test_max (generic function with 1 method)"
      ]
     },
     "metadata": {},
     "output_type": "display_data"
    }
   ],
   "source": [
    "function testmin(new_en,en_min)\n",
    "    if new_en < en_min\n",
    "        en_min = new_en\n",
    "    end\n",
    "    return en_min\n",
    "end\n",
    "\n",
    "function test_min(new_en,en_min)\n",
    "    return ifelse(new_en<en_min,new_en,en_min)\n",
    "end\n",
    "function test_max(new_en,en_max)\n",
    "    return ifelse(new_en>en_max,new_en,en_max)\n",
    "end\n",
    "@benchmark testmin($rand(),$rand())\n",
    "@benchmark test_min($rand(),$rand())"
   ]
  },
  {
   "attachments": {},
   "cell_type": "markdown",
   "metadata": {},
   "source": [
    "Use the ifelse version, it's slightly faster more often. NB the function guarantees type stability, telling the compiler what is to be returned, this is better."
   ]
  },
  {
   "cell_type": "code",
   "execution_count": 6,
   "metadata": {},
   "outputs": [
    {
     "data": {
      "text/plain": [
       "checkbounds4 (generic function with 1 method)"
      ]
     },
     "metadata": {},
     "output_type": "display_data"
    }
   ],
   "source": [
    "function check_e_bounds(energy,ebounds::Vector)\n",
    "    ebounds[1] = test_min(energy,ebounds[1])\n",
    "    ebounds[2] = test_max(energy,ebounds[2])\n",
    "    return ebounds\n",
    "end\n",
    "function checkbounds2(energy,emin,emax)\n",
    "    emin = test_min(energy,emin)\n",
    "    emax = test_max(energy,emax)\n",
    "    return emin,emax\n",
    "end\n",
    "function checkbounds3(energy,ebounds)\n",
    "    if energy<ebounds[1]\n",
    "        ebounds[1]=energy\n",
    "    elseif energy>ebounds[2]\n",
    "        ebounds[2] = energy\n",
    "    else\n",
    "    end\n",
    "    return ebounds\n",
    "end\n",
    "function checkbounds4(energy,ebounds)\n",
    "    ebounds[1],ebounds[2] = test_min(energy,ebounds[1]),test_max(energy,ebounds[2])\n",
    "    return ebounds \n",
    "end\n",
    "ebounds = [-1.,1.]\n",
    "energy = 0.6\n",
    "Random.seed!(1234)\n",
    "ebounds = check_e_bounds(energy,ebounds)\n",
    "@benchmark check_e_bounds($rand(-1.5:1.5),$ebounds)\n",
    "ebounds = [-1.,1.]\n",
    "Random.seed!(1234)\n",
    "@benchmark checkbounds2($rand(-1.5:1.5),$ebounds[1],$ebounds[2])\n",
    "ebounds = [-1.,1.]\n",
    "Random.seed!(1234)\n",
    "energy = 0.6\n",
    "@benchmark checkbounds3($rand(-1.5:1.5),$ebounds)\n",
    "ebounds = [-1.,1.]\n",
    "Random.seed!(1234)\n",
    "energy = 0.6\n",
    "ebounds = checkbounds4(energy,ebounds)\n",
    "@benchmark checkbounds4($rand(-1.5:1.5),$ebounds)\n",
    "import ParallelTemperingMonteCarlo.MCRun.mc_cycle!,ParallelTemperingMonteCarlo.MCRun.mc_step!,ParallelTemperingMonteCarlo.MCRun.update_max_stepsize!\n"
   ]
  },
  {
   "cell_type": "code",
   "execution_count": null,
   "metadata": {},
   "outputs": [],
   "source": [
    "\n",
    "function test_equilibration(mc_states,move_strat,mc_params,pot,ensemble)#more booleans etc in existing code. Will include after testing\n",
    "\n",
    "\n",
    "    a,v,r = atom_move_frequency(move_strat),vol_move_frequency(move_strat),rot_move_frequency(move_strat)\n",
    "    n_steps = a + v + r\n",
    "    println(\"Total number of moves per MC cycle: \", n_steps)\n",
    "    println()\n",
    "\n",
    "    ebounds = [100. , -100.]\n",
    "\n",
    "    for i = 1:mc_params.eq_cycles\n",
    "        mc_states = mc_cycle!(mc_states,move_strat,mc_params,pot,ensemble,n_steps,a,v,r)\n",
    "        \n",
    "        for state in mc_states\n",
    "            ebounds = checkbounds3(state.en_tot,ebounds)\n",
    "        end\n",
    "\n",
    "        if rem(i, mc_params.n_adjust) == 0\n",
    "            for i_traj = 1:mc_params.n_traj\n",
    "                update_max_stepsize!(mc_states[i_traj], mc_params.n_adjust, a, v, r)\n",
    "            end \n",
    "        end\n",
    "    end\n",
    "    return mc_states,ebounds,a,v,r\n",
    "end\n",
    "@benchmark test_equilibration($mc_states,move_strat,mc_params,pot,ensemble)"
   ]
  },
  {
   "attachments": {},
   "cell_type": "markdown",
   "metadata": {},
   "source": [
    "NB: Tested the three \"sensible\" methods for checking the energy and the fastest overall was iteration checkbounds3, likely as a result of it not calculating max/min if the other is satisfied first. The major quesiton is which goes first? This could have a huge impact on how quick the process is: Testing time:"
   ]
  },
  {
   "cell_type": "code",
   "execution_count": 13,
   "metadata": {},
   "outputs": [
    {
     "data": {
      "text/plain": [
       "checkbounds3a (generic function with 1 method)"
      ]
     },
     "metadata": {},
     "output_type": "display_data"
    }
   ],
   "source": [
    "function checkbounds3a(energy,ebounds)\n",
    "    #if energy<ebounds[1]\n",
    "        # ebounds[1]=energy\n",
    "    if energy>ebounds[2]\n",
    "        ebounds[2] = energy\n",
    "    elseif energy<ebounds[1]\n",
    "        ebounds[1]=energy\n",
    "    else\n",
    "    end\n",
    "    return ebounds\n",
    "end\n",
    "mc_states = [MCState(temp.t_grid[i], temp.beta_grid[i], start_config, pot) for i in 1:n_traj]\n",
    "\n",
    "function test_equilibration2(mc_states,move_strat,mc_params,pot,ensemble)#more booleans etc in existing code. Will include after testing\n",
    "\n",
    "\n",
    "    a,v,r = atom_move_frequency(move_strat),vol_move_frequency(move_strat),rot_move_frequency(move_strat)\n",
    "    n_steps = a + v + r\n",
    "    println(\"Total number of moves per MC cycle: \", n_steps)\n",
    "    println()\n",
    "\n",
    "    ebounds = [100. , -100.]\n",
    "\n",
    "    for i = 1:mc_params.eq_cycles\n",
    "        mc_states = mc_cycle!(mc_states,move_strat,mc_params,pot,ensemble,n_steps,a,v,r)\n",
    "        \n",
    "        for state in mc_states\n",
    "            ebounds = checkbounds3a(state.en_tot,ebounds)\n",
    "        end\n",
    "\n",
    "        if rem(i, mc_params.n_adjust) == 0\n",
    "            for i_traj = 1:mc_params.n_traj\n",
    "                update_max_stepsize!(mc_states[i_traj], mc_params.n_adjust, a, v, r)\n",
    "            end \n",
    "        end\n",
    "    end\n",
    "    return mc_states,ebounds,a,v,r\n",
    "end\n",
    "@benchmark test_equilibration2($mc_states,move_strat,mc_params,pot,ensemble)"
   ]
  },
  {
   "attachments": {},
   "cell_type": "markdown",
   "metadata": {},
   "source": [
    "# Equilibration complete\n",
    "\n"
   ]
  },
  {
   "cell_type": "code",
   "execution_count": 16,
   "metadata": {},
   "outputs": [
    {
     "data": {
      "text/plain": [
       "test_equilibration (generic function with 2 methods)"
      ]
     },
     "metadata": {},
     "output_type": "display_data"
    }
   ],
   "source": [
    "function reset_counters(state)\n",
    "    state.count_atom = [0,0]\n",
    "    state.count_vol = [0,0]\n",
    "    state.count_rot = [0,0]\n",
    "    state.count_exc = [0,0]\n",
    "end\n",
    "\n",
    "function test_equilibration(mc_states,move_strat,mc_params,pot,ensemble,results)#more booleans etc in existing code. Will include after testing\n",
    "\n",
    "\n",
    "    a,v,r = atom_move_frequency(move_strat),vol_move_frequency(move_strat),rot_move_frequency(move_strat)\n",
    "    n_steps = a + v + r\n",
    "    println(\"Total number of moves per MC cycle: \", n_steps)\n",
    "    println()\n",
    "\n",
    "    ebounds = [100. , -100.]\n",
    "\n",
    "    for i = 1:mc_params.eq_cycles\n",
    "\n",
    "        mc_states = mc_cycle!(mc_states,move_strat,mc_params,pot,ensemble,n_steps,a,v,r)\n",
    "        \n",
    "        for state in mc_states\n",
    "            ebounds = checkbounds3(state.en_tot,ebounds)\n",
    "        end\n",
    "\n",
    "        if rem(i, mc_params.n_adjust) == 0\n",
    "            for state in mc_states\n",
    "                update_max_stepsize!(state,mc_params.n_adjust,a,v,r)\n",
    "            end\n",
    "        end\n",
    "        \n",
    "    end\n",
    "\n",
    "    #reset counter-variables\n",
    "    for state in mc_states\n",
    "        reset_counters(state)\n",
    "    end\n",
    "\n",
    "    delta_en_hist,delta_r2 = initialise_histograms!(mc_params,results,ebounds,mc_states[1].config.bc)\n",
    "\n",
    "    start_counter = 1\n",
    "\n",
    "    println(\"equilibration done\")\n",
    "\n",
    "    return mc_states,results,delta_en_hist,delta_r2,start_counter,n_steps,a,v,r\n",
    "\n",
    "end\n",
    "function bench_test1(mc_states,mc_params)\n",
    "    for i_traj = 1:mc_params.n_traj\n",
    "        reset_counters(mc_states[i_traj])\n",
    "    end\n",
    "    return mc_states\n",
    "end\n",
    "function bench_test2(mc_states)\n",
    "    for state in mc_states\n",
    "        reset_counters(state)\n",
    "    end\n",
    "    return mc_states\n",
    "end\n",
    "@benchmark bench_test1(mc_states,mc_params)\n",
    "@benchmark bench_test2(mc_states)"
   ]
  },
  {
   "attachments": {},
   "cell_type": "markdown",
   "metadata": {},
   "source": [
    "It seems for state in states is better than iterating 1:mc_cycles"
   ]
  },
  {
   "cell_type": "code",
   "execution_count": 18,
   "metadata": {},
   "outputs": [
    {
     "name": "stdout",
     "output_type": "stream",
     "text": [
      "Total number of moves per MC cycle: 13\n",
      "\n"
     ]
    },
    {
     "name": "stdout",
     "output_type": "stream",
     "text": [
      "equilibration done\n"
     ]
    }
   ],
   "source": [
    "mc_states = [MCState(temp.t_grid[i], temp.beta_grid[i], start_config, pot) for i in 1:n_traj]\n",
    "Random.seed!(1234)\n",
    "\n",
    "mc_states,results,delta_en_hist,delta_r2,start_counter,a,v,r = test_equilibration(mc_states,move_strat,mc_params,pot,ensemble,results)\n",
    "\n",
    "save_states(mc_params,mc_states,0,pwd())"
   ]
  },
  {
   "cell_type": "code",
   "execution_count": 19,
   "metadata": {},
   "outputs": [
    {
     "data": {
      "text/plain": [
       "test_ptmc_cycle! (generic function with 1 method)"
      ]
     },
     "metadata": {},
     "output_type": "display_data"
    }
   ],
   "source": [
    "function test_ptmc_cycle!(mc_states, move_strat, mc_params, pot, ensemble, results; save_ham::Bool = false, save::Bool=false, restart::Bool=false,restartindex::Int64=0,save_dir = pwd())\n",
    "\n",
    "\n",
    "\n",
    "    \n",
    "    \n",
    "    \n",
    "    #If we do not save the hamiltonian we still need to store the E, E**2 terms at each cycle\n",
    "    for i_traj = 1:mc_params.n_traj\n",
    "        push!(mc_states[i_traj].ham, 0)\n",
    "        push!(mc_states[i_traj].ham, 0)\n",
    "    end\n",
    "            \n",
    "    mc_states,results,delta_en_hist,delta_r2,start_counter,n_steps,a,v,r = test_equilibration(mc_states,move_strat,mc_params,pot,ensemble,results)\n",
    "        \n",
    "        \n",
    "                #if save == true\n",
    "    save_states(mc_params,mc_states,0,save_dir)\n",
    "                #end\n",
    "            #end\n",
    "        \n",
    "        \n",
    "        \n",
    "            #main MC loop\n",
    "        \n",
    "            #if restart == false\n",
    "        \n",
    "    for i = 1:mc_params.mc_cycles\n",
    "        @inbounds ptmc_cycle!(mc_states,results,move_strat, mc_params, pot, ensemble ,n_steps ,a ,v ,r,save,i,save_dir,delta_en_hist,delta_r2)\n",
    "    end\n",
    "        \n",
    "            # else #if restarting\n",
    "        \n",
    "            #     for i = restartindex:mc_params.mc_cycles\n",
    "            #         @inbounds ptmc_cycle!(mc_states,results,move_strat, mc_params, pot, ensemble ,n_steps ,a ,v ,r,save,i,save_dir,delta_en_hist,delta_r2)\n",
    "            #     end \n",
    "            # end\n",
    "    println(\"MC loop done.\")\n",
    "            #Evaluation\n",
    "            #average energy\n",
    "            n_sample = mc_params.mc_cycles / mc_params.mc_sample\n",
    "        \n",
    "            if save_ham == true\n",
    "                en_avg = [sum(mc_states[i_traj].ham) / n_sample for i_traj in 1:mc_params.n_traj] #floor(mc_cycles/mc_sample)\n",
    "                en2_avg = [sum(mc_states[i_traj].ham .* mc_states[i_traj].ham) / n_sample for i_traj in 1:mc_params.n_traj]\n",
    "            else\n",
    "                en_avg = [mc_states[i_traj].ham[1] / n_sample  for i_traj in 1:mc_params.n_traj]\n",
    "                en2_avg = [mc_states[i_traj].ham[2] / n_sample  for i_traj in 1:mc_params.n_traj]\n",
    "            end\n",
    "        \n",
    "        \n",
    "            results.en_avg = en_avg\n",
    "        \n",
    "            #heat capacity\n",
    "            results.heat_cap = [(en2_avg[i]-en_avg[i]^2) * mc_states[i].beta \n",
    "            \n",
    "            for i in 1:mc_params.n_traj]\n",
    "        \n",
    "            #acceptance statistics\n",
    "            results.count_stat_atom = [mc_states[i_traj].count_atom[1] / (mc_params.n_atoms * mc_params.mc_cycles) for i_traj in 1:mc_params.n_traj]\n",
    "            results.count_stat_exc = [mc_states[i_traj].count_exc[2] / mc_states[i_traj].count_exc[1] for i_traj in 1:mc_params.n_traj]\n",
    "        \n",
    "            println(results.heat_cap)\n",
    "        \n",
    "            #energy histograms\n",
    "        \n",
    "            #TO DO\n",
    "            # volume (NPT ensemble),rot moves ...\n",
    "            # move boundary condition from config to mc_params?\n",
    "            # rdfs\n",
    "        \n",
    "            println(\"done\")\n",
    "            return \n",
    "end\n"
   ]
  },
  {
   "cell_type": "code",
   "execution_count": 20,
   "metadata": {},
   "outputs": [
    {
     "name": "stdout",
     "output_type": "stream",
     "text": [
      "Total number of moves per MC cycle: 13\n",
      "\n"
     ]
    },
    {
     "name": "stdout",
     "output_type": "stream",
     "text": [
      "equilibration done\n"
     ]
    },
    {
     "name": "stdout",
     "output_type": "stream",
     "text": [
      "MC loop done.\n"
     ]
    },
    {
     "name": "stdout",
     "output_type": "stream",
     "text": [
      "[0.0003234110423948385, 0.00034130435146749016, 0.0003571979730485569, 0.0003751826872688714, 0.00038929116332445156, 0.00041586364789964576, 0.00043669694264594094, 0.0004595895593319723, 0.0004890435704389878, 0.0005157634753972615, 0.0005536751008066922, 0.0005723147050125483, 0.0006169481887285358, 0.000683777774995162, 0.0007252243017238607, 0.000822837124956102, 0.0008936290651810269, 0.0009485259670130599, 0.0011550216114052253, 0.001486674414643203, 0.0017357931127196526, 0.0022538799773156406, 0.002685202167626738, 0.0030124683418126814, 0.003227185612361041, 0.0031974041582545276, 0.003076489630752461, 0.002817309162204895, 0.0025391775980580186, 0.0022260287657100224, 0.002074304958103143, 0.0020101649064780125]\n",
      "done\n",
      "158.312354 seconds (1.08 G allocations: 184.391 GiB, 9.34% gc time, 0.19% compilation time)\n"
     ]
    }
   ],
   "source": [
    "mc_states = [MCState(temp.t_grid[i], temp.beta_grid[i], start_config, pot) for i in 1:n_traj]\n",
    "Random.seed!(1234)\n",
    "\n",
    "@time test_ptmc_cycle!(mc_states, move_strat, mc_params, pot, ensemble, results; save_ham = false,save=false)\n"
   ]
  },
  {
   "cell_type": "code",
   "execution_count": 22,
   "metadata": {},
   "outputs": [
    {
     "name": "stdout",
     "output_type": "stream",
     "text": [
      "Total number of moves per MC cycle: 13\n",
      "\n"
     ]
    },
    {
     "name": "stdout",
     "output_type": "stream",
     "text": [
      "equilibration done\n"
     ]
    },
    {
     "name": "stdout",
     "output_type": "stream",
     "text": [
      "MC loop done.\n",
      "[0.0003234110423948385, 0.00034130435146749016, 0.0003571979730485569, 0.0003751826872688714, 0.00038929116332445156, 0.00041586364789964576, 0.00043669694264594094, 0.0004595895593319723, 0.0004890435704389878, 0.0005157634753972615, 0.0005536751008066922, 0.0005723147050125483, 0.0006169481887285358, 0.000683777774995162, 0.0007252243017238607, 0.000822837124956102, 0.0008936290651810269, 0.0009485259670130599, 0.0011550216114052253, 0.001486674414643203, 0.0017357931127196526, 0.0022538799773156406, 0.002685202167626738, 0.0030124683418126814, 0.003227185612361041, 0.0031974041582545276, 0.003076489630752461, 0.002817309162204895, 0.0025391775980580186, 0.0022260287657100224, 0.002074304958103143, 0.0020101649064780125]\n",
      "done\n",
      "159.323036 seconds (1.11 G allocations: 184.952 GiB, 9.38% gc time, 0.15% compilation time)\n"
     ]
    }
   ],
   "source": [
    "mc_states = [MCState(temp.t_grid[i], temp.beta_grid[i], start_config, pot) for i in 1:n_traj]\n",
    "results = Output{Float64}(n_bin; en_min = mc_states[1].en_tot)\n",
    "Random.seed!(1234)\n",
    "@time ptmc_run!(mc_states, move_strat, mc_params, pot, ensemble, results; save_ham = false,save=false)\n"
   ]
  }
 ],
 "metadata": {
  "kernelspec": {
   "display_name": "Julia 1.8.5",
   "language": "julia",
   "name": "julia-1.8"
  },
  "language_info": {
   "file_extension": ".jl",
   "mimetype": "application/julia",
   "name": "julia",
   "version": "1.8.5"
  },
  "orig_nbformat": 4
 },
 "nbformat": 4,
 "nbformat_minor": 2
}
