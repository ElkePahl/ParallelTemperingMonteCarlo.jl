{
 "cells": [
  {
   "cell_type": "code",
   "execution_count": 1,
   "metadata": {},
   "outputs": [
    {
     "name": "stderr",
     "output_type": "stream",
     "text": [
      "\u001b[32m\u001b[1m    Updating\u001b[22m\u001b[39m registry at `~/.julia/registries/General.toml`\n"
     ]
    },
    {
     "name": "stderr",
     "output_type": "stream",
     "text": [
      "\u001b[32m\u001b[1m    Updating\u001b[22m\u001b[39m git-repo `https://github.com/grayseff/MachineLearningPotential.jl.git`\n"
     ]
    },
    {
     "name": "stderr",
     "output_type": "stream",
     "text": [
      "\u001b[32m\u001b[1m   Installed\u001b[22m\u001b[39m PkgVersion ─ v0.3.2\n",
      "\u001b[32m\u001b[1m   Installed\u001b[22m\u001b[39m MPI ──────── v0.20.11\n"
     ]
    },
    {
     "name": "stderr",
     "output_type": "stream",
     "text": [
      "\u001b[32m\u001b[1m  No Changes\u001b[22m\u001b[39m to `~/Documents/ParallelTemperingMonteCarlo.jl/Project.toml`\n",
      "\u001b[32m\u001b[1m    Updating\u001b[22m\u001b[39m `~/Documents/ParallelTemperingMonteCarlo.jl/Manifest.toml`\n"
     ]
    },
    {
     "name": "stderr",
     "output_type": "stream",
     "text": [
      " \u001b[90m [da04e1cc] \u001b[39m\u001b[93m↑ MPI v0.20.10 ⇒ v0.20.11\u001b[39m\n",
      " \u001b[90m [eebad327] \u001b[39m\u001b[92m+ PkgVersion v0.3.2\u001b[39m\n"
     ]
    },
    {
     "name": "stderr",
     "output_type": "stream",
     "text": [
      "\u001b[32m\u001b[1mPrecompiling\u001b[22m\u001b[39m project...\n"
     ]
    },
    {
     "name": "stderr",
     "output_type": "stream",
     "text": [
      "\u001b[32m  ✓ \u001b[39m\u001b[90mPkgVersion\u001b[39m\n"
     ]
    },
    {
     "name": "stderr",
     "output_type": "stream",
     "text": [
      "\u001b[32m  ✓ \u001b[39m\u001b[90mMPI\u001b[39m\n"
     ]
    },
    {
     "name": "stderr",
     "output_type": "stream",
     "text": [
      "\u001b[32m  ✓ \u001b[39mDFTK\n"
     ]
    },
    {
     "name": "stderr",
     "output_type": "stream",
     "text": [
      "\u001b[32m  ✓ \u001b[39mParallelTemperingMonteCarlo\n",
      "  4 dependencies successfully precompiled in 40 seconds. 140 already precompiled.\n"
     ]
    }
   ],
   "source": [
    "using Pkg; Pkg.update()\n",
    "\n",
    "using ParallelTemperingMonteCarlo,BenchmarkTools,DelimitedFiles,MachineLearningPotential,Random"
   ]
  },
  {
   "cell_type": "code",
   "execution_count": 2,
   "metadata": {},
   "outputs": [],
   "source": [
    "using SplitApplyCombine"
   ]
  },
  {
   "attachments": {},
   "cell_type": "markdown",
   "metadata": {},
   "source": [
    "Completed the MLP module based on the librunner.so file written by A. Knoll. Time to use this in PTMC simulations so I can finally generate results. This requires the librunnerjulia file and use of the MLP package."
   ]
  },
  {
   "attachments": {},
   "cell_type": "markdown",
   "metadata": {},
   "source": [
    "First: establishing the struct.\n",
    "\n",
    "This requires the symmetry functions, the nnp values itself, the g and f matrices used in the calculation and a dummy vector new_f_vec to preassign memory for later. I'd prefer to point to the nnp and symmetryfunction structs rather than save copies, I'll look into this later. "
   ]
  },
  {
   "cell_type": "code",
   "execution_count": 3,
   "metadata": {},
   "outputs": [],
   "source": [
    "# struct  RuNNerPotential <: AbstractMachineLearningPotential\n",
    "#     nnp::NeuralNetworkPotential\n",
    "#     symmetryfunctions::Vector{AbstractSymmFunction}\n",
    "#     r_cut::Float64\n",
    "# end\n",
    "# function RuNNerPotential(nnp,symmetryfunction)\n",
    "#     r_cut = symmetryfunction[1].r_cut\n",
    "#     return RuNNerPotential(nnp,symmetryfunction,r_cut)\n",
    "# end\n"
   ]
  },
  {
   "attachments": {},
   "cell_type": "markdown",
   "metadata": {},
   "source": [
    "The challenge is potentials are not unique to each given state, meaning that g_matrix, f_matrix need to be part of the mc_state, not necessarily part of an immutable potential. They could be a vector of these matrices but this seems prohibitive. It's possible to assign them to mc_states? Have an NNP subtype?\n"
   ]
  },
  {
   "cell_type": "code",
   "execution_count": 4,
   "metadata": {},
   "outputs": [],
   "source": [
    "# mutable struct NNPState{T,N,BC}\n",
    "#     temp::T\n",
    "#     beta::T\n",
    "#     config::Config{N,BC,T}\n",
    "#     dist2_mat::Matrix{T}\n",
    "#     en_atom_vec::Vector{T}\n",
    "#     en_tot::T\n",
    "#     ham::Vector{T}\n",
    "#     max_displ::Vector{T}\n",
    "#     count_atom::Vector{Int}\n",
    "#     count_vol::Vector{Int}\n",
    "#     count_rot::Vector{Int}\n",
    "#     count_exc::Vector{Int}\n",
    "\n",
    "#     new_en_atom::Vector{T}\n",
    "\n",
    "#     g_matrix::Array{T}\n",
    "#     f_matrix::Array{T}\n",
    "\n",
    "#     new_g_matrix::Array{T}\n",
    "#     new_dist2_vec::Vector{T}\n",
    "#     new_f_vec::Vector{T}\n",
    "# end\n",
    "\n",
    "\n",
    "# function NNPState(\n",
    "#     temp, beta, config::Config{N,BC,T}, dist2_mat, en_atom_vec, en_tot,n_symm_func,g_matrix,f_matrix; \n",
    "#     max_displ = [0.1,0.1,1.], count_atom = [0,0], count_vol = [0,0], count_rot = [0,0], count_exc = [0,0]\n",
    "# ) where {T,N,BC}\n",
    "#     ham = T[]\n",
    "#     NNPState{T,N,BC}(\n",
    "#         temp, beta, deepcopy(config), copy(dist2_mat), copy(en_atom_vec), en_tot, \n",
    "#         ham, copy(max_displ), copy(count_atom), copy(count_vol), copy(count_rot), copy(count_exc),zeros(length(config.pos)),g_matrix,f_matrix,zeros(n_symm_func,length(config.pos)),zeros(length(config.pos)),zeros(length(config.pos))\n",
    "#         )\n",
    "# end\n",
    "# function NNPState(temp,beta, config::Config, pot::RuNNerPotential;kwargs...)\n",
    "#     dist2_mat = get_distance2_mat(config)\n",
    "#     f_matrix = cutoff_function.(sqrt.(dist2_mat),Ref(pot.r_cut))\n",
    "#     n_atoms = length(config.pos)\n",
    "#     g_matrix = total_symm_calc(config.pos,dist2_mat,f_matrix,pot.symmetryfunctions)\n",
    "\n",
    "\n",
    "#     en_atom_vec = zeros(n_atoms)\n",
    "#     en_tot = 0.\n",
    "\n",
    "#     NNPState(temp, beta, config, dist2_mat, en_atom_vec, en_tot,length(pot.symmetryfunctions),g_matrix,f_matrix ; kwargs...)\n",
    "\n",
    "# end"
   ]
  },
  {
   "attachments": {},
   "cell_type": "markdown",
   "metadata": {},
   "source": [
    "Functionally, this definition allows us to initialise the runner potential, the state and then use them to define the new potential specific state with the g_matrix included. "
   ]
  },
  {
   "cell_type": "code",
   "execution_count": 5,
   "metadata": {},
   "outputs": [
    {
     "data": {
      "text/plain": [
       "initial_energy_calculation (generic function with 1 method)"
      ]
     },
     "metadata": {},
     "output_type": "display_data"
    }
   ],
   "source": [
    "function initial_energy_calculation(nnp_state,runner_pot)\n",
    "    n_atoms = length(nnp_state.config.pos)\n",
    "\n",
    "    nnp_state.g_matrix = total_symm_calc(nnp_state.config.pos,nnp_state.dist2_mat,nnp_state.f_matrix,runner_pot.symmetryfunctions)\n",
    "\n",
    "    nnp_state.en_atom_vec = forward_pass(nnp_state.g_matrix,n_atoms,runner_pot.nnp)\n",
    "\n",
    "    nnp_state.en_tot = sum(nnp_state.en_atom_vec)\n",
    "\n",
    "    return nnp_state\n",
    "end"
   ]
  },
  {
   "attachments": {},
   "cell_type": "markdown",
   "metadata": {},
   "source": [
    "Critically, we require the get_energy function as defined in energyevaluation. Once this is done, we can simulate NNP's. \n",
    "\n",
    "Note-- This is done with the following input/output\n",
    "\n",
    "input:  trial_positions,indices,mc_states,pot\n",
    "\n",
    "the new positions, the new indices for them, the current states and the potential.\n",
    "\n",
    "output:  energy_vector, dist2_new\n",
    "\n",
    "\n"
   ]
  },
  {
   "cell_type": "code",
   "execution_count": 6,
   "metadata": {},
   "outputs": [],
   "source": [
    "# function get_new_state_vars!(trial_pos,atomindex,nnp_state,pot)\n",
    "#     nnp_state.new_dist2_vec = [ distance2(trial_pos,b,nnp_state.config.bc) for b in nnp_state.config.pos]\n",
    "\n",
    "#     nnp_state.new_dist2_vec[atomindex] = 0.\n",
    "    \n",
    "#     nnp_state.new_f_vec = cutoff_function.(sqrt.(nnp_state.new_dist2_vec),Ref(pot.r_cut))\n",
    "\n",
    "\n",
    "#     nnp_state.new_g_matrix = copy(nnp_state.g_matrix)\n",
    "\n",
    "#     nnp_state.new_g_matrix = total_thr_symm!(nnp_state.new_g_matrix,nnp_state.config.pos,trial_pos,nnp_state.dist2_mat,nnp_state.new_dist2_vec,nnp_state.f_matrix,nnp_state.new_f_vec,atomindex,pot.symmetryfunctions)\n",
    "\n",
    "#     return nnp_state\n",
    "# end\n",
    "\n",
    "# function calc_new_energy!(nnp_state,pot)\n",
    "#     nnp_state.new_en_atom = forward_pass(nnp_state.new_g_matrix,length(nnp_state.en_atom_vec),pot.nnp)\n",
    "#     return nnp_state\n",
    "# end\n",
    "\n",
    "# function get_runner_energy!(trial_pos,atomindex,nnp_state,pot)\n",
    "#     nnp_state = get_new_state_vars!(trial_pos,atomindex,nnp_state,pot)\n",
    "\n",
    "#     nnp_state = calc_new_energy!(nnp_state,pot)\n",
    "    \n",
    "#     return sum(nnp_state.new_en_atom) , nnp_state\n",
    "# end\n",
    "\n",
    "# function get_energy!(trial_positions,indices,nnp_states,pot::RuNNerPotential)\n",
    "#     energyvector = Vector{Float64}(undef,length(indices))\n",
    "#     # for idx in eachindex(nnp_states)\n",
    "#     #     energyvector[idx],nnp_states[idx] = get_runner_energy!(trial_positions[idx],indices[idx],nnp_states[idx],pot)\n",
    "#     # end\n",
    "#     energyvector,nnp_states = invert(get_runner_energy!.(trial_positions,indices,nnp_states,Ref(pot)))\n",
    "    \n",
    "#     return energyvector, nnp_states\n",
    "# end"
   ]
  },
  {
   "attachments": {},
   "cell_type": "markdown",
   "metadata": {},
   "source": [
    "Ideally the function above now works the way it's intended in the simulation, other than the natural output being different from other methods. As a result of this we may want to have the g_new_matrix being part of the nnp_state struct, as it preserves the total form of the mc_step function"
   ]
  },
  {
   "attachments": {},
   "cell_type": "markdown",
   "metadata": {},
   "source": [
    "# Initialisation \n",
    "\n",
    "The next major step is to implement a more definitive initialisation. This is somewhat restricted by the purge of .data files, but we can point to directories containing the weights and scaling data. \n",
    "\n",
    "Beyond this we need to point to symmetry function values, distributed over sets of atom types. "
   ]
  },
  {
   "cell_type": "code",
   "execution_count": 7,
   "metadata": {},
   "outputs": [
    {
     "data": {
      "text/plain": [
       "RuNNerPotential(NeuralNetworkPotential(4, 2221, Int32[88, 20, 20, 1], Int32[1, 2, 2, 1], [-1.0768943782, 0.3563458393, -1.3084861447, 0.1127640916, -0.5646591931, -0.4969830793, 1.423770514, -0.2005662393, -0.8957859374, 0.6076110858  …  0.1939524848, -0.0342903191, -0.0231042009, 0.0718481968, -0.0828320122, -0.0728501885, 0.0306628826, 0.0486053813, -0.0867018862, 0.0441651841]), AbstractSymmFunction[RadialType2{Float64}(0.001, 11.338, [1.0, 1.0], -0.029892621990594427, 0.06634475788973929), RadialType2{Float64}(0.001, 11.338, [1.0, 0.0], -0.0, 0.09828103647521905), RadialType2{Float64}(0.02, 11.338, [1.0, 1.0], -0.013430592462258787, 0.13321466604629645), RadialType2{Float64}(0.02, 11.338, [1.0, 0.0], -0.0, 0.18618835781674212), RadialType2{Float64}(0.035, 11.338, [1.0, 1.0], -0.0067056953127401205, 0.2093521117141925), RadialType2{Float64}(0.035, 11.338, [1.0, 0.0], -0.0, 0.28571045376567983), RadialType2{Float64}(0.1, 11.338, [1.0, 1.0], -0.00026435144512647774, 0.9364998977117353), RadialType2{Float64}(0.1, 11.338, [1.0, 0.0], -0.0, 1.3813391986837495), RadialType2{Float64}(0.4, 11.338, [1.0, 1.0], -0.0, 113.41978340450804), RadialType2{Float64}(0.4, 11.338, [1.0, 0.0], -0.0, 181.5238491478726)  …  AngularType3{Float64}(0.08, 1.0, 1.0, 11.338, [1.0, 0.0, 0.0], 28.188019161651663, -0.0), AngularType3{Float64}(0.08, -1.0, 2.0, 11.338, [1.0, 1.0, 1.0], 43.664583342066244, -0.0), AngularType3{Float64}(0.08, -1.0, 2.0, 11.338, [1.0, 1.0, 0.0], 75.80324146789036, -0.0), AngularType3{Float64}(0.08, -1.0, 2.0, 11.338, [1.0, 0.0, 0.0], 96.88497370251159, -0.0), AngularType3{Float64}(0.08, -1.0, 4.0, 11.338, [1.0, 1.0, 1.0], 61.44604668424842, -0.0), AngularType3{Float64}(0.08, -1.0, 4.0, 11.338, [1.0, 1.0, 0.0], 107.84685056999218, -0.0), AngularType3{Float64}(0.08, -1.0, 4.0, 11.338, [1.0, 0.0, 0.0], 154.53409207512087, -0.0), AngularType3{Float64}(0.08, 1.0, 4.0, 11.338, [1.0, 1.0, 1.0], 3.1599692466736964, -2.5279753973389573e-8), AngularType3{Float64}(0.08, 1.0, 4.0, 11.338, [1.0, 1.0, 0.0], 4.790647185008049, -0.0), AngularType3{Float64}(0.08, 1.0, 4.0, 11.338, [1.0, 0.0, 0.0], 9.119962306101394, -0.0)], 11.338)"
      ]
     },
     "metadata": {},
     "output_type": "display_data"
    }
   ],
   "source": [
    "#-------------------------------------------#\n",
    "#--------Vector of radial symm values-------#\n",
    "#-------------------------------------------#\n",
    "X = [ 1    1              0.001   0.000  11.338\n",
    " 1    0              0.001   0.000  11.338\n",
    " 1    1              0.020   0.000  11.338\n",
    " 1    0              0.020   0.000  11.338\n",
    " 1    1              0.035   0.000  11.338\n",
    " 1    0              0.035   0.000  11.338\n",
    " 1    1              0.100   0.000  11.338\n",
    " 1    0              0.100   0.000  11.338\n",
    " 1    1              0.400   0.000  11.338\n",
    " 1    0              0.400   0.000  11.338]\n",
    "\n",
    "radsymmvec = []\n",
    "\n",
    "\n",
    "#--------------------------------------------#\n",
    "#--------Vector of angular symm values-------#\n",
    "#--------------------------------------------#\n",
    "V = [[0.0001,1,1,11.338],[0.0001,-1,2,11.338],[0.003,-1,1,11.338],[0.003,-1,2,11.338],[0.008,-1,1,11.338],[0.008,-1,2,11.338],[0.008,1,2,11.338],[0.015,1,1,11.338],[0.015,-1,2,11.338],[0.015,-1,4,11.338],[0.015,-1,16,11.338],[0.025,-1,1,11.338],[0.025,1,1,11.338],[0.025,1,2,11.338],[0.025,-1,4,11.338],[0.025,-1,16,11.338],[0.025,1,16,11.338],[0.045,1,1,11.338],[0.045,-1,2,11.338],[0.045,-1,4,11.338],[0.045,1,4,11.338],[0.045,1,16,11.338],[0.08,1,1,11.338],[0.08,-1,2,11.338],[0.08,-1,4,11.338],[0.08,1,4,11.338]]\n",
    "\n",
    "T = [[1.,1.,1.],[1.,1.,0.],[1.,0.,0.]]\n",
    "\n",
    "angularsymmvec = []\n",
    "#-------------------------------------------#\n",
    "#-----------Including scaling data----------#\n",
    "#-------------------------------------------#\n",
    "file = open(\"$(pwd())/scaling.data\")\n",
    "scalingvalues = readdlm(file)\n",
    "close(file)\n",
    "G_value_vec = []\n",
    "for row in eachrow(scalingvalues[1:88,:])\n",
    "    max_min = [row[4],row[3]]\n",
    "    push!(G_value_vec,max_min)\n",
    "end\n",
    "\n",
    "\n",
    "for symmindex in eachindex(eachrow(X))\n",
    "    row = X[symmindex,:]\n",
    "    radsymm = RadialType2{Float64}(row[3],row[5],[row[1],row[2]],G_value_vec[symmindex])\n",
    "    push!(radsymmvec,radsymm)\n",
    "end\n",
    "\n",
    "n_index = 10\n",
    "for element in V\n",
    "    for types in T \n",
    "        \n",
    "        n_index += 1\n",
    "\n",
    "        symmfunc = AngularType3{Float64}(element[1],element[2],element[3],11.338,types,G_value_vec[n_index])\n",
    "\n",
    "        push!(angularsymmvec,symmfunc)\n",
    "    end\n",
    "end\n",
    "#---------------------------------------------------#\n",
    "#------concatenating radial and angular values------#\n",
    "#---------------------------------------------------#\n",
    "\n",
    "totalsymmvec = vcat(radsymmvec,angularsymmvec)\n",
    "\n",
    "\n",
    "#--------------------------------------------------#\n",
    "#-----------Initialising the nnp weights-----------#\n",
    "#--------------------------------------------------#\n",
    "num_nodes::Vector{Int32} = [88, 20, 20, 1]\n",
    "activation_functions::Vector{Int32} = [1, 2, 2, 1]\n",
    "file = open(\"weights.029.data\",\"r+\")\n",
    "weights=readdlm(file)\n",
    "close(file)\n",
    "weights = vec(weights)\n",
    "nnp = NeuralNetworkPotential(num_nodes,activation_functions,weights)\n",
    "\n",
    "runnerpotential = RuNNerPotential(nnp,totalsymmvec)"
   ]
  },
  {
   "cell_type": "code",
   "execution_count": 20,
   "metadata": {},
   "outputs": [
    {
     "data": {
      "text/plain": [
       "Output{Float64}(100, 0.0, 0.0, Float64[], Float64[], Float64[], Vector{Float64}[], Matrix{Float64}[], Vector{Float64}[], Float64[], Float64[], Float64[], Float64[])"
      ]
     },
     "metadata": {},
     "output_type": "display_data"
    }
   ],
   "source": [
    "Random.seed!(1234)\n",
    "n_atoms = 55\n",
    "ti = 540\n",
    "tf = 650\n",
    "n_traj = 15\n",
    "temp = TempGrid{n_traj}(ti,tf) \n",
    "mc_cycles = 200\n",
    "mc_sample = 1\n",
    "displ_atom = 0.1 # Angstrom\n",
    "n_adjust = 100\n",
    "max_displ_atom = [0.1*sqrt(displ_atom*temp.t_grid[i]) for i in 1:n_traj]\n",
    "\n",
    "mc_params = MCParams(mc_cycles, n_traj, n_atoms, mc_sample = mc_sample, n_adjust = n_adjust)\n",
    "move_strat = MoveStrategy(atom_moves = n_atoms) \n",
    "ensemble = NVT(n_atoms)\n",
    "ico_55 = [[0.0000006584,       -0.0000019175,        0.0000000505],\n",
    "[-0.0000005810,       -0.0000004871,        0.6678432175],\n",
    "[0.1845874248,       -0.5681026047,        0.2986701538],\n",
    "[-0.4832557457,       -0.3511072166,        0.2986684497],\n",
    "[-0.4832557570,        0.3511046452,        0.2986669456],\n",
    "[0.1845874064,        0.5681000550,        0.2986677202],\n",
    "[0.5973371920,       -0.0000012681,        0.2986697030],\n",
    "[-0.1845860897,       -0.5681038901,       -0.2986676192],\n",
    "[-0.5973358752,       -0.0000025669,       -0.2986696020],\n",
    "[-0.1845861081,        0.5680987696,       -0.2986700528],\n",
    "[0.4832570624,        0.3511033815,       -0.2986683486],\n",
    "[0.4832570738,       -0.3511084803,       -0.2986668445],\n",
    "[0.0000018978,       -0.0000033480,       -0.6678431165],\n",
    "[-0.0000017969,        0.0000009162,        1.3230014650],\n",
    "[0.1871182835,       -0.5758942175,        0.9797717078],\n",
    "[-0.4898861924,       -0.3559221410,       0.9797699802],\n",
    "[-0.4898862039,        0.3559224872,        0.9797684555],\n",
    "[0.1871182648,        0.5758945856,        0.9797692407],\n",
    "[0.6055300485,        0.0000001908,        0.9797712507],\n",
    "[0.7926501864,       -0.5758950093,        0.6055339635],\n",
    "[0.3656681761,       -1.1254128670,        0.5916673591],\n",
    "[-0.3027660545,       -0.9318173412,        0.6055326929],\n",
    "[-0.9573332453,       -0.6955436707,        0.5916639831],\n",
    "[-0.9797705418,       -0.0000006364,        0.6055294407],\n",
    "[-0.9573332679,        0.6955423392,        0.5916610035],\n",
    "[-0.3027660847,        0.9318160902,        0.6055287012],\n",
    "[0.3656681396,        1.1254115783,        0.5916625380],\n",
    "[0.7926501677,        0.5758937939,        0.6055314964],\n",
    "[1.1833279992,       -0.0000006311,        0.5916664660],\n",
    "[0.6770051458,       -0.9318186223,        0.0000033028],\n",
    "[0.0000006771,       -1.1517907207,        0.0000025175],\n",
    "[-0.6770037988,       -0.9318186442,        0.0000007900],\n",
    "[-1.0954155825,       -0.3559242494,       -0.0000012200],\n",
    "[-1.0954155940,        0.3559203788,       -0.0000027447],\n",
    "[-0.6770038290,        0.9318147872,       -0.0000032017],\n",
    "[0.0000006397,        1.1517868856,       -0.0000024165],\n",
    "[0.6770051155,        0.9318148091,       -0.0000006889],\n",
    "[1.0954168993,        0.3559204143,        0.0000013211],\n",
    "[1.0954169108,       -0.3559242139,        0.0000028458],\n",
    "[0.3027674014,       -0.9318199253,       -0.6055286002],\n",
    "[-0.3656668229,       -1.1254154134,       -0.5916624370],\n",
    "[-0.7926488510,       -0.5758976290,       -0.6055313954],\n",
    "[-1.1833266824,       -0.0000032040,       -0.5916663649],\n",
    "[-0.7926488697,        0.5758911742,       -0.6055338624],\n",
    "[-0.3656668594,        1.1254090319,       -0.5916672580],\n",
    "[0.3027673712,        0.9318135061,       -0.6055325919],\n",
    "[0.9573345621,        0.6955398357,       -0.5916638820],\n",
    "[0.9797718586,       -0.0000031986,       -0.6055293396],\n",
    "[0.9573345846,       -0.6955461743,       -0.5916609025],\n",
    "[-0.1871169480,       -0.5758984207,       -0.9797691397],\n",
    "[-0.6055287318,       -0.0000040259,       -0.9797711497],\n",
    "[-0.1871169667,        0.5758903824,       -0.9797716067],\n",
    "[0.4898875091,        0.3559183059,       -0.9797698792],\n",
    "[0.4898875207,       -0.3559263223,       -0.9797683545],\n",
    "[0.0000031136,       -0.0000047513,       -1.3230013639]]\n",
    "#convert to Bohr\n",
    "nmtobohr = 18.8973\n",
    "copperconstant = 0.36258*nmtobohr\n",
    "pos_cu55 = copperconstant*ico_55\n",
    "\n",
    "AtoBohr = 1.8897259886\n",
    "bc_cu55 = SphericalBC(radius=12*AtoBohr)\n",
    "start_config = Config(pos_cu55, bc_cu55)\n",
    "n_bin = 100\n",
    "\n",
    "mc_states = [NNPState(temp.t_grid[i], temp.beta_grid[i], start_config, runnerpotential; max_displ=[max_displ_atom[i],0.01,1.]) for i in 1:n_traj]\n",
    "\n",
    "results = Output{Float64}(n_bin; en_min = mc_states[1].en_tot)\n"
   ]
  },
  {
   "attachments": {},
   "cell_type": "markdown",
   "metadata": {},
   "source": [
    "benchmarking revealed this is faster."
   ]
  },
  {
   "cell_type": "code",
   "execution_count": 9,
   "metadata": {},
   "outputs": [
    {
     "data": {
      "text/plain": [
       "initial_energy_vec (generic function with 1 method)"
      ]
     },
     "metadata": {},
     "output_type": "display_data"
    }
   ],
   "source": [
    "# function initial_energy_vec(nnp_states,potential)\n",
    "#     nnp_states = initial_energy_calculation.(nnp_states,Ref(potential))\n",
    "#     return nnp_states\n",
    "# end\n",
    "function initial_energy_vec(nnp_states,potential)\n",
    "    # nnp_states = initial_energy_calculation.(nnp_states,Ref(potential))\n",
    "    for state in nnp_states \n",
    "        state = initial_energy_calculation(state,potential)\n",
    "    end\n",
    "    return nnp_states\n",
    "end"
   ]
  },
  {
   "cell_type": "code",
   "execution_count": 10,
   "metadata": {},
   "outputs": [
    {
     "data": {
      "text/plain": [
       "-6.216814218773105"
      ]
     },
     "metadata": {},
     "output_type": "display_data"
    }
   ],
   "source": [
    "mc_states = initial_energy_vec(mc_states,runnerpotential)\n",
    "mc_states[2].en_tot"
   ]
  },
  {
   "cell_type": "code",
   "execution_count": 11,
   "metadata": {},
   "outputs": [],
   "source": [
    "# function testswap_config!(nnp_state,atomindex,trial_pos,new_energy)\n",
    "\n",
    "#     nnp_state.config.pos[atomindex] = trial_pos\n",
    "\n",
    "#     nnp_state.dist2_mat[atomindex,:] = nnp_state.new_dist2_vec\n",
    "#     nnp_state.dist2_mat[:,atomindex] = nnp_state.new_dist2_vec\n",
    "\n",
    "#     nnp_state.f_matrix[atomindex,:] = nnp_state.new_f_vec\n",
    "#     nnp_state.f_matrix[:,atomindex] = nnp_state.new_f_vec\n",
    "\n",
    "#     nnp_state.g_matrix = nnp_state.new_g_matrix\n",
    "\n",
    "#     nnp_state.en_atom_vec = nnp_state.new_en_atom\n",
    "#     nnp_state.en_tot = new_energy\n",
    "\n",
    "#     nnp_state.count_atom[1] +=1\n",
    "#     nnp_state.count_atom[2] +=1\n",
    "\n",
    "#     return nnp_state\n",
    "# end\n",
    "\n",
    "# function test_acc_test!(ensemble, nnp_state, new_energy, i_atom, trial_pos, dist2_new::Float64)\n",
    "\n",
    "#     if metropolis_condition(ensemble,(new_energy - nnp_state.en_tot),nnp_state.beta) >= rand()\n",
    "\n",
    "#         testswap_config!(nnp_state,i_atom,trial_pos,new_energy)\n",
    "\n",
    "#     end\n",
    "\n",
    "# end\n",
    "\n",
    "# function testmc_step!(nnp_states,move_strat,mc_params,potential,ensemble)\n",
    "#     indices,trial_positions = generate_displacements(mc_states,mc_params)\n",
    "    \n",
    "#     energy_vector, nnp_states = get_energy!(trial_positions,indices,nnp_states,potential)\n",
    "\n",
    "#     Threads.@threads for idx in eachindex(nnp_states)\n",
    "#         test_acc_test!(ensemble,nnp_states[idx],energy_vector[idx],indices[idx],trial_positions[idx],0.)\n",
    "#     end\n",
    "\n",
    "#     return nnp_states\n",
    "# end"
   ]
  },
  {
   "cell_type": "code",
   "execution_count": 12,
   "metadata": {},
   "outputs": [
    {
     "data": {
      "text/plain": [
       "BenchmarkTools.Trial: 111 samples with 1 evaluation.\n",
       " Range \u001b[90m(\u001b[39m\u001b[36m\u001b[1mmin\u001b[22m\u001b[39m … \u001b[35mmax\u001b[39m\u001b[90m):  \u001b[39m\u001b[36m\u001b[1m13.690 ms\u001b[22m\u001b[39m … \u001b[35m411.464 ms\u001b[39m  \u001b[90m┊\u001b[39m GC \u001b[90m(\u001b[39mmin … max\u001b[90m): \u001b[39m 0.00% … 92.53%\n",
       " Time  \u001b[90m(\u001b[39m\u001b[34m\u001b[1mmedian\u001b[22m\u001b[39m\u001b[90m):     \u001b[39m\u001b[34m\u001b[1m32.016 ms               \u001b[22m\u001b[39m\u001b[90m┊\u001b[39m GC \u001b[90m(\u001b[39mmedian\u001b[90m):    \u001b[39m 0.00%\n",
       " Time  \u001b[90m(\u001b[39m\u001b[32m\u001b[1mmean\u001b[22m\u001b[39m ± \u001b[32mσ\u001b[39m\u001b[90m):   \u001b[39m\u001b[32m\u001b[1m45.283 ms\u001b[22m\u001b[39m ± \u001b[32m 70.714 ms\u001b[39m  \u001b[90m┊\u001b[39m GC \u001b[90m(\u001b[39mmean ± σ\u001b[90m):  \u001b[39m35.44% ± 20.51%\n",
       "\n",
       "  \u001b[39m▅\u001b[39m▂\u001b[39m▇\u001b[34m█\u001b[39m\u001b[39m \u001b[32m \u001b[39m\u001b[39m \u001b[39m \u001b[39m \u001b[39m \u001b[39m \u001b[39m \u001b[39m \u001b[39m \u001b[39m \u001b[39m \u001b[39m \u001b[39m \u001b[39m \u001b[39m \u001b[39m \u001b[39m \u001b[39m \u001b[39m \u001b[39m \u001b[39m \u001b[39m \u001b[39m \u001b[39m \u001b[39m \u001b[39m \u001b[39m \u001b[39m \u001b[39m \u001b[39m \u001b[39m \u001b[39m \u001b[39m \u001b[39m \u001b[39m \u001b[39m \u001b[39m \u001b[39m \u001b[39m \u001b[39m \u001b[39m \u001b[39m \u001b[39m \u001b[39m \u001b[39m \u001b[39m \u001b[39m \u001b[39m \u001b[39m \u001b[39m \u001b[39m \u001b[39m \u001b[39m \u001b[39m \u001b[39m \u001b[39m \u001b[39m \n",
       "  \u001b[39m█\u001b[39m█\u001b[39m█\u001b[34m█\u001b[39m\u001b[39m█\u001b[32m▁\u001b[39m\u001b[39m▁\u001b[39m▁\u001b[39m▁\u001b[39m▁\u001b[39m▁\u001b[39m▁\u001b[39m▁\u001b[39m▁\u001b[39m▁\u001b[39m▁\u001b[39m▁\u001b[39m▁\u001b[39m▁\u001b[39m▅\u001b[39m▁\u001b[39m▁\u001b[39m▁\u001b[39m▁\u001b[39m▁\u001b[39m▁\u001b[39m▁\u001b[39m▁\u001b[39m▁\u001b[39m▁\u001b[39m▁\u001b[39m▁\u001b[39m▁\u001b[39m▁\u001b[39m▁\u001b[39m▁\u001b[39m▁\u001b[39m▁\u001b[39m▁\u001b[39m▁\u001b[39m▁\u001b[39m▁\u001b[39m▁\u001b[39m▁\u001b[39m▁\u001b[39m▁\u001b[39m▁\u001b[39m▁\u001b[39m▁\u001b[39m▅\u001b[39m▅\u001b[39m▁\u001b[39m▁\u001b[39m▁\u001b[39m▁\u001b[39m▅\u001b[39m▁\u001b[39m▁\u001b[39m▁\u001b[39m▅\u001b[39m \u001b[39m▅\n",
       "  13.7 ms\u001b[90m       \u001b[39m\u001b[90mHistogram: \u001b[39m\u001b[90m\u001b[1mlog(\u001b[22m\u001b[39m\u001b[90mfrequency\u001b[39m\u001b[90m\u001b[1m)\u001b[22m\u001b[39m\u001b[90m by time\u001b[39m       390 ms \u001b[0m\u001b[1m<\u001b[22m\n",
       "\n",
       " Memory estimate\u001b[90m: \u001b[39m\u001b[33m129.27 MiB\u001b[39m, allocs estimate\u001b[90m: \u001b[39m\u001b[33m1680356\u001b[39m."
      ]
     },
     "metadata": {},
     "output_type": "display_data"
    }
   ],
   "source": [
    "@benchmark mc_step!($mc_states,$move_strat,$mc_params,$runnerpotential,$ensemble)"
   ]
  },
  {
   "cell_type": "code",
   "execution_count": 16,
   "metadata": {},
   "outputs": [
    {
     "data": {
      "text/plain": [
       "55-element Vector{StaticArraysCore.SVector{3, Float64}}:\n",
       " [0.0, 0.0, 0.0]\n",
       " [0.2775397660100228, 0.020467610528373592, 0.13828422734204793]\n",
       " [0.0, 0.0, 0.0]\n",
       " [0.0, 0.0, 0.0]\n",
       " [0.029472549484363952, -0.06589722719292235, -0.14968615552693398]\n",
       " [-0.03081476680682016, -0.12247744576755393, -0.09757177264942829]\n",
       " [0.0, 0.0, 0.0]\n",
       " [0.19180652109218976, -0.016597794822581946, -0.20955834276605145]\n",
       " [0.0, 0.0, 0.0]\n",
       " [0.08364018786441241, 0.01360998220797649, -0.24287405441779453]\n",
       " ⋮\n",
       " [0.019054938091651152, 0.011697330921559335, 0.2156795767542974]\n",
       " [-0.21129114050837483, 0.23973091222653217, 0.031999646771216916]\n",
       " [-0.013600635621410007, 0.24012843980477871, -0.08897833353914164]\n",
       " [-0.08742874582643356, 0.07130099014725655, -0.16544668167311016]\n",
       " [-0.1790693384647586, -0.2790675270305484, -0.13300431840715188]\n",
       " [0.0, 0.0, 0.0]\n",
       " [-0.03147522569701833, 0.389663084954897, 0.24353493308162832]\n",
       " [0.1617027985318713, 0.3244432632608856, -0.008468398566158442]\n",
       " [0.0, 0.0, 0.0]"
      ]
     },
     "metadata": {},
     "output_type": "display_data"
    }
   ],
   "source": [
    "mc_states[3].config.pos .- mc_states[10].config.pos"
   ]
  },
  {
   "cell_type": "code",
   "execution_count": 14,
   "metadata": {},
   "outputs": [
    {
     "data": {
      "text/plain": [
       "NNPState{Float64, 55, SphericalBC{Float64}}(608.3539857714874, 519.0645457227431, Config{55, SphericalBC{Float64}, Float64}(StaticArraysCore.SVector{3, Float64}[[4.5112139495856e-6, -1.3138293967695e-5, 3.4601504321700004e-7], [-0.27754374689596556, -0.020470948031889452, 4.437632599696424], [1.264752985534391, -3.8925157884546686, 2.0464230925690106], [-3.311163519470279, -2.405710469814843, 2.0464114164455425], [-3.327862607359954, 2.486366762966421, 2.1430339251330928], [1.295567626268403, 4.014975764231021, 2.1439781907192472], [4.092824837722801, -8.6887460654154e-6, 2.046420003785219], [-1.456550358811052, -3.8759268009139984, -1.8368473832736814], [-4.092815815294902, -1.75878418699746e-5, -2.0464193117551326], [-1.3143616217661274, 3.9821269013758536, -1.951190811287754]  …  [2.0744963372369405, 6.384583971948036, -4.148977939714466], [6.5594487104586, 4.765688045720408, -4.053952548518178], [6.713184197946128, -2.1916113212552402e-5, -4.1489556556605045], [6.573049500245128, -5.005859916237125, -3.9649538000914872], [-1.2820847296802604, -3.9459310282596545, -6.7131655686332365], [-4.148951491146777, -2.75845933165806e-5, -6.713179340717135], [-1.282084857808603, 3.9458759515720923, -6.71318247198198], [3.1831415535809815, 2.1851662501735425, -6.974659836955046], [3.1945672991883374, -2.614193389965839, -6.8897258362258365], [2.1333711654662402e-5, -3.25548767294442e-5, -9.06491829912888]], SphericalBC{Float64}(514.2332609265956)), [0.0 19.77003157647241 … 64.50749666079739 82.17275004373793; 19.77003157647241 0.0 … 147.09200035799165 182.39634087725554; … ; 64.50749666079739 147.09200035799165 … 0.0 21.77042304792735; 82.17275004373793 182.39634087725554 … 21.77042304792735 0.0], [-0.14824829558591068, -0.15378286866154464, -0.1569702454268477, -0.16208709683434008, -0.16549730047858735, -0.16038753757801208, -0.1556817230488652, -0.15548843960409273, -0.15939266642295435, -0.1567603328005897  …  -0.10213464418199258, -0.08786268889037166, -0.10268511991151874, -0.08809405012496385, -0.10585004262986905, -0.10254949387074577, -0.10740944879193443, -0.10072115192845874, -0.10481126504339364, -0.08927759871275753], -6.161083044138461, Float64[], [0.7799705031419377, 0.01, 1.0], [55, 55], [0, 0], [0, 0], [0, 0], [-0.14824829558591068, -0.15378286866154464, -0.1569702454268477, -0.16208709683434008, -0.16549730047858735, -0.16038753757801208, -0.1556817230488652, -0.15548843960409273, -0.15939266642295435, -0.1567603328005897  …  -0.10213464418199258, -0.08786268889037166, -0.10268511991151874, -0.08809405012496385, -0.10585004262986905, -0.10254949387074577, -0.10740944879193443, -0.10072115192845874, -0.10481126504339364, -0.08927759871275753], [0.9243153492464599 0.7644287251548748 … 0.4503215662120955 0.35124732466205816; 0.0 0.0 … 0.0 0.0; … ; 0.0 0.0 … 0.0 0.0; 0.0 0.0 … 0.0 0.0], [1.0 0.6661674878054639 … 0.19555635553161 0.09593833408183039; 0.6661674878054639 1.0 … 0.0 0.0; … ; 0.19555635553161 0.0 … 1.0 0.6371925266650623; 0.09593833408183039 0.0 … 0.6371925266650623 1.0], [0.9243153492464599 0.7644287251548748 … 0.4503215662120955 0.35124732466205816; 0.0 0.0 … 0.0 0.0; … ; 0.0 0.0 … 0.0 0.0; 0.0 0.0 … 0.0 0.0], [64.27608993034933, 117.09356947753464, 82.0123196815811, 45.4859181340736, 89.1583582818699, 152.7334751558708, 146.0452212039648, 20.701326212177744, 24.384981938357885, 89.8856169738135  …  170.07760260339055, 225.1525963195054, 165.07800514855666, 143.63859058724634, 23.94511356933006, 27.03503472672874, 91.94632353575524, 124.05769061200704, 84.47363354009099, 72.46853445269272], [0.19714341193149, 0.005122024514474188, 0.09666200832564475, 0.3532162370543942, 0.06740095098903992, 0.0, 0.0, 0.6525741460923857, 0.6005679578579181, 0.06475566739614741  …  0.0, 0.0, 0.0, 0.0, 0.6066319010183533, 0.564859351698258, 0.05758321280768747, 0.0007666544985051038, 0.0859018808642047, 0.14553229247137622])"
      ]
     },
     "metadata": {},
     "output_type": "display_data"
    }
   ],
   "source": [
    "mc_states[10]"
   ]
  },
  {
   "cell_type": "code",
   "execution_count": 18,
   "metadata": {},
   "outputs": [
    {
     "data": {
      "text/plain": [
       "BenchmarkTools.Trial: 12 samples with 1 evaluation.\n",
       " Range \u001b[90m(\u001b[39m\u001b[36m\u001b[1mmin\u001b[22m\u001b[39m … \u001b[35mmax\u001b[39m\u001b[90m):  \u001b[39m\u001b[36m\u001b[1m233.520 ms\u001b[22m\u001b[39m … \u001b[35m655.542 ms\u001b[39m  \u001b[90m┊\u001b[39m GC \u001b[90m(\u001b[39mmin … max\u001b[90m): \u001b[39m 0.00% … 52.77%\n",
       " Time  \u001b[90m(\u001b[39m\u001b[34m\u001b[1mmedian\u001b[22m\u001b[39m\u001b[90m):     \u001b[39m\u001b[34m\u001b[1m468.171 ms               \u001b[22m\u001b[39m\u001b[90m┊\u001b[39m GC \u001b[90m(\u001b[39mmedian\u001b[90m):    \u001b[39m25.62%\n",
       " Time  \u001b[90m(\u001b[39m\u001b[32m\u001b[1mmean\u001b[22m\u001b[39m ± \u001b[32mσ\u001b[39m\u001b[90m):   \u001b[39m\u001b[32m\u001b[1m457.840 ms\u001b[22m\u001b[39m ± \u001b[32m145.388 ms\u001b[39m  \u001b[90m┊\u001b[39m GC \u001b[90m(\u001b[39mmean ± σ\u001b[90m):  \u001b[39m36.34% ± 27.97%\n",
       "\n",
       "  \u001b[39m▁\u001b[39m \u001b[39m \u001b[39m \u001b[39m \u001b[39m \u001b[39m \u001b[39m \u001b[39m \u001b[39m▁\u001b[39m▁\u001b[39m \u001b[39m \u001b[39m \u001b[39m \u001b[39m▁\u001b[39m \u001b[39m \u001b[39m▁\u001b[39m \u001b[39m \u001b[39m \u001b[39m \u001b[39m \u001b[39m \u001b[39m \u001b[39m \u001b[39m \u001b[39m \u001b[39m \u001b[39m \u001b[39m \u001b[32m \u001b[39m\u001b[39m▁\u001b[34m▁\u001b[39m\u001b[39m \u001b[39m \u001b[39m \u001b[39m \u001b[39m \u001b[39m \u001b[39m \u001b[39m \u001b[39m \u001b[39m \u001b[39m \u001b[39m \u001b[39m \u001b[39m \u001b[39m▁\u001b[39m \u001b[39m▁\u001b[39m█\u001b[39m \u001b[39m \u001b[39m \u001b[39m \u001b[39m \u001b[39m \u001b[39m \u001b[39m▁\u001b[39m \u001b[39m \n",
       "  \u001b[39m█\u001b[39m▁\u001b[39m▁\u001b[39m▁\u001b[39m▁\u001b[39m▁\u001b[39m▁\u001b[39m▁\u001b[39m▁\u001b[39m█\u001b[39m█\u001b[39m▁\u001b[39m▁\u001b[39m▁\u001b[39m▁\u001b[39m█\u001b[39m▁\u001b[39m▁\u001b[39m█\u001b[39m▁\u001b[39m▁\u001b[39m▁\u001b[39m▁\u001b[39m▁\u001b[39m▁\u001b[39m▁\u001b[39m▁\u001b[39m▁\u001b[39m▁\u001b[39m▁\u001b[39m▁\u001b[39m▁\u001b[32m▁\u001b[39m\u001b[39m█\u001b[34m█\u001b[39m\u001b[39m▁\u001b[39m▁\u001b[39m▁\u001b[39m▁\u001b[39m▁\u001b[39m▁\u001b[39m▁\u001b[39m▁\u001b[39m▁\u001b[39m▁\u001b[39m▁\u001b[39m▁\u001b[39m▁\u001b[39m▁\u001b[39m█\u001b[39m▁\u001b[39m█\u001b[39m█\u001b[39m▁\u001b[39m▁\u001b[39m▁\u001b[39m▁\u001b[39m▁\u001b[39m▁\u001b[39m▁\u001b[39m█\u001b[39m \u001b[39m▁\n",
       "  234 ms\u001b[90m           Histogram: frequency by time\u001b[39m          656 ms \u001b[0m\u001b[1m<\u001b[22m\n",
       "\n",
       " Memory estimate\u001b[90m: \u001b[39m\u001b[33m1.26 GiB\u001b[39m, allocs estimate\u001b[90m: \u001b[39m\u001b[33m16803650\u001b[39m."
      ]
     },
     "metadata": {},
     "output_type": "display_data"
    }
   ],
   "source": [
    "@benchmark mc_cycle!(mc_states,move_strat,mc_params,runnerpotential,ensemble,10,55,0,0)"
   ]
  },
  {
   "attachments": {},
   "cell_type": "markdown",
   "metadata": {},
   "source": [
    "Basic testing complete, we can extrapolate the timings given above to a 1,000,000 cycle calculation taking just five days, if this is true on an 8-core computer, then my project is tractable"
   ]
  },
  {
   "cell_type": "code",
   "execution_count": 22,
   "metadata": {},
   "outputs": [
    {
     "data": {
      "text/plain": [
       "(NNPState{Float64, 55, SphericalBC{Float64}}[NNPState{Float64, 55, SphericalBC{Float64}}(540.0, 584.7684912279577, Config{55, SphericalBC{Float64}, Float64}(StaticArraysCore.SVector{3, Float64}[[4.5112139495856e-6, -1.3138293967695e-5, 3.4601504321700004e-7], [-3.980885942754e-6, -3.3375035158614e-6, 4.575916827038472], [1.264752985534391, -3.8925157884546686, 2.0464230925690106], [-3.311163519470279, -2.405710469814843, 2.0464114164455425], [-3.311163596895427, 2.40569285113995, 2.0464011106786812], [1.264752859461583, 3.8924983184634674, 2.046406418069819], [4.092824837722801, -8.6887460654154e-6, 2.046420003785219], [-1.2647438377188622, -3.8925245957365804, -2.046405726039733], [-4.092815815294902, -1.75878418699746e-5, -2.0464193117551326], [-1.26474396379167, 3.8924895111815556, -2.046422400538924]  …  [2.0744963372369405, 6.384583971948036, -4.148977939714466], [6.5594487104586, 4.765688045720408, -4.053952548518178], [6.713184197946128, -2.1916113212552402e-5, -4.1489556556605045], [6.559448864623718, -4.765731476432347, -4.053932133630629], [-1.2820847296802604, -3.9459310282596545, -6.7131655686332365], [-4.148951491146777, -2.75845933165806e-5, -6.713179340717135], [-1.282084857808603, 3.9458759515720923, -6.71318247198198], [3.3566029234199006, 2.4386750098556425, -6.71317063552679], [3.356603002900584, -2.438729936489156, -6.713160188613198], [2.1333711654662402e-5, -3.25548767294442e-5, -9.06491829912888]], SphericalBC{Float64}(514.2332609265956)), [0.0 20.93901164147001 … 62.28061741988252 82.17275004373793; 20.93901164147001 0.0 … 144.65745773351938 186.07238294077558; … ; 62.28061741988252 144.65745773351938 … 0.0 22.74465163139474; 82.17275004373793 186.07238294077558 … 22.74465163139474 0.0], [0.0, 0.0, 0.0, 0.0, 0.0, 0.0, 0.0, 0.0, 0.0, 0.0  …  0.0, 0.0, 0.0, 0.0, 0.0, 0.0, 0.0, 0.0, 0.0, 0.0], 0.0, Float64[], [0.7348469228349535, 0.01, 1.0], [0, 0], [0, 0], [0, 0], [0, 0], [0.0, 0.0, 0.0, 0.0, 0.0, 0.0, 0.0, 0.0, 0.0, 0.0  …  0.0, 0.0, 0.0, 0.0, 0.0, 0.0, 0.0, 0.0, 0.0, 0.0], [0.9414388269065571 0.7640290266879379 … 0.4647321919846901 0.3482417787364063; 0.0 0.0 … 0.0 0.0; … ; 0.0 0.0 … 0.0 0.0; 0.0 0.0 … 0.0 0.0], [1.0 0.6491338983343238 … 0.21115043227882824 0.09593833408183039; 0.6491338983343238 1.0 … 0.0 0.0; … ; 0.21115043227882824 0.0 … 1.0 0.6233818428280022; 0.09593833408183039 0.0 … 0.6233818428280022 1.0], [0.0 0.0 … 0.0 0.0; 0.0 0.0 … 0.0 0.0; … ; 0.0 0.0 … 0.0 0.0; 0.0 0.0 … 0.0 0.0], [0.0, 0.0, 0.0, 0.0, 0.0, 0.0, 0.0, 0.0, 0.0, 0.0  …  0.0, 0.0, 0.0, 0.0, 0.0, 0.0, 0.0, 0.0, 0.0, 0.0], [0.0, 0.0, 0.0, 0.0, 0.0, 0.0, 0.0, 0.0, 0.0, 0.0  …  0.0, 0.0, 0.0, 0.0, 0.0, 0.0, 0.0, 0.0, 0.0, 0.0]), NNPState{Float64, 55, SphericalBC{Float64}}(547.1988293384211, 577.0754035509873, Config{55, SphericalBC{Float64}, Float64}(StaticArraysCore.SVector{3, Float64}[[4.5112139495856e-6, -1.3138293967695e-5, 3.4601504321700004e-7], [-3.980885942754e-6, -3.3375035158614e-6, 4.575916827038472], [1.264752985534391, -3.8925157884546686, 2.0464230925690106], [-3.311163519470279, -2.405710469814843, 2.0464114164455425], [-3.311163596895427, 2.40569285113995, 2.0464011106786812], [1.264752859461583, 3.8924983184634674, 2.046406418069819], [4.092824837722801, -8.6887460654154e-6, 2.046420003785219], [-1.2647438377188622, -3.8925245957365804, -2.046405726039733], [-4.092815815294902, -1.75878418699746e-5, -2.0464193117551326], [-1.26474396379167, 3.8924895111815556, -2.046422400538924]  …  [2.0744963372369405, 6.384583971948036, -4.148977939714466], [6.5594487104586, 4.765688045720408, -4.053952548518178], [6.713184197946128, -2.1916113212552402e-5, -4.1489556556605045], [6.559448864623718, -4.765731476432347, -4.053932133630629], [-1.2820847296802604, -3.9459310282596545, -6.7131655686332365], [-4.148951491146777, -2.75845933165806e-5, -6.713179340717135], [-1.282084857808603, 3.9458759515720923, -6.71318247198198], [3.3566029234199006, 2.4386750098556425, -6.71317063552679], [3.356603002900584, -2.438729936489156, -6.713160188613198], [2.1333711654662402e-5, -3.25548767294442e-5, -9.06491829912888]], SphericalBC{Float64}(514.2332609265956)), [0.0 20.93901164147001 … 62.28061741988252 82.17275004373793; 20.93901164147001 0.0 … 144.65745773351938 186.07238294077558; … ; 62.28061741988252 144.65745773351938 … 0.0 22.74465163139474; 82.17275004373793 186.07238294077558 … 22.74465163139474 0.0], [0.0, 0.0, 0.0, 0.0, 0.0, 0.0, 0.0, 0.0, 0.0, 0.0  …  0.0, 0.0, 0.0, 0.0, 0.0, 0.0, 0.0, 0.0, 0.0, 0.0], 0.0, Float64[], [0.7397288890792499, 0.01, 1.0], [0, 0], [0, 0], [0, 0], [0, 0], [0.0, 0.0, 0.0, 0.0, 0.0, 0.0, 0.0, 0.0, 0.0, 0.0  …  0.0, 0.0, 0.0, 0.0, 0.0, 0.0, 0.0, 0.0, 0.0, 0.0], [0.9414388269065571 0.7640290266879379 … 0.4647321919846901 0.3482417787364063; 0.0 0.0 … 0.0 0.0; … ; 0.0 0.0 … 0.0 0.0; 0.0 0.0 … 0.0 0.0], [1.0 0.6491338983343238 … 0.21115043227882824 0.09593833408183039; 0.6491338983343238 1.0 … 0.0 0.0; … ; 0.21115043227882824 0.0 … 1.0 0.6233818428280022; 0.09593833408183039 0.0 … 0.6233818428280022 1.0], [0.0 0.0 … 0.0 0.0; 0.0 0.0 … 0.0 0.0; … ; 0.0 0.0 … 0.0 0.0; 0.0 0.0 … 0.0 0.0], [0.0, 0.0, 0.0, 0.0, 0.0, 0.0, 0.0, 0.0, 0.0, 0.0  …  0.0, 0.0, 0.0, 0.0, 0.0, 0.0, 0.0, 0.0, 0.0, 0.0], [0.0, 0.0, 0.0, 0.0, 0.0, 0.0, 0.0, 0.0, 0.0, 0.0  …  0.0, 0.0, 0.0, 0.0, 0.0, 0.0, 0.0, 0.0, 0.0, 0.0]), NNPState{Float64, 55, SphericalBC{Float64}}(554.4936274617379, 569.4835244700569, Config{55, SphericalBC{Float64}, Float64}(StaticArraysCore.SVector{3, Float64}[[4.5112139495856e-6, -1.3138293967695e-5, 3.4601504321700004e-7], [-3.980885942754e-6, -3.3375035158614e-6, 4.575916827038472], [1.264752985534391, -3.8925157884546686, 2.0464230925690106], [-3.311163519470279, -2.405710469814843, 2.0464114164455425], [-3.311163596895427, 2.40569285113995, 2.0464011106786812], [1.264752859461583, 3.8924983184634674, 2.046406418069819], [4.092824837722801, -8.6887460654154e-6, 2.046420003785219], [-1.2647438377188622, -3.8925245957365804, -2.046405726039733], [-4.092815815294902, -1.75878418699746e-5, -2.0464193117551326], [-1.26474396379167, 3.8924895111815556, -2.046422400538924]  …  [2.0744963372369405, 6.384583971948036, -4.148977939714466], [6.5594487104586, 4.765688045720408, -4.053952548518178], [6.713184197946128, -2.1916113212552402e-5, -4.1489556556605045], [6.559448864623718, -4.765731476432347, -4.053932133630629], [-1.2820847296802604, -3.9459310282596545, -6.7131655686332365], [-4.148951491146777, -2.75845933165806e-5, -6.713179340717135], [-1.282084857808603, 3.9458759515720923, -6.71318247198198], [3.3566029234199006, 2.4386750098556425, -6.71317063552679], [3.356603002900584, -2.438729936489156, -6.713160188613198], [2.1333711654662402e-5, -3.25548767294442e-5, -9.06491829912888]], SphericalBC{Float64}(514.2332609265956)), [0.0 20.93901164147001 … 62.28061741988252 82.17275004373793; 20.93901164147001 0.0 … 144.65745773351938 186.07238294077558; … ; 62.28061741988252 144.65745773351938 … 0.0 22.74465163139474; 82.17275004373793 186.07238294077558 … 22.74465163139474 0.0], [0.0, 0.0, 0.0, 0.0, 0.0, 0.0, 0.0, 0.0, 0.0, 0.0  …  0.0, 0.0, 0.0, 0.0, 0.0, 0.0, 0.0, 0.0, 0.0, 0.0], 0.0, Float64[], [0.7446432887374584, 0.01, 1.0], [0, 0], [0, 0], [0, 0], [0, 0], [0.0, 0.0, 0.0, 0.0, 0.0, 0.0, 0.0, 0.0, 0.0, 0.0  …  0.0, 0.0, 0.0, 0.0, 0.0, 0.0, 0.0, 0.0, 0.0, 0.0], [0.9414388269065571 0.7640290266879379 … 0.4647321919846901 0.3482417787364063; 0.0 0.0 … 0.0 0.0; … ; 0.0 0.0 … 0.0 0.0; 0.0 0.0 … 0.0 0.0], [1.0 0.6491338983343238 … 0.21115043227882824 0.09593833408183039; 0.6491338983343238 1.0 … 0.0 0.0; … ; 0.21115043227882824 0.0 … 1.0 0.6233818428280022; 0.09593833408183039 0.0 … 0.6233818428280022 1.0], [0.0 0.0 … 0.0 0.0; 0.0 0.0 … 0.0 0.0; … ; 0.0 0.0 … 0.0 0.0; 0.0 0.0 … 0.0 0.0], [0.0, 0.0, 0.0, 0.0, 0.0, 0.0, 0.0, 0.0, 0.0, 0.0  …  0.0, 0.0, 0.0, 0.0, 0.0, 0.0, 0.0, 0.0, 0.0, 0.0], [0.0, 0.0, 0.0, 0.0, 0.0, 0.0, 0.0, 0.0, 0.0, 0.0  …  0.0, 0.0, 0.0, 0.0, 0.0, 0.0, 0.0, 0.0, 0.0, 0.0]), NNPState{Float64, 55, SphericalBC{Float64}}(561.8856737456991, 561.9915225067869, Config{55, SphericalBC{Float64}, Float64}(StaticArraysCore.SVector{3, Float64}[[4.5112139495856e-6, -1.3138293967695e-5, 3.4601504321700004e-7], [-3.980885942754e-6, -3.3375035158614e-6, 4.575916827038472], [1.264752985534391, -3.8925157884546686, 2.0464230925690106], [-3.311163519470279, -2.405710469814843, 2.0464114164455425], [-3.311163596895427, 2.40569285113995, 2.0464011106786812], [1.264752859461583, 3.8924983184634674, 2.046406418069819], [4.092824837722801, -8.6887460654154e-6, 2.046420003785219], [-1.2647438377188622, -3.8925245957365804, -2.046405726039733], [-4.092815815294902, -1.75878418699746e-5, -2.0464193117551326], [-1.26474396379167, 3.8924895111815556, -2.046422400538924]  …  [2.0744963372369405, 6.384583971948036, -4.148977939714466], [6.5594487104586, 4.765688045720408, -4.053952548518178], [6.713184197946128, -2.1916113212552402e-5, -4.1489556556605045], [6.559448864623718, -4.765731476432347, -4.053932133630629], [-1.2820847296802604, -3.9459310282596545, -6.7131655686332365], [-4.148951491146777, -2.75845933165806e-5, -6.713179340717135], [-1.282084857808603, 3.9458759515720923, -6.71318247198198], [3.3566029234199006, 2.4386750098556425, -6.71317063552679], [3.356603002900584, -2.438729936489156, -6.713160188613198], [2.1333711654662402e-5, -3.25548767294442e-5, -9.06491829912888]], SphericalBC{Float64}(514.2332609265956)), [0.0 20.93901164147001 … 62.28061741988252 82.17275004373793; 20.93901164147001 0.0 … 144.65745773351938 186.07238294077558; … ; 62.28061741988252 144.65745773351938 … 0.0 22.74465163139474; 82.17275004373793 186.07238294077558 … 22.74465163139474 0.0], [0.0, 0.0, 0.0, 0.0, 0.0, 0.0, 0.0, 0.0, 0.0, 0.0  …  0.0, 0.0, 0.0, 0.0, 0.0, 0.0, 0.0, 0.0, 0.0, 0.0], 0.0, Float64[], [0.7495903372814374, 0.01, 1.0], [0, 0], [0, 0], [0, 0], [0, 0], [0.0, 0.0, 0.0, 0.0, 0.0, 0.0, 0.0, 0.0, 0.0, 0.0  …  0.0, 0.0, 0.0, 0.0, 0.0, 0.0, 0.0, 0.0, 0.0, 0.0], [0.9414388269065571 0.7640290266879379 … 0.4647321919846901 0.3482417787364063; 0.0 0.0 … 0.0 0.0; … ; 0.0 0.0 … 0.0 0.0; 0.0 0.0 … 0.0 0.0], [1.0 0.6491338983343238 … 0.21115043227882824 0.09593833408183039; 0.6491338983343238 1.0 … 0.0 0.0; … ; 0.21115043227882824 0.0 … 1.0 0.6233818428280022; 0.09593833408183039 0.0 … 0.6233818428280022 1.0], [0.0 0.0 … 0.0 0.0; 0.0 0.0 … 0.0 0.0; … ; 0.0 0.0 … 0.0 0.0; 0.0 0.0 … 0.0 0.0], [0.0, 0.0, 0.0, 0.0, 0.0, 0.0, 0.0, 0.0, 0.0, 0.0  …  0.0, 0.0, 0.0, 0.0, 0.0, 0.0, 0.0, 0.0, 0.0, 0.0], [0.0, 0.0, 0.0, 0.0, 0.0, 0.0, 0.0, 0.0, 0.0, 0.0  …  0.0, 0.0, 0.0, 0.0, 0.0, 0.0, 0.0, 0.0, 0.0, 0.0]), NNPState{Float64, 55, SphericalBC{Float64}}(569.3762646216234, 554.5980836994394, Config{55, SphericalBC{Float64}, Float64}(StaticArraysCore.SVector{3, Float64}[[4.5112139495856e-6, -1.3138293967695e-5, 3.4601504321700004e-7], [-3.980885942754e-6, -3.3375035158614e-6, 4.575916827038472], [1.264752985534391, -3.8925157884546686, 2.0464230925690106], [-3.311163519470279, -2.405710469814843, 2.0464114164455425], [-3.311163596895427, 2.40569285113995, 2.0464011106786812], [1.264752859461583, 3.8924983184634674, 2.046406418069819], [4.092824837722801, -8.6887460654154e-6, 2.046420003785219], [-1.2647438377188622, -3.8925245957365804, -2.046405726039733], [-4.092815815294902, -1.75878418699746e-5, -2.0464193117551326], [-1.26474396379167, 3.8924895111815556, -2.046422400538924]  …  [2.0744963372369405, 6.384583971948036, -4.148977939714466], [6.5594487104586, 4.765688045720408, -4.053952548518178], [6.713184197946128, -2.1916113212552402e-5, -4.1489556556605045], [6.559448864623718, -4.765731476432347, -4.053932133630629], [-1.2820847296802604, -3.9459310282596545, -6.7131655686332365], [-4.148951491146777, -2.75845933165806e-5, -6.713179340717135], [-1.282084857808603, 3.9458759515720923, -6.71318247198198], [3.3566029234199006, 2.4386750098556425, -6.71317063552679], [3.356603002900584, -2.438729936489156, -6.713160188613198], [2.1333711654662402e-5, -3.25548767294442e-5, -9.06491829912888]], SphericalBC{Float64}(514.2332609265956)), [0.0 20.93901164147001 … 62.28061741988252 82.17275004373793; 20.93901164147001 0.0 … 144.65745773351938 186.07238294077558; … ; 62.28061741988252 144.65745773351938 … 0.0 22.74465163139474; 82.17275004373793 186.07238294077558 … 22.74465163139474 0.0], [0.0, 0.0, 0.0, 0.0, 0.0, 0.0, 0.0, 0.0, 0.0, 0.0  …  0.0, 0.0, 0.0, 0.0, 0.0, 0.0, 0.0, 0.0, 0.0, 0.0], 0.0, Float64[], [0.7545702516145356, 0.01, 1.0], [0, 0], [0, 0], [0, 0], [0, 0], [0.0, 0.0, 0.0, 0.0, 0.0, 0.0, 0.0, 0.0, 0.0, 0.0  …  0.0, 0.0, 0.0, 0.0, 0.0, 0.0, 0.0, 0.0, 0.0, 0.0], [0.9414388269065571 0.7640290266879379 … 0.4647321919846901 0.3482417787364063; 0.0 0.0 … 0.0 0.0; … ; 0.0 0.0 … 0.0 0.0; 0.0 0.0 … 0.0 0.0], [1.0 0.6491338983343238 … 0.21115043227882824 0.09593833408183039; 0.6491338983343238 1.0 … 0.0 0.0; … ; 0.21115043227882824 0.0 … 1.0 0.6233818428280022; 0.09593833408183039 0.0 … 0.6233818428280022 1.0], [0.0 0.0 … 0.0 0.0; 0.0 0.0 … 0.0 0.0; … ; 0.0 0.0 … 0.0 0.0; 0.0 0.0 … 0.0 0.0], [0.0, 0.0, 0.0, 0.0, 0.0, 0.0, 0.0, 0.0, 0.0, 0.0  …  0.0, 0.0, 0.0, 0.0, 0.0, 0.0, 0.0, 0.0, 0.0, 0.0], [0.0, 0.0, 0.0, 0.0, 0.0, 0.0, 0.0, 0.0, 0.0, 0.0  …  0.0, 0.0, 0.0, 0.0, 0.0, 0.0, 0.0, 0.0, 0.0, 0.0]), NNPState{Float64, 55, SphericalBC{Float64}}(576.9667138037692, 547.3019113724725, Config{55, SphericalBC{Float64}, Float64}(StaticArraysCore.SVector{3, Float64}[[4.5112139495856e-6, -1.3138293967695e-5, 3.4601504321700004e-7], [-3.980885942754e-6, -3.3375035158614e-6, 4.575916827038472], [1.264752985534391, -3.8925157884546686, 2.0464230925690106], [-3.311163519470279, -2.405710469814843, 2.0464114164455425], [-3.311163596895427, 2.40569285113995, 2.0464011106786812], [1.264752859461583, 3.8924983184634674, 2.046406418069819], [4.092824837722801, -8.6887460654154e-6, 2.046420003785219], [-1.2647438377188622, -3.8925245957365804, -2.046405726039733], [-4.092815815294902, -1.75878418699746e-5, -2.0464193117551326], [-1.26474396379167, 3.8924895111815556, -2.046422400538924]  …  [2.0744963372369405, 6.384583971948036, -4.148977939714466], [6.5594487104586, 4.765688045720408, -4.053952548518178], [6.713184197946128, -2.1916113212552402e-5, -4.1489556556605045], [6.559448864623718, -4.765731476432347, -4.053932133630629], [-1.2820847296802604, -3.9459310282596545, -6.7131655686332365], [-4.148951491146777, -2.75845933165806e-5, -6.713179340717135], [-1.282084857808603, 3.9458759515720923, -6.71318247198198], [3.3566029234199006, 2.4386750098556425, -6.71317063552679], [3.356603002900584, -2.438729936489156, -6.713160188613198], [2.1333711654662402e-5, -3.25548767294442e-5, -9.06491829912888]], SphericalBC{Float64}(514.2332609265956)), [0.0 20.93901164147001 … 62.28061741988252 82.17275004373793; 20.93901164147001 0.0 … 144.65745773351938 186.07238294077558; … ; 62.28061741988252 144.65745773351938 … 0.0 22.74465163139474; 82.17275004373793 186.07238294077558 … 22.74465163139474 0.0], [0.0, 0.0, 0.0, 0.0, 0.0, 0.0, 0.0, 0.0, 0.0, 0.0  …  0.0, 0.0, 0.0, 0.0, 0.0, 0.0, 0.0, 0.0, 0.0, 0.0], 0.0, Float64[], [0.7595832500811016, 0.01, 1.0], [0, 0], [0, 0], [0, 0], [0, 0], [0.0, 0.0, 0.0, 0.0, 0.0, 0.0, 0.0, 0.0, 0.0, 0.0  …  0.0, 0.0, 0.0, 0.0, 0.0, 0.0, 0.0, 0.0, 0.0, 0.0], [0.9414388269065571 0.7640290266879379 … 0.4647321919846901 0.3482417787364063; 0.0 0.0 … 0.0 0.0; … ; 0.0 0.0 … 0.0 0.0; 0.0 0.0 … 0.0 0.0], [1.0 0.6491338983343238 … 0.21115043227882824 0.09593833408183039; 0.6491338983343238 1.0 … 0.0 0.0; … ; 0.21115043227882824 0.0 … 1.0 0.6233818428280022; 0.09593833408183039 0.0 … 0.6233818428280022 1.0], [0.0 0.0 … 0.0 0.0; 0.0 0.0 … 0.0 0.0; … ; 0.0 0.0 … 0.0 0.0; 0.0 0.0 … 0.0 0.0], [0.0, 0.0, 0.0, 0.0, 0.0, 0.0, 0.0, 0.0, 0.0, 0.0  …  0.0, 0.0, 0.0, 0.0, 0.0, 0.0, 0.0, 0.0, 0.0, 0.0], [0.0, 0.0, 0.0, 0.0, 0.0, 0.0, 0.0, 0.0, 0.0, 0.0  …  0.0, 0.0, 0.0, 0.0, 0.0, 0.0, 0.0, 0.0, 0.0, 0.0]), NNPState{Float64, 55, SphericalBC{Float64}}(584.6583525197376, 540.1017259091273, Config{55, SphericalBC{Float64}, Float64}(StaticArraysCore.SVector{3, Float64}[[4.5112139495856e-6, -1.3138293967695e-5, 3.4601504321700004e-7], [-3.980885942754e-6, -3.3375035158614e-6, 4.575916827038472], [1.264752985534391, -3.8925157884546686, 2.0464230925690106], [-3.311163519470279, -2.405710469814843, 2.0464114164455425], [-3.311163596895427, 2.40569285113995, 2.0464011106786812], [1.264752859461583, 3.8924983184634674, 2.046406418069819], [4.092824837722801, -8.6887460654154e-6, 2.046420003785219], [-1.2647438377188622, -3.8925245957365804, -2.046405726039733], [-4.092815815294902, -1.75878418699746e-5, -2.0464193117551326], [-1.26474396379167, 3.8924895111815556, -2.046422400538924]  …  [2.0744963372369405, 6.384583971948036, -4.148977939714466], [6.5594487104586, 4.765688045720408, -4.053952548518178], [6.713184197946128, -2.1916113212552402e-5, -4.1489556556605045], [6.559448864623718, -4.765731476432347, -4.053932133630629], [-1.2820847296802604, -3.9459310282596545, -6.7131655686332365], [-4.148951491146777, -2.75845933165806e-5, -6.713179340717135], [-1.282084857808603, 3.9458759515720923, -6.71318247198198], [3.3566029234199006, 2.4386750098556425, -6.71317063552679], [3.356603002900584, -2.438729936489156, -6.713160188613198], [2.1333711654662402e-5, -3.25548767294442e-5, -9.06491829912888]], SphericalBC{Float64}(514.2332609265956)), [0.0 20.93901164147001 … 62.28061741988252 82.17275004373793; 20.93901164147001 0.0 … 144.65745773351938 186.07238294077558; … ; 62.28061741988252 144.65745773351938 … 0.0 22.74465163139474; 82.17275004373793 186.07238294077558 … 22.74465163139474 0.0], [0.0, 0.0, 0.0, 0.0, 0.0, 0.0, 0.0, 0.0, 0.0, 0.0  …  0.0, 0.0, 0.0, 0.0, 0.0, 0.0, 0.0, 0.0, 0.0, 0.0], 0.0, Float64[], [0.7646295524760587, 0.01, 1.0], [0, 0], [0, 0], [0, 0], [0, 0], [0.0, 0.0, 0.0, 0.0, 0.0, 0.0, 0.0, 0.0, 0.0, 0.0  …  0.0, 0.0, 0.0, 0.0, 0.0, 0.0, 0.0, 0.0, 0.0, 0.0], [0.9414388269065571 0.7640290266879379 … 0.4647321919846901 0.3482417787364063; 0.0 0.0 … 0.0 0.0; … ; 0.0 0.0 … 0.0 0.0; 0.0 0.0 … 0.0 0.0], [1.0 0.6491338983343238 … 0.21115043227882824 0.09593833408183039; 0.6491338983343238 1.0 … 0.0 0.0; … ; 0.21115043227882824 0.0 … 1.0 0.6233818428280022; 0.09593833408183039 0.0 … 0.6233818428280022 1.0], [0.0 0.0 … 0.0 0.0; 0.0 0.0 … 0.0 0.0; … ; 0.0 0.0 … 0.0 0.0; 0.0 0.0 … 0.0 0.0], [0.0, 0.0, 0.0, 0.0, 0.0, 0.0, 0.0, 0.0, 0.0, 0.0  …  0.0, 0.0, 0.0, 0.0, 0.0, 0.0, 0.0, 0.0, 0.0, 0.0], [0.0, 0.0, 0.0, 0.0, 0.0, 0.0, 0.0, 0.0, 0.0, 0.0  …  0.0, 0.0, 0.0, 0.0, 0.0, 0.0, 0.0, 0.0, 0.0, 0.0]), NNPState{Float64, 55, SphericalBC{Float64}}(592.452529743945, 532.9962645270053, Config{55, SphericalBC{Float64}, Float64}(StaticArraysCore.SVector{3, Float64}[[4.5112139495856e-6, -1.3138293967695e-5, 3.4601504321700004e-7], [-3.980885942754e-6, -3.3375035158614e-6, 4.575916827038472], [1.264752985534391, -3.8925157884546686, 2.0464230925690106], [-3.311163519470279, -2.405710469814843, 2.0464114164455425], [-3.311163596895427, 2.40569285113995, 2.0464011106786812], [1.264752859461583, 3.8924983184634674, 2.046406418069819], [4.092824837722801, -8.6887460654154e-6, 2.046420003785219], [-1.2647438377188622, -3.8925245957365804, -2.046405726039733], [-4.092815815294902, -1.75878418699746e-5, -2.0464193117551326], [-1.26474396379167, 3.8924895111815556, -2.046422400538924]  …  [2.0744963372369405, 6.384583971948036, -4.148977939714466], [6.5594487104586, 4.765688045720408, -4.053952548518178], [6.713184197946128, -2.1916113212552402e-5, -4.1489556556605045], [6.559448864623718, -4.765731476432347, -4.053932133630629], [-1.2820847296802604, -3.9459310282596545, -6.7131655686332365], [-4.148951491146777, -2.75845933165806e-5, -6.713179340717135], [-1.282084857808603, 3.9458759515720923, -6.71318247198198], [3.3566029234199006, 2.4386750098556425, -6.71317063552679], [3.356603002900584, -2.438729936489156, -6.713160188613198], [2.1333711654662402e-5, -3.25548767294442e-5, -9.06491829912888]], SphericalBC{Float64}(514.2332609265956)), [0.0 20.93901164147001 … 62.28061741988252 82.17275004373793; 20.93901164147001 0.0 … 144.65745773351938 186.07238294077558; … ; 62.28061741988252 144.65745773351938 … 0.0 22.74465163139474; 82.17275004373793 186.07238294077558 … 22.74465163139474 0.0], [0.0, 0.0, 0.0, 0.0, 0.0, 0.0, 0.0, 0.0, 0.0, 0.0  …  0.0, 0.0, 0.0, 0.0, 0.0, 0.0, 0.0, 0.0, 0.0, 0.0], 0.0, Float64[], [0.7697093800545405, 0.01, 1.0], [0, 0], [0, 0], [0, 0], [0, 0], [0.0, 0.0, 0.0, 0.0, 0.0, 0.0, 0.0, 0.0, 0.0, 0.0  …  0.0, 0.0, 0.0, 0.0, 0.0, 0.0, 0.0, 0.0, 0.0, 0.0], [0.9414388269065571 0.7640290266879379 … 0.4647321919846901 0.3482417787364063; 0.0 0.0 … 0.0 0.0; … ; 0.0 0.0 … 0.0 0.0; 0.0 0.0 … 0.0 0.0], [1.0 0.6491338983343238 … 0.21115043227882824 0.09593833408183039; 0.6491338983343238 1.0 … 0.0 0.0; … ; 0.21115043227882824 0.0 … 1.0 0.6233818428280022; 0.09593833408183039 0.0 … 0.6233818428280022 1.0], [0.0 0.0 … 0.0 0.0; 0.0 0.0 … 0.0 0.0; … ; 0.0 0.0 … 0.0 0.0; 0.0 0.0 … 0.0 0.0], [0.0, 0.0, 0.0, 0.0, 0.0, 0.0, 0.0, 0.0, 0.0, 0.0  …  0.0, 0.0, 0.0, 0.0, 0.0, 0.0, 0.0, 0.0, 0.0, 0.0], [0.0, 0.0, 0.0, 0.0, 0.0, 0.0, 0.0, 0.0, 0.0, 0.0  …  0.0, 0.0, 0.0, 0.0, 0.0, 0.0, 0.0, 0.0, 0.0, 0.0]), NNPState{Float64, 55, SphericalBC{Float64}}(600.3506124342089, 525.9842810566006, Config{55, SphericalBC{Float64}, Float64}(StaticArraysCore.SVector{3, Float64}[[4.5112139495856e-6, -1.3138293967695e-5, 3.4601504321700004e-7], [-3.980885942754e-6, -3.3375035158614e-6, 4.575916827038472], [1.264752985534391, -3.8925157884546686, 2.0464230925690106], [-3.311163519470279, -2.405710469814843, 2.0464114164455425], [-3.311163596895427, 2.40569285113995, 2.0464011106786812], [1.264752859461583, 3.8924983184634674, 2.046406418069819], [4.092824837722801, -8.6887460654154e-6, 2.046420003785219], [-1.2647438377188622, -3.8925245957365804, -2.046405726039733], [-4.092815815294902, -1.75878418699746e-5, -2.0464193117551326], [-1.26474396379167, 3.8924895111815556, -2.046422400538924]  …  [2.0744963372369405, 6.384583971948036, -4.148977939714466], [6.5594487104586, 4.765688045720408, -4.053952548518178], [6.713184197946128, -2.1916113212552402e-5, -4.1489556556605045], [6.559448864623718, -4.765731476432347, -4.053932133630629], [-1.2820847296802604, -3.9459310282596545, -6.7131655686332365], [-4.148951491146777, -2.75845933165806e-5, -6.713179340717135], [-1.282084857808603, 3.9458759515720923, -6.71318247198198], [3.3566029234199006, 2.4386750098556425, -6.71317063552679], [3.356603002900584, -2.438729936489156, -6.713160188613198], [2.1333711654662402e-5, -3.25548767294442e-5, -9.06491829912888]], SphericalBC{Float64}(514.2332609265956)), [0.0 20.93901164147001 … 62.28061741988252 82.17275004373793; 20.93901164147001 0.0 … 144.65745773351938 186.07238294077558; … ; 62.28061741988252 144.65745773351938 … 0.0 22.74465163139474; 82.17275004373793 186.07238294077558 … 22.74465163139474 0.0], [0.0, 0.0, 0.0, 0.0, 0.0, 0.0, 0.0, 0.0, 0.0, 0.0  …  0.0, 0.0, 0.0, 0.0, 0.0, 0.0, 0.0, 0.0, 0.0, 0.0], 0.0, Float64[], [0.7748229555415928, 0.01, 1.0], [0, 0], [0, 0], [0, 0], [0, 0], [0.0, 0.0, 0.0, 0.0, 0.0, 0.0, 0.0, 0.0, 0.0, 0.0  …  0.0, 0.0, 0.0, 0.0, 0.0, 0.0, 0.0, 0.0, 0.0, 0.0], [0.9414388269065571 0.7640290266879379 … 0.4647321919846901 0.3482417787364063; 0.0 0.0 … 0.0 0.0; … ; 0.0 0.0 … 0.0 0.0; 0.0 0.0 … 0.0 0.0], [1.0 0.6491338983343238 … 0.21115043227882824 0.09593833408183039; 0.6491338983343238 1.0 … 0.0 0.0; … ; 0.21115043227882824 0.0 … 1.0 0.6233818428280022; 0.09593833408183039 0.0 … 0.6233818428280022 1.0], [0.0 0.0 … 0.0 0.0; 0.0 0.0 … 0.0 0.0; … ; 0.0 0.0 … 0.0 0.0; 0.0 0.0 … 0.0 0.0], [0.0, 0.0, 0.0, 0.0, 0.0, 0.0, 0.0, 0.0, 0.0, 0.0  …  0.0, 0.0, 0.0, 0.0, 0.0, 0.0, 0.0, 0.0, 0.0, 0.0], [0.0, 0.0, 0.0, 0.0, 0.0, 0.0, 0.0, 0.0, 0.0, 0.0  …  0.0, 0.0, 0.0, 0.0, 0.0, 0.0, 0.0, 0.0, 0.0, 0.0]), NNPState{Float64, 55, SphericalBC{Float64}}(608.3539857714874, 519.0645457227431, Config{55, SphericalBC{Float64}, Float64}(StaticArraysCore.SVector{3, Float64}[[4.5112139495856e-6, -1.3138293967695e-5, 3.4601504321700004e-7], [-3.980885942754e-6, -3.3375035158614e-6, 4.575916827038472], [1.264752985534391, -3.8925157884546686, 2.0464230925690106], [-3.311163519470279, -2.405710469814843, 2.0464114164455425], [-3.311163596895427, 2.40569285113995, 2.0464011106786812], [1.264752859461583, 3.8924983184634674, 2.046406418069819], [4.092824837722801, -8.6887460654154e-6, 2.046420003785219], [-1.2647438377188622, -3.8925245957365804, -2.046405726039733], [-4.092815815294902, -1.75878418699746e-5, -2.0464193117551326], [-1.26474396379167, 3.8924895111815556, -2.046422400538924]  …  [2.0744963372369405, 6.384583971948036, -4.148977939714466], [6.5594487104586, 4.765688045720408, -4.053952548518178], [6.713184197946128, -2.1916113212552402e-5, -4.1489556556605045], [6.559448864623718, -4.765731476432347, -4.053932133630629], [-1.2820847296802604, -3.9459310282596545, -6.7131655686332365], [-4.148951491146777, -2.75845933165806e-5, -6.713179340717135], [-1.282084857808603, 3.9458759515720923, -6.71318247198198], [3.3566029234199006, 2.4386750098556425, -6.71317063552679], [3.356603002900584, -2.438729936489156, -6.713160188613198], [2.1333711654662402e-5, -3.25548767294442e-5, -9.06491829912888]], SphericalBC{Float64}(514.2332609265956)), [0.0 20.93901164147001 … 62.28061741988252 82.17275004373793; 20.93901164147001 0.0 … 144.65745773351938 186.07238294077558; … ; 62.28061741988252 144.65745773351938 … 0.0 22.74465163139474; 82.17275004373793 186.07238294077558 … 22.74465163139474 0.0], [0.0, 0.0, 0.0, 0.0, 0.0, 0.0, 0.0, 0.0, 0.0, 0.0  …  0.0, 0.0, 0.0, 0.0, 0.0, 0.0, 0.0, 0.0, 0.0, 0.0], 0.0, Float64[], [0.7799705031419377, 0.01, 1.0], [0, 0], [0, 0], [0, 0], [0, 0], [0.0, 0.0, 0.0, 0.0, 0.0, 0.0, 0.0, 0.0, 0.0, 0.0  …  0.0, 0.0, 0.0, 0.0, 0.0, 0.0, 0.0, 0.0, 0.0, 0.0], [0.9414388269065571 0.7640290266879379 … 0.4647321919846901 0.3482417787364063; 0.0 0.0 … 0.0 0.0; … ; 0.0 0.0 … 0.0 0.0; 0.0 0.0 … 0.0 0.0], [1.0 0.6491338983343238 … 0.21115043227882824 0.09593833408183039; 0.6491338983343238 1.0 … 0.0 0.0; … ; 0.21115043227882824 0.0 … 1.0 0.6233818428280022; 0.09593833408183039 0.0 … 0.6233818428280022 1.0], [0.0 0.0 … 0.0 0.0; 0.0 0.0 … 0.0 0.0; … ; 0.0 0.0 … 0.0 0.0; 0.0 0.0 … 0.0 0.0], [0.0, 0.0, 0.0, 0.0, 0.0, 0.0, 0.0, 0.0, 0.0, 0.0  …  0.0, 0.0, 0.0, 0.0, 0.0, 0.0, 0.0, 0.0, 0.0, 0.0], [0.0, 0.0, 0.0, 0.0, 0.0, 0.0, 0.0, 0.0, 0.0, 0.0  …  0.0, 0.0, 0.0, 0.0, 0.0, 0.0, 0.0, 0.0, 0.0, 0.0]), NNPState{Float64, 55, SphericalBC{Float64}}(616.4640534028156, 512.2358449289186, Config{55, SphericalBC{Float64}, Float64}(StaticArraysCore.SVector{3, Float64}[[4.5112139495856e-6, -1.3138293967695e-5, 3.4601504321700004e-7], [-3.980885942754e-6, -3.3375035158614e-6, 4.575916827038472], [1.264752985534391, -3.8925157884546686, 2.0464230925690106], [-3.311163519470279, -2.405710469814843, 2.0464114164455425], [-3.311163596895427, 2.40569285113995, 2.0464011106786812], [1.264752859461583, 3.8924983184634674, 2.046406418069819], [4.092824837722801, -8.6887460654154e-6, 2.046420003785219], [-1.2647438377188622, -3.8925245957365804, -2.046405726039733], [-4.092815815294902, -1.75878418699746e-5, -2.0464193117551326], [-1.26474396379167, 3.8924895111815556, -2.046422400538924]  …  [2.0744963372369405, 6.384583971948036, -4.148977939714466], [6.5594487104586, 4.765688045720408, -4.053952548518178], [6.713184197946128, -2.1916113212552402e-5, -4.1489556556605045], [6.559448864623718, -4.765731476432347, -4.053932133630629], [-1.2820847296802604, -3.9459310282596545, -6.7131655686332365], [-4.148951491146777, -2.75845933165806e-5, -6.713179340717135], [-1.282084857808603, 3.9458759515720923, -6.71318247198198], [3.3566029234199006, 2.4386750098556425, -6.71317063552679], [3.356603002900584, -2.438729936489156, -6.713160188613198], [2.1333711654662402e-5, -3.25548767294442e-5, -9.06491829912888]], SphericalBC{Float64}(514.2332609265956)), [0.0 20.93901164147001 … 62.28061741988252 82.17275004373793; 20.93901164147001 0.0 … 144.65745773351938 186.07238294077558; … ; 62.28061741988252 144.65745773351938 … 0.0 22.74465163139474; 82.17275004373793 186.07238294077558 … 22.74465163139474 0.0], [0.0, 0.0, 0.0, 0.0, 0.0, 0.0, 0.0, 0.0, 0.0, 0.0  …  0.0, 0.0, 0.0, 0.0, 0.0, 0.0, 0.0, 0.0, 0.0, 0.0], 0.0, Float64[], [0.7851522485498056, 0.01, 1.0], [0, 0], [0, 0], [0, 0], [0, 0], [0.0, 0.0, 0.0, 0.0, 0.0, 0.0, 0.0, 0.0, 0.0, 0.0  …  0.0, 0.0, 0.0, 0.0, 0.0, 0.0, 0.0, 0.0, 0.0, 0.0], [0.9414388269065571 0.7640290266879379 … 0.4647321919846901 0.3482417787364063; 0.0 0.0 … 0.0 0.0; … ; 0.0 0.0 … 0.0 0.0; 0.0 0.0 … 0.0 0.0], [1.0 0.6491338983343238 … 0.21115043227882824 0.09593833408183039; 0.6491338983343238 1.0 … 0.0 0.0; … ; 0.21115043227882824 0.0 … 1.0 0.6233818428280022; 0.09593833408183039 0.0 … 0.6233818428280022 1.0], [0.0 0.0 … 0.0 0.0; 0.0 0.0 … 0.0 0.0; … ; 0.0 0.0 … 0.0 0.0; 0.0 0.0 … 0.0 0.0], [0.0, 0.0, 0.0, 0.0, 0.0, 0.0, 0.0, 0.0, 0.0, 0.0  …  0.0, 0.0, 0.0, 0.0, 0.0, 0.0, 0.0, 0.0, 0.0, 0.0], [0.0, 0.0, 0.0, 0.0, 0.0, 0.0, 0.0, 0.0, 0.0, 0.0  …  0.0, 0.0, 0.0, 0.0, 0.0, 0.0, 0.0, 0.0, 0.0, 0.0]), NNPState{Float64, 55, SphericalBC{Float64}}(624.6822376874787, 505.4969810444262, Config{55, SphericalBC{Float64}, Float64}(StaticArraysCore.SVector{3, Float64}[[4.5112139495856e-6, -1.3138293967695e-5, 3.4601504321700004e-7], [-3.980885942754e-6, -3.3375035158614e-6, 4.575916827038472], [1.264752985534391, -3.8925157884546686, 2.0464230925690106], [-3.311163519470279, -2.405710469814843, 2.0464114164455425], [-3.311163596895427, 2.40569285113995, 2.0464011106786812], [1.264752859461583, 3.8924983184634674, 2.046406418069819], [4.092824837722801, -8.6887460654154e-6, 2.046420003785219], [-1.2647438377188622, -3.8925245957365804, -2.046405726039733], [-4.092815815294902, -1.75878418699746e-5, -2.0464193117551326], [-1.26474396379167, 3.8924895111815556, -2.046422400538924]  …  [2.0744963372369405, 6.384583971948036, -4.148977939714466], [6.5594487104586, 4.765688045720408, -4.053952548518178], [6.713184197946128, -2.1916113212552402e-5, -4.1489556556605045], [6.559448864623718, -4.765731476432347, -4.053932133630629], [-1.2820847296802604, -3.9459310282596545, -6.7131655686332365], [-4.148951491146777, -2.75845933165806e-5, -6.713179340717135], [-1.282084857808603, 3.9458759515720923, -6.71318247198198], [3.3566029234199006, 2.4386750098556425, -6.71317063552679], [3.356603002900584, -2.438729936489156, -6.713160188613198], [2.1333711654662402e-5, -3.25548767294442e-5, -9.06491829912888]], SphericalBC{Float64}(514.2332609265956)), [0.0 20.93901164147001 … 62.28061741988252 82.17275004373793; 20.93901164147001 0.0 … 144.65745773351938 186.07238294077558; … ; 62.28061741988252 144.65745773351938 … 0.0 22.74465163139474; 82.17275004373793 186.07238294077558 … 22.74465163139474 0.0], [0.0, 0.0, 0.0, 0.0, 0.0, 0.0, 0.0, 0.0, 0.0, 0.0  …  0.0, 0.0, 0.0, 0.0, 0.0, 0.0, 0.0, 0.0, 0.0, 0.0], 0.0, Float64[], [0.7903684189588289, 0.01, 1.0], [0, 0], [0, 0], [0, 0], [0, 0], [0.0, 0.0, 0.0, 0.0, 0.0, 0.0, 0.0, 0.0, 0.0, 0.0  …  0.0, 0.0, 0.0, 0.0, 0.0, 0.0, 0.0, 0.0, 0.0, 0.0], [0.9414388269065571 0.7640290266879379 … 0.4647321919846901 0.3482417787364063; 0.0 0.0 … 0.0 0.0; … ; 0.0 0.0 … 0.0 0.0; 0.0 0.0 … 0.0 0.0], [1.0 0.6491338983343238 … 0.21115043227882824 0.09593833408183039; 0.6491338983343238 1.0 … 0.0 0.0; … ; 0.21115043227882824 0.0 … 1.0 0.6233818428280022; 0.09593833408183039 0.0 … 0.6233818428280022 1.0], [0.0 0.0 … 0.0 0.0; 0.0 0.0 … 0.0 0.0; … ; 0.0 0.0 … 0.0 0.0; 0.0 0.0 … 0.0 0.0], [0.0, 0.0, 0.0, 0.0, 0.0, 0.0, 0.0, 0.0, 0.0, 0.0  …  0.0, 0.0, 0.0, 0.0, 0.0, 0.0, 0.0, 0.0, 0.0, 0.0], [0.0, 0.0, 0.0, 0.0, 0.0, 0.0, 0.0, 0.0, 0.0, 0.0  …  0.0, 0.0, 0.0, 0.0, 0.0, 0.0, 0.0, 0.0, 0.0, 0.0]), NNPState{Float64, 55, SphericalBC{Float64}}(633.0099799464698, 498.846772194335, Config{55, SphericalBC{Float64}, Float64}(StaticArraysCore.SVector{3, Float64}[[4.5112139495856e-6, -1.3138293967695e-5, 3.4601504321700004e-7], [-3.980885942754e-6, -3.3375035158614e-6, 4.575916827038472], [1.264752985534391, -3.8925157884546686, 2.0464230925690106], [-3.311163519470279, -2.405710469814843, 2.0464114164455425], [-3.311163596895427, 2.40569285113995, 2.0464011106786812], [1.264752859461583, 3.8924983184634674, 2.046406418069819], [4.092824837722801, -8.6887460654154e-6, 2.046420003785219], [-1.2647438377188622, -3.8925245957365804, -2.046405726039733], [-4.092815815294902, -1.75878418699746e-5, -2.0464193117551326], [-1.26474396379167, 3.8924895111815556, -2.046422400538924]  …  [2.0744963372369405, 6.384583971948036, -4.148977939714466], [6.5594487104586, 4.765688045720408, -4.053952548518178], [6.713184197946128, -2.1916113212552402e-5, -4.1489556556605045], [6.559448864623718, -4.765731476432347, -4.053932133630629], [-1.2820847296802604, -3.9459310282596545, -6.7131655686332365], [-4.148951491146777, -2.75845933165806e-5, -6.713179340717135], [-1.282084857808603, 3.9458759515720923, -6.71318247198198], [3.3566029234199006, 2.4386750098556425, -6.71317063552679], [3.356603002900584, -2.438729936489156, -6.713160188613198], [2.1333711654662402e-5, -3.25548767294442e-5, -9.06491829912888]], SphericalBC{Float64}(514.2332609265956)), [0.0 20.93901164147001 … 62.28061741988252 82.17275004373793; 20.93901164147001 0.0 … 144.65745773351938 186.07238294077558; … ; 62.28061741988252 144.65745773351938 … 0.0 22.74465163139474; 82.17275004373793 186.07238294077558 … 22.74465163139474 0.0], [0.0, 0.0, 0.0, 0.0, 0.0, 0.0, 0.0, 0.0, 0.0, 0.0  …  0.0, 0.0, 0.0, 0.0, 0.0, 0.0, 0.0, 0.0, 0.0, 0.0], 0.0, Float64[], [0.7956192430720048, 0.01, 1.0], [0, 0], [0, 0], [0, 0], [0, 0], [0.0, 0.0, 0.0, 0.0, 0.0, 0.0, 0.0, 0.0, 0.0, 0.0  …  0.0, 0.0, 0.0, 0.0, 0.0, 0.0, 0.0, 0.0, 0.0, 0.0], [0.9414388269065571 0.7640290266879379 … 0.4647321919846901 0.3482417787364063; 0.0 0.0 … 0.0 0.0; … ; 0.0 0.0 … 0.0 0.0; 0.0 0.0 … 0.0 0.0], [1.0 0.6491338983343238 … 0.21115043227882824 0.09593833408183039; 0.6491338983343238 1.0 … 0.0 0.0; … ; 0.21115043227882824 0.0 … 1.0 0.6233818428280022; 0.09593833408183039 0.0 … 0.6233818428280022 1.0], [0.0 0.0 … 0.0 0.0; 0.0 0.0 … 0.0 0.0; … ; 0.0 0.0 … 0.0 0.0; 0.0 0.0 … 0.0 0.0], [0.0, 0.0, 0.0, 0.0, 0.0, 0.0, 0.0, 0.0, 0.0, 0.0  …  0.0, 0.0, 0.0, 0.0, 0.0, 0.0, 0.0, 0.0, 0.0, 0.0], [0.0, 0.0, 0.0, 0.0, 0.0, 0.0, 0.0, 0.0, 0.0, 0.0  …  0.0, 0.0, 0.0, 0.0, 0.0, 0.0, 0.0, 0.0, 0.0, 0.0]), NNPState{Float64, 55, SphericalBC{Float64}}(641.4487407152698, 492.28405205220497, Config{55, SphericalBC{Float64}, Float64}(StaticArraysCore.SVector{3, Float64}[[4.5112139495856e-6, -1.3138293967695e-5, 3.4601504321700004e-7], [-3.980885942754e-6, -3.3375035158614e-6, 4.575916827038472], [1.264752985534391, -3.8925157884546686, 2.0464230925690106], [-3.311163519470279, -2.405710469814843, 2.0464114164455425], [-3.311163596895427, 2.40569285113995, 2.0464011106786812], [1.264752859461583, 3.8924983184634674, 2.046406418069819], [4.092824837722801, -8.6887460654154e-6, 2.046420003785219], [-1.2647438377188622, -3.8925245957365804, -2.046405726039733], [-4.092815815294902, -1.75878418699746e-5, -2.0464193117551326], [-1.26474396379167, 3.8924895111815556, -2.046422400538924]  …  [2.0744963372369405, 6.384583971948036, -4.148977939714466], [6.5594487104586, 4.765688045720408, -4.053952548518178], [6.713184197946128, -2.1916113212552402e-5, -4.1489556556605045], [6.559448864623718, -4.765731476432347, -4.053932133630629], [-1.2820847296802604, -3.9459310282596545, -6.7131655686332365], [-4.148951491146777, -2.75845933165806e-5, -6.713179340717135], [-1.282084857808603, 3.9458759515720923, -6.71318247198198], [3.3566029234199006, 2.4386750098556425, -6.71317063552679], [3.356603002900584, -2.438729936489156, -6.713160188613198], [2.1333711654662402e-5, -3.25548767294442e-5, -9.06491829912888]], SphericalBC{Float64}(514.2332609265956)), [0.0 20.93901164147001 … 62.28061741988252 82.17275004373793; 20.93901164147001 0.0 … 144.65745773351938 186.07238294077558; … ; 62.28061741988252 144.65745773351938 … 0.0 22.74465163139474; 82.17275004373793 186.07238294077558 … 22.74465163139474 0.0], [0.0, 0.0, 0.0, 0.0, 0.0, 0.0, 0.0, 0.0, 0.0, 0.0  …  0.0, 0.0, 0.0, 0.0, 0.0, 0.0, 0.0, 0.0, 0.0, 0.0], 0.0, Float64[], [0.8009049511117221, 0.01, 1.0], [0, 0], [0, 0], [0, 0], [0, 0], [0.0, 0.0, 0.0, 0.0, 0.0, 0.0, 0.0, 0.0, 0.0, 0.0  …  0.0, 0.0, 0.0, 0.0, 0.0, 0.0, 0.0, 0.0, 0.0, 0.0], [0.9414388269065571 0.7640290266879379 … 0.4647321919846901 0.3482417787364063; 0.0 0.0 … 0.0 0.0; … ; 0.0 0.0 … 0.0 0.0; 0.0 0.0 … 0.0 0.0], [1.0 0.6491338983343238 … 0.21115043227882824 0.09593833408183039; 0.6491338983343238 1.0 … 0.0 0.0; … ; 0.21115043227882824 0.0 … 1.0 0.6233818428280022; 0.09593833408183039 0.0 … 0.6233818428280022 1.0], [0.0 0.0 … 0.0 0.0; 0.0 0.0 … 0.0 0.0; … ; 0.0 0.0 … 0.0 0.0; 0.0 0.0 … 0.0 0.0], [0.0, 0.0, 0.0, 0.0, 0.0, 0.0, 0.0, 0.0, 0.0, 0.0  …  0.0, 0.0, 0.0, 0.0, 0.0, 0.0, 0.0, 0.0, 0.0, 0.0], [0.0, 0.0, 0.0, 0.0, 0.0, 0.0, 0.0, 0.0, 0.0, 0.0  …  0.0, 0.0, 0.0, 0.0, 0.0, 0.0, 0.0, 0.0, 0.0, 0.0]), NNPState{Float64, 55, SphericalBC{Float64}}(650.0, 485.8076696355341, Config{55, SphericalBC{Float64}, Float64}(StaticArraysCore.SVector{3, Float64}[[4.5112139495856e-6, -1.3138293967695e-5, 3.4601504321700004e-7], [-3.980885942754e-6, -3.3375035158614e-6, 4.575916827038472], [1.264752985534391, -3.8925157884546686, 2.0464230925690106], [-3.311163519470279, -2.405710469814843, 2.0464114164455425], [-3.311163596895427, 2.40569285113995, 2.0464011106786812], [1.264752859461583, 3.8924983184634674, 2.046406418069819], [4.092824837722801, -8.6887460654154e-6, 2.046420003785219], [-1.2647438377188622, -3.8925245957365804, -2.046405726039733], [-4.092815815294902, -1.75878418699746e-5, -2.0464193117551326], [-1.26474396379167, 3.8924895111815556, -2.046422400538924]  …  [2.0744963372369405, 6.384583971948036, -4.148977939714466], [6.5594487104586, 4.765688045720408, -4.053952548518178], [6.713184197946128, -2.1916113212552402e-5, -4.1489556556605045], [6.559448864623718, -4.765731476432347, -4.053932133630629], [-1.2820847296802604, -3.9459310282596545, -6.7131655686332365], [-4.148951491146777, -2.75845933165806e-5, -6.713179340717135], [-1.282084857808603, 3.9458759515720923, -6.71318247198198], [3.3566029234199006, 2.4386750098556425, -6.71317063552679], [3.356603002900584, -2.438729936489156, -6.713160188613198], [2.1333711654662402e-5, -3.25548767294442e-5, -9.06491829912888]], SphericalBC{Float64}(514.2332609265956)), [0.0 20.93901164147001 … 62.28061741988252 82.17275004373793; 20.93901164147001 0.0 … 144.65745773351938 186.07238294077558; … ; 62.28061741988252 144.65745773351938 … 0.0 22.74465163139474; 82.17275004373793 186.07238294077558 … 22.74465163139474 0.0], [0.0, 0.0, 0.0, 0.0, 0.0, 0.0, 0.0, 0.0, 0.0, 0.0  …  0.0, 0.0, 0.0, 0.0, 0.0, 0.0, 0.0, 0.0, 0.0, 0.0], 0.0, Float64[], [0.8062257748298549, 0.01, 1.0], [0, 0], [0, 0], [0, 0], [0, 0], [0.0, 0.0, 0.0, 0.0, 0.0, 0.0, 0.0, 0.0, 0.0, 0.0  …  0.0, 0.0, 0.0, 0.0, 0.0, 0.0, 0.0, 0.0, 0.0, 0.0], [0.9414388269065571 0.7640290266879379 … 0.4647321919846901 0.3482417787364063; 0.0 0.0 … 0.0 0.0; … ; 0.0 0.0 … 0.0 0.0; 0.0 0.0 … 0.0 0.0], [1.0 0.6491338983343238 … 0.21115043227882824 0.09593833408183039; 0.6491338983343238 1.0 … 0.0 0.0; … ; 0.21115043227882824 0.0 … 1.0 0.6233818428280022; 0.09593833408183039 0.0 … 0.6233818428280022 1.0], [0.0 0.0 … 0.0 0.0; 0.0 0.0 … 0.0 0.0; … ; 0.0 0.0 … 0.0 0.0; 0.0 0.0 … 0.0 0.0], [0.0, 0.0, 0.0, 0.0, 0.0, 0.0, 0.0, 0.0, 0.0, 0.0  …  0.0, 0.0, 0.0, 0.0, 0.0, 0.0, 0.0, 0.0, 0.0, 0.0], [0.0, 0.0, 0.0, 0.0, 0.0, 0.0, 0.0, 0.0, 0.0, 0.0  …  0.0, 0.0, 0.0, 0.0, 0.0, 0.0, 0.0, 0.0, 0.0, 0.0])], MoveStrategy{55, 0, 0}(), MCParams(200, 40, 1, 15, 55, 100), RuNNerPotential(NeuralNetworkPotential(4, 2221, Int32[88, 20, 20, 1], Int32[1, 2, 2, 1], [-1.0768943782, 0.3563458393, -1.3084861447, 0.1127640916, -0.5646591931, -0.4969830793, 1.423770514, -0.2005662393, -0.8957859374, 0.6076110858  …  0.1939524848, -0.0342903191, -0.0231042009, 0.0718481968, -0.0828320122, -0.0728501885, 0.0306628826, 0.0486053813, -0.0867018862, 0.0441651841]), AbstractSymmFunction[RadialType2{Float64}(0.001, 11.338, [1.0, 1.0], -0.029892621990594427, 0.06634475788973929), RadialType2{Float64}(0.001, 11.338, [1.0, 0.0], -0.0, 0.09828103647521905), RadialType2{Float64}(0.02, 11.338, [1.0, 1.0], -0.013430592462258787, 0.13321466604629645), RadialType2{Float64}(0.02, 11.338, [1.0, 0.0], -0.0, 0.18618835781674212), RadialType2{Float64}(0.035, 11.338, [1.0, 1.0], -0.0067056953127401205, 0.2093521117141925), RadialType2{Float64}(0.035, 11.338, [1.0, 0.0], -0.0, 0.28571045376567983), RadialType2{Float64}(0.1, 11.338, [1.0, 1.0], -0.00026435144512647774, 0.9364998977117353), RadialType2{Float64}(0.1, 11.338, [1.0, 0.0], -0.0, 1.3813391986837495), RadialType2{Float64}(0.4, 11.338, [1.0, 1.0], -0.0, 113.41978340450804), RadialType2{Float64}(0.4, 11.338, [1.0, 0.0], -0.0, 181.5238491478726)  …  AngularType3{Float64}(0.08, 1.0, 1.0, 11.338, [1.0, 0.0, 0.0], 28.188019161651663, -0.0), AngularType3{Float64}(0.08, -1.0, 2.0, 11.338, [1.0, 1.0, 1.0], 43.664583342066244, -0.0), AngularType3{Float64}(0.08, -1.0, 2.0, 11.338, [1.0, 1.0, 0.0], 75.80324146789036, -0.0), AngularType3{Float64}(0.08, -1.0, 2.0, 11.338, [1.0, 0.0, 0.0], 96.88497370251159, -0.0), AngularType3{Float64}(0.08, -1.0, 4.0, 11.338, [1.0, 1.0, 1.0], 61.44604668424842, -0.0), AngularType3{Float64}(0.08, -1.0, 4.0, 11.338, [1.0, 1.0, 0.0], 107.84685056999218, -0.0), AngularType3{Float64}(0.08, -1.0, 4.0, 11.338, [1.0, 0.0, 0.0], 154.53409207512087, -0.0), AngularType3{Float64}(0.08, 1.0, 4.0, 11.338, [1.0, 1.0, 1.0], 3.1599692466736964, -2.5279753973389573e-8), AngularType3{Float64}(0.08, 1.0, 4.0, 11.338, [1.0, 1.0, 0.0], 4.790647185008049, -0.0), AngularType3{Float64}(0.08, 1.0, 4.0, 11.338, [1.0, 0.0, 0.0], 9.119962306101394, -0.0)], 11.338), NVT(55), Output{Float64}(100, 0.0, 0.0, Float64[], Float64[], Float64[], Vector{Float64}[], Matrix{Float64}[], Vector{Float64}[], Float64[], Float64[], Float64[], Float64[]))"
      ]
     },
     "metadata": {},
     "output_type": "display_data"
    }
   ],
   "source": [
    "input = (mc_states,move_strat,mc_params,runnerpotential,ensemble,results)"
   ]
  },
  {
   "attachments": {},
   "cell_type": "markdown",
   "metadata": {},
   "source": [
    "In order to proceed further there are some very important features to include: we require sampling_step! save_states and finalise_results to be written in a way that includes the necessary NNPState information. This can easily be tested below. "
   ]
  },
  {
   "cell_type": "code",
   "execution_count": 23,
   "metadata": {},
   "outputs": [
    {
     "ename": "UndefVarError",
     "evalue": "UndefVarError: initial_energy_calculation not defined",
     "output_type": "error",
     "traceback": [
      "UndefVarError: initial_energy_calculation not defined\n",
      "\n",
      "Stacktrace:\n",
      " [1] initial_energy_vec(nnp_states::Vector{NNPState{Float64, 55, SphericalBC{Float64}}}, potential::RuNNerPotential)\n",
      "   @ ParallelTemperingMonteCarlo.Initialization ~/Documents/ParallelTemperingMonteCarlo.jl/src/Initialization.jl:116\n",
      " [2] #initialisation#5\n",
      "   @ ~/Documents/ParallelTemperingMonteCarlo.jl/src/Initialization.jl:126 [inlined]\n",
      " [3] ptmc_run!(input::Tuple{Vector{NNPState{Float64, 55, SphericalBC{Float64}}}, MoveStrategy{55, 0, 0}, MCParams, RuNNerPotential, NVT, Output{Float64}}; restart::Bool, startfile::String, save::Bool, save_dir::String)\n",
      "   @ ParallelTemperingMonteCarlo.MCRun ~/Documents/ParallelTemperingMonteCarlo.jl/src/MCRun.jl:308\n",
      " [4] ptmc_run!(input::Tuple{Vector{NNPState{Float64, 55, SphericalBC{Float64}}}, MoveStrategy{55, 0, 0}, MCParams, RuNNerPotential, NVT, Output{Float64}})\n",
      "   @ ParallelTemperingMonteCarlo.MCRun ~/Documents/ParallelTemperingMonteCarlo.jl/src/MCRun.jl:305\n",
      " [5] top-level scope\n",
      "   @ ./timing.jl:262 [inlined]\n",
      " [6] top-level scope\n",
      "   @ ~/Documents/ParallelTemperingMonteCarlo.jl/scripts/RuNNer.ipynb:0"
     ]
    }
   ],
   "source": [
    "@time ptmc_run!(input)"
   ]
  },
  {
   "cell_type": "code",
   "execution_count": null,
   "metadata": {},
   "outputs": [],
   "source": []
  }
 ],
 "metadata": {
  "kernelspec": {
   "display_name": "Julia 1.8.5",
   "language": "julia",
   "name": "julia-1.8"
  },
  "language_info": {
   "file_extension": ".jl",
   "mimetype": "application/julia",
   "name": "julia",
   "version": "1.8.5"
  },
  "orig_nbformat": 4
 },
 "nbformat": 4,
 "nbformat_minor": 2
}
