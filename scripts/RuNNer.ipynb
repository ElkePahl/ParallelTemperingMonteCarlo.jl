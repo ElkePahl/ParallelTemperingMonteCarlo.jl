{
 "cells": [
  {
   "cell_type": "code",
   "execution_count": 1,
   "metadata": {},
   "outputs": [],
   "source": [
    "using ParallelTemperingMonteCarlo,BenchmarkTools,DelimitedFiles,MachineLearningPotential"
   ]
  },
  {
   "attachments": {},
   "cell_type": "markdown",
   "metadata": {},
   "source": [
    "Completed the MLP module based on the librunner.so file written by A. Knoll. Time to use this in PTMC simulations so I can finally generate results. This requires the librunnerjulia file and use of the MLP package."
   ]
  },
  {
   "attachments": {},
   "cell_type": "markdown",
   "metadata": {},
   "source": [
    "First: establishing the struct.\n",
    "\n",
    "This requires the symmetry functions, the nnp values itself, the g and f matrices used in the calculation and a dummy vector new_f_vec to preassign memory for later. I'd prefer to point to the nnp and symmetryfunction structs rather than save copies, I'll look into this later. "
   ]
  },
  {
   "cell_type": "code",
   "execution_count": 2,
   "metadata": {},
   "outputs": [],
   "source": [
    "struct  RuNNerPotential <: AbstractMachineLearningPotential\n",
    "    nnp::NeuralNetworkPotential\n",
    "    symmetryfunctions::Vector{AbstractSymmFunction}\n",
    "end\n"
   ]
  },
  {
   "attachments": {},
   "cell_type": "markdown",
   "metadata": {},
   "source": [
    "The challenge is potentials are not unique to each given state, meaning that g_matrix, f_matrix need to be part of the mc_state, not necessarily part of an immutable potential. They could be a vector of these matrices but this seems prohibitive. It's possible to assign them to mc_states? Have an NNP subtype?\n"
   ]
  },
  {
   "cell_type": "code",
   "execution_count": 3,
   "metadata": {},
   "outputs": [],
   "source": [
    "mutable struct NNPState{T,N,BC}\n",
    "    temp::T\n",
    "    beta::T\n",
    "    config::Config{N,BC,T}\n",
    "    dist2_mat::Matrix{T}\n",
    "    en_atom_vec::Vector{T}\n",
    "    en_tot::T\n",
    "    ham::Vector{T}\n",
    "    max_displ::Vector{T}\n",
    "    count_atom::Vector{Int}\n",
    "    count_vol::Vector{Int}\n",
    "    count_rot::Vector{Int}\n",
    "    count_exc::Vector{Int}\n",
    "\n",
    "    g_matrix::Array{T}\n",
    "    f_matrix::Matrix{T}\n",
    "    new_dist2_vec::Vector{T}\n",
    "    new_f_vec::Vector{T}\n",
    "end\n"
   ]
  },
  {
   "cell_type": "code",
   "execution_count": 4,
   "metadata": {},
   "outputs": [
    {
     "data": {
      "text/plain": [
       "NNPState"
      ]
     },
     "metadata": {},
     "output_type": "display_data"
    }
   ],
   "source": [
    "function NNPState(state::MCState, positions, n_atoms, symm_function_vector)\n",
    "\n",
    "    f_matrix = cutoff_function.(sqrt.(state.dist2_mat),Ref(symm_function_vector[1].r_cut))\n",
    "\n",
    "    g_matrix = total_symm_calc(positions,state.dist2_mat,f_matrix,symm_function_vector)\n",
    "\n",
    "    nnstate = NNPState(\n",
    "        state.temp, state.beta, state.config, state.dist2_mat, state.en_atom_vec, state.en_tot, state.ham, state.max_displ, state.count_atom, state.count_vol, state.count_rot, state.count_exc, g_matrix, f_matrix, zeros(n_atoms), zeros(n_atoms)\n",
    "        )\n",
    "\n",
    "    state = nnstate\n",
    "    \n",
    "    return state\n",
    "end\n"
   ]
  },
  {
   "attachments": {},
   "cell_type": "markdown",
   "metadata": {},
   "source": [
    "Functionally, this definition allows us to initialise the runner potential, the state and then use them to define the new potential specific state with the g_matrix included. "
   ]
  },
  {
   "cell_type": "code",
   "execution_count": 5,
   "metadata": {},
   "outputs": [],
   "source": [
    "# function energy_calculation(positions,dist2_mat,f_mat,total_symmetry_vector,neuralnetwork)\n",
    "#     n_atoms = length(positions)\n",
    "#     g_mat = total_symm_calc(positions,dist2_mat,f_mat,total_symmetry_vector)\n",
    "#     return g_mat,sum(forward_pass(g_mat,n_atoms,neuralnetwork))\n",
    "# end\n",
    "# function threnergy_calculation(positions,dist2_mat,f_mat,total_symmetry_vector,neuralnetwork)\n",
    "#     n_atoms = length(positions)\n",
    "#     g_mat = total_thr_symm_calc(positions,dist2_mat,f_mat,total_symmetry_vector)\n",
    "#     return g_mat,sum(forward_pass(g_mat,n_atoms,neuralnetwork))\n",
    "# end\n",
    "\n",
    "# function energy_calculation(g_matrix, positions,newpos,dist2_mat,new_dis_vec,f_mat,new_f_vec,atomindex,total_symmetry_vector,neuralnetwork)\n",
    "#     n_atoms = length(positions)\n",
    "#     g_mat = total_symm!(g_matrix, positions,newpos,dist2_mat,new_dis_vec,f_mat,new_f_vec,atomindex,total_symmetry_vector)\n",
    "#     return g_matrix,sum(forward_pass(g_mat,n_atoms,neuralnetwork))\n",
    "# end\n",
    "\n",
    "# function threnergy_calculation(g_matrix, positions,newpos,dist2_mat,new_dis_vec,f_mat,new_f_vec,atomindex,total_symmetry_vector,neuralnetwork)\n",
    "#     n_atoms = length(positions)\n",
    "#     g_mat = total_thr_symm!(g_matrix, positions,newpos,dist2_mat,new_dis_vec,f_mat,new_f_vec,atomindex,total_symmetry_vector)\n",
    "#     return g_matrix,sum(forward_pass(g_mat,n_atoms,neuralnetwork))\n",
    "# end"
   ]
  },
  {
   "cell_type": "code",
   "execution_count": 6,
   "metadata": {},
   "outputs": [
    {
     "data": {
      "text/plain": [
       "energy_calculation (generic function with 2 methods)"
      ]
     },
     "metadata": {},
     "output_type": "display_data"
    }
   ],
   "source": [
    "function energy_calculation(positions,dist2_mat,f_mat,runner_pot)\n",
    "    n_atoms = length(positions)\n",
    "    g_mat = total_symm_calc(positions,dist2_mat,f_mat,runner_pot.symmetryfunctions)\n",
    "    return g_mat, sum(forward_pass(g_mat,n_atoms,runner_pot.nnp))\n",
    "end\n",
    "function energy_calculation(positions,nnp_state,runner_pot)\n",
    "    n_atoms = length(positions)\n",
    "\n",
    "    nnp_state.g_matrix = total_symm_calc(positions,nnp_state.dist2_mat,nnp_state.f_matrix,runner_pot.symmetryfunctions)\n",
    "\n",
    "    nnp_state.en_atom_vec = forward_pass(g_mat,n_atoms,runner_pot.nnp)\n",
    "\n",
    "    nnp_state.en_tot = sum(nnp_state.en_atom_vec)\n",
    "\n",
    "    return nnp_state\n",
    "end"
   ]
  },
  {
   "attachments": {},
   "cell_type": "markdown",
   "metadata": {},
   "source": [
    "Critically, we require the get_energy function as defined in energyevaluation. Once this is done, we can simulate NNP's. \n",
    "\n",
    "Note-- This is done with the following input/output\n",
    "\n",
    "input:  trial_positions,indices,mc_states,pot\n",
    "\n",
    "the new positions, the new indices for them, the current states and the potential.\n",
    "\n",
    "output:  energy_vector, dist2_new\n",
    "\n",
    "\n"
   ]
  },
  {
   "cell_type": "code",
   "execution_count": 7,
   "metadata": {},
   "outputs": [],
   "source": [
    "function get_energy(trial_positions,indices,mc_states,pot::RuNNerPotential)\n",
    "\n",
    "    \n",
    "    return  #energyvector,dist2_new\\\n",
    "end"
   ]
  }
 ],
 "metadata": {
  "kernelspec": {
   "display_name": "Julia 1.8.5",
   "language": "julia",
   "name": "julia-1.8"
  },
  "language_info": {
   "file_extension": ".jl",
   "mimetype": "application/julia",
   "name": "julia",
   "version": "1.8.5"
  },
  "orig_nbformat": 4
 },
 "nbformat": 4,
 "nbformat_minor": 2
}
