{
 "cells": [
  {
   "cell_type": "code",
   "execution_count": 2,
   "metadata": {},
   "outputs": [],
   "source": [
    "using ParallelTemperingMonteCarlo,BenchmarkTools,DelimitedFiles,MachineLearningPotential"
   ]
  },
  {
   "attachments": {},
   "cell_type": "markdown",
   "metadata": {},
   "source": [
    "Completed the MLP module based on the librunner.so file written by A. Knoll. Time to use this in PTMC simulations so I can finally generate results. This requires the librunnerjulia file and use of the MLP package."
   ]
  },
  {
   "attachments": {},
   "cell_type": "markdown",
   "metadata": {},
   "source": [
    "The following functions are taken from the final stages of development of the MLP. We have not yet established the calculation of the f_matrix or organised the struct containing the neural network."
   ]
  },
  {
   "cell_type": "code",
   "execution_count": 3,
   "metadata": {},
   "outputs": [
    {
     "data": {
      "text/plain": [
       "threnergy_calculation (generic function with 2 methods)"
      ]
     },
     "metadata": {},
     "output_type": "display_data"
    }
   ],
   "source": [
    "function energy_calculation(positions,dist2_mat,f_mat,total_symmetry_vector,neuralnetwork)\n",
    "    n_atoms = length(positions)\n",
    "    g_mat = total_symm_calc(positions,dist2_mat,f_mat,total_symmetry_vector)\n",
    "    return g_mat,sum(forward_pass(g_mat,n_atoms,neuralnetwork))\n",
    "end\n",
    "function threnergy_calculation(positions,dist2_mat,f_mat,total_symmetry_vector,neuralnetwork)\n",
    "    n_atoms = length(positions)\n",
    "    g_mat = total_thr_symm_calc(positions,dist2_mat,f_mat,total_symmetry_vector)\n",
    "    return g_mat,sum(forward_pass(g_mat,n_atoms,neuralnetwork))\n",
    "end\n",
    "function energy_calculation(g_matrix, positions,newpos,dist2_mat,new_dis_vec,f_mat,new_f_vec,atomindex,total_symmetry_vector,neuralnetwork)\n",
    "    n_atoms = length(positions)\n",
    "    g_mat = total_symm!(g_matrix, positions,newpos,dist2_mat,new_dis_vec,f_mat,new_f_vec,atomindex,total_symmetry_vector)\n",
    "    return g_matrix,sum(forward_pass(g_mat,n_atoms,neuralnetwork))\n",
    "end\n",
    "\n",
    "function threnergy_calculation(g_matrix, positions,newpos,dist2_mat,new_dis_vec,f_mat,new_f_vec,atomindex,total_symmetry_vector,neuralnetwork)\n",
    "    n_atoms = length(positions)\n",
    "    g_mat = total_thr_symm!(g_matrix, positions,newpos,dist2_mat,new_dis_vec,f_mat,new_f_vec,atomindex,total_symmetry_vector)\n",
    "    return g_matrix,sum(forward_pass(g_mat,n_atoms,neuralnetwork))\n",
    "end"
   ]
  },
  {
   "attachments": {},
   "cell_type": "markdown",
   "metadata": {},
   "source": [
    "First: establishing the struct.\n",
    "\n",
    "This requires the symmetry functions, the nnp values itself, the g and f matrices used in the calculation and a dummy vector new_f_vec to preassign memory for later. I'd prefer to point to the nnp and symmetryfunction structs rather than save copies, I'll look into this later. "
   ]
  },
  {
   "cell_type": "code",
   "execution_count": 4,
   "metadata": {},
   "outputs": [],
   "source": [
    "mutable struct  RuNNerPotential <: AbstractMachineLearningPotential\n",
    "    nnp::NeuralNetworkPotential\n",
    "    symmetryfunctions::Vector{AbstractSymmFunction}\n",
    "    g_matrix::Array\n",
    "    f_matrix::Array\n",
    "    new_f_vec::Vector\n",
    "end"
   ]
  },
  {
   "cell_type": "code",
   "execution_count": 6,
   "metadata": {},
   "outputs": [
    {
     "data": {
      "text/plain": [
       "RuNNerPotential"
      ]
     },
     "metadata": {},
     "output_type": "display_data"
    }
   ],
   "source": [
    "function RuNNerPotential(nnp,symmetryfunctions,n_atoms)\n",
    "    g_matrix = zeros(length(symmetryfunctions),n_atoms)\n",
    "    f_matrix = zeros(length(symmetryfunctions),n_atoms)\n",
    "    new_f_vec = zeros(n_atoms)\n",
    "    return RuNNerPotential(nnp,symmetryfunctions,g_matrix,f_matrix,new_f_vec)\n",
    "end"
   ]
  },
  {
   "cell_type": "code",
   "execution_count": null,
   "metadata": {},
   "outputs": [],
   "source": []
  }
 ],
 "metadata": {
  "kernelspec": {
   "display_name": "Julia 1.8.5",
   "language": "julia",
   "name": "julia-1.8"
  },
  "language_info": {
   "file_extension": ".jl",
   "mimetype": "application/julia",
   "name": "julia",
   "version": "1.8.5"
  },
  "orig_nbformat": 4
 },
 "nbformat": 4,
 "nbformat_minor": 2
}
