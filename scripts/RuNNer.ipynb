{
 "cells": [
  {
   "cell_type": "code",
   "execution_count": 1,
   "metadata": {},
   "outputs": [
    {
     "name": "stderr",
     "output_type": "stream",
     "text": [
      "\u001b[32m\u001b[1m    Updating\u001b[22m\u001b[39m registry at `~/.julia/registries/General.toml`\n"
     ]
    },
    {
     "name": "stderr",
     "output_type": "stream",
     "text": [
      "\u001b[32m\u001b[1m    Updating\u001b[22m\u001b[39m git-repo `https://github.com/grayseff/MachineLearningPotential.jl.git`\n"
     ]
    },
    {
     "name": "stderr",
     "output_type": "stream",
     "text": [
      "\u001b[32m\u001b[1m  No Changes\u001b[22m\u001b[39m to `~/Documents/ParallelTemperingMonteCarlo.jl/Project.toml`\n",
      "\u001b[32m\u001b[1m  No Changes\u001b[22m\u001b[39m to `~/Documents/ParallelTemperingMonteCarlo.jl/Manifest.toml`\n"
     ]
    },
    {
     "name": "stderr",
     "output_type": "stream",
     "text": [
      "\u001b[32m\u001b[1mPrecompiling\u001b[22m\u001b[39m project...\n"
     ]
    },
    {
     "name": "stderr",
     "output_type": "stream",
     "text": [
      "\u001b[32m  ✓ \u001b[39mParallelTemperingMonteCarlo\n"
     ]
    },
    {
     "name": "stderr",
     "output_type": "stream",
     "text": [
      "  1 dependency successfully precompiled in 6 seconds. 143 already precompiled.\n"
     ]
    }
   ],
   "source": [
    "using Pkg; Pkg.update()\n",
    "\n",
    "using ParallelTemperingMonteCarlo,BenchmarkTools,DelimitedFiles,MachineLearningPotential,Random"
   ]
  },
  {
   "cell_type": "code",
   "execution_count": 2,
   "metadata": {},
   "outputs": [],
   "source": [
    "using SplitApplyCombine"
   ]
  },
  {
   "attachments": {},
   "cell_type": "markdown",
   "metadata": {},
   "source": [
    "Completed the MLP module based on the librunner.so file written by A. Knoll. Time to use this in PTMC simulations so I can finally generate results. This requires the librunnerjulia file and use of the MLP package."
   ]
  },
  {
   "attachments": {},
   "cell_type": "markdown",
   "metadata": {},
   "source": [
    "First: establishing the struct.\n",
    "\n",
    "This requires the symmetry functions, the nnp values itself, the g and f matrices used in the calculation and a dummy vector new_f_vec to preassign memory for later. I'd prefer to point to the nnp and symmetryfunction structs rather than save copies, I'll look into this later. "
   ]
  },
  {
   "cell_type": "code",
   "execution_count": 3,
   "metadata": {},
   "outputs": [],
   "source": [
    "# struct  RuNNerPotential <: AbstractMachineLearningPotential\n",
    "#     nnp::NeuralNetworkPotential\n",
    "#     symmetryfunctions::Vector{AbstractSymmFunction}\n",
    "#     r_cut::Float64\n",
    "# end\n",
    "# function RuNNerPotential(nnp,symmetryfunction)\n",
    "#     r_cut = symmetryfunction[1].r_cut\n",
    "#     return RuNNerPotential(nnp,symmetryfunction,r_cut)\n",
    "# end\n"
   ]
  },
  {
   "attachments": {},
   "cell_type": "markdown",
   "metadata": {},
   "source": [
    "The challenge is potentials are not unique to each given state, meaning that g_matrix, f_matrix need to be part of the mc_state, not necessarily part of an immutable potential. They could be a vector of these matrices but this seems prohibitive. It's possible to assign them to mc_states? Have an NNP subtype?\n"
   ]
  },
  {
   "cell_type": "code",
   "execution_count": 4,
   "metadata": {},
   "outputs": [],
   "source": [
    "# mutable struct NNPState{T,N,BC}\n",
    "#     temp::T\n",
    "#     beta::T\n",
    "#     config::Config{N,BC,T}\n",
    "#     dist2_mat::Matrix{T}\n",
    "#     en_atom_vec::Vector{T}\n",
    "#     en_tot::T\n",
    "#     ham::Vector{T}\n",
    "#     max_displ::Vector{T}\n",
    "#     count_atom::Vector{Int}\n",
    "#     count_vol::Vector{Int}\n",
    "#     count_rot::Vector{Int}\n",
    "#     count_exc::Vector{Int}\n",
    "\n",
    "#     new_en_atom::Vector{T}\n",
    "\n",
    "#     g_matrix::Array{T}\n",
    "#     f_matrix::Array{T}\n",
    "\n",
    "#     new_g_matrix::Array{T}\n",
    "#     new_dist2_vec::Vector{T}\n",
    "#     new_f_vec::Vector{T}\n",
    "# end\n",
    "\n",
    "\n",
    "# function NNPState(\n",
    "#     temp, beta, config::Config{N,BC,T}, dist2_mat, en_atom_vec, en_tot,n_symm_func,g_matrix,f_matrix; \n",
    "#     max_displ = [0.1,0.1,1.], count_atom = [0,0], count_vol = [0,0], count_rot = [0,0], count_exc = [0,0]\n",
    "# ) where {T,N,BC}\n",
    "#     ham = T[]\n",
    "#     NNPState{T,N,BC}(\n",
    "#         temp, beta, deepcopy(config), copy(dist2_mat), copy(en_atom_vec), en_tot, \n",
    "#         ham, copy(max_displ), copy(count_atom), copy(count_vol), copy(count_rot), copy(count_exc),zeros(length(config.pos)),g_matrix,f_matrix,zeros(n_symm_func,length(config.pos)),zeros(length(config.pos)),zeros(length(config.pos))\n",
    "#         )\n",
    "# end\n",
    "# function NNPState(temp,beta, config::Config, pot::RuNNerPotential;kwargs...)\n",
    "#     dist2_mat = get_distance2_mat(config)\n",
    "#     f_matrix = cutoff_function.(sqrt.(dist2_mat),Ref(pot.r_cut))\n",
    "#     n_atoms = length(config.pos)\n",
    "#     g_matrix = total_symm_calc(config.pos,dist2_mat,f_matrix,pot.symmetryfunctions)\n",
    "\n",
    "\n",
    "#     en_atom_vec = zeros(n_atoms)\n",
    "#     en_tot = 0.\n",
    "\n",
    "#     NNPState(temp, beta, config, dist2_mat, en_atom_vec, en_tot,length(pot.symmetryfunctions),g_matrix,f_matrix ; kwargs...)\n",
    "\n",
    "# end"
   ]
  },
  {
   "attachments": {},
   "cell_type": "markdown",
   "metadata": {},
   "source": [
    "Functionally, this definition allows us to initialise the runner potential, the state and then use them to define the new potential specific state with the g_matrix included. "
   ]
  },
  {
   "cell_type": "code",
   "execution_count": 5,
   "metadata": {},
   "outputs": [
    {
     "data": {
      "text/plain": [
       "initial_energy_calculation (generic function with 1 method)"
      ]
     },
     "metadata": {},
     "output_type": "display_data"
    }
   ],
   "source": [
    "function initial_energy_calculation(nnp_state,runner_pot)\n",
    "    n_atoms = length(nnp_state.config.pos)\n",
    "\n",
    "    nnp_state.g_matrix = total_symm_calc(nnp_state.config.pos,nnp_state.dist2_mat,nnp_state.f_matrix,runner_pot.symmetryfunctions)\n",
    "\n",
    "    nnp_state.en_atom_vec = forward_pass(nnp_state.g_matrix,n_atoms,runner_pot.nnp)\n",
    "\n",
    "    nnp_state.en_tot = sum(nnp_state.en_atom_vec)\n",
    "\n",
    "    return nnp_state\n",
    "end"
   ]
  },
  {
   "attachments": {},
   "cell_type": "markdown",
   "metadata": {},
   "source": [
    "Critically, we require the get_energy function as defined in energyevaluation. Once this is done, we can simulate NNP's. \n",
    "\n",
    "Note-- This is done with the following input/output\n",
    "\n",
    "input:  trial_positions,indices,mc_states,pot\n",
    "\n",
    "the new positions, the new indices for them, the current states and the potential.\n",
    "\n",
    "output:  energy_vector, dist2_new\n",
    "\n",
    "\n"
   ]
  },
  {
   "cell_type": "code",
   "execution_count": 6,
   "metadata": {},
   "outputs": [],
   "source": [
    "# function get_new_state_vars!(trial_pos,atomindex,nnp_state,pot)\n",
    "#     nnp_state.new_dist2_vec = [ distance2(trial_pos,b,nnp_state.config.bc) for b in nnp_state.config.pos]\n",
    "\n",
    "#     nnp_state.new_dist2_vec[atomindex] = 0.\n",
    "    \n",
    "#     nnp_state.new_f_vec = cutoff_function.(sqrt.(nnp_state.new_dist2_vec),Ref(pot.r_cut))\n",
    "\n",
    "\n",
    "#     nnp_state.new_g_matrix = copy(nnp_state.g_matrix)\n",
    "\n",
    "#     nnp_state.new_g_matrix = total_thr_symm!(nnp_state.new_g_matrix,nnp_state.config.pos,trial_pos,nnp_state.dist2_mat,nnp_state.new_dist2_vec,nnp_state.f_matrix,nnp_state.new_f_vec,atomindex,pot.symmetryfunctions)\n",
    "\n",
    "#     return nnp_state\n",
    "# end\n",
    "\n",
    "# function calc_new_energy!(nnp_state,pot)\n",
    "#     nnp_state.new_en_atom = forward_pass(nnp_state.new_g_matrix,length(nnp_state.en_atom_vec),pot.nnp)\n",
    "#     return nnp_state\n",
    "# end\n",
    "\n",
    "# function get_runner_energy!(trial_pos,atomindex,nnp_state,pot)\n",
    "#     nnp_state = get_new_state_vars!(trial_pos,atomindex,nnp_state,pot)\n",
    "\n",
    "#     nnp_state = calc_new_energy!(nnp_state,pot)\n",
    "    \n",
    "#     return sum(nnp_state.new_en_atom) , nnp_state\n",
    "# end\n",
    "\n",
    "# function get_energy!(trial_positions,indices,nnp_states,pot::RuNNerPotential)\n",
    "#     energyvector = Vector{Float64}(undef,length(indices))\n",
    "#     # for idx in eachindex(nnp_states)\n",
    "#     #     energyvector[idx],nnp_states[idx] = get_runner_energy!(trial_positions[idx],indices[idx],nnp_states[idx],pot)\n",
    "#     # end\n",
    "#     energyvector,nnp_states = invert(get_runner_energy!.(trial_positions,indices,nnp_states,Ref(pot)))\n",
    "    \n",
    "#     return energyvector, nnp_states\n",
    "# end"
   ]
  },
  {
   "attachments": {},
   "cell_type": "markdown",
   "metadata": {},
   "source": [
    "Ideally the function above now works the way it's intended in the simulation, other than the natural output being different from other methods. As a result of this we may want to have the g_new_matrix being part of the nnp_state struct, as it preserves the total form of the mc_step function"
   ]
  },
  {
   "attachments": {},
   "cell_type": "markdown",
   "metadata": {},
   "source": [
    "# Initialisation \n",
    "\n",
    "The next major step is to implement a more definitive initialisation. This is somewhat restricted by the purge of .data files, but we can point to directories containing the weights and scaling data. \n",
    "\n",
    "Beyond this we need to point to symmetry function values, distributed over sets of atom types. "
   ]
  },
  {
   "cell_type": "code",
   "execution_count": 7,
   "metadata": {},
   "outputs": [
    {
     "data": {
      "text/plain": [
       "RuNNerPotential(NeuralNetworkPotential(4, 2221, Int32[88, 20, 20, 1], Int32[1, 2, 2, 1], [-1.0768943782, 0.3563458393, -1.3084861447, 0.1127640916, -0.5646591931, -0.4969830793, 1.423770514, -0.2005662393, -0.8957859374, 0.6076110858  …  0.1939524848, -0.0342903191, -0.0231042009, 0.0718481968, -0.0828320122, -0.0728501885, 0.0306628826, 0.0486053813, -0.0867018862, 0.0441651841]), AbstractSymmFunction[RadialType2{Float64}(0.001, 11.338, [1.0, 1.0], -0.029892621990594427, 0.06634475788973929), RadialType2{Float64}(0.001, 11.338, [1.0, 0.0], -0.0, 0.09828103647521905), RadialType2{Float64}(0.02, 11.338, [1.0, 1.0], -0.013430592462258787, 0.13321466604629645), RadialType2{Float64}(0.02, 11.338, [1.0, 0.0], -0.0, 0.18618835781674212), RadialType2{Float64}(0.035, 11.338, [1.0, 1.0], -0.0067056953127401205, 0.2093521117141925), RadialType2{Float64}(0.035, 11.338, [1.0, 0.0], -0.0, 0.28571045376567983), RadialType2{Float64}(0.1, 11.338, [1.0, 1.0], -0.00026435144512647774, 0.9364998977117353), RadialType2{Float64}(0.1, 11.338, [1.0, 0.0], -0.0, 1.3813391986837495), RadialType2{Float64}(0.4, 11.338, [1.0, 1.0], -0.0, 113.41978340450804), RadialType2{Float64}(0.4, 11.338, [1.0, 0.0], -0.0, 181.5238491478726)  …  AngularType3{Float64}(0.08, 1.0, 1.0, 11.338, [1.0, 0.0, 0.0], 28.188019161651663, -0.0), AngularType3{Float64}(0.08, -1.0, 2.0, 11.338, [1.0, 1.0, 1.0], 43.664583342066244, -0.0), AngularType3{Float64}(0.08, -1.0, 2.0, 11.338, [1.0, 1.0, 0.0], 75.80324146789036, -0.0), AngularType3{Float64}(0.08, -1.0, 2.0, 11.338, [1.0, 0.0, 0.0], 96.88497370251159, -0.0), AngularType3{Float64}(0.08, -1.0, 4.0, 11.338, [1.0, 1.0, 1.0], 61.44604668424842, -0.0), AngularType3{Float64}(0.08, -1.0, 4.0, 11.338, [1.0, 1.0, 0.0], 107.84685056999218, -0.0), AngularType3{Float64}(0.08, -1.0, 4.0, 11.338, [1.0, 0.0, 0.0], 154.53409207512087, -0.0), AngularType3{Float64}(0.08, 1.0, 4.0, 11.338, [1.0, 1.0, 1.0], 3.1599692466736964, -2.5279753973389573e-8), AngularType3{Float64}(0.08, 1.0, 4.0, 11.338, [1.0, 1.0, 0.0], 4.790647185008049, -0.0), AngularType3{Float64}(0.08, 1.0, 4.0, 11.338, [1.0, 0.0, 0.0], 9.119962306101394, -0.0)], 11.338)"
      ]
     },
     "metadata": {},
     "output_type": "display_data"
    }
   ],
   "source": [
    "#-------------------------------------------#\n",
    "#--------Vector of radial symm values-------#\n",
    "#-------------------------------------------#\n",
    "X = [ 1    1              0.001   0.000  11.338\n",
    " 1    0              0.001   0.000  11.338\n",
    " 1    1              0.020   0.000  11.338\n",
    " 1    0              0.020   0.000  11.338\n",
    " 1    1              0.035   0.000  11.338\n",
    " 1    0              0.035   0.000  11.338\n",
    " 1    1              0.100   0.000  11.338\n",
    " 1    0              0.100   0.000  11.338\n",
    " 1    1              0.400   0.000  11.338\n",
    " 1    0              0.400   0.000  11.338]\n",
    "\n",
    "radsymmvec = []\n",
    "\n",
    "\n",
    "#--------------------------------------------#\n",
    "#--------Vector of angular symm values-------#\n",
    "#--------------------------------------------#\n",
    "V = [[0.0001,1,1,11.338],[0.0001,-1,2,11.338],[0.003,-1,1,11.338],[0.003,-1,2,11.338],[0.008,-1,1,11.338],[0.008,-1,2,11.338],[0.008,1,2,11.338],[0.015,1,1,11.338],[0.015,-1,2,11.338],[0.015,-1,4,11.338],[0.015,-1,16,11.338],[0.025,-1,1,11.338],[0.025,1,1,11.338],[0.025,1,2,11.338],[0.025,-1,4,11.338],[0.025,-1,16,11.338],[0.025,1,16,11.338],[0.045,1,1,11.338],[0.045,-1,2,11.338],[0.045,-1,4,11.338],[0.045,1,4,11.338],[0.045,1,16,11.338],[0.08,1,1,11.338],[0.08,-1,2,11.338],[0.08,-1,4,11.338],[0.08,1,4,11.338]]\n",
    "\n",
    "T = [[1.,1.,1.],[1.,1.,0.],[1.,0.,0.]]\n",
    "\n",
    "angularsymmvec = []\n",
    "#-------------------------------------------#\n",
    "#-----------Including scaling data----------#\n",
    "#-------------------------------------------#\n",
    "file = open(\"$(pwd())/scaling.data\")\n",
    "scalingvalues = readdlm(file)\n",
    "close(file)\n",
    "G_value_vec = []\n",
    "for row in eachrow(scalingvalues[1:88,:])\n",
    "    max_min = [row[4],row[3]]\n",
    "    push!(G_value_vec,max_min)\n",
    "end\n",
    "\n",
    "\n",
    "for symmindex in eachindex(eachrow(X))\n",
    "    row = X[symmindex,:]\n",
    "    radsymm = RadialType2{Float64}(row[3],row[5],[row[1],row[2]],G_value_vec[symmindex])\n",
    "    push!(radsymmvec,radsymm)\n",
    "end\n",
    "\n",
    "n_index = 10\n",
    "for element in V\n",
    "    for types in T \n",
    "        \n",
    "        n_index += 1\n",
    "\n",
    "        symmfunc = AngularType3{Float64}(element[1],element[2],element[3],11.338,types,G_value_vec[n_index])\n",
    "\n",
    "        push!(angularsymmvec,symmfunc)\n",
    "    end\n",
    "end\n",
    "#---------------------------------------------------#\n",
    "#------concatenating radial and angular values------#\n",
    "#---------------------------------------------------#\n",
    "\n",
    "totalsymmvec = vcat(radsymmvec,angularsymmvec)\n",
    "\n",
    "\n",
    "#--------------------------------------------------#\n",
    "#-----------Initialising the nnp weights-----------#\n",
    "#--------------------------------------------------#\n",
    "num_nodes::Vector{Int32} = [88, 20, 20, 1]\n",
    "activation_functions::Vector{Int32} = [1, 2, 2, 1]\n",
    "file = open(\"weights.029.data\",\"r+\")\n",
    "weights=readdlm(file)\n",
    "close(file)\n",
    "weights = vec(weights)\n",
    "nnp = NeuralNetworkPotential(num_nodes,activation_functions,weights)\n",
    "\n",
    "runnerpotential = RuNNerPotential(nnp,totalsymmvec)"
   ]
  },
  {
   "cell_type": "code",
   "execution_count": 19,
   "metadata": {},
   "outputs": [
    {
     "data": {
      "text/plain": [
       "Output{Float64}(100, 0.0, 0.0, Float64[], Float64[], Float64[], Vector{Float64}[], Matrix{Float64}[], Vector{Float64}[], Float64[], Float64[], Float64[], Float64[])"
      ]
     },
     "metadata": {},
     "output_type": "display_data"
    }
   ],
   "source": [
    "Random.seed!(1234)\n",
    "n_atoms = 55\n",
    "ti = 540\n",
    "tf = 650\n",
    "n_traj = 15\n",
    "temp = TempGrid{n_traj}(ti,tf) \n",
    "mc_cycles = 200\n",
    "mc_sample = 1\n",
    "displ_atom = 0.1 # Angstrom\n",
    "n_adjust = 100\n",
    "max_displ_atom = [0.1*sqrt(displ_atom*temp.t_grid[i]) for i in 1:n_traj]\n",
    "\n",
    "mc_params = MCParams(mc_cycles, n_traj, n_atoms, mc_sample = mc_sample, n_adjust = n_adjust)\n",
    "move_strat = MoveStrategy(atom_moves = n_atoms) \n",
    "ensemble = NVT(n_atoms)\n",
    "ico_55 = [[0.0000006584,       -0.0000019175,        0.0000000505],\n",
    "[-0.0000005810,       -0.0000004871,        0.6678432175],\n",
    "[0.1845874248,       -0.5681026047,        0.2986701538],\n",
    "[-0.4832557457,       -0.3511072166,        0.2986684497],\n",
    "[-0.4832557570,        0.3511046452,        0.2986669456],\n",
    "[0.1845874064,        0.5681000550,        0.2986677202],\n",
    "[0.5973371920,       -0.0000012681,        0.2986697030],\n",
    "[-0.1845860897,       -0.5681038901,       -0.2986676192],\n",
    "[-0.5973358752,       -0.0000025669,       -0.2986696020],\n",
    "[-0.1845861081,        0.5680987696,       -0.2986700528],\n",
    "[0.4832570624,        0.3511033815,       -0.2986683486],\n",
    "[0.4832570738,       -0.3511084803,       -0.2986668445],\n",
    "[0.0000018978,       -0.0000033480,       -0.6678431165],\n",
    "[-0.0000017969,        0.0000009162,        1.3230014650],\n",
    "[0.1871182835,       -0.5758942175,        0.9797717078],\n",
    "[-0.4898861924,       -0.3559221410,       0.9797699802],\n",
    "[-0.4898862039,        0.3559224872,        0.9797684555],\n",
    "[0.1871182648,        0.5758945856,        0.9797692407],\n",
    "[0.6055300485,        0.0000001908,        0.9797712507],\n",
    "[0.7926501864,       -0.5758950093,        0.6055339635],\n",
    "[0.3656681761,       -1.1254128670,        0.5916673591],\n",
    "[-0.3027660545,       -0.9318173412,        0.6055326929],\n",
    "[-0.9573332453,       -0.6955436707,        0.5916639831],\n",
    "[-0.9797705418,       -0.0000006364,        0.6055294407],\n",
    "[-0.9573332679,        0.6955423392,        0.5916610035],\n",
    "[-0.3027660847,        0.9318160902,        0.6055287012],\n",
    "[0.3656681396,        1.1254115783,        0.5916625380],\n",
    "[0.7926501677,        0.5758937939,        0.6055314964],\n",
    "[1.1833279992,       -0.0000006311,        0.5916664660],\n",
    "[0.6770051458,       -0.9318186223,        0.0000033028],\n",
    "[0.0000006771,       -1.1517907207,        0.0000025175],\n",
    "[-0.6770037988,       -0.9318186442,        0.0000007900],\n",
    "[-1.0954155825,       -0.3559242494,       -0.0000012200],\n",
    "[-1.0954155940,        0.3559203788,       -0.0000027447],\n",
    "[-0.6770038290,        0.9318147872,       -0.0000032017],\n",
    "[0.0000006397,        1.1517868856,       -0.0000024165],\n",
    "[0.6770051155,        0.9318148091,       -0.0000006889],\n",
    "[1.0954168993,        0.3559204143,        0.0000013211],\n",
    "[1.0954169108,       -0.3559242139,        0.0000028458],\n",
    "[0.3027674014,       -0.9318199253,       -0.6055286002],\n",
    "[-0.3656668229,       -1.1254154134,       -0.5916624370],\n",
    "[-0.7926488510,       -0.5758976290,       -0.6055313954],\n",
    "[-1.1833266824,       -0.0000032040,       -0.5916663649],\n",
    "[-0.7926488697,        0.5758911742,       -0.6055338624],\n",
    "[-0.3656668594,        1.1254090319,       -0.5916672580],\n",
    "[0.3027673712,        0.9318135061,       -0.6055325919],\n",
    "[0.9573345621,        0.6955398357,       -0.5916638820],\n",
    "[0.9797718586,       -0.0000031986,       -0.6055293396],\n",
    "[0.9573345846,       -0.6955461743,       -0.5916609025],\n",
    "[-0.1871169480,       -0.5758984207,       -0.9797691397],\n",
    "[-0.6055287318,       -0.0000040259,       -0.9797711497],\n",
    "[-0.1871169667,        0.5758903824,       -0.9797716067],\n",
    "[0.4898875091,        0.3559183059,       -0.9797698792],\n",
    "[0.4898875207,       -0.3559263223,       -0.9797683545],\n",
    "[0.0000031136,       -0.0000047513,       -1.3230013639]]\n",
    "#convert to Bohr\n",
    "nmtobohr = 18.8973\n",
    "copperconstant = 0.36258*nmtobohr\n",
    "pos_cu55 = copperconstant*ico_55\n",
    "\n",
    "AtoBohr = 1.8897259886\n",
    "bc_cu55 = SphericalBC(radius=12*AtoBohr)\n",
    "start_config = Config(pos_cu55, bc_cu55)\n",
    "n_bin = 100\n",
    "\n",
    "mc_states = [NNPState(temp.t_grid[i], temp.beta_grid[i], start_config, runnerpotential; max_displ=[max_displ_atom[i],0.01,1.]) for i in 1:n_traj]\n",
    "\n",
    "results = Output{Float64}(n_bin; en_min = mc_states[1].en_tot)\n"
   ]
  },
  {
   "attachments": {},
   "cell_type": "markdown",
   "metadata": {},
   "source": [
    "benchmarking revealed this is faster."
   ]
  },
  {
   "cell_type": "code",
   "execution_count": 9,
   "metadata": {},
   "outputs": [
    {
     "data": {
      "text/plain": [
       "initial_energy_vec (generic function with 1 method)"
      ]
     },
     "metadata": {},
     "output_type": "display_data"
    }
   ],
   "source": [
    "# function initial_energy_vec(nnp_states,potential)\n",
    "#     nnp_states = initial_energy_calculation.(nnp_states,Ref(potential))\n",
    "#     return nnp_states\n",
    "# end\n",
    "function initial_energy_vec(nnp_states,potential)\n",
    "    # nnp_states = initial_energy_calculation.(nnp_states,Ref(potential))\n",
    "    for state in nnp_states \n",
    "        state = initial_energy_calculation(state,potential)\n",
    "    end\n",
    "    return nnp_states\n",
    "end"
   ]
  },
  {
   "cell_type": "code",
   "execution_count": 10,
   "metadata": {},
   "outputs": [
    {
     "data": {
      "text/plain": [
       "-6.216814218773105"
      ]
     },
     "metadata": {},
     "output_type": "display_data"
    }
   ],
   "source": [
    "mc_states = initial_energy_vec(mc_states,runnerpotential)\n",
    "mc_states[2].en_tot"
   ]
  },
  {
   "cell_type": "code",
   "execution_count": 11,
   "metadata": {},
   "outputs": [],
   "source": [
    "# function testswap_config!(nnp_state,atomindex,trial_pos,new_energy)\n",
    "\n",
    "#     nnp_state.config.pos[atomindex] = trial_pos\n",
    "\n",
    "#     nnp_state.dist2_mat[atomindex,:] = nnp_state.new_dist2_vec\n",
    "#     nnp_state.dist2_mat[:,atomindex] = nnp_state.new_dist2_vec\n",
    "\n",
    "#     nnp_state.f_matrix[atomindex,:] = nnp_state.new_f_vec\n",
    "#     nnp_state.f_matrix[:,atomindex] = nnp_state.new_f_vec\n",
    "\n",
    "#     nnp_state.g_matrix = nnp_state.new_g_matrix\n",
    "\n",
    "#     nnp_state.en_atom_vec = nnp_state.new_en_atom\n",
    "#     nnp_state.en_tot = new_energy\n",
    "\n",
    "#     nnp_state.count_atom[1] +=1\n",
    "#     nnp_state.count_atom[2] +=1\n",
    "\n",
    "#     return nnp_state\n",
    "# end\n",
    "\n",
    "# function test_acc_test!(ensemble, nnp_state, new_energy, i_atom, trial_pos, dist2_new::Float64)\n",
    "\n",
    "#     if metropolis_condition(ensemble,(new_energy - nnp_state.en_tot),nnp_state.beta) >= rand()\n",
    "\n",
    "#         testswap_config!(nnp_state,i_atom,trial_pos,new_energy)\n",
    "\n",
    "#     end\n",
    "\n",
    "# end\n",
    "\n",
    "# function testmc_step!(nnp_states,move_strat,mc_params,potential,ensemble)\n",
    "#     indices,trial_positions = generate_displacements(mc_states,mc_params)\n",
    "    \n",
    "#     energy_vector, nnp_states = get_energy!(trial_positions,indices,nnp_states,potential)\n",
    "\n",
    "#     Threads.@threads for idx in eachindex(nnp_states)\n",
    "#         test_acc_test!(ensemble,nnp_states[idx],energy_vector[idx],indices[idx],trial_positions[idx],0.)\n",
    "#     end\n",
    "\n",
    "#     return nnp_states\n",
    "# end"
   ]
  },
  {
   "cell_type": "code",
   "execution_count": 12,
   "metadata": {},
   "outputs": [
    {
     "data": {
      "text/plain": [
       "BenchmarkTools.Trial: 107 samples with 1 evaluation.\n",
       " Range \u001b[90m(\u001b[39m\u001b[36m\u001b[1mmin\u001b[22m\u001b[39m … \u001b[35mmax\u001b[39m\u001b[90m):  \u001b[39m\u001b[36m\u001b[1m13.381 ms\u001b[22m\u001b[39m … \u001b[35m382.216 ms\u001b[39m  \u001b[90m┊\u001b[39m GC \u001b[90m(\u001b[39mmin … max\u001b[90m): \u001b[39m 0.00% … 91.52%\n",
       " Time  \u001b[90m(\u001b[39m\u001b[34m\u001b[1mmedian\u001b[22m\u001b[39m\u001b[90m):     \u001b[39m\u001b[34m\u001b[1m30.950 ms               \u001b[22m\u001b[39m\u001b[90m┊\u001b[39m GC \u001b[90m(\u001b[39mmedian\u001b[90m):    \u001b[39m 0.00%\n",
       " Time  \u001b[90m(\u001b[39m\u001b[32m\u001b[1mmean\u001b[22m\u001b[39m ± \u001b[32mσ\u001b[39m\u001b[90m):   \u001b[39m\u001b[32m\u001b[1m46.833 ms\u001b[22m\u001b[39m ± \u001b[32m 79.922 ms\u001b[39m  \u001b[90m┊\u001b[39m GC \u001b[90m(\u001b[39mmean ± σ\u001b[90m):  \u001b[39m41.48% ± 21.56%\n",
       "\n",
       "  \u001b[39m▆\u001b[39m▂\u001b[39m▆\u001b[34m█\u001b[39m\u001b[39m \u001b[32m \u001b[39m\u001b[39m \u001b[39m \u001b[39m \u001b[39m \u001b[39m \u001b[39m \u001b[39m \u001b[39m \u001b[39m \u001b[39m \u001b[39m \u001b[39m \u001b[39m \u001b[39m \u001b[39m \u001b[39m \u001b[39m \u001b[39m \u001b[39m \u001b[39m \u001b[39m \u001b[39m \u001b[39m \u001b[39m \u001b[39m \u001b[39m \u001b[39m \u001b[39m \u001b[39m \u001b[39m \u001b[39m \u001b[39m \u001b[39m \u001b[39m \u001b[39m \u001b[39m \u001b[39m \u001b[39m \u001b[39m \u001b[39m \u001b[39m \u001b[39m \u001b[39m \u001b[39m \u001b[39m \u001b[39m \u001b[39m \u001b[39m \u001b[39m \u001b[39m \u001b[39m \u001b[39m \u001b[39m \u001b[39m \u001b[39m \u001b[39m \n",
       "  \u001b[39m█\u001b[39m█\u001b[39m█\u001b[34m█\u001b[39m\u001b[39m▅\u001b[32m▁\u001b[39m\u001b[39m▁\u001b[39m▁\u001b[39m▁\u001b[39m▁\u001b[39m▁\u001b[39m▁\u001b[39m▁\u001b[39m▁\u001b[39m▁\u001b[39m▁\u001b[39m▁\u001b[39m▁\u001b[39m▁\u001b[39m▁\u001b[39m▁\u001b[39m▁\u001b[39m▁\u001b[39m▁\u001b[39m▁\u001b[39m▁\u001b[39m▁\u001b[39m▁\u001b[39m▁\u001b[39m▁\u001b[39m▁\u001b[39m▁\u001b[39m▁\u001b[39m▁\u001b[39m▁\u001b[39m▁\u001b[39m▁\u001b[39m▁\u001b[39m▁\u001b[39m▁\u001b[39m▁\u001b[39m▁\u001b[39m▁\u001b[39m▁\u001b[39m▁\u001b[39m▁\u001b[39m▁\u001b[39m▁\u001b[39m▁\u001b[39m▁\u001b[39m▁\u001b[39m▁\u001b[39m▁\u001b[39m▁\u001b[39m▁\u001b[39m▅\u001b[39m▁\u001b[39m▅\u001b[39m▅\u001b[39m▆\u001b[39m \u001b[39m▅\n",
       "  13.4 ms\u001b[90m       \u001b[39m\u001b[90mHistogram: \u001b[39m\u001b[90m\u001b[1mlog(\u001b[22m\u001b[39m\u001b[90mfrequency\u001b[39m\u001b[90m\u001b[1m)\u001b[22m\u001b[39m\u001b[90m by time\u001b[39m       381 ms \u001b[0m\u001b[1m<\u001b[22m\n",
       "\n",
       " Memory estimate\u001b[90m: \u001b[39m\u001b[33m129.27 MiB\u001b[39m, allocs estimate\u001b[90m: \u001b[39m\u001b[33m1680352\u001b[39m."
      ]
     },
     "metadata": {},
     "output_type": "display_data"
    }
   ],
   "source": [
    "@benchmark mc_step!($mc_states,$move_strat,$mc_params,$runnerpotential,$ensemble)"
   ]
  },
  {
   "cell_type": "code",
   "execution_count": 13,
   "metadata": {},
   "outputs": [
    {
     "data": {
      "text/plain": [
       "55-element Vector{StaticArraysCore.SVector{3, Float64}}:\n",
       " [0.0, 0.0, 0.0]\n",
       " [0.2775397660100228, 0.020467610528373592, 0.13828422734204793]\n",
       " [0.0, 0.0, 0.0]\n",
       " [0.0, 0.0, 0.0]\n",
       " [0.029472549484363952, -0.06589722719292235, -0.14968615552693398]\n",
       " [-0.03081476680682016, -0.12247744576755393, -0.09757177264942829]\n",
       " [0.0, 0.0, 0.0]\n",
       " [0.19180652109218976, -0.016597794822581946, -0.20955834276605145]\n",
       " [0.0, 0.0, 0.0]\n",
       " [0.08364018786441241, 0.01360998220797649, -0.24287405441779453]\n",
       " ⋮\n",
       " [0.019054938091651152, 0.011697330921559335, 0.2156795767542974]\n",
       " [-0.21129114050837483, 0.23973091222653217, 0.031999646771216916]\n",
       " [-0.013600635621410007, 0.24012843980477871, -0.08897833353914164]\n",
       " [-0.08742874582643356, 0.07130099014725655, -0.16544668167311016]\n",
       " [0.0, 0.0, 0.0]\n",
       " [0.0, 0.0, 0.0]\n",
       " [-0.20493659553593746, 0.13615432527279703, -0.017954268346627167]\n",
       " [0.1617027985318713, 0.3244432632608856, -0.008468398566158442]\n",
       " [0.0, 0.0, 0.0]"
      ]
     },
     "metadata": {},
     "output_type": "display_data"
    }
   ],
   "source": [
    "mc_states[3].config.pos .- mc_states[10].config.pos"
   ]
  },
  {
   "cell_type": "code",
   "execution_count": 14,
   "metadata": {},
   "outputs": [
    {
     "data": {
      "text/plain": [
       "NNPState{Float64, 55, SphericalBC{Float64}}(608.3539857714874, 519.0645457227431, Config{55, SphericalBC{Float64}, Float64}(StaticArraysCore.SVector{3, Float64}[[4.5112139495856e-6, -1.3138293967695e-5, 3.4601504321700004e-7], [-0.27754374689596556, -0.020470948031889452, 4.437632599696424], [1.264752985534391, -3.8925157884546686, 2.0464230925690106], [-3.311163519470279, -2.405710469814843, 2.0464114164455425], [-3.327862607359954, 2.486366762966421, 2.1430339251330928], [1.295567626268403, 4.014975764231021, 2.1439781907192472], [4.092824837722801, -8.6887460654154e-6, 2.046420003785219], [-1.456550358811052, -3.8759268009139984, -1.8368473832736814], [-4.092815815294902, -1.75878418699746e-5, -2.0464193117551326], [-1.3143616217661274, 3.9821269013758536, -1.951190811287754]  …  [2.0744963372369405, 6.384583971948036, -4.148977939714466], [6.5594487104586, 4.765688045720408, -4.053952548518178], [6.713184197946128, -2.1916113212552402e-5, -4.1489556556605045], [6.573049500245128, -5.005859916237125, -3.9649538000914872], [-1.2820847296802604, -3.9459310282596545, -6.7131655686332365], [-4.148951491146777, -2.75845933165806e-5, -6.713179340717135], [-1.282084857808603, 3.9458759515720923, -6.71318247198198], [3.3566029234199006, 2.4386750098556425, -6.71317063552679], [3.1945672991883374, -2.614193389965839, -6.8897258362258365], [2.1333711654662402e-5, -3.25548767294442e-5, -9.06491829912888]], SphericalBC{Float64}(514.2332609265956)), [0.0 19.77003157647241 … 64.50749666079739 82.17275004373793; 19.77003157647241 0.0 … 147.09200035799165 182.39634087725554; … ; 64.50749666079739 147.09200035799165 … 0.0 21.77042304792735; 82.17275004373793 182.39634087725554 … 21.77042304792735 0.0], [-0.14926964762369335, -0.15398112899717378, -0.1572155178547167, -0.16248291882303328, -0.16277607616680737, -0.15828141455881092, -0.15593677026812275, -0.15473031516858132, -0.16300664576771448, -0.15700177223376316  …  -0.10461274348613941, -0.08954638371324594, -0.10149592815601793, -0.08853241189231997, -0.10646816152977218, -0.10472965232246684, -0.10679898927847914, -0.10406550159816136, -0.10342603530205774, -0.08779541636589905], -6.170666973173833, Float64[], [0.7799705031419377, 0.01, 1.0], [51, 51], [0, 0], [0, 0], [0, 0], [-0.14661674416797044, -0.15438402332220555, -0.157138220557421, -0.1636492398810503, -0.16275071039437553, -0.15867197419857923, -0.1537496857842509, -0.15337003605677638, -0.16322859551689442, -0.1572486926244161  …  -0.10461274348613941, -0.08954638371324594, -0.10180815916639749, -0.08911442476903461, -0.10663758681661908, -0.10472811234541107, -0.10679898927847914, -0.10406288583741596, -0.10365733818377074, -0.08779541636589905], [0.9214770480806003 0.7621797616761304 … 0.44635887111177885 0.3490711127583995; 0.0 0.0 … 0.0 0.0; … ; 0.0 0.0 … 0.0 0.0; 0.0 0.0 … 0.0 0.0], [1.0 0.6661674878054639 … 0.19555635553161 0.09593833408183039; 0.6661674878054639 1.0 … 0.0 0.0; … ; 0.19555635553161 0.0 … 1.0 0.6371925266650623; 0.09593833408183039 0.0 … 0.6371925266650623 1.0], [0.9196673522659309 0.763009628867034 … 0.44480233291425647 0.3490711127583995; 0.0 0.0 … 0.0 0.0; … ; 0.0 0.0 … 0.0 0.0; 0.0 0.0 … 0.0 0.0], [22.811320252000613, 22.220005180002424, 0.0, 21.51116198888382, 61.501615711533766, 64.94739379357658, 25.821212687607474, 23.603280493649354, 61.67945109801779, 88.16693857527218  …  151.81809208165865, 149.04000243287024, 90.8007567524562, 71.51299795240422, 87.25952750457576, 124.97031464281322, 150.97716140986563, 129.3394895321232, 91.92689825450914, 147.3966566253399], [0.6224438883156018, 0.6307949300673015, 1.0, 0.6409008410270522, 0.2167763395376936, 0.19256060170044154, 0.5810405623982904, 0.6113715055682929, 0.2154841565049741, 0.07110408070890506  …  0.0, 0.0, 0.06151182508018199, 0.15107723450926158, 0.07459236280593856, 0.00048509187199885506, 0.0, 0.0, 0.057648614905326745, 0.0])"
      ]
     },
     "metadata": {},
     "output_type": "display_data"
    }
   ],
   "source": [
    "mc_states[10]"
   ]
  },
  {
   "cell_type": "code",
   "execution_count": 15,
   "metadata": {},
   "outputs": [
    {
     "data": {
      "text/plain": [
       "BenchmarkTools.Trial: 12 samples with 1 evaluation.\n",
       " Range \u001b[90m(\u001b[39m\u001b[36m\u001b[1mmin\u001b[22m\u001b[39m … \u001b[35mmax\u001b[39m\u001b[90m):  \u001b[39m\u001b[36m\u001b[1m253.108 ms\u001b[22m\u001b[39m … \u001b[35m635.667 ms\u001b[39m  \u001b[90m┊\u001b[39m GC \u001b[90m(\u001b[39mmin … max\u001b[90m): \u001b[39m 0.00% … 62.09%\n",
       " Time  \u001b[90m(\u001b[39m\u001b[34m\u001b[1mmedian\u001b[22m\u001b[39m\u001b[90m):     \u001b[39m\u001b[34m\u001b[1m533.237 ms               \u001b[22m\u001b[39m\u001b[90m┊\u001b[39m GC \u001b[90m(\u001b[39mmedian\u001b[90m):    \u001b[39m44.26%\n",
       " Time  \u001b[90m(\u001b[39m\u001b[32m\u001b[1mmean\u001b[22m\u001b[39m ± \u001b[32mσ\u001b[39m\u001b[90m):   \u001b[39m\u001b[32m\u001b[1m461.924 ms\u001b[22m\u001b[39m ± \u001b[32m154.543 ms\u001b[39m  \u001b[90m┊\u001b[39m GC \u001b[90m(\u001b[39mmean ± σ\u001b[90m):  \u001b[39m40.00% ± 28.70%\n",
       "\n",
       "  \u001b[39m█\u001b[39m \u001b[39m \u001b[39m▁\u001b[39m \u001b[39m \u001b[39m \u001b[39m \u001b[39m \u001b[39m \u001b[39m \u001b[39m \u001b[39m \u001b[39m▁\u001b[39m \u001b[39m▁\u001b[39m \u001b[39m \u001b[39m \u001b[39m \u001b[39m \u001b[39m \u001b[39m \u001b[39m \u001b[39m \u001b[39m \u001b[39m \u001b[39m \u001b[39m \u001b[39m \u001b[39m \u001b[39m \u001b[39m \u001b[32m \u001b[39m\u001b[39m \u001b[39m \u001b[39m \u001b[39m \u001b[39m \u001b[39m \u001b[39m \u001b[34m▁\u001b[39m\u001b[39m \u001b[39m \u001b[39m \u001b[39m \u001b[39m \u001b[39m \u001b[39m▁\u001b[39m▁\u001b[39m \u001b[39m \u001b[39m \u001b[39m█\u001b[39m \u001b[39m \u001b[39m \u001b[39m \u001b[39m \u001b[39m \u001b[39m█\u001b[39m \u001b[39m \n",
       "  \u001b[39m█\u001b[39m▁\u001b[39m▁\u001b[39m█\u001b[39m▁\u001b[39m▁\u001b[39m▁\u001b[39m▁\u001b[39m▁\u001b[39m▁\u001b[39m▁\u001b[39m▁\u001b[39m▁\u001b[39m█\u001b[39m▁\u001b[39m█\u001b[39m▁\u001b[39m▁\u001b[39m▁\u001b[39m▁\u001b[39m▁\u001b[39m▁\u001b[39m▁\u001b[39m▁\u001b[39m▁\u001b[39m▁\u001b[39m▁\u001b[39m▁\u001b[39m▁\u001b[39m▁\u001b[39m▁\u001b[39m▁\u001b[39m▁\u001b[32m▁\u001b[39m\u001b[39m▁\u001b[39m▁\u001b[39m▁\u001b[39m▁\u001b[39m▁\u001b[39m▁\u001b[39m▁\u001b[34m█\u001b[39m\u001b[39m▁\u001b[39m▁\u001b[39m▁\u001b[39m▁\u001b[39m▁\u001b[39m▁\u001b[39m█\u001b[39m█\u001b[39m▁\u001b[39m▁\u001b[39m▁\u001b[39m█\u001b[39m▁\u001b[39m▁\u001b[39m▁\u001b[39m▁\u001b[39m▁\u001b[39m▁\u001b[39m█\u001b[39m \u001b[39m▁\n",
       "  253 ms\u001b[90m           Histogram: frequency by time\u001b[39m          636 ms \u001b[0m\u001b[1m<\u001b[22m\n",
       "\n",
       " Memory estimate\u001b[90m: \u001b[39m\u001b[33m1.26 GiB\u001b[39m, allocs estimate\u001b[90m: \u001b[39m\u001b[33m16803691\u001b[39m."
      ]
     },
     "metadata": {},
     "output_type": "display_data"
    }
   ],
   "source": [
    "@benchmark mc_cycle!(mc_states,move_strat,mc_params,runnerpotential,ensemble,10,55,0,0)"
   ]
  },
  {
   "attachments": {},
   "cell_type": "markdown",
   "metadata": {},
   "source": [
    "Basic testing complete, we can extrapolate the timings given above to a 1,000,000 cycle calculation taking just five days, if this is true on an 8-core computer, then my project is tractable"
   ]
  },
  {
   "cell_type": "code",
   "execution_count": 16,
   "metadata": {},
   "outputs": [
    {
     "data": {
      "text/plain": [
       "(NNPState{Float64, 55, SphericalBC{Float64}}[NNPState{Float64, 55, SphericalBC{Float64}}(540.0, 584.7684912279577, Config{55, SphericalBC{Float64}, Float64}(StaticArraysCore.SVector{3, Float64}[[0.07292105323131233, -0.008337762657103322, 0.034823392211265916], [-3.980885942754e-6, -3.3375035158614e-6, 4.575916827038472], [1.264752985534391, -3.8925157884546686, 2.0464230925690106], [-3.311163519470279, -2.405710469814843, 2.0464114164455425], [-2.868988166501716, 2.8740797339624984, 2.3611048079703694], [1.4140256288151158, 4.117666695632057, 1.9723520127105174], [4.25523281065647, 0.22484058417583683, 2.2030706621765375], [-1.2647438377188622, -3.8925245957365804, -2.046405726039733], [-4.200197373982291, 0.1571844736386634, -1.739085522211027], [-1.1844004662770795, 4.116181595812496, -1.7355805021123012]  …  [2.176348050566163, 6.682522431122635, -4.378236286441588], [6.497978888398135, 4.622726555303251, -4.104765062500762], [6.79430186824933, -0.1658758840534013, -4.4297806908049955], [6.684599690019523, -4.708628848177757, -4.110677748179896], [-1.5305033436510604, -4.0254462391981285, -6.544535024781038], [-4.386511310813152, 0.17786242063264196, -6.992300825149054], [-1.211287071601189, 4.038941290849917, -6.857993427015316], [3.3566029234199006, 2.4386750098556425, -6.71317063552679], [3.356603002900584, -2.438729936489156, -6.713160188613198], [0.18439742157708286, 0.2792166268773815, -9.50644642264277]], SphericalBC{Float64}(514.2332609265956)), [0.0 20.626917107074398 … 62.224655672284435 91.13094418748486; 20.626917107074398 0.0 … 144.65745773351938 198.42492236171196; … ; 62.224655672284435 144.65745773351938 … 0.0 25.252569756715047; 91.13094418748486 198.42492236171196 … 25.252569756715047 0.0], [-0.1467988421558153, -0.15608120046941268, -0.1578019630459367, -0.1612183526446926, -0.1568608287084713, -0.16197580488051574, -0.15647114927102054, -0.1583514687736945, -0.15011191329967008, -0.15045978495280318  …  -0.09536743765667019, -0.08991736857117039, -0.1016593211698345, -0.08805607103472687, -0.10151409436625164, -0.09913044049969294, -0.10546646905208629, -0.110698684459028, -0.10528578156533963, -0.08036456061889793], -6.118357393134734, Float64[], [0.7348469228349535, 0.01, 1.0], [150, 150], [0, 0], [0, 0], [0, 0], [-0.14696247086688702, -0.15608120046941268, -0.1578019630459367, -0.1616264700490871, -0.15688580765248084, -0.16197580488051574, -0.15647114927102054, -0.15903057193726933, -0.14796355767283403, -0.1505537543757581  …  -0.09536743765667019, -0.08991736857117039, -0.1016593211698345, -0.08805607103472687, -0.10208935394000698, -0.09761889568334298, -0.10560024705569468, -0.110698684459028, -0.10528578156533963, -0.08038320240264787], [0.9056765317620322 0.7452484092702739 … 0.45414333066297075 0.301537416388446; 0.0 0.0 … 0.0 0.0; … ; 0.0 0.0 … 0.0 0.0; 0.0 0.0 … 0.0 0.0], [1.0 0.6536535624880621 … 0.2115516127962898 0.06036448522766574; 0.6536535624880621 1.0 … 0.0 0.0; … ; 0.2115516127962898 0.0 … 1.0 0.5887223269307055; 0.06036448522766574 0.0 … 0.5887223269307055 1.0], [0.9047079239640308 0.7452484092702739 … 0.45414333066297075 0.3008219534270878; 0.0 0.0 … 0.0 0.0; … ; 0.0 0.0 … 0.0 0.0; 0.0 0.0 … 0.0 0.0], [92.24804333075306, 148.385115944617, 152.81630939582055, 72.7432679065319, 80.06389398523937, 150.68960316458623, 204.65566849364262, 76.30097551177532, 24.82982957106923, 74.59029145734084  …  156.6335007241079, 246.82595673084126, 238.2941543671401, 260.3139043315259, 76.12943380748534, 26.885864306641675, 76.50093017125961, 155.1517804700532, 158.81344457236736, 107.80825938755487], [0.05657272228666177, 0.0, 0.0, 0.14396063045694135, 0.1057030255096364, 0.0, 0.0, 0.1245065804489629, 0.5944752381696132, 0.1336540135187742  …  0.0, 0.0, 0.0, 0.0, 0.1254067540008435, 0.5668321093932106, 0.123462090866583, 0.0, 0.0, 0.01740081361359813]), NNPState{Float64, 55, SphericalBC{Float64}}(547.1988293384211, 577.0754035509873, Config{55, SphericalBC{Float64}, Float64}(StaticArraysCore.SVector{3, Float64}[[0.012382630164983557, -0.00773462927597924, 0.017072487975306718], [0.06392870847087166, 0.13207074717390305, 4.710775256033587], [1.1399090084149288, -4.23802449501538, 1.9778342477558717], [-3.311163519470279, -2.405710469814843, 2.0464114164455425], [-3.1906754632211545, 2.34577063134612, 1.9924821355091167], [1.297449734279784, 3.9360721666074423, 1.9277340670156349], [4.084015684626533, 0.06148700284883931, 2.2011813220971397], [-1.1816672925032192, -3.7316181395125563, -2.1261585793310505], [-4.183235421873731, 0.11235792433314964, -1.8755898675437308], [-1.4972952525465129, 3.8874957245778745, -1.9537240522694181]  …  [1.9751269396613327, 6.197569019018274, -4.393893441212028], [6.557174367405062, 5.2176228435609495, -3.914176788466152], [7.150588465226135, 0.2731328091341173, -4.091214421571151], [6.559448864623718, -4.765731476432347, -4.053932133630629], [-1.0172343211410562, -4.126219084033078, -6.739893946540655], [-4.264428105815487, 0.014523244964196547, -6.607048458380897], [-1.4495081829740415, 4.036032681311369, -6.897348560073885], [3.5485355820270055, 2.458236796177482, -6.710535734522063], [3.298322631268018, -2.3315125896433972, -6.745282216669615], [0.13994397261115374, -0.1954891537608377, -8.934988336288775]], SphericalBC{Float64}(514.2332609265956)), [0.0 22.05304821635097 … 61.92678685137168 80.19091665887493; 22.05304821635097 0.0 … 147.77179972314985 186.3199378266332; … ; 61.92678685137168 147.77179972314985 … 0.0 19.33276476039627; 80.19091665887493 186.3199378266332 … 19.33276476039627 0.0], [-0.1528673758090721, -0.15476934912198165, -0.1535176109160915, -0.1515551759250974, -0.15342592146177014, -0.1589433846779884, -0.15715169251312447, -0.15478809138910518, -0.15767355845154749, -0.1532195540122324  …  -0.10534251874150857, -0.0881834024542743, -0.09718505634849861, -0.08673272659264414, -0.10496150500966528, -0.10432224115315111, -0.1016593743118922, -0.10210557626646982, -0.10498714879585752, -0.0872052627540797], -6.138430138111964, Float64[], [0.7397288890792499, 0.01, 1.0], [148, 148], [0, 0], [0, 0], [0, 0], [-0.1512565836899972, -0.15430388312963392, -0.15036616033685696, -0.15183058160279536, -0.15554392813992002, -0.15877508360199877, -0.15757992499597506, -0.15241915462873895, -0.158711606938746, -0.15279535288676926  …  -0.10534251874150857, -0.0881834024542743, -0.09718505634849861, -0.08673272659264414, -0.10511798237050446, -0.10425041959196074, -0.1016601235305773, -0.10210557626646982, -0.10498528418961292, -0.0872052627540797], [0.9063226941624876 0.7386067313277739 … 0.460850173876971 0.35532100178079484; 0.0 0.0 … 0.0 0.0; … ; 0.0 0.0 … 0.0 0.0; 0.0 0.0 … 0.0 0.0], [1.0 0.6331658710187094 … 0.21369471691419756 0.10509934013548217; 0.6331658710187094 1.0 … 0.0 0.0; … ; 0.21369471691419756 0.0 … 1.0 0.672612751174197; 0.10509934013548217 0.0 … 0.672612751174197 1.0], [0.9053881377381854 0.7382434441906067 … 0.46073381259739216 0.35532100178079484; 0.0 0.0 … 0.0 0.0; … ; 0.0 0.0 … 0.0 0.0; 0.0 0.0 … 0.0 0.0], [21.87404240357756, 25.326361126185443, 27.228075354694894, 0.0, 19.92537305947671, 60.5692167594396, 63.968469075096024, 26.469421981675726, 21.009140932984753, 56.735688869423775  …  142.23628090440462, 193.18047551687877, 159.88897553349324, 148.5595932568637, 89.03236569478642, 80.69811411521196, 123.26570835181131, 149.7216744094379, 126.12347101675066, 139.51017425885172], [0.6357143097809052, 0.587721817022605, 0.5623129647067572, 1.0, 0.6638874586798758, 0.2236278679049627, 0.19926510229464556, 0.5723628959981992, 0.6481210998000664, 0.2531689899078936  …  0.0, 0.0, 0.0, 0.0, 0.0678653309569639, 0.10270878040523929, 0.001064047473660179, 0.0, 0.00022191607524557622, 0.0]), NNPState{Float64, 55, SphericalBC{Float64}}(554.4936274617379, 569.4835244700569, Config{55, SphericalBC{Float64}, Float64}(StaticArraysCore.SVector{3, Float64}[[4.5112139495856e-6, -1.3138293967695e-5, 3.4601504321700004e-7], [0.15477840239872392, -0.15789434424604515, 4.754971597338237], [1.264752985534391, -3.8925157884546686, 2.0464230925690106], [-3.123622079430803, -2.3484470100215584, 2.1634504115402478], [-3.29839005787559, 2.4204695357734987, 1.9933477696061588], [1.0809842576165543, 3.9840928446624324, 1.9257934266894452], [4.016540369038687, -0.22614189691480008, 2.2980640958870877], [-1.1777511613251241, -3.7786455391690077, -2.003153214798888], [-4.092815815294902, -1.75878418699746e-5, -2.0464193117551326], [-1.5479900653585492, 3.911624556169127, -2.186477562405098]  …  [2.0744963372369405, 6.384583971948036, -4.148977939714466], [6.490497806951417, 4.6243679794777774, -4.127206163493546], [6.518640395808181, 0.0336226765056087, -4.416049123881434], [6.771656903160445, -4.346949870945652, -4.258154386903974], [-1.4735004740181359, -4.159021354653008, -6.808120699029125], [-4.3280208296115354, -0.27909511162386497, -6.846183659124287], [-1.2802370638282126, 3.8519592647215397, -6.921608914597456], [3.337725190719156, 2.6152625016142803, -6.8294506045424495], [3.49050291770567, -2.457091255640354, -7.115707323529777], [0.1045500628117826, -0.1948351751263645, -9.190947729813741]], SphericalBC{Float64}(514.2332609265956)), [0.0 22.658633033495416 … 68.85410763888267 84.52241193097524; 22.658633033495416 0.0 … 157.32638252172507 194.49255339051487; … ; 68.85410763888267 157.32638252172507 … 0.0 20.88910205326022; 84.52241193097524 194.49255339051487 … 20.88910205326022 0.0], [-0.1515189461157101, -0.16193277672534986, -0.1603373462780313, -0.14258251571985495, -0.16471989818740046, -0.1510324766014288, -0.15410967380616059, -0.15255233559463208, -0.1520346348714452, -0.15740670653762118  …  -0.10663457140316371, -0.08683199709421383, -0.10694693710205658, -0.08849351885365256, -0.10523914643457691, -0.10092929195251196, -0.09654664732454415, -0.10585481178287207, -0.09970221965858908, -0.08706664827070731], -6.111592833194152, Float64[], [0.7446432887374584, 0.01, 1.0], [154, 154], [0, 0], [0, 0], [2, 2], [-0.15190854176967003, -0.16219537267516004, -0.1604784598310716, -0.14258036937246396, -0.16471989818740046, -0.151094314715618, -0.15241142017860482, -0.15281174599869493, -0.1520346348714452, -0.15740670653762118  …  -0.10663526260054587, -0.08658087934476727, -0.10912730608715551, -0.08936364018210594, -0.10523914643457691, -0.10092929195251196, -0.09654664732454415, -0.10577098940149982, -0.09967226293668718, -0.08706664827070731], [0.9138843474797608 0.7335102979330584 … 0.4363199242832113 0.3436376419077086; 0.0 0.0 … 0.0 0.0; … ; 0.0 0.0 … 0.0 0.0; 0.0 0.0 … 0.0 0.0], [1.0 0.6245933786659678 … 0.1671572247744913 0.08569598417864993; 0.6245933786659678 1.0 … 0.0 0.0; … ; 0.1671572247744913 0.0 … 1.0 0.6498553104310655; 0.08569598417864993 0.0 … 0.6498553104310655 1.0], [0.9126290796615851 0.7323437861011021 … 0.4364935010472686 0.3436376419077086; 0.0 0.0 … 0.0 0.0; … ; 0.0 0.0 … 0.0 0.0; 0.0 0.0 … 0.0 0.0], [67.86710892805937, 89.47991293379081, 51.88779719813953, 127.45219844821285, 152.73682794454967, 90.61943704304424, 25.77855518469551, 87.98023289754472, 152.64339574445287, 131.76953356594234  …  124.70749807310129, 65.05664763851935, 24.91130939440921, 21.808135897355445, 134.9106817641852, 197.68177887394359, 167.05082861704952, 88.60487006540724, 67.0662273479808, 145.73449301765118], [0.17337329859213502, 0.06622395418515509, 0.29377718983937634, 4.5199008937180096e-5, 0.0, 0.062147065135987, 0.5816145699818926, 0.07181406068517016, 0.0, 0.0  …  0.0005595017514220535, 0.19182086490679084, 0.5933636074141192, 0.636654264216251, 0.0, 0.0, 0.0, 0.06945447109476166, 0.178516874833614, 0.0]), NNPState{Float64, 55, SphericalBC{Float64}}(561.8856737456991, 561.9915225067869, Config{55, SphericalBC{Float64}, Float64}(StaticArraysCore.SVector{3, Float64}[[4.5112139495856e-6, -1.3138293967695e-5, 3.4601504321700004e-7], [-0.26811669468282745, -0.03272771371844188, 4.5976844553849805], [1.2051324943166137, -3.8409910980551496, 1.9804755011425699], [-3.311163519470279, -2.405710469814843, 2.0464114164455425], [-3.4698865985276277, 2.3759236062654976, 2.1019386614496764], [1.2796272053100992, 4.1114209678575815, 1.9068113189161346], [4.232702245195315, 0.012709378360213155, 1.7406831480636689], [-1.0173155418524473, -4.0186734693280926, -2.2655719154566185], [-4.092815815294902, -1.75878418699746e-5, -2.0464193117551326], [-1.2228930803360836, 4.013534542597662, -1.8236445732215054]  …  [1.961320905876189, 6.694558354860839, -4.761336722815468], [6.401003227212616, 4.7145460891418525, -4.131255395452653], [6.772086007946363, 0.00686032779803071, -3.8087370634590143], [6.41278022964327, -4.7645596405822035, -4.052051440316864], [-0.9312935970269108, -4.425391137850422, -7.020113890278271], [-4.148951491146777, -2.75845933165806e-5, -6.713179340717135], [-1.1628782337962822, 4.118872716359268, -7.078608936732644], [3.1685558311641695, 2.62862313617306, -6.842462409968863], [3.6284263946587987, -2.3056423042493885, -6.921843628165926], [2.1333711654662402e-5, -3.25548767294442e-5, -9.06491829912888]], SphericalBC{Float64}(514.2332609265956)), [0.0 21.21165839404958 … 66.39329521807116 82.17275004373793; 21.21165839404958 0.0 … 153.04871605066245 186.7396810033327; … ; 66.39329521807116 153.04871605066245 … 0.0 23.07392864803208; 82.17275004373793 186.7396810033327 … 23.07392864803208 0.0], [-0.15496380053930356, -0.1494363077619969, -0.1589413408304791, -0.1586851921089082, -0.15737721523236614, -0.1579706757546687, -0.15555927071723388, -0.15522016303426528, -0.1537131692650199, -0.14862174798519173  …  -0.10260086895603732, -0.08821291051115046, -0.10470141055976326, -0.08834881009271292, -0.09961686490655372, -0.10549510440213553, -0.10288567546267233, -0.10681370710806568, -0.09980457294919062, -0.09103165640829214], -6.108771774967717, Float64[], [0.7495903372814374, 0.01, 1.0], [141, 141], [0, 0], [0, 0], [2, 2], [-0.15496380053930356, -0.1494363077619969, -0.1589413408304791, -0.1586851921089082, -0.15737721523236614, -0.1579706757546687, -0.15555927071723388, -0.15522016303426528, -0.1537131692650199, -0.14862174798519173  …  -0.10260086895603732, -0.08821291051115046, -0.10470141055976326, -0.08834881009271292, -0.09961686490655372, -0.10549510440213553, -0.10288567546267233, -0.10681370710806568, -0.09980457294919062, -0.09103165640829214], [0.908670818247418 0.7453598213451035 … 0.4335135074283161 0.34594567986676483; 0.0 0.0 … 0.0 0.0; … ; 0.0 0.0 … 0.0 0.0; 0.0 0.0 … 0.0 0.0], [1.0 0.6452021138288976 … 0.1829082584925089 0.09593833408183039; 0.6452021138288976 1.0 … 0.0 0.0; … ; 0.1829082584925089 0.0 … 1.0 0.6187581427897028; 0.09593833408183039 0.0 … 0.6187581427897028 1.0], [0.908670818247418 0.7453598213451035 … 0.4335135074283161 0.34594567986676483; 0.0 0.0 … 0.0 0.0; … ; 0.0 0.0 … 0.0 0.0; 0.0 0.0 … 0.0 0.0], [22.31738861854814, 63.55335049116067, 22.99976496254153, 26.45658843682225, 65.98112518661927, 88.7831633957749, 59.8648140629353, 0.0, 25.656324889457558, 64.75392744698824  …  129.8744531802029, 134.78135206343507, 79.26105752982204, 58.95417844681155, 22.778488427220786, 45.73787027504083, 89.40617178965445, 82.6559979117037, 46.19826017576704, 63.41556036284208], [0.6294146508433598, 0.2021498714850289, 0.6197976083225878, 0.5725338868670017, 0.18562951938611438, 0.06878916085356207, 0.22888974556696196, 1.0, 0.583261343395627, 0.1938747149955919  …  0.0, 0.0, 0.1095650495964311, 0.23580237086816486, 0.6229056821402897, 0.3507478345014813, 0.06649283377817622, 0.09377740358566833, 0.3462651223448959, 0.20311292529807223]), NNPState{Float64, 55, SphericalBC{Float64}}(569.3762646216234, 554.5980836994394, Config{55, SphericalBC{Float64}, Float64}(StaticArraysCore.SVector{3, Float64}[[-0.24871400056631343, 0.030865335656872855, -0.009840302732222375], [-0.044383859958745546, 0.34472147788580715, 4.683384786521853], [1.264752985534391, -3.8925157884546686, 2.0464230925690106], [-3.311163519470279, -2.405710469814843, 2.0464114164455425], [-3.471266153915431, 2.5899349202096795, 2.0498380638580906], [1.264752859461583, 3.8924983184634674, 2.046406418069819], [4.106958649130364, 0.25097227467992134, 2.03772934919473], [-1.3420325374677422, -3.986325401318806, -2.1449150568899022], [-4.0606993259439745, 0.3310489627300583, -2.0152133616381067], [-1.1440762866594743, 4.200962319654071, -2.196453083037783]  …  [2.1739150248522394, 6.937112277562489, -4.209013899196516], [6.315108022209259, 4.910211959796216, -4.343942455783413], [6.766315053482698, 0.0958459613909805, -3.939564287365167], [6.559448864623718, -4.765731476432347, -4.053932133630629], [-1.679594535064719, -4.074487494605935, -7.050336433296154], [-4.394356982896056, 0.6274116184974423, -6.480950912341058], [-1.0376239060291526, 4.089971873181669, -6.391811573206279], [3.6558991655673214, 2.0744245265358607, -6.683995237701679], [3.084398785953055, -2.43605988603388, -6.857908293376452], [-0.07887277049976925, -0.28866244825873444, -9.041770285208349]], SphericalBC{Float64}(514.2332609265956)), [0.0 22.16661822277946 … 64.09139610155898 81.70670325647575; 22.16661822277946 0.0 … 150.72347179539042 188.7822464258899; … ; 64.09139610155898 150.72347179539042 … 0.0 19.38685589499471; 81.70670325647575 188.7822464258899 … 19.38685589499471 0.0], [-0.14492031654641516, -0.15498876773252987, -0.1462513203429028, -0.15922443777545717, -0.15720825899195914, -0.15338475570271187, -0.15470806916695354, -0.1593612137011571, -0.15269591947730465, -0.16083226331575504  …  -0.09347690612904375, -0.0884179805188034, -0.10421369258805693, -0.08503841421960945, -0.09651876941802806, -0.10206927372317914, -0.10149901104978012, -0.10282947122388536, -0.102637988462941, -0.08499985596441828], -6.117695120849045, Float64[], [0.7545702516145356, 0.01, 1.0], [159, 159], [0, 0], [0, 0], [1, 1], [-0.14492031654641516, -0.15498876773252987, -0.1462513203429028, -0.15922443777545717, -0.15720825899195914, -0.15338475570271187, -0.15470806916695354, -0.1593612137011571, -0.15269591947730465, -0.16083226331575504  …  -0.09347690612904375, -0.0884179805188034, -0.10421369258805693, -0.08503841421960945, -0.09651876941802806, -0.10206927372317914, -0.10149901104978012, -0.10282947122388536, -0.102637988462941, -0.08499985596441828], [0.9038230170925831 0.7243883601464765 … 0.45248007326410244 0.34084093865566006; 0.0 0.0 … 0.0 0.0; … ; 0.0 0.0 … 0.0 0.0; 0.0 0.0 … 0.0 0.0], [1.0 0.6315524480583313 … 0.1984156266886205 0.09804928168201571; 0.6315524480583313 1.0 … 0.0 0.0; … ; 0.1984156266886205 0.0 … 1.0 0.6718132698714815; 0.09804928168201571 0.0 … 0.6718132698714815 1.0], [0.9038230170925831 0.7243883601464765 … 0.45248007326410244 0.34084093865566006; 0.0 0.0 … 0.0 0.0; … ; 0.0 0.0 … 0.0 0.0; 0.0 0.0 … 0.0 0.0], [18.64286343624299, 61.00219401051487, 62.695832215424524, 24.548451954752718, 21.97464032511492, 57.5411177274094, 83.14339369105754, 26.047693035861194, 0.0, 23.51576717999707  …  87.32324942132051, 134.0490910736094, 120.98268730949741, 142.92109266592146, 50.43087584880789, 20.141970127534638, 42.42309834671291, 84.3827748419293, 82.16101261142644, 65.61148715072329], [0.6828639273667816, 0.22043020606575042, 0.2081881450245756, 0.5983243890164017, 0.634281320012062, 0.24677714237107062, 0.09162659465385659, 0.5779990989039467, 1.0, 0.612588728151942  …  0.07434429645022489, 0.0, 0.0022014118405842553, 0.0, 0.30671188414968914, 0.6607168076574291, 0.3840922835583723, 0.0862861567820421, 0.0959911733358671, 0.18809044480135712]), NNPState{Float64, 55, SphericalBC{Float64}}(576.9667138037692, 547.3019113724725, Config{55, SphericalBC{Float64}, Float64}(StaticArraysCore.SVector{3, Float64}[[-0.11965484931588775, 0.05884282756573905, 0.08641862083599115], [0.052599074510289584, 0.27147478277269516, 4.788793459493525], [1.4546972924271566, -3.9498371162899684, 1.7484341596881057], [-3.5229490685021365, -2.6229931133435436, 1.8156349860826686], [-3.2714834611778425, 2.5913783957985377, 2.1471033555633774], [1.0998237845236747, 3.869166463575097, 1.8750919189859772], [4.212160104782461, 0.08625925379784588, 1.7729609480822175], [-1.2410598816634972, -3.6757935576269865, -2.22421653581902], [-4.318970831758458, -0.021074440175827144, -1.9333343190029075], [-1.1952001543849435, 4.098888350876151, -2.2809318372733465]  …  [2.397171558193402, 6.7581240635055515, -3.998348183033936], [6.494530186792186, 4.742946661687024, -4.24803172708223], [7.252524553402044, 0.09508549036168334, -4.4151746033045445], [6.684057711104002, -4.5466985822507455, -4.067325978041194], [-1.3679202030681497, -3.8619985607667258, -6.744198008007216], [-4.179086030976162, -0.2199877265515408, -6.619796576197264], [-1.1456657693688863, 3.8375890380798174, -6.752051595442257], [3.430341794076972, 2.5295606990601702, -6.825517873137101], [3.4679016793612814, -2.6652241189899164, -6.980936480610165], [-0.028065210304184324, -0.005887321068620555, -9.247320820870806]], SphericalBC{Float64}(514.2332609265956)), [0.0 22.18721288588812 … 70.23861070570823 87.13127061978963; 22.18721288588812 0.0 … 158.81503518528893 197.0959405549394; … ; 70.23861070570823 158.81503518528893 … 0.0 24.430354676194185; 87.13127061978963 197.0959405549394 … 24.430354676194185 0.0], [-0.1423330475274811, -0.15523485969624803, -0.1511324305372763, -0.1509355875356518, -0.15774764478477174, -0.1463424771530515, -0.15148458127431044, -0.16489203371053818, -0.15978566611619222, -0.1583311720885316  …  -0.10434887243898283, -0.09079955611882548, -0.09161452418608101, -0.08819825909645321, -0.10280374676021845, -0.1025497169040753, -0.10383982605186379, -0.10278778950160547, -0.09784175207922222, -0.08611803548378347], -6.112269789872418, Float64[], [0.7595832500811016, 0.01, 1.0], [146, 146], [0, 0], [0, 0], [1, 1], [-0.1423330475274811, -0.15523485969624803, -0.1511324305372763, -0.1509355875356518, -0.15774764478477174, -0.1463424771530515, -0.15148458127431044, -0.16489203371053818, -0.15978566611619222, -0.1583311720885316  …  -0.10434887243898283, -0.09079955611882548, -0.09161452418608101, -0.08819825909645321, -0.10280374676021845, -0.1025497169040753, -0.10383982605186379, -0.10278778950160547, -0.09784175207922222, -0.08611803548378347], [0.9020068702176466 0.7283573344246803 … 0.42421318875887776 0.32740253718031986; 0.0 0.0 … 0.0 0.0; … ; 0.0 0.0 … 0.0 0.0; 0.0 0.0 … 0.0 0.0], [1.0 0.6312601567121342 … 0.15866399987353763 0.07509308790173647; 0.6312601567121342 1.0 … 0.0 0.0; … ; 0.15866399987353763 0.0 … 1.0 0.5999446904018407; 0.07509308790173647 0.0 … 0.5999446904018407 1.0], [0.9020068702176466 0.7283573344246803 … 0.42421318875887776 0.32740253718031986; 0.0 0.0 … 0.0 0.0; … ; 0.0 0.0 … 0.0 0.0; 0.0 0.0 … 0.0 0.0], [70.23861070570823, 158.81503518528893, 81.90513423210447, 126.25344720537493, 156.37229332177097, 126.73529221598623, 84.75530154660505, 45.821954206690044, 93.10519861026714, 89.58777986427269  …  98.8417869137555, 71.51024282952459, 28.525813449226206, 22.372731937097917, 24.873487447483896, 64.5860240875163, 63.62397185040015, 27.011354994375107, 0.0, 24.430354676194185], [0.15866399987353763, 0.0, 0.09714725261363993, 0.00019868100252751209, 0.0, 0.00012383071725524664, 0.08471684425153747, 0.3499264508699391, 0.05375671591603731, 0.06583175359966248  …  0.03694576131759908, 0.1510933996407276, 0.5453854894531115, 0.6286311045394839, 0.5938794463389545, 0.19501953951230672, 0.20165734531171065, 0.5651722180869319, 1.0, 0.5999446904018407]), NNPState{Float64, 55, SphericalBC{Float64}}(584.6583525197376, 540.1017259091273, Config{55, SphericalBC{Float64}, Float64}(StaticArraysCore.SVector{3, Float64}[[4.5112139495856e-6, -1.3138293967695e-5, 3.4601504321700004e-7], [0.040216514827799484, -0.11056151078916628, 4.6923771659332], [1.0278138739210316, -3.918878437552698, 1.9563244261078867], [-3.276332978401727, -2.3649353214654854, 1.852823714256513], [-3.685166691703409, 2.5576565387482764, 1.7722561018003775], [0.9780148111842536, 3.692602934566225, 2.311601904825576], [4.069931017774007, -0.39705748595388, 2.1390998999935404], [-1.0947415447945117, -4.068784719627736, -2.098260227199381], [-3.8423669271232805, -0.05395234357499379, -2.332507645729583], [-1.1081651405071689, 4.002652878860042, -1.919589689148466]  …  [1.7310884499939077, 6.866062865320851, -4.076545859840043], [6.613739300571102, 4.800629505679196, -3.9427815514101967], [6.473379681242294, 0.030376334264858085, -4.209165609974851], [6.725638557652059, -4.667750166334955, -4.0173056406486], [-1.2544029268584072, -4.0237579050481065, -6.576369566223757], [-4.230092993893586, -0.11068256159155054, -6.901545089505882], [-1.0598648530769412, 4.0021359122547695, -6.526086337438722], [3.385391820652101, 2.599892683299626, -6.845694216883699], [3.592945113816161, -2.0093883762030202, -6.983475297661789], [0.14150120465123217, 0.28453331095038714, -9.234840860514632]], SphericalBC{Float64}(514.2332609265956)), [0.0 22.03223816800121 … 65.71574308637715 85.3832801058497; 22.03223816800121 0.0 … 152.5529547145244 194.13376046277148; … ; 65.71574308637715 152.5529547145244 … 0.0 22.24318866250412; 85.3832801058497 194.13376046277148 … 22.24318866250412 0.0], [-0.14940391846399917, -0.15923610839305272, -0.15911418118717668, -0.1520616404591433, -0.15147848402204722, -0.15707659722836004, -0.15685088620864335, -0.16422237514391663, -0.14586052552410278, -0.1557049388444599  …  -0.1016534147322844, -0.08166903458070959, -0.10939974154469281, -0.08467155661554468, -0.09916973218386821, -0.0959013374605106, -0.10805542026704903, -0.10472968680611058, -0.09796923145692812, -0.08479696874576498], -6.106690064505783, Float64[], [0.7646295524760587, 0.01, 1.0], [185, 185], [0, 0], [0, 0], [0, 0], [-0.14940391846399917, -0.15923610839305272, -0.15911418118717668, -0.1520616404591433, -0.15147848402204722, -0.15707659722836004, -0.15685088620864335, -0.16422237514391663, -0.14586052552410278, -0.1557049388444599  …  -0.1016534147322844, -0.08166903458070959, -0.10939974154469281, -0.08467155661554468, -0.09916973218386821, -0.0959013374605106, -0.10805542026704903, -0.10472968680611058, -0.09796923145692812, -0.08479696874576498], [0.9195990523246063 0.741215300021386 … 0.4403072220308647 0.3279287297717315; 0.0 0.0 … 0.0 0.0; … ; 0.0 0.0 … 0.0 0.0; 0.0 0.0 … 0.0 0.0], [1.0 0.633461795866092 … 0.18739437984132984 0.0821086906428789; 0.633461795866092 1.0 … 0.0 0.0; … ; 0.18739437984132984 0.0 … 1.0 0.6304661581126458; 0.0821086906428789 0.0 … 0.6304661581126458 1.0], [0.9195990523246063 0.741215300021386 … 0.4403072220308647 0.3279287297717315; 0.0 0.0 … 0.0 0.0; … ; 0.0 0.0 … 0.0 0.0; 0.0 0.0 … 0.0 0.0], [19.93541937508872, 21.011616286966525, 58.06335071164682, 55.00372226618464, 23.324258945494687, 0.0, 26.315025125412117, 83.9823412533925, 58.84051007273423, 22.351260063712424  …  51.44639970077751, 72.10642582020274, 86.13134770909946, 142.98575342186857, 143.52195043444794, 126.4714450137556, 82.35349765774266, 90.84555201960922, 125.74902559591091, 145.6350341066051], [0.6637401781457699, 0.6480853697578007, 0.24268577250344925, 0.26725309342977077, 0.6152578686784484, 1.0, 0.5744222179871098, 0.08799147903293686, 0.23667399474842238, 0.6289350267164464  …  0.2976597439876788, 0.14761919481708974, 0.079062509805222, 0.0, 0.0, 0.0001626179192351085, 0.0951267664835071, 0.06135545530905151, 0.00029611198524870375, 0.0]), NNPState{Float64, 55, SphericalBC{Float64}}(592.452529743945, 532.9962645270053, Config{55, SphericalBC{Float64}, Float64}(StaticArraysCore.SVector{3, Float64}[[0.03466475681069965, -0.04834709178016915, -0.2176247709282278], [-0.08785258218998769, 0.1505999247521455, 4.702500795135321], [1.203791781864896, -3.8658086801553844, 2.1210813620202806], [-3.311163519470279, -2.405710469814843, 2.0464114164455425], [-3.311163596895427, 2.40569285113995, 2.0464011106786812], [1.264752859461583, 3.8924983184634674, 2.046406418069819], [4.191342739228038, -0.16299231237494768, 2.2134621723511194], [-1.2647438377188622, -3.8925245957365804, -2.046405726039733], [-4.271891716616999, -0.03196648650012008, -1.9516585555867147], [-1.464959833483374, 3.584041034720358, -1.9999583657643019]  …  [1.8409261354136588, 6.439926712978539, -4.352488279571384], [6.486548542202425, 5.131867444183093, -4.037662674011368], [7.042921398910939, 0.2514684315624346, -4.2816981569033175], [6.69420658986122, -4.7244994497287305, -4.208158340057326], [-1.1600234011827544, -4.096521677985734, -6.760939793967122], [-4.4126094352903795, -0.04465543402043062, -7.075840894910519], [-1.3885433210650984, 4.014269882365516, -6.709796473524208], [3.425185801328007, 2.7374804550412772, -6.6969357254919695], [3.637607103250223, -2.4642643976486283, -6.653200202522499], [0.09781409284783399, -0.13103103428074875, -9.177445668964127]], SphericalBC{Float64}(514.2332609265956)), [0.0 24.262225999575072 … 60.234481116301644 80.28921499787019; 24.262225999575072 0.0 … 149.66851044061153 192.76670195757214; … ; 60.234481116301644 149.66851044061153 … 0.0 24.345927659277706; 80.28921499787019 192.76670195757214 … 24.345927659277706 0.0], [-0.14484414017251937, -0.15751887327557362, -0.1552097020589275, -0.16299959708930212, -0.16069128004915742, -0.14854512966666397, -0.14824994179489334, -0.16165676690889164, -0.15778362516519095, -0.1536095003892344  …  -0.10388502089338958, -0.08928499031236264, -0.098242707043451, -0.08690351577210756, -0.1007050416431435, -0.09401837381765563, -0.10525280065833331, -0.10236775405438431, -0.10256052424485998, -0.0832696048949356], -6.125062390929622, Float64[], [0.7697093800545405, 0.01, 1.0], [147, 147], [0, 0], [0, 0], [0, 0], [-0.14451508251478265, -0.15733423963575197, -0.15516711759568988, -0.16300111952285795, -0.16040682478619972, -0.15015864881042526, -0.1477978080526922, -0.16165676690889164, -0.15778362516519095, -0.1533127180640236  …  -0.10372234770514974, -0.08917838197591174, -0.09826758300532401, -0.08690351577210756, -0.1007050416431435, -0.09401837381765563, -0.10525280065833331, -0.10236439574646716, -0.10256052424485998, -0.0832696048949356], [0.9076496843366235 0.7365367081420007 … 0.4504369745134338 0.3326227610593131; 0.0 0.0 … 0.0 0.0; … ; 0.0 0.0 … 0.0 0.0; 0.0 0.0 … 0.0 0.0], [1.0 0.6022562990174182 … 0.22611910247676703 0.10463354395660618; 0.6022562990174182 1.0 … 0.0 0.0; … ; 0.22611910247676703 0.0 … 1.0 0.6011047651282184; 0.10463354395660618 0.0 … 0.6011047651282184 1.0], [0.9086859454522991 0.7376478195711986 … 0.4504369745134338 0.3326227610593131; 0.0 0.0 … 0.0 0.0; … ; 0.0 0.0 … 0.0 0.0; 0.0 0.0 … 0.0 0.0], [62.06568370155639, 48.76350503537774, 86.78503385822735, 123.31815027073633, 81.60246084960485, 19.440265697436356, 23.456269350383064, 143.28032575278485, 142.63437989988253, 78.33501566703409  …  79.52235970683428, 59.51095599679147, 80.85431687076535, 144.07154970994623, 220.34721546445766, 228.1818146772136, 151.34857613014688, 111.5059735501815, 153.5028683436691, 210.02176205422495], [0.2126937621243507, 0.32193916725865473, 0.07645436322086241, 0.0010428216728756712, 0.09852507666230237, 0.6710244644099039, 0.6134171756415696, 0.0, 0.0, 0.11412002175370106  …  0.10829923317836443, 0.23156107033757434, 0.10197896052815808, 0.0, 0.0, 0.0, 0.0, 0.011583639445349958, 0.0, 0.0]), NNPState{Float64, 55, SphericalBC{Float64}}(600.3506124342089, 525.9842810566006, Config{55, SphericalBC{Float64}, Float64}(StaticArraysCore.SVector{3, Float64}[[4.5112139495856e-6, -1.3138293967695e-5, 3.4601504321700004e-7], [0.18381916929101533, -0.06092788593477394, 4.563714821333978], [1.264752985534391, -3.8925157884546686, 2.0464230925690106], [-3.1036063264076326, -2.597944027211935, 2.129491712012815], [-3.35303614761539, 2.3841415336296534, 1.892177018729638], [1.0430005966679377, 4.0300573507022825, 2.266288290190412], [4.013915807463318, -0.11965802835718103, 2.181419880116112], [-1.2647438377188622, -3.8925245957365804, -2.046405726039733], [-3.8630448508999056, -0.1377599972076687, -2.048780978298997], [-1.26474396379167, 3.8924895111815556, -2.046422400538924]  …  [2.2250721204691084, 6.26955778933939, -4.223593639831605], [6.5484594447620115, 5.0842473375391375, -3.6899007432750026], [6.480464822708628, 0.0998156529530349, -4.149417479877739], [6.807634969670575, -4.631005171913316, -4.363210380988396], [-1.1310068560991777, -3.6789834086066433, -7.2496997199685715], [-4.334481448271829, 0.23600600748620337, -6.746071372519131], [-1.278761285836225, 3.9997578234148374, -6.45272224569206], [3.7413454502051007, 2.479428105817476, -6.469088939323393], [3.3896725257088414, -1.8818167404648736, -6.983248148827039], [-0.34085952103804407, 0.4123903860029619, -9.12112637301343]], SphericalBC{Float64}(514.2332609265956)), [0.0 20.864988247239708 … 63.79679358634735 83.48121757991072; 20.864988247239708 0.0 … 146.9254857976771 187.77419642914333; … ; 63.79679358634735 146.9254857976771 … 0.0 23.75077899239167; 83.48121757991072 187.77419642914333 … 23.75077899239167 0.0], [-0.1510652430709314, -0.1545978166547533, -0.16782240971480564, -0.15594580822156043, -0.1528274300170768, -0.1558979479079484, -0.15462973850519485, -0.15485968803237413, -0.15365406184624358, -0.1631148385042712  …  -0.10199515030149553, -0.08875296696426249, -0.11156483545336712, -0.08180412507873117, -0.09954026136605937, -0.10102806028471809, -0.10672326481355451, -0.10328479280711578, -0.10144160418293732, -0.08612821903660775], -6.112069176025519, Float64[], [0.7748229555415928, 0.01, 1.0], [149, 149], [0, 0], [0, 0], [0, 0], [-0.15001468772304383, -0.15416057941214895, -0.16753092228167865, -0.15809854909916246, -0.15227598017855043, -0.1558979479079484, -0.15462670100123435, -0.15676127810417406, -0.15372576726333467, -0.16311278525958306  …  -0.10199515030149553, -0.08875296696426249, -0.11156483545336712, -0.08180412507873117, -0.09916408584306421, -0.10081059312113966, -0.10672326481355451, -0.10328479280711578, -0.10144160418293732, -0.08612821903660775], [0.9210243956282385 0.7594877517179383 … 0.45005639659304447 0.34327677071678486; 0.0 0.0 … 0.0 0.0; … ; 0.0 0.0 … 0.0 0.0; 0.0 0.0 … 0.0 0.0], [1.0 0.650204046508892 … 0.20045509966138841 0.09015264884505447; 0.650204046508892 1.0 … 0.0 0.0; … ; 0.20045509966138841 0.0 … 1.0 0.6093234822701782; 0.09015264884505447 0.0 … 0.6093234822701782 1.0], [0.9237847042231009 0.7609458341658374 … 0.45005639659304447 0.34327677071678486; 0.0 0.0 … 0.0 0.0; … ; 0.0 0.0 … 0.0 0.0; 0.0 0.0 … 0.0 0.0], [58.36271302557543, 80.06454582381849, 43.85636872339131, 18.847136189617775, 76.4823338606662, 139.29563037702889, 115.10073101882443, 20.4297161662442, 39.93086648190409, 114.74708059431359  …  217.25829641751557, 263.38165589246046, 179.25142611356054, 152.592144152625, 70.85056013444098, 85.42393487595949, 154.37990683709515, 185.420319308981, 131.1265746774118, 143.93960622783752], [0.24035918272267381, 0.10569992247926752, 0.36944254764349205, 0.6798181582771994, 0.12355901426273574, 0.0, 0.007113454330346436, 0.6565198548180808, 0.41042143397293823, 0.0075026993095957395  …  0.0, 0.0, 0.0, 0.0, 0.15499344205797322, 0.08194144858997954, 0.0, 0.0, 0.0, 0.0]), NNPState{Float64, 55, SphericalBC{Float64}}(608.3539857714874, 519.0645457227431, Config{55, SphericalBC{Float64}, Float64}(StaticArraysCore.SVector{3, Float64}[[4.5112139495856e-6, -1.3138293967695e-5, 3.4601504321700004e-7], [0.1151842762493446, -0.1349376909941478, 4.743184137829615], [1.264752985534391, -3.8925157884546686, 2.0464230925690106], [-3.263780676864608, -2.184689657757661, 1.8269953784310828], [-3.2940027963974834, 2.1456581418441085, 1.9092954485714555], [1.241476635314572, 3.981516662321523, 2.030793404937323], [4.197852496719479, -0.11282375635972378, 2.428588493242748], [-1.3036181001053415, -4.315845146872846, -2.0907183011868207], [-4.130941595616225, 0.010567577364891138, -2.0777762248671636], [-1.3143616217661274, 3.9821269013758536, -1.951190811287754]  …  [1.8867623500038273, 6.541749384884262, -4.0108178904070195], [6.172499254857981, 4.8723469857987025, -4.145490610389836], [6.713184197946128, -2.1916113212552402e-5, -4.1489556556605045], [6.579391521822484, -4.914192974654525, -4.554917425469405], [-1.6795460417905672, -4.09125668967617, -7.050808675165949], [-4.148951491146777, -2.75845933165806e-5, -6.713179340717135], [-1.0524483390355688, 3.8448039215601195, -6.732586358926875], [3.3661121272602816, 2.722746682419847, -6.669395929521266], [3.6555310999342003, -2.3617224206450755, -7.089686754127948], [0.26151111507664904, 0.33160647152342204, -9.013592283057815]], SphericalBC{Float64}(514.2332609265956)), [0.0 22.529263496127406 … 69.20420855311804 81.42320935235578; 22.529263496127406 0.0 … 157.50945940991855 189.4879724936248; … ; 69.20420855311804 157.50945940991855 … 0.0 22.474804663248946; 81.42320935235578 189.4879724936248 … 22.474804663248946 0.0], [-0.1496290057373731, -0.1522922047253767, -0.15812928296389073, -0.15444873484537075, -0.16030954125776334, -0.15263388963067023, -0.1565445332623036, -0.15556755857238364, -0.1555576658343727, -0.15682332255940892  …  -0.1113962604078568, -0.08718319786019876, -0.10328410480388756, -0.0859826512714151, -0.09433556901612558, -0.10279796252555584, -0.10722022259629682, -0.11010484781829372, -0.09779211861113066, -0.08877136609615116], -6.112217472722398, Float64[], [0.7799705031419377, 0.01, 1.0], [153, 153], [0, 0], [0, 0], [0, 0], [-0.1480932575413533, -0.15281656872682486, -0.15806897782851337, -0.15456018443394975, -0.1607793347778009, -0.1493834144952867, -0.15484121883959515, -0.1550544540920709, -0.15537641128404087, -0.15524509476213752  …  -0.11076881397056498, -0.08648675920480237, -0.10263940854044223, -0.08536334954461028, -0.09396355696998127, -0.10236338103115852, -0.10683248793992609, -0.10857809075642122, -0.096846775283571, -0.0876379533993571], [0.9032228901678256 0.7360260945605508 … 0.4154908254904371 0.34772095986553603; 0.0 0.0 … 0.0 0.0; … ; 0.0 0.0 … 0.0 0.0; 0.0 0.0 … 0.0 0.0], [1.0 0.6264183570421074 … 0.16498467362950797 0.09934634832125894; 0.6264183570421074 1.0 … 0.0 0.0; … ; 0.16498467362950797 0.0 … 1.0 0.6271876211982677; 0.09934634832125894 0.0 … 0.6271876211982677 1.0], [0.9026837108670471 0.7342929088405161 … 0.41945937705233044 0.3508471914193741; 0.0 0.0 … 0.0 0.0; … ; 0.0 0.0 … 0.0 0.0; 0.0 0.0 … 0.0 0.0], [19.28270869186272, 65.7920621245477, 58.03145594553364, 75.4458622850471, 59.68391934777878, 28.304905115518533, 30.316730795750523, 57.83406992870948, 54.94084325050971, 23.303435673403367  …  24.69937314870246, 21.204457481353465, 19.974255363646588, 63.568986471021624, 78.55131783043609, 72.38378623804832, 37.73174805706677, 17.75648587524671, 39.459358442308854, 51.95051827451053], [0.6733531432031996, 0.18688581451171388, 0.24293445615054082, 0.12903158674222837, 0.23025299894064366, 0.5482435877901584, 0.5225660394568185, 0.24447692219264616, 0.26777319687007406, 0.6155485439819939  …  0.5962578485708548, 0.6453057579430176, 0.663171035901208, 0.20204076106710372, 0.11304642354063832, 0.14601914191852056, 0.43457198313011347, 0.6961828459839143, 0.41552641117648187, 0.2932280355868443]), NNPState{Float64, 55, SphericalBC{Float64}}(616.4640534028156, 512.2358449289186, Config{55, SphericalBC{Float64}, Float64}(StaticArraysCore.SVector{3, Float64}[[-0.10364535762948207, -0.1475891033132611, -0.04822072782130547], [-0.06194930539036034, 0.10726194010414568, 4.442274313451407], [1.17093429434397, -3.6578576259056392, 2.2173286678292508], [-3.5630327784517086, -2.7034353417465944, 1.592422319753271], [-3.6681539677798027, 2.3778694312099415, 2.2502111390121415], [1.4035470553738174, 3.758171635065011, 2.1027097117939286], [4.146481331220718, 0.03171658204309372, 2.1610773576057154], [-1.0878601876841885, -3.712908629402495, -2.1553640258604085], [-4.1258944998632145, 0.3248659497291176, -2.0105046531124806], [-1.4522923722057162, 3.8208039316412092, -1.8033720694716193]  …  [2.030247157863717, 6.196579865734629, -3.981634298811982], [6.368003887083705, 4.571244312374229, -4.14561285888929], [6.875790529850402, 0.15108526563601518, -4.336804621044541], [6.872775985339405, -5.0001026480418105, -3.994730519949763], [-1.0809927962521635, -3.823816230417834, -6.960504206879173], [-4.157266727853196, 0.09382323222229838, -6.803574129342276], [-1.8775998562682936, 3.9921640184597083, -6.594378623694527], [3.2255905699821255, 2.4329676170829444, -6.613268947356559], [3.411429579731696, -2.476668438485235, -6.783174323408902], [0.18328221648783785, -0.21015552902398899, -9.152276232725843]], SphericalBC{Float64}(514.2332609265956)), [0.0 20.231233330798087 … 63.13996229950812 82.97006862679767; 20.231233330798087 0.0 … 144.75175417979779 184.97269690159854; … ; 63.13996229950812 144.75175417979779 … 0.0 21.170660024301927; 82.97006862679767 184.97269690159854 … 21.170660024301927 0.0], [-0.15317110978297532, -0.14678871896918355, -0.15308076861480907, -0.15354827741671392, -0.15587822805953025, -0.14920963521826935, -0.1593729862849627, -0.1509952268370521, -0.15934015114710678, -0.15515897032375142  …  -0.10563568693310549, -0.09251296850283558, -0.09670242583953176, -0.08334599834057393, -0.10183963654304021, -0.10433824279085305, -0.09552010278416961, -0.10448080223743597, -0.10505569530513975, -0.08500923807213207], -6.090281958255359, Float64[], [0.7851522485498056, 0.01, 1.0], [168, 168], [0, 0], [0, 0], [2, 2], [-0.15250510579938195, -0.15354203025445184, -0.1550341581389931, -0.15381232255110688, -0.14708259741647892, -0.1606762087918604, -0.1492281312443384, -0.15560906714587802, -0.16063535767299492, -0.15081355254780474  …  -0.10144684988831493, -0.08622000257812959, -0.11268351871136412, -0.09204456383971399, -0.10565762009761809, -0.09856693759680527, -0.0962783375635729, -0.09950700706678589, -0.10042159173472845, -0.08383290964159973], [0.9109384914422064 0.7478504918676478 … 0.45048445708092905 0.3376965062042376; 0.0 0.0 … 0.0 0.0; … ; 0.0 0.0 … 0.0 0.0; 0.0 0.0 … 0.0 0.0], [1.0 0.6594129935063877 … 0.20504742322468344 0.09238816328728228; 0.6594129935063877 1.0 … 0.0 0.0; … ; 0.20504742322468344 0.0 … 1.0 0.6457923552416441; 0.09238816328728228 0.0 … 0.6457923552416441 1.0], [0.9121346548573007 0.7492136273230732 … 0.44345986184622327 0.3180869887498535; 0.0 0.0 … 0.0 0.0; … ; 0.0 0.0 … 0.0 0.0; 0.0 0.0 … 0.0 0.0], [63.831632377613374, 24.204659931617883, 90.57106047548912, 44.71482310115036, 25.82942313297681, 46.65030612773985, 84.4646374764479, 124.55045410502936, 93.1233694469137, 83.15052647110606  …  162.78036213428845, 224.57814498247754, 221.59426557255043, 263.6007626667817, 228.86417103004987, 201.62394348110652, 183.65885530472372, 227.8226831011858, 255.82695457100493, 275.5881898272161], [0.20021326442733456, 0.6030490944507512, 0.06231717153065003, 0.3608378404977912, 0.5809301228814925, 0.34189847257549616, 0.08593988476497472, 0.0006065368070946042, 0.05369789173936529, 0.09159533179182883  …  0.0, 0.0, 0.0, 0.0, 0.0, 0.0, 0.0, 0.0, 0.0, 0.0]), NNPState{Float64, 55, SphericalBC{Float64}}(624.6822376874787, 505.4969810444262, Config{55, SphericalBC{Float64}, Float64}(StaticArraysCore.SVector{3, Float64}[[4.5112139495856e-6, -1.3138293967695e-5, 3.4601504321700004e-7], [0.12361605190465096, 0.05784071364215315, 4.473246462354761], [1.4771797598408123, -3.9554580626744933, 1.8708493527313725], [-3.508451309969278, -2.0801785888020756, 1.9345266761283049], [-3.204845979426473, 2.550022748957301, 1.6535448158785253], [1.3209099073569275, 4.105572569136142, 2.083876901530215], [4.1159266150118805, 0.4387164618767572, 1.967875606266134], [-1.33203105979109, -3.9578962710727312, -2.0640811370472396], [-4.1189707287823305, -0.21227554738930626, -2.4829249744635913], [-1.3467341524104435, 3.7179633326867623, -2.0702038393341042]  …  [2.167145377703032, 6.363692797476719, -4.083929959436305], [6.607564908500043, 4.893520057943194, -4.138516129704127], [6.526669637719146, 0.0316610395818743, -4.022745376047858], [6.617894502308434, -4.436101258423406, -3.9034521098168256], [-1.3284686222885136, -3.837145032679896, -6.8051175354678985], [-4.327526193665411, -0.3138489425654224, -7.1436452861923], [-1.516568784931108, 3.992031491314675, -6.609347664250457], [3.7571590371922556, 2.582188909972486, -6.53345859975896], [3.3296872144954137, -2.5673273389181825, -6.812810562958083], [-0.06871060729010495, -0.12579939153169362, -9.29669363906912]], SphericalBC{Float64}(514.2332609265956)), [0.0 20.028557698524146 … 64.09228159068174 86.44906300131467; 20.028557698524146 0.0 … 144.5454827823929 189.6819636288668; … ; 64.09228159068174 144.5454827823929 … 0.0 23.679841608776673; 86.44906300131467 189.6819636288668 … 23.679841608776673 0.0], [-0.1515368005790953, -0.1571814805619826, -0.15463496717355937, -0.15386254357534992, -0.14905170260710127, -0.16078893818270473, -0.14855259132449647, -0.1556095977171495, -0.16043644273908142, -0.15035003293867352  …  -0.10144684988831493, -0.08622000257812959, -0.11268351871136412, -0.09204456383971399, -0.10565762009761809, -0.09856693759680527, -0.0962783375635729, -0.09950700706678589, -0.10042159173472845, -0.08383290964159973], -6.112289889016315, Float64[], [0.7903684189588289, 0.01, 1.0], [163, 163], [0, 0], [0, 0], [2, 2], [-0.15317110978297532, -0.14678871896918355, -0.15308076861480907, -0.15354827741671392, -0.15587822805953025, -0.14920963521826935, -0.1593729862849627, -0.1509952268370521, -0.15934015114710678, -0.15515897032375142  …  -0.10563568693310549, -0.09251296850283558, -0.09670242583953176, -0.08334599834057393, -0.10183963654304021, -0.10433824279085305, -0.09552010278416961, -0.10448080223743597, -0.10505569530513975, -0.08500923807213207], [0.9151539335217073 0.753105349085338 … 0.44345986184622327 0.3180869887498535; 0.0 0.0 … 0.0 0.0; … ; 0.0 0.0 … 0.0 0.0; 0.0 0.0 … 0.0 0.0], [1.0 0.6623757649176946 … 0.19840951550503722 0.07778862073856979; 0.6623757649176946 1.0 … 0.0 0.0; … ; 0.19840951550503722 0.0 … 1.0 0.6103078977162005; 0.07778862073856979 0.0 … 0.6103078977162005 1.0], [0.9109384914422064 0.7478504918676478 … 0.45048445708092905 0.3376965062042376; 0.0 0.0 … 0.0 0.0; … ; 0.0 0.0 … 0.0 0.0; 0.0 0.0 … 0.0 0.0], [21.830904153141507, 60.5250185720783, 25.98636063026261, 64.61599181057773, 92.04843599155603, 57.36242428480301, 22.78665453701235, 24.27126866514953, 66.06989494696768, 61.848144773187926  …  76.84711941744446, 58.05765874821743, 21.632160538526776, 22.433584332374448, 48.92761982958601, 88.30677588866345, 89.28099401512235, 42.70866392610523, 22.781658468733735, 66.4843068752951], [0.6363294432208, 0.22395585168489418, 0.5788217346955661, 0.19481491253378413, 0.05724010149304337, 0.24818665920206112, 0.6227908016028967, 0.6021318252095607, 0.18504140587081752, 0.21426270526786145  …  0.12166587056190231, 0.24273014142021188, 0.639168417704822, 0.6277702891888004, 0.3204201248017231, 0.07057494880729831, 0.06695067794703241, 0.38114502580014686, 0.6228610844855444, 0.18231060995111226]), NNPState{Float64, 55, SphericalBC{Float64}}(633.0099799464698, 498.846772194335, Config{55, SphericalBC{Float64}, Float64}(StaticArraysCore.SVector{3, Float64}[[4.5112139495856e-6, -1.3138293967695e-5, 3.4601504321700004e-7], [-0.047334245561716795, 0.28334360279837956, 4.554425491113791], [1.3987293112128802, -3.6204814967141075, 1.944529526485028], [-3.3101323248430434, -2.4015304146061633, 2.09062822883601], [-3.311163596895427, 2.40569285113995, 2.0464011106786812], [1.4255632871714965, 4.241575317477995, 2.1176611625809794], [4.31592159102127, 0.0065312800643041735, 2.036690133887849], [-1.315545935689463, -4.134849508534574, -2.0001968868169615], [-4.119004347123957, -0.16837192203545548, -2.0001946245515403], [-1.3292598117316312, 4.068048335193445, -1.5162412800607055]  …  [2.4681280645352346, 6.648111947640806, -3.824308451311646], [6.889083837088593, 4.882446159691411, -3.938557356608746], [6.682166518980356, 0.2563900770239315, -4.305043164977089], [6.220947423352161, -4.9446263535694905, -4.446911486384957], [-1.1756354669953446, -3.688137174196493, -6.60257220593554], [-4.387901738855518, -0.20422316134064894, -6.7094124420231855], [-0.9304810973490386, 3.9959028426177374, -6.553376508585495], [3.5885655556262233, 2.2757151168055634, -6.859033604766414], [3.313228789233757, -2.556769668298268, -6.901030780838873], [0.16220220607652786, -0.28216575314956027, -9.480734596645803]], SphericalBC{Float64}(514.2332609265956)), [0.0 20.82532040292329 … 65.13868968398614 89.99025324327893; 20.82532040292329 0.0 … 150.58710570211267 197.34942504526967; … ; 65.13868968398614 150.58710570211267 … 0.0 21.757663275862186; 89.99025324327893 197.34942504526967 … 21.757663275862186 0.0], [-0.14869260797568123, -0.15683447568329653, -0.1560890035076836, -0.1605757923382644, -0.15112027475770143, -0.15605147358457766, -0.15668298276863113, -0.15047153676295652, -0.15697065789146353, -0.15254700573415272  …  -0.09627521155875973, -0.08850997069087344, -0.1038688362737224, -0.08915566612031425, -0.11292326278228185, -0.10148124026982322, -0.10036086578346304, -0.10057228444818239, -0.10853164955623101, -0.07959873608134327], -6.092192898286614, Float64[], [0.7956192430720048, 0.01, 1.0], [173, 173], [0, 0], [0, 0], [0, 0], [-0.1489539980521423, -0.15788590004991154, -0.1560344807467217, -0.1606596207149684, -0.1477312772200522, -0.15590678892465426, -0.1565876975518288, -0.1504708264631123, -0.15726720520128357, -0.15296237768723966  …  -0.09627521155875973, -0.08850997069087344, -0.1038688362737224, -0.08915566612031425, -0.11292326278228185, -0.10148124026982322, -0.10036086578346304, -0.10057228444818239, -0.10853164955623101, -0.07959873608134327], [0.9060635192659502 0.7431832388394373 … 0.4530741106020557 0.3061087495791698; 0.0 0.0 … 0.0 0.0; … ; 0.0 0.0 … 0.0 0.0; 0.0 0.0 … 0.0 0.0], [1.0 0.6507779902242445 … 0.1912664954437066 0.06437999607230377; 0.6507779902242445 1.0 … 0.0 0.0; … ; 0.1912664954437066 0.0 … 1.0 0.6373747091056405; 0.06437999607230377 0.0 … 0.6373747091056405 1.0], [0.9051744891584663 0.7438624012527114 … 0.4530741106020557 0.3061087495791698; 0.0 0.0 … 0.0 0.0; … ; 0.0 0.0 … 0.0 0.0; 0.0 0.0 … 0.0 0.0], [64.95464616239147, 19.757090150781494, 82.27836598255988, 48.025273467477994, 25.279647074753026, 47.699932193667706, 85.08404459990105, 128.03702923303098, 90.0553105637201, 79.29868172950262  …  166.7881691674617, 225.6299244373173, 228.32896137650206, 272.32082988200995, 227.52428464632087, 198.46969552318436, 192.41988032092212, 237.7696836358653, 260.0597027875339, 291.28211986898526], [0.1925114444147576, 0.6663576648595799, 0.09546362951690923, 0.3288273125588248, 0.5883550683873329, 0.3318916616725801, 0.0833456676712056, 9.851424603635195e-6, 0.06414704631799317, 0.10938226171665899  …  0.0, 0.0, 0.0, 0.0, 0.0, 0.0, 0.0, 0.0, 0.0, 0.0]), NNPState{Float64, 55, SphericalBC{Float64}}(641.4487407152698, 492.28405205220497, Config{55, SphericalBC{Float64}, Float64}(StaticArraysCore.SVector{3, Float64}[[-0.2215142407962646, 0.06955856940738088, 0.09170284672547935], [0.0010155044696599155, 0.03714124130273289, 4.575169702716125], [1.388435172097305, -4.0341156036748185, 2.1286811218477433], [-3.360069119406747, -2.5474201364602074, 1.6383085633163035], [-3.311163596895427, 2.40569285113995, 2.0464011106786812], [0.9899192210578238, 3.9043980228760993, 2.048314075583048], [4.279779517133968, 0.0731519636797512, 1.8690116322668964], [-1.2647438377188622, -3.8925245957365804, -2.046405726039733], [-4.265420700854337, -0.15312549476666013, -2.058750529490174], [-1.5547886078043145, 3.903459624937288, -2.173045891456327]  …  [2.2720934824110715, 6.3763394400204465, -4.150730567281768], [6.86637855834478, 4.782337248930138, -4.07739295349235], [6.758798080751834, -0.10859079198512975, -4.380543211325537], [6.9876393218797155, -5.105374504279897, -3.7454031369742635], [-1.2820847296802604, -3.9459310282596545, -6.7131655686332365], [-3.9915426624749677, -0.004064684811147662, -6.880877203314854], [-1.4739513989299993, 4.254311809154241, -7.010891158483049], [3.239467566237155, 2.6504626809469776, -6.752899358194654], [3.5118474583541097, -2.6317312886882753, -6.877716291540874], [2.1333711654662402e-5, -3.25548767294442e-5, -9.06491829912888]], SphericalBC{Float64}(514.2332609265956)), [0.0 20.152045419456204 … 69.80775959896674 83.89763174405888; 20.152045419456204 0.0 … 150.61741918720483 186.05338357757392; … ; 69.80775959896674 150.61741918720483 … 0.0 24.042613577263545; 83.89763174405888 186.05338357757392 … 24.042613577263545 0.0], [-0.15150573960968391, -0.15706557423534437, -0.1489509661454351, -0.14586511716164904, -0.1579321788248089, -0.15497639934254737, -0.15491300991854143, -0.15823323226689048, -0.15884480579299187, -0.156262759621543  …  -0.10810970584297658, -0.08706776960829957, -0.09875091717523418, -0.08480093813974884, -0.10220387935724468, -0.10150301442640888, -0.09912444500582171, -0.10223875744104385, -0.09642680164595391, -0.08981468689067021], -6.107433328136281, Float64[], [0.8009049511117221, 0.01, 1.0], [144, 144], [0, 0], [0, 0], [0, 0], [-0.15150573960968391, -0.15706557423534437, -0.1489509661454351, -0.14586511716164904, -0.1579321788248089, -0.15497639934254737, -0.15491300991854143, -0.15823323226689048, -0.15884480579299187, -0.156262759621543  …  -0.10810970584297658, -0.08706776960829957, -0.09875091717523418, -0.08480093813974884, -0.10220387935724468, -0.10150301442640888, -0.09912444500582171, -0.10223875744104385, -0.09642680164595391, -0.08981468689067021], [0.9028181083291451 0.736885549272341 … 0.41926319988015415 0.3404751671749185; 0.0 0.0 … 0.0 0.0; … ; 0.0 0.0 … 0.0 0.0; 0.0 0.0 … 0.0 0.0], [1.0 0.6605695602848325 … 0.16127890048683358 0.08835468682446873; 0.6605695602848325 1.0 … 0.0 0.0; … ; 0.16127890048683358 0.0 … 1.0 0.6052843955371178; 0.08835468682446873 0.0 … 0.6052843955371178 1.0], [0.9028181083291451 0.736885549272341 … 0.41926319988015415 0.3404751671749185; 0.0 0.0 … 0.0 0.0; … ; 0.0 0.0 … 0.0 0.0; 0.0 0.0 … 0.0 0.0], [78.25980483730481, 138.14147168712356, 145.72017347014597, 61.79894780211652, 63.06705592017783, 131.1656267349109, 186.8546153185274, 67.9593565059715, 18.4071542489516, 58.637561249324676  …  143.99753549700367, 243.5266771938977, 220.81205024936315, 256.8130668128, 72.21877814140647, 25.501103912617005, 68.57814801350418, 141.60050430155925, 151.89636059131482, 91.72271181384112], [0.11449470873715645, 0.0, 0.0, 0.2146184904269836, 0.20556101910872154, 0.0, 0.0, 0.17278659841586524, 0.6863894277868952, 0.23823508965373752  …  0.0, 0.0, 0.0, 0.0, 0.1469698102343232, 0.5853569087216671, 0.16888161236522115, 0.0, 0.0, 0.058338609258631546]), NNPState{Float64, 55, SphericalBC{Float64}}(650.0, 485.8076696355341, Config{55, SphericalBC{Float64}, Float64}(StaticArraysCore.SVector{3, Float64}[[4.5112139495856e-6, -1.3138293967695e-5, 3.4601504321700004e-7], [-3.980885942754e-6, -3.3375035158614e-6, 4.575916827038472], [1.5098054413626614, -3.8926648501422223, 1.690547647263568], [-3.1547354795546294, -2.1769779884995346, 1.9405377874922813], [-3.23393227031777, 2.9867657283168403, 2.0393669283742457], [1.264752859461583, 3.8924983184634674, 2.046406418069819], [4.104946039782038, -0.1300121483198206, 1.8813450776021425], [-1.2647438377188622, -3.8925245957365804, -2.046405726039733], [-4.370195555854958, 0.5267978174644394, -1.825265254320567], [-1.26474396379167, 3.8924895111815556, -2.046422400538924]  …  [1.777895318939036, 6.614586088932893, -4.217436036190342], [6.443958473023765, 4.7940472599921256, -4.189680774438033], [7.034436151728359, -0.13912258593715007, -4.734639787472599], [6.404977474158445, -4.8872907856748276, -3.989652790849866], [-0.9984440661524244, -4.109026421891954, -6.941465398316873], [-4.425986247799871, -0.39132909408783, -6.8310786732650355], [-1.6642377195241551, 4.150780773534192, -6.668349804555159], [3.220587746175935, 2.515256104658945, -6.78682072089262], [3.642463306491304, -2.2551206705681652, -6.828549334162441], [-0.18322295741627173, 0.20422602043942942, -8.787013370092984]], SphericalBC{Float64}(514.2332609265956)), [0.0 20.93901164147001 … 64.9821067920652 77.28689598629134; 20.93901164147001 0.0 … 148.41497054747862 178.6431822774143; … ; 64.9821067920652 148.41497054747862 … 0.0 24.519842916454465; 77.28689598629134 178.6431822774143 … 24.519842916454465 0.0], [-0.14917053666065064, -0.16048527712293473, -0.16247259395753294, -0.1504601321843146, -0.1607870723864724, -0.15481442238937104, -0.1558312608410271, -0.15411893473814764, -0.1554026578954468, -0.15742681611164697  …  -0.1004751962473823, -0.0887335758022465, -0.09618742046098414, -0.08966917225485602, -0.09972058618951901, -0.09980598250548478, -0.10376683852475888, -0.10442171801923456, -0.10472129173567718, -0.09007265880043233], -6.120032015487138, Float64[], [0.8062257748298549, 0.01, 1.0], [154, 154], [0, 0], [0, 0], [0, 0], [-0.14965776877140588, -0.16048527712293473, -0.16268610174421974, -0.150523545903081, -0.1607870723864724, -0.15481442238937104, -0.15582884870488042, -0.15357383363564753, -0.1555610997141612, -0.15764636854744632  …  -0.1004751962473823, -0.0887335758022465, -0.0964499010845466, -0.09010679664942248, -0.09541887028582749, -0.1006403354985666, -0.10424390645251078, -0.10524966310997899, -0.10276277695600289, -0.08905573899340705], [0.9244946703025084 0.7592168745663316 … 0.4488458697043444 0.3695506568923534; 0.0 0.0 … 0.0 0.0; … ; 0.0 0.0 … 0.0 0.0; 0.0 0.0 … 0.0 0.0], [1.0 0.6491338983343238 … 0.1923253816721811 0.11940620192334445; 0.6491338983343238 1.0 … 0.0 0.0; … ; 0.1923253816721811 0.0 … 1.0 0.5987166475519671; 0.11940620192334445 0.0 … 0.5987166475519671 1.0], [0.9227781113848892 0.7592168745663316 … 0.44503745737109085 0.3668289651243733; 0.0 0.0 … 0.0 0.0; … ; 0.0 0.0 … 0.0 0.0; 0.0 0.0 … 0.0 0.0], [70.33083295693652, 155.49768392557135, 84.11693443723989, 88.53741434402721, 140.1996464344109, 157.5654450863934, 126.8618776749443, 24.97424410096084, 60.48886922894135, 93.4258763373148  …  138.69977507529183, 152.7872872034153, 93.1826254671244, 69.13145043149478, 0.0, 25.704941318001147, 73.2931090908852, 68.4673492012518, 29.275399579788925, 25.593856472008227], [0.15810757929101582, 0.0, 0.08741615141416503, 0.0697071331220463, 0.0, 0.0, 0.00010710702331923061, 0.5925059048132328, 0.22422432318297714, 0.05272389032270963  …  0.0, 0.0, 0.05350631396551897, 0.16543478424080632, 1.0, 0.5826059896847908, 0.14084532136363898, 0.16957692368777522, 0.5357585279745579, 0.5841041188551834])], MoveStrategy{55, 0, 0}(), MCParams(200, 40, 1, 15, 55, 100), RuNNerPotential(NeuralNetworkPotential(4, 2221, Int32[88, 20, 20, 1], Int32[1, 2, 2, 1], [-1.0768943782, 0.3563458393, -1.3084861447, 0.1127640916, -0.5646591931, -0.4969830793, 1.423770514, -0.2005662393, -0.8957859374, 0.6076110858  …  0.1939524848, -0.0342903191, -0.0231042009, 0.0718481968, -0.0828320122, -0.0728501885, 0.0306628826, 0.0486053813, -0.0867018862, 0.0441651841]), AbstractSymmFunction[RadialType2{Float64}(0.001, 11.338, [1.0, 1.0], -0.029892621990594427, 0.06634475788973929), RadialType2{Float64}(0.001, 11.338, [1.0, 0.0], -0.0, 0.09828103647521905), RadialType2{Float64}(0.02, 11.338, [1.0, 1.0], -0.013430592462258787, 0.13321466604629645), RadialType2{Float64}(0.02, 11.338, [1.0, 0.0], -0.0, 0.18618835781674212), RadialType2{Float64}(0.035, 11.338, [1.0, 1.0], -0.0067056953127401205, 0.2093521117141925), RadialType2{Float64}(0.035, 11.338, [1.0, 0.0], -0.0, 0.28571045376567983), RadialType2{Float64}(0.1, 11.338, [1.0, 1.0], -0.00026435144512647774, 0.9364998977117353), RadialType2{Float64}(0.1, 11.338, [1.0, 0.0], -0.0, 1.3813391986837495), RadialType2{Float64}(0.4, 11.338, [1.0, 1.0], -0.0, 113.41978340450804), RadialType2{Float64}(0.4, 11.338, [1.0, 0.0], -0.0, 181.5238491478726)  …  AngularType3{Float64}(0.08, 1.0, 1.0, 11.338, [1.0, 0.0, 0.0], 28.188019161651663, -0.0), AngularType3{Float64}(0.08, -1.0, 2.0, 11.338, [1.0, 1.0, 1.0], 43.664583342066244, -0.0), AngularType3{Float64}(0.08, -1.0, 2.0, 11.338, [1.0, 1.0, 0.0], 75.80324146789036, -0.0), AngularType3{Float64}(0.08, -1.0, 2.0, 11.338, [1.0, 0.0, 0.0], 96.88497370251159, -0.0), AngularType3{Float64}(0.08, -1.0, 4.0, 11.338, [1.0, 1.0, 1.0], 61.44604668424842, -0.0), AngularType3{Float64}(0.08, -1.0, 4.0, 11.338, [1.0, 1.0, 0.0], 107.84685056999218, -0.0), AngularType3{Float64}(0.08, -1.0, 4.0, 11.338, [1.0, 0.0, 0.0], 154.53409207512087, -0.0), AngularType3{Float64}(0.08, 1.0, 4.0, 11.338, [1.0, 1.0, 1.0], 3.1599692466736964, -2.5279753973389573e-8), AngularType3{Float64}(0.08, 1.0, 4.0, 11.338, [1.0, 1.0, 0.0], 4.790647185008049, -0.0), AngularType3{Float64}(0.08, 1.0, 4.0, 11.338, [1.0, 0.0, 0.0], 9.119962306101394, -0.0)], 11.338), NVT(55), Output{Float64}(100, 0.0, 0.0, Float64[], Float64[], Float64[], Vector{Float64}[], Matrix{Float64}[], Vector{Float64}[], Float64[], Float64[], Float64[], Float64[]))"
      ]
     },
     "metadata": {},
     "output_type": "display_data"
    }
   ],
   "source": [
    "input = (mc_states,move_strat,mc_params,runnerpotential,ensemble,results)"
   ]
  },
  {
   "attachments": {},
   "cell_type": "markdown",
   "metadata": {},
   "source": [
    "In order to proceed further there are some very important features to include: we require sampling_step! save_states and finalise_results to be written in a way that includes the necessary NNPState information. This can easily be tested below. Also exch_trajectories, and update_max_stepsize!"
   ]
  },
  {
   "cell_type": "code",
   "execution_count": 20,
   "metadata": {},
   "outputs": [
    {
     "name": "stdout",
     "output_type": "stream",
     "text": [
      "equilibration done\n"
     ]
    },
    {
     "ename": "MethodError",
     "evalue": "MethodError: no method matching update_max_stepsize!(::NNPState{Float64, 55, SphericalBC{Float64}}, ::Int64, ::Int64, ::Int64, ::Int64)\nClosest candidates are:\n  update_max_stepsize!(!Matched::MCState, ::Any, ::Any, ::Any, ::Any; min_acc, max_acc) at ~/Documents/ParallelTemperingMonteCarlo.jl/src/Exchange.jl:124",
     "output_type": "error",
     "traceback": [
      "MethodError: no method matching update_max_stepsize!(::NNPState{Float64, 55, SphericalBC{Float64}}, ::Int64, ::Int64, ::Int64, ::Int64)\n",
      "Closest candidates are:\n",
      "  update_max_stepsize!(!Matched::MCState, ::Any, ::Any, ::Any, ::Any; min_acc, max_acc) at ~/Documents/ParallelTemperingMonteCarlo.jl/src/Exchange.jl:124\n",
      "\n",
      "Stacktrace:\n",
      " [1] mc_cycle!(mc_states::Vector{NNPState{Float64, 55, SphericalBC{Float64}}}, move_strat::MoveStrategy{55, 0, 0}, mc_params::MCParams, pot::RuNNerPotential, ensemble::NVT, n_steps::Int64, a::Int64, v::Int64, r::Int64, results::Output{Float64}, save::Bool, i::Int64, save_dir::String, delta_en_hist::Float64, delta_r2::Float64)\n",
      "   @ ParallelTemperingMonteCarlo.MCRun ~/Documents/ParallelTemperingMonteCarlo.jl/src/MCRun.jl:192\n",
      " [2] ptmc_run!(input::Tuple{Vector{NNPState{Float64, 55, SphericalBC{Float64}}}, MoveStrategy{55, 0, 0}, MCParams, RuNNerPotential, NVT, Output{Float64}}; restart::Bool, startfile::String, save::Bool, save_dir::String)\n",
      "   @ ParallelTemperingMonteCarlo.MCRun ~/Documents/ParallelTemperingMonteCarlo.jl/src/MCRun.jl:326\n",
      " [3] ptmc_run!(input::Tuple{Vector{NNPState{Float64, 55, SphericalBC{Float64}}}, MoveStrategy{55, 0, 0}, MCParams, RuNNerPotential, NVT, Output{Float64}})\n",
      "   @ ParallelTemperingMonteCarlo.MCRun ~/Documents/ParallelTemperingMonteCarlo.jl/src/MCRun.jl:305\n",
      " [4] top-level scope\n",
      "   @ ./timing.jl:262 [inlined]\n",
      " [5] top-level scope\n",
      "   @ ~/Documents/ParallelTemperingMonteCarlo.jl/scripts/RuNNer.ipynb:0"
     ]
    }
   ],
   "source": [
    "@time ptmc_run!(input)"
   ]
  },
  {
   "attachments": {},
   "cell_type": "markdown",
   "metadata": {},
   "source": []
  },
  {
   "cell_type": "code",
   "execution_count": 18,
   "metadata": {},
   "outputs": [],
   "source": []
  }
 ],
 "metadata": {
  "kernelspec": {
   "display_name": "Julia 1.8.5",
   "language": "julia",
   "name": "julia-1.8"
  },
  "language_info": {
   "file_extension": ".jl",
   "mimetype": "application/julia",
   "name": "julia",
   "version": "1.8.5"
  },
  "orig_nbformat": 4
 },
 "nbformat": 4,
 "nbformat_minor": 2
}
