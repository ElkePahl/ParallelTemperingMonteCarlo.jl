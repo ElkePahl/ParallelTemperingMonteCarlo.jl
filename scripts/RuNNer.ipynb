{
 "cells": [
  {
   "cell_type": "code",
   "execution_count": 1,
   "metadata": {},
   "outputs": [
    {
     "name": "stderr",
     "output_type": "stream",
     "text": [
      "\u001b[32m\u001b[1m    Updating\u001b[22m\u001b[39m registry at `~/.julia/registries/General.toml`\n"
     ]
    },
    {
     "name": "stderr",
     "output_type": "stream",
     "text": [
      "\u001b[32m\u001b[1m    Updating\u001b[22m\u001b[39m git-repo `https://github.com/grayseff/MachineLearningPotential.jl.git`\n"
     ]
    },
    {
     "name": "stderr",
     "output_type": "stream",
     "text": [
      "\u001b[32m\u001b[1m  No Changes\u001b[22m\u001b[39m to `~/Documents/ParallelTemperingMonteCarlo.jl/Project.toml`\n",
      "\u001b[32m\u001b[1m  No Changes\u001b[22m\u001b[39m to `~/Documents/ParallelTemperingMonteCarlo.jl/Manifest.toml`\n"
     ]
    },
    {
     "name": "stderr",
     "output_type": "stream",
     "text": [
      "\u001b[32m\u001b[1mPrecompiling\u001b[22m\u001b[39m project...\n"
     ]
    },
    {
     "name": "stderr",
     "output_type": "stream",
     "text": [
      "\u001b[32m  ✓ \u001b[39mParallelTemperingMonteCarlo\n",
      "  1 dependency successfully precompiled in 6 seconds. 143 already precompiled.\n"
     ]
    }
   ],
   "source": [
    "using Pkg; Pkg.update()\n",
    "\n",
    "using ParallelTemperingMonteCarlo,BenchmarkTools,DelimitedFiles,MachineLearningPotential,Random"
   ]
  },
  {
   "cell_type": "code",
   "execution_count": 2,
   "metadata": {},
   "outputs": [],
   "source": [
    "using SplitApplyCombine"
   ]
  },
  {
   "attachments": {},
   "cell_type": "markdown",
   "metadata": {},
   "source": [
    "Completed the MLP module based on the librunner.so file written by A. Knoll. Time to use this in PTMC simulations so I can finally generate results. This requires the librunnerjulia file and use of the MLP package."
   ]
  },
  {
   "attachments": {},
   "cell_type": "markdown",
   "metadata": {},
   "source": [
    "First: establishing the struct.\n",
    "\n",
    "This requires the symmetry functions, the nnp values itself, the g and f matrices used in the calculation and a dummy vector new_f_vec to preassign memory for later. I'd prefer to point to the nnp and symmetryfunction structs rather than save copies, I'll look into this later. "
   ]
  },
  {
   "cell_type": "code",
   "execution_count": 3,
   "metadata": {},
   "outputs": [],
   "source": [
    "# struct  RuNNerPotential <: AbstractMachineLearningPotential\n",
    "#     nnp::NeuralNetworkPotential\n",
    "#     symmetryfunctions::Vector{AbstractSymmFunction}\n",
    "#     r_cut::Float64\n",
    "# end\n",
    "# function RuNNerPotential(nnp,symmetryfunction)\n",
    "#     r_cut = symmetryfunction[1].r_cut\n",
    "#     return RuNNerPotential(nnp,symmetryfunction,r_cut)\n",
    "# end\n"
   ]
  },
  {
   "attachments": {},
   "cell_type": "markdown",
   "metadata": {},
   "source": [
    "The challenge is potentials are not unique to each given state, meaning that g_matrix, f_matrix need to be part of the mc_state, not necessarily part of an immutable potential. They could be a vector of these matrices but this seems prohibitive. It's possible to assign them to mc_states? Have an NNP subtype?\n"
   ]
  },
  {
   "cell_type": "code",
   "execution_count": 4,
   "metadata": {},
   "outputs": [],
   "source": [
    "# mutable struct NNPState{T,N,BC}\n",
    "#     temp::T\n",
    "#     beta::T\n",
    "#     config::Config{N,BC,T}\n",
    "#     dist2_mat::Matrix{T}\n",
    "#     en_atom_vec::Vector{T}\n",
    "#     en_tot::T\n",
    "#     ham::Vector{T}\n",
    "#     max_displ::Vector{T}\n",
    "#     count_atom::Vector{Int}\n",
    "#     count_vol::Vector{Int}\n",
    "#     count_rot::Vector{Int}\n",
    "#     count_exc::Vector{Int}\n",
    "\n",
    "#     new_en_atom::Vector{T}\n",
    "\n",
    "#     g_matrix::Array{T}\n",
    "#     f_matrix::Array{T}\n",
    "\n",
    "#     new_g_matrix::Array{T}\n",
    "#     new_dist2_vec::Vector{T}\n",
    "#     new_f_vec::Vector{T}\n",
    "# end\n",
    "\n",
    "\n",
    "# function NNPState(\n",
    "#     temp, beta, config::Config{N,BC,T}, dist2_mat, en_atom_vec, en_tot,n_symm_func,g_matrix,f_matrix; \n",
    "#     max_displ = [0.1,0.1,1.], count_atom = [0,0], count_vol = [0,0], count_rot = [0,0], count_exc = [0,0]\n",
    "# ) where {T,N,BC}\n",
    "#     ham = T[]\n",
    "#     NNPState{T,N,BC}(\n",
    "#         temp, beta, deepcopy(config), copy(dist2_mat), copy(en_atom_vec), en_tot, \n",
    "#         ham, copy(max_displ), copy(count_atom), copy(count_vol), copy(count_rot), copy(count_exc),zeros(length(config.pos)),g_matrix,f_matrix,zeros(n_symm_func,length(config.pos)),zeros(length(config.pos)),zeros(length(config.pos))\n",
    "#         )\n",
    "# end\n",
    "# function NNPState(temp,beta, config::Config, pot::RuNNerPotential;kwargs...)\n",
    "#     dist2_mat = get_distance2_mat(config)\n",
    "#     f_matrix = cutoff_function.(sqrt.(dist2_mat),Ref(pot.r_cut))\n",
    "#     n_atoms = length(config.pos)\n",
    "#     g_matrix = total_symm_calc(config.pos,dist2_mat,f_matrix,pot.symmetryfunctions)\n",
    "\n",
    "\n",
    "#     en_atom_vec = zeros(n_atoms)\n",
    "#     en_tot = 0.\n",
    "\n",
    "#     NNPState(temp, beta, config, dist2_mat, en_atom_vec, en_tot,length(pot.symmetryfunctions),g_matrix,f_matrix ; kwargs...)\n",
    "\n",
    "# end"
   ]
  },
  {
   "attachments": {},
   "cell_type": "markdown",
   "metadata": {},
   "source": [
    "Functionally, this definition allows us to initialise the runner potential, the state and then use them to define the new potential specific state with the g_matrix included. "
   ]
  },
  {
   "cell_type": "code",
   "execution_count": 5,
   "metadata": {},
   "outputs": [
    {
     "data": {
      "text/plain": [
       "initial_energy_calculation (generic function with 1 method)"
      ]
     },
     "metadata": {},
     "output_type": "display_data"
    }
   ],
   "source": [
    "function initial_energy_calculation(nnp_state,runner_pot)\n",
    "    n_atoms = length(nnp_state.config.pos)\n",
    "\n",
    "    nnp_state.g_matrix = total_symm_calc(nnp_state.config.pos,nnp_state.dist2_mat,nnp_state.f_matrix,runner_pot.symmetryfunctions)\n",
    "\n",
    "    nnp_state.en_atom_vec = forward_pass(nnp_state.g_matrix,n_atoms,runner_pot.nnp)\n",
    "\n",
    "    nnp_state.en_tot = sum(nnp_state.en_atom_vec)\n",
    "\n",
    "    return nnp_state\n",
    "end"
   ]
  },
  {
   "attachments": {},
   "cell_type": "markdown",
   "metadata": {},
   "source": [
    "Critically, we require the get_energy function as defined in energyevaluation. Once this is done, we can simulate NNP's. \n",
    "\n",
    "Note-- This is done with the following input/output\n",
    "\n",
    "input:  trial_positions,indices,mc_states,pot\n",
    "\n",
    "the new positions, the new indices for them, the current states and the potential.\n",
    "\n",
    "output:  energy_vector, dist2_new\n",
    "\n",
    "\n"
   ]
  },
  {
   "cell_type": "code",
   "execution_count": 6,
   "metadata": {},
   "outputs": [],
   "source": [
    "# function get_new_state_vars!(trial_pos,atomindex,nnp_state,pot)\n",
    "#     nnp_state.new_dist2_vec = [ distance2(trial_pos,b,nnp_state.config.bc) for b in nnp_state.config.pos]\n",
    "\n",
    "#     nnp_state.new_dist2_vec[atomindex] = 0.\n",
    "    \n",
    "#     nnp_state.new_f_vec = cutoff_function.(sqrt.(nnp_state.new_dist2_vec),Ref(pot.r_cut))\n",
    "\n",
    "\n",
    "#     nnp_state.new_g_matrix = copy(nnp_state.g_matrix)\n",
    "\n",
    "#     nnp_state.new_g_matrix = total_thr_symm!(nnp_state.new_g_matrix,nnp_state.config.pos,trial_pos,nnp_state.dist2_mat,nnp_state.new_dist2_vec,nnp_state.f_matrix,nnp_state.new_f_vec,atomindex,pot.symmetryfunctions)\n",
    "\n",
    "#     return nnp_state\n",
    "# end\n",
    "\n",
    "# function calc_new_energy!(nnp_state,pot)\n",
    "#     nnp_state.new_en_atom = forward_pass(nnp_state.new_g_matrix,length(nnp_state.en_atom_vec),pot.nnp)\n",
    "#     return nnp_state\n",
    "# end\n",
    "\n",
    "# function get_runner_energy!(trial_pos,atomindex,nnp_state,pot)\n",
    "#     nnp_state = get_new_state_vars!(trial_pos,atomindex,nnp_state,pot)\n",
    "\n",
    "#     nnp_state = calc_new_energy!(nnp_state,pot)\n",
    "    \n",
    "#     return sum(nnp_state.new_en_atom) , nnp_state\n",
    "# end\n",
    "\n",
    "# function get_energy!(trial_positions,indices,nnp_states,pot::RuNNerPotential)\n",
    "#     energyvector = Vector{Float64}(undef,length(indices))\n",
    "#     # for idx in eachindex(nnp_states)\n",
    "#     #     energyvector[idx],nnp_states[idx] = get_runner_energy!(trial_positions[idx],indices[idx],nnp_states[idx],pot)\n",
    "#     # end\n",
    "#     energyvector,nnp_states = invert(get_runner_energy!.(trial_positions,indices,nnp_states,Ref(pot)))\n",
    "    \n",
    "#     return energyvector, nnp_states\n",
    "# end"
   ]
  },
  {
   "attachments": {},
   "cell_type": "markdown",
   "metadata": {},
   "source": [
    "Ideally the function above now works the way it's intended in the simulation, other than the natural output being different from other methods. As a result of this we may want to have the g_new_matrix being part of the nnp_state struct, as it preserves the total form of the mc_step function"
   ]
  },
  {
   "attachments": {},
   "cell_type": "markdown",
   "metadata": {},
   "source": [
    "# Initialisation \n",
    "\n",
    "The next major step is to implement a more definitive initialisation. This is somewhat restricted by the purge of .data files, but we can point to directories containing the weights and scaling data. \n",
    "\n",
    "Beyond this we need to point to symmetry function values, distributed over sets of atom types. "
   ]
  },
  {
   "cell_type": "code",
   "execution_count": 7,
   "metadata": {},
   "outputs": [
    {
     "data": {
      "text/plain": [
       "RuNNerPotential(NeuralNetworkPotential(4, 2221, Int32[88, 20, 20, 1], Int32[1, 2, 2, 1], [-1.0768943782, 0.3563458393, -1.3084861447, 0.1127640916, -0.5646591931, -0.4969830793, 1.423770514, -0.2005662393, -0.8957859374, 0.6076110858  …  0.1939524848, -0.0342903191, -0.0231042009, 0.0718481968, -0.0828320122, -0.0728501885, 0.0306628826, 0.0486053813, -0.0867018862, 0.0441651841]), AbstractSymmFunction[RadialType2{Float64}(0.001, 11.338, [1.0, 1.0], -0.029892621990594427, 0.06634475788973929), RadialType2{Float64}(0.001, 11.338, [1.0, 0.0], -0.0, 0.09828103647521905), RadialType2{Float64}(0.02, 11.338, [1.0, 1.0], -0.013430592462258787, 0.13321466604629645), RadialType2{Float64}(0.02, 11.338, [1.0, 0.0], -0.0, 0.18618835781674212), RadialType2{Float64}(0.035, 11.338, [1.0, 1.0], -0.0067056953127401205, 0.2093521117141925), RadialType2{Float64}(0.035, 11.338, [1.0, 0.0], -0.0, 0.28571045376567983), RadialType2{Float64}(0.1, 11.338, [1.0, 1.0], -0.00026435144512647774, 0.9364998977117353), RadialType2{Float64}(0.1, 11.338, [1.0, 0.0], -0.0, 1.3813391986837495), RadialType2{Float64}(0.4, 11.338, [1.0, 1.0], -0.0, 113.41978340450804), RadialType2{Float64}(0.4, 11.338, [1.0, 0.0], -0.0, 181.5238491478726)  …  AngularType3{Float64}(0.08, 1.0, 1.0, 11.338, [1.0, 0.0, 0.0], 28.188019161651663, -0.0), AngularType3{Float64}(0.08, -1.0, 2.0, 11.338, [1.0, 1.0, 1.0], 43.664583342066244, -0.0), AngularType3{Float64}(0.08, -1.0, 2.0, 11.338, [1.0, 1.0, 0.0], 75.80324146789036, -0.0), AngularType3{Float64}(0.08, -1.0, 2.0, 11.338, [1.0, 0.0, 0.0], 96.88497370251159, -0.0), AngularType3{Float64}(0.08, -1.0, 4.0, 11.338, [1.0, 1.0, 1.0], 61.44604668424842, -0.0), AngularType3{Float64}(0.08, -1.0, 4.0, 11.338, [1.0, 1.0, 0.0], 107.84685056999218, -0.0), AngularType3{Float64}(0.08, -1.0, 4.0, 11.338, [1.0, 0.0, 0.0], 154.53409207512087, -0.0), AngularType3{Float64}(0.08, 1.0, 4.0, 11.338, [1.0, 1.0, 1.0], 3.1599692466736964, -2.5279753973389573e-8), AngularType3{Float64}(0.08, 1.0, 4.0, 11.338, [1.0, 1.0, 0.0], 4.790647185008049, -0.0), AngularType3{Float64}(0.08, 1.0, 4.0, 11.338, [1.0, 0.0, 0.0], 9.119962306101394, -0.0)], 11.338)"
      ]
     },
     "metadata": {},
     "output_type": "display_data"
    }
   ],
   "source": [
    "#-------------------------------------------#\n",
    "#--------Vector of radial symm values-------#\n",
    "#-------------------------------------------#\n",
    "X = [ 1    1              0.001   0.000  11.338\n",
    " 1    0              0.001   0.000  11.338\n",
    " 1    1              0.020   0.000  11.338\n",
    " 1    0              0.020   0.000  11.338\n",
    " 1    1              0.035   0.000  11.338\n",
    " 1    0              0.035   0.000  11.338\n",
    " 1    1              0.100   0.000  11.338\n",
    " 1    0              0.100   0.000  11.338\n",
    " 1    1              0.400   0.000  11.338\n",
    " 1    0              0.400   0.000  11.338]\n",
    "\n",
    "radsymmvec = []\n",
    "\n",
    "\n",
    "#--------------------------------------------#\n",
    "#--------Vector of angular symm values-------#\n",
    "#--------------------------------------------#\n",
    "V = [[0.0001,1,1,11.338],[0.0001,-1,2,11.338],[0.003,-1,1,11.338],[0.003,-1,2,11.338],[0.008,-1,1,11.338],[0.008,-1,2,11.338],[0.008,1,2,11.338],[0.015,1,1,11.338],[0.015,-1,2,11.338],[0.015,-1,4,11.338],[0.015,-1,16,11.338],[0.025,-1,1,11.338],[0.025,1,1,11.338],[0.025,1,2,11.338],[0.025,-1,4,11.338],[0.025,-1,16,11.338],[0.025,1,16,11.338],[0.045,1,1,11.338],[0.045,-1,2,11.338],[0.045,-1,4,11.338],[0.045,1,4,11.338],[0.045,1,16,11.338],[0.08,1,1,11.338],[0.08,-1,2,11.338],[0.08,-1,4,11.338],[0.08,1,4,11.338]]\n",
    "\n",
    "T = [[1.,1.,1.],[1.,1.,0.],[1.,0.,0.]]\n",
    "\n",
    "angularsymmvec = []\n",
    "#-------------------------------------------#\n",
    "#-----------Including scaling data----------#\n",
    "#-------------------------------------------#\n",
    "file = open(\"$(pwd())/scaling.data\")\n",
    "scalingvalues = readdlm(file)\n",
    "close(file)\n",
    "G_value_vec = []\n",
    "for row in eachrow(scalingvalues[1:88,:])\n",
    "    max_min = [row[4],row[3]]\n",
    "    push!(G_value_vec,max_min)\n",
    "end\n",
    "\n",
    "\n",
    "for symmindex in eachindex(eachrow(X))\n",
    "    row = X[symmindex,:]\n",
    "    radsymm = RadialType2{Float64}(row[3],row[5],[row[1],row[2]],G_value_vec[symmindex])\n",
    "    push!(radsymmvec,radsymm)\n",
    "end\n",
    "\n",
    "n_index = 10\n",
    "for element in V\n",
    "    for types in T \n",
    "        \n",
    "        n_index += 1\n",
    "\n",
    "        symmfunc = AngularType3{Float64}(element[1],element[2],element[3],11.338,types,G_value_vec[n_index])\n",
    "\n",
    "        push!(angularsymmvec,symmfunc)\n",
    "    end\n",
    "end\n",
    "#---------------------------------------------------#\n",
    "#------concatenating radial and angular values------#\n",
    "#---------------------------------------------------#\n",
    "\n",
    "totalsymmvec = vcat(radsymmvec,angularsymmvec)\n",
    "\n",
    "\n",
    "#--------------------------------------------------#\n",
    "#-----------Initialising the nnp weights-----------#\n",
    "#--------------------------------------------------#\n",
    "num_nodes::Vector{Int32} = [88, 20, 20, 1]\n",
    "activation_functions::Vector{Int32} = [1, 2, 2, 1]\n",
    "file = open(\"weights.029.data\",\"r+\")\n",
    "weights=readdlm(file)\n",
    "close(file)\n",
    "weights = vec(weights)\n",
    "nnp = NeuralNetworkPotential(num_nodes,activation_functions,weights)\n",
    "\n",
    "runnerpotential = RuNNerPotential(nnp,totalsymmvec)"
   ]
  },
  {
   "cell_type": "code",
   "execution_count": 8,
   "metadata": {},
   "outputs": [
    {
     "data": {
      "text/plain": [
       "Output{Float64}(100, 0.0, 0.0, Float64[], Float64[], Float64[], Vector{Float64}[], Matrix{Float64}[], Vector{Float64}[], Float64[], Float64[], Float64[], Float64[])"
      ]
     },
     "metadata": {},
     "output_type": "display_data"
    }
   ],
   "source": [
    "Random.seed!(1234)\n",
    "n_atoms = 55\n",
    "ti = 540\n",
    "tf = 650\n",
    "n_traj = 15\n",
    "temp = TempGrid{n_traj}(ti,tf) \n",
    "mc_cycles = 200\n",
    "mc_sample = 1\n",
    "displ_atom = 0.1 # Angstrom\n",
    "n_adjust = 100\n",
    "max_displ_atom = [0.1*sqrt(displ_atom*temp.t_grid[i]) for i in 1:n_traj]\n",
    "\n",
    "mc_params = MCParams(mc_cycles, n_traj, n_atoms, mc_sample = mc_sample, n_adjust = n_adjust)\n",
    "move_strat = MoveStrategy(atom_moves = n_atoms) \n",
    "ensemble = NVT(n_atoms)\n",
    "ico_55 = [[0.0000006584,       -0.0000019175,        0.0000000505],\n",
    "[-0.0000005810,       -0.0000004871,        0.6678432175],\n",
    "[0.1845874248,       -0.5681026047,        0.2986701538],\n",
    "[-0.4832557457,       -0.3511072166,        0.2986684497],\n",
    "[-0.4832557570,        0.3511046452,        0.2986669456],\n",
    "[0.1845874064,        0.5681000550,        0.2986677202],\n",
    "[0.5973371920,       -0.0000012681,        0.2986697030],\n",
    "[-0.1845860897,       -0.5681038901,       -0.2986676192],\n",
    "[-0.5973358752,       -0.0000025669,       -0.2986696020],\n",
    "[-0.1845861081,        0.5680987696,       -0.2986700528],\n",
    "[0.4832570624,        0.3511033815,       -0.2986683486],\n",
    "[0.4832570738,       -0.3511084803,       -0.2986668445],\n",
    "[0.0000018978,       -0.0000033480,       -0.6678431165],\n",
    "[-0.0000017969,        0.0000009162,        1.3230014650],\n",
    "[0.1871182835,       -0.5758942175,        0.9797717078],\n",
    "[-0.4898861924,       -0.3559221410,       0.9797699802],\n",
    "[-0.4898862039,        0.3559224872,        0.9797684555],\n",
    "[0.1871182648,        0.5758945856,        0.9797692407],\n",
    "[0.6055300485,        0.0000001908,        0.9797712507],\n",
    "[0.7926501864,       -0.5758950093,        0.6055339635],\n",
    "[0.3656681761,       -1.1254128670,        0.5916673591],\n",
    "[-0.3027660545,       -0.9318173412,        0.6055326929],\n",
    "[-0.9573332453,       -0.6955436707,        0.5916639831],\n",
    "[-0.9797705418,       -0.0000006364,        0.6055294407],\n",
    "[-0.9573332679,        0.6955423392,        0.5916610035],\n",
    "[-0.3027660847,        0.9318160902,        0.6055287012],\n",
    "[0.3656681396,        1.1254115783,        0.5916625380],\n",
    "[0.7926501677,        0.5758937939,        0.6055314964],\n",
    "[1.1833279992,       -0.0000006311,        0.5916664660],\n",
    "[0.6770051458,       -0.9318186223,        0.0000033028],\n",
    "[0.0000006771,       -1.1517907207,        0.0000025175],\n",
    "[-0.6770037988,       -0.9318186442,        0.0000007900],\n",
    "[-1.0954155825,       -0.3559242494,       -0.0000012200],\n",
    "[-1.0954155940,        0.3559203788,       -0.0000027447],\n",
    "[-0.6770038290,        0.9318147872,       -0.0000032017],\n",
    "[0.0000006397,        1.1517868856,       -0.0000024165],\n",
    "[0.6770051155,        0.9318148091,       -0.0000006889],\n",
    "[1.0954168993,        0.3559204143,        0.0000013211],\n",
    "[1.0954169108,       -0.3559242139,        0.0000028458],\n",
    "[0.3027674014,       -0.9318199253,       -0.6055286002],\n",
    "[-0.3656668229,       -1.1254154134,       -0.5916624370],\n",
    "[-0.7926488510,       -0.5758976290,       -0.6055313954],\n",
    "[-1.1833266824,       -0.0000032040,       -0.5916663649],\n",
    "[-0.7926488697,        0.5758911742,       -0.6055338624],\n",
    "[-0.3656668594,        1.1254090319,       -0.5916672580],\n",
    "[0.3027673712,        0.9318135061,       -0.6055325919],\n",
    "[0.9573345621,        0.6955398357,       -0.5916638820],\n",
    "[0.9797718586,       -0.0000031986,       -0.6055293396],\n",
    "[0.9573345846,       -0.6955461743,       -0.5916609025],\n",
    "[-0.1871169480,       -0.5758984207,       -0.9797691397],\n",
    "[-0.6055287318,       -0.0000040259,       -0.9797711497],\n",
    "[-0.1871169667,        0.5758903824,       -0.9797716067],\n",
    "[0.4898875091,        0.3559183059,       -0.9797698792],\n",
    "[0.4898875207,       -0.3559263223,       -0.9797683545],\n",
    "[0.0000031136,       -0.0000047513,       -1.3230013639]]\n",
    "#convert to Bohr\n",
    "nmtobohr = 18.8973\n",
    "copperconstant = 0.36258*nmtobohr\n",
    "pos_cu55 = copperconstant*ico_55\n",
    "\n",
    "AtoBohr = 1.8897259886\n",
    "bc_cu55 = SphericalBC(radius=12*AtoBohr)\n",
    "start_config = Config(pos_cu55, bc_cu55)\n",
    "n_bin = 100\n",
    "\n",
    "mc_states = [NNPState(temp.t_grid[i], temp.beta_grid[i], start_config, runnerpotential; max_displ=[max_displ_atom[i],0.01,1.]) for i in 1:n_traj]\n",
    "\n",
    "results = Output{Float64}(n_bin; en_min = mc_states[1].en_tot)\n"
   ]
  },
  {
   "attachments": {},
   "cell_type": "markdown",
   "metadata": {},
   "source": [
    "benchmarking revealed this is faster."
   ]
  },
  {
   "cell_type": "code",
   "execution_count": 9,
   "metadata": {},
   "outputs": [
    {
     "data": {
      "text/plain": [
       "initial_energy_vec (generic function with 1 method)"
      ]
     },
     "metadata": {},
     "output_type": "display_data"
    }
   ],
   "source": [
    "# function initial_energy_vec(nnp_states,potential)\n",
    "#     nnp_states = initial_energy_calculation.(nnp_states,Ref(potential))\n",
    "#     return nnp_states\n",
    "# end\n",
    "function initial_energy_vec(nnp_states,potential)\n",
    "    # nnp_states = initial_energy_calculation.(nnp_states,Ref(potential))\n",
    "    for state in nnp_states \n",
    "        state = initial_energy_calculation(state,potential)\n",
    "    end\n",
    "    return nnp_states\n",
    "end"
   ]
  },
  {
   "cell_type": "code",
   "execution_count": 10,
   "metadata": {},
   "outputs": [
    {
     "data": {
      "text/plain": [
       "-6.216814218773105"
      ]
     },
     "metadata": {},
     "output_type": "display_data"
    }
   ],
   "source": [
    "mc_states = initial_energy_vec(mc_states,runnerpotential)\n",
    "mc_states[2].en_tot"
   ]
  },
  {
   "cell_type": "code",
   "execution_count": 11,
   "metadata": {},
   "outputs": [],
   "source": [
    "# function testswap_config!(nnp_state,atomindex,trial_pos,new_energy)\n",
    "\n",
    "#     nnp_state.config.pos[atomindex] = trial_pos\n",
    "\n",
    "#     nnp_state.dist2_mat[atomindex,:] = nnp_state.new_dist2_vec\n",
    "#     nnp_state.dist2_mat[:,atomindex] = nnp_state.new_dist2_vec\n",
    "\n",
    "#     nnp_state.f_matrix[atomindex,:] = nnp_state.new_f_vec\n",
    "#     nnp_state.f_matrix[:,atomindex] = nnp_state.new_f_vec\n",
    "\n",
    "#     nnp_state.g_matrix = nnp_state.new_g_matrix\n",
    "\n",
    "#     nnp_state.en_atom_vec = nnp_state.new_en_atom\n",
    "#     nnp_state.en_tot = new_energy\n",
    "\n",
    "#     nnp_state.count_atom[1] +=1\n",
    "#     nnp_state.count_atom[2] +=1\n",
    "\n",
    "#     return nnp_state\n",
    "# end\n",
    "\n",
    "# function test_acc_test!(ensemble, nnp_state, new_energy, i_atom, trial_pos, dist2_new::Float64)\n",
    "\n",
    "#     if metropolis_condition(ensemble,(new_energy - nnp_state.en_tot),nnp_state.beta) >= rand()\n",
    "\n",
    "#         testswap_config!(nnp_state,i_atom,trial_pos,new_energy)\n",
    "\n",
    "#     end\n",
    "\n",
    "# end\n",
    "\n",
    "# function testmc_step!(nnp_states,move_strat,mc_params,potential,ensemble)\n",
    "#     indices,trial_positions = generate_displacements(mc_states,mc_params)\n",
    "    \n",
    "#     energy_vector, nnp_states = get_energy!(trial_positions,indices,nnp_states,potential)\n",
    "\n",
    "#     Threads.@threads for idx in eachindex(nnp_states)\n",
    "#         test_acc_test!(ensemble,nnp_states[idx],energy_vector[idx],indices[idx],trial_positions[idx],0.)\n",
    "#     end\n",
    "\n",
    "#     return nnp_states\n",
    "# end"
   ]
  },
  {
   "cell_type": "code",
   "execution_count": 12,
   "metadata": {},
   "outputs": [
    {
     "data": {
      "text/plain": [
       "BenchmarkTools.Trial: 113 samples with 1 evaluation.\n",
       " Range \u001b[90m(\u001b[39m\u001b[36m\u001b[1mmin\u001b[22m\u001b[39m … \u001b[35mmax\u001b[39m\u001b[90m):  \u001b[39m\u001b[36m\u001b[1m13.588 ms\u001b[22m\u001b[39m … \u001b[35m398.016 ms\u001b[39m  \u001b[90m┊\u001b[39m GC \u001b[90m(\u001b[39mmin … max\u001b[90m): \u001b[39m 0.00% … 93.89%\n",
       " Time  \u001b[90m(\u001b[39m\u001b[34m\u001b[1mmedian\u001b[22m\u001b[39m\u001b[90m):     \u001b[39m\u001b[34m\u001b[1m31.392 ms               \u001b[22m\u001b[39m\u001b[90m┊\u001b[39m GC \u001b[90m(\u001b[39mmedian\u001b[90m):    \u001b[39m 0.00%\n",
       " Time  \u001b[90m(\u001b[39m\u001b[32m\u001b[1mmean\u001b[22m\u001b[39m ± \u001b[32mσ\u001b[39m\u001b[90m):   \u001b[39m\u001b[32m\u001b[1m44.987 ms\u001b[22m\u001b[39m ± \u001b[32m 71.007 ms\u001b[39m  \u001b[90m┊\u001b[39m GC \u001b[90m(\u001b[39mmean ± σ\u001b[90m):  \u001b[39m39.16% ± 22.10%\n",
       "\n",
       "  \u001b[39m▆\u001b[39m▃\u001b[39m▅\u001b[34m█\u001b[39m\u001b[39m▁\u001b[32m \u001b[39m\u001b[39m \u001b[39m \u001b[39m \u001b[39m \u001b[39m \u001b[39m \u001b[39m \u001b[39m \u001b[39m \u001b[39m \u001b[39m \u001b[39m \u001b[39m \u001b[39m \u001b[39m \u001b[39m \u001b[39m \u001b[39m \u001b[39m \u001b[39m \u001b[39m \u001b[39m \u001b[39m \u001b[39m \u001b[39m \u001b[39m \u001b[39m \u001b[39m \u001b[39m \u001b[39m \u001b[39m \u001b[39m \u001b[39m \u001b[39m \u001b[39m \u001b[39m \u001b[39m \u001b[39m \u001b[39m \u001b[39m \u001b[39m \u001b[39m \u001b[39m \u001b[39m \u001b[39m \u001b[39m \u001b[39m \u001b[39m \u001b[39m \u001b[39m \u001b[39m \u001b[39m \u001b[39m \u001b[39m \u001b[39m \u001b[39m \n",
       "  \u001b[39m█\u001b[39m█\u001b[39m█\u001b[34m█\u001b[39m\u001b[39m█\u001b[32m▁\u001b[39m\u001b[39m▁\u001b[39m▁\u001b[39m▁\u001b[39m▁\u001b[39m▁\u001b[39m▁\u001b[39m▁\u001b[39m▁\u001b[39m▁\u001b[39m▁\u001b[39m▁\u001b[39m▁\u001b[39m▁\u001b[39m▁\u001b[39m▁\u001b[39m▁\u001b[39m▅\u001b[39m▁\u001b[39m▁\u001b[39m▁\u001b[39m▁\u001b[39m▁\u001b[39m▁\u001b[39m▁\u001b[39m▁\u001b[39m▁\u001b[39m▁\u001b[39m▁\u001b[39m▁\u001b[39m▁\u001b[39m▁\u001b[39m▁\u001b[39m▁\u001b[39m▁\u001b[39m▁\u001b[39m▁\u001b[39m▁\u001b[39m▁\u001b[39m▁\u001b[39m▅\u001b[39m▁\u001b[39m▅\u001b[39m▁\u001b[39m▁\u001b[39m▅\u001b[39m▁\u001b[39m▁\u001b[39m▁\u001b[39m▁\u001b[39m▁\u001b[39m▅\u001b[39m▁\u001b[39m▁\u001b[39m▅\u001b[39m \u001b[39m▅\n",
       "  13.6 ms\u001b[90m       \u001b[39m\u001b[90mHistogram: \u001b[39m\u001b[90m\u001b[1mlog(\u001b[22m\u001b[39m\u001b[90mfrequency\u001b[39m\u001b[90m\u001b[1m)\u001b[22m\u001b[39m\u001b[90m by time\u001b[39m       370 ms \u001b[0m\u001b[1m<\u001b[22m\n",
       "\n",
       " Memory estimate\u001b[90m: \u001b[39m\u001b[33m129.27 MiB\u001b[39m, allocs estimate\u001b[90m: \u001b[39m\u001b[33m1680354\u001b[39m."
      ]
     },
     "metadata": {},
     "output_type": "display_data"
    }
   ],
   "source": [
    "@benchmark mc_step!($mc_states,$move_strat,$mc_params,$runnerpotential,$ensemble)"
   ]
  },
  {
   "cell_type": "code",
   "execution_count": 13,
   "metadata": {},
   "outputs": [
    {
     "data": {
      "text/plain": [
       "55-element Vector{StaticArraysCore.SVector{3, Float64}}:\n",
       " [0.0, 0.0, 0.0]\n",
       " [0.2775397660100228, 0.020467610528373592, 0.13828422734204793]\n",
       " [0.0, 0.0, 0.0]\n",
       " [0.0, 0.0, 0.0]\n",
       " [0.029472549484363952, -0.06589722719292235, -0.14968615552693398]\n",
       " [-0.03081476680682016, -0.12247744576755393, -0.09757177264942829]\n",
       " [0.0, 0.0, 0.0]\n",
       " [0.19180652109218976, -0.016597794822581946, -0.20955834276605145]\n",
       " [0.0, 0.0, 0.0]\n",
       " [0.08364018786441241, 0.01360998220797649, -0.24287405441779453]\n",
       " ⋮\n",
       " [0.019054938091651152, 0.011697330921559335, 0.2156795767542974]\n",
       " [-0.21129114050837483, 0.23973091222653217, 0.031999646771216916]\n",
       " [-0.013600635621410007, 0.24012843980477871, -0.08897833353914164]\n",
       " [-0.08742874582643356, 0.07130099014725655, -0.16544668167311016]\n",
       " [-0.1790693384647586, -0.2790675270305484, -0.13300431840715188]\n",
       " [0.0, 0.0, 0.0]\n",
       " [-0.03147522569701833, 0.389663084954897, 0.24353493308162832]\n",
       " [0.1617027985318713, 0.3244432632608856, -0.008468398566158442]\n",
       " [0.0, 0.0, 0.0]"
      ]
     },
     "metadata": {},
     "output_type": "display_data"
    }
   ],
   "source": [
    "mc_states[3].config.pos .- mc_states[10].config.pos"
   ]
  },
  {
   "cell_type": "code",
   "execution_count": 14,
   "metadata": {},
   "outputs": [
    {
     "data": {
      "text/plain": [
       "NNPState{Float64, 55, SphericalBC{Float64}}(608.3539857714874, 519.0645457227431, Config{55, SphericalBC{Float64}, Float64}(StaticArraysCore.SVector{3, Float64}[[4.5112139495856e-6, -1.3138293967695e-5, 3.4601504321700004e-7], [-0.27754374689596556, -0.020470948031889452, 4.437632599696424], [1.264752985534391, -3.8925157884546686, 2.0464230925690106], [-3.311163519470279, -2.405710469814843, 2.0464114164455425], [-3.327862607359954, 2.486366762966421, 2.1430339251330928], [1.295567626268403, 4.014975764231021, 2.1439781907192472], [4.092824837722801, -8.6887460654154e-6, 2.046420003785219], [-1.456550358811052, -3.8759268009139984, -1.8368473832736814], [-4.092815815294902, -1.75878418699746e-5, -2.0464193117551326], [-1.3143616217661274, 3.9821269013758536, -1.951190811287754]  …  [2.0744963372369405, 6.384583971948036, -4.148977939714466], [6.5594487104586, 4.765688045720408, -4.053952548518178], [6.713184197946128, -2.1916113212552402e-5, -4.1489556556605045], [6.573049500245128, -5.005859916237125, -3.9649538000914872], [-1.2820847296802604, -3.9459310282596545, -6.7131655686332365], [-4.148951491146777, -2.75845933165806e-5, -6.713179340717135], [-1.282084857808603, 3.9458759515720923, -6.71318247198198], [3.1831415535809815, 2.1851662501735425, -6.974659836955046], [3.1945672991883374, -2.614193389965839, -6.8897258362258365], [2.1333711654662402e-5, -3.25548767294442e-5, -9.06491829912888]], SphericalBC{Float64}(514.2332609265956)), [0.0 19.77003157647241 … 64.50749666079739 82.17275004373793; 19.77003157647241 0.0 … 147.09200035799165 182.39634087725554; … ; 64.50749666079739 147.09200035799165 … 0.0 21.77042304792735; 82.17275004373793 182.39634087725554 … 21.77042304792735 0.0], [-0.14824829558591068, -0.15378286866154464, -0.1569702454268477, -0.16208709683434008, -0.16549730047858735, -0.16038753757801208, -0.1556817230488652, -0.15548843960409273, -0.15939266642295435, -0.1567603328005897  …  -0.10213464418199258, -0.08786268889037166, -0.10268511991151874, -0.08809405012496385, -0.10585004262986905, -0.10254949387074577, -0.10740944879193443, -0.10072115192845874, -0.10481126504339364, -0.08927759871275753], -6.161083044138461, Float64[], [0.7799705031419377, 0.01, 1.0], [55, 55], [0, 0], [0, 0], [0, 0], [-0.1482011278804176, -0.15378283751582567, -0.15696069772498805, -0.16221443604004496, -0.16549730047858735, -0.16038753757801208, -0.15560947636880185, -0.1534262649935605, -0.15943999807992695, -0.15676091295090464  …  -0.10213464418199258, -0.08786268889037166, -0.10192767767794178, -0.08710014792162088, -0.10584157587600637, -0.10249153870459954, -0.10741114189483958, -0.10025587617170503, -0.10535306239533876, -0.0888394859912944], [0.9243153492464599 0.7644287251548748 … 0.4503215662120955 0.35124732466205816; 0.0 0.0 … 0.0 0.0; … ; 0.0 0.0 … 0.0 0.0; 0.0 0.0 … 0.0 0.0], [1.0 0.6661674878054639 … 0.19555635553161 0.09593833408183039; 0.6661674878054639 1.0 … 0.0 0.0; … ; 0.19555635553161 0.0 … 1.0 0.6371925266650623; 0.09593833408183039 0.0 … 0.6371925266650623 1.0], [0.9243205025364952 0.7644279255451976 … 0.4539557011292226 0.35325793788872956; 0.0 0.0 … 0.0 0.0; … ; 0.0 0.0 … 0.0 0.0; 0.0 0.0 … 0.0 0.0], [67.13232436930078, 130.3592661489294, 53.18617081531001, 95.06775009160874, 157.1323848452823, 152.634741005666, 86.45758064105989, 30.009713057575294, 89.68509137916571, 125.67489656244499  …  157.68426380005153, 135.4451351794578, 55.261031828733415, 17.894147160988897, 23.55528742627184, 86.85632602849445, 120.5841447015981, 74.68730811359355, 17.384105312841744, 62.944122188293484], [0.1780889756643791, 0.0, 0.28253768294903453, 0.0476107073341, 0.0, 0.0, 0.07775463148111433, 0.5264337712579387, 0.06547906306800999, 0.00031208128230886256  …  0.0, 0.0, 0.2651311963438642, 0.6941033313106312, 0.6120388476644079, 0.07617292902351858, 0.0024431585645061094, 0.13312505687833548, 0.7018283437314545, 0.20642878918792545])"
      ]
     },
     "metadata": {},
     "output_type": "display_data"
    }
   ],
   "source": [
    "mc_states[10]"
   ]
  },
  {
   "cell_type": "code",
   "execution_count": 15,
   "metadata": {},
   "outputs": [
    {
     "ename": "MethodError",
     "evalue": "MethodError: no method matching exc_trajectories!(::NNPState{Float64, 55, SphericalBC{Float64}}, ::NNPState{Float64, 55, SphericalBC{Float64}})",
     "output_type": "error",
     "traceback": [
      "MethodError: no method matching exc_trajectories!(::NNPState{Float64, 55, SphericalBC{Float64}}, ::NNPState{Float64, 55, SphericalBC{Float64}})\n",
      "\n",
      "Stacktrace:\n",
      "  [1] parallel_tempering_exchange!(mc_states::Vector{NNPState{Float64, 55, SphericalBC{Float64}}}, mc_params::MCParams)\n",
      "    @ ParallelTemperingMonteCarlo.Exchange ~/Documents/ParallelTemperingMonteCarlo.jl/src/Exchange.jl:98\n",
      "  [2] mc_cycle!(mc_states::Vector{NNPState{Float64, 55, SphericalBC{Float64}}}, move_strat::MoveStrategy{55, 0, 0}, mc_params::MCParams, pot::RuNNerPotential, ensemble::NVT, n_steps::Int64, a::Int64, v::Int64, r::Int64)\n",
      "    @ ParallelTemperingMonteCarlo.MCRun ~/Documents/ParallelTemperingMonteCarlo.jl/src/MCRun.jl:176\n",
      "  [3] var\"##core#329\"()\n",
      "    @ Main ~/.julia/packages/BenchmarkTools/0owsb/src/execution.jl:489\n",
      "  [4] var\"##sample#330\"(::Tuple{}, __params::BenchmarkTools.Parameters)\n",
      "    @ Main ~/.julia/packages/BenchmarkTools/0owsb/src/execution.jl:495\n",
      "  [5] _run(b::BenchmarkTools.Benchmark, p::BenchmarkTools.Parameters; verbose::Bool, pad::String, kwargs::Base.Pairs{Symbol, Integer, NTuple{4, Symbol}, NamedTuple{(:samples, :evals, :gctrial, :gcsample), Tuple{Int64, Int64, Bool, Bool}}})\n",
      "    @ BenchmarkTools ~/.julia/packages/BenchmarkTools/0owsb/src/execution.jl:99\n",
      "  [6] #invokelatest#2\n",
      "    @ ./essentials.jl:731 [inlined]\n",
      "  [7] #run_result#45\n",
      "    @ ~/.julia/packages/BenchmarkTools/0owsb/src/execution.jl:34 [inlined]\n",
      "  [8] run(b::BenchmarkTools.Benchmark, p::BenchmarkTools.Parameters; progressid::Nothing, nleaves::Float64, ndone::Float64, kwargs::Base.Pairs{Symbol, Integer, NTuple{5, Symbol}, NamedTuple{(:verbose, :samples, :evals, :gctrial, :gcsample), Tuple{Bool, Int64, Int64, Bool, Bool}}})\n",
      "    @ BenchmarkTools ~/.julia/packages/BenchmarkTools/0owsb/src/execution.jl:117\n",
      "  [9] #warmup#54\n",
      "    @ ~/.julia/packages/BenchmarkTools/0owsb/src/execution.jl:169 [inlined]\n",
      " [10] warmup(item::BenchmarkTools.Benchmark)\n",
      "    @ BenchmarkTools ~/.julia/packages/BenchmarkTools/0owsb/src/execution.jl:168\n",
      " [11] top-level scope\n",
      "    @ ~/.julia/packages/BenchmarkTools/0owsb/src/execution.jl:393"
     ]
    }
   ],
   "source": [
    "@benchmark mc_cycle!(mc_states,move_strat,mc_params,runnerpotential,ensemble,10,55,0,0)"
   ]
  },
  {
   "attachments": {},
   "cell_type": "markdown",
   "metadata": {},
   "source": [
    "Basic testing complete, we can extrapolate the timings given above to a 1,000,000 cycle calculation taking just five days, if this is true on an 8-core computer, then my project is tractable"
   ]
  },
  {
   "cell_type": "code",
   "execution_count": 16,
   "metadata": {},
   "outputs": [
    {
     "data": {
      "text/plain": [
       "(NNPState{Float64, 55, SphericalBC{Float64}}[NNPState{Float64, 55, SphericalBC{Float64}}(540.0, 584.7684912279577, Config{55, SphericalBC{Float64}, Float64}(StaticArraysCore.SVector{3, Float64}[[0.07292105323131233, -0.008337762657103322, 0.034823392211265916], [-3.980885942754e-6, -3.3375035158614e-6, 4.575916827038472], [1.264752985534391, -3.8925157884546686, 2.0464230925690106], [-3.311163519470279, -2.405710469814843, 2.0464114164455425], [-3.1553528194239138, 2.6817901715855665, 2.1999889996533284], [1.295110734788464, 3.9329837603280837, 1.8548422795127832], [4.092824837722801, -8.6887460654154e-6, 2.046420003785219], [-1.2647438377188622, -3.8925245957365804, -2.046405726039733], [-4.246916884529476, -0.042852002584017765, -1.9044573998469077], [-1.4708072621813362, 4.086766527197123, -2.1752437896566508]  …  [2.0023299054506105, 6.4688198148420435, -4.138696723122573], [6.484143914799463, 4.663042983159496, -4.0383089448679295], [6.713184197946128, -2.1916113212552402e-5, -4.1489556556605045], [6.881982633552772, -4.986513979213368, -3.8339622525030985], [-1.1504861006412657, -3.914500576716222, -6.532191343730924], [-4.86415698500857, -0.02241443262052356, -6.944217102658277], [-1.5015423984624463, 4.181397008297931, -7.060837847197295], [3.0811669686736387, 2.635049002231832, -6.635879281003618], [3.356603002900584, -2.438729936489156, -6.713160188613198], [-0.30512436521888414, 0.06187352056217772, -9.135211614862293]], SphericalBC{Float64}(514.2332609265956)), [0.0 20.626917107074398 … 62.224655672284435 84.23738999365703; 20.626917107074398 0.0 … 144.65745773351938 188.09197034479968; … ; 62.224655672284435 144.65745773351938 … 0.0 25.52759807924748; 84.23738999365703 188.09197034479968 … 25.52759807924748 0.0], [-0.14388769807145643, -0.1612588878798156, -0.15962302019402272, -0.16236824102363778, -0.15535836403180078, -0.15497230857528344, -0.1609612888393366, -0.16383286513345846, -0.15492914010320347, -0.15007832605072458  …  -0.10301581337378479, -0.08887482152161533, -0.10103462206872418, -0.08327777085038504, -0.10652634745869546, -0.09469473001150658, -0.09951906986439965, -0.10531289025849735, -0.0983539243082297, -0.08546669875934373], -6.155512859343774, Float64[], [0.7348469228349535, 0.01, 1.0], [66, 66], [0, 0], [0, 0], [0, 0], [-0.14388769807145643, -0.1612588878798156, -0.15962302019402272, -0.16236824102363778, -0.15535836403180078, -0.15497230857528344, -0.1609612888393366, -0.16383286513345846, -0.15492914010320347, -0.15007832605072458  …  -0.10301581337378479, -0.08887482152161533, -0.10103462206872418, -0.08327777085038504, -0.10652634745869546, -0.09469473001150658, -0.09951906986439965, -0.10531289025849735, -0.0983539243082297, -0.08546669875934373], [0.9247293447304984 0.7568087589034717 … 0.4526670845243395 0.33362336791134956; 0.0 0.0 … 0.0 0.0; … ; 0.0 0.0 … 0.0 0.0; 0.0 0.0 … 0.0 0.0], [1.0 0.6536535624880621 … 0.2115516127962898 0.08690309184211259; 0.6536535624880621 1.0 … 0.0 0.0; … ; 0.2115516127962898 0.0 … 1.0 0.5849988812671479; 0.08690309184211259 0.0 … 0.5849988812671479 1.0], [0.9247293447304984 0.7568087589034717 … 0.4526670845243395 0.33362336791134956; 0.0 0.0 … 0.0 0.0; … ; 0.0 0.0 … 0.0 0.0; 0.0 0.0 … 0.0 0.0], [63.622290318343815, 87.76355675074608, 23.745910207771182, 85.63451575281708, 151.89923319024186, 125.41880620813912, 48.461719095464154, 45.01685838998975, 123.85094523989443, 153.9386677904923  …  191.24548044871537, 143.22094876681626, 62.19875796997177, 20.19071074218936, 79.6530897198325, 177.36980201550753, 198.85216184417223, 127.2258903985034, 60.04051131476807, 146.6950522366795], [0.20166906422826125, 0.07264303840470232, 0.6093910148269812, 0.08107829897796431, 0.0, 0.00037051559979395243, 0.3247441040867346, 0.3578404088557937, 0.0008395134159057682, 0.0  …  0.0, 0.0, 0.21173742453701727, 0.6600046757116865, 0.10766914453702903, 0.0, 0.0, 6.580791502031058e-5, 0.22757035245672352, 0.0]), NNPState{Float64, 55, SphericalBC{Float64}}(547.1988293384211, 577.0754035509873, Config{55, SphericalBC{Float64}, Float64}(StaticArraysCore.SVector{3, Float64}[[0.012382630164983557, -0.00773462927597924, 0.017072487975306718], [-3.980885942754e-6, -3.3375035158614e-6, 4.575916827038472], [1.194175403743674, -4.026241878101964, 1.891600840367838], [-3.311163519470279, -2.405710469814843, 2.0464114164455425], [-3.1906754632211545, 2.34577063134612, 1.9924821355091167], [1.264752859461583, 3.8924983184634674, 2.046406418069819], [4.092824837722801, -8.6887460654154e-6, 2.046420003785219], [-1.1816672925032192, -3.7316181395125563, -2.1261585793310505], [-4.092815815294902, -1.75878418699746e-5, -2.0464193117551326], [-1.4972952525465129, 3.8874957245778745, -1.9537240522694181]  …  [2.0744963372369405, 6.384583971948036, -4.148977939714466], [6.632448606273642, 4.667517743609206, -4.037947145004617], [6.717955322064856, 0.18446357937754235, -4.146279943922855], [6.559448864623718, -4.765731476432347, -4.053932133630629], [-1.2820847296802604, -3.9459310282596545, -6.7131655686332365], [-4.048887266405747, 0.08168764134502345, -6.5321254860399875], [-1.282084857808603, 3.9458759515720923, -6.71318247198198], [3.2105874389376665, 2.600389632200342, -6.818729459316061], [3.5583004310235533, -2.4874760362667425, -6.892476039623253], [2.1333711654662402e-5, -3.25548767294442e-5, -9.06491829912888]], SphericalBC{Float64}(514.2332609265956)), [0.0 20.78327490881406 … 66.46451135122965 82.4827687806454; 20.78327490881406 0.0 … 150.37308565900454 186.07238294077558; … ; 66.46451135122965 150.37308565900454 … 0.0 23.568230578362364; 82.4827687806454 186.07238294077558 … 23.568230578362364 0.0], [-0.1518825199636462, -0.1557390750163751, -0.16152266209964952, -0.15357673827500906, -0.156062413241779, -0.15900477870966903, -0.15994089894051533, -0.1559366699442743, -0.16130567604170865, -0.15448130388105297  …  -0.10282712535265515, -0.08719764404901392, -0.10240644661226364, -0.08954844099772272, -0.10004206485776349, -0.10858556053647561, -0.10960924752204612, -0.10288870974411726, -0.09859509033946706, -0.08689121430428012], -6.16916573072948, Float64[], [0.7397288890792499, 0.01, 1.0], [59, 59], [0, 0], [0, 0], [0, 0], [-0.14879361229733212, -0.15310896215880251, -0.15815655778934057, -0.1522655783611051, -0.15610009404373162, -0.15852046290075375, -0.15707841537222214, -0.15531007768727978, -0.1628948667850518, -0.15637350723221885  …  -0.10213935404803401, -0.08711222940305385, -0.1024370670562473, -0.08965562467205318, -0.09960642946524442, -0.10762288100031864, -0.1086460512293308, -0.10231894494441773, -0.09839853247282587, -0.08661314817625332], [0.9290882154349088 0.7578741443592466 … 0.43844548011635753 0.34851666917242446; 0.0 0.0 … 0.0 0.0; … ; 0.0 0.0 … 0.0 0.0; 0.0 0.0 … 0.0 0.0], [1.0 0.651386693733422 … 0.18244050225749742 0.09454876761209047; 0.651386693733422 1.0 … 0.0 0.0; … ; 0.18244050225749742 0.0 … 1.0 0.6118588272833169; 0.09454876761209047 0.0 … 0.6118588272833169 1.0], [0.9277034662558016 0.7552024324669142 … 0.4390293340241282 0.3500287460105015; 0.0 0.0 … 0.0 0.0; … ; 0.0 0.0 … 0.0 0.0; 0.0 0.0 … 0.0 0.0], [0.0, 23.56038060007784, 24.535110826701704, 22.076019189012126, 18.757800726662932, 20.95916396635552, 23.61981097876433, 20.037429903705213, 18.557416745165387, 18.071031660129925  …  58.1636266695957, 80.35005671901799, 62.52731629073959, 84.46890256782156, 60.0557714739257, 54.24436242631651, 56.65890315043674, 60.030498962573056, 65.09191482572662, 77.42576718164266], [1.0, 0.6119680049628142, 0.598507288620025, 0.63283932102586, 0.68114908876979, 0.6488427560748895, 0.6111417584333617, 0.6622458881207307, 0.6841405893827317, 0.6914372480294586  …  0.24190492864037771, 0.10434583990311752, 0.2093873564776006, 0.0859218656707032, 0.22745597471726337, 0.2735755834394371, 0.2537835624118074, 0.22764541582073183, 0.1915824418140245, 0.11869778205184289]), NNPState{Float64, 55, SphericalBC{Float64}}(554.4936274617379, 569.4835244700569, Config{55, SphericalBC{Float64}, Float64}(StaticArraysCore.SVector{3, Float64}[[4.5112139495856e-6, -1.3138293967695e-5, 3.4601504321700004e-7], [-3.980885942754e-6, -3.3375035158614e-6, 4.575916827038472], [1.4230862494652312, -3.7769740718619476, 1.9541712291125344], [-3.311163519470279, -2.405710469814843, 2.0464114164455425], [-3.29839005787559, 2.4204695357734987, 1.9933477696061588], [1.264752859461583, 3.8924983184634674, 2.046406418069819], [4.092824837722801, -8.6887460654154e-6, 2.046420003785219], [-1.2647438377188622, -3.8925245957365804, -2.046405726039733], [-4.092815815294902, -1.75878418699746e-5, -2.0464193117551326], [-1.230721433901715, 3.99573688358383, -2.1940648657055486]  …  [2.0744963372369405, 6.384583971948036, -4.148977939714466], [6.578503648550251, 4.777385376641967, -3.838272971763881], [6.501893057437753, 0.2397089961133196, -4.116956008889288], [6.559448864623718, -4.765731476432347, -4.053932133630629], [-1.369513475506694, -3.874630038112398, -6.878612250306347], [-4.3280208296115354, -0.27909511162386497, -6.846183659124287], [-1.282084857808603, 3.9458759515720923, -6.71318247198198], [3.151666327883963, 2.5748293351284395, -6.731124903873417], [3.3562700977202087, -2.2897501267049534, -6.898194234791995], [2.1333711654662402e-5, -3.25548767294442e-5, -9.06491829912888]], SphericalBC{Float64}(514.2332609265956)), [0.0 20.93901164147001 … 64.0925026379392 82.17275004373793; 20.93901164147001 0.0 … 148.16274070860214 186.07238294077558; … ; 64.0925026379392 148.16274070860214 … 0.0 21.201905495624437; 82.17275004373793 186.07238294077558 … 21.201905495624437 0.0], [-0.14814500000941036, -0.157834460036958, -0.1561390206009994, -0.15848907497922052, -0.15619050098668544, -0.16021628407532817, -0.15607191629023656, -0.1569393047067011, -0.15383131171690692, -0.15885334563737577  …  -0.10406292134167511, -0.08659330130667595, -0.10409046505964278, -0.08546770113623839, -0.10505796172684564, -0.10024277438960696, -0.09952334033209517, -0.10453616317432704, -0.10115023063704986, -0.08806807270557424], -6.165638760403078, Float64[], [0.7446432887374584, 0.01, 1.0], [65, 65], [0, 0], [0, 0], [0, 0], [-0.1492749564315292, -0.15798681483646276, -0.15605921534489575, -0.15826173049783884, -0.15588462049623067, -0.15863271883609803, -0.153937380236378, -0.1562273196709479, -0.1530108685285767, -0.16061518228045532  …  -0.10380345506905728, -0.08689965007187264, -0.10405433687665297, -0.08539999640986914, -0.10460469541036929, -0.09986382904645488, -0.09859163008596722, -0.10395933749923625, -0.1004737236836673, -0.08714485965188565], [0.9243423362875655 0.743972504985782 … 0.45444926174128375 0.3525670207718273; 0.0 0.0 … 0.0 0.0; … ; 0.0 0.0 … 0.0 0.0; 0.0 0.0 … 0.0 0.0], [1.0 0.6491338983343238 … 0.19840798996991255 0.09593833408183039; 0.6491338983343238 1.0 … 0.0 0.0; … ; 0.19840798996991255 0.0 … 1.0 0.6453424917488091; 0.09593833408183039 0.0 … 0.6453424917488091 1.0], [0.9255034364258108 0.7433011662679722 … 0.45679269738438383 0.3554423371542667; 0.0 0.0 … 0.0 0.0; … ; 0.0 0.0 … 0.0 0.0; 0.0 0.0 … 0.0 0.0], [19.766224686425307, 62.03635637115928, 57.81670118882244, 81.22562077944401, 58.457094988749084, 24.722373171329302, 25.639217469579677, 56.68809949011328, 55.77125518489497, 20.837861083715026  …  20.843335885665493, 21.16463280533498, 19.663751993237895, 65.5450721975668, 77.97428541635918, 80.83630331363814, 40.29583380268253, 19.458675418734533, 42.06518340747599, 59.68189495862618], [0.6662234272228716, 0.21290487237966765, 0.2446129338444844, 0.10025620091446025, 0.23962848507710255, 0.5959433171536151, 0.5834920656263013, 0.25354977564492576, 0.2609541768765329, 0.6505965069149978  …  0.6505172882309367, 0.6458791567970533, 0.6677303326852637, 0.18853467009754238, 0.11592362981835774, 0.10206297097519623, 0.40649715841051515, 0.670752711988096, 0.38780632719641345, 0.23026828283906553]), NNPState{Float64, 55, SphericalBC{Float64}}(561.8856737456991, 561.9915225067869, Config{55, SphericalBC{Float64}, Float64}(StaticArraysCore.SVector{3, Float64}[[4.5112139495856e-6, -1.3138293967695e-5, 3.4601504321700004e-7], [-3.980885942754e-6, -3.3375035158614e-6, 4.575916827038472], [1.264752985534391, -3.8925157884546686, 2.0464230925690106], [-3.311163519470279, -2.405710469814843, 2.0464114164455425], [-3.311163596895427, 2.40569285113995, 2.0464011106786812], [1.275242840848922, 3.7876481654131995, 1.787296515657203], [4.312941398571279, -0.004791263033722626, 1.7625417565968113], [-1.354061673387112, -3.7615375708741805, -2.3042282362165487], [-4.092815815294902, -1.75878418699746e-5, -2.0464193117551326], [-1.26474396379167, 3.8924895111815556, -2.046422400538924]  …  [1.9569808752261104, 6.487562841372338, -4.402615970927093], [6.5594487104586, 4.765688045720408, -4.053952548518178], [6.748191452630701, -0.01813266681472585, -4.173326148924553], [6.6513510109013465, -4.692543231020327, -4.368820718177419], [-0.7554835810509006, -4.3544731596427635, -7.093014529996896], [-4.148951491146777, -2.75845933165806e-5, -6.713179340717135], [-1.293191237535703, 4.148321450648291, -6.790198980813165], [3.3566029234199006, 2.4386750098556425, -6.71317063552679], [3.5563152419247634, -2.269145571691572, -7.03992523504779], [2.1333711654662402e-5, -3.25548767294442e-5, -9.06491829912888]], SphericalBC{Float64}(514.2332609265956)), [0.0 20.93901164147001 … 67.35686020056869 82.17275004373793; 20.93901164147001 0.0 … 152.72419970484134 186.07238294077558; … ; 67.35686020056869 152.72419970484134 … 0.0 21.896697154248745; 82.17275004373793 186.07238294077558 … 21.896697154248745 0.0], [-0.1508776972634125, -0.158330615929982, -0.15852344773992, -0.15769124435623216, -0.16036468072892449, -0.15463761578788168, -0.1606768511669174, -0.1553887624039813, -0.16377468116116498, -0.15656796587040414  …  -0.10454414763138942, -0.08660523045878826, -0.1067452243135672, -0.08337376557070239, -0.09755752234364018, -0.10027206033475872, -0.10140729149186947, -0.10715841984133134, -0.10464423996838099, -0.08860586200040291], -6.161900546432062, Float64[], [0.7495903372814374, 0.01, 1.0], [65, 65], [0, 0], [0, 0], [0, 0], [-0.1508776972634125, -0.158330615929982, -0.15852344773992, -0.15769124435623216, -0.16036468072892449, -0.15463761578788168, -0.1606768511669174, -0.1553887624039813, -0.16377468116116498, -0.15656796587040414  …  -0.10454414763138942, -0.08660523045878826, -0.1067452243135672, -0.08337376557070239, -0.09755752234364018, -0.10027206033475872, -0.10140729149186947, -0.10715841984133134, -0.10464423996838099, -0.08860586200040291], [0.9258635622776563 0.7559170387036881 … 0.4395832024014677 0.3519182814482879; 0.0 0.0 … 0.0 0.0; … ; 0.0 0.0 … 0.0 0.0; 0.0 0.0 … 0.0 0.0], [1.0 0.6491338983343238 … 0.17663994769934482 0.09593833408183039; 0.6491338983343238 1.0 … 0.0 0.0; … ; 0.17663994769934482 0.0 … 1.0 0.6353914165933116; 0.09593833408183039 0.0 … 0.6353914165933116 1.0], [0.9258635622776563 0.7559170387036881 … 0.4395832024014677 0.3519182814482879; 0.0 0.0 … 0.0 0.0; … ; 0.0 0.0 … 0.0 0.0; 0.0 0.0 … 0.0 0.0], [69.84294436640562, 155.6961158733901, 87.82408045453651, 93.85828259940989, 135.76026308975432, 149.27791374009936, 123.02954152077584, 23.64234251255172, 55.56719306529254, 93.7398315525062  …  132.14545248051854, 145.92147256844922, 83.63356812340554, 62.39672197005717, 0.0, 30.621095493933378, 72.67834296546444, 63.20039885717665, 22.94301871212285, 23.420345131382486], [0.16106440784193898, 0.0, 0.07241093725760556, 0.051348960414808076, 0.0, 0.0, 0.0011623415182940855, 0.6108286960905236, 0.26261990006035224, 0.05172357896086449  …  0.0, 0.0, 0.08949242676555813, 0.21031956144580327, 1.0, 0.5187496864918398, 0.144331137471099, 0.2046222581022077, 0.6205937150381293, 0.6139177341423363]), NNPState{Float64, 55, SphericalBC{Float64}}(569.3762646216234, 554.5980836994394, Config{55, SphericalBC{Float64}, Float64}(StaticArraysCore.SVector{3, Float64}[[-0.11965484931588775, 0.05884282756573905, 0.08641862083599115], [-3.980885942754e-6, -3.3375035158614e-6, 4.575916827038472], [1.1838021440873587, -3.938166034037835, 1.8081601621980545], [-3.1655123540954606, -2.6661615295972605, 1.7524890716916917], [-3.4979336459882657, 2.25269449380655, 1.85379061818403], [1.264752859461583, 3.8924983184634674, 2.046406418069819], [4.212160104782461, 0.08625925379784588, 1.7729609480822175], [-1.2647438377188622, -3.8925245957365804, -2.046405726039733], [-4.179308387063269, -0.07334450929618803, -2.0551492816832626], [-1.26474396379167, 3.8924895111815556, -2.046422400538924]  …  [2.3603516176074764, 6.4757993871538995, -4.328563574690166], [6.806006099438753, 4.865853366417825, -4.467671626822295], [6.790099860178908, 0.14634456943158464, -4.001759283060203], [6.559448864623718, -4.765731476432347, -4.053932133630629], [-1.2820847296802604, -3.9459310282596545, -6.7131655686332365], [-4.179086030976162, -0.2199877265515408, -6.619796576197264], [-1.1456657693688863, 3.8375890380798174, -6.752051595442257], [3.3802632319813335, 2.738025070226365, -6.625060863087493], [3.356603002900584, -2.438729936489156, -6.713160188613198], [2.1333711654662402e-5, -3.25548767294442e-5, -9.06491829912888]], SphericalBC{Float64}(514.2332609265956)), [0.0 20.173373344954694 … 64.55651035275594 83.76475612215393; 20.173373344954694 0.0 … 144.65745773351938 186.07238294077558; … ; 64.55651035275594 144.65745773351938 … 0.0 22.74465163139474; 83.76475612215393 186.07238294077558 … 22.74465163139474 0.0], [-0.14833990508000813, -0.1498130046791171, -0.1566693616312365, -0.1569428691741337, -0.1548161031581791, -0.1565384735007826, -0.15466644927831322, -0.16831292575622833, -0.1672377085159925, -0.15605663087304203  …  -0.1001520446451589, -0.08166741081689619, -0.10205828158928909, -0.08610431726629536, -0.10445747144275128, -0.10272272394570761, -0.10156230916781728, -0.1074533083090834, -0.10146848760059907, -0.08553426316590798], -6.136854539605212, Float64[], [0.7545702516145356, 0.01, 1.0], [69, 69], [0, 0], [0, 0], [0, 0], [-0.14833990508000813, -0.1498130046791171, -0.1566693616312365, -0.1569428691741337, -0.1548161031581791, -0.1565384735007826, -0.15466644927831322, -0.16831292575622833, -0.1672377085159925, -0.15605663087304203  …  -0.1001520446451589, -0.08166741081689619, -0.10205828158928909, -0.08610431726629536, -0.10445747144275128, -0.10272272394570761, -0.10156230916781728, -0.1074533083090834, -0.10146848760059907, -0.08553426316590798], [0.9282614778985702 0.7454086249223847 … 0.4624906531305125 0.3460234516064624; 0.0 0.0 … 0.0 0.0; … ; 0.0 0.0 … 0.0 0.0; 0.0 0.0 … 0.0 0.0], [1.0 0.6602579292495615 … 0.19522119251797337 0.08892614728616138; 0.6602579292495615 1.0 … 0.0 0.0; … ; 0.19522119251797337 0.0 … 1.0 0.6233818428280022; 0.08892614728616138 0.0 … 0.6233818428280022 1.0], [0.9282614778985702 0.7454086249223847 … 0.4624906531305125 0.3460234516064624; 0.0 0.0 … 0.0 0.0; … ; 0.0 0.0 … 0.0 0.0; 0.0 0.0 … 0.0 0.0], [68.87340853678396, 85.9726702645846, 88.15988232685635, 149.56794742221868, 130.2401807033201, 47.72561154691055, 21.20339623484037, 128.80157495512012, 155.5978396004863, 89.22195652495434  …  66.00276074328062, 28.642676787603996, 24.834311003435428, 73.46264162431382, 173.02161988386814, 198.2645053005543, 130.69095953907583, 66.82088254499682, 93.01918083877801, 154.03566414920866], [0.16703701293697842, 0.07970315881052487, 0.0711308404319011, 0.0, 0.0, 0.3316491504426816, 0.6453210335784655, 0.0, 0.0, 0.06716722833427313  …  0.18548607757013513, 0.5438773854889952, 0.5944140630840813, 0.13989286482680352, 0.0, 0.0, 0.0, 0.18011055239402918, 0.05403567022763189, 0.0]), NNPState{Float64, 55, SphericalBC{Float64}}(576.9667138037692, 547.3019113724725, Config{55, SphericalBC{Float64}, Float64}(StaticArraysCore.SVector{3, Float64}[[0.037042243762959344, -0.14392703899111556, 0.21168609754741083], [-0.07296276574803098, 0.026985198055905175, 4.705161415184971], [1.264752985534391, -3.8925157884546686, 2.0464230925690106], [-3.311163519470279, -2.405710469814843, 2.0464114164455425], [-3.311163596895427, 2.40569285113995, 2.0464011106786812], [1.264752859461583, 3.8924983184634674, 2.046406418069819], [4.037839678123639, 0.17946020951066088, 2.1504460033286015], [-1.2647438377188622, -3.8925245957365804, -2.046405726039733], [-4.092815815294902, -1.75878418699746e-5, -2.0464193117551326], [-1.26474396379167, 3.8924895111815556, -2.046422400538924]  …  [2.0776826033849884, 6.213582010282792, -4.071789325958183], [6.6614038713284325, 4.62754427065534, -4.1290253674935675], [6.983759101937874, 0.19920605202994282, -4.23391404597713], [6.559448864623718, -4.765731476432347, -4.053932133630629], [-1.157127367689748, -3.7735771309804496, -6.851700589524618], [-4.088596426897183, 0.027398987045445848, -6.553915254114786], [-1.2532709431601956, 3.9967012474735277, -6.613303829579832], [3.6558991655673214, 2.0744245265358607, -6.683995237701679], [3.356603002900584, -2.438729936489156, -6.713160188613198], [2.1333711654662402e-5, -3.25548767294442e-5, -9.06491829912888]], SphericalBC{Float64}(514.2332609265956)), [0.0 20.23263252510791 … 64.23910005892414 86.07746530277346; 20.23263252510791 0.0 … 148.21974073397493 189.62115197630533; … ; 64.23910005892414 148.21974073397493 … 0.0 22.74465163139474; 86.07746530277346 189.62115197630533 … 22.74465163139474 0.0], [-0.14443339349094422, -0.16077739281668882, -0.15976607653673677, -0.15693919453852553, -0.15151065845347553, -0.15969046939478274, -0.15997945732235047, -0.16337262800346616, -0.15592309214589525, -0.16000696227768313  …  -0.0978205510742445, -0.08619260995732844, -0.1024352006028183, -0.08628712692590795, -0.10336314051040785, -0.1064118372840234, -0.09673799465945809, -0.10351036486330795, -0.10787210363755723, -0.08594497200844323], -6.148426288316878, Float64[], [0.7595832500811016, 0.01, 1.0], [53, 53], [0, 0], [0, 0], [0, 0], [-0.14599067146883854, -0.16076657904247926, -0.15753342521573024, -0.1561099470108453, -0.1500697206396203, -0.16175010674683954, -0.14983632722250712, -0.16276963995450403, -0.15519874127928712, -0.15838538475490968  …  -0.09706252516627573, -0.085685163281436, -0.10231247106544164, -0.08655801331745316, -0.1033647485491018, -0.1064118372840234, -0.09673026396812634, -0.10314068723698261, -0.10779414477256524, -0.08594497200844323], [0.9333349477737973 0.7470925975600151 … 0.47051569136319527 0.34603157727714373; 0.0 0.0 … 0.0 0.0; … ; 0.0 0.0 … 0.0 0.0; 0.0 0.0 … 0.0 0.0], [1.0 0.659392569605125 … 0.19739781349428376 0.07927972513915871; 0.659392569605125 1.0 … 0.0 0.0; … ; 0.19739781349428376 0.0 … 1.0 0.6233818428280022; 0.07927972513915871 0.0 … 0.6233818428280022 1.0], [0.9364495703464286 0.7484993903552082 … 0.47096813973821416 0.34603157727714373; 0.0 0.0 … 0.0 0.0; … ; 0.0 0.0 … 0.0 0.0; 0.0 0.0 … 0.0 0.0], [16.82097343641744, 21.973586898886552, 25.599119485693688, 57.69168568412104, 52.40376570731026, 17.043085248067815, 0.0, 60.226091750966, 76.79227417190936, 51.67005751325546  …  70.95934369538904, 62.474279506564635, 49.27610767838445, 72.59150230285579, 119.65347228692167, 133.06603693129324, 109.64686848149492, 76.91722350417228, 84.13320256723914, 135.2687726601507], [0.710422228901118, 0.6342963149446056, 0.5840330841607767, 0.2455932668739454, 0.28927838808020134, 0.707024470760161, 1.0, 0.22618175405956042, 0.1219494130515743, 0.29568851826928155  …  0.15434626331803153, 0.20976564138091025, 0.31720925046852655, 0.14482758882791014, 0.003058368362226893, 0.0, 0.014350796194294302, 0.12130400299388411, 0.0873467589009605, 0.0]), NNPState{Float64, 55, SphericalBC{Float64}}(584.6583525197376, 540.1017259091273, Config{55, SphericalBC{Float64}, Float64}(StaticArraysCore.SVector{3, Float64}[[4.5112139495856e-6, -1.3138293967695e-5, 3.4601504321700004e-7], [0.040216514827799484, -0.11056151078916628, 4.6923771659332], [1.0278138739210316, -3.918878437552698, 1.9563244261078867], [-3.458109103771135, -2.509066851173515, 1.8566358538812868], [-3.311163596895427, 2.40569285113995, 2.0464011106786812], [1.508322270855719, 3.6906851228278494, 2.1302195513843234], [4.049364935705079, -0.39263477732723223, 1.98304845228296], [-1.0279498633048794, -3.8102917832398253, -2.2136798588146713], [-3.75594086791413, -0.013486217291835367, -2.24566744749424], [-1.0864443446528396, 3.859199568197839, -1.6976825116350396]  …  [2.18107575318192, 7.005912572551518, -3.8398091120941364], [6.547080155555962, 4.91909117356256, -3.6373604343161507], [6.69380561115378, 0.07144202355263587, -4.567663930204225], [6.676371732740009, -4.870497902809109, -4.05113215988352], [-1.2820847296802604, -3.9459310282596545, -6.7131655686332365], [-4.26263896361742, 0.14719160320331237, -6.912781756591233], [-0.8507062951181061, 3.722658804959663, -6.551705683400546], [3.8456198928386582, 2.3529325827115763, -6.884970328079949], [3.364572785029944, -2.5317175278097284, -6.928026769742604], [2.1333711654662402e-5, -3.25548767294442e-5, -9.06491829912888]], SphericalBC{Float64}(514.2332609265956)), [0.0 22.03223816800121 … 65.72740650173573 82.17275004373793; 22.03223816800121 0.0 … 151.94712869825688 189.27701081569774; … ; 65.72740650173573 151.94712869825688 … 0.0 22.295940679105588; 82.17275004373793 189.27701081569774 … 22.295940679105588 0.0], [-0.1557288093756373, -0.15698554118017505, -0.15677517823844775, -0.15333395577401435, -0.1554970919458012, -0.15313645451081745, -0.15931457923203368, -0.15419849586519085, -0.1548322035347429, -0.15479517142604748  …  -0.09371262399554306, -0.08879240749417458, -0.09959256105349745, -0.08536441766111752, -0.10116212312323228, -0.0997830419363081, -0.09936520515114192, -0.09591012091710424, -0.10199569822729476, -0.08762261034972899], -6.125380511929371, Float64[], [0.7646295524760587, 0.01, 1.0], [81, 81], [0, 0], [0, 0], [0, 0], [-0.15591128528942216, -0.15697104130324163, -0.15440497887829735, -0.15353855173929182, -0.1554965964787007, -0.1529896343855056, -0.15992759738261408, -0.15446005032827087, -0.1548322035347429, -0.15479517142604748  …  -0.09371262399554306, -0.08879240749417458, -0.09956855956227853, -0.08546596977096521, -0.10116212312323228, -0.0997830419363081, -0.09936520515114192, -0.09591012091710424, -0.10199569822729476, -0.08762261034972899], [0.9267903069037884 0.7479878440971048 … 0.4441438726882814 0.3461079173363754; 0.0 0.0 … 0.0 0.0; … ; 0.0 0.0 … 0.0 0.0; 0.0 0.0 … 0.0 0.0], [1.0 0.633461795866092 … 0.18731660507751258 0.09593833408183039; 0.633461795866092 1.0 … 0.0 0.0; … ; 0.18731660507751258 0.0 … 1.0 0.6297184787077845; 0.09593833408183039 0.0 … 0.6297184787077845 1.0], [0.9261802976746651 0.7475627782553352 … 0.4441438726882814 0.3461079173363754; 0.0 0.0 … 0.0 0.0; … ; 0.0 0.0 … 0.0 0.0; 0.0 0.0 … 0.0 0.0], [63.62698583031826, 44.71231307315762, 26.634384149150346, 90.15002321042584, 122.57154156413755, 76.35703077931623, 18.61581480817085, 86.18991807315032, 144.16104579992515, 137.8510825877047  …  191.956670444612, 137.07588222454189, 92.71169108833152, 70.92131761366976, 167.90595825254502, 237.37234664678462, 213.76062356483703, 163.50303843844355, 131.0822271403651, 222.43940600287254], [0.20163634133713282, 0.36086281559360245, 0.57016790206219, 0.06380876323299278, 0.0013656207337552906, 0.12421324940922063, 0.6832678942224938, 0.07882678189557135, 0.0, 0.0  …  0.0, 0.0, 0.0550394831555735, 0.15457230714298725, 0.0, 0.0, 0.0, 0.0, 0.0, 0.0]), NNPState{Float64, 55, SphericalBC{Float64}}(592.452529743945, 532.9962645270053, Config{55, SphericalBC{Float64}, Float64}(StaticArraysCore.SVector{3, Float64}[[0.03466475681069965, -0.04834709178016915, -0.2176247709282278], [-3.980885942754e-6, -3.3375035158614e-6, 4.575916827038472], [1.264752985534391, -3.8925157884546686, 2.0464230925690106], [-3.311163519470279, -2.405710469814843, 2.0464114164455425], [-3.311163596895427, 2.40569285113995, 2.0464011106786812], [1.264752859461583, 3.8924983184634674, 2.046406418069819], [4.092824837722801, -8.6887460654154e-6, 2.046420003785219], [-1.2647438377188622, -3.8925245957365804, -2.046405726039733], [-4.092815815294902, -1.75878418699746e-5, -2.0464193117551326], [-1.26474396379167, 3.8924895111815556, -2.046422400538924]  …  [2.149963805832625, 6.043830251916264, -4.066664478292179], [6.5594487104586, 4.765688045720408, -4.053952548518178], [6.767030362317498, 0.08772377855870259, -4.274409516197398], [6.69420658986122, -4.7244994497287305, -4.208158340057326], [-1.1687801314644648, -4.145783487464853, -6.412378063138962], [-4.148951491146777, -2.75845933165806e-5, -6.713179340717135], [-1.282084857808603, 3.9458759515720923, -6.71318247198198], [3.3545042529749898, 2.283830539460434, -6.5280463112480644], [3.475492200642588, -2.712694385504246, -6.648381161110833], [-0.12073948618873334, -0.04538932868521317, -9.278733609034845]], SphericalBC{Float64}(514.2332609265956)), [0.0 22.981580091388178 … 60.29266774967591 82.12785260311858; 22.981580091388178 0.0 … 145.42263175649524 191.96797565622282; … ; 60.29266774967591 145.42263175649524 … 0.0 26.966152611801874; 82.12785260311858 191.96797565622282 … 26.966152611801874 0.0], [-0.14457054890468007, -0.1516127041335111, -0.16002693199257875, -0.15586535821420439, -0.15499858434714958, -0.15428507860670776, -0.1572297703081536, -0.1648211794250172, -0.1581467629148316, -0.1597132678514449  …  -0.10909781049314962, -0.08676174981999052, -0.10106424526902955, -0.08353030325039898, -0.10367994964031688, -0.10101232898177154, -0.10112262708262718, -0.10380842820787986, -0.10264902170511567, -0.0796834488289111], -6.144288257166118, Float64[], [0.7697093800545405, 0.01, 1.0], [60, 60], [0, 0], [0, 0], [0, 0], [-0.14457054890468007, -0.1516127041335111, -0.16002693199257875, -0.15586535821420439, -0.15499858434714958, -0.15428507860670776, -0.1572297703081536, -0.1648211794250172, -0.1581467629148316, -0.1597132678514449  …  -0.10909781049314962, -0.08676174981999052, -0.10106424526902955, -0.08353030325039898, -0.10367994964031688, -0.10101232898177154, -0.10112262708262718, -0.10380842820787986, -0.10264902170511567, -0.0796834488289111], [0.9309441790169038 0.7532685635503414 … 0.4569269028481782 0.32334865933016693; 0.0 0.0 … 0.0 0.0; … ; 0.0 0.0 … 0.0 0.0; 0.0 0.0 … 0.0 0.0], [1.0 0.6200526563774112 … 0.22568485512875625 0.0961405428222219; 0.6200526563774112 1.0 … 0.0 0.0; … ; 0.22568485512875625 0.0 … 1.0 0.5657697593469824; 0.0961405428222219 0.0 … 0.5657697593469824 1.0], [0.9309441790169038 0.7532685635503414 … 0.4569269028481782 0.32334865933016693; 0.0 0.0 … 0.0 0.0; … ; 0.0 0.0 … 0.0 0.0; 0.0 0.0 … 0.0 0.0], [60.29266774967591, 145.42263175649524, 81.8789674298862, 121.75235295456214, 147.85582357232377, 124.11527013826787, 83.33933057127858, 45.04001492935537, 85.81595449560479, 87.27631763765237  …  85.09901028154403, 72.16805136792559, 24.312306734228937, 20.362169352192687, 23.678707331185667, 65.49490158611125, 66.9752976107846, 24.994379885365614, 0.0, 26.966152611801874], [0.22568485512875625, 0.0, 0.0972659265173147, 0.001771101464894953, 0.0, 0.0007469616484769293, 0.09077003632961411, 0.35761124346905915, 0.08033878828784685, 0.07452695397261533  …  0.08328355109690705, 0.14726279641560092, 0.6015671376711025, 0.6575035094865262, 0.6103236466911315, 0.18887065899594802, 0.17910653788913006, 0.5922316538999641, 1.0, 0.5657697593469824]), NNPState{Float64, 55, SphericalBC{Float64}}(600.3506124342089, 525.9842810566006, Config{55, SphericalBC{Float64}, Float64}(StaticArraysCore.SVector{3, Float64}[[4.5112139495856e-6, -1.3138293967695e-5, 3.4601504321700004e-7], [-3.980885942754e-6, -3.3375035158614e-6, 4.575916827038472], [1.264752985534391, -3.8925157884546686, 2.0464230925690106], [-3.311163519470279, -2.405710469814843, 2.0464114164455425], [-3.35303614761539, 2.3841415336296534, 1.892177018729638], [1.264752859461583, 3.8924983184634674, 2.046406418069819], [4.092824837722801, -8.6887460654154e-6, 2.046420003785219], [-1.2647438377188622, -3.8925245957365804, -2.046405726039733], [-4.092815815294902, -1.75878418699746e-5, -2.0464193117551326], [-1.26474396379167, 3.8924895111815556, -2.046422400538924]  …  [2.097399830616884, 6.39675475717772, -4.354306315602167], [6.929300162553782, 4.746166994513865, -4.0171499497818175], [6.451913984964594, 0.32839988966897493, -4.166101727719481], [6.618580012484077, -4.404555613166888, -4.226058501270554], [-1.4660888740988374, -3.7917520141209407, -6.535107939445272], [-4.334481448271829, 0.23600600748620337, -6.746071372519131], [-1.441908877052454, 4.010167738128828, -6.5279807163334285], [3.3107700271562965, 2.4730437955332683, -7.025487740532455], [3.140591224094189, -2.399438465188799, -6.990139022195196], [0.04600059818027738, 0.2724721467414134, -9.20445269392037]], SphericalBC{Float64}(514.2332609265956)), [0.0 20.93901164147001 … 64.48257518746692 84.79831963495327; 20.93901164147001 0.0 … 149.3942750811066 189.97494344498102; … ; 64.48257518746692 149.3942750811066 … 0.0 21.61878249692856; 84.79831963495327 189.97494344498102 … 21.61878249692856 0.0], [-0.15112808061800515, -0.15918766041674387, -0.1558876535050303, -0.1539598366929644, -0.16161329786808534, -0.15538240129390057, -0.158229528193799, -0.16148183745458683, -0.1580545840543649, -0.1633595665576871  …  -0.10095931817226739, -0.08585070837831568, -0.10775722596946086, -0.0869126845096184, -0.10459496807045696, -0.09857506286572937, -0.10875955383852218, -0.09962468411074568, -0.1032484016381672, -0.08576500932574072], -6.149861110932284, Float64[], [0.7748229555415928, 0.01, 1.0], [58, 58], [0, 0], [0, 0], [1, 1], [-0.15131792361058294, -0.15732534981813148, -0.15615761959206179, -0.15241063552214248, -0.16142290759161892, -0.15534853231294493, -0.1584090353536868, -0.16159165037614245, -0.15803874490625988, -0.16336047912355467  …  -0.10095931817226739, -0.08585070837831568, -0.10775722596946086, -0.0869126845096184, -0.10459496807045696, -0.09857506286572937, -0.10875955383852218, -0.09962468411074568, -0.1032484016381672, -0.08576500932574072], [0.9324389133349114 0.7609183981385123 … 0.44843337107388914 0.335931397587671; 0.0 0.0 … 0.0 0.0; … ; 0.0 0.0 … 0.0 0.0; 0.0 0.0 … 0.0 0.0], [1.0 0.6491338983343238 … 0.1957269046251207 0.08453668817408921; 0.6491338983343238 1.0 … 0.0 0.0; … ; 0.1957269046251207 0.0 … 1.0 0.6393598115694489; 0.08453668817408921 0.0 … 0.6393598115694489 1.0], [0.9317929071498372 0.7599582084842886 … 0.44843337107388914 0.335931397587671; 0.0 0.0 … 0.0 0.0; … ; 0.0 0.0 … 0.0 0.0; 0.0 0.0 … 0.0 0.0], [68.1029666533559, 23.223095891202693, 55.90729875240835, 27.15320902343148, 44.65497656081338, 81.9508169754309, 89.77408297171408, 96.13313960525711, 88.30987361662179, 122.17665782819498  …  231.87054080117602, 279.51528998307055, 235.77280626374343, 244.00418098574553, 197.84591104493964, 198.33076109906108, 225.56230204344058, 268.2665837028976, 248.2517393762635, 286.5464403299704], [0.17187558564093147, 0.6166708502160619, 0.2598472708853039, 0.563299645543503, 0.36143361456801626, 0.09694026869944744, 0.06515746497742714, 0.044447804298749616, 0.07056325268982899, 0.0015543494945101655  …  0.0, 0.0, 0.0, 0.0, 0.0, 0.0, 0.0, 0.0, 0.0, 0.0]), NNPState{Float64, 55, SphericalBC{Float64}}(608.3539857714874, 519.0645457227431, Config{55, SphericalBC{Float64}, Float64}(StaticArraysCore.SVector{3, Float64}[[4.5112139495856e-6, -1.3138293967695e-5, 3.4601504321700004e-7], [-0.27754374689596556, -0.020470948031889452, 4.437632599696424], [1.264752985534391, -3.8925157884546686, 2.0464230925690106], [-3.311163519470279, -2.405710469814843, 2.0464114164455425], [-3.327862607359954, 2.486366762966421, 2.1430339251330928], [1.295567626268403, 4.014975764231021, 2.1439781907192472], [4.092824837722801, -8.6887460654154e-6, 2.046420003785219], [-1.456550358811052, -3.8759268009139984, -1.8368473832736814], [-4.092815815294902, -1.75878418699746e-5, -2.0464193117551326], [-1.3143616217661274, 3.9821269013758536, -1.951190811287754]  …  [2.0744963372369405, 6.384583971948036, -4.148977939714466], [6.5594487104586, 4.765688045720408, -4.053952548518178], [6.713184197946128, -2.1916113212552402e-5, -4.1489556556605045], [6.573049500245128, -5.005859916237125, -3.9649538000914872], [-1.2820847296802604, -3.9459310282596545, -6.7131655686332365], [-4.148951491146777, -2.75845933165806e-5, -6.713179340717135], [-1.282084857808603, 3.9458759515720923, -6.71318247198198], [3.1831415535809815, 2.1851662501735425, -6.974659836955046], [3.1945672991883374, -2.614193389965839, -6.8897258362258365], [2.1333711654662402e-5, -3.25548767294442e-5, -9.06491829912888]], SphericalBC{Float64}(514.2332609265956)), [0.0 19.77003157647241 … 64.50749666079739 82.17275004373793; 19.77003157647241 0.0 … 147.09200035799165 182.39634087725554; … ; 64.50749666079739 147.09200035799165 … 0.0 21.77042304792735; 82.17275004373793 182.39634087725554 … 21.77042304792735 0.0], [-0.148243173014316, -0.15378286866154464, -0.1568835204131834, -0.16215608596990994, -0.16549730047858735, -0.16038753757801208, -0.1556817230488652, -0.15557912979487157, -0.15952547994133215, -0.1567603328005897  …  -0.10213464418199258, -0.08786268889037166, -0.10268511991151874, -0.08804690793112369, -0.10583364638123882, -0.1026392408511082, -0.10740944879193443, -0.10072115192845874, -0.10471923589979085, -0.08927827869739902], -6.161642704690628, Float64[], [0.7799705031419377, 0.01, 1.0], [56, 56], [0, 0], [0, 0], [1, 1], [-0.14856533522444468, -0.15378286866154464, -0.1568835204131834, -0.16215608596990994, -0.16615322094018015, -0.16112437787438896, -0.1556817230488652, -0.15557912979487157, -0.16015532946272845, -0.15196665603907852  …  -0.10060313936217208, -0.08793731169151778, -0.10268511991151874, -0.08804690793112369, -0.10583364638123882, -0.10295501120973946, -0.10735909202717617, -0.10111407523651747, -0.10471923589979085, -0.0893520151803576], [0.9243553908577048 0.7644287251548748 … 0.45076254429705953 0.3512366560674538; 0.0 0.0 … 0.0 0.0; … ; 0.0 0.0 … 0.0 0.0; 0.0 0.0 … 0.0 0.0], [1.0 0.6661674878054639 … 0.19555635553161 0.09593833408183039; 0.6661674878054639 1.0 … 0.0 0.0; … ; 0.19555635553161 0.0 … 1.0 0.6371925266650623; 0.09593833408183039 0.0 … 0.6371925266650623 1.0], [0.9225203946945498 0.7644287251548748 … 0.45076254429705953 0.3504231829171756; 0.0 0.0 … 0.0 0.0; … ; 0.0 0.0 … 0.0 0.0; 0.0 0.0 … 0.0 0.0], [94.76978875581253, 154.41294807987234, 204.71124611704627, 154.0240599397321, 77.03353450717225, 80.04379284871881, 158.6358023715617, 152.07943297939502, 72.78179842168738, 26.31067748060862  …  27.986188538140023, 101.03977442748278, 157.83231560912884, 260.952833887216, 150.75124495267335, 70.50192511568922, 23.79442998025094, 77.08725049985199, 156.10426219020474, 92.84824432925512], [0.04851701568670558, 0.0, 0.0, 0.0, 0.12070500947114537, 0.10579874143366591, 0.0, 0.0, 0.14374101383564508, 0.5744802750115959  …  0.5523840007816472, 0.03141564707378863, 0.0, 0.0, 0.0, 0.1570783653668152, 0.6087182361557273, 0.12042895998357944, 0.0, 0.054592419714578344]), NNPState{Float64, 55, SphericalBC{Float64}}(616.4640534028156, 512.2358449289186, Config{55, SphericalBC{Float64}, Float64}(StaticArraysCore.SVector{3, Float64}[[-0.10364535762948207, -0.1475891033132611, -0.04822072782130547], [-3.980885942754e-6, -3.3375035158614e-6, 4.575916827038472], [1.264752985534391, -3.8925157884546686, 2.0464230925690106], [-3.5630327784517086, -2.7034353417465944, 1.592422319753271], [-3.5312563638519534, 2.3459084618162254, 1.9676450656618971], [1.264752859461583, 3.8924983184634674, 2.046406418069819], [4.146481331220718, 0.03171658204309372, 2.1610773576057154], [-1.2647438377188622, -3.8925245957365804, -2.046405726039733], [-4.15745973308462, 0.39189857428895036, -2.0136552077999226], [-1.26474396379167, 3.8924895111815556, -2.046422400538924]  …  [2.0744963372369405, 6.384583971948036, -4.148977939714466], [6.541765824802065, 4.646846025094629, -3.887250233744615], [6.833704272015355, -0.014742667293572098, -4.524413590444122], [6.559448864623718, -4.765731476432347, -4.053932133630629], [-1.1860687838952053, -3.739351538620551, -6.836184418141788], [-4.037665726814752, -0.36595022364847124, -6.923568152963292], [-1.497222863392773, 3.9471047389987692, -6.774534999480848], [3.347498663996187, 2.2906804248423556, -6.397610275967048], [3.5572492881567785, -2.8068644038164186, -7.066711019100632], [2.1333711654662402e-5, -3.25548767294442e-5, -9.06491829912888]], SphericalBC{Float64}(514.2332609265956)), [0.0 21.415171219507503 … 69.73310070019484 81.33335481030403; 21.415171219507503 0.0 … 156.08330302939197 186.07238294077558; … ; 69.73310070019484 156.08330302939197 … 0.0 24.525008082065927; 81.33335481030403 186.07238294077558 … 24.525008082065927 0.0], [-0.14733960410261077, -0.14891736284643176, -0.1592934141673364, -0.15058286135006332, -0.1529211897432885, -0.15717197260620905, -0.16177349437517652, -0.15921075280682742, -0.15660990571109237, -0.15528476134582858  …  -0.10185147737515457, -0.08881835438662658, -0.09688139472097959, -0.08787827184647742, -0.10777120139938184, -0.10278154606101364, -0.09948099024378121, -0.10676171893364333, -0.09660130637408398, -0.08710031054858255], -6.136374628783347, Float64[], [0.7851522485498056, 0.01, 1.0], [67, 67], [0, 0], [0, 0], [0, 0], [-0.14711844603158952, -0.15139087380682484, -0.15768597339174073, -0.15054708249378013, -0.15256784027665207, -0.15693191284831934, -0.16166961667605725, -0.15922763811618515, -0.15661227309256825, -0.15528476134582858  …  -0.10185147737515457, -0.08881835438662658, -0.09688139472097959, -0.08787827184647742, -0.10777120139938184, -0.10278154606101364, -0.09948099024378121, -0.10676171893364333, -0.09660130637408398, -0.08710031054858255], [0.9212552302552499 0.7479769128034038 … 0.4244596196937097 0.3529554974206071; 0.0 0.0 … 0.0 0.0; … ; 0.0 0.0 … 0.0 0.0; 0.0 0.0 … 0.0 0.0], [1.0 0.6422773694193866 … 0.16173459557080705 0.09975951483804374; 0.6422773694193866 1.0 … 0.0 0.0; … ; 0.16173459557080705 0.0 … 1.0 0.5986458157124478; 0.09975951483804374 0.0 … 0.5986458157124478 1.0], [0.9220250614886382 0.75034728318055 … 0.4244596196937097 0.3529554974206071; 0.0 0.0 … 0.0 0.0; … ; 0.0 0.0 … 0.0 0.0; 0.0 0.0 … 0.0 0.0], [62.87407151156667, 20.41521064211442, 24.465020208836254, 47.940954864576675, 80.14931011550402, 83.31063186417758, 49.5357270811567, 84.85285741373418, 121.2732219563007, 143.69846906899085  …  228.5862929375621, 222.947570933436, 183.85066293862215, 156.76890133651295, 193.729589398604, 226.57498149791115, 252.9886360565648, 222.29666254390133, 205.87773095855596, 271.4392778035598], [0.20692425045119556, 0.6567310119242076, 0.5994687845752451, 0.32961980829569837, 0.10529685790194254, 0.09089520653581962, 0.31483016719576584, 0.08430860442492649, 0.002033333339695076, 0.0  …  0.0, 0.0, 0.0, 0.0, 0.0, 0.0, 0.0, 0.0, 0.0, 0.0]), NNPState{Float64, 55, SphericalBC{Float64}}(624.6822376874787, 505.4969810444262, Config{55, SphericalBC{Float64}, Float64}(StaticArraysCore.SVector{3, Float64}[[4.5112139495856e-6, -1.3138293967695e-5, 3.4601504321700004e-7], [0.07839412038058423, 0.10269233020489214, 4.448407505361146], [1.3217366695263064, -4.035250901041172, 2.0833455598760504], [-3.311163519470279, -2.405710469814843, 2.0464114164455425], [-3.311163596895427, 2.40569285113995, 2.0464011106786812], [1.264752859461583, 3.8924983184634674, 2.046406418069819], [4.157429146682131, 0.21581121490913377, 2.0995923495369717], [-1.2647438377188622, -3.8925245957365804, -2.046405726039733], [-4.1189707287823305, -0.21227554738930626, -2.4829249744635913], [-1.36558173738376, 3.9687139737771164, -2.0434459919087837]  …  [2.167145377703032, 6.363692797476719, -4.083929959436305], [6.7008268031460805, 4.827062788066816, -4.140698125713208], [6.713184197946128, -2.1916113212552402e-5, -4.1489556556605045], [6.559448864623718, -4.765731476432347, -4.053932133630629], [-1.380008901939938, -3.861095317236753, -6.866343232774297], [-4.6549655322644945, -0.16613004186309435, -7.026791511625795], [-1.516568784931108, 3.992031491314675, -6.609347664250457], [3.3566029234199006, 2.4386750098556425, -6.71317063552679], [3.356603002900584, -2.438729936489156, -6.713160188613198], [-0.29847369974537724, -0.04681751971780047, -9.236704093262937]], SphericalBC{Float64}(514.2332609265956)), [0.0 19.805019599406535 … 62.28061741988252 85.40798879111547; 19.805019599406535 0.0 … 141.78607400225312 187.4466620158658; … ; 62.28061741988252 141.78607400225312 … 0.0 25.449104550425105; 85.40798879111547 187.4466620158658 … 25.449104550425105 0.0], [-0.15046047061981904, -0.15612027513970375, -0.15530556657082734, -0.15337617834549577, -0.15248416463462017, -0.15585972664547146, -0.15586075665670707, -0.15596131212192807, -0.15660562418218732, -0.15783929902361574  …  -0.10385468410388429, -0.08626695003624621, -0.10529526674738493, -0.09005253913273167, -0.10299172132820453, -0.09805415095748013, -0.10046002745631558, -0.10091345405911437, -0.10375495401215082, -0.0846279245453967], -6.151462006736212, Float64[], [0.7903684189588289, 0.01, 1.0], [66, 66], [0, 0], [0, 0], [0, 0], [-0.1524826007067167, -0.1557169806258361, -0.15505710947119083, -0.15292777937190583, -0.15341192167364182, -0.15276998772173872, -0.15529193854243878, -0.15562538383991564, -0.15596681031994378, -0.15983898211868106  …  -0.1035529371248895, -0.08616187457004482, -0.10519206657903149, -0.09005253913273167, -0.10299172132820453, -0.09805419427184686, -0.10017552072481498, -0.1007190837603271, -0.10375589358790915, -0.0846279245453967], [0.9064906075384688 0.7443248723357528 … 0.45385774881259716 0.3272916571133429; 0.0 0.0 … 0.0 0.0; … ; 0.0 0.0 … 0.0 0.0; 0.0 0.0 … 0.0 0.0], [1.0 0.6656535075444646 … 0.21115043227882824 0.08200702295478546; 0.6656535075444646 1.0 … 0.0 0.0; … ; 0.21115043227882824 0.0 … 1.0 0.5860600089740218; 0.08200702295478546 0.0 … 0.5860600089740218 1.0], [0.9082186275596038 0.7441639666848402 … 0.4540320053327025 0.3272916571133429; 0.0 0.0 … 0.0 0.0; … ; 0.0 0.0 … 0.0 0.0; 0.0 0.0 … 0.0 0.0], [19.20133366587097, 21.705497931888853, 61.741041109958545, 58.43529141077957, 21.71490272639613, 0.0, 22.224151806133598, 80.21139579866417, 62.38789572782559, 21.28310649958454  …  42.63000619497468, 67.83805726590005, 81.6142376796092, 137.8749986101208, 140.95634968972837, 127.82946310102943, 78.34574603738534, 79.97565609381712, 117.1997658669269, 139.56799402966175], [0.6745579109578392, 0.6381198699032045, 0.21503771939858174, 0.2397971666106523, 0.6379854846009636, 1.0, 0.6307361173747569, 0.10500219889866302, 0.21038265473292167, 0.6441743315114667  …  0.38195541746013845, 0.17355831428117674, 0.09847125688315367, 0.0, 0.0, 1.9447231636993134e-5, 0.11406662321215982, 0.10612356303619996, 0.005025445525418337, 0.0]), NNPState{Float64, 55, SphericalBC{Float64}}(633.0099799464698, 498.846772194335, Config{55, SphericalBC{Float64}, Float64}(StaticArraysCore.SVector{3, Float64}[[4.5112139495856e-6, -1.3138293967695e-5, 3.4601504321700004e-7], [-0.047334245561716795, 0.28334360279837956, 4.554425491113791], [1.264752985534391, -3.8925157884546686, 2.0464230925690106], [-3.3214639028851622, -2.4896404858447325, 2.150639542227654], [-3.311163596895427, 2.40569285113995, 2.0464011106786812], [1.391072258757295, 3.881712547133028, 1.8371618872267628], [4.058330461310838, -0.2719508601366334, 1.8081615080786784], [-1.2647438377188622, -3.8925245957365804, -2.046405726039733], [-4.119004347123957, -0.16837192203545548, -2.0001946245515403], [-1.26474396379167, 3.8924895111815556, -2.046422400538924]  …  [2.291646027044527, 6.632921447368843, -4.240365077292476], [6.5594487104586, 4.765688045720408, -4.053952548518178], [6.713184197946128, -2.1916113212552402e-5, -4.1489556556605045], [6.51029122857267, -5.092511176864818, -4.522549923721884], [-1.2820847296802604, -3.9459310282596545, -6.7131655686332365], [-4.288731869625354, 0.10838677909583672, -6.395188119503219], [-1.282084857808603, 3.9458759515720923, -6.71318247198198], [3.4527951452228534, 2.569207186616336, -6.847235336341321], [2.9674298645695014, -2.490160824010094, -6.811578580024219], [0.08326123263131963, -0.3335987866142378, -9.54171887661377]], SphericalBC{Float64}(514.2332609265956)), [0.0 20.82532040292329 … 61.404056190076886 91.1626167899106; 20.82532040292329 0.0 … 145.96717799038728 199.09895912659607; … ; 61.404056190076886 145.96717799038728 … 0.0 20.422854557655207; 91.1626167899106 199.09895912659607 … 20.422854557655207 0.0], [-0.1509356100521821, -0.15774071850849722, -0.15765486965819847, -0.15759491063885664, -0.16102986428163435, -0.15688455900237241, -0.1584505171673354, -0.15533688961557088, -0.1577137466102671, -0.16616524255189954  …  -0.10045329813489667, -0.08934003969687018, -0.10203926021506962, -0.08052678213524064, -0.11027982617530399, -0.1007595887824746, -0.10035405636392355, -0.0990466534269587, -0.10804536504103027, -0.07720078971822786], -6.1221984031440835, Float64[], [0.7956192430720048, 0.01, 1.0], [67, 67], [0, 0], [0, 0], [0, 0], [-0.15144694121483301, -0.15484188209073005, -0.15775672534739277, -0.1569228924433437, -0.1610724139747057, -0.15710589412104037, -0.15875186747738612, -0.15553701188556632, -0.1578069651262982, -0.16616395657982047  …  -0.10045329813489667, -0.08934003969687018, -0.10203926021506962, -0.08052678213524064, -0.11027982617530399, -0.1007595887824746, -0.10035405636392355, -0.0990466534269587, -0.10804536504103027, -0.07720078971822786], [0.9301549737851618 0.7561350899707998 … 0.4691567444564293 0.3016354893739549; 0.0 0.0 … 0.0 0.0; … ; 0.0 0.0 … 0.0 0.0; 0.0 0.0 … 0.0 0.0], [1.0 0.6507779902242445 … 0.2174872060375167 0.06025506876223796; 0.6507779902242445 1.0 … 0.0 0.0; … ; 0.2174872060375167 0.0 … 1.0 0.6566197338588108; 0.06025506876223796 0.0 … 0.6566197338588108 1.0], [0.9285686032128677 0.7535845421052868 … 0.4691567444564293 0.3016354893739549; 0.0 0.0 … 0.0 0.0; … ; 0.0 0.0 … 0.0 0.0; 0.0 0.0 … 0.0 0.0], [65.86951521599482, 25.767909603999613, 49.44434909970631, 21.7787206385941, 46.12174121233627, 90.40728810967623, 89.8316512113366, 86.37846843625944, 82.7412370118559, 124.17270460511504  …  239.9552222277198, 274.9156215963969, 234.3185095714572, 239.66493334693087, 190.81222861433363, 180.91871978605667, 229.12491664381136, 262.4682444222189, 229.82256384730252, 285.8212728226882], [0.18637053752603172, 0.5817578757956194, 0.3156662686063183, 0.6370740727745651, 0.3470076867555422, 0.06289499343236932, 0.06494990174332216, 0.07807065146215059, 0.09339918185522555, 0.0007275779402269866  …  0.0, 0.0, 0.0, 0.0, 0.0, 0.0, 0.0, 0.0, 0.0, 0.0]), NNPState{Float64, 55, SphericalBC{Float64}}(641.4487407152698, 492.28405205220497, Config{55, SphericalBC{Float64}, Float64}(StaticArraysCore.SVector{3, Float64}[[4.5112139495856e-6, -1.3138293967695e-5, 3.4601504321700004e-7], [-3.980885942754e-6, -3.3375035158614e-6, 4.575916827038472], [1.264752985534391, -3.8925157884546686, 2.0464230925690106], [-3.6793519080730044, -2.3893151433164284, 2.048498719870663], [-3.311163596895427, 2.40569285113995, 2.0464011106786812], [1.264752859461583, 3.8924983184634674, 2.046406418069819], [4.092824837722801, -8.6887460654154e-6, 2.046420003785219], [-1.2647438377188622, -3.8925245957365804, -2.046405726039733], [-4.125832307710173, 0.16925206067514342, -2.100055282633754], [-1.519362289455761, 3.91181582899287, -2.2202183524819104]  …  [2.0744963372369405, 6.384583971948036, -4.148977939714466], [6.86637855834478, 4.782337248930138, -4.07739295349235], [6.557168489026791, -0.18646802585243627, -4.38970859408245], [6.730155942601156, -5.099925254563036, -3.897299332646955], [-1.2820847296802604, -3.9459310282596545, -6.7131655686332365], [-3.9915426624749677, -0.004064684811147662, -6.880877203314854], [-1.2086896650589043, 4.229061874101481, -6.7338873297373265], [3.3566029234199006, 2.4386750098556425, -6.71317063552679], [3.171055957108682, -2.5107038043868863, -6.691355428983203], [2.1333711654662402e-5, -3.25548767294442e-5, -9.06491829912888]], SphericalBC{Float64}(514.2332609265956)), [0.0 20.93901164147001 … 61.13337700091956 82.17275004373793; 20.93901164147001 0.0 … 143.31066205607863 186.07238294077558; … ; 61.13337700091956 143.31066205607863 … 0.0 21.992731404433805; 82.17275004373793 186.07238294077558 … 21.992731404433805 0.0], [-0.14618642408257898, -0.15739318889005485, -0.15607515411918407, -0.15370211380185997, -0.15572930469195825, -0.1576529627821412, -0.1555635755073031, -0.15350634794841525, -0.15501049564137934, -0.1628243858838562  …  -0.10539474021585946, -0.08374513751393423, -0.09991974379754978, -0.08303922221894805, -0.10175301357699584, -0.10072405980148402, -0.10175431337179197, -0.10262233759047473, -0.10410700424771938, -0.08741489423975651], -6.14493124184248, Float64[], [0.8009049511117221, 0.01, 1.0], [68, 68], [0, 0], [0, 0], [0, 0], [-0.14596207038957157, -0.15881514854066248, -0.15441686710636673, -0.14939057945326817, -0.15783771592684856, -0.15703850147795703, -0.15544628550962894, -0.15075619751074304, -0.15449742851991938, -0.16241609510319974  …  -0.10539474021585946, -0.08374513751393423, -0.09991974379754978, -0.08303922221894805, -0.10194859035400747, -0.10079932152392584, -0.10175449992559171, -0.10262233759047473, -0.10410553180603593, -0.08741489423975651], [0.9161081553707889 0.7418127233677402 … 0.46250777887245875 0.3471155047209305; 0.0 0.0 … 0.0 0.0; … ; 0.0 0.0 … 0.0 0.0; 0.0 0.0 … 0.0 0.0], [1.0 0.6491338983343238 … 0.21946687212029886 0.09593833408183039; 0.6491338983343238 1.0 … 0.0 0.0; … ; 0.21946687212029886 0.0 … 1.0 0.634023839401427; 0.09593833408183039 0.0 … 0.634023839401427 1.0], [0.9163807130328803 0.7438313653436608 … 0.4624474205290005 0.3471155047209305; 0.0 0.0 … 0.0 0.0; … ; 0.0 0.0 … 0.0 0.0; 0.0 0.0 … 0.0 0.0], [23.15432035142211, 23.454831283324697, 28.59266975505176, 0.0, 19.819618332722765, 60.053848360627015, 65.47589233048191, 28.132815615642045, 23.912196069570975, 60.15277241538797  …  145.46573526869233, 198.87133448957243, 153.54468056889405, 156.95348363949807, 90.17709351313731, 87.59638204500112, 126.26725924318903, 150.67405332284972, 128.03899270410318, 146.2120670140019], [0.6176326584832914, 0.6134372082227681, 0.5445223915505669, 1.0, 0.6654391256621065, 0.2274703868928516, 0.18899805616329096, 0.5504767052370894, 0.607087275913016, 0.22672974834525927  …  0.0, 0.0, 0.0, 0.0, 0.06371226255502538, 0.07328632919265665, 0.00019628807605659437, 0.0, 9.776114461179652e-6, 0.0]), NNPState{Float64, 55, SphericalBC{Float64}}(650.0, 485.8076696355341, Config{55, SphericalBC{Float64}, Float64}(StaticArraysCore.SVector{3, Float64}[[4.5112139495856e-6, -1.3138293967695e-5, 3.4601504321700004e-7], [-3.980885942754e-6, -3.3375035158614e-6, 4.575916827038472], [1.6257092848642207, -3.793805632350212, 1.9379487638397077], [-3.1547354795546294, -2.1769779884995346, 1.9405377874922813], [-2.9073052110070003, 2.9652994235349475, 2.24091467454774], [1.264752859461583, 3.8924983184634674, 2.046406418069819], [4.104946039782038, -0.1300121483198206, 1.8813450776021425], [-1.2647438377188622, -3.8925245957365804, -2.046405726039733], [-4.027010910897034, 0.2310224786138506, -1.8119551343647569], [-1.26474396379167, 3.8924895111815556, -2.046422400538924]  …  [1.777895318939036, 6.614586088932893, -4.217436036190342], [6.510830472888962, 4.731206079005169, -4.298134400589899], [6.713184197946128, -2.1916113212552402e-5, -4.1489556556605045], [6.29833785579184, -5.22626152496329, -4.041223677265264], [-1.00499225752962, -3.8643924203622806, -6.67199358538006], [-3.7922712232325098, -0.13926360351925265, -6.420587450495535], [-1.4829031324772286, 4.154896863310279, -6.930946807555714], [3.227591764505995, 2.8331472465993564, -6.747651301558743], [3.408414587399934, -2.1380501125812565, -6.714775082033219], [-0.02511809480691562, -0.015093480827452736, -8.971963981095248]], SphericalBC{Float64}(514.2332609265956)), [0.0 20.93901164147001 … 61.276670399986415 80.49700244900382; 20.93901164147001 0.0 … 143.6682849346332 183.54593282254152; … ; 61.276670399986415 143.6682849346332 … 0.0 21.390993266138874; 80.49700244900382 183.54593282254152 … 21.390993266138874 0.0], [-0.15269741074355145, -0.16052496885031795, -0.15969699239344326, -0.1489584728122133, -0.15586174256645316, -0.1589839103856334, -0.16002142525495888, -0.1600204337757165, -0.14555814728142208, -0.1565477503716343  …  -0.10222613731158897, -0.08617599452498859, -0.10106373390886259, -0.08336426176723033, -0.10388623371330138, -0.10553910093325275, -0.09869575843902353, -0.10263088450540903, -0.10228201255406016, -0.0874532334095647], -6.13585884091945, Float64[], [0.8062257748298549, 0.01, 1.0], [60, 60], [0, 0], [0, 0], [0, 0], [-0.15269741074355145, -0.16052496885031795, -0.15969699239344326, -0.1489584728122133, -0.15586174256645316, -0.1589839103856334, -0.16002142525495888, -0.1600204337757165, -0.14555814728142208, -0.1565477503716343  …  -0.10222613731158897, -0.08617599452498859, -0.10106373390886259, -0.08336426176723033, -0.10388623371330138, -0.10553910093325275, -0.09869575843902353, -0.10263088450540903, -0.10228201255406016, -0.0874532334095647], [0.9322790505986726 0.7623148412225894 … 0.46881334409243103 0.3527631635939843; 0.0 0.0 … 0.0 0.0; … ; 0.0 0.0 … 0.0 0.0; 0.0 0.0 … 0.0 0.0], [1.0 0.6491338983343238 … 0.21841751770941376 0.10365286454656031; 0.6491338983343238 1.0 … 0.0 0.0; … ; 0.21841751770941376 0.0 … 1.0 0.6426243879179863; 0.10365286454656031 0.0 … 0.6426243879179863 1.0], [0.9322790505986726 0.7623148412225894 … 0.46881334409243103 0.3527631635939843; 0.0 0.0 … 0.0 0.0; … ; 0.0 0.0 … 0.0 0.0; 0.0 0.0 … 0.0 0.0], [63.657997329601876, 82.66115514638777, 144.36221568167463, 115.5966891939176, 37.28815861078501, 21.81118138660327, 85.89241178742493, 147.38283656475662, 79.75334475382408, 23.203910557462994  …  24.871115987647887, 74.12959268291156, 128.59287478469201, 232.88915901563507, 188.44553117606168, 123.71203886722743, 67.61658111593323, 85.72773483821706, 162.33547352841092, 148.18748720048333], [0.2014203032154797, 0.09375449495540478, 0.0, 0.0065858791169357, 0.43954927387396364, 0.636610809842577, 0.08002832184823605, 0.0, 0.10718738280796153, 0.6169390548717096  …  0.5939117993798624, 0.13618267764724107, 0.0, 0.0, 0.0, 0.000890356833881556, 0.17497265385038907, 0.08069787149149144, 0.0, 0.0])], MoveStrategy{55, 0, 0}(), MCParams(200, 40, 1, 15, 55, 100), RuNNerPotential(NeuralNetworkPotential(4, 2221, Int32[88, 20, 20, 1], Int32[1, 2, 2, 1], [-1.0768943782, 0.3563458393, -1.3084861447, 0.1127640916, -0.5646591931, -0.4969830793, 1.423770514, -0.2005662393, -0.8957859374, 0.6076110858  …  0.1939524848, -0.0342903191, -0.0231042009, 0.0718481968, -0.0828320122, -0.0728501885, 0.0306628826, 0.0486053813, -0.0867018862, 0.0441651841]), AbstractSymmFunction[RadialType2{Float64}(0.001, 11.338, [1.0, 1.0], -0.029892621990594427, 0.06634475788973929), RadialType2{Float64}(0.001, 11.338, [1.0, 0.0], -0.0, 0.09828103647521905), RadialType2{Float64}(0.02, 11.338, [1.0, 1.0], -0.013430592462258787, 0.13321466604629645), RadialType2{Float64}(0.02, 11.338, [1.0, 0.0], -0.0, 0.18618835781674212), RadialType2{Float64}(0.035, 11.338, [1.0, 1.0], -0.0067056953127401205, 0.2093521117141925), RadialType2{Float64}(0.035, 11.338, [1.0, 0.0], -0.0, 0.28571045376567983), RadialType2{Float64}(0.1, 11.338, [1.0, 1.0], -0.00026435144512647774, 0.9364998977117353), RadialType2{Float64}(0.1, 11.338, [1.0, 0.0], -0.0, 1.3813391986837495), RadialType2{Float64}(0.4, 11.338, [1.0, 1.0], -0.0, 113.41978340450804), RadialType2{Float64}(0.4, 11.338, [1.0, 0.0], -0.0, 181.5238491478726)  …  AngularType3{Float64}(0.08, 1.0, 1.0, 11.338, [1.0, 0.0, 0.0], 28.188019161651663, -0.0), AngularType3{Float64}(0.08, -1.0, 2.0, 11.338, [1.0, 1.0, 1.0], 43.664583342066244, -0.0), AngularType3{Float64}(0.08, -1.0, 2.0, 11.338, [1.0, 1.0, 0.0], 75.80324146789036, -0.0), AngularType3{Float64}(0.08, -1.0, 2.0, 11.338, [1.0, 0.0, 0.0], 96.88497370251159, -0.0), AngularType3{Float64}(0.08, -1.0, 4.0, 11.338, [1.0, 1.0, 1.0], 61.44604668424842, -0.0), AngularType3{Float64}(0.08, -1.0, 4.0, 11.338, [1.0, 1.0, 0.0], 107.84685056999218, -0.0), AngularType3{Float64}(0.08, -1.0, 4.0, 11.338, [1.0, 0.0, 0.0], 154.53409207512087, -0.0), AngularType3{Float64}(0.08, 1.0, 4.0, 11.338, [1.0, 1.0, 1.0], 3.1599692466736964, -2.5279753973389573e-8), AngularType3{Float64}(0.08, 1.0, 4.0, 11.338, [1.0, 1.0, 0.0], 4.790647185008049, -0.0), AngularType3{Float64}(0.08, 1.0, 4.0, 11.338, [1.0, 0.0, 0.0], 9.119962306101394, -0.0)], 11.338), NVT(55), Output{Float64}(100, 0.0, 0.0, Float64[], Float64[], Float64[], Vector{Float64}[], Matrix{Float64}[], Vector{Float64}[], Float64[], Float64[], Float64[], Float64[]))"
      ]
     },
     "metadata": {},
     "output_type": "display_data"
    }
   ],
   "source": [
    "input = (mc_states,move_strat,mc_params,runnerpotential,ensemble,results)"
   ]
  },
  {
   "attachments": {},
   "cell_type": "markdown",
   "metadata": {},
   "source": [
    "In order to proceed further there are some very important features to include: we require sampling_step! save_states and finalise_results to be written in a way that includes the necessary NNPState information. This can easily be tested below. Also exch_trajectories"
   ]
  },
  {
   "cell_type": "code",
   "execution_count": 17,
   "metadata": {},
   "outputs": [],
   "source": [
    "#@time ptmc_run!(input)"
   ]
  },
  {
   "cell_type": "code",
   "execution_count": 18,
   "metadata": {},
   "outputs": [],
   "source": []
  }
 ],
 "metadata": {
  "kernelspec": {
   "display_name": "Julia 1.8.5",
   "language": "julia",
   "name": "julia-1.8"
  },
  "language_info": {
   "file_extension": ".jl",
   "mimetype": "application/julia",
   "name": "julia",
   "version": "1.8.5"
  },
  "orig_nbformat": 4
 },
 "nbformat": 4,
 "nbformat_minor": 2
}
