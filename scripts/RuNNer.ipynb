{
 "cells": [
  {
   "cell_type": "code",
   "execution_count": 1,
   "metadata": {},
   "outputs": [],
   "source": [
    "using ParallelTemperingMonteCarlo, BenchmarkTools, DelimitedFiles, Random"
   ]
  },
  {
   "cell_type": "code",
   "execution_count": 2,
   "metadata": {},
   "outputs": [],
   "source": [
    "using SplitApplyCombine"
   ]
  },
  {
   "attachments": {},
   "cell_type": "markdown",
   "metadata": {},
   "source": [
    "Completed the MLP module based on the librunner.so file written by A. Knoll. Time to use this in PTMC simulations so I can finally generate results. This requires the librunnerjulia file and use of the MLP package."
   ]
  },
  {
   "attachments": {},
   "cell_type": "markdown",
   "metadata": {},
   "source": [
    "First: establishing the struct.\n",
    "\n",
    "This requires the symmetry functions, the nnp values itself, the g and f matrices used in the calculation and a dummy vector new_f_vec to preassign memory for later. I'd prefer to point to the nnp and symmetryfunction structs rather than save copies, I'll look into this later. "
   ]
  },
  {
   "cell_type": "code",
   "execution_count": 3,
   "metadata": {},
   "outputs": [],
   "source": [
    "# struct  RuNNerPotential <: AbstractMachineLearningPotential\n",
    "#     nnp::NeuralNetworkPotential\n",
    "#     symmetryfunctions::Vector{AbstractSymmFunction}\n",
    "#     r_cut::Float64\n",
    "# end\n",
    "# function RuNNerPotential(nnp,symmetryfunction)\n",
    "#     r_cut = symmetryfunction[1].r_cut\n",
    "#     return RuNNerPotential(nnp,symmetryfunction,r_cut)\n",
    "# end\n"
   ]
  },
  {
   "attachments": {},
   "cell_type": "markdown",
   "metadata": {},
   "source": [
    "The challenge is potentials are not unique to each given state, meaning that g_matrix, f_matrix need to be part of the mc_state, not necessarily part of an immutable potential. They could be a vector of these matrices but this seems prohibitive. It's possible to assign them to mc_states? Have an NNP subtype?\n"
   ]
  },
  {
   "cell_type": "code",
   "execution_count": 4,
   "metadata": {},
   "outputs": [],
   "source": [
    "# mutable struct NNPState{T,N,BC}\n",
    "#     temp::T\n",
    "#     beta::T\n",
    "#     config::Config{N,BC,T}\n",
    "#     dist2_mat::Matrix{T}\n",
    "#     en_atom_vec::Vector{T}\n",
    "#     en_tot::T\n",
    "#     ham::Vector{T}\n",
    "#     max_displ::Vector{T}\n",
    "#     count_atom::Vector{Int}\n",
    "#     count_vol::Vector{Int}\n",
    "#     count_rot::Vector{Int}\n",
    "#     count_exc::Vector{Int}\n",
    "\n",
    "#     new_en_atom::Vector{T}\n",
    "\n",
    "#     g_matrix::Array{T}\n",
    "#     f_matrix::Array{T}\n",
    "\n",
    "#     new_g_matrix::Array{T}\n",
    "#     new_dist2_vec::Vector{T}\n",
    "#     new_f_vec::Vector{T}\n",
    "# end\n",
    "\n",
    "\n",
    "# function NNPState(\n",
    "#     temp, beta, config::Config{N,BC,T}, dist2_mat, en_atom_vec, en_tot,n_symm_func,g_matrix,f_matrix; \n",
    "#     max_displ = [0.1,0.1,1.], count_atom = [0,0], count_vol = [0,0], count_rot = [0,0], count_exc = [0,0]\n",
    "# ) where {T,N,BC}\n",
    "#     ham = T[]\n",
    "#     NNPState{T,N,BC}(\n",
    "#         temp, beta, deepcopy(config), copy(dist2_mat), copy(en_atom_vec), en_tot, \n",
    "#         ham, copy(max_displ), copy(count_atom), copy(count_vol), copy(count_rot), copy(count_exc),zeros(length(config.pos)),g_matrix,f_matrix,zeros(n_symm_func,length(config.pos)),zeros(length(config.pos)),zeros(length(config.pos))\n",
    "#         )\n",
    "# end\n",
    "# function NNPState(temp,beta, config::Config, pot::RuNNerPotential;kwargs...)\n",
    "#     dist2_mat = get_distance2_mat(config)\n",
    "#     f_matrix = cutoff_function.(sqrt.(dist2_mat),Ref(pot.r_cut))\n",
    "#     n_atoms = length(config.pos)\n",
    "#     g_matrix = total_symm_calc(config.pos,dist2_mat,f_matrix,pot.symmetryfunctions)\n",
    "\n",
    "\n",
    "#     en_atom_vec = zeros(n_atoms)\n",
    "#     en_tot = 0.\n",
    "\n",
    "#     NNPState(temp, beta, config, dist2_mat, en_atom_vec, en_tot,length(pot.symmetryfunctions),g_matrix,f_matrix ; kwargs...)\n",
    "\n",
    "# end"
   ]
  },
  {
   "attachments": {},
   "cell_type": "markdown",
   "metadata": {},
   "source": [
    "Functionally, this definition allows us to initialise the runner potential, the state and then use them to define the new potential specific state with the g_matrix included. "
   ]
  },
  {
   "cell_type": "code",
   "execution_count": 5,
   "metadata": {},
   "outputs": [],
   "source": [
    "# function initial_energy_calculation(nnp_state,runner_pot)\n",
    "#     n_atoms = length(nnp_state.config.pos)\n",
    "\n",
    "#     nnp_state.g_matrix = total_symm_calc(nnp_state.config.pos,nnp_state.dist2_mat,nnp_state.f_matrix,runner_pot.symmetryfunctions)\n",
    "\n",
    "#     nnp_state.en_atom_vec = forward_pass(nnp_state.g_matrix,n_atoms,runner_pot.nnp)\n",
    "\n",
    "#     nnp_state.en_tot = sum(nnp_state.en_atom_vec)\n",
    "\n",
    "#     return nnp_state\n",
    "# end"
   ]
  },
  {
   "attachments": {},
   "cell_type": "markdown",
   "metadata": {},
   "source": [
    "Critically, we require the get_energy function as defined in energyevaluation. Once this is done, we can simulate NNP's. \n",
    "\n",
    "Note-- This is done with the following input/output\n",
    "\n",
    "input:  trial_positions,indices,mc_states,pot\n",
    "\n",
    "the new positions, the new indices for them, the current states and the potential.\n",
    "\n",
    "output:  energy_vector, dist2_new\n",
    "\n",
    "\n"
   ]
  },
  {
   "cell_type": "code",
   "execution_count": 6,
   "metadata": {},
   "outputs": [],
   "source": [
    "# function get_new_state_vars!(trial_pos,atomindex,nnp_state,pot)\n",
    "#     nnp_state.new_dist2_vec = [ distance2(trial_pos,b,nnp_state.config.bc) for b in nnp_state.config.pos]\n",
    "\n",
    "#     nnp_state.new_dist2_vec[atomindex] = 0.\n",
    "    \n",
    "#     nnp_state.new_f_vec = cutoff_function.(sqrt.(nnp_state.new_dist2_vec),Ref(pot.r_cut))\n",
    "\n",
    "\n",
    "#     nnp_state.new_g_matrix = copy(nnp_state.g_matrix)\n",
    "\n",
    "#     nnp_state.new_g_matrix = total_thr_symm!(nnp_state.new_g_matrix,nnp_state.config.pos,trial_pos,nnp_state.dist2_mat,nnp_state.new_dist2_vec,nnp_state.f_matrix,nnp_state.new_f_vec,atomindex,pot.symmetryfunctions)\n",
    "\n",
    "#     return nnp_state\n",
    "# end\n",
    "\n",
    "# function calc_new_energy!(nnp_state,pot)\n",
    "#     nnp_state.new_en_atom = forward_pass(nnp_state.new_g_matrix,length(nnp_state.en_atom_vec),pot.nnp)\n",
    "#     return nnp_state\n",
    "# end\n",
    "\n",
    "# function get_runner_energy!(trial_pos,atomindex,nnp_state,pot)\n",
    "#     nnp_state = get_new_state_vars!(trial_pos,atomindex,nnp_state,pot)\n",
    "\n",
    "#     nnp_state = calc_new_energy!(nnp_state,pot)\n",
    "    \n",
    "#     return sum(nnp_state.new_en_atom) , nnp_state\n",
    "# end\n",
    "\n",
    "# function get_energy!(trial_positions,indices,nnp_states,pot::RuNNerPotential)\n",
    "#     energyvector = Vector{Float64}(undef,length(indices))\n",
    "#     # for idx in eachindex(nnp_states)\n",
    "#     #     energyvector[idx],nnp_states[idx] = get_runner_energy!(trial_positions[idx],indices[idx],nnp_states[idx],pot)\n",
    "#     # end\n",
    "#     energyvector,nnp_states = invert(get_runner_energy!.(trial_positions,indices,nnp_states,Ref(pot)))\n",
    "    \n",
    "#     return energyvector, nnp_states\n",
    "# end"
   ]
  },
  {
   "attachments": {},
   "cell_type": "markdown",
   "metadata": {},
   "source": [
    "Ideally the function above now works the way it's intended in the simulation, other than the natural output being different from other methods. As a result of this we may want to have the g_new_matrix being part of the nnp_state struct, as it preserves the total form of the mc_step function"
   ]
  },
  {
   "attachments": {},
   "cell_type": "markdown",
   "metadata": {},
   "source": [
    "# Initialisation \n",
    "\n",
    "The next major step is to implement a more definitive initialisation. This is somewhat restricted by the purge of .data files, but we can point to directories containing the weights and scaling data. \n",
    "\n",
    "Beyond this we need to point to symmetry function values, distributed over sets of atom types. "
   ]
  },
  {
   "cell_type": "code",
   "execution_count": 3,
   "metadata": {},
   "outputs": [
    {
     "data": {
      "text/plain": [
       "RuNNerPotential(NeuralNetworkPotential(4, 2221, Int32[88, 20, 20, 1], Int32[1, 2, 2, 1], [-1.0768943782, 0.3563458393, -1.3084861447, 0.1127640916, -0.5646591931, -0.4969830793, 1.423770514, -0.2005662393, -0.8957859374, 0.6076110858  …  0.1939524848, -0.0342903191, -0.0231042009, 0.0718481968, -0.0828320122, -0.0728501885, 0.0306628826, 0.0486053813, -0.0867018862, 0.0441651841]), AbstractSymmFunction[RadialType2{Float64}(0.001, 11.338, [1.0, 1.0], -0.029892621990594427, 0.06634475788973929), RadialType2{Float64}(0.001, 11.338, [1.0, 0.0], -0.0, 0.09828103647521905), RadialType2{Float64}(0.02, 11.338, [1.0, 1.0], -0.013430592462258787, 0.13321466604629645), RadialType2{Float64}(0.02, 11.338, [1.0, 0.0], -0.0, 0.18618835781674212), RadialType2{Float64}(0.035, 11.338, [1.0, 1.0], -0.0067056953127401205, 0.2093521117141925), RadialType2{Float64}(0.035, 11.338, [1.0, 0.0], -0.0, 0.28571045376567983), RadialType2{Float64}(0.1, 11.338, [1.0, 1.0], -0.00026435144512647774, 0.9364998977117353), RadialType2{Float64}(0.1, 11.338, [1.0, 0.0], -0.0, 1.3813391986837495), RadialType2{Float64}(0.4, 11.338, [1.0, 1.0], -0.0, 113.41978340450804), RadialType2{Float64}(0.4, 11.338, [1.0, 0.0], -0.0, 181.5238491478726)  …  AngularType3{Float64}(0.08, 1.0, 1.0, 11.338, [1.0, 0.0, 0.0], 28.188019161651663, -0.0), AngularType3{Float64}(0.08, -1.0, 2.0, 11.338, [1.0, 1.0, 1.0], 43.664583342066244, -0.0), AngularType3{Float64}(0.08, -1.0, 2.0, 11.338, [1.0, 1.0, 0.0], 75.80324146789036, -0.0), AngularType3{Float64}(0.08, -1.0, 2.0, 11.338, [1.0, 0.0, 0.0], 96.88497370251159, -0.0), AngularType3{Float64}(0.08, -1.0, 4.0, 11.338, [1.0, 1.0, 1.0], 61.44604668424842, -0.0), AngularType3{Float64}(0.08, -1.0, 4.0, 11.338, [1.0, 1.0, 0.0], 107.84685056999218, -0.0), AngularType3{Float64}(0.08, -1.0, 4.0, 11.338, [1.0, 0.0, 0.0], 154.53409207512087, -0.0), AngularType3{Float64}(0.08, 1.0, 4.0, 11.338, [1.0, 1.0, 1.0], 3.1599692466736964, -2.5279753973389573e-8), AngularType3{Float64}(0.08, 1.0, 4.0, 11.338, [1.0, 1.0, 0.0], 4.790647185008049, -0.0), AngularType3{Float64}(0.08, 1.0, 4.0, 11.338, [1.0, 0.0, 0.0], 9.119962306101394, -0.0)], 11.338)"
      ]
     },
     "metadata": {},
     "output_type": "display_data"
    }
   ],
   "source": [
    "#-------------------------------------------#\n",
    "#--------Vector of radial symm values-------#\n",
    "#-------------------------------------------#\n",
    "X = [ 1    1              0.001   0.000  11.338\n",
    " 1    0              0.001   0.000  11.338\n",
    " 1    1              0.020   0.000  11.338\n",
    " 1    0              0.020   0.000  11.338\n",
    " 1    1              0.035   0.000  11.338\n",
    " 1    0              0.035   0.000  11.338\n",
    " 1    1              0.100   0.000  11.338\n",
    " 1    0              0.100   0.000  11.338\n",
    " 1    1              0.400   0.000  11.338\n",
    " 1    0              0.400   0.000  11.338]\n",
    "\n",
    "radsymmvec = []\n",
    "\n",
    "\n",
    "#--------------------------------------------#\n",
    "#--------Vector of angular symm values-------#\n",
    "#--------------------------------------------#\n",
    "V = [[0.0001,1,1,11.338],[0.0001,-1,2,11.338],[0.003,-1,1,11.338],[0.003,-1,2,11.338],[0.008,-1,1,11.338],[0.008,-1,2,11.338],[0.008,1,2,11.338],[0.015,1,1,11.338],[0.015,-1,2,11.338],[0.015,-1,4,11.338],[0.015,-1,16,11.338],[0.025,-1,1,11.338],[0.025,1,1,11.338],[0.025,1,2,11.338],[0.025,-1,4,11.338],[0.025,-1,16,11.338],[0.025,1,16,11.338],[0.045,1,1,11.338],[0.045,-1,2,11.338],[0.045,-1,4,11.338],[0.045,1,4,11.338],[0.045,1,16,11.338],[0.08,1,1,11.338],[0.08,-1,2,11.338],[0.08,-1,4,11.338],[0.08,1,4,11.338]]\n",
    "\n",
    "T = [[1.,1.,1.],[1.,1.,0.],[1.,0.,0.]]\n",
    "\n",
    "angularsymmvec = []\n",
    "#-------------------------------------------#\n",
    "#-----------Including scaling data----------#\n",
    "#-------------------------------------------#\n",
    "file = open(\"$(pwd())/scaling.data\")\n",
    "scalingvalues = readdlm(file)\n",
    "close(file)\n",
    "G_value_vec = []\n",
    "for row in eachrow(scalingvalues[1:88,:])\n",
    "    max_min = [row[4],row[3]]\n",
    "    push!(G_value_vec,max_min)\n",
    "end\n",
    "\n",
    "\n",
    "for symmindex in eachindex(eachrow(X))\n",
    "    row = X[symmindex,:]\n",
    "    radsymm = RadialType2{Float64}(row[3],row[5],[row[1],row[2]],G_value_vec[symmindex])\n",
    "    push!(radsymmvec,radsymm)\n",
    "end\n",
    "\n",
    "n_index = 10\n",
    "for element in V\n",
    "    for types in T \n",
    "        \n",
    "        n_index += 1\n",
    "\n",
    "        symmfunc = AngularType3{Float64}(element[1],element[2],element[3],11.338,types,G_value_vec[n_index])\n",
    "\n",
    "        push!(angularsymmvec,symmfunc)\n",
    "    end\n",
    "end\n",
    "#---------------------------------------------------#\n",
    "#------concatenating radial and angular values------#\n",
    "#---------------------------------------------------#\n",
    "\n",
    "totalsymmvec = vcat(radsymmvec,angularsymmvec)\n",
    "\n",
    "\n",
    "#--------------------------------------------------#\n",
    "#-----------Initialising the nnp weights-----------#\n",
    "#--------------------------------------------------#\n",
    "num_nodes::Vector{Int32} = [88, 20, 20, 1]\n",
    "activation_functions::Vector{Int32} = [1, 2, 2, 1]\n",
    "file = open(\"weights.029.data\",\"r+\")\n",
    "weights=readdlm(file)\n",
    "close(file)\n",
    "weights = vec(weights)\n",
    "nnp = NeuralNetworkPotential(num_nodes,activation_functions,weights)\n",
    "\n",
    "runnerpotential = RuNNerPotential(nnp,totalsymmvec)"
   ]
  },
  {
   "cell_type": "code",
   "execution_count": 4,
   "metadata": {},
   "outputs": [
    {
     "data": {
      "text/plain": [
       "Output{Float64}(100, 0.0, 0.0, Float64[], Float64[], Float64[], Vector{Float64}[], Matrix{Float64}[], Vector{Float64}[], Float64[], Float64[], Float64[], Float64[])"
      ]
     },
     "metadata": {},
     "output_type": "display_data"
    }
   ],
   "source": [
    "Random.seed!(1234)\n",
    "n_atoms = 55\n",
    "ti = 600\n",
    "tf = 950\n",
    "n_traj = 20\n",
    "temp = TempGrid{n_traj}(ti,tf) \n",
    "mc_cycles = 250\n",
    "mc_sample = 1\n",
    "displ_atom = 0.1 # Angstrom\n",
    "n_adjust = 100\n",
    "max_displ_atom = [0.1*sqrt(displ_atom*temp.t_grid[i]) for i in 1:n_traj]\n",
    "\n",
    "mc_params = MCParams(mc_cycles, n_traj, n_atoms, mc_sample = mc_sample, n_adjust = n_adjust)\n",
    "move_strat = MoveStrategy(atom_moves = n_atoms) \n",
    "ensemble = NVT(n_atoms)\n",
    "ico_55 = [[0.0000006584,       -0.0000019175,        0.0000000505],\n",
    "[-0.0000005810,       -0.0000004871,        0.6678432175],\n",
    "[0.1845874248,       -0.5681026047,        0.2986701538],\n",
    "[-0.4832557457,       -0.3511072166,        0.2986684497],\n",
    "[-0.4832557570,        0.3511046452,        0.2986669456],\n",
    "[0.1845874064,        0.5681000550,        0.2986677202],\n",
    "[0.5973371920,       -0.0000012681,        0.2986697030],\n",
    "[-0.1845860897,       -0.5681038901,       -0.2986676192],\n",
    "[-0.5973358752,       -0.0000025669,       -0.2986696020],\n",
    "[-0.1845861081,        0.5680987696,       -0.2986700528],\n",
    "[0.4832570624,        0.3511033815,       -0.2986683486],\n",
    "[0.4832570738,       -0.3511084803,       -0.2986668445],\n",
    "[0.0000018978,       -0.0000033480,       -0.6678431165],\n",
    "[-0.0000017969,        0.0000009162,        1.3230014650],\n",
    "[0.1871182835,       -0.5758942175,        0.9797717078],\n",
    "[-0.4898861924,       -0.3559221410,       0.9797699802],\n",
    "[-0.4898862039,        0.3559224872,        0.9797684555],\n",
    "[0.1871182648,        0.5758945856,        0.9797692407],\n",
    "[0.6055300485,        0.0000001908,        0.9797712507],\n",
    "[0.7926501864,       -0.5758950093,        0.6055339635],\n",
    "[0.3656681761,       -1.1254128670,        0.5916673591],\n",
    "[-0.3027660545,       -0.9318173412,        0.6055326929],\n",
    "[-0.9573332453,       -0.6955436707,        0.5916639831],\n",
    "[-0.9797705418,       -0.0000006364,        0.6055294407],\n",
    "[-0.9573332679,        0.6955423392,        0.5916610035],\n",
    "[-0.3027660847,        0.9318160902,        0.6055287012],\n",
    "[0.3656681396,        1.1254115783,        0.5916625380],\n",
    "[0.7926501677,        0.5758937939,        0.6055314964],\n",
    "[1.1833279992,       -0.0000006311,        0.5916664660],\n",
    "[0.6770051458,       -0.9318186223,        0.0000033028],\n",
    "[0.0000006771,       -1.1517907207,        0.0000025175],\n",
    "[-0.6770037988,       -0.9318186442,        0.0000007900],\n",
    "[-1.0954155825,       -0.3559242494,       -0.0000012200],\n",
    "[-1.0954155940,        0.3559203788,       -0.0000027447],\n",
    "[-0.6770038290,        0.9318147872,       -0.0000032017],\n",
    "[0.0000006397,        1.1517868856,       -0.0000024165],\n",
    "[0.6770051155,        0.9318148091,       -0.0000006889],\n",
    "[1.0954168993,        0.3559204143,        0.0000013211],\n",
    "[1.0954169108,       -0.3559242139,        0.0000028458],\n",
    "[0.3027674014,       -0.9318199253,       -0.6055286002],\n",
    "[-0.3656668229,       -1.1254154134,       -0.5916624370],\n",
    "[-0.7926488510,       -0.5758976290,       -0.6055313954],\n",
    "[-1.1833266824,       -0.0000032040,       -0.5916663649],\n",
    "[-0.7926488697,        0.5758911742,       -0.6055338624],\n",
    "[-0.3656668594,        1.1254090319,       -0.5916672580],\n",
    "[0.3027673712,        0.9318135061,       -0.6055325919],\n",
    "[0.9573345621,        0.6955398357,       -0.5916638820],\n",
    "[0.9797718586,       -0.0000031986,       -0.6055293396],\n",
    "[0.9573345846,       -0.6955461743,       -0.5916609025],\n",
    "[-0.1871169480,       -0.5758984207,       -0.9797691397],\n",
    "[-0.6055287318,       -0.0000040259,       -0.9797711497],\n",
    "[-0.1871169667,        0.5758903824,       -0.9797716067],\n",
    "[0.4898875091,        0.3559183059,       -0.9797698792],\n",
    "[0.4898875207,       -0.3559263223,       -0.9797683545],\n",
    "[0.0000031136,       -0.0000047513,       -1.3230013639]]\n",
    "#convert to Bohr\n",
    "nmtobohr = 18.8973\n",
    "copperconstant = 0.36258*nmtobohr\n",
    "pos_cu55 = copperconstant*ico_55\n",
    "\n",
    "AtoBohr = 1.8897259886\n",
    "bc_cu55 = SphericalBC(radius=12*AtoBohr)\n",
    "start_config = Config(pos_cu55, bc_cu55)\n",
    "n_bin = 100\n",
    "\n",
    "mc_states = [NNPState(temp.t_grid[i], temp.beta_grid[i], start_config, runnerpotential; max_displ=[max_displ_atom[i],0.01,1.]) for i in 1:n_traj]\n",
    "\n",
    "results = Output{Float64}(n_bin; en_min = mc_states[1].en_tot)\n"
   ]
  },
  {
   "attachments": {},
   "cell_type": "markdown",
   "metadata": {},
   "source": [
    "benchmarking revealed this is faster."
   ]
  },
  {
   "cell_type": "code",
   "execution_count": 9,
   "metadata": {},
   "outputs": [
    {
     "data": {
      "text/plain": [
       "initial_energy_vec (generic function with 1 method)"
      ]
     },
     "metadata": {},
     "output_type": "display_data"
    }
   ],
   "source": [
    "# function initial_energy_vec(nnp_states,potential)\n",
    "#     nnp_states = initial_energy_calculation.(nnp_states,Ref(potential))\n",
    "#     return nnp_states\n",
    "# end\n",
    "function initial_energy_vec(nnp_states,potential)\n",
    "    # nnp_states = initial_energy_calculation.(nnp_states,Ref(potential))\n",
    "    for state in nnp_states \n",
    "        state = initial_energy_calculation(state,potential)\n",
    "    end\n",
    "    return nnp_states\n",
    "end"
   ]
  },
  {
   "cell_type": "code",
   "execution_count": 10,
   "metadata": {},
   "outputs": [
    {
     "ename": "UndefVarError",
     "evalue": "UndefVarError: mc_states not defined",
     "output_type": "error",
     "traceback": [
      "UndefVarError: mc_states not defined\n",
      "\n",
      "Stacktrace:\n",
      " [1] top-level scope\n",
      "   @ ~/Documents/ParallelTemperingMonteCarlo.jl/scripts/RuNNer.ipynb:1"
     ]
    }
   ],
   "source": [
    "mc_states = initial_energy_vec(mc_states,runnerpotential)\n",
    "mc_states[2].en_tot"
   ]
  },
  {
   "cell_type": "code",
   "execution_count": 11,
   "metadata": {},
   "outputs": [],
   "source": [
    "# function testswap_config!(nnp_state,atomindex,trial_pos,new_energy)\n",
    "\n",
    "#     nnp_state.config.pos[atomindex] = trial_pos\n",
    "\n",
    "#     nnp_state.dist2_mat[atomindex,:] = nnp_state.new_dist2_vec\n",
    "#     nnp_state.dist2_mat[:,atomindex] = nnp_state.new_dist2_vec\n",
    "\n",
    "#     nnp_state.f_matrix[atomindex,:] = nnp_state.new_f_vec\n",
    "#     nnp_state.f_matrix[:,atomindex] = nnp_state.new_f_vec\n",
    "\n",
    "#     nnp_state.g_matrix = nnp_state.new_g_matrix\n",
    "\n",
    "#     nnp_state.en_atom_vec = nnp_state.new_en_atom\n",
    "#     nnp_state.en_tot = new_energy\n",
    "\n",
    "#     nnp_state.count_atom[1] +=1\n",
    "#     nnp_state.count_atom[2] +=1\n",
    "\n",
    "#     return nnp_state\n",
    "# end\n",
    "\n",
    "# function test_acc_test!(ensemble, nnp_state, new_energy, i_atom, trial_pos, dist2_new::Float64)\n",
    "\n",
    "#     if metropolis_condition(ensemble,(new_energy - nnp_state.en_tot),nnp_state.beta) >= rand()\n",
    "\n",
    "#         testswap_config!(nnp_state,i_atom,trial_pos,new_energy)\n",
    "\n",
    "#     end\n",
    "\n",
    "# end\n",
    "\n",
    "# function testmc_step!(nnp_states,move_strat,mc_params,potential,ensemble)\n",
    "#     indices,trial_positions = generate_displacements(mc_states,mc_params)\n",
    "    \n",
    "#     energy_vector, nnp_states = get_energy!(trial_positions,indices,nnp_states,potential)\n",
    "\n",
    "#     Threads.@threads for idx in eachindex(nnp_states)\n",
    "#         test_acc_test!(ensemble,nnp_states[idx],energy_vector[idx],indices[idx],trial_positions[idx],0.)\n",
    "#     end\n",
    "\n",
    "#     return nnp_states\n",
    "# end"
   ]
  },
  {
   "cell_type": "code",
   "execution_count": 12,
   "metadata": {},
   "outputs": [
    {
     "ename": "LoadError",
     "evalue": "LoadError: UndefVarError: @benchmark not defined\nin expression starting at /home/ghunter/Documents/ParallelTemperingMonteCarlo.jl/scripts/RuNNer.ipynb:1",
     "output_type": "error",
     "traceback": [
      "LoadError: UndefVarError: @benchmark not defined\n",
      "in expression starting at /home/ghunter/Documents/ParallelTemperingMonteCarlo.jl/scripts/RuNNer.ipynb:1\n"
     ]
    }
   ],
   "source": [
    "@benchmark mc_step!($mc_states,$move_strat,$mc_params,$runnerpotential,$ensemble)"
   ]
  },
  {
   "cell_type": "code",
   "execution_count": 13,
   "metadata": {},
   "outputs": [
    {
     "ename": "UndefVarError",
     "evalue": "UndefVarError: mc_states not defined",
     "output_type": "error",
     "traceback": [
      "UndefVarError: mc_states not defined\n",
      "\n",
      "Stacktrace:\n",
      " [1] top-level scope\n",
      "   @ ~/Documents/ParallelTemperingMonteCarlo.jl/scripts/RuNNer.ipynb:1"
     ]
    }
   ],
   "source": [
    "mc_states[3].config.pos .- mc_states[10].config.pos"
   ]
  },
  {
   "cell_type": "code",
   "execution_count": 14,
   "metadata": {},
   "outputs": [
    {
     "ename": "UndefVarError",
     "evalue": "UndefVarError: mc_states not defined",
     "output_type": "error",
     "traceback": [
      "UndefVarError: mc_states not defined\n",
      "\n",
      "Stacktrace:\n",
      " [1] top-level scope\n",
      "   @ ~/Documents/ParallelTemperingMonteCarlo.jl/scripts/RuNNer.ipynb:1"
     ]
    }
   ],
   "source": [
    "mc_states[10]"
   ]
  },
  {
   "cell_type": "code",
   "execution_count": 15,
   "metadata": {},
   "outputs": [
    {
     "ename": "LoadError",
     "evalue": "LoadError: UndefVarError: @benchmark not defined\nin expression starting at /home/ghunter/Documents/ParallelTemperingMonteCarlo.jl/scripts/RuNNer.ipynb:1",
     "output_type": "error",
     "traceback": [
      "LoadError: UndefVarError: @benchmark not defined\n",
      "in expression starting at /home/ghunter/Documents/ParallelTemperingMonteCarlo.jl/scripts/RuNNer.ipynb:1\n"
     ]
    }
   ],
   "source": [
    "@benchmark mc_cycle!(mc_states,move_strat,mc_params,runnerpotential,ensemble,10,55,0,0)"
   ]
  },
  {
   "attachments": {},
   "cell_type": "markdown",
   "metadata": {},
   "source": [
    "Basic testing complete, we can extrapolate the timings given above to a 1,000,000 cycle calculation taking just five days, if this is true on an 8-core computer, then my project is tractable"
   ]
  },
  {
   "attachments": {},
   "cell_type": "markdown",
   "metadata": {},
   "source": [
    "In order to proceed further there are some very important features to include: we require sampling_step! save_states and finalise_results to be written in a way that includes the necessary NNPState information. This can easily be tested below. Also exch_trajectories, and update_max_stepsize!"
   ]
  },
  {
   "cell_type": "code",
   "execution_count": 5,
   "metadata": {},
   "outputs": [
    {
     "name": "stdout",
     "output_type": "stream",
     "text": [
      "equilibration done\n"
     ]
    }
   ],
   "source": [
    "@time ptmc_run!((mc_states,move_strat,mc_params,runnerpotential,ensemble,results))"
   ]
  },
  {
   "attachments": {},
   "cell_type": "markdown",
   "metadata": {},
   "source": [
    "Many of the redefinition of functions above are unnecessary, for example save_state and update_max_stepsize don't actually change from one type to the other. A better approach is the definition of an MC_State type, of which \"DimerState\" and \"NNPState\" are merely structs under this type. TBD with Diana and Elke when possible.  "
   ]
  },
  {
   "cell_type": "code",
   "execution_count": 17,
   "metadata": {},
   "outputs": [],
   "source": [
    "# using Plots\n",
    "# plot(results.en_histogram,legend=false)"
   ]
  },
  {
   "cell_type": "code",
   "execution_count": null,
   "metadata": {},
   "outputs": [],
   "source": []
  }
 ],
 "metadata": {
  "kernelspec": {
   "display_name": "Julia 1.8.5",
   "language": "julia",
   "name": "julia-1.8"
  },
  "language_info": {
   "file_extension": ".jl",
   "mimetype": "application/julia",
   "name": "julia",
   "version": "1.8.5"
  },
  "orig_nbformat": 4
 },
 "nbformat": 4,
 "nbformat_minor": 2
}
