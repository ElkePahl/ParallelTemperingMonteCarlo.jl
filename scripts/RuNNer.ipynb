{
 "cells": [
  {
   "cell_type": "code",
   "execution_count": 1,
   "metadata": {},
   "outputs": [],
   "source": [
    "using ParallelTemperingMonteCarlo,BenchmarkTools,DelimitedFiles,MachineLearningPotential"
   ]
  },
  {
   "attachments": {},
   "cell_type": "markdown",
   "metadata": {},
   "source": [
    "Completed the MLP module based on the librunner.so file written by A. Knoll. Time to use this in PTMC simulations so I can finally generate results. This requires the librunnerjulia file and use of the MLP package."
   ]
  },
  {
   "attachments": {},
   "cell_type": "markdown",
   "metadata": {},
   "source": [
    "First: establishing the struct.\n",
    "\n",
    "This requires the symmetry functions, the nnp values itself, the g and f matrices used in the calculation and a dummy vector new_f_vec to preassign memory for later. I'd prefer to point to the nnp and symmetryfunction structs rather than save copies, I'll look into this later. "
   ]
  },
  {
   "cell_type": "code",
   "execution_count": 2,
   "metadata": {},
   "outputs": [
    {
     "data": {
      "text/plain": [
       "RuNNerPotential"
      ]
     },
     "metadata": {},
     "output_type": "display_data"
    }
   ],
   "source": [
    "struct  RuNNerPotential <: AbstractMachineLearningPotential\n",
    "    nnp::NeuralNetworkPotential\n",
    "    symmetryfunctions::Vector{AbstractSymmFunction}\n",
    "    r_cut::Float64\n",
    "end\n",
    "function RuNNerPotential(nnp,symmetryfunction)\n",
    "    r_cut = symmetryfunction[1].r_cut\n",
    "    return RuNNerPotential(nnp,symmetryfunction,r_cut)\n",
    "end\n"
   ]
  },
  {
   "attachments": {},
   "cell_type": "markdown",
   "metadata": {},
   "source": [
    "The challenge is potentials are not unique to each given state, meaning that g_matrix, f_matrix need to be part of the mc_state, not necessarily part of an immutable potential. They could be a vector of these matrices but this seems prohibitive. It's possible to assign them to mc_states? Have an NNP subtype?\n"
   ]
  },
  {
   "cell_type": "code",
   "execution_count": 3,
   "metadata": {},
   "outputs": [],
   "source": [
    "mutable struct NNPState{T,N,BC}\n",
    "    temp::T\n",
    "    beta::T\n",
    "    config::Config{N,BC,T}\n",
    "    dist2_mat::Matrix{T}\n",
    "    en_atom_vec::Vector{T}\n",
    "    en_tot::T\n",
    "    ham::Vector{T}\n",
    "    max_displ::Vector{T}\n",
    "    count_atom::Vector{Int}\n",
    "    count_vol::Vector{Int}\n",
    "    count_rot::Vector{Int}\n",
    "    count_exc::Vector{Int}\n",
    "\n",
    "    new_en_atom::Vector{T}\n",
    "\n",
    "    g_matrix::Array{T}\n",
    "    f_matrix::Matrix{T}\n",
    "\n",
    "    new_g_matrix::Array{T}\n",
    "    new_dist2_vec::Vector{T}\n",
    "    new_f_vec::Vector{T}\n",
    "end\n"
   ]
  },
  {
   "cell_type": "code",
   "execution_count": 4,
   "metadata": {},
   "outputs": [
    {
     "data": {
      "text/plain": [
       "NNPState"
      ]
     },
     "metadata": {},
     "output_type": "display_data"
    }
   ],
   "source": [
    "function NNPState(state::MCState, positions, n_atoms, symm_function_vector)\n",
    "\n",
    "    f_matrix = cutoff_function.(sqrt.(state.dist2_mat),Ref(symm_function_vector[1].r_cut))\n",
    "\n",
    "    g_matrix = total_symm_calc(positions,state.dist2_mat,f_matrix,symm_function_vector)\n",
    "\n",
    "    nnstate = NNPState(\n",
    "        state.temp, state.beta, state.config, state.dist2_mat, state.en_atom_vec, state.en_tot, state.ham, state.max_displ, state.count_atom, state.count_vol, state.count_rot, state.count_exc, g_matrix, f_matrix,copy(g_matrix), zeros(n_atoms), zeros(n_atoms)\n",
    "        )\n",
    "\n",
    "    state = nnstate\n",
    "    \n",
    "    return state\n",
    "end\n"
   ]
  },
  {
   "attachments": {},
   "cell_type": "markdown",
   "metadata": {},
   "source": [
    "Functionally, this definition allows us to initialise the runner potential, the state and then use them to define the new potential specific state with the g_matrix included. "
   ]
  },
  {
   "cell_type": "code",
   "execution_count": 5,
   "metadata": {},
   "outputs": [],
   "source": [
    "# function energy_calculation(positions,dist2_mat,f_mat,total_symmetry_vector,neuralnetwork)\n",
    "#     n_atoms = length(positions)\n",
    "#     g_mat = total_symm_calc(positions,dist2_mat,f_mat,total_symmetry_vector)\n",
    "#     return g_mat,sum(forward_pass(g_mat,n_atoms,neuralnetwork))\n",
    "# end\n",
    "# function threnergy_calculation(positions,dist2_mat,f_mat,total_symmetry_vector,neuralnetwork)\n",
    "#     n_atoms = length(positions)\n",
    "#     g_mat = total_thr_symm_calc(positions,dist2_mat,f_mat,total_symmetry_vector)\n",
    "#     return g_mat,sum(forward_pass(g_mat,n_atoms,neuralnetwork))\n",
    "# end\n",
    "\n",
    "# function energy_calculation(g_matrix, positions,newpos,dist2_mat,new_dis_vec,f_mat,new_f_vec,atomindex,total_symmetry_vector,neuralnetwork)\n",
    "#     n_atoms = length(positions)\n",
    "#     g_mat = total_symm!(g_matrix, positions,newpos,dist2_mat,new_dis_vec,f_mat,new_f_vec,atomindex,total_symmetry_vector)\n",
    "#     return g_matrix,sum(forward_pass(g_mat,n_atoms,neuralnetwork))\n",
    "# end\n",
    "\n",
    "# function threnergy_calculation(g_matrix, positions,newpos,dist2_mat,new_dis_vec,f_mat,new_f_vec,atomindex,total_symmetry_vector,neuralnetwork)\n",
    "#     n_atoms = length(positions)\n",
    "#     g_mat = total_thr_symm!(g_matrix, positions,newpos,dist2_mat,new_dis_vec,f_mat,new_f_vec,atomindex,total_symmetry_vector)\n",
    "#     return g_matrix,sum(forward_pass(g_mat,n_atoms,neuralnetwork))\n",
    "# end"
   ]
  },
  {
   "cell_type": "code",
   "execution_count": 6,
   "metadata": {},
   "outputs": [
    {
     "data": {
      "text/plain": [
       "initial_energy_calculation (generic function with 2 methods)"
      ]
     },
     "metadata": {},
     "output_type": "display_data"
    }
   ],
   "source": [
    "function initial_energy_calculation(positions,dist2_mat,f_mat,runner_pot)\n",
    "    n_atoms = length(positions)\n",
    "    g_mat = total_symm_calc(positions,dist2_mat,f_mat,runner_pot.symmetryfunctions)\n",
    "    return g_mat, sum(forward_pass(g_mat,n_atoms,runner_pot.nnp))\n",
    "end\n",
    "function initial_energy_calculation(positions,nnp_state,runner_pot)\n",
    "    n_atoms = length(positions)\n",
    "\n",
    "    nnp_state.g_matrix = total_symm_calc(positions,nnp_state.dist2_mat,nnp_state.f_matrix,runner_pot.symmetryfunctions)\n",
    "\n",
    "    nnp_state.en_atom_vec = forward_pass(g_mat,n_atoms,runner_pot.nnp)\n",
    "\n",
    "    nnp_state.en_tot = sum(nnp_state.en_atom_vec)\n",
    "\n",
    "    return nnp_state\n",
    "end"
   ]
  },
  {
   "attachments": {},
   "cell_type": "markdown",
   "metadata": {},
   "source": [
    "Critically, we require the get_energy function as defined in energyevaluation. Once this is done, we can simulate NNP's. \n",
    "\n",
    "Note-- This is done with the following input/output\n",
    "\n",
    "input:  trial_positions,indices,mc_states,pot\n",
    "\n",
    "the new positions, the new indices for them, the current states and the potential.\n",
    "\n",
    "output:  energy_vector, dist2_new\n",
    "\n",
    "\n"
   ]
  },
  {
   "cell_type": "code",
   "execution_count": 7,
   "metadata": {},
   "outputs": [
    {
     "data": {
      "text/plain": [
       "get_runner_energy! (generic function with 1 method)"
      ]
     },
     "metadata": {},
     "output_type": "display_data"
    }
   ],
   "source": [
    "function get_new_state_vars!(trial_pos,atomindex,nnp_state,pot)\n",
    "    nnp_state.new_dist2_vec = [distance2(pos,b,config.bc) for b in config.pos]\n",
    "    nnp_state.new_dist2_vec[i_atom] = 0.\n",
    "    \n",
    "    nnp_state.new_f_vec = cutoff_function.(sqrt.(dist2_new),Ref(pot.r_cut))\n",
    "\n",
    "\n",
    "    nnp_state.g_new = copy(nnp_state.g_matrix)\n",
    "\n",
    "    nnp_state.g_new = total_symm!(g_new,nnp_state.config.pos,trial_pos,nnp_state.dist2_mat,nnp_state.new_dist2_vec,nnp_state.f_matrix,nnp_state.new_f_vec,atomindex,pot.symmetryfunctions)\n",
    "\n",
    "    return nnp_state\n",
    "end\n",
    "function calc_new_energy!(g_new,nnp_state,pot)\n",
    "    nnp_state.new_en_atom = forward_pass(g_new,length(nnp_state.en_atom_vec),pot.nnp)\n",
    "    return nnp_state\n",
    "end\n",
    "\n",
    "function get_runner_energy!(trial_pos,atomindex,nnp_state,pot)\n",
    "    nnp_state = get_new_state_vars!(trial_pos,atomindex,nnp_state,pot)\n",
    "    nnp_state = calc_new_energy!(g_new,nnp_state,pot)\n",
    "\n",
    "    return sum(nnp_state.new_en_atom),nnp_state\n",
    "end\n",
    "\n",
    "function get_energy!(trial_positions,indices,mc_states,pot::RuNNerPotential)\n",
    "    energyvector,mc_states = get_runner_energy.(trial_positions,indices,mc_states,Ref(pot))\n",
    "    \n",
    "    return energyvector,mc_states\n",
    "end"
   ]
  },
  {
   "attachments": {},
   "cell_type": "markdown",
   "metadata": {},
   "source": [
    "Ideally the function above now works the way it's intended in the simulation, other than the natural output being different from other methods. As a result of this we may want to have the g_new_matrix being part of the nnp_state struct, as it preserves the total form of the mc_step function"
   ]
  },
  {
   "attachments": {},
   "cell_type": "markdown",
   "metadata": {},
   "source": [
    "# Initialisation \n",
    "\n",
    "The next major step is to implement a more definitive initialisation. This is somewhat restricted by the purge of .data files, but we can point to directories containing the weights and scaling data. \n",
    "\n",
    "Beyond this we need to point to symmetry function values, distributed over sets of atom types. "
   ]
  },
  {
   "cell_type": "code",
   "execution_count": 22,
   "metadata": {},
   "outputs": [
    {
     "data": {
      "text/plain": [
       "RuNNerPotential(NeuralNetworkPotential(4, 2221, Int32[88, 20, 20, 1], Int32[1, 2, 2, 1], [-1.0768943782, 0.3563458393, -1.3084861447, 0.1127640916, -0.5646591931, -0.4969830793, 1.423770514, -0.2005662393, -0.8957859374, 0.6076110858  …  0.1939524848, -0.0342903191, -0.0231042009, 0.0718481968, -0.0828320122, -0.0728501885, 0.0306628826, 0.0486053813, -0.0867018862, 0.0441651841]), AbstractSymmFunction[RadialType2{Float64}(0.001, 11.338, [1.0, 1.0], -0.029892621990594427, 0.06634475788973929), RadialType2{Float64}(0.001, 11.338, [1.0, 0.0], -0.0, 0.09828103647521905), RadialType2{Float64}(0.02, 11.338, [1.0, 1.0], -0.013430592462258787, 0.13321466604629645), RadialType2{Float64}(0.02, 11.338, [1.0, 0.0], -0.0, 0.18618835781674212), RadialType2{Float64}(0.035, 11.338, [1.0, 1.0], -0.0067056953127401205, 0.2093521117141925), RadialType2{Float64}(0.035, 11.338, [1.0, 0.0], -0.0, 0.28571045376567983), RadialType2{Float64}(0.1, 11.338, [1.0, 1.0], -0.00026435144512647774, 0.9364998977117353), RadialType2{Float64}(0.1, 11.338, [1.0, 0.0], -0.0, 1.3813391986837495), RadialType2{Float64}(0.4, 11.338, [1.0, 1.0], -0.0, 113.41978340450804), RadialType2{Float64}(0.4, 11.338, [1.0, 0.0], -0.0, 181.5238491478726)  …  AngularType3{Float64}(0.08, 1.0, 1.0, 11.338, [1.0, 0.0, 0.0], 51.77332437447728, -0.0), AngularType3{Float64}(0.08, -1.0, 2.0, 11.338, [1.0, 1.0, 1.0], 38.80656464265596, -0.0), AngularType3{Float64}(0.08, -1.0, 2.0, 11.338, [1.0, 1.0, 0.0], 1.2380542099220007, -3.0431372479882776e-6), AngularType3{Float64}(0.08, -1.0, 2.0, 11.338, [1.0, 0.0, 0.0], 2.154559293083925, -0.0), AngularType3{Float64}(0.08, -1.0, 4.0, 11.338, [1.0, 1.0, 1.0], 0.739377565111496, -0.0), AngularType3{Float64}(0.08, -1.0, 4.0, 11.338, [1.0, 1.0, 0.0], 2.5184823359491832, -9.59038073529449e-6), AngularType3{Float64}(0.08, -1.0, 4.0, 11.338, [1.0, 0.0, 0.0], 4.737224454128679, -0.0), AngularType3{Float64}(0.08, 1.0, 4.0, 11.338, [1.0, 1.0, 1.0], 9.88748125432429, -0.0), AngularType3{Float64}(0.08, 1.0, 4.0, 11.338, [1.0, 1.0, 0.0], 1.3621834785517182, -1.0897467828413747e-8), AngularType3{Float64}(0.08, 1.0, 4.0, 11.338, [1.0, 0.0, 0.0], 2.087587697889118, -0.0)], 11.338)"
      ]
     },
     "metadata": {},
     "output_type": "display_data"
    }
   ],
   "source": [
    "#-------------------------------------------#\n",
    "#--------Vector of radial symm values-------#\n",
    "#-------------------------------------------#\n",
    "X = [ 1    1              0.001   0.000  11.338\n",
    " 1    0              0.001   0.000  11.338\n",
    " 1    1              0.020   0.000  11.338\n",
    " 1    0              0.020   0.000  11.338\n",
    " 1    1              0.035   0.000  11.338\n",
    " 1    0              0.035   0.000  11.338\n",
    " 1    1              0.100   0.000  11.338\n",
    " 1    0              0.100   0.000  11.338\n",
    " 1    1              0.400   0.000  11.338\n",
    " 1    0              0.400   0.000  11.338]\n",
    "\n",
    "radsymmvec = []\n",
    "\n",
    "\n",
    "#--------------------------------------------#\n",
    "#--------Vector of angular symm values-------#\n",
    "#--------------------------------------------#\n",
    "V = [[0.0001,1,1,11.338],[0.0001,-1,2,11.338],[0.003,-1,1,11.338],[0.003,-1,2,11.338],[0.008,-1,1,11.338],[0.008,-1,2,11.338],[0.008,1,2,11.338],[0.015,1,1,11.338],[0.015,-1,2,11.338],[0.015,-1,4,11.338],[0.015,-1,16,11.338],[0.025,-1,1,11.338],[0.025,1,1,11.338],[0.025,1,2,11.338],[0.025,-1,4,11.338],[0.025,-1,16,11.338],[0.025,1,16,11.338],[0.045,1,1,11.338],[0.045,-1,2,11.338],[0.045,-1,4,11.338],[0.045,1,4,11.338],[0.045,1,16,11.338],[0.08,1,1,11.338],[0.08,-1,2,11.338],[0.08,-1,4,11.338],[0.08,1,4,11.338]]\n",
    "\n",
    "T = [[1.,1.,1.],[1.,1.,0.],[1.,0.,0.]]\n",
    "\n",
    "angularsymmvec = []\n",
    "#-------------------------------------------#\n",
    "#-----------Including scaling data----------#\n",
    "#-------------------------------------------#\n",
    "file = open(\"$(pwd())/scaling.data\")\n",
    "scalingvalues = readdlm(file)\n",
    "close(file)\n",
    "G_value_vec = []\n",
    "for row in eachrow(scalingvalues[1:88,:])\n",
    "    max_min = [row[4],row[3]]\n",
    "    push!(G_value_vec,max_min)\n",
    "end\n",
    "\n",
    "\n",
    "for symmindex in eachindex(eachrow(X))\n",
    "    row = X[symmindex,:]\n",
    "    radsymm = RadialType2{Float64}(row[3],row[5],[row[1],row[2]],G_value_vec[symmindex])\n",
    "    push!(radsymmvec,radsymm)\n",
    "end\n",
    "\n",
    "n_index = 0\n",
    "for element in V\n",
    "    for types in T \n",
    "        \n",
    "        n_index += 1\n",
    "\n",
    "        symmfunc = AngularType3{Float64}(element[1],element[2],element[3],11.338,types,G_value_vec[n_index])\n",
    "\n",
    "        push!(angularsymmvec,symmfunc)\n",
    "    end\n",
    "end\n",
    "#---------------------------------------------------#\n",
    "#------concatenating radial and angular values------#\n",
    "#---------------------------------------------------#\n",
    "\n",
    "totalsymmvec = vcat(radsymmvec,angularsymmvec)\n",
    "\n",
    "\n",
    "#--------------------------------------------------#\n",
    "#-----------Initialising the nnp weights-----------#\n",
    "#--------------------------------------------------#\n",
    "num_nodes::Vector{Int32} = [88, 20, 20, 1]\n",
    "activation_functions::Vector{Int32} = [1, 2, 2, 1]\n",
    "file = open(\"weights.029.data\",\"r+\")\n",
    "weights=readdlm(file)\n",
    "close(file)\n",
    "weights = vec(weights)\n",
    "nnp = NeuralNetworkPotential(num_nodes,activation_functions,weights)\n",
    "\n",
    "runnerpotential = RuNNerPotential(nnp,totalsymmvec)"
   ]
  },
  {
   "cell_type": "code",
   "execution_count": null,
   "metadata": {},
   "outputs": [],
   "source": []
  }
 ],
 "metadata": {
  "kernelspec": {
   "display_name": "Julia 1.8.5",
   "language": "julia",
   "name": "julia-1.8"
  },
  "language_info": {
   "file_extension": ".jl",
   "mimetype": "application/julia",
   "name": "julia",
   "version": "1.8.5"
  },
  "orig_nbformat": 4
 },
 "nbformat": 4,
 "nbformat_minor": 2
}
