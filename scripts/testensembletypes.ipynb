{
 "cells": [
  {
   "cell_type": "code",
   "execution_count": 1,
   "metadata": {},
   "outputs": [],
   "source": [
    "# include(\"../src/BoundaryConditions.jl\")\n",
    "# include(\"../src/Configurations.jl\")\n",
    "# include(\"../src/Ensembles.jl\")\n",
    "# using .Ensembles\n",
    "\n",
    "using ParallelTemperingMonteCarlo\n",
    "using StaticArrays"
   ]
  },
  {
   "cell_type": "code",
   "execution_count": 2,
   "metadata": {},
   "outputs": [
    {
     "data": {
      "text/plain": [
       "NVT(10)"
      ]
     },
     "metadata": {},
     "output_type": "display_data"
    }
   ],
   "source": [
    "x = NVT(10)"
   ]
  },
  {
   "cell_type": "code",
   "execution_count": 3,
   "metadata": {},
   "outputs": [
    {
     "data": {
      "text/plain": [
       "testmove (generic function with 1 method)"
      ]
     },
     "metadata": {},
     "output_type": "display_data"
    }
   ],
   "source": [
    "function testtype(testinput::NVT)\n",
    "    println(\"true\")\n",
    "end\n",
    "\n",
    "function testmove(xinput::X) where X <: MoveType\n",
    "    println(\"true\")\n",
    "end"
   ]
  },
  {
   "cell_type": "code",
   "execution_count": 4,
   "metadata": {},
   "outputs": [
    {
     "name": "stdout",
     "output_type": "stream",
     "text": [
      "true\n"
     ]
    }
   ],
   "source": [
    "testtype(x)"
   ]
  },
  {
   "cell_type": "code",
   "execution_count": 5,
   "metadata": {},
   "outputs": [
    {
     "data": {
      "text/plain": [
       "atommove"
      ]
     },
     "metadata": {},
     "output_type": "display_data"
    }
   ],
   "source": [
    "xmove = atommove()\n",
    "\n",
    "typeof(xmove)"
   ]
  },
  {
   "cell_type": "code",
   "execution_count": 6,
   "metadata": {},
   "outputs": [
    {
     "name": "stdout",
     "output_type": "stream",
     "text": [
      "true\n"
     ]
    }
   ],
   "source": [
    "testmove(xmove)"
   ]
  },
  {
   "cell_type": "code",
   "execution_count": 8,
   "metadata": {},
   "outputs": [
    {
     "data": {
      "text/plain": [
       "NVTVariables"
      ]
     },
     "metadata": {},
     "output_type": "display_data"
    }
   ],
   "source": [
    "bc = SphericalBC(radius=2.0)\n",
    "v1 = SVector(1., 2., 3.)\n",
    "conf = Config{3}([v1,v1,v1],bc)\n",
    "\n",
    "envars_nvt = set_ensemble_variables(conf,NVT(1))\n",
    "xx = typeof(envars_nvt)"
   ]
  },
  {
   "cell_type": "code",
   "execution_count": 9,
   "metadata": {},
   "outputs": [
    {
     "data": {
      "text/plain": [
       "Int64"
      ]
     },
     "metadata": {},
     "output_type": "display_data"
    }
   ],
   "source": [
    "typeof(envars_nvt.index)"
   ]
  },
  {
   "cell_type": "code",
   "execution_count": 10,
   "metadata": {},
   "outputs": [
    {
     "data": {
      "text/plain": [
       "3"
      ]
     },
     "metadata": {},
     "output_type": "display_data"
    }
   ],
   "source": [
    "length(envars_nvt.trial_move) "
   ]
  },
  {
   "cell_type": "code",
   "execution_count": 16,
   "metadata": {},
   "outputs": [
    {
     "data": {
      "text/plain": [
       "3-element SVector{3, Float64} with indices SOneTo(3):\n",
       "  0.06797443479555543\n",
       " -0.15170255100268498\n",
       " -0.24777240290674468"
      ]
     },
     "metadata": {},
     "output_type": "display_data"
    }
   ],
   "source": [
    "envars_nvt.trial_move = atom_displacement(SVector(0.,0.,0.),0.5,bc)"
   ]
  },
  {
   "cell_type": "code",
   "execution_count": 17,
   "metadata": {},
   "outputs": [
    {
     "data": {
      "text/plain": [
       "3-element SVector{3, Float64} with indices SOneTo(3):\n",
       " -0.3169025133439916\n",
       "  0.5828375346844659\n",
       " -0.2222299593885947"
      ]
     },
     "metadata": {},
     "output_type": "display_data"
    }
   ],
   "source": [
    "envars_nvt.trial_move = atom_displacement(xmove,0.5,bc)"
   ]
  },
  {
   "cell_type": "code",
   "execution_count": null,
   "metadata": {},
   "outputs": [],
   "source": [
    "function metropolis_condition(delta_energy, beta)\n",
    "    prob_val = exp(-delta_energy*beta)\n",
    "    T = typeof(prob_val)\n",
    "    return ifelse(prob_val > 1, T(1), prob_val)\n",
    "end\n",
    "function metropolis_condition(ensemble, delta_energy,volume_changed,volume_unchanged,beta)\n",
    "    delta_h = d_en + ensemble.pressure*(volume_changed-volume_unchanged)\n",
    "    prob_val = exp(-delta_h*beta + ensemble.n_atoms*log(volume_changed/volume_unchanged))\n",
    "    T = typeof(prob_val)\n",
    "    return ifelse(prob_val > 1, T(1), prob_val)\n",
    "    return ifelse(prob_val > 1, T(1), prob_val)\n",
    "end\n",
    "\n",
    "function metropolis_condition(::atommove,mc_state,ensemble)\n",
    "    return metropolis_condition((mc_state.new_en - mc_state.en_tot),mc_state.beta)\n",
    "end\n",
    "function metropolis_condition(::volumemove,mc_state,ensemble)\n",
    "    return metropolis_condition(ensemble,(mc_state.new_en - mc_state.en_tot),mc_state.ensemble_variables.trial_config.bc.box_length^3,mc_states.config.bc.box_length^3,mc_state.beta )\n",
    "end"
   ]
  },
  {
   "cell_type": "code",
   "execution_count": null,
   "metadata": {},
   "outputs": [],
   "source": [
    "function acc_test!(mc_state,ensemble,movetype)\n",
    "    if metropolis_condition(movetype,mc_state,ensemble) >=rand()\n",
    "        swap_config!(mc_state,movetype)\n",
    "    end\n",
    "end\n"
   ]
  },
  {
   "cell_type": "code",
   "execution_count": 15,
   "metadata": {},
   "outputs": [],
   "source": [
    "function mc_move!(mc_state,move_strat,pot,ensemble)\n",
    "    #moveindex = rand(1:length(move_strat))\n",
    "    mc_state.ensemble_variables.index = rand(1:length(move_strat))\n",
    "\n",
    "    mc_state = generate_move!(mc_state,move_strat.movestrat[mc_state.ensemble_variables.index])\n",
    "\n",
    "    mc_state = get_energy!(mc_state,pot,ensemble,move_strat.movestrat[mc_state.ensemble_variables.index])\n",
    "\n",
    "    acc_test!(mc_state,ensemble,movetype)\n",
    "    return mc_state\n",
    "end\n",
    "function mc_step!(mc_states,move_strat,pot,ensemble)\n",
    "    for state in mc_states\n",
    "        state = mc_move!(state,move_strat,pot,ensemble)\n",
    "    end\n",
    "    return mc_states\n",
    "end\n",
    "function mc_cycle!(mc_states,move_strat,mc_params,pot,ensemble,n_steps,index)\n",
    "    for i_step in 1:n_steps \n",
    "        mc_states=  mc_step!(mc_states,move_strat,pot,ensemble)\n",
    "    end\n",
    "    if rand() < 0.1\n",
    "        parallel_tempering_exchange!(mc_states,mc_params,ensemble)\n",
    "    end\n",
    "    if rem(index,mc_params.n_adjust) == 0\n",
    "        for state in mc_states \n",
    "            update_max_stepsize!(state,mc_params.n_adjust,ensemble)\n",
    "        end\n",
    "    end\n",
    "\n",
    "\n",
    "    return mc_states\n",
    "end\n",
    "function mc_cycle!(mc_states,move_strat,mc_params,pot,ensemble,n_steps,results,idx)\n",
    "\n",
    "    mc_states = mc_cycle!(mc_states,move_strat,mc_params,pot,ensemble,n_steps,idx)\n",
    "    sampling_step!(mc_params,mc_states,ensemble,idx,results)\n",
    "    #     if save == true\n",
    "#         if rem(i,1000) == 0\n",
    "#             save_states(mc_params,mc_states,i,save_dir)\n",
    "#             save_results(results,save_dir)\n",
    "#         end\n",
    "#     end\n",
    "\n",
    "\n",
    "    return mc_states \n",
    "end\n",
    "    "
   ]
  },
  {
   "cell_type": "code",
   "execution_count": null,
   "metadata": {},
   "outputs": [],
   "source": [
    "function equilibration_cycle!(mc_states,move_strat,mc_params,pot,ensemble,n_steps,results)\n",
    "    #set initial hamiltonian values and ebounds\n",
    "    for state in mc_states\n",
    "        push!(mc_state.ham, 0)\n",
    "        push!(mc_state.ham, 0)\n",
    "    end\n",
    "    ebounds = [100. , -100.]\n",
    "    #begin equilibration\n",
    "    for i = 1:mc_params.eq_cycles\n",
    "        mc_states = mc_cycle!(mc_states,move_strat,mc_params,pot,ensemble,n_steps,i)\n",
    "        for state in mc_states\n",
    "            ebounds = check_e_bounds(state.en_tot,ebounds)\n",
    "        end\n",
    "    end\n",
    "    #post equilibration reset\n",
    "    for state in mc_states\n",
    "        reset_counters(state)\n",
    "    end\n",
    "    results = initialise_histograms!(mc_params,results,ebounds,mc_states[1].config.bc)\n",
    "    return mc_states,results\n",
    "end\n",
    "\n"
   ]
  },
  {
   "cell_type": "code",
   "execution_count": null,
   "metadata": {},
   "outputs": [],
   "source": [
    "function ptmc_run!(mc_params::MCParams,temps::TempGrid,start_config::Config,potential::Ptype,ensemble::Etype;restart=false min_acc=0.4,max_acc=0.6,save=false,save_dir=pwd()) where Ptype <: AbstractPotential where Etype <: AbstractEnsemble\n",
    "    #initialise the states and results etc\n",
    "    mc_states,move_strategy,results,start_counter,n_steps = initialisation(mc_params,temp,start_config,potential,ensemble)\n",
    "    println(\"params set\")\n",
    "    #Equilibration \n",
    "    mc_states,results = equilibration(mc_states,move_strat,mc_params,potential,ensemble,n_steps,results,restart)\n",
    "    println(\"equilibration complete\")\n",
    "\n",
    "    #main loop \n",
    "    for i = start_counter:mc_params.mc_cycles \n",
    "        @inbounds mc_cycle!(mc_states,move_strategy,mc_params,potential,ensemble,n_steps,results,i)\n",
    "    end\n",
    "    println(\"MC loop done.\")\n",
    "\n",
    "    #Finalisation of results\n",
    "    results = finalise_results(mc_states,mc_params,results)\n",
    "    println(\"done\")\n",
    "    return mc_states,results\n",
    "end\n",
    "\n"
   ]
  }
 ],
 "metadata": {
  "kernelspec": {
   "display_name": "Julia 1.8.0",
   "language": "julia",
   "name": "julia-1.8"
  },
  "language_info": {
   "file_extension": ".jl",
   "mimetype": "application/julia",
   "name": "julia",
   "version": "1.8.0"
  }
 },
 "nbformat": 4,
 "nbformat_minor": 2
}
