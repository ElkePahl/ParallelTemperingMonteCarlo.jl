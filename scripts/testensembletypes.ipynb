{
 "cells": [
  {
   "cell_type": "code",
   "execution_count": 1,
   "metadata": {},
   "outputs": [
    {
     "name": "stderr",
     "output_type": "stream",
     "text": [
      "\u001b[32m\u001b[1m    Updating\u001b[22m\u001b[39m registry at `~/.julia/registries/General`\n"
     ]
    },
    {
     "name": "stderr",
     "output_type": "stream",
     "text": [
      "\u001b[32m\u001b[1m    Updating\u001b[22m\u001b[39m git-repo `https://github.com/JuliaRegistries/General.git`\n"
     ]
    },
    {
     "name": "stderr",
     "output_type": "stream",
     "text": [
      "\u001b[32m\u001b[1m    Updating\u001b[22m\u001b[39m git-repo `https://github.com/ElkePahl/ParallelTemperingMonteCarlo.jl.git`\n"
     ]
    },
    {
     "name": "stderr",
     "output_type": "stream",
     "text": [
      "\u001b[32m\u001b[1m  No Changes\u001b[22m\u001b[39m to `~/.julia/environments/v1.8/Project.toml`\n",
      "\u001b[32m\u001b[1m  No Changes\u001b[22m\u001b[39m to `~/.julia/environments/v1.8/Manifest.toml`\n"
     ]
    }
   ],
   "source": [
    "using Pkg\n",
    "Pkg.update()"
   ]
  },
  {
   "cell_type": "code",
   "execution_count": 4,
   "metadata": {},
   "outputs": [],
   "source": [
    "using ..ParallelTemperingMonteCarlo#feature/ensemble_variables"
   ]
  },
  {
   "cell_type": "code",
   "execution_count": 5,
   "metadata": {},
   "outputs": [
    {
     "ename": "MethodError",
     "evalue": "MethodError: no method matching MoveStrategy(::NVT, ::Int64, ::Int64, ::Int64)\nClosest candidates are:\n  MoveStrategy(::Any, ::Any, ::Any) at ~/.julia/packages/ParallelTemperingMonteCarlo/Fb2kY/src/MCMoves.jl:26",
     "output_type": "error",
     "traceback": [
      "MethodError: no method matching MoveStrategy(::NVT, ::Int64, ::Int64, ::Int64)\n",
      "Closest candidates are:\n",
      "  MoveStrategy(::Any, ::Any, ::Any) at ~/.julia/packages/ParallelTemperingMonteCarlo/Fb2kY/src/MCMoves.jl:26\n",
      "\n",
      "Stacktrace:\n",
      " [1] top-level scope\n",
      "   @ ~/Code/ParallelTemperingMonteCarlo.jl/scripts/testensembletypes.ipynb:3"
     ]
    }
   ],
   "source": [
    "testensemble = NVT(10)\n",
    "\n",
    "ms = MoveStrategy(testensemble,10,0,1)"
   ]
  },
  {
   "cell_type": "code",
   "execution_count": 4,
   "metadata": {},
   "outputs": [
    {
     "ename": "UndefVarError",
     "evalue": "UndefVarError: ms not defined",
     "output_type": "error",
     "traceback": [
      "UndefVarError: ms not defined\n",
      "\n",
      "Stacktrace:\n",
      " [1] top-level scope\n",
      "   @ ~/Code/ParallelTemperingMonteCarlo.jl/scripts/testensembletypes.ipynb:1"
     ]
    }
   ],
   "source": [
    "length(ms)\n"
   ]
  },
  {
   "cell_type": "code",
   "execution_count": 5,
   "metadata": {},
   "outputs": [],
   "source": []
  }
 ],
 "metadata": {
  "kernelspec": {
   "display_name": "Julia 1.8.0",
   "language": "julia",
   "name": "julia-1.8"
  },
  "language_info": {
   "file_extension": ".jl",
   "mimetype": "application/julia",
   "name": "julia",
   "version": "1.8.0"
  }
 },
 "nbformat": 4,
 "nbformat_minor": 2
}
