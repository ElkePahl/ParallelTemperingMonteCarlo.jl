{
 "cells": [
  {
   "cell_type": "code",
   "execution_count": 1,
   "metadata": {},
   "outputs": [],
   "source": [
    "using Revise"
   ]
  },
  {
   "cell_type": "code",
   "execution_count": 2,
   "metadata": {},
   "outputs": [],
   "source": [
    "using ParallelTemperingMonteCarlo"
   ]
  },
  {
   "cell_type": "code",
   "execution_count": 4,
   "metadata": {},
   "outputs": [
    {
     "ename": "MethodError",
     "evalue": "MethodError: no method matching MoveStrategy(::NVT, ::Int64, ::Int64, ::Int64)\nClosest candidates are:\n  MoveStrategy(::Any, ::Any, ::Any) at ~/.julia/packages/ParallelTemperingMonteCarlo/Fb2kY/src/MCMoves.jl:26",
     "output_type": "error",
     "traceback": [
      "MethodError: no method matching MoveStrategy(::NVT, ::Int64, ::Int64, ::Int64)\n",
      "Closest candidates are:\n",
      "  MoveStrategy(::Any, ::Any, ::Any) at ~/.julia/packages/ParallelTemperingMonteCarlo/Fb2kY/src/MCMoves.jl:26\n",
      "\n",
      "Stacktrace:\n",
      " [1] top-level scope\n",
      "   @ ~/Code/ParallelTemperingMonteCarlo.jl/scripts/testensembletypes.ipynb:3"
     ]
    }
   ],
   "source": [
    "testensemble = NVT(10)\n",
    "\n",
    "ms = MoveStrategy(testensemble,10,0,1)"
   ]
  },
  {
   "cell_type": "code",
   "execution_count": 3,
   "metadata": {},
   "outputs": [
    {
     "ename": "UndefVarError",
     "evalue": "UndefVarError: ms not defined",
     "output_type": "error",
     "traceback": [
      "UndefVarError: ms not defined\n",
      "\n",
      "Stacktrace:\n",
      " [1] top-level scope\n",
      "   @ ~/Code/ParallelTemperingMonteCarlo.jl/scripts/testensembletypes.ipynb:1"
     ]
    }
   ],
   "source": [
    "length(ms)\n"
   ]
  },
  {
   "cell_type": "code",
   "execution_count": 4,
   "metadata": {},
   "outputs": [],
   "source": []
  }
 ],
 "metadata": {
  "kernelspec": {
   "display_name": "Julia 1.8.0",
   "language": "julia",
   "name": "julia-1.8"
  },
  "language_info": {
   "file_extension": ".jl",
   "mimetype": "application/julia",
   "name": "julia",
   "version": "1.8.0"
  }
 },
 "nbformat": 4,
 "nbformat_minor": 2
}
