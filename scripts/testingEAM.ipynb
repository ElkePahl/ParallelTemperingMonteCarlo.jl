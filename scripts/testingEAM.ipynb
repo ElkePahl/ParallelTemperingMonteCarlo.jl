{
 "cells": [
  {
   "cell_type": "code",
   "execution_count": 1,
   "metadata": {},
   "outputs": [],
   "source": [
    "using Pkg; Pkg.update\n",
    "\n",
    "using ParallelTemperingMonteCarlo,BenchmarkTools,StaticArrays"
   ]
  },
  {
   "cell_type": "markdown",
   "metadata": {},
   "source": [
    "Looking into the implementation of the EAM. A semi-two-body potential "
   ]
  },
  {
   "cell_type": "code",
   "execution_count": 2,
   "metadata": {},
   "outputs": [
    {
     "data": {
      "text/plain": [
       "Config{13, SphericalBC{Float64}, Float64}(SVector{3, Float64}[[-3.35737368666e-8, -3.01478453496e-8, -2.2610884012200003e-8], [-5.0100237544608e-6, -9.5924962476e-9, 4.491082807389623], [1.2413025402138254, -3.8203432492477134, 2.0084746703815606], [-3.2497803034902475, -2.3611020206489175, 2.00846968707976], [-3.249780345286124, 2.3611019212980637, 2.0084696658392325], [1.241302471695995, 3.8203432300627207, 2.0084746361226458], [4.016944341017041, 1.50739226748e-8, 2.008477729017507], [-1.2413025388434689, -3.8203432896732337, -2.0084746806592353], [-4.016944408164515, -7.468443507060001e-8, -2.008477773554097], [-1.2413026073612992, 3.8203431896372013, -2.0084747149181505], [3.2497802363427737, 2.361101961038405, -2.00846973161635], [3.2497802781386502, -2.361101980908576, -2.0084697103758224], [4.9428762807276005e-6, -5.0018016148200005e-8, -4.491082852611391]], SphericalBC{Float64}(228.54811596737582))"
      ]
     },
     "metadata": {},
     "output_type": "display_data"
    }
   ],
   "source": [
    "ico_13  = [[-0.0000000049,       -0.0000000044,       -0.0000000033],\n",
    "[-0.0000007312,       -0.0000000014,        0.6554619119],\n",
    "[0.1811648930,      -0.5575692094,        0.2931316798],\n",
    "[-0.4742970242,       -0.3445967289,        0.2931309525],\n",
    "[-0.4742970303,        0.3445967144,        0.2931309494],\n",
    "[0.1811648830,        0.5575692066,        0.2931316748],\n",
    "[0.5862626299,        0.0000000022,        0.2931321262],\n",
    "[-0.1811648928,       -0.5575692153,       -0.2931316813],\n",
    "[-0.5862626397,       -0.0000000109,       -0.2931321327],\n",
    "[-0.1811649028,        0.5575692007,       -0.2931316863],\n",
    "[0.4742970144,        0.3445967202,       -0.2931309590],\n",
    "[0.4742970205,       -0.3445967231,       -0.2931309559],\n",
    "[0.0000007214,       -0.0000000073,       -0.6554619185]]\n",
    "ico_55 = [[0.0000006584,       -0.0000019175,        0.0000000505],\n",
    "[-0.0000005810,       -0.0000004871,        0.6678432175],\n",
    "[0.1845874248,       -0.5681026047,        0.2986701538],\n",
    "[-0.4832557457,       -0.3511072166,        0.2986684497],\n",
    "[-0.4832557570,        0.3511046452,        0.2986669456],\n",
    "[0.1845874064,        0.5681000550,        0.2986677202],\n",
    "[0.5973371920,       -0.0000012681,        0.2986697030],\n",
    "[-0.1845860897,       -0.5681038901,       -0.2986676192],\n",
    "[-0.5973358752,       -0.0000025669,       -0.2986696020],\n",
    "[-0.1845861081,        0.5680987696,       -0.2986700528],\n",
    "[0.4832570624,        0.3511033815,       -0.2986683486],\n",
    "[0.4832570738,       -0.3511084803,       -0.2986668445],\n",
    "[0.0000018978,       -0.0000033480,       -0.6678431165],\n",
    "[-0.0000017969,        0.0000009162,        1.3230014650],\n",
    "[0.1871182835,       -0.5758942175,        0.9797717078],\n",
    "[-0.4898861924,       -0.3559221410,       0.9797699802],\n",
    "[-0.4898862039,        0.3559224872,        0.9797684555],\n",
    "[0.1871182648,        0.5758945856,        0.9797692407],\n",
    "[0.6055300485,        0.0000001908,        0.9797712507],\n",
    "[0.7926501864,       -0.5758950093,        0.6055339635],\n",
    "[0.3656681761,       -1.1254128670,        0.5916673591],\n",
    "[-0.3027660545,       -0.9318173412,        0.6055326929],\n",
    "[-0.9573332453,       -0.6955436707,        0.5916639831],\n",
    "[-0.9797705418,       -0.0000006364,        0.6055294407],\n",
    "[-0.9573332679,        0.6955423392,        0.5916610035],\n",
    "[-0.3027660847,        0.9318160902,        0.6055287012],\n",
    "[0.3656681396,        1.1254115783,        0.5916625380],\n",
    "[0.7926501677,        0.5758937939,        0.6055314964],\n",
    "[1.1833279992,       -0.0000006311,        0.5916664660],\n",
    "[0.6770051458,       -0.9318186223,        0.0000033028],\n",
    "[0.0000006771,       -1.1517907207,        0.0000025175],\n",
    "[-0.6770037988,       -0.9318186442,        0.0000007900],\n",
    "[-1.0954155825,       -0.3559242494,       -0.0000012200],\n",
    "[-1.0954155940,        0.3559203788,       -0.0000027447],\n",
    "[-0.6770038290,        0.9318147872,       -0.0000032017],\n",
    "[0.0000006397,        1.1517868856,       -0.0000024165],\n",
    "[0.6770051155,        0.9318148091,       -0.0000006889],\n",
    "[1.0954168993,        0.3559204143,        0.0000013211],\n",
    "[1.0954169108,       -0.3559242139,        0.0000028458],\n",
    "[0.3027674014,       -0.9318199253,       -0.6055286002],\n",
    "[-0.3656668229,       -1.1254154134,       -0.5916624370],\n",
    "[-0.7926488510,       -0.5758976290,       -0.6055313954],\n",
    "[-1.1833266824,       -0.0000032040,       -0.5916663649],\n",
    "[-0.7926488697,        0.5758911742,       -0.6055338624],\n",
    "[-0.3656668594,        1.1254090319,       -0.5916672580],\n",
    "[0.3027673712,        0.9318135061,       -0.6055325919],\n",
    "[0.9573345621,        0.6955398357,       -0.5916638820],\n",
    "[0.9797718586,       -0.0000031986,       -0.6055293396],\n",
    "[0.9573345846,       -0.6955461743,       -0.5916609025],\n",
    "[-0.1871169480,       -0.5758984207,       -0.9797691397],\n",
    "[-0.6055287318,       -0.0000040259,       -0.9797711497],\n",
    "[-0.1871169667,        0.5758903824,       -0.9797716067],\n",
    "[0.4898875091,        0.3559183059,       -0.9797698792],\n",
    "[0.4898875207,       -0.3559263223,       -0.9797683545],\n",
    "[0.0000031136,       -0.0000047513,       -1.3230013639]]\n",
    "\n",
    "nmtobohr = 18.8973\n",
    "copperconstant = 0.36258*nmtobohr\n",
    "pos_cu13 = copperconstant*ico_13\n",
    "pos_cu55 = copperconstant*ico_55\n",
    "AtoBohr = 1.8897259886\n",
    "bc_cu13 = SphericalBC(radius=8*AtoBohr)\n",
    "start_config = Config(pos_cu13, bc_cu13)"
   ]
  },
  {
   "cell_type": "markdown",
   "metadata": {},
   "source": [
    "Generating the necessary dist2_matrix"
   ]
  },
  {
   "cell_type": "code",
   "execution_count": 3,
   "metadata": {},
   "outputs": [
    {
     "data": {
      "text/plain": [
       "55×55 Matrix{Float64}:\n",
       "  0.0      20.939    20.939    20.939   …   62.2806   62.2806   82.1728\n",
       " 20.939     0.0      23.1496   23.1496     144.657   144.657   186.072\n",
       " 20.939    23.1496    0.0      23.1496     121.19     83.2196  140.213\n",
       " 20.939    23.1496   23.1496    0.0        144.657   121.19    140.213\n",
       " 20.939    23.1496   60.6064   23.1496     121.19    144.657   140.213\n",
       " 20.939    23.1496   60.6064   60.6064  …   83.2196  121.19    140.213\n",
       " 20.939    23.1496   23.1496   60.6064      83.2196   83.2196  140.213\n",
       " 20.939    60.6064   23.1496   23.1496      83.2196   45.249    66.0106\n",
       " 20.939    60.6064   60.6064   23.1496      83.2196   83.2196   66.0106\n",
       " 20.939    60.6064   83.756    60.6064      45.249    83.2196   66.0106\n",
       "  ⋮                                     ⋱                      \n",
       " 82.1728  140.213   140.213   186.072       22.7447   69.2332   90.848\n",
       " 62.2806  121.19     83.2196  144.657       23.7891   23.7891   69.2332\n",
       " 82.1728  140.213    66.0106  140.213       69.2332   22.7447   90.848\n",
       " 62.2806  144.657    83.2196   83.2196      62.2806   23.7891   22.7447\n",
       " 62.2806  144.657   121.19     83.2196  …   62.2806   62.2806   22.7447\n",
       " 62.2806  144.657   144.657   121.19        23.7891   62.2806   22.7447\n",
       " 62.2806  144.657   121.19    144.657        0.0      23.7891   22.7447\n",
       " 62.2806  144.657    83.2196  121.19        23.7891    0.0      22.7447\n",
       " 82.1728  186.072   140.213   140.213       22.7447   22.7447    0.0"
      ]
     },
     "metadata": {},
     "output_type": "display_data"
    }
   ],
   "source": [
    "dis2mat = [distance2(a,b) for a in pos_cu13, b in pos_cu13]\n",
    "dist2mat_55 = [distance2(a,b) for a in pos_cu55, b in pos_cu55]"
   ]
  },
  {
   "cell_type": "markdown",
   "metadata": {},
   "source": [
    "The mathematical form of the EAM is:\n",
    "\n",
    "$$\n",
    "E = \\frac{1}{2}\\sum_{i,j :i \\neq j}\\epsilon\\left(\\frac{a}{r_{ij}}\\right)^n - \\epsilon C \\sum_{i}\\left[\\sum_{j\\neq i} \\left(\\frac{a}{r_{ij}}\\right)^m \\right]^{1/2}\n",
    "$$"
   ]
  },
  {
   "cell_type": "markdown",
   "metadata": {},
   "source": [
    "We have two terms, one similar to the LJ repulsion term, one a density term $F(\\rho _i)$.\n",
    "\n",
    "We can consider that $\\frac{\\epsilon a^n}{2}$ and $\\epsilon C a^{m/2} $ can be taken out of the sum. Thus a single sum represents contracting a vector in the dist matrix. "
   ]
  },
  {
   "cell_type": "code",
   "execution_count": 4,
   "metadata": {},
   "outputs": [],
   "source": [
    "# struct EmbeddedAtomPotential <: AbstractDimerPotential\n",
    "#     n::Float64\n",
    "#     m::Float64\n",
    "#     ean::Float64\n",
    "#     eCam::Float64\n",
    "# end\n",
    "# function EmbeddedAtomPotential(n,m,ϵ,C,a)\n",
    "#     epsan = ϵ * a^n / 2\n",
    "#     epsCam = ϵ * C * a^(m/2)\n",
    "#     return EmbeddedAtomPotential(n,m,epsan,epsCam)\n",
    "# end"
   ]
  },
  {
   "cell_type": "code",
   "execution_count": 5,
   "metadata": {},
   "outputs": [
    {
     "data": {
      "text/plain": [
       "EmbeddedAtomPotential(9.05, 5.005, 5949.446479587037, 2.6153101861477057)"
      ]
     },
     "metadata": {},
     "output_type": "display_data"
    }
   ],
   "source": [
    "evtohartree = 0.0367493\n",
    "\n",
    "n = 8.482\n",
    "m = 4.692\n",
    "ϵ = evtohartree*0.0370\n",
    "a = 0.25*nmtobohr\n",
    "C = 27.561\n",
    "\n",
    "\n",
    "copperpot = EmbeddedAtomPotential(n,m,ϵ,C,a)\n",
    "\n",
    "suttonchenpot = EmbeddedAtomPotential(9.0,6.0,0.0126*evtohartree,39.432,0.3612*nmtobohr)\n",
    "\n",
    "copperpot2 = EmbeddedAtomPotential(9.05 , 5.005 , 0.0225*evtohartree,33.17,0.327*nmtobohr)"
   ]
  },
  {
   "cell_type": "code",
   "execution_count": 6,
   "metadata": {},
   "outputs": [
    {
     "data": {
      "text/plain": [
       "-1.3002351409450545"
      ]
     },
     "metadata": {},
     "output_type": "display_data"
    }
   ],
   "source": [
    "invrexp(r2,expterm) = ifelse(r2 != 0 , 1/sqrt(r2)^expterm, 0. )\n",
    "calcvec(distvec,expterm) = sum(invrexp.(distvec,Ref(expterm)))\n",
    "\n",
    "function energyatomi(distvec,pot::EmbeddedAtomPotential) \n",
    "    Fterm = pot.eCam*sqrt(calcvec(distvec,pot.m))\n",
    "    phiterm = pot.ean*calcvec(distvec,pot.n)\n",
    "    return phiterm - Fterm\n",
    "end\n",
    "function energytotal(distmatrix,pot::EmbeddedAtomPotential)\n",
    "    total_energy = 0.\n",
    "    for distrow in eachrow(distmatrix)\n",
    "        total_energy += energyatomi(distrow,pot)\n",
    "    end\n",
    "    return total_energy \n",
    "end\n",
    "E_vec = [energyatomi(distrow,copperpot) for distrow in eachrow(dis2mat)]\n",
    "sum(E_vec)\n",
    "\n",
    "E_vec2 = [energyatomi(distrow,suttonchenpot) for distrow in eachrow(dis2mat)]\n",
    "sum(E_vec2)"
   ]
  },
  {
   "cell_type": "code",
   "execution_count": 7,
   "metadata": {},
   "outputs": [
    {
     "data": {
      "text/plain": [
       "-1.3002351409450545"
      ]
     },
     "metadata": {},
     "output_type": "display_data"
    }
   ],
   "source": [
    "energytotal(dis2mat,suttonchenpot)"
   ]
  },
  {
   "cell_type": "code",
   "execution_count": 8,
   "metadata": {},
   "outputs": [
    {
     "data": {
      "text/plain": [
       "BenchmarkTools.Trial: 10000 samples with 1 evaluation.\n",
       " Range \u001b[90m(\u001b[39m\u001b[36m\u001b[1mmin\u001b[22m\u001b[39m … \u001b[35mmax\u001b[39m\u001b[90m):  \u001b[39m\u001b[36m\u001b[1m34.349 μs\u001b[22m\u001b[39m … \u001b[35m 3.476 ms\u001b[39m  \u001b[90m┊\u001b[39m GC \u001b[90m(\u001b[39mmin … max\u001b[90m): \u001b[39m0.00% … 98.33%\n",
       " Time  \u001b[90m(\u001b[39m\u001b[34m\u001b[1mmedian\u001b[22m\u001b[39m\u001b[90m):     \u001b[39m\u001b[34m\u001b[1m45.094 μs              \u001b[22m\u001b[39m\u001b[90m┊\u001b[39m GC \u001b[90m(\u001b[39mmedian\u001b[90m):    \u001b[39m0.00%\n",
       " Time  \u001b[90m(\u001b[39m\u001b[32m\u001b[1mmean\u001b[22m\u001b[39m ± \u001b[32mσ\u001b[39m\u001b[90m):   \u001b[39m\u001b[32m\u001b[1m44.781 μs\u001b[22m\u001b[39m ± \u001b[32m66.857 μs\u001b[39m  \u001b[90m┊\u001b[39m GC \u001b[90m(\u001b[39mmean ± σ\u001b[90m):  \u001b[39m2.95% ±  1.96%\n",
       "\n",
       "  \u001b[39m \u001b[39m \u001b[39m \u001b[39m█\u001b[39m▂\u001b[39m▃\u001b[39m \u001b[39m \u001b[39m \u001b[39m \u001b[39m \u001b[39m \u001b[39m \u001b[39m \u001b[39m \u001b[39m \u001b[39m \u001b[39m \u001b[39m \u001b[39m \u001b[32m \u001b[39m\u001b[34m▃\u001b[39m\u001b[39m▄\u001b[39m▅\u001b[39m▂\u001b[39m▁\u001b[39m \u001b[39m \u001b[39m \u001b[39m \u001b[39m \u001b[39m \u001b[39m \u001b[39m \u001b[39m \u001b[39m \u001b[39m \u001b[39m \u001b[39m \u001b[39m \u001b[39m \u001b[39m \u001b[39m \u001b[39m \u001b[39m \u001b[39m \u001b[39m \u001b[39m \u001b[39m \u001b[39m \u001b[39m \u001b[39m \u001b[39m \u001b[39m \u001b[39m \u001b[39m \u001b[39m \u001b[39m \u001b[39m \u001b[39m \u001b[39m \n",
       "  \u001b[39m█\u001b[39m▇\u001b[39m▇\u001b[39m█\u001b[39m█\u001b[39m█\u001b[39m▅\u001b[39m▃\u001b[39m▂\u001b[39m▂\u001b[39m▂\u001b[39m▂\u001b[39m▁\u001b[39m▁\u001b[39m▁\u001b[39m▁\u001b[39m▁\u001b[39m▂\u001b[39m▅\u001b[39m▇\u001b[32m█\u001b[39m\u001b[34m█\u001b[39m\u001b[39m█\u001b[39m█\u001b[39m█\u001b[39m█\u001b[39m▆\u001b[39m▆\u001b[39m▄\u001b[39m▃\u001b[39m▃\u001b[39m▂\u001b[39m▂\u001b[39m▂\u001b[39m▂\u001b[39m▁\u001b[39m▁\u001b[39m▁\u001b[39m▁\u001b[39m▁\u001b[39m▁\u001b[39m▁\u001b[39m▁\u001b[39m▁\u001b[39m▁\u001b[39m▁\u001b[39m▂\u001b[39m▂\u001b[39m▁\u001b[39m▂\u001b[39m▁\u001b[39m▁\u001b[39m▂\u001b[39m▁\u001b[39m▁\u001b[39m▁\u001b[39m▁\u001b[39m▁\u001b[39m▁\u001b[39m \u001b[39m▃\n",
       "  34.3 μs\u001b[90m         Histogram: frequency by time\u001b[39m        64.6 μs \u001b[0m\u001b[1m<\u001b[22m\n",
       "\n",
       " Memory estimate\u001b[90m: \u001b[39m\u001b[33m53.28 KiB\u001b[39m, allocs estimate\u001b[90m: \u001b[39m\u001b[33m110\u001b[39m."
      ]
     },
     "metadata": {},
     "output_type": "display_data"
    }
   ],
   "source": [
    "@benchmark energytotal($dist2mat_55,$suttonchenpot)"
   ]
  },
  {
   "cell_type": "markdown",
   "metadata": {},
   "source": [
    "# An alternative approach\n",
    "\n",
    "Considering that the $\\rho_i$ term depends on the square of sums, we can't simply update the total energy by considering the change to a single $r_{ij}$ on the global energy.\n",
    "\n",
    "Rather than calculating $E_i$ and being unable to _separate_ the terms, we can store the $\\phi_i,\\rho_i$ terms. This may result in slower calculation of the global terms, but it may speed up the calculation of $E_{new}$ at each step."
   ]
  },
  {
   "cell_type": "code",
   "execution_count": 9,
   "metadata": {},
   "outputs": [
    {
     "data": {
      "text/plain": [
       "calc_total_energy (generic function with 1 method)"
      ]
     },
     "metadata": {},
     "output_type": "display_data"
    }
   ],
   "source": [
    "function invrexp(r2,n,m)\n",
    "    if r2 != 0.\n",
    "        r_term = 1/sqrt(r2)\n",
    "        return r_term^n , r_term^m\n",
    "    else\n",
    "        return 0. , 0.\n",
    "    end    \n",
    "end\n",
    "\n",
    "function calc_components(eatomvec,distancevec,n,m)\n",
    "    for dist in distancevec\n",
    "        eatomvec .+= invrexp(dist,n,m)\n",
    "    end\n",
    "    return eatomvec\n",
    "end\n",
    "function calc_all_components(dist2_mat,n,m)\n",
    "    n_atoms = size(dist2_mat)[1]\n",
    "    component_vector = zeros(n_atoms,2)\n",
    "    for row_index in 1:n_atoms\n",
    "        component_vector[row_index,:] = calc_components(component_vector[row_index,:],dist2_mat[row_index,:],n,m)\n",
    "    end\n",
    "    return component_vector\n",
    "end\n",
    "function calc_energies_from_components(component_vector,ean,ecam)\n",
    "    return sum(ean.*component_vector[:,1] .- ecam*sqrt.(component_vector[:,2]))\n",
    "end\n",
    "function calc_total_energy(dist2_mat,pot::EmbeddedAtomPotential)\n",
    "    componentvec = calc_all_components(dist2_mat,pot.n,pot.m)\n",
    "    return componentvec,calc_energies_from_components(componentvec,pot.ean,pot.eCam) \n",
    "end"
   ]
  },
  {
   "cell_type": "code",
   "execution_count": 10,
   "metadata": {},
   "outputs": [
    {
     "data": {
      "text/plain": [
       "([1.3923704520825358e-5 0.0014529219103246252; 1.1152248517093746e-5 0.0012372868606771957; … ; 6.176322918802852e-6 0.0007295761752523578; 5.340590516223844e-6 0.0005944969082196186], -6.119246949010012)"
      ]
     },
     "metadata": {},
     "output_type": "display_data"
    }
   ],
   "source": [
    "phirho,energytot = calc_total_energy(dist2mat_55,suttonchenpot)"
   ]
  },
  {
   "cell_type": "code",
   "execution_count": 11,
   "metadata": {},
   "outputs": [
    {
     "data": {
      "text/plain": [
       "BenchmarkTools.Trial: 10000 samples with 1 evaluation.\n",
       " Range \u001b[90m(\u001b[39m\u001b[36m\u001b[1mmin\u001b[22m\u001b[39m … \u001b[35mmax\u001b[39m\u001b[90m):  \u001b[39m\u001b[36m\u001b[1m116.563 μs\u001b[22m\u001b[39m … \u001b[35m 4.957 ms\u001b[39m  \u001b[90m┊\u001b[39m GC \u001b[90m(\u001b[39mmin … max\u001b[90m): \u001b[39m0.00% … 96.66%\n",
       " Time  \u001b[90m(\u001b[39m\u001b[34m\u001b[1mmedian\u001b[22m\u001b[39m\u001b[90m):     \u001b[39m\u001b[34m\u001b[1m126.348 μs              \u001b[22m\u001b[39m\u001b[90m┊\u001b[39m GC \u001b[90m(\u001b[39mmedian\u001b[90m):    \u001b[39m0.00%\n",
       " Time  \u001b[90m(\u001b[39m\u001b[32m\u001b[1mmean\u001b[22m\u001b[39m ± \u001b[32mσ\u001b[39m\u001b[90m):   \u001b[39m\u001b[32m\u001b[1m128.497 μs\u001b[22m\u001b[39m ± \u001b[32m83.355 μs\u001b[39m  \u001b[90m┊\u001b[39m GC \u001b[90m(\u001b[39mmean ± σ\u001b[90m):  \u001b[39m1.11% ±  1.68%\n",
       "\n",
       "  \u001b[39m \u001b[39m \u001b[39m \u001b[39m \u001b[39m▁\u001b[39m \u001b[39m \u001b[39m \u001b[39m█\u001b[39m▃\u001b[39m \u001b[39m \u001b[39m \u001b[39m▁\u001b[39m \u001b[39m \u001b[34m \u001b[39m\u001b[39m▂\u001b[39m \u001b[39m \u001b[32m \u001b[39m\u001b[39m \u001b[39m \u001b[39m \u001b[39m \u001b[39m \u001b[39m \u001b[39m \u001b[39m \u001b[39m \u001b[39m \u001b[39m \u001b[39m \u001b[39m \u001b[39m \u001b[39m \u001b[39m \u001b[39m \u001b[39m \u001b[39m \u001b[39m \u001b[39m \u001b[39m \u001b[39m \u001b[39m \u001b[39m \u001b[39m \u001b[39m \u001b[39m \u001b[39m \u001b[39m \u001b[39m \u001b[39m \u001b[39m \u001b[39m \u001b[39m \u001b[39m \u001b[39m \u001b[39m \u001b[39m \u001b[39m \u001b[39m \n",
       "  \u001b[39m▃\u001b[39m▁\u001b[39m▁\u001b[39m▁\u001b[39m█\u001b[39m▃\u001b[39m▂\u001b[39m▂\u001b[39m█\u001b[39m█\u001b[39m▄\u001b[39m▄\u001b[39m▆\u001b[39m█\u001b[39m▅\u001b[39m▅\u001b[34m▇\u001b[39m\u001b[39m█\u001b[39m█\u001b[39m▆\u001b[32m▅\u001b[39m\u001b[39m▆\u001b[39m▅\u001b[39m▄\u001b[39m▄\u001b[39m▃\u001b[39m▃\u001b[39m▃\u001b[39m▂\u001b[39m▂\u001b[39m▂\u001b[39m▂\u001b[39m▂\u001b[39m▂\u001b[39m▂\u001b[39m▂\u001b[39m▁\u001b[39m▂\u001b[39m▁\u001b[39m▁\u001b[39m▁\u001b[39m▁\u001b[39m▁\u001b[39m▁\u001b[39m▁\u001b[39m▁\u001b[39m▁\u001b[39m▁\u001b[39m▁\u001b[39m▁\u001b[39m▁\u001b[39m▁\u001b[39m▁\u001b[39m▁\u001b[39m▁\u001b[39m▁\u001b[39m▁\u001b[39m▁\u001b[39m▁\u001b[39m▁\u001b[39m \u001b[39m▂\n",
       "  117 μs\u001b[90m          Histogram: frequency by time\u001b[39m          152 μs \u001b[0m\u001b[1m<\u001b[22m\n",
       "\n",
       " Memory estimate\u001b[90m: \u001b[39m\u001b[33m34.34 KiB\u001b[39m, allocs estimate\u001b[90m: \u001b[39m\u001b[33m116\u001b[39m."
      ]
     },
     "metadata": {},
     "output_type": "display_data"
    }
   ],
   "source": [
    "@benchmark calc_total_energy($dist2mat_55,$copperpot)"
   ]
  },
  {
   "cell_type": "code",
   "execution_count": 12,
   "metadata": {},
   "outputs": [
    {
     "data": {
      "text/plain": [
       "update_components (generic function with 1 method)"
      ]
     },
     "metadata": {},
     "output_type": "display_data"
    }
   ],
   "source": [
    "function update_components(componentvec,atomindex,old_r2_vec,new_r2_vec,n,m)\n",
    "    new_component_vec= copy(componentvec)\n",
    "\n",
    "    for j_index in eachindex(new_r2_vec)\n",
    "        j_term = invrexp(new_r2_vec[j_index],n,m) .- invrexp(old_r2_vec[j_index],n,m)\n",
    "        new_component_vec[j_index,:] .+= j_term \n",
    "        new_component_vec[atomindex,:] .+= j_term \n",
    "    end\n",
    "    return new_component_vec\n",
    "end"
   ]
  },
  {
   "cell_type": "code",
   "execution_count": 13,
   "metadata": {},
   "outputs": [
    {
     "data": {
      "text/plain": [
       "3-element Vector{Float64}:\n",
       "  1.764752985534391\n",
       " -3.3925157884546686\n",
       "  1.5464230925690106"
      ]
     },
     "metadata": {},
     "output_type": "display_data"
    }
   ],
   "source": [
    "testindex,test_disp = 3,[0.5,0.5,-0.5]\n",
    "test_pos = pos_cu55[testindex] + test_disp"
   ]
  },
  {
   "cell_type": "code",
   "execution_count": 14,
   "metadata": {},
   "outputs": [
    {
     "data": {
      "text/plain": [
       "-6.0788077775169675"
      ]
     },
     "metadata": {},
     "output_type": "display_data"
    }
   ],
   "source": [
    "newdisvector = [distance2(test_pos,b) for b in pos_cu55]\n",
    "newdisvector[testindex] = 0.\n",
    "\n",
    "testenergyd2mat = copy(dist2mat_55)\n",
    "testenergyd2mat[3,:] = newdisvector\n",
    "testenergyd2mat[:,3] = newdisvector\n",
    "\n",
    "newphirho,newentot = calc_total_energy(testenergyd2mat,suttonchenpot)\n",
    "\n",
    "new_component_vector = update_components(phirho,3,dist2mat_55[3,:],newdisvector,9.,6.)\n",
    "enew = calc_energies_from_components(new_component_vector,suttonchenpot.ean,suttonchenpot.eCam)"
   ]
  },
  {
   "cell_type": "code",
   "execution_count": 15,
   "metadata": {},
   "outputs": [
    {
     "data": {
      "text/plain": [
       "calc_new_energy (generic function with 1 method)"
      ]
     },
     "metadata": {},
     "output_type": "display_data"
    }
   ],
   "source": [
    "function calc_new_energy(componentvec,atomindex,old_r2,new_r2,pot::EmbeddedAtomPotential)\n",
    "    new_component_vector = update_components(componentvec,atomindex,old_r2,new_r2,pot.n,pot.m)\n",
    "    newenergy = calc_energies_from_components(new_component_vector,pot.ean,pot.eCam)\n",
    "\n",
    "    return new_component_vector , newenergy \n",
    "end"
   ]
  },
  {
   "cell_type": "code",
   "execution_count": 16,
   "metadata": {},
   "outputs": [
    {
     "data": {
      "text/plain": [
       "-6.0788077775169675"
      ]
     },
     "metadata": {},
     "output_type": "display_data"
    }
   ],
   "source": [
    "calc_new_energy(phirho,3,dist2mat_55[3,:],newdisvector,suttonchenpot)[2]"
   ]
  },
  {
   "cell_type": "code",
   "execution_count": 17,
   "metadata": {},
   "outputs": [
    {
     "data": {
      "text/plain": [
       "BenchmarkTools.Trial: 10000 samples with 9 evaluations.\n",
       " Range \u001b[90m(\u001b[39m\u001b[36m\u001b[1mmin\u001b[22m\u001b[39m … \u001b[35mmax\u001b[39m\u001b[90m):  \u001b[39m\u001b[36m\u001b[1m2.934 μs\u001b[22m\u001b[39m … \u001b[35m602.042 μs\u001b[39m  \u001b[90m┊\u001b[39m GC \u001b[90m(\u001b[39mmin … max\u001b[90m): \u001b[39m 0.00% … 98.63%\n",
       " Time  \u001b[90m(\u001b[39m\u001b[34m\u001b[1mmedian\u001b[22m\u001b[39m\u001b[90m):     \u001b[39m\u001b[34m\u001b[1m3.551 μs               \u001b[22m\u001b[39m\u001b[90m┊\u001b[39m GC \u001b[90m(\u001b[39mmedian\u001b[90m):    \u001b[39m 0.00%\n",
       " Time  \u001b[90m(\u001b[39m\u001b[32m\u001b[1mmean\u001b[22m\u001b[39m ± \u001b[32mσ\u001b[39m\u001b[90m):   \u001b[39m\u001b[32m\u001b[1m4.974 μs\u001b[22m\u001b[39m ± \u001b[32m 20.035 μs\u001b[39m  \u001b[90m┊\u001b[39m GC \u001b[90m(\u001b[39mmean ± σ\u001b[90m):  \u001b[39m13.87% ±  3.42%\n",
       "\n",
       "  \u001b[39m \u001b[39m \u001b[39m█\u001b[39m█\u001b[39m \u001b[39m \u001b[39m \u001b[39m \u001b[34m \u001b[39m\u001b[39m \u001b[39m \u001b[39m \u001b[39m \u001b[39m \u001b[39m \u001b[39m \u001b[39m \u001b[39m \u001b[39m \u001b[39m \u001b[39m \u001b[39m \u001b[39m \u001b[39m \u001b[39m \u001b[32m \u001b[39m\u001b[39m \u001b[39m \u001b[39m \u001b[39m \u001b[39m \u001b[39m \u001b[39m \u001b[39m \u001b[39m \u001b[39m \u001b[39m \u001b[39m \u001b[39m \u001b[39m \u001b[39m \u001b[39m \u001b[39m \u001b[39m \u001b[39m \u001b[39m \u001b[39m \u001b[39m \u001b[39m \u001b[39m \u001b[39m \u001b[39m \u001b[39m \u001b[39m \u001b[39m \u001b[39m \u001b[39m \u001b[39m \u001b[39m \u001b[39m \u001b[39m \n",
       "  \u001b[39m▂\u001b[39m▆\u001b[39m█\u001b[39m█\u001b[39m█\u001b[39m▅\u001b[39m▃\u001b[39m▃\u001b[34m▃\u001b[39m\u001b[39m▂\u001b[39m▂\u001b[39m▂\u001b[39m▂\u001b[39m▂\u001b[39m▂\u001b[39m▂\u001b[39m▁\u001b[39m▁\u001b[39m▁\u001b[39m▁\u001b[39m▂\u001b[39m▂\u001b[39m▁\u001b[39m▁\u001b[39m▁\u001b[32m▁\u001b[39m\u001b[39m▂\u001b[39m▃\u001b[39m▄\u001b[39m▄\u001b[39m▅\u001b[39m▅\u001b[39m▄\u001b[39m▄\u001b[39m▃\u001b[39m▃\u001b[39m▄\u001b[39m▃\u001b[39m▃\u001b[39m▂\u001b[39m▂\u001b[39m▁\u001b[39m▁\u001b[39m▁\u001b[39m▁\u001b[39m▁\u001b[39m▁\u001b[39m▁\u001b[39m▁\u001b[39m▁\u001b[39m▁\u001b[39m▁\u001b[39m▁\u001b[39m▁\u001b[39m▁\u001b[39m▁\u001b[39m▁\u001b[39m▁\u001b[39m▁\u001b[39m \u001b[39m▂\n",
       "  2.93 μs\u001b[90m         Histogram: frequency by time\u001b[39m        7.67 μs \u001b[0m\u001b[1m<\u001b[22m\n",
       "\n",
       " Memory estimate\u001b[90m: \u001b[39m\u001b[33m12.48 KiB\u001b[39m, allocs estimate\u001b[90m: \u001b[39m\u001b[33m117\u001b[39m."
      ]
     },
     "metadata": {},
     "output_type": "display_data"
    }
   ],
   "source": [
    "@benchmark calc_new_energy($phirho,$3,$dist2mat_55[3,:],$newdisvector,$suttonchenpot)"
   ]
  },
  {
   "cell_type": "markdown",
   "metadata": {},
   "source": [
    "# Finishing up\n",
    "\n",
    "With the majority of the functions complete, it's just a matter of including them in the main code. Specifically how this is done is never the most fun challenge, but something to work on nevertheless."
   ]
  },
  {
   "cell_type": "code",
   "execution_count": 18,
   "metadata": {},
   "outputs": [
    {
     "data": {
      "text/plain": [
       "([1.3923704520825358e-5 0.0014529219103246252; 1.1152248517093746e-5 0.0012372868606771957; … ; 6.176322918802852e-6 0.0007295761752523578; 5.340590516223844e-6 0.0005944969082196186], -6.119246949010012)"
      ]
     },
     "metadata": {},
     "output_type": "display_data"
    }
   ],
   "source": [
    "get_energy(dist2mat_55,suttonchenpot)"
   ]
  },
  {
   "cell_type": "markdown",
   "metadata": {},
   "source": [
    "# Incorporating this  into MCRun\n",
    "\n",
    "With the energy functions complete, it's time to migrate this to mc_cycles. Because we have the additional output, we need to tailor the move function as well. I think the next goal is to create a new way to handle these data (change vectors within the states struct to prevent constant redefinition)"
   ]
  },
  {
   "cell_type": "code",
   "execution_count": 35,
   "metadata": {},
   "outputs": [
    {
     "data": {
      "text/plain": [
       "Output{Float64}(100, 0.0, 0.0, Float64[], Float64[], Float64[], Vector{Float64}[], Matrix{Float64}[], Vector{Float64}[], Float64[], Float64[], Float64[], Float64[])"
      ]
     },
     "metadata": {},
     "output_type": "display_data"
    }
   ],
   "source": [
    "n_atoms = 55\n",
    "\n",
    "ti = 550\n",
    "tf = 900\n",
    "\n",
    "n_traj = 20\n",
    "\n",
    "temp = TempGrid{n_traj}(ti,tf)\n",
    "mc_cycles = 1000\n",
    "mc_sample = 1\n",
    "displ_atom = 0.1 # Angstrom\n",
    "n_adjust = 100\n",
    "max_displ_atom = [0.1*sqrt(displ_atom*temp.t_grid[i]) for i in 1:n_traj]\n",
    "mc_params = MCParams(mc_cycles, n_traj, n_atoms, mc_sample = mc_sample, n_adjust = n_adjust)\n",
    "move_strat = MoveStrategy(atom_moves = n_atoms)  \n",
    "ensemble = NVT(n_atoms)\n",
    "bc_cu55 = SphericalBC(radius=14*AtoBohr)\n",
    "start_config = Config(pos_cu55, bc_cu55)\n",
    "n_bin = 100\n",
    "mc_states = [MCState(temp.t_grid[i], temp.beta_grid[i], start_config, suttonchenpot) for i in 1:n_traj]\n",
    "results = Output{Float64}(n_bin; en_min = mc_states[1].en_tot)"
   ]
  },
  {
   "cell_type": "code",
   "execution_count": 20,
   "metadata": {},
   "outputs": [
    {
     "name": "stdout",
     "output_type": "stream",
     "text": [
      "equilibration done\n"
     ]
    },
    {
     "name": "stdout",
     "output_type": "stream",
     "text": [
      "MC loop done.\n",
      "cc\n"
     ]
    },
    {
     "name": "stdout",
     "output_type": "stream",
     "text": [
      "[0.20483691353034655, 0.2760021888033328, 0.20801943420650254, 0.16356330336131344, 0.18372807366721183, 0.3791318968348239, 0.20706622528531893, 0.29191311698733713, 0.5214723784030464, 0.33033394383028536, 0.35158502440772427, 0.5230247769862066, 0.3989315284645141, 0.2502862239262399, 0.2975674841214572, 0.6148424015042712, 0.5843053013104098, 0.5156293881617259, 0.29950202601760234, 0.5664572076342437]\n",
      "done\n"
     ]
    },
    {
     "data": {
      "text/plain": [
       "-5.9117901173732434"
      ]
     },
     "metadata": {},
     "output_type": "display_data"
    }
   ],
   "source": [
    "ptmc_run!((mc_states, move_strat, mc_params, suttonchenpot, ensemble, results); save=false)\n",
    "results.en_max"
   ]
  },
  {
   "cell_type": "code",
   "execution_count": 36,
   "metadata": {},
   "outputs": [
    {
     "data": {
      "text/plain": [
       "20-element Vector{MCState{Float64, 55, SphericalBC{Float64}}}:\n",
       " MCState{Float64, 55, SphericalBC{Float64}}(550.0, 574.1363368419949, Config{55, SphericalBC{Float64}, Float64}(SVector{3, Float64}[[4.5112139495856e-6, -1.3138293967695e-5, 3.4601504321700004e-7], [-3.980885942754e-6, -3.3375035158614e-6, 4.575916827038472], [1.264752985534391, -3.8925157884546686, 2.0464230925690106], [-3.311163519470279, -2.405710469814843, 2.0464114164455425], [-3.311163596895427, 2.40569285113995, 2.0464011106786812], [1.264752859461583, 3.8924983184634674, 2.046406418069819], [4.092824837722801, -8.6887460654154e-6, 2.046420003785219], [-1.2647438377188622, -3.8925245957365804, -2.046405726039733], [-4.092815815294902, -1.75878418699746e-5, -2.0464193117551326], [-1.26474396379167, 3.8924895111815556, -2.046422400538924]  …  [2.0744963372369405, 6.384583971948036, -4.148977939714466], [6.5594487104586, 4.765688045720408, -4.053952548518178], [6.713184197946128, -2.1916113212552402e-5, -4.1489556556605045], [6.551856711910972, -4.730270662797645, -4.058452217783108], [-1.2820847296802604, -3.9459310282596545, -6.7131655686332365], [-4.148951491146777, -2.75845933165806e-5, -6.713179340717135], [-1.282084857808603, 3.9458759515720923, -6.71318247198198], [3.3566029234199006, 2.4386750098556425, -6.71317063552679], [3.356603002900584, -2.438729936489156, -6.713160188613198], [2.1333711654662402e-5, -3.25548767294442e-5, -9.06491829912888]], SphericalBC{Float64}(699.9286051500884)), [0.0 20.93901164147001 … 62.28061741988252 82.17275004373793; 20.93901164147001 0.0 … 144.65745773351938 186.07238294077558; … ; 62.28061741988252 144.65745773351938 … 0.0 22.74465163139474; 82.17275004373793 186.07238294077558 … 22.74465163139474 0.0], [1.3923758183898475e-5 0.0014529484614734958; 1.1152251047058643e-5 0.001237289655604306; … ; 6.214035589135975e-6 0.0007322819397964277; 5.3406277968578485e-6 0.000594518343437443], -6.119268196146242, Float64[], [0.1, 0.1, 1.0], [1, 1], [0, 0], [0, 0], [0, 0])\n",
       " MCState{Float64, 55, SphericalBC{Float64}}(564.4422600460497, 559.4460365836798, Config{55, SphericalBC{Float64}, Float64}(SVector{3, Float64}[[4.5112139495856e-6, -1.3138293967695e-5, 3.4601504321700004e-7], [-3.980885942754e-6, -3.3375035158614e-6, 4.575916827038472], [1.264752985534391, -3.8925157884546686, 2.0464230925690106], [-3.311163519470279, -2.405710469814843, 2.0464114164455425], [-3.311163596895427, 2.40569285113995, 2.0464011106786812], [1.264752859461583, 3.8924983184634674, 2.046406418069819], [4.092824837722801, -8.6887460654154e-6, 2.046420003785219], [-1.2647438377188622, -3.8925245957365804, -2.046405726039733], [-4.092815815294902, -1.75878418699746e-5, -2.0464193117551326], [-1.26474396379167, 3.8924895111815556, -2.046422400538924]  …  [2.027684887771779, 6.43408829423836, -4.180982323305731], [6.5594487104586, 4.765688045720408, -4.053952548518178], [6.713184197946128, -2.1916113212552402e-5, -4.1489556556605045], [6.559448864623718, -4.765731476432347, -4.053932133630629], [-1.2820847296802604, -3.9459310282596545, -6.7131655686332365], [-4.148951491146777, -2.75845933165806e-5, -6.713179340717135], [-1.282084857808603, 3.9458759515720923, -6.71318247198198], [3.3566029234199006, 2.4386750098556425, -6.71317063552679], [3.356603002900584, -2.438729936489156, -6.713160188613198], [2.1333711654662402e-5, -3.25548767294442e-5, -9.06491829912888]], SphericalBC{Float64}(699.9286051500884)), [0.0 20.93901164147001 … 62.28061741988252 82.17275004373793; 20.93901164147001 0.0 … 144.65745773351938 186.07238294077558; … ; 62.28061741988252 144.65745773351938 … 0.0 22.74465163139474; 82.17275004373793 186.07238294077558 … 22.74465163139474 0.0], [1.3923286179422169e-5 0.0014527836712977754; 1.1152233198613632e-5 0.0012372731520336451; … ; 6.176239396437423e-6 0.0007295313922441026; 5.340546907754822e-6 0.0005944801373009989], -6.119051293007541, Float64[], [0.1, 0.1, 1.0], [1, 1], [0, 0], [0, 0], [0, 0])\n",
       " MCState{Float64, 55, SphericalBC{Float64}}(579.2637544107133, 545.1316138092155, Config{55, SphericalBC{Float64}, Float64}(SVector{3, Float64}[[4.5112139495856e-6, -1.3138293967695e-5, 3.4601504321700004e-7], [-3.980885942754e-6, -3.3375035158614e-6, 4.575916827038472], [1.264752985534391, -3.8925157884546686, 2.0464230925690106], [-3.311163519470279, -2.405710469814843, 2.0464114164455425], [-3.311163596895427, 2.40569285113995, 2.0464011106786812], [1.264752859461583, 3.8924983184634674, 2.046406418069819], [4.092824837722801, -8.6887460654154e-6, 2.046420003785219], [-1.2647438377188622, -3.8925245957365804, -2.046405726039733], [-4.092815815294902, -1.75878418699746e-5, -2.0464193117551326], [-1.26474396379167, 3.8924895111815556, -2.046422400538924]  …  [2.0744963372369405, 6.384583971948036, -4.148977939714466], [6.5594487104586, 4.765688045720408, -4.053952548518178], [6.713184197946128, -2.1916113212552402e-5, -4.1489556556605045], [6.559448864623718, -4.765731476432347, -4.053932133630629], [-1.2820847296802604, -3.9459310282596545, -6.7131655686332365], [-4.148951491146777, -2.75845933165806e-5, -6.713179340717135], [-1.282084857808603, 3.9458759515720923, -6.71318247198198], [3.3566029234199006, 2.4386750098556425, -6.71317063552679], [3.356603002900584, -2.438729936489156, -6.713160188613198], [2.1333711654662402e-5, -3.25548767294442e-5, -9.06491829912888]], SphericalBC{Float64}(699.9286051500884)), [0.0 20.93901164147001 … 62.28061741988252 82.17275004373793; 20.93901164147001 0.0 … 144.65745773351938 186.07238294077558; … ; 62.28061741988252 144.65745773351938 … 0.0 22.74465163139474; 82.17275004373793 186.07238294077558 … 22.74465163139474 0.0], [1.3923766814008065e-5 0.0014529527134299423; 1.1152252725987027e-5 0.001237291504480832; … ; 6.176324608778259e-6 0.0007295781284334298; 5.340606229091684e-6 0.0005945059634860753], -6.119270490671369, Float64[], [0.1, 0.1, 1.0], [1, 1], [0, 0], [0, 0], [0, 0])\n",
       " MCState{Float64, 55, SphericalBC{Float64}}(594.4744412769872, 531.1834510240385, Config{55, SphericalBC{Float64}, Float64}(SVector{3, Float64}[[4.5112139495856e-6, -1.3138293967695e-5, 3.4601504321700004e-7], [-3.980885942754e-6, -3.3375035158614e-6, 4.575916827038472], [1.264752985534391, -3.8925157884546686, 2.0464230925690106], [-3.311163519470279, -2.405710469814843, 2.0464114164455425], [-3.311163596895427, 2.40569285113995, 2.0464011106786812], [1.264752859461583, 3.8924983184634674, 2.046406418069819], [4.092824837722801, -8.6887460654154e-6, 2.046420003785219], [-1.2647438377188622, -3.8925245957365804, -2.046405726039733], [-4.092815815294902, -1.75878418699746e-5, -2.0464193117551326], [-1.26474396379167, 3.8924895111815556, -2.046422400538924]  …  [2.0744963372369405, 6.384583971948036, -4.148977939714466], [6.5594487104586, 4.765688045720408, -4.053952548518178], [6.713184197946128, -2.1916113212552402e-5, -4.1489556556605045], [6.559448864623718, -4.765731476432347, -4.053932133630629], [-1.2820847296802604, -3.9459310282596545, -6.7131655686332365], [-4.148951491146777, -2.75845933165806e-5, -6.713179340717135], [-1.282084857808603, 3.9458759515720923, -6.71318247198198], [3.3566029234199006, 2.4386750098556425, -6.71317063552679], [3.356603002900584, -2.438729936489156, -6.713160188613198], [2.1333711654662402e-5, -3.25548767294442e-5, -9.06491829912888]], SphericalBC{Float64}(699.9286051500884)), [0.0 20.93901164147001 … 62.28061741988252 82.17275004373793; 20.93901164147001 0.0 … 144.65745773351938 186.07238294077558; … ; 62.28061741988252 144.65745773351938 … 0.0 22.74465163139474; 82.17275004373793 186.07238294077558 … 22.74465163139474 0.0], [1.392390974069113e-5 0.0014529888847597244; 1.1134809562826512e-5 0.0012361013518320265; … ; 6.176324542137366e-6 0.0007295789268787832; 5.340590760410972e-6 0.0005944976127731165], -6.119204307831756, Float64[], [0.1, 0.1, 1.0], [1, 1], [0, 0], [0, 0], [0, 0])\n",
       " MCState{Float64, 55, SphericalBC{Float64}}(610.0845403163552, 517.5921768143055, Config{55, SphericalBC{Float64}, Float64}(SVector{3, Float64}[[4.5112139495856e-6, -1.3138293967695e-5, 3.4601504321700004e-7], [-3.980885942754e-6, -3.3375035158614e-6, 4.575916827038472], [1.264752985534391, -3.8925157884546686, 2.0464230925690106], [-3.311163519470279, -2.405710469814843, 2.0464114164455425], [-3.311163596895427, 2.40569285113995, 2.0464011106786812], [1.264752859461583, 3.8924983184634674, 2.046406418069819], [4.092824837722801, -8.6887460654154e-6, 2.046420003785219], [-1.2647438377188622, -3.8925245957365804, -2.046405726039733], [-4.092815815294902, -1.75878418699746e-5, -2.0464193117551326], [-1.26474396379167, 3.8924895111815556, -2.046422400538924]  …  [2.0744963372369405, 6.384583971948036, -4.148977939714466], [6.5594487104586, 4.765688045720408, -4.053952548518178], [6.713184197946128, -2.1916113212552402e-5, -4.1489556556605045], [6.559448864623718, -4.765731476432347, -4.053932133630629], [-1.2820847296802604, -3.9459310282596545, -6.7131655686332365], [-4.148951491146777, -2.75845933165806e-5, -6.713179340717135], [-1.282084857808603, 3.9458759515720923, -6.71318247198198], [3.3566029234199006, 2.4386750098556425, -6.71317063552679], [3.356603002900584, -2.438729936489156, -6.713160188613198], [2.1333711654662402e-5, -3.25548767294442e-5, -9.06491829912888]], SphericalBC{Float64}(699.9286051500884)), [0.0 20.93901164147001 … 62.28061741988252 82.17275004373793; 20.93901164147001 0.0 … 144.65745773351938 186.07238294077558; … ; 62.28061741988252 144.65745773351938 … 0.0 22.74465163139474; 82.17275004373793 186.07238294077558 … 22.74465163139474 0.0], [1.3923607016186538e-5 0.0014528898989065897; 1.1166014659608433e-5 0.0012382175833181579; … ; 6.176322083446094e-6 0.0007295747496305489; 5.340590389313021e-6 0.0005944965401909555], -6.1192042863412865, Float64[], [0.1, 0.1, 1.0], [1, 1], [0, 0], [0, 0], [0, 0])\n",
       " MCState{Float64, 55, SphericalBC{Float64}}(626.104539555125, 504.3486595504791, Config{55, SphericalBC{Float64}, Float64}(SVector{3, Float64}[[4.5112139495856e-6, -1.3138293967695e-5, 3.4601504321700004e-7], [-3.980885942754e-6, -3.3375035158614e-6, 4.575916827038472], [1.264752985534391, -3.8925157884546686, 2.0464230925690106], [-3.311163519470279, -2.405710469814843, 2.0464114164455425], [-3.311163596895427, 2.40569285113995, 2.0464011106786812], [1.264752859461583, 3.8924983184634674, 2.046406418069819], [4.092824837722801, -8.6887460654154e-6, 2.046420003785219], [-1.2647438377188622, -3.8925245957365804, -2.046405726039733], [-4.092815815294902, -1.75878418699746e-5, -2.0464193117551326], [-1.26474396379167, 3.8924895111815556, -2.046422400538924]  …  [2.0744963372369405, 6.384583971948036, -4.148977939714466], [6.5594487104586, 4.765688045720408, -4.053952548518178], [6.713184197946128, -2.1916113212552402e-5, -4.1489556556605045], [6.559448864623718, -4.765731476432347, -4.053932133630629], [-1.2820847296802604, -3.9459310282596545, -6.7131655686332365], [-4.148951491146777, -2.75845933165806e-5, -6.713179340717135], [-1.282084857808603, 3.9458759515720923, -6.71318247198198], [3.3566029234199006, 2.4386750098556425, -6.71317063552679], [3.356603002900584, -2.438729936489156, -6.713160188613198], [2.1333711654662402e-5, -3.25548767294442e-5, -9.06491829912888]], SphericalBC{Float64}(699.9286051500884)), [0.0 20.93901164147001 … 62.28061741988252 82.17275004373793; 20.93901164147001 0.0 … 144.65745773351938 186.07238294077558; … ; 62.28061741988252 144.65745773351938 … 0.0 22.74465163139474; 82.17275004373793 186.07238294077558 … 22.74465163139474 0.0], [1.3923706713119991e-5 0.0014529229988381514; 1.1152250572176532e-5 0.0012372891318043159; … ; 6.176117996975997e-6 0.0007294969533044995; 5.34055087460359e-6 0.0005944739248654905], -6.1192256828448555, Float64[], [0.1, 0.1, 1.0], [1, 1], [0, 0], [0, 0], [0, 0])\n",
       " MCState{Float64, 55, SphericalBC{Float64}}(642.5452024210656, 491.4440012520194, Config{55, SphericalBC{Float64}, Float64}(SVector{3, Float64}[[4.5112139495856e-6, -1.3138293967695e-5, 3.4601504321700004e-7], [-3.980885942754e-6, -3.3375035158614e-6, 4.575916827038472], [1.264752985534391, -3.8925157884546686, 2.0464230925690106], [-3.311163519470279, -2.405710469814843, 2.0464114164455425], [-3.311163596895427, 2.40569285113995, 2.0464011106786812], [1.264752859461583, 3.8924983184634674, 2.046406418069819], [4.092824837722801, -8.6887460654154e-6, 2.046420003785219], [-1.2647438377188622, -3.8925245957365804, -2.046405726039733], [-4.092815815294902, -1.75878418699746e-5, -2.0464193117551326], [-1.26474396379167, 3.8924895111815556, -2.046422400538924]  …  [2.0744963372369405, 6.384583971948036, -4.148977939714466], [6.5594487104586, 4.765688045720408, -4.053952548518178], [6.713184197946128, -2.1916113212552402e-5, -4.1489556556605045], [6.559448864623718, -4.765731476432347, -4.053932133630629], [-1.2820847296802604, -3.9459310282596545, -6.7131655686332365], [-4.148951491146777, -2.75845933165806e-5, -6.713179340717135], [-1.282084857808603, 3.9458759515720923, -6.71318247198198], [3.3566029234199006, 2.4386750098556425, -6.71317063552679], [3.356603002900584, -2.438729936489156, -6.713160188613198], [2.1333711654662402e-5, -3.25548767294442e-5, -9.06491829912888]], SphericalBC{Float64}(699.9286051500884)), [0.0 20.93901164147001 … 62.28061741988252 82.17275004373793; 20.93901164147001 0.0 … 144.65745773351938 186.07238294077558; … ; 62.28061741988252 144.65745773351938 … 0.0 22.74465163139474; 82.17275004373793 186.07238294077558 … 22.74465163139474 0.0], [1.3923704520825358e-5 0.0014529219103246252; 1.1152248517093746e-5 0.001237286860677196; … ; 6.176322918802852e-6 0.0007295761752523578; 5.340590516223844e-6 0.0005944969082196186], -6.119246949010012, Float64[], [0.1, 0.1, 1.0], [0, 0], [0, 0], [0, 0], [0, 0])\n",
       " MCState{Float64, 55, SphericalBC{Float64}}(659.4175749750777, 478.86953160905927, Config{55, SphericalBC{Float64}, Float64}(SVector{3, Float64}[[4.5112139495856e-6, -1.3138293967695e-5, 3.4601504321700004e-7], [-3.980885942754e-6, -3.3375035158614e-6, 4.575916827038472], [1.264752985534391, -3.8925157884546686, 2.0464230925690106], [-3.311163519470279, -2.405710469814843, 2.0464114164455425], [-3.311163596895427, 2.40569285113995, 2.0464011106786812], [1.264752859461583, 3.8924983184634674, 2.046406418069819], [4.092824837722801, -8.6887460654154e-6, 2.046420003785219], [-1.2647438377188622, -3.8925245957365804, -2.046405726039733], [-4.092815815294902, -1.75878418699746e-5, -2.0464193117551326], [-1.26474396379167, 3.8924895111815556, -2.046422400538924]  …  [2.0744963372369405, 6.384583971948036, -4.148977939714466], [6.5594487104586, 4.765688045720408, -4.053952548518178], [6.713184197946128, -2.1916113212552402e-5, -4.1489556556605045], [6.559448864623718, -4.765731476432347, -4.053932133630629], [-1.2820847296802604, -3.9459310282596545, -6.7131655686332365], [-4.148951491146777, -2.75845933165806e-5, -6.713179340717135], [-1.282084857808603, 3.9458759515720923, -6.71318247198198], [3.3566029234199006, 2.4386750098556425, -6.71317063552679], [3.356603002900584, -2.438729936489156, -6.713160188613198], [2.1333711654662402e-5, -3.25548767294442e-5, -9.06491829912888]], SphericalBC{Float64}(699.9286051500884)), [0.0 20.93901164147001 … 62.28061741988252 82.17275004373793; 20.93901164147001 0.0 … 144.65745773351938 186.07238294077558; … ; 62.28061741988252 144.65745773351938 … 0.0 22.74465163139474; 82.17275004373793 186.07238294077558 … 22.74465163139474 0.0], [1.3923582443961004e-5 0.0014528818120028602; 1.1152879943768696e-5 0.0012374146115832758; … ; 6.176321474261232e-6 0.0007295741657927893; 5.340589956551828e-6 0.0005944956894633708], -6.119171007708147, Float64[], [0.1, 0.1, 1.0], [1, 1], [0, 0], [0, 0], [0, 0])\n",
       " MCState{Float64, 55, SphericalBC{Float64}}(676.7329933327605, 466.61680215704445, Config{55, SphericalBC{Float64}, Float64}(SVector{3, Float64}[[4.5112139495856e-6, -1.3138293967695e-5, 3.4601504321700004e-7], [-3.980885942754e-6, -3.3375035158614e-6, 4.575916827038472], [1.264752985534391, -3.8925157884546686, 2.0464230925690106], [-3.311163519470279, -2.405710469814843, 2.0464114164455425], [-3.311163596895427, 2.40569285113995, 2.0464011106786812], [1.264752859461583, 3.8924983184634674, 2.046406418069819], [4.092824837722801, -8.6887460654154e-6, 2.046420003785219], [-1.2647438377188622, -3.8925245957365804, -2.046405726039733], [-4.092815815294902, -1.75878418699746e-5, -2.0464193117551326], [-1.26474396379167, 3.8924895111815556, -2.046422400538924]  …  [2.0744963372369405, 6.384583971948036, -4.148977939714466], [6.5594487104586, 4.765688045720408, -4.053952548518178], [6.713184197946128, -2.1916113212552402e-5, -4.1489556556605045], [6.559448864623718, -4.765731476432347, -4.053932133630629], [-1.2820847296802604, -3.9459310282596545, -6.7131655686332365], [-4.148951491146777, -2.75845933165806e-5, -6.713179340717135], [-1.282084857808603, 3.9458759515720923, -6.71318247198198], [3.3566029234199006, 2.4386750098556425, -6.71317063552679], [3.356603002900584, -2.438729936489156, -6.713160188613198], [2.1333711654662402e-5, -3.25548767294442e-5, -9.06491829912888]], SphericalBC{Float64}(699.9286051500884)), [0.0 20.93901164147001 … 62.28061741988252 82.17275004373793; 20.93901164147001 0.0 … 144.65745773351938 186.07238294077558; … ; 62.28061741988252 144.65745773351938 … 0.0 22.74465163139474; 82.17275004373793 186.07238294077558 … 22.74465163139474 0.0], [1.39233864417137e-5 0.0014528170176764865; 1.1152243499439114e-5 0.001237282388927692; … ; 6.176306014670365e-6 0.0007295603875608328; 5.3402778193155025e-6 0.0005943755895217297], -6.1191398396947045, Float64[], [0.1, 0.1, 1.0], [1, 1], [0, 0], [0, 0], [0, 0])\n",
       " MCState{Float64, 55, SphericalBC{Float64}}(694.5030912808575, 454.6775806004262, Config{55, SphericalBC{Float64}, Float64}(SVector{3, Float64}[[4.5112139495856e-6, -1.3138293967695e-5, 3.4601504321700004e-7], [-3.980885942754e-6, -3.3375035158614e-6, 4.575916827038472], [1.264752985534391, -3.8925157884546686, 2.0464230925690106], [-3.311163519470279, -2.405710469814843, 2.0464114164455425], [-3.311163596895427, 2.40569285113995, 2.0464011106786812], [1.264752859461583, 3.8924983184634674, 2.046406418069819], [4.092824837722801, -8.6887460654154e-6, 2.046420003785219], [-1.2647438377188622, -3.8925245957365804, -2.046405726039733], [-4.092815815294902, -1.75878418699746e-5, -2.0464193117551326], [-1.26474396379167, 3.8924895111815556, -2.046422400538924]  …  [2.0744963372369405, 6.384583971948036, -4.148977939714466], [6.5594487104586, 4.765688045720408, -4.053952548518178], [6.713184197946128, -2.1916113212552402e-5, -4.1489556556605045], [6.559448864623718, -4.765731476432347, -4.053932133630629], [-1.2820847296802604, -3.9459310282596545, -6.7131655686332365], [-4.148951491146777, -2.75845933165806e-5, -6.713179340717135], [-1.282084857808603, 3.9458759515720923, -6.71318247198198], [3.3566029234199006, 2.4386750098556425, -6.71317063552679], [3.356603002900584, -2.438729936489156, -6.713160188613198], [2.1333711654662402e-5, -3.25548767294442e-5, -9.06491829912888]], SphericalBC{Float64}(699.9286051500884)), [0.0 20.93901164147001 … 62.28061741988252 82.17275004373793; 20.93901164147001 0.0 … 144.65745773351938 186.07238294077558; … ; 62.28061741988252 144.65745773351938 … 0.0 22.74465163139474; 82.17275004373793 186.07238294077558 … 22.74465163139474 0.0], [1.392329380372001e-5 0.0014527862119466234; 1.1096467583976328e-5 0.0012334685647038361; … ; 6.176322258035778e-6 0.0007295746787970495; 5.3405902129692986e-6 0.0005944960266656995], -6.119125605267378, Float64[], [0.1, 0.1, 1.0], [1, 1], [0, 0], [0, 0], [0, 0])\n",
       " MCState{Float64, 55, SphericalBC{Float64}}(712.7398080937003, 443.04384528159244, Config{55, SphericalBC{Float64}, Float64}(SVector{3, Float64}[[4.5112139495856e-6, -1.3138293967695e-5, 3.4601504321700004e-7], [-3.980885942754e-6, -3.3375035158614e-6, 4.575916827038472], [1.264752985534391, -3.8925157884546686, 2.0464230925690106], [-3.311163519470279, -2.405710469814843, 2.0464114164455425], [-3.311163596895427, 2.40569285113995, 2.0464011106786812], [1.264752859461583, 3.8924983184634674, 2.046406418069819], [4.092824837722801, -8.6887460654154e-6, 2.046420003785219], [-1.2647438377188622, -3.8925245957365804, -2.046405726039733], [-4.092815815294902, -1.75878418699746e-5, -2.0464193117551326], [-1.26474396379167, 3.8924895111815556, -2.046422400538924]  …  [2.0744963372369405, 6.384583971948036, -4.148977939714466], [6.5594487104586, 4.765688045720408, -4.053952548518178], [6.713184197946128, -2.1916113212552402e-5, -4.1489556556605045], [6.559448864623718, -4.765731476432347, -4.053932133630629], [-1.2820847296802604, -3.9459310282596545, -6.7131655686332365], [-4.148951491146777, -2.75845933165806e-5, -6.713179340717135], [-1.282084857808603, 3.9458759515720923, -6.71318247198198], [3.3566029234199006, 2.4386750098556425, -6.71317063552679], [3.356603002900584, -2.438729936489156, -6.713160188613198], [2.1333711654662402e-5, -3.25548767294442e-5, -9.06491829912888]], SphericalBC{Float64}(699.9286051500884)), [0.0 20.93901164147001 … 62.28061741988252 82.17275004373793; 20.93901164147001 0.0 … 144.65745773351938 186.07238294077558; … ; 62.28061741988252 144.65745773351938 … 0.0 22.74465163139474; 82.17275004373793 186.07238294077558 … 22.74465163139474 0.0], [1.3923676126251136e-5 0.0014529126010080192; 1.1164356662405085e-5 0.001238105722258226; … ; 6.176322326381082e-6 0.0007295751649115753; 5.340590462592585e-6 0.0005944967528506219], -6.1192289925321655, Float64[], [0.1, 0.1, 1.0], [1, 1], [0, 0], [0, 0], [0, 0])\n",
       " MCState{Float64, 55, SphericalBC{Float64}}(731.4553965549018, 431.70777979132146, Config{55, SphericalBC{Float64}, Float64}(SVector{3, Float64}[[4.5112139495856e-6, -1.3138293967695e-5, 3.4601504321700004e-7], [-3.980885942754e-6, -3.3375035158614e-6, 4.575916827038472], [1.264752985534391, -3.8925157884546686, 2.0464230925690106], [-3.311163519470279, -2.405710469814843, 2.0464114164455425], [-3.311163596895427, 2.40569285113995, 2.0464011106786812], [1.264752859461583, 3.8924983184634674, 2.046406418069819], [4.092824837722801, -8.6887460654154e-6, 2.046420003785219], [-1.2647438377188622, -3.8925245957365804, -2.046405726039733], [-4.092815815294902, -1.75878418699746e-5, -2.0464193117551326], [-1.26474396379167, 3.8924895111815556, -2.046422400538924]  …  [2.0744963372369405, 6.384583971948036, -4.148977939714466], [6.5594487104586, 4.765688045720408, -4.053952548518178], [6.713184197946128, -2.1916113212552402e-5, -4.1489556556605045], [6.559448864623718, -4.765731476432347, -4.053932133630629], [-1.2820847296802604, -3.9459310282596545, -6.7131655686332365], [-4.148951491146777, -2.75845933165806e-5, -6.713179340717135], [-1.282084857808603, 3.9458759515720923, -6.71318247198198], [3.3575879827152564, 2.4475295068250493, -6.693876141861668], [3.356603002900584, -2.438729936489156, -6.713160188613198], [2.1333711654662402e-5, -3.25548767294442e-5, -9.06491829912888]], SphericalBC{Float64}(699.9286051500884)), [0.0 20.93901164147001 … 62.28061741988252 82.17275004373793; 20.93901164147001 0.0 … 144.65745773351938 186.07238294077558; … ; 62.28061741988252 144.65745773351938 … 0.0 22.74465163139474; 82.17275004373793 186.07238294077558 … 22.74465163139474 0.0], [1.3923832760794442e-5 0.0014529638249279903; 1.1152250810174778e-5 0.0012372895150934168; … ; 6.165913299877338e-6 0.0007287687655527973; 5.319100470384878e-6 0.0005929356660228779], -6.119259155438917, Float64[], [0.1, 0.1, 1.0], [1, 1], [0, 0], [0, 0], [0, 0])\n",
       " MCState{Float64, 55, SphericalBC{Float64}}(750.6624311896877, 420.66176771713623, Config{55, SphericalBC{Float64}, Float64}(SVector{3, Float64}[[4.5112139495856e-6, -1.3138293967695e-5, 3.4601504321700004e-7], [-3.980885942754e-6, -3.3375035158614e-6, 4.575916827038472], [1.264752985534391, -3.8925157884546686, 2.0464230925690106], [-3.311163519470279, -2.405710469814843, 2.0464114164455425], [-3.311163596895427, 2.40569285113995, 2.0464011106786812], [1.264752859461583, 3.8924983184634674, 2.046406418069819], [4.065118060085948, -0.04087642716347684, 2.0201088425946074], [-1.2647438377188622, -3.8925245957365804, -2.046405726039733], [-4.092815815294902, -1.75878418699746e-5, -2.0464193117551326], [-1.26474396379167, 3.8924895111815556, -2.046422400538924]  …  [2.0744963372369405, 6.384583971948036, -4.148977939714466], [6.5594487104586, 4.765688045720408, -4.053952548518178], [6.713184197946128, -2.1916113212552402e-5, -4.1489556556605045], [6.559448864623718, -4.765731476432347, -4.053932133630629], [-1.2820847296802604, -3.9459310282596545, -6.7131655686332365], [-4.148951491146777, -2.75845933165806e-5, -6.713179340717135], [-1.282084857808603, 3.9458759515720923, -6.71318247198198], [3.3566029234199006, 2.4386750098556425, -6.71317063552679], [3.356603002900584, -2.438729936489156, -6.713160188613198], [2.1333711654662402e-5, -3.25548767294442e-5, -9.06491829912888]], SphericalBC{Float64}(699.9286051500884)), [0.0 20.93901164147001 … 62.28061741988252 82.17275004373793; 20.93901164147001 0.0 … 144.65745773351938 186.07238294077558; … ; 62.28061741988252 144.65745773351938 … 0.0 22.74465163139474; 82.17275004373793 186.07238294077558 … 22.74465163139474 0.0], [1.4008307753019558e-5 0.0014582611877409725; 1.1165126397990738e-5 0.001238240290235915; … ; 6.176411201579248e-6 0.0007296205734840344; 5.340596276031835e-6 0.0005945032558039848], -6.1190896181331755, Float64[], [0.1, 0.1, 1.0], [1, 1], [0, 0], [0, 0], [0, 0])\n",
       " MCState{Float64, 55, SphericalBC{Float64}}(770.3738167133993, 409.8983875260319, Config{55, SphericalBC{Float64}, Float64}(SVector{3, Float64}[[4.5112139495856e-6, -1.3138293967695e-5, 3.4601504321700004e-7], [-3.980885942754e-6, -3.3375035158614e-6, 4.575916827038472], [1.264752985534391, -3.8925157884546686, 2.0464230925690106], [-3.311163519470279, -2.405710469814843, 2.0464114164455425], [-3.311163596895427, 2.40569285113995, 2.0464011106786812], [1.264752859461583, 3.8924983184634674, 2.046406418069819], [4.092824837722801, -8.6887460654154e-6, 2.046420003785219], [-1.2647438377188622, -3.8925245957365804, -2.046405726039733], [-4.092815815294902, -1.75878418699746e-5, -2.0464193117551326], [-1.26474396379167, 3.8924895111815556, -2.046422400538924]  …  [2.0744963372369405, 6.384583971948036, -4.148977939714466], [6.5594487104586, 4.765688045720408, -4.053952548518178], [6.713184197946128, -2.1916113212552402e-5, -4.1489556556605045], [6.559448864623718, -4.765731476432347, -4.053932133630629], [-1.2820847296802604, -3.9459310282596545, -6.7131655686332365], [-4.148951491146777, -2.75845933165806e-5, -6.713179340717135], [-1.282084857808603, 3.9458759515720923, -6.71318247198198], [3.3566029234199006, 2.4386750098556425, -6.71317063552679], [3.356603002900584, -2.438729936489156, -6.713160188613198], [2.1333711654662402e-5, -3.25548767294442e-5, -9.06491829912888]], SphericalBC{Float64}(699.9286051500884)), [0.0 20.93901164147001 … 62.28061741988252 82.17275004373793; 20.93901164147001 0.0 … 144.65745773351938 186.07238294077558; … ; 62.28061741988252 144.65745773351938 … 0.0 22.74465163139474; 82.17275004373793 186.07238294077558 … 22.74465163139474 0.0], [1.392360267919831e-5 0.001452888472150113; 1.115265962862374e-5 0.0012373701224583258; … ; 6.1763227590437684e-6 0.0007295758146229392; 5.34059008575955e-6 0.0005944959715346181], -6.119169552433832, Float64[], [0.1, 0.1, 1.0], [1, 1], [0, 0], [0, 0], [0, 0])\n",
       " MCState{Float64, 55, SphericalBC{Float64}}(790.6027967018406, 399.4104075781371, Config{55, SphericalBC{Float64}, Float64}(SVector{3, Float64}[[4.5112139495856e-6, -1.3138293967695e-5, 3.4601504321700004e-7], [-3.980885942754e-6, -3.3375035158614e-6, 4.575916827038472], [1.264752985534391, -3.8925157884546686, 2.0464230925690106], [-3.311163519470279, -2.405710469814843, 2.0464114164455425], [-3.311163596895427, 2.40569285113995, 2.0464011106786812], [1.264752859461583, 3.8924983184634674, 2.046406418069819], [4.092824837722801, -8.6887460654154e-6, 2.046420003785219], [-1.2647438377188622, -3.8925245957365804, -2.046405726039733], [-4.092815815294902, -1.75878418699746e-5, -2.0464193117551326], [-1.26474396379167, 3.8924895111815556, -2.046422400538924]  …  [2.0744963372369405, 6.384583971948036, -4.148977939714466], [6.5594487104586, 4.765688045720408, -4.053952548518178], [6.713184197946128, -2.1916113212552402e-5, -4.1489556556605045], [6.559448864623718, -4.765731476432347, -4.053932133630629], [-1.2820847296802604, -3.9459310282596545, -6.7131655686332365], [-4.148951491146777, -2.75845933165806e-5, -6.713179340717135], [-1.282084857808603, 3.9458759515720923, -6.71318247198198], [3.3566029234199006, 2.4386750098556425, -6.71317063552679], [3.356603002900584, -2.438729936489156, -6.713160188613198], [2.1333711654662402e-5, -3.25548767294442e-5, -9.06491829912888]], SphericalBC{Float64}(699.9286051500884)), [0.0 20.93901164147001 … 62.28061741988252 82.17275004373793; 20.93901164147001 0.0 … 144.65745773351938 186.07238294077558; … ; 62.28061741988252 144.65745773351938 … 0.0 22.74465163139474; 82.17275004373793 186.07238294077558 … 22.74465163139474 0.0], [1.392392175534699e-5 0.0014529927892419476; 1.1152269085865834e-5 0.0012372972552456274; … ; 6.176346354563907e-6 0.000729588626224331; 5.340594860475641e-6 0.0005945019175882222], -6.119228727211807, Float64[], [0.1, 0.1, 1.0], [1, 1], [0, 0], [0, 0], [0, 0])\n",
       " MCState{Float64, 55, SphericalBC{Float64}}(811.3629624892989, 389.1907812679606, Config{55, SphericalBC{Float64}, Float64}(SVector{3, Float64}[[4.5112139495856e-6, -1.3138293967695e-5, 3.4601504321700004e-7], [-3.980885942754e-6, -3.3375035158614e-6, 4.575916827038472], [1.264752985534391, -3.8925157884546686, 2.0464230925690106], [-3.311163519470279, -2.405710469814843, 2.0464114164455425], [-3.311163596895427, 2.40569285113995, 2.0464011106786812], [1.264752859461583, 3.8924983184634674, 2.046406418069819], [4.092824837722801, -8.6887460654154e-6, 2.046420003785219], [-1.2647438377188622, -3.8925245957365804, -2.046405726039733], [-4.092815815294902, -1.75878418699746e-5, -2.0464193117551326], [-1.26474396379167, 3.8924895111815556, -2.046422400538924]  …  [2.112995061992207, 6.400609990354892, -4.10047408550939], [6.5594487104586, 4.765688045720408, -4.053952548518178], [6.713184197946128, -2.1916113212552402e-5, -4.1489556556605045], [6.559448864623718, -4.765731476432347, -4.053932133630629], [-1.2820847296802604, -3.9459310282596545, -6.7131655686332365], [-4.148951491146777, -2.75845933165806e-5, -6.713179340717135], [-1.282084857808603, 3.9458759515720923, -6.71318247198198], [3.3566029234199006, 2.4386750098556425, -6.71317063552679], [3.356603002900584, -2.438729936489156, -6.713160188613198], [2.1333711654662402e-5, -3.25548767294442e-5, -9.06491829912888]], SphericalBC{Float64}(699.9286051500884)), [0.0 20.93901164147001 … 62.28061741988252 82.17275004373793; 20.93901164147001 0.0 … 144.65745773351938 186.07238294077558; … ; 62.28061741988252 144.65745773351938 … 0.0 22.74465163139474; 82.17275004373793 186.07238294077558 … 22.74465163139474 0.0], [1.3923725254471564e-5 0.001452928701356221; 1.1152256071830062e-5 0.0012372935601341777; … ; 6.1762786698797895e-6 0.0007295525307086915; 5.340312498365112e-6 0.000594389168341938], -6.119195721385466, Float64[], [0.1, 0.1, 1.0], [1, 1], [0, 0], [0, 0], [0, 0])\n",
       " MCState{Float64, 55, SphericalBC{Float64}}(832.6682623002149, 379.23264228995663, Config{55, SphericalBC{Float64}, Float64}(SVector{3, Float64}[[4.5112139495856e-6, -1.3138293967695e-5, 3.4601504321700004e-7], [-3.980885942754e-6, -3.3375035158614e-6, 4.575916827038472], [1.264752985534391, -3.8925157884546686, 2.0464230925690106], [-3.311163519470279, -2.405710469814843, 2.0464114164455425], [-3.311163596895427, 2.40569285113995, 2.0464011106786812], [1.264752859461583, 3.8924983184634674, 2.046406418069819], [4.092824837722801, -8.6887460654154e-6, 2.046420003785219], [-1.2647438377188622, -3.8925245957365804, -2.046405726039733], [-4.121471189099021, 0.008523120351162613, -2.040410056140075], [-1.26474396379167, 3.8924895111815556, -2.046422400538924]  …  [2.0744963372369405, 6.384583971948036, -4.148977939714466], [6.5594487104586, 4.765688045720408, -4.053952548518178], [6.713184197946128, -2.1916113212552402e-5, -4.1489556556605045], [6.559448864623718, -4.765731476432347, -4.053932133630629], [-1.2820847296802604, -3.9459310282596545, -6.7131655686332365], [-4.148951491146777, -2.75845933165806e-5, -6.713179340717135], [-1.282084857808603, 3.9458759515720923, -6.71318247198198], [3.3566029234199006, 2.4386750098556425, -6.71317063552679], [3.356603002900584, -2.438729936489156, -6.713160188613198], [2.1333711654662402e-5, -3.25548767294442e-5, -9.06491829912888]], SphericalBC{Float64}(699.9286051500884)), [0.0 20.93901164147001 … 62.28061741988252 82.17275004373793; 20.93901164147001 0.0 … 144.65745773351938 186.07238294077558; … ; 62.28061741988252 144.65745773351938 … 0.0 22.74465163139474; 82.17275004373793 186.07238294077558 … 22.74465163139474 0.0], [1.3873575223482562e-5 0.0014496958058271545; 1.1152139085376918e-5 0.001237252372867268; … ; 6.176259074026641e-6 0.0007295437102490815; 5.340451036293929e-6 0.0005944468574124522], -6.119208389982615, Float64[], [0.1, 0.1, 1.0], [1, 1], [0, 0], [0, 0], [0, 0])\n",
       " MCState{Float64, 55, SphericalBC{Float64}}(854.5330106206367, 369.52930002523107, Config{55, SphericalBC{Float64}, Float64}(SVector{3, Float64}[[4.5112139495856e-6, -1.3138293967695e-5, 3.4601504321700004e-7], [-3.980885942754e-6, -3.3375035158614e-6, 4.575916827038472], [1.264752985534391, -3.8925157884546686, 2.0464230925690106], [-3.311163519470279, -2.405710469814843, 2.0464114164455425], [-3.311163596895427, 2.40569285113995, 2.0464011106786812], [1.264752859461583, 3.8924983184634674, 2.046406418069819], [4.092824837722801, -8.6887460654154e-6, 2.046420003785219], [-1.2647438377188622, -3.8925245957365804, -2.046405726039733], [-4.092815815294902, -1.75878418699746e-5, -2.0464193117551326], [-1.26474396379167, 3.8924895111815556, -2.046422400538924]  …  [2.0744963372369405, 6.384583971948036, -4.148977939714466], [6.5594487104586, 4.765688045720408, -4.053952548518178], [6.713184197946128, -2.1916113212552402e-5, -4.1489556556605045], [6.559448864623718, -4.765731476432347, -4.053932133630629], [-1.2820847296802604, -3.9459310282596545, -6.7131655686332365], [-4.148951491146777, -2.75845933165806e-5, -6.713179340717135], [-1.282084857808603, 3.9458759515720923, -6.71318247198198], [3.3566029234199006, 2.4386750098556425, -6.71317063552679], [3.356603002900584, -2.438729936489156, -6.713160188613198], [2.1333711654662402e-5, -3.25548767294442e-5, -9.06491829912888]], SphericalBC{Float64}(699.9286051500884)), [0.0 20.93901164147001 … 62.28061741988252 82.17275004373793; 20.93901164147001 0.0 … 144.65745773351938 186.07238294077558; … ; 62.28061741988252 144.65745773351938 … 0.0 22.74465163139474; 82.17275004373793 186.07238294077558 … 22.74465163139474 0.0], [1.3923517261391843e-5 0.0014528603211629767; 1.1150753367169468e-5 0.0012369812941496073; … ; 6.176324667086712e-6 0.0007295777942850954; 5.3405904760011095e-6 0.0005944968208928599], -6.11918507470639, Float64[], [0.1, 0.1, 1.0], [1, 1], [0, 0], [0, 0], [0, 0])\n",
       " MCState{Float64, 55, SphericalBC{Float64}}(876.9718978157583, 360.0742350462841, Config{55, SphericalBC{Float64}, Float64}(SVector{3, Float64}[[4.5112139495856e-6, -1.3138293967695e-5, 3.4601504321700004e-7], [-3.980885942754e-6, -3.3375035158614e-6, 4.575916827038472], [1.264752985534391, -3.8925157884546686, 2.0464230925690106], [-3.311163519470279, -2.405710469814843, 2.0464114164455425], [-3.311163596895427, 2.40569285113995, 2.0464011106786812], [1.264752859461583, 3.8924983184634674, 2.046406418069819], [4.092824837722801, -8.6887460654154e-6, 2.046420003785219], [-1.2647438377188622, -3.8925245957365804, -2.046405726039733], [-4.092815815294902, -1.75878418699746e-5, -2.0464193117551326], [-1.26474396379167, 3.8924895111815556, -2.046422400538924]  …  [2.0744963372369405, 6.384583971948036, -4.148977939714466], [6.5594487104586, 4.765688045720408, -4.053952548518178], [6.713184197946128, -2.1916113212552402e-5, -4.1489556556605045], [6.559448864623718, -4.765731476432347, -4.053932133630629], [-1.2820847296802604, -3.9459310282596545, -6.7131655686332365], [-4.148951491146777, -2.75845933165806e-5, -6.713179340717135], [-1.282084857808603, 3.9458759515720923, -6.71318247198198], [3.3566029234199006, 2.4386750098556425, -6.71317063552679], [3.356603002900584, -2.438729936489156, -6.713160188613198], [2.1333711654662402e-5, -3.25548767294442e-5, -9.06491829912888]], SphericalBC{Float64}(699.9286051500884)), [0.0 20.93901164147001 … 62.28061741988252 82.17275004373793; 20.93901164147001 0.0 … 144.65745773351938 186.07238294077558; … ; 62.28061741988252 144.65745773351938 … 0.0 22.74465163139474; 82.17275004373793 186.07238294077558 … 22.74465163139474 0.0], [1.3923118482102605e-5 0.001452727583542138; 1.1152142038298374e-5 0.001237232543033207; … ; 6.1759261519819426e-6 0.0007294451234496991; 5.340583291633745e-6 0.0005944884925580705], -6.119046128808509, Float64[], [0.1, 0.1, 1.0], [1, 1], [0, 0], [0, 0], [0, 0])\n",
       " MCState{Float64, 55, SphericalBC{Float64}}(900.0, 350.86109473677465, Config{55, SphericalBC{Float64}, Float64}(SVector{3, Float64}[[4.5112139495856e-6, -1.3138293967695e-5, 3.4601504321700004e-7], [-3.980885942754e-6, -3.3375035158614e-6, 4.575916827038472], [1.264752985534391, -3.8925157884546686, 2.0464230925690106], [-3.311163519470279, -2.405710469814843, 2.0464114164455425], [-3.311163596895427, 2.40569285113995, 2.0464011106786812], [1.264752859461583, 3.8924983184634674, 2.046406418069819], [4.092824837722801, -8.6887460654154e-6, 2.046420003785219], [-1.2647438377188622, -3.8925245957365804, -2.046405726039733], [-4.092815815294902, -1.75878418699746e-5, -2.0464193117551326], [-1.26474396379167, 3.8924895111815556, -2.046422400538924]  …  [2.0744963372369405, 6.384583971948036, -4.148977939714466], [6.5594487104586, 4.765688045720408, -4.053952548518178], [6.713184197946128, -2.1916113212552402e-5, -4.1489556556605045], [6.559448864623718, -4.765731476432347, -4.053932133630629], [-1.2820847296802604, -3.9459310282596545, -6.7131655686332365], [-4.148951491146777, -2.75845933165806e-5, -6.713179340717135], [-1.282084857808603, 3.9458759515720923, -6.71318247198198], [3.3566029234199006, 2.4386750098556425, -6.71317063552679], [3.356603002900584, -2.438729936489156, -6.713160188613198], [2.1333711654662402e-5, -3.25548767294442e-5, -9.06491829912888]], SphericalBC{Float64}(699.9286051500884)), [0.0 20.93901164147001 … 62.28061741988252 82.17275004373793; 20.93901164147001 0.0 … 144.65745773351938 186.07238294077558; … ; 62.28061741988252 144.65745773351938 … 0.0 22.74465163139474; 82.17275004373793 186.07238294077558 … 22.74465163139474 0.0], [1.3923789148937139e-5 0.0014529636947805211; 1.1152372118549907e-5 0.0012373309143944916; … ; 6.176323190966269e-6 0.0007295769602306511; 5.340591028748531e-6 0.0005944981563065816], -6.119264764524003, Float64[], [0.1, 0.1, 1.0], [1, 1], [0, 0], [0, 0], [0, 0])"
      ]
     },
     "metadata": {},
     "output_type": "display_data"
    }
   ],
   "source": [
    "mc_step!(mc_states,move_strat, mc_params, suttonchenpot, ensemble)"
   ]
  },
  {
   "cell_type": "code",
   "execution_count": 37,
   "metadata": {},
   "outputs": [
    {
     "name": "stdout",
     "output_type": "stream",
     "text": [
      "-6.119268196146242\n",
      "-6.119051293007541\n",
      "-6.119270490671369\n",
      "-6.119204307831756\n",
      "-6.1192042863412865\n",
      "-6.1192256828448555\n",
      "-6.119246949010012\n",
      "-6.119171007708147\n",
      "-6.1191398396947045\n",
      "-6.119125605267378\n",
      "-6.1192289925321655\n",
      "-6.119259155438917\n",
      "-6.1190896181331755\n",
      "-6.119169552433832\n",
      "-6.119228727211807\n",
      "-6.119195721385466\n",
      "-6.119208389982615\n",
      "-6.11918507470639\n",
      "-6.119046128808509\n",
      "-6.119264764524003\n"
     ]
    }
   ],
   "source": [
    "for state in mc_states\n",
    "    println(state.en_tot)\n",
    "end"
   ]
  },
  {
   "cell_type": "code",
   "execution_count": 22,
   "metadata": {},
   "outputs": [
    {
     "name": "stdout",
     "output_type": "stream",
     "text": [
      "-6.119246949010012\n",
      "-6.119246949010012\n",
      "-6.119246949010012\n",
      "-6.119246949010012\n",
      "-6.119246949010012\n",
      "-6.119246949010012\n",
      "-6.119246949010012\n",
      "-6.119246949010012\n",
      "-6.119246949010012\n",
      "-6.119246949010012\n",
      "-6.119246949010012\n",
      "-6.119246949010012\n",
      "-6.119246949010012\n",
      "-6.119246949010012\n",
      "-6.119246949010012\n",
      "-6.119246949010012\n",
      "-6.119246949010012\n",
      "-6.119246949010012\n",
      "-6.119246949010012\n",
      "-6.119246949010012\n"
     ]
    }
   ],
   "source": [
    "mc_states = [MCState(temp.t_grid[i], temp.beta_grid[i], start_config, suttonchenpot) for i in 1:n_traj]\n",
    "for state in mc_states\n",
    "    println(state.en_tot)\n",
    "end"
   ]
  },
  {
   "cell_type": "code",
   "execution_count": 23,
   "metadata": {},
   "outputs": [
    {
     "name": "stdout",
     "output_type": "stream",
     "text": [
      "-6.097480333838161\n",
      "-6.092999561405849\n",
      "-6.094629180985897\n",
      "-6.098957634301954\n",
      "-6.097634600529146\n",
      "-6.085922233980932\n",
      "-6.096058156475707\n",
      "-6.084104009392057\n",
      "-6.088657425726878\n",
      "-6.0971209273848395\n",
      "-6.097220665481621\n",
      "-6.095946330434252\n",
      "-6.094696465914609\n",
      "-6.090936435519146\n",
      "-6.094491051629016\n",
      "-6.0935157159499385\n",
      "-6.089631176558095\n",
      "-6.094195885497376\n",
      "-6.096488060398768\n",
      "-6.095726979889986\n"
     ]
    }
   ],
   "source": [
    "for i in 1:500\n",
    "    mc_states = mc_cycle!(mc_states,move_strat,mc_params,suttonchenpot,ensemble,1,55,0,0)\n",
    "    for state in mc_states\n",
    "        if state.en_tot > 0 \n",
    "            println(\"problem at $i\")\n",
    "        end\n",
    "    end\n",
    "end\n",
    "for state in mc_states\n",
    "    println(state.en_tot)\n",
    "end"
   ]
  },
  {
   "cell_type": "code",
   "execution_count": 24,
   "metadata": {},
   "outputs": [
    {
     "data": {
      "text/plain": [
       "(MCState{Float64, 55, SphericalBC{Float64}}[MCState{Float64, 55, SphericalBC{Float64}}(550.0, 574.1363368419949, Config{55, SphericalBC{Float64}, Float64}(SVector{3, Float64}[[0.13341605971141815, 0.04047302238802727, 0.09157149461047916], [-0.06362836470899921, -0.007222802079526698, 4.459129615868172], [1.3159316363493225, -3.9762042442221923, 2.125498115282241], [-3.442866286378093, -2.4178447945237003, 2.012442313547195], [-3.246372606247327, 2.3721658561471335, 2.018411675640692], [1.2043080140765101, 3.820699668943502, 1.9696256652338928], [4.124301847648825, -0.2495056695823281, 2.095394063486395], [-1.1999969843327758, -3.8522748160514615, -2.235496900047512], [-4.100750650400972, 0.01471523633442253, -2.1234703900624283], [-1.2917870915674805, 3.674496738791494, -2.075936511697765]  …  [2.0771876661340887, 6.435997860173391, -4.028971419253449], [6.526394699325196, 4.848748596196169, -3.98680183191805], [6.562541600018599, -0.07206887035895515, -4.282975670836168], [6.627552076088123, -4.684440529639156, -4.065065000322421], [-1.2339686581140117, -4.1393232271553915, -6.779952230384969], [-4.116753728867012, 0.08915237302575815, -6.666022003943707], [-1.2004756207299228, 3.7948914973162733, -6.692556819171419], [3.291260115284955, 2.5685831680938187, -6.865447653234552], [3.3202709151498624, -2.5159391464097727, -6.674806549480983], [0.05633775928424639, 0.006298768911080364, -9.119731399933968]], SphericalBC{Float64}(699.9286051500884)), [0.0 19.116665339430845 … 62.47515888197205 84.85520995904037; 19.116665339430845 0.0 … 141.7089665666089 184.40004119025915; … ; 62.47515888197205 141.7089665666089 … 0.0 22.99260127180352; 84.85520995904037 184.40004119025915 … 22.99260127180352 0.0], [1.5145769831949354e-5 0.0015200205187357184; 1.1817800177240793e-5 0.0012826540787661328; … ; 6.288337428450175e-6 0.000737399954057132; 4.8169483450621976e-6 0.0005575880156095158], -6.090130538603474, [0.0, 0.0], [0.08100000000000002, 0.1, 1.0], [0, 0], [0, 0], [0, 0], [0, 0]), MCState{Float64, 55, SphericalBC{Float64}}(564.4422600460497, 559.4460365836798, Config{55, SphericalBC{Float64}, Float64}(SVector{3, Float64}[[-0.142163018709328, -0.0035653193217898733, -0.07165707497724325], [0.1520417596705329, 0.12339937041652158, 4.5779325023706], [1.3035519190103375, -3.971437406546669, 2.1189644519628787], [-3.3032537954840087, -2.3311399889499222, 1.9750699668414031], [-3.3170588499182485, 2.1520799842563685, 2.138998837365166], [1.3104200192937734, 3.7734074121784063, 1.884770178802309], [4.007291162579795, 0.17587749563602934, 2.0048647994008673], [-1.444054932579048, -3.9157429045515855, -2.1041088118433784], [-4.144836617934728, -0.0027929472863152324, -1.9732258696471627], [-1.2074047450730019, 4.027410980314709, -2.076899239772438]  …  [2.1361951983626204, 6.438508564372616, -4.026868472232911], [6.552189534983332, 4.677791595022964, -4.025467258315878], [6.831793086092751, 0.07639730274060397, -4.195302395238163], [6.615225033600764, -4.929774689427906, -4.012120935695369], [-1.3107643996283815, -3.928138558163555, -6.649557624647476], [-4.122361261959162, 0.007419636822970421, -6.8019172424489005], [-1.357666738066126, 3.8650731018954585, -6.648534203143647], [3.392437123604738, 2.478608520937867, -6.61303589537336], [3.340925157438292, -2.369131949219881, -6.8985617382629245], [-0.048035319855759546, -0.3294409670316308, -9.187041231910506]], SphericalBC{Float64}(699.9286051500884)), [0.0 21.721359721843584 … 64.33443600489855 83.20528328993169; 21.721359721843584 0.0 … 148.09160975922168 189.71959711442068; … ; 64.33443600489855 148.09160975922168 … 0.0 20.882530812326685; 83.20528328993169 189.71959711442068 … 20.882530812326685 0.0], [1.3901705841527844e-5 0.0014445447238324732; 1.2628013387044335e-5 0.001323957723218486; … ; 5.68689894107925e-6 0.000683772685562746; 5.540318534668875e-6 0.0005956751669001136], -6.079822528696676, [0.0, 0.0], [0.08100000000000002, 0.1, 1.0], [0, 0], [0, 0], [0, 0], [0, 0]), MCState{Float64, 55, SphericalBC{Float64}}(579.2637544107133, 545.1316138092155, Config{55, SphericalBC{Float64}, Float64}(SVector{3, Float64}[[-0.020354810234305618, 0.044715529533383265, -0.058639063913976185], [-0.038385520337994604, -0.05796099493854988, 4.441340029725326], [1.3299216373907365, -3.8906827161738216, 1.8945353595739811], [-3.324486009853834, -2.281249014094653, 2.0739006087540126], [-3.354908068772947, 2.333999465041082, 2.074560161965493], [1.273669720641096, 3.796683287582789, 2.192062308920118], [4.190674123607096, -0.04791234440339293, 2.046299075888127], [-1.2356835738221785, -3.8114909928808505, -1.9961185552480853], [-4.05332881553272, 0.1245171033849434, -2.1082065218765913], [-1.0236890484216983, 3.8818495405892284, -2.10665462397879]  …  [2.0744724568742137, 6.44845091723004, -4.078054769785063], [6.702807973755054, 4.750519915379749, -4.135978424720008], [6.586882122518312, 0.06603692146637409, -4.143631036974014], [6.445396303239156, -4.618928613041481, -3.9456502914967846], [-1.1107847558833064, -3.88901121152966, -6.732443479377235], [-4.120568180050247, -0.04871093231592674, -6.741256280002946], [-1.362314886373572, 4.0370156598725915, -6.740587072943133], [3.3026027208370703, 2.5259785726741306, -6.821345167661413], [3.2993083378130117, -2.6649422453079183, -6.6753400338346855], [-0.07014933878917656, -0.05005159138260441, -9.222089291889146]], SphericalBC{Float64}(699.9286051500884)), [0.0 20.26067941837527 … 62.143140398611 83.98028038285891; 20.26067941837527 0.0 … 141.517127166069 186.69037232558134; … ; 62.143140398611 141.517127166069 … 0.0 24.676829949800318; 83.98028038285891 186.69037232558134 … 24.676829949800318 0.0], [1.4519946307081704e-5 0.001487562200110036; 1.124146513173491e-5 0.0012443899184635006; … ; 6.917667916141662e-6 0.0007741611254644709; 4.641313867868781e-6 0.0005412850353535638], -6.0874331773147645, [0.0, 0.0], [0.08100000000000002, 0.1, 1.0], [0, 0], [0, 0], [0, 0], [0, 0]), MCState{Float64, 55, SphericalBC{Float64}}(594.4744412769872, 531.1834510240385, Config{55, SphericalBC{Float64}, Float64}(SVector{3, Float64}[[0.021752960150997237, 0.02544342388481328, -0.08802248773224527], [-0.15680138382240857, 0.00047864117204615003, 4.5900542467264405], [1.3242170794687087, -3.849139195544767, 1.8753802617602768], [-3.1948277530354328, -2.525877173228348, 1.9979481464180429], [-3.319867876372261, 2.4120194068548697, 1.8606053472127566], [1.207211306730027, 3.7725801081840924, 1.94387623845064], [4.117365652954953, -0.008775641656880339, 2.1289389986221217], [-1.2972625590429505, -3.776435854076339, -2.037428077680558], [-4.045431193564953, -0.05933455410037877, -2.174015700451613], [-1.2215076215299425, 3.7643716664860545, -1.9859193622074476]  …  [1.8821044492141732, 6.4325392284501595, -4.076720702605648], [6.419749547496952, 4.804896214256043, -4.107480157059168], [6.802112295477235, 0.028223385461795557, -4.007455242153284], [6.315579026909029, -4.763957178722685, -4.190878772392077], [-1.1474500163770596, -3.8708745024553917, -6.550345762008833], [-4.089498789129117, 0.006771967969752664, -6.655275759553565], [-1.232062405227322, 3.9901159036138028, -6.875926363054272], [3.508961434755651, 2.4191475445708037, -6.717505444999864], [3.480047227662616, -2.4126000132902403, -6.810425765609256], [-0.12414456443678079, -0.14495457392917657, -9.056609680579395]], SphericalBC{Float64}(699.9286051500884)), [0.0 21.91690682761131 … 63.09456087266766 80.4858778010418; 21.91690682761131 0.0 … 149.0205609271478 186.2536536327374; … ; 63.09456087266766 149.0205609271478 … 0.0 23.177756492762274; 80.4858778010418 186.2536536327374 … 23.177756492762274 0.0], [1.495209268049821e-5 0.0015147213722376757; 1.1475574064699896e-5 0.0012530813471730842; … ; 6.221574953304908e-6 0.0007263818255472543; 5.709617673103659e-6 0.0006150240046209426], -6.09163589080318, [0.0, 0.0], [0.08100000000000002, 0.1, 1.0], [0, 0], [0, 0], [0, 0], [0, 0]), MCState{Float64, 55, SphericalBC{Float64}}(610.0845403163552, 517.5921768143055, Config{55, SphericalBC{Float64}, Float64}(SVector{3, Float64}[[0.029511085062192095, -0.03664166677312689, 0.012180020355942017], [0.03279385988959082, 0.023349367409149828, 4.612541850769167], [1.211674818336814, -3.9006824157879554, 1.9220848338828904], [-3.284999073191883, -2.404033114187488, 1.9911972418687056], [-3.4085281583378495, 2.294570919723426, 2.009894112529595], [1.3135230404560165, 3.8364274667147074, 2.012260332850321], [4.149290533489809, -0.03514749311265941, 1.968578256285934], [-1.170698494991385, -3.9927247387489477, -1.9886318953212911], [-4.099803527991651, 0.1427510388512937, -1.916204901496362], [-1.1474786712354728, 3.9119724973131973, -2.062911636000897]  …  [2.2262583974752057, 6.467038138806446, -4.076725613217539], [6.551094312244004, 4.770412188410673, -4.076464908264727], [6.638840361117696, -0.004232500341764797, -3.949168266888661], [6.589374542005832, -4.690608106735248, -4.036499078139301], [-1.2808943444109322, -3.991758620617111, -6.656503186749596], [-4.153828853207199, 0.12054611358988787, -6.716508564939846], [-1.1127485878296781, 3.964579572247886, -6.645119845138253], [3.383849248012078, 2.261461944137025, -6.793351759604702], [3.4628235633456645, -2.4543649573535795, -6.6780232756530316], [0.27965836728379356, -0.07841360624955554, -9.058136871787745]], SphericalBC{Float64}(699.9286051500884)), [0.0 21.16693867151575 … 62.391840625281496 82.33496708163759; 21.16693867151575 0.0 … 145.3810329157065 186.95875452318916; … ; 62.391840625281496 145.3810329157065 … 0.0 21.442626218737963; 82.33496708163759 186.95875452318916 … 21.442626218737963 0.0], [1.4005784213323373e-5 0.001457773563561393; 1.085302666410423e-5 0.0012145485774024886; … ; 6.823565537973859e-6 0.0007722788398902884; 5.477732210224617e-6 0.0005979683701497227], -6.094667776604588, [0.0, 0.0], [0.08100000000000002, 0.1, 1.0], [0, 0], [0, 0], [0, 0], [0, 0]), MCState{Float64, 55, SphericalBC{Float64}}(626.104539555125, 504.3486595504791, Config{55, SphericalBC{Float64}, Float64}(SVector{3, Float64}[[-0.0639313822617021, 0.02511080280809721, 0.00023793357910413537], [-0.1018484158482221, -0.02641408247164162, 4.519203605043059], [1.127023594989823, -3.8949912689358457, 1.9289980608299782], [-3.248516661738978, -2.4185100929431176, 2.1081501171988144], [-3.250833710944651, 2.3707595361715126, 2.2081806395639036], [1.2473455043228312, 3.7282606729228522, 2.1211731653355446], [4.080422039987788, 0.09944199487085223, 1.9216810239340476], [-1.3304328613688676, -3.8710321853205114, -1.9886290191937617], [-4.033778273162321, 0.025737212868824556, -1.9843247421250105], [-1.3094037641928686, 3.870033867092673, -1.9505563327664788]  …  [2.038928886042655, 6.31178778548954, -3.923209295826978], [6.663469944667349, 4.762110915368309, -4.117961070586875], [6.765125181010358, 0.04671540403298227, -4.107169356219243], [6.552484478730817, -4.6537120168632455, -4.081138395455185], [-1.280754226866666, -3.8827539171786194, -6.692319719080162], [-4.2119305045007, 0.06786982411235451, -6.838577468866048], [-1.2783602943637449, 3.9816376007769194, -6.607508016296894], [3.376664108374059, 2.403642844287422, -6.626501812647921], [3.4486826304141567, -2.4960345815797407, -6.814471516583057], [-0.06067224034121207, -0.07204919702800901, -9.160914683302057]], SphericalBC{Float64}(699.9286051500884)), [0.0 20.425143255108768 … 65.13489614139637 83.93616795736276; 20.425143255108768 0.0 … 147.15748788265472 187.1494144242245; … ; 65.13489614139637 147.15748788265472 … 0.0 23.69707228805712; 83.93616795736276 187.1494144242245 … 23.69707228805712 0.0], [1.4676560620744163e-5 0.0014984440573046819; 1.2526011709704458e-5 0.0013314872958290415; … ; 5.541414013235933e-6 0.0006775631001378504; 4.968296584638174e-6 0.0005624035821850342], -6.09573980245492, [0.0, 0.0], [0.08100000000000002, 0.1, 1.0], [0, 0], [0, 0], [0, 0], [0, 0]), MCState{Float64, 55, SphericalBC{Float64}}(642.5452024210656, 491.4440012520194, Config{55, SphericalBC{Float64}, Float64}(SVector{3, Float64}[[-0.07123685146160705, 0.015339007676782517, -0.17317374333505767], [0.04187593120137486, -0.015558715787253923, 4.6137350578281495], [1.2207855319344276, -3.8468095977759127, 2.170001107430836], [-3.3842607963243325, -2.3559881171244164, 1.9969810270864155], [-3.290405223377476, 2.5107892043096025, 2.20699340165107], [1.2817051814909959, 3.8273274787987517, 1.9000011111417425], [4.106176451922139, -0.05007125984499615, 2.2245199587799527], [-1.226266497910704, -3.9020949584150735, -2.046533087900963], [-4.16463210219235, -0.08275552577260373, -1.9763306737995263], [-1.437308227189248, 4.064132555906716, -2.025964226690946]  …  [2.1132078924706383, 6.233050310303524, -4.177124137774464], [6.522829347875554, 4.5479727506043615, -4.011974759226398], [6.873287353021371, -0.18495153642478449, -4.159554679555833], [6.672823017348152, -4.782892383473446, -4.08743118805155], [-1.3076916259043314, -3.9756676898120773, -6.674624703335118], [-4.158149680531627, 0.0661878616921851, -6.78776740809686], [-1.2118248656460833, 3.97416768708082, -6.595150656692244], [3.318157512758298, 2.4018629900886665, -6.670695676856724], [3.425037613244597, -2.564042719013072, -6.679140156385039], [-0.1424637121472014, 0.003917625375243721, -9.109235782174329]], SphericalBC{Float64}(699.9286051500884)), [0.0 22.928245041570797 … 61.20474419227263 79.85840847564107; 22.928245041570797 0.0 … 145.469584285334 188.35428910753328; … ; 61.20474419227263 145.469584285334 … 0.0 25.226850787503434; 79.85840847564107 188.35428910753328 … 25.226850787503434 0.0], [1.3563822794939404e-5 0.0014234787791468845; 1.2498846736918575e-5 0.0013084309853318614; … ; 6.035172692689644e-6 0.0007150843620087327; 4.883206948498511e-6 0.0005596865986536983], -6.073200956749535, [0.0, 0.0], [0.08100000000000002, 0.1, 1.0], [0, 0], [0, 0], [0, 0], [0, 0]), MCState{Float64, 55, SphericalBC{Float64}}(659.4175749750777, 478.86953160905927, Config{55, SphericalBC{Float64}, Float64}(SVector{3, Float64}[[-0.1712150880060514, -0.02133806309611641, -0.16468219898579353], [-0.012486608668651512, 0.04248652385509822, 4.582130204001424], [1.2073121156904907, -3.8540682109246336, 2.1206870344527387], [-3.410076998739007, -2.575050653924946, 2.0317968232037815], [-3.3559971005802223, 2.3233568702124323, 2.0037949355531786], [1.2735145088064408, 3.931990385900076, 2.048469723743497], [4.118375324960864, -0.13465201122428183, 1.9855294110059372], [-1.274510478686229, -3.814385079806937, -1.88243787754673], [-4.099843634298443, -0.030237532357476157, -2.11325175203129], [-1.3285188338175626, 4.091213641409245, -2.0528473275633745]  …  [2.069924807978446, 6.374069840733324, -4.403467634160843], [6.657742395799283, 4.706629879414942, -4.090420693019625], [6.819700232624531, 0.046486479108880804, -4.060208660100039], [6.668446790421262, -4.571999934700631, -4.016112997536655], [-1.337943527382619, -3.992978556056803, -6.772969804426511], [-4.072707382721808, -0.12757746519204635, -6.828351578258257], [-1.383230366722843, 3.8453353868139883, -6.829658203420215], [3.3900522471638506, 2.505824213012997, -6.898601829462032], [3.3071962507877113, -2.347886288561443, -6.73218940078703], [-0.0110802900105621, 0.09204150489575001, -8.989928963597952]], SphericalBC{Float64}(699.9286051500884)), [0.0 22.561496297205537 … 60.64432293297599 77.92347853626445; 22.561496297205537 0.0 … 144.74800458900893 184.2032477226964; … ; 60.64432293297599 144.74800458900893 … 0.0 22.061594771978697; 77.92347853626445 184.2032477226964 … 22.061594771978697 0.0], [1.3739308639032416e-5 0.0014277820711142558; 1.0614488220488841e-5 0.0011987089073950666; … ; 5.538297202500264e-6 0.0006837645581824032; 6.997242397107777e-6 0.0006997651777175594], -6.078656785399615, [0.0, 0.0], [0.08100000000000002, 0.1, 1.0], [0, 0], [0, 0], [0, 0], [0, 0]), MCState{Float64, 55, SphericalBC{Float64}}(676.7329933327605, 466.61680215704445, Config{55, SphericalBC{Float64}, Float64}(SVector{3, Float64}[[-0.03065370792882622, 0.1019474550657663, -0.07942916647149129], [-0.02590690414940833, -0.3047472481454204, 4.6199006088922525], [1.2965863547587553, -4.016510352313973, 2.1213155304739124], [-3.2702490225576772, -2.4552127552755425, 2.1601641427177367], [-3.1851226984354426, 2.4116079139083073, 2.0840309381774933], [1.2518616290409372, 4.029708754931193, 2.116014720300196], [4.104846498677421, 0.052432203813175815, 2.0063200096836087], [-1.2913368208717908, -3.9119526776805937, -2.048470733949478], [-4.024662063507315, -0.06404162383476106, -1.7493762950548384], [-1.3033789454581832, 3.990608586138177, -2.133381743250023]  …  [2.1081659111953273, 6.499983753807946, -4.018951349843596], [6.572190091817653, 4.791975375297982, -4.085339723383458], [6.719808608435285, -0.04036496313779013, -4.074473756100429], [6.582324490404507, -4.834962350643224, -4.097620573255665], [-1.367994581539808, -3.958528686859294, -6.732202631590226], [-4.331389551810879, 0.1383459504663016, -6.692786620083802], [-1.4222565452659395, 4.007387341924211, -6.634121658161879], [3.4100579499418826, 2.409296045309551, -6.967501641888805], [3.4859480868378445, -2.4169850128535026, -6.8104847775873685], [-0.05839805070576989, -0.004032179590178549, -8.92454087425957]], SphericalBC{Float64}(699.9286051500884)), [0.0 22.249123451386406 … 64.01861860082857 78.24800255476767; 22.249123451386406 0.0 … 147.44838393582793 183.54338031758465; … ; 64.01861860082857 147.44838393582793 … 0.0 22.853964098150744; 78.24800255476767 183.54338031758465 … 22.853964098150744 0.0], [1.343491860782908e-5 0.0014125824231716157; 1.1750860617407103e-5 0.0012636801825817575; … ; 5.912650247237544e-6 0.0007044031732206276; 6.6417452633722e-6 0.0006687841489169481], -6.078549911002354, [0.0, 0.0], [0.08100000000000002, 0.1, 1.0], [0, 0], [0, 0], [0, 0], [0, 0]), MCState{Float64, 55, SphericalBC{Float64}}(694.5030912808575, 454.6775806004262, Config{55, SphericalBC{Float64}, Float64}(SVector{3, Float64}[[0.054481372693896885, -0.09760421795016544, 0.09076069695228015], [0.12927314311935462, -0.1860278457792556, 4.62125155073512], [1.144085545781792, -3.929752509262575, 1.9777901078707947], [-3.401079416331701, -2.4492019671415197, 2.0309271112547376], [-3.274271052096403, 2.290973616538966, 2.099883947531352], [1.2953022706478943, 4.039459743743883, 2.043915674240827], [4.136383671950596, -0.10665607064159559, 1.9031114911609162], [-1.3401708720035082, -4.060345541517355, -2.0144130782293703], [-4.203542830687836, -0.026614334158726397, -2.133621054742764], [-1.3759427755495879, 3.8156318556672963, -1.9158601897285328]  …  [2.2260095463778824, 6.38990246883366, -4.199941332288528], [6.542941629392035, 4.8279849973659035, -3.9817394945043496], [6.5424880924181545, -0.10610216884330624, -4.166569088830428], [6.608744934609603, -4.791511586526853, -3.821155891451465], [-1.3119871374502923, -4.026014794850378, -6.730605397161615], [-4.247574584700831, 0.08380530336125694, -6.767118731566152], [-1.071415026544354, 4.003635372246661, -6.510308499541125], [3.293262300647281, 2.197873018209895, -6.5487812352087005], [3.287409002185647, -2.3275641980659376, -6.767558194788952], [-0.03593927490535048, -0.04313518999230846, -9.081629576959598]], SphericalBC{Float64}(699.9286051500884)), [0.0 20.538759923091792 … 62.461080591263766 84.14388610547216; 20.538759923091792 0.0 … 144.2649874722298 187.81666465387946; … ; 62.461080591263766 144.2649874722298 … 0.0 21.618186025553126; 84.14388610547216 187.81666465387946 … 21.618186025553126 0.0], [1.3546543281789007e-5 0.0014239617466887834; 1.0979252251834874e-5 0.0012152854042391035; … ; 6.596885225326944e-6 0.0007540827120086544; 5.2545840611664286e-6 0.0005867197826387926], -6.092820782454052, [0.0, 0.0], [0.08100000000000002, 0.1, 1.0], [0, 0], [0, 0], [0, 0], [0, 0]), MCState{Float64, 55, SphericalBC{Float64}}(712.7398080937003, 443.04384528159244, Config{55, SphericalBC{Float64}, Float64}(SVector{3, Float64}[[-0.10846926901357132, -0.036548824215749696, 0.034731696596414736], [-0.0686800824119207, 0.005811374543294348, 4.6434515140116215], [1.3712431710951218, -3.9619377467382453, 2.095763640289622], [-3.3569082679886306, -2.3250916567922224, 2.0578356654386623], [-3.5396378482416617, 2.3350898221811454, 2.0869618659985165], [1.1458582524196703, 4.088999061571132, 2.0547211025077106], [4.201415091041029, -0.21684832772514806, 2.104024077551328], [-1.2252662369624208, -3.703176047221281, -2.176154258814649], [-4.06650977967878, 0.07374751542659276, -2.077816554401572], [-1.2154677911535787, 3.97271043893159, -1.9252499273840122]  …  [2.152721649823295, 6.471523928287223, -4.148194526809171], [6.517345694177432, 4.752386504821083, -4.063923062441241], [6.826567155087249, -0.01428689360555846, -4.144405196635116], [6.574559520836272, -4.7728130764896, -4.009049429316416], [-1.2530534056576395, -4.178514168542469, -6.843735223342695], [-4.1457890230681995, 0.11619760288271692, -6.704483171931368], [-1.1567728389018515, 3.908226126472863, -6.643587650021389], [3.3604662745503595, 2.5041665940003695, -6.692232270514541], [3.3684504255828123, -2.3371410886809585, -6.719608269099055], [-0.06813230538248276, 0.08215517037789381, -9.023833068830749]], SphericalBC{Float64}(699.9286051500884)), [0.0 21.24367592124498 … 63.00280370218045 82.07331331840595; 21.24367592124498 0.0 … 146.42242000846397 186.80049654362284; … ; 63.00280370218045 146.42242000846397 … 0.0 22.972547183563606; 82.07331331840595 186.80049654362284 … 22.972547183563606 0.0], [1.3485610224886234e-5 0.0014198928412639332; 1.0787135960355884e-5 0.0012055242410594434; … ; 5.675797879615983e-6 0.0006946632352148161; 5.277166341809489e-6 0.0005902763858866752], -6.0811722643802355, [0.0, 0.0], [0.08100000000000002, 0.1, 1.0], [0, 0], [0, 0], [0, 0], [0, 0]), MCState{Float64, 55, SphericalBC{Float64}}(731.4553965549018, 431.70777979132146, Config{55, SphericalBC{Float64}, Float64}(SVector{3, Float64}[[0.03146783851318586, -0.08298940135446488, 0.05037862711042332], [0.06160029322389473, 0.0590882415900624, 4.467526852961103], [1.175045036499618, -3.955491041590183, 1.9998700328915058], [-3.412743713266087, -2.368309139849495, 1.9924006873596962], [-3.3280989223939152, 2.3500279204450187, 2.0513099724352917], [1.3453692233174543, 3.822129072500384, 1.983901043262395], [4.171150590698173, -0.020999691669209182, 2.0288456905506895], [-1.306282826485953, -3.940272199549323, -1.906033217894009], [-4.18428017474545, -0.11792034519056878, -2.073231648775838], [-1.2200799111517324, 3.82824261132503, -1.8646049307006745]  …  [1.914028826235184, 6.250011356915276, -4.20630891259941], [6.415736612265111, 4.67549047087416, -4.08835697415832], [6.64469352159998, -0.1529312809354808, -4.271829877272738], [6.721241540991356, -4.671562178822781, -4.1323785187447415], [-1.229091717385776, -4.042813883005283, -6.707052799396325], [-4.204083265671378, -0.07059166594705066, -6.7763539760850895], [-1.2829456442584206, 3.8005990895425743, -6.732033908132886], [3.1635140556936676, 2.6035944994007627, -6.811160378961188], [3.3619880541668836, -2.5722761600353117, -6.664372036738956], [0.03473392593027136, -0.005533747039766813, -9.051558865076245]], SphericalBC{Float64}(699.9286051500884)), [0.0 19.53229247058737 … 62.37678995148743 82.85127615738566; 19.53229247058737 0.0 … 141.73581087722894 182.77057645474747; … ; 62.37678995148743 141.73581087722894 … 0.0 23.357447601924818; 82.85127615738566 182.77057645474747 … 23.357447601924818 0.0], [1.4187328783788662e-5 0.0014662192005199756; 1.1016260844475232e-5 0.0012273095637707174; … ; 6.175903906497805e-6 0.0007261307973637951; 5.521405756173149e-6 0.0006062233277759756], -6.089805951497977, [0.0, 0.0], [0.08100000000000002, 0.1, 1.0], [0, 0], [0, 0], [0, 0], [0, 0]), MCState{Float64, 55, SphericalBC{Float64}}(750.6624311896877, 420.66176771713623, Config{55, SphericalBC{Float64}, Float64}(SVector{3, Float64}[[-0.09879945448917374, 0.09160709178006385, -0.06486885809105737], [0.12814338673305967, 0.000955292766166474, 4.510656706684716], [1.1265228816354145, -3.912570287149494, 2.046896620420209], [-3.355854166490814, -2.364966878915566, 1.9675967315138754], [-3.2003356762782396, 2.3710575276188126, 2.056060449121378], [1.318900710364026, 3.9843761252791268, 2.061948211687915], [4.085516957645555, -0.10243283961134442, 2.2536817945998058], [-1.2017146022719665, -3.8723779220330203, -2.0844364892107], [-4.054951685643837, -0.0006576725080927916, -1.9384367020519093], [-1.2174309319810033, 3.913762825348538, -2.134923618347815]  …  [1.9931660550512573, 6.485068550431823, -4.210969698601549], [6.514425085026621, 4.661465190222929, -4.144370143151695], [6.89775952650543, -0.0006376817310786848, -3.982555521982545], [6.625701776449328, -4.823310756144919, -4.181423419027624], [-1.2612790651892516, -3.9334664948150606, -6.683887514610316], [-4.255725091108029, -0.0483971315407267, -6.646602027022759], [-1.472507228393408, 3.9354061968318956, -6.68737075550883], [3.5368282669052307, 2.4309234222597804, -6.742840696336618], [3.2404979418679365, -2.5466742763131998, -6.669527689358806], [0.09570904863246549, 0.062333863784839405, -9.183089845297673]], SphericalBC{Float64}(699.9286051500884)), [0.0 20.995154995763137 … 61.7329539559885 83.18064445119907; 20.995154995763137 0.0 … 141.1736904276514 187.5235139451979; … ; 61.7329539559885 141.1736904276514 … 0.0 23.014615369883053; 83.18064445119907 187.5235139451979 … 23.014615369883053 0.0], [1.4629206624306562e-5 0.0014906495090034955; 1.1064904913555766e-5 0.0012343843555916287; … ; 6.6616130436506855e-6 0.0007590641727023508; 4.407344531894961e-6 0.0005241167102271735], -6.08890129846255, [0.0, 0.0], [0.08100000000000002, 0.1, 1.0], [0, 0], [0, 0], [0, 0], [0, 0]), MCState{Float64, 55, SphericalBC{Float64}}(770.3738167133993, 409.8983875260319, Config{55, SphericalBC{Float64}, Float64}(SVector{3, Float64}[[-0.11362311262102259, -0.06663902608214325, 0.17796234379100337], [-0.0020322593019762164, 0.2256778559773171, 4.592432657442714], [1.223942419606218, -3.929311021597371, 2.0718898137903956], [-3.4714914607785095, -2.596971608065501, 1.9483395887849386], [-3.2111341191734892, 2.53260814036525, 2.0119668494826617], [1.3666607983184416, 3.8205754457815857, 2.0370401829758453], [4.19636324859219, -0.049014509854189474, 2.0874092983088715], [-1.2434139009105454, -3.8804080266383414, -1.9886001387265821], [-4.178287851741558, -0.06437717344227367, -1.9179276104510274], [-1.2413919030340304, 3.8804624233043907, -2.0818110469420836]  …  [2.026079007092027, 6.5340711237679905, -4.011178390660413], [6.663619675974512, 4.890994887918171, -4.16020914742916], [6.809366705424465, -0.04001418138062573, -4.135830920831969], [6.5853866485904105, -4.788194706422697, -4.1655996029806], [-1.4337935015642247, -3.945765593655657, -6.759859691863064], [-4.157248629323008, -0.05411933811503878, -6.711165964550083], [-1.3704111989936385, 3.9013976699717525, -6.728968415561665], [3.274516257884967, 2.400487159083098, -6.648631051039084], [3.34862686165609, -2.3959878975152145, -6.8321415483745565], [0.0668971309164618, 0.20650061775659845, -9.075019776399412]], SphericalBC{Float64}(699.9286051500884)), [0.0 19.585449828193667 … 66.55459762818312 85.7248709399267; 19.585449828193667 0.0 … 148.62094365212036 186.8043750586387; … ; 66.55459762818312 148.62094365212036 … 0.0 22.57319924348999; 85.7248709399267 186.8043750586387 … 22.57319924348999 0.0], [1.4130411083268813e-5 0.0014618017983798733; 1.1525772555116982e-5 0.0012506682899949128; … ; 5.615374183949406e-6 0.0006850385174392282; 5.350020021841314e-6 0.0005931329954443734], -6.0878687879306534, [0.0, 0.0], [0.08100000000000002, 0.1, 1.0], [0, 0], [0, 0], [0, 0], [0, 0]), MCState{Float64, 55, SphericalBC{Float64}}(790.6027967018406, 399.4104075781371, Config{55, SphericalBC{Float64}, Float64}(SVector{3, Float64}[[-0.024472023757622887, -0.1092352731832926, -0.11397915382583196], [-0.07966322722431683, -0.06706264000511324, 4.648733376348179], [1.3187804465559836, -3.8012103261505357, 2.0447960613160276], [-3.3586539833529834, -2.447700418225718, 2.1067171841474495], [-3.1739565192021555, 2.3722194789703406, 1.981376257497904], [1.175985015284369, 3.81869161025906, 2.079980746582508], [4.1571013476898955, -0.12529974501132643, 2.1088827306271805], [-1.138468101406026, -3.8687479631094575, -2.023957859680294], [-4.074765583548988, -0.06167234266360855, -2.039920058162536], [-1.3322347251335942, 3.7158486727710907, -2.177538683040651]  …  [2.07843858359083, 6.524795955958223, -3.905407740205619], [6.564477386004472, 4.785098650990639, -4.210011743199149], [6.732308031216546, -0.1203738365647107, -4.014745464622978], [6.5264043584005895, -4.742399745998623, -4.052883622498027], [-1.3338711195132031, -3.9064149843625295, -6.750338082104136], [-4.1737914574744694, 0.04867215049472897, -6.814439046774855], [-1.2296464919686279, 3.995818763503776, -6.695010823435853], [3.328081986032127, 2.4975864244713386, -6.72541489687591], [3.405141202688367, -2.441326701764248, -6.533487071173543], [-0.06408220294284964, 0.06850123022074285, -9.010307300690267]], SphericalBC{Float64}(699.9286051500884)), [0.0 22.688255245005813 … 58.41097921516398 79.17781372762975; 22.688255245005813 0.0 … 142.82304588667296 186.58801254821915; … ; 58.41097921516398 142.82304588667296 … 0.0 24.469385735694793; 79.17781372762975 186.58801254821915 … 24.469385735694793 0.0], [1.4807542966491872e-5 0.0015001892566250457; 1.0851050908151446e-5 0.0012033805996612666; … ; 6.8708741058063975e-6 0.0007771507523890033; 5.5691479432600846e-6 0.0006096704988249375], -6.083939544701434, [0.0, 0.0], [0.08100000000000002, 0.1, 1.0], [0, 0], [0, 0], [0, 0], [0, 0]), MCState{Float64, 55, SphericalBC{Float64}}(811.3629624892989, 389.1907812679606, Config{55, SphericalBC{Float64}, Float64}(SVector{3, Float64}[[-0.09949222475541716, 0.003902859182215654, 0.018025551340737498], [-0.01415294692768358, 0.08799951800729754, 4.632870733548592], [1.4313204206503043, -3.8954915200792772, 2.082250973862596], [-3.3494496150551427, -2.4052990968653605, 1.9864454110752272], [-3.1818051759926678, 2.376570778891401, 1.9805670651965006], [1.306514223445299, 3.981355326222797, 2.234450097950042], [4.016905901165698, -0.09936872043786196, 2.039781912381403], [-1.2752788324672366, -3.970047694994421, -2.13972935347803], [-4.224833823583802, 0.06092577619987345, -2.2016744892998843], [-1.234360800369205, 3.8585895637669894, -2.0431075440929796]  …  [2.138289927453573, 6.45674852918454, -4.074184644745639], [6.391808141843508, 4.781860898727473, -3.9749301247049345], [6.499549714836851, 0.06168680219729144, -4.161276743703288], [6.444589489183128, -4.785730348145887, -4.0420307404477285], [-1.3729930905933458, -3.9004334477895877, -6.533093859971044], [-4.003664959432848, 0.16387270385674646, -6.640168545034369], [-1.145285123470221, 3.930984448737675, -6.500602697075771], [3.4689376549921205, 2.5068304927639606, -6.725029928537239], [3.3059140570983785, -2.45425846102939, -6.66488823645754], [0.13786530295637708, -0.047853034402832104, -9.093327096341874]], SphericalBC{Float64}(699.9286051500884)), [0.0 21.311151096112752 … 62.30068571581808 83.07576433891518; 21.311151096112752 0.0 … 145.1252782875523 188.45007232958392; … ; 62.30068571581808 145.1252782875523 … 0.0 21.724635282114754; 83.07576433891518 188.45007232958392 … 21.724635282114754 0.0], [1.3024981122745421e-5 0.001388648965140571; 1.127978132081912e-5 0.0012412832541233859; … ; 6.915944302224061e-6 0.0007823867889784595; 4.914945948644374e-6 0.00056381160700819], -6.074704671078584, [0.0, 0.0], [0.08100000000000002, 0.1, 1.0], [0, 0], [0, 0], [0, 0], [0, 0]), MCState{Float64, 55, SphericalBC{Float64}}(832.6682623002149, 379.23264228995663, Config{55, SphericalBC{Float64}, Float64}(SVector{3, Float64}[[-0.013781348887038056, -0.09831754443916343, 0.05195036859722697], [0.07041519858836327, 0.07855789857703263, 4.65024329391405], [1.353415484807488, -3.851287683652981, 2.1802915993762695], [-3.1015698763378894, -2.3529700817080967, 2.0368663921585215], [-3.193048753126047, 2.5857090060177446, 2.1555772973341965], [1.1773962917890546, 3.8614686532904337, 2.1219927095424125], [4.157754780598516, -0.16453958849872094, 2.168556648544611], [-1.2988614425725666, -4.077427263724013, -2.159647597510626], [-4.122463184061861, -0.12831821439951877, -2.029363941789265], [-1.255945244896384, 3.93870669736697, -2.066681804878052]  …  [2.1879793676176424, 6.350976869608298, -4.2451377661263825], [6.4857151408006235, 4.76769732550101, -4.060381928845051], [6.595349988477404, -0.08253517951141778, -4.367670371586996], [6.610305418451991, -4.781178115027646, -4.079252925882706], [-1.1104259436054547, -4.003684020447909, -6.709636240146743], [-4.017249977356558, 0.0035413198955535213, -6.63826479912206], [-1.2665363438982626, 3.968955392539393, -6.749521726669098], [3.1856029407516755, 2.327359329949336, -6.853474285412641], [3.4010036248941384, -2.3915415999375598, -6.810920914932202], [-0.09286072171262302, -0.02298996103741585, -9.096041794630597]], SphericalBC{Float64}(699.9286051500884)), [0.0 21.182671807967697 … 64.01863524017111 83.69768841050532; 21.182671807967697 0.0 … 148.55249582014235 188.99732472948733; … ; 64.01863524017111 148.55249582014235 … 0.0 23.038902373460015; 83.69768841050532 188.99732472948733 … 23.038902373460015 0.0], [1.3403208073235823e-5 0.001409892529146433; 1.1722558182133926e-5 0.0012713708716582343; … ; 6.112628444609298e-6 0.0007224725133561364; 5.8329255243949735e-6 0.0006271994722066865], -6.086476897352058, [0.0, 0.0], [0.08100000000000002, 0.1, 1.0], [0, 0], [0, 0], [0, 0], [0, 0]), MCState{Float64, 55, SphericalBC{Float64}}(854.5330106206367, 369.52930002523107, Config{55, SphericalBC{Float64}, Float64}(SVector{3, Float64}[[0.0922424101562039, -0.0763563915574453, 0.031145868919555307], [-0.0027024613499617503, -0.009839475953862349, 4.574309338093054], [1.2039411608403698, -3.881113543980268, 2.113230858815477], [-3.4172084400712914, -2.247960024238684, 2.0581383811375122], [-3.268557205519315, 2.3855071354099198, 2.1264467463869927], [1.3702281485927648, 3.9258802846044474, 2.0955752984625082], [4.036236080244642, -0.05890884325883656, 2.0277314825922192], [-1.2156708276245969, -3.8080736676270446, -2.044091985112991], [-4.140561342636944, -0.02115245185045281, -2.1351812735682274], [-1.404732805536793, 3.9015524594428506, -1.9880697925338389]  …  [1.9909787230614957, 6.3467804397496375, -4.184283892555874], [6.5599047511303805, 4.887547676361873, -4.022080375853452], [6.793110134216458, -0.02229493833184769, -4.247179822128548], [6.486761777177543, -4.87058140974177, -4.222465678986048], [-1.293847160664328, -3.8726393416344034, -6.767917181587747], [-4.162799426624892, 0.032829053051843554, -6.660881581740197], [-1.2663439085098491, 3.9853543436806955, -6.684780510694865], [3.2766371225128283, 2.4228817803134524, -6.7114151202056975], [3.3717805406426398, -2.4193968015102545, -6.583897968177766], [0.19618877861428397, -0.05425377952539849, -9.015358914688422]], SphericalBC{Float64}(699.9286051500884)), [0.0 20.65377333631932 … 60.00401367870555 81.85054217281628; 20.65377333631932 0.0 … 141.698692325595 184.72061357635297; … ; 60.00401367870555 141.698692325595 … 0.0 21.59028688791251; 81.85054217281628 184.72061357635297 … 21.59028688791251 0.0], [1.4161101959627011e-5 0.001462469507798467; 1.1708083500678464e-5 0.0012746872817629284; … ; 7.376808919271012e-6 0.0008144600205973346; 5.5594973342911775e-6 0.0006084863444539078], -6.094102737424964, [0.0, 0.0], [0.08100000000000002, 0.1, 1.0], [0, 0], [0, 0], [0, 0], [0, 0]), MCState{Float64, 55, SphericalBC{Float64}}(876.9718978157583, 360.0742350462841, Config{55, SphericalBC{Float64}, Float64}(SVector{3, Float64}[[-0.022262960397532408, 0.052151834253449575, -0.044461060887890445], [0.05013650330514884, 0.11189243172537577, 4.5570374686830535], [1.255756536708682, -4.051785157677125, 2.113696890004658], [-3.286040308118161, -2.4013622098596987, 2.02687325399099], [-3.2739977937300098, 2.310963387575894, 1.964459452037244], [1.3045582403244451, 3.933870315862755, 2.107094180446504], [4.279195981239934, 0.11844650338437077, 2.0840309014285663], [-1.2217730392072654, -3.8158580165506586, -2.150765806085531], [-3.9749218390476027, -0.001124169373571066, -2.031422754858193], [-1.348574458491279, 3.849766245378463, -2.102275702566017]  …  [2.043474421749526, 6.353648474066796, -4.137481977047801], [6.561397505703819, 4.616436869962356, -4.178457689317975], [6.828393548948568, -0.11750181871994544, -4.087768889800431], [6.599784725338473, -5.014986760989085, -4.101606007618952], [-1.3061815445819618, -4.238274659694496, -6.7547980189523615], [-4.10337623869941, -0.023727961313625427, -6.6478863707022], [-1.3084223201412037, 3.930505907276778, -6.923712661406586], [3.4571520445232276, 2.5524596505134087, -6.741964052613168], [3.3448703108913858, -2.404169330858456, -6.69600518061563], [0.021667202202648263, -0.00923023371421118, -9.01810764302567]], SphericalBC{Float64}(699.9286051500884)), [0.0 21.182599338974295 … 61.6141393094822 80.53203059856713; 21.182599338974295 0.0 … 143.81680652292332 184.30004600513774; … ; 61.6141393094822 143.81680652292332 … 0.0 22.17157202655935; 80.53203059856713 184.30004600513774 … 22.17157202655935 0.0], [1.411293416074581e-5 0.0014569014730152242; 1.0729156845647778e-5 0.001205648914883794; … ; 6.256577374637752e-6 0.000734393752210003; 5.843521609334515e-6 0.0006223780276842546], -6.087568954972316, [0.0, 0.0], [0.08100000000000002, 0.1, 1.0], [0, 0], [0, 0], [0, 0], [0, 0]), MCState{Float64, 55, SphericalBC{Float64}}(900.0, 350.86109473677465, Config{55, SphericalBC{Float64}, Float64}(SVector{3, Float64}[[0.0431658278373267, 0.042070713634370344, 0.08770025388139926], [-0.04682419334349183, 0.05581474663625215, 4.52745175568324], [1.1366039888033665, -3.9465235010047253, 1.9905441891921893], [-3.2733843554100943, -2.423803741062086, 2.183271676775666], [-3.4757291988206176, 2.5915289714438114, 2.065345767326481], [1.3591281299919953, 3.9043640327135303, 2.1074832382219664], [4.0029052403909375, 0.06810827331561742, 2.0583620596263095], [-1.316314904745837, -3.958070601623195, -1.9299500632759876], [-4.2004307166462675, 0.15274318683844398, -2.121380071212548], [-1.2088288576673616, 3.936782071141, -2.194353057308167]  …  [2.0839743551869447, 6.454642643681687, -4.3167641546095545], [6.470826682303197, 4.6562005571859135, -3.9739488201791704], [6.890671295141956, 0.06388981762838832, -4.118719244135142], [6.736041808085638, -4.654919689443761, -4.05444027527573], [-1.445478424425014, -4.08073341651631, -6.752582448312698], [-4.149664865533925, 0.07997074393098028, -6.73081787790183], [-1.1515459516228297, 4.039034431953226, -6.604672810281864], [3.5183197961437984, 2.3361865729761084, -6.683942899779851], [3.3202037230601613, -2.5506496058678367, -6.6661284857444825], [0.10368398552608424, 0.041638132875651865, -9.209120347722273]], SphericalBC{Float64}(699.9286051500884)), [0.0 19.71968050010698 … 63.075378666082656 86.43453593293862; 19.71968050010698 0.0 … 143.42677203199716 188.71626684034288; … ; 63.075378666082656 143.42677203199716 … 0.0 23.532762552471386; 86.43453593293862 188.71626684034288 … 23.532762552471386 0.0], [1.3503933969244633e-5 0.0014155410906153895; 1.0792670337497273e-5 0.0012085535038237076; … ; 6.098454278561116e-6 0.0007187290952034032; 4.023408471162774e-6 0.0004966077608148195], -6.0848901018620305, [0.0, 0.0], [0.08100000000000002, 0.1, 1.0], [0, 0], [0, 0], [0, 0], [0, 0])], Output{Float64}(100, -6.099249895220775, -6.073200956749535, Float64[], [-5.972498028631018, -5.970063037566167, -5.969454890275523, -5.956395404260602, -5.959961197667588, -5.953930109390472, -5.942362929735705, -5.940454562453164, -5.925996978510148, -5.925788773053672, -5.920737113476274, -5.917602329109094, -5.911193622487359, -5.915557568186589, -5.916012255036854, -5.891381599512713, -5.882592565689071, -5.8898387804514245, -5.87428997385318, -5.879550169746745], [0.20483691353034655, 0.2760021888033328, 0.20801943420650254, 0.16356330336131344, 0.18372807366721183, 0.3791318968348239, 0.20706622528531893, 0.29191311698733713, 0.5214723784030464, 0.33033394383028536, 0.35158502440772427, 0.5230247769862066, 0.3989315284645141, 0.2502862239262399, 0.2975674841214572, 0.6148424015042712, 0.5843053013104098, 0.5156293881617259, 0.29950202601760234, 0.5664572076342437], [[0.0, 0.0, 0.0, 0.0, 0.0, 0.0, 0.0, 0.0, 0.0, 0.0  …  2.0, 1.0, 0.0, 0.0, 0.0, 0.0, 0.0, 0.0, 0.0, 0.0], [0.0, 0.0, 0.0, 0.0, 0.0, 0.0, 0.0, 0.0, 0.0, 0.0  …  10.0, 7.0, 5.0, 9.0, 2.0, 4.0, 3.0, 3.0, 1.0, 0.0], [0.0, 0.0, 0.0, 0.0, 0.0, 0.0, 0.0, 0.0, 0.0, 0.0  …  3.0, 3.0, 4.0, 3.0, 2.0, 0.0, 2.0, 1.0, 0.0, 0.0], [0.0, 0.0, 0.0, 0.0, 0.0, 0.0, 0.0, 0.0, 0.0, 0.0  …  11.0, 7.0, 6.0, 4.0, 7.0, 3.0, 0.0, 2.0, 2.0, 9.0], [0.0, 0.0, 0.0, 0.0, 0.0, 0.0, 0.0, 0.0, 0.0, 0.0  …  13.0, 4.0, 5.0, 3.0, 4.0, 2.0, 2.0, 2.0, 4.0, 13.0], [0.0, 0.0, 0.0, 0.0, 0.0, 0.0, 0.0, 0.0, 0.0, 0.0  …  28.0, 29.0, 29.0, 20.0, 22.0, 15.0, 7.0, 10.0, 6.0, 11.0], [0.0, 0.0, 0.0, 0.0, 0.0, 0.0, 0.0, 0.0, 0.0, 0.0  …  45.0, 35.0, 37.0, 34.0, 35.0, 36.0, 25.0, 19.0, 15.0, 22.0], [0.0, 0.0, 0.0, 0.0, 0.0, 0.0, 0.0, 0.0, 0.0, 0.0  …  20.0, 26.0, 21.0, 33.0, 20.0, 22.0, 20.0, 21.0, 23.0, 104.0], [0.0, 0.0, 0.0, 0.0, 0.0, 0.0, 0.0, 0.0, 0.0, 0.0  …  26.0, 34.0, 32.0, 27.0, 24.0, 11.0, 9.0, 7.0, 15.0, 282.0], [0.0, 0.0, 0.0, 0.0, 0.0, 0.0, 0.0, 0.0, 0.0, 0.0  …  42.0, 40.0, 29.0, 47.0, 38.0, 37.0, 24.0, 27.0, 22.0, 262.0]  …  [0.0, 0.0, 0.0, 0.0, 0.0, 0.0, 0.0, 0.0, 0.0, 0.0  …  0.0, 0.0, 0.0, 0.0, 0.0, 0.0, 0.0, 0.0, 0.0, 0.0], [0.0, 0.0, 0.0, 0.0, 0.0, 0.0, 0.0, 0.0, 0.0, 0.0  …  0.0, 0.0, 0.0, 0.0, 0.0, 0.0, 0.0, 0.0, 0.0, 0.0], [0.0, 0.0, 0.0, 0.0, 0.0, 0.0, 0.0, 0.0, 0.0, 0.0  …  0.0, 0.0, 0.0, 0.0, 0.0, 0.0, 0.0, 0.0, 0.0, 0.0], [0.0, 0.0, 0.0, 0.0, 0.0, 0.0, 0.0, 0.0, 0.0, 0.0  …  0.0, 0.0, 0.0, 0.0, 0.0, 0.0, 0.0, 0.0, 0.0, 0.0], [0.0, 0.0, 0.0, 0.0, 0.0, 0.0, 0.0, 0.0, 0.0, 0.0  …  0.0, 0.0, 0.0, 0.0, 0.0, 0.0, 0.0, 0.0, 0.0, 0.0], [0.0, 0.0, 0.0, 0.0, 0.0, 0.0, 0.0, 0.0, 0.0, 0.0  …  0.0, 0.0, 0.0, 0.0, 0.0, 0.0, 0.0, 0.0, 0.0, 0.0], [0.0, 0.0, 0.0, 0.0, 0.0, 0.0, 0.0, 0.0, 0.0, 0.0  …  0.0, 0.0, 0.0, 0.0, 0.0, 0.0, 0.0, 0.0, 0.0, 0.0], [0.0, 0.0, 0.0, 0.0, 0.0, 0.0, 0.0, 0.0, 0.0, 0.0  …  0.0, 0.0, 0.0, 0.0, 0.0, 0.0, 0.0, 0.0, 0.0, 0.0], [0.0, 0.0, 0.0, 0.0, 0.0, 0.0, 0.0, 0.0, 0.0, 0.0  …  0.0, 0.0, 0.0, 0.0, 0.0, 0.0, 0.0, 0.0, 0.0, 0.0], [0.0, 0.0, 0.0, 0.0, 0.0, 0.0, 0.0, 0.0, 0.0, 0.0  …  0.0, 0.0, 0.0, 0.0, 0.0, 0.0, 0.0, 0.0, 0.0, 0.0]], Matrix{Float64}[], [[0.0, 0.0, 0.0, 0.0, 0.0, 0.0, 0.0, 0.0, 0.0, 0.0  …  0.0, 0.0, 0.0, 0.0, 0.0, 0.0, 0.0, 0.0, 0.0, 0.0], [0.0, 0.0, 572.0, 428.0, 0.0, 0.0, 0.0, 0.0, 0.0, 0.0  …  0.0, 0.0, 0.0, 0.0, 0.0, 0.0, 0.0, 0.0, 0.0, 0.0], [0.0, 2.0, 1257.0, 731.0, 10.0, 0.0, 0.0, 0.0, 0.0, 0.0  …  0.0, 0.0, 0.0, 0.0, 0.0, 0.0, 0.0, 0.0, 0.0, 0.0], [0.0, 0.0, 1704.0, 1233.0, 63.0, 0.0, 0.0, 0.0, 0.0, 0.0  …  0.0, 0.0, 0.0, 0.0, 0.0, 0.0, 0.0, 0.0, 0.0, 0.0], [0.0, 1.0, 2366.0, 1631.0, 2.0, 0.0, 0.0, 0.0, 0.0, 0.0  …  0.0, 0.0, 0.0, 0.0, 0.0, 0.0, 0.0, 0.0, 0.0, 0.0], [0.0, 0.0, 3323.0, 1676.0, 1.0, 0.0, 0.0, 0.0, 0.0, 0.0  …  0.0, 0.0, 0.0, 0.0, 0.0, 0.0, 0.0, 0.0, 0.0, 0.0], [0.0, 17.0, 3594.0, 2364.0, 25.0, 0.0, 0.0, 0.0, 0.0, 0.0  …  0.0, 0.0, 0.0, 0.0, 0.0, 0.0, 0.0, 0.0, 0.0, 0.0], [0.0, 4.0, 4313.0, 2622.0, 61.0, 0.0, 0.0, 0.0, 0.0, 0.0  …  0.0, 0.0, 0.0, 0.0, 0.0, 0.0, 0.0, 0.0, 0.0, 0.0], [0.0, 9.0, 4892.0, 3026.0, 66.0, 7.0, 0.0, 0.0, 0.0, 0.0  …  0.0, 0.0, 0.0, 0.0, 0.0, 0.0, 0.0, 0.0, 0.0, 0.0], [0.0, 3.0, 5605.0, 3348.0, 44.0, 0.0, 0.0, 0.0, 0.0, 0.0  …  0.0, 0.0, 0.0, 0.0, 0.0, 0.0, 0.0, 0.0, 0.0, 0.0]  …  [0.0, 0.0, 0.0, 0.0, 0.0, 0.0, 0.0, 0.0, 0.0, 0.0  …  0.0, 0.0, 0.0, 0.0, 0.0, 0.0, 0.0, 0.0, 0.0, 0.0], [0.0, 0.0, 0.0, 0.0, 0.0, 0.0, 0.0, 0.0, 0.0, 0.0  …  0.0, 0.0, 0.0, 0.0, 0.0, 0.0, 0.0, 0.0, 0.0, 0.0], [0.0, 0.0, 0.0, 0.0, 0.0, 0.0, 0.0, 0.0, 0.0, 0.0  …  0.0, 0.0, 0.0, 0.0, 0.0, 0.0, 0.0, 0.0, 0.0, 0.0], [0.0, 0.0, 0.0, 0.0, 0.0, 0.0, 0.0, 0.0, 0.0, 0.0  …  0.0, 0.0, 0.0, 0.0, 0.0, 0.0, 0.0, 0.0, 0.0, 0.0], [0.0, 0.0, 0.0, 0.0, 0.0, 0.0, 0.0, 0.0, 0.0, 0.0  …  0.0, 0.0, 0.0, 0.0, 0.0, 0.0, 0.0, 0.0, 0.0, 0.0], [0.0, 0.0, 0.0, 0.0, 0.0, 0.0, 0.0, 0.0, 0.0, 0.0  …  0.0, 0.0, 0.0, 0.0, 0.0, 0.0, 0.0, 0.0, 0.0, 0.0], [0.0, 0.0, 0.0, 0.0, 0.0, 0.0, 0.0, 0.0, 0.0, 0.0  …  0.0, 0.0, 0.0, 0.0, 0.0, 0.0, 0.0, 0.0, 0.0, 0.0], [0.0, 0.0, 0.0, 0.0, 0.0, 0.0, 0.0, 0.0, 0.0, 0.0  …  0.0, 0.0, 0.0, 0.0, 0.0, 0.0, 0.0, 0.0, 0.0, 0.0], [0.0, 0.0, 0.0, 0.0, 0.0, 0.0, 0.0, 0.0, 0.0, 0.0  …  0.0, 0.0, 0.0, 0.0, 0.0, 0.0, 0.0, 0.0, 0.0, 0.0], [0.0, 0.0, 0.0, 0.0, 0.0, 0.0, 0.0, 0.0, 0.0, 0.0  …  0.0, 0.0, 0.0, 0.0, 0.0, 0.0, 0.0, 0.0, 0.0, 0.0]], [0.8063454545454546, 0.8085454545454546, 0.8126, 0.8159272727272727, 0.8153454545454546, 0.8213090909090909, 0.8214727272727272, 0.8253090909090909, 0.8292181818181819, 0.8295454545454546, 0.8352909090909091, 0.8331818181818181, 0.8348909090909091, 0.8388909090909091, 0.8412727272727273, 0.8430363636363636, 0.8427454545454546, 0.8496181818181818, 0.8476545454545454, 0.8484727272727273], Float64[], Float64[], [0.8333333333333334, 0.9, 1.0, 1.0, 1.0, 1.0, 0.6, 0.75, 1.0, 1.0, 1.0, 1.0, 0.8181818181818182, 0.8333333333333334, 0.8888888888888888, 0.6, 0.6666666666666666, 0.8571428571428571, 0.875, 1.0]), 0.0002631205906185916, 5.599428841200707)"
      ]
     },
     "metadata": {},
     "output_type": "display_data"
    }
   ],
   "source": [
    "mc_states,results,delta_en_hist,delta_r2 = MCRun.equilibration_cycle!(mc_states,move_strat,mc_params,results,suttonchenpot,ensemble,1,55,0,0)"
   ]
  },
  {
   "cell_type": "code",
   "execution_count": 25,
   "metadata": {},
   "outputs": [
    {
     "data": {
      "text/plain": [
       "-6.073200956749535"
      ]
     },
     "metadata": {},
     "output_type": "display_data"
    }
   ],
   "source": [
    "results.en_max"
   ]
  },
  {
   "cell_type": "code",
   "execution_count": 65,
   "metadata": {},
   "outputs": [
    {
     "name": "stdout",
     "output_type": "stream",
     "text": [
      "[[0.47560863923076724, 2.097601591666667, 4.284427189615382], [-1.007316300769232, 0.06389687166666569, 4.900905899615381], [0.09767520923076844, -2.101719198333334, 5.690693419615382], [-2.963228090769232, -0.06317180833333325, 3.211784159615382], [1.5733962692307681, -0.0919434283333338, 5.1515574796153825], [2.3121011692307682, -2.479830818333334, 4.4591694596153815], [2.036583259230767, 3.1018289716666665, 2.4706549896153813], [-1.8675853207692326, -2.246846138333334, 4.062034599615382], [2.412702959230767, -4.167053828333334, 2.4950840596153814], [1.8288144292307678, 0.6261852516666657, 2.7927632796153823], [-4.897418430769232, 1.0768594516666656, 2.0523183196153827], [-0.5478795907692326, 3.280999321666666, 2.213484389615383], [3.798534499230767, -0.44706048833333334, 3.8458218496153815], [0.3680058892307674, -1.3670203783333337, 3.3917503796153827], [0.18718896923076755, -3.812080748333334, 3.8017457596153825], [-0.6952322007692331, 0.7753553616666657, 2.5522045396153814], [3.021551289230768, 1.8993474716666654, 4.484749929615383], [-1.5410935007692323, -1.4958192083333337, 1.7271289296153824], [-2.092953470769232, 2.2194985616666667, 3.951723549615382], [4.472261079230767, -2.798169718333334, 3.122639719615382], [1.316800009230768, 1.6266362216666668, -5.831699360384619], [-0.1244103607692324, -0.3703186683333346, -5.281850140384618], [2.4030162592307676, -0.4936668983333341, -5.055471190384618], [-1.5456548507692327, -2.364468398333334, -4.635360610384618], [-0.8481193107692322, 1.9882615916666655, -4.613945470384618], [0.9853484192307675, -2.504393828333334, -4.479379070384618], [3.241705999230767, 1.7677934316666661, -4.233993900384618], [-2.312318420769232, -0.025615288333334263, -4.040832220384618], [1.239200379230768, 3.3052816116666666, -3.948077450384618], [1.091616939230768, 0.8533419316666659, -3.4692575403846178], [-3.704773570769232, -2.0303967483333336, -3.369729470384618], [-3.0188226407692325, 2.325637651666666, -3.3174200503846176], [-0.318139890769233, -1.1551459283333338, -2.891513170384618], [2.296037769230768, -1.3070391483333337, -2.715381480384618], [-0.9370546107692324, 3.6767571416666662, -2.6972183803846184], [-4.455315660769232, 0.3052241116666661, -2.705957900384618], [3.186177699230768, 3.4260974116666656, -2.3276935703846178], [-1.7763364307692324, -3.211190768333334, -2.3039384103846183], [-1.055492840769232, 1.2077511816666657, -2.2486509603846176], [0.7697861292307682, -3.3766180083333337, -2.120741180384618], [3.1391505592307674, 0.9613650516666663, -1.8908769603846176], [3.295401599230768, -3.4577619283333343, -1.8322308703846177], [1.155951899230768, 4.915648901666666, -1.9941037603846183], [-5.133527770769232, 2.629033381666666, -1.9857163703846181], [-2.4767523807692324, -0.8222609883333343, -1.6302152503846177], [1.0404875492307681, 2.5034016716666656, -1.564364890384618], [-3.0894501107692323, 3.980491811666665, -1.3717545103846183], [0.9175956992307679, 0.07953778166666581, -1.1559383003846184], [4.224700709230767, -1.208937858333334, -0.9984284103846184], [-4.755874070769233, -1.6197211183333335, -1.095269230384618], [-3.1731742307692326, 1.5189747816666657, -0.9346368303846182], [-0.9942886207692325, 5.2626437416666665, -0.7205402303846178], [-0.549492230769232, -1.9451723883333338, -0.5565186303846179], [1.9694071792307675, -2.0519794383333343, -0.34657455038461826], [4.993369649230768, 1.1035647416666663, -0.1752083303846188], [-0.7509561007692325, -4.385921828333334, -0.24600772038461827], [-5.452719790769232, 0.7186741916666666, -0.3843612203846174], [-1.1089050707692323, 2.8545088116666655, -0.2957992203846178], [1.8187962392307675, -4.503062108333334, -0.012363430384617402], [3.031645209230767, 2.7014216516666654, 0.0852209996153821], [-2.822369540769232, -2.827999738333334, -0.004612140384617547], [-1.2421540507692326, 0.4221862916666659, 0.11020777961538286], [2.816869959230768, 0.2233369216666663, 0.4798840196153815], [0.981242169230768, 4.202783121666666, 0.3864506996153825], [3.942072009230767, -3.1743081883333337, 0.6502899096153811], [-4.603133720769232, 2.9999111016666653, 0.44378039961538285], [-3.508404620769232, -0.41710621833333406, 0.6854010796153815], [0.8284516592307671, 1.7582475016666663, 0.7873531496153827], [0.6463118292307684, -0.6453662983333341, 1.1162464596153825], [-2.537416320769232, 4.341248681666666, 1.0705510896153818], [4.804764069230767, -0.859750458333334, 1.490305679615382], [-3.777906810769232, -2.3073749683333338, 2.308307189615382], [0.4689102892307684, -3.026431408333334, 1.4679496796153817], [-2.645167930769232, 1.9017349716666665, 1.5292404896153826], [-1.7686538607692324, -3.9304558883333343, 2.0962621896153824], [0.2944653192307669, -5.424154838333334, 1.8282630896153815], [2.550839759230767, -1.7137925983333337, 2.106876139615382], [4.0649461092307675, 1.5280574516666654, 2.178400439615382]]\n"
     ]
    }
   ],
   "source": [
    "pos_cu78 = [[9.20810577, 10.6811792, 12.85775222],\n",
    "[7.72518083, 8.64747448, 13.47423093],\n",
    "[8.83017234, 6.48185841, 14.26401845],\n",
    "[5.76926904, 8.5204058, 11.78510919],\n",
    "[10.3058934, 8.49163418, 13.72488251],\n",
    "[11.0445983, 6.10374679, 13.03249449],\n",
    "[10.76908039, 11.68540658, 11.04398002],\n",
    "[6.86491181, 6.33673147, 12.63535963],\n",
    "[11.14520009, 4.41652378, 11.06840909],\n",
    "[10.56131156, 9.20976286, 11.36608831],\n",
    "[3.8350787, 9.66043706, 10.62564335],\n",
    "[8.18461754, 11.86457693, 10.78680942],\n",
    "[12.53103163, 8.13651712, 12.41914688],\n",
    "[9.10050302, 7.21655723, 11.96507541],\n",
    "[8.9196861, 4.77149686, 12.37507079],\n",
    "[8.03726493, 9.35893297, 11.12552957],\n",
    "[11.75404842, 10.48292508, 13.05807496],\n",
    "[7.19140363, 7.0877584, 10.30045396],\n",
    "[6.63954366, 10.80307617, 12.52504858],\n",
    "[13.20475821, 5.78540789, 11.69596475],\n",
    "[10.04929714, 10.21021383, 2.74162567],\n",
    "[8.60808677, 8.21325894, 3.29147489],\n",
    "[11.13551339, 8.08991071, 3.51785384],\n",
    "[7.18684228, 6.21910921, 3.93796442],\n",
    "[7.88437782, 10.5718392, 3.95937956],\n",
    "[9.71784555, 6.07918378, 4.09394596],\n",
    "[11.97420313, 10.35137104, 4.33933113],\n",
    "[6.42017871, 8.55796232, 4.53249281],\n",
    "[9.97169751, 11.88885922, 4.62524758],\n",
    "[9.82411407, 9.43691954, 5.10406749],\n",
    "[5.02772356, 6.55318086, 5.20359556],\n",
    "[5.71367449, 10.90921526, 5.25590498],\n",
    "[8.41435724, 7.42843168, 5.68181186],\n",
    "[11.0285349, 7.27653846, 5.85794355],\n",
    "[7.79544252, 12.26033475, 5.87610665],\n",
    "[4.27718147, 8.88880172, 5.86736713],\n",
    "[11.91867483, 12.00967502, 6.24563146],\n",
    "[6.9561607, 5.37238684, 6.26938662],\n",
    "[7.67700429, 9.79132879, 6.32467407],\n",
    "[9.50228326, 5.2069596, 6.45258385],\n",
    "[11.87164769, 9.54494266, 6.68244807],\n",
    "[12.02789873, 5.12581568, 6.74109416],\n",
    "[9.88844903, 13.49922651, 6.57922127],\n",
    "[3.59896936, 11.21261099, 6.58760866],\n",
    "[6.25574475, 7.76131662, 6.94310978],\n",
    "[9.77298468, 11.08697928, 7.00896014],\n",
    "[5.64304702, 12.56406942, 7.20157052],\n",
    "[9.65009283, 8.66311539, 7.41738673],\n",
    "[12.95719784, 7.37463975, 7.57489662],\n",
    "[3.97662306, 6.96385649, 7.4780558],\n",
    "[5.5593229, 10.10255239, 7.6386882],\n",
    "[7.73820851, 13.84622135, 7.8527848],\n",
    "[8.1830049, 6.63840522, 8.0168064],\n",
    "[10.70190431, 6.53159817, 8.22675048],\n",
    "[13.72586678, 9.68714235, 8.3981167],\n",
    "[7.98154103, 4.19765578, 8.32731731],\n",
    "[3.27977734, 9.3022518, 8.18896381],\n",
    "[7.62359206, 11.43808642, 8.27752581],\n",
    "[10.55129337, 4.0805155, 8.5609616],\n",
    "[11.76414234, 11.28499926, 8.65854603],\n",
    "[5.91012759, 5.75557787, 8.56871289],\n",
    "[7.49034308, 9.0057639, 8.68353281],\n",
    "[11.54936709, 8.80691453, 9.05320905],\n",
    "[9.7137393, 12.78636073, 8.95977573],\n",
    "[12.67456914, 5.40926942, 9.22361494],\n",
    "[4.12936341, 11.58348871, 9.01710543],\n",
    "[5.22409251, 8.16647139, 9.25872611],\n",
    "[9.56094879, 10.34182511, 9.36067818],\n",
    "[9.37880896, 7.93821131, 9.68957149],\n",
    "[6.19508081, 12.92482629, 9.64387612],\n",
    "[13.5372612, 7.72382715, 10.06363071],\n",
    "[4.95459032, 6.27620264, 10.88163222],\n",
    "[9.20140742, 5.5571462, 10.04127471],\n",
    "[6.0873292, 10.48531258, 10.10256552],\n",
    "[6.96384327, 4.65312172, 10.66958722],\n",
    "[9.02696245, 3.15942277, 10.40158812],\n",
    "[11.28333689, 6.86978501, 10.68020117],\n",
    "[12.79744324, 10.11163506, 10.75172547]]\n",
    "\n",
    "cofm = [sum([pos[1] for pos in pos_cu78]),sum([pos[2] for pos in pos_cu78]),sum([pos[3] for pos in pos_cu78])]./78\n",
    "\n",
    "for element in pos_cu78\n",
    "    element .-=cofm \n",
    "end\n",
    "println(pos_cu78)"
   ]
  },
  {
   "cell_type": "code",
   "execution_count": 66,
   "metadata": {},
   "outputs": [
    {
     "name": "stdout",
     "output_type": "stream",
     "text": [
      "1159.4240958269834\n"
     ]
    },
    {
     "data": {
      "text/plain": [
       "1159.4240958269834"
      ]
     },
     "metadata": {},
     "output_type": "display_data"
    }
   ],
   "source": [
    "dismat78 = [distance2(a,b) for a in pos_cu78, b in pos_cu78]\n",
    "println(get_energy(dismat78,suttonchenpot)[2])\n",
    "energytotal(dismat78,suttonchenpot)"
   ]
  }
 ],
 "metadata": {
  "kernelspec": {
   "display_name": "Julia 1.8.5",
   "language": "julia",
   "name": "julia-1.8"
  },
  "language_info": {
   "file_extension": ".jl",
   "mimetype": "application/julia",
   "name": "julia",
   "version": "1.8.5"
  },
  "orig_nbformat": 4
 },
 "nbformat": 4,
 "nbformat_minor": 2
}
