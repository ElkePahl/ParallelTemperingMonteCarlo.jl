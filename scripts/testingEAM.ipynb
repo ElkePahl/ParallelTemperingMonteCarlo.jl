{
 "cells": [
  {
   "cell_type": "code",
   "execution_count": 1,
   "metadata": {},
   "outputs": [],
   "source": [
    "using Pkg; Pkg.update\n",
    "\n",
    "using ParallelTemperingMonteCarlo,BenchmarkTools,StaticArrays"
   ]
  },
  {
   "cell_type": "markdown",
   "metadata": {},
   "source": [
    "Looking into the implementation of the EAM. A semi-two-body potential "
   ]
  },
  {
   "cell_type": "code",
   "execution_count": 2,
   "metadata": {},
   "outputs": [
    {
     "data": {
      "text/plain": [
       "Config{13, SphericalBC{Float64}, Float64}(SVector{3, Float64}[[-3.35737368666e-8, -3.01478453496e-8, -2.2610884012200003e-8], [-5.0100237544608e-6, -9.5924962476e-9, 4.491082807389623], [1.2413025402138254, -3.8203432492477134, 2.0084746703815606], [-3.2497803034902475, -2.3611020206489175, 2.00846968707976], [-3.249780345286124, 2.3611019212980637, 2.0084696658392325], [1.241302471695995, 3.8203432300627207, 2.0084746361226458], [4.016944341017041, 1.50739226748e-8, 2.008477729017507], [-1.2413025388434689, -3.8203432896732337, -2.0084746806592353], [-4.016944408164515, -7.468443507060001e-8, -2.008477773554097], [-1.2413026073612992, 3.8203431896372013, -2.0084747149181505], [3.2497802363427737, 2.361101961038405, -2.00846973161635], [3.2497802781386502, -2.361101980908576, -2.0084697103758224], [4.9428762807276005e-6, -5.0018016148200005e-8, -4.491082852611391]], SphericalBC{Float64}(228.54811596737582))"
      ]
     },
     "metadata": {},
     "output_type": "display_data"
    }
   ],
   "source": [
    "ico_13  = [[-0.0000000049,       -0.0000000044,       -0.0000000033],\n",
    "[-0.0000007312,       -0.0000000014,        0.6554619119],\n",
    "[0.1811648930,      -0.5575692094,        0.2931316798],\n",
    "[-0.4742970242,       -0.3445967289,        0.2931309525],\n",
    "[-0.4742970303,        0.3445967144,        0.2931309494],\n",
    "[0.1811648830,        0.5575692066,        0.2931316748],\n",
    "[0.5862626299,        0.0000000022,        0.2931321262],\n",
    "[-0.1811648928,       -0.5575692153,       -0.2931316813],\n",
    "[-0.5862626397,       -0.0000000109,       -0.2931321327],\n",
    "[-0.1811649028,        0.5575692007,       -0.2931316863],\n",
    "[0.4742970144,        0.3445967202,       -0.2931309590],\n",
    "[0.4742970205,       -0.3445967231,       -0.2931309559],\n",
    "[0.0000007214,       -0.0000000073,       -0.6554619185]]\n",
    "ico_55 = [[0.0000006584,       -0.0000019175,        0.0000000505],\n",
    "[-0.0000005810,       -0.0000004871,        0.6678432175],\n",
    "[0.1845874248,       -0.5681026047,        0.2986701538],\n",
    "[-0.4832557457,       -0.3511072166,        0.2986684497],\n",
    "[-0.4832557570,        0.3511046452,        0.2986669456],\n",
    "[0.1845874064,        0.5681000550,        0.2986677202],\n",
    "[0.5973371920,       -0.0000012681,        0.2986697030],\n",
    "[-0.1845860897,       -0.5681038901,       -0.2986676192],\n",
    "[-0.5973358752,       -0.0000025669,       -0.2986696020],\n",
    "[-0.1845861081,        0.5680987696,       -0.2986700528],\n",
    "[0.4832570624,        0.3511033815,       -0.2986683486],\n",
    "[0.4832570738,       -0.3511084803,       -0.2986668445],\n",
    "[0.0000018978,       -0.0000033480,       -0.6678431165],\n",
    "[-0.0000017969,        0.0000009162,        1.3230014650],\n",
    "[0.1871182835,       -0.5758942175,        0.9797717078],\n",
    "[-0.4898861924,       -0.3559221410,       0.9797699802],\n",
    "[-0.4898862039,        0.3559224872,        0.9797684555],\n",
    "[0.1871182648,        0.5758945856,        0.9797692407],\n",
    "[0.6055300485,        0.0000001908,        0.9797712507],\n",
    "[0.7926501864,       -0.5758950093,        0.6055339635],\n",
    "[0.3656681761,       -1.1254128670,        0.5916673591],\n",
    "[-0.3027660545,       -0.9318173412,        0.6055326929],\n",
    "[-0.9573332453,       -0.6955436707,        0.5916639831],\n",
    "[-0.9797705418,       -0.0000006364,        0.6055294407],\n",
    "[-0.9573332679,        0.6955423392,        0.5916610035],\n",
    "[-0.3027660847,        0.9318160902,        0.6055287012],\n",
    "[0.3656681396,        1.1254115783,        0.5916625380],\n",
    "[0.7926501677,        0.5758937939,        0.6055314964],\n",
    "[1.1833279992,       -0.0000006311,        0.5916664660],\n",
    "[0.6770051458,       -0.9318186223,        0.0000033028],\n",
    "[0.0000006771,       -1.1517907207,        0.0000025175],\n",
    "[-0.6770037988,       -0.9318186442,        0.0000007900],\n",
    "[-1.0954155825,       -0.3559242494,       -0.0000012200],\n",
    "[-1.0954155940,        0.3559203788,       -0.0000027447],\n",
    "[-0.6770038290,        0.9318147872,       -0.0000032017],\n",
    "[0.0000006397,        1.1517868856,       -0.0000024165],\n",
    "[0.6770051155,        0.9318148091,       -0.0000006889],\n",
    "[1.0954168993,        0.3559204143,        0.0000013211],\n",
    "[1.0954169108,       -0.3559242139,        0.0000028458],\n",
    "[0.3027674014,       -0.9318199253,       -0.6055286002],\n",
    "[-0.3656668229,       -1.1254154134,       -0.5916624370],\n",
    "[-0.7926488510,       -0.5758976290,       -0.6055313954],\n",
    "[-1.1833266824,       -0.0000032040,       -0.5916663649],\n",
    "[-0.7926488697,        0.5758911742,       -0.6055338624],\n",
    "[-0.3656668594,        1.1254090319,       -0.5916672580],\n",
    "[0.3027673712,        0.9318135061,       -0.6055325919],\n",
    "[0.9573345621,        0.6955398357,       -0.5916638820],\n",
    "[0.9797718586,       -0.0000031986,       -0.6055293396],\n",
    "[0.9573345846,       -0.6955461743,       -0.5916609025],\n",
    "[-0.1871169480,       -0.5758984207,       -0.9797691397],\n",
    "[-0.6055287318,       -0.0000040259,       -0.9797711497],\n",
    "[-0.1871169667,        0.5758903824,       -0.9797716067],\n",
    "[0.4898875091,        0.3559183059,       -0.9797698792],\n",
    "[0.4898875207,       -0.3559263223,       -0.9797683545],\n",
    "[0.0000031136,       -0.0000047513,       -1.3230013639]]\n",
    "\n",
    "nmtobohr = 18.8973\n",
    "copperconstant = 0.36258*nmtobohr\n",
    "pos_cu13 = copperconstant*ico_13\n",
    "pos_cu55 = copperconstant*ico_55\n",
    "AtoBohr = 1.8897259886\n",
    "bc_cu13 = SphericalBC(radius=8*AtoBohr)\n",
    "start_config = Config(pos_cu13, bc_cu13)"
   ]
  },
  {
   "cell_type": "markdown",
   "metadata": {},
   "source": [
    "Generating the necessary dist2_matrix"
   ]
  },
  {
   "cell_type": "code",
   "execution_count": 3,
   "metadata": {},
   "outputs": [
    {
     "data": {
      "text/plain": [
       "55×55 Matrix{Float64}:\n",
       "  0.0      20.939    20.939    20.939   …   62.2806   62.2806   82.1728\n",
       " 20.939     0.0      23.1496   23.1496     144.657   144.657   186.072\n",
       " 20.939    23.1496    0.0      23.1496     121.19     83.2196  140.213\n",
       " 20.939    23.1496   23.1496    0.0        144.657   121.19    140.213\n",
       " 20.939    23.1496   60.6064   23.1496     121.19    144.657   140.213\n",
       " 20.939    23.1496   60.6064   60.6064  …   83.2196  121.19    140.213\n",
       " 20.939    23.1496   23.1496   60.6064      83.2196   83.2196  140.213\n",
       " 20.939    60.6064   23.1496   23.1496      83.2196   45.249    66.0106\n",
       " 20.939    60.6064   60.6064   23.1496      83.2196   83.2196   66.0106\n",
       " 20.939    60.6064   83.756    60.6064      45.249    83.2196   66.0106\n",
       "  ⋮                                     ⋱                      \n",
       " 82.1728  140.213   140.213   186.072       22.7447   69.2332   90.848\n",
       " 62.2806  121.19     83.2196  144.657       23.7891   23.7891   69.2332\n",
       " 82.1728  140.213    66.0106  140.213       69.2332   22.7447   90.848\n",
       " 62.2806  144.657    83.2196   83.2196      62.2806   23.7891   22.7447\n",
       " 62.2806  144.657   121.19     83.2196  …   62.2806   62.2806   22.7447\n",
       " 62.2806  144.657   144.657   121.19        23.7891   62.2806   22.7447\n",
       " 62.2806  144.657   121.19    144.657        0.0      23.7891   22.7447\n",
       " 62.2806  144.657    83.2196  121.19        23.7891    0.0      22.7447\n",
       " 82.1728  186.072   140.213   140.213       22.7447   22.7447    0.0"
      ]
     },
     "metadata": {},
     "output_type": "display_data"
    }
   ],
   "source": [
    "dis2mat = [distance2(a,b) for a in pos_cu13, b in pos_cu13]\n",
    "dist2mat_55 = [distance2(a,b) for a in pos_cu55, b in pos_cu55]"
   ]
  },
  {
   "cell_type": "markdown",
   "metadata": {},
   "source": [
    "The mathematical form of the EAM is:\n",
    "\n",
    "$$\n",
    "E = \\frac{1}{2}\\sum_{i,j :i \\neq j}\\epsilon\\left(\\frac{a}{r_{ij}}\\right)^n - \\epsilon C \\sum_{i}\\left[\\sum_{j\\neq i} \\left(\\frac{a}{r_{ij}}\\right)^m \\right]^{1/2}\n",
    "$$"
   ]
  },
  {
   "cell_type": "markdown",
   "metadata": {},
   "source": [
    "We have two terms, one similar to the LJ repulsion term, one a density term $F(\\rho _i)$.\n",
    "\n",
    "We can consider that $\\frac{\\epsilon a^n}{2}$ and $\\epsilon C a^{m/2} $ can be taken out of the sum. Thus a single sum represents contracting a vector in the dist matrix. "
   ]
  },
  {
   "cell_type": "code",
   "execution_count": 4,
   "metadata": {},
   "outputs": [],
   "source": [
    "# struct EmbeddedAtomPotential <: AbstractDimerPotential\n",
    "#     n::Float64\n",
    "#     m::Float64\n",
    "#     ean::Float64\n",
    "#     eCam::Float64\n",
    "# end\n",
    "# function EmbeddedAtomPotential(n,m,ϵ,C,a)\n",
    "#     epsan = ϵ * a^n / 2\n",
    "#     epsCam = ϵ * C * a^(m/2)\n",
    "#     return EmbeddedAtomPotential(n,m,epsan,epsCam)\n",
    "# end"
   ]
  },
  {
   "cell_type": "code",
   "execution_count": 5,
   "metadata": {},
   "outputs": [
    {
     "data": {
      "text/plain": [
       "EmbeddedAtomPotential(9.05, 5.005, 5949.446479587037, 2.6153101861477057)"
      ]
     },
     "metadata": {},
     "output_type": "display_data"
    }
   ],
   "source": [
    "evtohartree = 0.0367493\n",
    "\n",
    "n = 8.482\n",
    "m = 4.692\n",
    "ϵ = evtohartree*0.0370\n",
    "a = 0.25*nmtobohr\n",
    "C = 27.561\n",
    "\n",
    "\n",
    "copperpot = EmbeddedAtomPotential(n,m,ϵ,C,a)\n",
    "\n",
    "suttonchenpot = EmbeddedAtomPotential(9.0,6.0,0.0126*evtohartree,39.432,0.3612*nmtobohr)\n",
    "\n",
    "copperpot2 = EmbeddedAtomPotential(9.05 , 5.005 , 0.0225*evtohartree,33.17,0.327*nmtobohr)"
   ]
  },
  {
   "cell_type": "code",
   "execution_count": 6,
   "metadata": {},
   "outputs": [
    {
     "data": {
      "text/plain": [
       "-1.3002351409450545"
      ]
     },
     "metadata": {},
     "output_type": "display_data"
    }
   ],
   "source": [
    "invrexp(r2,expterm) = ifelse(r2 != 0 , 1/sqrt(r2)^expterm, 0. )\n",
    "calcvec(distvec,expterm) = sum(invrexp.(distvec,Ref(expterm)))\n",
    "\n",
    "function energyatomi(distvec,pot::EmbeddedAtomPotential) \n",
    "    Fterm = pot.eCam*sqrt(calcvec(distvec,pot.m))\n",
    "    phiterm = pot.ean*calcvec(distvec,pot.n)\n",
    "    return phiterm - Fterm\n",
    "end\n",
    "function energytotal(distmatrix,pot::EmbeddedAtomPotential)\n",
    "    total_energy = 0.\n",
    "    for distrow in eachrow(distmatrix)\n",
    "        total_energy += energyatomi(distrow,pot)\n",
    "    end\n",
    "    return total_energy \n",
    "end\n",
    "E_vec = [energyatomi(distrow,copperpot) for distrow in eachrow(dis2mat)]\n",
    "sum(E_vec)\n",
    "\n",
    "E_vec2 = [energyatomi(distrow,suttonchenpot) for distrow in eachrow(dis2mat)]\n",
    "sum(E_vec2)"
   ]
  },
  {
   "cell_type": "code",
   "execution_count": 7,
   "metadata": {},
   "outputs": [
    {
     "data": {
      "text/plain": [
       "-1.3002351409450545"
      ]
     },
     "metadata": {},
     "output_type": "display_data"
    }
   ],
   "source": [
    "energytotal(dis2mat,suttonchenpot)"
   ]
  },
  {
   "cell_type": "code",
   "execution_count": 8,
   "metadata": {},
   "outputs": [
    {
     "data": {
      "text/plain": [
       "BenchmarkTools.Trial: 10000 samples with 1 evaluation.\n",
       " Range \u001b[90m(\u001b[39m\u001b[36m\u001b[1mmin\u001b[22m\u001b[39m … \u001b[35mmax\u001b[39m\u001b[90m):  \u001b[39m\u001b[36m\u001b[1m34.807 μs\u001b[22m\u001b[39m … \u001b[35m 3.749 ms\u001b[39m  \u001b[90m┊\u001b[39m GC \u001b[90m(\u001b[39mmin … max\u001b[90m): \u001b[39m0.00% … 98.44%\n",
       " Time  \u001b[90m(\u001b[39m\u001b[34m\u001b[1mmedian\u001b[22m\u001b[39m\u001b[90m):     \u001b[39m\u001b[34m\u001b[1m45.353 μs              \u001b[22m\u001b[39m\u001b[90m┊\u001b[39m GC \u001b[90m(\u001b[39mmedian\u001b[90m):    \u001b[39m0.00%\n",
       " Time  \u001b[90m(\u001b[39m\u001b[32m\u001b[1mmean\u001b[22m\u001b[39m ± \u001b[32mσ\u001b[39m\u001b[90m):   \u001b[39m\u001b[32m\u001b[1m44.583 μs\u001b[22m\u001b[39m ± \u001b[32m79.395 μs\u001b[39m  \u001b[90m┊\u001b[39m GC \u001b[90m(\u001b[39mmean ± σ\u001b[90m):  \u001b[39m3.95% ±  2.20%\n",
       "\n",
       "  \u001b[39m \u001b[39m▁\u001b[39m█\u001b[39m \u001b[39m \u001b[39m \u001b[39m \u001b[39m \u001b[39m \u001b[39m \u001b[39m \u001b[39m \u001b[39m \u001b[39m \u001b[39m \u001b[39m \u001b[39m \u001b[39m \u001b[39m \u001b[39m \u001b[39m \u001b[39m \u001b[32m \u001b[39m\u001b[39m \u001b[34m▂\u001b[39m\u001b[39m▃\u001b[39m▁\u001b[39m \u001b[39m \u001b[39m \u001b[39m \u001b[39m \u001b[39m \u001b[39m \u001b[39m \u001b[39m \u001b[39m \u001b[39m \u001b[39m \u001b[39m \u001b[39m \u001b[39m \u001b[39m \u001b[39m \u001b[39m \u001b[39m \u001b[39m \u001b[39m \u001b[39m \u001b[39m \u001b[39m \u001b[39m \u001b[39m \u001b[39m \u001b[39m \u001b[39m \u001b[39m \u001b[39m \u001b[39m \u001b[39m \u001b[39m \n",
       "  \u001b[39m█\u001b[39m█\u001b[39m█\u001b[39m▇\u001b[39m▇\u001b[39m▃\u001b[39m▃\u001b[39m▂\u001b[39m▂\u001b[39m▂\u001b[39m▂\u001b[39m▂\u001b[39m▂\u001b[39m▂\u001b[39m▂\u001b[39m▁\u001b[39m▂\u001b[39m▁\u001b[39m▁\u001b[39m▂\u001b[39m▂\u001b[39m▃\u001b[32m▄\u001b[39m\u001b[39m█\u001b[34m█\u001b[39m\u001b[39m█\u001b[39m█\u001b[39m▇\u001b[39m▆\u001b[39m▅\u001b[39m▅\u001b[39m▄\u001b[39m▃\u001b[39m▃\u001b[39m▃\u001b[39m▃\u001b[39m▃\u001b[39m▃\u001b[39m▂\u001b[39m▂\u001b[39m▂\u001b[39m▂\u001b[39m▂\u001b[39m▂\u001b[39m▂\u001b[39m▂\u001b[39m▂\u001b[39m▂\u001b[39m▂\u001b[39m▂\u001b[39m▂\u001b[39m▂\u001b[39m▂\u001b[39m▂\u001b[39m▂\u001b[39m▂\u001b[39m▂\u001b[39m▂\u001b[39m▂\u001b[39m \u001b[39m▃\n",
       "  34.8 μs\u001b[90m         Histogram: frequency by time\u001b[39m        60.7 μs \u001b[0m\u001b[1m<\u001b[22m\n",
       "\n",
       " Memory estimate\u001b[90m: \u001b[39m\u001b[33m53.28 KiB\u001b[39m, allocs estimate\u001b[90m: \u001b[39m\u001b[33m110\u001b[39m."
      ]
     },
     "metadata": {},
     "output_type": "display_data"
    }
   ],
   "source": [
    "@benchmark energytotal($dist2mat_55,$suttonchenpot)"
   ]
  },
  {
   "cell_type": "markdown",
   "metadata": {},
   "source": [
    "# An alternative approach\n",
    "\n",
    "Considering that the $\\rho_i$ term depends on the square of sums, we can't simply update the total energy by considering the change to a single $r_{ij}$ on the global energy.\n",
    "\n",
    "Rather than calculating $E_i$ and being unable to _separate_ the terms, we can store the $\\phi_i,\\rho_i$ terms. This may result in slower calculation of the global terms, but it may speed up the calculation of $E_{new}$ at each step."
   ]
  },
  {
   "cell_type": "code",
   "execution_count": 9,
   "metadata": {},
   "outputs": [
    {
     "data": {
      "text/plain": [
       "calc_total_energy (generic function with 1 method)"
      ]
     },
     "metadata": {},
     "output_type": "display_data"
    }
   ],
   "source": [
    "function invrexp(r2,n,m)\n",
    "    if r2 != 0.\n",
    "        r_term = 1/sqrt(r2)\n",
    "        return r_term^n , r_term^m\n",
    "    else\n",
    "        return 0. , 0.\n",
    "    end    \n",
    "end\n",
    "\n",
    "function calc_components(eatomvec,distancevec,n,m)\n",
    "    for dist in distancevec\n",
    "        eatomvec .+= invrexp(dist,n,m)\n",
    "    end\n",
    "    return eatomvec\n",
    "end\n",
    "function calc_all_components(dist2_mat,n,m)\n",
    "    n_atoms = size(dist2_mat)[1]\n",
    "    component_vector = zeros(n_atoms,2)\n",
    "    for row_index in 1:n_atoms\n",
    "        component_vector[row_index,:] = calc_components(component_vector[row_index,:],dist2_mat[row_index,:],n,m)\n",
    "    end\n",
    "    return component_vector\n",
    "end\n",
    "function calc_energies_from_components(component_vector,ean,ecam)\n",
    "    return sum(ean.*component_vector[:,1] .- ecam*sqrt.(component_vector[:,2]))\n",
    "end\n",
    "function calc_total_energy(dist2_mat,pot::EmbeddedAtomPotential)\n",
    "    componentvec = calc_all_components(dist2_mat,pot.n,pot.m)\n",
    "    return componentvec,calc_energies_from_components(componentvec,pot.ean,pot.eCam) \n",
    "end"
   ]
  },
  {
   "cell_type": "code",
   "execution_count": 10,
   "metadata": {},
   "outputs": [
    {
     "data": {
      "text/plain": [
       "([1.3923704520825358e-5 0.0014529219103246252; 1.1152248517093746e-5 0.0012372868606771957; … ; 6.176322918802852e-6 0.0007295761752523578; 5.340590516223844e-6 0.0005944969082196186], -6.119246949010012)"
      ]
     },
     "metadata": {},
     "output_type": "display_data"
    }
   ],
   "source": [
    "phirho,energytot = calc_total_energy(dist2mat_55,suttonchenpot)"
   ]
  },
  {
   "cell_type": "code",
   "execution_count": 11,
   "metadata": {},
   "outputs": [
    {
     "data": {
      "text/plain": [
       "BenchmarkTools.Trial: 10000 samples with 1 evaluation.\n",
       " Range \u001b[90m(\u001b[39m\u001b[36m\u001b[1mmin\u001b[22m\u001b[39m … \u001b[35mmax\u001b[39m\u001b[90m):  \u001b[39m\u001b[36m\u001b[1m118.840 μs\u001b[22m\u001b[39m … \u001b[35m 5.181 ms\u001b[39m  \u001b[90m┊\u001b[39m GC \u001b[90m(\u001b[39mmin … max\u001b[90m): \u001b[39m0.00% … 97.21%\n",
       " Time  \u001b[90m(\u001b[39m\u001b[34m\u001b[1mmedian\u001b[22m\u001b[39m\u001b[90m):     \u001b[39m\u001b[34m\u001b[1m126.821 μs              \u001b[22m\u001b[39m\u001b[90m┊\u001b[39m GC \u001b[90m(\u001b[39mmedian\u001b[90m):    \u001b[39m0.00%\n",
       " Time  \u001b[90m(\u001b[39m\u001b[32m\u001b[1mmean\u001b[22m\u001b[39m ± \u001b[32mσ\u001b[39m\u001b[90m):   \u001b[39m\u001b[32m\u001b[1m128.636 μs\u001b[22m\u001b[39m ± \u001b[32m86.515 μs\u001b[39m  \u001b[90m┊\u001b[39m GC \u001b[90m(\u001b[39mmean ± σ\u001b[90m):  \u001b[39m1.16% ±  1.68%\n",
       "\n",
       "  \u001b[39m \u001b[39m \u001b[39m \u001b[39m \u001b[39m \u001b[39m█\u001b[39m \u001b[39m \u001b[39m \u001b[39m \u001b[39m \u001b[39m \u001b[39m \u001b[39m \u001b[39m \u001b[39m \u001b[34m \u001b[39m\u001b[39m \u001b[39m \u001b[32m \u001b[39m\u001b[39m \u001b[39m \u001b[39m \u001b[39m \u001b[39m \u001b[39m \u001b[39m \u001b[39m \u001b[39m \u001b[39m \u001b[39m \u001b[39m \u001b[39m \u001b[39m \u001b[39m \u001b[39m \u001b[39m \u001b[39m \u001b[39m \u001b[39m \u001b[39m \u001b[39m \u001b[39m \u001b[39m \u001b[39m \u001b[39m \u001b[39m \u001b[39m \u001b[39m \u001b[39m \u001b[39m \u001b[39m \u001b[39m \u001b[39m \u001b[39m \u001b[39m \u001b[39m \u001b[39m \u001b[39m \u001b[39m \u001b[39m \u001b[39m \n",
       "  \u001b[39m▁\u001b[39m▁\u001b[39m▁\u001b[39m▁\u001b[39m▂\u001b[39m█\u001b[39m▄\u001b[39m▃\u001b[39m▂\u001b[39m▂\u001b[39m▆\u001b[39m▃\u001b[39m▂\u001b[39m▂\u001b[39m▅\u001b[39m█\u001b[34m▇\u001b[39m\u001b[39m▆\u001b[39m▄\u001b[32m▄\u001b[39m\u001b[39m▅\u001b[39m▄\u001b[39m▄\u001b[39m▃\u001b[39m▂\u001b[39m▂\u001b[39m▂\u001b[39m▂\u001b[39m▂\u001b[39m▂\u001b[39m▁\u001b[39m▁\u001b[39m▁\u001b[39m▁\u001b[39m▁\u001b[39m▁\u001b[39m▁\u001b[39m▁\u001b[39m▁\u001b[39m▁\u001b[39m▁\u001b[39m▁\u001b[39m▁\u001b[39m▁\u001b[39m▁\u001b[39m▁\u001b[39m▁\u001b[39m▁\u001b[39m▁\u001b[39m▁\u001b[39m▁\u001b[39m▁\u001b[39m▁\u001b[39m▁\u001b[39m▁\u001b[39m▁\u001b[39m▁\u001b[39m▁\u001b[39m▁\u001b[39m▁\u001b[39m \u001b[39m▂\n",
       "  119 μs\u001b[90m          Histogram: frequency by time\u001b[39m          150 μs \u001b[0m\u001b[1m<\u001b[22m\n",
       "\n",
       " Memory estimate\u001b[90m: \u001b[39m\u001b[33m34.34 KiB\u001b[39m, allocs estimate\u001b[90m: \u001b[39m\u001b[33m116\u001b[39m."
      ]
     },
     "metadata": {},
     "output_type": "display_data"
    }
   ],
   "source": [
    "@benchmark calc_total_energy($dist2mat_55,$copperpot)"
   ]
  },
  {
   "cell_type": "code",
   "execution_count": 12,
   "metadata": {},
   "outputs": [
    {
     "data": {
      "text/plain": [
       "update_components (generic function with 1 method)"
      ]
     },
     "metadata": {},
     "output_type": "display_data"
    }
   ],
   "source": [
    "function update_components(componentvec,atomindex,old_r2_vec,new_r2_vec,n,m)\n",
    "    new_component_vec= copy(componentvec)\n",
    "\n",
    "    for j_index in eachindex(new_r2_vec)\n",
    "        j_term = invrexp(new_r2_vec[j_index],n,m) .- invrexp(old_r2_vec[j_index],n,m)\n",
    "        new_component_vec[j_index,:] .+= j_term \n",
    "        new_component_vec[atomindex,:] .+= j_term \n",
    "    end\n",
    "    return new_component_vec\n",
    "end"
   ]
  },
  {
   "cell_type": "code",
   "execution_count": 13,
   "metadata": {},
   "outputs": [
    {
     "data": {
      "text/plain": [
       "3-element Vector{Float64}:\n",
       "  1.764752985534391\n",
       " -3.3925157884546686\n",
       "  1.5464230925690106"
      ]
     },
     "metadata": {},
     "output_type": "display_data"
    }
   ],
   "source": [
    "testindex,test_disp = 3,[0.5,0.5,-0.5]\n",
    "test_pos = pos_cu55[testindex] + test_disp"
   ]
  },
  {
   "cell_type": "code",
   "execution_count": 14,
   "metadata": {},
   "outputs": [
    {
     "data": {
      "text/plain": [
       "-6.0788077775169675"
      ]
     },
     "metadata": {},
     "output_type": "display_data"
    }
   ],
   "source": [
    "newdisvector = [distance2(test_pos,b) for b in pos_cu55]\n",
    "newdisvector[testindex] = 0.\n",
    "\n",
    "testenergyd2mat = copy(dist2mat_55)\n",
    "testenergyd2mat[3,:] = newdisvector\n",
    "testenergyd2mat[:,3] = newdisvector\n",
    "\n",
    "newphirho,newentot = calc_total_energy(testenergyd2mat,suttonchenpot)\n",
    "\n",
    "new_component_vector = update_components(phirho,3,dist2mat_55[3,:],newdisvector,9.,6.)\n",
    "enew = calc_energies_from_components(new_component_vector,suttonchenpot.ean,suttonchenpot.eCam)"
   ]
  },
  {
   "cell_type": "code",
   "execution_count": 15,
   "metadata": {},
   "outputs": [
    {
     "data": {
      "text/plain": [
       "calc_new_energy (generic function with 1 method)"
      ]
     },
     "metadata": {},
     "output_type": "display_data"
    }
   ],
   "source": [
    "function calc_new_energy(componentvec,atomindex,old_r2,new_r2,pot::EmbeddedAtomPotential)\n",
    "    new_component_vector = update_components(componentvec,atomindex,old_r2,new_r2,pot.n,pot.m)\n",
    "    newenergy = calc_energies_from_components(new_component_vector,pot.ean,pot.eCam)\n",
    "\n",
    "    return new_component_vector , newenergy \n",
    "end"
   ]
  },
  {
   "cell_type": "code",
   "execution_count": 16,
   "metadata": {},
   "outputs": [
    {
     "data": {
      "text/plain": [
       "-6.0788077775169675"
      ]
     },
     "metadata": {},
     "output_type": "display_data"
    }
   ],
   "source": [
    "calc_new_energy(phirho,3,dist2mat_55[3,:],newdisvector,suttonchenpot)[2]"
   ]
  },
  {
   "cell_type": "code",
   "execution_count": 17,
   "metadata": {},
   "outputs": [
    {
     "data": {
      "text/plain": [
       "BenchmarkTools.Trial: 10000 samples with 8 evaluations.\n",
       " Range \u001b[90m(\u001b[39m\u001b[36m\u001b[1mmin\u001b[22m\u001b[39m … \u001b[35mmax\u001b[39m\u001b[90m):  \u001b[39m\u001b[36m\u001b[1m3.014 μs\u001b[22m\u001b[39m … \u001b[35m669.771 μs\u001b[39m  \u001b[90m┊\u001b[39m GC \u001b[90m(\u001b[39mmin … max\u001b[90m): \u001b[39m 0.00% … 98.61%\n",
       " Time  \u001b[90m(\u001b[39m\u001b[34m\u001b[1mmedian\u001b[22m\u001b[39m\u001b[90m):     \u001b[39m\u001b[34m\u001b[1m3.581 μs               \u001b[22m\u001b[39m\u001b[90m┊\u001b[39m GC \u001b[90m(\u001b[39mmedian\u001b[90m):    \u001b[39m 0.00%\n",
       " Time  \u001b[90m(\u001b[39m\u001b[32m\u001b[1mmean\u001b[22m\u001b[39m ± \u001b[32mσ\u001b[39m\u001b[90m):   \u001b[39m\u001b[32m\u001b[1m5.007 μs\u001b[22m\u001b[39m ± \u001b[32m 20.748 μs\u001b[39m  \u001b[90m┊\u001b[39m GC \u001b[90m(\u001b[39mmean ± σ\u001b[90m):  \u001b[39m12.99% ±  3.12%\n",
       "\n",
       "  \u001b[39m \u001b[39m \u001b[39m█\u001b[39m█\u001b[39m \u001b[39m \u001b[39m \u001b[34m \u001b[39m\u001b[39m \u001b[39m \u001b[39m \u001b[39m \u001b[39m \u001b[39m \u001b[39m \u001b[39m \u001b[39m \u001b[39m \u001b[39m \u001b[39m \u001b[39m \u001b[39m \u001b[39m \u001b[39m \u001b[39m \u001b[39m \u001b[32m \u001b[39m\u001b[39m \u001b[39m \u001b[39m \u001b[39m \u001b[39m \u001b[39m \u001b[39m \u001b[39m \u001b[39m \u001b[39m \u001b[39m \u001b[39m \u001b[39m \u001b[39m \u001b[39m \u001b[39m \u001b[39m \u001b[39m \u001b[39m \u001b[39m \u001b[39m \u001b[39m \u001b[39m \u001b[39m \u001b[39m \u001b[39m \u001b[39m \u001b[39m \u001b[39m \u001b[39m \u001b[39m \u001b[39m \u001b[39m \u001b[39m \n",
       "  \u001b[39m▁\u001b[39m▅\u001b[39m█\u001b[39m█\u001b[39m█\u001b[39m▄\u001b[39m▃\u001b[34m▂\u001b[39m\u001b[39m▂\u001b[39m▂\u001b[39m▂\u001b[39m▂\u001b[39m▂\u001b[39m▁\u001b[39m▂\u001b[39m▁\u001b[39m▁\u001b[39m▁\u001b[39m▁\u001b[39m▁\u001b[39m▁\u001b[39m▁\u001b[39m▁\u001b[39m▂\u001b[39m▁\u001b[39m▁\u001b[32m▁\u001b[39m\u001b[39m▁\u001b[39m▂\u001b[39m▃\u001b[39m▅\u001b[39m▅\u001b[39m▅\u001b[39m▅\u001b[39m▄\u001b[39m▄\u001b[39m▃\u001b[39m▃\u001b[39m▂\u001b[39m▂\u001b[39m▂\u001b[39m▂\u001b[39m▁\u001b[39m▁\u001b[39m▁\u001b[39m▁\u001b[39m▁\u001b[39m▁\u001b[39m▁\u001b[39m▁\u001b[39m▁\u001b[39m▁\u001b[39m▁\u001b[39m▁\u001b[39m▁\u001b[39m▁\u001b[39m▁\u001b[39m▁\u001b[39m▁\u001b[39m \u001b[39m▂\n",
       "  3.01 μs\u001b[90m         Histogram: frequency by time\u001b[39m        7.57 μs \u001b[0m\u001b[1m<\u001b[22m\n",
       "\n",
       " Memory estimate\u001b[90m: \u001b[39m\u001b[33m12.48 KiB\u001b[39m, allocs estimate\u001b[90m: \u001b[39m\u001b[33m117\u001b[39m."
      ]
     },
     "metadata": {},
     "output_type": "display_data"
    }
   ],
   "source": [
    "@benchmark calc_new_energy($phirho,$3,$dist2mat_55[3,:],$newdisvector,$suttonchenpot)"
   ]
  },
  {
   "cell_type": "markdown",
   "metadata": {},
   "source": [
    "# Finishing up\n",
    "\n",
    "With the majority of the functions complete, it's just a matter of including them in the main code. Specifically how this is done is never the most fun challenge, but something to work on nevertheless."
   ]
  },
  {
   "cell_type": "code",
   "execution_count": 18,
   "metadata": {},
   "outputs": [
    {
     "data": {
      "text/plain": [
       "([1.3923704520825358e-5 0.0014529219103246252; 1.1152248517093746e-5 0.0012372868606771957; … ; 6.176322918802852e-6 0.0007295761752523578; 5.340590516223844e-6 0.0005944969082196186], -6.119246949010012)"
      ]
     },
     "metadata": {},
     "output_type": "display_data"
    }
   ],
   "source": [
    "get_energy(dist2mat_55,suttonchenpot)"
   ]
  },
  {
   "cell_type": "markdown",
   "metadata": {},
   "source": [
    "# Incorporating this  into MCRun\n",
    "\n",
    "With the energy functions complete, it's time to migrate this to mc_cycles. Because we have the additional output, we need to tailor the move function as well. I think the next goal is to create a new way to handle these data (change vectors within the states struct to prevent constant redefinition)"
   ]
  },
  {
   "cell_type": "code",
   "execution_count": 19,
   "metadata": {},
   "outputs": [
    {
     "data": {
      "text/plain": [
       "Output{Float64}(100, 0.0, 0.0, Float64[], Float64[], Float64[], Vector{Float64}[], Matrix{Float64}[], Vector{Float64}[], Float64[], Float64[], Float64[], Float64[])"
      ]
     },
     "metadata": {},
     "output_type": "display_data"
    }
   ],
   "source": [
    "n_atoms = 55\n",
    "\n",
    "ti = 550\n",
    "tf = 900\n",
    "\n",
    "n_traj = 20\n",
    "\n",
    "temp = TempGrid{n_traj}(ti,tf)\n",
    "mc_cycles = 100\n",
    "mc_sample = 1\n",
    "displ_atom = 0.1 # Angstrom\n",
    "n_adjust = 100\n",
    "max_displ_atom = [0.1*sqrt(displ_atom*temp.t_grid[i]) for i in 1:n_traj]\n",
    "mc_params = MCParams(mc_cycles, n_traj, n_atoms, mc_sample = mc_sample, n_adjust = n_adjust)\n",
    "move_strat = MoveStrategy(atom_moves = n_atoms)  \n",
    "ensemble = NVT(n_atoms)\n",
    "bc_cu55 = SphericalBC(radius=14*AtoBohr)\n",
    "start_config = Config(pos_cu55, bc_cu55)\n",
    "n_bin = 100\n",
    "mc_states = [MCState(temp.t_grid[i], temp.beta_grid[i], start_config, suttonchenpot) for i in 1:n_traj]\n",
    "results = Output{Float64}(n_bin; en_min = mc_states[1].en_tot)"
   ]
  },
  {
   "cell_type": "code",
   "execution_count": 20,
   "metadata": {},
   "outputs": [
    {
     "ename": "UndefVarError",
     "evalue": "UndefVarError: i_atom not defined",
     "output_type": "error",
     "traceback": [
      "UndefVarError: i_atom not defined\n",
      "\n",
      "Stacktrace:\n",
      "  [1] calc_new_energy(mc_state::MCState{Float64, 55, SphericalBC{Float64}}, atomindex::Int64, newpos::SVector{3, Float64}, pot::EmbeddedAtomPotential)\n",
      "    @ ParallelTemperingMonteCarlo.EnergyEvaluation ~/Documents/ParallelTemperingMonteCarlo.jl/src/EnergyEvaluation.jl:306\n",
      "  [2] _broadcast_getindex_evalf\n",
      "    @ ./broadcast.jl:670 [inlined]\n",
      "  [3] _broadcast_getindex\n",
      "    @ ./broadcast.jl:643 [inlined]\n",
      "  [4] getindex\n",
      "    @ ./broadcast.jl:597 [inlined]\n",
      "  [5] copy\n",
      "    @ ./broadcast.jl:899 [inlined]\n",
      "  [6] materialize\n",
      "    @ ./broadcast.jl:860 [inlined]\n",
      "  [7] get_energy(trial_positions::Vector{SVector{3, Float64}}, indices::Vector{Int64}, mc_states::Vector{MCState{Float64, 55, SphericalBC{Float64}}}, pot::EmbeddedAtomPotential)\n",
      "    @ ParallelTemperingMonteCarlo.EnergyEvaluation ~/Documents/ParallelTemperingMonteCarlo.jl/src/EnergyEvaluation.jl:326\n",
      "  [8] mc_step!(mc_states::Vector{MCState{Float64, 55, SphericalBC{Float64}}}, move_strat::MoveStrategy{55, 0, 0}, mc_params::MCParams, pot::EmbeddedAtomPotential, ensemble::NVT)\n",
      "    @ ParallelTemperingMonteCarlo.MCRun ~/Documents/ParallelTemperingMonteCarlo.jl/src/MCRun.jl:198\n",
      "  [9] mc_cycle!(mc_states::Vector{MCState{Float64, 55, SphericalBC{Float64}}}, move_strat::MoveStrategy{55, 0, 0}, mc_params::MCParams, pot::EmbeddedAtomPotential, ensemble::NVT, n_steps::Int64, a::Int64, v::Int64, r::Int64)\n",
      "    @ ParallelTemperingMonteCarlo.MCRun ~/Documents/ParallelTemperingMonteCarlo.jl/src/MCRun.jl:220\n",
      " [10] equilibration_cycle!(mc_states::Vector{MCState{Float64, 55, SphericalBC{Float64}}}, move_strat::MoveStrategy{55, 0, 0}, mc_params::MCParams, results::Output{Float64}, pot::EmbeddedAtomPotential, ensemble::NVT, n_steps::Int64, a::Int64, v::Int64, r::Int64)\n",
      "    @ ParallelTemperingMonteCarlo.MCRun ~/Documents/ParallelTemperingMonteCarlo.jl/src/MCRun.jl:291\n",
      " [11] equilibration\n",
      "    @ ~/Documents/ParallelTemperingMonteCarlo.jl/src/MCRun.jl:327 [inlined]\n",
      " [12] ptmc_run!(input::Tuple{Vector{MCState{Float64, 55, SphericalBC{Float64}}}, MoveStrategy{55, 0, 0}, MCParams, EmbeddedAtomPotential, NVT, Output{Float64}}; restart::Bool, startfile::String, save::Bool, save_dir::String)\n",
      "    @ ParallelTemperingMonteCarlo.MCRun ~/Documents/ParallelTemperingMonteCarlo.jl/src/MCRun.jl:358\n",
      " [13] top-level scope\n",
      "    @ ~/Documents/ParallelTemperingMonteCarlo.jl/scripts/testingEAM.ipynb:1"
     ]
    }
   ],
   "source": [
    "ptmc_run!((mc_states, move_strat, mc_params, suttonchenpot, ensemble, results); save=false)"
   ]
  },
  {
   "cell_type": "code",
   "execution_count": 21,
   "metadata": {},
   "outputs": [
    {
     "data": {
      "text/plain": [
       "20.93901164147001"
      ]
     },
     "metadata": {},
     "output_type": "display_data"
    }
   ],
   "source": [
    "distance2(mc_states[1].config.pos[1],mc_states[1].config.pos[2])"
   ]
  },
  {
   "cell_type": "code",
   "execution_count": 22,
   "metadata": {},
   "outputs": [],
   "source": []
  }
 ],
 "metadata": {
  "kernelspec": {
   "display_name": "Julia 1.8.5",
   "language": "julia",
   "name": "julia-1.8"
  },
  "language_info": {
   "file_extension": ".jl",
   "mimetype": "application/julia",
   "name": "julia",
   "version": "1.8.5"
  },
  "orig_nbformat": 4
 },
 "nbformat": 4,
 "nbformat_minor": 2
}
