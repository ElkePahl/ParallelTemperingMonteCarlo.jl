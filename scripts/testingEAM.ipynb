{
 "cells": [
  {
   "cell_type": "code",
   "execution_count": 1,
   "metadata": {},
   "outputs": [],
   "source": [
    "using Pkg; Pkg.update\n",
    "\n",
    "using ParallelTemperingMonteCarlo,BenchmarkTools,StaticArrays"
   ]
  },
  {
   "cell_type": "markdown",
   "metadata": {},
   "source": [
    "Looking into the implementation of the EAM. A semi-two-body potential "
   ]
  },
  {
   "cell_type": "code",
   "execution_count": 2,
   "metadata": {},
   "outputs": [
    {
     "data": {
      "text/plain": [
       "Config{13, SphericalBC{Float64}, Float64}(SVector{3, Float64}[[-3.35737368666e-8, -3.01478453496e-8, -2.2610884012200003e-8], [-5.0100237544608e-6, -9.5924962476e-9, 4.491082807389623], [1.2413025402138254, -3.8203432492477134, 2.0084746703815606], [-3.2497803034902475, -2.3611020206489175, 2.00846968707976], [-3.249780345286124, 2.3611019212980637, 2.0084696658392325], [1.241302471695995, 3.8203432300627207, 2.0084746361226458], [4.016944341017041, 1.50739226748e-8, 2.008477729017507], [-1.2413025388434689, -3.8203432896732337, -2.0084746806592353], [-4.016944408164515, -7.468443507060001e-8, -2.008477773554097], [-1.2413026073612992, 3.8203431896372013, -2.0084747149181505], [3.2497802363427737, 2.361101961038405, -2.00846973161635], [3.2497802781386502, -2.361101980908576, -2.0084697103758224], [4.9428762807276005e-6, -5.0018016148200005e-8, -4.491082852611391]], SphericalBC{Float64}(228.54811596737582))"
      ]
     },
     "metadata": {},
     "output_type": "display_data"
    }
   ],
   "source": [
    "ico_13  = [[-0.0000000049,       -0.0000000044,       -0.0000000033],\n",
    "[-0.0000007312,       -0.0000000014,        0.6554619119],\n",
    "[0.1811648930,      -0.5575692094,        0.2931316798],\n",
    "[-0.4742970242,       -0.3445967289,        0.2931309525],\n",
    "[-0.4742970303,        0.3445967144,        0.2931309494],\n",
    "[0.1811648830,        0.5575692066,        0.2931316748],\n",
    "[0.5862626299,        0.0000000022,        0.2931321262],\n",
    "[-0.1811648928,       -0.5575692153,       -0.2931316813],\n",
    "[-0.5862626397,       -0.0000000109,       -0.2931321327],\n",
    "[-0.1811649028,        0.5575692007,       -0.2931316863],\n",
    "[0.4742970144,        0.3445967202,       -0.2931309590],\n",
    "[0.4742970205,       -0.3445967231,       -0.2931309559],\n",
    "[0.0000007214,       -0.0000000073,       -0.6554619185]]\n",
    "ico_55 = [[0.0000006584,       -0.0000019175,        0.0000000505],\n",
    "[-0.0000005810,       -0.0000004871,        0.6678432175],\n",
    "[0.1845874248,       -0.5681026047,        0.2986701538],\n",
    "[-0.4832557457,       -0.3511072166,        0.2986684497],\n",
    "[-0.4832557570,        0.3511046452,        0.2986669456],\n",
    "[0.1845874064,        0.5681000550,        0.2986677202],\n",
    "[0.5973371920,       -0.0000012681,        0.2986697030],\n",
    "[-0.1845860897,       -0.5681038901,       -0.2986676192],\n",
    "[-0.5973358752,       -0.0000025669,       -0.2986696020],\n",
    "[-0.1845861081,        0.5680987696,       -0.2986700528],\n",
    "[0.4832570624,        0.3511033815,       -0.2986683486],\n",
    "[0.4832570738,       -0.3511084803,       -0.2986668445],\n",
    "[0.0000018978,       -0.0000033480,       -0.6678431165],\n",
    "[-0.0000017969,        0.0000009162,        1.3230014650],\n",
    "[0.1871182835,       -0.5758942175,        0.9797717078],\n",
    "[-0.4898861924,       -0.3559221410,       0.9797699802],\n",
    "[-0.4898862039,        0.3559224872,        0.9797684555],\n",
    "[0.1871182648,        0.5758945856,        0.9797692407],\n",
    "[0.6055300485,        0.0000001908,        0.9797712507],\n",
    "[0.7926501864,       -0.5758950093,        0.6055339635],\n",
    "[0.3656681761,       -1.1254128670,        0.5916673591],\n",
    "[-0.3027660545,       -0.9318173412,        0.6055326929],\n",
    "[-0.9573332453,       -0.6955436707,        0.5916639831],\n",
    "[-0.9797705418,       -0.0000006364,        0.6055294407],\n",
    "[-0.9573332679,        0.6955423392,        0.5916610035],\n",
    "[-0.3027660847,        0.9318160902,        0.6055287012],\n",
    "[0.3656681396,        1.1254115783,        0.5916625380],\n",
    "[0.7926501677,        0.5758937939,        0.6055314964],\n",
    "[1.1833279992,       -0.0000006311,        0.5916664660],\n",
    "[0.6770051458,       -0.9318186223,        0.0000033028],\n",
    "[0.0000006771,       -1.1517907207,        0.0000025175],\n",
    "[-0.6770037988,       -0.9318186442,        0.0000007900],\n",
    "[-1.0954155825,       -0.3559242494,       -0.0000012200],\n",
    "[-1.0954155940,        0.3559203788,       -0.0000027447],\n",
    "[-0.6770038290,        0.9318147872,       -0.0000032017],\n",
    "[0.0000006397,        1.1517868856,       -0.0000024165],\n",
    "[0.6770051155,        0.9318148091,       -0.0000006889],\n",
    "[1.0954168993,        0.3559204143,        0.0000013211],\n",
    "[1.0954169108,       -0.3559242139,        0.0000028458],\n",
    "[0.3027674014,       -0.9318199253,       -0.6055286002],\n",
    "[-0.3656668229,       -1.1254154134,       -0.5916624370],\n",
    "[-0.7926488510,       -0.5758976290,       -0.6055313954],\n",
    "[-1.1833266824,       -0.0000032040,       -0.5916663649],\n",
    "[-0.7926488697,        0.5758911742,       -0.6055338624],\n",
    "[-0.3656668594,        1.1254090319,       -0.5916672580],\n",
    "[0.3027673712,        0.9318135061,       -0.6055325919],\n",
    "[0.9573345621,        0.6955398357,       -0.5916638820],\n",
    "[0.9797718586,       -0.0000031986,       -0.6055293396],\n",
    "[0.9573345846,       -0.6955461743,       -0.5916609025],\n",
    "[-0.1871169480,       -0.5758984207,       -0.9797691397],\n",
    "[-0.6055287318,       -0.0000040259,       -0.9797711497],\n",
    "[-0.1871169667,        0.5758903824,       -0.9797716067],\n",
    "[0.4898875091,        0.3559183059,       -0.9797698792],\n",
    "[0.4898875207,       -0.3559263223,       -0.9797683545],\n",
    "[0.0000031136,       -0.0000047513,       -1.3230013639]]\n",
    "\n",
    "nmtobohr = 18.8973\n",
    "copperconstant = 0.36258*nmtobohr\n",
    "pos_cu13 = copperconstant*ico_13\n",
    "pos_cu55 = copperconstant*ico_55\n",
    "AtoBohr = 1.8897259886\n",
    "bc_cu13 = SphericalBC(radius=8*AtoBohr)\n",
    "start_config = Config(pos_cu13, bc_cu13)"
   ]
  },
  {
   "cell_type": "markdown",
   "metadata": {},
   "source": [
    "Generating the necessary dist2_matrix"
   ]
  },
  {
   "cell_type": "code",
   "execution_count": 3,
   "metadata": {},
   "outputs": [
    {
     "data": {
      "text/plain": [
       "55×55 Matrix{Float64}:\n",
       "  0.0      20.939    20.939    20.939   …   62.2806   62.2806   82.1728\n",
       " 20.939     0.0      23.1496   23.1496     144.657   144.657   186.072\n",
       " 20.939    23.1496    0.0      23.1496     121.19     83.2196  140.213\n",
       " 20.939    23.1496   23.1496    0.0        144.657   121.19    140.213\n",
       " 20.939    23.1496   60.6064   23.1496     121.19    144.657   140.213\n",
       " 20.939    23.1496   60.6064   60.6064  …   83.2196  121.19    140.213\n",
       " 20.939    23.1496   23.1496   60.6064      83.2196   83.2196  140.213\n",
       " 20.939    60.6064   23.1496   23.1496      83.2196   45.249    66.0106\n",
       " 20.939    60.6064   60.6064   23.1496      83.2196   83.2196   66.0106\n",
       " 20.939    60.6064   83.756    60.6064      45.249    83.2196   66.0106\n",
       "  ⋮                                     ⋱                      \n",
       " 82.1728  140.213   140.213   186.072       22.7447   69.2332   90.848\n",
       " 62.2806  121.19     83.2196  144.657       23.7891   23.7891   69.2332\n",
       " 82.1728  140.213    66.0106  140.213       69.2332   22.7447   90.848\n",
       " 62.2806  144.657    83.2196   83.2196      62.2806   23.7891   22.7447\n",
       " 62.2806  144.657   121.19     83.2196  …   62.2806   62.2806   22.7447\n",
       " 62.2806  144.657   144.657   121.19        23.7891   62.2806   22.7447\n",
       " 62.2806  144.657   121.19    144.657        0.0      23.7891   22.7447\n",
       " 62.2806  144.657    83.2196  121.19        23.7891    0.0      22.7447\n",
       " 82.1728  186.072   140.213   140.213       22.7447   22.7447    0.0"
      ]
     },
     "metadata": {},
     "output_type": "display_data"
    }
   ],
   "source": [
    "dis2mat = [distance2(a,b) for a in pos_cu13, b in pos_cu13]\n",
    "dist2mat_55 = [distance2(a,b) for a in pos_cu55, b in pos_cu55]"
   ]
  },
  {
   "cell_type": "markdown",
   "metadata": {},
   "source": [
    "The mathematical form of the EAM is:\n",
    "\n",
    "$$\n",
    "E = \\frac{1}{2}\\sum_{i,j :i \\neq j}\\epsilon\\left(\\frac{a}{r_{ij}}\\right)^n - \\epsilon C \\sum_{i}\\left[\\sum_{j\\neq i} \\left(\\frac{a}{r_{ij}}\\right)^m \\right]^{1/2}\n",
    "$$"
   ]
  },
  {
   "cell_type": "markdown",
   "metadata": {},
   "source": [
    "We have two terms, one similar to the LJ repulsion term, one a density term $F(\\rho _i)$.\n",
    "\n",
    "We can consider that $\\frac{\\epsilon a^n}{2}$ and $\\epsilon C a^{m/2} $ can be taken out of the sum. Thus a single sum represents contracting a vector in the dist matrix. "
   ]
  },
  {
   "cell_type": "code",
   "execution_count": 4,
   "metadata": {},
   "outputs": [],
   "source": [
    "# struct EmbeddedAtomPotential <: AbstractDimerPotential\n",
    "#     n::Float64\n",
    "#     m::Float64\n",
    "#     ean::Float64\n",
    "#     eCam::Float64\n",
    "# end\n",
    "# function EmbeddedAtomPotential(n,m,ϵ,C,a)\n",
    "#     epsan = ϵ * a^n / 2\n",
    "#     epsCam = ϵ * C * a^(m/2)\n",
    "#     return EmbeddedAtomPotential(n,m,epsan,epsCam)\n",
    "# end"
   ]
  },
  {
   "cell_type": "code",
   "execution_count": 5,
   "metadata": {},
   "outputs": [
    {
     "data": {
      "text/plain": [
       "EmbeddedAtomPotential(9.05, 5.005, 5949.446479587037, 2.6153101861477057)"
      ]
     },
     "metadata": {},
     "output_type": "display_data"
    }
   ],
   "source": [
    "evtohartree = 0.0367493\n",
    "\n",
    "n = 8.482\n",
    "m = 4.692\n",
    "ϵ = evtohartree*0.0370\n",
    "a = 0.25*nmtobohr\n",
    "C = 27.561\n",
    "\n",
    "\n",
    "copperpot = EmbeddedAtomPotential(n,m,ϵ,C,a)\n",
    "\n",
    "suttonchenpot = EmbeddedAtomPotential(9.0,6.0,0.0126*evtohartree,39.432,0.3612*nmtobohr)\n",
    "\n",
    "copperpot2 = EmbeddedAtomPotential(9.05 , 5.005 , 0.0225*evtohartree,33.17,0.327*nmtobohr)"
   ]
  },
  {
   "cell_type": "code",
   "execution_count": 6,
   "metadata": {},
   "outputs": [
    {
     "data": {
      "text/plain": [
       "-1.3002351409450545"
      ]
     },
     "metadata": {},
     "output_type": "display_data"
    }
   ],
   "source": [
    "invrexp(r2,expterm) = ifelse(r2 != 0 , 1/sqrt(r2)^expterm, 0. )\n",
    "calcvec(distvec,expterm) = sum(invrexp.(distvec,Ref(expterm)))\n",
    "\n",
    "function energyatomi(distvec,pot::EmbeddedAtomPotential) \n",
    "    Fterm = pot.eCam*sqrt(calcvec(distvec,pot.m))\n",
    "    phiterm = pot.ean*calcvec(distvec,pot.n)\n",
    "    return phiterm - Fterm\n",
    "end\n",
    "function energytotal(distmatrix,pot::EmbeddedAtomPotential)\n",
    "    total_energy = 0.\n",
    "    for distrow in eachrow(distmatrix)\n",
    "        total_energy += energyatomi(distrow,pot)\n",
    "    end\n",
    "    return total_energy \n",
    "end\n",
    "E_vec = [energyatomi(distrow,copperpot) for distrow in eachrow(dis2mat)]\n",
    "sum(E_vec)\n",
    "\n",
    "E_vec2 = [energyatomi(distrow,suttonchenpot) for distrow in eachrow(dis2mat)]\n",
    "sum(E_vec2)"
   ]
  },
  {
   "cell_type": "code",
   "execution_count": 7,
   "metadata": {},
   "outputs": [
    {
     "data": {
      "text/plain": [
       "-1.3002351409450545"
      ]
     },
     "metadata": {},
     "output_type": "display_data"
    }
   ],
   "source": [
    "energytotal(dis2mat,suttonchenpot)"
   ]
  },
  {
   "cell_type": "code",
   "execution_count": 8,
   "metadata": {},
   "outputs": [
    {
     "data": {
      "text/plain": [
       "BenchmarkTools.Trial: 10000 samples with 1 evaluation.\n",
       " Range \u001b[90m(\u001b[39m\u001b[36m\u001b[1mmin\u001b[22m\u001b[39m … \u001b[35mmax\u001b[39m\u001b[90m):  \u001b[39m\u001b[36m\u001b[1m35.061 μs\u001b[22m\u001b[39m … \u001b[35m 4.232 ms\u001b[39m  \u001b[90m┊\u001b[39m GC \u001b[90m(\u001b[39mmin … max\u001b[90m): \u001b[39m0.00% … 98.14%\n",
       " Time  \u001b[90m(\u001b[39m\u001b[34m\u001b[1mmedian\u001b[22m\u001b[39m\u001b[90m):     \u001b[39m\u001b[34m\u001b[1m47.056 μs              \u001b[22m\u001b[39m\u001b[90m┊\u001b[39m GC \u001b[90m(\u001b[39mmedian\u001b[90m):    \u001b[39m0.00%\n",
       " Time  \u001b[90m(\u001b[39m\u001b[32m\u001b[1mmean\u001b[22m\u001b[39m ± \u001b[32mσ\u001b[39m\u001b[90m):   \u001b[39m\u001b[32m\u001b[1m47.341 μs\u001b[22m\u001b[39m ± \u001b[32m89.483 μs\u001b[39m  \u001b[90m┊\u001b[39m GC \u001b[90m(\u001b[39mmean ± σ\u001b[90m):  \u001b[39m4.18% ±  2.20%\n",
       "\n",
       "  \u001b[39m \u001b[39m▂\u001b[39m▆\u001b[39m█\u001b[39m▆\u001b[39m \u001b[39m \u001b[39m \u001b[39m \u001b[39m \u001b[39m \u001b[39m \u001b[39m \u001b[39m \u001b[39m \u001b[39m \u001b[39m \u001b[39m \u001b[39m▁\u001b[34m▃\u001b[39m\u001b[32m▆\u001b[39m\u001b[39m▄\u001b[39m▃\u001b[39m▁\u001b[39m \u001b[39m \u001b[39m \u001b[39m \u001b[39m \u001b[39m \u001b[39m \u001b[39m \u001b[39m \u001b[39m \u001b[39m \u001b[39m \u001b[39m \u001b[39m \u001b[39m \u001b[39m \u001b[39m \u001b[39m \u001b[39m \u001b[39m \u001b[39m \u001b[39m \u001b[39m \u001b[39m \u001b[39m \u001b[39m \u001b[39m \u001b[39m \u001b[39m \u001b[39m \u001b[39m \u001b[39m \u001b[39m \u001b[39m \u001b[39m \u001b[39m \u001b[39m \n",
       "  \u001b[39m▃\u001b[39m█\u001b[39m█\u001b[39m█\u001b[39m█\u001b[39m█\u001b[39m▄\u001b[39m▃\u001b[39m▂\u001b[39m▂\u001b[39m▂\u001b[39m▁\u001b[39m▁\u001b[39m▁\u001b[39m▁\u001b[39m▂\u001b[39m▃\u001b[39m▆\u001b[39m█\u001b[34m█\u001b[39m\u001b[32m█\u001b[39m\u001b[39m█\u001b[39m█\u001b[39m█\u001b[39m█\u001b[39m▆\u001b[39m▅\u001b[39m▄\u001b[39m▃\u001b[39m▃\u001b[39m▂\u001b[39m▂\u001b[39m▂\u001b[39m▂\u001b[39m▂\u001b[39m▂\u001b[39m▁\u001b[39m▂\u001b[39m▂\u001b[39m▂\u001b[39m▂\u001b[39m▁\u001b[39m▂\u001b[39m▂\u001b[39m▁\u001b[39m▁\u001b[39m▁\u001b[39m▁\u001b[39m▁\u001b[39m▁\u001b[39m▁\u001b[39m▁\u001b[39m▁\u001b[39m▁\u001b[39m▁\u001b[39m▁\u001b[39m▁\u001b[39m▁\u001b[39m▁\u001b[39m \u001b[39m▃\n",
       "  35.1 μs\u001b[90m         Histogram: frequency by time\u001b[39m          72 μs \u001b[0m\u001b[1m<\u001b[22m\n",
       "\n",
       " Memory estimate\u001b[90m: \u001b[39m\u001b[33m53.28 KiB\u001b[39m, allocs estimate\u001b[90m: \u001b[39m\u001b[33m110\u001b[39m."
      ]
     },
     "metadata": {},
     "output_type": "display_data"
    }
   ],
   "source": [
    "@benchmark energytotal($dist2mat_55,$suttonchenpot)"
   ]
  },
  {
   "cell_type": "markdown",
   "metadata": {},
   "source": [
    "# An alternative approach\n",
    "\n",
    "Considering that the $\\rho_i$ term depends on the square of sums, we can't simply update the total energy by considering the change to a single $r_{ij}$ on the global energy.\n",
    "\n",
    "Rather than calculating $E_i$ and being unable to _separate_ the terms, we can store the $\\phi_i,\\rho_i$ terms. This may result in slower calculation of the global terms, but it may speed up the calculation of $E_{new}$ at each step."
   ]
  },
  {
   "cell_type": "code",
   "execution_count": 9,
   "metadata": {},
   "outputs": [
    {
     "data": {
      "text/plain": [
       "calc_total_energy (generic function with 1 method)"
      ]
     },
     "metadata": {},
     "output_type": "display_data"
    }
   ],
   "source": [
    "function invrexp(r2,n,m)\n",
    "    if r2 != 0.\n",
    "        r_term = 1/sqrt(r2)\n",
    "        return r_term^n , r_term^m\n",
    "    else\n",
    "        return 0. , 0.\n",
    "    end    \n",
    "end\n",
    "\n",
    "function calc_components(eatomvec,distancevec,n,m)\n",
    "    for dist in distancevec\n",
    "        eatomvec .+= invrexp(dist,n,m)\n",
    "    end\n",
    "    return eatomvec\n",
    "end\n",
    "function calc_all_components(dist2_mat,n,m)\n",
    "    n_atoms = size(dist2_mat)[1]\n",
    "    component_vector = zeros(n_atoms,2)\n",
    "    for row_index in 1:n_atoms\n",
    "        component_vector[row_index,:] = calc_components(component_vector[row_index,:],dist2_mat[row_index,:],n,m)\n",
    "    end\n",
    "    return component_vector\n",
    "end\n",
    "function calc_energies_from_components(component_vector,ean,ecam)\n",
    "    return sum(ean.*component_vector[:,1] .- ecam*sqrt.(component_vector[:,2]))\n",
    "end\n",
    "function calc_total_energy(dist2_mat,pot::EmbeddedAtomPotential)\n",
    "    componentvec = calc_all_components(dist2_mat,pot.n,pot.m)\n",
    "    return componentvec,calc_energies_from_components(componentvec,pot.ean,pot.eCam) \n",
    "end"
   ]
  },
  {
   "cell_type": "code",
   "execution_count": 10,
   "metadata": {},
   "outputs": [
    {
     "data": {
      "text/plain": [
       "([1.3923704520825358e-5 0.0014529219103246252; 1.1152248517093746e-5 0.0012372868606771957; … ; 6.176322918802852e-6 0.0007295761752523578; 5.340590516223844e-6 0.0005944969082196186], -6.119246949010012)"
      ]
     },
     "metadata": {},
     "output_type": "display_data"
    }
   ],
   "source": [
    "phirho,energytot = calc_total_energy(dist2mat_55,suttonchenpot)"
   ]
  },
  {
   "cell_type": "code",
   "execution_count": 11,
   "metadata": {},
   "outputs": [
    {
     "data": {
      "text/plain": [
       "BenchmarkTools.Trial: 10000 samples with 1 evaluation.\n",
       " Range \u001b[90m(\u001b[39m\u001b[36m\u001b[1mmin\u001b[22m\u001b[39m … \u001b[35mmax\u001b[39m\u001b[90m):  \u001b[39m\u001b[36m\u001b[1m116.409 μs\u001b[22m\u001b[39m … \u001b[35m 5.431 ms\u001b[39m  \u001b[90m┊\u001b[39m GC \u001b[90m(\u001b[39mmin … max\u001b[90m): \u001b[39m0.00% … 97.17%\n",
       " Time  \u001b[90m(\u001b[39m\u001b[34m\u001b[1mmedian\u001b[22m\u001b[39m\u001b[90m):     \u001b[39m\u001b[34m\u001b[1m126.580 μs              \u001b[22m\u001b[39m\u001b[90m┊\u001b[39m GC \u001b[90m(\u001b[39mmedian\u001b[90m):    \u001b[39m0.00%\n",
       " Time  \u001b[90m(\u001b[39m\u001b[32m\u001b[1mmean\u001b[22m\u001b[39m ± \u001b[32mσ\u001b[39m\u001b[90m):   \u001b[39m\u001b[32m\u001b[1m129.117 μs\u001b[22m\u001b[39m ± \u001b[32m90.757 μs\u001b[39m  \u001b[90m┊\u001b[39m GC \u001b[90m(\u001b[39mmean ± σ\u001b[90m):  \u001b[39m1.21% ±  1.68%\n",
       "\n",
       "  \u001b[39m \u001b[39m \u001b[39m \u001b[39m \u001b[39m \u001b[39m \u001b[39m \u001b[39m \u001b[39m█\u001b[39m \u001b[39m \u001b[39m \u001b[39m \u001b[39m▅\u001b[39m \u001b[39m \u001b[39m▂\u001b[34m▄\u001b[39m\u001b[39m▁\u001b[39m \u001b[39m \u001b[32m \u001b[39m\u001b[39m \u001b[39m \u001b[39m \u001b[39m \u001b[39m \u001b[39m \u001b[39m \u001b[39m \u001b[39m \u001b[39m \u001b[39m \u001b[39m \u001b[39m \u001b[39m \u001b[39m \u001b[39m \u001b[39m \u001b[39m \u001b[39m \u001b[39m \u001b[39m \u001b[39m \u001b[39m \u001b[39m \u001b[39m \u001b[39m \u001b[39m \u001b[39m \u001b[39m \u001b[39m \u001b[39m \u001b[39m \u001b[39m \u001b[39m \u001b[39m \u001b[39m \u001b[39m \u001b[39m \u001b[39m \u001b[39m \n",
       "  \u001b[39m▄\u001b[39m▂\u001b[39m▁\u001b[39m▁\u001b[39m▇\u001b[39m▂\u001b[39m▁\u001b[39m▂\u001b[39m█\u001b[39m█\u001b[39m▅\u001b[39m▅\u001b[39m█\u001b[39m█\u001b[39m▇\u001b[39m▆\u001b[39m█\u001b[34m█\u001b[39m\u001b[39m█\u001b[39m▇\u001b[39m▇\u001b[32m▇\u001b[39m\u001b[39m▇\u001b[39m▆\u001b[39m▅\u001b[39m▄\u001b[39m▄\u001b[39m▃\u001b[39m▃\u001b[39m▃\u001b[39m▂\u001b[39m▂\u001b[39m▂\u001b[39m▂\u001b[39m▂\u001b[39m▂\u001b[39m▂\u001b[39m▂\u001b[39m▂\u001b[39m▂\u001b[39m▂\u001b[39m▂\u001b[39m▂\u001b[39m▂\u001b[39m▂\u001b[39m▂\u001b[39m▂\u001b[39m▁\u001b[39m▁\u001b[39m▁\u001b[39m▁\u001b[39m▁\u001b[39m▁\u001b[39m▁\u001b[39m▁\u001b[39m▁\u001b[39m▁\u001b[39m▁\u001b[39m▁\u001b[39m▁\u001b[39m \u001b[39m▃\n",
       "  116 μs\u001b[90m          Histogram: frequency by time\u001b[39m          153 μs \u001b[0m\u001b[1m<\u001b[22m\n",
       "\n",
       " Memory estimate\u001b[90m: \u001b[39m\u001b[33m34.34 KiB\u001b[39m, allocs estimate\u001b[90m: \u001b[39m\u001b[33m116\u001b[39m."
      ]
     },
     "metadata": {},
     "output_type": "display_data"
    }
   ],
   "source": [
    "@benchmark calc_total_energy($dist2mat_55,$copperpot)"
   ]
  },
  {
   "cell_type": "code",
   "execution_count": 12,
   "metadata": {},
   "outputs": [
    {
     "data": {
      "text/plain": [
       "update_components (generic function with 1 method)"
      ]
     },
     "metadata": {},
     "output_type": "display_data"
    }
   ],
   "source": [
    "function update_components(componentvec,atomindex,old_r2_vec,new_r2_vec,n,m)\n",
    "    new_component_vec= copy(componentvec)\n",
    "\n",
    "    for j_index in eachindex(new_r2_vec)\n",
    "        j_term = invrexp(new_r2_vec[j_index],n,m) .- invrexp(old_r2_vec[j_index],n,m)\n",
    "        new_component_vec[j_index,:] .+= j_term \n",
    "        new_component_vec[atomindex,:] .+= j_term \n",
    "    end\n",
    "    return new_component_vec\n",
    "end"
   ]
  },
  {
   "cell_type": "code",
   "execution_count": 13,
   "metadata": {},
   "outputs": [
    {
     "data": {
      "text/plain": [
       "3-element Vector{Float64}:\n",
       "  1.764752985534391\n",
       " -3.3925157884546686\n",
       "  1.5464230925690106"
      ]
     },
     "metadata": {},
     "output_type": "display_data"
    }
   ],
   "source": [
    "testindex,test_disp = 3,[0.5,0.5,-0.5]\n",
    "test_pos = pos_cu55[testindex] + test_disp"
   ]
  },
  {
   "cell_type": "code",
   "execution_count": 14,
   "metadata": {},
   "outputs": [
    {
     "data": {
      "text/plain": [
       "-6.0788077775169675"
      ]
     },
     "metadata": {},
     "output_type": "display_data"
    }
   ],
   "source": [
    "newdisvector = [distance2(test_pos,b) for b in pos_cu55]\n",
    "newdisvector[testindex] = 0.\n",
    "\n",
    "testenergyd2mat = copy(dist2mat_55)\n",
    "testenergyd2mat[3,:] = newdisvector\n",
    "testenergyd2mat[:,3] = newdisvector\n",
    "\n",
    "newphirho,newentot = calc_total_energy(testenergyd2mat,suttonchenpot)\n",
    "\n",
    "new_component_vector = update_components(phirho,3,dist2mat_55[3,:],newdisvector,9.,6.)\n",
    "enew = calc_energies_from_components(new_component_vector,suttonchenpot.ean,suttonchenpot.eCam)"
   ]
  },
  {
   "cell_type": "code",
   "execution_count": 15,
   "metadata": {},
   "outputs": [
    {
     "data": {
      "text/plain": [
       "calc_new_energy (generic function with 1 method)"
      ]
     },
     "metadata": {},
     "output_type": "display_data"
    }
   ],
   "source": [
    "function calc_new_energy(componentvec,atomindex,old_r2,new_r2,pot::EmbeddedAtomPotential)\n",
    "    new_component_vector = update_components(componentvec,atomindex,old_r2,new_r2,pot.n,pot.m)\n",
    "    newenergy = calc_energies_from_components(new_component_vector,pot.ean,pot.eCam)\n",
    "\n",
    "    return new_component_vector , newenergy \n",
    "end"
   ]
  },
  {
   "cell_type": "code",
   "execution_count": 16,
   "metadata": {},
   "outputs": [
    {
     "data": {
      "text/plain": [
       "-6.0788077775169675"
      ]
     },
     "metadata": {},
     "output_type": "display_data"
    }
   ],
   "source": [
    "calc_new_energy(phirho,3,dist2mat_55[3,:],newdisvector,suttonchenpot)[2]"
   ]
  },
  {
   "cell_type": "code",
   "execution_count": 17,
   "metadata": {},
   "outputs": [
    {
     "data": {
      "text/plain": [
       "BenchmarkTools.Trial: 10000 samples with 8 evaluations.\n",
       " Range \u001b[90m(\u001b[39m\u001b[36m\u001b[1mmin\u001b[22m\u001b[39m … \u001b[35mmax\u001b[39m\u001b[90m):  \u001b[39m\u001b[36m\u001b[1m3.002 μs\u001b[22m\u001b[39m … \u001b[35m699.688 μs\u001b[39m  \u001b[90m┊\u001b[39m GC \u001b[90m(\u001b[39mmin … max\u001b[90m): \u001b[39m 0.00% … 98.61%\n",
       " Time  \u001b[90m(\u001b[39m\u001b[34m\u001b[1mmedian\u001b[22m\u001b[39m\u001b[90m):     \u001b[39m\u001b[34m\u001b[1m3.609 μs               \u001b[22m\u001b[39m\u001b[90m┊\u001b[39m GC \u001b[90m(\u001b[39mmedian\u001b[90m):    \u001b[39m 0.00%\n",
       " Time  \u001b[90m(\u001b[39m\u001b[32m\u001b[1mmean\u001b[22m\u001b[39m ± \u001b[32mσ\u001b[39m\u001b[90m):   \u001b[39m\u001b[32m\u001b[1m5.047 μs\u001b[22m\u001b[39m ± \u001b[32m 21.093 μs\u001b[39m  \u001b[90m┊\u001b[39m GC \u001b[90m(\u001b[39mmean ± σ\u001b[90m):  \u001b[39m13.10% ±  3.12%\n",
       "\n",
       "  \u001b[39m \u001b[39m▁\u001b[39m█\u001b[39m▂\u001b[39m \u001b[39m \u001b[39m \u001b[34m \u001b[39m\u001b[39m \u001b[39m \u001b[39m \u001b[39m \u001b[39m \u001b[39m \u001b[39m \u001b[39m \u001b[39m \u001b[39m \u001b[39m \u001b[39m \u001b[39m \u001b[39m \u001b[32m \u001b[39m\u001b[39m \u001b[39m \u001b[39m \u001b[39m \u001b[39m \u001b[39m \u001b[39m \u001b[39m \u001b[39m \u001b[39m \u001b[39m \u001b[39m \u001b[39m \u001b[39m \u001b[39m \u001b[39m \u001b[39m \u001b[39m \u001b[39m \u001b[39m \u001b[39m \u001b[39m \u001b[39m \u001b[39m \u001b[39m \u001b[39m \u001b[39m \u001b[39m \u001b[39m \u001b[39m \u001b[39m \u001b[39m \u001b[39m \u001b[39m \u001b[39m \u001b[39m \u001b[39m \u001b[39m \n",
       "  \u001b[39m▂\u001b[39m█\u001b[39m█\u001b[39m█\u001b[39m▄\u001b[39m▃\u001b[39m▃\u001b[34m▃\u001b[39m\u001b[39m▂\u001b[39m▂\u001b[39m▂\u001b[39m▁\u001b[39m▁\u001b[39m▁\u001b[39m▁\u001b[39m▁\u001b[39m▁\u001b[39m▁\u001b[39m▁\u001b[39m▁\u001b[39m▁\u001b[39m▁\u001b[32m▁\u001b[39m\u001b[39m▂\u001b[39m▂\u001b[39m▄\u001b[39m▅\u001b[39m▅\u001b[39m▄\u001b[39m▄\u001b[39m▃\u001b[39m▃\u001b[39m▃\u001b[39m▂\u001b[39m▂\u001b[39m▂\u001b[39m▁\u001b[39m▁\u001b[39m▁\u001b[39m▁\u001b[39m▁\u001b[39m▁\u001b[39m▁\u001b[39m▁\u001b[39m▁\u001b[39m▁\u001b[39m▁\u001b[39m▁\u001b[39m▁\u001b[39m▁\u001b[39m▁\u001b[39m▁\u001b[39m▁\u001b[39m▁\u001b[39m▁\u001b[39m▁\u001b[39m▁\u001b[39m▁\u001b[39m▁\u001b[39m \u001b[39m▂\n",
       "  3 μs\u001b[90m            Histogram: frequency by time\u001b[39m        8.46 μs \u001b[0m\u001b[1m<\u001b[22m\n",
       "\n",
       " Memory estimate\u001b[90m: \u001b[39m\u001b[33m12.48 KiB\u001b[39m, allocs estimate\u001b[90m: \u001b[39m\u001b[33m117\u001b[39m."
      ]
     },
     "metadata": {},
     "output_type": "display_data"
    }
   ],
   "source": [
    "@benchmark calc_new_energy($phirho,$3,$dist2mat_55[3,:],$newdisvector,$suttonchenpot)"
   ]
  },
  {
   "cell_type": "markdown",
   "metadata": {},
   "source": [
    "# Finishing up\n",
    "\n",
    "With the majority of the functions complete, it's just a matter of including them in the main code. Specifically how this is done is never the most fun challenge, but something to work on nevertheless."
   ]
  },
  {
   "cell_type": "code",
   "execution_count": 18,
   "metadata": {},
   "outputs": [
    {
     "data": {
      "text/plain": [
       "([1.3923704520825358e-5 0.0014529219103246252; 1.1152248517093746e-5 0.0012372868606771957; … ; 6.176322918802852e-6 0.0007295761752523578; 5.340590516223844e-6 0.0005944969082196186], -6.119246949010012)"
      ]
     },
     "metadata": {},
     "output_type": "display_data"
    }
   ],
   "source": [
    "get_energy(dist2mat_55,suttonchenpot)"
   ]
  },
  {
   "cell_type": "markdown",
   "metadata": {},
   "source": [
    "# Incorporating this  into MCRun\n",
    "\n",
    "With the energy functions complete, it's time to migrate this to mc_cycles. Because we have the additional output, we need to tailor the move function as well. I think the next goal is to create a new way to handle these data (change vectors within the states struct to prevent constant redefinition)"
   ]
  },
  {
   "cell_type": "code",
   "execution_count": 19,
   "metadata": {},
   "outputs": [
    {
     "data": {
      "text/plain": [
       "Output{Float64}(100, 0.0, 0.0, Float64[], Float64[], Float64[], Vector{Float64}[], Matrix{Float64}[], Vector{Float64}[], Float64[], Float64[], Float64[], Float64[])"
      ]
     },
     "metadata": {},
     "output_type": "display_data"
    }
   ],
   "source": [
    "n_atoms = 55\n",
    "\n",
    "ti = 550\n",
    "tf = 900\n",
    "\n",
    "n_traj = 20\n",
    "\n",
    "temp = TempGrid{n_traj}(ti,tf)\n",
    "mc_cycles = 1000\n",
    "mc_sample = 1\n",
    "displ_atom = 0.1 # Angstrom\n",
    "n_adjust = 100\n",
    "max_displ_atom = [0.1*sqrt(displ_atom*temp.t_grid[i]) for i in 1:n_traj]\n",
    "mc_params = MCParams(mc_cycles, n_traj, n_atoms, mc_sample = mc_sample, n_adjust = n_adjust)\n",
    "move_strat = MoveStrategy(atom_moves = n_atoms)  \n",
    "ensemble = NVT(n_atoms)\n",
    "bc_cu55 = SphericalBC(radius=14*AtoBohr)\n",
    "start_config = Config(pos_cu55, bc_cu55)\n",
    "n_bin = 100\n",
    "mc_states = [MCState(temp.t_grid[i], temp.beta_grid[i], start_config, suttonchenpot) for i in 1:n_traj]\n",
    "results = Output{Float64}(n_bin; en_min = mc_states[1].en_tot)"
   ]
  },
  {
   "cell_type": "code",
   "execution_count": 20,
   "metadata": {},
   "outputs": [
    {
     "name": "stdout",
     "output_type": "stream",
     "text": [
      "equilibration done\n"
     ]
    },
    {
     "name": "stdout",
     "output_type": "stream",
     "text": [
      "MC loop done.\n",
      "cc\n"
     ]
    },
    {
     "name": "stdout",
     "output_type": "stream",
     "text": [
      "[0.10641029213903545, 0.17245945019129752, 0.2403472398550044, 0.20767549006796748, 0.2749973179916749, 0.3061988093205824, 0.3786797142685972, 0.3531910871097771, 0.3496989163142619, 0.5225027498833525, 0.9628014097310654, 0.3211985282622963, 0.5992893398566448, 0.47711483597830484, 0.5610160195587709, 0.47720842528584845, 0.5991399860132391, 0.9230107194888424, 0.6560267440743665, 0.4287640982596773]\n",
      "done\n"
     ]
    },
    {
     "data": {
      "text/plain": [
       "-5.926892704262755"
      ]
     },
     "metadata": {},
     "output_type": "display_data"
    }
   ],
   "source": [
    "ptmc_run!((mc_states, move_strat, mc_params, suttonchenpot, ensemble, results); save=false)\n",
    "results.en_max"
   ]
  },
  {
   "cell_type": "code",
   "execution_count": 21,
   "metadata": {},
   "outputs": [
    {
     "data": {
      "text/plain": [
       "20-element Vector{MCState{Float64, 55, SphericalBC{Float64}}}:\n",
       " MCState{Float64, 55, SphericalBC{Float64}}(550.0, 574.1363368419949, Config{55, SphericalBC{Float64}, Float64}(SVector{3, Float64}[[0.7398494969773376, -0.4213163924754397, -0.012316551568977019], [0.9661687886156418, 0.23333132357389583, 4.479931025254138], [1.9638179044795214, -4.306207530941913, 2.2763628299948473], [-2.864628143103792, -2.6182912092437505, 2.475920399815582], [-2.6599972254023534, 1.962311612007041, 2.049665451082354], [1.4098224601253948, 4.176730690884735, 1.7895149795169236], [4.717368605604009, -0.2092175685191947, 1.6996618433425401], [-0.7100490415597785, -4.496354555505543, -1.9852838042429635], [-3.4255539708098026, -0.8190389837870469, -2.032218568784038], [-0.430872694597921, 3.8629300931037864, -2.441187771816662]  …  [2.4755167889361527, 6.344432442824685, -4.8707161779237635], [6.867856448099319, 4.06998071901948, -5.039717266766417], [6.97094851195638, -0.6577882940600506, -5.463752982165576], [6.294971390953461, -5.322216462456443, -4.35873150138601], [-0.4309135982011536, -4.409815302580456, -6.329440594297698], [-4.148209177116836, -0.7834977870902982, -6.589777017951477], [-0.7197639673055228, 3.9418341479521035, -6.7890033307913695], [3.488811543578388, 1.9850936499293388, -7.061080379615816], [3.4673307214476186, -2.611558719227631, -7.7186726472092815], [-0.6409389972915772, -0.1597483027777163, -9.484619257750118]], SphericalBC{Float64}(699.9286051500884)), [0.0 20.66007234536943 … 71.62423955254722 91.6995132889801; 20.66007234536943 0.0 … 163.1551419277171 197.7459716347306; … ; 71.62423955254722 163.1551419277171 … 0.0 26.007821831402406; 91.6995132889801 197.7459716347306 … 26.007821831402406 0.0], [1.1451728671323464e-5 0.0012640352028127372; 9.859921515073667e-6 0.0011307238096164782; … ; 5.563546769699642e-6 0.0006477491159164073; 3.913586997923033e-6 0.00047632099195517227], -5.979229242157351, [-5978.585263565386, 35743.6670934834], [0.3138428376721002, 0.1, 1.0], [44492, 0], [0, 0], [0, 0], [6, 4])\n",
       " MCState{Float64, 55, SphericalBC{Float64}}(564.4422600460497, 559.4460365836798, Config{55, SphericalBC{Float64}, Float64}(SVector{3, Float64}[[-0.26777765130717296, -0.5613339321859062, 0.12584847207538608], [-0.5996817616701606, 0.39497152368070493, 4.746835411885676], [1.1771217609850009, -4.264999061152461, 1.9656917774943232], [-4.095469011828325, -2.4585085139987366, 2.015059599056246], [-3.4240873249406305, 3.016184701775841, 1.6712777127169143], [1.0650235007703512, 3.52151302253458, 1.7129220022098444], [4.339273939887341, 0.12056898822203718, 1.724222131839], [-1.860879999293742, -4.2871912212062355, -2.036845091750107], [-4.5620121590992815, -0.14912438068948325, -2.2560714543961558], [-1.1344947175885625, 3.998817249193339, -2.224618505013241]  …  [2.2012903620959827, 6.197795061272904, -4.430867543790877], [6.728409743568422, 5.12865597897638, -4.0457008926573925], [6.289863966200103, -0.8778778109858429, -3.8038743769192256], [5.247764924724033, -5.949576294689749, -3.57776654901164], [-1.56941993103278, -4.82675974550006, -7.114169770818112], [-4.649663607318723, 0.03128345160362471, -7.229319753798975], [-1.439827450711167, 3.9839343188731373, -6.569736662070208], [3.010818230611822, 2.608855132447095, -6.815365613995115], [2.7526022620610484, -3.2118445804055193, -6.426207637626945], [0.09526958319449777, -0.10683947281871733, -9.113006804324757]], SphericalBC{Float64}(699.9286051500884)), [0.0 22.378200761293357 … 59.077340782091426 85.69481532634154; 22.378200761293357 0.0 … 149.08382157072154 192.8299979061858; … ; 59.077340782091426 149.08382157072154 … 0.0 23.92136344648026; 85.69481532634154 192.8299979061858 … 23.92136344648026 0.0], [1.1243273596741175e-5 0.0012340060895055308; 1.0362028006231432e-5 0.0011196773292045021; … ; 6.215368931046444e-6 0.0007173428170532482; 4.087825623079536e-6 0.0004918807823531812], -5.906036380852952, [-5972.710229931003, 35673.575758971594], [0.3138428376721002, 0.1, 1.0], [44599, 1], [0, 0], [0, 0], [13, 10])\n",
       " MCState{Float64, 55, SphericalBC{Float64}}(579.2637544107133, 545.1316138092155, Config{55, SphericalBC{Float64}, Float64}(SVector{3, Float64}[[-0.10450792734923026, 0.5013533704017321, 0.10120912798551612], [-0.7461320166284136, 0.2589681998463126, 4.460598803505285], [1.1458442218181575, -3.2432063823836565, 2.219420440595165], [-3.3171001675993432, -2.4109882641697675, 2.1335734259919095], [-3.4486794026711025, 2.831605338788326, 1.4959118536663403], [1.530496267618806, 4.242893851499817, 2.1874722638548], [4.175423399919079, 0.4546678210598351, 1.4842880538402272], [-1.5614635771225895, -4.072080424691046, -2.106887406721684], [-4.30470223150111, -0.14019425334886268, -1.6504199401214255], [-1.8908729192856972, 3.8692495829591858, -2.788566400883691]  …  [2.1926346908020693, 5.877333532850465, -5.399800666007244], [6.702197496985634, 4.70124058063827, -4.619699283235541], [6.25962303357475, -0.18936918208301323, -4.430320558681191], [7.4417443169352095, -5.705782397992471, -3.264839398144613], [-0.7699326784411574, -4.693514291342938, -6.438327563293204], [-4.583743653943626, -0.925378223040225, -6.403081941089423], [-1.5998117948888462, 3.0667600487841913, -7.333168514955218], [3.3881829638495944, 1.776188413599309, -7.115213150669844], [3.6843236745209555, -2.4247837583200726, -7.145264796478561], [-0.07718522949988658, -0.8619201889338525, -9.016228571831013]], SphericalBC{Float64}(699.9286051500884)), [0.0 19.47471038587687 … 75.42890774135229 84.986931537437; 19.47471038587687 0.0 … 161.52753210562972 183.3287566887256; … ; 75.42890774135229 161.52753210562972 … 0.0 20.09199722022381; 84.986931537437 183.3287566887256 … 20.09199722022381 0.0], [1.2870827981283085e-5 0.0013484947132231181; 1.1629162676206168e-5 0.0012293908685085805; … ; 7.609945469909452e-6 0.0007633682870531965; 5.914885833751221e-6 0.0006311693606053329], -5.9435972167401125, [-5963.7383502140165, 35566.616007449426], [0.3138428376721002, 0.1, 1.0], [44695, 0], [0, 0], [0, 0], [10, 9])\n",
       " MCState{Float64, 55, SphericalBC{Float64}}(594.4744412769872, 531.1834510240385, Config{55, SphericalBC{Float64}, Float64}(SVector{3, Float64}[[-0.0544998360562049, -0.13295308890693777, 0.42051710863216957], [-0.24419307360821235, 1.0040354270578598, 4.998148944633209], [1.205619907302337, -4.159615455955916, 1.950477607943774], [-3.642619387290739, -2.6038515719031463, 2.436566460655835], [-3.766119447898957, 2.442849067819508, 2.3670017155600274], [1.3597559838699163, 4.202784107853345, 1.5726454448686553], [3.853243879988033, -0.17040302092475249, 2.9732648065438627], [-1.9542484768963164, -3.6952684032072423, -1.768061576303895], [-4.639326519837027, 0.13126536532116997, -1.6825490183305365], [-1.986671042393185, 4.0387311854523995, -1.5897524218808565]  …  [1.2732210913567679, 7.199370476165112, -3.564633156108129], [6.425785802279244, 4.294033642254514, -4.140129898693372], [6.317199235425818, -0.10883533745833626, -3.851124151532097], [5.118706357857722, -4.855870354495921, -4.965680708480885], [0.05935786217358602, -3.6783914607348787, -6.509791571591274], [-4.483927882915198, 1.0359073755503014, -6.603727133031494], [-2.030030114123386, 4.7089367495956544, -6.329431101255858], [2.4892392865487856, 3.800557889354623, -6.362892955448632], [3.6003780526802456, -0.8362751733666133, -7.084393425914381], [-0.501108837100075, 0.8998627666639593, -8.708016590304705]], SphericalBC{Float64}(699.9286051500884)), [0.0 22.28343963577904 … 70.1764764676111 84.5962956839582; 22.28343963577904 0.0 … 164.15530038720334 187.93583132382403; … ; 70.1764764676111 164.15530038720334 … 0.0 22.4725218337983; 84.5962956839582 187.93583132382403 … 22.4725218337983 0.0], [1.0357598599684427e-5 0.0011951881788556684; 1.1362840734455928e-5 0.0011891307701715763; … ; 6.3712289793714725e-6 0.0006963930383816067; 5.904242295596787e-6 0.0006254210682508407], -5.931721653948203, [-5958.119406632159, 35499.57783123227], [0.3138428376721002, 0.1, 1.0], [44838, 1], [0, 0], [0, 0], [7, 7])\n",
       " MCState{Float64, 55, SphericalBC{Float64}}(610.0845403163552, 517.5921768143055, Config{55, SphericalBC{Float64}, Float64}(SVector{3, Float64}[[-0.041780561276774, -0.18702191060770051, -0.025734105018147397], [-0.10036203284825282, -0.5306985739444349, 4.648534063298241], [0.504066748692898, -4.968869696656303, 1.8988279817826388], [-3.551813761073825, -2.741010705165636, 1.6808530873273213], [-3.326142805245754, 2.2180318982961404, 1.8584658389076971], [0.9928169102505184, 3.649605053457413, 2.3159529969377037], [3.91257871057739, 0.18296967214304194, 2.215896969995672], [-0.8574737908127429, -3.765338409941093, -2.578776154126641], [-4.110544575777636, -0.05583848085365035, -2.58910819927983], [-1.2792784458699529, 3.9050867961769846, -2.3137640817945804]  …  [2.1548669741916044, 6.559980425089078, -4.000535572468098], [6.8065463647330775, 4.779361839659913, -4.423787224206526], [6.315416310052622, 0.324505186839061, -4.991687695051525], [7.082224328253911, -4.253724174325409, -3.5771189254540188], [-0.702426443547531, -4.322969731645774, -6.9870102505196625], [-3.2941650922727295, -0.3835485970371254, -7.431339832278965], [-1.1746049059081822, 3.554071070397627, -6.750132197276596], [3.145821345266022, 2.769991433985266, -7.105248109473689], [3.6196693523376995, -2.6224837319479657, -6.519828021034367], [0.7870907101987419, -0.3101216600334946, -9.366753706116699]], SphericalBC{Float64}(699.9286051500884)), [0.0 21.970328347069593 … 61.51094554315236 87.95682832109347; 21.970328347069593 0.0 … 142.94651030077054 197.2645178056041; … ; 61.51094554315236 142.94651030077054 … 0.0 21.475505971911872; 87.95682832109347 197.2645178056041 … 21.475505971911872 0.0], [1.1732173214614764e-5 0.0012838455998219658; 8.923498987270946e-6 0.001052875294054943; … ; 8.020442473457474e-6 0.0008156287979908405; 5.6075979519139614e-6 0.0006046159006104241], -5.954127931722758, [-5949.00344301054, 35391.17326609975], [0.3138428376721002, 0.1, 1.0], [45040, 1], [0, 0], [0, 0], [15, 12])\n",
       " MCState{Float64, 55, SphericalBC{Float64}}(626.104539555125, 504.3486595504791, Config{55, SphericalBC{Float64}, Float64}(SVector{3, Float64}[[-0.05821213948139507, 0.3012724716574462, 0.0892007490158047], [-0.10782927178177815, -0.09957796578389783, 4.611024433164976], [1.4721262653630647, -3.4463940722268003, 2.422118252462518], [-3.864140765059007, -2.1277534297805554, 1.9276617067977926], [-3.8722658936013294, 2.70496574405136, 1.5115065467244722], [0.7556911043628647, 4.260625157275882, 2.267645132721454], [4.1913087300929615, 0.014187491082590105, 2.209642133273722], [-1.1181225637612977, -4.265835177340562, -1.953805411521784], [-4.083713983146649, -0.00855418635387517, -2.1843172039259033], [-1.3011943454339256, 4.044371886440142, -2.0207381658434853]  …  [3.2622143495844864, 6.149136711812846, -3.6276177839136987], [7.403727581815639, 4.556499773354475, -3.8706613380704282], [6.643581939304023, -0.3230511092716669, -4.024916283669371], [6.593179597001001, -4.960433352765841, -4.121456206757187], [0.2108673139720162, -5.141555820014446, -6.977561083196982], [-3.999567849783753, 0.42702448810174154, -7.091607476113877], [-0.7425356710418473, 3.8476119545456315, -6.42091517577134], [3.9540902221563154, 2.1433846147370352, -7.0104453175173695], [4.059271153622272, -2.1072930937064016, -7.2664771508126655], [0.21165208846495207, 0.4926260277997476, -9.064453649193464]], SphericalBC{Float64}(699.9286051500884)), [0.0 20.610032363547017 … 76.86085411766928 83.89883172682926; 20.610032363547017 0.0 … 162.4706898676829 187.4714746906276; … ; 76.86085411766928 162.4706898676829 … 0.0 24.79647139766507; 83.89883172682926 187.4714746906276 … 24.79647139766507 0.0], [1.1192969217313102e-5 0.0012463656611424727; 1.0287029744491712e-5 0.001139492451374801; … ; 6.037020151758878e-6 0.0006573391556733459; 6.138090145423617e-6 0.0006212781024020001], -5.913437752050006, [-5954.335403428021, 35454.71721384187], [0.3138428376721002, 0.1, 1.0], [45033, 1], [0, 0], [0, 0], [18, 12])\n",
       " MCState{Float64, 55, SphericalBC{Float64}}(642.5452024210656, 491.4440012520194, Config{55, SphericalBC{Float64}, Float64}(SVector{3, Float64}[[0.4364084575681549, -0.5590973238757965, -0.09095309247573612], [0.5490732869620686, 0.5339708068940243, 4.469124933478668], [1.709280653795523, -4.504101448474197, 1.8181134759865787], [-2.8074686324440834, -2.836199850750186, 2.5128334647909814], [-3.179916225932529, 1.8303731498224243, 2.3299978204036247], [1.5274886958821103, 3.9812405590513906, 1.827236905971004], [4.264375891070816, -0.11886831269006912, 1.9011267408661834], [-1.1907021759412544, -4.602459610137952, -2.044056361029982], [-4.039003937640037, -0.9330477379168397, -1.6002584344122066], [-1.3381024387491327, 3.3809207374537658, -1.599193980725973]  …  [1.7924888854598895, 5.620976710480069, -4.0331975976834915], [6.098342381821806, 4.2263678581776745, -5.404113204177973], [7.291176490839685, -0.6285941898813612, -5.161989162729249], [7.416638248303076, -5.590441196676583, -3.7283679902064386], [-1.6719865152332127, -4.530480814051971, -6.582143363965172], [-3.8578830979397214, -0.534241790566811, -6.404454047567587], [-1.3699895416862349, 3.1859908116628683, -6.176989593733346], [2.9976950192260006, 1.4609267284188228, -7.109131768444749], [3.3544526872777154, -3.313155593735979, -6.732782722494588], [0.03385300432785349, -1.3121333176713659, -9.347629325352628]], SphericalBC{Float64}(699.9286051500884)), [0.0 22.001802905079202 … 60.21371991452288 86.4151689811931; 22.001802905079202 0.0 … 148.15327025509197 194.57625062730776; … ; 60.21371991452288 148.15327025509197 … 0.0 21.86789516019176; 86.4151689811931 194.57625062730776 … 21.86789516019176 0.0], [1.1971897310959112e-5 0.0012989560557656015; 1.1008494687278939e-5 0.0011909789413367374; … ; 6.219046368095876e-6 0.0007099559720472878; 4.457601011720533e-6 0.0005115232187138301], -5.953838542745321, [-5940.508495214396, 35290.41172670693], [0.3138428376721002, 0.1, 1.0], [45011, 1], [0, 0], [0, 0], [16, 12])\n",
       " MCState{Float64, 55, SphericalBC{Float64}}(659.4175749750777, 478.86953160905927, Config{55, SphericalBC{Float64}, Float64}(SVector{3, Float64}[[-0.41334020258164433, -0.566283107568901, 0.6355505761586944], [0.30184679584554014, -0.20377980603664336, 4.981815238914613], [1.8361617023509142, -3.6063526114143594, 2.7469839772834903], [-4.21707580023388, -2.6861159233507497, 2.546111423165791], [-3.756749085099505, 1.877183326747398, 2.61044053521087], [0.7961910487515513, 3.4849094662972346, 2.1382216358526787], [4.350993955794779, 0.4555163886061321, 2.3146759107261223], [-1.467626768289387, -4.692923287188077, -0.8453095479896913], [-4.724298340196672, -0.6461552236330852, -1.7380571713251316], [-1.930601503277182, 3.216928648225425, -2.003714988954248]  …  [1.2290782078220002, 5.607181115037506, -3.5585365706935015], [5.625015285303788, 5.068167204136516, -4.287658105578702], [6.748166434877858, -0.05112054364120248, -4.3281767846020545], [6.544276214732158, -5.211028819117797, -3.7332487758313047], [-1.2055573312882344, -4.8390764224705105, -6.138084865009888], [-4.007522875850091, -1.159460042120216, -6.78319267402659], [-1.629846305222069, 2.9824440797017293, -6.807425551216397], [2.864967889077588, 2.368582382103595, -6.589558405622035], [3.212277246006045, -2.130910593879767, -6.498160158604755], [-0.2884329493149089, -0.9568247387804385, -9.23908241950237]], SphericalBC{Float64}(699.9286051500884)), [0.0 19.53291760506189 … 66.48298990170223 97.67650138662623; 19.53291760506189 0.0 … 143.97427360632432 203.14943705944745; … ; 66.48298990170223 143.97427360632432 … 0.0 21.14610430705249; 97.67650138662623 203.14943705944745 … 21.14610430705249 0.0], [1.2357944984397332e-5 0.0013125764345710716; 1.1852670389884196e-5 0.0012069178184639427; … ; 6.146104104051964e-6 0.0007163497726671052; 4.528390939250945e-6 0.0005163191807924317], -5.918535358845657, [-5945.120303267941, 35345.192972133096], [0.3138428376721002, 0.1, 1.0], [45061, 1], [0, 0], [0, 0], [13, 10])\n",
       " MCState{Float64, 55, SphericalBC{Float64}}(676.7329933327605, 466.61680215704445, Config{55, SphericalBC{Float64}, Float64}(SVector{3, Float64}[[0.1673715159423771, 0.13621258270836453, 0.09902950198532695], [0.23202140922456876, -0.09950530521572115, 4.43159292895258], [0.8836391410048817, -4.210969463432899, 2.020206071893105], [-3.303428230476145, -2.21231846933438, 2.5354593234695337], [-4.0238130800867395, 2.5861153941781105, 1.2931812694093312], [0.6343665042819121, 4.059541440472398, 2.4506936414975016], [4.6398121693404, 1.085791917890685, 1.9263875640721453], [-1.2167775862123926, -3.737453934820992, -1.9013996053308542], [-3.9148430881006453, -0.5260807170156727, -2.2059073758096455], [-1.0398447137047002, 4.287858752909739, -1.8563467348033176]  …  [1.319921907400573, 7.165210888253381, -4.263843862282576], [6.7607431742435535, 5.20076768239149, -5.02890906767518], [6.726284361417402, 0.03454381672026495, -4.473820212332997], [6.163974680855741, -5.284064706362698, -4.253653047615137], [-1.14318244964936, -3.390158061102278, -6.491820368534653], [-4.337285608221591, -0.5255954836483371, -7.7014170903012875], [-0.9778883204467416, 4.1258670134504785, -6.841924431525305], [3.5337439345739603, 3.035188808118418, -6.9319560349578975], [3.406446909738977, -1.877919192527261, -7.1381356135708804], [-0.3673624984698657, 0.2908324954566837, -9.267320942375978]], SphericalBC{Float64}(699.9286051500884)), [0.0 18.83084838008302 … 66.9248951245361 88.03836843017496; 18.83084838008302 0.0 … 147.09835176058073 188.17186592151478; … ; 66.9248951245361 147.09835176058073 … 0.0 23.47855149801766; 88.03836843017496 188.17186592151478 … 23.47855149801766 0.0], [1.0676236471234168e-5 0.0012065085012156983; 1.0030199572964558e-5 0.0011127979476945828; … ; 5.241519518255632e-6 0.0006454966050223864; 5.782884812301488e-6 0.0006131744663140966], -5.90692121989794, [-5915.350295967077, 34992.11855889747], [0.3138428376721002, 0.1, 1.0], [45337, 0], [0, 0], [0, 0], [12, 8])\n",
       " MCState{Float64, 55, SphericalBC{Float64}}(694.5030912808575, 454.6775806004262, Config{55, SphericalBC{Float64}, Float64}(SVector{3, Float64}[[-0.3837262637020282, -0.5453004420525319, 0.13822615209124986], [-0.7845971019459892, -0.8666903328344253, 4.876899255794049], [0.5319097998031339, -4.468724219168244, 1.9719860963976754], [-4.191742809697028, -2.609670883066371, 1.4994580268357574], [-3.464474127837887, 2.2054063974869456, 2.2758585119636052], [0.9861169664522729, 3.4207239936333513, 2.454882592676892], [3.5741236318534533, -0.8308370396786856, 2.7558751069636984], [-2.0241514956480775, -4.0721490481510845, -2.427406292249583], [-4.648234442526173, -0.30622014570419054, -1.9103140790389452], [-1.7377795837158037, 3.3721864992405663, -2.0673303177493567]  …  [1.9420939051746482, 6.117811263697657, -4.1080657215157235], [6.366236890736527, 4.61973606515375, -4.100744681430885], [6.259149634308257, -0.13421351060528963, -3.5366932531587456], [5.522850280816199, -5.7796191030482165, -4.549453210718853], [-1.9294504325901047, -3.7541477683681084, -7.207628475534177], [-5.018014066162272, -0.5217001014411596, -7.148662343447097], [-2.4213773839919117, 3.4854215721819646, -6.731953555343733], [3.5465237126165383, 2.0869676343494006, -6.627427000721613], [2.9793706085509783, -2.6518674490775123, -6.716249974208697], [-0.012948782089267225, -0.10068072173885266, -8.97905129726607]], SphericalBC{Float64}(699.9286051500884)), [0.0 22.71901167460753 … 62.73188809326007 83.45991072512241; 22.71901167460753 0.0 … 151.75541933113504 193.1695775826755; … ; 62.73188809326007 151.75541933113504 … 0.0 20.582798880980747; 83.45991072512241 193.1695775826755 … 20.582798880980747 0.0], [1.2524087845465405e-5 0.0013447484810019997; 1.2235840078454172e-5 0.0012121564035605075; … ; 5.8785047837244315e-6 0.0006899036428519626; 5.9216668279875214e-6 0.0006216971316327299], -5.941077235601683, [-5928.533900132451, 35148.66337703119], [0.3138428376721002, 0.1, 1.0], [45417, 1], [0, 0], [0, 0], [13, 10])\n",
       " MCState{Float64, 55, SphericalBC{Float64}}(712.7398080937003, 443.04384528159244, Config{55, SphericalBC{Float64}, Float64}(SVector{3, Float64}[[0.4120164757465472, 0.46307230491216445, 0.02085582948144621], [1.156607333861498, -0.2266324503140957, 4.606277040045228], [2.3522382218980136, -3.9039385539179623, 1.775373773585155], [-2.5758704577691782, -2.465305226018183, 2.299644401904654], [-2.743709287506937, 2.370334643737886, 2.598644052502208], [1.8423623735635541, 4.0383858388622835, 2.281140636398772], [5.242379818899192, 0.44702735500603186, 1.5362110419899924], [-0.8426497977704946, -3.7190405051584468, -1.7363932945126292], [-3.7500771467613245, 0.4666425916839493, -1.861597962854193], [-1.6010559855567035, 4.09646668811026, -1.745683679592255]  …  [2.1259368757738892, 5.9789012771313175, -4.2838930367337715], [6.737133823802277, 5.410947107908865, -4.243735796956381], [6.925954753840404, 0.4047336543348651, -4.176690216068509], [6.805714973589094, -5.066879324062917, -4.677992306515699], [-1.450316271343852, -2.995038443501615, -8.032391018367637], [-4.268715173495263, 0.6146335156832621, -6.820167448123258], [-1.2024098504875718, 4.199305729348274, -6.711465195992948], [3.6643913549827443, 2.567654019237218, -6.950036635543873], [4.053771045891518, -1.99801195851876, -7.544079880246523], [0.08350292489354547, 0.9557985763873231, -9.152560022644009]], SphericalBC{Float64}(699.9286051500884)), [0.0 22.056195873658293 … 76.54756439319652 84.50225872772245; 22.056195873658293 0.0 … 159.1625162268726 191.85529352308362; … ; 76.54756439319652 159.1625162268726 … 0.0 27.075233997221968; 84.50225872772245 191.85529352308362 … 27.075233997221968 0.0], [1.097794133616738e-5 0.0012233162460675586; 8.160682780545727e-6 0.0009964511936243327; … ; 4.773979888388603e-6 0.0005933048161461923; 7.5688318891081596e-6 0.0007219232011231483], -5.918195072755433, [-5923.957024005906, 35095.43997379777], [0.3138428376721002, 0.1, 1.0], [45713, 1], [0, 0], [0, 0], [11, 10])\n",
       " MCState{Float64, 55, SphericalBC{Float64}}(731.4553965549018, 431.70777979132146, Config{55, SphericalBC{Float64}, Float64}(SVector{3, Float64}[[0.5870977377257569, -0.11684782409913118, -0.043893775825253625], [0.76619369097975, -0.15052295041620462, 4.7131629905771435], [1.7805354057968914, -3.9755723807672747, 2.290838169196941], [-2.768160126916494, -2.0120091596209435, 2.3090493263938283], [-3.329149585964512, 2.3968474829610456, 2.3541594711361116], [1.3235441121822273, 3.7989939211157124, 2.3923192271403266], [4.907814915539725, -0.06674067721515842, 2.306035615853332], [-0.934917250937245, -4.055635428540689, -1.8622651753237227], [-3.955120018453123, -0.40568429709670356, -1.9648550363487767], [-1.4100768939263353, 3.6081313470275367, -1.9331033188905657]  …  [2.2451163034097537, 6.490288938944868, -4.140435829450255], [6.644798005007684, 4.765657839831999, -4.118934223381438], [7.161983803103497, 0.15683456636717055, -4.9399711083495506], [7.250178410499198, -5.480663005153158, -4.074985881858896], [-1.773811657203552, -4.583079726922359, -6.451830806122848], [-4.3224685116018495, -0.6018788603874697, -6.816331693065447], [-1.3767464519777053, 3.369641703671091, -7.373810272991629], [3.463999819986223, 2.7466693684662538, -6.735396373819917], [3.110378213726848, -3.1525981864330044, -6.436836955082483], [-0.0807025601756758, -1.3127785673192456, -8.848127416746243]], SphericalBC{Float64}(699.9286051500884)), [0.0 22.662798453379256 … 56.452447116190065 79.39073758438111; 22.662798453379256 0.0 … 138.83015558760204 185.9766688910051; … ; 56.452447116190065 138.83015558760204 … 0.0 19.382254426956855; 79.39073758438111 185.9766688910051 … 19.382254426956855 0.0], [1.2508953278259296e-5 0.0013182072413038656; 8.690043275515922e-6 0.0010431765063951106; … ; 5.806393319269589e-6 0.0006588744080495998; 6.584688816221841e-6 0.0006468365529658163], -5.926274822776911, [-5922.352521314561, 35075.00340511324], [0.3138428376721002, 0.1, 1.0], [45776, 0], [0, 0], [0, 0], [10, 8])\n",
       " MCState{Float64, 55, SphericalBC{Float64}}(750.6624311896877, 420.66176771713623, Config{55, SphericalBC{Float64}, Float64}(SVector{3, Float64}[[-0.032639229609560436, 0.06917174917428992, 0.2290566976911273], [0.16864901770816954, 0.7459693026617374, 4.671396054586935], [1.2395132730510277, -3.555954241706212, 2.870093043981068], [-3.295196839027535, -2.703630213876967, 1.813921700768423], [-3.486668925353401, 2.154254622412506, 2.0735211685958], [1.2266482484411065, 4.2698292370144175, 1.685593394483211], [4.356469851970261, 0.13442471174628767, 2.285501822504179], [-1.395826974992777, -3.8969590025832255, -2.5385325598672237], [-4.383592931012541, -0.1829144276976776, -1.9708879225530793], [-1.7135205228241845, 4.087052271515568, -1.8764212800454143]  …  [2.5540681538504213, 6.529972506322849, -4.714103806480126], [6.880261110842921, 4.469518563500577, -4.391493273220156], [5.846475138974329, -0.25534068094475304, -4.827481948454702], [6.6630687862481945, -4.330700370064013, -4.355181893960485], [-1.371519569049821, -3.6058295321460974, -6.783851132326886], [-4.315464353869091, 0.34642434872422706, -6.519925684092419], [-1.3781908062464834, 4.095126334122374, -6.2640267520815005], [3.6929575567867072, 2.867938529940801, -7.3233767856000025], [3.070628563640919, -2.3696875246406286, -7.328592655744348], [0.14498896066418854, 0.9676298366990306, -8.834984693223094]], SphericalBC{Float64}(699.9286051500884)), [0.0 20.232950848740295 … 72.69636930358239 82.99562504522476; 20.232950848740295 0.0 … 162.12853179860616 182.47201409546238; … ; 72.69636930358239 162.12853179860616 … 0.0 21.96627122738431; 82.99562504522476 182.47201409546238 … 21.96627122738431 0.0], [1.107608627524648e-5 0.0012330724462490728; 9.438401911821097e-6 0.0010765245322121584; … ; 6.123452107669502e-6 0.0006867729424774235; 6.57067578060916e-6 0.0006609920661483394], -5.919768936458207, [-5918.909742506821, 35034.917174615075], [0.3138428376721002, 0.1, 1.0], [46157, 0], [0, 0], [0, 0], [7, 5])\n",
       " MCState{Float64, 55, SphericalBC{Float64}}(770.3738167133993, 409.8983875260319, Config{55, SphericalBC{Float64}, Float64}(SVector{3, Float64}[[0.674064600156211, -0.07661290317588568, 0.24293099638100507], [-0.37740336437147737, -0.2504494901434946, 5.062628525869964], [0.943467001271765, -4.002996118112844, 2.953521064603446], [-3.290962371701645, -1.4659833924945442, 1.6140401166950582], [-2.962050489941758, 2.5591512861621974, 2.0717213305296642], [1.5186234317004446, 3.6396548088027236, 2.6057642698642387], [4.771514149386248, 0.156091953773678, 1.671354858173848], [-0.5748815198859126, -4.323568412574009, -1.307336549822393], [-3.0762560349480315, 0.11258829056895908, -2.701866327691055], [-0.2252871157257294, 3.9161414614307857, -1.8546909650152048]  …  [2.884519435423502, 7.805877968208575, -3.534503964488169], [6.148308084052777, 5.232505800668378, -5.915226722462499], [8.059835511839994, 0.7316282376152908, -3.9902162032442923], [8.154095345639279, -3.492182186018179, -5.482107404962689], [-0.693525743317901, -4.170279715389238, -6.693996642490922], [-3.7947783241945507, -0.5411714828345077, -6.907414943113073], [0.25477891681171183, 3.73933683357381, -6.646940496478781], [4.404783298244818, 1.1817967565639358, -6.547926914958919], [3.8112647765520578, -3.0954135376762477, -7.685897436719741], [0.9830510551492985, -0.05342993547009349, -9.242684327212999]], SphericalBC{Float64}(699.9286051500884)), [0.0 24.365288315158523 … 81.82150253918475 90.07290814656223; 24.365288315158523 0.0 … 188.16367544536553 206.53162875709793; … ; 81.82150253918475 188.16367544536553 … 0.0 19.67604251243364; 90.07290814656223 206.53162875709793 … 19.67604251243364 0.0], [1.1843195336929642e-5 0.001275372366332343; 1.0957118514171059e-5 0.0011708538585627833; … ; 5.788309342160909e-6 0.0006404028395797418; 4.905902641475277e-6 0.0005442679444814891], -5.844341706515203, [-5917.425056683117, 35017.08328465922], [0.3138428376721002, 0.1, 1.0], [45989, 1], [0, 0], [0, 0], [10, 6])\n",
       " MCState{Float64, 55, SphericalBC{Float64}}(790.6027967018406, 399.4104075781371, Config{55, SphericalBC{Float64}, Float64}(SVector{3, Float64}[[0.13472747815080205, 0.24723930358040927, 0.18652594842131462], [-0.16058565558177826, -0.766990459963433, 5.318996031349669], [1.3756116739818585, -3.89093132360557, 2.179190375373951], [-3.175058183901581, -2.1974919343989274, 2.0315962651435946], [-3.2993084021146886, 2.5470994202060044, 2.1508732650016564], [0.5627623547176487, 4.486944131908269, 2.2110118266332504], [3.633917278013618, 0.22613599996309972, 2.7129658428740204], [-0.0769841838596298, -3.464341686582107, -2.250491789486735], [-3.774528512782641, -0.21732056278236678, -2.4986878435497064], [-1.269147066494886, 4.322856159634017, -1.6931524632443522]  …  [1.4908199551382533, 7.407365633383196, -3.9658580946997457], [7.632817221079977, 4.784746213044387, -3.2381851434799205], [6.667615165628011, 0.28774439527576945, -5.359542756007944], [6.767193036347158, -4.181461804938899, -3.6126569899717427], [-1.2646890533873343, -2.742717595286667, -6.790138988577864], [-4.5993251835206745, 0.12181232141755913, -7.440018985293452], [-1.9950317311228303, 3.8823174412053665, -6.320976944799979], [3.794633041727636, 3.849598992313141, -5.574817452312267], [3.404753762187112, -2.268832894361452, -6.602098516335833], [0.06658094337895201, 1.0964765030808254, -8.720696514141013]], SphericalBC{Float64}(699.9286051500884)), [0.0 27.458121012367744 … 63.10911332704357 80.06445976879161; 27.458121012367744 0.0 … 157.0796710765122 200.63708055794737; … ; 63.10911332704357 157.0796710765122 … 0.0 26.95716258504704; 80.06445976879161 200.63708055794737 … 26.95716258504704 0.0], [1.208667043490022e-5 0.0012907994178496904; 1.177303554334703e-5 0.0011711673995328563; … ; 8.297937447334452e-6 0.0008283317135501385; 6.060568632212397e-6 0.0006165277631499823], -5.864980581166533, [-5909.195408898463, 34919.99499096472], [0.3138428376721002, 0.1, 1.0], [46117, 0], [0, 0], [0, 0], [11, 6])\n",
       " MCState{Float64, 55, SphericalBC{Float64}}(811.3629624892989, 389.1907812679606, Config{55, SphericalBC{Float64}, Float64}(SVector{3, Float64}[[-0.2571213399264939, -0.20098414619843805, -0.2350198401376246], [0.25378310505702, -0.8818431080332148, 4.3992048415178076], [0.8717883732592453, -4.044647676710513, 1.5228597737241782], [-3.7280435557061637, -2.4262042918015165, 1.9219391849376264], [-3.213766787836163, 2.344320569216133, 2.317144756092053], [1.6383800732290645, 3.967821292139504, 1.7505322832506824], [3.982713849321712, -0.10308508474531354, 1.8490184368958305], [-1.5933326898789515, -3.8119619994976555, -2.4240453100225765], [-4.352475908664975, 0.5918225622885412, -1.7545392666639745], [-1.70749845048927, 4.2493894600956885, -1.6280507016516426]  …  [2.0509656383582717, 6.315574792162749, -3.5650201056484985], [6.794476660634544, 3.1389401733263878, -4.362054741456637], [6.384822248192774, -1.173064256166772, -4.366891597741926], [6.021412268233703, -5.526331309985925, -4.995983364835385], [-1.3290193244547026, -4.085634087510575, -6.9050276643128745], [-3.79982257864946, 0.04368244943628894, -6.386437773451178], [-1.5394499690488663, 4.2494816677150515, -7.066358575151746], [2.996084178560361, 3.42098506950693, -7.455164145224767], [3.1127989284593647, -2.072500836342676, -7.467841079093109], [-0.6286480660347599, 0.8322280136865592, -9.966609782130938]], SphericalBC{Float64}(699.9286051500884)), [0.0 22.200630677879033 … 67.17264041145181 95.90940227465236; 22.200630677879033 0.0 … 150.41841618633623 210.09335438306823; … ; 67.17264041145181 150.41841618633623 … 0.0 28.679720336082635; 95.90940227465236 210.09335438306823 … 28.679720336082635 0.0], [1.1947361739998008e-5 0.001292883987872979; 1.121871376134565e-5 0.001200059334998759; … ; 4.035047035372619e-6 0.0005305595776130231; 3.1800431416266114e-6 0.00040271737030982184], -5.889191462980527, [-5907.251275187145, 34896.843783721444], [0.3138428376721002, 0.1, 1.0], [46461, 1], [0, 0], [0, 0], [12, 10])\n",
       " MCState{Float64, 55, SphericalBC{Float64}}(832.6682623002149, 379.23264228995663, Config{55, SphericalBC{Float64}, Float64}(SVector{3, Float64}[[0.2673756298386508, -0.08537950432397848, -0.5813315320596391], [-0.9083874930505361, -0.08652016948438322, 4.610253910045281], [1.4192112193251856, -3.815479831067733, 1.520278193065686], [-3.4700965573290867, -2.2638415828792158, 1.5181113027762296], [-3.017588734073564, 2.975327191275848, 2.3093713494081594], [1.446139240233202, 3.3858181494212403, 2.1785008506777817], [4.443986452167252, -0.18556525730133147, 1.2672379307602624], [-1.7170413852201063, -4.039275321405836, -2.292157322405529], [-4.198018957556926, 0.624384952246105, -1.736178340767257], [-1.6560630627525026, 4.075390382492436, -1.9282252370837456]  …  [1.2703970755244476, 7.739588303190432, -4.975907308065697], [5.718594420846299, 5.946132421506574, -4.128003899041929], [6.322506143682808, 0.2032446498651446, -2.7148334933038907], [7.123491320807644, -4.0980650644337695, -3.905725901505124], [-3.251287228550036, -3.2995378722663906, -7.16312318052709], [-4.8716256150118875, 0.969036771469883, -6.136132691223495], [-2.1910018813509455, 5.042379890498032, -6.704920123451855], [2.029247858967653, 3.7699451769547383, -7.547951160597292], [4.026063035504342, -0.8937276805106054, -6.710986838796467], [-0.016777681940247764, -0.4351330806003256, -9.247142441813399]], SphericalBC{Float64}(699.9286051500884)), [0.0 28.334979624938875 … 52.35383196686108 75.29934939232028; 28.334979624938875 0.0 … 153.17087807784756 192.94393266957107; … ; 52.35383196686108 153.17087807784756 … 0.0 22.986955316408935; 75.29934939232028 192.94393266957107 … 22.986955316408935 0.0], [1.0569066618525824e-5 0.0011979769359453027; 1.08931549095303e-5 0.0011833552500596083; … ; 6.9581414064682025e-6 0.0007236130277856491; 5.862291254969123e-6 0.0006012264586726351], -5.838939118426206, [-5902.865343056242, 34845.39913276738], [0.3138428376721002, 0.1, 1.0], [46385, 1], [0, 0], [0, 0], [16, 10])\n",
       " MCState{Float64, 55, SphericalBC{Float64}}(854.5330106206367, 369.52930002523107, Config{55, SphericalBC{Float64}, Float64}(SVector{3, Float64}[[0.5044124426865265, 0.6044191361330912, 0.21570042656314337], [-0.017040951199822657, 0.23875165631160525, 4.716406883932621], [2.052737399930582, -3.7015201051439197, 1.666162752049088], [-2.7641027492509624, -1.7969476358269423, 1.7978107124016827], [-2.9643952889161125, 3.0768995816010656, 2.279774532501763], [1.4540118092916337, 4.501699647808002, 2.1585336508957687], [5.020492201699397, 0.2592967633500036, 1.8399612456883674], [-1.253780223987066, -3.602751784141893, -2.3069458058833847], [-3.93973499736342, 0.18347837015144228, -2.0288265687957803], [-1.3532307055173225, 4.262477686878768, -1.7624719071785824]  …  [2.463906493703761, 6.4760977512545255, -3.8384565366764276], [6.648423223290378, 5.644284078003504, -2.9503900500761633], [7.520278004442111, 1.2775184809741473, -3.205250396334632], [7.051445199374628, -4.607723739172607, -4.488163325731688], [-2.2864975847880427, -2.877340804961193, -6.695751694140667], [-5.193576285809871, 0.7709997512981325, -6.984340522098194], [-1.4639976610701415, 4.456848961618196, -6.672839505805456], [4.1448436415996115, 1.2914973428305152, -6.254328863195049], [2.987633468969252, -2.560893830499348, -7.2380646366762615], [-0.1894171103693599, 1.2214910901010327, -8.874309769677671]], SphericalBC{Float64}(699.9286051500884)), [0.0 20.66198496320191 … 71.7442064600724 83.49046261282953; 20.66198496320191 0.0 … 159.7754725600882 185.70306949369498; … ; 71.7442064600724 159.7754725600882 … 0.0 27.077384206531757; 83.49046261282953 185.70306949369498 … 27.077384206531757 0.0], [1.2345387063691048e-5 0.0013010677731723282; 1.0095401263118797e-5 0.0011301384727975487; … ; 7.64582210978361e-6 0.0007318848965383538; 5.996120897769962e-6 0.000591166137064701], -5.887413995047615, [-5871.670738434528, 34479.01506176244], [0.3138428376721002, 0.1, 1.0], [46539, 1], [0, 0], [0, 0], [14, 9])\n",
       " MCState{Float64, 55, SphericalBC{Float64}}(876.9718978157583, 360.0742350462841, Config{55, SphericalBC{Float64}, Float64}(SVector{3, Float64}[[0.10420375395210447, 0.02624441151128954, -0.02953510438670366], [-0.7939277322400529, 0.09234495397597144, 4.689569485235762], [1.1303342176610014, -3.8432526325402483, 2.082230955774182], [-3.6059534660456873, -2.161367547524289, 1.7486508974115285], [-3.8898425271956723, 2.3614187994022044, 2.0290593522576157], [1.659791815871039, 4.192497952609872, 2.1089106323724667], [4.917032533424347, 1.1989420687679535, 1.8130294399959792], [-1.4287477627917087, -3.9483901735075873, -2.201737798739665], [-3.7981469189400845, 0.5734088085680402, -2.4954890333406494], [-1.2165777135336246, 4.2391653866869525, -2.2609928493776383]  …  [1.813548992716704, 7.016438935963616, -4.100304839482853], [6.3341974025729, 4.250192983307387, -5.150678201332046], [6.347962565127951, -0.09358976737431884, -3.88038281384052], [7.024393240306201, -4.997648918350221, -3.629573467190036], [-1.9237385304709218, -2.8719446670948003, -7.2958446706023725], [-4.3859663241851345, 1.0704244652268025, -7.167266379663518], [-1.9697729659971275, 5.357427948539705, -6.411424896423119], [2.2263196375958314, 3.892094106120517, -7.073965143712111], [3.425973716731067, -3.069170887358864, -6.6095053723668995], [-0.36479209747540264, 0.8687398279324702, -9.978773331014061]], SphericalBC{Float64}(699.9286051500884)), [0.0 23.080957575999683 … 63.91176028560332 99.91709692553; 23.080957575999683 0.0 … 155.47184329174829 215.94722736835857; … ; 63.91176028560332 155.47184329174829 … 0.0 41.22901283692916; 99.91709692553 215.94722736835857 … 41.22901283692916 0.0], [1.1694240422850325e-5 0.0012495298584868746; 8.936050721044544e-6 0.0010219200965025923; … ; 5.611707319411872e-6 0.0006141454545243587; 2.2634816571118476e-6 0.0003210583147182299], -5.853463347527967, [-5884.229146171274, 34625.974565467346], [0.3138428376721002, 0.1, 1.0], [46705, 1], [0, 0], [0, 0], [11, 11])\n",
       " MCState{Float64, 55, SphericalBC{Float64}}(900.0, 350.86109473677465, Config{55, SphericalBC{Float64}, Float64}(SVector{3, Float64}[[1.180333139849019, -0.10746713890554967, -0.16742757845222173], [1.0903321294743002, 0.3225293076329584, 5.0651251665929005], [1.5872915541586325, -4.226278383849038, 2.1723358537667057], [-2.621014795394855, -2.8357893408817043, 1.6397554424581613], [-2.707464383675055, 2.692623196682354, 2.085382288548322], [2.191020478240739, 3.9644900294998617, 2.2234971737396], [4.776729307532831, -1.318471983217916, 2.8522395852670113], [-0.7834157441012936, -4.106020805192207, -2.2876880814791116], [-3.5696731935730437, 1.1699204602931361, -1.9792492534927113], [-0.8002349062415357, 4.653214758523395, -1.6827448539061238]  …  [2.283047890892707, 6.950225002747863, -4.750158709859496], [6.800669687153828, 3.8225954274488316, -4.65356409991287], [8.030103360358787, -0.5656142422144509, -3.9992397677446325], [6.8243605528442135, -4.502012506202417, -5.102769306479142], [-1.6711271959941807, -3.445872530145405, -6.6056519050302756], [-3.9331713027878843, 0.41609258040932773, -6.8954548691918935], [-0.8211659044949905, 4.415993149035412, -6.805131783543883], [3.368095979583624, 3.0055831921752056, -7.596315566411192], [3.432893989656013, -1.7450305684453653, -8.235443327604038], [-0.40481524816982517, 0.29796049787291173, -9.75337152554332]], SphericalBC{Float64}(699.9286051500884)), [0.0 27.572605355583462 … 72.84852249641116 94.567388337475; 27.572605355583462 0.0 … 186.6675221787712 221.82391352214128; … ; 72.84852249641116 186.6675221787712 … 0.0 21.205930705249266; 94.567388337475 221.82391352214128 … 21.205930705249266 0.0], [8.591431771015081e-6 0.0010434997713233813; 1.0209809562019979e-5 0.0010891070747040162; … ; 4.197238159914581e-6 0.0005276730896344054; 4.292771459112246e-6 0.0005027454303762473], -5.841766407985951, [-5884.795964730576, 34632.04558025622], [0.3138428376721002, 0.1, 1.0], [46765, 1], [0, 0], [0, 0], [5, 5])"
      ]
     },
     "metadata": {},
     "output_type": "display_data"
    }
   ],
   "source": [
    "mc_step!(mc_states,move_strat, mc_params, suttonchenpot, ensemble)"
   ]
  },
  {
   "cell_type": "code",
   "execution_count": 22,
   "metadata": {},
   "outputs": [
    {
     "name": "stdout",
     "output_type": "stream",
     "text": [
      "-5.979229242157351\n",
      "-5.906036380852952\n",
      "-5.9435972167401125\n",
      "-5.931721653948203\n",
      "-5.954127931722758\n",
      "-5.913437752050006\n",
      "-5.953838542745321\n",
      "-5.918535358845657\n",
      "-5.90692121989794\n",
      "-5.941077235601683\n",
      "-5.918195072755433\n",
      "-5.926274822776911\n",
      "-5.919768936458207\n",
      "-5.844341706515203\n",
      "-5.864980581166533\n",
      "-5.889191462980527\n",
      "-5.838939118426206\n",
      "-5.887413995047615\n",
      "-5.853463347527967\n",
      "-5.841766407985951\n"
     ]
    }
   ],
   "source": [
    "for state in mc_states\n",
    "    println(state.en_tot)\n",
    "end"
   ]
  },
  {
   "cell_type": "code",
   "execution_count": 23,
   "metadata": {},
   "outputs": [
    {
     "name": "stdout",
     "output_type": "stream",
     "text": [
      "-6.119246949010012\n",
      "-6.119246949010012\n",
      "-6.119246949010012\n",
      "-6.119246949010012\n",
      "-6.119246949010012\n",
      "-6.119246949010012\n",
      "-6.119246949010012\n",
      "-6.119246949010012\n",
      "-6.119246949010012\n",
      "-6.119246949010012\n",
      "-6.119246949010012\n",
      "-6.119246949010012\n",
      "-6.119246949010012\n",
      "-6.119246949010012\n",
      "-6.119246949010012\n",
      "-6.119246949010012\n",
      "-6.119246949010012\n",
      "-6.119246949010012\n",
      "-6.119246949010012\n",
      "-6.119246949010012\n"
     ]
    }
   ],
   "source": [
    "mc_states = [MCState(temp.t_grid[i], temp.beta_grid[i], start_config, suttonchenpot) for i in 1:n_traj]\n",
    "for state in mc_states\n",
    "    println(state.en_tot)\n",
    "end"
   ]
  },
  {
   "cell_type": "code",
   "execution_count": 24,
   "metadata": {},
   "outputs": [
    {
     "name": "stdout",
     "output_type": "stream",
     "text": [
      "-6.09452869666238\n",
      "-6.092351572497313\n",
      "-6.0980606802127815\n",
      "-6.090089233225779\n",
      "-6.093880835396047\n",
      "-6.097554428730466\n",
      "-6.089156754121778\n",
      "-6.093558825640524\n",
      "-6.094785891553203\n",
      "-6.093622092350829\n",
      "-6.101033764862922\n",
      "-6.092275272340108\n",
      "-6.097199921191779\n",
      "-6.088691242890487\n",
      "-6.100005820021651\n",
      "-6.089427496207118\n",
      "-6.099006286438043\n",
      "-6.077762183323103\n",
      "-6.090925874722355\n",
      "-6.097418899274694\n"
     ]
    }
   ],
   "source": [
    "for i in 1:500\n",
    "    mc_states = mc_cycle!(mc_states,move_strat,mc_params,suttonchenpot,ensemble,1,55,0,0)\n",
    "    for state in mc_states\n",
    "        if state.en_tot > 0 \n",
    "            println(\"problem at $i\")\n",
    "        end\n",
    "    end\n",
    "end\n",
    "for state in mc_states\n",
    "    println(state.en_tot)\n",
    "end"
   ]
  },
  {
   "cell_type": "code",
   "execution_count": 25,
   "metadata": {},
   "outputs": [
    {
     "data": {
      "text/plain": [
       "(MCState{Float64, 55, SphericalBC{Float64}}[MCState{Float64, 55, SphericalBC{Float64}}(550.0, 574.1363368419949, Config{55, SphericalBC{Float64}, Float64}(SVector{3, Float64}[[0.021564698330267876, -0.04656681684454816, -0.11002855504419413], [0.04677878805822426, -0.31423383005347894, 4.541624157288332], [1.2975234149722112, -3.917248162841143, 2.0250216720266914], [-3.197489072708617, -2.362026048749938, 2.0032698779295703], [-3.520533070955693, 2.257026976087722, 1.9703062452182947], [1.2543069321251537, 3.738869688139846, 1.967474273898063], [3.9940169855650374, -0.050352756362453774, 2.0670588036515833], [-1.2399357857263293, -3.9387535845008763, -2.172993040641994], [-3.979795733403315, -0.0852850284719078, -2.100794689774885], [-1.2229478333996961, 3.890004773652828, -1.9878760249387861]  …  [2.0930406981345784, 6.375959269529258, -4.300019096809363], [6.567498870269594, 4.78259330196264, -4.087520544289026], [6.649538596278466, -0.16738545086614443, -4.177520718407197], [6.725575890672877, -4.648268334677371, -4.082198628549019], [-1.394700105060471, -3.8332309317878734, -6.562809469367092], [-4.275071520637656, 0.06179805004785645, -6.764231128933064], [-1.2067611744465538, 3.805326013084864, -6.736038928533162], [3.169259263822491, 2.3616398226198343, -6.776393572539742], [3.370515076928294, -2.462114051420426, -6.9487441980916005], [-0.018822196889342988, -0.03651369903024827, -9.098345303620654]], SphericalBC{Float64}(699.9286051500884)), [0.0 21.71015433643155 … 63.81836872724033 80.79157013922338; 21.71015433643155 0.0 … 147.68917730560764 186.13019885493142; … ; 63.81836872724033 147.68917730560764 … 0.0 21.991929138096655; 80.79157013922338 186.13019885493142 … 21.991929138096655 0.0], [1.4409051882550536e-5 0.0014811807752519732; 1.077034882702335e-5 0.0012084457767079402; … ; 5.237961153632969e-6 0.0006533541923220672; 5.998174945395777e-6 0.0006369012511377037], -6.0846806301135485, [0.0, 0.0], [0.08100000000000002, 0.1, 1.0], [0, 0], [0, 0], [0, 0], [0, 0]), MCState{Float64, 55, SphericalBC{Float64}}(564.4422600460497, 559.4460365836798, Config{55, SphericalBC{Float64}, Float64}(SVector{3, Float64}[[-0.03597211194222138, -0.07077947534853743, 0.01990655966063659], [0.01003467495607788, -0.12632784050142992, 4.573579395998271], [1.338225073026345, -4.094599960501977, 2.0741571965740886], [-3.2585182088615485, -2.487987551318977, 2.0728624472351362], [-3.246735703214293, 2.4104763022512117, 2.0537903500124393], [1.2218999067185208, 3.906661732505048, 2.1242514102980516], [4.145555662057019, 0.0949714056221561, 2.0397829036953796], [-1.2274239452251277, -3.9803787354213402, -2.0778594509564265], [-4.017010891159221, -0.05023269948328984, -1.9182872381620883], [-1.1849233921067412, 3.922072618055326, -2.0462596371518997]  …  [1.878500387291488, 6.437283434821769, -4.225283036077096], [6.6017248304261065, 4.792839401431942, -3.875893356388362], [6.675379049204084, -0.08901292207962128, -4.283002398048728], [6.59379935056313, -4.7110676207980315, -4.006068794580678], [-1.2016387305288294, -4.0835014938986856, -6.715218623210289], [-4.1626392801742655, -0.05622842700621322, -6.810507597988644], [-1.442340107547552, 4.02787509406856, -6.692380301133266], [3.3053397559977933, 2.438899143022202, -6.881262325913052], [3.4038993157104396, -2.4851953627025707, -6.579640151525652], [0.011252380153621386, 0.15360504664948854, -9.14860222127872]], SphericalBC{Float64}(699.9286051500884)), [0.0 20.741138545711102 … 61.21613630901848 84.11413183252809; 20.741138545711102 0.0 … 141.47687946232782 188.3766322416492; … ; 61.21613630901848 141.47687946232782 … 0.0 25.072886945569632; 84.11413183252809 188.3766322416492 … 25.072886945569632 0.0], [1.3991167248484032e-5 0.0014531362210896018; 1.1024634111358004e-5 0.001225389951303633; … ; 6.555636559923884e-6 0.0007542358247230093; 4.828380615920164e-6 0.0005529297744555845], -6.094248530939163, [0.0, 0.0], [0.08100000000000002, 0.1, 1.0], [0, 0], [0, 0], [0, 0], [0, 0]), MCState{Float64, 55, SphericalBC{Float64}}(579.2637544107133, 545.1316138092155, Config{55, SphericalBC{Float64}, Float64}(SVector{3, Float64}[[0.02023644113959831, 0.10096536264362521, -0.02669267661314829], [0.08411741772918908, 0.012035911466575908, 4.6350526995182175], [1.2558430983174806, -3.8113849256606755, 2.0624458403323223], [-3.463508580095972, -2.2626386149811206, 2.0578694731788434], [-3.22591736494927, 2.4015512821219644, 2.031501575999208], [1.3124884974176099, 3.8612673799247457, 2.1620092483838547], [4.047164243751732, 0.0328257600630599, 1.9398312113765495], [-1.3097171096110365, -4.013772259339736, -2.0655473708129395], [-4.01471883491894, -0.003017440544169147, -2.0139993933122646], [-1.2707125464746256, 3.983206310851669, -2.1451257667716748]  …  [2.208547626313715, 6.294505959555935, -4.163697963596096], [6.714244639228514, 4.8863755410890874, -3.949057904468067], [6.695043636318427, 0.10344732333561243, -4.2299466439707105], [6.518452457824901, -4.799209566316012, -4.10151592435808], [-1.1559059786745236, -3.761169611868978, -6.729377848887174], [-4.0538534982787455, 0.013519459239973525, -6.739887323982511], [-1.287770140659946, 4.0549621424581, -6.773733042494233], [3.4080010696486642, 2.3219966967965107, -6.637367742667293], [3.3065787252155543, -2.584305498772886, -6.775636667296965], [-0.0475615380554696, 0.047966376811906936, -8.990988873596399]], SphericalBC{Float64}(699.9286051500884)), [0.0 21.743859178338862 … 63.55897019666534 80.36601176573049; 21.743859178338862 0.0 … 147.32907742272005 185.6876392979843; … ; 63.55897019666534 147.32907742272005 … 0.0 23.086897530646265; 80.36601176573049 185.6876392979843 … 23.086897530646265 0.0], [1.3892215521019319e-5 0.0014473456877244998; 1.1524769870591758e-5 0.0012539978187942227; … ; 6.333949988901926e-6 0.0007376615408406268; 6.426416112490597e-6 0.0006659946804120617], -6.088626509586349, [0.0, 0.0], [0.08100000000000002, 0.1, 1.0], [0, 0], [0, 0], [0, 0], [0, 0]), MCState{Float64, 55, SphericalBC{Float64}}(594.4744412769872, 531.1834510240385, Config{55, SphericalBC{Float64}, Float64}(SVector{3, Float64}[[0.022709832242400904, 0.033851767877334876, -0.0690482510608179], [-0.04585765828598724, -0.06130807010689973, 4.483735018425675], [1.2949577493517885, -3.91400809456639, 1.9405793271061096], [-3.248628754761927, -2.396114711988383, 2.1598012256268304], [-3.3151771298573833, 2.325251152133432, 1.9600955903584207], [1.3799890964510158, 3.8152617714242782, 2.064229081072495], [4.039909135675596, -0.08748625839814567, 2.0906145589954725], [-1.176236893767269, -3.687986924782772, -2.2094426643355156], [-3.9726477961467848, -0.07367572952797338, -1.9439125878216212], [-1.300825493368177, 3.8344624473889337, -2.2113299049943316]  …  [1.9873023541364707, 6.35963553093675, -4.1973975139639075], [6.484747550593825, 4.83935486946871, -4.1391932922747525], [6.708267344239789, -0.1736180078553682, -4.104070041023563], [6.623289581738059, -4.9053030022912285, -3.957812480546458], [-1.2521008001478404, -3.9432305064247104, -6.653996326608112], [-4.183464372297476, -0.02831766322737442, -6.864642260871383], [-1.3100620732302097, 3.967446096799684, -6.686164668904524], [3.4126077542563844, 2.423505764485849, -6.527795297981606], [3.44892597615901, -2.4410325644907247, -6.737399340539551], [-0.04320843290837433, -0.11753589643918627, -8.991696616203813]], SphericalBC{Float64}(699.9286051500884)), [0.0 20.741592394438662 … 62.330915775987904 79.64091729057667; 20.741592394438662 0.0 … 143.79045762270488 181.5904263264223; … ; 62.330915775987904 143.79045762270488 … 0.0 22.67549570450632; 79.64091729057667 181.5904263264223 … 22.67549570450632 0.0], [1.472113860557628e-5 0.0015018889862286023; 1.1655588546991109e-5 0.0012736699338951653; … ; 5.868778701907188e-6 0.0007075262535233319; 6.066451262010272e-6 0.0006365462510178774], -6.082396687129002, [0.0, 0.0], [0.08100000000000002, 0.1, 1.0], [0, 0], [0, 0], [0, 0], [0, 0]), MCState{Float64, 55, SphericalBC{Float64}}(610.0845403163552, 517.5921768143055, Config{55, SphericalBC{Float64}, Float64}(SVector{3, Float64}[[0.004100505733951522, 0.16968163907785677, -0.04897945688985285], [-0.025577973886520246, 0.0021160059816831903, 4.467668432318403], [1.0751645311913984, -3.7421094030538193, 2.060324590557481], [-3.0965749756577625, -2.4117670391179464, 2.0631703871869695], [-3.3488013652248827, 2.5335348483780007, 1.812597262717777], [1.0714195803047206, 4.09467567682119, 2.0373566913428416], [4.139508296290517, 0.041949207733945594, 2.031090945218278], [-1.2611335058555857, -3.9134895663953384, -2.1816456699228217], [-4.03832676327686, -0.11628190481127618, -1.938793424639398], [-1.2997040900018275, 3.948462379093554, -1.9778331956599668]  …  [2.0028838418745516, 6.374990184040555, -4.233279906826104], [6.5771422563581785, 4.865302897328872, -4.072300372393337], [6.7659892104520685, -0.016904695057783546, -4.2169395318517475], [6.552818660143009, -4.691247454349224, -4.041784876885503], [-1.318104952139309, -4.09457665268045, -6.816946901636433], [-4.148223973765151, -0.048057280841662726, -6.6986678302790015], [-1.2535099252077753, 3.816777638834539, -6.6837999298485204], [3.3588075375637416, 2.49283538181202, -6.6305070506789345], [3.505515986751569, -2.3233538093385038, -6.724014320486623], [-0.03545889384629889, -0.0587068389128988, -9.08191864741477]], SphericalBC{Float64}(699.9286051500884)), [0.0 20.4290672086369 … 63.03122654800275 81.64771666269503; 20.4290672086369 0.0 … 143.13019726025357 183.59510708231247; … ; 63.03122654800275 143.13019726025357 … 0.0 23.226841820629435; 81.64771666269503 183.59510708231247 … 23.226841820629435 0.0], [1.4167181507924307e-5 0.0014631451609394763; 1.1034877619813314e-5 0.0012280860762779575; … ; 6.022564897166924e-6 0.0007136426179721238; 5.1415078135789e-6 0.0005792122431912039], -6.085184713520837, [0.0, 0.0], [0.08100000000000002, 0.1, 1.0], [0, 0], [0, 0], [0, 0], [0, 0]), MCState{Float64, 55, SphericalBC{Float64}}(626.104539555125, 504.3486595504791, Config{55, SphericalBC{Float64}, Float64}(SVector{3, Float64}[[-0.11015444460746471, 0.07032354856615979, -0.0092363809557158], [-0.09292161936634397, -0.13504640575909435, 4.581453925207122], [1.4794738481474354, -3.744125856988648, 2.2576738850326667], [-3.4905750321786573, -2.580577510052325, 1.8282640981938214], [-3.3705645355252063, 2.5875431304314054, 1.996127189238164], [1.2660461492354025, 3.92985695609333, 2.154127515601063], [4.059033150237028, -0.137091257967321, 2.1108967180646148], [-1.3049917484052251, -3.760729633976185, -2.049995801147548], [-4.079238318670684, 0.0882004554868747, -2.176328993720405], [-1.2585620752888267, 3.835994146360921, -1.9370538207432328]  …  [2.1250286571987824, 6.336327541091951, -4.045696836000506], [6.572854157239683, 4.783090864400065, -4.045402065978859], [6.679269581232567, -0.016310272676833756, -4.2298807623624795], [6.516139817664651, -4.806554593912773, -4.107937737017721], [-1.3193992111000712, -4.020661208387279, -6.71122924869477], [-4.150463861106497, -0.11217951919491961, -6.805167312507722], [-1.362588043388219, 3.9300487288458963, -6.583037433536863], [3.3719988250636304, 2.5443389338644544, -6.656929592918033], [3.2998058400488612, -2.390107666136913, -6.616296998807979], [-0.08289913052164762, 0.03433135135966016, -9.120619766442786]], SphericalBC{Float64}(699.9286051500884)), [0.0 21.116911275502797 … 61.33480091319302 83.01934548773549; 21.116911275502797 0.0 … 141.9855266582078 187.77561272629376; … ; 61.33480091319302 141.9855266582078 … 0.0 23.59222999197624; 83.01934548773549 187.77561272629376 … 23.59222999197624 0.0], [1.3850065281737277e-5 0.0014415332135203221; 1.1180870670435302e-5 0.0012316975561636105; … ; 6.430261694052039e-6 0.0007493130828381464; 4.559930026613114e-6 0.0005391525912473555], -6.076800205932837, [0.0, 0.0], [0.08100000000000002, 0.1, 1.0], [0, 0], [0, 0], [0, 0], [0, 0]), MCState{Float64, 55, SphericalBC{Float64}}(642.5452024210656, 491.4440012520194, Config{55, SphericalBC{Float64}, Float64}(SVector{3, Float64}[[0.06576461546383902, 0.031459184785691874, 7.245370355240914e-5], [0.10981417468519003, -0.010364272808630084, 4.556899645184904], [1.3098815195091533, -3.980627753920844, 1.9866039802023607], [-3.2814537313649175, -2.466605493550016, 2.0331142976803926], [-3.2922799420315076, 2.3574762591739202, 2.072771469060839], [1.3026786817121756, 3.897301359246998, 2.0413279477498207], [3.987225446675389, 0.12354076488713689, 2.098975261317603], [-1.3866997401419217, -3.8457529175562204, -2.027143685500762], [-4.201577744485059, -0.04918717065803944, -2.0897738273497817], [-1.0698649068383062, 3.942525442641237, -2.0387018083905497]  …  [2.136081494307619, 6.365974312114933, -4.072461888193679], [6.675747013641355, 4.706320865179386, -3.8833728132968117], [6.7532403364244455, -0.10664453131894691, -4.1921086639861675], [6.5458991854441235, -4.850915002746811, -3.922771205375461], [-1.288828441894253, -3.8584137489008117, -6.96401952081067], [-4.230190989658375, 0.11879422722040126, -6.667811129554071], [-1.21043668036884, 3.858191628564569, -6.599375466862886], [3.2644412445602637, 2.390496787611075, -6.617563911858936], [3.327497096339145, -2.4101732033375787, -6.463098409063056], [-0.11655218156263261, 0.12679664407999156, -9.027005237196088]], SphericalBC{Float64}(699.9286051500884)), [0.0 20.768363618296565 … 58.373045096844784 81.53046028316066; 20.768363618296565 0.0 … 137.55292340297885 184.5925266979368; … ; 58.373045096844784 137.55292340297885 … 0.0 24.871309658668867; 81.53046028316066 184.5925266979368 … 24.871309658668867 0.0], [1.4170669715777753e-5 0.0014676220000801594; 1.174995242142065e-5 0.0012743989166273994; … ; 6.7131585871928145e-6 0.0007726510647486543; 5.664498085510754e-6 0.0006154500840299708], -6.0901434136771755, [0.0, 0.0], [0.08100000000000002, 0.1, 1.0], [0, 0], [0, 0], [0, 0], [0, 0]), MCState{Float64, 55, SphericalBC{Float64}}(659.4175749750777, 478.86953160905927, Config{55, SphericalBC{Float64}, Float64}(SVector{3, Float64}[[0.09141674986808562, -0.034846734848944565, 0.04767039307123333], [0.06781870588150511, -0.13006830223760307, 4.734215410768702], [1.2410623193258143, -3.9900177703390534, 2.1289388207695352], [-3.3327103419059982, -2.455657714900809, 2.0372721427133773], [-3.1985052086073336, 2.419080735625005, 2.066453043440933], [1.2789524071803455, 3.9191155073613295, 2.090442431886772], [4.037623713597238, -0.042618135246929714, 1.9963926246145687], [-1.351843144129526, -3.8909433908985465, -2.151459525514324], [-4.000941197948543, -0.0064839833341914024, -1.9927115513432088], [-1.2910181371841694, 3.886279140809509, -2.1203970772353293]  …  [2.158340291110259, 6.329163948045409, -4.221317013203771], [6.449098778081781, 4.696584286202342, -4.092756753807401], [6.66102633520121, -0.28689568895672773, -4.286368531018774], [6.5536789414360666, -4.952759211866151, -3.8151177207734652], [-1.3293079519733755, -3.8248610290868537, -6.6947966566862736], [-4.05718253694852, 0.06026694587973544, -6.861302650002649], [-1.2079986137248364, 3.948200238877469, -6.714879988384171], [3.3339727219095043, 2.378878169770763, -6.707178580653174], [3.51284274118998, -2.388622807179686, -6.820666281733112], [-0.18100559566181185, 0.03206926670662246, -8.899640245384889]], SphericalBC{Float64}(699.9286051500884)), [0.0 21.97332821748091 … 64.42046629123215 80.13305934663829; 21.97332821748091 0.0 … 150.4845499833608 185.9702221771329; … ; 64.42046629123215 150.4845499833608 … 0.0 23.826398393780728; 80.13305934663829 185.9702221771329 … 23.826398393780728 0.0], [1.3423286906510334e-5 0.0014167479572025085; 1.2272271692330567e-5 0.0012899142144235174; … ; 5.619834125713117e-6 0.0006812014228418258; 6.80178295094838e-6 0.0006912083080526496], -6.086795149401595, [0.0, 0.0], [0.08100000000000002, 0.1, 1.0], [0, 0], [0, 0], [0, 0], [0, 0]), MCState{Float64, 55, SphericalBC{Float64}}(676.7329933327605, 466.61680215704445, Config{55, SphericalBC{Float64}, Float64}(SVector{3, Float64}[[0.07639034951786337, -0.04703249192226489, -0.19267645578672754], [-0.03435080419191147, -0.14632389532346204, 4.607827087081335], [1.2334349507502858, -3.8495473023884097, 2.0588111560235336], [-3.3770817949780185, -2.51302048573369, 2.0422935312333843], [-3.3155037944277637, 2.3493017633519218, 2.191219116268607], [1.2942568872981466, 3.9299476735450867, 2.011029742083533], [4.028926439117052, -0.051991032411781636, 1.992934260529816], [-1.2171665335159432, -3.7434649988144613, -2.006086851413833], [-4.12713081904263, -0.18228553985571846, -2.0532881240437915], [-1.0478735703859356, 3.8275675191776477, -1.9794350683127833]  …  [2.1168801144775777, 6.543431044317538, -4.076043468816852], [6.397316460806816, 4.784898821696078, -4.056869737281878], [6.70719713034391, -0.04557990214718562, -4.000367849503163], [6.600144064988453, -4.915031274507676, -4.0939772147360385], [-1.1538846292429552, -3.781560645598747, -6.56421751156792], [-4.0141952119172855, -0.024795586305198198, -6.634482373237616], [-1.304000219747192, 3.8534698889608947, -6.764588546152744], [3.2098721146385705, 2.6771333102972736, -6.6854716796840625], [3.310313972045466, -2.5101599999702, -6.6512502957590005], [-0.05560891252388003, 0.1094382532236339, -9.160948712882869]], SphericalBC{Float64}(699.9286051500884)), [0.0 23.06695665100317 … 58.23843516361867 80.47181417666638; 23.06695665100317 0.0 … 143.54132710782125 189.64505321347917; … ; 58.23843516361867 143.54132710782125 … 0.0 24.490318017917865; 80.47181417666638 189.64505321347917 … 24.490318017917865 0.0], [1.4566308005105569e-5 0.001480524781478265; 1.051102765883531e-5 0.0011877364645174805; … ; 6.006156121752518e-6 0.0007150669749598344; 5.168765477764719e-6 0.0005797221009932424], -6.082853504849961, [0.0, 0.0], [0.08100000000000002, 0.1, 1.0], [0, 0], [0, 0], [0, 0], [0, 0]), MCState{Float64, 55, SphericalBC{Float64}}(694.5030912808575, 454.6775806004262, Config{55, SphericalBC{Float64}, Float64}(SVector{3, Float64}[[-0.04664434071298962, 0.06669834731955832, 0.028845504189859317], [0.23013174632354108, 0.3566358401421647, 4.5893092423039485], [1.3984660143020906, -3.867650349149034, 2.0431155250961583], [-3.3121825324755965, -2.3196458623263783, 2.2381351373508105], [-3.325436942474856, 2.470440473418484, 2.098696714883437], [1.355292927214302, 3.958704989518187, 2.0610306647568355], [4.033948332911399, 0.0290781605455716, 2.0879603842055436], [-1.1471934002534414, -3.6892283490510325, -2.1613292934443837], [-4.276157311805697, 0.03459102012900913, -2.0011672420221336], [-1.1373991882476155, 3.9103578152671603, -2.0286085698649865]  …  [2.0967282519215127, 6.5626006302872755, -4.186006372109906], [6.402748173645973, 4.764137074304466, -4.174425858687385], [6.670066088701735, 0.018182901439002638, -4.328570525017837], [6.48351643020089, -4.881168645851458, -4.0676691709442565], [-1.2278290709840578, -3.935796575028186, -6.658322691455455], [-3.981417271371906, -0.01638871295370256, -6.785691707902338], [-1.3355537436173257, 3.849602995649726, -6.618849182693079], [3.182766132232958, 2.6250947859397966, -6.662464275317979], [3.350969615656758, -2.451155510789211, -6.633885184627922], [-0.03028563797404285, -0.12672803287793355, -9.080825245680117]], SphericalBC{Float64}(699.9286051500884)), [0.0 20.958498258753046 … 62.27534887902597 83.02378254274824; 20.958498258753046 0.0 … 143.58341442174392 187.17403476735674; … ; 62.27534887902597 143.58341442174392 … 0.0 22.823365852656995; 83.02378254274824 187.17403476735674 … 22.823365852656995 0.0], [1.3724058449860255e-5 0.0014396009107125352; 1.2487983589883248e-5 0.0013051966381740067; … ; 6.502140464394855e-6 0.0007552532564733131; 5.377915489259042e-6 0.0005965111423834517], -6.081746456877401, [0.0, 0.0], [0.08100000000000002, 0.1, 1.0], [0, 0], [0, 0], [0, 0], [0, 0]), MCState{Float64, 55, SphericalBC{Float64}}(712.7398080937003, 443.04384528159244, Config{55, SphericalBC{Float64}, Float64}(SVector{3, Float64}[[-0.08125000071657816, -0.17727577380991713, 0.01657347027489957], [-0.009056935545119684, 0.01591380248238506, 4.747125717990667], [1.3723127114745086, -3.866535772428295, 2.0920401573654437], [-3.3190571938189772, -2.504617513367515, 2.0703175850459017], [-3.2779135742218077, 2.4323046994812, 2.0947844890190246], [1.0803272509824273, 3.764215486941799, 2.1676357633356145], [3.975934904259611, 0.09646596251659792, 1.9655808041336282], [-1.2059797403976327, -3.8638975474801707, -2.1504135148806736], [-4.206831068396031, -0.15288778668697864, -2.03265064417801], [-1.329401066792525, 3.9034134859475658, -2.104252909988848]  …  [2.0328557264900886, 6.393448122942122, -4.1287996726690555], [6.806255022694989, 4.873837348345659, -3.985963985084775], [6.667318982298216, -0.0706449368836147, -4.221635439725801], [6.508315553638316, -5.016433298632043, -3.9860296223240828], [-1.3769997291320388, -4.026351302955774, -6.525184223836318], [-4.039119615545104, 0.07549831033065123, -6.714120510929476], [-1.345034354368202, 3.7909619583090937, -6.632824828785601], [3.3114272181990643, 2.3418194252079814, -6.599978329091945], [3.2662222608473646, -2.588989673078391, -6.844504357913984], [0.0884348643669002, 0.028501425328855155, -9.078573673900069]], SphericalBC{Float64}(699.9286051500884)), [0.0 22.420658619415555 … 64.09632343832985 82.79283878331788; 22.420658619415555 0.0 … 151.87886374792728 191.1596267742269; … ; 64.09632343832985 151.87886374792728 … 0.0 21.94065809610179; 82.79283878331788 191.1596267742269 … 21.94065809610179 0.0], [1.35493018246197e-5 0.0014211304742482692; 1.0703422548143172e-5 0.0011976126822741157; … ; 5.7964303426651956e-6 0.0007001407891776538; 5.739534844406506e-6 0.0006171434814194992], -6.08859957710796, [0.0, 0.0], [0.08100000000000002, 0.1, 1.0], [0, 0], [0, 0], [0, 0], [0, 0]), MCState{Float64, 55, SphericalBC{Float64}}(731.4553965549018, 431.70777979132146, Config{55, SphericalBC{Float64}, Float64}(SVector{3, Float64}[[0.10378347590057105, 0.11014947894217235, -0.07724585412343184], [-0.03762336388918089, -0.047937353624987, 4.690837817620938], [1.2394453428928482, -3.8799732476777855, 2.0846005552038482], [-3.1941449141709413, -2.3400288410299637, 2.018615826576494], [-3.223676680213077, 2.260750968430182, 2.04605662548266], [1.2563926132908645, 3.9050893695178424, 1.845138640247346], [4.093061571401429, 0.0006653267081441327, 2.1866799242248622], [-1.2039325536194359, -3.88789187370202, -2.0939131787975853], [-3.9894737023303297, -0.06296352996147572, -2.0401133831819265], [-1.340185870398687, 3.889713989689883, -2.07268542910604]  …  [2.109931422352924, 6.377435201912145, -4.064897494141726], [6.526331645889242, 4.679439913821543, -3.8796263261864476], [6.593948703725665, 0.07973484512312368, -4.243491991674022], [6.568836127001813, -4.653058637692052, -4.068183952865724], [-1.2065005468983483, -4.029376397873998, -6.60599792552006], [-4.170206494257401, 0.04445825442980354, -6.738126769947876], [-1.2254160767106532, 4.006888205564856, -6.803332464268618], [3.3732552235457947, 2.4892200803902673, -6.519670402379967], [3.4788029081782863, -2.470026326538626, -6.726953981826058], [-0.03377595056233862, -0.02101233985308324, -9.168815314759044]], SphericalBC{Float64}(699.9286051500884)), [0.0 22.779609241725716 … 62.266681539075044 82.69276127608062; 22.779609241725716 0.0 … 148.5977382951152 192.09072470884618; … ; 62.266681539075044 148.5977382951152 … 0.0 24.298566515126268; 82.69276127608062 192.09072470884618 … 24.298566515126268 0.0], [1.4561470178945126e-5 0.0014889469870278645; 1.1837540158624474e-5 0.0012757882429302978; … ; 6.466507836847232e-6 0.0007472432748669283; 4.5776624441077485e-6 0.000536214741624437], -6.093495491758119, [0.0, 0.0], [0.08100000000000002, 0.1, 1.0], [0, 0], [0, 0], [0, 0], [0, 0]), MCState{Float64, 55, SphericalBC{Float64}}(750.6624311896877, 420.66176771713623, Config{55, SphericalBC{Float64}, Float64}(SVector{3, Float64}[[-0.10385817292655088, 0.012650492422442702, 0.0933599389577237], [-0.036298051310731966, -0.0024539919170988578, 4.6716447593452815], [1.3048082077501753, -3.925528612929623, 2.004974428742952], [-3.4097840931946184, -2.443902558301425, 2.005930180379857], [-3.3998115673076588, 2.519842666985353, 1.8588161258865743], [1.2093104328216955, 3.8916594134122566, 2.032919301979896], [4.11277720591569, -0.07200271453362768, 2.152997865620582], [-1.2755443961884836, -3.8275547776254926, -2.0049772584289824], [-4.106180637370715, 0.14426859651935278, -1.985789045552866], [-1.106638136608774, 3.89023872174957, -2.1049850787233417]  …  [2.019674571401696, 6.204779714061197, -3.9799150893085606], [6.462042277698283, 4.760869964392794, -4.056692287643241], [6.625659645701793, -0.026135395665052824, -4.069753477244875], [6.497887473266208, -4.760646726430357, -4.0656288744708515], [-1.194166670307688, -3.961350263713623, -6.74400702385837], [-4.036423575855896, -0.0483847665367302, -6.802667305005059], [-1.3553970967271796, 4.015935905508929, -6.6821688735869955], [3.4087261938436675, 2.373942540458515, -6.637019457035053], [3.2965792396884357, -2.4502826725803613, -6.5846866442533045], [0.07137080010086812, 0.0985757438943948, -9.051766115467077]], SphericalBC{Float64}(699.9286051500884)), [0.0 20.965484412071042 … 62.225320539918926 83.67141889314807; 20.965484412071042 0.0 … 143.80493295437532 188.35380562800054; … ; 62.225320539918926 143.80493295437532 … 0.0 22.9851298233055; 83.67141889314807 188.35380562800054 … 22.9851298233055 0.0], [1.3716145751363456e-5 0.0014379609362510741; 1.094598107933964e-5 0.0012103116916944395; … ; 7.631631650711111e-6 0.0008330586493900274; 5.702000195791338e-6 0.0006168955752698408], -6.090542089226975, [0.0, 0.0], [0.08100000000000002, 0.1, 1.0], [0, 0], [0, 0], [0, 0], [0, 0]), MCState{Float64, 55, SphericalBC{Float64}}(770.3738167133993, 409.8983875260319, Config{55, SphericalBC{Float64}, Float64}(SVector{3, Float64}[[-0.13148829098435216, -0.0014371560006658998, -0.018903650486723458], [-0.07444415507091845, -0.07735030961869219, 4.52852080768154], [1.3718201187064327, -3.880393607646929, 1.9848099091620934], [-3.294632018646229, -2.470181269529771, 2.100296936904896], [-3.1575794593911004, 2.527165889784735, 1.941857702891863], [1.0907444683208989, 3.8850413660191836, 2.0510070130416707], [4.12941852452453, 0.021219135158004526, 2.0144066588438907], [-1.2350210847588003, -3.8156802200177173, -2.1467225793991966], [-4.1289981548988655, 0.10593187507985422, -2.129578432649552], [-1.2158302742919092, 3.8336510908321273, -2.022736859068843]  …  [2.118874758404875, 6.48494514663331, -4.1247841479833545], [6.5077962872652115, 4.832721673010947, -3.9237592033184847], [6.727729404691379, -0.015434576794443364, -4.143496116474954], [6.538727654455701, -4.725561003470286, -4.0331095890647495], [-1.3407107347401284, -3.9685921654126273, -6.720098391520526], [-4.006065389705704, 0.13994792806899709, -6.715802244104801], [-1.299681895965897, 3.8839686815797076, -6.5950173429051056], [3.381690504019913, 2.4168384875502515, -6.751828770395258], [3.31023232836071, -2.4399835782320882, -6.751236908776271], [-0.04752636401541435, 0.015825936908143504, -9.014724058528364]], SphericalBC{Float64}(699.9286051500884)), [0.0 20.688086043081263 … 63.11626057567418 80.93213243329556; 20.688086043081263 0.0 … 144.27100500144343 183.42888788651305; … ; 63.11626057567418 144.27100500144343 … 0.0 22.428917887973572; 80.93213243329556 183.42888788651305 … 22.428917887973572 0.0], [1.4356547996113632e-5 0.0014766722992276165; 1.1754643525496064e-5 0.0012768921608741204; … ; 6.610147415245752e-6 0.0007590762625447522; 6.494466089634128e-6 0.000666758397885831], -6.092623325076838, [0.0, 0.0], [0.08100000000000002, 0.1, 1.0], [0, 0], [0, 0], [0, 0], [0, 0]), MCState{Float64, 55, SphericalBC{Float64}}(790.6027967018406, 399.4104075781371, Config{55, SphericalBC{Float64}, Float64}(SVector{3, Float64}[[-0.2585424390403017, -0.10150196205059399, -0.08227818338866102], [-0.09063407874517479, -0.1462035801569384, 4.617760986898027], [1.3321219490559626, -3.7720816878310615, 1.9831154829652677], [-3.33947941580594, -2.5067921536590823, 2.050526348635579], [-3.1668646053524716, 2.4305627074629044, 2.0791339622864697], [1.1071304029020732, 3.908244868291628, 2.1589268045663936], [4.206779690832676, -0.023941446969588907, 2.09953459457191], [-1.2591981423322491, -3.983979410847217, -1.982080573434167], [-3.966191773152604, -0.2501549390851906, -2.083822972319971], [-1.328198091840843, 3.9405385187132023, -2.0708421591823623]  …  [1.9337525186137214, 6.210771372874066, -4.158449881926909], [6.677959534922543, 4.745212776192311, -3.929427206817209], [6.809151161460565, -0.09822686437665705, -4.173463932483996], [6.526641680404096, -4.698488563665773, -4.169383017191974], [-1.3117433788184993, -3.9988371146136963, -6.651618264352945], [-4.139345911411424, -0.046076955339136874, -6.648131307371856], [-1.3774040882459828, 3.706404423507742, -6.7488066963494155], [3.2817802470587756, 2.4753024844438736, -6.717235000727273], [3.281983686495287, -2.5226690937992142, -6.9467768427697125], [0.050032521351523765, 0.057183823624940115, -9.016699608249965]], SphericalBC{Float64}(699.9286051500884)), [0.0 22.120559654347502 … 65.51871737010414 79.94428588177696; 22.120559654347502 0.0 … 150.76067414176282 185.95966924904323; … ; 65.51871737010414 150.76067414176282 … 0.0 21.385729664469466; 79.94428588177696 185.95966924904323 … 21.385729664469466 0.0], [1.4523361347149981e-5 0.0014728014481237043; 1.2057297165286525e-5 0.0012891932337228808; … ; 5.433406753459807e-6 0.0006644724951112278; 6.304062879123965e-6 0.0006568900355540925], -6.076976147665929, [0.0, 0.0], [0.08100000000000002, 0.1, 1.0], [0, 0], [0, 0], [0, 0], [0, 0]), MCState{Float64, 55, SphericalBC{Float64}}(811.3629624892989, 389.1907812679606, Config{55, SphericalBC{Float64}, Float64}(SVector{3, Float64}[[-0.0373660461922738, -0.018041358400525852, -0.032311972643454825], [0.07243331314041782, -0.0012656541364051508, 4.46011284713285], [1.2466576800290612, -3.9020505940097037, 2.2241881113233317], [-3.3470517953792807, -2.323124482326472, 2.0865383256796535], [-3.368284311257065, 2.2847352437597643, 2.1312119861849617], [1.1561995212347544, 3.900356102643499, 1.9850231497195505], [4.118687351019561, -0.06060727711367836, 2.02485721532932], [-1.2509189037560542, -3.9479816004315, -2.0569121586326613], [-4.1790326985794675, 0.02103855209258692, -2.15789500735487], [-1.3333341970216017, 3.9105622558856825, -2.0598974487911583]  …  [1.9108307497189985, 6.165793306029922, -4.186666182307068], [6.530513457049849, 4.950877046272885, -4.034325469368922], [6.7670006338806905, 0.05249143054222382, -4.098509717680228], [6.6203243091012105, -4.586274561135827, -4.01189086042045], [-1.4158515366186812, -4.013193939382378, -6.655760390392894], [-4.270833433831173, -0.044796928433336325, -6.907850953802924], [-1.1998706895811475, 3.9032779255989003, -6.703179402096853], [3.3960006270776053, 2.4990790440277855, -6.600450801269264], [3.474679308824703, -2.4008169537062654, -6.8169628440638865], [-0.16569545355009951, -0.019044578455749993, -9.068907652685276]], SphericalBC{Float64}(699.9286051500884)), [0.0 20.194218084905586 … 64.04356956034697 81.67653092779378; 20.194218084905586 0.0 … 144.5055603993975 183.0914170841746; … ; 64.04356956034697 144.5055603993975 … 0.0 23.99642347911871; 81.67653092779378 183.0914170841746 … 23.99642347911871 0.0], [1.4140181005052782e-5 0.0014651428541494593; 1.1509371345818762e-5 0.0012635014763036573; … ; 4.94585637795066e-6 0.0006311669063726358; 5.0419564714410555e-6 0.000571660303270696], -6.090642702030275, [0.0, 0.0], [0.08100000000000002, 0.1, 1.0], [0, 0], [0, 0], [0, 0], [0, 0]), MCState{Float64, 55, SphericalBC{Float64}}(832.6682623002149, 379.23264228995663, Config{55, SphericalBC{Float64}, Float64}(SVector{3, Float64}[[-0.11630710355266663, 0.1176592394658032, 0.04365874802488999], [-0.06074704676158075, 0.040686983250847505, 4.526933428408378], [1.2828830735512304, -3.872102639993594, 2.0875777290170467], [-3.308474407961012, -2.47627040927967, 2.024382768907783], [-3.441505989053534, 2.5350151799709373, 2.0263550600232536], [1.2634353072877587, 3.88407870299957, 2.0881559512610357], [4.138588410335133, -0.08650564262629341, 1.9976008719149039], [-1.281655587617823, -4.0379347182108765, -2.0402035869575923], [-4.116941634820321, -0.0024251620414835334, -1.8714148870610148], [-1.4846909217650712, 3.833722066735964, -2.0391748004042363]  …  [1.972488978205358, 6.363181108727191, -4.216162695927928], [6.514553821712485, 4.638258748975147, -4.142003895129455], [6.754089146674424, -0.02028190916327189, -4.217540268503422], [6.495821547670731, -4.868224126136719, -4.205566614751644], [-1.3155591831916276, -4.00106212162946, -6.801636339671983], [-4.137237596711034, 0.031510188048787226, -6.722730046636138], [-1.3811894395247377, 3.961238731912553, -6.845817062594191], [3.3893269632353515, 2.338763216272606, -6.558373444131739], [3.2648981489555733, -2.5634962600359854, -6.679721736477136], [-0.08286530443128332, 0.09705493508180416, -9.150159780284497]], SphericalBC{Float64}(699.9286051500884)), [0.0 20.108763507905117 … 63.824988911480695 84.52784202277262; 20.108763507905117 0.0 … 143.4308063170677 187.06654520258869; … ; 63.824988911480695 143.4308063170677 … 0.0 24.38911692996613; 84.52784202277262 187.06654520258869 … 24.38911692996613 0.0], [1.358421301786429e-5 0.0014225619892894155; 1.163303470939724e-5 0.0012642558449251226; … ; 6.6873173928340495e-6 0.0007616567931112944; 4.959678279183142e-6 0.0005643286983790918], -6.090299044571831, [0.0, 0.0], [0.08100000000000002, 0.1, 1.0], [0, 0], [0, 0], [0, 0], [0, 0]), MCState{Float64, 55, SphericalBC{Float64}}(854.5330106206367, 369.52930002523107, Config{55, SphericalBC{Float64}, Float64}(SVector{3, Float64}[[0.01488269909615067, 0.0879936904891125, 0.014922915248439667], [-0.023817913587188475, 0.0001594997846756062, 4.579251807130545], [1.1801239465446889, -3.727480005215157, 1.926879303001245], [-3.3209947817304672, -2.4580586807588434, 2.0318025784138998], [-3.3422562258402277, 2.5485039446135587, 2.01180084989439], [1.2532383794813544, 4.000020282442281, 2.0483941092589357], [4.229804585901937, 0.004867720986071113, 2.047948399945022], [-1.2984796096725795, -4.011329932644715, -2.1194278734358565], [-4.012127384798274, 0.05474942924211087, -1.9689656536006284], [-1.0916003212725678, 3.790550043798796, -1.9588817230863842]  …  [2.2811112471988686, 6.4293140047086546, -4.167024646439136], [6.499205737010409, 4.762630984811111, -4.2289141930647425], [6.724446179404645, 0.009557209745018223, -4.183913734869293], [6.612215643586703, -4.899357051035648, -4.32169777117184], [-1.155149830914252, -4.025672346491597, -6.531202752255871], [-4.126469978228343, 0.0938346994419441, -6.97468265978745], [-1.2055039446468299, 4.051301194330763, -6.711179474907474], [3.3212027486307476, 2.416196056901597, -6.564754448872842], [3.209871777215658, -2.3771022770414807, -6.831760475465935], [-0.1761483292245523, -0.026974651417280462, -9.191837677330176]], SphericalBC{Float64}(699.9286051500884)), [0.0 20.84231081574849 … 63.161726791122625 84.8141511824805; 20.84231081574849 0.0 … 146.31932388553102 189.66684640671434; … ; 63.161726791122625 146.31932388553102 … 0.0 22.55819641669876; 84.8141511824805 189.66684640671434 … 22.55819641669876 0.0], [1.4753946004307053e-5 0.0014948991774158668; 1.0983459127421892e-5 0.0012141082339627851; … ; 5.934328167994818e-6 0.0007103851442960814; 4.72188867412109e-6 0.0005461982498649866], -6.078145894074765, [0.0, 0.0], [0.08100000000000002, 0.1, 1.0], [0, 0], [0, 0], [0, 0], [0, 0]), MCState{Float64, 55, SphericalBC{Float64}}(876.9718978157583, 360.0742350462841, Config{55, SphericalBC{Float64}, Float64}(SVector{3, Float64}[[-0.04245013819219254, 0.1510518519284686, -0.18631777661156496], [-0.020781809773551586, -0.003293348322374587, 4.605898104375689], [1.2154755666532338, -3.793329891879478, 2.1261353384124186], [-3.32904231208434, -2.4121257955110305, 2.282986954029975], [-3.3229544221711387, 2.4631433697969194, 1.9956196057749722], [1.3137751744840975, 3.8802641643131888, 2.063156835133962], [4.156640575798393, 0.08280308567345349, 2.1216593758793607], [-1.224244869674072, -3.824085134541688, -2.125963919048994], [-4.147669594978904, 0.011951583844135666, -1.9131839490670164], [-1.3494766021722944, 3.849298163419131, -2.13678086382999]  …  [2.0135591216914266, 6.44475859790859, -4.004669956435855], [6.464346231048835, 4.918880595425044, -4.10610752120141], [6.609676653084325, 0.05787807412005046, -4.07865150467572], [6.4054369198913035, -4.7663173174199525, -4.047394115546025], [-1.2235834140636908, -3.956933906060172, -6.750338908794961], [-4.147345802031373, -0.017672854989283247, -6.685466966452403], [-1.312584012878658, 3.98036601878674, -6.853317075238499], [3.3395033644619043, 2.4380542478400473, -6.697627217315436], [3.407871212110167, -2.440970037932445, -6.686714883302303], [-0.07884196061708913, 0.06021526993836124, -9.08356287742406]], SphericalBC{Float64}(699.9286051500884)), [0.0 22.989625007283376 … 60.87845744254375 79.17054603329898; 22.989625007283376 0.0 … 145.22103727701432 187.40874629792708; … ; 60.87845744254375 145.22103727701432 … 0.0 24.157977000104037; 79.17054603329898 187.40874629792708 … 24.157977000104037 0.0], [1.4301363731963544e-5 0.0014635579842903982; 1.1650778654544903e-5 0.0012671760451676032; … ; 6.388588728773699e-6 0.0007451663594381504; 5.120499789607751e-6 0.0005795660943140227], -6.087234997712781, [0.0, 0.0], [0.08100000000000002, 0.1, 1.0], [0, 0], [0, 0], [0, 0], [0, 0]), MCState{Float64, 55, SphericalBC{Float64}}(900.0, 350.86109473677465, Config{55, SphericalBC{Float64}, Float64}(SVector{3, Float64}[[-0.06024195578693949, 0.12563365512674626, -0.0005426166012875017], [-0.03562468555161702, 0.11039049102619289, 4.4339680528387015], [1.3358355068509302, -4.000474294858782, 1.9904532754067614], [-3.330054026188248, -2.4824997185962503, 2.017697435341682], [-3.3434231246882473, 2.4989836090160997, 1.9777002598277535], [1.3342799154591343, 3.9487556142702713, 2.0444119600436976], [4.011303981887286, 0.02475862934480768, 2.1510172652998962], [-1.2609715054031625, -3.8978155745996337, -1.968660573198063], [-4.109957620002284, -0.16875218085716773, -2.024607769614905], [-1.1508245433784803, 4.0977617608848655, -2.097573717059241]  …  [2.121738031125021, 6.41396732403101, -4.139746939179071], [6.630221195161835, 4.641645008292515, -4.004763593223715], [6.726451054980476, 0.0025689778854869234, -4.150361327320469], [6.576547091074808, -4.804070159385116, -4.121904291794007], [-1.3198617496886411, -4.012903959695613, -6.705453489059149], [-4.014316790241341, -0.016833311750297397, -7.014865789700333], [-1.1637988710799059, 3.9653059195252056, -6.828764114549435], [3.4160557626766073, 2.5216507326008837, -6.586200101375333], [3.4762578394463723, -2.3768557260928813, -6.723760227932196], [0.0435159344295059, -0.07026154477982828, -9.067814094248998]], SphericalBC{Float64}(699.9286051500884)), [0.0 19.665723241422736 … 63.97093895411234 82.26455267849232; 19.665723241422736 0.0 … 143.01461300147406 182.33701954318798; … ; 63.97093895411234 143.01461300147406 … 0.0 22.598682231920804; 82.26455267849232 182.33701954318798 … 22.598682231920804 0.0], [1.3675902634424741e-5 0.0014336244343784036; 1.1774434029614547e-5 0.001278744405523824; … ; 5.946873775891915e-6 0.0007088879314466192; 5.7068125407878595e-6 0.0006162679463497234], -6.088107912903747, [0.0, 0.0], [0.08100000000000002, 0.1, 1.0], [0, 0], [0, 0], [0, 0], [0, 0])], Output{Float64}(100, -6.10108491126317, -6.076134850105516, Float64[], [-5.978585263565386, -5.972710229931002, -5.963738350214016, -5.958119406632159, -5.94900344301054, -5.954335403428021, -5.940508495214396, -5.945120303267942, -5.915350295967077, -5.928533900132451, -5.923957024005905, -5.922352521314561, -5.918909742506822, -5.917425056683117, -5.909195408898463, -5.9072512751871455, -5.902865343056241, -5.871670738434529, -5.884229146171274, -5.884795964730576], [0.10641029213903545, 0.17245945019129752, 0.2403472398550044, 0.20767549006796748, 0.2749973179916749, 0.3061988093205824, 0.3786797142685972, 0.3531910871097771, 0.3496989163142619, 0.5225027498833525, 0.9628014097310654, 0.3211985282622963, 0.5992893398566448, 0.47711483597830484, 0.5610160195587709, 0.47720842528584845, 0.5991399860132391, 0.9230107194888424, 0.6560267440743665, 0.4287640982596773], [[0.0, 0.0, 0.0, 0.0, 0.0, 0.0, 0.0, 0.0, 0.0, 0.0  …  1.0, 0.0, 1.0, 1.0, 0.0, 0.0, 0.0, 1.0, 0.0, 0.0], [0.0, 0.0, 0.0, 0.0, 0.0, 0.0, 0.0, 0.0, 0.0, 0.0  …  4.0, 5.0, 5.0, 2.0, 3.0, 1.0, 4.0, 5.0, 0.0, 16.0], [0.0, 0.0, 0.0, 0.0, 0.0, 0.0, 0.0, 0.0, 0.0, 0.0  …  16.0, 18.0, 13.0, 13.0, 24.0, 17.0, 14.0, 13.0, 11.0, 31.0], [0.0, 0.0, 0.0, 0.0, 0.0, 0.0, 0.0, 0.0, 0.0, 0.0  …  20.0, 21.0, 19.0, 11.0, 9.0, 11.0, 14.0, 10.0, 7.0, 61.0], [0.0, 0.0, 0.0, 0.0, 0.0, 0.0, 0.0, 0.0, 0.0, 0.0  …  43.0, 24.0, 30.0, 32.0, 18.0, 28.0, 18.0, 20.0, 17.0, 165.0], [0.0, 0.0, 0.0, 0.0, 0.0, 0.0, 0.0, 0.0, 0.0, 0.0  …  47.0, 36.0, 36.0, 27.0, 21.0, 17.0, 15.0, 16.0, 9.0, 87.0], [0.0, 0.0, 0.0, 0.0, 0.0, 0.0, 0.0, 0.0, 0.0, 0.0  …  28.0, 29.0, 36.0, 45.0, 27.0, 24.0, 26.0, 25.0, 19.0, 322.0], [0.0, 0.0, 0.0, 0.0, 0.0, 0.0, 0.0, 0.0, 0.0, 0.0  …  28.0, 25.0, 32.0, 26.0, 21.0, 24.0, 28.0, 27.0, 19.0, 264.0], [0.0, 0.0, 0.0, 0.0, 0.0, 0.0, 0.0, 0.0, 0.0, 0.0  …  10.0, 21.0, 22.0, 19.0, 11.0, 25.0, 18.0, 22.0, 20.0, 665.0], [0.0, 0.0, 0.0, 0.0, 0.0, 0.0, 0.0, 0.0, 0.0, 0.0  …  11.0, 16.0, 14.0, 24.0, 15.0, 21.0, 21.0, 21.0, 14.0, 545.0]  …  [0.0, 0.0, 0.0, 0.0, 0.0, 0.0, 0.0, 0.0, 0.0, 0.0  …  0.0, 0.0, 0.0, 0.0, 0.0, 0.0, 0.0, 0.0, 0.0, 0.0], [0.0, 0.0, 0.0, 0.0, 0.0, 0.0, 0.0, 0.0, 0.0, 0.0  …  0.0, 0.0, 0.0, 0.0, 0.0, 0.0, 0.0, 0.0, 0.0, 0.0], [0.0, 0.0, 0.0, 0.0, 0.0, 0.0, 0.0, 0.0, 0.0, 0.0  …  0.0, 0.0, 0.0, 0.0, 0.0, 0.0, 0.0, 0.0, 0.0, 0.0], [0.0, 0.0, 0.0, 0.0, 0.0, 0.0, 0.0, 0.0, 0.0, 0.0  …  0.0, 0.0, 0.0, 0.0, 0.0, 0.0, 0.0, 0.0, 0.0, 0.0], [0.0, 0.0, 0.0, 0.0, 0.0, 0.0, 0.0, 0.0, 0.0, 0.0  …  0.0, 0.0, 0.0, 0.0, 0.0, 0.0, 0.0, 0.0, 0.0, 0.0], [0.0, 0.0, 0.0, 0.0, 0.0, 0.0, 0.0, 0.0, 0.0, 0.0  …  0.0, 0.0, 0.0, 0.0, 0.0, 0.0, 0.0, 0.0, 0.0, 0.0], [0.0, 0.0, 0.0, 0.0, 0.0, 0.0, 0.0, 0.0, 0.0, 0.0  …  0.0, 0.0, 0.0, 0.0, 0.0, 0.0, 0.0, 0.0, 0.0, 0.0], [0.0, 0.0, 0.0, 0.0, 0.0, 0.0, 0.0, 0.0, 0.0, 0.0  …  0.0, 0.0, 0.0, 0.0, 0.0, 0.0, 0.0, 0.0, 0.0, 0.0], [0.0, 0.0, 0.0, 0.0, 0.0, 0.0, 0.0, 0.0, 0.0, 0.0  …  0.0, 0.0, 0.0, 0.0, 0.0, 0.0, 0.0, 0.0, 0.0, 0.0], [0.0, 0.0, 0.0, 0.0, 0.0, 0.0, 0.0, 0.0, 0.0, 0.0  …  0.0, 0.0, 0.0, 0.0, 0.0, 0.0, 0.0, 0.0, 0.0, 0.0]], Matrix{Float64}[], [[0.0, 0.0, 0.0, 0.0, 0.0, 0.0, 0.0, 0.0, 0.0, 0.0  …  0.0, 0.0, 0.0, 0.0, 0.0, 0.0, 0.0, 0.0, 0.0, 0.0], [0.0, 1.0, 713.0, 283.0, 3.0, 0.0, 0.0, 0.0, 0.0, 0.0  …  0.0, 0.0, 0.0, 0.0, 0.0, 0.0, 0.0, 0.0, 0.0, 0.0], [0.0, 0.0, 985.0, 990.0, 25.0, 0.0, 0.0, 0.0, 0.0, 0.0  …  0.0, 0.0, 0.0, 0.0, 0.0, 0.0, 0.0, 0.0, 0.0, 0.0], [0.0, 0.0, 1767.0, 1213.0, 20.0, 0.0, 0.0, 0.0, 0.0, 0.0  …  0.0, 0.0, 0.0, 0.0, 0.0, 0.0, 0.0, 0.0, 0.0, 0.0], [0.0, 5.0, 2662.0, 1318.0, 15.0, 0.0, 0.0, 0.0, 0.0, 0.0  …  0.0, 0.0, 0.0, 0.0, 0.0, 0.0, 0.0, 0.0, 0.0, 0.0], [0.0, 0.0, 3339.0, 1634.0, 27.0, 0.0, 0.0, 0.0, 0.0, 0.0  …  0.0, 0.0, 0.0, 0.0, 0.0, 0.0, 0.0, 0.0, 0.0, 0.0], [0.0, 3.0, 4066.0, 1873.0, 58.0, 0.0, 0.0, 0.0, 0.0, 0.0  …  0.0, 0.0, 0.0, 0.0, 0.0, 0.0, 0.0, 0.0, 0.0, 0.0], [0.0, 6.0, 4365.0, 2498.0, 130.0, 1.0, 0.0, 0.0, 0.0, 0.0  …  0.0, 0.0, 0.0, 0.0, 0.0, 0.0, 0.0, 0.0, 0.0, 0.0], [0.0, 9.0, 4698.0, 3113.0, 174.0, 6.0, 0.0, 0.0, 0.0, 0.0  …  0.0, 0.0, 0.0, 0.0, 0.0, 0.0, 0.0, 0.0, 0.0, 0.0], [0.0, 8.0, 5778.0, 3103.0, 108.0, 3.0, 0.0, 0.0, 0.0, 0.0  …  0.0, 0.0, 0.0, 0.0, 0.0, 0.0, 0.0, 0.0, 0.0, 0.0]  …  [0.0, 0.0, 0.0, 0.0, 0.0, 0.0, 0.0, 0.0, 0.0, 0.0  …  0.0, 0.0, 0.0, 0.0, 0.0, 0.0, 0.0, 0.0, 0.0, 0.0], [0.0, 0.0, 0.0, 0.0, 0.0, 0.0, 0.0, 0.0, 0.0, 0.0  …  0.0, 0.0, 0.0, 0.0, 0.0, 0.0, 0.0, 0.0, 0.0, 0.0], [0.0, 0.0, 0.0, 0.0, 0.0, 0.0, 0.0, 0.0, 0.0, 0.0  …  0.0, 0.0, 0.0, 0.0, 0.0, 0.0, 0.0, 0.0, 0.0, 0.0], [0.0, 0.0, 0.0, 0.0, 0.0, 0.0, 0.0, 0.0, 0.0, 0.0  …  0.0, 0.0, 0.0, 0.0, 0.0, 0.0, 0.0, 0.0, 0.0, 0.0], [0.0, 0.0, 0.0, 0.0, 0.0, 0.0, 0.0, 0.0, 0.0, 0.0  …  0.0, 0.0, 0.0, 0.0, 0.0, 0.0, 0.0, 0.0, 0.0, 0.0], [0.0, 0.0, 0.0, 0.0, 0.0, 0.0, 0.0, 0.0, 0.0, 0.0  …  0.0, 0.0, 0.0, 0.0, 0.0, 0.0, 0.0, 0.0, 0.0, 0.0], [0.0, 0.0, 0.0, 0.0, 0.0, 0.0, 0.0, 0.0, 0.0, 0.0  …  0.0, 0.0, 0.0, 0.0, 0.0, 0.0, 0.0, 0.0, 0.0, 0.0], [0.0, 0.0, 0.0, 0.0, 0.0, 0.0, 0.0, 0.0, 0.0, 0.0  …  0.0, 0.0, 0.0, 0.0, 0.0, 0.0, 0.0, 0.0, 0.0, 0.0], [0.0, 0.0, 0.0, 0.0, 0.0, 0.0, 0.0, 0.0, 0.0, 0.0  …  0.0, 0.0, 0.0, 0.0, 0.0, 0.0, 0.0, 0.0, 0.0, 0.0], [0.0, 0.0, 0.0, 0.0, 0.0, 0.0, 0.0, 0.0, 0.0, 0.0  …  0.0, 0.0, 0.0, 0.0, 0.0, 0.0, 0.0, 0.0, 0.0, 0.0]], [0.8089454545454545, 0.8108727272727273, 0.8126363636363636, 0.8152181818181818, 0.8188909090909091, 0.8187636363636364, 0.8183636363636364, 0.8192727272727273, 0.8243090909090909, 0.8257454545454546, 0.8311272727272727, 0.8322909090909091, 0.8392181818181819, 0.8361454545454545, 0.8384909090909091, 0.8447272727272728, 0.8433454545454545, 0.8461454545454545, 0.8491636363636363, 0.8502545454545455], Float64[], Float64[], [0.6666666666666666, 0.7692307692307693, 0.9, 1.0, 0.8, 0.6666666666666666, 0.75, 0.7692307692307693, 0.6666666666666666, 0.7692307692307693, 0.9090909090909091, 0.8, 0.7142857142857143, 0.6, 0.5454545454545454, 0.8333333333333334, 0.625, 0.6428571428571429, 1.0, 1.0]), 0.00025202081977427916, 5.599428841200707)"
      ]
     },
     "metadata": {},
     "output_type": "display_data"
    }
   ],
   "source": [
    "mc_states,results,delta_en_hist,delta_r2 = MCRun.equilibration_cycle!(mc_states,move_strat,mc_params,results,suttonchenpot,ensemble,1,55,0,0)"
   ]
  },
  {
   "cell_type": "code",
   "execution_count": 26,
   "metadata": {},
   "outputs": [
    {
     "data": {
      "text/plain": [
       "-6.076134850105516"
      ]
     },
     "metadata": {},
     "output_type": "display_data"
    }
   ],
   "source": [
    "results.en_max"
   ]
  },
  {
   "cell_type": "code",
   "execution_count": 27,
   "metadata": {},
   "outputs": [
    {
     "name": "stdout",
     "output_type": "stream",
     "text": [
      "[[0.47560863923076724, 2.097601591666667, 4.284427189615382], [-1.007316300769232, 0.06389687166666569, 4.900905899615381], [0.09767520923076844, -2.101719198333334, 5.690693419615382], [-2.963228090769232, -0.06317180833333325, 3.211784159615382], [1.5733962692307681, -0.0919434283333338, 5.1515574796153825], [2.3121011692307682, -2.479830818333334, 4.4591694596153815], [2.036583259230767, 3.1018289716666665, 2.4706549896153813], [-1.8675853207692326, -2.246846138333334, 4.062034599615382], [2.412702959230767, -4.167053828333334, 2.4950840596153814], [1.8288144292307678, 0.6261852516666657, 2.7927632796153823], [-4.897418430769232, 1.0768594516666656, 2.0523183196153827], [-0.5478795907692326, 3.280999321666666, 2.213484389615383], [3.798534499230767, -0.44706048833333334, 3.8458218496153815], [0.3680058892307674, -1.3670203783333337, 3.3917503796153827], [0.18718896923076755, -3.812080748333334, 3.8017457596153825], [-0.6952322007692331, 0.7753553616666657, 2.5522045396153814], [3.021551289230768, 1.8993474716666654, 4.484749929615383], [-1.5410935007692323, -1.4958192083333337, 1.7271289296153824], [-2.092953470769232, 2.2194985616666667, 3.951723549615382], [4.472261079230767, -2.798169718333334, 3.122639719615382], [1.316800009230768, 1.6266362216666668, -5.831699360384619], [-0.1244103607692324, -0.3703186683333346, -5.281850140384618], [2.4030162592307676, -0.4936668983333341, -5.055471190384618], [-1.5456548507692327, -2.364468398333334, -4.635360610384618], [-0.8481193107692322, 1.9882615916666655, -4.613945470384618], [0.9853484192307675, -2.504393828333334, -4.479379070384618], [3.241705999230767, 1.7677934316666661, -4.233993900384618], [-2.312318420769232, -0.025615288333334263, -4.040832220384618], [1.239200379230768, 3.3052816116666666, -3.948077450384618], [1.091616939230768, 0.8533419316666659, -3.4692575403846178], [-3.704773570769232, -2.0303967483333336, -3.369729470384618], [-3.0188226407692325, 2.325637651666666, -3.3174200503846176], [-0.318139890769233, -1.1551459283333338, -2.891513170384618], [2.296037769230768, -1.3070391483333337, -2.715381480384618], [-0.9370546107692324, 3.6767571416666662, -2.6972183803846184], [-4.455315660769232, 0.3052241116666661, -2.705957900384618], [3.186177699230768, 3.4260974116666656, -2.3276935703846178], [-1.7763364307692324, -3.211190768333334, -2.3039384103846183], [-1.055492840769232, 1.2077511816666657, -2.2486509603846176], [0.7697861292307682, -3.3766180083333337, -2.120741180384618], [3.1391505592307674, 0.9613650516666663, -1.8908769603846176], [3.295401599230768, -3.4577619283333343, -1.8322308703846177], [1.155951899230768, 4.915648901666666, -1.9941037603846183], [-5.133527770769232, 2.629033381666666, -1.9857163703846181], [-2.4767523807692324, -0.8222609883333343, -1.6302152503846177], [1.0404875492307681, 2.5034016716666656, -1.564364890384618], [-3.0894501107692323, 3.980491811666665, -1.3717545103846183], [0.9175956992307679, 0.07953778166666581, -1.1559383003846184], [4.224700709230767, -1.208937858333334, -0.9984284103846184], [-4.755874070769233, -1.6197211183333335, -1.095269230384618], [-3.1731742307692326, 1.5189747816666657, -0.9346368303846182], [-0.9942886207692325, 5.2626437416666665, -0.7205402303846178], [-0.549492230769232, -1.9451723883333338, -0.5565186303846179], [1.9694071792307675, -2.0519794383333343, -0.34657455038461826], [4.993369649230768, 1.1035647416666663, -0.1752083303846188], [-0.7509561007692325, -4.385921828333334, -0.24600772038461827], [-5.452719790769232, 0.7186741916666666, -0.3843612203846174], [-1.1089050707692323, 2.8545088116666655, -0.2957992203846178], [1.8187962392307675, -4.503062108333334, -0.012363430384617402], [3.031645209230767, 2.7014216516666654, 0.0852209996153821], [-2.822369540769232, -2.827999738333334, -0.004612140384617547], [-1.2421540507692326, 0.4221862916666659, 0.11020777961538286], [2.816869959230768, 0.2233369216666663, 0.4798840196153815], [0.981242169230768, 4.202783121666666, 0.3864506996153825], [3.942072009230767, -3.1743081883333337, 0.6502899096153811], [-4.603133720769232, 2.9999111016666653, 0.44378039961538285], [-3.508404620769232, -0.41710621833333406, 0.6854010796153815], [0.8284516592307671, 1.7582475016666663, 0.7873531496153827], [0.6463118292307684, -0.6453662983333341, 1.1162464596153825], [-2.537416320769232, 4.341248681666666, 1.0705510896153818], [4.804764069230767, -0.859750458333334, 1.490305679615382], [-3.777906810769232, -2.3073749683333338, 2.308307189615382], [0.4689102892307684, -3.026431408333334, 1.4679496796153817], [-2.645167930769232, 1.9017349716666665, 1.5292404896153826], [-1.7686538607692324, -3.9304558883333343, 2.0962621896153824], [0.2944653192307669, -5.424154838333334, 1.8282630896153815], [2.550839759230767, -1.7137925983333337, 2.106876139615382], [4.0649461092307675, 1.5280574516666654, 2.178400439615382]]\n"
     ]
    }
   ],
   "source": [
    "pos_cu78 = [[9.20810577, 10.6811792, 12.85775222],\n",
    "[7.72518083, 8.64747448, 13.47423093],\n",
    "[8.83017234, 6.48185841, 14.26401845],\n",
    "[5.76926904, 8.5204058, 11.78510919],\n",
    "[10.3058934, 8.49163418, 13.72488251],\n",
    "[11.0445983, 6.10374679, 13.03249449],\n",
    "[10.76908039, 11.68540658, 11.04398002],\n",
    "[6.86491181, 6.33673147, 12.63535963],\n",
    "[11.14520009, 4.41652378, 11.06840909],\n",
    "[10.56131156, 9.20976286, 11.36608831],\n",
    "[3.8350787, 9.66043706, 10.62564335],\n",
    "[8.18461754, 11.86457693, 10.78680942],\n",
    "[12.53103163, 8.13651712, 12.41914688],\n",
    "[9.10050302, 7.21655723, 11.96507541],\n",
    "[8.9196861, 4.77149686, 12.37507079],\n",
    "[8.03726493, 9.35893297, 11.12552957],\n",
    "[11.75404842, 10.48292508, 13.05807496],\n",
    "[7.19140363, 7.0877584, 10.30045396],\n",
    "[6.63954366, 10.80307617, 12.52504858],\n",
    "[13.20475821, 5.78540789, 11.69596475],\n",
    "[10.04929714, 10.21021383, 2.74162567],\n",
    "[8.60808677, 8.21325894, 3.29147489],\n",
    "[11.13551339, 8.08991071, 3.51785384],\n",
    "[7.18684228, 6.21910921, 3.93796442],\n",
    "[7.88437782, 10.5718392, 3.95937956],\n",
    "[9.71784555, 6.07918378, 4.09394596],\n",
    "[11.97420313, 10.35137104, 4.33933113],\n",
    "[6.42017871, 8.55796232, 4.53249281],\n",
    "[9.97169751, 11.88885922, 4.62524758],\n",
    "[9.82411407, 9.43691954, 5.10406749],\n",
    "[5.02772356, 6.55318086, 5.20359556],\n",
    "[5.71367449, 10.90921526, 5.25590498],\n",
    "[8.41435724, 7.42843168, 5.68181186],\n",
    "[11.0285349, 7.27653846, 5.85794355],\n",
    "[7.79544252, 12.26033475, 5.87610665],\n",
    "[4.27718147, 8.88880172, 5.86736713],\n",
    "[11.91867483, 12.00967502, 6.24563146],\n",
    "[6.9561607, 5.37238684, 6.26938662],\n",
    "[7.67700429, 9.79132879, 6.32467407],\n",
    "[9.50228326, 5.2069596, 6.45258385],\n",
    "[11.87164769, 9.54494266, 6.68244807],\n",
    "[12.02789873, 5.12581568, 6.74109416],\n",
    "[9.88844903, 13.49922651, 6.57922127],\n",
    "[3.59896936, 11.21261099, 6.58760866],\n",
    "[6.25574475, 7.76131662, 6.94310978],\n",
    "[9.77298468, 11.08697928, 7.00896014],\n",
    "[5.64304702, 12.56406942, 7.20157052],\n",
    "[9.65009283, 8.66311539, 7.41738673],\n",
    "[12.95719784, 7.37463975, 7.57489662],\n",
    "[3.97662306, 6.96385649, 7.4780558],\n",
    "[5.5593229, 10.10255239, 7.6386882],\n",
    "[7.73820851, 13.84622135, 7.8527848],\n",
    "[8.1830049, 6.63840522, 8.0168064],\n",
    "[10.70190431, 6.53159817, 8.22675048],\n",
    "[13.72586678, 9.68714235, 8.3981167],\n",
    "[7.98154103, 4.19765578, 8.32731731],\n",
    "[3.27977734, 9.3022518, 8.18896381],\n",
    "[7.62359206, 11.43808642, 8.27752581],\n",
    "[10.55129337, 4.0805155, 8.5609616],\n",
    "[11.76414234, 11.28499926, 8.65854603],\n",
    "[5.91012759, 5.75557787, 8.56871289],\n",
    "[7.49034308, 9.0057639, 8.68353281],\n",
    "[11.54936709, 8.80691453, 9.05320905],\n",
    "[9.7137393, 12.78636073, 8.95977573],\n",
    "[12.67456914, 5.40926942, 9.22361494],\n",
    "[4.12936341, 11.58348871, 9.01710543],\n",
    "[5.22409251, 8.16647139, 9.25872611],\n",
    "[9.56094879, 10.34182511, 9.36067818],\n",
    "[9.37880896, 7.93821131, 9.68957149],\n",
    "[6.19508081, 12.92482629, 9.64387612],\n",
    "[13.5372612, 7.72382715, 10.06363071],\n",
    "[4.95459032, 6.27620264, 10.88163222],\n",
    "[9.20140742, 5.5571462, 10.04127471],\n",
    "[6.0873292, 10.48531258, 10.10256552],\n",
    "[6.96384327, 4.65312172, 10.66958722],\n",
    "[9.02696245, 3.15942277, 10.40158812],\n",
    "[11.28333689, 6.86978501, 10.68020117],\n",
    "[12.79744324, 10.11163506, 10.75172547]]\n",
    "\n",
    "cofm = [sum([pos[1] for pos in pos_cu78]),sum([pos[2] for pos in pos_cu78]),sum([pos[3] for pos in pos_cu78])]./78\n",
    "\n",
    "for element in pos_cu78\n",
    "    element .-=cofm \n",
    "end\n",
    "println(pos_cu78)"
   ]
  },
  {
   "cell_type": "code",
   "execution_count": 28,
   "metadata": {},
   "outputs": [
    {
     "name": "stdout",
     "output_type": "stream",
     "text": [
      "1159.4240958269834\n"
     ]
    },
    {
     "data": {
      "text/plain": [
       "1159.4240958269834"
      ]
     },
     "metadata": {},
     "output_type": "display_data"
    }
   ],
   "source": [
    "dismat78 = [distance2(a,b) for a in pos_cu78, b in pos_cu78]\n",
    "println(get_energy(dismat78,suttonchenpot)[2])\n",
    "energytotal(dismat78,suttonchenpot)"
   ]
  },
  {
   "cell_type": "code",
   "execution_count": 31,
   "metadata": {},
   "outputs": [
    {
     "data": {
      "text/plain": [
       "78-element Vector{Vector{Float64}}:\n",
       " [0.8987719138135578, 3.9639006558202508, 8.096410593031877]\n",
       " [-1.903555833052641, 0.12074783529464816, 9.261388905680175]\n",
       " [0.18457977313966006, -3.9716818206664515, 10.753874075849776]\n",
       " [-5.599701019969341, -0.11937766136174985, 6.0694048799499765]\n",
       " [2.97329413185346, -0.17374825482435088, 9.735052715953577]\n",
       " [4.36924694253046, -4.686210692329052, 8.426626302918976]\n",
       " [3.8485924824661573, 5.86161926262765, 4.668870853525875]\n",
       " [-3.529232008217242, -4.2459325529926515, 7.676148643931176]\n",
       " [4.559357163147158, -7.874606631016351, 4.715035199976975]\n",
       " [3.455965491350259, 1.1833210556320484, 5.277568552387577]\n",
       " ⋮\n",
       " [-4.795031743847241, 8.20378787120595, 2.0230525105788755]\n",
       " [9.079706804547458, -1.6246962336262514, 2.816275351939576]\n",
       " [-7.139223837514941, -4.360315698908551, 4.362077345431876]\n",
       " [0.88611384086806, -5.719138225269751, 2.7740285480595754]\n",
       " [-4.998653193812541, 3.5937656280076498, 2.889851630440877]\n",
       " [-3.3422782603114416, -7.427500405860152, 3.9613695475818766]\n",
       " [0.5564599477099572, -10.250188122643651, 3.4549236083388752]\n",
       " [4.820398418211157, -3.238605286848451, 3.981427047315376]\n",
       " [7.681650610996659, 2.887616008138048, 4.116588662754377]"
      ]
     },
     "metadata": {},
     "output_type": "display_data"
    }
   ],
   "source": [
    "pos_cu78.*=nmtobohr./10"
   ]
  },
  {
   "cell_type": "code",
   "execution_count": 38,
   "metadata": {},
   "outputs": [
    {
     "name": "stdout",
     "output_type": "stream",
     "text": [
      "-8.782894365702242\n"
     ]
    },
    {
     "data": {
      "text/plain": [
       "-8.782894365702242"
      ]
     },
     "metadata": {},
     "output_type": "display_data"
    }
   ],
   "source": [
    "dismat78 = [distance2(a,b) for a in pos_cu78, b in pos_cu78]\n",
    "println(get_energy(dismat78,suttonchenpot)[2])\n",
    "energytotal(dismat78,suttonchenpot)"
   ]
  },
  {
   "cell_type": "code",
   "execution_count": 36,
   "metadata": {},
   "outputs": [
    {
     "name": "stdout",
     "output_type": "stream",
     "text": [
      "12.171788479611966\n"
     ]
    }
   ],
   "source": [
    "println(sqrt(maximum(dismat78))/nmtobohr*10)"
   ]
  },
  {
   "cell_type": "code",
   "execution_count": null,
   "metadata": {},
   "outputs": [],
   "source": []
  }
 ],
 "metadata": {
  "kernelspec": {
   "display_name": "Julia 1.8.5",
   "language": "julia",
   "name": "julia-1.8"
  },
  "language_info": {
   "file_extension": ".jl",
   "mimetype": "application/julia",
   "name": "julia",
   "version": "1.8.5"
  },
  "orig_nbformat": 4
 },
 "nbformat": 4,
 "nbformat_minor": 2
}
